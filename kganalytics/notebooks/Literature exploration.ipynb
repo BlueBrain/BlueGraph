// This example notebook is distributed with the 3-clause BSD license.

// See file AUTHORS.txt for further details.

// COPYRIGHT 2020–2021, Blue Brain Project/EPFL

// Redistribution and use in source and binary forms, with or without
// modification, are permitted provided that the following conditions are
// met:

//  * Redistributions of source code must retain the above copyright
//    notice, this list of conditions and the following disclaimer.

//  * Redistributions in binary form must reproduce the above
//    copyright notice, this list of conditions and the following
//    disclaimer in the documentation and/or other materials provided
//    with the distribution.

//  * Neither the name of the NetworkX Developers nor the names of its
//    contributors may be used to endorse or promote products derived
//    from this software without specific prior written permission.

// THIS SOFTWARE IS PROVIDED BY THE COPYRIGHT HOLDERS AND CONTRIBUTORS
// "AS IS" AND ANY EXPRESS OR IMPLIED WARRANTIES, INCLUDING, BUT NOT
// LIMITED TO, THE IMPLIED WARRANTIES OF MERCHANTABILITY AND FITNESS FOR
// A PARTICULAR PURPOSE ARE DISCLAIMED. IN NO EVENT SHALL THE COPYRIGHT
// OWNER OR CONTRIBUTORS BE LIABLE FOR ANY DIRECT, INDIRECT, INCIDENTAL,
// SPECIAL, EXEMPLARY, OR CONSEQUENTIAL DAMAGES (INCLUDING, BUT NOT
// LIMITED TO, PROCUREMENT OF SUBSTITUTE GOODS OR SERVICES; LOSS OF USE,
// DATA, OR PROFITS; OR BUSINESS INTERRUPTION) HOWEVER CAUSED AND ON ANY
// THEORY OF LIABILITY, WHETHER IN CONTRACT, STRICT LIABILITY, OR TORT
// (INCLUDING NEGLIGENCE OR OTHERWISE) ARISING IN ANY WAY OUT OF THE USE
// OF THIS SOFTWARE, EVEN IF ADVISED OF THE POSSIBILITY OF SUCH DAMAGE.
{
 "cells": [
  {
   "cell_type": "markdown",
   "metadata": {},
   "source": [
    "# Literature exploration by term co-occurrance analysis\n",
    "\n",
    "In this example we illustrate how network analytics can be used for literature exploration. \n",
    "\n",
    "The input dataset contains occurrences of different terms in paragraphs of scientific articles previously extracted by means of a Named Entity Recognition (NER) model. This dataset is transformed into three co-occurrence networks: representing paper-, section- and paragraph-level co-occurrence relation between terms. The term relations in the above-mentioned networks are quantified using mutual-information-based scores (pointwise mutual information and its normalized version).\n",
    "\n",
    "The networks are further analysed using classical tools from complex networks: we find various centrality measures characterizing the importance of extracted terms, we detect term communities representing denesely connected clusters of terms and finally we illustrate how the algorithms for finding shortest paths and minimum spanning trees can be used to perform guided search in networks."
   ]
  },
  {
   "cell_type": "code",
   "execution_count": 1,
   "metadata": {},
   "outputs": [],
   "source": [
    "import networkx as nx\n",
    "import pandas as pd"
   ]
  },
  {
   "cell_type": "code",
   "execution_count": 2,
   "metadata": {},
   "outputs": [],
   "source": [
    "from kganalytics.network_generation import generate_cooccurrence_network\n",
    "\n",
    "from kganalytics.metrics import (compute_degree_centrality,\n",
    "                               compute_pagerank_centrality,\n",
    "                               compute_betweenness_centrality,\n",
    "                               detect_communities,\n",
    "                               compute_all_metrics)\n",
    "from kganalytics.export import (save_network,\n",
    "                              save_to_gephi)\n",
    "from kganalytics.paths import (minimum_spanning_tree,\n",
    "                             top_n_paths,\n",
    "                             top_n_tripaths,\n",
    "                             single_shortest_path,\n",
    "                             top_n_nested_paths,\n",
    "                             graph_from_paths,\n",
    "                             pretty_print_paths,\n",
    "                             pretty_print_tripaths,\n",
    "                             top_neighbors)\n",
    "from kganalytics.utils import subgraph_by_types"
   ]
  },
  {
   "cell_type": "markdown",
   "metadata": {},
   "source": [
    "## Prepare occurrence data"
   ]
  },
  {
   "cell_type": "markdown",
   "metadata": {},
   "source": [
    "The input data is given by occurrences of different entities in specific paragraphs of scientific articles."
   ]
  },
  {
   "cell_type": "code",
   "execution_count": 3,
   "metadata": {},
   "outputs": [],
   "source": [
    "mentions = pd.read_csv(\"data/literature_NER_example.csv\")"
   ]
  },
  {
   "cell_type": "markdown",
   "metadata": {},
   "source": [
    "Every paragraph is identified using the format `<paper_id>:<section_id>:<paragraph_id>`. From this data we will extract occurrences in distinct papers/sections/paragraphs as follows:"
   ]
  },
  {
   "cell_type": "code",
   "execution_count": 4,
   "metadata": {},
   "outputs": [
    {
     "data": {
      "text/html": [
       "<div>\n",
       "<style scoped>\n",
       "    .dataframe tbody tr th:only-of-type {\n",
       "        vertical-align: middle;\n",
       "    }\n",
       "\n",
       "    .dataframe tbody tr th {\n",
       "        vertical-align: top;\n",
       "    }\n",
       "\n",
       "    .dataframe thead th {\n",
       "        text-align: right;\n",
       "    }\n",
       "</style>\n",
       "<table border=\"1\" class=\"dataframe\">\n",
       "  <thead>\n",
       "    <tr style=\"text-align: right;\">\n",
       "      <th></th>\n",
       "      <th>entity</th>\n",
       "      <th>occurrence</th>\n",
       "    </tr>\n",
       "  </thead>\n",
       "  <tbody>\n",
       "    <tr>\n",
       "      <th>0</th>\n",
       "      <td>ace inhibitor</td>\n",
       "      <td>184360:Combined Therapeutic Potential Targetin...</td>\n",
       "    </tr>\n",
       "    <tr>\n",
       "      <th>1</th>\n",
       "      <td>ace inhibitor</td>\n",
       "      <td>184360:Caption:68</td>\n",
       "    </tr>\n",
       "    <tr>\n",
       "      <th>2</th>\n",
       "      <td>ace inhibitor</td>\n",
       "      <td>184360:Aceis And Arbs ::: Therapeutic Potentia...</td>\n",
       "    </tr>\n",
       "    <tr>\n",
       "      <th>3</th>\n",
       "      <td>ace inhibitor</td>\n",
       "      <td>197804:Caption:71</td>\n",
       "    </tr>\n",
       "    <tr>\n",
       "      <th>4</th>\n",
       "      <td>ace inhibitor</td>\n",
       "      <td>184360:Conclusion:62</td>\n",
       "    </tr>\n",
       "    <tr>\n",
       "      <th>...</th>\n",
       "      <td>...</td>\n",
       "      <td>...</td>\n",
       "    </tr>\n",
       "    <tr>\n",
       "      <th>1552</th>\n",
       "      <td>virus</td>\n",
       "      <td>214924:Abstract:1</td>\n",
       "    </tr>\n",
       "    <tr>\n",
       "      <th>1553</th>\n",
       "      <td>virus</td>\n",
       "      <td>179426:Role Of Dpp4 Enzyme And Dpp4 Inhibitors...</td>\n",
       "    </tr>\n",
       "    <tr>\n",
       "      <th>1554</th>\n",
       "      <td>virus</td>\n",
       "      <td>184360:Combined Therapeutic Potential Targetin...</td>\n",
       "    </tr>\n",
       "    <tr>\n",
       "      <th>1555</th>\n",
       "      <td>virus</td>\n",
       "      <td>197804:Introduction:2</td>\n",
       "    </tr>\n",
       "    <tr>\n",
       "      <th>1556</th>\n",
       "      <td>virus</td>\n",
       "      <td>184360:Sdpp4 As Soluble Decoy Factor ::: Thera...</td>\n",
       "    </tr>\n",
       "  </tbody>\n",
       "</table>\n",
       "<p>1557 rows × 2 columns</p>\n",
       "</div>"
      ],
      "text/plain": [
       "             entity                                         occurrence\n",
       "0     ace inhibitor  184360:Combined Therapeutic Potential Targetin...\n",
       "1     ace inhibitor                                  184360:Caption:68\n",
       "2     ace inhibitor  184360:Aceis And Arbs ::: Therapeutic Potentia...\n",
       "3     ace inhibitor                                  197804:Caption:71\n",
       "4     ace inhibitor                               184360:Conclusion:62\n",
       "...             ...                                                ...\n",
       "1552          virus                                  214924:Abstract:1\n",
       "1553          virus  179426:Role Of Dpp4 Enzyme And Dpp4 Inhibitors...\n",
       "1554          virus  184360:Combined Therapeutic Potential Targetin...\n",
       "1555          virus                              197804:Introduction:2\n",
       "1556          virus  184360:Sdpp4 As Soluble Decoy Factor ::: Thera...\n",
       "\n",
       "[1557 rows x 2 columns]"
      ]
     },
     "execution_count": 4,
     "metadata": {},
     "output_type": "execute_result"
    }
   ],
   "source": [
    "mentions"
   ]
  },
  {
   "cell_type": "code",
   "execution_count": 5,
   "metadata": {},
   "outputs": [],
   "source": [
    "# Extract unique paper/seciton/paragraph identifiers\n",
    "mentions[\"paper\"] = mentions[\"occurrence\"].apply(\n",
    "    lambda x: x.split(\":\")[0])\n",
    "mentions[\"section\"] = mentions[\"occurrence\"].apply(\n",
    "    lambda x: \":\".join([x.split(\":\")[0], x.split(\":\")[1]]))\n",
    "\n",
    "mentions = mentions.rename(columns={\"occurrence\": \"paragraph\"})"
   ]
  },
  {
   "cell_type": "code",
   "execution_count": 6,
   "metadata": {},
   "outputs": [
    {
     "data": {
      "text/html": [
       "<div>\n",
       "<style scoped>\n",
       "    .dataframe tbody tr th:only-of-type {\n",
       "        vertical-align: middle;\n",
       "    }\n",
       "\n",
       "    .dataframe tbody tr th {\n",
       "        vertical-align: top;\n",
       "    }\n",
       "\n",
       "    .dataframe thead th {\n",
       "        text-align: right;\n",
       "    }\n",
       "</style>\n",
       "<table border=\"1\" class=\"dataframe\">\n",
       "  <thead>\n",
       "    <tr style=\"text-align: right;\">\n",
       "      <th></th>\n",
       "      <th>entity</th>\n",
       "      <th>paragraph</th>\n",
       "      <th>paper</th>\n",
       "      <th>section</th>\n",
       "    </tr>\n",
       "  </thead>\n",
       "  <tbody>\n",
       "    <tr>\n",
       "      <th>0</th>\n",
       "      <td>ace inhibitor</td>\n",
       "      <td>184360:Combined Therapeutic Potential Targetin...</td>\n",
       "      <td>184360</td>\n",
       "      <td>184360:Combined Therapeutic Potential Targetin...</td>\n",
       "    </tr>\n",
       "    <tr>\n",
       "      <th>1</th>\n",
       "      <td>ace inhibitor</td>\n",
       "      <td>184360:Caption:68</td>\n",
       "      <td>184360</td>\n",
       "      <td>184360:Caption</td>\n",
       "    </tr>\n",
       "    <tr>\n",
       "      <th>2</th>\n",
       "      <td>ace inhibitor</td>\n",
       "      <td>184360:Aceis And Arbs ::: Therapeutic Potentia...</td>\n",
       "      <td>184360</td>\n",
       "      <td>184360:Aceis And Arbs</td>\n",
       "    </tr>\n",
       "    <tr>\n",
       "      <th>3</th>\n",
       "      <td>ace inhibitor</td>\n",
       "      <td>197804:Caption:71</td>\n",
       "      <td>197804</td>\n",
       "      <td>197804:Caption</td>\n",
       "    </tr>\n",
       "    <tr>\n",
       "      <th>4</th>\n",
       "      <td>ace inhibitor</td>\n",
       "      <td>184360:Conclusion:62</td>\n",
       "      <td>184360</td>\n",
       "      <td>184360:Conclusion</td>\n",
       "    </tr>\n",
       "    <tr>\n",
       "      <th>...</th>\n",
       "      <td>...</td>\n",
       "      <td>...</td>\n",
       "      <td>...</td>\n",
       "      <td>...</td>\n",
       "    </tr>\n",
       "    <tr>\n",
       "      <th>1552</th>\n",
       "      <td>virus</td>\n",
       "      <td>214924:Abstract:1</td>\n",
       "      <td>214924</td>\n",
       "      <td>214924:Abstract</td>\n",
       "    </tr>\n",
       "    <tr>\n",
       "      <th>1553</th>\n",
       "      <td>virus</td>\n",
       "      <td>179426:Role Of Dpp4 Enzyme And Dpp4 Inhibitors...</td>\n",
       "      <td>179426</td>\n",
       "      <td>179426:Role Of Dpp4 Enzyme And Dpp4 Inhibitors</td>\n",
       "    </tr>\n",
       "    <tr>\n",
       "      <th>1554</th>\n",
       "      <td>virus</td>\n",
       "      <td>184360:Combined Therapeutic Potential Targetin...</td>\n",
       "      <td>184360</td>\n",
       "      <td>184360:Combined Therapeutic Potential Targetin...</td>\n",
       "    </tr>\n",
       "    <tr>\n",
       "      <th>1555</th>\n",
       "      <td>virus</td>\n",
       "      <td>197804:Introduction:2</td>\n",
       "      <td>197804</td>\n",
       "      <td>197804:Introduction</td>\n",
       "    </tr>\n",
       "    <tr>\n",
       "      <th>1556</th>\n",
       "      <td>virus</td>\n",
       "      <td>184360:Sdpp4 As Soluble Decoy Factor ::: Thera...</td>\n",
       "      <td>184360</td>\n",
       "      <td>184360:Sdpp4 As Soluble Decoy Factor</td>\n",
       "    </tr>\n",
       "  </tbody>\n",
       "</table>\n",
       "<p>1557 rows × 4 columns</p>\n",
       "</div>"
      ],
      "text/plain": [
       "             entity                                          paragraph  \\\n",
       "0     ace inhibitor  184360:Combined Therapeutic Potential Targetin...   \n",
       "1     ace inhibitor                                  184360:Caption:68   \n",
       "2     ace inhibitor  184360:Aceis And Arbs ::: Therapeutic Potentia...   \n",
       "3     ace inhibitor                                  197804:Caption:71   \n",
       "4     ace inhibitor                               184360:Conclusion:62   \n",
       "...             ...                                                ...   \n",
       "1552          virus                                  214924:Abstract:1   \n",
       "1553          virus  179426:Role Of Dpp4 Enzyme And Dpp4 Inhibitors...   \n",
       "1554          virus  184360:Combined Therapeutic Potential Targetin...   \n",
       "1555          virus                              197804:Introduction:2   \n",
       "1556          virus  184360:Sdpp4 As Soluble Decoy Factor ::: Thera...   \n",
       "\n",
       "       paper                                            section  \n",
       "0     184360  184360:Combined Therapeutic Potential Targetin...  \n",
       "1     184360                                     184360:Caption  \n",
       "2     184360                             184360:Aceis And Arbs   \n",
       "3     197804                                     197804:Caption  \n",
       "4     184360                                  184360:Conclusion  \n",
       "...      ...                                                ...  \n",
       "1552  214924                                    214924:Abstract  \n",
       "1553  179426    179426:Role Of Dpp4 Enzyme And Dpp4 Inhibitors   \n",
       "1554  184360  184360:Combined Therapeutic Potential Targetin...  \n",
       "1555  197804                                197804:Introduction  \n",
       "1556  184360              184360:Sdpp4 As Soluble Decoy Factor   \n",
       "\n",
       "[1557 rows x 4 columns]"
      ]
     },
     "execution_count": 6,
     "metadata": {},
     "output_type": "execute_result"
    }
   ],
   "source": [
    "mentions"
   ]
  },
  {
   "cell_type": "markdown",
   "metadata": {},
   "source": [
    "For every entity, we will now group papers/sections/paragraphs where it occurs into sets "
   ]
  },
  {
   "cell_type": "code",
   "execution_count": 7,
   "metadata": {},
   "outputs": [],
   "source": [
    "occurrence_data = mentions.groupby(\"entity\").aggregate(set)"
   ]
  },
  {
   "cell_type": "markdown",
   "metadata": {},
   "source": [
    "Finally, we compute total counts of papers/section/paragraphs in our corpus (these statistics will be used by the network generation procedure to compute mutual information-based co-occurrence scores)."
   ]
  },
  {
   "cell_type": "code",
   "execution_count": 8,
   "metadata": {},
   "outputs": [],
   "source": [
    "counts = {\n",
    "    \"paper\": len(mentions.paper.unique()),\n",
    "    \"section\": len(mentions.section.unique()),\n",
    "    \"paragraph\": len(mentions.paragraph.unique()),\n",
    "}"
   ]
  },
  {
   "cell_type": "code",
   "execution_count": 9,
   "metadata": {},
   "outputs": [
    {
     "data": {
      "text/plain": [
       "{'paper': 20, 'section': 106, 'paragraph': 280}"
      ]
     },
     "execution_count": 9,
     "metadata": {},
     "output_type": "execute_result"
    }
   ],
   "source": [
    "counts"
   ]
  },
  {
   "cell_type": "markdown",
   "metadata": {},
   "source": [
    "## Generate co-occurrence networks"
   ]
  },
  {
   "cell_type": "markdown",
   "metadata": {},
   "source": [
    "We will generate co-occurrence networks for difference occurrence factors (paper/section/paragraph), i.e. an edge between a pair of entities is added if they co-occur in the same paper/section/paragraph/"
   ]
  },
  {
   "cell_type": "code",
   "execution_count": 10,
   "metadata": {
    "scrolled": true
   },
   "outputs": [
    {
     "name": "stdout",
     "output_type": "stream",
     "text": [
      "Examining 12246 pairs of terms for co-occurrence...\n",
      "Generated 9748 edges                    \n",
      "Created a co-occurrence graph:\n",
      "\tnumber of nodes:  157\n",
      "\tnumber of edges:  9748\n",
      "Saving the edges...\n",
      "Creating a graph object...\n"
     ]
    }
   ],
   "source": [
    "paper_comention_network = generate_cooccurrence_network(\n",
    "    occurrence_data, \"paper\", counts[\"paper\"],\n",
    "    parallelize=False)"
   ]
  },
  {
   "cell_type": "code",
   "execution_count": 11,
   "metadata": {},
   "outputs": [
    {
     "name": "stdout",
     "output_type": "stream",
     "text": [
      "Examining 12246 pairs of terms for co-occurrence...\n",
      "Generated 5207 edges                    \n",
      "Created a co-occurrence graph:\n",
      "\tnumber of nodes:  157\n",
      "\tnumber of edges:  5207\n",
      "Saving the edges...\n",
      "Creating a graph object...\n"
     ]
    }
   ],
   "source": [
    "section_comention_network = generate_cooccurrence_network(\n",
    "    occurrence_data, \"section\", counts[\"section\"],\n",
    "    parallelize=False)"
   ]
  },
  {
   "cell_type": "code",
   "execution_count": 12,
   "metadata": {
    "scrolled": true
   },
   "outputs": [
    {
     "name": "stdout",
     "output_type": "stream",
     "text": [
      "Examining 12246 pairs of terms for co-occurrence...\n",
      "Generated 2755 edges                    \n",
      "Created a co-occurrence graph:\n",
      "\tnumber of nodes:  157\n",
      "\tnumber of edges:  2755\n",
      "Saving the edges...\n",
      "Creating a graph object...\n"
     ]
    }
   ],
   "source": [
    "paragraph_comention_network = generate_cooccurrence_network(\n",
    "    occurrence_data, \"paragraph\", counts[\"paragraph\"],\n",
    "    parallelize=False)"
   ]
  },
  {
   "cell_type": "markdown",
   "metadata": {},
   "source": [
    "Density of a network is quantified by the proportion of all possible edges ($n(n-1) / 2$ for the undirected network with $n$ nodes) that are realized."
   ]
  },
  {
   "cell_type": "code",
   "execution_count": 13,
   "metadata": {},
   "outputs": [
    {
     "name": "stdout",
     "output_type": "stream",
     "text": [
      "Density of the paper-based network:  0.7960150253143884\n",
      "Density of the section-based network:  0.42520006532745386\n",
      "Density of the paragraph-based network:  0.22497141923893516\n"
     ]
    }
   ],
   "source": [
    "print(\"Density of the paper-based network: \", nx.density(paper_comention_network))\n",
    "print(\"Density of the section-based network: \", nx.density(section_comention_network))\n",
    "print(\"Density of the paragraph-based network: \", nx.density(paragraph_comention_network))"
   ]
  },
  {
   "cell_type": "markdown",
   "metadata": {},
   "source": [
    "The results above show that in the paper, section and paragraph network repsectively 80%, 42% and 22% of all possible term pairs co-occur at least once."
   ]
  },
  {
   "cell_type": "code",
   "execution_count": 14,
   "metadata": {
    "scrolled": false
   },
   "outputs": [
    {
     "name": "stdout",
     "output_type": "stream",
     "text": [
      "Edge example: 'ace inhibitor' <-> 'acute lung injury'\n",
      "\n",
      "Edge attributes in the paper-based graph:\n",
      "\t frequency 2\n",
      "\t ppmi 2.321928094887362\n",
      "\t npmi 0.6989700043360187\n",
      "\t distance_ppmi 0.43067655807339306\n",
      "\t distance_npmi 1.4306765580733931\n",
      "\n",
      "Edge attributes in the section-based graph:\n",
      "\t frequency 2\n",
      "\t ppmi 1.6835263352047456\n",
      "\t npmi 0.2939158021762591\n",
      "\t distance_ppmi 0.5939913021190624\n",
      "\t distance_npmi 3.402334929240407\n",
      "\n",
      "Edge attributes in the paragraph-based graph:\n",
      "\t frequency 1\n",
      "\t ppmi 1.374395514781498\n",
      "\t npmi 0.1690672488479807\n",
      "\t distance_ppmi 0.7275925956139201\n",
      "\t distance_npmi 5.914806130779148\n"
     ]
    }
   ],
   "source": [
    "for s, t in paragraph_comention_network.edges():\n",
    "    print(\"Edge example: '{}' <-> '{}'\\n\".format(s, t))\n",
    "    print(\"Edge attributes in the paper-based graph:\")\n",
    "    for k, v in paper_comention_network.edges[s, t].items():\n",
    "        print(\"\\t\", k, v)\n",
    "    print()\n",
    "    print(\"Edge attributes in the section-based graph:\")\n",
    "    for k, v in section_comention_network.edges[s, t].items():\n",
    "        print(\"\\t\", k, v)\n",
    "    print()\n",
    "    print(\"Edge attributes in the paragraph-based graph:\")\n",
    "    for k, v in paragraph_comention_network.edges[s, t].items():\n",
    "        print(\"\\t\", k, v)\n",
    "    break"
   ]
  },
  {
   "cell_type": "markdown",
   "metadata": {},
   "source": [
    "**NB**\n",
    "\n",
    "_Positive pointwise mutual information (PPMI)_ is defined as $PPMI(x, y) = \\log_2{\\frac{p(x, y)}{p(x)p(y)}} $, if $p(x) \\neq 0$ and $p(y) \\neq 0$, and $PPMI(x, y) = 0$ otherwise.\n",
    "\n",
    "_Normalized pointwise mutual information (NPMI)_ is defined as $NPMI(x, y) = \\frac{PPMI(x, y)}{-\\log_2{p(x, y)}} $.\n",
    "\n",
    "The mutual-information-based distances are caluculated as $\\frac{1}{(N/P)PMI}$."
   ]
  },
  {
   "cell_type": "markdown",
   "metadata": {},
   "source": [
    "## Nearest neighours by (N/P)MI"
   ]
  },
  {
   "cell_type": "markdown",
   "metadata": {},
   "source": [
    "To illustrate the importance of computing mutual-information-based scores over raw frequencies consider the following example, where we would like to estimate top closest (most related) neighbors to a specific term.\n",
    "\n",
    "We will use the paragraph-based network and the raw co-occurrence frequency as the weight of our co-occurrence relation."
   ]
  },
  {
   "cell_type": "code",
   "execution_count": 15,
   "metadata": {},
   "outputs": [
    {
     "data": {
      "text/plain": [
       "{'covid-19': 29,\n",
       " 'diabetes mellitus': 29,\n",
       " 'blood': 18,\n",
       " 'insulin': 11,\n",
       " 'death': 9,\n",
       " 'coronavirus': 8,\n",
       " 'hyperglycemia': 8,\n",
       " 'infectious disorder': 6,\n",
       " 'inflammation': 6,\n",
       " 'sars coronavirus': 6}"
      ]
     },
     "execution_count": 15,
     "metadata": {},
     "output_type": "execute_result"
    }
   ],
   "source": [
    "top_neighbors(paragraph_comention_network, \"glucose\", 10, weight=\"frequency\")"
   ]
  },
  {
   "cell_type": "code",
   "execution_count": 16,
   "metadata": {},
   "outputs": [
    {
     "data": {
      "text/plain": [
       "{'covid-19': 24,\n",
       " 'angiotensin-converting enzyme 2': 16,\n",
       " 'sars-cov-2': 13,\n",
       " 'acute lung injury': 12,\n",
       " 'diabetes mellitus': 10,\n",
       " 'pulmonary': 10,\n",
       " 'sars coronavirus': 10,\n",
       " 'human': 9,\n",
       " 'viral': 9,\n",
       " 'mouse': 7}"
      ]
     },
     "execution_count": 16,
     "metadata": {},
     "output_type": "execute_result"
    }
   ],
   "source": [
    "top_neighbors(paragraph_comention_network, \"lung\", 10, weight=\"frequency\")"
   ]
  },
  {
   "cell_type": "markdown",
   "metadata": {},
   "source": [
    "We observe that 'glucose' and 'lung' share a lot of the closest neighbors by raw frequency. If we look into the list of top 10 entities by paragraph frequency in the entire corpus and we notice that 'glucose' and 'blood' co-occur the most with the terms that are simply the most frequent in our corpus, such as 'covid-19' and 'diabetes mellitus'.\n",
    "\n",
    "(Closest inspection of the distribution of weighted node degrees suggests that the network contains _hubs_, nodes with significantly high-degree connectivity to other nodes.)"
   ]
  },
  {
   "cell_type": "code",
   "execution_count": 17,
   "metadata": {},
   "outputs": [
    {
     "data": {
      "text/plain": [
       "entity\n",
       "covid-19                           192\n",
       "diabetes mellitus                  156\n",
       "sars-cov-2                          63\n",
       "glucose                             44\n",
       "angiotensin-converting enzyme 2     41\n",
       "dipeptidyl peptidase 4              41\n",
       "coronavirus                         31\n",
       "blood                               28\n",
       "lung                                28\n",
       "sars coronavirus                    26\n",
       "Name: paragraph, dtype: int64"
      ]
     },
     "execution_count": 17,
     "metadata": {},
     "output_type": "execute_result"
    }
   ],
   "source": [
    "occurrence_data[\"paragraph\"].apply(len).nlargest(10)"
   ]
  },
  {
   "cell_type": "markdown",
   "metadata": {},
   "source": [
    "To account for the presence of such hubs, we use the mutual-information-based scores presented above. They 'balance' the influence of the highly connected hub nodes such as 'covid-19' and 'diabetes mellitus' in our example."
   ]
  },
  {
   "cell_type": "code",
   "execution_count": 18,
   "metadata": {},
   "outputs": [
    {
     "data": {
      "text/plain": [
       "{'blood': 0.5133209650995287,\n",
       " 'glucose metabolism disorder': 0.43558951200762297,\n",
       " 'insulin': 0.41957609533629175,\n",
       " 'thrombophilia': 0.4079646453270325,\n",
       " 'bals r': 0.3744908698338857,\n",
       " 'insulin infusion': 0.3744908698338857,\n",
       " 'leukopenia': 0.3744908698338857,\n",
       " 'millimole per liter': 0.3744908698338857,\n",
       " 'troponin t, cardiac muscle': 0.3744908698338857,\n",
       " 'hyperglycemia': 0.3255525953220345}"
      ]
     },
     "execution_count": 18,
     "metadata": {},
     "output_type": "execute_result"
    }
   ],
   "source": [
    "top_neighbors(paragraph_comention_network, \"glucose\", 10, weight=\"npmi\")"
   ]
  },
  {
   "cell_type": "code",
   "execution_count": 19,
   "metadata": {
    "scrolled": true
   },
   "outputs": [
    {
     "data": {
      "text/plain": [
       "{'acute lung injury': 0.731006557092012,\n",
       " 'pulmonary': 0.6362945400636919,\n",
       " 'angiotensin-converting enzyme 2': 0.4757184436640079,\n",
       " 'receptor binding': 0.46595542454855043,\n",
       " 'animal': 0.4465392749200213,\n",
       " 'viral infection': 0.4465392749200213,\n",
       " 'mouse': 0.4362945258726772,\n",
       " 'angiotensin-1': 0.4259996541516483,\n",
       " 'viral': 0.4233482775367079,\n",
       " 'human': 0.4098154380746763}"
      ]
     },
     "execution_count": 19,
     "metadata": {},
     "output_type": "execute_result"
    }
   ],
   "source": [
    "top_neighbors(paragraph_comention_network, \"lung\", 10, weight=\"npmi\")"
   ]
  },
  {
   "cell_type": "markdown",
   "metadata": {},
   "source": [
    "## Node centralities\n",
    "\n",
    "In this example we will compute the Degree and PageRank centralities only for the raw frequency, and the Betweenness centrality for the mutual-information-based scores."
   ]
  },
  {
   "cell_type": "markdown",
   "metadata": {},
   "source": [
    "_Degree centrality_ is given by the sum of weights of all incident edges of the given node and characterizes the importance of the node in the network in terms of its connectivity to other nodes (high degree = high connectivity)."
   ]
  },
  {
   "cell_type": "code",
   "execution_count": 20,
   "metadata": {},
   "outputs": [],
   "source": [
    "weights = [\"frequency\"]"
   ]
  },
  {
   "cell_type": "code",
   "execution_count": 21,
   "metadata": {},
   "outputs": [
    {
     "name": "stdout",
     "output_type": "stream",
     "text": [
      "Paper-based graph\n",
      "-----------------\n",
      "Top n nodes by frequency:\n",
      "\tcovid-19 (531)\n",
      "\tdiabetes mellitus (528)\n",
      "\tcoronavirus (518)\n",
      "\tglucose (458)\n",
      "\tglyburide (451)\n",
      "\tsars coronavirus (442)\n",
      "\tangiotensin-converting enzyme 2 (433)\n",
      "\tvirus (433)\n",
      "\tsars-cov-2 (427)\n",
      "\tpneumonia (426)\n",
      "\n",
      "\n",
      "Section-based graph\n",
      "-------------------\n",
      "Top n nodes by frequency:\n",
      "\tcovid-19 (967)\n",
      "\tdiabetes mellitus (845)\n",
      "\tsars-cov-2 (654)\n",
      "\tangiotensin-converting enzyme 2 (515)\n",
      "\tglucose (437)\n",
      "\tvirus (429)\n",
      "\tcoronavirus (402)\n",
      "\tlung (394)\n",
      "\tinfectious disorder (355)\n",
      "\tblood (343)\n",
      "\n",
      "\n",
      "Paragraph-based graph\n",
      "---------------------\n",
      "Top n nodes by frequency:\n",
      "\tcovid-19 (967)\n",
      "\tdiabetes mellitus (740)\n",
      "\tsars-cov-2 (462)\n",
      "\tangiotensin-converting enzyme 2 (366)\n",
      "\tdipeptidyl peptidase 4 (280)\n",
      "\tlung (279)\n",
      "\tglucose (277)\n",
      "\tcoronavirus (247)\n",
      "\tsars coronavirus (227)\n",
      "\tviral (227)\n",
      "\n"
     ]
    }
   ],
   "source": [
    "print(\"Paper-based graph\")\n",
    "print(\"-----------------\")\n",
    "_ = compute_degree_centrality(paper_comention_network, weights, 10)\n",
    "print()\n",
    "\n",
    "print(\"Section-based graph\")\n",
    "print(\"-------------------\")\n",
    "_ = compute_degree_centrality(section_comention_network, weights, 10)\n",
    "print()\n",
    "\n",
    "print(\"Paragraph-based graph\")\n",
    "print(\"---------------------\")\n",
    "_ = compute_degree_centrality(paragraph_comention_network, weights, 10)"
   ]
  },
  {
   "cell_type": "markdown",
   "metadata": {},
   "source": [
    "_PageRank centrality_ is another measure that estimated the importance of the given node in the network. Roughly speaking it can be interpreted as the probablity that having landed on a random node in the network we will jump to the given node (here the edge weights are taken into accont\").\n",
    "\n",
    "https://en.wikipedia.org/wiki/PageRank"
   ]
  },
  {
   "cell_type": "code",
   "execution_count": 22,
   "metadata": {},
   "outputs": [
    {
     "name": "stdout",
     "output_type": "stream",
     "text": [
      "Paper-based graph\n",
      "-----------------\n",
      "Top n nodes by frequency:\n",
      "\tcovid-19 (0.01)\n",
      "\tdiabetes mellitus (0.01)\n",
      "\tcoronavirus (0.01)\n",
      "\tglucose (0.01)\n",
      "\tglyburide (0.01)\n",
      "\tsars coronavirus (0.01)\n",
      "\tangiotensin-converting enzyme 2 (0.01)\n",
      "\tvirus (0.01)\n",
      "\tsars-cov-2 (0.01)\n",
      "\tpneumonia (0.01)\n",
      "\n",
      "\n",
      "Section-based graph\n",
      "-------------------\n",
      "Top n nodes by frequency:\n",
      "\tcovid-19 (0.04)\n",
      "\tdiabetes mellitus (0.03)\n",
      "\tsars-cov-2 (0.03)\n",
      "\tangiotensin-converting enzyme 2 (0.02)\n",
      "\tglucose (0.02)\n",
      "\tvirus (0.02)\n",
      "\tcoronavirus (0.02)\n",
      "\tlung (0.02)\n",
      "\tinfectious disorder (0.02)\n",
      "\tblood (0.02)\n",
      "\n",
      "\n",
      "Paragraph-based graph\n",
      "---------------------\n",
      "Top n nodes by frequency:\n",
      "\tcovid-19 (0.07)\n",
      "\tdiabetes mellitus (0.05)\n",
      "\tsars-cov-2 (0.03)\n",
      "\tangiotensin-converting enzyme 2 (0.03)\n",
      "\tdipeptidyl peptidase 4 (0.02)\n",
      "\tglucose (0.02)\n",
      "\tlung (0.02)\n",
      "\tcoronavirus (0.02)\n",
      "\tviral (0.02)\n",
      "\tsars coronavirus (0.02)\n",
      "\n"
     ]
    }
   ],
   "source": [
    "print(\"Paper-based graph\")\n",
    "print(\"-----------------\")\n",
    "_ = compute_pagerank_centrality(paper_comention_network, weights, 10)\n",
    "print()\n",
    "\n",
    "print(\"Section-based graph\")\n",
    "print(\"-------------------\")\n",
    "_ = compute_pagerank_centrality(section_comention_network, weights, 10)\n",
    "print()\n",
    "\n",
    "print(\"Paragraph-based graph\")\n",
    "print(\"---------------------\")\n",
    "_ = compute_pagerank_centrality(paragraph_comention_network, weights, 10)"
   ]
  },
  {
   "cell_type": "markdown",
   "metadata": {},
   "source": [
    "We then compute the betweenness centrality based on the NPMI distances.\n",
    "\n",
    "_Betweenness centrality_ is a node importance measure that estimates how often a shortest path between a pair of nodes will pass through the given node."
   ]
  },
  {
   "cell_type": "code",
   "execution_count": 23,
   "metadata": {},
   "outputs": [
    {
     "name": "stdout",
     "output_type": "stream",
     "text": [
      "Paper-based graph\n",
      "-----------------\n",
      "Top n nodes by distance_npmi:\n",
      "\tace inhibitor (5.585032717627916e+34)\n",
      "\tacetaminophen (2.158884163120468e+34)\n",
      "\tacute lung injury (1.7213032357648608e+34)\n",
      "\tacute respiratory distress syndrome (8.60798278849422e+33)\n",
      "\tadenosine (4.303132487743599e+33)\n",
      "\tadipose tissue (2.151586876238687e+33)\n",
      "\tangioedema (1.0735822606906027e+33)\n",
      "\tangiotensin ii receptor antagonist (5.389495661740749e+32)\n",
      "\tangiotensin-1 (2.6938768030428867e+32)\n",
      "\tangiotensin-2 (1.346265780518411e+32)\n",
      "\n",
      "\n",
      "Section-based graph\n",
      "-------------------\n",
      "Top n nodes by distance_npmi:\n",
      "\tchronic kidney disease (0.04508776766841285)\n",
      "\tadipose tissue (0.040621266427718045)\n",
      "\tlower respiratory tract infection (0.02673697270471464)\n",
      "\tlymphopenia (0.018527708850289495)\n",
      "\theart (0.016459884201819687)\n",
      "\tkidney (0.016349600220567966)\n",
      "\tglucose metabolism disorder (0.016035290874000553)\n",
      "\thypoxia (0.01593912061653997)\n",
      "\theadache (0.0158590334396786)\n",
      "\tcellular secretion (0.01582575130962228)\n",
      "\n",
      "\n",
      "Paragraph-based graph\n",
      "---------------------\n",
      "Top n nodes by distance_npmi:\n",
      "\tlymphopenia (0.038916459884201816)\n",
      "\tpulmonary (0.0347808105872622)\n",
      "\tglucose metabolism disorder (0.03432588916459884)\n",
      "\tt-lymphocyte (0.029404466501240695)\n",
      "\tcough (0.02803970223325062)\n",
      "\tchemokine (0.02673007995588641)\n",
      "\td-dimer measurement (0.023738626964433417)\n",
      "\tkidney (0.022539288668320927)\n",
      "\tinterleukin-19 (0.022125723738626958)\n",
      "\tibuprofen (0.020168183071408878)\n",
      "\n"
     ]
    }
   ],
   "source": [
    "print(\"Paper-based graph\")\n",
    "print(\"-----------------\")\n",
    "_ = compute_betweenness_centrality(\n",
    "    paper_comention_network, [\"distance_npmi\"], 10)\n",
    "print()\n",
    "\n",
    "print(\"Section-based graph\")\n",
    "print(\"-------------------\")\n",
    "_ = compute_betweenness_centrality(\n",
    "    section_comention_network, [\"distance_npmi\"], 10)\n",
    "print()\n",
    "\n",
    "print(\"Paragraph-based graph\")\n",
    "print(\"---------------------\")\n",
    "_ = compute_betweenness_centrality(\n",
    "    paragraph_comention_network, [\"distance_npmi\"], 10)"
   ]
  },
  {
   "cell_type": "markdown",
   "metadata": {},
   "source": [
    "## Community detection"
   ]
  },
  {
   "cell_type": "markdown",
   "metadata": {},
   "source": [
    "_Community detection_ methods partition the network into clusters of densely connected nodes in a way that nodes in the same community are more connected between themselves relatively to the nodes in different communities.\n",
    "\n",
    "The _modularity_ measure quantifies how well the communities are 'separated' (https://en.wikipedia.org/wiki/Modularity_(networks))."
   ]
  },
  {
   "cell_type": "code",
   "execution_count": 24,
   "metadata": {
    "scrolled": false
   },
   "outputs": [
    {
     "name": "stdout",
     "output_type": "stream",
     "text": [
      "Paper-based graph\n",
      "-----------------\n",
      "Detecting communities...\n",
      "Best network partition:\n",
      "\t Number of communities: 4\n",
      "\t Modularity: 0.08246727981489116\n",
      "Detecting communities...\n",
      "Best network partition:\n",
      "\t Number of communities: 5\n",
      "\t Modularity: 0.12013802920261121\n",
      "\n",
      "Section-based graph\n",
      "-------------------\n",
      "Detecting communities...\n",
      "Best network partition:\n",
      "\t Number of communities: 4\n",
      "\t Modularity: 0.13694161502540328\n",
      "Detecting communities...\n",
      "Best network partition:\n",
      "\t Number of communities: 5\n",
      "\t Modularity: 0.24542759530846336\n",
      "\n",
      "Paragraph-based graph\n",
      "---------------------\n",
      "Detecting communities...\n",
      "Best network partition:\n",
      "\t Number of communities: 5\n",
      "\t Modularity: 0.19995935393395675\n",
      "Detecting communities...\n",
      "Best network partition:\n",
      "\t Number of communities: 6\n",
      "\t Modularity: 0.34175600388596483\n",
      "\n"
     ]
    }
   ],
   "source": [
    "print(\"Paper-based graph\")\n",
    "print(\"-----------------\")\n",
    "_ = detect_communities(paper_comention_network, weight=\"frequency\", set_attr=\"community\")\n",
    "_ = detect_communities(paper_comention_network, weight=\"npmi\", set_attr=\"community_npmi\")\n",
    "print()\n",
    "\n",
    "print(\"Section-based graph\")\n",
    "print(\"-------------------\")\n",
    "_ = detect_communities(section_comention_network, weight=\"frequency\", set_attr=\"community\")\n",
    "_ = detect_communities(section_comention_network, weight=\"npmi\", set_attr=\"community_npmi\")\n",
    "print()\n",
    "\n",
    "print(\"Paragraph-based graph\")\n",
    "print(\"---------------------\")\n",
    "_ = detect_communities(paragraph_comention_network, weight=\"frequency\", set_attr=\"community\")\n",
    "_ = detect_communities(paragraph_comention_network, weight=\"npmi\", set_attr=\"community_npmi\")\n",
    "print()"
   ]
  },
  {
   "cell_type": "markdown",
   "metadata": {},
   "source": [
    "In the example above we can see that the best partition is performed on the paragraph-based network using the NPMI edge weight (resulting in the modularity 0.34)."
   ]
  },
  {
   "cell_type": "markdown",
   "metadata": {},
   "source": [
    "## Compute all the metrics in one go"
   ]
  },
  {
   "cell_type": "markdown",
   "metadata": {},
   "source": [
    "Alternatively, we can compute all the metrics in one go (thier results are assigned to the node attributes). To do so, we need to specify edge attributes used for computing different metrics (if an empty list is specified as a weight list for a metric, computation of this metric is not performed). \n",
    "\n",
    "We select the paragraph-based network and re-compute all the metrics as follows:"
   ]
  },
  {
   "cell_type": "code",
   "execution_count": 25,
   "metadata": {
    "scrolled": false
   },
   "outputs": [
    {
     "name": "stdout",
     "output_type": "stream",
     "text": [
      "Computing degree centrality statistics....\n",
      "Top n nodes by frequency:\n",
      "\tcovid-19 (967)\n",
      "\tdiabetes mellitus (740)\n",
      "\tsars-cov-2 (462)\n",
      "\tangiotensin-converting enzyme 2 (366)\n",
      "\tdipeptidyl peptidase 4 (280)\n",
      "\tlung (279)\n",
      "\tglucose (277)\n",
      "\tcoronavirus (247)\n",
      "\tsars coronavirus (227)\n",
      "\tviral (227)\n",
      "\n",
      "Computing PageRank centrality statistics....\n",
      "Top n nodes by frequency:\n",
      "\tcovid-19 (0.07)\n",
      "\tdiabetes mellitus (0.05)\n",
      "\tsars-cov-2 (0.03)\n",
      "\tangiotensin-converting enzyme 2 (0.03)\n",
      "\tdipeptidyl peptidase 4 (0.02)\n",
      "\tglucose (0.02)\n",
      "\tlung (0.02)\n",
      "\tcoronavirus (0.02)\n",
      "\tviral (0.02)\n",
      "\tsars coronavirus (0.02)\n",
      "\n",
      "Computing betweenness centrality statistics....\n",
      "Top n nodes by distance_npmi:\n",
      "\tlymphopenia (0.038916459884201816)\n",
      "\tpulmonary (0.0347808105872622)\n",
      "\tglucose metabolism disorder (0.03432588916459884)\n",
      "\tt-lymphocyte (0.029404466501240695)\n",
      "\tcough (0.02803970223325062)\n",
      "\tchemokine (0.02673007995588641)\n",
      "\td-dimer measurement (0.023738626964433417)\n",
      "\tkidney (0.022539288668320927)\n",
      "\tinterleukin-19 (0.022125723738626958)\n",
      "\tibuprofen (0.020168183071408878)\n",
      "\n",
      "Using the 'frequency' weight...\n",
      "Detecting communities...\n",
      "Best network partition:\n",
      "\t Number of communities: 5\n",
      "\t Modularity: 0.19983602787457966\n",
      "Using the 'npmi' weight...\n",
      "Detecting communities...\n",
      "Best network partition:\n",
      "\t Number of communities: 6\n",
      "\t Modularity: 0.3409269796890416\n"
     ]
    }
   ],
   "source": [
    "compute_all_metrics(\n",
    "    paragraph_comention_network,\n",
    "    degree_weights=[\"frequency\"],\n",
    "    pagerank_weights=[\"frequency\"],\n",
    "    betweenness_weights=[\"distance_npmi\"],\n",
    "    community_weights=[\"frequency\", \"npmi\"],\n",
    "    print_summary=True)"
   ]
  },
  {
   "cell_type": "markdown",
   "metadata": {},
   "source": [
    "## Export network and the computed metrics"
   ]
  },
  {
   "cell_type": "code",
   "execution_count": 26,
   "metadata": {},
   "outputs": [],
   "source": [
    "# Save graph nodes as a pickled pandas.DataFrame\n",
    "save_network(paragraph_comention_network, \"data/literature_comention\")"
   ]
  },
  {
   "cell_type": "code",
   "execution_count": 27,
   "metadata": {},
   "outputs": [],
   "source": [
    "# Save the graph for Gephi import.\n",
    "save_to_gephi(\n",
    "    paragraph_comention_network, \"data/gephi_literature_comention\", \n",
    "    node_attr_mapping = {\n",
    "        \"degree_frequency\": \"Degree\",\n",
    "        \"pagerank_frequency\": \"PageRank\",\n",
    "        \"betweenness_distance_npmi\": \"Betweenness\",\n",
    "        \"community_npmi\": \"Community\"\n",
    "    },\n",
    "    edge_attr_mapping={\n",
    "        \"npmi\": \"Weight\"\n",
    "    })"
   ]
  },
  {
   "cell_type": "markdown",
   "metadata": {},
   "source": [
    "The representation of the network saved above can be imported into Gephi for producing graph visualizations, as in the following example:\n",
    "\n",
    "In the figures below colors represent communities detected using the NPMI weight, node sizes are proportional to the PageRank of nodes and edge thickness to the NPMI values.\n",
    "\n",
    "**Full network**\n",
    "<img src=\"./figures/literature/full_network.png\" alt=\"Literature co-occurrence network\" style=\"width: 400px;\"/>\n",
    "\n",
    "**Community \"Symptoms and comorbidities\"**\n",
    "<img src=\"./figures/literature/covid_19_comorbidities.png\" alt=\"Drawing\" style=\"width: 400px;\"/>\n",
    "\n",
    "**Community \"Viral biology\"**\n",
    "<img src=\"./figures/literature/virus.png\" alt=\"Drawing\" style=\"width: 600px;\"/>\n",
    "\n",
    "**Community \"Immunity\"**\n",
    "<img src=\"./figures/literature/immunity.png\" alt=\"Drawing\" style=\"width: 600px;\"/>"
   ]
  },
  {
   "cell_type": "markdown",
   "metadata": {},
   "source": [
    "## Minimum spanning trees"
   ]
  },
  {
   "cell_type": "markdown",
   "metadata": {},
   "source": [
    "A _minimum spanning tree_ of a network is given by a subset of edges that make the network connected ($n - 1$ edges connecting $n$ nodes). Its weighted version minimizes not only the number of edges included in the tree, but the total edge weight.\n",
    "\n",
    "In the following example we compute a minimum spanning tree minimizing the NPMI-based distance weight of the network edges."
   ]
  },
  {
   "cell_type": "code",
   "execution_count": 28,
   "metadata": {},
   "outputs": [],
   "source": [
    "tree = minimum_spanning_tree(paragraph_comention_network, weight=\"distance_npmi\")"
   ]
  },
  {
   "cell_type": "code",
   "execution_count": 29,
   "metadata": {},
   "outputs": [],
   "source": [
    "save_to_gephi(\n",
    "    tree, \"data/gephi_literature_spanning_tree\", \n",
    "    node_attr_mapping = {\n",
    "        \"degree_frequency\": \"Degree\",\n",
    "        \"pagerank_frequency\": \"PageRank\",\n",
    "        \"betweenness_distance_npmi\": \"Betweenness\",\n",
    "        \"community_npmi\": \"Community\"\n",
    "    },\n",
    "    edge_attr_mapping={\n",
    "        \"npmi\": \"Weight\"\n",
    "    })"
   ]
  },
  {
   "cell_type": "markdown",
   "metadata": {},
   "source": [
    "The representation of the network saved above can be imported into Gephi for producing graph visualizations, as in the following example:\n",
    "\n",
    "In the figures below colors represent communities detected using the NPMI weight, node sizes are proportional to the PageRank of nodes and edge thickness to the NPMI values.\n",
    "\n",
    "**Full network**\n",
    "<img src=\"./figures/literature/tree.png\" alt=\"Literature co-occurrence MST\" style=\"width: 400px;\"/>\n",
    "\n",
    "**Zoom into \"covid-19\"**\n",
    "<img src=\"./figures/literature/tree_covid-19.png\" alt=\"Drawing\" style=\"width: 700px;\"/>"
   ]
  },
  {
   "cell_type": "markdown",
   "metadata": {},
   "source": [
    "## Shortest path search"
   ]
  },
  {
   "cell_type": "markdown",
   "metadata": {},
   "source": [
    "The _shortest path search problem_ consisits in finding a sequence of edges from the source node to the target node that minimizes the cumulative weight (or distance) associated to the edges. "
   ]
  },
  {
   "cell_type": "code",
   "execution_count": 30,
   "metadata": {},
   "outputs": [
    {
     "name": "stdout",
     "output_type": "stream",
     "text": [
      "lung <->  <-> sars-cov-2\n",
      "         \n"
     ]
    }
   ],
   "source": [
    "path = single_shortest_path(paragraph_comention_network, \"lung\", \"sars-cov-2\")\n",
    "pretty_print_paths([path])"
   ]
  },
  {
   "cell_type": "markdown",
   "metadata": {},
   "source": [
    "The cell above illustrates that the single shortest path form 'lung' and 'sars-cov-2' consists of the direct edge between them.\n",
    "\n",
    "We adapt this problem to the literature exploration task, i.e. having fixed the source and the target concepts (the relation here is actually symmetric as the edges of our network are undirected), we would like to find a _set_ of $n$ shortest paths between them. Moreover, we would like these paths to be _indirect_ (not to include the direct edge from the source to the target). In the following examples we use mutual-information-based edge weights to perform our literature exploration. \n",
    "\n",
    "The library includes two strategies for finding such $n$ shortest paths. The first strategy uses Yen's algorithm for finding $n$ loopless shortest paths from the source to the target (https://en.wikipedia.org/wiki/Yen%27s_algorithm).\n"
   ]
  },
  {
   "cell_type": "code",
   "execution_count": 31,
   "metadata": {},
   "outputs": [],
   "source": [
    "paths = top_n_paths(\n",
    "    paragraph_comention_network, \"lung\", \"sars-cov-2\", n=10,\n",
    "    distance=\"distance_npmi\", strategy=\"yen\")"
   ]
  },
  {
   "cell_type": "code",
   "execution_count": 32,
   "metadata": {},
   "outputs": [
    {
     "name": "stdout",
     "output_type": "stream",
     "text": [
      "lung <->                                 <-> sars-cov-2\n",
      "         \n",
      "         acute lung injury\n",
      "         pulmonary\n",
      "         receptor binding\n",
      "         human\n",
      "         viral\n",
      "         angiotensin-converting enzyme 2\n",
      "         host cell\n",
      "         dna replication\n",
      "         acute lung injury <-> pulmonary\n"
     ]
    }
   ],
   "source": [
    "pretty_print_paths(paths)"
   ]
  },
  {
   "cell_type": "markdown",
   "metadata": {},
   "source": [
    "The second, _naive_, strategy is suitable in the scenarios when our networks are large and highly dense (then the performance of Yen's algorithm degragates as the number of edges is approaching $O(N^2)$ with $N$ being the number of nodes). \n",
    "\n",
    "This strategy simply finds _all_ the indirect shortest paths from the source to the target (in dense graphs the most common such paths are of length 2, i.e. `source <-> intermediary <-> target`, and therefore, the number of such path is roughly proportional to the number of nodes in the network). Then, the cumulative distance score is computed for every path and the top $n$ paths with the best score are selected."
   ]
  },
  {
   "cell_type": "code",
   "execution_count": 33,
   "metadata": {},
   "outputs": [],
   "source": [
    " paths = top_n_paths(\n",
    "    paragraph_comention_network, \"lung\", \"sars-cov-2\", n=10,\n",
    "    distance=\"distance_npmi\",\n",
    "    strategy=\"naive\")"
   ]
  },
  {
   "cell_type": "code",
   "execution_count": 34,
   "metadata": {},
   "outputs": [
    {
     "name": "stdout",
     "output_type": "stream",
     "text": [
      "lung <->                                 <-> sars-cov-2\n",
      "         acute lung injury\n",
      "         pulmonary\n",
      "         receptor binding\n",
      "         human\n",
      "         viral\n",
      "         angiotensin-converting enzyme 2\n",
      "         host cell\n",
      "         dna replication\n",
      "         human kidney organoids\n",
      "         myocardium\n"
     ]
    }
   ],
   "source": [
    "pretty_print_paths(paths)"
   ]
  },
  {
   "cell_type": "markdown",
   "metadata": {},
   "source": [
    "We can also look for shortest paths in the minimum spanning tree constructed using the mutual-information-based scores (there is exactly one such path)."
   ]
  },
  {
   "cell_type": "code",
   "execution_count": 35,
   "metadata": {},
   "outputs": [
    {
     "name": "stdout",
     "output_type": "stream",
     "text": [
      "lung <->                                                                                                          <-> sars-cov-2\n",
      "         acute lung injury <-> animal <-> mouse <-> human dpp4 <-> human immunodeficiency virus <-> coronaviridae\n"
     ]
    }
   ],
   "source": [
    "path = single_shortest_path(tree, \"lung\", \"sars-cov-2\")\n",
    "pretty_print_paths([path])"
   ]
  },
  {
   "cell_type": "markdown",
   "metadata": {},
   "source": [
    "The library provides an additional utility for finding _tripaths_, paths of the shape `source <-> intermediary <-> target`. Setting the parameter `intersecting` to `False` we can ensure that the entities the sets of entities discovered on the paths `source <-> intermediary` and `intermediary <-> target` do not overlap."
   ]
  },
  {
   "cell_type": "code",
   "execution_count": 36,
   "metadata": {},
   "outputs": [],
   "source": [
    "path_a_b, path_b_c =  top_n_tripaths(\n",
    "    paper_comention_network, \"lung\", \"glucose\", \"sars-cov-2\", 10,\n",
    "    strategy=\"yen\", distance=\"distance_npmi\", intersecting=False)"
   ]
  },
  {
   "cell_type": "code",
   "execution_count": 37,
   "metadata": {},
   "outputs": [
    {
     "name": "stdout",
     "output_type": "stream",
     "text": [
      "lung ->                 -> glucose ->                                                   -> sars-cov-2\n",
      "        blood                           hyperglycemia -> mouse\n",
      "        inflammation                    hyperglycemia -> viral\n",
      "        heart                           pneumonia\n",
      "        insulin                         infectious disorder\n",
      "        acute lung injury               hyperglycemia -> angiotensin ii receptor antagonist\n",
      "        cough                           hyperglycemia -> cytokine\n",
      "        kidney                          hyperglycemia -> influenza\n",
      "        liver                           hyperglycemia -> interleukin-8\n",
      "        oral cavity                     hyperglycemia -> plasma\n",
      "        survival                        hyperglycemia -> proliferation\n"
     ]
    }
   ],
   "source": [
    "pretty_print_tripaths(\"lung\", \"glucose\", \"sars-cov-2\", 10, path_a_b, path_b_c)"
   ]
  },
  {
   "cell_type": "markdown",
   "metadata": {},
   "source": [
    "## Nested path search"
   ]
  },
  {
   "cell_type": "markdown",
   "metadata": {},
   "source": [
    "To explore the space of co-occurring terms in depth, we can run the path search procedure presented above in a _nested fashion_. For each edge $e_1, e_2, ..., e_n$ encountered on a path from the source to the target  from, we can\n",
    "further expand it into $n$ shortest paths between each pair of successive entities (i.e. paths between $e_1$ and $e_2$, $e_2$ and $e_3$, etc.)."
   ]
  },
  {
   "cell_type": "code",
   "execution_count": 38,
   "metadata": {},
   "outputs": [],
   "source": [
    "paths = top_n_nested_paths(\n",
    "    paragraph_comention_network, \"lung\", \"glucose\",\n",
    "    n=10, nested_n=2, depth=2, distance=\"distance_npmi\",\n",
    "    strategy=\"naive\")"
   ]
  },
  {
   "cell_type": "code",
   "execution_count": 39,
   "metadata": {},
   "outputs": [
    {
     "name": "stdout",
     "output_type": "stream",
     "text": [
      "[('lung', 'serum', 'inflammation'), ('lung', 'interleukin 1 beta measurement', 'inflammation'), ('inflammation', 'thrombophilia', 'glucose'), ('inflammation', 'glucose metabolism disorder', 'glucose'), ('lung', 'viral infection', 'islet of langerhans'), ('lung', 'sars coronavirus', 'islet of langerhans'), ('islet of langerhans', 'hyperglycemia', 'glucose'), ('islet of langerhans', 'blood', 'glucose'), ('lung', 'acute lung injury', 'serum'), ('lung', 'animal', 'serum'), ('serum', 'glucose metabolism disorder', 'glucose'), ('serum', 'thrombophilia', 'glucose'), ('lung', 'survival', 'oral cavity'), ('lung', 'confounding factors', 'oral cavity'), ('oral cavity', 'blood', 'glucose'), ('oral cavity', 'insulin', 'glucose'), ('lung', 'survival', 'death'), ('lung', 'acute respiratory distress syndrome', 'death'), ('death', 'leukopenia', 'glucose'), ('death', 'troponin t, cardiac muscle', 'glucose'), ('lung', 'mouse', 'middle east respiratory syndrome'), ('lung', 'viral infection', 'middle east respiratory syndrome'), ('middle east respiratory syndrome', 'lymphocyte', 'glucose'), ('middle east respiratory syndrome', 'death', 'glucose'), ('lung', 'acute lung injury', 'neutrophil'), ('lung', 'animal', 'neutrophil'), ('neutrophil', 'millimole per liter', 'glucose'), ('neutrophil', 'lymphocyte', 'glucose'), ('lung', 'acute lung injury', 'chemokine'), ('lung', 'pulmonary', 'chemokine'), ('chemokine', 'glucose metabolism disorder', 'glucose'), ('chemokine', 'growth factor', 'glucose'), ('lung', 'pulmonary', 'sulfonylurea antidiabetic agent'), ('lung', 'survival', 'sulfonylurea antidiabetic agent'), ('sulfonylurea antidiabetic agent', 'blood', 'glucose'), ('sulfonylurea antidiabetic agent', 'oral cavity', 'glucose'), ('lung', 'lower respiratory tract infection', 'therapeutic corticosteroid'), ('lung', 'dna replication', 'therapeutic corticosteroid'), ('therapeutic corticosteroid', 'insulin', 'glucose'), ('therapeutic corticosteroid', 'oral cavity', 'glucose')]\n"
     ]
    }
   ],
   "source": [
    "print(paths)"
   ]
  },
  {
   "cell_type": "markdown",
   "metadata": {},
   "source": [
    "We can now visualize the subnetwork constructed using the nodes and the edges discovered during our nested path search."
   ]
  },
  {
   "cell_type": "code",
   "execution_count": 40,
   "metadata": {},
   "outputs": [],
   "source": [
    "summary_graph = graph_from_paths(paths, source_graph=paper_comention_network)"
   ]
  },
  {
   "cell_type": "code",
   "execution_count": 41,
   "metadata": {},
   "outputs": [
    {
     "name": "stdout",
     "output_type": "stream",
     "text": [
      "Number of nodes:  34\n",
      "Number of edges:  65\n"
     ]
    }
   ],
   "source": [
    "print(\"Number of nodes: \", summary_graph.number_of_nodes())\n",
    "print(\"Number of edges: \", summary_graph.number_of_edges())"
   ]
  },
  {
   "cell_type": "code",
   "execution_count": 42,
   "metadata": {},
   "outputs": [],
   "source": [
    "# Save the graph for Gephi import.\n",
    "save_to_gephi(\n",
    "    summary_graph, \"data/gephi_literature_path_graph\", \n",
    "    node_attr_mapping = {\n",
    "        \"degree_frequency\": \"Degree\",\n",
    "        \"pagerank_frequency\": \"PageRank\",\n",
    "        \"betweenness_distance_npmi\": \"Betweenness\",\n",
    "        \"community_npmi\": \"Community\"\n",
    "    },\n",
    "    edge_attr_mapping={\n",
    "        \"npmi\": \"Weight\"\n",
    "    })"
   ]
  },
  {
   "cell_type": "markdown",
   "metadata": {},
   "source": [
    "The resulting graph visualized with Gephi\n",
    "<img src=\"./figures/literature/path_graph.png\" alt=\"Literature co-occurrence network\" style=\"width: 800px;\"/>"
   ]
  }
 ],
 "metadata": {
  "kernelspec": {
   "display_name": "bbg",
   "language": "python",
   "name": "bbg"
  },
  "language_info": {
   "codemirror_mode": {
    "name": "ipython",
    "version": 3
   },
   "file_extension": ".py",
   "mimetype": "text/x-python",
   "name": "python",
   "nbconvert_exporter": "python",
   "pygments_lexer": "ipython3",
   "version": "3.8.6"
  }
 },
 "nbformat": 4,
 "nbformat_minor": 4
}
