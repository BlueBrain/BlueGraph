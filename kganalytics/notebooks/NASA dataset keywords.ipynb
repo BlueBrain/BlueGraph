{
 "cells": [
  {
   "cell_type": "markdown",
   "metadata": {},
   "source": [
    "# NASA dataset keywords analysis\n",
    "\n",
    "In this notebook we use network-based co-occurrence analysis on the publicly available Data catalog of NASA (https://data.nasa.gov/browse, and the API endpoint https://data.nasa.gov/data.json). This dataset consists of the meta-data for different NASA datasets. \n",
    "\n",
    "We will work on the sets of keywords attached to each dataset and build a keyword co-occurrence network describing relations between different dataset keywords. The keyword relations in the above-mentioned networks are quantified using mutual-information-based scores (pointwise mutual information and its normalized version).\n",
    "\n",
    "See the related tutorial here: https://www.tidytextmining.com/nasa.html"
   ]
  },
  {
   "cell_type": "code",
   "execution_count": 1,
   "metadata": {},
   "outputs": [],
   "source": [
    "import json\n",
    "import pandas as pd\n",
    "import networkx as nx"
   ]
  },
  {
   "cell_type": "code",
   "execution_count": 2,
   "metadata": {},
   "outputs": [],
   "source": [
    "from kganalytics.network_generation import generate_cooccurrence_network\n",
    "\n",
    "from kganalytics.metrics import (compute_degree_centrality,\n",
    "                               compute_pagerank_centrality,\n",
    "                               compute_betweenness_centrality,\n",
    "                               detect_communities,\n",
    "                               compute_all_metrics)\n",
    "from kganalytics.export import (save_network,\n",
    "                              save_to_gephi)\n",
    "from kganalytics.paths import (minimum_spanning_tree,\n",
    "                             top_n_paths,\n",
    "                             top_n_tripaths,\n",
    "                             single_shortest_path,\n",
    "                             top_n_nested_paths,\n",
    "                             graph_from_paths,\n",
    "                             pretty_print_paths,\n",
    "                             pretty_print_tripaths,\n",
    "                             top_neighbors)\n",
    "from kganalytics.utils import subgraph_by_types"
   ]
  },
  {
   "cell_type": "markdown",
   "metadata": {},
   "source": [
    "## Data preparation"
   ]
  },
  {
   "cell_type": "code",
   "execution_count": 3,
   "metadata": {},
   "outputs": [],
   "source": [
    "with open(\"data/nasa.json\", \"r\") as f:\n",
    "    data = json.load(f)"
   ]
  },
  {
   "cell_type": "code",
   "execution_count": 4,
   "metadata": {},
   "outputs": [
    {
     "name": "stdout",
     "output_type": "stream",
     "text": [
      "Example dataset: \n",
      "----------------\n",
      "{\n",
      "   \"accessLevel\": \"public\",\n",
      "   \"landingPage\": \"https://pds.nasa.gov/ds-view/pds/viewDataset.jsp?dsid=RO-E-RPCMAG-2-EAR2-RAW-V3.0\",\n",
      "   \"bureauCode\": [\n",
      "      \"026:00\"\n",
      "   ],\n",
      "   \"issued\": \"2018-06-26\",\n",
      "   \"@type\": \"dcat:Dataset\",\n",
      "   \"modified\": \"2020-03-04\",\n",
      "   \"references\": [\n",
      "      \"https://pds.nasa.gov\"\n",
      "   ],\n",
      "   \"keyword\": [\n",
      "      \"international rosetta mission\",\n",
      "      \"earth\",\n",
      "      \"unknown\"\n",
      "   ],\n",
      "   \"contactPoint\": {\n",
      "      \"@type\": \"vcard:Contact\",\n",
      "      \"fn\": \"Thomas Morgan\",\n",
      "      \"hasEmail\": \"mailto:thomas.h.morgan@nasa.gov\"\n",
      "   },\n",
      "   \"publisher\": {\n",
      "      \"@type\": \"org:Organization\",\n",
      "      \"name\": \"National Aeronautics and Space Administration\"\n",
      "   },\n",
      "   \"identifier\": \"urn:nasa:pds:context_pds3:data_set:data_set.ro-e-rpcmag-2-ear2-raw-v3.0\",\n",
      "   \"description\": \"This dataset contains EDITED RAW DATA of the second Earth Flyby (EAR2). The closest approach (CA) took place on November 13, 2007 at 20:57\",\n",
      "   \"title\": \"ROSETTA-ORBITER EARTH RPCMAG 2 EAR2 RAW V3.0\",\n",
      "   \"programCode\": [\n",
      "      \"026:005\"\n",
      "   ],\n",
      "   \"distribution\": [\n",
      "      {\n",
      "         \"@type\": \"dcat:Distribution\",\n",
      "         \"downloadURL\": \"https://www.socrata.com\",\n",
      "         \"mediaType\": \"text/html\"\n",
      "      }\n",
      "   ],\n",
      "   \"accrualPeriodicity\": \"irregular\",\n",
      "   \"theme\": [\n",
      "      \"Earth Science\"\n",
      "   ]\n",
      "}\n",
      "\n",
      "Keywords:  ['international rosetta mission', 'earth', 'unknown']\n"
     ]
    }
   ],
   "source": [
    "print(\"Example dataset: \")\n",
    "print(\"----------------\")\n",
    "print(json.dumps(data[\"dataset\"][0], indent=\"   \"))\n",
    "\n",
    "print()\n",
    "print(\"Keywords: \", data[\"dataset\"][0][\"keyword\"])"
   ]
  },
  {
   "cell_type": "markdown",
   "metadata": {},
   "source": [
    "We create a dataframe with keyword occurrence in different datasets"
   ]
  },
  {
   "cell_type": "code",
   "execution_count": 5,
   "metadata": {},
   "outputs": [],
   "source": [
    "rows = []\n",
    "for el in data['dataset']:\n",
    "    row = [el[\"identifier\"]]\n",
    "    if \"keyword\" in el:\n",
    "        for k in el[\"keyword\"]:\n",
    "            rows.append(row + [k])\n",
    "keyword_data = pd.DataFrame(rows, columns=[\"dataset\", \"keyword\"])"
   ]
  },
  {
   "cell_type": "code",
   "execution_count": 6,
   "metadata": {},
   "outputs": [
    {
     "data": {
      "text/html": [
       "<div>\n",
       "<style scoped>\n",
       "    .dataframe tbody tr th:only-of-type {\n",
       "        vertical-align: middle;\n",
       "    }\n",
       "\n",
       "    .dataframe tbody tr th {\n",
       "        vertical-align: top;\n",
       "    }\n",
       "\n",
       "    .dataframe thead th {\n",
       "        text-align: right;\n",
       "    }\n",
       "</style>\n",
       "<table border=\"1\" class=\"dataframe\">\n",
       "  <thead>\n",
       "    <tr style=\"text-align: right;\">\n",
       "      <th></th>\n",
       "      <th>dataset</th>\n",
       "      <th>keyword</th>\n",
       "    </tr>\n",
       "  </thead>\n",
       "  <tbody>\n",
       "    <tr>\n",
       "      <th>0</th>\n",
       "      <td>urn:nasa:pds:context_pds3:data_set:data_set.ro...</td>\n",
       "      <td>international rosetta mission</td>\n",
       "    </tr>\n",
       "    <tr>\n",
       "      <th>1</th>\n",
       "      <td>urn:nasa:pds:context_pds3:data_set:data_set.ro...</td>\n",
       "      <td>earth</td>\n",
       "    </tr>\n",
       "    <tr>\n",
       "      <th>2</th>\n",
       "      <td>urn:nasa:pds:context_pds3:data_set:data_set.ro...</td>\n",
       "      <td>unknown</td>\n",
       "    </tr>\n",
       "    <tr>\n",
       "      <th>3</th>\n",
       "      <td>C1973352326-GHRC_CLOUD</td>\n",
       "      <td>earth science</td>\n",
       "    </tr>\n",
       "    <tr>\n",
       "      <th>4</th>\n",
       "      <td>C1973352326-GHRC_CLOUD</td>\n",
       "      <td>atmosphere</td>\n",
       "    </tr>\n",
       "    <tr>\n",
       "      <th>...</th>\n",
       "      <td>...</td>\n",
       "      <td>...</td>\n",
       "    </tr>\n",
       "    <tr>\n",
       "      <th>110742</th>\n",
       "      <td>NASA-877__2</td>\n",
       "      <td>apollo</td>\n",
       "    </tr>\n",
       "    <tr>\n",
       "      <th>110743</th>\n",
       "      <td>NASA-877__2</td>\n",
       "      <td>catalog</td>\n",
       "    </tr>\n",
       "    <tr>\n",
       "      <th>110744</th>\n",
       "      <td>NASA-877__2</td>\n",
       "      <td>lunar</td>\n",
       "    </tr>\n",
       "    <tr>\n",
       "      <th>110745</th>\n",
       "      <td>TECHPORT_94299</td>\n",
       "      <td>active</td>\n",
       "    </tr>\n",
       "    <tr>\n",
       "      <th>110746</th>\n",
       "      <td>TECHPORT_94299</td>\n",
       "      <td>trustees of the colorado school of mines</td>\n",
       "    </tr>\n",
       "  </tbody>\n",
       "</table>\n",
       "<p>110747 rows × 2 columns</p>\n",
       "</div>"
      ],
      "text/plain": [
       "                                                  dataset  \\\n",
       "0       urn:nasa:pds:context_pds3:data_set:data_set.ro...   \n",
       "1       urn:nasa:pds:context_pds3:data_set:data_set.ro...   \n",
       "2       urn:nasa:pds:context_pds3:data_set:data_set.ro...   \n",
       "3                                  C1973352326-GHRC_CLOUD   \n",
       "4                                  C1973352326-GHRC_CLOUD   \n",
       "...                                                   ...   \n",
       "110742                                        NASA-877__2   \n",
       "110743                                        NASA-877__2   \n",
       "110744                                        NASA-877__2   \n",
       "110745                                     TECHPORT_94299   \n",
       "110746                                     TECHPORT_94299   \n",
       "\n",
       "                                         keyword  \n",
       "0                  international rosetta mission  \n",
       "1                                          earth  \n",
       "2                                        unknown  \n",
       "3                                  earth science  \n",
       "4                                     atmosphere  \n",
       "...                                          ...  \n",
       "110742                                    apollo  \n",
       "110743                                   catalog  \n",
       "110744                                     lunar  \n",
       "110745                                    active  \n",
       "110746  trustees of the colorado school of mines  \n",
       "\n",
       "[110747 rows x 2 columns]"
      ]
     },
     "execution_count": 6,
     "metadata": {},
     "output_type": "execute_result"
    }
   ],
   "source": [
    "keyword_data"
   ]
  },
  {
   "cell_type": "code",
   "execution_count": 7,
   "metadata": {},
   "outputs": [],
   "source": [
    "keyword_occurrence = keyword_data.groupby(\"keyword\").aggregate(set)"
   ]
  },
  {
   "cell_type": "code",
   "execution_count": 8,
   "metadata": {},
   "outputs": [],
   "source": [
    "keyword_occurrence[\"frequency\"] = keyword_occurrence.dataset.apply(len)"
   ]
  },
  {
   "cell_type": "code",
   "execution_count": 9,
   "metadata": {},
   "outputs": [
    {
     "name": "stdout",
     "output_type": "stream",
     "text": [
      "20 most frequent keywords:\n",
      "\n",
      "\t completed\n",
      "\t earth science\n",
      "\t atmosphere\n",
      "\t national geospatial data asset\n",
      "\t ngda\n",
      "\t active\n",
      "\t land surface\n",
      "\t oceans\n",
      "\t goddard space flight center\n",
      "\t glenn research center\n",
      "\t langley research center\n",
      "\t spectral/engineering\n",
      "\t jet propulsion laboratory\n",
      "\t ames research center\n",
      "\t johnson space center\n",
      "\t biosphere\n",
      "\t atmospheric water vapor\n",
      "\t atmospheric radiation\n",
      "\t marshall space flight center\n",
      "\t atmospheric temperature\n"
     ]
    }
   ],
   "source": [
    "print(\"20 most frequent keywords:\\n\")\n",
    "for k in keyword_occurrence.nlargest(20, \"frequency\").index:\n",
    "    print(\"\\t\", k)"
   ]
  },
  {
   "cell_type": "code",
   "execution_count": 10,
   "metadata": {},
   "outputs": [],
   "source": [
    "n_datasets = len(keyword_data.dataset.unique())"
   ]
  },
  {
   "cell_type": "code",
   "execution_count": 11,
   "metadata": {},
   "outputs": [
    {
     "name": "stdout",
     "output_type": "stream",
     "text": [
      "Total number of dataset:  25379\n"
     ]
    }
   ],
   "source": [
    "print(\"Total number of dataset: \", n_datasets)"
   ]
  },
  {
   "cell_type": "markdown",
   "metadata": {},
   "source": [
    "We create a co-occurrence network using the 1000 most frequent keywords: nodes are keywords and a pair of nodes is connected with an undirected edge if two corresponding keywords co-occur in at lease one dataset. Moreover, the edges are equipped with weights corresponding to:\n",
    "\n",
    "- raw co-occurrence frequency\n",
    "- normalized pointwise mutual information (NPMI)\n",
    "- frequency- and mutual-information-based distances (1 / frequency, 1 / NPMI)"
   ]
  },
  {
   "cell_type": "markdown",
   "metadata": {},
   "source": [
    "## Network generation"
   ]
  },
  {
   "cell_type": "code",
   "execution_count": 12,
   "metadata": {},
   "outputs": [
    {
     "name": "stdout",
     "output_type": "stream",
     "text": [
      "Fitering data.....\n",
      "Selected 1000 most frequent terms\n",
      "Examining 499500 pairs of terms for co-occurrence...\n",
      "Generated 55442 edges                    \n",
      "Created a co-occurrence graph:\n",
      "\tnumber of nodes:  1000\n",
      "\tnumber of edges:  55442\n",
      "Saving the edges...\n",
      "Creating a graph object...\n"
     ]
    }
   ],
   "source": [
    "comention_network = generate_cooccurrence_network(\n",
    "    keyword_occurrence, \"dataset\", n_datasets,\n",
    "    n_most_frequent=1000,\n",
    "    parallelize=True)"
   ]
  },
  {
   "cell_type": "code",
   "execution_count": 13,
   "metadata": {},
   "outputs": [
    {
     "name": "stdout",
     "output_type": "stream",
     "text": [
      "Density of the constructed network:  0.11099499499499499\n"
     ]
    }
   ],
   "source": [
    "print(\"Density of the constructed network: \", nx.density(comention_network))"
   ]
  },
  {
   "cell_type": "markdown",
   "metadata": {},
   "source": [
    "## Nearest neighours by NPMI"
   ]
  },
  {
   "cell_type": "markdown",
   "metadata": {},
   "source": [
    "We can compute top 10 neighbors of the keywords 'mars' and 'saturn' by the highest NPMI."
   ]
  },
  {
   "cell_type": "code",
   "execution_count": 14,
   "metadata": {},
   "outputs": [
    {
     "data": {
      "text/plain": [
       "{'mars exploration rover': 0.7728438202168381,\n",
       " 'phoenix': 0.6460357628160349,\n",
       " 'mars science laboratory': 0.63469604531258,\n",
       " '2001 mars odyssey': 0.5894573604880277,\n",
       " 'mars global surveyor': 0.5748151339080378,\n",
       " 'mars reconnaissance orbiter': 0.5545541611495696,\n",
       " 'viking': 0.5482308663606784,\n",
       " 'mars pathfinder': 0.5215265293101519,\n",
       " 'mars express': 0.5144439736810263,\n",
       " 'phobos': 0.4919182437892427}"
      ]
     },
     "execution_count": 14,
     "metadata": {},
     "output_type": "execute_result"
    }
   ],
   "source": [
    "top_neighbors(comention_network, \"mars\", 10, weight=\"npmi\")"
   ]
  },
  {
   "cell_type": "code",
   "execution_count": 15,
   "metadata": {},
   "outputs": [
    {
     "data": {
      "text/plain": [
       "{'iapetus': 0.750756546067034,\n",
       " 'tethys': 0.7500852737948767,\n",
       " 'mimas': 0.7475544979182485,\n",
       " 'phoebe': 0.7452819643004637,\n",
       " 'rhea': 0.7447845472216457,\n",
       " 'dione': 0.7420242607102145,\n",
       " 'cassini-huygens': 0.7415350493617368,\n",
       " 'enceladus': 0.734155283618827,\n",
       " 'hyperion': 0.7340306290661932,\n",
       " 'janus': 0.7138228927549277}"
      ]
     },
     "execution_count": 15,
     "metadata": {},
     "output_type": "execute_result"
    }
   ],
   "source": [
    "top_neighbors(comention_network, \"saturn\", 10, weight=\"npmi\")"
   ]
  },
  {
   "cell_type": "markdown",
   "metadata": {},
   "source": [
    "## Node centrality measures"
   ]
  },
  {
   "cell_type": "markdown",
   "metadata": {},
   "source": [
    "We compute various centrality metrics (degree, PageRank, betweenness) to find the most important keywords accross the entire data corpus."
   ]
  },
  {
   "cell_type": "code",
   "execution_count": 16,
   "metadata": {},
   "outputs": [
    {
     "name": "stdout",
     "output_type": "stream",
     "text": [
      "Top n nodes by frequency:\n",
      "\tearth science (37219)\n",
      "\tatmosphere (18258)\n",
      "\tnational geospatial data asset (16742)\n",
      "\tngda (16742)\n",
      "\tland surface (12152)\n",
      "\toceans (9404)\n",
      "\tcompleted (8786)\n",
      "\tatmospheric water vapor (8248)\n",
      "\tatmospheric temperature (7480)\n",
      "\tatmospheric radiation (7402)\n",
      "\tbiosphere (7057)\n",
      "\tspectral/engineering (6245)\n",
      "\tprecipitation (5923)\n",
      "\tclouds (5394)\n",
      "\tatmospheric chemistry (4962)\n",
      "\tocean temperature (4914)\n",
      "\tvegetation (4684)\n",
      "\tatmospheric pressure (4471)\n",
      "\tterrestrial hydrosphere (4244)\n",
      "\tcryosphere (4222)\n",
      "\n"
     ]
    }
   ],
   "source": [
    "_ = compute_degree_centrality(comention_network, [\"frequency\"], 20)"
   ]
  },
  {
   "cell_type": "code",
   "execution_count": 17,
   "metadata": {},
   "outputs": [
    {
     "name": "stdout",
     "output_type": "stream",
     "text": [
      "Top n nodes by frequency:\n",
      "\tearth science (0.02)\n",
      "\tcompleted (0.02)\n",
      "\tatmosphere (0.01)\n",
      "\tactive (0.01)\n",
      "\tnational geospatial data asset (0.01)\n",
      "\tngda (0.01)\n",
      "\tpds (0.01)\n",
      "\tland surface (0.01)\n",
      "\tspice (0.00)\n",
      "\toceans (0.00)\n",
      "\tlabeling (0.00)\n",
      "\tspace science (0.00)\n",
      "\tjupiter (0.00)\n",
      "\tcalibration (0.00)\n",
      "\tmars (0.00)\n",
      "\tearth (0.00)\n",
      "\tatmospheric water vapor (0.00)\n",
      "\tbiosphere (0.00)\n",
      "\tsaturn (0.00)\n",
      "\tspectral/engineering (0.00)\n",
      "\n"
     ]
    }
   ],
   "source": [
    "_ = compute_pagerank_centrality(comention_network, [\"frequency\"], 20)"
   ]
  },
  {
   "cell_type": "code",
   "execution_count": 18,
   "metadata": {},
   "outputs": [
    {
     "name": "stdout",
     "output_type": "stream",
     "text": [
      "Top n nodes by distance_npmi:\n",
      "\t10199 chariklo (0.12936249542795972)\n",
      "\tnix (0.0777490917771479)\n",
      "\tida (0.07718941386276056)\n",
      "\tceres (0.07389353281136848)\n",
      "\tplanetary science (0.07308510915725344)\n",
      "\tproject (0.07044118266563157)\n",
      "\tatlas (0.0632516283818889)\n",
      "\tsafety (0.06299485858604095)\n",
      "\tmanagement (0.059841404530783286)\n",
      "\tactive (0.05961472494538627)\n",
      "\tstar (0.054409118537375054)\n",
      "\timagery (0.054409118537375054)\n",
      "\tiss (0.051807318340384476)\n",
      "\toperations (0.04893570925635054)\n",
      "\tspace (0.048007927767446806)\n",
      "\ttime (0.04567092142242443)\n",
      "\tworking group for planetary system nomenclature (0.044734112870385416)\n",
      "\tastronomy (0.044442237829011376)\n",
      "\t2p/encke 1 (1818 w1) (0.044327895029297834)\n",
      "\tgsfc (0.044102218450915845)\n",
      "\n"
     ]
    }
   ],
   "source": [
    "_ = compute_betweenness_centrality(\n",
    "    comention_network, [\"distance_npmi\"], 20)"
   ]
  },
  {
   "cell_type": "markdown",
   "metadata": {},
   "source": [
    "## Community detection"
   ]
  },
  {
   "cell_type": "markdown",
   "metadata": {},
   "source": [
    "We perform community detection to identify clusters of densely connected nodes (keywords representing strongly associated concepts). Such community detection is performed using two different edge weights: raw frequency and NPMI."
   ]
  },
  {
   "cell_type": "code",
   "execution_count": 19,
   "metadata": {},
   "outputs": [
    {
     "name": "stdout",
     "output_type": "stream",
     "text": [
      "Detecting communities...\n",
      "Best network partition:\n",
      "\t Number of communities: 13\n",
      "\t Modularity: 0.6383457625721062\n",
      "Detecting communities...\n",
      "Best network partition:\n",
      "\t Number of communities: 7\n",
      "\t Modularity: 0.16918879059464034\n"
     ]
    }
   ],
   "source": [
    "_ = detect_communities(comention_network, weight=\"frequency\", set_attr=\"community\")\n",
    "_ = detect_communities(comention_network, weight=\"npmi\", set_attr=\"community_npmi\")"
   ]
  },
  {
   "cell_type": "markdown",
   "metadata": {},
   "source": [
    "The output of the cell above suggest that, in our example, the community separation is better when using the raw frequency rather than NPMI (as the modularity value is higher)."
   ]
  },
  {
   "cell_type": "markdown",
   "metadata": {},
   "source": [
    "Save the graph for Gephi import."
   ]
  },
  {
   "cell_type": "code",
   "execution_count": 20,
   "metadata": {},
   "outputs": [],
   "source": [
    "save_to_gephi(\n",
    "    comention_network, \"data/gephi_nasa_comention\", \n",
    "    node_attr_mapping = {\n",
    "        \"degree_frequency\": \"Degree\",\n",
    "        \"pagerank_frequency\": \"PageRank\",\n",
    "        \"betweenness_distance_npmi\": \"Betweenness\",\n",
    "        \"community\": \"Community\"\n",
    "    },\n",
    "    edge_attr_mapping={\n",
    "        \"npmi\": \"Weight\"\n",
    "    })"
   ]
  },
  {
   "cell_type": "markdown",
   "metadata": {},
   "source": [
    "The representation of the network saved above can be imported into Gephi for producing graph visualizations, as in the following example:\n",
    "\n",
    "In the figures below colors represent communities detected using the raw frequency of the co-occurrence edges, node sizes are proportional to the PageRank of nodes and edge thickness to the NPMI values.\n",
    "\n",
    "![alt text](./figures/nasa/full_network.png \"NASA dataset keywords co-occurrence network\")\n",
    "\n",
    "We can zoom into some of the communities of keywords identified using the community detection method above\n",
    "\n",
    "Community | Zoom\n",
    "- | - \n",
    "Celestial bodies <img src=\"./figures/nasa/celestial_body_cluster.png\" alt=\"Drawing\" style=\"width: 400px;\"/>|<img src=\"./figures/nasa/celestial_body_cluster_zoom.png\" alt=\"Drawing\" style=\"width: 400px;\"/>\n",
    "Earth science <img src=\"./figures/nasa/earth_science.png\" alt=\"Drawing\" style=\"width: 400px;\"/>|<img src=\"./figures/nasa/earch_science_zoom.png\" alt=\"Drawing\" style=\"width: 400px;\"/>\n",
    "Space programs and missions <img src=\"./figures/nasa/programs_missions.png\" alt=\"Drawing\" style=\"width: 400px;\"/>|<img src=\"./figures/nasa/programs_missions_zoom.png\" alt=\"Drawing\" style=\"width: 400px;\"/>"
   ]
  },
  {
   "cell_type": "markdown",
   "metadata": {},
   "source": [
    "## Minimum spanning tree"
   ]
  },
  {
   "cell_type": "markdown",
   "metadata": {},
   "source": [
    "A _minimum spanning tree_ of a network is given by a subset of edges that make the network connected ($n - 1$ edges connecting $n$ nodes). Its weighted version minimizes not only the number of edges included in the tree, but the total edge weight.\n",
    "\n",
    "In the following example we compute a minimum spanning tree minimizing the NPMI-based distance weight of the network edges."
   ]
  },
  {
   "cell_type": "code",
   "execution_count": 21,
   "metadata": {},
   "outputs": [],
   "source": [
    "tree = minimum_spanning_tree(comention_network, weight=\"distance_npmi\")"
   ]
  },
  {
   "cell_type": "code",
   "execution_count": 22,
   "metadata": {},
   "outputs": [],
   "source": [
    "save_to_gephi(\n",
    "    tree, \"data/gephi_nasa_spanning_tree\", \n",
    "    node_attr_mapping = {\n",
    "        \"degree_frequency\": \"Degree\",\n",
    "        \"pagerank_frequency\": \"PageRank\",\n",
    "        \"betweenness_distance_npmi\": \"Betweenness\",\n",
    "        \"community\": \"Community\"\n",
    "    },\n",
    "    edge_attr_mapping={\n",
    "        \"npmi\": \"Weight\"\n",
    "    })"
   ]
  },
  {
   "cell_type": "markdown",
   "metadata": {},
   "source": [
    "![alt text](./figures/nasa/tree.png \"Minimum spanning tree\")\n",
    "\n",
    "Zoom Earth Science | Zoom Asteroids\n",
    "-|-\n",
    "![alt text](./figures/nasa/tree_zoom_1.png \"Minimum spanning tree\")|![alt text](./figures/nasa/tree_zoom_2.png \"Minimum spanning tree\")\n"
   ]
  },
  {
   "cell_type": "markdown",
   "metadata": {},
   "source": [
    "## Shortest path search"
   ]
  },
  {
   "cell_type": "markdown",
   "metadata": {},
   "source": [
    "The _shortest path search problem_ consisits in finding a sequence of edges from the source node to the target node that minimizes the cumulative weight (or distance) associated to the edges. "
   ]
  },
  {
   "cell_type": "code",
   "execution_count": 23,
   "metadata": {
    "scrolled": true
   },
   "outputs": [
    {
     "name": "stdout",
     "output_type": "stream",
     "text": [
      "ecosystems <->  <-> oceans\n",
      "               \n"
     ]
    }
   ],
   "source": [
    "path = single_shortest_path(comention_network, \"ecosystems\", \"oceans\")\n",
    "pretty_print_paths([path])"
   ]
  },
  {
   "cell_type": "markdown",
   "metadata": {},
   "source": [
    "The cell above illustrates that the single shortest path form 'ecosystems' and 'oceans' consists of the direct edge between them.\n",
    "\n",
    "Now to explore related keywords we would like to find a _set_ of $n$ shortest paths between them. Moreover, we would like these paths to be _indirect_ (not to include the direct edge from the source to the target). In the following examples we use mutual-information-based edge weights to perform our literature exploration. \n",
    "\n",
    "In the following examples we use Yen's algorithm for finding $n$ loopless shortest paths from the source to the target (https://en.wikipedia.org/wiki/Yen%27s_algorithm)."
   ]
  },
  {
   "cell_type": "code",
   "execution_count": 24,
   "metadata": {},
   "outputs": [],
   "source": [
    "paths = top_n_paths(\n",
    "    comention_network, \"ecosystems\", \"oceans\", n=10,\n",
    "    distance=\"distance_npmi\",\n",
    "    strategy=\"yen\")"
   ]
  },
  {
   "cell_type": "code",
   "execution_count": 25,
   "metadata": {},
   "outputs": [
    {
     "name": "stdout",
     "output_type": "stream",
     "text": [
      "ecosystems <->                                                      <-> oceans\n",
      "               geomorphic landforms/processes\n",
      "               aquatic ecosystems\n",
      "               biosphere <-> coastal processes\n",
      "               biosphere <-> ocean waves\n",
      "               biosphere <-> terrestrial ecosystems\n",
      "               geomorphic landforms/processes <-> coastal processes\n",
      "               bathymetry/seafloor topography\n",
      "               geomorphic landforms/processes <-> ocean winds\n",
      "               geomorphic landforms/processes <-> ocean waves\n",
      "               aquatic ecosystems <-> ocean optics\n"
     ]
    }
   ],
   "source": [
    "pretty_print_paths(paths)"
   ]
  },
  {
   "cell_type": "code",
   "execution_count": 26,
   "metadata": {},
   "outputs": [],
   "source": [
    "paths = top_n_paths(\n",
    "    comention_network, \"mission\", \"mars\", n=10,\n",
    "    distance=\"distance_npmi\",\n",
    "    strategy=\"yen\")"
   ]
  },
  {
   "cell_type": "code",
   "execution_count": 27,
   "metadata": {},
   "outputs": [
    {
     "name": "stdout",
     "output_type": "stream",
     "text": [
      "mission <->                                                         <-> mars\n",
      "            pegasus <-> mars reconnaissance orbiter\n",
      "            pegasus <-> phoenix\n",
      "            delta <-> mars reconnaissance orbiter\n",
      "            earth's bridge to space <-> mars reconnaissance orbiter\n",
      "            vehicle <-> mars reconnaissance orbiter\n",
      "            mars reconnaissance orbiter\n",
      "            history <-> mars reconnaissance orbiter\n",
      "            support <-> mars reconnaissance orbiter\n",
      "            landing <-> mars reconnaissance orbiter\n",
      "            delta <-> phoenix\n"
     ]
    }
   ],
   "source": [
    "pretty_print_paths(paths)"
   ]
  },
  {
   "cell_type": "markdown",
   "metadata": {},
   "source": [
    "## Nested path search"
   ]
  },
  {
   "cell_type": "markdown",
   "metadata": {},
   "source": [
    "To explore the space of co-occurring terms in depth, we can run the path search procedure presented above in a _nested fashion_. For each edge $e_1, e_2, ..., e_n$ encountered on a path from the source to the target  from, we can\n",
    "further expand it into $n$ shortest paths between each pair of successive entities (i.e. paths between $e_1$ and $e_2$, $e_2$ and $e_3$, etc.)."
   ]
  },
  {
   "cell_type": "code",
   "execution_count": 28,
   "metadata": {},
   "outputs": [],
   "source": [
    "paths1 = top_n_nested_paths(\n",
    "    comention_network, \"ecosystems\", \"oceans\",\n",
    "    n=10, nested_n=3, depth=2, distance=\"distance_npmi\",\n",
    "    strategy=\"naive\")"
   ]
  },
  {
   "cell_type": "code",
   "execution_count": 29,
   "metadata": {},
   "outputs": [],
   "source": [
    "paths2 = top_n_nested_paths(\n",
    "    comention_network, \"mission\", \"mars\",\n",
    "    n=10, nested_n=3, depth=2, distance=\"distance_npmi\",\n",
    "    strategy=\"naive\")"
   ]
  },
  {
   "cell_type": "markdown",
   "metadata": {},
   "source": [
    "We can now build and visualize the subnetwork constructed using the nodes and the edges discovered during our nested path search."
   ]
  },
  {
   "cell_type": "code",
   "execution_count": 30,
   "metadata": {},
   "outputs": [],
   "source": [
    "summary_graph1 = graph_from_paths(paths1, source_graph=comention_network)\n",
    "summary_graph2 = graph_from_paths(paths2, source_graph=comention_network)"
   ]
  },
  {
   "cell_type": "code",
   "execution_count": 31,
   "metadata": {},
   "outputs": [],
   "source": [
    "# Save the graph for Gephi import.\n",
    "save_to_gephi(\n",
    "    summary_graph1, \"data/gephi_nasa_path_graph_oceans\", \n",
    "    node_attr_mapping = {\n",
    "        \"degree_frequency\": \"Degree\",\n",
    "        \"pagerank_frequency\": \"PageRank\",\n",
    "        \"betweenness_distance_npmi\": \"Betweenness\",\n",
    "        \"community_npmi\": \"Community\"\n",
    "    },\n",
    "    edge_attr_mapping={\n",
    "        \"npmi\": \"Weight\"\n",
    "    })\n",
    "# Save the graph for Gephi import.\n",
    "save_to_gephi(\n",
    "    summary_graph2, \"data/gephi_nasa_path_graph_mission\", \n",
    "    node_attr_mapping = {\n",
    "        \"degree_frequency\": \"Degree\",\n",
    "        \"pagerank_frequency\": \"PageRank\",\n",
    "        \"betweenness_distance_npmi\": \"Betweenness\",\n",
    "        \"community_npmi\": \"Community\"\n",
    "    },\n",
    "    edge_attr_mapping={\n",
    "        \"npmi\": \"Weight\"\n",
    "    })"
   ]
  },
  {
   "cell_type": "markdown",
   "metadata": {},
   "source": [
    "The resulting graphs visualized with Gephi\n",
    "\n",
    "Ecosystems <-> Oceans\n",
    "<img src=\"./figures/nasa/path_graph_ocean.png\" alt=\"NASA path graph\" style=\"width: 800px;\"/>\n",
    "\n",
    " Mission <-> Mars\n",
    "<img src=\"./figures/nasa/path_graph_mars.png\" alt=\"NASA path graph\" style=\"width: 800px;\"/>"
   ]
  }
 ],
 "metadata": {
  "kernelspec": {
   "display_name": "bbg",
   "language": "python",
   "name": "bbg"
  },
  "language_info": {
   "codemirror_mode": {
    "name": "ipython",
    "version": 3
   },
   "file_extension": ".py",
   "mimetype": "text/x-python",
   "name": "python",
   "nbconvert_exporter": "python",
   "pygments_lexer": "ipython3",
   "version": "3.8.6"
  }
 },
 "nbformat": 4,
 "nbformat_minor": 4
}
