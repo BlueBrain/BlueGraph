{
 "cells": [
  {
   "cell_type": "markdown",
   "metadata": {},
   "source": [
    "# NASA dataset keywords analysis\n",
    "\n",
    "https://www.tidytextmining.com/nasa.html"
   ]
  },
  {
   "cell_type": "code",
   "execution_count": 72,
   "metadata": {},
   "outputs": [],
   "source": [
    "import json\n",
    "import pandas as pd\n",
    "import networkx as nx"
   ]
  },
  {
   "cell_type": "code",
   "execution_count": 64,
   "metadata": {},
   "outputs": [],
   "source": [
    "from kganalytics.network_generation import generate_cooccurrence_network\n",
    "\n",
    "from kganalytics.metrics import (compute_degree_centrality,\n",
    "                               compute_pagerank_centrality,\n",
    "                               compute_betweenness_centrality,\n",
    "                               detect_communities,\n",
    "                               compute_all_metrics)\n",
    "from kganalytics.export import (save_network,\n",
    "                              save_to_gephi)\n",
    "from kganalytics.paths import (minimum_spanning_tree,\n",
    "                             top_n_paths,\n",
    "                             top_n_tripaths,\n",
    "                             single_shortest_path,\n",
    "                             top_n_nested_paths,\n",
    "                             graph_from_paths,\n",
    "                             pretty_print_paths,\n",
    "                             pretty_print_tripaths)\n",
    "from kganalytics.utils import subgraph_by_types"
   ]
  },
  {
   "cell_type": "code",
   "execution_count": 46,
   "metadata": {},
   "outputs": [],
   "source": [
    "with open(\"data/nasa.json\", \"r\") as f:\n",
    "    data = json.load(f)"
   ]
  },
  {
   "cell_type": "code",
   "execution_count": 48,
   "metadata": {},
   "outputs": [],
   "source": [
    "rows = []\n",
    "for el in data['dataset']:\n",
    "    row = [el[\"identifier\"]]\n",
    "    if \"keyword\" in el:\n",
    "        for k in el[\"keyword\"]:\n",
    "            rows.append(row + [k])\n",
    "keyword_data = pd.DataFrame(rows, columns=[\"dataset\", \"keyword\"])"
   ]
  },
  {
   "cell_type": "code",
   "execution_count": 49,
   "metadata": {},
   "outputs": [
    {
     "data": {
      "text/html": [
       "<div>\n",
       "<style scoped>\n",
       "    .dataframe tbody tr th:only-of-type {\n",
       "        vertical-align: middle;\n",
       "    }\n",
       "\n",
       "    .dataframe tbody tr th {\n",
       "        vertical-align: top;\n",
       "    }\n",
       "\n",
       "    .dataframe thead th {\n",
       "        text-align: right;\n",
       "    }\n",
       "</style>\n",
       "<table border=\"1\" class=\"dataframe\">\n",
       "  <thead>\n",
       "    <tr style=\"text-align: right;\">\n",
       "      <th></th>\n",
       "      <th>dataset</th>\n",
       "      <th>keyword</th>\n",
       "    </tr>\n",
       "  </thead>\n",
       "  <tbody>\n",
       "    <tr>\n",
       "      <th>0</th>\n",
       "      <td>urn:nasa:pds:context_pds3:data_set:data_set.ro...</td>\n",
       "      <td>international rosetta mission</td>\n",
       "    </tr>\n",
       "    <tr>\n",
       "      <th>1</th>\n",
       "      <td>urn:nasa:pds:context_pds3:data_set:data_set.ro...</td>\n",
       "      <td>earth</td>\n",
       "    </tr>\n",
       "    <tr>\n",
       "      <th>2</th>\n",
       "      <td>urn:nasa:pds:context_pds3:data_set:data_set.ro...</td>\n",
       "      <td>unknown</td>\n",
       "    </tr>\n",
       "    <tr>\n",
       "      <th>3</th>\n",
       "      <td>C1973352326-GHRC_CLOUD</td>\n",
       "      <td>earth science</td>\n",
       "    </tr>\n",
       "    <tr>\n",
       "      <th>4</th>\n",
       "      <td>C1973352326-GHRC_CLOUD</td>\n",
       "      <td>atmosphere</td>\n",
       "    </tr>\n",
       "    <tr>\n",
       "      <th>...</th>\n",
       "      <td>...</td>\n",
       "      <td>...</td>\n",
       "    </tr>\n",
       "    <tr>\n",
       "      <th>110742</th>\n",
       "      <td>NASA-877__2</td>\n",
       "      <td>apollo</td>\n",
       "    </tr>\n",
       "    <tr>\n",
       "      <th>110743</th>\n",
       "      <td>NASA-877__2</td>\n",
       "      <td>catalog</td>\n",
       "    </tr>\n",
       "    <tr>\n",
       "      <th>110744</th>\n",
       "      <td>NASA-877__2</td>\n",
       "      <td>lunar</td>\n",
       "    </tr>\n",
       "    <tr>\n",
       "      <th>110745</th>\n",
       "      <td>TECHPORT_94299</td>\n",
       "      <td>active</td>\n",
       "    </tr>\n",
       "    <tr>\n",
       "      <th>110746</th>\n",
       "      <td>TECHPORT_94299</td>\n",
       "      <td>trustees of the colorado school of mines</td>\n",
       "    </tr>\n",
       "  </tbody>\n",
       "</table>\n",
       "<p>110747 rows × 2 columns</p>\n",
       "</div>"
      ],
      "text/plain": [
       "                                                  dataset  \\\n",
       "0       urn:nasa:pds:context_pds3:data_set:data_set.ro...   \n",
       "1       urn:nasa:pds:context_pds3:data_set:data_set.ro...   \n",
       "2       urn:nasa:pds:context_pds3:data_set:data_set.ro...   \n",
       "3                                  C1973352326-GHRC_CLOUD   \n",
       "4                                  C1973352326-GHRC_CLOUD   \n",
       "...                                                   ...   \n",
       "110742                                        NASA-877__2   \n",
       "110743                                        NASA-877__2   \n",
       "110744                                        NASA-877__2   \n",
       "110745                                     TECHPORT_94299   \n",
       "110746                                     TECHPORT_94299   \n",
       "\n",
       "                                         keyword  \n",
       "0                  international rosetta mission  \n",
       "1                                          earth  \n",
       "2                                        unknown  \n",
       "3                                  earth science  \n",
       "4                                     atmosphere  \n",
       "...                                          ...  \n",
       "110742                                    apollo  \n",
       "110743                                   catalog  \n",
       "110744                                     lunar  \n",
       "110745                                    active  \n",
       "110746  trustees of the colorado school of mines  \n",
       "\n",
       "[110747 rows x 2 columns]"
      ]
     },
     "execution_count": 49,
     "metadata": {},
     "output_type": "execute_result"
    }
   ],
   "source": [
    "keyword_data"
   ]
  },
  {
   "cell_type": "code",
   "execution_count": 50,
   "metadata": {},
   "outputs": [],
   "source": [
    "keyword_occurrence = keyword_data.groupby(\"keyword\").aggregate(set)"
   ]
  },
  {
   "cell_type": "code",
   "execution_count": 51,
   "metadata": {},
   "outputs": [],
   "source": [
    "keyword_occurrence[\"frequency\"] = keyword_occurrence.dataset.apply(len)"
   ]
  },
  {
   "cell_type": "code",
   "execution_count": 57,
   "metadata": {},
   "outputs": [
    {
     "name": "stdout",
     "output_type": "stream",
     "text": [
      "20 most frequent keywords:\n",
      "\n",
      "\t completed\n",
      "\t earth science\n",
      "\t atmosphere\n",
      "\t national geospatial data asset\n",
      "\t ngda\n",
      "\t active\n",
      "\t land surface\n",
      "\t oceans\n",
      "\t goddard space flight center\n",
      "\t glenn research center\n",
      "\t langley research center\n",
      "\t spectral/engineering\n",
      "\t jet propulsion laboratory\n",
      "\t ames research center\n",
      "\t johnson space center\n",
      "\t biosphere\n",
      "\t atmospheric water vapor\n",
      "\t atmospheric radiation\n",
      "\t marshall space flight center\n",
      "\t atmospheric temperature\n"
     ]
    }
   ],
   "source": [
    "print(\"20 most frequent keywords:\\n\")\n",
    "for k in keyword_occurrence.nlargest(20, \"frequency\").index:\n",
    "    print(\"\\t\", k)"
   ]
  },
  {
   "cell_type": "code",
   "execution_count": 58,
   "metadata": {},
   "outputs": [],
   "source": [
    "n_datasets = len(keyword_data.dataset.unique())"
   ]
  },
  {
   "cell_type": "code",
   "execution_count": 62,
   "metadata": {},
   "outputs": [
    {
     "name": "stdout",
     "output_type": "stream",
     "text": [
      "Fitering data.....\n",
      "Selected 1000 most frequent terms\n",
      "Examining 499500 pairs of terms for co-occurrence...\n",
      "Generated 55442 edges                    \n",
      "Created a co-occurrence graph:\n",
      "\tnumber of nodes:  1000\n",
      "\tnumber of edges:  55442\n",
      "Saving the edges...\n",
      "Creating a graph object...\n"
     ]
    }
   ],
   "source": [
    "comention_network = generate_cooccurrence_network(\n",
    "    keyword_occurrence, \"dataset\", n_datasets,\n",
    "    n_most_frequent=1000,\n",
    "    parallelize=True)"
   ]
  },
  {
   "cell_type": "code",
   "execution_count": 74,
   "metadata": {},
   "outputs": [
    {
     "name": "stdout",
     "output_type": "stream",
     "text": [
      "Density of the constructed network:  0.11099499499499499\n"
     ]
    }
   ],
   "source": [
    "print(\"Density of the constructed network: \", nx.density(comention_network))"
   ]
  },
  {
   "cell_type": "code",
   "execution_count": 76,
   "metadata": {},
   "outputs": [
    {
     "name": "stdout",
     "output_type": "stream",
     "text": [
      "Top n nodes by frequency:\n",
      "\tearth science (37219)\n",
      "\tatmosphere (18258)\n",
      "\tnational geospatial data asset (16742)\n",
      "\tngda (16742)\n",
      "\tland surface (12152)\n",
      "\toceans (9404)\n",
      "\tcompleted (8786)\n",
      "\tatmospheric water vapor (8248)\n",
      "\tatmospheric temperature (7480)\n",
      "\tatmospheric radiation (7402)\n",
      "\tbiosphere (7057)\n",
      "\tspectral/engineering (6245)\n",
      "\tprecipitation (5923)\n",
      "\tclouds (5394)\n",
      "\tatmospheric chemistry (4962)\n",
      "\tocean temperature (4914)\n",
      "\tvegetation (4684)\n",
      "\tatmospheric pressure (4471)\n",
      "\tterrestrial hydrosphere (4244)\n",
      "\tcryosphere (4222)\n",
      "\n"
     ]
    }
   ],
   "source": [
    "_ = compute_degree_centrality(comention_network, [\"frequency\"], 20)"
   ]
  },
  {
   "cell_type": "code",
   "execution_count": 77,
   "metadata": {},
   "outputs": [
    {
     "name": "stdout",
     "output_type": "stream",
     "text": [
      "Top n nodes by frequency:\n",
      "\tearth science (0.02)\n",
      "\tcompleted (0.02)\n",
      "\tatmosphere (0.01)\n",
      "\tactive (0.01)\n",
      "\tnational geospatial data asset (0.01)\n",
      "\tngda (0.01)\n",
      "\tpds (0.01)\n",
      "\tland surface (0.01)\n",
      "\tspice (0.00)\n",
      "\toceans (0.00)\n",
      "\tlabeling (0.00)\n",
      "\tspace science (0.00)\n",
      "\tjupiter (0.00)\n",
      "\tcalibration (0.00)\n",
      "\tmars (0.00)\n",
      "\tearth (0.00)\n",
      "\tatmospheric water vapor (0.00)\n",
      "\tbiosphere (0.00)\n",
      "\tsaturn (0.00)\n",
      "\tspectral/engineering (0.00)\n",
      "\n"
     ]
    }
   ],
   "source": [
    "_ = compute_pagerank_centrality(comention_network, [\"frequency\"], 20)"
   ]
  },
  {
   "cell_type": "code",
   "execution_count": 78,
   "metadata": {},
   "outputs": [
    {
     "name": "stdout",
     "output_type": "stream",
     "text": [
      "Top n nodes by distance_npmi:\n",
      "\t10199 chariklo (0.12936249542795972)\n",
      "\tnix (0.0777490917771479)\n",
      "\tida (0.07718941386276056)\n",
      "\tceres (0.07389353281136848)\n",
      "\tplanetary science (0.07308510915725344)\n",
      "\tproject (0.07044118266563157)\n",
      "\tatlas (0.0632516283818889)\n",
      "\tsafety (0.06299485858604095)\n",
      "\tmanagement (0.059841404530783286)\n",
      "\tactive (0.05961472494538627)\n",
      "\tstar (0.054409118537375054)\n",
      "\timagery (0.054409118537375054)\n",
      "\tiss (0.051807318340384476)\n",
      "\toperations (0.04893570925635054)\n",
      "\tspace (0.048007927767446806)\n",
      "\ttime (0.04567092142242443)\n",
      "\tworking group for planetary system nomenclature (0.044734112870385416)\n",
      "\tastronomy (0.044442237829011376)\n",
      "\t2p/encke 1 (1818 w1) (0.044327895029297834)\n",
      "\tgsfc (0.044102218450915845)\n",
      "\n"
     ]
    }
   ],
   "source": [
    "_ = compute_betweenness_centrality(\n",
    "    comention_network, [\"distance_npmi\"], 20)"
   ]
  },
  {
   "cell_type": "code",
   "execution_count": 79,
   "metadata": {},
   "outputs": [
    {
     "name": "stdout",
     "output_type": "stream",
     "text": [
      "Detecting communities...\n",
      "Best network partition:\n",
      "\t Number of communities: 13\n",
      "\t Modularity: 0.6383457625721062\n",
      "Detecting communities...\n",
      "Best network partition:\n",
      "\t Number of communities: 7\n",
      "\t Modularity: 0.16926481232934845\n"
     ]
    }
   ],
   "source": [
    "_ = detect_communities(comention_network, weight=\"frequency\", set_attr=\"community\")\n",
    "_ = detect_communities(comention_network, weight=\"npmi\", set_attr=\"community_npmi\")"
   ]
  },
  {
   "cell_type": "code",
   "execution_count": 89,
   "metadata": {},
   "outputs": [],
   "source": [
    "# Save the graph for Gephi import.\n",
    "save_to_gephi(\n",
    "    comention_network, \"data/gephi_nasa_comention\", \n",
    "    node_attr_mapping = {\n",
    "        \"degree_frequency\": \"Degree\",\n",
    "        \"pagerank_frequency\": \"PageRank\",\n",
    "        \"betweenness_distance_npmi\": \"Betweenness\",\n",
    "        \"community\": \"Community\"\n",
    "    },\n",
    "    edge_attr_mapping={\n",
    "        \"npmi\": \"Weight\"\n",
    "    })"
   ]
  },
  {
   "cell_type": "markdown",
   "metadata": {},
   "source": [
    "The representation of the network saved above can be imported into Gephi for producing graph visualizations, as in the following example:\n",
    "\n",
    "In the figures below colors represent communities detected using the raw frequency of the co-occurrence edges, node sizes are proportional to the PageRank of nodes and edge thickness to the NPMI values.\n",
    "\n",
    "![alt text](./figures/nasa/full_network.png \"NASA dataset keywords co-occurrence network\")\n",
    "\n",
    "\n",
    "\n",
    "Community | Zoom\n",
    "- | - \n",
    "Celestial bodies <img src=\"./figures/nasa/celestial_body_cluster.png\" alt=\"Drawing\" style=\"width: 400px;\"/>|<img src=\"./figures/nasa/celestial_body_cluster_zoom.png\" alt=\"Drawing\" style=\"width: 400px;\"/>\n",
    "Earth science <img src=\"./figures/nasa/earth_science.png\" alt=\"Drawing\" style=\"width: 400px;\"/>|<img src=\"./figures/nasa/earch_science_zoom.png\" alt=\"Drawing\" style=\"width: 400px;\"/>\n",
    "Space programs and missions <img src=\"./figures/nasa/programs_missions.png\" alt=\"Drawing\" style=\"width: 400px;\"/>|<img src=\"./figures/nasa/programs_missions_zoom.png\" alt=\"Drawing\" style=\"width: 400px;\"/>"
   ]
  },
  {
   "cell_type": "code",
   "execution_count": null,
   "metadata": {},
   "outputs": [],
   "source": [
    "\n",
    "![alt text]( \"Celestial bodies\")![alt text](./figures/nasa/nasa_celestial_body_cluster_zoom.png \"Celestial bodies\")"
   ]
  },
  {
   "cell_type": "code",
   "execution_count": 82,
   "metadata": {},
   "outputs": [],
   "source": [
    "tree = minimum_spanning_tree(comention_network, weight=\"distance_npmi\")"
   ]
  },
  {
   "cell_type": "code",
   "execution_count": 90,
   "metadata": {},
   "outputs": [],
   "source": [
    "save_to_gephi(\n",
    "    tree, \"data/gephi_nasa_spanning_tree\", \n",
    "    node_attr_mapping = {\n",
    "        \"degree_frequency\": \"Degree\",\n",
    "        \"pagerank_frequency\": \"PageRank\",\n",
    "        \"betweenness_distance_npmi\": \"Betweenness\",\n",
    "        \"community\": \"Community\"\n",
    "    },\n",
    "    edge_attr_mapping={\n",
    "        \"npmi\": \"Weight\"\n",
    "    })"
   ]
  },
  {
   "cell_type": "markdown",
   "metadata": {},
   "source": [
    "![alt text](./figures/nasa/tree.png \"Minimum spanning tree\")"
   ]
  },
  {
   "cell_type": "code",
   "execution_count": 103,
   "metadata": {},
   "outputs": [
    {
     "data": {
      "text/plain": [
       "['earth', 'mars']"
      ]
     },
     "execution_count": 103,
     "metadata": {},
     "output_type": "execute_result"
    }
   ],
   "source": [
    "single_shortest_path(comention_network, \"space shuttle\", \"mars\")"
   ]
  },
  {
   "cell_type": "code",
   "execution_count": 87,
   "metadata": {},
   "outputs": [],
   "source": [
    "paths = top_n_paths(\n",
    "    comention_network, \"space shuttle\", \"mars\", n=10,\n",
    "    distance=\"distance_npmi\",\n",
    "    strategy=\"yen\")"
   ]
  },
  {
   "cell_type": "code",
   "execution_count": 88,
   "metadata": {},
   "outputs": [
    {
     "name": "stdout",
     "output_type": "stream",
     "text": [
      "space shuttle <->                                                  <-> mars\n",
      "                  vehicles <-> mars global surveyor\n",
      "                  vehicles <-> orbiter <-> mars global surveyor\n",
      "                  shuttle <-> mars reconnaissance orbiter\n",
      "                  3d model <-> mars global surveyor\n",
      "                  3d model <-> orbiter <-> mars global surveyor\n",
      "                  shuttle <-> vehicles <-> mars global surveyor\n",
      "                  spacecraft <-> vehicles <-> mars global surveyor\n",
      "                  3d model <-> vehicles <-> mars global surveyor\n",
      "                  vehicles <-> 3d model <-> mars global surveyor\n",
      "                  shuttle <-> 3d model <-> mars global surveyor\n"
     ]
    }
   ],
   "source": [
    "pretty_print_paths(paths)"
   ]
  },
  {
   "cell_type": "code",
   "execution_count": 94,
   "metadata": {},
   "outputs": [],
   "source": [
    "paths = top_n_paths(\n",
    "    comention_network, \"jupiter\", \"mars\", n=10,\n",
    "    distance=\"distance_npmi\",\n",
    "    strategy=\"yen\")"
   ]
  },
  {
   "cell_type": "code",
   "execution_count": 92,
   "metadata": {},
   "outputs": [
    {
     "name": "stdout",
     "output_type": "stream",
     "text": [
      "earth <->                      <-> mars\n",
      "          c/ison (2012 s1)\n",
      "          vega\n",
      "          wasp-3\n",
      "          xo-2\n",
      "          xo-3\n",
      "          vega <-> phobos\n",
      "          2p/encke 1 (1818 w1)\n",
      "          epoxi\n",
      "          gj 436\n",
      "          hat-p-4\n"
     ]
    }
   ],
   "source": [
    "pretty_print_paths(paths)"
   ]
  },
  {
   "cell_type": "code",
   "execution_count": 99,
   "metadata": {},
   "outputs": [],
   "source": [
    "paths = top_n_nested_paths(\n",
    "    comention_network, \"shuttle\", \"mars\",\n",
    "    n=10, nested_n=2, depth=2, distance=\"distance_npmi\",\n",
    "    strategy=\"naive\")"
   ]
  },
  {
   "cell_type": "code",
   "execution_count": 100,
   "metadata": {},
   "outputs": [
    {
     "data": {
      "text/plain": [
       "[('shuttle', 'spacecraft', 'mars reconnaissance orbiter'),\n",
       " ('shuttle', 'launch', 'mars reconnaissance orbiter'),\n",
       " ('mars reconnaissance orbiter', 'mars express', 'mars'),\n",
       " ('mars reconnaissance orbiter', 'viking', 'mars'),\n",
       " ('shuttle', 'space shuttle', '3d model'),\n",
       " ('shuttle', 'vehicles', '3d model'),\n",
       " ('3d model', 'mars global surveyor', 'mars'),\n",
       " ('3d model', 'mars reconnaissance orbiter', 'mars'),\n",
       " ('shuttle', '3d model', 'satellite'),\n",
       " ('shuttle', 'spacecraft', 'satellite'),\n",
       " ('satellite', 'mars global surveyor', 'mars'),\n",
       " ('satellite', 'mars reconnaissance orbiter', 'mars')]"
      ]
     },
     "execution_count": 100,
     "metadata": {},
     "output_type": "execute_result"
    }
   ],
   "source": [
    "paths"
   ]
  },
  {
   "cell_type": "code",
   "execution_count": 97,
   "metadata": {},
   "outputs": [
    {
     "name": "stdout",
     "output_type": "stream",
     "text": [
      "earth <->                      <-> c/ison (2012 s1)\n",
      "          messenger\n",
      "          moon\n",
      "          2p/encke 1 (1818 w1)\n",
      "          vega\n",
      "          c/linear (2002 t7)\n",
      "          m42\n",
      "          phobos\n",
      "          deimos\n",
      "          xo-2\n",
      "          xo-3\n",
      "          c/ison (2012 s1)\n",
      "          xo-2\n",
      "          xo-3\n",
      "          wasp-3\n",
      "          c/ison (2012 s1)\n",
      "          xo-3\n",
      "          xo-2\n",
      "          wasp-3\n",
      "          c/ison (2012 s1)\n",
      "          xo-2\n",
      "          messenger\n",
      "          mercury\n",
      "          c/ison (2012 s1)\n",
      "          vega\n",
      "          wasp-3\n",
      "          xo-2\n",
      "          c/ison (2012 s1)\n",
      "          wasp-3\n",
      "          wasp-3\n",
      "          xo-2\n",
      "          c/ison (2012 s1)\n",
      "          wasp-3\n",
      "          wasp-3\n",
      "          xo-2\n",
      "          c/ison (2012 s1)\n",
      "          wasp-3\n",
      "          wasp-3\n",
      "          xo-2\n",
      "          c/ison (2012 s1)\n",
      "          wasp-3\n"
     ]
    }
   ],
   "source": [
    "pretty_print_paths(paths)"
   ]
  },
  {
   "cell_type": "code",
   "execution_count": null,
   "metadata": {},
   "outputs": [],
   "source": []
  }
 ],
 "metadata": {
  "kernelspec": {
   "display_name": "bbg",
   "language": "python",
   "name": "bbg"
  },
  "language_info": {
   "codemirror_mode": {
    "name": "ipython",
    "version": 3
   },
   "file_extension": ".py",
   "mimetype": "text/x-python",
   "name": "python",
   "nbconvert_exporter": "python",
   "pygments_lexer": "ipython3",
   "version": "3.8.6"
  }
 },
 "nbformat": 4,
 "nbformat_minor": 4
}
