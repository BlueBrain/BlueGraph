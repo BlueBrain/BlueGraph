{
 "cells": [
  {
   "cell_type": "markdown",
   "metadata": {},
   "source": [
    "# Embedding service API"
   ]
  },
  {
   "cell_type": "code",
   "execution_count": 297,
   "metadata": {},
   "outputs": [],
   "source": [
    "import requests"
   ]
  },
  {
   "cell_type": "markdown",
   "metadata": {},
   "source": [
    "## Get all the models in the catalogue"
   ]
  },
  {
   "cell_type": "code",
   "execution_count": 301,
   "metadata": {},
   "outputs": [
    {
     "name": "stdout",
     "output_type": "stream",
     "text": [
      "<Response [200]>\n"
     ]
    },
    {
     "data": {
      "text/plain": [
       "{'models': {'Test attri2vec model': {'id': 'https://staging.nexus.ocp.bbp.epfl.ch/v1/resources/dke/embedder_catalog/_/9fe1c6cb-ca63-4e7f-a1bc-b9325d06d710',\n",
       "   'name': 'Test attri2vec model',\n",
       "   'description': 'Test embedding model',\n",
       "   'filename': 'attri2vec_test_model.zip',\n",
       "   'created': '2021-03-04T15:37:25.767683Z',\n",
       "   'modified': '2021-03-04T15:37:25.767683Z'}}}"
      ]
     },
     "execution_count": 301,
     "metadata": {},
     "output_type": "execute_result"
    }
   ],
   "source": [
    "r = requests.get(\n",
    "    'http://127.0.0.1:5000/models/')\n",
    "print(r)\n",
    "r.json()"
   ]
  },
  {
   "cell_type": "markdown",
   "metadata": {},
   "source": [
    "## Delete all the models from the catalogue"
   ]
  },
  {
   "cell_type": "code",
   "execution_count": 302,
   "metadata": {},
   "outputs": [],
   "source": [
    "# r = requests.delete(\n",
    "#     'http://127.0.0.1:5000/models/',\n",
    "#     headers={'Authorization': f\"Bearer {TOKEN}\"})\n",
    "# print(r)\n",
    "# r.json()"
   ]
  },
  {
   "cell_type": "code",
   "execution_count": 303,
   "metadata": {},
   "outputs": [],
   "source": [
    "# r = requests.get(\n",
    "#     'http://127.0.0.1:5000/models/',\n",
    "#     headers={'Authorization': f\"Bearer {TOKEN}\"})\n",
    "# print(r)\n",
    "# r.json()"
   ]
  },
  {
   "cell_type": "markdown",
   "metadata": {},
   "source": [
    "## Add a new model to the catalogue"
   ]
  },
  {
   "cell_type": "code",
   "execution_count": 304,
   "metadata": {},
   "outputs": [],
   "source": [
    "# file = open(\"../data/attri2vec_test_model.zip\", \"rb\")"
   ]
  },
  {
   "cell_type": "code",
   "execution_count": 305,
   "metadata": {
    "scrolled": true
   },
   "outputs": [],
   "source": [
    "# r = requests.post(\n",
    "#     'http://127.0.0.1:5000/model/',\n",
    "#     params={\n",
    "#         \"name\": \"Test attri2vec model\",\n",
    "#         \"description\": \"Test embedding model\"\n",
    "#     },\n",
    "#     files={\n",
    "#         \"distribution\": file\n",
    "#     },\n",
    "#     headers={'Authorization': f\"Bearer {TOKEN}\"}\n",
    "# )\n",
    "# print(r)"
   ]
  },
  {
   "cell_type": "code",
   "execution_count": 306,
   "metadata": {
    "scrolled": true
   },
   "outputs": [],
   "source": [
    "# r = requests.get(\n",
    "#     'http://127.0.0.1:5000/model/',\n",
    "#     headers={'Authorization': f\"Bearer {TOKEN}\"},\n",
    "#     params={\n",
    "#         \"name\": \"Test attri2vec model\"\n",
    "#     })\n",
    "# print(r)\n",
    "# r.json()"
   ]
  },
  {
   "cell_type": "code",
   "execution_count": 307,
   "metadata": {},
   "outputs": [],
   "source": [
    "# r = requests.get(\n",
    "#     'http://127.0.0.1:5000/models/',\n",
    "#     headers={'Authorization': f\"Bearer {TOKEN}\"})\n",
    "# print(r)\n",
    "# r.json()"
   ]
  },
  {
   "cell_type": "markdown",
   "metadata": {},
   "source": [
    "## Update a model"
   ]
  },
  {
   "cell_type": "code",
   "execution_count": 308,
   "metadata": {},
   "outputs": [],
   "source": [
    "# #  Train an embedding model for a specified project if does not exist\n",
    "# r = requests.post(\n",
    "#     f'http://127.0.0.1:5000/model/',\n",
    "#     params={\n",
    "#         \"name\": \"Test attri2vec model\",\n",
    "#         \"description\": \"This is an updated test embedding model\"\n",
    "#     },\n",
    "#     headers={'Authorization': f\"Bearer {TOKEN}\"}\n",
    "# )\n",
    "# print(r)"
   ]
  },
  {
   "cell_type": "code",
   "execution_count": 309,
   "metadata": {
    "scrolled": true
   },
   "outputs": [],
   "source": [
    "# r = requests.get(\n",
    "#     'http://127.0.0.1:5000/models/',\n",
    "#     headers={'Authorization': f\"Bearer {TOKEN}\"})\n",
    "# print(r)\n",
    "# r.json()"
   ]
  },
  {
   "cell_type": "markdown",
   "metadata": {},
   "source": [
    "## Get details on different model components"
   ]
  },
  {
   "cell_type": "code",
   "execution_count": 310,
   "metadata": {},
   "outputs": [
    {
     "name": "stdout",
     "output_type": "stream",
     "text": [
      "<Response [200]>\n"
     ]
    },
    {
     "data": {
      "text/plain": [
       "{'heterogeneous': False,\n",
       " 'drop_types': False,\n",
       " 'encode_types': False,\n",
       " 'edge_features': False,\n",
       " 'categorical_encoding': 'multibin',\n",
       " 'text_encoding': 'tfidf',\n",
       " 'text_encoding_max_dimension': 512,\n",
       " 'missing_numeric': 'drop',\n",
       " 'imputation_strategy': 'mean',\n",
       " 'standardize_numeric': True,\n",
       " 'node_properties': ['definition'],\n",
       " 'edge_properties': None,\n",
       " 'interface': 'ScikitLearnPGEncoder'}"
      ]
     },
     "execution_count": 310,
     "metadata": {},
     "output_type": "execute_result"
    }
   ],
   "source": [
    "r = requests.get(\n",
    "    'http://127.0.0.1:5000/model/details/preprocessor/',\n",
    "    params={\n",
    "        \"name\": \"Test attri2vec model\"\n",
    "    })\n",
    "print(r)\n",
    "r.json()"
   ]
  },
  {
   "cell_type": "code",
   "execution_count": 311,
   "metadata": {},
   "outputs": [
    {
     "name": "stdout",
     "output_type": "stream",
     "text": [
      "<Response [200]>\n"
     ]
    },
    {
     "data": {
      "text/plain": [
       "{'interface': 'StellarGraphNodeEmbedder',\n",
       " 'model_type': 'inductive',\n",
       " 'trained': 'True',\n",
       " 'model_name': 'attri2vec',\n",
       " 'model_params': {'length': 5,\n",
       "  'number_of_walks': 10,\n",
       "  'epochs': 5,\n",
       "  'embedding_dimension': 128,\n",
       "  'batch_size': 20,\n",
       "  'negative_samples': 10,\n",
       "  'num_samples': [10, 5],\n",
       "  'random_walk_p': 0.5,\n",
       "  'random_walk_q': 2.0,\n",
       "  'clusters': 2,\n",
       "  'clusters_q': 1},\n",
       " 'graph_configs': {'directed': True,\n",
       "  'include_type': False,\n",
       "  'feature_props': None,\n",
       "  'feature_vector_prop': 'features',\n",
       "  'edge_weight': 'npmi'}}"
      ]
     },
     "execution_count": 311,
     "metadata": {},
     "output_type": "execute_result"
    }
   ],
   "source": [
    "r = requests.get(\n",
    "    'http://127.0.0.1:5000/model/details/embedder/',\n",
    "    params={\n",
    "        \"name\": \"Test attri2vec model\"\n",
    "    })\n",
    "print(r)\n",
    "r.json()"
   ]
  },
  {
   "cell_type": "code",
   "execution_count": 312,
   "metadata": {},
   "outputs": [
    {
     "name": "stdout",
     "output_type": "stream",
     "text": [
      "<Response [200]>\n"
     ]
    },
    {
     "data": {
      "text/plain": [
       "{'similarity': 'cosine',\n",
       " 'dimension': 128,\n",
       " 'segmented': False,\n",
       " 'interface': 'SimilarityProcessor'}"
      ]
     },
     "execution_count": 312,
     "metadata": {},
     "output_type": "execute_result"
    }
   ],
   "source": [
    "r = requests.get(\n",
    "    'http://127.0.0.1:5000/model/details/similarity-processor/',\n",
    "    params={\n",
    "        \"name\": \"Test attri2vec model\"\n",
    "    })\n",
    "print(r)\n",
    "r.json()"
   ]
  },
  {
   "cell_type": "markdown",
   "metadata": {},
   "source": [
    "## Get resource embeddings"
   ]
  },
  {
   "cell_type": "code",
   "execution_count": 313,
   "metadata": {
    "scrolled": true
   },
   "outputs": [
    {
     "name": "stdout",
     "output_type": "stream",
     "text": [
      "<Response [200]>\n",
      "CPU times: user 5.11 ms, sys: 2.08 ms, total: 7.2 ms\n",
      "Wall time: 8.8 ms\n"
     ]
    },
    {
     "data": {
      "text/plain": [
       "{'embeddings': {'dna replication': [0.07793191075325012,\n",
       "   0.06893166899681091,\n",
       "   0.0562613308429718,\n",
       "   0.06252631545066833,\n",
       "   0.05259767174720764,\n",
       "   0.07395002245903015,\n",
       "   0.07011455297470093,\n",
       "   0.05162510275840759,\n",
       "   0.0665658712387085,\n",
       "   0.04652649164199829,\n",
       "   0.04501083493232727,\n",
       "   0.07930299639701843,\n",
       "   0.0684765875339508,\n",
       "   0.08216676115989685,\n",
       "   0.04815438389778137,\n",
       "   0.07798832654953003,\n",
       "   0.06411448121070862,\n",
       "   0.04765474796295166,\n",
       "   0.06419628858566284,\n",
       "   0.0827578604221344,\n",
       "   0.0789918303489685,\n",
       "   0.06683886051177979,\n",
       "   0.08922708034515381,\n",
       "   0.0718543529510498,\n",
       "   0.07675984501838684,\n",
       "   0.07057246565818787,\n",
       "   0.06727555394172668,\n",
       "   0.048387378454208374,\n",
       "   0.06863147020339966,\n",
       "   0.06427249312400818,\n",
       "   0.06773629784584045,\n",
       "   0.05866190791130066,\n",
       "   0.07218778133392334,\n",
       "   0.05406004190444946,\n",
       "   0.05754894018173218,\n",
       "   0.07957020401954651,\n",
       "   0.05886656045913696,\n",
       "   0.07701054215431213,\n",
       "   0.06833085417747498,\n",
       "   0.04890322685241699,\n",
       "   0.05658441781997681,\n",
       "   0.07543522119522095,\n",
       "   0.06161990761756897,\n",
       "   0.079313725233078,\n",
       "   0.04087105393409729,\n",
       "   0.05038052797317505,\n",
       "   0.07056578993797302,\n",
       "   0.071509450674057,\n",
       "   0.0540299117565155,\n",
       "   0.07159137725830078,\n",
       "   0.060335904359817505,\n",
       "   0.07247981429100037,\n",
       "   0.062467098236083984,\n",
       "   0.05365025997161865,\n",
       "   0.06674593687057495,\n",
       "   0.0620780885219574,\n",
       "   0.06389316916465759,\n",
       "   0.059961140155792236,\n",
       "   0.056148022413253784,\n",
       "   0.07237455248832703,\n",
       "   0.07828783988952637,\n",
       "   0.07660821080207825,\n",
       "   0.051608920097351074,\n",
       "   0.06328335404396057,\n",
       "   0.06921350955963135,\n",
       "   0.08231595158576965,\n",
       "   0.06628856062889099,\n",
       "   0.05793675780296326,\n",
       "   0.07139474153518677,\n",
       "   0.06504261493682861,\n",
       "   0.047497838735580444,\n",
       "   0.05608177185058594,\n",
       "   0.06651440262794495,\n",
       "   0.07385444641113281,\n",
       "   0.16993767023086548,\n",
       "   0.0705181360244751,\n",
       "   0.06599774956703186,\n",
       "   0.06263574957847595,\n",
       "   0.060258716344833374,\n",
       "   0.0599820613861084,\n",
       "   0.05542084574699402,\n",
       "   0.06076997518539429,\n",
       "   0.07270494103431702,\n",
       "   0.047853052616119385,\n",
       "   0.048002809286117554,\n",
       "   0.07186049222946167,\n",
       "   0.0576171875,\n",
       "   0.059236735105514526,\n",
       "   0.10046085715293884,\n",
       "   0.06123238801956177,\n",
       "   0.07261845469474792,\n",
       "   0.05943655967712402,\n",
       "   0.04449254274368286,\n",
       "   0.06527668237686157,\n",
       "   0.057135164737701416,\n",
       "   0.06344008445739746,\n",
       "   0.06027942895889282,\n",
       "   0.07271122932434082,\n",
       "   0.07053813338279724,\n",
       "   0.08565661311149597,\n",
       "   0.07118311524391174,\n",
       "   0.06329450011253357,\n",
       "   0.056720882654190063,\n",
       "   0.09555879235267639,\n",
       "   0.07447734475135803,\n",
       "   0.08429023623466492,\n",
       "   0.06797060370445251,\n",
       "   0.0716104805469513,\n",
       "   0.06253114342689514,\n",
       "   0.06814715266227722,\n",
       "   0.06636825203895569,\n",
       "   0.07173502445220947,\n",
       "   0.07394972443580627,\n",
       "   0.07479512691497803,\n",
       "   0.06553220748901367,\n",
       "   0.06474447250366211,\n",
       "   0.07846453785896301,\n",
       "   0.052276402711868286,\n",
       "   0.05008968710899353,\n",
       "   0.06367930769920349,\n",
       "   0.04442274570465088,\n",
       "   0.06766626238822937,\n",
       "   0.0827646255493164,\n",
       "   0.06341561675071716,\n",
       "   0.08261549472808838,\n",
       "   0.06269076466560364,\n",
       "   0.04494518041610718,\n",
       "   0.05786159634590149],\n",
       "  'glucose': [0.07423317432403564,\n",
       "   0.10543516278266907,\n",
       "   0.09801852703094482,\n",
       "   0.09316202998161316,\n",
       "   0.10324904322624207,\n",
       "   0.08987215161323547,\n",
       "   0.07920193672180176,\n",
       "   0.12363389134407043,\n",
       "   0.09296783804893494,\n",
       "   0.09478810429573059,\n",
       "   0.09055781364440918,\n",
       "   0.09874185919761658,\n",
       "   0.09867215156555176,\n",
       "   0.09987837076187134,\n",
       "   0.11326509714126587,\n",
       "   0.094265878200531,\n",
       "   0.08728030323982239,\n",
       "   0.1268247663974762,\n",
       "   0.0920516848564148,\n",
       "   0.10568270087242126,\n",
       "   0.09393173456192017,\n",
       "   0.09667369723320007,\n",
       "   0.12644049525260925,\n",
       "   0.10250291228294373,\n",
       "   0.07765215635299683,\n",
       "   0.10329526662826538,\n",
       "   0.10717537999153137,\n",
       "   0.07575136423110962,\n",
       "   0.09105095267295837,\n",
       "   0.09386685490608215,\n",
       "   0.082964688539505,\n",
       "   0.11471393704414368,\n",
       "   0.07420986890792847,\n",
       "   0.08392813801765442,\n",
       "   0.09507393836975098,\n",
       "   0.0859331488609314,\n",
       "   0.10537287592887878,\n",
       "   0.1274155080318451,\n",
       "   0.09273049235343933,\n",
       "   0.07673698663711548,\n",
       "   0.09644973278045654,\n",
       "   0.09977662563323975,\n",
       "   0.08264225721359253,\n",
       "   0.08657088875770569,\n",
       "   0.10692045092582703,\n",
       "   0.10900852084159851,\n",
       "   0.077717125415802,\n",
       "   0.09864917397499084,\n",
       "   0.07843127846717834,\n",
       "   0.09477630257606506,\n",
       "   0.09569299221038818,\n",
       "   0.0701475441455841,\n",
       "   0.08918136358261108,\n",
       "   0.09095239639282227,\n",
       "   0.0739283561706543,\n",
       "   0.08707660436630249,\n",
       "   0.08816832304000854,\n",
       "   0.10693204402923584,\n",
       "   0.09185349941253662,\n",
       "   0.07763916254043579,\n",
       "   0.11802342534065247,\n",
       "   0.1256217658519745,\n",
       "   0.09240511059761047,\n",
       "   0.08465752005577087,\n",
       "   0.1381533145904541,\n",
       "   0.11699685454368591,\n",
       "   0.09639397263526917,\n",
       "   0.09459605813026428,\n",
       "   0.09189561009407043,\n",
       "   0.10131677985191345,\n",
       "   0.10960030555725098,\n",
       "   0.1311710774898529,\n",
       "   0.10847470164299011,\n",
       "   0.09591090679168701,\n",
       "   0.11377376317977905,\n",
       "   0.10122811794281006,\n",
       "   0.10246145725250244,\n",
       "   0.11288946866989136,\n",
       "   0.08687445521354675,\n",
       "   0.08709985017776489,\n",
       "   0.09106522798538208,\n",
       "   0.07066875696182251,\n",
       "   0.10205641388893127,\n",
       "   0.06927210092544556,\n",
       "   0.1084958016872406,\n",
       "   0.10859093070030212,\n",
       "   0.098316490650177,\n",
       "   0.10003718733787537,\n",
       "   0.08851954340934753,\n",
       "   0.10446804761886597,\n",
       "   0.10163134336471558,\n",
       "   0.10669967532157898,\n",
       "   0.0991678237915039,\n",
       "   0.08868163824081421,\n",
       "   0.09061834216117859,\n",
       "   0.10499826073646545,\n",
       "   0.10664445161819458,\n",
       "   0.08080387115478516,\n",
       "   0.1039903461933136,\n",
       "   0.10994395613670349,\n",
       "   0.07847359776496887,\n",
       "   0.13027673959732056,\n",
       "   0.0988607406616211,\n",
       "   0.07864931225776672,\n",
       "   0.09627068042755127,\n",
       "   0.07770571112632751,\n",
       "   0.12104964256286621,\n",
       "   0.09153753519058228,\n",
       "   0.11856213212013245,\n",
       "   0.0864655077457428,\n",
       "   0.07438322901725769,\n",
       "   0.07255199551582336,\n",
       "   0.1113027036190033,\n",
       "   0.09839770197868347,\n",
       "   0.09138032793998718,\n",
       "   0.12138929963111877,\n",
       "   0.0919623076915741,\n",
       "   0.1112293004989624,\n",
       "   0.13114678859710693,\n",
       "   0.09621837735176086,\n",
       "   0.11826178431510925,\n",
       "   0.13376176357269287,\n",
       "   0.09010165929794312,\n",
       "   0.14800256490707397,\n",
       "   0.10800451040267944,\n",
       "   0.09908166527748108,\n",
       "   0.10887739062309265,\n",
       "   0.09629395604133606]}}"
      ]
     },
     "execution_count": 313,
     "metadata": {},
     "output_type": "execute_result"
    }
   ],
   "source": [
    "%%time\n",
    "r = requests.get(\n",
    "    'http://127.0.0.1:5000/model/embeddings/',\n",
    "    params={\n",
    "        \"name\": \"Test attri2vec model\",\n",
    "        \"resource_ids\": [\"dna replication\", \"glucose\"]\n",
    "    })\n",
    "print(r)\n",
    "r.json()"
   ]
  },
  {
   "cell_type": "markdown",
   "metadata": {},
   "source": [
    "## Get nearest neighbors"
   ]
  },
  {
   "cell_type": "code",
   "execution_count": 314,
   "metadata": {
    "scrolled": true
   },
   "outputs": [
    {
     "name": "stdout",
     "output_type": "stream",
     "text": [
      "<Response [200]>\n",
      "CPU times: user 5.34 ms, sys: 2.15 ms, total: 7.49 ms\n",
      "Wall time: 10.7 ms\n"
     ]
    },
    {
     "data": {
      "text/plain": [
       "{'similar_points': {'glucose': ['glucose',\n",
       "   'fatigue',\n",
       "   'hydrophobicity',\n",
       "   'depression',\n",
       "   'proximal',\n",
       "   'constipation',\n",
       "   'water',\n",
       "   'intracranial hemorrhage',\n",
       "   'dog',\n",
       "   'nasal',\n",
       "   'congenital abnormality',\n",
       "   'dizziness',\n",
       "   'anxiety',\n",
       "   'bicarbonate ion',\n",
       "   'subarachnoid hemorrhage',\n",
       "   'anal injury',\n",
       "   'cat',\n",
       "   'brother',\n",
       "   'cerebral hemorrhage',\n",
       "   'endotracheal'],\n",
       "  'covid-19': ['covid-19',\n",
       "   'middle east respiratory syndrome',\n",
       "   'severe acute respiratory syndrome',\n",
       "   'dyspnea',\n",
       "   'asthma',\n",
       "   'pulmonary edema',\n",
       "   'h1n1 influenza',\n",
       "   'airway',\n",
       "   'cystic fibrosis pulmonary exacerbation',\n",
       "   'childhood-onset systemic lupus erythematosus',\n",
       "   'pleural effusion',\n",
       "   'septicemia',\n",
       "   'dengue fever',\n",
       "   'viral respiratory tract infection',\n",
       "   'renal failure',\n",
       "   'saliva',\n",
       "   'arthritis',\n",
       "   'upper respiratory tract infection',\n",
       "   'septic shock',\n",
       "   'delirium'],\n",
       "  'dna replication': ['dna replication',\n",
       "   'mutation abnormality',\n",
       "   'nucleotide',\n",
       "   'herpesvirus',\n",
       "   'ribonucleic acid',\n",
       "   'aspirin',\n",
       "   'adenoviridae',\n",
       "   'candidiasis',\n",
       "   'human immunodeficiency virus 1',\n",
       "   'feces',\n",
       "   'immunocompromised',\n",
       "   'sus',\n",
       "   'cyclophosphamide',\n",
       "   'epstein-barr virus',\n",
       "   'glycopeptide',\n",
       "   'cytomegaloviral infection',\n",
       "   'immune',\n",
       "   'aspartic acid',\n",
       "   'human immunodeficiency virus',\n",
       "   'electron']}}"
      ]
     },
     "execution_count": 314,
     "metadata": {},
     "output_type": "execute_result"
    }
   ],
   "source": [
    "%%time\n",
    "r = requests.get(\n",
    "    'http://127.0.0.1:5000/model/similar-points/',\n",
    "    params={\n",
    "        \"name\": \"Test attri2vec model\",\n",
    "        \"resource_ids\": [\"glucose\", \"covid-19\", \"dna replication\"],\n",
    "        \"k\": 20\n",
    "    })\n",
    "print(r)\n",
    "r.json()"
   ]
  },
  {
   "cell_type": "code",
   "execution_count": 315,
   "metadata": {
    "scrolled": false
   },
   "outputs": [
    {
     "name": "stdout",
     "output_type": "stream",
     "text": [
      "<Response [200]>\n",
      "CPU times: user 6.73 ms, sys: 2.79 ms, total: 9.51 ms\n",
      "Wall time: 10.3 ms\n"
     ]
    },
    {
     "data": {
      "text/plain": [
       "{'similar_points': {'glucose': {'glucose': 1.0,\n",
       "   'fatigue': 0.990289568901062,\n",
       "   'hydrophobicity': 0.9881564974784851,\n",
       "   'depression': 0.9877604246139526,\n",
       "   'proximal': 0.9877604246139526,\n",
       "   'constipation': 0.9877604246139526,\n",
       "   'water': 0.9877604246139526,\n",
       "   'intracranial hemorrhage': 0.9877604246139526,\n",
       "   'dog': 0.9877604246139526,\n",
       "   'nasal': 0.9877604246139526,\n",
       "   'congenital abnormality': 0.9877604246139526,\n",
       "   'dizziness': 0.9877604246139526,\n",
       "   'anxiety': 0.9877604246139526,\n",
       "   'bicarbonate ion': 0.9877604246139526,\n",
       "   'subarachnoid hemorrhage': 0.9877604246139526,\n",
       "   'anal injury': 0.9877604246139526,\n",
       "   'cat': 0.9877604246139526,\n",
       "   'brother': 0.9877604246139526,\n",
       "   'cerebral hemorrhage': 0.9877604246139526,\n",
       "   'endotracheal': 0.9877604246139526},\n",
       "  'covid-19': {'covid-19': 1.0000001192092896,\n",
       "   'middle east respiratory syndrome': 0.9908419847488403,\n",
       "   'severe acute respiratory syndrome': 0.989099383354187,\n",
       "   'dyspnea': 0.9888877868652344,\n",
       "   'asthma': 0.9888704419136047,\n",
       "   'pulmonary edema': 0.9877978563308716,\n",
       "   'h1n1 influenza': 0.9875248670578003,\n",
       "   'airway': 0.9868596196174622,\n",
       "   'cystic fibrosis pulmonary exacerbation': 0.9864298105239868,\n",
       "   'childhood-onset systemic lupus erythematosus': 0.9860692620277405,\n",
       "   'pleural effusion': 0.986064612865448,\n",
       "   'septicemia': 0.9855597019195557,\n",
       "   'dengue fever': 0.9852378368377686,\n",
       "   'viral respiratory tract infection': 0.9848980903625488,\n",
       "   'renal failure': 0.9846494197845459,\n",
       "   'saliva': 0.9845123887062073,\n",
       "   'arthritis': 0.9844304919242859,\n",
       "   'upper respiratory tract infection': 0.9842159748077393,\n",
       "   'septic shock': 0.9839377403259277,\n",
       "   'delirium': 0.9838705062866211},\n",
       "  'dna replication': {'dna replication': 1.0,\n",
       "   'mutation abnormality': 0.9901041984558105,\n",
       "   'nucleotide': 0.9890500903129578,\n",
       "   'herpesvirus': 0.9870496988296509,\n",
       "   'ribonucleic acid': 0.9855033159255981,\n",
       "   'aspirin': 0.9852744340896606,\n",
       "   'adenoviridae': 0.9850296974182129,\n",
       "   'candidiasis': 0.9848898649215698,\n",
       "   'human immunodeficiency virus 1': 0.9848166704177856,\n",
       "   'feces': 0.9848101735115051,\n",
       "   'immunocompromised': 0.9845682978630066,\n",
       "   'sus': 0.984200656414032,\n",
       "   'cyclophosphamide': 0.9841594696044922,\n",
       "   'epstein-barr virus': 0.9841375350952148,\n",
       "   'glycopeptide': 0.9839964509010315,\n",
       "   'cytomegaloviral infection': 0.9837101697921753,\n",
       "   'immune': 0.9836884140968323,\n",
       "   'aspartic acid': 0.9833881258964539,\n",
       "   'human immunodeficiency virus': 0.983113169670105,\n",
       "   'electron': 0.9831091165542603}}}"
      ]
     },
     "execution_count": 315,
     "metadata": {},
     "output_type": "execute_result"
    }
   ],
   "source": [
    "%%time\n",
    "r = requests.get(\n",
    "    'http://127.0.0.1:5000/model/similar-points/',\n",
    "    params={\n",
    "        \"name\": \"Test attri2vec model\",\n",
    "        \"resource_ids\": [\"glucose\", \"covid-19\", \"dna replication\"],\n",
    "        \"k\": 20,\n",
    "        \"values\": True\n",
    "    })\n",
    "print(r)\n",
    "r.json()"
   ]
  }
 ],
 "metadata": {
  "kernelspec": {
   "display_name": "bluegraph",
   "language": "python",
   "name": "bluegraph"
  },
  "language_info": {
   "codemirror_mode": {
    "name": "ipython",
    "version": 3
   },
   "file_extension": ".py",
   "mimetype": "text/x-python",
   "name": "python",
   "nbconvert_exporter": "python",
   "pygments_lexer": "ipython3",
   "version": "3.6.12"
  }
 },
 "nbformat": 4,
 "nbformat_minor": 4
}
