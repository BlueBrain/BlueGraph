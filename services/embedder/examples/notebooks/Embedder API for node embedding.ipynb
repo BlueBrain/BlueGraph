{
 "cells": [
  {
   "cell_type": "markdown",
   "metadata": {},
   "source": [
    "# Embedder API example: node embedding"
   ]
  },
  {
   "cell_type": "markdown",
   "metadata": {},
   "source": [
    "In order to run this notebook, setup and start the embedding service as described [here](https://github.com/BlueBrain/BlueGraph/blob/master/services/embedder/README.rst).\n",
    "\n",
    "You may want to modify the following configs in `services/embedder/configs/app_config.py`:\n",
    "\n",
    "- `DOWNLOAD_DIR = \"downloads/\"`: Directory for downloading or serving from embeddig pipelines\n",
    "- `LOCAL = True`: Flag indicating whether you would like to serve embedding pipelines hosted in Nexus or stored in the local `DOWNLOAD_DIR` \n",
    "\n",
    "By default, the `services/embedder/downloads` folder is used and `LOCAL` is set to `True`. This folder contains two example models (`Cord-19-NCIT-linking` and `Attri2vec_test_model`) distributed along with the source code."
   ]
  },
  {
   "cell_type": "code",
   "execution_count": null,
   "metadata": {},
   "outputs": [],
   "source": [
    "import requests\n",
    "import json\n",
    "import getpass"
   ]
  },
  {
   "cell_type": "code",
   "execution_count": null,
   "metadata": {},
   "outputs": [],
   "source": [
    "ENDPOINT = \"http://127.0.0.1:5000\""
   ]
  },
  {
   "cell_type": "markdown",
   "metadata": {},
   "source": [
    "## Get all the models in the catalogue"
   ]
  },
  {
   "cell_type": "code",
   "execution_count": null,
   "metadata": {},
   "outputs": [],
   "source": [
    "r = requests.get(\n",
    "    f'{ENDPOINT}/models/')\n",
    "print(r)\n",
    "r.json()"
   ]
  },
  {
   "cell_type": "markdown",
   "metadata": {},
   "source": [
    "## Get a model by name"
   ]
  },
  {
   "cell_type": "code",
   "execution_count": null,
   "metadata": {},
   "outputs": [],
   "source": [
    "MODEL_NAME = \"Attri2vec_test_model\""
   ]
  },
  {
   "cell_type": "code",
   "execution_count": null,
   "metadata": {},
   "outputs": [],
   "source": [
    "r = requests.get(\n",
    "    f'{ENDPOINT}/models/{MODEL_NAME}')\n",
    "print(r)\n",
    "r.json()"
   ]
  },
  {
   "cell_type": "markdown",
   "metadata": {},
   "source": [
    "## Get details on different model components"
   ]
  },
  {
   "cell_type": "code",
   "execution_count": null,
   "metadata": {},
   "outputs": [],
   "source": [
    "r = requests.get(\n",
    "    f'{ENDPOINT}/models/{MODEL_NAME}/preprocessor/')\n",
    "print(r)\n",
    "r.json()"
   ]
  },
  {
   "cell_type": "code",
   "execution_count": null,
   "metadata": {},
   "outputs": [],
   "source": [
    "r = requests.get(\n",
    "    f'{ENDPOINT}/models/{MODEL_NAME}/embedder/')\n",
    "print(r)\n",
    "r.json()"
   ]
  },
  {
   "cell_type": "code",
   "execution_count": null,
   "metadata": {},
   "outputs": [],
   "source": [
    "r = requests.get(\n",
    "    f'{ENDPOINT}/models/{MODEL_NAME}/similarity-processor/')\n",
    "print(r)\n",
    "r.json()"
   ]
  },
  {
   "cell_type": "markdown",
   "metadata": {},
   "source": [
    "## Get resource embeddings"
   ]
  },
  {
   "cell_type": "code",
   "execution_count": null,
   "metadata": {
    "scrolled": true
   },
   "outputs": [],
   "source": [
    "%%time\n",
    "r = requests.get(\n",
    "    f'{ENDPOINT}/models/{MODEL_NAME}/embedding/',\n",
    "    params={\n",
    "        \"resource_ids\": [\"dna replication\", \"glucose\", \"covid-19 infection\", \"lalala not in the index\"]\n",
    "    })\n",
    "print(r)\n",
    "r.json()"
   ]
  },
  {
   "cell_type": "markdown",
   "metadata": {},
   "source": [
    "Alternatively, to retrieve embedding vectors for a large number of resources, a POST request can be sent to the same endpoint with the resource IDs in the request body."
   ]
  },
  {
   "cell_type": "code",
   "execution_count": null,
   "metadata": {},
   "outputs": [],
   "source": [
    "%%time\n",
    "r = requests.post(\n",
    "    f'{ENDPOINT}/models/{MODEL_NAME}/embedding/',\n",
    "    json={\n",
    "        \"resource_ids\": [\"dna replication\", \"glucose\", \"covid-19 infection\", \"lalala not in the index\"]\n",
    "    })\n",
    "print(r)\n",
    "r.json()"
   ]
  },
  {
   "cell_type": "markdown",
   "metadata": {},
   "source": [
    "## Get nearest neighbors"
   ]
  },
  {
   "cell_type": "code",
   "execution_count": null,
   "metadata": {
    "scrolled": true
   },
   "outputs": [],
   "source": [
    "%%time\n",
    "r = requests.get(\n",
    "    f'{ENDPOINT}/models/{MODEL_NAME}/neighbors/',\n",
    "    params={\n",
    "        \"resource_ids\": [\"glucose\", \"covid-19 infection\", \"dna replication\", \"lalala not in the index\"],\n",
    "        \"k\": 20\n",
    "    })\n",
    "print(r)\n",
    "r.json()"
   ]
  },
  {
   "cell_type": "code",
   "execution_count": null,
   "metadata": {
    "scrolled": true
   },
   "outputs": [],
   "source": [
    "%%time\n",
    "r = requests.get(\n",
    "    f'{ENDPOINT}/models/{MODEL_NAME}/neighbors/',\n",
    "    params={\n",
    "        \"resource_ids\": [\"glucose\", \"covid-19 infection\", \"dna replication\", \"lalala not in the index\"],\n",
    "        \"k\": 20,\n",
    "        \"values\": True\n",
    "    })\n",
    "print(r)\n",
    "r.json()"
   ]
  },
  {
   "cell_type": "markdown",
   "metadata": {},
   "source": [
    "Alternatively, to get nearest neighbors for a large number of resources, a POST request can be sent to the same endpoint with the resource IDs in the request body."
   ]
  },
  {
   "cell_type": "code",
   "execution_count": null,
   "metadata": {
    "scrolled": true
   },
   "outputs": [],
   "source": [
    "%%time\n",
    "r = requests.post(\n",
    "    f'{ENDPOINT}/models/{MODEL_NAME}/neighbors/',\n",
    "    params={\"k\": 20, \"values\": True},\n",
    "    json={\n",
    "        \"resource_ids\": [\"glucose\", \"covid-19 infection\", \"dna replication\", \"lalala not in the index\"],\n",
    "    })\n",
    "print(r)\n",
    "r.json()"
   ]
  },
  {
   "cell_type": "markdown",
   "metadata": {},
   "source": [
    "## Predict embeddings for unseen graph nodes in JSON"
   ]
  },
  {
   "cell_type": "code",
   "execution_count": null,
   "metadata": {},
   "outputs": [],
   "source": [
    "with open(\"../../../../examples/data/test_cooccurrence_graph.json\", \"r\") as f:\n",
    "    graph_json = json.load(f)"
   ]
  },
  {
   "cell_type": "code",
   "execution_count": null,
   "metadata": {},
   "outputs": [],
   "source": [
    "%%time\n",
    "r = requests.post(\n",
    "    f'{ENDPOINT}/models/{MODEL_NAME}/embedding/',\n",
    "    json={\n",
    "        \"data\": graph_json,\n",
    "        \"data_type\": \"json_pgframe\"\n",
    "    })\n",
    "print(r)\n",
    "vectors = r.json()[\"vectors\"]"
   ]
  },
  {
   "cell_type": "code",
   "execution_count": null,
   "metadata": {
    "scrolled": true
   },
   "outputs": [],
   "source": [
    "%%time\n",
    "r = requests.post(\n",
    "    f'{ENDPOINT}/models/{MODEL_NAME}/neighbors/',\n",
    "    params={\n",
    "        \"k\": 20,\n",
    "        \"values\": True\n",
    "    },\n",
    "    json={\n",
    "        \"vectors\": vectors\n",
    "    })\n",
    "print(r)\n",
    "r.json()"
   ]
  },
  {
   "cell_type": "markdown",
   "metadata": {},
   "source": [
    "## Predict embeddings for unseen graph nodes from a Nexus dataset"
   ]
  },
  {
   "cell_type": "code",
   "execution_count": null,
   "metadata": {},
   "outputs": [],
   "source": [
    "import getpass"
   ]
  },
  {
   "cell_type": "code",
   "execution_count": null,
   "metadata": {},
   "outputs": [],
   "source": [
    "# Specify here your ENDPOINT/BUCKET and RESOURCE_ID with a JSON-serialized PGFrames\n",
    "NEXUS_ENDPOINT = \"https://staging.nexus.ocp.bbp.epfl.ch/v1\"\n",
    "BUCKET = \"dke/embedder_catalog\"\n",
    "RESOURCE_ID = \"https://staging.nexus.ocp.bbp.epfl.ch/v1/resources/dke/embedder_catalog/_/aa9fc8c3-e559-4c9a-be9c-2a0aa92da8cf\""
   ]
  },
  {
   "cell_type": "code",
   "execution_count": null,
   "metadata": {},
   "outputs": [],
   "source": [
    "TOKEN = getpass.getpass()"
   ]
  },
  {
   "cell_type": "code",
   "execution_count": null,
   "metadata": {},
   "outputs": [],
   "source": [
    "r.json()"
   ]
  },
  {
   "cell_type": "code",
   "execution_count": null,
   "metadata": {},
   "outputs": [],
   "source": [
    "%%time\n",
    "r = requests.post(\n",
    "    f'{ENDPOINT}/models/{MODEL_NAME}/embedding/',\n",
    "    headers={'Authorization': f'Bearer {TOKEN}'},\n",
    "    json={\n",
    "        \"data\": {\n",
    "            \"endpoint\": NEXUS_ENDPOINT,\n",
    "            \"bucket\": BUCKET,\n",
    "            \"resource_id\": RESOURCE_ID\n",
    "        },\n",
    "        \"data_type\": \"nexus_dataset\",\n",
    "    })\n",
    "print(r)\n",
    "vectors = r.json()[\"vectors\"]"
   ]
  },
  {
   "cell_type": "code",
   "execution_count": null,
   "metadata": {},
   "outputs": [],
   "source": [
    "%%time\n",
    "r = requests.post(\n",
    "    f'{ENDPOINT}/models/{MODEL_NAME}/neighbors/',\n",
    "    params={\n",
    "        \"k\": 20,\n",
    "        \"values\": True\n",
    "    },\n",
    "    json={\n",
    "        \"vectors\": vectors\n",
    "    })\n",
    "print(r)\n",
    "r.json()"
   ]
  }
 ],
 "metadata": {
  "kernelspec": {
   "display_name": "bg",
   "language": "python",
   "name": "bg"
  },
  "language_info": {
   "codemirror_mode": {
    "name": "ipython",
    "version": 3
   },
   "file_extension": ".py",
   "mimetype": "text/x-python",
   "name": "python",
   "nbconvert_exporter": "python",
   "pygments_lexer": "ipython3",
   "version": "3.7.10"
  }
 },
 "nbformat": 4,
 "nbformat_minor": 4
}
