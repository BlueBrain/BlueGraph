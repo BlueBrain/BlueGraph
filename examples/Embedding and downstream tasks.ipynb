{
 "cells": [
  {
   "cell_type": "code",
   "execution_count": 1,
   "id": "institutional-flexibility",
   "metadata": {},
   "outputs": [],
   "source": [
    "import pandas as pd\n",
    "\n",
    "from bluegraph.core import PandasPGFrame\n",
    "from bluegraph.preprocess.generators import CooccurrenceGenerator\n",
    "from bluegraph.preprocess.encoders import ScikitLearnPGEncoder"
   ]
  },
  {
   "cell_type": "markdown",
   "id": "spoken-location",
   "metadata": {},
   "source": [
    "## Data preparation"
   ]
  },
  {
   "cell_type": "markdown",
   "id": "neutral-chapter",
   "metadata": {},
   "source": [
    "Fist, we read the source dataset with mentions of entities in different paragraphs"
   ]
  },
  {
   "cell_type": "code",
   "execution_count": 2,
   "id": "informative-mattress",
   "metadata": {},
   "outputs": [],
   "source": [
    "mentions = pd.read_csv(\"data/labeled_entity_occurrence.csv\")"
   ]
  },
  {
   "cell_type": "code",
   "execution_count": 3,
   "id": "alternate-swiss",
   "metadata": {},
   "outputs": [],
   "source": [
    "# Extract unique paper/seciton/paragraph identifiers\n",
    "mentions = mentions.rename(columns={\"occurrence\": \"paragraph\"})\n",
    "number_of_paragraphs = len(mentions[\"paragraph\"].unique())"
   ]
  },
  {
   "cell_type": "code",
   "execution_count": 4,
   "id": "surprised-platinum",
   "metadata": {},
   "outputs": [
    {
     "data": {
      "text/html": [
       "<div>\n",
       "<style scoped>\n",
       "    .dataframe tbody tr th:only-of-type {\n",
       "        vertical-align: middle;\n",
       "    }\n",
       "\n",
       "    .dataframe tbody tr th {\n",
       "        vertical-align: top;\n",
       "    }\n",
       "\n",
       "    .dataframe thead th {\n",
       "        text-align: right;\n",
       "    }\n",
       "</style>\n",
       "<table border=\"1\" class=\"dataframe\">\n",
       "  <thead>\n",
       "    <tr style=\"text-align: right;\">\n",
       "      <th></th>\n",
       "      <th>entity</th>\n",
       "      <th>paragraph</th>\n",
       "    </tr>\n",
       "  </thead>\n",
       "  <tbody>\n",
       "    <tr>\n",
       "      <th>0</th>\n",
       "      <td>lithostathine-1-alpha</td>\n",
       "      <td>1</td>\n",
       "    </tr>\n",
       "    <tr>\n",
       "      <th>1</th>\n",
       "      <td>pulmonary</td>\n",
       "      <td>1</td>\n",
       "    </tr>\n",
       "    <tr>\n",
       "      <th>2</th>\n",
       "      <td>host</td>\n",
       "      <td>1</td>\n",
       "    </tr>\n",
       "    <tr>\n",
       "      <th>3</th>\n",
       "      <td>lithostathine-1-alpha</td>\n",
       "      <td>2</td>\n",
       "    </tr>\n",
       "    <tr>\n",
       "      <th>4</th>\n",
       "      <td>surfactant protein d measurement</td>\n",
       "      <td>2</td>\n",
       "    </tr>\n",
       "    <tr>\n",
       "      <th>...</th>\n",
       "      <td>...</td>\n",
       "      <td>...</td>\n",
       "    </tr>\n",
       "    <tr>\n",
       "      <th>2281346</th>\n",
       "      <td>covid-19</td>\n",
       "      <td>227822</td>\n",
       "    </tr>\n",
       "    <tr>\n",
       "      <th>2281347</th>\n",
       "      <td>covid-19</td>\n",
       "      <td>227822</td>\n",
       "    </tr>\n",
       "    <tr>\n",
       "      <th>2281348</th>\n",
       "      <td>viral infection</td>\n",
       "      <td>227823</td>\n",
       "    </tr>\n",
       "    <tr>\n",
       "      <th>2281349</th>\n",
       "      <td>lipid</td>\n",
       "      <td>227823</td>\n",
       "    </tr>\n",
       "    <tr>\n",
       "      <th>2281350</th>\n",
       "      <td>inflammation</td>\n",
       "      <td>227823</td>\n",
       "    </tr>\n",
       "  </tbody>\n",
       "</table>\n",
       "<p>2281351 rows × 2 columns</p>\n",
       "</div>"
      ],
      "text/plain": [
       "                                   entity  paragraph\n",
       "0                   lithostathine-1-alpha          1\n",
       "1                               pulmonary          1\n",
       "2                                    host          1\n",
       "3                   lithostathine-1-alpha          2\n",
       "4        surfactant protein d measurement          2\n",
       "...                                   ...        ...\n",
       "2281346                          covid-19     227822\n",
       "2281347                          covid-19     227822\n",
       "2281348                   viral infection     227823\n",
       "2281349                             lipid     227823\n",
       "2281350                      inflammation     227823\n",
       "\n",
       "[2281351 rows x 2 columns]"
      ]
     },
     "execution_count": 4,
     "metadata": {},
     "output_type": "execute_result"
    }
   ],
   "source": [
    "mentions"
   ]
  },
  {
   "cell_type": "markdown",
   "id": "central-delicious",
   "metadata": {},
   "source": [
    "We will also load a dataset that contains definitions of entities and their types"
   ]
  },
  {
   "cell_type": "code",
   "execution_count": 5,
   "id": "cross-durham",
   "metadata": {
    "scrolled": false
   },
   "outputs": [],
   "source": [
    "entity_data = pd.read_csv(\"data/entity_types_defs.csv\")"
   ]
  },
  {
   "cell_type": "code",
   "execution_count": 6,
   "id": "quick-reason",
   "metadata": {},
   "outputs": [
    {
     "data": {
      "text/html": [
       "<div>\n",
       "<style scoped>\n",
       "    .dataframe tbody tr th:only-of-type {\n",
       "        vertical-align: middle;\n",
       "    }\n",
       "\n",
       "    .dataframe tbody tr th {\n",
       "        vertical-align: top;\n",
       "    }\n",
       "\n",
       "    .dataframe thead th {\n",
       "        text-align: right;\n",
       "    }\n",
       "</style>\n",
       "<table border=\"1\" class=\"dataframe\">\n",
       "  <thead>\n",
       "    <tr style=\"text-align: right;\">\n",
       "      <th></th>\n",
       "      <th>entity</th>\n",
       "      <th>entity_type</th>\n",
       "      <th>definition</th>\n",
       "    </tr>\n",
       "  </thead>\n",
       "  <tbody>\n",
       "    <tr>\n",
       "      <th>0</th>\n",
       "      <td>(e3-independent) e2 ubiquitin-conjugating enzyme</td>\n",
       "      <td>PROTEIN</td>\n",
       "      <td>(E3-independent) E2 ubiquitin-conjugating enzy...</td>\n",
       "    </tr>\n",
       "    <tr>\n",
       "      <th>1</th>\n",
       "      <td>(h115d)vhl35 peptide</td>\n",
       "      <td>CHEMICAL</td>\n",
       "      <td>A peptide vaccine derived from the von Hippel-...</td>\n",
       "    </tr>\n",
       "    <tr>\n",
       "      <th>2</th>\n",
       "      <td>1,1-dimethylhydrazine</td>\n",
       "      <td>DRUG</td>\n",
       "      <td>A clear, colorless, flammable, hygroscopic liq...</td>\n",
       "    </tr>\n",
       "    <tr>\n",
       "      <th>3</th>\n",
       "      <td>1,2-dimethylhydrazine</td>\n",
       "      <td>CHEMICAL</td>\n",
       "      <td>A compound used experimentally to induce tumor...</td>\n",
       "    </tr>\n",
       "    <tr>\n",
       "      <th>4</th>\n",
       "      <td>1,25-dihydroxyvitamin d(3) 24-hydroxylase, mit...</td>\n",
       "      <td>PROTEIN</td>\n",
       "      <td>1,25-dihydroxyvitamin D(3) 24-hydroxylase, mit...</td>\n",
       "    </tr>\n",
       "    <tr>\n",
       "      <th>...</th>\n",
       "      <td>...</td>\n",
       "      <td>...</td>\n",
       "      <td>...</td>\n",
       "    </tr>\n",
       "    <tr>\n",
       "      <th>28127</th>\n",
       "      <td>zygomycosis</td>\n",
       "      <td>DISEASE</td>\n",
       "      <td>Any infection due to a fungus of the Zygomycot...</td>\n",
       "    </tr>\n",
       "    <tr>\n",
       "      <th>28128</th>\n",
       "      <td>zygomycota</td>\n",
       "      <td>ORGANISM</td>\n",
       "      <td>A phylum of fungi that are characterized by ve...</td>\n",
       "    </tr>\n",
       "    <tr>\n",
       "      <th>28129</th>\n",
       "      <td>zygosity</td>\n",
       "      <td>ORGANISM</td>\n",
       "      <td>The genetic condition of a zygote, especially ...</td>\n",
       "    </tr>\n",
       "    <tr>\n",
       "      <th>28130</th>\n",
       "      <td>zygote</td>\n",
       "      <td>CELL_COMPARTMENT</td>\n",
       "      <td>The cell formed by the union of two gametes, e...</td>\n",
       "    </tr>\n",
       "    <tr>\n",
       "      <th>28131</th>\n",
       "      <td>zyxin</td>\n",
       "      <td>ORGANISM</td>\n",
       "      <td>Zyxin (572 aa, ~61 kDa) is encoded by the huma...</td>\n",
       "    </tr>\n",
       "  </tbody>\n",
       "</table>\n",
       "<p>28132 rows × 3 columns</p>\n",
       "</div>"
      ],
      "text/plain": [
       "                                                  entity       entity_type  \\\n",
       "0       (e3-independent) e2 ubiquitin-conjugating enzyme           PROTEIN   \n",
       "1                                   (h115d)vhl35 peptide          CHEMICAL   \n",
       "2                                  1,1-dimethylhydrazine              DRUG   \n",
       "3                                  1,2-dimethylhydrazine          CHEMICAL   \n",
       "4      1,25-dihydroxyvitamin d(3) 24-hydroxylase, mit...           PROTEIN   \n",
       "...                                                  ...               ...   \n",
       "28127                                        zygomycosis           DISEASE   \n",
       "28128                                         zygomycota          ORGANISM   \n",
       "28129                                           zygosity          ORGANISM   \n",
       "28130                                             zygote  CELL_COMPARTMENT   \n",
       "28131                                              zyxin          ORGANISM   \n",
       "\n",
       "                                              definition  \n",
       "0      (E3-independent) E2 ubiquitin-conjugating enzy...  \n",
       "1      A peptide vaccine derived from the von Hippel-...  \n",
       "2      A clear, colorless, flammable, hygroscopic liq...  \n",
       "3      A compound used experimentally to induce tumor...  \n",
       "4      1,25-dihydroxyvitamin D(3) 24-hydroxylase, mit...  \n",
       "...                                                  ...  \n",
       "28127  Any infection due to a fungus of the Zygomycot...  \n",
       "28128  A phylum of fungi that are characterized by ve...  \n",
       "28129  The genetic condition of a zygote, especially ...  \n",
       "28130  The cell formed by the union of two gametes, e...  \n",
       "28131  Zyxin (572 aa, ~61 kDa) is encoded by the huma...  \n",
       "\n",
       "[28132 rows x 3 columns]"
      ]
     },
     "execution_count": 6,
     "metadata": {},
     "output_type": "execute_result"
    }
   ],
   "source": [
    "entity_data"
   ]
  },
  {
   "cell_type": "markdown",
   "id": "prepared-butler",
   "metadata": {},
   "source": [
    "### Generation of a co-occurrence graph"
   ]
  },
  {
   "cell_type": "markdown",
   "id": "japanese-quilt",
   "metadata": {},
   "source": [
    "We first create a graph whose nodes are entities"
   ]
  },
  {
   "cell_type": "code",
   "execution_count": 7,
   "id": "everyday-provider",
   "metadata": {},
   "outputs": [],
   "source": [
    "graph = PandasPGFrame()\n",
    "entity_nodes = mentions[\"entity\"].unique()\n",
    "graph.add_nodes(entity_nodes)\n",
    "graph.add_node_types({n: \"Entity\" for n in entity_nodes})\n",
    "\n",
    "entity_props = entity_data.rename(columns={\"entity\": \"@id\"}).set_index(\"@id\")\n",
    "graph.add_node_properties(entity_props[\"entity_type\"], prop_type=\"category\")\n",
    "graph.add_node_properties(entity_props[\"definition\"], prop_type=\"text\")"
   ]
  },
  {
   "cell_type": "code",
   "execution_count": 8,
   "id": "respected-plenty",
   "metadata": {},
   "outputs": [],
   "source": [
    "paragraph_prop = pd.DataFrame({\"paragraphs\": mentions.groupby(\"entity\").aggregate(set)[\"paragraph\"]})\n",
    "graph.add_node_properties(paragraph_prop, prop_type=\"category\")"
   ]
  },
  {
   "cell_type": "code",
   "execution_count": 9,
   "id": "australian-rebel",
   "metadata": {},
   "outputs": [
    {
     "data": {
      "text/html": [
       "<div>\n",
       "<style scoped>\n",
       "    .dataframe tbody tr th:only-of-type {\n",
       "        vertical-align: middle;\n",
       "    }\n",
       "\n",
       "    .dataframe tbody tr th {\n",
       "        vertical-align: top;\n",
       "    }\n",
       "\n",
       "    .dataframe thead th {\n",
       "        text-align: right;\n",
       "    }\n",
       "</style>\n",
       "<table border=\"1\" class=\"dataframe\">\n",
       "  <thead>\n",
       "    <tr style=\"text-align: right;\">\n",
       "      <th></th>\n",
       "      <th>@type</th>\n",
       "      <th>entity_type</th>\n",
       "      <th>definition</th>\n",
       "      <th>paragraphs</th>\n",
       "    </tr>\n",
       "    <tr>\n",
       "      <th>@id</th>\n",
       "      <th></th>\n",
       "      <th></th>\n",
       "      <th></th>\n",
       "      <th></th>\n",
       "    </tr>\n",
       "  </thead>\n",
       "  <tbody>\n",
       "    <tr>\n",
       "      <th>lithostathine-1-alpha</th>\n",
       "      <td>Entity</td>\n",
       "      <td>PROTEIN</td>\n",
       "      <td>Lithostathine-1-alpha (166 aa, ~19 kDa) is enc...</td>\n",
       "      <td>{1, 2, 3, 18178, 195589, 104454, 88967, 104455...</td>\n",
       "    </tr>\n",
       "    <tr>\n",
       "      <th>pulmonary</th>\n",
       "      <td>Entity</td>\n",
       "      <td>ORGAN</td>\n",
       "      <td>Relating to the lungs as the intended site of ...</td>\n",
       "      <td>{1, 196612, 196613, 196614, 196621, 196623, 16...</td>\n",
       "    </tr>\n",
       "    <tr>\n",
       "      <th>host</th>\n",
       "      <td>Entity</td>\n",
       "      <td>ORGANISM</td>\n",
       "      <td>An organism that nourishes and supports anothe...</td>\n",
       "      <td>{1, 114689, 3, 221193, 180243, 180247, 28, 180...</td>\n",
       "    </tr>\n",
       "    <tr>\n",
       "      <th>surfactant protein d measurement</th>\n",
       "      <td>Entity</td>\n",
       "      <td>PROTEIN</td>\n",
       "      <td>The determination of the amount of surfactant ...</td>\n",
       "      <td>{145537, 2, 3, 4, 5, 6, 51202, 103939, 103940,...</td>\n",
       "    </tr>\n",
       "    <tr>\n",
       "      <th>communication response</th>\n",
       "      <td>Entity</td>\n",
       "      <td>PATHWAY</td>\n",
       "      <td>A statement (either spoken or written) that is...</td>\n",
       "      <td>{46592, 64000, 2, 28162, 166912, 226304, 88585...</td>\n",
       "    </tr>\n",
       "    <tr>\n",
       "      <th>...</th>\n",
       "      <td>...</td>\n",
       "      <td>...</td>\n",
       "      <td>...</td>\n",
       "      <td>...</td>\n",
       "    </tr>\n",
       "    <tr>\n",
       "      <th>drug binding site</th>\n",
       "      <td>Entity</td>\n",
       "      <td>PATHWAY</td>\n",
       "      <td>The reactive parts of a macromolecule that dir...</td>\n",
       "      <td>{225082, 225079}</td>\n",
       "    </tr>\n",
       "    <tr>\n",
       "      <th>carbaril</th>\n",
       "      <td>Entity</td>\n",
       "      <td>CHEMICAL</td>\n",
       "      <td>A synthetic carbamate acetylcholinesterase inh...</td>\n",
       "      <td>{225408, 225409, 225415, 225419, 225397}</td>\n",
       "    </tr>\n",
       "    <tr>\n",
       "      <th>ny-eso-1 positive tumor cells present</th>\n",
       "      <td>Entity</td>\n",
       "      <td>CELL_TYPE</td>\n",
       "      <td>An indication that Cancer/Testis Antigen 1 exp...</td>\n",
       "      <td>{225544, 226996}</td>\n",
       "    </tr>\n",
       "    <tr>\n",
       "      <th>mustelidae</th>\n",
       "      <td>Entity</td>\n",
       "      <td>ORGANISM</td>\n",
       "      <td>Taxonomic family which includes the Ferret.</td>\n",
       "      <td>{225901, 225903}</td>\n",
       "    </tr>\n",
       "    <tr>\n",
       "      <th>friulian language</th>\n",
       "      <td>Entity</td>\n",
       "      <td>ORGANISM</td>\n",
       "      <td>An Indo-European Romance language spoken in th...</td>\n",
       "      <td>{225901, 225903}</td>\n",
       "    </tr>\n",
       "  </tbody>\n",
       "</table>\n",
       "<p>17989 rows × 4 columns</p>\n",
       "</div>"
      ],
      "text/plain": [
       "                                        @type entity_type  \\\n",
       "@id                                                         \n",
       "lithostathine-1-alpha                  Entity     PROTEIN   \n",
       "pulmonary                              Entity       ORGAN   \n",
       "host                                   Entity    ORGANISM   \n",
       "surfactant protein d measurement       Entity     PROTEIN   \n",
       "communication response                 Entity     PATHWAY   \n",
       "...                                       ...         ...   \n",
       "drug binding site                      Entity     PATHWAY   \n",
       "carbaril                               Entity    CHEMICAL   \n",
       "ny-eso-1 positive tumor cells present  Entity   CELL_TYPE   \n",
       "mustelidae                             Entity    ORGANISM   \n",
       "friulian language                      Entity    ORGANISM   \n",
       "\n",
       "                                                                              definition  \\\n",
       "@id                                                                                        \n",
       "lithostathine-1-alpha                  Lithostathine-1-alpha (166 aa, ~19 kDa) is enc...   \n",
       "pulmonary                              Relating to the lungs as the intended site of ...   \n",
       "host                                   An organism that nourishes and supports anothe...   \n",
       "surfactant protein d measurement       The determination of the amount of surfactant ...   \n",
       "communication response                 A statement (either spoken or written) that is...   \n",
       "...                                                                                  ...   \n",
       "drug binding site                      The reactive parts of a macromolecule that dir...   \n",
       "carbaril                               A synthetic carbamate acetylcholinesterase inh...   \n",
       "ny-eso-1 positive tumor cells present  An indication that Cancer/Testis Antigen 1 exp...   \n",
       "mustelidae                                   Taxonomic family which includes the Ferret.   \n",
       "friulian language                      An Indo-European Romance language spoken in th...   \n",
       "\n",
       "                                                                              paragraphs  \n",
       "@id                                                                                       \n",
       "lithostathine-1-alpha                  {1, 2, 3, 18178, 195589, 104454, 88967, 104455...  \n",
       "pulmonary                              {1, 196612, 196613, 196614, 196621, 196623, 16...  \n",
       "host                                   {1, 114689, 3, 221193, 180243, 180247, 28, 180...  \n",
       "surfactant protein d measurement       {145537, 2, 3, 4, 5, 6, 51202, 103939, 103940,...  \n",
       "communication response                 {46592, 64000, 2, 28162, 166912, 226304, 88585...  \n",
       "...                                                                                  ...  \n",
       "drug binding site                                                       {225082, 225079}  \n",
       "carbaril                                        {225408, 225409, 225415, 225419, 225397}  \n",
       "ny-eso-1 positive tumor cells present                                   {225544, 226996}  \n",
       "mustelidae                                                              {225901, 225903}  \n",
       "friulian language                                                       {225901, 225903}  \n",
       "\n",
       "[17989 rows x 4 columns]"
      ]
     },
     "execution_count": 9,
     "metadata": {},
     "output_type": "execute_result"
    }
   ],
   "source": [
    "graph.nodes(raw_frame=True)"
   ]
  },
  {
   "cell_type": "markdown",
   "id": "consecutive-style",
   "metadata": {},
   "source": [
    "For each node we will add the `frequency` property that counts the total number of paragraphs where the entity was mentioned."
   ]
  },
  {
   "cell_type": "code",
   "execution_count": 10,
   "id": "prescription-utilization",
   "metadata": {},
   "outputs": [],
   "source": [
    "frequencies = graph._nodes[\"paragraphs\"].apply(len)\n",
    "frequencies.name = \"frequency\"\n",
    "graph.add_node_properties(frequencies)"
   ]
  },
  {
   "cell_type": "code",
   "execution_count": 11,
   "id": "cleared-trunk",
   "metadata": {},
   "outputs": [
    {
     "data": {
      "text/html": [
       "<div>\n",
       "<style scoped>\n",
       "    .dataframe tbody tr th:only-of-type {\n",
       "        vertical-align: middle;\n",
       "    }\n",
       "\n",
       "    .dataframe tbody tr th {\n",
       "        vertical-align: top;\n",
       "    }\n",
       "\n",
       "    .dataframe thead th {\n",
       "        text-align: right;\n",
       "    }\n",
       "</style>\n",
       "<table border=\"1\" class=\"dataframe\">\n",
       "  <thead>\n",
       "    <tr style=\"text-align: right;\">\n",
       "      <th></th>\n",
       "      <th>@type</th>\n",
       "      <th>entity_type</th>\n",
       "      <th>definition</th>\n",
       "      <th>paragraphs</th>\n",
       "      <th>frequency</th>\n",
       "    </tr>\n",
       "    <tr>\n",
       "      <th>@id</th>\n",
       "      <th></th>\n",
       "      <th></th>\n",
       "      <th></th>\n",
       "      <th></th>\n",
       "      <th></th>\n",
       "    </tr>\n",
       "  </thead>\n",
       "  <tbody>\n",
       "    <tr>\n",
       "      <th>lithostathine-1-alpha</th>\n",
       "      <td>Entity</td>\n",
       "      <td>PROTEIN</td>\n",
       "      <td>Lithostathine-1-alpha (166 aa, ~19 kDa) is enc...</td>\n",
       "      <td>{1, 2, 3, 18178, 195589, 104454, 88967, 104455...</td>\n",
       "      <td>80</td>\n",
       "    </tr>\n",
       "    <tr>\n",
       "      <th>pulmonary</th>\n",
       "      <td>Entity</td>\n",
       "      <td>ORGAN</td>\n",
       "      <td>Relating to the lungs as the intended site of ...</td>\n",
       "      <td>{1, 196612, 196613, 196614, 196621, 196623, 16...</td>\n",
       "      <td>8295</td>\n",
       "    </tr>\n",
       "    <tr>\n",
       "      <th>host</th>\n",
       "      <td>Entity</td>\n",
       "      <td>ORGANISM</td>\n",
       "      <td>An organism that nourishes and supports anothe...</td>\n",
       "      <td>{1, 114689, 3, 221193, 180243, 180247, 28, 180...</td>\n",
       "      <td>2660</td>\n",
       "    </tr>\n",
       "    <tr>\n",
       "      <th>surfactant protein d measurement</th>\n",
       "      <td>Entity</td>\n",
       "      <td>PROTEIN</td>\n",
       "      <td>The determination of the amount of surfactant ...</td>\n",
       "      <td>{145537, 2, 3, 4, 5, 6, 51202, 103939, 103940,...</td>\n",
       "      <td>268</td>\n",
       "    </tr>\n",
       "    <tr>\n",
       "      <th>communication response</th>\n",
       "      <td>Entity</td>\n",
       "      <td>PATHWAY</td>\n",
       "      <td>A statement (either spoken or written) that is...</td>\n",
       "      <td>{46592, 64000, 2, 28162, 166912, 226304, 88585...</td>\n",
       "      <td>160</td>\n",
       "    </tr>\n",
       "    <tr>\n",
       "      <th>...</th>\n",
       "      <td>...</td>\n",
       "      <td>...</td>\n",
       "      <td>...</td>\n",
       "      <td>...</td>\n",
       "      <td>...</td>\n",
       "    </tr>\n",
       "    <tr>\n",
       "      <th>drug binding site</th>\n",
       "      <td>Entity</td>\n",
       "      <td>PATHWAY</td>\n",
       "      <td>The reactive parts of a macromolecule that dir...</td>\n",
       "      <td>{225082, 225079}</td>\n",
       "      <td>2</td>\n",
       "    </tr>\n",
       "    <tr>\n",
       "      <th>carbaril</th>\n",
       "      <td>Entity</td>\n",
       "      <td>CHEMICAL</td>\n",
       "      <td>A synthetic carbamate acetylcholinesterase inh...</td>\n",
       "      <td>{225408, 225409, 225415, 225419, 225397}</td>\n",
       "      <td>5</td>\n",
       "    </tr>\n",
       "    <tr>\n",
       "      <th>ny-eso-1 positive tumor cells present</th>\n",
       "      <td>Entity</td>\n",
       "      <td>CELL_TYPE</td>\n",
       "      <td>An indication that Cancer/Testis Antigen 1 exp...</td>\n",
       "      <td>{225544, 226996}</td>\n",
       "      <td>2</td>\n",
       "    </tr>\n",
       "    <tr>\n",
       "      <th>mustelidae</th>\n",
       "      <td>Entity</td>\n",
       "      <td>ORGANISM</td>\n",
       "      <td>Taxonomic family which includes the Ferret.</td>\n",
       "      <td>{225901, 225903}</td>\n",
       "      <td>2</td>\n",
       "    </tr>\n",
       "    <tr>\n",
       "      <th>friulian language</th>\n",
       "      <td>Entity</td>\n",
       "      <td>ORGANISM</td>\n",
       "      <td>An Indo-European Romance language spoken in th...</td>\n",
       "      <td>{225901, 225903}</td>\n",
       "      <td>2</td>\n",
       "    </tr>\n",
       "  </tbody>\n",
       "</table>\n",
       "<p>17989 rows × 5 columns</p>\n",
       "</div>"
      ],
      "text/plain": [
       "                                        @type entity_type  \\\n",
       "@id                                                         \n",
       "lithostathine-1-alpha                  Entity     PROTEIN   \n",
       "pulmonary                              Entity       ORGAN   \n",
       "host                                   Entity    ORGANISM   \n",
       "surfactant protein d measurement       Entity     PROTEIN   \n",
       "communication response                 Entity     PATHWAY   \n",
       "...                                       ...         ...   \n",
       "drug binding site                      Entity     PATHWAY   \n",
       "carbaril                               Entity    CHEMICAL   \n",
       "ny-eso-1 positive tumor cells present  Entity   CELL_TYPE   \n",
       "mustelidae                             Entity    ORGANISM   \n",
       "friulian language                      Entity    ORGANISM   \n",
       "\n",
       "                                                                              definition  \\\n",
       "@id                                                                                        \n",
       "lithostathine-1-alpha                  Lithostathine-1-alpha (166 aa, ~19 kDa) is enc...   \n",
       "pulmonary                              Relating to the lungs as the intended site of ...   \n",
       "host                                   An organism that nourishes and supports anothe...   \n",
       "surfactant protein d measurement       The determination of the amount of surfactant ...   \n",
       "communication response                 A statement (either spoken or written) that is...   \n",
       "...                                                                                  ...   \n",
       "drug binding site                      The reactive parts of a macromolecule that dir...   \n",
       "carbaril                               A synthetic carbamate acetylcholinesterase inh...   \n",
       "ny-eso-1 positive tumor cells present  An indication that Cancer/Testis Antigen 1 exp...   \n",
       "mustelidae                                   Taxonomic family which includes the Ferret.   \n",
       "friulian language                      An Indo-European Romance language spoken in th...   \n",
       "\n",
       "                                                                              paragraphs  \\\n",
       "@id                                                                                        \n",
       "lithostathine-1-alpha                  {1, 2, 3, 18178, 195589, 104454, 88967, 104455...   \n",
       "pulmonary                              {1, 196612, 196613, 196614, 196621, 196623, 16...   \n",
       "host                                   {1, 114689, 3, 221193, 180243, 180247, 28, 180...   \n",
       "surfactant protein d measurement       {145537, 2, 3, 4, 5, 6, 51202, 103939, 103940,...   \n",
       "communication response                 {46592, 64000, 2, 28162, 166912, 226304, 88585...   \n",
       "...                                                                                  ...   \n",
       "drug binding site                                                       {225082, 225079}   \n",
       "carbaril                                        {225408, 225409, 225415, 225419, 225397}   \n",
       "ny-eso-1 positive tumor cells present                                   {225544, 226996}   \n",
       "mustelidae                                                              {225901, 225903}   \n",
       "friulian language                                                       {225901, 225903}   \n",
       "\n",
       "                                       frequency  \n",
       "@id                                               \n",
       "lithostathine-1-alpha                         80  \n",
       "pulmonary                                   8295  \n",
       "host                                        2660  \n",
       "surfactant protein d measurement             268  \n",
       "communication response                       160  \n",
       "...                                          ...  \n",
       "drug binding site                              2  \n",
       "carbaril                                       5  \n",
       "ny-eso-1 positive tumor cells present          2  \n",
       "mustelidae                                     2  \n",
       "friulian language                              2  \n",
       "\n",
       "[17989 rows x 5 columns]"
      ]
     },
     "execution_count": 11,
     "metadata": {},
     "output_type": "execute_result"
    }
   ],
   "source": [
    "graph.nodes(raw_frame=True)"
   ]
  },
  {
   "cell_type": "markdown",
   "id": "waiting-jimmy",
   "metadata": {},
   "source": [
    "Now, for constructing co-occurrence network we will select only 1000 most frequent entities."
   ]
  },
  {
   "cell_type": "code",
   "execution_count": 12,
   "id": "sensitive-running",
   "metadata": {},
   "outputs": [],
   "source": [
    "nodes_to_include = graph._nodes.nlargest(1000, \"frequency\").index"
   ]
  },
  {
   "cell_type": "code",
   "execution_count": 13,
   "id": "helpful-lounge",
   "metadata": {},
   "outputs": [
    {
     "data": {
      "text/plain": [
       "Index(['covid-19', 'blood', 'human', 'infectious disorder', 'heart',\n",
       "       'diabetes mellitus', 'lung', 'sars-cov-2', 'mouse', 'pulmonary',\n",
       "       ...\n",
       "       'wheezing', 'chief complaint', 'azathioprine', 'ileum', 'hematology',\n",
       "       'nonalcoholic steatohepatitis', 'nervous system disorder',\n",
       "       'renal impairment', 'urticaria', 'rectum'],\n",
       "      dtype='object', name='@id', length=1000)"
      ]
     },
     "execution_count": 13,
     "metadata": {},
     "output_type": "execute_result"
    }
   ],
   "source": [
    "nodes_to_include"
   ]
  },
  {
   "cell_type": "markdown",
   "id": "wired-train",
   "metadata": {},
   "source": [
    "The `CooccurrenceGenerator` class allows us to generate co-occurrence edges from overlaps in node property values or edge (or edge properties). In this case we consider the `paragraph` node property and construct co-occurrence edges from overlapping sets of paragraphs. In addition, we will compute some co-occurrence statistics: total co-occurrence frequency and normalized pointwise mutual information (NPMI)."
   ]
  },
  {
   "cell_type": "code",
   "execution_count": 14,
   "id": "removed-paraguay",
   "metadata": {},
   "outputs": [
    {
     "name": "stdout",
     "output_type": "stream",
     "text": [
      "Examining 499500 pairs of terms for co-occurrence...\n",
      "CPU times: user 7.51 s, sys: 2.12 s, total: 9.63 s\n",
      "Wall time: 1min 18s\n"
     ]
    }
   ],
   "source": [
    "%%time\n",
    "generator = CooccurrenceGenerator(graph.subgraph(nodes=nodes_to_include))\n",
    "paragraph_cooccurrence_edges = generator.generate_from_nodes(\n",
    "    \"paragraphs\", total_factor_instances=number_of_paragraphs,\n",
    "    compute_statistics=[\"frequency\", \"npmi\"],\n",
    "    parallelize=True, cores=8)"
   ]
  },
  {
   "cell_type": "code",
   "execution_count": 15,
   "id": "viral-opportunity",
   "metadata": {},
   "outputs": [],
   "source": [
    "cutoff = paragraph_cooccurrence_edges[\"npmi\"].mean()"
   ]
  },
  {
   "cell_type": "code",
   "execution_count": 16,
   "id": "incomplete-elizabeth",
   "metadata": {},
   "outputs": [],
   "source": [
    "paragraph_cooccurrence_edges = paragraph_cooccurrence_edges[paragraph_cooccurrence_edges[\"npmi\"] > cutoff]"
   ]
  },
  {
   "cell_type": "markdown",
   "id": "thorough-therapy",
   "metadata": {},
   "source": [
    "We add generated edges to the original graph"
   ]
  },
  {
   "cell_type": "code",
   "execution_count": 17,
   "id": "desperate-table",
   "metadata": {},
   "outputs": [],
   "source": [
    "graph._edges = paragraph_cooccurrence_edges\n",
    "graph.edge_prop_as_numeric(\"frequency\")\n",
    "graph.edge_prop_as_numeric(\"npmi\")"
   ]
  },
  {
   "cell_type": "code",
   "execution_count": 18,
   "id": "baking-taxation",
   "metadata": {},
   "outputs": [
    {
     "data": {
      "text/html": [
       "<div>\n",
       "<style scoped>\n",
       "    .dataframe tbody tr th:only-of-type {\n",
       "        vertical-align: middle;\n",
       "    }\n",
       "\n",
       "    .dataframe tbody tr th {\n",
       "        vertical-align: top;\n",
       "    }\n",
       "\n",
       "    .dataframe thead th {\n",
       "        text-align: right;\n",
       "    }\n",
       "</style>\n",
       "<table border=\"1\" class=\"dataframe\">\n",
       "  <thead>\n",
       "    <tr style=\"text-align: right;\">\n",
       "      <th></th>\n",
       "      <th></th>\n",
       "      <th>common_factors</th>\n",
       "      <th>frequency</th>\n",
       "      <th>npmi</th>\n",
       "    </tr>\n",
       "    <tr>\n",
       "      <th>@source_id</th>\n",
       "      <th>@target_id</th>\n",
       "      <th></th>\n",
       "      <th></th>\n",
       "      <th></th>\n",
       "    </tr>\n",
       "  </thead>\n",
       "  <tbody>\n",
       "    <tr>\n",
       "      <th rowspan=\"5\" valign=\"top\">surfactant protein d measurement</th>\n",
       "      <th>microorganism</th>\n",
       "      <td>{2, 3, 7810, 58, 41, 7754, 7850, 26218, 7853, ...</td>\n",
       "      <td>19</td>\n",
       "      <td>0.235263</td>\n",
       "    </tr>\n",
       "    <tr>\n",
       "      <th>lung</th>\n",
       "      <td>{2, 103939, 51202, 5, 4, 103940, 15, 145438, 3...</td>\n",
       "      <td>93</td>\n",
       "      <td>0.221395</td>\n",
       "    </tr>\n",
       "    <tr>\n",
       "      <th>alveolar</th>\n",
       "      <td>{223872, 2, 51202, 100502, 7831, 149657, 19522...</td>\n",
       "      <td>25</td>\n",
       "      <td>0.336175</td>\n",
       "    </tr>\n",
       "    <tr>\n",
       "      <th>epithelial cell</th>\n",
       "      <td>{2, 4, 5, 222298, 7825, 7732, 7733, 169174, 7738}</td>\n",
       "      <td>9</td>\n",
       "      <td>0.175923</td>\n",
       "    </tr>\n",
       "    <tr>\n",
       "      <th>molecule</th>\n",
       "      <td>{2, 7750, 49991, 134504, 206448, 49, 52, 20645...</td>\n",
       "      <td>10</td>\n",
       "      <td>0.113611</td>\n",
       "    </tr>\n",
       "    <tr>\n",
       "      <th>...</th>\n",
       "      <th>...</th>\n",
       "      <td>...</td>\n",
       "      <td>...</td>\n",
       "      <td>...</td>\n",
       "    </tr>\n",
       "    <tr>\n",
       "      <th rowspan=\"2\" valign=\"top\">severe acute respiratory syndrome</th>\n",
       "      <th>caax prenyl protease 2</th>\n",
       "      <td>{205345, 185829, 227486, 220124, 220126}</td>\n",
       "      <td>5</td>\n",
       "      <td>0.142611</td>\n",
       "    </tr>\n",
       "    <tr>\n",
       "      <th>transmembrane protease serine 2</th>\n",
       "      <td>{223746, 223747, 167301, 223752, 200971, 22375...</td>\n",
       "      <td>21</td>\n",
       "      <td>0.238160</td>\n",
       "    </tr>\n",
       "    <tr>\n",
       "      <th rowspan=\"3\" valign=\"top\">ciliated bronchial epithelial cell</th>\n",
       "      <th>cystic fibrosis pulmonary exacerbation</th>\n",
       "      <td>{46779}</td>\n",
       "      <td>1</td>\n",
       "      <td>0.088963</td>\n",
       "    </tr>\n",
       "    <tr>\n",
       "      <th>caax prenyl protease 2</th>\n",
       "      <td>{215748, 220047}</td>\n",
       "      <td>2</td>\n",
       "      <td>0.151639</td>\n",
       "    </tr>\n",
       "    <tr>\n",
       "      <th>transmembrane protease serine 2</th>\n",
       "      <td>{167360, 167358, 167301, 214566, 214567, 16138...</td>\n",
       "      <td>14</td>\n",
       "      <td>0.305697</td>\n",
       "    </tr>\n",
       "  </tbody>\n",
       "</table>\n",
       "<p>161332 rows × 3 columns</p>\n",
       "</div>"
      ],
      "text/plain": [
       "                                                                                                              common_factors  \\\n",
       "@source_id                         @target_id                                                                                  \n",
       "surfactant protein d measurement   microorganism                           {2, 3, 7810, 58, 41, 7754, 7850, 26218, 7853, ...   \n",
       "                                   lung                                    {2, 103939, 51202, 5, 4, 103940, 15, 145438, 3...   \n",
       "                                   alveolar                                {223872, 2, 51202, 100502, 7831, 149657, 19522...   \n",
       "                                   epithelial cell                         {2, 4, 5, 222298, 7825, 7732, 7733, 169174, 7738}   \n",
       "                                   molecule                                {2, 7750, 49991, 134504, 206448, 49, 52, 20645...   \n",
       "...                                                                                                                      ...   \n",
       "severe acute respiratory syndrome  caax prenyl protease 2                           {205345, 185829, 227486, 220124, 220126}   \n",
       "                                   transmembrane protease serine 2         {223746, 223747, 167301, 223752, 200971, 22375...   \n",
       "ciliated bronchial epithelial cell cystic fibrosis pulmonary exacerbation                                            {46779}   \n",
       "                                   caax prenyl protease 2                                                   {215748, 220047}   \n",
       "                                   transmembrane protease serine 2         {167360, 167358, 167301, 214566, 214567, 16138...   \n",
       "\n",
       "                                                                           frequency  \\\n",
       "@source_id                         @target_id                                          \n",
       "surfactant protein d measurement   microorganism                                  19   \n",
       "                                   lung                                           93   \n",
       "                                   alveolar                                       25   \n",
       "                                   epithelial cell                                 9   \n",
       "                                   molecule                                       10   \n",
       "...                                                                              ...   \n",
       "severe acute respiratory syndrome  caax prenyl protease 2                          5   \n",
       "                                   transmembrane protease serine 2                21   \n",
       "ciliated bronchial epithelial cell cystic fibrosis pulmonary exacerbation          1   \n",
       "                                   caax prenyl protease 2                          2   \n",
       "                                   transmembrane protease serine 2                14   \n",
       "\n",
       "                                                                               npmi  \n",
       "@source_id                         @target_id                                        \n",
       "surfactant protein d measurement   microorganism                           0.235263  \n",
       "                                   lung                                    0.221395  \n",
       "                                   alveolar                                0.336175  \n",
       "                                   epithelial cell                         0.175923  \n",
       "                                   molecule                                0.113611  \n",
       "...                                                                             ...  \n",
       "severe acute respiratory syndrome  caax prenyl protease 2                  0.142611  \n",
       "                                   transmembrane protease serine 2         0.238160  \n",
       "ciliated bronchial epithelial cell cystic fibrosis pulmonary exacerbation  0.088963  \n",
       "                                   caax prenyl protease 2                  0.151639  \n",
       "                                   transmembrane protease serine 2         0.305697  \n",
       "\n",
       "[161332 rows x 3 columns]"
      ]
     },
     "execution_count": 18,
     "metadata": {},
     "output_type": "execute_result"
    }
   ],
   "source": [
    "graph.edges(raw_frame=True)"
   ]
  },
  {
   "cell_type": "markdown",
   "id": "subjective-joint",
   "metadata": {},
   "source": [
    "Recall that we have generated edges only for the 1000 most frequent entities, the rest of the entities will be isolated (having no incident edges). Let us remove all the isolated nodes."
   ]
  },
  {
   "cell_type": "code",
   "execution_count": 19,
   "id": "valid-bracket",
   "metadata": {},
   "outputs": [],
   "source": [
    "graph.remove_isolated_nodes()"
   ]
  },
  {
   "cell_type": "code",
   "execution_count": 20,
   "id": "adapted-holiday",
   "metadata": {},
   "outputs": [
    {
     "data": {
      "text/plain": [
       "1000"
      ]
     },
     "execution_count": 20,
     "metadata": {},
     "output_type": "execute_result"
    }
   ],
   "source": [
    "graph.number_of_nodes()"
   ]
  },
  {
   "cell_type": "markdown",
   "id": "formal-wilson",
   "metadata": {},
   "source": [
    "Next, we save the generated co-occurrence graph."
   ]
  },
  {
   "cell_type": "code",
   "execution_count": 21,
   "id": "greatest-documentation",
   "metadata": {},
   "outputs": [],
   "source": [
    "# graph.to_csv(\"data/graph_nodes.csv\", \"data/graph_edges.csv\",)"
   ]
  },
  {
   "cell_type": "code",
   "execution_count": 22,
   "id": "split-technician",
   "metadata": {},
   "outputs": [],
   "source": [
    "# graph = PandasPGFrame.from_csv(\n",
    "#     \"data/graph_nodes.csv\", \"data/graph_edges.csv\",\n",
    "#     node_property_types={\n",
    "#         \"@type\": \"category\",\n",
    "#         \"entity_type\": \"category\",\n",
    "#         \"definition\": \"text\",\n",
    "#         \"paragraphs\": \"category\",\n",
    "#         \"frequency\": \"numeric\"\n",
    "#     },\n",
    "#     edge_property_types={\n",
    "#         \"common_factors\": \"category\",\n",
    "#         \"frequency\": \"numeritc\",\n",
    "#         \"ppmi\": \"numeric\",\n",
    "#         \"npmi\": \"numeric\"\n",
    "#     })"
   ]
  },
  {
   "cell_type": "markdown",
   "id": "synthetic-nudist",
   "metadata": {},
   "source": [
    "### Node feature extraction\n",
    "\n",
    "We extract node features from entity definitions using the `tfidf` model."
   ]
  },
  {
   "cell_type": "code",
   "execution_count": 23,
   "id": "logical-cartridge",
   "metadata": {},
   "outputs": [],
   "source": [
    "encoder = ScikitLearnPGEncoder(text_encoding_max_dimension=512)"
   ]
  },
  {
   "cell_type": "code",
   "execution_count": 24,
   "id": "useful-engagement",
   "metadata": {},
   "outputs": [
    {
     "name": "stdout",
     "output_type": "stream",
     "text": [
      "CPU times: user 666 ms, sys: 18.9 ms, total: 685 ms\n",
      "Wall time: 690 ms\n"
     ]
    }
   ],
   "source": [
    "%%time\n",
    "transformed_graph = encoder.fit_transform(\n",
    "    graph, node_properties=[\"definition\"], edge_properties=None)"
   ]
  },
  {
   "cell_type": "markdown",
   "id": "closed-shoot",
   "metadata": {},
   "source": [
    "We can have a glance at the vocabulary that the encoder constructed for the 'definition' property"
   ]
  },
  {
   "cell_type": "code",
   "execution_count": 60,
   "id": "operational-truth",
   "metadata": {},
   "outputs": [
    {
     "data": {
      "text/plain": [
       "['relating',\n",
       " 'lungs',\n",
       " 'site',\n",
       " 'administration',\n",
       " 'product',\n",
       " 'usually',\n",
       " 'action',\n",
       " 'lower',\n",
       " 'respiratory',\n",
       " 'tract']"
      ]
     },
     "execution_count": 60,
     "metadata": {},
     "output_type": "execute_result"
    }
   ],
   "source": [
    "vocabulary = encoder._node_encoders[\"definition\"].vocabulary_\n",
    "list(vocabulary.keys())[:10]"
   ]
  },
  {
   "cell_type": "markdown",
   "id": "chief-spider",
   "metadata": {},
   "source": [
    "We will add additional properties to our transformed graph corresponding to the entity type labels. We will also add NPMI as an edge property to this transformed graph."
   ]
  },
  {
   "cell_type": "code",
   "execution_count": 61,
   "id": "crucial-devices",
   "metadata": {},
   "outputs": [],
   "source": [
    "transformed_graph.add_node_properties(\n",
    "    graph.get_node_property_values(\"entity_type\"))\n",
    "transformed_graph.add_edge_properties(\n",
    "    graph.get_edge_property_values(\"npmi\"), prop_type=\"numeric\")"
   ]
  },
  {
   "cell_type": "code",
   "execution_count": 62,
   "id": "cooked-treasury",
   "metadata": {},
   "outputs": [
    {
     "data": {
      "text/html": [
       "<div>\n",
       "<style scoped>\n",
       "    .dataframe tbody tr th:only-of-type {\n",
       "        vertical-align: middle;\n",
       "    }\n",
       "\n",
       "    .dataframe tbody tr th {\n",
       "        vertical-align: top;\n",
       "    }\n",
       "\n",
       "    .dataframe thead th {\n",
       "        text-align: right;\n",
       "    }\n",
       "</style>\n",
       "<table border=\"1\" class=\"dataframe\">\n",
       "  <thead>\n",
       "    <tr style=\"text-align: right;\">\n",
       "      <th></th>\n",
       "      <th>features</th>\n",
       "      <th>@type</th>\n",
       "      <th>entity_type</th>\n",
       "      <th>node2vec</th>\n",
       "      <th>attri2vec</th>\n",
       "      <th>gcn_dgi</th>\n",
       "    </tr>\n",
       "    <tr>\n",
       "      <th>@id</th>\n",
       "      <th></th>\n",
       "      <th></th>\n",
       "      <th></th>\n",
       "      <th></th>\n",
       "      <th></th>\n",
       "      <th></th>\n",
       "    </tr>\n",
       "  </thead>\n",
       "  <tbody>\n",
       "    <tr>\n",
       "      <th>pulmonary</th>\n",
       "      <td>[0.0, 0.0, 0.0, 0.0, 0.0, 0.0, 0.0, 0.0, 0.0, ...</td>\n",
       "      <td>Entity</td>\n",
       "      <td>ORGAN</td>\n",
       "      <td>[0.1292733997106552, -0.4646681547164917, 0.22...</td>\n",
       "      <td>[0.011593103408813477, 0.01611831784248352, 0....</td>\n",
       "      <td>[0.012593621388077736, 0.0, 0.0323212780058383...</td>\n",
       "    </tr>\n",
       "    <tr>\n",
       "      <th>host</th>\n",
       "      <td>[0.0, 0.0, 0.0, 0.0, 0.0, 0.0, 0.0, 0.0, 0.0, ...</td>\n",
       "      <td>Entity</td>\n",
       "      <td>ORGANISM</td>\n",
       "      <td>[0.08811916410923004, -0.2682400643825531, 0.5...</td>\n",
       "      <td>[0.03360855579376221, 0.04184946417808533, 0.0...</td>\n",
       "      <td>[0.010720414109528065, 0.0, 0.0392156355082988...</td>\n",
       "    </tr>\n",
       "    <tr>\n",
       "      <th>surfactant protein d measurement</th>\n",
       "      <td>[0.0, 0.0, 0.0, 0.0, 0.0, 0.0, 0.0, 0.0, 0.0, ...</td>\n",
       "      <td>Entity</td>\n",
       "      <td>PROTEIN</td>\n",
       "      <td>[0.05927851423621178, -0.3263268768787384, 0.5...</td>\n",
       "      <td>[0.04456901550292969, 0.013118952512741089, 0....</td>\n",
       "      <td>[0.0, 0.0, 0.030114546418190002, 0.0, 0.020363...</td>\n",
       "    </tr>\n",
       "    <tr>\n",
       "      <th>microorganism</th>\n",
       "      <td>[0.0, 0.0, 0.0, 0.0, 0.0, 0.0, 0.0, 0.0, 0.0, ...</td>\n",
       "      <td>Entity</td>\n",
       "      <td>ORGANISM</td>\n",
       "      <td>[0.22872965037822723, -0.3821519613265991, 0.4...</td>\n",
       "      <td>[0.07238531112670898, 0.10694733262062073, 0.0...</td>\n",
       "      <td>[0.03063371405005455, 0.0, 0.04631862416863441...</td>\n",
       "    </tr>\n",
       "    <tr>\n",
       "      <th>lung</th>\n",
       "      <td>[0.0, 0.0, 0.0, 0.0, 0.0, 0.0, 0.0, 0.0, 0.0, ...</td>\n",
       "      <td>Entity</td>\n",
       "      <td>ORGAN</td>\n",
       "      <td>[0.09093325585126877, -0.30084678530693054, 0....</td>\n",
       "      <td>[0.012629806995391846, 0.016663789749145508, 0...</td>\n",
       "      <td>[0.0033380892127752304, 0.0, 0.035439349710941...</td>\n",
       "    </tr>\n",
       "    <tr>\n",
       "      <th>...</th>\n",
       "      <td>...</td>\n",
       "      <td>...</td>\n",
       "      <td>...</td>\n",
       "      <td>...</td>\n",
       "      <td>...</td>\n",
       "      <td>...</td>\n",
       "    </tr>\n",
       "    <tr>\n",
       "      <th>candida parapsilosis</th>\n",
       "      <td>[0.0, 0.0, 0.0, 0.0, 0.0, 0.0, 0.0, 0.0, 0.0, ...</td>\n",
       "      <td>Entity</td>\n",
       "      <td>ORGANISM</td>\n",
       "      <td>[0.19119645655155182, -0.4822970926761627, 0.3...</td>\n",
       "      <td>[0.04431799054145813, 0.08474072813987732, 0.0...</td>\n",
       "      <td>[0.02675497531890869, 0.0, 0.03201226517558098...</td>\n",
       "    </tr>\n",
       "    <tr>\n",
       "      <th>ciliated bronchial epithelial cell</th>\n",
       "      <td>[0.0, 0.0, 0.0, 0.0, 0.0, 0.0, 0.0, 0.0, 0.0, ...</td>\n",
       "      <td>Entity</td>\n",
       "      <td>CELL_TYPE</td>\n",
       "      <td>[0.07605913281440735, -0.32774993777275085, 0....</td>\n",
       "      <td>[0.009401559829711914, 0.007941067218780518, 0...</td>\n",
       "      <td>[0.0, 0.0, 0.03129826858639717, 0.0, 0.0218690...</td>\n",
       "    </tr>\n",
       "    <tr>\n",
       "      <th>cystic fibrosis pulmonary exacerbation</th>\n",
       "      <td>[0.0, 0.0, 0.0, 0.0, 0.0, 0.0, 0.0, 0.0, 0.0, ...</td>\n",
       "      <td>Entity</td>\n",
       "      <td>DISEASE</td>\n",
       "      <td>[0.10934313386678696, -0.3377675712108612, 0.3...</td>\n",
       "      <td>[0.04671040177345276, 0.0782189667224884, 0.07...</td>\n",
       "      <td>[0.01399250142276287, 0.0, 0.03161218762397766...</td>\n",
       "    </tr>\n",
       "    <tr>\n",
       "      <th>caax prenyl protease 2</th>\n",
       "      <td>[0.0, 0.0, 0.3198444339599345, 0.0, 0.0, 0.0, ...</td>\n",
       "      <td>Entity</td>\n",
       "      <td>PROTEIN</td>\n",
       "      <td>[0.06578871607780457, -0.320480078458786, 0.45...</td>\n",
       "      <td>[0.020859450101852417, 0.008496463298797607, 0...</td>\n",
       "      <td>[0.0, 0.0, 0.029353361576795578, 0.0, 0.022348...</td>\n",
       "    </tr>\n",
       "    <tr>\n",
       "      <th>transmembrane protease serine 2</th>\n",
       "      <td>[0.0, 0.0, 0.2853086240289885, 0.0, 0.0, 0.0, ...</td>\n",
       "      <td>Entity</td>\n",
       "      <td>PROTEIN</td>\n",
       "      <td>[0.053190313279628754, -0.3313072621822357, 0....</td>\n",
       "      <td>[0.0425700843334198, 0.010977894067764282, 0.0...</td>\n",
       "      <td>[0.0, 0.0, 0.026378799229860306, 0.0, 0.017834...</td>\n",
       "    </tr>\n",
       "  </tbody>\n",
       "</table>\n",
       "<p>1000 rows × 6 columns</p>\n",
       "</div>"
      ],
      "text/plain": [
       "                                                                                 features  \\\n",
       "@id                                                                                         \n",
       "pulmonary                               [0.0, 0.0, 0.0, 0.0, 0.0, 0.0, 0.0, 0.0, 0.0, ...   \n",
       "host                                    [0.0, 0.0, 0.0, 0.0, 0.0, 0.0, 0.0, 0.0, 0.0, ...   \n",
       "surfactant protein d measurement        [0.0, 0.0, 0.0, 0.0, 0.0, 0.0, 0.0, 0.0, 0.0, ...   \n",
       "microorganism                           [0.0, 0.0, 0.0, 0.0, 0.0, 0.0, 0.0, 0.0, 0.0, ...   \n",
       "lung                                    [0.0, 0.0, 0.0, 0.0, 0.0, 0.0, 0.0, 0.0, 0.0, ...   \n",
       "...                                                                                   ...   \n",
       "candida parapsilosis                    [0.0, 0.0, 0.0, 0.0, 0.0, 0.0, 0.0, 0.0, 0.0, ...   \n",
       "ciliated bronchial epithelial cell      [0.0, 0.0, 0.0, 0.0, 0.0, 0.0, 0.0, 0.0, 0.0, ...   \n",
       "cystic fibrosis pulmonary exacerbation  [0.0, 0.0, 0.0, 0.0, 0.0, 0.0, 0.0, 0.0, 0.0, ...   \n",
       "caax prenyl protease 2                  [0.0, 0.0, 0.3198444339599345, 0.0, 0.0, 0.0, ...   \n",
       "transmembrane protease serine 2         [0.0, 0.0, 0.2853086240289885, 0.0, 0.0, 0.0, ...   \n",
       "\n",
       "                                         @type entity_type  \\\n",
       "@id                                                          \n",
       "pulmonary                               Entity       ORGAN   \n",
       "host                                    Entity    ORGANISM   \n",
       "surfactant protein d measurement        Entity     PROTEIN   \n",
       "microorganism                           Entity    ORGANISM   \n",
       "lung                                    Entity       ORGAN   \n",
       "...                                        ...         ...   \n",
       "candida parapsilosis                    Entity    ORGANISM   \n",
       "ciliated bronchial epithelial cell      Entity   CELL_TYPE   \n",
       "cystic fibrosis pulmonary exacerbation  Entity     DISEASE   \n",
       "caax prenyl protease 2                  Entity     PROTEIN   \n",
       "transmembrane protease serine 2         Entity     PROTEIN   \n",
       "\n",
       "                                                                                 node2vec  \\\n",
       "@id                                                                                         \n",
       "pulmonary                               [0.1292733997106552, -0.4646681547164917, 0.22...   \n",
       "host                                    [0.08811916410923004, -0.2682400643825531, 0.5...   \n",
       "surfactant protein d measurement        [0.05927851423621178, -0.3263268768787384, 0.5...   \n",
       "microorganism                           [0.22872965037822723, -0.3821519613265991, 0.4...   \n",
       "lung                                    [0.09093325585126877, -0.30084678530693054, 0....   \n",
       "...                                                                                   ...   \n",
       "candida parapsilosis                    [0.19119645655155182, -0.4822970926761627, 0.3...   \n",
       "ciliated bronchial epithelial cell      [0.07605913281440735, -0.32774993777275085, 0....   \n",
       "cystic fibrosis pulmonary exacerbation  [0.10934313386678696, -0.3377675712108612, 0.3...   \n",
       "caax prenyl protease 2                  [0.06578871607780457, -0.320480078458786, 0.45...   \n",
       "transmembrane protease serine 2         [0.053190313279628754, -0.3313072621822357, 0....   \n",
       "\n",
       "                                                                                attri2vec  \\\n",
       "@id                                                                                         \n",
       "pulmonary                               [0.011593103408813477, 0.01611831784248352, 0....   \n",
       "host                                    [0.03360855579376221, 0.04184946417808533, 0.0...   \n",
       "surfactant protein d measurement        [0.04456901550292969, 0.013118952512741089, 0....   \n",
       "microorganism                           [0.07238531112670898, 0.10694733262062073, 0.0...   \n",
       "lung                                    [0.012629806995391846, 0.016663789749145508, 0...   \n",
       "...                                                                                   ...   \n",
       "candida parapsilosis                    [0.04431799054145813, 0.08474072813987732, 0.0...   \n",
       "ciliated bronchial epithelial cell      [0.009401559829711914, 0.007941067218780518, 0...   \n",
       "cystic fibrosis pulmonary exacerbation  [0.04671040177345276, 0.0782189667224884, 0.07...   \n",
       "caax prenyl protease 2                  [0.020859450101852417, 0.008496463298797607, 0...   \n",
       "transmembrane protease serine 2         [0.0425700843334198, 0.010977894067764282, 0.0...   \n",
       "\n",
       "                                                                                  gcn_dgi  \n",
       "@id                                                                                        \n",
       "pulmonary                               [0.012593621388077736, 0.0, 0.0323212780058383...  \n",
       "host                                    [0.010720414109528065, 0.0, 0.0392156355082988...  \n",
       "surfactant protein d measurement        [0.0, 0.0, 0.030114546418190002, 0.0, 0.020363...  \n",
       "microorganism                           [0.03063371405005455, 0.0, 0.04631862416863441...  \n",
       "lung                                    [0.0033380892127752304, 0.0, 0.035439349710941...  \n",
       "...                                                                                   ...  \n",
       "candida parapsilosis                    [0.02675497531890869, 0.0, 0.03201226517558098...  \n",
       "ciliated bronchial epithelial cell      [0.0, 0.0, 0.03129826858639717, 0.0, 0.0218690...  \n",
       "cystic fibrosis pulmonary exacerbation  [0.01399250142276287, 0.0, 0.03161218762397766...  \n",
       "caax prenyl protease 2                  [0.0, 0.0, 0.029353361576795578, 0.0, 0.022348...  \n",
       "transmembrane protease serine 2         [0.0, 0.0, 0.026378799229860306, 0.0, 0.017834...  \n",
       "\n",
       "[1000 rows x 6 columns]"
      ]
     },
     "execution_count": 62,
     "metadata": {},
     "output_type": "execute_result"
    }
   ],
   "source": [
    "transformed_graph.nodes(raw_frame=True)"
   ]
  },
  {
   "cell_type": "markdown",
   "id": "included-domestic",
   "metadata": {},
   "source": [
    "## Node embedding and downstream tasks"
   ]
  },
  {
   "cell_type": "markdown",
   "id": "equipped-corruption",
   "metadata": {},
   "source": [
    "### Node embedding using StellarGraph\n",
    "\n",
    "Using `StellarGraphNodeEmbedder` we construct three different embeddings of our transformed graph corresponding to different embedding techniques."
   ]
  },
  {
   "cell_type": "code",
   "execution_count": 29,
   "id": "given-demand",
   "metadata": {},
   "outputs": [],
   "source": [
    "from bluegraph.backends.stellargraph import StellarGraphNodeEmbedder"
   ]
  },
  {
   "cell_type": "code",
   "execution_count": 30,
   "id": "dried-morgan",
   "metadata": {
    "scrolled": true
   },
   "outputs": [],
   "source": [
    "embedder = StellarGraphNodeEmbedder(\n",
    "    \"node2vec\", edge_weight=\"npmi\", embedding_dimension=64, length=10, number_of_walks=20)\n",
    "node2vec_embedding = embedder.fit_model(transformed_graph)"
   ]
  },
  {
   "cell_type": "code",
   "execution_count": 31,
   "id": "provincial-working",
   "metadata": {
    "scrolled": false
   },
   "outputs": [
    {
     "name": "stdout",
     "output_type": "stream",
     "text": [
      "link_classification: using 'ip' method to combine node embeddings into edge embeddings\n"
     ]
    }
   ],
   "source": [
    "embedder = StellarGraphNodeEmbedder(\n",
    "    \"attri2vec\", feature_vector_prop=\"features\",\n",
    "    length=5, number_of_walks=10,\n",
    "    epochs=10, embedding_dimension=128, edge_weight=\"npmi\")\n",
    "attri2vec_embedding = embedder.fit_model(transformed_graph)"
   ]
  },
  {
   "cell_type": "code",
   "execution_count": 32,
   "id": "abstract-musician",
   "metadata": {},
   "outputs": [
    {
     "name": "stdout",
     "output_type": "stream",
     "text": [
      "Using GCN (local pooling) filters...\n"
     ]
    }
   ],
   "source": [
    "embedder = StellarGraphNodeEmbedder(\n",
    "    \"gcn_dgi\", feature_vector_prop=\"features\", epochs=250, embedding_dimension=512)\n",
    "gcn_dgi_embedding = embedder.fit_model(transformed_graph)"
   ]
  },
  {
   "cell_type": "markdown",
   "id": "offshore-soviet",
   "metadata": {},
   "source": [
    "The `fit_model` methods produces a dataframe of the following shape"
   ]
  },
  {
   "cell_type": "code",
   "execution_count": 64,
   "id": "embedded-pendant",
   "metadata": {},
   "outputs": [
    {
     "data": {
      "text/html": [
       "<div>\n",
       "<style scoped>\n",
       "    .dataframe tbody tr th:only-of-type {\n",
       "        vertical-align: middle;\n",
       "    }\n",
       "\n",
       "    .dataframe tbody tr th {\n",
       "        vertical-align: top;\n",
       "    }\n",
       "\n",
       "    .dataframe thead th {\n",
       "        text-align: right;\n",
       "    }\n",
       "</style>\n",
       "<table border=\"1\" class=\"dataframe\">\n",
       "  <thead>\n",
       "    <tr style=\"text-align: right;\">\n",
       "      <th></th>\n",
       "      <th>embedding</th>\n",
       "    </tr>\n",
       "  </thead>\n",
       "  <tbody>\n",
       "    <tr>\n",
       "      <th>pulmonary</th>\n",
       "      <td>[0.012593621388077736, 0.0, 0.0323212780058383...</td>\n",
       "    </tr>\n",
       "    <tr>\n",
       "      <th>host</th>\n",
       "      <td>[0.010720414109528065, 0.0, 0.0392156355082988...</td>\n",
       "    </tr>\n",
       "    <tr>\n",
       "      <th>surfactant protein d measurement</th>\n",
       "      <td>[0.0, 0.0, 0.030114546418190002, 0.0, 0.020363...</td>\n",
       "    </tr>\n",
       "    <tr>\n",
       "      <th>microorganism</th>\n",
       "      <td>[0.03063371405005455, 0.0, 0.04631862416863441...</td>\n",
       "    </tr>\n",
       "    <tr>\n",
       "      <th>lung</th>\n",
       "      <td>[0.0033380892127752304, 0.0, 0.035439349710941...</td>\n",
       "    </tr>\n",
       "    <tr>\n",
       "      <th>...</th>\n",
       "      <td>...</td>\n",
       "    </tr>\n",
       "    <tr>\n",
       "      <th>candida parapsilosis</th>\n",
       "      <td>[0.02675497531890869, 0.0, 0.03201226517558098...</td>\n",
       "    </tr>\n",
       "    <tr>\n",
       "      <th>ciliated bronchial epithelial cell</th>\n",
       "      <td>[0.0, 0.0, 0.03129826858639717, 0.0, 0.0218690...</td>\n",
       "    </tr>\n",
       "    <tr>\n",
       "      <th>cystic fibrosis pulmonary exacerbation</th>\n",
       "      <td>[0.01399250142276287, 0.0, 0.03161218762397766...</td>\n",
       "    </tr>\n",
       "    <tr>\n",
       "      <th>caax prenyl protease 2</th>\n",
       "      <td>[0.0, 0.0, 0.029353361576795578, 0.0, 0.022348...</td>\n",
       "    </tr>\n",
       "    <tr>\n",
       "      <th>transmembrane protease serine 2</th>\n",
       "      <td>[0.0, 0.0, 0.026378799229860306, 0.0, 0.017834...</td>\n",
       "    </tr>\n",
       "  </tbody>\n",
       "</table>\n",
       "<p>1000 rows × 1 columns</p>\n",
       "</div>"
      ],
      "text/plain": [
       "                                                                                embedding\n",
       "pulmonary                               [0.012593621388077736, 0.0, 0.0323212780058383...\n",
       "host                                    [0.010720414109528065, 0.0, 0.0392156355082988...\n",
       "surfactant protein d measurement        [0.0, 0.0, 0.030114546418190002, 0.0, 0.020363...\n",
       "microorganism                           [0.03063371405005455, 0.0, 0.04631862416863441...\n",
       "lung                                    [0.0033380892127752304, 0.0, 0.035439349710941...\n",
       "...                                                                                   ...\n",
       "candida parapsilosis                    [0.02675497531890869, 0.0, 0.03201226517558098...\n",
       "ciliated bronchial epithelial cell      [0.0, 0.0, 0.03129826858639717, 0.0, 0.0218690...\n",
       "cystic fibrosis pulmonary exacerbation  [0.01399250142276287, 0.0, 0.03161218762397766...\n",
       "caax prenyl protease 2                  [0.0, 0.0, 0.029353361576795578, 0.0, 0.022348...\n",
       "transmembrane protease serine 2         [0.0, 0.0, 0.026378799229860306, 0.0, 0.017834...\n",
       "\n",
       "[1000 rows x 1 columns]"
      ]
     },
     "execution_count": 64,
     "metadata": {},
     "output_type": "execute_result"
    }
   ],
   "source": [
    "gcn_dgi_embedding"
   ]
  },
  {
   "cell_type": "markdown",
   "id": "following-cylinder",
   "metadata": {},
   "source": [
    "Let us add the embedding vectors obtained using different models as node properties of our graph."
   ]
  },
  {
   "cell_type": "code",
   "execution_count": 65,
   "id": "quick-madagascar",
   "metadata": {},
   "outputs": [],
   "source": [
    "transformed_graph.add_node_properties(\n",
    "    node2vec_embedding.rename(columns={\"embedding\": \"node2vec\"}))"
   ]
  },
  {
   "cell_type": "code",
   "execution_count": 66,
   "id": "lined-frank",
   "metadata": {},
   "outputs": [],
   "source": [
    "transformed_graph.add_node_properties(\n",
    "    attri2vec_embedding.rename(columns={\"embedding\": \"attri2vec\"}))"
   ]
  },
  {
   "cell_type": "code",
   "execution_count": 67,
   "id": "occasional-shipping",
   "metadata": {},
   "outputs": [],
   "source": [
    "transformed_graph.add_node_properties(\n",
    "    gcn_dgi_embedding.rename(columns={\"embedding\": \"gcn_dgi\"}))"
   ]
  },
  {
   "cell_type": "code",
   "execution_count": 68,
   "id": "upper-coalition",
   "metadata": {
    "scrolled": false
   },
   "outputs": [
    {
     "data": {
      "text/html": [
       "<div>\n",
       "<style scoped>\n",
       "    .dataframe tbody tr th:only-of-type {\n",
       "        vertical-align: middle;\n",
       "    }\n",
       "\n",
       "    .dataframe tbody tr th {\n",
       "        vertical-align: top;\n",
       "    }\n",
       "\n",
       "    .dataframe thead th {\n",
       "        text-align: right;\n",
       "    }\n",
       "</style>\n",
       "<table border=\"1\" class=\"dataframe\">\n",
       "  <thead>\n",
       "    <tr style=\"text-align: right;\">\n",
       "      <th></th>\n",
       "      <th>features</th>\n",
       "      <th>@type</th>\n",
       "      <th>entity_type</th>\n",
       "      <th>node2vec</th>\n",
       "      <th>attri2vec</th>\n",
       "      <th>gcn_dgi</th>\n",
       "    </tr>\n",
       "    <tr>\n",
       "      <th>@id</th>\n",
       "      <th></th>\n",
       "      <th></th>\n",
       "      <th></th>\n",
       "      <th></th>\n",
       "      <th></th>\n",
       "      <th></th>\n",
       "    </tr>\n",
       "  </thead>\n",
       "  <tbody>\n",
       "    <tr>\n",
       "      <th>pulmonary</th>\n",
       "      <td>[0.0, 0.0, 0.0, 0.0, 0.0, 0.0, 0.0, 0.0, 0.0, ...</td>\n",
       "      <td>Entity</td>\n",
       "      <td>ORGAN</td>\n",
       "      <td>[0.1292733997106552, -0.4646681547164917, 0.22...</td>\n",
       "      <td>[0.011593103408813477, 0.01611831784248352, 0....</td>\n",
       "      <td>[0.012593621388077736, 0.0, 0.0323212780058383...</td>\n",
       "    </tr>\n",
       "    <tr>\n",
       "      <th>host</th>\n",
       "      <td>[0.0, 0.0, 0.0, 0.0, 0.0, 0.0, 0.0, 0.0, 0.0, ...</td>\n",
       "      <td>Entity</td>\n",
       "      <td>ORGANISM</td>\n",
       "      <td>[0.08811916410923004, -0.2682400643825531, 0.5...</td>\n",
       "      <td>[0.03360855579376221, 0.04184946417808533, 0.0...</td>\n",
       "      <td>[0.010720414109528065, 0.0, 0.0392156355082988...</td>\n",
       "    </tr>\n",
       "    <tr>\n",
       "      <th>surfactant protein d measurement</th>\n",
       "      <td>[0.0, 0.0, 0.0, 0.0, 0.0, 0.0, 0.0, 0.0, 0.0, ...</td>\n",
       "      <td>Entity</td>\n",
       "      <td>PROTEIN</td>\n",
       "      <td>[0.05927851423621178, -0.3263268768787384, 0.5...</td>\n",
       "      <td>[0.04456901550292969, 0.013118952512741089, 0....</td>\n",
       "      <td>[0.0, 0.0, 0.030114546418190002, 0.0, 0.020363...</td>\n",
       "    </tr>\n",
       "    <tr>\n",
       "      <th>microorganism</th>\n",
       "      <td>[0.0, 0.0, 0.0, 0.0, 0.0, 0.0, 0.0, 0.0, 0.0, ...</td>\n",
       "      <td>Entity</td>\n",
       "      <td>ORGANISM</td>\n",
       "      <td>[0.22872965037822723, -0.3821519613265991, 0.4...</td>\n",
       "      <td>[0.07238531112670898, 0.10694733262062073, 0.0...</td>\n",
       "      <td>[0.03063371405005455, 0.0, 0.04631862416863441...</td>\n",
       "    </tr>\n",
       "    <tr>\n",
       "      <th>lung</th>\n",
       "      <td>[0.0, 0.0, 0.0, 0.0, 0.0, 0.0, 0.0, 0.0, 0.0, ...</td>\n",
       "      <td>Entity</td>\n",
       "      <td>ORGAN</td>\n",
       "      <td>[0.09093325585126877, -0.30084678530693054, 0....</td>\n",
       "      <td>[0.012629806995391846, 0.016663789749145508, 0...</td>\n",
       "      <td>[0.0033380892127752304, 0.0, 0.035439349710941...</td>\n",
       "    </tr>\n",
       "    <tr>\n",
       "      <th>...</th>\n",
       "      <td>...</td>\n",
       "      <td>...</td>\n",
       "      <td>...</td>\n",
       "      <td>...</td>\n",
       "      <td>...</td>\n",
       "      <td>...</td>\n",
       "    </tr>\n",
       "    <tr>\n",
       "      <th>candida parapsilosis</th>\n",
       "      <td>[0.0, 0.0, 0.0, 0.0, 0.0, 0.0, 0.0, 0.0, 0.0, ...</td>\n",
       "      <td>Entity</td>\n",
       "      <td>ORGANISM</td>\n",
       "      <td>[0.19119645655155182, -0.4822970926761627, 0.3...</td>\n",
       "      <td>[0.04431799054145813, 0.08474072813987732, 0.0...</td>\n",
       "      <td>[0.02675497531890869, 0.0, 0.03201226517558098...</td>\n",
       "    </tr>\n",
       "    <tr>\n",
       "      <th>ciliated bronchial epithelial cell</th>\n",
       "      <td>[0.0, 0.0, 0.0, 0.0, 0.0, 0.0, 0.0, 0.0, 0.0, ...</td>\n",
       "      <td>Entity</td>\n",
       "      <td>CELL_TYPE</td>\n",
       "      <td>[0.07605913281440735, -0.32774993777275085, 0....</td>\n",
       "      <td>[0.009401559829711914, 0.007941067218780518, 0...</td>\n",
       "      <td>[0.0, 0.0, 0.03129826858639717, 0.0, 0.0218690...</td>\n",
       "    </tr>\n",
       "    <tr>\n",
       "      <th>cystic fibrosis pulmonary exacerbation</th>\n",
       "      <td>[0.0, 0.0, 0.0, 0.0, 0.0, 0.0, 0.0, 0.0, 0.0, ...</td>\n",
       "      <td>Entity</td>\n",
       "      <td>DISEASE</td>\n",
       "      <td>[0.10934313386678696, -0.3377675712108612, 0.3...</td>\n",
       "      <td>[0.04671040177345276, 0.0782189667224884, 0.07...</td>\n",
       "      <td>[0.01399250142276287, 0.0, 0.03161218762397766...</td>\n",
       "    </tr>\n",
       "    <tr>\n",
       "      <th>caax prenyl protease 2</th>\n",
       "      <td>[0.0, 0.0, 0.3198444339599345, 0.0, 0.0, 0.0, ...</td>\n",
       "      <td>Entity</td>\n",
       "      <td>PROTEIN</td>\n",
       "      <td>[0.06578871607780457, -0.320480078458786, 0.45...</td>\n",
       "      <td>[0.020859450101852417, 0.008496463298797607, 0...</td>\n",
       "      <td>[0.0, 0.0, 0.029353361576795578, 0.0, 0.022348...</td>\n",
       "    </tr>\n",
       "    <tr>\n",
       "      <th>transmembrane protease serine 2</th>\n",
       "      <td>[0.0, 0.0, 0.2853086240289885, 0.0, 0.0, 0.0, ...</td>\n",
       "      <td>Entity</td>\n",
       "      <td>PROTEIN</td>\n",
       "      <td>[0.053190313279628754, -0.3313072621822357, 0....</td>\n",
       "      <td>[0.0425700843334198, 0.010977894067764282, 0.0...</td>\n",
       "      <td>[0.0, 0.0, 0.026378799229860306, 0.0, 0.017834...</td>\n",
       "    </tr>\n",
       "  </tbody>\n",
       "</table>\n",
       "<p>1000 rows × 6 columns</p>\n",
       "</div>"
      ],
      "text/plain": [
       "                                                                                 features  \\\n",
       "@id                                                                                         \n",
       "pulmonary                               [0.0, 0.0, 0.0, 0.0, 0.0, 0.0, 0.0, 0.0, 0.0, ...   \n",
       "host                                    [0.0, 0.0, 0.0, 0.0, 0.0, 0.0, 0.0, 0.0, 0.0, ...   \n",
       "surfactant protein d measurement        [0.0, 0.0, 0.0, 0.0, 0.0, 0.0, 0.0, 0.0, 0.0, ...   \n",
       "microorganism                           [0.0, 0.0, 0.0, 0.0, 0.0, 0.0, 0.0, 0.0, 0.0, ...   \n",
       "lung                                    [0.0, 0.0, 0.0, 0.0, 0.0, 0.0, 0.0, 0.0, 0.0, ...   \n",
       "...                                                                                   ...   \n",
       "candida parapsilosis                    [0.0, 0.0, 0.0, 0.0, 0.0, 0.0, 0.0, 0.0, 0.0, ...   \n",
       "ciliated bronchial epithelial cell      [0.0, 0.0, 0.0, 0.0, 0.0, 0.0, 0.0, 0.0, 0.0, ...   \n",
       "cystic fibrosis pulmonary exacerbation  [0.0, 0.0, 0.0, 0.0, 0.0, 0.0, 0.0, 0.0, 0.0, ...   \n",
       "caax prenyl protease 2                  [0.0, 0.0, 0.3198444339599345, 0.0, 0.0, 0.0, ...   \n",
       "transmembrane protease serine 2         [0.0, 0.0, 0.2853086240289885, 0.0, 0.0, 0.0, ...   \n",
       "\n",
       "                                         @type entity_type  \\\n",
       "@id                                                          \n",
       "pulmonary                               Entity       ORGAN   \n",
       "host                                    Entity    ORGANISM   \n",
       "surfactant protein d measurement        Entity     PROTEIN   \n",
       "microorganism                           Entity    ORGANISM   \n",
       "lung                                    Entity       ORGAN   \n",
       "...                                        ...         ...   \n",
       "candida parapsilosis                    Entity    ORGANISM   \n",
       "ciliated bronchial epithelial cell      Entity   CELL_TYPE   \n",
       "cystic fibrosis pulmonary exacerbation  Entity     DISEASE   \n",
       "caax prenyl protease 2                  Entity     PROTEIN   \n",
       "transmembrane protease serine 2         Entity     PROTEIN   \n",
       "\n",
       "                                                                                 node2vec  \\\n",
       "@id                                                                                         \n",
       "pulmonary                               [0.1292733997106552, -0.4646681547164917, 0.22...   \n",
       "host                                    [0.08811916410923004, -0.2682400643825531, 0.5...   \n",
       "surfactant protein d measurement        [0.05927851423621178, -0.3263268768787384, 0.5...   \n",
       "microorganism                           [0.22872965037822723, -0.3821519613265991, 0.4...   \n",
       "lung                                    [0.09093325585126877, -0.30084678530693054, 0....   \n",
       "...                                                                                   ...   \n",
       "candida parapsilosis                    [0.19119645655155182, -0.4822970926761627, 0.3...   \n",
       "ciliated bronchial epithelial cell      [0.07605913281440735, -0.32774993777275085, 0....   \n",
       "cystic fibrosis pulmonary exacerbation  [0.10934313386678696, -0.3377675712108612, 0.3...   \n",
       "caax prenyl protease 2                  [0.06578871607780457, -0.320480078458786, 0.45...   \n",
       "transmembrane protease serine 2         [0.053190313279628754, -0.3313072621822357, 0....   \n",
       "\n",
       "                                                                                attri2vec  \\\n",
       "@id                                                                                         \n",
       "pulmonary                               [0.011593103408813477, 0.01611831784248352, 0....   \n",
       "host                                    [0.03360855579376221, 0.04184946417808533, 0.0...   \n",
       "surfactant protein d measurement        [0.04456901550292969, 0.013118952512741089, 0....   \n",
       "microorganism                           [0.07238531112670898, 0.10694733262062073, 0.0...   \n",
       "lung                                    [0.012629806995391846, 0.016663789749145508, 0...   \n",
       "...                                                                                   ...   \n",
       "candida parapsilosis                    [0.04431799054145813, 0.08474072813987732, 0.0...   \n",
       "ciliated bronchial epithelial cell      [0.009401559829711914, 0.007941067218780518, 0...   \n",
       "cystic fibrosis pulmonary exacerbation  [0.04671040177345276, 0.0782189667224884, 0.07...   \n",
       "caax prenyl protease 2                  [0.020859450101852417, 0.008496463298797607, 0...   \n",
       "transmembrane protease serine 2         [0.0425700843334198, 0.010977894067764282, 0.0...   \n",
       "\n",
       "                                                                                  gcn_dgi  \n",
       "@id                                                                                        \n",
       "pulmonary                               [0.012593621388077736, 0.0, 0.0323212780058383...  \n",
       "host                                    [0.010720414109528065, 0.0, 0.0392156355082988...  \n",
       "surfactant protein d measurement        [0.0, 0.0, 0.030114546418190002, 0.0, 0.020363...  \n",
       "microorganism                           [0.03063371405005455, 0.0, 0.04631862416863441...  \n",
       "lung                                    [0.0033380892127752304, 0.0, 0.035439349710941...  \n",
       "...                                                                                   ...  \n",
       "candida parapsilosis                    [0.02675497531890869, 0.0, 0.03201226517558098...  \n",
       "ciliated bronchial epithelial cell      [0.0, 0.0, 0.03129826858639717, 0.0, 0.0218690...  \n",
       "cystic fibrosis pulmonary exacerbation  [0.01399250142276287, 0.0, 0.03161218762397766...  \n",
       "caax prenyl protease 2                  [0.0, 0.0, 0.029353361576795578, 0.0, 0.022348...  \n",
       "transmembrane protease serine 2         [0.0, 0.0, 0.026378799229860306, 0.0, 0.017834...  \n",
       "\n",
       "[1000 rows x 6 columns]"
      ]
     },
     "execution_count": 68,
     "metadata": {},
     "output_type": "execute_result"
    }
   ],
   "source": [
    "transformed_graph.nodes(raw_frame=True)"
   ]
  },
  {
   "cell_type": "markdown",
   "id": "contrary-coffee",
   "metadata": {},
   "source": [
    "### Node similarity"
   ]
  },
  {
   "cell_type": "markdown",
   "id": "nearby-conservation",
   "metadata": {},
   "source": [
    "We would like to be able to search for similar nodes using the computed vector embeddings. For this we can use the `NodeSimilarityProcessor` interfaces provided as a part of `bluegraph`."
   ]
  },
  {
   "cell_type": "code",
   "execution_count": 69,
   "id": "infectious-cornell",
   "metadata": {},
   "outputs": [],
   "source": [
    "import numpy as np\n",
    "\n",
    "from bluegraph.downstream.similarity import NodeSimilarityProcessor"
   ]
  },
  {
   "cell_type": "markdown",
   "id": "raising-fifty",
   "metadata": {},
   "source": [
    "We construct similarity processors for different embeddings and query top 10 most similar nodes to the terms `glucose` and `covid-19`."
   ]
  },
  {
   "cell_type": "code",
   "execution_count": 70,
   "id": "dietary-running",
   "metadata": {},
   "outputs": [],
   "source": [
    "node2vec_l2 = NodeSimilarityProcessor(transformed_graph, \"node2vec\", similarity=\"euclidean\")\n",
    "node2vec_cosine = NodeSimilarityProcessor(\n",
    "    transformed_graph, \"node2vec\", similarity=\"cosine\")"
   ]
  },
  {
   "cell_type": "code",
   "execution_count": 71,
   "id": "driving-custom",
   "metadata": {},
   "outputs": [
    {
     "data": {
      "text/plain": [
       "{'glucose': {'glucose': 0.0,\n",
       "  'high density lipoprotein': 0.009419716,\n",
       "  'nonalcoholic fatty liver disease': 0.013079917,\n",
       "  'metabolic disorder': 0.015094419,\n",
       "  'insulin': 0.02462136,\n",
       "  'metabolic syndrome': 0.028628448,\n",
       "  'hyperglycemia': 0.0542507,\n",
       "  'organic phosphate': 0.061695296,\n",
       "  'dopamine': 0.06182158,\n",
       "  'respiration': 0.062377073},\n",
       " 'covid-19': {'covid-19': 0.0,\n",
       "  'systemic inflammatory response syndrome': 0.04765156,\n",
       "  'person': 0.049512457,\n",
       "  'coronavirus': 0.052711684,\n",
       "  'sterile': 0.05350962,\n",
       "  'middle east respiratory syndrome': 0.07760977,\n",
       "  'hydroxychloroquine': 0.07878502,\n",
       "  'gas exchanger device': 0.080798015,\n",
       "  'severe acute respiratory syndrome': 0.10219382,\n",
       "  'hypoglycemia': 0.10504973}}"
      ]
     },
     "execution_count": 71,
     "metadata": {},
     "output_type": "execute_result"
    }
   ],
   "source": [
    "node2vec_l2.get_similar_nodes([\"glucose\", \"covid-19\"], k=10)"
   ]
  },
  {
   "cell_type": "code",
   "execution_count": 72,
   "id": "sized-spyware",
   "metadata": {},
   "outputs": [
    {
     "data": {
      "text/plain": [
       "{'glucose': {'glucose': 1.0,\n",
       "  'high density lipoprotein': 0.99822766,\n",
       "  'nonalcoholic fatty liver disease': 0.9973357,\n",
       "  'metabolic disorder': 0.996855,\n",
       "  'metabolic syndrome': 0.995108,\n",
       "  'insulin': 0.9948307,\n",
       "  'hyperglycemia': 0.9890145,\n",
       "  'respiration': 0.9884881,\n",
       "  'dopamine': 0.98723495,\n",
       "  'metformin': 0.9871816},\n",
       " 'covid-19': {'covid-19': 1.0,\n",
       "  'coronavirus': 0.99175423,\n",
       "  'hydroxychloroquine': 0.98977274,\n",
       "  'systemic inflammatory response syndrome': 0.98943216,\n",
       "  'person': 0.9885227,\n",
       "  'sterile': 0.98816544,\n",
       "  'fatal': 0.98755616,\n",
       "  'middle east respiratory syndrome': 0.98249936,\n",
       "  'tidal volume': 0.9820141,\n",
       "  'gas exchanger device': 0.98122466}}"
      ]
     },
     "execution_count": 72,
     "metadata": {},
     "output_type": "execute_result"
    }
   ],
   "source": [
    "node2vec_cosine.get_similar_nodes([\"glucose\", \"covid-19\"], k=10)"
   ]
  },
  {
   "cell_type": "code",
   "execution_count": 73,
   "id": "graduate-direction",
   "metadata": {},
   "outputs": [],
   "source": [
    "attri2vec_l2 = NodeSimilarityProcessor(transformed_graph, \"attri2vec\")\n",
    "attri2vec_cosine = NodeSimilarityProcessor(\n",
    "    transformed_graph, \"attri2vec\", similarity=\"cosine\")"
   ]
  },
  {
   "cell_type": "code",
   "execution_count": 74,
   "id": "generic-jaguar",
   "metadata": {},
   "outputs": [
    {
     "data": {
      "text/plain": [
       "{'glucose': {'glucose': 0.0,\n",
       "  'pericyte': 0.010421049,\n",
       "  'cell': 0.011523034,\n",
       "  'immunoglobulin': 0.011836685,\n",
       "  'sodium chloride': 0.012092523,\n",
       "  'serine protease': 0.012353379,\n",
       "  'vitamin': 0.01254856,\n",
       "  'tissue': 0.0129674245,\n",
       "  'animal': 0.013297284,\n",
       "  'hemoglobin': 0.013491765},\n",
       " 'covid-19': {'covid-19': 0.0,\n",
       "  'autoimmune disease': 0.0005344469,\n",
       "  'pleural effusion': 0.0005353675,\n",
       "  'chronic obstructive pulmonary disease': 0.00054345716,\n",
       "  'osteoporosis': 0.00061592436,\n",
       "  'vasculitis': 0.0006377298,\n",
       "  'neuropathy': 0.0006947107,\n",
       "  'pulmonary edema': 0.0007101719,\n",
       "  'liver failure': 0.0007402084,\n",
       "  'anemia': 0.00085831934}}"
      ]
     },
     "execution_count": 74,
     "metadata": {},
     "output_type": "execute_result"
    }
   ],
   "source": [
    "attri2vec_l2.get_similar_nodes([\"glucose\", \"covid-19\"], k=10)"
   ]
  },
  {
   "cell_type": "code",
   "execution_count": 75,
   "id": "funky-today",
   "metadata": {
    "scrolled": true
   },
   "outputs": [
    {
     "data": {
      "text/plain": [
       "{'glucose': {'glucose': 1.0,\n",
       "  'aldosterone': 0.96977174,\n",
       "  'food': 0.96892774,\n",
       "  'high sensitivity c-reactive protein measurement': 0.96874994,\n",
       "  'electrolytes': 0.96874887,\n",
       "  'cell': 0.96841586,\n",
       "  'macrolide': 0.9680135,\n",
       "  'pericyte': 0.96730614,\n",
       "  'vitamin': 0.9654966,\n",
       "  'glycoprotein': 0.9653116},\n",
       " 'covid-19': {'covid-19': 0.99999994,\n",
       "  'middle east respiratory syndrome': 0.9832929,\n",
       "  'septicemia': 0.975744,\n",
       "  'childhood-onset systemic lupus erythematosus': 0.9735457,\n",
       "  'severe acute respiratory syndrome': 0.97291094,\n",
       "  'infertility': 0.9713731,\n",
       "  'cystic fibrosis pulmonary exacerbation': 0.968078,\n",
       "  'pulmonary': 0.96767455,\n",
       "  'h1n1 influenza': 0.9663221,\n",
       "  'allergic rhinitis': 0.96605027}}"
      ]
     },
     "execution_count": 75,
     "metadata": {},
     "output_type": "execute_result"
    }
   ],
   "source": [
    "attri2vec_cosine.get_similar_nodes([\"glucose\", \"covid-19\"], k=10)"
   ]
  },
  {
   "cell_type": "code",
   "execution_count": 76,
   "id": "average-layout",
   "metadata": {},
   "outputs": [],
   "source": [
    "gcn_l2 = NodeSimilarityProcessor(transformed_graph, \"gcn_dgi\")\n",
    "gcn_cosine = NodeSimilarityProcessor(\n",
    "    transformed_graph, \"gcn_dgi\", similarity=\"cosine\")"
   ]
  },
  {
   "cell_type": "code",
   "execution_count": 77,
   "id": "colonial-senator",
   "metadata": {},
   "outputs": [
    {
     "data": {
      "text/plain": [
       "{'glucose': {'glucose': 0.0,\n",
       "  'insulin': 0.0033723912,\n",
       "  'glucose tolerance test': 0.0035072344,\n",
       "  'triglycerides': 0.0036036542,\n",
       "  'high density lipoprotein': 0.0037229697,\n",
       "  'cholesterol': 0.0054044337,\n",
       "  'uric acid': 0.0056960755,\n",
       "  'organic phosphate': 0.0057665086,\n",
       "  'proteinuria': 0.0062844246,\n",
       "  'low density lipoprotein': 0.006509323},\n",
       " 'covid-19': {'covid-19': 0.0,\n",
       "  'coronavirus': 0.0009918846,\n",
       "  'acute respiratory distress syndrome': 0.0022277941,\n",
       "  'fatal': 0.0024863742,\n",
       "  'myocarditis': 0.0035599233,\n",
       "  'angiotensin ii receptor antagonist': 0.0038421175,\n",
       "  'cardiac valve injury': 0.0039954726,\n",
       "  'sars-cov-2': 0.005124502,\n",
       "  'diabetes mellitus': 0.0051375376,\n",
       "  'severe acute respiratory syndrome': 0.005171085}}"
      ]
     },
     "execution_count": 77,
     "metadata": {},
     "output_type": "execute_result"
    }
   ],
   "source": [
    "gcn_l2.get_similar_nodes([\"glucose\", \"covid-19\"], k=10)"
   ]
  },
  {
   "cell_type": "code",
   "execution_count": 78,
   "id": "promising-property",
   "metadata": {
    "scrolled": true
   },
   "outputs": [
    {
     "data": {
      "text/plain": [
       "{'glucose': {'glucose': 1.0,\n",
       "  'triglycerides': 0.98296165,\n",
       "  'insulin': 0.9824796,\n",
       "  'high density lipoprotein': 0.9789133,\n",
       "  'cholesterol': 0.97885364,\n",
       "  'glucose tolerance test': 0.9785327,\n",
       "  'low density lipoprotein': 0.9738021,\n",
       "  'plasma': 0.97061884,\n",
       "  'glomerulus': 0.9683418,\n",
       "  'calcium': 0.9677339},\n",
       " 'covid-19': {'covid-19': 1.0,\n",
       "  'coronavirus': 0.99588025,\n",
       "  'acute respiratory distress syndrome': 0.9908408,\n",
       "  'fatal': 0.9901426,\n",
       "  'angiotensin ii receptor antagonist': 0.9854746,\n",
       "  'myocarditis': 0.9845337,\n",
       "  'cardiac valve injury': 0.9828098,\n",
       "  'cardiovascular disorder': 0.98031616,\n",
       "  'severe acute respiratory syndrome': 0.9791422,\n",
       "  'sars-cov-2': 0.97871155}}"
      ]
     },
     "execution_count": 78,
     "metadata": {},
     "output_type": "execute_result"
    }
   ],
   "source": [
    "gcn_cosine.get_similar_nodes([\"glucose\", \"covid-19\"], k=10)"
   ]
  },
  {
   "cell_type": "markdown",
   "id": "useful-highland",
   "metadata": {},
   "source": [
    "### Node classification\n",
    "\n",
    "Another downstream task that we would like to perform is node classification. We would like to automatically assign entity types according to their node embeddings. For this we will build predictive models for entity type prediction based on:\n",
    "\n",
    "- Only node features\n",
    "- Node2vec embeddings (only structure)\n",
    "- Attri2vec embeddings (structure and node features)\n",
    "- GCN Deep Graph Infomax embeddings (structure and node features)"
   ]
  },
  {
   "cell_type": "code",
   "execution_count": 47,
   "id": "noted-walnut",
   "metadata": {},
   "outputs": [],
   "source": [
    "from bluegraph.downstream.node_classification import NodeClassifier\n",
    "from bluegraph.downstream.benchmark import get_classification_scores\n",
    "\n",
    "from sklearn import model_selection\n",
    "from sklearn.svm import LinearSVC"
   ]
  },
  {
   "cell_type": "markdown",
   "id": "recovered-assault",
   "metadata": {},
   "source": [
    "First of all, we split the graph nodes into the train and the test sets."
   ]
  },
  {
   "cell_type": "code",
   "execution_count": 79,
   "id": "opponent-tonight",
   "metadata": {},
   "outputs": [],
   "source": [
    "train_nodes, test_nodes = model_selection.train_test_split(\n",
    "    transformed_graph.nodes(), train_size=0.8)"
   ]
  },
  {
   "cell_type": "markdown",
   "id": "brazilian-disability",
   "metadata": {},
   "source": [
    "Now we use the `NodeClassifier` interface to create our classification models. As the base model we will use the linear SVM classifier (`LinearSVC`) provided by `scikit-learn`."
   ]
  },
  {
   "cell_type": "code",
   "execution_count": 87,
   "id": "separate-quilt",
   "metadata": {},
   "outputs": [],
   "source": [
    "features_classifier = NodeClassifier(LinearSVC(), feature_vector_prop=\"features\")\n",
    "features_classifier.fit(transformed_graph, train_elements=train_nodes, label_prop=\"entity_type\")\n",
    "features_pred = features_classifier.predict(transformed_graph, predict_elements=test_nodes)"
   ]
  },
  {
   "cell_type": "code",
   "execution_count": 82,
   "id": "spectacular-vocabulary",
   "metadata": {},
   "outputs": [],
   "source": [
    "node2vec_classifier = NodeClassifier(LinearSVC(), feature_vector_prop=\"node2vec\")\n",
    "node2vec_classifier.fit(transformed_graph, train_elements=train_nodes, label_prop=\"entity_type\")\n",
    "node2vec_pred = node2vec_classifier.predict(transformed_graph, predict_elements=test_nodes)"
   ]
  },
  {
   "cell_type": "code",
   "execution_count": 83,
   "id": "british-scratch",
   "metadata": {},
   "outputs": [
    {
     "name": "stderr",
     "output_type": "stream",
     "text": [
      "/Users/oshurko/opt/anaconda3/envs/bluegraph/lib/python3.6/site-packages/sklearn/svm/_base.py:986: ConvergenceWarning: Liblinear failed to converge, increase the number of iterations.\n",
      "  \"the number of iterations.\", ConvergenceWarning)\n"
     ]
    }
   ],
   "source": [
    "attri2vec_classifier = NodeClassifier(LinearSVC(), feature_vector_prop=\"attri2vec\")\n",
    "attri2vec_classifier.fit(transformed_graph, train_elements=train_nodes, label_prop=\"entity_type\")\n",
    "attri2vec_pred = attri2vec_classifier.predict(transformed_graph, predict_elements=test_nodes)"
   ]
  },
  {
   "cell_type": "code",
   "execution_count": 84,
   "id": "altered-settlement",
   "metadata": {},
   "outputs": [],
   "source": [
    "gcn_dgi_classifier = NodeClassifier(LinearSVC(), feature_vector_prop=\"gcn_dgi\")\n",
    "gcn_dgi_classifier.fit(transformed_graph, train_elements=train_nodes, label_prop=\"entity_type\")\n",
    "gcn_dgi_pred = gcn_dgi_classifier.predict(transformed_graph, predict_elements=test_nodes)"
   ]
  },
  {
   "cell_type": "markdown",
   "id": "restricted-multiple",
   "metadata": {},
   "source": [
    "Let us have a look at the scores of different node classification models we have produced."
   ]
  },
  {
   "cell_type": "code",
   "execution_count": 86,
   "id": "simple-bhutan",
   "metadata": {},
   "outputs": [],
   "source": [
    "true_labels = transformed_graph._nodes.loc[test_nodes, \"entity_type\"]"
   ]
  },
  {
   "cell_type": "code",
   "execution_count": 132,
   "id": "sonic-louisville",
   "metadata": {
    "scrolled": true
   },
   "outputs": [
    {
     "data": {
      "text/plain": [
       "{'accuracy': 0.545,\n",
       " 'precision': 0.545,\n",
       " 'recall': 0.545,\n",
       " 'f1_score': 0.545,\n",
       " 'roc_auc_score': 0.761836169848989}"
      ]
     },
     "execution_count": 132,
     "metadata": {},
     "output_type": "execute_result"
    }
   ],
   "source": [
    "get_classification_scores(true_labels, features_pred, multiclass=True)"
   ]
  },
  {
   "cell_type": "code",
   "execution_count": 133,
   "id": "timely-testing",
   "metadata": {},
   "outputs": [
    {
     "data": {
      "text/plain": [
       "{'accuracy': 0.375,\n",
       " 'precision': 0.375,\n",
       " 'recall': 0.375,\n",
       " 'f1_score': 0.375,\n",
       " 'roc_auc_score': 0.6977021844962854}"
      ]
     },
     "execution_count": 133,
     "metadata": {},
     "output_type": "execute_result"
    }
   ],
   "source": [
    "get_classification_scores(true_labels, node2vec_pred, multiclass=True)"
   ]
  },
  {
   "cell_type": "code",
   "execution_count": 134,
   "id": "indie-interstate",
   "metadata": {},
   "outputs": [
    {
     "data": {
      "text/plain": [
       "{'accuracy': 0.46,\n",
       " 'precision': 0.46,\n",
       " 'recall': 0.46,\n",
       " 'f1_score': 0.46,\n",
       " 'roc_auc_score': 0.728145074309897}"
      ]
     },
     "execution_count": 134,
     "metadata": {},
     "output_type": "execute_result"
    }
   ],
   "source": [
    "get_classification_scores(true_labels, attri2vec_pred, multiclass=True)"
   ]
  },
  {
   "cell_type": "code",
   "execution_count": 135,
   "id": "forced-printing",
   "metadata": {},
   "outputs": [
    {
     "data": {
      "text/plain": [
       "{'accuracy': 0.395,\n",
       " 'precision': 0.395,\n",
       " 'recall': 0.395,\n",
       " 'f1_score': 0.395,\n",
       " 'roc_auc_score': 0.7043840332385899}"
      ]
     },
     "execution_count": 135,
     "metadata": {},
     "output_type": "execute_result"
    }
   ],
   "source": [
    "get_classification_scores(true_labels, gcn_dgi_pred, multiclass=True)"
   ]
  },
  {
   "cell_type": "markdown",
   "id": "unexpected-harvard",
   "metadata": {},
   "source": [
    "## Link prediction"
   ]
  },
  {
   "cell_type": "markdown",
   "id": "german-operator",
   "metadata": {},
   "source": [
    "Finally, we would like to use the produced node embeddings to predict the existance of edges. This downstream task is formulated as follows: given a pair of nodes and their embedding vectors, is there an edge between these nodes?"
   ]
  },
  {
   "cell_type": "code",
   "execution_count": 53,
   "id": "complex-treasurer",
   "metadata": {},
   "outputs": [],
   "source": [
    "from bluegraph.downstream.link_prediction import (generate_negative_edges,\n",
    "                                                  EdgePredictor)"
   ]
  },
  {
   "cell_type": "markdown",
   "id": "varying-energy",
   "metadata": {},
   "source": [
    "As the first step of the edges prediciton task we will generate false edges for training (node pairs that don't have edges between them)."
   ]
  },
  {
   "cell_type": "code",
   "execution_count": 54,
   "id": "extended-immigration",
   "metadata": {},
   "outputs": [],
   "source": [
    "false_edges = generate_negative_edges(transformed_graph)"
   ]
  },
  {
   "cell_type": "markdown",
   "id": "serious-brazilian",
   "metadata": {},
   "source": [
    "We will now split both true and false edges into training and test sets."
   ]
  },
  {
   "cell_type": "code",
   "execution_count": 55,
   "id": "heated-mississippi",
   "metadata": {},
   "outputs": [],
   "source": [
    "true_train_edges, true_test_edges = model_selection.train_test_split(\n",
    "    transformed_graph.edges(), train_size=0.8)"
   ]
  },
  {
   "cell_type": "code",
   "execution_count": 56,
   "id": "introductory-duncan",
   "metadata": {},
   "outputs": [],
   "source": [
    "false_train_edges, false_test_edges = model_selection.train_test_split(\n",
    "    false_edges, train_size=0.8)"
   ]
  },
  {
   "cell_type": "markdown",
   "id": "cardiovascular-baseball",
   "metadata": {},
   "source": [
    "And, finally, we will use the `EdgePredictor` interface to build our model (using `LinearSVC` as before and the Hadamard product as the binary operator between the embedding vectors for the source and the target nodes."
   ]
  },
  {
   "cell_type": "code",
   "execution_count": 136,
   "id": "devoted-plaza",
   "metadata": {},
   "outputs": [],
   "source": [
    "model = EdgePredictor(LinearSVC(), feature_vector_prop=\"node2vec\",\n",
    "                      operator=\"hadamard\", directed=False)\n",
    "model.fit(transformed_graph, true_train_edges, negative_samples=false_train_edges)"
   ]
  },
  {
   "cell_type": "code",
   "execution_count": 137,
   "id": "changed-policy",
   "metadata": {},
   "outputs": [],
   "source": [
    "true_labels = np.hstack([\n",
    "    np.ones(len(true_test_edges)),\n",
    "    np.zeros(len(false_test_edges))])"
   ]
  },
  {
   "cell_type": "code",
   "execution_count": 138,
   "id": "adapted-procedure",
   "metadata": {},
   "outputs": [],
   "source": [
    "y_pred = model.predict(transformed_graph, true_test_edges + false_test_edges)"
   ]
  },
  {
   "cell_type": "markdown",
   "id": "center-installation",
   "metadata": {},
   "source": [
    "Let us have a look at the obtained scores."
   ]
  },
  {
   "cell_type": "code",
   "execution_count": 140,
   "id": "inclusive-forwarding",
   "metadata": {},
   "outputs": [
    {
     "ename": "TypeError",
     "evalue": "'numpy.float64' object is not iterable",
     "output_type": "error",
     "traceback": [
      "\u001b[0;31m---------------------------------------------------------------------------\u001b[0m",
      "\u001b[0;31mTypeError\u001b[0m                                 Traceback (most recent call last)",
      "\u001b[0;32m<ipython-input-140-1bb5d21a2002>\u001b[0m in \u001b[0;36m<module>\u001b[0;34m\u001b[0m\n\u001b[0;32m----> 1\u001b[0;31m \u001b[0mget_classification_scores\u001b[0m\u001b[0;34m(\u001b[0m\u001b[0mtrue_labels\u001b[0m\u001b[0;34m,\u001b[0m \u001b[0my_pred\u001b[0m\u001b[0;34m)\u001b[0m\u001b[0;34m\u001b[0m\u001b[0;34m\u001b[0m\u001b[0m\n\u001b[0m",
      "\u001b[0;32m<ipython-input-131-ba6bc9671f41>\u001b[0m in \u001b[0;36mget_classification_scores\u001b[0;34m(true_labels, predicted_labels, average)\u001b[0m\n\u001b[1;32m      1\u001b[0m \u001b[0;32mdef\u001b[0m \u001b[0mget_classification_scores\u001b[0m\u001b[0;34m(\u001b[0m\u001b[0mtrue_labels\u001b[0m\u001b[0;34m,\u001b[0m \u001b[0mpredicted_labels\u001b[0m\u001b[0;34m,\u001b[0m \u001b[0maverage\u001b[0m\u001b[0;34m=\u001b[0m\u001b[0;34m\"micro\"\u001b[0m\u001b[0;34m)\u001b[0m\u001b[0;34m:\u001b[0m\u001b[0;34m\u001b[0m\u001b[0;34m\u001b[0m\u001b[0m\n\u001b[1;32m      2\u001b[0m     \u001b[0mbinarizer\u001b[0m \u001b[0;34m=\u001b[0m \u001b[0mMultiLabelBinarizer\u001b[0m\u001b[0;34m(\u001b[0m\u001b[0;34m)\u001b[0m\u001b[0;34m\u001b[0m\u001b[0;34m\u001b[0m\u001b[0m\n\u001b[0;32m----> 3\u001b[0;31m     \u001b[0mbinary_true_labels\u001b[0m \u001b[0;34m=\u001b[0m \u001b[0mbinarizer\u001b[0m\u001b[0;34m.\u001b[0m\u001b[0mfit_transform\u001b[0m\u001b[0;34m(\u001b[0m\u001b[0mtrue_labels\u001b[0m\u001b[0;34m)\u001b[0m\u001b[0;34m\u001b[0m\u001b[0;34m\u001b[0m\u001b[0m\n\u001b[0m\u001b[1;32m      4\u001b[0m     \u001b[0mbinary_predicted_labels\u001b[0m \u001b[0;34m=\u001b[0m \u001b[0mbinarizer\u001b[0m\u001b[0;34m.\u001b[0m\u001b[0mtransform\u001b[0m\u001b[0;34m(\u001b[0m\u001b[0mpredicted_labels\u001b[0m\u001b[0;34m)\u001b[0m\u001b[0;34m\u001b[0m\u001b[0;34m\u001b[0m\u001b[0m\n\u001b[1;32m      5\u001b[0m     scores = {\n",
      "\u001b[0;32m~/opt/anaconda3/envs/bluegraph/lib/python3.6/site-packages/sklearn/preprocessing/_label.py\u001b[0m in \u001b[0;36mfit_transform\u001b[0;34m(self, y)\u001b[0m\n\u001b[1;32m    779\u001b[0m         \u001b[0mclass_mapping\u001b[0m \u001b[0;34m=\u001b[0m \u001b[0mdefaultdict\u001b[0m\u001b[0;34m(\u001b[0m\u001b[0mint\u001b[0m\u001b[0;34m)\u001b[0m\u001b[0;34m\u001b[0m\u001b[0;34m\u001b[0m\u001b[0m\n\u001b[1;32m    780\u001b[0m         \u001b[0mclass_mapping\u001b[0m\u001b[0;34m.\u001b[0m\u001b[0mdefault_factory\u001b[0m \u001b[0;34m=\u001b[0m \u001b[0mclass_mapping\u001b[0m\u001b[0;34m.\u001b[0m\u001b[0m__len__\u001b[0m\u001b[0;34m\u001b[0m\u001b[0;34m\u001b[0m\u001b[0m\n\u001b[0;32m--> 781\u001b[0;31m         \u001b[0myt\u001b[0m \u001b[0;34m=\u001b[0m \u001b[0mself\u001b[0m\u001b[0;34m.\u001b[0m\u001b[0m_transform\u001b[0m\u001b[0;34m(\u001b[0m\u001b[0my\u001b[0m\u001b[0;34m,\u001b[0m \u001b[0mclass_mapping\u001b[0m\u001b[0;34m)\u001b[0m\u001b[0;34m\u001b[0m\u001b[0;34m\u001b[0m\u001b[0m\n\u001b[0m\u001b[1;32m    782\u001b[0m \u001b[0;34m\u001b[0m\u001b[0m\n\u001b[1;32m    783\u001b[0m         \u001b[0;31m# sort classes and reorder columns\u001b[0m\u001b[0;34m\u001b[0m\u001b[0;34m\u001b[0m\u001b[0;34m\u001b[0m\u001b[0m\n",
      "\u001b[0;32m~/opt/anaconda3/envs/bluegraph/lib/python3.6/site-packages/sklearn/preprocessing/_label.py\u001b[0m in \u001b[0;36m_transform\u001b[0;34m(self, y, class_mapping)\u001b[0m\n\u001b[1;32m    850\u001b[0m         \u001b[0;32mfor\u001b[0m \u001b[0mlabels\u001b[0m \u001b[0;32min\u001b[0m \u001b[0my\u001b[0m\u001b[0;34m:\u001b[0m\u001b[0;34m\u001b[0m\u001b[0;34m\u001b[0m\u001b[0m\n\u001b[1;32m    851\u001b[0m             \u001b[0mindex\u001b[0m \u001b[0;34m=\u001b[0m \u001b[0mset\u001b[0m\u001b[0;34m(\u001b[0m\u001b[0;34m)\u001b[0m\u001b[0;34m\u001b[0m\u001b[0;34m\u001b[0m\u001b[0m\n\u001b[0;32m--> 852\u001b[0;31m             \u001b[0;32mfor\u001b[0m \u001b[0mlabel\u001b[0m \u001b[0;32min\u001b[0m \u001b[0mlabels\u001b[0m\u001b[0;34m:\u001b[0m\u001b[0;34m\u001b[0m\u001b[0;34m\u001b[0m\u001b[0m\n\u001b[0m\u001b[1;32m    853\u001b[0m                 \u001b[0;32mtry\u001b[0m\u001b[0;34m:\u001b[0m\u001b[0;34m\u001b[0m\u001b[0;34m\u001b[0m\u001b[0m\n\u001b[1;32m    854\u001b[0m                     \u001b[0mindex\u001b[0m\u001b[0;34m.\u001b[0m\u001b[0madd\u001b[0m\u001b[0;34m(\u001b[0m\u001b[0mclass_mapping\u001b[0m\u001b[0;34m[\u001b[0m\u001b[0mlabel\u001b[0m\u001b[0;34m]\u001b[0m\u001b[0;34m)\u001b[0m\u001b[0;34m\u001b[0m\u001b[0;34m\u001b[0m\u001b[0m\n",
      "\u001b[0;31mTypeError\u001b[0m: 'numpy.float64' object is not iterable"
     ]
    }
   ],
   "source": [
    "get_classification_scores(true_labels, y_pred)"
   ]
  }
 ],
 "metadata": {
  "kernelspec": {
   "display_name": "bluegraph",
   "language": "python",
   "name": "bluegraph"
  },
  "language_info": {
   "codemirror_mode": {
    "name": "ipython",
    "version": 3
   },
   "file_extension": ".py",
   "mimetype": "text/x-python",
   "name": "python",
   "nbconvert_exporter": "python",
   "pygments_lexer": "ipython3",
   "version": "3.6.12"
  }
 },
 "nbformat": 4,
 "nbformat_minor": 5
}
