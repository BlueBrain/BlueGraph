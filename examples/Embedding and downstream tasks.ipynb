{
 "cells": [
  {
   "cell_type": "code",
   "execution_count": 1,
   "id": "institutional-flexibility",
   "metadata": {},
   "outputs": [],
   "source": [
    "import pandas as pd\n",
    "\n",
    "from bluegraph.core import PandasPGFrame\n",
    "from bluegraph.preprocess.generators import CooccurrenceGenerator\n",
    "from bluegraph.preprocess.encoders import ScikitLearnPGEncoder"
   ]
  },
  {
   "cell_type": "markdown",
   "id": "spoken-location",
   "metadata": {},
   "source": [
    "## Data preparation"
   ]
  },
  {
   "cell_type": "markdown",
   "id": "neutral-chapter",
   "metadata": {},
   "source": [
    "Fist, we read the source dataset with mentions of entities in different paragraphs"
   ]
  },
  {
   "cell_type": "code",
   "execution_count": 2,
   "id": "informative-mattress",
   "metadata": {},
   "outputs": [],
   "source": [
    "mentions = pd.read_csv(\"data/labeled_entity_occurrence.csv\")"
   ]
  },
  {
   "cell_type": "code",
   "execution_count": 3,
   "id": "alternate-swiss",
   "metadata": {},
   "outputs": [],
   "source": [
    "# Extract unique paper/seciton/paragraph identifiers\n",
    "mentions = mentions.rename(columns={\"occurrence\": \"paragraph\"})\n",
    "number_of_paragraphs = len(mentions[\"paragraph\"].unique())"
   ]
  },
  {
   "cell_type": "code",
   "execution_count": 4,
   "id": "surprised-platinum",
   "metadata": {},
   "outputs": [
    {
     "data": {
      "text/html": [
       "<div>\n",
       "<style scoped>\n",
       "    .dataframe tbody tr th:only-of-type {\n",
       "        vertical-align: middle;\n",
       "    }\n",
       "\n",
       "    .dataframe tbody tr th {\n",
       "        vertical-align: top;\n",
       "    }\n",
       "\n",
       "    .dataframe thead th {\n",
       "        text-align: right;\n",
       "    }\n",
       "</style>\n",
       "<table border=\"1\" class=\"dataframe\">\n",
       "  <thead>\n",
       "    <tr style=\"text-align: right;\">\n",
       "      <th></th>\n",
       "      <th>entity</th>\n",
       "      <th>paragraph</th>\n",
       "    </tr>\n",
       "  </thead>\n",
       "  <tbody>\n",
       "    <tr>\n",
       "      <th>0</th>\n",
       "      <td>lithostathine-1-alpha</td>\n",
       "      <td>1</td>\n",
       "    </tr>\n",
       "    <tr>\n",
       "      <th>1</th>\n",
       "      <td>pulmonary</td>\n",
       "      <td>1</td>\n",
       "    </tr>\n",
       "    <tr>\n",
       "      <th>2</th>\n",
       "      <td>host</td>\n",
       "      <td>1</td>\n",
       "    </tr>\n",
       "    <tr>\n",
       "      <th>3</th>\n",
       "      <td>lithostathine-1-alpha</td>\n",
       "      <td>2</td>\n",
       "    </tr>\n",
       "    <tr>\n",
       "      <th>4</th>\n",
       "      <td>surfactant protein d measurement</td>\n",
       "      <td>2</td>\n",
       "    </tr>\n",
       "    <tr>\n",
       "      <th>...</th>\n",
       "      <td>...</td>\n",
       "      <td>...</td>\n",
       "    </tr>\n",
       "    <tr>\n",
       "      <th>2281346</th>\n",
       "      <td>covid-19</td>\n",
       "      <td>227822</td>\n",
       "    </tr>\n",
       "    <tr>\n",
       "      <th>2281347</th>\n",
       "      <td>covid-19</td>\n",
       "      <td>227822</td>\n",
       "    </tr>\n",
       "    <tr>\n",
       "      <th>2281348</th>\n",
       "      <td>viral infection</td>\n",
       "      <td>227823</td>\n",
       "    </tr>\n",
       "    <tr>\n",
       "      <th>2281349</th>\n",
       "      <td>lipid</td>\n",
       "      <td>227823</td>\n",
       "    </tr>\n",
       "    <tr>\n",
       "      <th>2281350</th>\n",
       "      <td>inflammation</td>\n",
       "      <td>227823</td>\n",
       "    </tr>\n",
       "  </tbody>\n",
       "</table>\n",
       "<p>2281351 rows × 2 columns</p>\n",
       "</div>"
      ],
      "text/plain": [
       "                                   entity  paragraph\n",
       "0                   lithostathine-1-alpha          1\n",
       "1                               pulmonary          1\n",
       "2                                    host          1\n",
       "3                   lithostathine-1-alpha          2\n",
       "4        surfactant protein d measurement          2\n",
       "...                                   ...        ...\n",
       "2281346                          covid-19     227822\n",
       "2281347                          covid-19     227822\n",
       "2281348                   viral infection     227823\n",
       "2281349                             lipid     227823\n",
       "2281350                      inflammation     227823\n",
       "\n",
       "[2281351 rows x 2 columns]"
      ]
     },
     "execution_count": 4,
     "metadata": {},
     "output_type": "execute_result"
    }
   ],
   "source": [
    "mentions"
   ]
  },
  {
   "cell_type": "markdown",
   "id": "central-delicious",
   "metadata": {},
   "source": [
    "We will also load a dataset that contains definitions of entities and their types"
   ]
  },
  {
   "cell_type": "code",
   "execution_count": 5,
   "id": "cross-durham",
   "metadata": {
    "scrolled": false
   },
   "outputs": [],
   "source": [
    "entity_data = pd.read_csv(\"data/entity_types_defs.csv\")"
   ]
  },
  {
   "cell_type": "code",
   "execution_count": 6,
   "id": "quick-reason",
   "metadata": {},
   "outputs": [
    {
     "data": {
      "text/html": [
       "<div>\n",
       "<style scoped>\n",
       "    .dataframe tbody tr th:only-of-type {\n",
       "        vertical-align: middle;\n",
       "    }\n",
       "\n",
       "    .dataframe tbody tr th {\n",
       "        vertical-align: top;\n",
       "    }\n",
       "\n",
       "    .dataframe thead th {\n",
       "        text-align: right;\n",
       "    }\n",
       "</style>\n",
       "<table border=\"1\" class=\"dataframe\">\n",
       "  <thead>\n",
       "    <tr style=\"text-align: right;\">\n",
       "      <th></th>\n",
       "      <th>entity</th>\n",
       "      <th>entity_type</th>\n",
       "      <th>definition</th>\n",
       "    </tr>\n",
       "  </thead>\n",
       "  <tbody>\n",
       "    <tr>\n",
       "      <th>0</th>\n",
       "      <td>(e3-independent) e2 ubiquitin-conjugating enzyme</td>\n",
       "      <td>PROTEIN</td>\n",
       "      <td>(E3-independent) E2 ubiquitin-conjugating enzy...</td>\n",
       "    </tr>\n",
       "    <tr>\n",
       "      <th>1</th>\n",
       "      <td>(h115d)vhl35 peptide</td>\n",
       "      <td>CHEMICAL</td>\n",
       "      <td>A peptide vaccine derived from the von Hippel-...</td>\n",
       "    </tr>\n",
       "    <tr>\n",
       "      <th>2</th>\n",
       "      <td>1,1-dimethylhydrazine</td>\n",
       "      <td>DRUG</td>\n",
       "      <td>A clear, colorless, flammable, hygroscopic liq...</td>\n",
       "    </tr>\n",
       "    <tr>\n",
       "      <th>3</th>\n",
       "      <td>1,2-dimethylhydrazine</td>\n",
       "      <td>CHEMICAL</td>\n",
       "      <td>A compound used experimentally to induce tumor...</td>\n",
       "    </tr>\n",
       "    <tr>\n",
       "      <th>4</th>\n",
       "      <td>1,25-dihydroxyvitamin d(3) 24-hydroxylase, mit...</td>\n",
       "      <td>PROTEIN</td>\n",
       "      <td>1,25-dihydroxyvitamin D(3) 24-hydroxylase, mit...</td>\n",
       "    </tr>\n",
       "    <tr>\n",
       "      <th>...</th>\n",
       "      <td>...</td>\n",
       "      <td>...</td>\n",
       "      <td>...</td>\n",
       "    </tr>\n",
       "    <tr>\n",
       "      <th>28127</th>\n",
       "      <td>zygomycosis</td>\n",
       "      <td>DISEASE</td>\n",
       "      <td>Any infection due to a fungus of the Zygomycot...</td>\n",
       "    </tr>\n",
       "    <tr>\n",
       "      <th>28128</th>\n",
       "      <td>zygomycota</td>\n",
       "      <td>ORGANISM</td>\n",
       "      <td>A phylum of fungi that are characterized by ve...</td>\n",
       "    </tr>\n",
       "    <tr>\n",
       "      <th>28129</th>\n",
       "      <td>zygosity</td>\n",
       "      <td>ORGANISM</td>\n",
       "      <td>The genetic condition of a zygote, especially ...</td>\n",
       "    </tr>\n",
       "    <tr>\n",
       "      <th>28130</th>\n",
       "      <td>zygote</td>\n",
       "      <td>CELL_COMPARTMENT</td>\n",
       "      <td>The cell formed by the union of two gametes, e...</td>\n",
       "    </tr>\n",
       "    <tr>\n",
       "      <th>28131</th>\n",
       "      <td>zyxin</td>\n",
       "      <td>ORGANISM</td>\n",
       "      <td>Zyxin (572 aa, ~61 kDa) is encoded by the huma...</td>\n",
       "    </tr>\n",
       "  </tbody>\n",
       "</table>\n",
       "<p>28132 rows × 3 columns</p>\n",
       "</div>"
      ],
      "text/plain": [
       "                                                  entity       entity_type  \\\n",
       "0       (e3-independent) e2 ubiquitin-conjugating enzyme           PROTEIN   \n",
       "1                                   (h115d)vhl35 peptide          CHEMICAL   \n",
       "2                                  1,1-dimethylhydrazine              DRUG   \n",
       "3                                  1,2-dimethylhydrazine          CHEMICAL   \n",
       "4      1,25-dihydroxyvitamin d(3) 24-hydroxylase, mit...           PROTEIN   \n",
       "...                                                  ...               ...   \n",
       "28127                                        zygomycosis           DISEASE   \n",
       "28128                                         zygomycota          ORGANISM   \n",
       "28129                                           zygosity          ORGANISM   \n",
       "28130                                             zygote  CELL_COMPARTMENT   \n",
       "28131                                              zyxin          ORGANISM   \n",
       "\n",
       "                                              definition  \n",
       "0      (E3-independent) E2 ubiquitin-conjugating enzy...  \n",
       "1      A peptide vaccine derived from the von Hippel-...  \n",
       "2      A clear, colorless, flammable, hygroscopic liq...  \n",
       "3      A compound used experimentally to induce tumor...  \n",
       "4      1,25-dihydroxyvitamin D(3) 24-hydroxylase, mit...  \n",
       "...                                                  ...  \n",
       "28127  Any infection due to a fungus of the Zygomycot...  \n",
       "28128  A phylum of fungi that are characterized by ve...  \n",
       "28129  The genetic condition of a zygote, especially ...  \n",
       "28130  The cell formed by the union of two gametes, e...  \n",
       "28131  Zyxin (572 aa, ~61 kDa) is encoded by the huma...  \n",
       "\n",
       "[28132 rows x 3 columns]"
      ]
     },
     "execution_count": 6,
     "metadata": {},
     "output_type": "execute_result"
    }
   ],
   "source": [
    "entity_data"
   ]
  },
  {
   "cell_type": "markdown",
   "id": "prepared-butler",
   "metadata": {},
   "source": [
    "### Generation of a co-occurrence graph"
   ]
  },
  {
   "cell_type": "markdown",
   "id": "japanese-quilt",
   "metadata": {},
   "source": [
    "We first create a graph whose nodes are entities"
   ]
  },
  {
   "cell_type": "code",
   "execution_count": 7,
   "id": "everyday-provider",
   "metadata": {},
   "outputs": [],
   "source": [
    "graph = PandasPGFrame()\n",
    "entity_nodes = mentions[\"entity\"].unique()\n",
    "graph.add_nodes(entity_nodes)\n",
    "graph.add_node_types({n: \"Entity\" for n in entity_nodes})\n",
    "\n",
    "entity_props = entity_data.rename(columns={\"entity\": \"@id\"}).set_index(\"@id\")\n",
    "graph.add_node_properties(entity_props[\"entity_type\"], prop_type=\"category\")\n",
    "graph.add_node_properties(entity_props[\"definition\"], prop_type=\"text\")"
   ]
  },
  {
   "cell_type": "code",
   "execution_count": 8,
   "id": "respected-plenty",
   "metadata": {},
   "outputs": [],
   "source": [
    "paragraph_prop = pd.DataFrame({\"paragraphs\": mentions.groupby(\"entity\").aggregate(set)[\"paragraph\"]})\n",
    "graph.add_node_properties(paragraph_prop, prop_type=\"category\")"
   ]
  },
  {
   "cell_type": "markdown",
   "id": "consecutive-style",
   "metadata": {},
   "source": [
    "For each node we will add the `frequency` property that counts the total number of paragraphs where the entity was mentioned."
   ]
  },
  {
   "cell_type": "code",
   "execution_count": 9,
   "id": "prescription-utilization",
   "metadata": {},
   "outputs": [],
   "source": [
    "frequencies = graph._nodes[\"paragraphs\"].apply(len)\n",
    "frequencies.name = \"frequency\"\n",
    "graph.add_node_properties(frequencies)"
   ]
  },
  {
   "cell_type": "code",
   "execution_count": 10,
   "id": "cleared-trunk",
   "metadata": {},
   "outputs": [
    {
     "data": {
      "text/html": [
       "<div>\n",
       "<style scoped>\n",
       "    .dataframe tbody tr th:only-of-type {\n",
       "        vertical-align: middle;\n",
       "    }\n",
       "\n",
       "    .dataframe tbody tr th {\n",
       "        vertical-align: top;\n",
       "    }\n",
       "\n",
       "    .dataframe thead th {\n",
       "        text-align: right;\n",
       "    }\n",
       "</style>\n",
       "<table border=\"1\" class=\"dataframe\">\n",
       "  <thead>\n",
       "    <tr style=\"text-align: right;\">\n",
       "      <th></th>\n",
       "      <th>@type</th>\n",
       "      <th>entity_type</th>\n",
       "      <th>definition</th>\n",
       "      <th>paragraphs</th>\n",
       "      <th>frequency</th>\n",
       "    </tr>\n",
       "    <tr>\n",
       "      <th>@id</th>\n",
       "      <th></th>\n",
       "      <th></th>\n",
       "      <th></th>\n",
       "      <th></th>\n",
       "      <th></th>\n",
       "    </tr>\n",
       "  </thead>\n",
       "  <tbody>\n",
       "    <tr>\n",
       "      <th>lithostathine-1-alpha</th>\n",
       "      <td>Entity</td>\n",
       "      <td>PROTEIN</td>\n",
       "      <td>Lithostathine-1-alpha (166 aa, ~19 kDa) is enc...</td>\n",
       "      <td>{1, 2, 3, 18178, 195589, 104454, 88967, 104455...</td>\n",
       "      <td>80</td>\n",
       "    </tr>\n",
       "    <tr>\n",
       "      <th>pulmonary</th>\n",
       "      <td>Entity</td>\n",
       "      <td>ORGAN</td>\n",
       "      <td>Relating to the lungs as the intended site of ...</td>\n",
       "      <td>{1, 196612, 196613, 196614, 196621, 196623, 16...</td>\n",
       "      <td>8295</td>\n",
       "    </tr>\n",
       "    <tr>\n",
       "      <th>host</th>\n",
       "      <td>Entity</td>\n",
       "      <td>ORGANISM</td>\n",
       "      <td>An organism that nourishes and supports anothe...</td>\n",
       "      <td>{1, 114689, 3, 221193, 180243, 180247, 28, 180...</td>\n",
       "      <td>2660</td>\n",
       "    </tr>\n",
       "    <tr>\n",
       "      <th>surfactant protein d measurement</th>\n",
       "      <td>Entity</td>\n",
       "      <td>PROTEIN</td>\n",
       "      <td>The determination of the amount of surfactant ...</td>\n",
       "      <td>{145537, 2, 3, 4, 5, 6, 51202, 103939, 103940,...</td>\n",
       "      <td>268</td>\n",
       "    </tr>\n",
       "    <tr>\n",
       "      <th>communication response</th>\n",
       "      <td>Entity</td>\n",
       "      <td>PATHWAY</td>\n",
       "      <td>A statement (either spoken or written) that is...</td>\n",
       "      <td>{46592, 64000, 2, 28162, 166912, 226304, 88585...</td>\n",
       "      <td>160</td>\n",
       "    </tr>\n",
       "    <tr>\n",
       "      <th>...</th>\n",
       "      <td>...</td>\n",
       "      <td>...</td>\n",
       "      <td>...</td>\n",
       "      <td>...</td>\n",
       "      <td>...</td>\n",
       "    </tr>\n",
       "    <tr>\n",
       "      <th>drug binding site</th>\n",
       "      <td>Entity</td>\n",
       "      <td>PATHWAY</td>\n",
       "      <td>The reactive parts of a macromolecule that dir...</td>\n",
       "      <td>{225082, 225079}</td>\n",
       "      <td>2</td>\n",
       "    </tr>\n",
       "    <tr>\n",
       "      <th>carbaril</th>\n",
       "      <td>Entity</td>\n",
       "      <td>CHEMICAL</td>\n",
       "      <td>A synthetic carbamate acetylcholinesterase inh...</td>\n",
       "      <td>{225408, 225409, 225415, 225419, 225397}</td>\n",
       "      <td>5</td>\n",
       "    </tr>\n",
       "    <tr>\n",
       "      <th>ny-eso-1 positive tumor cells present</th>\n",
       "      <td>Entity</td>\n",
       "      <td>CELL_TYPE</td>\n",
       "      <td>An indication that Cancer/Testis Antigen 1 exp...</td>\n",
       "      <td>{225544, 226996}</td>\n",
       "      <td>2</td>\n",
       "    </tr>\n",
       "    <tr>\n",
       "      <th>mustelidae</th>\n",
       "      <td>Entity</td>\n",
       "      <td>ORGANISM</td>\n",
       "      <td>Taxonomic family which includes the Ferret.</td>\n",
       "      <td>{225901, 225903}</td>\n",
       "      <td>2</td>\n",
       "    </tr>\n",
       "    <tr>\n",
       "      <th>friulian language</th>\n",
       "      <td>Entity</td>\n",
       "      <td>ORGANISM</td>\n",
       "      <td>An Indo-European Romance language spoken in th...</td>\n",
       "      <td>{225901, 225903}</td>\n",
       "      <td>2</td>\n",
       "    </tr>\n",
       "  </tbody>\n",
       "</table>\n",
       "<p>17989 rows × 5 columns</p>\n",
       "</div>"
      ],
      "text/plain": [
       "                                        @type entity_type  \\\n",
       "@id                                                         \n",
       "lithostathine-1-alpha                  Entity     PROTEIN   \n",
       "pulmonary                              Entity       ORGAN   \n",
       "host                                   Entity    ORGANISM   \n",
       "surfactant protein d measurement       Entity     PROTEIN   \n",
       "communication response                 Entity     PATHWAY   \n",
       "...                                       ...         ...   \n",
       "drug binding site                      Entity     PATHWAY   \n",
       "carbaril                               Entity    CHEMICAL   \n",
       "ny-eso-1 positive tumor cells present  Entity   CELL_TYPE   \n",
       "mustelidae                             Entity    ORGANISM   \n",
       "friulian language                      Entity    ORGANISM   \n",
       "\n",
       "                                                                              definition  \\\n",
       "@id                                                                                        \n",
       "lithostathine-1-alpha                  Lithostathine-1-alpha (166 aa, ~19 kDa) is enc...   \n",
       "pulmonary                              Relating to the lungs as the intended site of ...   \n",
       "host                                   An organism that nourishes and supports anothe...   \n",
       "surfactant protein d measurement       The determination of the amount of surfactant ...   \n",
       "communication response                 A statement (either spoken or written) that is...   \n",
       "...                                                                                  ...   \n",
       "drug binding site                      The reactive parts of a macromolecule that dir...   \n",
       "carbaril                               A synthetic carbamate acetylcholinesterase inh...   \n",
       "ny-eso-1 positive tumor cells present  An indication that Cancer/Testis Antigen 1 exp...   \n",
       "mustelidae                                   Taxonomic family which includes the Ferret.   \n",
       "friulian language                      An Indo-European Romance language spoken in th...   \n",
       "\n",
       "                                                                              paragraphs  \\\n",
       "@id                                                                                        \n",
       "lithostathine-1-alpha                  {1, 2, 3, 18178, 195589, 104454, 88967, 104455...   \n",
       "pulmonary                              {1, 196612, 196613, 196614, 196621, 196623, 16...   \n",
       "host                                   {1, 114689, 3, 221193, 180243, 180247, 28, 180...   \n",
       "surfactant protein d measurement       {145537, 2, 3, 4, 5, 6, 51202, 103939, 103940,...   \n",
       "communication response                 {46592, 64000, 2, 28162, 166912, 226304, 88585...   \n",
       "...                                                                                  ...   \n",
       "drug binding site                                                       {225082, 225079}   \n",
       "carbaril                                        {225408, 225409, 225415, 225419, 225397}   \n",
       "ny-eso-1 positive tumor cells present                                   {225544, 226996}   \n",
       "mustelidae                                                              {225901, 225903}   \n",
       "friulian language                                                       {225901, 225903}   \n",
       "\n",
       "                                       frequency  \n",
       "@id                                               \n",
       "lithostathine-1-alpha                         80  \n",
       "pulmonary                                   8295  \n",
       "host                                        2660  \n",
       "surfactant protein d measurement             268  \n",
       "communication response                       160  \n",
       "...                                          ...  \n",
       "drug binding site                              2  \n",
       "carbaril                                       5  \n",
       "ny-eso-1 positive tumor cells present          2  \n",
       "mustelidae                                     2  \n",
       "friulian language                              2  \n",
       "\n",
       "[17989 rows x 5 columns]"
      ]
     },
     "execution_count": 10,
     "metadata": {},
     "output_type": "execute_result"
    }
   ],
   "source": [
    "graph.nodes(raw_frame=True)"
   ]
  },
  {
   "cell_type": "markdown",
   "id": "waiting-jimmy",
   "metadata": {},
   "source": [
    "Now, for constructing co-occurrence network we will select only 1000 most frequent entities."
   ]
  },
  {
   "cell_type": "code",
   "execution_count": 11,
   "id": "sensitive-running",
   "metadata": {},
   "outputs": [],
   "source": [
    "nodes_to_include = graph._nodes.nlargest(1000, \"frequency\").index"
   ]
  },
  {
   "cell_type": "code",
   "execution_count": 12,
   "id": "helpful-lounge",
   "metadata": {},
   "outputs": [
    {
     "data": {
      "text/plain": [
       "Index(['covid-19', 'blood', 'human', 'infectious disorder', 'heart',\n",
       "       'diabetes mellitus', 'lung', 'sars-cov-2', 'mouse', 'pulmonary',\n",
       "       ...\n",
       "       'wheezing', 'chief complaint', 'azathioprine', 'ileum', 'hematology',\n",
       "       'nonalcoholic steatohepatitis', 'nervous system disorder',\n",
       "       'renal impairment', 'urticaria', 'rectum'],\n",
       "      dtype='object', name='@id', length=1000)"
      ]
     },
     "execution_count": 12,
     "metadata": {},
     "output_type": "execute_result"
    }
   ],
   "source": [
    "nodes_to_include"
   ]
  },
  {
   "cell_type": "markdown",
   "id": "wired-train",
   "metadata": {},
   "source": [
    "The `CooccurrenceGenerator` class allows us to generate co-occurrence edges from overlaps in node property values or edge (or edge properties). In this case we consider the `paragraph` node property and construct co-occurrence edges from overlapping sets of paragraphs. In addition, we will compute some co-occurrence statistics: total co-occurrence frequency and normalized pointwise mutual information (NPMI)."
   ]
  },
  {
   "cell_type": "code",
   "execution_count": 13,
   "id": "removed-paraguay",
   "metadata": {},
   "outputs": [
    {
     "name": "stdout",
     "output_type": "stream",
     "text": [
      "Examining 499500 pairs of terms for co-occurrence...\n",
      "CPU times: user 7.37 s, sys: 2.18 s, total: 9.54 s\n",
      "Wall time: 1min 17s\n"
     ]
    }
   ],
   "source": [
    "%%time\n",
    "generator = CooccurrenceGenerator(graph.subgraph(nodes=nodes_to_include))\n",
    "paragraph_cooccurrence_edges = generator.generate_from_nodes(\n",
    "    \"paragraphs\", total_factor_instances=number_of_paragraphs,\n",
    "    compute_statistics=[\"frequency\", \"npmi\"],\n",
    "    parallelize=True, cores=8)"
   ]
  },
  {
   "cell_type": "code",
   "execution_count": 14,
   "id": "genetic-patrick",
   "metadata": {},
   "outputs": [],
   "source": [
    "cutoff = paragraph_cooccurrence_edges[\"npmi\"].mean()"
   ]
  },
  {
   "cell_type": "code",
   "execution_count": 15,
   "id": "fuzzy-cursor",
   "metadata": {},
   "outputs": [],
   "source": [
    "paragraph_cooccurrence_edges = paragraph_cooccurrence_edges[paragraph_cooccurrence_edges[\"npmi\"] > cutoff]"
   ]
  },
  {
   "cell_type": "markdown",
   "id": "thorough-therapy",
   "metadata": {},
   "source": [
    "We add generated edges to the original graph"
   ]
  },
  {
   "cell_type": "code",
   "execution_count": 16,
   "id": "desperate-table",
   "metadata": {},
   "outputs": [],
   "source": [
    "graph._edges = paragraph_cooccurrence_edges\n",
    "graph.edge_prop_as_numeric(\"frequency\")\n",
    "graph.edge_prop_as_numeric(\"npmi\")"
   ]
  },
  {
   "cell_type": "code",
   "execution_count": 17,
   "id": "baking-taxation",
   "metadata": {},
   "outputs": [
    {
     "data": {
      "text/html": [
       "<div>\n",
       "<style scoped>\n",
       "    .dataframe tbody tr th:only-of-type {\n",
       "        vertical-align: middle;\n",
       "    }\n",
       "\n",
       "    .dataframe tbody tr th {\n",
       "        vertical-align: top;\n",
       "    }\n",
       "\n",
       "    .dataframe thead th {\n",
       "        text-align: right;\n",
       "    }\n",
       "</style>\n",
       "<table border=\"1\" class=\"dataframe\">\n",
       "  <thead>\n",
       "    <tr style=\"text-align: right;\">\n",
       "      <th></th>\n",
       "      <th></th>\n",
       "      <th>common_factors</th>\n",
       "      <th>frequency</th>\n",
       "      <th>npmi</th>\n",
       "    </tr>\n",
       "    <tr>\n",
       "      <th>@source_id</th>\n",
       "      <th>@target_id</th>\n",
       "      <th></th>\n",
       "      <th></th>\n",
       "      <th></th>\n",
       "    </tr>\n",
       "  </thead>\n",
       "  <tbody>\n",
       "    <tr>\n",
       "      <th rowspan=\"5\" valign=\"top\">surfactant protein d measurement</th>\n",
       "      <th>microorganism</th>\n",
       "      <td>{2, 3, 7810, 58, 41, 7754, 7850, 26218, 7853, ...</td>\n",
       "      <td>19</td>\n",
       "      <td>0.235263</td>\n",
       "    </tr>\n",
       "    <tr>\n",
       "      <th>lung</th>\n",
       "      <td>{2, 103939, 51202, 5, 4, 103940, 15, 145438, 3...</td>\n",
       "      <td>93</td>\n",
       "      <td>0.221395</td>\n",
       "    </tr>\n",
       "    <tr>\n",
       "      <th>alveolar</th>\n",
       "      <td>{223872, 2, 51202, 100502, 7831, 149657, 19522...</td>\n",
       "      <td>25</td>\n",
       "      <td>0.336175</td>\n",
       "    </tr>\n",
       "    <tr>\n",
       "      <th>epithelial cell</th>\n",
       "      <td>{2, 4, 5, 222298, 7825, 7732, 7733, 169174, 7738}</td>\n",
       "      <td>9</td>\n",
       "      <td>0.175923</td>\n",
       "    </tr>\n",
       "    <tr>\n",
       "      <th>molecule</th>\n",
       "      <td>{2, 7750, 49991, 134504, 206448, 49, 52, 20645...</td>\n",
       "      <td>10</td>\n",
       "      <td>0.113611</td>\n",
       "    </tr>\n",
       "    <tr>\n",
       "      <th>...</th>\n",
       "      <th>...</th>\n",
       "      <td>...</td>\n",
       "      <td>...</td>\n",
       "      <td>...</td>\n",
       "    </tr>\n",
       "    <tr>\n",
       "      <th rowspan=\"2\" valign=\"top\">severe acute respiratory syndrome</th>\n",
       "      <th>caax prenyl protease 2</th>\n",
       "      <td>{205345, 185829, 227486, 220124, 220126}</td>\n",
       "      <td>5</td>\n",
       "      <td>0.142611</td>\n",
       "    </tr>\n",
       "    <tr>\n",
       "      <th>transmembrane protease serine 2</th>\n",
       "      <td>{223746, 223747, 167301, 223752, 200971, 22375...</td>\n",
       "      <td>21</td>\n",
       "      <td>0.238160</td>\n",
       "    </tr>\n",
       "    <tr>\n",
       "      <th rowspan=\"3\" valign=\"top\">chloroquine</th>\n",
       "      <th>severe acute respiratory syndrome</th>\n",
       "      <td>{205345, 170212, 227238, 195047, 172167, 21501...</td>\n",
       "      <td>11</td>\n",
       "      <td>0.160524</td>\n",
       "    </tr>\n",
       "    <tr>\n",
       "      <th>caax prenyl protease 2</th>\n",
       "      <td>{201001, 205345, 225292, 198655}</td>\n",
       "      <td>4</td>\n",
       "      <td>0.159462</td>\n",
       "    </tr>\n",
       "    <tr>\n",
       "      <th>transmembrane protease serine 2</th>\n",
       "      <td>{168961, 221923, 193191, 201001, 204972, 19044...</td>\n",
       "      <td>19</td>\n",
       "      <td>0.271910</td>\n",
       "    </tr>\n",
       "  </tbody>\n",
       "</table>\n",
       "<p>161332 rows × 3 columns</p>\n",
       "</div>"
      ],
      "text/plain": [
       "                                                                                                        common_factors  \\\n",
       "@source_id                        @target_id                                                                             \n",
       "surfactant protein d measurement  microorganism                      {2, 3, 7810, 58, 41, 7754, 7850, 26218, 7853, ...   \n",
       "                                  lung                               {2, 103939, 51202, 5, 4, 103940, 15, 145438, 3...   \n",
       "                                  alveolar                           {223872, 2, 51202, 100502, 7831, 149657, 19522...   \n",
       "                                  epithelial cell                    {2, 4, 5, 222298, 7825, 7732, 7733, 169174, 7738}   \n",
       "                                  molecule                           {2, 7750, 49991, 134504, 206448, 49, 52, 20645...   \n",
       "...                                                                                                                ...   \n",
       "severe acute respiratory syndrome caax prenyl protease 2                      {205345, 185829, 227486, 220124, 220126}   \n",
       "                                  transmembrane protease serine 2    {223746, 223747, 167301, 223752, 200971, 22375...   \n",
       "chloroquine                       severe acute respiratory syndrome  {205345, 170212, 227238, 195047, 172167, 21501...   \n",
       "                                  caax prenyl protease 2                              {201001, 205345, 225292, 198655}   \n",
       "                                  transmembrane protease serine 2    {168961, 221923, 193191, 201001, 204972, 19044...   \n",
       "\n",
       "                                                                     frequency  \\\n",
       "@source_id                        @target_id                                     \n",
       "surfactant protein d measurement  microorganism                             19   \n",
       "                                  lung                                      93   \n",
       "                                  alveolar                                  25   \n",
       "                                  epithelial cell                            9   \n",
       "                                  molecule                                  10   \n",
       "...                                                                        ...   \n",
       "severe acute respiratory syndrome caax prenyl protease 2                     5   \n",
       "                                  transmembrane protease serine 2           21   \n",
       "chloroquine                       severe acute respiratory syndrome         11   \n",
       "                                  caax prenyl protease 2                     4   \n",
       "                                  transmembrane protease serine 2           19   \n",
       "\n",
       "                                                                         npmi  \n",
       "@source_id                        @target_id                                   \n",
       "surfactant protein d measurement  microorganism                      0.235263  \n",
       "                                  lung                               0.221395  \n",
       "                                  alveolar                           0.336175  \n",
       "                                  epithelial cell                    0.175923  \n",
       "                                  molecule                           0.113611  \n",
       "...                                                                       ...  \n",
       "severe acute respiratory syndrome caax prenyl protease 2             0.142611  \n",
       "                                  transmembrane protease serine 2    0.238160  \n",
       "chloroquine                       severe acute respiratory syndrome  0.160524  \n",
       "                                  caax prenyl protease 2             0.159462  \n",
       "                                  transmembrane protease serine 2    0.271910  \n",
       "\n",
       "[161332 rows x 3 columns]"
      ]
     },
     "execution_count": 17,
     "metadata": {},
     "output_type": "execute_result"
    }
   ],
   "source": [
    "graph.edges(raw_frame=True)"
   ]
  },
  {
   "cell_type": "markdown",
   "id": "subjective-joint",
   "metadata": {},
   "source": [
    "Recall that we have generated edges only for the 1000 most frequent entities, the rest of the entities will be isolated (having no incident edges). Let us remove all the isolated nodes."
   ]
  },
  {
   "cell_type": "code",
   "execution_count": 26,
   "id": "valid-bracket",
   "metadata": {},
   "outputs": [],
   "source": [
    "graph.remove_isolated_nodes()"
   ]
  },
  {
   "cell_type": "markdown",
   "id": "formal-wilson",
   "metadata": {},
   "source": [
    "Next, we save the generated co-occurrence graph."
   ]
  },
  {
   "cell_type": "code",
   "execution_count": 27,
   "id": "greatest-documentation",
   "metadata": {},
   "outputs": [],
   "source": [
    "# graph.to_csv(\"data/graph_nodes.csv\", \"data/graph_edges.csv\",)"
   ]
  },
  {
   "cell_type": "code",
   "execution_count": 28,
   "id": "split-technician",
   "metadata": {},
   "outputs": [],
   "source": [
    "# graph = PandasPGFrame.from_csv(\n",
    "#     \"data/graph_nodes.csv\", \"data/graph_edges.csv\",\n",
    "#     node_property_types={\n",
    "#         \"@type\": \"category\",\n",
    "#         \"entity_type\": \"category\",\n",
    "#         \"definition\": \"text\",\n",
    "#         \"paragraphs\": \"category\",\n",
    "#         \"frequency\": \"numeric\"\n",
    "#     },\n",
    "#     edge_property_types={\n",
    "#         \"common_factors\": \"category\",\n",
    "#         \"frequency\": \"numeritc\",\n",
    "#         \"ppmi\": \"numeric\",\n",
    "#         \"npmi\": \"numeric\"\n",
    "#     })"
   ]
  },
  {
   "cell_type": "markdown",
   "id": "synthetic-nudist",
   "metadata": {},
   "source": [
    "### Node feature extraction\n",
    "\n",
    "We extract node features from entity definitions using the `tfidf` model."
   ]
  },
  {
   "cell_type": "code",
   "execution_count": 29,
   "id": "logical-cartridge",
   "metadata": {},
   "outputs": [],
   "source": [
    "encoder = ScikitLearnPGEncoder(text_encoding_max_dimension=512)"
   ]
  },
  {
   "cell_type": "code",
   "execution_count": 30,
   "id": "useful-engagement",
   "metadata": {},
   "outputs": [
    {
     "name": "stdout",
     "output_type": "stream",
     "text": [
      "CPU times: user 398 ms, sys: 9.82 ms, total: 408 ms\n",
      "Wall time: 407 ms\n"
     ]
    }
   ],
   "source": [
    "%%time\n",
    "transformed_graph = encoder.fit_transform(\n",
    "    graph, node_properties=[\"definition\"], edge_properties=None)"
   ]
  },
  {
   "cell_type": "code",
   "execution_count": 31,
   "id": "operational-truth",
   "metadata": {},
   "outputs": [
    {
     "data": {
      "text/plain": [
       "['relating',\n",
       " 'lungs',\n",
       " 'site',\n",
       " 'administration',\n",
       " 'product',\n",
       " 'usually',\n",
       " 'action',\n",
       " 'lower',\n",
       " 'respiratory',\n",
       " 'tract']"
      ]
     },
     "execution_count": 31,
     "metadata": {},
     "output_type": "execute_result"
    }
   ],
   "source": [
    "vocabulary = encoder._node_encoders[\"definition\"].vocabulary_\n",
    "list(vocabulary.keys())[:10]"
   ]
  },
  {
   "cell_type": "markdown",
   "id": "chief-spider",
   "metadata": {},
   "source": [
    "We will add additional properties to our transformed graph corresponding to the entity type labels. We will also add NPMI as an edge property to this transformed graph."
   ]
  },
  {
   "cell_type": "code",
   "execution_count": 32,
   "id": "crucial-devices",
   "metadata": {},
   "outputs": [
    {
     "ename": "KeyError",
     "evalue": "\"None of [Index(['pulmonary', 'host', 'surfactant protein d measurement',\\n       'microorganism', 'lung', 'alveolar', 'epithelial cell', 'mucosa',\\n       'gastrointestinal tract', 'molecule',\\n       ...\\n       'brain natriuretic peptide measurement', 'chloroquine',\\n       'autoimmune encephalitis', 'oxacillin',\\n       'severe acute respiratory syndrome', 'candida parapsilosis',\\n       'ciliated bronchial epithelial cell',\\n       'cystic fibrosis pulmonary exacerbation', 'caax prenyl protease 2',\\n       'transmembrane protease serine 2'],\\n      dtype='object', length=1000)] are in the [columns]\"",
     "output_type": "error",
     "traceback": [
      "\u001b[0;31m---------------------------------------------------------------------------\u001b[0m",
      "\u001b[0;31mKeyError\u001b[0m                                  Traceback (most recent call last)",
      "\u001b[0;32m<ipython-input-32-4e2fb6708224>\u001b[0m in \u001b[0;36m<module>\u001b[0;34m\u001b[0m\n\u001b[1;32m      2\u001b[0m     graph.get_node_property_values(\"entity_type\"))\n\u001b[1;32m      3\u001b[0m transformed_graph.add_edge_properties(\n\u001b[0;32m----> 4\u001b[0;31m     graph.get_edge_property_values(\"npmi\"), prop_type=\"numeric\")\n\u001b[0m",
      "\u001b[0;32m~/opt/anaconda3/envs/bluegraph/lib/python3.6/site-packages/bluegraph/core/io.py\u001b[0m in \u001b[0;36mget_edge_property_values\u001b[0;34m(self, prop, edges, typed_by)\u001b[0m\n\u001b[1;32m    793\u001b[0m         \u001b[0;32mif\u001b[0m \u001b[0medges\u001b[0m \u001b[0;32mis\u001b[0m \u001b[0;32mNone\u001b[0m\u001b[0;34m:\u001b[0m\u001b[0;34m\u001b[0m\u001b[0;34m\u001b[0m\u001b[0m\n\u001b[1;32m    794\u001b[0m             \u001b[0medges\u001b[0m \u001b[0;34m=\u001b[0m \u001b[0mself\u001b[0m\u001b[0;34m.\u001b[0m\u001b[0mnodes\u001b[0m\u001b[0;34m(\u001b[0m\u001b[0;34m)\u001b[0m\u001b[0;34m\u001b[0m\u001b[0;34m\u001b[0m\u001b[0m\n\u001b[0;32m--> 795\u001b[0;31m         \u001b[0mdf\u001b[0m \u001b[0;34m=\u001b[0m \u001b[0mself\u001b[0m\u001b[0;34m.\u001b[0m\u001b[0m_edges\u001b[0m\u001b[0;34m[\u001b[0m\u001b[0medges\u001b[0m\u001b[0;34m]\u001b[0m\u001b[0;34m\u001b[0m\u001b[0;34m\u001b[0m\u001b[0m\n\u001b[0m\u001b[1;32m    796\u001b[0m         \u001b[0;32mif\u001b[0m \u001b[0mtyped_by\u001b[0m \u001b[0;32mis\u001b[0m \u001b[0;32mnot\u001b[0m \u001b[0;32mNone\u001b[0m\u001b[0;34m:\u001b[0m\u001b[0;34m\u001b[0m\u001b[0;34m\u001b[0m\u001b[0m\n\u001b[1;32m    797\u001b[0m             \u001b[0;32mif\u001b[0m \u001b[0;34m\"@type\"\u001b[0m \u001b[0;32mnot\u001b[0m \u001b[0;32min\u001b[0m \u001b[0mself\u001b[0m\u001b[0;34m.\u001b[0m\u001b[0m_edges\u001b[0m\u001b[0;34m:\u001b[0m\u001b[0;34m\u001b[0m\u001b[0;34m\u001b[0m\u001b[0m\n",
      "\u001b[0;32m~/opt/anaconda3/envs/bluegraph/lib/python3.6/site-packages/pandas/core/frame.py\u001b[0m in \u001b[0;36m__getitem__\u001b[0;34m(self, key)\u001b[0m\n\u001b[1;32m   2910\u001b[0m             \u001b[0;32mif\u001b[0m \u001b[0mis_iterator\u001b[0m\u001b[0;34m(\u001b[0m\u001b[0mkey\u001b[0m\u001b[0;34m)\u001b[0m\u001b[0;34m:\u001b[0m\u001b[0;34m\u001b[0m\u001b[0;34m\u001b[0m\u001b[0m\n\u001b[1;32m   2911\u001b[0m                 \u001b[0mkey\u001b[0m \u001b[0;34m=\u001b[0m \u001b[0mlist\u001b[0m\u001b[0;34m(\u001b[0m\u001b[0mkey\u001b[0m\u001b[0;34m)\u001b[0m\u001b[0;34m\u001b[0m\u001b[0;34m\u001b[0m\u001b[0m\n\u001b[0;32m-> 2912\u001b[0;31m             \u001b[0mindexer\u001b[0m \u001b[0;34m=\u001b[0m \u001b[0mself\u001b[0m\u001b[0;34m.\u001b[0m\u001b[0mloc\u001b[0m\u001b[0;34m.\u001b[0m\u001b[0m_get_listlike_indexer\u001b[0m\u001b[0;34m(\u001b[0m\u001b[0mkey\u001b[0m\u001b[0;34m,\u001b[0m \u001b[0maxis\u001b[0m\u001b[0;34m=\u001b[0m\u001b[0;36m1\u001b[0m\u001b[0;34m,\u001b[0m \u001b[0mraise_missing\u001b[0m\u001b[0;34m=\u001b[0m\u001b[0;32mTrue\u001b[0m\u001b[0;34m)\u001b[0m\u001b[0;34m[\u001b[0m\u001b[0;36m1\u001b[0m\u001b[0;34m]\u001b[0m\u001b[0;34m\u001b[0m\u001b[0;34m\u001b[0m\u001b[0m\n\u001b[0m\u001b[1;32m   2913\u001b[0m \u001b[0;34m\u001b[0m\u001b[0m\n\u001b[1;32m   2914\u001b[0m         \u001b[0;31m# take() does not accept boolean indexers\u001b[0m\u001b[0;34m\u001b[0m\u001b[0;34m\u001b[0m\u001b[0;34m\u001b[0m\u001b[0m\n",
      "\u001b[0;32m~/opt/anaconda3/envs/bluegraph/lib/python3.6/site-packages/pandas/core/indexing.py\u001b[0m in \u001b[0;36m_get_listlike_indexer\u001b[0;34m(self, key, axis, raise_missing)\u001b[0m\n\u001b[1;32m   1252\u001b[0m             \u001b[0mkeyarr\u001b[0m\u001b[0;34m,\u001b[0m \u001b[0mindexer\u001b[0m\u001b[0;34m,\u001b[0m \u001b[0mnew_indexer\u001b[0m \u001b[0;34m=\u001b[0m \u001b[0max\u001b[0m\u001b[0;34m.\u001b[0m\u001b[0m_reindex_non_unique\u001b[0m\u001b[0;34m(\u001b[0m\u001b[0mkeyarr\u001b[0m\u001b[0;34m)\u001b[0m\u001b[0;34m\u001b[0m\u001b[0;34m\u001b[0m\u001b[0m\n\u001b[1;32m   1253\u001b[0m \u001b[0;34m\u001b[0m\u001b[0m\n\u001b[0;32m-> 1254\u001b[0;31m         \u001b[0mself\u001b[0m\u001b[0;34m.\u001b[0m\u001b[0m_validate_read_indexer\u001b[0m\u001b[0;34m(\u001b[0m\u001b[0mkeyarr\u001b[0m\u001b[0;34m,\u001b[0m \u001b[0mindexer\u001b[0m\u001b[0;34m,\u001b[0m \u001b[0maxis\u001b[0m\u001b[0;34m,\u001b[0m \u001b[0mraise_missing\u001b[0m\u001b[0;34m=\u001b[0m\u001b[0mraise_missing\u001b[0m\u001b[0;34m)\u001b[0m\u001b[0;34m\u001b[0m\u001b[0;34m\u001b[0m\u001b[0m\n\u001b[0m\u001b[1;32m   1255\u001b[0m         \u001b[0;32mreturn\u001b[0m \u001b[0mkeyarr\u001b[0m\u001b[0;34m,\u001b[0m \u001b[0mindexer\u001b[0m\u001b[0;34m\u001b[0m\u001b[0;34m\u001b[0m\u001b[0m\n\u001b[1;32m   1256\u001b[0m \u001b[0;34m\u001b[0m\u001b[0m\n",
      "\u001b[0;32m~/opt/anaconda3/envs/bluegraph/lib/python3.6/site-packages/pandas/core/indexing.py\u001b[0m in \u001b[0;36m_validate_read_indexer\u001b[0;34m(self, key, indexer, axis, raise_missing)\u001b[0m\n\u001b[1;32m   1296\u001b[0m             \u001b[0;32mif\u001b[0m \u001b[0mmissing\u001b[0m \u001b[0;34m==\u001b[0m \u001b[0mlen\u001b[0m\u001b[0;34m(\u001b[0m\u001b[0mindexer\u001b[0m\u001b[0;34m)\u001b[0m\u001b[0;34m:\u001b[0m\u001b[0;34m\u001b[0m\u001b[0;34m\u001b[0m\u001b[0m\n\u001b[1;32m   1297\u001b[0m                 \u001b[0maxis_name\u001b[0m \u001b[0;34m=\u001b[0m \u001b[0mself\u001b[0m\u001b[0;34m.\u001b[0m\u001b[0mobj\u001b[0m\u001b[0;34m.\u001b[0m\u001b[0m_get_axis_name\u001b[0m\u001b[0;34m(\u001b[0m\u001b[0maxis\u001b[0m\u001b[0;34m)\u001b[0m\u001b[0;34m\u001b[0m\u001b[0;34m\u001b[0m\u001b[0m\n\u001b[0;32m-> 1298\u001b[0;31m                 \u001b[0;32mraise\u001b[0m \u001b[0mKeyError\u001b[0m\u001b[0;34m(\u001b[0m\u001b[0;34mf\"None of [{key}] are in the [{axis_name}]\"\u001b[0m\u001b[0;34m)\u001b[0m\u001b[0;34m\u001b[0m\u001b[0;34m\u001b[0m\u001b[0m\n\u001b[0m\u001b[1;32m   1299\u001b[0m \u001b[0;34m\u001b[0m\u001b[0m\n\u001b[1;32m   1300\u001b[0m             \u001b[0;31m# We (temporarily) allow for some missing keys with .loc, except in\u001b[0m\u001b[0;34m\u001b[0m\u001b[0;34m\u001b[0m\u001b[0;34m\u001b[0m\u001b[0m\n",
      "\u001b[0;31mKeyError\u001b[0m: \"None of [Index(['pulmonary', 'host', 'surfactant protein d measurement',\\n       'microorganism', 'lung', 'alveolar', 'epithelial cell', 'mucosa',\\n       'gastrointestinal tract', 'molecule',\\n       ...\\n       'brain natriuretic peptide measurement', 'chloroquine',\\n       'autoimmune encephalitis', 'oxacillin',\\n       'severe acute respiratory syndrome', 'candida parapsilosis',\\n       'ciliated bronchial epithelial cell',\\n       'cystic fibrosis pulmonary exacerbation', 'caax prenyl protease 2',\\n       'transmembrane protease serine 2'],\\n      dtype='object', length=1000)] are in the [columns]\""
     ]
    }
   ],
   "source": [
    "transformed_graph.add_node_properties(\n",
    "    graph.get_node_property_values(\"entity_type\"))\n",
    "transformed_graph.add_edge_properties(\n",
    "    graph.get_edge_property_values(\"npmi\"), prop_type=\"numeric\")"
   ]
  },
  {
   "cell_type": "code",
   "execution_count": null,
   "id": "cooked-treasury",
   "metadata": {},
   "outputs": [],
   "source": [
    "transformed_graph.nodes(raw_frame=True)"
   ]
  },
  {
   "cell_type": "markdown",
   "id": "included-domestic",
   "metadata": {},
   "source": [
    "## Node embedding and downstream tasks"
   ]
  },
  {
   "cell_type": "markdown",
   "id": "equipped-corruption",
   "metadata": {},
   "source": [
    "### Node embedding using StellarGraph\n",
    "\n",
    "Using `StellarGraphNodeEmbedder` we construct three different embeddings of our transformed graph."
   ]
  },
  {
   "cell_type": "code",
   "execution_count": null,
   "id": "given-demand",
   "metadata": {},
   "outputs": [],
   "source": [
    "from bluegraph.backends.stellargraph import StellarGraphNodeEmbedder"
   ]
  },
  {
   "cell_type": "code",
   "execution_count": null,
   "id": "dried-morgan",
   "metadata": {
    "scrolled": true
   },
   "outputs": [],
   "source": [
    "embedder = StellarGraphNodeEmbedder(\n",
    "    \"node2vec\", edge_weight=\"npmi\", embedding_dimension=10, length=10, number_of_walks=20)\n",
    "node2vec_embedding = embedder.fit_model(transformed_graph)"
   ]
  },
  {
   "cell_type": "code",
   "execution_count": null,
   "id": "provincial-working",
   "metadata": {
    "scrolled": false
   },
   "outputs": [],
   "source": [
    "embedder = StellarGraphNodeEmbedder(\n",
    "    \"attri2vec\", feature_vector_prop=\"features\",\n",
    "    length=5, number_of_walks=10,\n",
    "    epochs=10, embedding_dimension=128, edge_weight=\"npmi\")\n",
    "attri2vec_embedding = embedder.fit_model(transformed_graph)"
   ]
  },
  {
   "cell_type": "code",
   "execution_count": null,
   "id": "abstract-musician",
   "metadata": {},
   "outputs": [],
   "source": [
    "embedder = StellarGraphNodeEmbedder(\n",
    "    \"gcn_dgi\", feature_vector_prop=\"features\", epochs=250, embedding_dimension=512)\n",
    "gcn_dgi_embedding = embedder.fit_model(transformed_graph)"
   ]
  },
  {
   "cell_type": "code",
   "execution_count": null,
   "id": "quick-madagascar",
   "metadata": {},
   "outputs": [],
   "source": [
    "transformed_graph.add_node_properties(\n",
    "    node2vec_embedding.rename(columns={\"embedding\": \"node2vec\"}))"
   ]
  },
  {
   "cell_type": "code",
   "execution_count": null,
   "id": "lined-frank",
   "metadata": {},
   "outputs": [],
   "source": [
    "transformed_graph.add_node_properties(\n",
    "    attri2vec_embedding.rename(columns={\"embedding\": \"attri2vec\"}))"
   ]
  },
  {
   "cell_type": "code",
   "execution_count": null,
   "id": "occasional-shipping",
   "metadata": {},
   "outputs": [],
   "source": [
    "transformed_graph.add_node_properties(\n",
    "    gcn_dgi_embedding.rename(columns={\"embedding\": \"gcn_dgi\"}))"
   ]
  },
  {
   "cell_type": "code",
   "execution_count": null,
   "id": "upper-coalition",
   "metadata": {
    "scrolled": true
   },
   "outputs": [],
   "source": [
    "transformed_graph.nodes(raw_frame=True)"
   ]
  },
  {
   "cell_type": "markdown",
   "id": "contrary-coffee",
   "metadata": {},
   "source": [
    "### Node similarity"
   ]
  },
  {
   "cell_type": "code",
   "execution_count": null,
   "id": "infectious-cornell",
   "metadata": {},
   "outputs": [],
   "source": [
    "import numpy as np\n",
    "\n",
    "from bluegraph.downstream.similarity import NodeSimilarityProcessor"
   ]
  },
  {
   "cell_type": "code",
   "execution_count": null,
   "id": "dietary-running",
   "metadata": {},
   "outputs": [],
   "source": [
    "node2vec_l2 = NodeSimilarityProcessor(transformed_graph, \"node2vec\")\n",
    "node2vec_cosine = NodeSimilarityProcessor(\n",
    "    transformed_graph, \"node2vec\", similarity=\"cosine\")"
   ]
  },
  {
   "cell_type": "code",
   "execution_count": null,
   "id": "driving-custom",
   "metadata": {},
   "outputs": [],
   "source": [
    "node2vec_l2.get_similar_nodes([\"glucose\", \"covid-19\"], k=10)"
   ]
  },
  {
   "cell_type": "code",
   "execution_count": null,
   "id": "sized-spyware",
   "metadata": {},
   "outputs": [],
   "source": [
    "node2vec_cosine.get_similar_nodes([\"glucose\", \"covid-19\"], k=10)"
   ]
  },
  {
   "cell_type": "code",
   "execution_count": null,
   "id": "graduate-direction",
   "metadata": {},
   "outputs": [],
   "source": [
    "attri2vec_l2 = NodeSimilarityProcessor(transformed_graph, \"attri2vec\")\n",
    "attri2vec_cosine = NodeSimilarityProcessor(\n",
    "    transformed_graph, \"attri2vec\", similarity=\"cosine\")"
   ]
  },
  {
   "cell_type": "code",
   "execution_count": null,
   "id": "generic-jaguar",
   "metadata": {},
   "outputs": [],
   "source": [
    "attri2vec_l2.get_similar_nodes([\"glucose\", \"covid-19\"], k=10)"
   ]
  },
  {
   "cell_type": "code",
   "execution_count": null,
   "id": "funky-today",
   "metadata": {
    "scrolled": true
   },
   "outputs": [],
   "source": [
    "attri2vec_cosine.get_similar_nodes([\"glucose\", \"covid-19\"], k=10)"
   ]
  },
  {
   "cell_type": "code",
   "execution_count": null,
   "id": "average-layout",
   "metadata": {},
   "outputs": [],
   "source": [
    "gcn_l2 = NodeSimilarityProcessor(transformed_graph, \"gcn_dgi\")\n",
    "gcn_cosine = NodeSimilarityProcessor(\n",
    "    transformed_graph, \"gcn_dgi\", similarity=\"cosine\")"
   ]
  },
  {
   "cell_type": "code",
   "execution_count": null,
   "id": "colonial-senator",
   "metadata": {},
   "outputs": [],
   "source": [
    "gcn_l2.get_similar_nodes([\"glucose\", \"covid-19\"], k=10)"
   ]
  },
  {
   "cell_type": "code",
   "execution_count": null,
   "id": "promising-property",
   "metadata": {
    "scrolled": true
   },
   "outputs": [],
   "source": [
    "gcn_cosine.get_similar_nodes([\"glucose\", \"covid-19\"], k=10)"
   ]
  },
  {
   "cell_type": "markdown",
   "id": "useful-highland",
   "metadata": {},
   "source": [
    "### Node classification\n",
    "\n",
    "We will build a predictive model for entity type prediction based on:\n",
    "\n",
    "- Only node features\n",
    "- Node2vec embeddings (only structure)\n",
    "- Attri2vec embeddings (structure and node features)\n",
    "- GCN Deep Graph Infomax embeddings (structure and node features)"
   ]
  },
  {
   "cell_type": "markdown",
   "id": "flush-promotion",
   "metadata": {},
   "source": [
    "### Splitting the graph into train/test set"
   ]
  },
  {
   "cell_type": "code",
   "execution_count": null,
   "id": "noted-walnut",
   "metadata": {},
   "outputs": [],
   "source": [
    "from bluegraph.downstream.node_classification import NodeClassifier\n",
    "\n",
    "from sklearn import model_selection\n",
    "from sklearn.svm import LinearSVC"
   ]
  },
  {
   "cell_type": "markdown",
   "id": "recovered-assault",
   "metadata": {},
   "source": [
    "Split the graph nodes into the train and test set"
   ]
  },
  {
   "cell_type": "code",
   "execution_count": null,
   "id": "opponent-tonight",
   "metadata": {},
   "outputs": [],
   "source": [
    "train_nodes, test_nodes = model_selection.train_test_split(\n",
    "    transformed_graph.nodes(), train_size=0.8)"
   ]
  },
  {
   "cell_type": "code",
   "execution_count": null,
   "id": "separate-quilt",
   "metadata": {},
   "outputs": [],
   "source": [
    "features_classifier = NodeClassifier(LinearSVC(), feature_vector_prop=\"features\")\n",
    "features_classifier.fit(transformed_graph, train_elements=train_nodes, label_prop=\"entity_type\")\n",
    "pred_y = features_classifier.predict(transformed_graph, predict_elements=test_nodes)\n",
    "accuracy = (transformed_graph._nodes.loc[test_nodes, \"entity_type\"] == pred_y).mean()\n",
    "print(accuracy)"
   ]
  },
  {
   "cell_type": "code",
   "execution_count": null,
   "id": "spectacular-vocabulary",
   "metadata": {},
   "outputs": [],
   "source": [
    "node2vec_classifier = NodeClassifier(LinearSVC(), feature_vector_prop=\"node2vec\")\n",
    "node2vec_classifier.fit(transformed_graph, train_elements=train_nodes, label_prop=\"entity_type\")\n",
    "pred_y = node2vec_classifier.predict(transformed_graph, predict_elements=test_nodes)\n",
    "accuracy = (transformed_graph._nodes.loc[test_nodes, \"entity_type\"] == pred_y).mean()\n",
    "print(accuracy)"
   ]
  },
  {
   "cell_type": "code",
   "execution_count": null,
   "id": "british-scratch",
   "metadata": {},
   "outputs": [],
   "source": [
    "attri2vec_classifier = NodeClassifier(LinearSVC(), feature_vector_prop=\"attri2vec\")\n",
    "attri2vec_classifier.fit(transformed_graph, train_elements=train_nodes, label_prop=\"entity_type\")\n",
    "pred_y = attri2vec_classifier.predict(transformed_graph, predict_elements=test_nodes)\n",
    "accuracy = (transformed_graph._nodes.loc[test_nodes, \"entity_type\"] == pred_y).mean()\n",
    "print(accuracy)"
   ]
  },
  {
   "cell_type": "code",
   "execution_count": null,
   "id": "altered-settlement",
   "metadata": {},
   "outputs": [],
   "source": [
    "gcn_dgi_classifier = NodeClassifier(LinearSVC(), feature_vector_prop=\"gcn_dgi\")\n",
    "gcn_dgi_classifier.fit(transformed_graph, train_elements=train_nodes, label_prop=\"entity_type\")\n",
    "pred_y = gcn_dgi_classifier.predict(transformed_graph, predict_elements=test_nodes)\n",
    "accuracy = (transformed_graph._nodes.loc[test_nodes, \"entity_type\"] == pred_y).mean()\n",
    "print(accuracy)"
   ]
  },
  {
   "cell_type": "markdown",
   "id": "unexpected-harvard",
   "metadata": {},
   "source": [
    "## Link prediction"
   ]
  },
  {
   "cell_type": "code",
   "execution_count": null,
   "id": "strong-championship",
   "metadata": {},
   "outputs": [],
   "source": [
    "from bluegraph.downstream.link_prediction import (generate_negative_edges,\n",
    "                                                  EdgePredictor)"
   ]
  },
  {
   "cell_type": "code",
   "execution_count": null,
   "id": "editorial-phrase",
   "metadata": {},
   "outputs": [],
   "source": [
    "false_edges = generate_negative_edges(transformed_graph)"
   ]
  },
  {
   "cell_type": "code",
   "execution_count": null,
   "id": "heated-mississippi",
   "metadata": {},
   "outputs": [],
   "source": [
    "true_train_edges, true_test_edges = model_selection.train_test_split(\n",
    "    transformed_graph.edges(), train_size=0.8)"
   ]
  },
  {
   "cell_type": "code",
   "execution_count": null,
   "id": "listed-uganda",
   "metadata": {},
   "outputs": [],
   "source": [
    "false_train_edges, false_test_edges = model_selection.train_test_split(\n",
    "    false_edges, train_size=0.8)"
   ]
  },
  {
   "cell_type": "code",
   "execution_count": null,
   "id": "ranking-webmaster",
   "metadata": {},
   "outputs": [],
   "source": [
    "model = EdgePredictor(LinearSVC(), feature_vector_prop=\"node2vec\",\n",
    "                      operator=\"hadamard\", directed=False)\n",
    "model.fit(transformed_graph, true_train_edges, negative_samples=false_train_edges)"
   ]
  },
  {
   "cell_type": "code",
   "execution_count": null,
   "id": "imposed-exposure",
   "metadata": {},
   "outputs": [],
   "source": [
    "y_pred = model.predict(transformed_graph, true_train_edges + false_train_edges)"
   ]
  },
  {
   "cell_type": "code",
   "execution_count": null,
   "id": "animated-anatomy",
   "metadata": {},
   "outputs": [],
   "source": [
    "true_labels = np.hstack([\n",
    "    np.ones(len(true_train_edges)),\n",
    "    np.zeros(len(false_train_edges))])"
   ]
  },
  {
   "cell_type": "code",
   "execution_count": null,
   "id": "major-generation",
   "metadata": {},
   "outputs": [],
   "source": [
    "sum(y_pred == true_labels) / len(y_pred)"
   ]
  }
 ],
 "metadata": {
  "kernelspec": {
   "display_name": "bluegraph",
   "language": "python",
   "name": "bluegraph"
  },
  "language_info": {
   "codemirror_mode": {
    "name": "ipython",
    "version": 3
   },
   "file_extension": ".py",
   "mimetype": "text/x-python",
   "name": "python",
   "nbconvert_exporter": "python",
   "pygments_lexer": "ipython3",
   "version": "3.6.12"
  }
 },
 "nbformat": 4,
 "nbformat_minor": 5
}
