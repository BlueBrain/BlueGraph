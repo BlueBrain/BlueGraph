{
 "cells": [
  {
   "cell_type": "code",
   "execution_count": 1,
   "id": "institutional-flexibility",
   "metadata": {},
   "outputs": [],
   "source": [
    "import pandas as pd\n",
    "import numpy as np\n",
    "\n",
    "from sklearn import model_selection\n",
    "from sklearn.svm import LinearSVC\n",
    "\n",
    "from bluegraph.core import PandasPGFrame\n",
    "from bluegraph.preprocess.generators import CooccurrenceGenerator\n",
    "from bluegraph.preprocess.encoders import ScikitLearnPGEncoder\n",
    "\n",
    "from bluegraph.backends.stellargraph import StellarGraphNodeEmbedder\n",
    "\n",
    "from bluegraph.downstream.similarity import (SimilarityProcessor, NodeSimilarityProcessor)\n",
    "from bluegraph.downstream.node_classification import NodeClassifier\n",
    "from bluegraph.downstream.benchmark import get_classification_scores\n",
    "from bluegraph.downstream.link_prediction import (generate_negative_edges,\n",
    "                                                  EdgePredictor)\n",
    "\n",
    "from bluegraph.downstream.utils import EmbeddingPipeline\n",
    "from bluegraph.core.embed.embedders import GraphElementEmbedder"
   ]
  },
  {
   "cell_type": "markdown",
   "id": "spoken-location",
   "metadata": {},
   "source": [
    "## Data preparation"
   ]
  },
  {
   "cell_type": "markdown",
   "id": "neutral-chapter",
   "metadata": {},
   "source": [
    "Fist, we read the source dataset with mentions of entities in different paragraphs"
   ]
  },
  {
   "cell_type": "code",
   "execution_count": 2,
   "id": "informative-mattress",
   "metadata": {},
   "outputs": [],
   "source": [
    "mentions = pd.read_csv(\"data/labeled_entity_occurrence.csv\")"
   ]
  },
  {
   "cell_type": "code",
   "execution_count": 3,
   "id": "alternate-swiss",
   "metadata": {},
   "outputs": [],
   "source": [
    "# Extract unique paper/seciton/paragraph identifiers\n",
    "mentions = mentions.rename(columns={\"occurrence\": \"paragraph\"})\n",
    "number_of_paragraphs = len(mentions[\"paragraph\"].unique())"
   ]
  },
  {
   "cell_type": "code",
   "execution_count": 4,
   "id": "surprised-platinum",
   "metadata": {},
   "outputs": [
    {
     "data": {
      "text/html": [
       "<div>\n",
       "<style scoped>\n",
       "    .dataframe tbody tr th:only-of-type {\n",
       "        vertical-align: middle;\n",
       "    }\n",
       "\n",
       "    .dataframe tbody tr th {\n",
       "        vertical-align: top;\n",
       "    }\n",
       "\n",
       "    .dataframe thead th {\n",
       "        text-align: right;\n",
       "    }\n",
       "</style>\n",
       "<table border=\"1\" class=\"dataframe\">\n",
       "  <thead>\n",
       "    <tr style=\"text-align: right;\">\n",
       "      <th></th>\n",
       "      <th>entity</th>\n",
       "      <th>paragraph</th>\n",
       "    </tr>\n",
       "  </thead>\n",
       "  <tbody>\n",
       "    <tr>\n",
       "      <th>0</th>\n",
       "      <td>lithostathine-1-alpha</td>\n",
       "      <td>1</td>\n",
       "    </tr>\n",
       "    <tr>\n",
       "      <th>1</th>\n",
       "      <td>pulmonary</td>\n",
       "      <td>1</td>\n",
       "    </tr>\n",
       "    <tr>\n",
       "      <th>2</th>\n",
       "      <td>host</td>\n",
       "      <td>1</td>\n",
       "    </tr>\n",
       "    <tr>\n",
       "      <th>3</th>\n",
       "      <td>lithostathine-1-alpha</td>\n",
       "      <td>2</td>\n",
       "    </tr>\n",
       "    <tr>\n",
       "      <th>4</th>\n",
       "      <td>surfactant protein d measurement</td>\n",
       "      <td>2</td>\n",
       "    </tr>\n",
       "    <tr>\n",
       "      <th>...</th>\n",
       "      <td>...</td>\n",
       "      <td>...</td>\n",
       "    </tr>\n",
       "    <tr>\n",
       "      <th>2281346</th>\n",
       "      <td>covid-19</td>\n",
       "      <td>227822</td>\n",
       "    </tr>\n",
       "    <tr>\n",
       "      <th>2281347</th>\n",
       "      <td>covid-19</td>\n",
       "      <td>227822</td>\n",
       "    </tr>\n",
       "    <tr>\n",
       "      <th>2281348</th>\n",
       "      <td>viral infection</td>\n",
       "      <td>227823</td>\n",
       "    </tr>\n",
       "    <tr>\n",
       "      <th>2281349</th>\n",
       "      <td>lipid</td>\n",
       "      <td>227823</td>\n",
       "    </tr>\n",
       "    <tr>\n",
       "      <th>2281350</th>\n",
       "      <td>inflammation</td>\n",
       "      <td>227823</td>\n",
       "    </tr>\n",
       "  </tbody>\n",
       "</table>\n",
       "<p>2281351 rows × 2 columns</p>\n",
       "</div>"
      ],
      "text/plain": [
       "                                   entity  paragraph\n",
       "0                   lithostathine-1-alpha          1\n",
       "1                               pulmonary          1\n",
       "2                                    host          1\n",
       "3                   lithostathine-1-alpha          2\n",
       "4        surfactant protein d measurement          2\n",
       "...                                   ...        ...\n",
       "2281346                          covid-19     227822\n",
       "2281347                          covid-19     227822\n",
       "2281348                   viral infection     227823\n",
       "2281349                             lipid     227823\n",
       "2281350                      inflammation     227823\n",
       "\n",
       "[2281351 rows x 2 columns]"
      ]
     },
     "execution_count": 4,
     "metadata": {},
     "output_type": "execute_result"
    }
   ],
   "source": [
    "mentions"
   ]
  },
  {
   "cell_type": "markdown",
   "id": "central-delicious",
   "metadata": {},
   "source": [
    "We will also load a dataset that contains definitions of entities and their types"
   ]
  },
  {
   "cell_type": "code",
   "execution_count": 5,
   "id": "cross-durham",
   "metadata": {
    "scrolled": false
   },
   "outputs": [],
   "source": [
    "entity_data = pd.read_csv(\"data/entity_types_defs.csv\")"
   ]
  },
  {
   "cell_type": "code",
   "execution_count": 6,
   "id": "quick-reason",
   "metadata": {},
   "outputs": [
    {
     "data": {
      "text/html": [
       "<div>\n",
       "<style scoped>\n",
       "    .dataframe tbody tr th:only-of-type {\n",
       "        vertical-align: middle;\n",
       "    }\n",
       "\n",
       "    .dataframe tbody tr th {\n",
       "        vertical-align: top;\n",
       "    }\n",
       "\n",
       "    .dataframe thead th {\n",
       "        text-align: right;\n",
       "    }\n",
       "</style>\n",
       "<table border=\"1\" class=\"dataframe\">\n",
       "  <thead>\n",
       "    <tr style=\"text-align: right;\">\n",
       "      <th></th>\n",
       "      <th>entity</th>\n",
       "      <th>entity_type</th>\n",
       "      <th>definition</th>\n",
       "    </tr>\n",
       "  </thead>\n",
       "  <tbody>\n",
       "    <tr>\n",
       "      <th>0</th>\n",
       "      <td>(e3-independent) e2 ubiquitin-conjugating enzyme</td>\n",
       "      <td>PROTEIN</td>\n",
       "      <td>(E3-independent) E2 ubiquitin-conjugating enzy...</td>\n",
       "    </tr>\n",
       "    <tr>\n",
       "      <th>1</th>\n",
       "      <td>(h115d)vhl35 peptide</td>\n",
       "      <td>CHEMICAL</td>\n",
       "      <td>A peptide vaccine derived from the von Hippel-...</td>\n",
       "    </tr>\n",
       "    <tr>\n",
       "      <th>2</th>\n",
       "      <td>1,1-dimethylhydrazine</td>\n",
       "      <td>DRUG</td>\n",
       "      <td>A clear, colorless, flammable, hygroscopic liq...</td>\n",
       "    </tr>\n",
       "    <tr>\n",
       "      <th>3</th>\n",
       "      <td>1,2-dimethylhydrazine</td>\n",
       "      <td>CHEMICAL</td>\n",
       "      <td>A compound used experimentally to induce tumor...</td>\n",
       "    </tr>\n",
       "    <tr>\n",
       "      <th>4</th>\n",
       "      <td>1,25-dihydroxyvitamin d(3) 24-hydroxylase, mit...</td>\n",
       "      <td>PROTEIN</td>\n",
       "      <td>1,25-dihydroxyvitamin D(3) 24-hydroxylase, mit...</td>\n",
       "    </tr>\n",
       "    <tr>\n",
       "      <th>...</th>\n",
       "      <td>...</td>\n",
       "      <td>...</td>\n",
       "      <td>...</td>\n",
       "    </tr>\n",
       "    <tr>\n",
       "      <th>28127</th>\n",
       "      <td>zygomycosis</td>\n",
       "      <td>DISEASE</td>\n",
       "      <td>Any infection due to a fungus of the Zygomycot...</td>\n",
       "    </tr>\n",
       "    <tr>\n",
       "      <th>28128</th>\n",
       "      <td>zygomycota</td>\n",
       "      <td>ORGANISM</td>\n",
       "      <td>A phylum of fungi that are characterized by ve...</td>\n",
       "    </tr>\n",
       "    <tr>\n",
       "      <th>28129</th>\n",
       "      <td>zygosity</td>\n",
       "      <td>ORGANISM</td>\n",
       "      <td>The genetic condition of a zygote, especially ...</td>\n",
       "    </tr>\n",
       "    <tr>\n",
       "      <th>28130</th>\n",
       "      <td>zygote</td>\n",
       "      <td>CELL_COMPARTMENT</td>\n",
       "      <td>The cell formed by the union of two gametes, e...</td>\n",
       "    </tr>\n",
       "    <tr>\n",
       "      <th>28131</th>\n",
       "      <td>zyxin</td>\n",
       "      <td>ORGANISM</td>\n",
       "      <td>Zyxin (572 aa, ~61 kDa) is encoded by the huma...</td>\n",
       "    </tr>\n",
       "  </tbody>\n",
       "</table>\n",
       "<p>28132 rows × 3 columns</p>\n",
       "</div>"
      ],
      "text/plain": [
       "                                                  entity       entity_type  \\\n",
       "0       (e3-independent) e2 ubiquitin-conjugating enzyme           PROTEIN   \n",
       "1                                   (h115d)vhl35 peptide          CHEMICAL   \n",
       "2                                  1,1-dimethylhydrazine              DRUG   \n",
       "3                                  1,2-dimethylhydrazine          CHEMICAL   \n",
       "4      1,25-dihydroxyvitamin d(3) 24-hydroxylase, mit...           PROTEIN   \n",
       "...                                                  ...               ...   \n",
       "28127                                        zygomycosis           DISEASE   \n",
       "28128                                         zygomycota          ORGANISM   \n",
       "28129                                           zygosity          ORGANISM   \n",
       "28130                                             zygote  CELL_COMPARTMENT   \n",
       "28131                                              zyxin          ORGANISM   \n",
       "\n",
       "                                              definition  \n",
       "0      (E3-independent) E2 ubiquitin-conjugating enzy...  \n",
       "1      A peptide vaccine derived from the von Hippel-...  \n",
       "2      A clear, colorless, flammable, hygroscopic liq...  \n",
       "3      A compound used experimentally to induce tumor...  \n",
       "4      1,25-dihydroxyvitamin D(3) 24-hydroxylase, mit...  \n",
       "...                                                  ...  \n",
       "28127  Any infection due to a fungus of the Zygomycot...  \n",
       "28128  A phylum of fungi that are characterized by ve...  \n",
       "28129  The genetic condition of a zygote, especially ...  \n",
       "28130  The cell formed by the union of two gametes, e...  \n",
       "28131  Zyxin (572 aa, ~61 kDa) is encoded by the huma...  \n",
       "\n",
       "[28132 rows x 3 columns]"
      ]
     },
     "execution_count": 6,
     "metadata": {},
     "output_type": "execute_result"
    }
   ],
   "source": [
    "entity_data"
   ]
  },
  {
   "cell_type": "markdown",
   "id": "prepared-butler",
   "metadata": {},
   "source": [
    "### Generation of a co-occurrence graph"
   ]
  },
  {
   "cell_type": "markdown",
   "id": "japanese-quilt",
   "metadata": {},
   "source": [
    "We first create a graph whose nodes are entities"
   ]
  },
  {
   "cell_type": "code",
   "execution_count": 7,
   "id": "everyday-provider",
   "metadata": {},
   "outputs": [],
   "source": [
    "graph = PandasPGFrame()\n",
    "entity_nodes = mentions[\"entity\"].unique()\n",
    "graph.add_nodes(entity_nodes)\n",
    "graph.add_node_types({n: \"Entity\" for n in entity_nodes})\n",
    "\n",
    "entity_props = entity_data.rename(columns={\"entity\": \"@id\"}).set_index(\"@id\")\n",
    "graph.add_node_properties(entity_props[\"entity_type\"], prop_type=\"category\")\n",
    "graph.add_node_properties(entity_props[\"definition\"], prop_type=\"text\")"
   ]
  },
  {
   "cell_type": "code",
   "execution_count": 8,
   "id": "respected-plenty",
   "metadata": {},
   "outputs": [],
   "source": [
    "paragraph_prop = pd.DataFrame({\"paragraphs\": mentions.groupby(\"entity\").aggregate(set)[\"paragraph\"]})\n",
    "graph.add_node_properties(paragraph_prop, prop_type=\"category\")"
   ]
  },
  {
   "cell_type": "code",
   "execution_count": 9,
   "id": "australian-rebel",
   "metadata": {},
   "outputs": [
    {
     "data": {
      "text/html": [
       "<div>\n",
       "<style scoped>\n",
       "    .dataframe tbody tr th:only-of-type {\n",
       "        vertical-align: middle;\n",
       "    }\n",
       "\n",
       "    .dataframe tbody tr th {\n",
       "        vertical-align: top;\n",
       "    }\n",
       "\n",
       "    .dataframe thead th {\n",
       "        text-align: right;\n",
       "    }\n",
       "</style>\n",
       "<table border=\"1\" class=\"dataframe\">\n",
       "  <thead>\n",
       "    <tr style=\"text-align: right;\">\n",
       "      <th></th>\n",
       "      <th>@type</th>\n",
       "      <th>entity_type</th>\n",
       "      <th>definition</th>\n",
       "      <th>paragraphs</th>\n",
       "    </tr>\n",
       "    <tr>\n",
       "      <th>@id</th>\n",
       "      <th></th>\n",
       "      <th></th>\n",
       "      <th></th>\n",
       "      <th></th>\n",
       "    </tr>\n",
       "  </thead>\n",
       "  <tbody>\n",
       "    <tr>\n",
       "      <th>lithostathine-1-alpha</th>\n",
       "      <td>Entity</td>\n",
       "      <td>PROTEIN</td>\n",
       "      <td>Lithostathine-1-alpha (166 aa, ~19 kDa) is enc...</td>\n",
       "      <td>{1, 2, 3, 18178, 195589, 104454, 88967, 104455...</td>\n",
       "    </tr>\n",
       "    <tr>\n",
       "      <th>pulmonary</th>\n",
       "      <td>Entity</td>\n",
       "      <td>ORGAN</td>\n",
       "      <td>Relating to the lungs as the intended site of ...</td>\n",
       "      <td>{1, 196612, 196613, 196614, 196621, 196623, 16...</td>\n",
       "    </tr>\n",
       "    <tr>\n",
       "      <th>host</th>\n",
       "      <td>Entity</td>\n",
       "      <td>ORGANISM</td>\n",
       "      <td>An organism that nourishes and supports anothe...</td>\n",
       "      <td>{1, 114689, 3, 221193, 180243, 180247, 28, 180...</td>\n",
       "    </tr>\n",
       "    <tr>\n",
       "      <th>surfactant protein d measurement</th>\n",
       "      <td>Entity</td>\n",
       "      <td>PROTEIN</td>\n",
       "      <td>The determination of the amount of surfactant ...</td>\n",
       "      <td>{145537, 2, 3, 4, 5, 6, 51202, 103939, 103940,...</td>\n",
       "    </tr>\n",
       "    <tr>\n",
       "      <th>communication response</th>\n",
       "      <td>Entity</td>\n",
       "      <td>PATHWAY</td>\n",
       "      <td>A statement (either spoken or written) that is...</td>\n",
       "      <td>{46592, 64000, 2, 28162, 166912, 226304, 88585...</td>\n",
       "    </tr>\n",
       "    <tr>\n",
       "      <th>...</th>\n",
       "      <td>...</td>\n",
       "      <td>...</td>\n",
       "      <td>...</td>\n",
       "      <td>...</td>\n",
       "    </tr>\n",
       "    <tr>\n",
       "      <th>drug binding site</th>\n",
       "      <td>Entity</td>\n",
       "      <td>PATHWAY</td>\n",
       "      <td>The reactive parts of a macromolecule that dir...</td>\n",
       "      <td>{225082, 225079}</td>\n",
       "    </tr>\n",
       "    <tr>\n",
       "      <th>carbaril</th>\n",
       "      <td>Entity</td>\n",
       "      <td>CHEMICAL</td>\n",
       "      <td>A synthetic carbamate acetylcholinesterase inh...</td>\n",
       "      <td>{225408, 225409, 225415, 225419, 225397}</td>\n",
       "    </tr>\n",
       "    <tr>\n",
       "      <th>ny-eso-1 positive tumor cells present</th>\n",
       "      <td>Entity</td>\n",
       "      <td>CELL_TYPE</td>\n",
       "      <td>An indication that Cancer/Testis Antigen 1 exp...</td>\n",
       "      <td>{225544, 226996}</td>\n",
       "    </tr>\n",
       "    <tr>\n",
       "      <th>mustelidae</th>\n",
       "      <td>Entity</td>\n",
       "      <td>ORGANISM</td>\n",
       "      <td>Taxonomic family which includes the Ferret.</td>\n",
       "      <td>{225901, 225903}</td>\n",
       "    </tr>\n",
       "    <tr>\n",
       "      <th>friulian language</th>\n",
       "      <td>Entity</td>\n",
       "      <td>ORGANISM</td>\n",
       "      <td>An Indo-European Romance language spoken in th...</td>\n",
       "      <td>{225901, 225903}</td>\n",
       "    </tr>\n",
       "  </tbody>\n",
       "</table>\n",
       "<p>17989 rows × 4 columns</p>\n",
       "</div>"
      ],
      "text/plain": [
       "                                        @type entity_type  \\\n",
       "@id                                                         \n",
       "lithostathine-1-alpha                  Entity     PROTEIN   \n",
       "pulmonary                              Entity       ORGAN   \n",
       "host                                   Entity    ORGANISM   \n",
       "surfactant protein d measurement       Entity     PROTEIN   \n",
       "communication response                 Entity     PATHWAY   \n",
       "...                                       ...         ...   \n",
       "drug binding site                      Entity     PATHWAY   \n",
       "carbaril                               Entity    CHEMICAL   \n",
       "ny-eso-1 positive tumor cells present  Entity   CELL_TYPE   \n",
       "mustelidae                             Entity    ORGANISM   \n",
       "friulian language                      Entity    ORGANISM   \n",
       "\n",
       "                                                                              definition  \\\n",
       "@id                                                                                        \n",
       "lithostathine-1-alpha                  Lithostathine-1-alpha (166 aa, ~19 kDa) is enc...   \n",
       "pulmonary                              Relating to the lungs as the intended site of ...   \n",
       "host                                   An organism that nourishes and supports anothe...   \n",
       "surfactant protein d measurement       The determination of the amount of surfactant ...   \n",
       "communication response                 A statement (either spoken or written) that is...   \n",
       "...                                                                                  ...   \n",
       "drug binding site                      The reactive parts of a macromolecule that dir...   \n",
       "carbaril                               A synthetic carbamate acetylcholinesterase inh...   \n",
       "ny-eso-1 positive tumor cells present  An indication that Cancer/Testis Antigen 1 exp...   \n",
       "mustelidae                                   Taxonomic family which includes the Ferret.   \n",
       "friulian language                      An Indo-European Romance language spoken in th...   \n",
       "\n",
       "                                                                              paragraphs  \n",
       "@id                                                                                       \n",
       "lithostathine-1-alpha                  {1, 2, 3, 18178, 195589, 104454, 88967, 104455...  \n",
       "pulmonary                              {1, 196612, 196613, 196614, 196621, 196623, 16...  \n",
       "host                                   {1, 114689, 3, 221193, 180243, 180247, 28, 180...  \n",
       "surfactant protein d measurement       {145537, 2, 3, 4, 5, 6, 51202, 103939, 103940,...  \n",
       "communication response                 {46592, 64000, 2, 28162, 166912, 226304, 88585...  \n",
       "...                                                                                  ...  \n",
       "drug binding site                                                       {225082, 225079}  \n",
       "carbaril                                        {225408, 225409, 225415, 225419, 225397}  \n",
       "ny-eso-1 positive tumor cells present                                   {225544, 226996}  \n",
       "mustelidae                                                              {225901, 225903}  \n",
       "friulian language                                                       {225901, 225903}  \n",
       "\n",
       "[17989 rows x 4 columns]"
      ]
     },
     "execution_count": 9,
     "metadata": {},
     "output_type": "execute_result"
    }
   ],
   "source": [
    "graph.nodes(raw_frame=True)"
   ]
  },
  {
   "cell_type": "markdown",
   "id": "consecutive-style",
   "metadata": {},
   "source": [
    "For each node we will add the `frequency` property that counts the total number of paragraphs where the entity was mentioned."
   ]
  },
  {
   "cell_type": "code",
   "execution_count": 10,
   "id": "prescription-utilization",
   "metadata": {},
   "outputs": [],
   "source": [
    "frequencies = graph._nodes[\"paragraphs\"].apply(len)\n",
    "frequencies.name = \"frequency\"\n",
    "graph.add_node_properties(frequencies)"
   ]
  },
  {
   "cell_type": "code",
   "execution_count": 11,
   "id": "cleared-trunk",
   "metadata": {},
   "outputs": [
    {
     "data": {
      "text/html": [
       "<div>\n",
       "<style scoped>\n",
       "    .dataframe tbody tr th:only-of-type {\n",
       "        vertical-align: middle;\n",
       "    }\n",
       "\n",
       "    .dataframe tbody tr th {\n",
       "        vertical-align: top;\n",
       "    }\n",
       "\n",
       "    .dataframe thead th {\n",
       "        text-align: right;\n",
       "    }\n",
       "</style>\n",
       "<table border=\"1\" class=\"dataframe\">\n",
       "  <thead>\n",
       "    <tr style=\"text-align: right;\">\n",
       "      <th></th>\n",
       "      <th>@type</th>\n",
       "      <th>entity_type</th>\n",
       "      <th>definition</th>\n",
       "      <th>paragraphs</th>\n",
       "      <th>frequency</th>\n",
       "    </tr>\n",
       "    <tr>\n",
       "      <th>@id</th>\n",
       "      <th></th>\n",
       "      <th></th>\n",
       "      <th></th>\n",
       "      <th></th>\n",
       "      <th></th>\n",
       "    </tr>\n",
       "  </thead>\n",
       "  <tbody>\n",
       "    <tr>\n",
       "      <th>lithostathine-1-alpha</th>\n",
       "      <td>Entity</td>\n",
       "      <td>PROTEIN</td>\n",
       "      <td>Lithostathine-1-alpha (166 aa, ~19 kDa) is enc...</td>\n",
       "      <td>{1, 2, 3, 18178, 195589, 104454, 88967, 104455...</td>\n",
       "      <td>80</td>\n",
       "    </tr>\n",
       "    <tr>\n",
       "      <th>pulmonary</th>\n",
       "      <td>Entity</td>\n",
       "      <td>ORGAN</td>\n",
       "      <td>Relating to the lungs as the intended site of ...</td>\n",
       "      <td>{1, 196612, 196613, 196614, 196621, 196623, 16...</td>\n",
       "      <td>8295</td>\n",
       "    </tr>\n",
       "    <tr>\n",
       "      <th>host</th>\n",
       "      <td>Entity</td>\n",
       "      <td>ORGANISM</td>\n",
       "      <td>An organism that nourishes and supports anothe...</td>\n",
       "      <td>{1, 114689, 3, 221193, 180243, 180247, 28, 180...</td>\n",
       "      <td>2660</td>\n",
       "    </tr>\n",
       "    <tr>\n",
       "      <th>surfactant protein d measurement</th>\n",
       "      <td>Entity</td>\n",
       "      <td>PROTEIN</td>\n",
       "      <td>The determination of the amount of surfactant ...</td>\n",
       "      <td>{145537, 2, 3, 4, 5, 6, 51202, 103939, 103940,...</td>\n",
       "      <td>268</td>\n",
       "    </tr>\n",
       "    <tr>\n",
       "      <th>communication response</th>\n",
       "      <td>Entity</td>\n",
       "      <td>PATHWAY</td>\n",
       "      <td>A statement (either spoken or written) that is...</td>\n",
       "      <td>{46592, 64000, 2, 28162, 166912, 226304, 88585...</td>\n",
       "      <td>160</td>\n",
       "    </tr>\n",
       "    <tr>\n",
       "      <th>...</th>\n",
       "      <td>...</td>\n",
       "      <td>...</td>\n",
       "      <td>...</td>\n",
       "      <td>...</td>\n",
       "      <td>...</td>\n",
       "    </tr>\n",
       "    <tr>\n",
       "      <th>drug binding site</th>\n",
       "      <td>Entity</td>\n",
       "      <td>PATHWAY</td>\n",
       "      <td>The reactive parts of a macromolecule that dir...</td>\n",
       "      <td>{225082, 225079}</td>\n",
       "      <td>2</td>\n",
       "    </tr>\n",
       "    <tr>\n",
       "      <th>carbaril</th>\n",
       "      <td>Entity</td>\n",
       "      <td>CHEMICAL</td>\n",
       "      <td>A synthetic carbamate acetylcholinesterase inh...</td>\n",
       "      <td>{225408, 225409, 225415, 225419, 225397}</td>\n",
       "      <td>5</td>\n",
       "    </tr>\n",
       "    <tr>\n",
       "      <th>ny-eso-1 positive tumor cells present</th>\n",
       "      <td>Entity</td>\n",
       "      <td>CELL_TYPE</td>\n",
       "      <td>An indication that Cancer/Testis Antigen 1 exp...</td>\n",
       "      <td>{225544, 226996}</td>\n",
       "      <td>2</td>\n",
       "    </tr>\n",
       "    <tr>\n",
       "      <th>mustelidae</th>\n",
       "      <td>Entity</td>\n",
       "      <td>ORGANISM</td>\n",
       "      <td>Taxonomic family which includes the Ferret.</td>\n",
       "      <td>{225901, 225903}</td>\n",
       "      <td>2</td>\n",
       "    </tr>\n",
       "    <tr>\n",
       "      <th>friulian language</th>\n",
       "      <td>Entity</td>\n",
       "      <td>ORGANISM</td>\n",
       "      <td>An Indo-European Romance language spoken in th...</td>\n",
       "      <td>{225901, 225903}</td>\n",
       "      <td>2</td>\n",
       "    </tr>\n",
       "  </tbody>\n",
       "</table>\n",
       "<p>17989 rows × 5 columns</p>\n",
       "</div>"
      ],
      "text/plain": [
       "                                        @type entity_type  \\\n",
       "@id                                                         \n",
       "lithostathine-1-alpha                  Entity     PROTEIN   \n",
       "pulmonary                              Entity       ORGAN   \n",
       "host                                   Entity    ORGANISM   \n",
       "surfactant protein d measurement       Entity     PROTEIN   \n",
       "communication response                 Entity     PATHWAY   \n",
       "...                                       ...         ...   \n",
       "drug binding site                      Entity     PATHWAY   \n",
       "carbaril                               Entity    CHEMICAL   \n",
       "ny-eso-1 positive tumor cells present  Entity   CELL_TYPE   \n",
       "mustelidae                             Entity    ORGANISM   \n",
       "friulian language                      Entity    ORGANISM   \n",
       "\n",
       "                                                                              definition  \\\n",
       "@id                                                                                        \n",
       "lithostathine-1-alpha                  Lithostathine-1-alpha (166 aa, ~19 kDa) is enc...   \n",
       "pulmonary                              Relating to the lungs as the intended site of ...   \n",
       "host                                   An organism that nourishes and supports anothe...   \n",
       "surfactant protein d measurement       The determination of the amount of surfactant ...   \n",
       "communication response                 A statement (either spoken or written) that is...   \n",
       "...                                                                                  ...   \n",
       "drug binding site                      The reactive parts of a macromolecule that dir...   \n",
       "carbaril                               A synthetic carbamate acetylcholinesterase inh...   \n",
       "ny-eso-1 positive tumor cells present  An indication that Cancer/Testis Antigen 1 exp...   \n",
       "mustelidae                                   Taxonomic family which includes the Ferret.   \n",
       "friulian language                      An Indo-European Romance language spoken in th...   \n",
       "\n",
       "                                                                              paragraphs  \\\n",
       "@id                                                                                        \n",
       "lithostathine-1-alpha                  {1, 2, 3, 18178, 195589, 104454, 88967, 104455...   \n",
       "pulmonary                              {1, 196612, 196613, 196614, 196621, 196623, 16...   \n",
       "host                                   {1, 114689, 3, 221193, 180243, 180247, 28, 180...   \n",
       "surfactant protein d measurement       {145537, 2, 3, 4, 5, 6, 51202, 103939, 103940,...   \n",
       "communication response                 {46592, 64000, 2, 28162, 166912, 226304, 88585...   \n",
       "...                                                                                  ...   \n",
       "drug binding site                                                       {225082, 225079}   \n",
       "carbaril                                        {225408, 225409, 225415, 225419, 225397}   \n",
       "ny-eso-1 positive tumor cells present                                   {225544, 226996}   \n",
       "mustelidae                                                              {225901, 225903}   \n",
       "friulian language                                                       {225901, 225903}   \n",
       "\n",
       "                                       frequency  \n",
       "@id                                               \n",
       "lithostathine-1-alpha                         80  \n",
       "pulmonary                                   8295  \n",
       "host                                        2660  \n",
       "surfactant protein d measurement             268  \n",
       "communication response                       160  \n",
       "...                                          ...  \n",
       "drug binding site                              2  \n",
       "carbaril                                       5  \n",
       "ny-eso-1 positive tumor cells present          2  \n",
       "mustelidae                                     2  \n",
       "friulian language                              2  \n",
       "\n",
       "[17989 rows x 5 columns]"
      ]
     },
     "execution_count": 11,
     "metadata": {},
     "output_type": "execute_result"
    }
   ],
   "source": [
    "graph.nodes(raw_frame=True)"
   ]
  },
  {
   "cell_type": "markdown",
   "id": "waiting-jimmy",
   "metadata": {},
   "source": [
    "Now, for constructing co-occurrence network we will select only 1000 most frequent entities."
   ]
  },
  {
   "cell_type": "code",
   "execution_count": 12,
   "id": "sensitive-running",
   "metadata": {},
   "outputs": [],
   "source": [
    "nodes_to_include = graph._nodes.nlargest(1000, \"frequency\").index"
   ]
  },
  {
   "cell_type": "code",
   "execution_count": 13,
   "id": "helpful-lounge",
   "metadata": {},
   "outputs": [
    {
     "data": {
      "text/plain": [
       "Index(['covid-19', 'blood', 'human', 'infectious disorder', 'heart',\n",
       "       'diabetes mellitus', 'lung', 'sars-cov-2', 'mouse', 'pulmonary',\n",
       "       ...\n",
       "       'wheezing', 'chief complaint', 'azathioprine', 'ileum', 'hematology',\n",
       "       'nonalcoholic steatohepatitis', 'nervous system disorder',\n",
       "       'renal impairment', 'urticaria', 'rectum'],\n",
       "      dtype='object', name='@id', length=1000)"
      ]
     },
     "execution_count": 13,
     "metadata": {},
     "output_type": "execute_result"
    }
   ],
   "source": [
    "nodes_to_include"
   ]
  },
  {
   "cell_type": "markdown",
   "id": "wired-train",
   "metadata": {},
   "source": [
    "The `CooccurrenceGenerator` class allows us to generate co-occurrence edges from overlaps in node property values or edge (or edge properties). In this case we consider the `paragraph` node property and construct co-occurrence edges from overlapping sets of paragraphs. In addition, we will compute some co-occurrence statistics: total co-occurrence frequency and normalized pointwise mutual information (NPMI)."
   ]
  },
  {
   "cell_type": "code",
   "execution_count": 14,
   "id": "removed-paraguay",
   "metadata": {},
   "outputs": [
    {
     "name": "stdout",
     "output_type": "stream",
     "text": [
      "Examining 499500 pairs of terms for co-occurrence...\n",
      "CPU times: user 7.62 s, sys: 2.26 s, total: 9.88 s\n",
      "Wall time: 1min 20s\n"
     ]
    }
   ],
   "source": [
    "%%time\n",
    "generator = CooccurrenceGenerator(graph.subgraph(nodes=nodes_to_include))\n",
    "paragraph_cooccurrence_edges = generator.generate_from_nodes(\n",
    "    \"paragraphs\", total_factor_instances=number_of_paragraphs,\n",
    "    compute_statistics=[\"frequency\", \"npmi\"],\n",
    "    parallelize=True, cores=8)"
   ]
  },
  {
   "cell_type": "code",
   "execution_count": 15,
   "id": "viral-opportunity",
   "metadata": {},
   "outputs": [],
   "source": [
    "cutoff = paragraph_cooccurrence_edges[\"npmi\"].mean()"
   ]
  },
  {
   "cell_type": "code",
   "execution_count": 16,
   "id": "incomplete-elizabeth",
   "metadata": {},
   "outputs": [],
   "source": [
    "paragraph_cooccurrence_edges = paragraph_cooccurrence_edges[paragraph_cooccurrence_edges[\"npmi\"] > cutoff]"
   ]
  },
  {
   "cell_type": "markdown",
   "id": "thorough-therapy",
   "metadata": {},
   "source": [
    "We add generated edges to the original graph"
   ]
  },
  {
   "cell_type": "code",
   "execution_count": 17,
   "id": "desperate-table",
   "metadata": {},
   "outputs": [],
   "source": [
    "graph._edges = paragraph_cooccurrence_edges\n",
    "graph.edge_prop_as_numeric(\"frequency\")\n",
    "graph.edge_prop_as_numeric(\"npmi\")"
   ]
  },
  {
   "cell_type": "code",
   "execution_count": 18,
   "id": "baking-taxation",
   "metadata": {},
   "outputs": [
    {
     "data": {
      "text/html": [
       "<div>\n",
       "<style scoped>\n",
       "    .dataframe tbody tr th:only-of-type {\n",
       "        vertical-align: middle;\n",
       "    }\n",
       "\n",
       "    .dataframe tbody tr th {\n",
       "        vertical-align: top;\n",
       "    }\n",
       "\n",
       "    .dataframe thead th {\n",
       "        text-align: right;\n",
       "    }\n",
       "</style>\n",
       "<table border=\"1\" class=\"dataframe\">\n",
       "  <thead>\n",
       "    <tr style=\"text-align: right;\">\n",
       "      <th></th>\n",
       "      <th></th>\n",
       "      <th>common_factors</th>\n",
       "      <th>frequency</th>\n",
       "      <th>npmi</th>\n",
       "    </tr>\n",
       "    <tr>\n",
       "      <th>@source_id</th>\n",
       "      <th>@target_id</th>\n",
       "      <th></th>\n",
       "      <th></th>\n",
       "      <th></th>\n",
       "    </tr>\n",
       "  </thead>\n",
       "  <tbody>\n",
       "    <tr>\n",
       "      <th rowspan=\"5\" valign=\"top\">surfactant protein d measurement</th>\n",
       "      <th>microorganism</th>\n",
       "      <td>{2, 3, 7810, 58, 41, 7754, 7850, 26218, 7853, ...</td>\n",
       "      <td>19</td>\n",
       "      <td>0.235263</td>\n",
       "    </tr>\n",
       "    <tr>\n",
       "      <th>lung</th>\n",
       "      <td>{2, 103939, 51202, 5, 4, 103940, 15, 145438, 3...</td>\n",
       "      <td>93</td>\n",
       "      <td>0.221395</td>\n",
       "    </tr>\n",
       "    <tr>\n",
       "      <th>alveolar</th>\n",
       "      <td>{223872, 2, 51202, 100502, 7831, 149657, 19522...</td>\n",
       "      <td>25</td>\n",
       "      <td>0.336175</td>\n",
       "    </tr>\n",
       "    <tr>\n",
       "      <th>epithelial cell</th>\n",
       "      <td>{2, 4, 5, 222298, 7825, 7732, 7733, 169174, 7738}</td>\n",
       "      <td>9</td>\n",
       "      <td>0.175923</td>\n",
       "    </tr>\n",
       "    <tr>\n",
       "      <th>molecule</th>\n",
       "      <td>{2, 7750, 49991, 134504, 206448, 49, 52, 20645...</td>\n",
       "      <td>10</td>\n",
       "      <td>0.113611</td>\n",
       "    </tr>\n",
       "    <tr>\n",
       "      <th>...</th>\n",
       "      <th>...</th>\n",
       "      <td>...</td>\n",
       "      <td>...</td>\n",
       "      <td>...</td>\n",
       "    </tr>\n",
       "    <tr>\n",
       "      <th rowspan=\"3\" valign=\"top\">ciliated bronchial epithelial cell</th>\n",
       "      <th>cystic fibrosis pulmonary exacerbation</th>\n",
       "      <td>{46779}</td>\n",
       "      <td>1</td>\n",
       "      <td>0.088963</td>\n",
       "    </tr>\n",
       "    <tr>\n",
       "      <th>caax prenyl protease 2</th>\n",
       "      <td>{215748, 220047}</td>\n",
       "      <td>2</td>\n",
       "      <td>0.151639</td>\n",
       "    </tr>\n",
       "    <tr>\n",
       "      <th>transmembrane protease serine 2</th>\n",
       "      <td>{167360, 167358, 167301, 214566, 214567, 16138...</td>\n",
       "      <td>14</td>\n",
       "      <td>0.305697</td>\n",
       "    </tr>\n",
       "    <tr>\n",
       "      <th rowspan=\"2\" valign=\"top\">n-terminal fragment brain natriuretic protein</th>\n",
       "      <th>cardiac valve injury</th>\n",
       "      <td>{217473, 217476, 164110, 162703, 218236, 18358...</td>\n",
       "      <td>40</td>\n",
       "      <td>0.436540</td>\n",
       "    </tr>\n",
       "    <tr>\n",
       "      <th>brain natriuretic peptide measurement</th>\n",
       "      <td>{138245, 137505, 164909, 223535, 137340, 20613...</td>\n",
       "      <td>37</td>\n",
       "      <td>0.489849</td>\n",
       "    </tr>\n",
       "  </tbody>\n",
       "</table>\n",
       "<p>161332 rows × 3 columns</p>\n",
       "</div>"
      ],
      "text/plain": [
       "                                                                                                                         common_factors  \\\n",
       "@source_id                                    @target_id                                                                                  \n",
       "surfactant protein d measurement              microorganism                           {2, 3, 7810, 58, 41, 7754, 7850, 26218, 7853, ...   \n",
       "                                              lung                                    {2, 103939, 51202, 5, 4, 103940, 15, 145438, 3...   \n",
       "                                              alveolar                                {223872, 2, 51202, 100502, 7831, 149657, 19522...   \n",
       "                                              epithelial cell                         {2, 4, 5, 222298, 7825, 7732, 7733, 169174, 7738}   \n",
       "                                              molecule                                {2, 7750, 49991, 134504, 206448, 49, 52, 20645...   \n",
       "...                                                                                                                                 ...   \n",
       "ciliated bronchial epithelial cell            cystic fibrosis pulmonary exacerbation                                            {46779}   \n",
       "                                              caax prenyl protease 2                                                   {215748, 220047}   \n",
       "                                              transmembrane protease serine 2         {167360, 167358, 167301, 214566, 214567, 16138...   \n",
       "n-terminal fragment brain natriuretic protein cardiac valve injury                    {217473, 217476, 164110, 162703, 218236, 18358...   \n",
       "                                              brain natriuretic peptide measurement   {138245, 137505, 164909, 223535, 137340, 20613...   \n",
       "\n",
       "                                                                                      frequency  \\\n",
       "@source_id                                    @target_id                                          \n",
       "surfactant protein d measurement              microorganism                                  19   \n",
       "                                              lung                                           93   \n",
       "                                              alveolar                                       25   \n",
       "                                              epithelial cell                                 9   \n",
       "                                              molecule                                       10   \n",
       "...                                                                                         ...   \n",
       "ciliated bronchial epithelial cell            cystic fibrosis pulmonary exacerbation          1   \n",
       "                                              caax prenyl protease 2                          2   \n",
       "                                              transmembrane protease serine 2                14   \n",
       "n-terminal fragment brain natriuretic protein cardiac valve injury                           40   \n",
       "                                              brain natriuretic peptide measurement          37   \n",
       "\n",
       "                                                                                          npmi  \n",
       "@source_id                                    @target_id                                        \n",
       "surfactant protein d measurement              microorganism                           0.235263  \n",
       "                                              lung                                    0.221395  \n",
       "                                              alveolar                                0.336175  \n",
       "                                              epithelial cell                         0.175923  \n",
       "                                              molecule                                0.113611  \n",
       "...                                                                                        ...  \n",
       "ciliated bronchial epithelial cell            cystic fibrosis pulmonary exacerbation  0.088963  \n",
       "                                              caax prenyl protease 2                  0.151639  \n",
       "                                              transmembrane protease serine 2         0.305697  \n",
       "n-terminal fragment brain natriuretic protein cardiac valve injury                    0.436540  \n",
       "                                              brain natriuretic peptide measurement   0.489849  \n",
       "\n",
       "[161332 rows x 3 columns]"
      ]
     },
     "execution_count": 18,
     "metadata": {},
     "output_type": "execute_result"
    }
   ],
   "source": [
    "graph.edges(raw_frame=True)"
   ]
  },
  {
   "cell_type": "markdown",
   "id": "subjective-joint",
   "metadata": {},
   "source": [
    "Recall that we have generated edges only for the 1000 most frequent entities, the rest of the entities will be isolated (having no incident edges). Let us remove all the isolated nodes."
   ]
  },
  {
   "cell_type": "code",
   "execution_count": 19,
   "id": "valid-bracket",
   "metadata": {},
   "outputs": [],
   "source": [
    "graph.remove_isolated_nodes()"
   ]
  },
  {
   "cell_type": "code",
   "execution_count": 20,
   "id": "adapted-holiday",
   "metadata": {},
   "outputs": [
    {
     "data": {
      "text/plain": [
       "1000"
      ]
     },
     "execution_count": 20,
     "metadata": {},
     "output_type": "execute_result"
    }
   ],
   "source": [
    "graph.number_of_nodes()"
   ]
  },
  {
   "cell_type": "markdown",
   "id": "formal-wilson",
   "metadata": {},
   "source": [
    "Next, we save the generated co-occurrence graph."
   ]
  },
  {
   "cell_type": "code",
   "execution_count": null,
   "id": "strong-capital",
   "metadata": {
    "scrolled": true
   },
   "outputs": [],
   "source": [
    "graph.export_json(\"data/cooccurrence_graph.json\")"
   ]
  },
  {
   "cell_type": "code",
   "execution_count": 2,
   "id": "sought-arabic",
   "metadata": {},
   "outputs": [],
   "source": [
    "graph = PandasPGFrame.load_json(\"data/cooccurrence_graph.json\")"
   ]
  },
  {
   "cell_type": "markdown",
   "id": "synthetic-nudist",
   "metadata": {},
   "source": [
    "### Node feature extraction\n",
    "\n",
    "We extract node features from entity definitions using the `tfidf` model."
   ]
  },
  {
   "cell_type": "code",
   "execution_count": 8,
   "id": "logical-cartridge",
   "metadata": {},
   "outputs": [],
   "source": [
    "encoder = ScikitLearnPGEncoder(\n",
    "    node_properties=[\"definition\"],\n",
    "    text_encoding_max_dimension=512)"
   ]
  },
  {
   "cell_type": "code",
   "execution_count": 9,
   "id": "useful-engagement",
   "metadata": {},
   "outputs": [
    {
     "name": "stdout",
     "output_type": "stream",
     "text": [
      "CPU times: user 531 ms, sys: 19.6 ms, total: 550 ms\n",
      "Wall time: 550 ms\n"
     ]
    }
   ],
   "source": [
    "%%time\n",
    "transformed_graph = encoder.fit_transform(graph)"
   ]
  },
  {
   "cell_type": "markdown",
   "id": "closed-shoot",
   "metadata": {},
   "source": [
    "We can have a glance at the vocabulary that the encoder constructed for the 'definition' property"
   ]
  },
  {
   "cell_type": "code",
   "execution_count": 10,
   "id": "operational-truth",
   "metadata": {},
   "outputs": [
    {
     "data": {
      "text/plain": [
       "['relating',\n",
       " 'lungs',\n",
       " 'site',\n",
       " 'administration',\n",
       " 'product',\n",
       " 'usually',\n",
       " 'action',\n",
       " 'lower',\n",
       " 'respiratory',\n",
       " 'tract']"
      ]
     },
     "execution_count": 10,
     "metadata": {},
     "output_type": "execute_result"
    }
   ],
   "source": [
    "vocabulary = encoder._node_encoders[\"definition\"].vocabulary_\n",
    "list(vocabulary.keys())[:10]"
   ]
  },
  {
   "cell_type": "markdown",
   "id": "chief-spider",
   "metadata": {},
   "source": [
    "We will add additional properties to our transformed graph corresponding to the entity type labels. We will also add NPMI as an edge property to this transformed graph."
   ]
  },
  {
   "cell_type": "code",
   "execution_count": 6,
   "id": "crucial-devices",
   "metadata": {},
   "outputs": [],
   "source": [
    "transformed_graph.add_node_properties(\n",
    "    graph.get_node_property_values(\"entity_type\"))\n",
    "transformed_graph.add_edge_properties(\n",
    "    graph.get_edge_property_values(\"npmi\"), prop_type=\"numeric\")"
   ]
  },
  {
   "cell_type": "code",
   "execution_count": 7,
   "id": "cooked-treasury",
   "metadata": {},
   "outputs": [
    {
     "data": {
      "text/html": [
       "<div>\n",
       "<style scoped>\n",
       "    .dataframe tbody tr th:only-of-type {\n",
       "        vertical-align: middle;\n",
       "    }\n",
       "\n",
       "    .dataframe tbody tr th {\n",
       "        vertical-align: top;\n",
       "    }\n",
       "\n",
       "    .dataframe thead th {\n",
       "        text-align: right;\n",
       "    }\n",
       "</style>\n",
       "<table border=\"1\" class=\"dataframe\">\n",
       "  <thead>\n",
       "    <tr style=\"text-align: right;\">\n",
       "      <th></th>\n",
       "      <th>features</th>\n",
       "      <th>@type</th>\n",
       "      <th>entity_type</th>\n",
       "    </tr>\n",
       "    <tr>\n",
       "      <th>@id</th>\n",
       "      <th></th>\n",
       "      <th></th>\n",
       "      <th></th>\n",
       "    </tr>\n",
       "  </thead>\n",
       "  <tbody>\n",
       "    <tr>\n",
       "      <th>pulmonary</th>\n",
       "      <td>[0.0, 0.0, 0.0, 0.0, 0.0, 0.0, 0.0, 0.0, 0.0, ...</td>\n",
       "      <td>Entity</td>\n",
       "      <td>ORGAN</td>\n",
       "    </tr>\n",
       "    <tr>\n",
       "      <th>host</th>\n",
       "      <td>[0.0, 0.0, 0.0, 0.0, 0.0, 0.0, 0.0, 0.0, 0.0, ...</td>\n",
       "      <td>Entity</td>\n",
       "      <td>ORGANISM</td>\n",
       "    </tr>\n",
       "    <tr>\n",
       "      <th>surfactant protein d measurement</th>\n",
       "      <td>[0.0, 0.0, 0.0, 0.0, 0.0, 0.0, 0.0, 0.0, 0.0, ...</td>\n",
       "      <td>Entity</td>\n",
       "      <td>PROTEIN</td>\n",
       "    </tr>\n",
       "    <tr>\n",
       "      <th>microorganism</th>\n",
       "      <td>[0.0, 0.0, 0.0, 0.0, 0.0, 0.0, 0.0, 0.0, 0.0, ...</td>\n",
       "      <td>Entity</td>\n",
       "      <td>ORGANISM</td>\n",
       "    </tr>\n",
       "    <tr>\n",
       "      <th>lung</th>\n",
       "      <td>[0.0, 0.0, 0.0, 0.0, 0.0, 0.0, 0.0, 0.0, 0.0, ...</td>\n",
       "      <td>Entity</td>\n",
       "      <td>ORGAN</td>\n",
       "    </tr>\n",
       "    <tr>\n",
       "      <th>...</th>\n",
       "      <td>...</td>\n",
       "      <td>...</td>\n",
       "      <td>...</td>\n",
       "    </tr>\n",
       "    <tr>\n",
       "      <th>candida parapsilosis</th>\n",
       "      <td>[0.0, 0.0, 0.0, 0.0, 0.0, 0.0, 0.0, 0.0, 0.0, ...</td>\n",
       "      <td>Entity</td>\n",
       "      <td>ORGANISM</td>\n",
       "    </tr>\n",
       "    <tr>\n",
       "      <th>ciliated bronchial epithelial cell</th>\n",
       "      <td>[0.0, 0.0, 0.0, 0.0, 0.0, 0.0, 0.0, 0.0, 0.0, ...</td>\n",
       "      <td>Entity</td>\n",
       "      <td>CELL_TYPE</td>\n",
       "    </tr>\n",
       "    <tr>\n",
       "      <th>cystic fibrosis pulmonary exacerbation</th>\n",
       "      <td>[0.0, 0.0, 0.0, 0.0, 0.0, 0.0, 0.0, 0.0, 0.0, ...</td>\n",
       "      <td>Entity</td>\n",
       "      <td>DISEASE</td>\n",
       "    </tr>\n",
       "    <tr>\n",
       "      <th>caax prenyl protease 2</th>\n",
       "      <td>[0.0, 0.0, 0.3198444339599345, 0.0, 0.0, 0.0, ...</td>\n",
       "      <td>Entity</td>\n",
       "      <td>PROTEIN</td>\n",
       "    </tr>\n",
       "    <tr>\n",
       "      <th>transmembrane protease serine 2</th>\n",
       "      <td>[0.0, 0.0, 0.2853086240289885, 0.0, 0.0, 0.0, ...</td>\n",
       "      <td>Entity</td>\n",
       "      <td>PROTEIN</td>\n",
       "    </tr>\n",
       "  </tbody>\n",
       "</table>\n",
       "<p>1000 rows × 3 columns</p>\n",
       "</div>"
      ],
      "text/plain": [
       "                                                                                 features  \\\n",
       "@id                                                                                         \n",
       "pulmonary                               [0.0, 0.0, 0.0, 0.0, 0.0, 0.0, 0.0, 0.0, 0.0, ...   \n",
       "host                                    [0.0, 0.0, 0.0, 0.0, 0.0, 0.0, 0.0, 0.0, 0.0, ...   \n",
       "surfactant protein d measurement        [0.0, 0.0, 0.0, 0.0, 0.0, 0.0, 0.0, 0.0, 0.0, ...   \n",
       "microorganism                           [0.0, 0.0, 0.0, 0.0, 0.0, 0.0, 0.0, 0.0, 0.0, ...   \n",
       "lung                                    [0.0, 0.0, 0.0, 0.0, 0.0, 0.0, 0.0, 0.0, 0.0, ...   \n",
       "...                                                                                   ...   \n",
       "candida parapsilosis                    [0.0, 0.0, 0.0, 0.0, 0.0, 0.0, 0.0, 0.0, 0.0, ...   \n",
       "ciliated bronchial epithelial cell      [0.0, 0.0, 0.0, 0.0, 0.0, 0.0, 0.0, 0.0, 0.0, ...   \n",
       "cystic fibrosis pulmonary exacerbation  [0.0, 0.0, 0.0, 0.0, 0.0, 0.0, 0.0, 0.0, 0.0, ...   \n",
       "caax prenyl protease 2                  [0.0, 0.0, 0.3198444339599345, 0.0, 0.0, 0.0, ...   \n",
       "transmembrane protease serine 2         [0.0, 0.0, 0.2853086240289885, 0.0, 0.0, 0.0, ...   \n",
       "\n",
       "                                         @type entity_type  \n",
       "@id                                                         \n",
       "pulmonary                               Entity       ORGAN  \n",
       "host                                    Entity    ORGANISM  \n",
       "surfactant protein d measurement        Entity     PROTEIN  \n",
       "microorganism                           Entity    ORGANISM  \n",
       "lung                                    Entity       ORGAN  \n",
       "...                                        ...         ...  \n",
       "candida parapsilosis                    Entity    ORGANISM  \n",
       "ciliated bronchial epithelial cell      Entity   CELL_TYPE  \n",
       "cystic fibrosis pulmonary exacerbation  Entity     DISEASE  \n",
       "caax prenyl protease 2                  Entity     PROTEIN  \n",
       "transmembrane protease serine 2         Entity     PROTEIN  \n",
       "\n",
       "[1000 rows x 3 columns]"
      ]
     },
     "execution_count": 7,
     "metadata": {},
     "output_type": "execute_result"
    }
   ],
   "source": [
    "transformed_graph.nodes(raw_frame=True)"
   ]
  },
  {
   "cell_type": "markdown",
   "id": "included-domestic",
   "metadata": {},
   "source": [
    "## Node embedding and downstream tasks"
   ]
  },
  {
   "cell_type": "markdown",
   "id": "equipped-corruption",
   "metadata": {},
   "source": [
    "### Node embedding using StellarGraph\n",
    "\n",
    "Using `StellarGraphNodeEmbedder` we construct three different embeddings of our transformed graph corresponding to different embedding techniques."
   ]
  },
  {
   "cell_type": "code",
   "execution_count": 9,
   "id": "dried-morgan",
   "metadata": {
    "scrolled": true
   },
   "outputs": [],
   "source": [
    "node2vec_embedder = StellarGraphNodeEmbedder(\n",
    "    \"node2vec\", edge_weight=\"npmi\", embedding_dimension=64, length=10, number_of_walks=20)\n",
    "node2vec_embedding = node2vec_embedder.fit_model(transformed_graph)"
   ]
  },
  {
   "cell_type": "code",
   "execution_count": 10,
   "id": "provincial-working",
   "metadata": {
    "scrolled": false
   },
   "outputs": [
    {
     "name": "stdout",
     "output_type": "stream",
     "text": [
      "link_classification: using 'ip' method to combine node embeddings into edge embeddings\n"
     ]
    }
   ],
   "source": [
    "attri2vec_embedder = StellarGraphNodeEmbedder(\n",
    "    \"attri2vec\", feature_vector_prop=\"features\",\n",
    "    length=5, number_of_walks=10,\n",
    "    epochs=10, embedding_dimension=128, edge_weight=\"npmi\")\n",
    "attri2vec_embedding = attri2vec_embedder.fit_model(transformed_graph)"
   ]
  },
  {
   "cell_type": "code",
   "execution_count": 11,
   "id": "abstract-musician",
   "metadata": {},
   "outputs": [
    {
     "name": "stdout",
     "output_type": "stream",
     "text": [
      "Using GCN (local pooling) filters...\n"
     ]
    }
   ],
   "source": [
    "gcn_dgi_embedder = StellarGraphNodeEmbedder(\n",
    "    \"gcn_dgi\", feature_vector_prop=\"features\", epochs=250, embedding_dimension=512)\n",
    "gcn_dgi_embedding = gcn_dgi_embedder.fit_model(transformed_graph)"
   ]
  },
  {
   "cell_type": "markdown",
   "id": "offshore-soviet",
   "metadata": {},
   "source": [
    "The `fit_model` methods produces a dataframe of the following shape"
   ]
  },
  {
   "cell_type": "code",
   "execution_count": 12,
   "id": "embedded-pendant",
   "metadata": {},
   "outputs": [
    {
     "data": {
      "text/html": [
       "<div>\n",
       "<style scoped>\n",
       "    .dataframe tbody tr th:only-of-type {\n",
       "        vertical-align: middle;\n",
       "    }\n",
       "\n",
       "    .dataframe tbody tr th {\n",
       "        vertical-align: top;\n",
       "    }\n",
       "\n",
       "    .dataframe thead th {\n",
       "        text-align: right;\n",
       "    }\n",
       "</style>\n",
       "<table border=\"1\" class=\"dataframe\">\n",
       "  <thead>\n",
       "    <tr style=\"text-align: right;\">\n",
       "      <th></th>\n",
       "      <th>embedding</th>\n",
       "    </tr>\n",
       "  </thead>\n",
       "  <tbody>\n",
       "    <tr>\n",
       "      <th>pulmonary</th>\n",
       "      <td>[0.058199942111968994, 0.14610271155834198, -0...</td>\n",
       "    </tr>\n",
       "    <tr>\n",
       "      <th>host</th>\n",
       "      <td>[-0.06427627801895142, -0.30984464287757874, 0...</td>\n",
       "    </tr>\n",
       "    <tr>\n",
       "      <th>surfactant protein d measurement</th>\n",
       "      <td>[-0.11748885363340378, -0.11227574199438095, 0...</td>\n",
       "    </tr>\n",
       "    <tr>\n",
       "      <th>microorganism</th>\n",
       "      <td>[0.19230332970619202, -0.8941215872764587, 0.0...</td>\n",
       "    </tr>\n",
       "    <tr>\n",
       "      <th>lung</th>\n",
       "      <td>[-0.07322319597005844, 0.02298489399254322, 0....</td>\n",
       "    </tr>\n",
       "    <tr>\n",
       "      <th>...</th>\n",
       "      <td>...</td>\n",
       "    </tr>\n",
       "    <tr>\n",
       "      <th>candida parapsilosis</th>\n",
       "      <td>[0.119646355509758, -0.3787333369255066, 0.051...</td>\n",
       "    </tr>\n",
       "    <tr>\n",
       "      <th>ciliated bronchial epithelial cell</th>\n",
       "      <td>[-0.11820391565561295, -0.16134190559387207, 0...</td>\n",
       "    </tr>\n",
       "    <tr>\n",
       "      <th>cystic fibrosis pulmonary exacerbation</th>\n",
       "      <td>[0.06567505747079849, -0.2529926896095276, 0.0...</td>\n",
       "    </tr>\n",
       "    <tr>\n",
       "      <th>caax prenyl protease 2</th>\n",
       "      <td>[-0.07791422307491302, 0.053784679621458054, 0...</td>\n",
       "    </tr>\n",
       "    <tr>\n",
       "      <th>transmembrane protease serine 2</th>\n",
       "      <td>[-0.11273963004350662, -0.08565684407949448, 0...</td>\n",
       "    </tr>\n",
       "  </tbody>\n",
       "</table>\n",
       "<p>1000 rows × 1 columns</p>\n",
       "</div>"
      ],
      "text/plain": [
       "                                                                                embedding\n",
       "pulmonary                               [0.058199942111968994, 0.14610271155834198, -0...\n",
       "host                                    [-0.06427627801895142, -0.30984464287757874, 0...\n",
       "surfactant protein d measurement        [-0.11748885363340378, -0.11227574199438095, 0...\n",
       "microorganism                           [0.19230332970619202, -0.8941215872764587, 0.0...\n",
       "lung                                    [-0.07322319597005844, 0.02298489399254322, 0....\n",
       "...                                                                                   ...\n",
       "candida parapsilosis                    [0.119646355509758, -0.3787333369255066, 0.051...\n",
       "ciliated bronchial epithelial cell      [-0.11820391565561295, -0.16134190559387207, 0...\n",
       "cystic fibrosis pulmonary exacerbation  [0.06567505747079849, -0.2529926896095276, 0.0...\n",
       "caax prenyl protease 2                  [-0.07791422307491302, 0.053784679621458054, 0...\n",
       "transmembrane protease serine 2         [-0.11273963004350662, -0.08565684407949448, 0...\n",
       "\n",
       "[1000 rows x 1 columns]"
      ]
     },
     "execution_count": 12,
     "metadata": {},
     "output_type": "execute_result"
    }
   ],
   "source": [
    "node2vec_embedding"
   ]
  },
  {
   "cell_type": "markdown",
   "id": "following-cylinder",
   "metadata": {},
   "source": [
    "Let us add the embedding vectors obtained using different models as node properties of our graph."
   ]
  },
  {
   "cell_type": "code",
   "execution_count": 13,
   "id": "quick-madagascar",
   "metadata": {},
   "outputs": [],
   "source": [
    "transformed_graph.add_node_properties(\n",
    "    node2vec_embedding.rename(columns={\"embedding\": \"node2vec\"}))"
   ]
  },
  {
   "cell_type": "code",
   "execution_count": 14,
   "id": "lined-frank",
   "metadata": {},
   "outputs": [],
   "source": [
    "transformed_graph.add_node_properties(\n",
    "    attri2vec_embedding.rename(columns={\"embedding\": \"attri2vec\"}))"
   ]
  },
  {
   "cell_type": "code",
   "execution_count": 15,
   "id": "occasional-shipping",
   "metadata": {},
   "outputs": [],
   "source": [
    "transformed_graph.add_node_properties(\n",
    "    gcn_dgi_embedding.rename(columns={\"embedding\": \"gcn_dgi\"}))"
   ]
  },
  {
   "cell_type": "code",
   "execution_count": 16,
   "id": "upper-coalition",
   "metadata": {
    "scrolled": false
   },
   "outputs": [
    {
     "data": {
      "text/html": [
       "<div>\n",
       "<style scoped>\n",
       "    .dataframe tbody tr th:only-of-type {\n",
       "        vertical-align: middle;\n",
       "    }\n",
       "\n",
       "    .dataframe tbody tr th {\n",
       "        vertical-align: top;\n",
       "    }\n",
       "\n",
       "    .dataframe thead th {\n",
       "        text-align: right;\n",
       "    }\n",
       "</style>\n",
       "<table border=\"1\" class=\"dataframe\">\n",
       "  <thead>\n",
       "    <tr style=\"text-align: right;\">\n",
       "      <th></th>\n",
       "      <th>features</th>\n",
       "      <th>@type</th>\n",
       "      <th>entity_type</th>\n",
       "      <th>node2vec</th>\n",
       "      <th>attri2vec</th>\n",
       "      <th>gcn_dgi</th>\n",
       "    </tr>\n",
       "    <tr>\n",
       "      <th>@id</th>\n",
       "      <th></th>\n",
       "      <th></th>\n",
       "      <th></th>\n",
       "      <th></th>\n",
       "      <th></th>\n",
       "      <th></th>\n",
       "    </tr>\n",
       "  </thead>\n",
       "  <tbody>\n",
       "    <tr>\n",
       "      <th>pulmonary</th>\n",
       "      <td>[0.0, 0.0, 0.0, 0.0, 0.0, 0.0, 0.0, 0.0, 0.0, ...</td>\n",
       "      <td>Entity</td>\n",
       "      <td>ORGAN</td>\n",
       "      <td>[0.058199942111968994, 0.14610271155834198, -0...</td>\n",
       "      <td>[0.022058159112930298, 0.019829988479614258, 0...</td>\n",
       "      <td>[0.0, 0.018860364332795143, 0.0043135471642017...</td>\n",
       "    </tr>\n",
       "    <tr>\n",
       "      <th>host</th>\n",
       "      <td>[0.0, 0.0, 0.0, 0.0, 0.0, 0.0, 0.0, 0.0, 0.0, ...</td>\n",
       "      <td>Entity</td>\n",
       "      <td>ORGANISM</td>\n",
       "      <td>[-0.06427627801895142, -0.30984464287757874, 0...</td>\n",
       "      <td>[0.03038617968559265, 0.05566278100013733, 0.0...</td>\n",
       "      <td>[0.0, 0.02871589921414852, 0.00203686766326427...</td>\n",
       "    </tr>\n",
       "    <tr>\n",
       "      <th>surfactant protein d measurement</th>\n",
       "      <td>[0.0, 0.0, 0.0, 0.0, 0.0, 0.0, 0.0, 0.0, 0.0, ...</td>\n",
       "      <td>Entity</td>\n",
       "      <td>PROTEIN</td>\n",
       "      <td>[-0.11748885363340378, -0.11227574199438095, 0...</td>\n",
       "      <td>[0.035707831382751465, 0.04418954253196716, 0....</td>\n",
       "      <td>[0.0, 0.02296564169228077, 0.00784338731318712...</td>\n",
       "    </tr>\n",
       "    <tr>\n",
       "      <th>microorganism</th>\n",
       "      <td>[0.0, 0.0, 0.0, 0.0, 0.0, 0.0, 0.0, 0.0, 0.0, ...</td>\n",
       "      <td>Entity</td>\n",
       "      <td>ORGANISM</td>\n",
       "      <td>[0.19230332970619202, -0.8941215872764587, 0.0...</td>\n",
       "      <td>[0.04623153805732727, 0.05907624959945679, 0.0...</td>\n",
       "      <td>[0.0, 0.04383104294538498, 0.0, 0.039705105125...</td>\n",
       "    </tr>\n",
       "    <tr>\n",
       "      <th>lung</th>\n",
       "      <td>[0.0, 0.0, 0.0, 0.0, 0.0, 0.0, 0.0, 0.0, 0.0, ...</td>\n",
       "      <td>Entity</td>\n",
       "      <td>ORGAN</td>\n",
       "      <td>[-0.07322319597005844, 0.02298489399254322, 0....</td>\n",
       "      <td>[0.015269577503204346, 0.016422420740127563, 0...</td>\n",
       "      <td>[0.0, 0.02111690863966942, 0.00910695362836122...</td>\n",
       "    </tr>\n",
       "    <tr>\n",
       "      <th>...</th>\n",
       "      <td>...</td>\n",
       "      <td>...</td>\n",
       "      <td>...</td>\n",
       "      <td>...</td>\n",
       "      <td>...</td>\n",
       "      <td>...</td>\n",
       "    </tr>\n",
       "    <tr>\n",
       "      <th>candida parapsilosis</th>\n",
       "      <td>[0.0, 0.0, 0.0, 0.0, 0.0, 0.0, 0.0, 0.0, 0.0, ...</td>\n",
       "      <td>Entity</td>\n",
       "      <td>ORGANISM</td>\n",
       "      <td>[0.119646355509758, -0.3787333369255066, 0.051...</td>\n",
       "      <td>[0.032234519720077515, 0.032671838998794556, 0...</td>\n",
       "      <td>[0.0, 0.026741722598671913, 0.0, 0.03041464462...</td>\n",
       "    </tr>\n",
       "    <tr>\n",
       "      <th>ciliated bronchial epithelial cell</th>\n",
       "      <td>[0.0, 0.0, 0.0, 0.0, 0.0, 0.0, 0.0, 0.0, 0.0, ...</td>\n",
       "      <td>Entity</td>\n",
       "      <td>CELL_TYPE</td>\n",
       "      <td>[-0.11820391565561295, -0.16134190559387207, 0...</td>\n",
       "      <td>[0.009313046932220459, 0.008033335208892822, 0...</td>\n",
       "      <td>[0.0, 0.023387573659420013, 0.0086997915059328...</td>\n",
       "    </tr>\n",
       "    <tr>\n",
       "      <th>cystic fibrosis pulmonary exacerbation</th>\n",
       "      <td>[0.0, 0.0, 0.0, 0.0, 0.0, 0.0, 0.0, 0.0, 0.0, ...</td>\n",
       "      <td>Entity</td>\n",
       "      <td>DISEASE</td>\n",
       "      <td>[0.06567505747079849, -0.2529926896095276, 0.0...</td>\n",
       "      <td>[0.0471823513507843, 0.06246209144592285, 0.03...</td>\n",
       "      <td>[0.0, 0.023007649928331375, 0.0, 0.02054181694...</td>\n",
       "    </tr>\n",
       "    <tr>\n",
       "      <th>caax prenyl protease 2</th>\n",
       "      <td>[0.0, 0.0, 0.3198444339599345, 0.0, 0.0, 0.0, ...</td>\n",
       "      <td>Entity</td>\n",
       "      <td>PROTEIN</td>\n",
       "      <td>[-0.07791422307491302, 0.053784679621458054, 0...</td>\n",
       "      <td>[0.026905536651611328, 0.021910756826400757, 0...</td>\n",
       "      <td>[0.0, 0.017998207360506058, 0.0130367819219827...</td>\n",
       "    </tr>\n",
       "    <tr>\n",
       "      <th>transmembrane protease serine 2</th>\n",
       "      <td>[0.0, 0.0, 0.2853086240289885, 0.0, 0.0, 0.0, ...</td>\n",
       "      <td>Entity</td>\n",
       "      <td>PROTEIN</td>\n",
       "      <td>[-0.11273963004350662, -0.08565684407949448, 0...</td>\n",
       "      <td>[0.04233253002166748, 0.03406652808189392, 0.1...</td>\n",
       "      <td>[0.0, 0.01825161650776863, 0.00883962772786617...</td>\n",
       "    </tr>\n",
       "  </tbody>\n",
       "</table>\n",
       "<p>1000 rows × 6 columns</p>\n",
       "</div>"
      ],
      "text/plain": [
       "                                                                                 features  \\\n",
       "@id                                                                                         \n",
       "pulmonary                               [0.0, 0.0, 0.0, 0.0, 0.0, 0.0, 0.0, 0.0, 0.0, ...   \n",
       "host                                    [0.0, 0.0, 0.0, 0.0, 0.0, 0.0, 0.0, 0.0, 0.0, ...   \n",
       "surfactant protein d measurement        [0.0, 0.0, 0.0, 0.0, 0.0, 0.0, 0.0, 0.0, 0.0, ...   \n",
       "microorganism                           [0.0, 0.0, 0.0, 0.0, 0.0, 0.0, 0.0, 0.0, 0.0, ...   \n",
       "lung                                    [0.0, 0.0, 0.0, 0.0, 0.0, 0.0, 0.0, 0.0, 0.0, ...   \n",
       "...                                                                                   ...   \n",
       "candida parapsilosis                    [0.0, 0.0, 0.0, 0.0, 0.0, 0.0, 0.0, 0.0, 0.0, ...   \n",
       "ciliated bronchial epithelial cell      [0.0, 0.0, 0.0, 0.0, 0.0, 0.0, 0.0, 0.0, 0.0, ...   \n",
       "cystic fibrosis pulmonary exacerbation  [0.0, 0.0, 0.0, 0.0, 0.0, 0.0, 0.0, 0.0, 0.0, ...   \n",
       "caax prenyl protease 2                  [0.0, 0.0, 0.3198444339599345, 0.0, 0.0, 0.0, ...   \n",
       "transmembrane protease serine 2         [0.0, 0.0, 0.2853086240289885, 0.0, 0.0, 0.0, ...   \n",
       "\n",
       "                                         @type entity_type  \\\n",
       "@id                                                          \n",
       "pulmonary                               Entity       ORGAN   \n",
       "host                                    Entity    ORGANISM   \n",
       "surfactant protein d measurement        Entity     PROTEIN   \n",
       "microorganism                           Entity    ORGANISM   \n",
       "lung                                    Entity       ORGAN   \n",
       "...                                        ...         ...   \n",
       "candida parapsilosis                    Entity    ORGANISM   \n",
       "ciliated bronchial epithelial cell      Entity   CELL_TYPE   \n",
       "cystic fibrosis pulmonary exacerbation  Entity     DISEASE   \n",
       "caax prenyl protease 2                  Entity     PROTEIN   \n",
       "transmembrane protease serine 2         Entity     PROTEIN   \n",
       "\n",
       "                                                                                 node2vec  \\\n",
       "@id                                                                                         \n",
       "pulmonary                               [0.058199942111968994, 0.14610271155834198, -0...   \n",
       "host                                    [-0.06427627801895142, -0.30984464287757874, 0...   \n",
       "surfactant protein d measurement        [-0.11748885363340378, -0.11227574199438095, 0...   \n",
       "microorganism                           [0.19230332970619202, -0.8941215872764587, 0.0...   \n",
       "lung                                    [-0.07322319597005844, 0.02298489399254322, 0....   \n",
       "...                                                                                   ...   \n",
       "candida parapsilosis                    [0.119646355509758, -0.3787333369255066, 0.051...   \n",
       "ciliated bronchial epithelial cell      [-0.11820391565561295, -0.16134190559387207, 0...   \n",
       "cystic fibrosis pulmonary exacerbation  [0.06567505747079849, -0.2529926896095276, 0.0...   \n",
       "caax prenyl protease 2                  [-0.07791422307491302, 0.053784679621458054, 0...   \n",
       "transmembrane protease serine 2         [-0.11273963004350662, -0.08565684407949448, 0...   \n",
       "\n",
       "                                                                                attri2vec  \\\n",
       "@id                                                                                         \n",
       "pulmonary                               [0.022058159112930298, 0.019829988479614258, 0...   \n",
       "host                                    [0.03038617968559265, 0.05566278100013733, 0.0...   \n",
       "surfactant protein d measurement        [0.035707831382751465, 0.04418954253196716, 0....   \n",
       "microorganism                           [0.04623153805732727, 0.05907624959945679, 0.0...   \n",
       "lung                                    [0.015269577503204346, 0.016422420740127563, 0...   \n",
       "...                                                                                   ...   \n",
       "candida parapsilosis                    [0.032234519720077515, 0.032671838998794556, 0...   \n",
       "ciliated bronchial epithelial cell      [0.009313046932220459, 0.008033335208892822, 0...   \n",
       "cystic fibrosis pulmonary exacerbation  [0.0471823513507843, 0.06246209144592285, 0.03...   \n",
       "caax prenyl protease 2                  [0.026905536651611328, 0.021910756826400757, 0...   \n",
       "transmembrane protease serine 2         [0.04233253002166748, 0.03406652808189392, 0.1...   \n",
       "\n",
       "                                                                                  gcn_dgi  \n",
       "@id                                                                                        \n",
       "pulmonary                               [0.0, 0.018860364332795143, 0.0043135471642017...  \n",
       "host                                    [0.0, 0.02871589921414852, 0.00203686766326427...  \n",
       "surfactant protein d measurement        [0.0, 0.02296564169228077, 0.00784338731318712...  \n",
       "microorganism                           [0.0, 0.04383104294538498, 0.0, 0.039705105125...  \n",
       "lung                                    [0.0, 0.02111690863966942, 0.00910695362836122...  \n",
       "...                                                                                   ...  \n",
       "candida parapsilosis                    [0.0, 0.026741722598671913, 0.0, 0.03041464462...  \n",
       "ciliated bronchial epithelial cell      [0.0, 0.023387573659420013, 0.0086997915059328...  \n",
       "cystic fibrosis pulmonary exacerbation  [0.0, 0.023007649928331375, 0.0, 0.02054181694...  \n",
       "caax prenyl protease 2                  [0.0, 0.017998207360506058, 0.0130367819219827...  \n",
       "transmembrane protease serine 2         [0.0, 0.01825161650776863, 0.00883962772786617...  \n",
       "\n",
       "[1000 rows x 6 columns]"
      ]
     },
     "execution_count": 16,
     "metadata": {},
     "output_type": "execute_result"
    }
   ],
   "source": [
    "transformed_graph.nodes(raw_frame=True)"
   ]
  },
  {
   "cell_type": "markdown",
   "id": "contrary-coffee",
   "metadata": {},
   "source": [
    "### Node similarity"
   ]
  },
  {
   "cell_type": "markdown",
   "id": "nearby-conservation",
   "metadata": {},
   "source": [
    "We would like to be able to search for similar nodes using the computed vector embeddings. For this we can use the `NodeSimilarityProcessor` interfaces provided as a part of `bluegraph`."
   ]
  },
  {
   "cell_type": "markdown",
   "id": "raising-fifty",
   "metadata": {},
   "source": [
    "We construct similarity processors for different embeddings and query top 10 most similar nodes to the terms `glucose` and `covid-19`."
   ]
  },
  {
   "cell_type": "code",
   "execution_count": 18,
   "id": "dietary-running",
   "metadata": {},
   "outputs": [],
   "source": [
    "node2vec_l2 = NodeSimilarityProcessor(transformed_graph, \"node2vec\", similarity=\"euclidean\")\n",
    "node2vec_cosine = NodeSimilarityProcessor(\n",
    "    transformed_graph, \"node2vec\", similarity=\"cosine\")"
   ]
  },
  {
   "cell_type": "code",
   "execution_count": 19,
   "id": "driving-custom",
   "metadata": {},
   "outputs": [
    {
     "data": {
      "text/plain": [
       "{'glucose': {'glucose': 0.0,\n",
       "  'obesity': 0.024657082,\n",
       "  'insulin': 0.027283816,\n",
       "  'vascular disorder': 0.032074038,\n",
       "  'hyperglycemia': 0.034703307,\n",
       "  'high density lipoprotein': 0.0394917,\n",
       "  'metabolic disorder': 0.04257843,\n",
       "  'nonalcoholic fatty liver disease': 0.045563146,\n",
       "  'triglycerides': 0.046047315,\n",
       "  'angiotensin-converting enzyme': 0.046518676},\n",
       " 'covid-19': {'covid-19': 0.0,\n",
       "  'coronavirus': 0.018573485,\n",
       "  'catecholamine': 0.08507119,\n",
       "  'cardiac valve injury': 0.08957823,\n",
       "  'person': 0.09138094,\n",
       "  'diabetic ketoacidosis': 0.096787885,\n",
       "  'middle east respiratory syndrome': 0.10105667,\n",
       "  'lung disorder': 0.10322104,\n",
       "  'hypoglycemia': 0.10616878,\n",
       "  'troponin i, cardiac muscle': 0.10721621}}"
      ]
     },
     "execution_count": 19,
     "metadata": {},
     "output_type": "execute_result"
    }
   ],
   "source": [
    "node2vec_l2.get_similar_nodes([\"glucose\", \"covid-19\"], k=10)"
   ]
  },
  {
   "cell_type": "code",
   "execution_count": 20,
   "id": "sized-spyware",
   "metadata": {},
   "outputs": [
    {
     "data": {
      "text/plain": [
       "{'glucose': {'glucose': 1.0,\n",
       "  'obesity': 0.9949844,\n",
       "  'insulin': 0.99460316,\n",
       "  'vascular disorder': 0.9930061,\n",
       "  'triglycerides': 0.9929766,\n",
       "  'nonalcoholic fatty liver disease': 0.99250674,\n",
       "  'hyperglycemia': 0.9924481,\n",
       "  'metabolic disorder': 0.9922365,\n",
       "  'high density lipoprotein': 0.99159557,\n",
       "  'angiotensin-converting enzyme': 0.9899549},\n",
       " 'covid-19': {'covid-19': 1.0000001,\n",
       "  'coronavirus': 0.9966542,\n",
       "  'cardiac valve injury': 0.9889957,\n",
       "  'troponin i, cardiac muscle': 0.9875988,\n",
       "  'c-reactive protein': 0.9869299,\n",
       "  'fatal': 0.9852569,\n",
       "  'person': 0.98402774,\n",
       "  'catecholamine': 0.9831245,\n",
       "  'diabetic ketoacidosis': 0.98299456,\n",
       "  'n-terminal fragment brain natriuretic protein': 0.98261017}}"
      ]
     },
     "execution_count": 20,
     "metadata": {},
     "output_type": "execute_result"
    }
   ],
   "source": [
    "node2vec_cosine.get_similar_nodes([\"glucose\", \"covid-19\"], k=10)"
   ]
  },
  {
   "cell_type": "code",
   "execution_count": 21,
   "id": "graduate-direction",
   "metadata": {},
   "outputs": [],
   "source": [
    "attri2vec_l2 = NodeSimilarityProcessor(transformed_graph, \"attri2vec\")\n",
    "attri2vec_cosine = NodeSimilarityProcessor(\n",
    "    transformed_graph, \"attri2vec\", similarity=\"cosine\")"
   ]
  },
  {
   "cell_type": "code",
   "execution_count": 22,
   "id": "generic-jaguar",
   "metadata": {},
   "outputs": [
    {
     "data": {
      "text/plain": [
       "{'glucose': {'glucose': 0.0,\n",
       "  'aggregation': 0.021461695,\n",
       "  'dna': 0.023853727,\n",
       "  'undifferentiated pleomorphic sarcoma, inflammatory variant': 0.025215067,\n",
       "  'digestion': 0.025289385,\n",
       "  'acid': 0.025814142,\n",
       "  'adenosine': 0.025855444,\n",
       "  'embryo': 0.025894884,\n",
       "  'thyroid gland': 0.026511166,\n",
       "  'excision': 0.026981559},\n",
       " 'covid-19': {'covid-19': 0.0,\n",
       "  'pleural effusion': 0.0006802912,\n",
       "  'anemia': 0.0006830017,\n",
       "  'autoimmune disease': 0.0007813163,\n",
       "  'cystic fibrosis': 0.00087290554,\n",
       "  'vasculitis': 0.0008763613,\n",
       "  'liver failure': 0.0009016517,\n",
       "  'systemic inflammatory response syndrome': 0.00094110286,\n",
       "  'dopamine': 0.0009539187,\n",
       "  'respiratory failure': 0.0010581961}}"
      ]
     },
     "execution_count": 22,
     "metadata": {},
     "output_type": "execute_result"
    }
   ],
   "source": [
    "attri2vec_l2.get_similar_nodes([\"glucose\", \"covid-19\"], k=10)"
   ]
  },
  {
   "cell_type": "code",
   "execution_count": 23,
   "id": "funky-today",
   "metadata": {
    "scrolled": true
   },
   "outputs": [
    {
     "data": {
      "text/plain": [
       "{'glucose': {'glucose': 1.0,\n",
       "  'metal': 0.97050047,\n",
       "  'aggregation': 0.96850204,\n",
       "  'degradation': 0.9671387,\n",
       "  'hydrophobicity': 0.96706814,\n",
       "  'formation': 0.9666637,\n",
       "  'epithelial': 0.96641994,\n",
       "  'acid': 0.9661392,\n",
       "  'autosome': 0.9657872,\n",
       "  'base': 0.96562},\n",
       " 'covid-19': {'covid-19': 1.0,\n",
       "  'middle east respiratory syndrome': 0.9787885,\n",
       "  'severe acute respiratory syndrome': 0.9759722,\n",
       "  'wheezing': 0.9720144,\n",
       "  'viral respiratory tract infection': 0.9716125,\n",
       "  'systemic inflammatory response syndrome': 0.9667535,\n",
       "  'pulmonary': 0.96416664,\n",
       "  'dyspnea': 0.9639136,\n",
       "  'asthma': 0.96206,\n",
       "  'respiratory failure, ctcae': 0.9616722}}"
      ]
     },
     "execution_count": 23,
     "metadata": {},
     "output_type": "execute_result"
    }
   ],
   "source": [
    "attri2vec_cosine.get_similar_nodes([\"glucose\", \"covid-19\"], k=10)"
   ]
  },
  {
   "cell_type": "code",
   "execution_count": 24,
   "id": "average-layout",
   "metadata": {},
   "outputs": [],
   "source": [
    "gcn_l2 = NodeSimilarityProcessor(transformed_graph, \"gcn_dgi\")\n",
    "gcn_cosine = NodeSimilarityProcessor(\n",
    "    transformed_graph, \"gcn_dgi\", similarity=\"cosine\")"
   ]
  },
  {
   "cell_type": "code",
   "execution_count": 25,
   "id": "colonial-senator",
   "metadata": {},
   "outputs": [
    {
     "data": {
      "text/plain": [
       "{'glucose': {'glucose': 0.0,\n",
       "  'glucose tolerance test': 0.0033582333,\n",
       "  'insulin': 0.0036404473,\n",
       "  'high density lipoprotein': 0.0038155522,\n",
       "  'triglycerides': 0.004127929,\n",
       "  'organic phosphate': 0.004997046,\n",
       "  'cholesterol': 0.0055623124,\n",
       "  'citrate': 0.006085644,\n",
       "  'uric acid': 0.006244778,\n",
       "  'serum protein': 0.006598945},\n",
       " 'covid-19': {'covid-19': 0.0,\n",
       "  'coronavirus': 0.000899521,\n",
       "  'acute respiratory distress syndrome': 0.0024894448,\n",
       "  'fatal': 0.0025519214,\n",
       "  'sars-cov-2': 0.0043987706,\n",
       "  'severe acute respiratory syndrome': 0.004473505,\n",
       "  'myocarditis': 0.004814123,\n",
       "  'angiotensin ii receptor antagonist': 0.004987154,\n",
       "  'middle east respiratory syndrome': 0.005641263,\n",
       "  'cardiac valve injury': 0.005660265}}"
      ]
     },
     "execution_count": 25,
     "metadata": {},
     "output_type": "execute_result"
    }
   ],
   "source": [
    "gcn_l2.get_similar_nodes([\"glucose\", \"covid-19\"], k=10)"
   ]
  },
  {
   "cell_type": "code",
   "execution_count": 26,
   "id": "promising-property",
   "metadata": {
    "scrolled": true
   },
   "outputs": [
    {
     "data": {
      "text/plain": [
       "{'glucose': {'glucose': 1.0,\n",
       "  'insulin': 0.98022723,\n",
       "  'cholesterol': 0.9793629,\n",
       "  'triglycerides': 0.979231,\n",
       "  'glucose tolerance test': 0.9781836,\n",
       "  'high density lipoprotein': 0.97648215,\n",
       "  'low density lipoprotein': 0.970876,\n",
       "  'organic phosphate': 0.9690872,\n",
       "  'calcium': 0.9683775,\n",
       "  'plasma': 0.9681946},\n",
       " 'covid-19': {'covid-19': 1.0000001,\n",
       "  'coronavirus': 0.99556243,\n",
       "  'acute respiratory distress syndrome': 0.9885864,\n",
       "  'fatal': 0.9881703,\n",
       "  'severe acute respiratory syndrome': 0.97803414,\n",
       "  'sars-cov-2': 0.9779138,\n",
       "  'myocarditis': 0.9763925,\n",
       "  'angiotensin ii receptor antagonist': 0.9763065,\n",
       "  'cardiac valve injury': 0.9716424,\n",
       "  'middle east respiratory syndrome': 0.97150135}}"
      ]
     },
     "execution_count": 26,
     "metadata": {},
     "output_type": "execute_result"
    }
   ],
   "source": [
    "gcn_cosine.get_similar_nodes([\"glucose\", \"covid-19\"], k=10)"
   ]
  },
  {
   "cell_type": "markdown",
   "id": "useful-highland",
   "metadata": {},
   "source": [
    "### Node classification\n",
    "\n",
    "Another downstream task that we would like to perform is node classification. We would like to automatically assign entity types according to their node embeddings. For this we will build predictive models for entity type prediction based on:\n",
    "\n",
    "- Only node features\n",
    "- Node2vec embeddings (only structure)\n",
    "- Attri2vec embeddings (structure and node features)\n",
    "- GCN Deep Graph Infomax embeddings (structure and node features)"
   ]
  },
  {
   "cell_type": "markdown",
   "id": "recovered-assault",
   "metadata": {},
   "source": [
    "First of all, we split the graph nodes into the train and the test sets."
   ]
  },
  {
   "cell_type": "code",
   "execution_count": 28,
   "id": "opponent-tonight",
   "metadata": {},
   "outputs": [],
   "source": [
    "train_nodes, test_nodes = model_selection.train_test_split(\n",
    "    transformed_graph.nodes(), train_size=0.8)"
   ]
  },
  {
   "cell_type": "markdown",
   "id": "brazilian-disability",
   "metadata": {},
   "source": [
    "Now we use the `NodeClassifier` interface to create our classification models. As the base model we will use the linear SVM classifier (`LinearSVC`) provided by `scikit-learn`."
   ]
  },
  {
   "cell_type": "code",
   "execution_count": 29,
   "id": "separate-quilt",
   "metadata": {},
   "outputs": [],
   "source": [
    "features_classifier = NodeClassifier(LinearSVC(), feature_vector_prop=\"features\")\n",
    "features_classifier.fit(transformed_graph, train_elements=train_nodes, label_prop=\"entity_type\")\n",
    "features_pred = features_classifier.predict(transformed_graph, predict_elements=test_nodes)"
   ]
  },
  {
   "cell_type": "code",
   "execution_count": 30,
   "id": "spectacular-vocabulary",
   "metadata": {},
   "outputs": [],
   "source": [
    "node2vec_classifier = NodeClassifier(LinearSVC(), feature_vector_prop=\"node2vec\")\n",
    "node2vec_classifier.fit(transformed_graph, train_elements=train_nodes, label_prop=\"entity_type\")\n",
    "node2vec_pred = node2vec_classifier.predict(transformed_graph, predict_elements=test_nodes)"
   ]
  },
  {
   "cell_type": "code",
   "execution_count": 31,
   "id": "british-scratch",
   "metadata": {},
   "outputs": [
    {
     "name": "stderr",
     "output_type": "stream",
     "text": [
      "/Users/oshurko/opt/anaconda3/envs/bluegraph/lib/python3.6/site-packages/sklearn/svm/_base.py:986: ConvergenceWarning: Liblinear failed to converge, increase the number of iterations.\n",
      "  \"the number of iterations.\", ConvergenceWarning)\n"
     ]
    }
   ],
   "source": [
    "attri2vec_classifier = NodeClassifier(LinearSVC(), feature_vector_prop=\"attri2vec\")\n",
    "attri2vec_classifier.fit(transformed_graph, train_elements=train_nodes, label_prop=\"entity_type\")\n",
    "attri2vec_pred = attri2vec_classifier.predict(transformed_graph, predict_elements=test_nodes)"
   ]
  },
  {
   "cell_type": "code",
   "execution_count": 32,
   "id": "altered-settlement",
   "metadata": {},
   "outputs": [],
   "source": [
    "gcn_dgi_classifier = NodeClassifier(LinearSVC(), feature_vector_prop=\"gcn_dgi\")\n",
    "gcn_dgi_classifier.fit(transformed_graph, train_elements=train_nodes, label_prop=\"entity_type\")\n",
    "gcn_dgi_pred = gcn_dgi_classifier.predict(transformed_graph, predict_elements=test_nodes)"
   ]
  },
  {
   "cell_type": "markdown",
   "id": "restricted-multiple",
   "metadata": {},
   "source": [
    "Let us have a look at the scores of different node classification models we have produced."
   ]
  },
  {
   "cell_type": "code",
   "execution_count": 33,
   "id": "simple-bhutan",
   "metadata": {},
   "outputs": [],
   "source": [
    "true_labels = transformed_graph._nodes.loc[test_nodes, \"entity_type\"]"
   ]
  },
  {
   "cell_type": "code",
   "execution_count": 34,
   "id": "sonic-louisville",
   "metadata": {
    "scrolled": true
   },
   "outputs": [
    {
     "data": {
      "text/plain": [
       "{'accuracy': 0.53,\n",
       " 'precision': 0.53,\n",
       " 'recall': 0.53,\n",
       " 'f1_score': 0.53,\n",
       " 'roc_auc_score': 0.7596807989462514}"
      ]
     },
     "execution_count": 34,
     "metadata": {},
     "output_type": "execute_result"
    }
   ],
   "source": [
    "get_classification_scores(true_labels, features_pred, multiclass=True)"
   ]
  },
  {
   "cell_type": "code",
   "execution_count": 35,
   "id": "timely-testing",
   "metadata": {},
   "outputs": [
    {
     "data": {
      "text/plain": [
       "{'accuracy': 0.41,\n",
       " 'precision': 0.41,\n",
       " 'recall': 0.41,\n",
       " 'f1_score': 0.41,\n",
       " 'roc_auc_score': 0.7038196450707648}"
      ]
     },
     "execution_count": 35,
     "metadata": {},
     "output_type": "execute_result"
    }
   ],
   "source": [
    "get_classification_scores(true_labels, node2vec_pred, multiclass=True)"
   ]
  },
  {
   "cell_type": "code",
   "execution_count": 36,
   "id": "indie-interstate",
   "metadata": {},
   "outputs": [
    {
     "data": {
      "text/plain": [
       "{'accuracy': 0.445,\n",
       " 'precision': 0.445,\n",
       " 'recall': 0.445,\n",
       " 'f1_score': 0.445,\n",
       " 'roc_auc_score': 0.7206422024278101}"
      ]
     },
     "execution_count": 36,
     "metadata": {},
     "output_type": "execute_result"
    }
   ],
   "source": [
    "get_classification_scores(true_labels, attri2vec_pred, multiclass=True)"
   ]
  },
  {
   "cell_type": "code",
   "execution_count": 37,
   "id": "forced-printing",
   "metadata": {},
   "outputs": [
    {
     "data": {
      "text/plain": [
       "{'accuracy': 0.4,\n",
       " 'precision': 0.4,\n",
       " 'recall': 0.4,\n",
       " 'f1_score': 0.4000000000000001,\n",
       " 'roc_auc_score': 0.7005318509498862}"
      ]
     },
     "execution_count": 37,
     "metadata": {},
     "output_type": "execute_result"
    }
   ],
   "source": [
    "get_classification_scores(true_labels, gcn_dgi_pred, multiclass=True)"
   ]
  },
  {
   "cell_type": "markdown",
   "id": "unexpected-harvard",
   "metadata": {},
   "source": [
    "## Link prediction"
   ]
  },
  {
   "cell_type": "markdown",
   "id": "german-operator",
   "metadata": {},
   "source": [
    "Finally, we would like to use the produced node embeddings to predict the existance of edges. This downstream task is formulated as follows: given a pair of nodes and their embedding vectors, is there an edge between these nodes?"
   ]
  },
  {
   "cell_type": "markdown",
   "id": "varying-energy",
   "metadata": {},
   "source": [
    "As the first step of the edges prediciton task we will generate false edges for training (node pairs that don't have edges between them)."
   ]
  },
  {
   "cell_type": "code",
   "execution_count": 39,
   "id": "extended-immigration",
   "metadata": {},
   "outputs": [],
   "source": [
    "false_edges = generate_negative_edges(transformed_graph)"
   ]
  },
  {
   "cell_type": "markdown",
   "id": "serious-brazilian",
   "metadata": {},
   "source": [
    "We will now split both true and false edges into training and test sets."
   ]
  },
  {
   "cell_type": "code",
   "execution_count": 40,
   "id": "heated-mississippi",
   "metadata": {},
   "outputs": [],
   "source": [
    "true_train_edges, true_test_edges = model_selection.train_test_split(\n",
    "    transformed_graph.edges(), train_size=0.8)"
   ]
  },
  {
   "cell_type": "code",
   "execution_count": 41,
   "id": "introductory-duncan",
   "metadata": {},
   "outputs": [],
   "source": [
    "false_train_edges, false_test_edges = model_selection.train_test_split(\n",
    "    false_edges, train_size=0.8)"
   ]
  },
  {
   "cell_type": "markdown",
   "id": "cardiovascular-baseball",
   "metadata": {},
   "source": [
    "And, finally, we will use the `EdgePredictor` interface to build our model (using `LinearSVC` as before and the Hadamard product as the binary operator between the embedding vectors for the source and the target nodes."
   ]
  },
  {
   "cell_type": "code",
   "execution_count": 42,
   "id": "devoted-plaza",
   "metadata": {},
   "outputs": [],
   "source": [
    "model = EdgePredictor(LinearSVC(), feature_vector_prop=\"node2vec\",\n",
    "                      operator=\"hadamard\", directed=False)\n",
    "model.fit(transformed_graph, true_train_edges, negative_samples=false_train_edges)"
   ]
  },
  {
   "cell_type": "code",
   "execution_count": 43,
   "id": "changed-policy",
   "metadata": {},
   "outputs": [],
   "source": [
    "true_labels = np.hstack([\n",
    "    np.ones(len(true_test_edges)),\n",
    "    np.zeros(len(false_test_edges))])"
   ]
  },
  {
   "cell_type": "code",
   "execution_count": 44,
   "id": "adapted-procedure",
   "metadata": {},
   "outputs": [],
   "source": [
    "y_pred = model.predict(transformed_graph, true_test_edges + false_test_edges)"
   ]
  },
  {
   "cell_type": "markdown",
   "id": "center-installation",
   "metadata": {},
   "source": [
    "Let us have a look at the obtained scores."
   ]
  },
  {
   "cell_type": "code",
   "execution_count": 45,
   "id": "inclusive-forwarding",
   "metadata": {
    "scrolled": true
   },
   "outputs": [
    {
     "data": {
      "text/plain": [
       "{'accuracy': 0.7367616371562571,\n",
       " 'precision': 0.7367616371562571,\n",
       " 'recall': 0.7367616371562571,\n",
       " 'f1_score': 0.7367616371562571,\n",
       " 'roc_auc_score': 0.6447396928370788}"
      ]
     },
     "execution_count": 45,
     "metadata": {},
     "output_type": "execute_result"
    }
   ],
   "source": [
    "get_classification_scores(true_labels, y_pred)"
   ]
  },
  {
   "cell_type": "markdown",
   "id": "indian-layout",
   "metadata": {},
   "source": [
    "## Creating and saving embedding pipelines\n",
    "\n",
    "`bluegraph` allows to create emebedding pipelines (using the `EmbeddingPipeline` class) that represent a useful wrapper around a sequence of step necessary to produce embeddings and compute point similarities. In the example below we create a pipeline for producing `attri2vec` node embeddings and computing their cosine similarity."
   ]
  },
  {
   "cell_type": "markdown",
   "id": "minor-tomato",
   "metadata": {},
   "source": [
    "We first create an encoder object that will be used in our pipeline as a preprocessing step."
   ]
  },
  {
   "cell_type": "code",
   "execution_count": 3,
   "id": "biblical-employment",
   "metadata": {},
   "outputs": [],
   "source": [
    "definition_encoder = ScikitLearnPGEncoder(\n",
    "    node_properties=[\"definition\"], text_encoding_max_dimension=512)"
   ]
  },
  {
   "cell_type": "markdown",
   "id": "suburban-brooklyn",
   "metadata": {},
   "source": [
    "We then create an embedder object."
   ]
  },
  {
   "cell_type": "code",
   "execution_count": 16,
   "id": "athletic-magnitude",
   "metadata": {},
   "outputs": [],
   "source": [
    "D = 128\n",
    "params = {\n",
    "    \"length\": 5,\n",
    "    \"number_of_walks\": 10,\n",
    "    \"epochs\": 5,\n",
    "    \"embedding_dimension\": D\n",
    "}\n",
    "attri2vec_embedder = StellarGraphNodeEmbedder(\n",
    "    \"attri2vec\", feature_vector_prop=\"features\", edge_weight=\"npmi\", **params)"
   ]
  },
  {
   "cell_type": "markdown",
   "id": "quick-tennis",
   "metadata": {},
   "source": [
    "And finally we create a pipeline object. Note that in the code below we use the `SimilarityProcessor` interface and not `NodeSimilarityProcessor` as we have done it previously. We use this lower abstraction level interface, because the `EmbeddingPipeline` is designed to work with any embedding models (not only node embedding models)."
   ]
  },
  {
   "cell_type": "code",
   "execution_count": 17,
   "id": "phantom-magnet",
   "metadata": {},
   "outputs": [],
   "source": [
    "attri2vec_pipeline = EmbeddingPipeline(\n",
    "    preprocessor=definition_encoder,\n",
    "    embedder=attri2vec_embedder,\n",
    "    similarity_processor=SimilarityProcessor(similarity=\"cosine\", dimension=D))"
   ]
  },
  {
   "cell_type": "markdown",
   "id": "placed-latest",
   "metadata": {},
   "source": [
    "We run the fitting process, which given the input data:\n",
    "1. fits the encoder\n",
    "2. transforms the data\n",
    "3. fits the embedder\n",
    "4. produces the embedding table\n",
    "5. fits the similarity processor index"
   ]
  },
  {
   "cell_type": "code",
   "execution_count": 6,
   "id": "distinct-nation",
   "metadata": {},
   "outputs": [
    {
     "name": "stdout",
     "output_type": "stream",
     "text": [
      "link_classification: using 'ip' method to combine node embeddings into edge embeddings\n"
     ]
    }
   ],
   "source": [
    "attri2vec_pipeline.run_fitting(graph)"
   ]
  },
  {
   "cell_type": "markdown",
   "id": "express-mineral",
   "metadata": {},
   "source": [
    "How we can save our pipeline to the file system."
   ]
  },
  {
   "cell_type": "code",
   "execution_count": 7,
   "id": "satisfied-senegal",
   "metadata": {},
   "outputs": [
    {
     "name": "stdout",
     "output_type": "stream",
     "text": [
      "INFO:tensorflow:Assets written to: ../../BlueBrainEmbedder/models/attri2vec_test_model/embedder/model/assets\n"
     ]
    }
   ],
   "source": [
    "attri2vec_pipeline.save(\n",
    "    \"../../BlueBrainEmbedder/models/attri2vec_test_model\",\n",
    "    compress=True)"
   ]
  },
  {
   "cell_type": "markdown",
   "id": "living-visitor",
   "metadata": {},
   "source": [
    "And we can load the pipeline back into memory:"
   ]
  },
  {
   "cell_type": "code",
   "execution_count": 18,
   "id": "republican-interstate",
   "metadata": {},
   "outputs": [],
   "source": [
    "pipeline = EmbeddingPipeline.load(\n",
    "    \"../../BlueBrainEmbedder/models/attri2vec_test_model.zip\",\n",
    "    embedder_interface=GraphElementEmbedder,\n",
    "    embedder_ext=\"zip\")"
   ]
  },
  {
   "cell_type": "markdown",
   "id": "located-regular",
   "metadata": {},
   "source": [
    "We can use `retrieve_embeddings` and `get_similar_points` methods of the pipeline object to respectively get embedding vectors and top most similar nodes for the input nodes."
   ]
  },
  {
   "cell_type": "code",
   "execution_count": 22,
   "id": "bigger-philosophy",
   "metadata": {},
   "outputs": [
    {
     "data": {
      "text/plain": [
       "[[0.029623359441757202,\n",
       "  0.023537278175354004,\n",
       "  0.024319171905517578,\n",
       "  0.024620652198791504,\n",
       "  0.02817395329475403,\n",
       "  0.02425360679626465,\n",
       "  0.024932682514190674,\n",
       "  0.019140541553497314,\n",
       "  0.028304308652877808,\n",
       "  0.02664545178413391,\n",
       "  0.021070539951324463,\n",
       "  0.02607104182243347,\n",
       "  0.02721339464187622,\n",
       "  0.02756527066230774,\n",
       "  0.021632134914398193,\n",
       "  0.0284273624420166,\n",
       "  0.018631428480148315,\n",
       "  0.02770298719406128,\n",
       "  0.022368431091308594,\n",
       "  0.026864826679229736,\n",
       "  0.034454673528671265,\n",
       "  0.02783811092376709,\n",
       "  0.01671704649925232,\n",
       "  0.021527260541915894,\n",
       "  0.028066307306289673,\n",
       "  0.02377992868423462,\n",
       "  0.023289978504180908,\n",
       "  0.032778024673461914,\n",
       "  0.02355477213859558,\n",
       "  0.02976474165916443,\n",
       "  0.023018091917037964,\n",
       "  0.021784305572509766,\n",
       "  0.02232244610786438,\n",
       "  0.022601783275604248,\n",
       "  0.02480250597000122,\n",
       "  0.02384042739868164,\n",
       "  0.02109050750732422,\n",
       "  0.02449852228164673,\n",
       "  0.02510356903076172,\n",
       "  0.02391582727432251,\n",
       "  0.024091094732284546,\n",
       "  0.02578127384185791,\n",
       "  0.02583429217338562,\n",
       "  0.025818467140197754,\n",
       "  0.02436688542366028,\n",
       "  0.024679630994796753,\n",
       "  0.021570712327957153,\n",
       "  0.03094923496246338,\n",
       "  0.019329816102981567,\n",
       "  0.027065396308898926,\n",
       "  0.017208367586135864,\n",
       "  0.021718323230743408,\n",
       "  0.02394816279411316,\n",
       "  0.027932852506637573,\n",
       "  0.033914804458618164,\n",
       "  0.032806336879730225,\n",
       "  0.03347626328468323,\n",
       "  0.018677890300750732,\n",
       "  0.02506357431411743,\n",
       "  0.027891218662261963,\n",
       "  0.024520963430404663,\n",
       "  0.026011884212493896,\n",
       "  0.017185628414154053,\n",
       "  0.02610468864440918,\n",
       "  0.02220866084098816,\n",
       "  0.018988877534866333,\n",
       "  0.023510068655014038,\n",
       "  0.026179462671279907,\n",
       "  0.02141985297203064,\n",
       "  0.03112432360649109,\n",
       "  0.019532769918441772,\n",
       "  0.0290071964263916,\n",
       "  0.028169840574264526,\n",
       "  0.034025102853775024,\n",
       "  0.03894200921058655,\n",
       "  0.03745555877685547,\n",
       "  0.016961127519607544,\n",
       "  0.030751943588256836,\n",
       "  0.026255249977111816,\n",
       "  0.021966099739074707,\n",
       "  0.032582998275756836,\n",
       "  0.0347270667552948,\n",
       "  0.020705848932266235,\n",
       "  0.02426770329475403,\n",
       "  0.020763248205184937,\n",
       "  0.02415364980697632,\n",
       "  0.03574642539024353,\n",
       "  0.02191069722175598,\n",
       "  0.026481330394744873,\n",
       "  0.030741333961486816,\n",
       "  0.02112683653831482,\n",
       "  0.03405371308326721,\n",
       "  0.02607560157775879,\n",
       "  0.021546989679336548,\n",
       "  0.038871169090270996,\n",
       "  0.019922882318496704,\n",
       "  0.022552907466888428,\n",
       "  0.02844223380088806,\n",
       "  0.03565981984138489,\n",
       "  0.027328431606292725,\n",
       "  0.029098957777023315,\n",
       "  0.029733330011367798,\n",
       "  0.02934575080871582,\n",
       "  0.031148910522460938,\n",
       "  0.02515733242034912,\n",
       "  0.02755090594291687,\n",
       "  0.02835315465927124,\n",
       "  0.03470674157142639,\n",
       "  0.032169848680496216,\n",
       "  0.03460875153541565,\n",
       "  0.02156198024749756,\n",
       "  0.018497228622436523,\n",
       "  0.03379502892494202,\n",
       "  0.026913315057754517,\n",
       "  0.024515360593795776,\n",
       "  0.02670276165008545,\n",
       "  0.035789161920547485,\n",
       "  0.017194271087646484,\n",
       "  0.023926138877868652,\n",
       "  0.023676961660385132,\n",
       "  0.020517677068710327,\n",
       "  0.02218267321586609,\n",
       "  0.030961543321609497,\n",
       "  0.02244052290916443,\n",
       "  0.03259965777397156,\n",
       "  0.03162628412246704,\n",
       "  0.022999972105026245,\n",
       "  0.03756117820739746],\n",
       " [0.07423317432403564,\n",
       "  0.10543516278266907,\n",
       "  0.09801852703094482,\n",
       "  0.09316202998161316,\n",
       "  0.10324904322624207,\n",
       "  0.08987215161323547,\n",
       "  0.07920193672180176,\n",
       "  0.12363389134407043,\n",
       "  0.09296783804893494,\n",
       "  0.09478810429573059,\n",
       "  0.09055781364440918,\n",
       "  0.09874185919761658,\n",
       "  0.09867215156555176,\n",
       "  0.09987837076187134,\n",
       "  0.11326509714126587,\n",
       "  0.094265878200531,\n",
       "  0.08728030323982239,\n",
       "  0.1268247663974762,\n",
       "  0.0920516848564148,\n",
       "  0.10568270087242126,\n",
       "  0.09393173456192017,\n",
       "  0.09667369723320007,\n",
       "  0.12644049525260925,\n",
       "  0.10250291228294373,\n",
       "  0.07765215635299683,\n",
       "  0.10329526662826538,\n",
       "  0.10717537999153137,\n",
       "  0.07575136423110962,\n",
       "  0.09105095267295837,\n",
       "  0.09386685490608215,\n",
       "  0.082964688539505,\n",
       "  0.11471393704414368,\n",
       "  0.07420986890792847,\n",
       "  0.08392813801765442,\n",
       "  0.09507393836975098,\n",
       "  0.0859331488609314,\n",
       "  0.10537287592887878,\n",
       "  0.1274155080318451,\n",
       "  0.09273049235343933,\n",
       "  0.07673698663711548,\n",
       "  0.09644973278045654,\n",
       "  0.09977662563323975,\n",
       "  0.08264225721359253,\n",
       "  0.08657088875770569,\n",
       "  0.10692045092582703,\n",
       "  0.10900852084159851,\n",
       "  0.077717125415802,\n",
       "  0.09864917397499084,\n",
       "  0.07843127846717834,\n",
       "  0.09477630257606506,\n",
       "  0.09569299221038818,\n",
       "  0.0701475441455841,\n",
       "  0.08918136358261108,\n",
       "  0.09095239639282227,\n",
       "  0.0739283561706543,\n",
       "  0.08707660436630249,\n",
       "  0.08816832304000854,\n",
       "  0.10693204402923584,\n",
       "  0.09185349941253662,\n",
       "  0.07763916254043579,\n",
       "  0.11802342534065247,\n",
       "  0.1256217658519745,\n",
       "  0.09240511059761047,\n",
       "  0.08465752005577087,\n",
       "  0.1381533145904541,\n",
       "  0.11699685454368591,\n",
       "  0.09639397263526917,\n",
       "  0.09459605813026428,\n",
       "  0.09189561009407043,\n",
       "  0.10131677985191345,\n",
       "  0.10960030555725098,\n",
       "  0.1311710774898529,\n",
       "  0.10847470164299011,\n",
       "  0.09591090679168701,\n",
       "  0.11377376317977905,\n",
       "  0.10122811794281006,\n",
       "  0.10246145725250244,\n",
       "  0.11288946866989136,\n",
       "  0.08687445521354675,\n",
       "  0.08709985017776489,\n",
       "  0.09106522798538208,\n",
       "  0.07066875696182251,\n",
       "  0.10205641388893127,\n",
       "  0.06927210092544556,\n",
       "  0.1084958016872406,\n",
       "  0.10859093070030212,\n",
       "  0.098316490650177,\n",
       "  0.10003718733787537,\n",
       "  0.08851954340934753,\n",
       "  0.10446804761886597,\n",
       "  0.10163134336471558,\n",
       "  0.10669967532157898,\n",
       "  0.0991678237915039,\n",
       "  0.08868163824081421,\n",
       "  0.09061834216117859,\n",
       "  0.10499826073646545,\n",
       "  0.10664445161819458,\n",
       "  0.08080387115478516,\n",
       "  0.1039903461933136,\n",
       "  0.10994395613670349,\n",
       "  0.07847359776496887,\n",
       "  0.13027673959732056,\n",
       "  0.0988607406616211,\n",
       "  0.07864931225776672,\n",
       "  0.09627068042755127,\n",
       "  0.07770571112632751,\n",
       "  0.12104964256286621,\n",
       "  0.09153753519058228,\n",
       "  0.11856213212013245,\n",
       "  0.0864655077457428,\n",
       "  0.07438322901725769,\n",
       "  0.07255199551582336,\n",
       "  0.1113027036190033,\n",
       "  0.09839770197868347,\n",
       "  0.09138032793998718,\n",
       "  0.12138929963111877,\n",
       "  0.0919623076915741,\n",
       "  0.1112293004989624,\n",
       "  0.13114678859710693,\n",
       "  0.09621837735176086,\n",
       "  0.11826178431510925,\n",
       "  0.13376176357269287,\n",
       "  0.09010165929794312,\n",
       "  0.14800256490707397,\n",
       "  0.10800451040267944,\n",
       "  0.09908166527748108,\n",
       "  0.10887739062309265,\n",
       "  0.09629395604133606]]"
      ]
     },
     "execution_count": 22,
     "metadata": {},
     "output_type": "execute_result"
    }
   ],
   "source": [
    "pipeline.retrieve_embeddings([\"covid-19\", \"glucose\"])"
   ]
  },
  {
   "cell_type": "code",
   "execution_count": 23,
   "id": "architectural-watch",
   "metadata": {},
   "outputs": [
    {
     "data": {
      "text/plain": [
       "([Index(['covid-19', 'middle east respiratory syndrome',\n",
       "         'severe acute respiratory syndrome', 'dyspnea', 'asthma'],\n",
       "        dtype='object', name='@id'),\n",
       "  Index(['glucose', 'fatigue', 'hydrophobicity', 'pruritus',\n",
       "         'congenital abnormality'],\n",
       "        dtype='object', name='@id')],\n",
       " array([[1.0000001 , 0.990842  , 0.9890994 , 0.9888878 , 0.98887044],\n",
       "        [1.        , 0.99028957, 0.9881565 , 0.9877604 , 0.9877604 ]],\n",
       "       dtype=float32))"
      ]
     },
     "execution_count": 23,
     "metadata": {},
     "output_type": "execute_result"
    }
   ],
   "source": [
    "pipeline.get_similar_points([\"covid-19\", \"glucose\"], k=5)"
   ]
  }
 ],
 "metadata": {
  "kernelspec": {
   "display_name": "bluegraph",
   "language": "python",
   "name": "bluegraph"
  },
  "language_info": {
   "codemirror_mode": {
    "name": "ipython",
    "version": 3
   },
   "file_extension": ".py",
   "mimetype": "text/x-python",
   "name": "python",
   "nbconvert_exporter": "python",
   "pygments_lexer": "ipython3",
   "version": "3.6.12"
  }
 },
 "nbformat": 4,
 "nbformat_minor": 5
}
