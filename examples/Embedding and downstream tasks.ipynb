{
 "cells": [
  {
   "cell_type": "code",
   "execution_count": 1,
   "id": "institutional-flexibility",
   "metadata": {},
   "outputs": [],
   "source": [
    "import pandas as pd\n",
    "\n",
    "from bluegraph.core import PandasPGFrame\n",
    "from bluegraph.preprocess.generators import CooccurrenceGenerator\n",
    "from bluegraph.preprocess.encoders import ScikitLearnPGEncoder"
   ]
  },
  {
   "cell_type": "markdown",
   "id": "heated-graduate",
   "metadata": {},
   "source": [
    "# Data preparation"
   ]
  },
  {
   "cell_type": "markdown",
   "id": "cloudy-bottle",
   "metadata": {},
   "source": [
    "Fist, we read the source dataset with mentions of entities in different paragraphs"
   ]
  },
  {
   "cell_type": "code",
   "execution_count": 2,
   "id": "informative-mattress",
   "metadata": {},
   "outputs": [],
   "source": [
    "mentions = pd.read_csv(\"data/labeled_entity_occurrence.csv\")"
   ]
  },
  {
   "cell_type": "code",
   "execution_count": 3,
   "id": "alternate-swiss",
   "metadata": {},
   "outputs": [],
   "source": [
    "# Extract unique paper/seciton/paragraph identifiers\n",
    "mentions = mentions.rename(columns={\"occurrence\": \"paragraph\"})\n",
    "number_of_paragraphs = len(mentions[\"paragraph\"].unique())"
   ]
  },
  {
   "cell_type": "code",
   "execution_count": 4,
   "id": "clinical-december",
   "metadata": {},
   "outputs": [
    {
     "data": {
      "text/html": [
       "<div>\n",
       "<style scoped>\n",
       "    .dataframe tbody tr th:only-of-type {\n",
       "        vertical-align: middle;\n",
       "    }\n",
       "\n",
       "    .dataframe tbody tr th {\n",
       "        vertical-align: top;\n",
       "    }\n",
       "\n",
       "    .dataframe thead th {\n",
       "        text-align: right;\n",
       "    }\n",
       "</style>\n",
       "<table border=\"1\" class=\"dataframe\">\n",
       "  <thead>\n",
       "    <tr style=\"text-align: right;\">\n",
       "      <th></th>\n",
       "      <th>entity</th>\n",
       "      <th>paragraph</th>\n",
       "    </tr>\n",
       "  </thead>\n",
       "  <tbody>\n",
       "    <tr>\n",
       "      <th>0</th>\n",
       "      <td>lithostathine-1-alpha</td>\n",
       "      <td>1</td>\n",
       "    </tr>\n",
       "    <tr>\n",
       "      <th>1</th>\n",
       "      <td>pulmonary</td>\n",
       "      <td>1</td>\n",
       "    </tr>\n",
       "    <tr>\n",
       "      <th>2</th>\n",
       "      <td>host</td>\n",
       "      <td>1</td>\n",
       "    </tr>\n",
       "    <tr>\n",
       "      <th>3</th>\n",
       "      <td>lithostathine-1-alpha</td>\n",
       "      <td>2</td>\n",
       "    </tr>\n",
       "    <tr>\n",
       "      <th>4</th>\n",
       "      <td>surfactant protein d measurement</td>\n",
       "      <td>2</td>\n",
       "    </tr>\n",
       "    <tr>\n",
       "      <th>...</th>\n",
       "      <td>...</td>\n",
       "      <td>...</td>\n",
       "    </tr>\n",
       "    <tr>\n",
       "      <th>2281346</th>\n",
       "      <td>covid-19</td>\n",
       "      <td>227822</td>\n",
       "    </tr>\n",
       "    <tr>\n",
       "      <th>2281347</th>\n",
       "      <td>covid-19</td>\n",
       "      <td>227822</td>\n",
       "    </tr>\n",
       "    <tr>\n",
       "      <th>2281348</th>\n",
       "      <td>viral infection</td>\n",
       "      <td>227823</td>\n",
       "    </tr>\n",
       "    <tr>\n",
       "      <th>2281349</th>\n",
       "      <td>lipid</td>\n",
       "      <td>227823</td>\n",
       "    </tr>\n",
       "    <tr>\n",
       "      <th>2281350</th>\n",
       "      <td>inflammation</td>\n",
       "      <td>227823</td>\n",
       "    </tr>\n",
       "  </tbody>\n",
       "</table>\n",
       "<p>2281351 rows × 2 columns</p>\n",
       "</div>"
      ],
      "text/plain": [
       "                                   entity  paragraph\n",
       "0                   lithostathine-1-alpha          1\n",
       "1                               pulmonary          1\n",
       "2                                    host          1\n",
       "3                   lithostathine-1-alpha          2\n",
       "4        surfactant protein d measurement          2\n",
       "...                                   ...        ...\n",
       "2281346                          covid-19     227822\n",
       "2281347                          covid-19     227822\n",
       "2281348                   viral infection     227823\n",
       "2281349                             lipid     227823\n",
       "2281350                      inflammation     227823\n",
       "\n",
       "[2281351 rows x 2 columns]"
      ]
     },
     "execution_count": 4,
     "metadata": {},
     "output_type": "execute_result"
    }
   ],
   "source": [
    "mentions"
   ]
  },
  {
   "cell_type": "markdown",
   "id": "correct-reality",
   "metadata": {},
   "source": [
    "We will also load a dataset that contains definitions of entities and their types"
   ]
  },
  {
   "cell_type": "code",
   "execution_count": 5,
   "id": "cross-durham",
   "metadata": {
    "scrolled": false
   },
   "outputs": [],
   "source": [
    "entity_data = pd.read_csv(\"data/entity_types_defs.csv\")"
   ]
  },
  {
   "cell_type": "code",
   "execution_count": 6,
   "id": "alpha-prospect",
   "metadata": {},
   "outputs": [
    {
     "data": {
      "text/html": [
       "<div>\n",
       "<style scoped>\n",
       "    .dataframe tbody tr th:only-of-type {\n",
       "        vertical-align: middle;\n",
       "    }\n",
       "\n",
       "    .dataframe tbody tr th {\n",
       "        vertical-align: top;\n",
       "    }\n",
       "\n",
       "    .dataframe thead th {\n",
       "        text-align: right;\n",
       "    }\n",
       "</style>\n",
       "<table border=\"1\" class=\"dataframe\">\n",
       "  <thead>\n",
       "    <tr style=\"text-align: right;\">\n",
       "      <th></th>\n",
       "      <th>entity</th>\n",
       "      <th>entity_type</th>\n",
       "      <th>definition</th>\n",
       "    </tr>\n",
       "  </thead>\n",
       "  <tbody>\n",
       "    <tr>\n",
       "      <th>0</th>\n",
       "      <td>(e3-independent) e2 ubiquitin-conjugating enzyme</td>\n",
       "      <td>PROTEIN</td>\n",
       "      <td>(E3-independent) E2 ubiquitin-conjugating enzy...</td>\n",
       "    </tr>\n",
       "    <tr>\n",
       "      <th>1</th>\n",
       "      <td>(h115d)vhl35 peptide</td>\n",
       "      <td>CHEMICAL</td>\n",
       "      <td>A peptide vaccine derived from the von Hippel-...</td>\n",
       "    </tr>\n",
       "    <tr>\n",
       "      <th>2</th>\n",
       "      <td>1,1-dimethylhydrazine</td>\n",
       "      <td>DRUG</td>\n",
       "      <td>A clear, colorless, flammable, hygroscopic liq...</td>\n",
       "    </tr>\n",
       "    <tr>\n",
       "      <th>3</th>\n",
       "      <td>1,2-dimethylhydrazine</td>\n",
       "      <td>CHEMICAL</td>\n",
       "      <td>A compound used experimentally to induce tumor...</td>\n",
       "    </tr>\n",
       "    <tr>\n",
       "      <th>4</th>\n",
       "      <td>1,25-dihydroxyvitamin d(3) 24-hydroxylase, mit...</td>\n",
       "      <td>PROTEIN</td>\n",
       "      <td>1,25-dihydroxyvitamin D(3) 24-hydroxylase, mit...</td>\n",
       "    </tr>\n",
       "    <tr>\n",
       "      <th>...</th>\n",
       "      <td>...</td>\n",
       "      <td>...</td>\n",
       "      <td>...</td>\n",
       "    </tr>\n",
       "    <tr>\n",
       "      <th>28127</th>\n",
       "      <td>zygomycosis</td>\n",
       "      <td>DISEASE</td>\n",
       "      <td>Any infection due to a fungus of the Zygomycot...</td>\n",
       "    </tr>\n",
       "    <tr>\n",
       "      <th>28128</th>\n",
       "      <td>zygomycota</td>\n",
       "      <td>ORGANISM</td>\n",
       "      <td>A phylum of fungi that are characterized by ve...</td>\n",
       "    </tr>\n",
       "    <tr>\n",
       "      <th>28129</th>\n",
       "      <td>zygosity</td>\n",
       "      <td>ORGANISM</td>\n",
       "      <td>The genetic condition of a zygote, especially ...</td>\n",
       "    </tr>\n",
       "    <tr>\n",
       "      <th>28130</th>\n",
       "      <td>zygote</td>\n",
       "      <td>CELL_COMPARTMENT</td>\n",
       "      <td>The cell formed by the union of two gametes, e...</td>\n",
       "    </tr>\n",
       "    <tr>\n",
       "      <th>28131</th>\n",
       "      <td>zyxin</td>\n",
       "      <td>ORGANISM</td>\n",
       "      <td>Zyxin (572 aa, ~61 kDa) is encoded by the huma...</td>\n",
       "    </tr>\n",
       "  </tbody>\n",
       "</table>\n",
       "<p>28132 rows × 3 columns</p>\n",
       "</div>"
      ],
      "text/plain": [
       "                                                  entity       entity_type  \\\n",
       "0       (e3-independent) e2 ubiquitin-conjugating enzyme           PROTEIN   \n",
       "1                                   (h115d)vhl35 peptide          CHEMICAL   \n",
       "2                                  1,1-dimethylhydrazine              DRUG   \n",
       "3                                  1,2-dimethylhydrazine          CHEMICAL   \n",
       "4      1,25-dihydroxyvitamin d(3) 24-hydroxylase, mit...           PROTEIN   \n",
       "...                                                  ...               ...   \n",
       "28127                                        zygomycosis           DISEASE   \n",
       "28128                                         zygomycota          ORGANISM   \n",
       "28129                                           zygosity          ORGANISM   \n",
       "28130                                             zygote  CELL_COMPARTMENT   \n",
       "28131                                              zyxin          ORGANISM   \n",
       "\n",
       "                                              definition  \n",
       "0      (E3-independent) E2 ubiquitin-conjugating enzy...  \n",
       "1      A peptide vaccine derived from the von Hippel-...  \n",
       "2      A clear, colorless, flammable, hygroscopic liq...  \n",
       "3      A compound used experimentally to induce tumor...  \n",
       "4      1,25-dihydroxyvitamin D(3) 24-hydroxylase, mit...  \n",
       "...                                                  ...  \n",
       "28127  Any infection due to a fungus of the Zygomycot...  \n",
       "28128  A phylum of fungi that are characterized by ve...  \n",
       "28129  The genetic condition of a zygote, especially ...  \n",
       "28130  The cell formed by the union of two gametes, e...  \n",
       "28131  Zyxin (572 aa, ~61 kDa) is encoded by the huma...  \n",
       "\n",
       "[28132 rows x 3 columns]"
      ]
     },
     "execution_count": 6,
     "metadata": {},
     "output_type": "execute_result"
    }
   ],
   "source": [
    "entity_data"
   ]
  },
  {
   "cell_type": "markdown",
   "id": "extended-roads",
   "metadata": {},
   "source": [
    "## Generating a co-occurrence graph"
   ]
  },
  {
   "cell_type": "markdown",
   "id": "checked-elder",
   "metadata": {},
   "source": [
    "We first create a graph whose nodes are entities"
   ]
  },
  {
   "cell_type": "code",
   "execution_count": 7,
   "id": "everyday-provider",
   "metadata": {},
   "outputs": [],
   "source": [
    "graph = PandasPGFrame()\n",
    "entity_nodes = mentions[\"entity\"].unique()\n",
    "graph.add_nodes(entity_nodes)\n",
    "graph.add_node_types({n: \"Entity\" for n in entity_nodes})\n",
    "\n",
    "entity_props = entity_data.rename(columns={\"entity\": \"@id\"}).set_index(\"@id\")\n",
    "graph.add_node_properties(entity_props[\"entity_type\"], prop_type=\"category\")\n",
    "graph.add_node_properties(entity_props[\"definition\"], prop_type=\"text\")"
   ]
  },
  {
   "cell_type": "code",
   "execution_count": 8,
   "id": "respected-plenty",
   "metadata": {},
   "outputs": [],
   "source": [
    "paragraph_prop = pd.DataFrame({\"paragraphs\": mentions.groupby(\"entity\").aggregate(set)[\"paragraph\"]})\n",
    "graph.add_node_properties(paragraph_prop, prop_type=\"category\")"
   ]
  },
  {
   "cell_type": "markdown",
   "id": "coordinate-pioneer",
   "metadata": {},
   "source": [
    "For each node we will add the `frequency` property that counts the total number of paragraphs where the entity was mentioned."
   ]
  },
  {
   "cell_type": "code",
   "execution_count": 9,
   "id": "prescription-utilization",
   "metadata": {},
   "outputs": [],
   "source": [
    "frequencies = graph._nodes[\"paragraphs\"].apply(len)\n",
    "frequencies.name = \"frequency\"\n",
    "graph.add_node_properties(frequencies)"
   ]
  },
  {
   "cell_type": "code",
   "execution_count": 10,
   "id": "completed-rating",
   "metadata": {},
   "outputs": [
    {
     "data": {
      "text/html": [
       "<div>\n",
       "<style scoped>\n",
       "    .dataframe tbody tr th:only-of-type {\n",
       "        vertical-align: middle;\n",
       "    }\n",
       "\n",
       "    .dataframe tbody tr th {\n",
       "        vertical-align: top;\n",
       "    }\n",
       "\n",
       "    .dataframe thead th {\n",
       "        text-align: right;\n",
       "    }\n",
       "</style>\n",
       "<table border=\"1\" class=\"dataframe\">\n",
       "  <thead>\n",
       "    <tr style=\"text-align: right;\">\n",
       "      <th></th>\n",
       "      <th>@type</th>\n",
       "      <th>entity_type</th>\n",
       "      <th>definition</th>\n",
       "      <th>paragraphs</th>\n",
       "      <th>frequency</th>\n",
       "    </tr>\n",
       "    <tr>\n",
       "      <th>@id</th>\n",
       "      <th></th>\n",
       "      <th></th>\n",
       "      <th></th>\n",
       "      <th></th>\n",
       "      <th></th>\n",
       "    </tr>\n",
       "  </thead>\n",
       "  <tbody>\n",
       "    <tr>\n",
       "      <th>lithostathine-1-alpha</th>\n",
       "      <td>Entity</td>\n",
       "      <td>PROTEIN</td>\n",
       "      <td>Lithostathine-1-alpha (166 aa, ~19 kDa) is enc...</td>\n",
       "      <td>{1, 2, 3, 18178, 195589, 104454, 88967, 104455...</td>\n",
       "      <td>80</td>\n",
       "    </tr>\n",
       "    <tr>\n",
       "      <th>pulmonary</th>\n",
       "      <td>Entity</td>\n",
       "      <td>ORGAN</td>\n",
       "      <td>Relating to the lungs as the intended site of ...</td>\n",
       "      <td>{1, 196612, 196613, 196614, 196621, 196623, 16...</td>\n",
       "      <td>8295</td>\n",
       "    </tr>\n",
       "    <tr>\n",
       "      <th>host</th>\n",
       "      <td>Entity</td>\n",
       "      <td>ORGANISM</td>\n",
       "      <td>An organism that nourishes and supports anothe...</td>\n",
       "      <td>{1, 114689, 3, 221193, 180243, 180247, 28, 180...</td>\n",
       "      <td>2660</td>\n",
       "    </tr>\n",
       "    <tr>\n",
       "      <th>surfactant protein d measurement</th>\n",
       "      <td>Entity</td>\n",
       "      <td>PROTEIN</td>\n",
       "      <td>The determination of the amount of surfactant ...</td>\n",
       "      <td>{145537, 2, 3, 4, 5, 6, 51202, 103939, 103940,...</td>\n",
       "      <td>268</td>\n",
       "    </tr>\n",
       "    <tr>\n",
       "      <th>communication response</th>\n",
       "      <td>Entity</td>\n",
       "      <td>PATHWAY</td>\n",
       "      <td>A statement (either spoken or written) that is...</td>\n",
       "      <td>{46592, 64000, 2, 28162, 166912, 226304, 88585...</td>\n",
       "      <td>160</td>\n",
       "    </tr>\n",
       "    <tr>\n",
       "      <th>...</th>\n",
       "      <td>...</td>\n",
       "      <td>...</td>\n",
       "      <td>...</td>\n",
       "      <td>...</td>\n",
       "      <td>...</td>\n",
       "    </tr>\n",
       "    <tr>\n",
       "      <th>drug binding site</th>\n",
       "      <td>Entity</td>\n",
       "      <td>PATHWAY</td>\n",
       "      <td>The reactive parts of a macromolecule that dir...</td>\n",
       "      <td>{225082, 225079}</td>\n",
       "      <td>2</td>\n",
       "    </tr>\n",
       "    <tr>\n",
       "      <th>carbaril</th>\n",
       "      <td>Entity</td>\n",
       "      <td>CHEMICAL</td>\n",
       "      <td>A synthetic carbamate acetylcholinesterase inh...</td>\n",
       "      <td>{225408, 225409, 225415, 225419, 225397}</td>\n",
       "      <td>5</td>\n",
       "    </tr>\n",
       "    <tr>\n",
       "      <th>ny-eso-1 positive tumor cells present</th>\n",
       "      <td>Entity</td>\n",
       "      <td>CELL_TYPE</td>\n",
       "      <td>An indication that Cancer/Testis Antigen 1 exp...</td>\n",
       "      <td>{225544, 226996}</td>\n",
       "      <td>2</td>\n",
       "    </tr>\n",
       "    <tr>\n",
       "      <th>mustelidae</th>\n",
       "      <td>Entity</td>\n",
       "      <td>ORGANISM</td>\n",
       "      <td>Taxonomic family which includes the Ferret.</td>\n",
       "      <td>{225901, 225903}</td>\n",
       "      <td>2</td>\n",
       "    </tr>\n",
       "    <tr>\n",
       "      <th>friulian language</th>\n",
       "      <td>Entity</td>\n",
       "      <td>ORGANISM</td>\n",
       "      <td>An Indo-European Romance language spoken in th...</td>\n",
       "      <td>{225901, 225903}</td>\n",
       "      <td>2</td>\n",
       "    </tr>\n",
       "  </tbody>\n",
       "</table>\n",
       "<p>17989 rows × 5 columns</p>\n",
       "</div>"
      ],
      "text/plain": [
       "                                        @type entity_type  \\\n",
       "@id                                                         \n",
       "lithostathine-1-alpha                  Entity     PROTEIN   \n",
       "pulmonary                              Entity       ORGAN   \n",
       "host                                   Entity    ORGANISM   \n",
       "surfactant protein d measurement       Entity     PROTEIN   \n",
       "communication response                 Entity     PATHWAY   \n",
       "...                                       ...         ...   \n",
       "drug binding site                      Entity     PATHWAY   \n",
       "carbaril                               Entity    CHEMICAL   \n",
       "ny-eso-1 positive tumor cells present  Entity   CELL_TYPE   \n",
       "mustelidae                             Entity    ORGANISM   \n",
       "friulian language                      Entity    ORGANISM   \n",
       "\n",
       "                                                                              definition  \\\n",
       "@id                                                                                        \n",
       "lithostathine-1-alpha                  Lithostathine-1-alpha (166 aa, ~19 kDa) is enc...   \n",
       "pulmonary                              Relating to the lungs as the intended site of ...   \n",
       "host                                   An organism that nourishes and supports anothe...   \n",
       "surfactant protein d measurement       The determination of the amount of surfactant ...   \n",
       "communication response                 A statement (either spoken or written) that is...   \n",
       "...                                                                                  ...   \n",
       "drug binding site                      The reactive parts of a macromolecule that dir...   \n",
       "carbaril                               A synthetic carbamate acetylcholinesterase inh...   \n",
       "ny-eso-1 positive tumor cells present  An indication that Cancer/Testis Antigen 1 exp...   \n",
       "mustelidae                                   Taxonomic family which includes the Ferret.   \n",
       "friulian language                      An Indo-European Romance language spoken in th...   \n",
       "\n",
       "                                                                              paragraphs  \\\n",
       "@id                                                                                        \n",
       "lithostathine-1-alpha                  {1, 2, 3, 18178, 195589, 104454, 88967, 104455...   \n",
       "pulmonary                              {1, 196612, 196613, 196614, 196621, 196623, 16...   \n",
       "host                                   {1, 114689, 3, 221193, 180243, 180247, 28, 180...   \n",
       "surfactant protein d measurement       {145537, 2, 3, 4, 5, 6, 51202, 103939, 103940,...   \n",
       "communication response                 {46592, 64000, 2, 28162, 166912, 226304, 88585...   \n",
       "...                                                                                  ...   \n",
       "drug binding site                                                       {225082, 225079}   \n",
       "carbaril                                        {225408, 225409, 225415, 225419, 225397}   \n",
       "ny-eso-1 positive tumor cells present                                   {225544, 226996}   \n",
       "mustelidae                                                              {225901, 225903}   \n",
       "friulian language                                                       {225901, 225903}   \n",
       "\n",
       "                                       frequency  \n",
       "@id                                               \n",
       "lithostathine-1-alpha                         80  \n",
       "pulmonary                                   8295  \n",
       "host                                        2660  \n",
       "surfactant protein d measurement             268  \n",
       "communication response                       160  \n",
       "...                                          ...  \n",
       "drug binding site                              2  \n",
       "carbaril                                       5  \n",
       "ny-eso-1 positive tumor cells present          2  \n",
       "mustelidae                                     2  \n",
       "friulian language                              2  \n",
       "\n",
       "[17989 rows x 5 columns]"
      ]
     },
     "execution_count": 10,
     "metadata": {},
     "output_type": "execute_result"
    }
   ],
   "source": [
    "graph.nodes(raw_frame=True)"
   ]
  },
  {
   "cell_type": "markdown",
   "id": "compatible-roommate",
   "metadata": {},
   "source": [
    "Now, for constructing co-occurrence network we will select only 1000 most frequent entities."
   ]
  },
  {
   "cell_type": "code",
   "execution_count": 11,
   "id": "sensitive-running",
   "metadata": {},
   "outputs": [],
   "source": [
    "nodes_to_include = graph._nodes.nlargest(2000, \"frequency\").index"
   ]
  },
  {
   "cell_type": "code",
   "execution_count": 12,
   "id": "helpful-lounge",
   "metadata": {},
   "outputs": [
    {
     "data": {
      "text/plain": [
       "Index(['covid-19', 'blood', 'human', 'infectious disorder', 'heart',\n",
       "       'diabetes mellitus', 'lung', 'sars-cov-2', 'mouse', 'pulmonary',\n",
       "       ...\n",
       "       'hepatitis b virus e antigen measurement', 'transthyretin',\n",
       "       'laser speckle imaging', 'expiration', 'vascular smooth muscle tissue',\n",
       "       'human acellular dermal matrix', 'natural product', 'organic',\n",
       "       'embolism', 'hepatosplenomegaly'],\n",
       "      dtype='object', name='@id', length=2000)"
      ]
     },
     "execution_count": 12,
     "metadata": {},
     "output_type": "execute_result"
    }
   ],
   "source": [
    "nodes_to_include"
   ]
  },
  {
   "cell_type": "markdown",
   "id": "swiss-valley",
   "metadata": {},
   "source": [
    "The `CooccurrenceGenerator` class allows us to generate co-occurrence edges from overlaps in node property values or edge (or edge properties). In this case we consider the `paragraph` node property and construct co-occurrence edges from overlapping sets of paragraphs. In addition, we will compute some co-occurrence statistics: total co-occurrence frequency and normalized pointwise mutual information (NPMI)."
   ]
  },
  {
   "cell_type": "code",
   "execution_count": 14,
   "id": "removed-paraguay",
   "metadata": {},
   "outputs": [
    {
     "name": "stdout",
     "output_type": "stream",
     "text": [
      "Examining 1999000 pairs of terms for co-occurrence...\n",
      "CPU times: user 20.9 s, sys: 6.35 s, total: 27.2 s\n",
      "Wall time: 4min 45s\n"
     ]
    }
   ],
   "source": [
    "%%time\n",
    "generator = CooccurrenceGenerator(graph.subgraph(nodes=nodes_to_include))\n",
    "paragraph_cooccurrence_edges = generator.generate_from_nodes(\n",
    "    \"paragraphs\", total_factor_instances=number_of_paragraphs,\n",
    "    compute_statistics=[\"frequency\", \"npmi\"],\n",
    "    parallelize=True, cores=8)"
   ]
  },
  {
   "cell_type": "markdown",
   "id": "thorough-entertainment",
   "metadata": {},
   "source": [
    "We add generated edges to the original graph"
   ]
  },
  {
   "cell_type": "code",
   "execution_count": 15,
   "id": "desperate-table",
   "metadata": {},
   "outputs": [],
   "source": [
    "graph._edges = paragraph_cooccurrence_edges\n",
    "graph.edge_prop_as_numeric(\"frequency\")\n",
    "graph.edge_prop_as_numeric(\"npmi\")"
   ]
  },
  {
   "cell_type": "code",
   "execution_count": 16,
   "id": "baking-taxation",
   "metadata": {},
   "outputs": [
    {
     "data": {
      "text/html": [
       "<div>\n",
       "<style scoped>\n",
       "    .dataframe tbody tr th:only-of-type {\n",
       "        vertical-align: middle;\n",
       "    }\n",
       "\n",
       "    .dataframe tbody tr th {\n",
       "        vertical-align: top;\n",
       "    }\n",
       "\n",
       "    .dataframe thead th {\n",
       "        text-align: right;\n",
       "    }\n",
       "</style>\n",
       "<table border=\"1\" class=\"dataframe\">\n",
       "  <thead>\n",
       "    <tr style=\"text-align: right;\">\n",
       "      <th></th>\n",
       "      <th></th>\n",
       "      <th>common_factors</th>\n",
       "      <th>frequency</th>\n",
       "      <th>npmi</th>\n",
       "    </tr>\n",
       "    <tr>\n",
       "      <th>@source_id</th>\n",
       "      <th>@target_id</th>\n",
       "      <th></th>\n",
       "      <th></th>\n",
       "      <th></th>\n",
       "    </tr>\n",
       "  </thead>\n",
       "  <tbody>\n",
       "    <tr>\n",
       "      <th rowspan=\"5\" valign=\"top\">surfactant protein d measurement</th>\n",
       "      <th>communication response</th>\n",
       "      <td>{2, 7789}</td>\n",
       "      <td>2</td>\n",
       "      <td>0.197223</td>\n",
       "    </tr>\n",
       "    <tr>\n",
       "      <th>microorganism</th>\n",
       "      <td>{2, 3, 7810, 58, 41, 7754, 7850, 26218, 7853, ...</td>\n",
       "      <td>19</td>\n",
       "      <td>0.235263</td>\n",
       "    </tr>\n",
       "    <tr>\n",
       "      <th>organic</th>\n",
       "      <td>{2}</td>\n",
       "      <td>1</td>\n",
       "      <td>0.163099</td>\n",
       "    </tr>\n",
       "    <tr>\n",
       "      <th>lung</th>\n",
       "      <td>{2, 103939, 51202, 5, 4, 103940, 15, 145438, 3...</td>\n",
       "      <td>93</td>\n",
       "      <td>0.221395</td>\n",
       "    </tr>\n",
       "    <tr>\n",
       "      <th>alveolar</th>\n",
       "      <td>{223872, 2, 51202, 100502, 7831, 149657, 19522...</td>\n",
       "      <td>25</td>\n",
       "      <td>0.336175</td>\n",
       "    </tr>\n",
       "    <tr>\n",
       "      <th>...</th>\n",
       "      <th>...</th>\n",
       "      <td>...</td>\n",
       "      <td>...</td>\n",
       "      <td>...</td>\n",
       "    </tr>\n",
       "    <tr>\n",
       "      <th rowspan=\"3\" valign=\"top\">cystic fibrosis pulmonary exacerbation</th>\n",
       "      <th>pancreatic insufficiency</th>\n",
       "      <td>{101484, 144333, 46991, 145747, 46869, 151581}</td>\n",
       "      <td>6</td>\n",
       "      <td>0.290745</td>\n",
       "    </tr>\n",
       "    <tr>\n",
       "      <th>heparin-binding egf-like growth factor</th>\n",
       "      <td>{145811, 149909, 46517, 150136, 46365, 144255}</td>\n",
       "      <td>6</td>\n",
       "      <td>0.330128</td>\n",
       "    </tr>\n",
       "    <tr>\n",
       "      <th>dornase alfa</th>\n",
       "      <td>{50948, 47114, 148330, 144113, 153335}</td>\n",
       "      <td>5</td>\n",
       "      <td>0.332547</td>\n",
       "    </tr>\n",
       "    <tr>\n",
       "      <th rowspan=\"2\" valign=\"top\">transmembrane protease serine 2</th>\n",
       "      <th>betacoronavirus</th>\n",
       "      <td>{188257, 188475, 198870, 204982}</td>\n",
       "      <td>4</td>\n",
       "      <td>0.238142</td>\n",
       "    </tr>\n",
       "    <tr>\n",
       "      <th>favipiravir</th>\n",
       "      <td>{203280, 214073, 193075, 217199}</td>\n",
       "      <td>4</td>\n",
       "      <td>0.234855</td>\n",
       "    </tr>\n",
       "  </tbody>\n",
       "</table>\n",
       "<p>1002325 rows × 3 columns</p>\n",
       "</div>"
      ],
      "text/plain": [
       "                                                                                                                  common_factors  \\\n",
       "@source_id                             @target_id                                                                                  \n",
       "surfactant protein d measurement       communication response                                                          {2, 7789}   \n",
       "                                       microorganism                           {2, 3, 7810, 58, 41, 7754, 7850, 26218, 7853, ...   \n",
       "                                       organic                                                                               {2}   \n",
       "                                       lung                                    {2, 103939, 51202, 5, 4, 103940, 15, 145438, 3...   \n",
       "                                       alveolar                                {223872, 2, 51202, 100502, 7831, 149657, 19522...   \n",
       "...                                                                                                                          ...   \n",
       "cystic fibrosis pulmonary exacerbation pancreatic insufficiency                   {101484, 144333, 46991, 145747, 46869, 151581}   \n",
       "                                       heparin-binding egf-like growth factor     {145811, 149909, 46517, 150136, 46365, 144255}   \n",
       "                                       dornase alfa                                       {50948, 47114, 148330, 144113, 153335}   \n",
       "transmembrane protease serine 2        betacoronavirus                                          {188257, 188475, 198870, 204982}   \n",
       "                                       favipiravir                                              {203280, 214073, 193075, 217199}   \n",
       "\n",
       "                                                                               frequency  \\\n",
       "@source_id                             @target_id                                          \n",
       "surfactant protein d measurement       communication response                          2   \n",
       "                                       microorganism                                  19   \n",
       "                                       organic                                         1   \n",
       "                                       lung                                           93   \n",
       "                                       alveolar                                       25   \n",
       "...                                                                                  ...   \n",
       "cystic fibrosis pulmonary exacerbation pancreatic insufficiency                        6   \n",
       "                                       heparin-binding egf-like growth factor          6   \n",
       "                                       dornase alfa                                    5   \n",
       "transmembrane protease serine 2        betacoronavirus                                 4   \n",
       "                                       favipiravir                                     4   \n",
       "\n",
       "                                                                                   npmi  \n",
       "@source_id                             @target_id                                        \n",
       "surfactant protein d measurement       communication response                  0.197223  \n",
       "                                       microorganism                           0.235263  \n",
       "                                       organic                                 0.163099  \n",
       "                                       lung                                    0.221395  \n",
       "                                       alveolar                                0.336175  \n",
       "...                                                                                 ...  \n",
       "cystic fibrosis pulmonary exacerbation pancreatic insufficiency                0.290745  \n",
       "                                       heparin-binding egf-like growth factor  0.330128  \n",
       "                                       dornase alfa                            0.332547  \n",
       "transmembrane protease serine 2        betacoronavirus                         0.238142  \n",
       "                                       favipiravir                             0.234855  \n",
       "\n",
       "[1002325 rows x 3 columns]"
      ]
     },
     "execution_count": 16,
     "metadata": {},
     "output_type": "execute_result"
    }
   ],
   "source": [
    "graph.edges(raw_frame=True)"
   ]
  },
  {
   "cell_type": "markdown",
   "id": "gothic-prospect",
   "metadata": {},
   "source": [
    "Recall that we have generated edges only for the 1000 most frequent entities, the rest of the entities will be isolated (having no incident edges). Let us remove all the isolated nodes."
   ]
  },
  {
   "cell_type": "code",
   "execution_count": 17,
   "id": "olive-stretch",
   "metadata": {},
   "outputs": [],
   "source": [
    "graph.remove_isolated_nodes()"
   ]
  },
  {
   "cell_type": "markdown",
   "id": "educated-birmingham",
   "metadata": {},
   "source": [
    "Next, we save the generated co-occurrence graph."
   ]
  },
  {
   "cell_type": "code",
   "execution_count": 18,
   "id": "contained-reality",
   "metadata": {},
   "outputs": [],
   "source": [
    "# graph.to_csv(\"data/graph_nodes.csv\", \"data/graph_edges.csv\",)"
   ]
  },
  {
   "cell_type": "code",
   "execution_count": 19,
   "id": "painful-apache",
   "metadata": {},
   "outputs": [],
   "source": [
    "# graph = PandasPGFrame.from_csv(\n",
    "#     \"data/graph_nodes.csv\", \"data/graph_edges.csv\",\n",
    "#     node_property_types={\n",
    "#         \"@type\": \"category\",\n",
    "#         \"entity_type\": \"category\",\n",
    "#         \"definition\": \"text\",\n",
    "#         \"paragraphs\": \"category\",\n",
    "#         \"frequency\": \"numeric\"\n",
    "#     },\n",
    "#     edge_property_types={\n",
    "#         \"common_factors\": \"category\",\n",
    "#         \"frequency\": \"numeritc\",\n",
    "#         \"ppmi\": \"numeric\",\n",
    "#         \"npmi\": \"numeric\"\n",
    "#     })"
   ]
  },
  {
   "cell_type": "markdown",
   "id": "synthetic-nudist",
   "metadata": {},
   "source": [
    "## Extract node features\n",
    "\n",
    "We extract node features from entity definitions using the `tfidf` model."
   ]
  },
  {
   "cell_type": "code",
   "execution_count": 20,
   "id": "logical-cartridge",
   "metadata": {},
   "outputs": [],
   "source": [
    "encoder = ScikitLearnPGEncoder(text_encoding_max_dimension=512)"
   ]
  },
  {
   "cell_type": "code",
   "execution_count": 21,
   "id": "useful-engagement",
   "metadata": {},
   "outputs": [
    {
     "name": "stdout",
     "output_type": "stream",
     "text": [
      "CPU times: user 2.22 s, sys: 117 ms, total: 2.34 s\n",
      "Wall time: 2.37 s\n"
     ]
    }
   ],
   "source": [
    "%%time\n",
    "transformed_graph = encoder.fit_transform(\n",
    "    graph, node_properties=[\"definition\"], edge_properties=None)"
   ]
  },
  {
   "cell_type": "code",
   "execution_count": 22,
   "id": "operational-truth",
   "metadata": {},
   "outputs": [
    {
     "data": {
      "text/plain": [
       "['relating',\n",
       " 'lungs',\n",
       " 'site',\n",
       " 'administration',\n",
       " 'product',\n",
       " 'usually',\n",
       " 'action',\n",
       " 'lower',\n",
       " 'respiratory',\n",
       " 'tract']"
      ]
     },
     "execution_count": 22,
     "metadata": {},
     "output_type": "execute_result"
    }
   ],
   "source": [
    "vocabulary = encoder._node_encoders[\"definition\"].vocabulary_\n",
    "list(vocabulary.keys())[:10]"
   ]
  },
  {
   "cell_type": "markdown",
   "id": "suited-numbers",
   "metadata": {},
   "source": [
    "We will add additional properties to our transformed graph corresponding to the entity type labels. We will also add NPMI as an edge property to this transformed graph."
   ]
  },
  {
   "cell_type": "code",
   "execution_count": 23,
   "id": "crucial-devices",
   "metadata": {},
   "outputs": [],
   "source": [
    "transformed_graph.add_node_properties(\n",
    "    graph.get_node_property_values(\"entity_type\"))\n",
    "transformed_graph.add_edge_properties(\n",
    "    graph.get_edge_property_values(\"npmi\"), prop_type=\"numeric\")"
   ]
  },
  {
   "cell_type": "code",
   "execution_count": 24,
   "id": "sitting-graduation",
   "metadata": {},
   "outputs": [
    {
     "data": {
      "text/html": [
       "<div>\n",
       "<style scoped>\n",
       "    .dataframe tbody tr th:only-of-type {\n",
       "        vertical-align: middle;\n",
       "    }\n",
       "\n",
       "    .dataframe tbody tr th {\n",
       "        vertical-align: top;\n",
       "    }\n",
       "\n",
       "    .dataframe thead th {\n",
       "        text-align: right;\n",
       "    }\n",
       "</style>\n",
       "<table border=\"1\" class=\"dataframe\">\n",
       "  <thead>\n",
       "    <tr style=\"text-align: right;\">\n",
       "      <th></th>\n",
       "      <th>features</th>\n",
       "      <th>@type</th>\n",
       "      <th>entity_type</th>\n",
       "    </tr>\n",
       "    <tr>\n",
       "      <th>@id</th>\n",
       "      <th></th>\n",
       "      <th></th>\n",
       "      <th></th>\n",
       "    </tr>\n",
       "  </thead>\n",
       "  <tbody>\n",
       "    <tr>\n",
       "      <th>pulmonary</th>\n",
       "      <td>[0.0, 0.0, 0.0, 0.0, 0.0, 0.0, 0.0, 0.0, 0.0, ...</td>\n",
       "      <td>Entity</td>\n",
       "      <td>ORGAN</td>\n",
       "    </tr>\n",
       "    <tr>\n",
       "      <th>host</th>\n",
       "      <td>[0.0, 0.0, 0.0, 0.0, 0.0, 0.0, 0.0, 0.0, 0.0, ...</td>\n",
       "      <td>Entity</td>\n",
       "      <td>ORGANISM</td>\n",
       "    </tr>\n",
       "    <tr>\n",
       "      <th>surfactant protein d measurement</th>\n",
       "      <td>[0.0, 0.0, 0.0, 0.0, 0.0, 0.0, 0.0, 0.0, 0.0, ...</td>\n",
       "      <td>Entity</td>\n",
       "      <td>PROTEIN</td>\n",
       "    </tr>\n",
       "    <tr>\n",
       "      <th>communication response</th>\n",
       "      <td>[0.0, 0.0, 0.0, 0.0, 0.0, 0.0, 0.0, 0.0, 0.0, ...</td>\n",
       "      <td>Entity</td>\n",
       "      <td>PATHWAY</td>\n",
       "    </tr>\n",
       "    <tr>\n",
       "      <th>microorganism</th>\n",
       "      <td>[0.0, 0.0, 0.0, 0.0, 0.0, 0.0, 0.0, 0.0, 0.0, ...</td>\n",
       "      <td>Entity</td>\n",
       "      <td>ORGANISM</td>\n",
       "    </tr>\n",
       "    <tr>\n",
       "      <th>...</th>\n",
       "      <td>...</td>\n",
       "      <td>...</td>\n",
       "      <td>...</td>\n",
       "    </tr>\n",
       "    <tr>\n",
       "      <th>cefoxitin</th>\n",
       "      <td>[0.0, 0.0, 0.0, 0.0, 0.0, 0.0, 0.0, 0.0, 0.0, ...</td>\n",
       "      <td>Entity</td>\n",
       "      <td>CHEMICAL</td>\n",
       "    </tr>\n",
       "    <tr>\n",
       "      <th>transmembrane protease serine 2</th>\n",
       "      <td>[0.0, 0.0, 0.3570916937758588, 0.0, 0.0, 0.0, ...</td>\n",
       "      <td>Entity</td>\n",
       "      <td>PROTEIN</td>\n",
       "    </tr>\n",
       "    <tr>\n",
       "      <th>intraoperative cardiac injury, ctcae</th>\n",
       "      <td>[0.0, 0.0, 0.0, 0.0, 0.0, 0.0, 0.0, 0.0, 0.0, ...</td>\n",
       "      <td>Entity</td>\n",
       "      <td>DISEASE</td>\n",
       "    </tr>\n",
       "    <tr>\n",
       "      <th>betacoronavirus</th>\n",
       "      <td>[0.0, 0.0, 0.0, 0.0, 0.0, 0.0, 0.0, 0.0, 0.0, ...</td>\n",
       "      <td>Entity</td>\n",
       "      <td>ORGANISM</td>\n",
       "    </tr>\n",
       "    <tr>\n",
       "      <th>favipiravir</th>\n",
       "      <td>[0.0, 0.0, 0.0, 0.0, 0.0, 0.0, 0.0, 0.0, 0.0, ...</td>\n",
       "      <td>Entity</td>\n",
       "      <td>DRUG</td>\n",
       "    </tr>\n",
       "  </tbody>\n",
       "</table>\n",
       "<p>2000 rows × 3 columns</p>\n",
       "</div>"
      ],
      "text/plain": [
       "                                                                               features  \\\n",
       "@id                                                                                       \n",
       "pulmonary                             [0.0, 0.0, 0.0, 0.0, 0.0, 0.0, 0.0, 0.0, 0.0, ...   \n",
       "host                                  [0.0, 0.0, 0.0, 0.0, 0.0, 0.0, 0.0, 0.0, 0.0, ...   \n",
       "surfactant protein d measurement      [0.0, 0.0, 0.0, 0.0, 0.0, 0.0, 0.0, 0.0, 0.0, ...   \n",
       "communication response                [0.0, 0.0, 0.0, 0.0, 0.0, 0.0, 0.0, 0.0, 0.0, ...   \n",
       "microorganism                         [0.0, 0.0, 0.0, 0.0, 0.0, 0.0, 0.0, 0.0, 0.0, ...   \n",
       "...                                                                                 ...   \n",
       "cefoxitin                             [0.0, 0.0, 0.0, 0.0, 0.0, 0.0, 0.0, 0.0, 0.0, ...   \n",
       "transmembrane protease serine 2       [0.0, 0.0, 0.3570916937758588, 0.0, 0.0, 0.0, ...   \n",
       "intraoperative cardiac injury, ctcae  [0.0, 0.0, 0.0, 0.0, 0.0, 0.0, 0.0, 0.0, 0.0, ...   \n",
       "betacoronavirus                       [0.0, 0.0, 0.0, 0.0, 0.0, 0.0, 0.0, 0.0, 0.0, ...   \n",
       "favipiravir                           [0.0, 0.0, 0.0, 0.0, 0.0, 0.0, 0.0, 0.0, 0.0, ...   \n",
       "\n",
       "                                       @type entity_type  \n",
       "@id                                                       \n",
       "pulmonary                             Entity       ORGAN  \n",
       "host                                  Entity    ORGANISM  \n",
       "surfactant protein d measurement      Entity     PROTEIN  \n",
       "communication response                Entity     PATHWAY  \n",
       "microorganism                         Entity    ORGANISM  \n",
       "...                                      ...         ...  \n",
       "cefoxitin                             Entity    CHEMICAL  \n",
       "transmembrane protease serine 2       Entity     PROTEIN  \n",
       "intraoperative cardiac injury, ctcae  Entity     DISEASE  \n",
       "betacoronavirus                       Entity    ORGANISM  \n",
       "favipiravir                           Entity        DRUG  \n",
       "\n",
       "[2000 rows x 3 columns]"
      ]
     },
     "execution_count": 24,
     "metadata": {},
     "output_type": "execute_result"
    }
   ],
   "source": [
    "transformed_graph.nodes(raw_frame=True)"
   ]
  },
  {
   "cell_type": "markdown",
   "id": "equipped-corruption",
   "metadata": {},
   "source": [
    "## Embed using StellarGraph\n",
    "\n",
    "Using `StellarGraphNodeEmbedder` we construct three different embeddings of our transformed graph."
   ]
  },
  {
   "cell_type": "code",
   "execution_count": 25,
   "id": "given-demand",
   "metadata": {},
   "outputs": [],
   "source": [
    "from bluegraph.backends.stellargraph import StellarGraphNodeEmbedder"
   ]
  },
  {
   "cell_type": "code",
   "execution_count": 26,
   "id": "dried-morgan",
   "metadata": {
    "scrolled": true
   },
   "outputs": [],
   "source": [
    "embedder = StellarGraphNodeEmbedder(\n",
    "    \"node2vec\", edge_weight=\"npmi\", embedding_dimension=128, length=10, number_of_walks=20)\n",
    "node2vec_embedding = embedder.fit_model(transformed_graph)"
   ]
  },
  {
   "cell_type": "code",
   "execution_count": 76,
   "id": "provincial-working",
   "metadata": {
    "scrolled": false
   },
   "outputs": [
    {
     "name": "stdout",
     "output_type": "stream",
     "text": [
      "link_classification: using 'ip' method to combine node embeddings into edge embeddings\n",
      "WARNING:tensorflow:6 out of the last 105 calls to <function Model.make_predict_function.<locals>.predict_function at 0x7fd9cb86cc80> triggered tf.function retracing. Tracing is expensive and the excessive number of tracings could be due to (1) creating @tf.function repeatedly in a loop, (2) passing tensors with different shapes, (3) passing Python objects instead of tensors. For (1), please define your @tf.function outside of the loop. For (2), @tf.function has experimental_relax_shapes=True option that relaxes argument shapes that can avoid unnecessary retracing. For (3), please refer to https://www.tensorflow.org/guide/function#controlling_retracing and https://www.tensorflow.org/api_docs/python/tf/function for  more details.\n"
     ]
    }
   ],
   "source": [
    "embedder = StellarGraphNodeEmbedder(\n",
    "    \"attri2vec\", feature_vector_prop=\"features\",\n",
    "    length=5, number_of_walks=10,\n",
    "    epochs=10, embedding_dimension=128, edge_weight=\"npmi\")\n",
    "attri2vec_embedding = embedder.fit_model(transformed_graph)"
   ]
  },
  {
   "cell_type": "code",
   "execution_count": 77,
   "id": "recovered-howard",
   "metadata": {},
   "outputs": [
    {
     "name": "stdout",
     "output_type": "stream",
     "text": [
      "Using GCN (local pooling) filters...\n"
     ]
    }
   ],
   "source": [
    "embedder = StellarGraphNodeEmbedder(\n",
    "    \"gcn_dgi\", feature_vector_prop=\"features\", epochs=150, embedding_dimension=512)\n",
    "gcn_dgi_embedding = embedder.fit_model(transformed_graph)"
   ]
  },
  {
   "cell_type": "code",
   "execution_count": 78,
   "id": "sexual-drove",
   "metadata": {},
   "outputs": [],
   "source": [
    "transformed_graph.add_node_properties(\n",
    "    node2vec_embedding.rename(columns={\"embedding\": \"node2vec\"}))"
   ]
  },
  {
   "cell_type": "code",
   "execution_count": 79,
   "id": "administrative-adolescent",
   "metadata": {},
   "outputs": [],
   "source": [
    "transformed_graph.add_node_properties(\n",
    "    attri2vec_embedding.rename(columns={\"embedding\": \"attri2vec\"}))"
   ]
  },
  {
   "cell_type": "code",
   "execution_count": 80,
   "id": "spread-sewing",
   "metadata": {},
   "outputs": [],
   "source": [
    "transformed_graph.add_node_properties(\n",
    "    gcn_dgi_embedding.rename(columns={\"embedding\": \"gcn_dgi\"}))"
   ]
  },
  {
   "cell_type": "code",
   "execution_count": 81,
   "id": "enabling-panic",
   "metadata": {},
   "outputs": [
    {
     "data": {
      "text/html": [
       "<div>\n",
       "<style scoped>\n",
       "    .dataframe tbody tr th:only-of-type {\n",
       "        vertical-align: middle;\n",
       "    }\n",
       "\n",
       "    .dataframe tbody tr th {\n",
       "        vertical-align: top;\n",
       "    }\n",
       "\n",
       "    .dataframe thead th {\n",
       "        text-align: right;\n",
       "    }\n",
       "</style>\n",
       "<table border=\"1\" class=\"dataframe\">\n",
       "  <thead>\n",
       "    <tr style=\"text-align: right;\">\n",
       "      <th></th>\n",
       "      <th>features</th>\n",
       "      <th>@type</th>\n",
       "      <th>entity_type</th>\n",
       "      <th>node2vec</th>\n",
       "      <th>attri2vec</th>\n",
       "      <th>gcn_dgi</th>\n",
       "    </tr>\n",
       "    <tr>\n",
       "      <th>@id</th>\n",
       "      <th></th>\n",
       "      <th></th>\n",
       "      <th></th>\n",
       "      <th></th>\n",
       "      <th></th>\n",
       "      <th></th>\n",
       "    </tr>\n",
       "  </thead>\n",
       "  <tbody>\n",
       "    <tr>\n",
       "      <th>pulmonary</th>\n",
       "      <td>[0.0, 0.0, 0.0, 0.0, 0.0, 0.0, 0.0, 0.0, 0.0, ...</td>\n",
       "      <td>Entity</td>\n",
       "      <td>ORGAN</td>\n",
       "      <td>[0.08507618308067322, 0.08960522711277008, -0....</td>\n",
       "      <td>[2.2304715457721613e-05, 2.30722962442087e-05,...</td>\n",
       "      <td>[0.013598875142633915, 0.014510048553347588, 0...</td>\n",
       "    </tr>\n",
       "    <tr>\n",
       "      <th>host</th>\n",
       "      <td>[0.0, 0.0, 0.0, 0.0, 0.0, 0.0, 0.0, 0.0, 0.0, ...</td>\n",
       "      <td>Entity</td>\n",
       "      <td>ORGANISM</td>\n",
       "      <td>[0.06400765478610992, -0.03573942929506302, -0...</td>\n",
       "      <td>[0.00033861398696899414, 0.0005860328674316406...</td>\n",
       "      <td>[0.013612938113510609, 0.01374877616763115, 0....</td>\n",
       "    </tr>\n",
       "    <tr>\n",
       "      <th>surfactant protein d measurement</th>\n",
       "      <td>[0.0, 0.0, 0.0, 0.0, 0.0, 0.0, 0.0, 0.0, 0.0, ...</td>\n",
       "      <td>Entity</td>\n",
       "      <td>PROTEIN</td>\n",
       "      <td>[0.06652342528104782, -0.05284678190946579, -0...</td>\n",
       "      <td>[0.00031250715255737305, 0.0001552104949951172...</td>\n",
       "      <td>[0.004781435243785381, 0.011905567720532417, 0...</td>\n",
       "    </tr>\n",
       "    <tr>\n",
       "      <th>communication response</th>\n",
       "      <td>[0.0, 0.0, 0.0, 0.0, 0.0, 0.0, 0.0, 0.0, 0.0, ...</td>\n",
       "      <td>Entity</td>\n",
       "      <td>PATHWAY</td>\n",
       "      <td>[0.057319268584251404, -0.055733706802129745, ...</td>\n",
       "      <td>[0.5, 0.5, 0.5, 0.5, 0.5, 0.5, 0.5, 0.5, 0.5, ...</td>\n",
       "      <td>[0.006033382378518581, 0.011774810031056404, 0...</td>\n",
       "    </tr>\n",
       "    <tr>\n",
       "      <th>microorganism</th>\n",
       "      <td>[0.0, 0.0, 0.0, 0.0, 0.0, 0.0, 0.0, 0.0, 0.0, ...</td>\n",
       "      <td>Entity</td>\n",
       "      <td>ORGANISM</td>\n",
       "      <td>[0.06486348062753677, 0.0019589976873248816, -...</td>\n",
       "      <td>[0.0027934908866882324, 0.004592776298522949, ...</td>\n",
       "      <td>[0.014491668902337551, 0.012006293050944805, 0...</td>\n",
       "    </tr>\n",
       "    <tr>\n",
       "      <th>...</th>\n",
       "      <td>...</td>\n",
       "      <td>...</td>\n",
       "      <td>...</td>\n",
       "      <td>...</td>\n",
       "      <td>...</td>\n",
       "      <td>...</td>\n",
       "    </tr>\n",
       "    <tr>\n",
       "      <th>cefoxitin</th>\n",
       "      <td>[0.0, 0.0, 0.0, 0.0, 0.0, 0.0, 0.0, 0.0, 0.0, ...</td>\n",
       "      <td>Entity</td>\n",
       "      <td>CHEMICAL</td>\n",
       "      <td>[0.07369915395975113, 0.04778401181101799, -0....</td>\n",
       "      <td>[9.508418588666245e-05, 4.140875898883678e-05,...</td>\n",
       "      <td>[0.0046445345506072044, 0.005839885678142309, ...</td>\n",
       "    </tr>\n",
       "    <tr>\n",
       "      <th>transmembrane protease serine 2</th>\n",
       "      <td>[0.0, 0.0, 0.3570916937758588, 0.0, 0.0, 0.0, ...</td>\n",
       "      <td>Entity</td>\n",
       "      <td>PROTEIN</td>\n",
       "      <td>[0.059876542538404465, -0.05344674736261368, -...</td>\n",
       "      <td>[0.001462697982788086, 0.0003876984119415283, ...</td>\n",
       "      <td>[0.006346818991005421, 0.013288427144289017, 0...</td>\n",
       "    </tr>\n",
       "    <tr>\n",
       "      <th>intraoperative cardiac injury, ctcae</th>\n",
       "      <td>[0.0, 0.0, 0.0, 0.0, 0.0, 0.0, 0.0, 0.0, 0.0, ...</td>\n",
       "      <td>Entity</td>\n",
       "      <td>DISEASE</td>\n",
       "      <td>[0.07498086988925934, 0.03932490199804306, -0....</td>\n",
       "      <td>[0.0029019415378570557, 0.0014293193817138672,...</td>\n",
       "      <td>[0.00040178094059228897, 0.009683115407824516,...</td>\n",
       "    </tr>\n",
       "    <tr>\n",
       "      <th>betacoronavirus</th>\n",
       "      <td>[0.0, 0.0, 0.0, 0.0, 0.0, 0.0, 0.0, 0.0, 0.0, ...</td>\n",
       "      <td>Entity</td>\n",
       "      <td>ORGANISM</td>\n",
       "      <td>[0.06702052056789398, -0.004926824942231178, -...</td>\n",
       "      <td>[0.0006445348262786865, 0.0002875030040740967,...</td>\n",
       "      <td>[0.002051224932074547, 0.0083466786891222, 0.0...</td>\n",
       "    </tr>\n",
       "    <tr>\n",
       "      <th>favipiravir</th>\n",
       "      <td>[0.0, 0.0, 0.0, 0.0, 0.0, 0.0, 0.0, 0.0, 0.0, ...</td>\n",
       "      <td>Entity</td>\n",
       "      <td>DRUG</td>\n",
       "      <td>[0.07301653176546097, 0.012151612900197506, -0...</td>\n",
       "      <td>[0.0010316669940948486, 0.0008993148803710938,...</td>\n",
       "      <td>[0.004829161800444126, 0.011154649779200554, 0...</td>\n",
       "    </tr>\n",
       "  </tbody>\n",
       "</table>\n",
       "<p>2000 rows × 6 columns</p>\n",
       "</div>"
      ],
      "text/plain": [
       "                                                                               features  \\\n",
       "@id                                                                                       \n",
       "pulmonary                             [0.0, 0.0, 0.0, 0.0, 0.0, 0.0, 0.0, 0.0, 0.0, ...   \n",
       "host                                  [0.0, 0.0, 0.0, 0.0, 0.0, 0.0, 0.0, 0.0, 0.0, ...   \n",
       "surfactant protein d measurement      [0.0, 0.0, 0.0, 0.0, 0.0, 0.0, 0.0, 0.0, 0.0, ...   \n",
       "communication response                [0.0, 0.0, 0.0, 0.0, 0.0, 0.0, 0.0, 0.0, 0.0, ...   \n",
       "microorganism                         [0.0, 0.0, 0.0, 0.0, 0.0, 0.0, 0.0, 0.0, 0.0, ...   \n",
       "...                                                                                 ...   \n",
       "cefoxitin                             [0.0, 0.0, 0.0, 0.0, 0.0, 0.0, 0.0, 0.0, 0.0, ...   \n",
       "transmembrane protease serine 2       [0.0, 0.0, 0.3570916937758588, 0.0, 0.0, 0.0, ...   \n",
       "intraoperative cardiac injury, ctcae  [0.0, 0.0, 0.0, 0.0, 0.0, 0.0, 0.0, 0.0, 0.0, ...   \n",
       "betacoronavirus                       [0.0, 0.0, 0.0, 0.0, 0.0, 0.0, 0.0, 0.0, 0.0, ...   \n",
       "favipiravir                           [0.0, 0.0, 0.0, 0.0, 0.0, 0.0, 0.0, 0.0, 0.0, ...   \n",
       "\n",
       "                                       @type entity_type  \\\n",
       "@id                                                        \n",
       "pulmonary                             Entity       ORGAN   \n",
       "host                                  Entity    ORGANISM   \n",
       "surfactant protein d measurement      Entity     PROTEIN   \n",
       "communication response                Entity     PATHWAY   \n",
       "microorganism                         Entity    ORGANISM   \n",
       "...                                      ...         ...   \n",
       "cefoxitin                             Entity    CHEMICAL   \n",
       "transmembrane protease serine 2       Entity     PROTEIN   \n",
       "intraoperative cardiac injury, ctcae  Entity     DISEASE   \n",
       "betacoronavirus                       Entity    ORGANISM   \n",
       "favipiravir                           Entity        DRUG   \n",
       "\n",
       "                                                                               node2vec  \\\n",
       "@id                                                                                       \n",
       "pulmonary                             [0.08507618308067322, 0.08960522711277008, -0....   \n",
       "host                                  [0.06400765478610992, -0.03573942929506302, -0...   \n",
       "surfactant protein d measurement      [0.06652342528104782, -0.05284678190946579, -0...   \n",
       "communication response                [0.057319268584251404, -0.055733706802129745, ...   \n",
       "microorganism                         [0.06486348062753677, 0.0019589976873248816, -...   \n",
       "...                                                                                 ...   \n",
       "cefoxitin                             [0.07369915395975113, 0.04778401181101799, -0....   \n",
       "transmembrane protease serine 2       [0.059876542538404465, -0.05344674736261368, -...   \n",
       "intraoperative cardiac injury, ctcae  [0.07498086988925934, 0.03932490199804306, -0....   \n",
       "betacoronavirus                       [0.06702052056789398, -0.004926824942231178, -...   \n",
       "favipiravir                           [0.07301653176546097, 0.012151612900197506, -0...   \n",
       "\n",
       "                                                                              attri2vec  \\\n",
       "@id                                                                                       \n",
       "pulmonary                             [2.2304715457721613e-05, 2.30722962442087e-05,...   \n",
       "host                                  [0.00033861398696899414, 0.0005860328674316406...   \n",
       "surfactant protein d measurement      [0.00031250715255737305, 0.0001552104949951172...   \n",
       "communication response                [0.5, 0.5, 0.5, 0.5, 0.5, 0.5, 0.5, 0.5, 0.5, ...   \n",
       "microorganism                         [0.0027934908866882324, 0.004592776298522949, ...   \n",
       "...                                                                                 ...   \n",
       "cefoxitin                             [9.508418588666245e-05, 4.140875898883678e-05,...   \n",
       "transmembrane protease serine 2       [0.001462697982788086, 0.0003876984119415283, ...   \n",
       "intraoperative cardiac injury, ctcae  [0.0029019415378570557, 0.0014293193817138672,...   \n",
       "betacoronavirus                       [0.0006445348262786865, 0.0002875030040740967,...   \n",
       "favipiravir                           [0.0010316669940948486, 0.0008993148803710938,...   \n",
       "\n",
       "                                                                                gcn_dgi  \n",
       "@id                                                                                      \n",
       "pulmonary                             [0.013598875142633915, 0.014510048553347588, 0...  \n",
       "host                                  [0.013612938113510609, 0.01374877616763115, 0....  \n",
       "surfactant protein d measurement      [0.004781435243785381, 0.011905567720532417, 0...  \n",
       "communication response                [0.006033382378518581, 0.011774810031056404, 0...  \n",
       "microorganism                         [0.014491668902337551, 0.012006293050944805, 0...  \n",
       "...                                                                                 ...  \n",
       "cefoxitin                             [0.0046445345506072044, 0.005839885678142309, ...  \n",
       "transmembrane protease serine 2       [0.006346818991005421, 0.013288427144289017, 0...  \n",
       "intraoperative cardiac injury, ctcae  [0.00040178094059228897, 0.009683115407824516,...  \n",
       "betacoronavirus                       [0.002051224932074547, 0.0083466786891222, 0.0...  \n",
       "favipiravir                           [0.004829161800444126, 0.011154649779200554, 0...  \n",
       "\n",
       "[2000 rows x 6 columns]"
      ]
     },
     "execution_count": 81,
     "metadata": {},
     "output_type": "execute_result"
    }
   ],
   "source": [
    "transformed_graph.nodes(raw_frame=True)"
   ]
  },
  {
   "cell_type": "markdown",
   "id": "through-trader",
   "metadata": {},
   "source": [
    "## Similar entities"
   ]
  },
  {
   "cell_type": "code",
   "execution_count": 82,
   "id": "japanese-essex",
   "metadata": {},
   "outputs": [],
   "source": [
    "import numpy as np\n",
    "\n",
    "from bluegraph.downstream.similarity import NodeSimilarityProcessor"
   ]
  },
  {
   "cell_type": "code",
   "execution_count": 83,
   "id": "vocational-miracle",
   "metadata": {},
   "outputs": [],
   "source": [
    "node2vec_l2 = NodeSimilarityProcessor(transformed_graph, \"node2vec\")\n",
    "node2vec_cosine = NodeSimilarityProcessor(\n",
    "    transformed_graph, \"node2vec\", similarity=\"cosine\")"
   ]
  },
  {
   "cell_type": "code",
   "execution_count": 84,
   "id": "light-lawsuit",
   "metadata": {},
   "outputs": [
    {
     "data": {
      "text/plain": [
       "{'glucose': {'glucose': 0.0,\n",
       "  'high density lipoprotein': 0.0022658955,\n",
       "  'diet': 0.0024289526,\n",
       "  'serum ldl cholesterol measurement': 0.00281263,\n",
       "  'angiotensin converting enzyme measurement': 0.002945846,\n",
       "  'renin': 0.0029646917,\n",
       "  'hypothalamus': 0.0030440816,\n",
       "  'metformin': 0.0030828633,\n",
       "  \"parkinson's disease\": 0.0031146465,\n",
       "  'nadh dehydrogenase (ubiquinone)': 0.003123281},\n",
       " 'covid-19': {'covid-19': 0.0,\n",
       "  'coronavirus': 0.0029676454,\n",
       "  'n-terminal fragment brain natriuretic protein': 0.0033119144,\n",
       "  'bias': 0.0039801677,\n",
       "  'antithrombin antigen measurement': 0.004200006,\n",
       "  'brain death': 0.004505181,\n",
       "  'genus': 0.0045362785,\n",
       "  'coronary vasospasm': 0.004553576,\n",
       "  'measles': 0.004568702,\n",
       "  'campylobacter': 0.004868541}}"
      ]
     },
     "execution_count": 84,
     "metadata": {},
     "output_type": "execute_result"
    }
   ],
   "source": [
    "node2vec_l2.get_similar_nodes([\"glucose\", \"covid-19\"], k=10)"
   ]
  },
  {
   "cell_type": "code",
   "execution_count": 85,
   "id": "suspended-person",
   "metadata": {},
   "outputs": [
    {
     "data": {
      "text/plain": [
       "{'glucose': {'glucose': 1.0,\n",
       "  'high density lipoprotein': 0.99952364,\n",
       "  'diet': 0.999498,\n",
       "  'thiazolidinedione antidiabetic agent': 0.99947554,\n",
       "  'serum ldl cholesterol measurement': 0.9994713,\n",
       "  'renin': 0.9994428,\n",
       "  'dopamine hydrochloride': 0.99943995,\n",
       "  'cholesterol to hdl-cholesterol ratio measurement': 0.9994321,\n",
       "  'microcirculatory bed': 0.9994309,\n",
       "  'nonalcoholic steatohepatitis': 0.9994266},\n",
       " 'covid-19': {'covid-19': 1.0,\n",
       "  'gas exchanger device': 0.99951154,\n",
       "  'brain natriuretic peptide measurement': 0.9995111,\n",
       "  'cardiac valve injury': 0.9995052,\n",
       "  'tidal volume': 0.99949956,\n",
       "  'lopinavir/ritonavir': 0.9994949,\n",
       "  'coronavirus': 0.99948764,\n",
       "  'diabetes mellitus': 0.9994817,\n",
       "  'cholecystokinin': 0.999477,\n",
       "  'antithrombin antigen measurement': 0.99947095}}"
      ]
     },
     "execution_count": 85,
     "metadata": {},
     "output_type": "execute_result"
    }
   ],
   "source": [
    "node2vec_cosine.get_similar_nodes([\"glucose\", \"covid-19\"], k=10)"
   ]
  },
  {
   "cell_type": "code",
   "execution_count": 86,
   "id": "conditional-forum",
   "metadata": {},
   "outputs": [],
   "source": [
    "attri2vec_l2 = NodeSimilarityProcessor(transformed_graph, \"attri2vec\")\n",
    "attri2vec_cosine = NodeSimilarityProcessor(\n",
    "    transformed_graph, \"attri2vec\", similarity=\"cosine\")"
   ]
  },
  {
   "cell_type": "code",
   "execution_count": 87,
   "id": "average-forty",
   "metadata": {},
   "outputs": [
    {
     "data": {
      "text/plain": [
       "{'glucose': {'glucose': 0.0,\n",
       "  'hyperplasia': 2.4351445e-07,\n",
       "  'eo_disease_maps_to_human_disease': 2.4647102e-07,\n",
       "  'citrulline': 2.487164e-07,\n",
       "  'vasopressor': 2.4942256e-07,\n",
       "  'ribonucleic acid': 2.836718e-07,\n",
       "  'blood circulation': 3.014543e-07,\n",
       "  'thrombosis': 3.2471385e-07,\n",
       "  'pharmacologic substance': 3.367524e-07,\n",
       "  'angiotensin ii receptor antagonist': 3.435445e-07},\n",
       " 'covid-19': {'covid-19': 0.0,\n",
       "  'organ': 8.51084e-09,\n",
       "  'pollutant': 1.1228083e-08,\n",
       "  'hypothalamus': 1.2533386e-08,\n",
       "  'blood': 1.3337877e-08,\n",
       "  'disease or disorder': 1.5125666e-08,\n",
       "  'systemic inflammatory response syndrome': 1.5514285e-08,\n",
       "  'mupirocin': 1.790136e-08,\n",
       "  'chicken pox': 1.8030148e-08,\n",
       "  'severe acute respiratory syndrome': 2.4289317e-08}}"
      ]
     },
     "execution_count": 87,
     "metadata": {},
     "output_type": "execute_result"
    }
   ],
   "source": [
    "attri2vec_l2.get_similar_nodes([\"glucose\", \"covid-19\"], k=10)"
   ]
  },
  {
   "cell_type": "code",
   "execution_count": 88,
   "id": "marine-importance",
   "metadata": {
    "scrolled": true
   },
   "outputs": [
    {
     "data": {
      "text/plain": [
       "{'glucose': {'glucose': 1.0,\n",
       "  'dofetilide': 0.9906268,\n",
       "  'plaque': 0.9895834,\n",
       "  'smooth muscle cell': 0.9882462,\n",
       "  'blood product': 0.98774266,\n",
       "  'leridistim': 0.9874199,\n",
       "  'upper respiratory infection, ctcae': 0.98728484,\n",
       "  'genetic disorder': 0.98699605,\n",
       "  'dornase alfa': 0.9868901,\n",
       "  'polyunsaturated fatty acid': 0.9867853},\n",
       " 'covid-19': {'covid-19': 1.0,\n",
       "  'arginine': 0.99533504,\n",
       "  'pioglitazone': 0.99434143,\n",
       "  'encephalitis': 0.99408466,\n",
       "  'transcription factor': 0.99359196,\n",
       "  'opioid': 0.99355924,\n",
       "  'pulmonary edema': 0.99340224,\n",
       "  'lower respiratory tract infection': 0.99314576,\n",
       "  'hypogammaglobulinemia': 0.9927063,\n",
       "  'cyclophosphamide': 0.99262846}}"
      ]
     },
     "execution_count": 88,
     "metadata": {},
     "output_type": "execute_result"
    }
   ],
   "source": [
    "attri2vec_cosine.get_similar_nodes([\"glucose\", \"covid-19\"], k=10)"
   ]
  },
  {
   "cell_type": "code",
   "execution_count": 89,
   "id": "judicial-insurance",
   "metadata": {},
   "outputs": [],
   "source": [
    "gcn_l2 = NodeSimilarityProcessor(transformed_graph, \"gcn_dgi\")\n",
    "gcn_cosine = NodeSimilarityProcessor(\n",
    "    transformed_graph, \"gcn_dgi\", similarity=\"cosine\")"
   ]
  },
  {
   "cell_type": "code",
   "execution_count": 90,
   "id": "cathedral-moses",
   "metadata": {},
   "outputs": [
    {
     "data": {
      "text/plain": [
       "{'glucose': {'glucose': 0.0,\n",
       "  'diabetes mellitus': 1.2274763e-05,\n",
       "  'plasma': 1.5114634e-05,\n",
       "  'kidney': 1.7331444e-05,\n",
       "  'survival': 2.1568154e-05,\n",
       "  'inflammation': 2.3674924e-05,\n",
       "  'cancer': 2.6763799e-05,\n",
       "  'organ': 2.6941272e-05,\n",
       "  'person': 2.7500597e-05,\n",
       "  'tissue': 2.8594814e-05},\n",
       " 'covid-19': {'covid-19': 0.0,\n",
       "  'obesity': 7.531098e-05,\n",
       "  'insulin': 0.00011627325,\n",
       "  'cardiovascular disorder': 0.00013621274,\n",
       "  'nuclear': 0.00017118,\n",
       "  'fibrosis': 0.00018238342,\n",
       "  'dysfunction': 0.00019133318,\n",
       "  'calcium': 0.00020952553,\n",
       "  'sars-cov-2': 0.00021393181,\n",
       "  'interleukin-19': 0.0002337117}}"
      ]
     },
     "execution_count": 90,
     "metadata": {},
     "output_type": "execute_result"
    }
   ],
   "source": [
    "gcn_l2.get_similar_nodes([\"glucose\", \"covid-19\"], k=10)"
   ]
  },
  {
   "cell_type": "code",
   "execution_count": 91,
   "id": "distributed-franchise",
   "metadata": {
    "scrolled": true
   },
   "outputs": [
    {
     "data": {
      "text/plain": [
       "{'glucose': {'glucose': 1.0,\n",
       "  'diabetes mellitus': 0.9997525,\n",
       "  'plasma': 0.999693,\n",
       "  'kidney': 0.999645,\n",
       "  'survival': 0.99956703,\n",
       "  'inflammation': 0.9995329,\n",
       "  'cancer': 0.9994532,\n",
       "  'organ': 0.99944824,\n",
       "  'tissue': 0.99944377,\n",
       "  'person': 0.9994389},\n",
       " 'covid-19': {'covid-19': 1.0000001,\n",
       "  'obesity': 0.99840355,\n",
       "  'insulin': 0.99757445,\n",
       "  'cardiovascular disorder': 0.9970801,\n",
       "  'nuclear': 0.9966514,\n",
       "  'fibrosis': 0.99604404,\n",
       "  'dysfunction': 0.9958848,\n",
       "  'calcium': 0.9954989,\n",
       "  'sars-cov-2': 0.995387,\n",
       "  'interleukin-19': 0.9948972}}"
      ]
     },
     "execution_count": 91,
     "metadata": {},
     "output_type": "execute_result"
    }
   ],
   "source": [
    "gcn_cosine.get_similar_nodes([\"glucose\", \"covid-19\"], k=10)"
   ]
  },
  {
   "cell_type": "markdown",
   "id": "worst-buffer",
   "metadata": {},
   "source": [
    "## Node classification\n",
    "\n",
    "We will build a predictive model for entity type prediction based on:\n",
    "\n",
    "- Only node features\n",
    "- Node2vec embeddings (only structure)\n",
    "- Attri2vec embeddings (structure and node features)\n",
    "- GCN Deep Graph Infomax embeddings (structure and node features)"
   ]
  },
  {
   "cell_type": "markdown",
   "id": "continuing-falls",
   "metadata": {},
   "source": [
    "### Splitting the graph into train/test set"
   ]
  },
  {
   "cell_type": "code",
   "execution_count": 92,
   "id": "partial-search",
   "metadata": {},
   "outputs": [],
   "source": [
    "from sklearn import model_selection\n",
    "from sklearn.svm import LinearSVC"
   ]
  },
  {
   "cell_type": "code",
   "execution_count": 93,
   "id": "educated-observer",
   "metadata": {},
   "outputs": [
    {
     "data": {
      "text/plain": [
       "@id\n",
       "pulmonary                                  ORGAN\n",
       "host                                    ORGANISM\n",
       "surfactant protein d measurement         PROTEIN\n",
       "communication response                   PATHWAY\n",
       "microorganism                           ORGANISM\n",
       "                                          ...   \n",
       "cefoxitin                               CHEMICAL\n",
       "transmembrane protease serine 2          PROTEIN\n",
       "intraoperative cardiac injury, ctcae     DISEASE\n",
       "betacoronavirus                         ORGANISM\n",
       "favipiravir                                 DRUG\n",
       "Name: entity_type, Length: 2000, dtype: object"
      ]
     },
     "execution_count": 93,
     "metadata": {},
     "output_type": "execute_result"
    }
   ],
   "source": [
    "transformed_graph._nodes[\"entity_type\"]"
   ]
  },
  {
   "cell_type": "code",
   "execution_count": 123,
   "id": "prerequisite-brazilian",
   "metadata": {},
   "outputs": [],
   "source": [
    "class NodeClassifier(object):\n",
    "\n",
    "    def __init__(self, model, feature_vector_prop=None, feature_props=None):\n",
    "        self.model = model\n",
    "        self.feature_vector_prop = feature_vector_prop\n",
    "        self.feature_props = feature_props\n",
    "\n",
    "    def _concatenate_feature_props(self, pgframe, nodes):\n",
    "        if self.feature_props is None or len(self.feature_props) == 0:\n",
    "            raise ValueError\n",
    "        return pgframe.nodes(\n",
    "            raw_frame=True).loc[nodes, self.feature_props].to_numpy()\n",
    "\n",
    "    def fit(self, pgframe, train_nodes=None, labels=None, label_prop=None):\n",
    "        # If no train nodes provided, use all nodes of the input graph\n",
    "        if train_nodes is None:\n",
    "            train_nodes = pgframe.nodes()\n",
    "            \n",
    "        # If no labels provided, try to use a label property\n",
    "        if labels is None:\n",
    "            if label_prop not in pgframe.node_properties():\n",
    "                raise ValueError()\n",
    "            labels = pgframe.get_node_property_values(\n",
    "                label_prop).loc[train_nodes].tolist()\n",
    "        \n",
    "        # If no feature vector property provided, try to concatenate feature_props\n",
    "        if self.feature_vector_prop:\n",
    "            data = pgframe.get_node_property_values(\n",
    "                self.feature_vector_prop).loc[train_nodes].tolist()\n",
    "        else:\n",
    "            data = self._concatenate_feature_props(pgframe, train_nodes)\n",
    "        self.model.fit(data, labels)\n",
    "\n",
    "    def predict(self, pgframe, predict_nodes=None):\n",
    "        # If no prediction nodes provided, use all nodes of the input graph\n",
    "        if predict_nodes is None:\n",
    "            predict_nodes = pgframe.nodes()\n",
    "        if self.feature_vector_prop:\n",
    "            data = pgframe.get_node_property_values(\n",
    "                self.feature_vector_prop).loc[predict_nodes].tolist()\n",
    "        else:\n",
    "            data = self._concatenate_feature_props(pgframe, predict_nodes)\n",
    "        return self.model.predict(data)"
   ]
  },
  {
   "cell_type": "markdown",
   "id": "funded-acoustic",
   "metadata": {},
   "source": [
    "Split the graph into "
   ]
  },
  {
   "cell_type": "code",
   "execution_count": 124,
   "id": "uniform-wednesday",
   "metadata": {},
   "outputs": [],
   "source": [
    "train_nodes, test_nodes = model_selection.train_test_split(\n",
    "    transformed_graph.nodes(), train_size=0.4)"
   ]
  },
  {
   "cell_type": "code",
   "execution_count": 132,
   "id": "eastern-circle",
   "metadata": {},
   "outputs": [
    {
     "name": "stdout",
     "output_type": "stream",
     "text": [
      "0.5666666666666667\n"
     ]
    }
   ],
   "source": [
    "features_classifier = NodeClassifier(LinearSVC(), feature_vector_prop=\"features\")\n",
    "features_classifier.fit(transformed_graph, train_nodes=train_nodes, label_prop=\"entity_type\")\n",
    "pred_y = features_classifier.predict(transformed_graph, predict_nodes=test_nodes)\n",
    "accuracy = (transformed_graph._nodes.loc[test_nodes, \"entity_type\"] == pred_y).mean()\n",
    "print(accuracy)"
   ]
  },
  {
   "cell_type": "code",
   "execution_count": 133,
   "id": "distinct-violin",
   "metadata": {},
   "outputs": [
    {
     "name": "stdout",
     "output_type": "stream",
     "text": [
      "0.4\n"
     ]
    }
   ],
   "source": [
    "node2vec_classifier = NodeClassifier(LinearSVC(), feature_vector_prop=\"node2vec\")\n",
    "node2vec_classifier.fit(transformed_graph, train_nodes=train_nodes, label_prop=\"entity_type\")\n",
    "pred_y = node2vec_classifier.predict(transformed_graph, predict_nodes=test_nodes)\n",
    "accuracy = (transformed_graph._nodes.loc[test_nodes, \"entity_type\"] == pred_y).mean()\n",
    "print(accuracy)"
   ]
  },
  {
   "cell_type": "code",
   "execution_count": 134,
   "id": "finished-screen",
   "metadata": {},
   "outputs": [
    {
     "name": "stdout",
     "output_type": "stream",
     "text": [
      "0.3458333333333333\n"
     ]
    },
    {
     "name": "stderr",
     "output_type": "stream",
     "text": [
      "/Users/oshurko/opt/anaconda3/envs/bluegraph/lib/python3.6/site-packages/sklearn/svm/_base.py:986: ConvergenceWarning: Liblinear failed to converge, increase the number of iterations.\n",
      "  \"the number of iterations.\", ConvergenceWarning)\n"
     ]
    }
   ],
   "source": [
    "attri2vec_classifier = NodeClassifier(LinearSVC(), feature_vector_prop=\"attri2vec\")\n",
    "attri2vec_classifier.fit(transformed_graph, train_nodes=train_nodes, label_prop=\"entity_type\")\n",
    "pred_y = attri2vec_classifier.predict(transformed_graph, predict_nodes=test_nodes)\n",
    "accuracy = (transformed_graph._nodes.loc[test_nodes, \"entity_type\"] == pred_y).mean()\n",
    "print(accuracy)"
   ]
  },
  {
   "cell_type": "code",
   "execution_count": 135,
   "id": "affected-mailman",
   "metadata": {},
   "outputs": [
    {
     "name": "stdout",
     "output_type": "stream",
     "text": [
      "0.3883333333333333\n"
     ]
    }
   ],
   "source": [
    "gcn_dgi_classifier = NodeClassifier(LinearSVC(), feature_vector_prop=\"gcn_dgi\")\n",
    "gcn_dgi_classifier.fit(transformed_graph, train_nodes=train_nodes, label_prop=\"entity_type\")\n",
    "pred_y = gcn_dgi_classifier.predict(transformed_graph, predict_nodes=test_nodes)\n",
    "accuracy = (transformed_graph._nodes.loc[test_nodes, \"entity_type\"] == pred_y).mean()\n",
    "print(accuracy)"
   ]
  },
  {
   "cell_type": "markdown",
   "id": "accompanied-scene",
   "metadata": {},
   "source": [
    "## Split nodes into train/test set"
   ]
  },
  {
   "cell_type": "code",
   "execution_count": null,
   "id": "ordered-peace",
   "metadata": {},
   "outputs": [],
   "source": [
    "from sklearn.model_selection import train_test_split"
   ]
  },
  {
   "cell_type": "code",
   "execution_count": null,
   "id": "major-peoples",
   "metadata": {},
   "outputs": [],
   "source": [
    "def graph_train_test_split(pgframe, test_size=0.3, random_state=None):\n",
    "    def edges_to_include(df):\n",
    "        index = df.index\n",
    "        selectors = list(\n",
    "            map(lambda e: e[0] in index and e[1] in index, pgframe._edges.index))\n",
    "        return pgframe._edges.index[selectors]\n",
    "    \n",
    "    train_nodes, test_nodes = train_test_split(pgframe._nodes, test_size=test_size)\n",
    "    train_edges = edges_to_include(train_nodes)\n",
    "    test_edges = edges_to_include(test_nodes)\n",
    "    train_pgframe = PandasPGFrame.from_frames(\n",
    "        train_nodes,\n",
    "        pgframe._edges.loc[train_edges],\n",
    "        node_prop_types=pgframe._node_prop_types,\n",
    "        edge_prop_types=pgframe._edge_prop_types)\n",
    "    test_pgframe = PandasPGFrame.from_frames(\n",
    "        test_nodes,\n",
    "        pgframe._edges.loc[test_edges],\n",
    "        node_prop_types=pgframe._node_prop_types,\n",
    "        edge_prop_types=pgframe._edge_prop_types)\n",
    "    return train_pgframe, test_pgframe"
   ]
  },
  {
   "cell_type": "code",
   "execution_count": null,
   "id": "vital-heather",
   "metadata": {},
   "outputs": [],
   "source": [
    "train_graph, test_graph = graph_train_test_split(transformed_frame, test_size=0.2)"
   ]
  },
  {
   "cell_type": "code",
   "execution_count": null,
   "id": "unusual-blend",
   "metadata": {},
   "outputs": [],
   "source": [
    "from blugraph.downstream.node_classification import NodeClassifier"
   ]
  },
  {
   "cell_type": "markdown",
   "id": "lesser-patent",
   "metadata": {},
   "source": [
    "## Link prediction"
   ]
  },
  {
   "cell_type": "code",
   "execution_count": null,
   "id": "heated-novel",
   "metadata": {},
   "outputs": [],
   "source": [
    "from bluegraph.backends.stellargraph import pgframe_to_stellargraph"
   ]
  },
  {
   "cell_type": "code",
   "execution_count": null,
   "id": "overhead-microphone",
   "metadata": {},
   "outputs": [],
   "source": [
    "stellar_object = pgframe_to_stellargraph(\n",
    "    transformed_frame, feature_vector_prop=\"features\", directed=False, edge_weight=\"npmi\")"
   ]
  },
  {
   "cell_type": "code",
   "execution_count": null,
   "id": "reserved-pillow",
   "metadata": {},
   "outputs": [],
   "source": [
    "print(stellar_object.info())"
   ]
  },
  {
   "cell_type": "code",
   "execution_count": null,
   "id": "moving-remains",
   "metadata": {},
   "outputs": [],
   "source": [
    "train_targets = train_graph.get_node_property_values(\"entity_type\")\n",
    "test_targets = test_graph.get_node_property_values(\"entity_type\")"
   ]
  },
  {
   "cell_type": "code",
   "execution_count": null,
   "id": "numeric-gravity",
   "metadata": {},
   "outputs": [],
   "source": [
    "train_targets.value_counts()"
   ]
  },
  {
   "cell_type": "code",
   "execution_count": null,
   "id": "yellow-scheduling",
   "metadata": {},
   "outputs": [],
   "source": [
    "from sklearn import preprocessing"
   ]
  },
  {
   "cell_type": "code",
   "execution_count": null,
   "id": "closing-level",
   "metadata": {},
   "outputs": [],
   "source": [
    "target_encoding = preprocessing.LabelBinarizer()\n",
    "\n",
    "encoded_train_targets = target_encoding.fit_transform(train_targets)\n",
    "encoded_test_targets = target_encoding.transform(test_targets)"
   ]
  },
  {
   "cell_type": "code",
   "execution_count": 105,
   "id": "worldwide-sigma",
   "metadata": {},
   "outputs": [],
   "source": [
    "from stellargraph.mapper import FullBatchNodeGenerator\n",
    "from stellargraph.layer import GCN\n",
    "\n",
    "from tensorflow.keras import layers, optimizers, losses, metrics, Model"
   ]
  },
  {
   "cell_type": "code",
   "execution_count": 106,
   "id": "fourth-peter",
   "metadata": {},
   "outputs": [
    {
     "name": "stdout",
     "output_type": "stream",
     "text": [
      "Using GCN (local pooling) filters...\n"
     ]
    }
   ],
   "source": [
    "generator = FullBatchNodeGenerator(stellar_object, method=\"gcn\", weighted=True)"
   ]
  },
  {
   "cell_type": "code",
   "execution_count": 107,
   "id": "rural-porter",
   "metadata": {},
   "outputs": [],
   "source": [
    "train_gen = generator.flow(train_targets.index, encoded_train_targets)"
   ]
  },
  {
   "cell_type": "code",
   "execution_count": 132,
   "id": "indoor-crisis",
   "metadata": {},
   "outputs": [],
   "source": [
    "gcn = GCN(layer_sizes=[16, 16], activations=[\"relu\", \"relu\"], generator=generator, dropout=0.5)"
   ]
  },
  {
   "cell_type": "code",
   "execution_count": 124,
   "id": "stretch-necessity",
   "metadata": {},
   "outputs": [
    {
     "data": {
      "text/plain": [
       "<KerasTensor: shape=(1, None, 30) dtype=float32 (created by layer 'gather_indices_5')>"
      ]
     },
     "execution_count": 124,
     "metadata": {},
     "output_type": "execute_result"
    }
   ],
   "source": [
    "x_inp, x_out = gcn.in_out_tensors()\n",
    "x_out"
   ]
  },
  {
   "cell_type": "code",
   "execution_count": 125,
   "id": "civil-workstation",
   "metadata": {},
   "outputs": [],
   "source": [
    "predictions = layers.Dense(units=encoded_train_targets.shape[1], activation=\"softmax\")(x_out)"
   ]
  },
  {
   "cell_type": "code",
   "execution_count": 126,
   "id": "fiscal-excuse",
   "metadata": {},
   "outputs": [],
   "source": [
    "model = Model(inputs=x_inp, outputs=predictions)\n",
    "model.compile(\n",
    "    optimizer=optimizers.Adam(lr=0.01),\n",
    "    loss=losses.categorical_crossentropy,\n",
    "    metrics=[\"acc\"],\n",
    ")"
   ]
  },
  {
   "cell_type": "code",
   "execution_count": 127,
   "id": "general-logic",
   "metadata": {
    "scrolled": true
   },
   "outputs": [
    {
     "name": "stdout",
     "output_type": "stream",
     "text": [
      "Epoch 1/400\n",
      "1/1 - 1s - loss: 2.2013 - acc: 0.1167\n",
      "Epoch 2/400\n",
      "1/1 - 0s - loss: 2.1604 - acc: 0.2711\n",
      "Epoch 3/400\n",
      "1/1 - 0s - loss: 2.1143 - acc: 0.2698\n",
      "Epoch 4/400\n",
      "1/1 - 0s - loss: 2.0560 - acc: 0.2699\n",
      "Epoch 5/400\n",
      "1/1 - 0s - loss: 1.9881 - acc: 0.2699\n",
      "Epoch 6/400\n",
      "1/1 - 0s - loss: 1.9196 - acc: 0.2699\n",
      "Epoch 7/400\n",
      "1/1 - 0s - loss: 1.8688 - acc: 0.2699\n",
      "Epoch 8/400\n",
      "1/1 - 0s - loss: 1.8307 - acc: 0.2700\n",
      "Epoch 9/400\n",
      "1/1 - 0s - loss: 1.7918 - acc: 0.2743\n",
      "Epoch 10/400\n",
      "1/1 - 0s - loss: 1.7480 - acc: 0.3178\n",
      "Epoch 11/400\n",
      "1/1 - 0s - loss: 1.6999 - acc: 0.3978\n",
      "Epoch 12/400\n",
      "1/1 - 0s - loss: 1.6589 - acc: 0.4680\n",
      "Epoch 13/400\n",
      "1/1 - 0s - loss: 1.6288 - acc: 0.4852\n",
      "Epoch 14/400\n",
      "1/1 - 0s - loss: 1.5991 - acc: 0.4861\n",
      "Epoch 15/400\n",
      "1/1 - 0s - loss: 1.5726 - acc: 0.4884\n",
      "Epoch 16/400\n",
      "1/1 - 0s - loss: 1.5400 - acc: 0.4965\n",
      "Epoch 17/400\n",
      "1/1 - 0s - loss: 1.5057 - acc: 0.5094\n",
      "Epoch 18/400\n",
      "1/1 - 0s - loss: 1.4759 - acc: 0.5257\n",
      "Epoch 19/400\n",
      "1/1 - 0s - loss: 1.4429 - acc: 0.5369\n",
      "Epoch 20/400\n",
      "1/1 - 0s - loss: 1.4268 - acc: 0.5483\n",
      "Epoch 21/400\n",
      "1/1 - 0s - loss: 1.4107 - acc: 0.5579\n",
      "Epoch 22/400\n",
      "1/1 - 0s - loss: 1.3928 - acc: 0.5642\n",
      "Epoch 23/400\n",
      "1/1 - 0s - loss: 1.3804 - acc: 0.5641\n",
      "Epoch 24/400\n",
      "1/1 - 0s - loss: 1.3712 - acc: 0.5630\n",
      "Epoch 25/400\n",
      "1/1 - 0s - loss: 1.3619 - acc: 0.5661\n",
      "Epoch 26/400\n",
      "1/1 - 0s - loss: 1.3460 - acc: 0.5672\n",
      "Epoch 27/400\n",
      "1/1 - 0s - loss: 1.3354 - acc: 0.5681\n",
      "Epoch 28/400\n",
      "1/1 - 0s - loss: 1.3285 - acc: 0.5667\n",
      "Epoch 29/400\n",
      "1/1 - 0s - loss: 1.3211 - acc: 0.5720\n",
      "Epoch 30/400\n",
      "1/1 - 0s - loss: 1.3078 - acc: 0.5792\n",
      "Epoch 31/400\n",
      "1/1 - 0s - loss: 1.3071 - acc: 0.5735\n",
      "Epoch 32/400\n",
      "1/1 - 0s - loss: 1.2981 - acc: 0.5757\n",
      "Epoch 33/400\n",
      "1/1 - 0s - loss: 1.2990 - acc: 0.5804\n",
      "Epoch 34/400\n",
      "1/1 - 0s - loss: 1.2811 - acc: 0.5798\n",
      "Epoch 35/400\n",
      "1/1 - 0s - loss: 1.2750 - acc: 0.5795\n",
      "Epoch 36/400\n",
      "1/1 - 0s - loss: 1.2682 - acc: 0.5854\n",
      "Epoch 37/400\n",
      "1/1 - 0s - loss: 1.2680 - acc: 0.5827\n",
      "Epoch 38/400\n",
      "1/1 - 0s - loss: 1.2550 - acc: 0.5883\n",
      "Epoch 39/400\n",
      "1/1 - 0s - loss: 1.2427 - acc: 0.5881\n",
      "Epoch 40/400\n",
      "1/1 - 0s - loss: 1.2476 - acc: 0.5845\n",
      "Epoch 41/400\n",
      "1/1 - 0s - loss: 1.2463 - acc: 0.5861\n",
      "Epoch 42/400\n",
      "1/1 - 0s - loss: 1.2334 - acc: 0.5896\n",
      "Epoch 43/400\n",
      "1/1 - 0s - loss: 1.2398 - acc: 0.5900\n",
      "Epoch 44/400\n",
      "1/1 - 0s - loss: 1.2243 - acc: 0.5941\n",
      "Epoch 45/400\n",
      "1/1 - 0s - loss: 1.2215 - acc: 0.5938\n",
      "Epoch 46/400\n",
      "1/1 - 0s - loss: 1.2199 - acc: 0.5928\n",
      "Epoch 47/400\n",
      "1/1 - 0s - loss: 1.2079 - acc: 0.5990\n",
      "Epoch 48/400\n",
      "1/1 - 0s - loss: 1.2094 - acc: 0.5985\n",
      "Epoch 49/400\n",
      "1/1 - 0s - loss: 1.2039 - acc: 0.6019\n",
      "Epoch 50/400\n",
      "1/1 - 0s - loss: 1.2031 - acc: 0.5979\n",
      "Epoch 51/400\n",
      "1/1 - 0s - loss: 1.2008 - acc: 0.5993\n",
      "Epoch 52/400\n",
      "1/1 - 0s - loss: 1.1965 - acc: 0.5993\n",
      "Epoch 53/400\n",
      "1/1 - 0s - loss: 1.1962 - acc: 0.5987\n",
      "Epoch 54/400\n",
      "1/1 - 0s - loss: 1.1828 - acc: 0.6042\n",
      "Epoch 55/400\n",
      "1/1 - 0s - loss: 1.1865 - acc: 0.6011\n",
      "Epoch 56/400\n",
      "1/1 - 0s - loss: 1.1793 - acc: 0.6052\n",
      "Epoch 57/400\n",
      "1/1 - 0s - loss: 1.1744 - acc: 0.6070\n",
      "Epoch 58/400\n",
      "1/1 - 0s - loss: 1.1725 - acc: 0.6064\n",
      "Epoch 59/400\n",
      "1/1 - 0s - loss: 1.1779 - acc: 0.6038\n",
      "Epoch 60/400\n",
      "1/1 - 0s - loss: 1.1608 - acc: 0.6125\n",
      "Epoch 61/400\n",
      "1/1 - 0s - loss: 1.1588 - acc: 0.6125\n",
      "Epoch 62/400\n",
      "1/1 - 0s - loss: 1.1615 - acc: 0.6102\n",
      "Epoch 63/400\n",
      "1/1 - 0s - loss: 1.1641 - acc: 0.6066\n",
      "Epoch 64/400\n",
      "1/1 - 0s - loss: 1.1512 - acc: 0.6110\n",
      "Epoch 65/400\n",
      "1/1 - 0s - loss: 1.1498 - acc: 0.6180\n",
      "Epoch 66/400\n",
      "1/1 - 0s - loss: 1.1558 - acc: 0.6107\n",
      "Epoch 67/400\n",
      "1/1 - 0s - loss: 1.1512 - acc: 0.6166\n",
      "Epoch 68/400\n",
      "1/1 - 0s - loss: 1.1397 - acc: 0.6192\n",
      "Epoch 69/400\n",
      "1/1 - 0s - loss: 1.1326 - acc: 0.6209\n",
      "Epoch 70/400\n",
      "1/1 - 0s - loss: 1.1384 - acc: 0.6196\n",
      "Epoch 71/400\n",
      "1/1 - 0s - loss: 1.1417 - acc: 0.6168\n",
      "Epoch 72/400\n",
      "1/1 - 0s - loss: 1.1348 - acc: 0.6189\n",
      "Epoch 73/400\n",
      "1/1 - 0s - loss: 1.1303 - acc: 0.6193\n",
      "Epoch 74/400\n",
      "1/1 - 0s - loss: 1.1317 - acc: 0.6203\n",
      "Epoch 75/400\n",
      "1/1 - 0s - loss: 1.1307 - acc: 0.6213\n",
      "Epoch 76/400\n",
      "1/1 - 0s - loss: 1.1297 - acc: 0.6189\n",
      "Epoch 77/400\n",
      "1/1 - 0s - loss: 1.1290 - acc: 0.6140\n",
      "Epoch 78/400\n",
      "1/1 - 0s - loss: 1.1205 - acc: 0.6273\n",
      "Epoch 79/400\n",
      "1/1 - 0s - loss: 1.1215 - acc: 0.6202\n",
      "Epoch 80/400\n",
      "1/1 - 0s - loss: 1.1179 - acc: 0.6223\n",
      "Epoch 81/400\n",
      "1/1 - 0s - loss: 1.1131 - acc: 0.6246\n",
      "Epoch 82/400\n",
      "1/1 - 0s - loss: 1.1160 - acc: 0.6249\n",
      "Epoch 83/400\n",
      "1/1 - 0s - loss: 1.1149 - acc: 0.6250\n",
      "Epoch 84/400\n",
      "1/1 - 0s - loss: 1.1090 - acc: 0.6238\n",
      "Epoch 85/400\n",
      "1/1 - 0s - loss: 1.1208 - acc: 0.6239\n",
      "Epoch 86/400\n",
      "1/1 - 0s - loss: 1.1053 - acc: 0.6254\n",
      "Epoch 87/400\n",
      "1/1 - 0s - loss: 1.1007 - acc: 0.6277\n",
      "Epoch 88/400\n",
      "1/1 - 0s - loss: 1.1155 - acc: 0.6214\n",
      "Epoch 89/400\n",
      "1/1 - 0s - loss: 1.1001 - acc: 0.6289\n",
      "Epoch 90/400\n",
      "1/1 - 0s - loss: 1.0961 - acc: 0.6296\n",
      "Epoch 91/400\n",
      "1/1 - 0s - loss: 1.0876 - acc: 0.6247\n",
      "Epoch 92/400\n",
      "1/1 - 0s - loss: 1.0959 - acc: 0.6293\n",
      "Epoch 93/400\n",
      "1/1 - 0s - loss: 1.1006 - acc: 0.6286\n",
      "Epoch 94/400\n",
      "1/1 - 0s - loss: 1.0900 - acc: 0.6241\n",
      "Epoch 95/400\n",
      "1/1 - 0s - loss: 1.0941 - acc: 0.6275\n",
      "Epoch 96/400\n",
      "1/1 - 0s - loss: 1.0848 - acc: 0.6311\n",
      "Epoch 97/400\n",
      "1/1 - 0s - loss: 1.0866 - acc: 0.6312\n",
      "Epoch 98/400\n",
      "1/1 - 0s - loss: 1.0890 - acc: 0.6296\n",
      "Epoch 99/400\n",
      "1/1 - 0s - loss: 1.0821 - acc: 0.6305\n",
      "Epoch 100/400\n",
      "1/1 - 0s - loss: 1.0719 - acc: 0.6311\n",
      "Epoch 101/400\n",
      "1/1 - 0s - loss: 1.0771 - acc: 0.6320\n",
      "Epoch 102/400\n",
      "1/1 - 0s - loss: 1.0786 - acc: 0.6342\n",
      "Epoch 103/400\n",
      "1/1 - 0s - loss: 1.0788 - acc: 0.6295\n",
      "Epoch 104/400\n",
      "1/1 - 0s - loss: 1.0763 - acc: 0.6303\n",
      "Epoch 105/400\n",
      "1/1 - 0s - loss: 1.0688 - acc: 0.6364\n",
      "Epoch 106/400\n",
      "1/1 - 0s - loss: 1.0747 - acc: 0.6331\n",
      "Epoch 107/400\n",
      "1/1 - 0s - loss: 1.0660 - acc: 0.6348\n",
      "Epoch 108/400\n",
      "1/1 - 0s - loss: 1.0716 - acc: 0.6313\n",
      "Epoch 109/400\n",
      "1/1 - 0s - loss: 1.0731 - acc: 0.6340\n",
      "Epoch 110/400\n",
      "1/1 - 0s - loss: 1.0714 - acc: 0.6332\n",
      "Epoch 111/400\n",
      "1/1 - 0s - loss: 1.0693 - acc: 0.6330\n",
      "Epoch 112/400\n",
      "1/1 - 0s - loss: 1.0627 - acc: 0.6378\n",
      "Epoch 113/400\n",
      "1/1 - 0s - loss: 1.0655 - acc: 0.6337\n",
      "Epoch 114/400\n",
      "1/1 - 0s - loss: 1.0607 - acc: 0.6364\n",
      "Epoch 115/400\n",
      "1/1 - 0s - loss: 1.0543 - acc: 0.6391\n",
      "Epoch 116/400\n",
      "1/1 - 0s - loss: 1.0652 - acc: 0.6360\n",
      "Epoch 117/400\n",
      "1/1 - 0s - loss: 1.0601 - acc: 0.6360\n",
      "Epoch 118/400\n",
      "1/1 - 0s - loss: 1.0616 - acc: 0.6353\n",
      "Epoch 119/400\n",
      "1/1 - 0s - loss: 1.0538 - acc: 0.6341\n",
      "Epoch 120/400\n",
      "1/1 - 0s - loss: 1.0556 - acc: 0.6394\n",
      "Epoch 121/400\n",
      "1/1 - 0s - loss: 1.0527 - acc: 0.6391\n",
      "Epoch 122/400\n",
      "1/1 - 0s - loss: 1.0498 - acc: 0.6372\n",
      "Epoch 123/400\n",
      "1/1 - 0s - loss: 1.0622 - acc: 0.6353\n",
      "Epoch 124/400\n",
      "1/1 - 0s - loss: 1.0484 - acc: 0.6430\n",
      "Epoch 125/400\n",
      "1/1 - 0s - loss: 1.0501 - acc: 0.6398\n",
      "Epoch 126/400\n",
      "1/1 - 0s - loss: 1.0421 - acc: 0.6350\n",
      "Epoch 127/400\n",
      "1/1 - 0s - loss: 1.0479 - acc: 0.6369\n",
      "Epoch 128/400\n",
      "1/1 - 0s - loss: 1.0414 - acc: 0.6423\n",
      "Epoch 129/400\n",
      "1/1 - 0s - loss: 1.0428 - acc: 0.6439\n",
      "Epoch 130/400\n",
      "1/1 - 0s - loss: 1.0450 - acc: 0.6435\n",
      "Epoch 131/400\n",
      "1/1 - 0s - loss: 1.0391 - acc: 0.6438\n",
      "Epoch 132/400\n",
      "1/1 - 0s - loss: 1.0440 - acc: 0.6361\n",
      "Epoch 133/400\n",
      "1/1 - 0s - loss: 1.0400 - acc: 0.6417\n",
      "Epoch 134/400\n",
      "1/1 - 0s - loss: 1.0273 - acc: 0.6435\n",
      "Epoch 135/400\n",
      "1/1 - 0s - loss: 1.0491 - acc: 0.6362\n",
      "Epoch 136/400\n",
      "1/1 - 0s - loss: 1.0419 - acc: 0.6443\n",
      "Epoch 137/400\n",
      "1/1 - 0s - loss: 1.0373 - acc: 0.6428\n",
      "Epoch 138/400\n",
      "1/1 - 0s - loss: 1.0408 - acc: 0.6394\n",
      "Epoch 139/400\n",
      "1/1 - 0s - loss: 1.0361 - acc: 0.6412\n",
      "Epoch 140/400\n",
      "1/1 - 0s - loss: 1.0364 - acc: 0.6421\n",
      "Epoch 141/400\n",
      "1/1 - 0s - loss: 1.0359 - acc: 0.6401\n",
      "Epoch 142/400\n",
      "1/1 - 0s - loss: 1.0266 - acc: 0.6426\n",
      "Epoch 143/400\n",
      "1/1 - 0s - loss: 1.0325 - acc: 0.6386\n",
      "Epoch 144/400\n",
      "1/1 - 0s - loss: 1.0283 - acc: 0.6408\n",
      "Epoch 145/400\n",
      "1/1 - 0s - loss: 1.0254 - acc: 0.6439\n",
      "Epoch 146/400\n",
      "1/1 - 0s - loss: 1.0263 - acc: 0.6419\n",
      "Epoch 147/400\n",
      "1/1 - 0s - loss: 1.0194 - acc: 0.6426\n",
      "Epoch 148/400\n",
      "1/1 - 0s - loss: 1.0346 - acc: 0.6419\n",
      "Epoch 149/400\n",
      "1/1 - 0s - loss: 1.0299 - acc: 0.6417\n",
      "Epoch 150/400\n",
      "1/1 - 0s - loss: 1.0222 - acc: 0.6451\n",
      "Epoch 151/400\n",
      "1/1 - 0s - loss: 1.0227 - acc: 0.6442\n",
      "Epoch 152/400\n",
      "1/1 - 0s - loss: 1.0321 - acc: 0.6384\n",
      "Epoch 153/400\n",
      "1/1 - 0s - loss: 1.0305 - acc: 0.6423\n",
      "Epoch 154/400\n",
      "1/1 - 0s - loss: 1.0178 - acc: 0.6483\n",
      "Epoch 155/400\n",
      "1/1 - 0s - loss: 1.0193 - acc: 0.6487\n",
      "Epoch 156/400\n",
      "1/1 - 0s - loss: 1.0152 - acc: 0.6437\n",
      "Epoch 157/400\n",
      "1/1 - 0s - loss: 1.0181 - acc: 0.6453\n",
      "Epoch 158/400\n",
      "1/1 - 0s - loss: 1.0250 - acc: 0.6437\n",
      "Epoch 159/400\n",
      "1/1 - 0s - loss: 1.0107 - acc: 0.6491\n",
      "Epoch 160/400\n",
      "1/1 - 0s - loss: 1.0187 - acc: 0.6464\n"
     ]
    },
    {
     "name": "stdout",
     "output_type": "stream",
     "text": [
      "Epoch 161/400\n",
      "1/1 - 0s - loss: 1.0207 - acc: 0.6437\n",
      "Epoch 162/400\n",
      "1/1 - 0s - loss: 1.0101 - acc: 0.6442\n",
      "Epoch 163/400\n",
      "1/1 - 0s - loss: 1.0140 - acc: 0.6462\n",
      "Epoch 164/400\n",
      "1/1 - 0s - loss: 1.0169 - acc: 0.6467\n",
      "Epoch 165/400\n",
      "1/1 - 0s - loss: 1.0069 - acc: 0.6525\n",
      "Epoch 166/400\n",
      "1/1 - 0s - loss: 1.0056 - acc: 0.6492\n",
      "Epoch 167/400\n",
      "1/1 - 0s - loss: 1.0212 - acc: 0.6483\n",
      "Epoch 168/400\n",
      "1/1 - 0s - loss: 1.0162 - acc: 0.6464\n",
      "Epoch 169/400\n",
      "1/1 - 0s - loss: 1.0046 - acc: 0.6498\n",
      "Epoch 170/400\n",
      "1/1 - 0s - loss: 1.0162 - acc: 0.6467\n",
      "Epoch 171/400\n",
      "1/1 - 0s - loss: 1.0062 - acc: 0.6464\n",
      "Epoch 172/400\n",
      "1/1 - 0s - loss: 1.0137 - acc: 0.6472\n",
      "Epoch 173/400\n",
      "1/1 - 0s - loss: 1.0029 - acc: 0.6493\n",
      "Epoch 174/400\n",
      "1/1 - 0s - loss: 1.0051 - acc: 0.6502\n",
      "Epoch 175/400\n",
      "1/1 - 0s - loss: 1.0071 - acc: 0.6517\n",
      "Epoch 176/400\n",
      "1/1 - 0s - loss: 1.0096 - acc: 0.6469\n",
      "Epoch 177/400\n",
      "1/1 - 0s - loss: 1.0050 - acc: 0.6505\n",
      "Epoch 178/400\n",
      "1/1 - 0s - loss: 1.0131 - acc: 0.6447\n",
      "Epoch 179/400\n",
      "1/1 - 0s - loss: 0.9980 - acc: 0.6501\n",
      "Epoch 180/400\n",
      "1/1 - 0s - loss: 1.0080 - acc: 0.6528\n",
      "Epoch 181/400\n",
      "1/1 - 0s - loss: 1.0130 - acc: 0.6476\n",
      "Epoch 182/400\n",
      "1/1 - 0s - loss: 1.0032 - acc: 0.6514\n",
      "Epoch 183/400\n",
      "1/1 - 0s - loss: 1.0063 - acc: 0.6443\n",
      "Epoch 184/400\n",
      "1/1 - 0s - loss: 1.0051 - acc: 0.6508\n",
      "Epoch 185/400\n",
      "1/1 - 0s - loss: 1.0037 - acc: 0.6506\n",
      "Epoch 186/400\n",
      "1/1 - 0s - loss: 0.9953 - acc: 0.6486\n",
      "Epoch 187/400\n",
      "1/1 - 0s - loss: 1.0100 - acc: 0.6453\n",
      "Epoch 188/400\n",
      "1/1 - 0s - loss: 1.0059 - acc: 0.6506\n",
      "Epoch 189/400\n",
      "1/1 - 0s - loss: 1.0044 - acc: 0.6477\n",
      "Epoch 190/400\n",
      "1/1 - 0s - loss: 0.9972 - acc: 0.6473\n",
      "Epoch 191/400\n",
      "1/1 - 0s - loss: 1.0048 - acc: 0.6497\n",
      "Epoch 192/400\n",
      "1/1 - 0s - loss: 1.0017 - acc: 0.6505\n",
      "Epoch 193/400\n",
      "1/1 - 0s - loss: 0.9989 - acc: 0.6522\n",
      "Epoch 194/400\n",
      "1/1 - 0s - loss: 0.9983 - acc: 0.6478\n",
      "Epoch 195/400\n",
      "1/1 - 0s - loss: 0.9978 - acc: 0.6494\n",
      "Epoch 196/400\n",
      "1/1 - 0s - loss: 0.9988 - acc: 0.6466\n",
      "Epoch 197/400\n",
      "1/1 - 0s - loss: 0.9974 - acc: 0.6473\n",
      "Epoch 198/400\n",
      "1/1 - 0s - loss: 0.9923 - acc: 0.6536\n",
      "Epoch 199/400\n",
      "1/1 - 0s - loss: 0.9876 - acc: 0.6532\n",
      "Epoch 200/400\n",
      "1/1 - 0s - loss: 0.9943 - acc: 0.6519\n",
      "Epoch 201/400\n",
      "1/1 - 0s - loss: 0.9969 - acc: 0.6503\n",
      "Epoch 202/400\n",
      "1/1 - 0s - loss: 0.9987 - acc: 0.6535\n",
      "Epoch 203/400\n",
      "1/1 - 0s - loss: 0.9962 - acc: 0.6476\n",
      "Epoch 204/400\n",
      "1/1 - 0s - loss: 0.9921 - acc: 0.6581\n",
      "Epoch 205/400\n",
      "1/1 - 0s - loss: 0.9963 - acc: 0.6502\n",
      "Epoch 206/400\n",
      "1/1 - 0s - loss: 1.0006 - acc: 0.6496\n",
      "Epoch 207/400\n",
      "1/1 - 0s - loss: 0.9965 - acc: 0.6486\n",
      "Epoch 208/400\n",
      "1/1 - 0s - loss: 0.9945 - acc: 0.6465\n",
      "Epoch 209/400\n",
      "1/1 - 0s - loss: 0.9922 - acc: 0.6545\n",
      "Epoch 210/400\n",
      "1/1 - 0s - loss: 0.9835 - acc: 0.6532\n",
      "Epoch 211/400\n",
      "1/1 - 0s - loss: 0.9983 - acc: 0.6505\n",
      "Epoch 212/400\n",
      "1/1 - 0s - loss: 0.9820 - acc: 0.6568\n",
      "Epoch 213/400\n",
      "1/1 - 0s - loss: 0.9871 - acc: 0.6517\n",
      "Epoch 214/400\n",
      "1/1 - 0s - loss: 0.9920 - acc: 0.6517\n",
      "Epoch 215/400\n",
      "1/1 - 0s - loss: 0.9979 - acc: 0.6527\n",
      "Epoch 216/400\n",
      "1/1 - 0s - loss: 0.9879 - acc: 0.6553\n",
      "Epoch 217/400\n",
      "1/1 - 0s - loss: 0.9952 - acc: 0.6528\n",
      "Epoch 218/400\n",
      "1/1 - 0s - loss: 0.9889 - acc: 0.6549\n",
      "Epoch 219/400\n",
      "1/1 - 0s - loss: 0.9938 - acc: 0.6528\n",
      "Epoch 220/400\n",
      "1/1 - 0s - loss: 0.9840 - acc: 0.6575\n",
      "Epoch 221/400\n",
      "1/1 - 0s - loss: 0.9939 - acc: 0.6551\n",
      "Epoch 222/400\n",
      "1/1 - 0s - loss: 0.9904 - acc: 0.6527\n",
      "Epoch 223/400\n",
      "1/1 - 0s - loss: 0.9868 - acc: 0.6582\n",
      "Epoch 224/400\n",
      "1/1 - 0s - loss: 0.9902 - acc: 0.6549\n",
      "Epoch 225/400\n",
      "1/1 - 0s - loss: 0.9775 - acc: 0.6559\n",
      "Epoch 226/400\n",
      "1/1 - 0s - loss: 0.9930 - acc: 0.6531\n",
      "Epoch 227/400\n",
      "1/1 - 0s - loss: 0.9931 - acc: 0.6525\n",
      "Epoch 228/400\n",
      "1/1 - 0s - loss: 0.9793 - acc: 0.6553\n",
      "Epoch 229/400\n",
      "1/1 - 0s - loss: 0.9818 - acc: 0.6531\n",
      "Epoch 230/400\n",
      "1/1 - 0s - loss: 0.9844 - acc: 0.6526\n",
      "Epoch 231/400\n",
      "1/1 - 0s - loss: 0.9836 - acc: 0.6519\n",
      "Epoch 232/400\n",
      "1/1 - 0s - loss: 0.9828 - acc: 0.6512\n",
      "Epoch 233/400\n",
      "1/1 - 0s - loss: 0.9895 - acc: 0.6499\n",
      "Epoch 234/400\n",
      "1/1 - 0s - loss: 0.9804 - acc: 0.6588\n",
      "Epoch 235/400\n",
      "1/1 - 0s - loss: 0.9801 - acc: 0.6563\n",
      "Epoch 236/400\n",
      "1/1 - 0s - loss: 0.9906 - acc: 0.6514\n",
      "Epoch 237/400\n",
      "1/1 - 0s - loss: 0.9797 - acc: 0.6529\n",
      "Epoch 238/400\n",
      "1/1 - 0s - loss: 0.9815 - acc: 0.6534\n",
      "Epoch 239/400\n",
      "1/1 - 0s - loss: 0.9740 - acc: 0.6552\n",
      "Epoch 240/400\n",
      "1/1 - 0s - loss: 0.9903 - acc: 0.6533\n",
      "Epoch 241/400\n",
      "1/1 - 0s - loss: 0.9810 - acc: 0.6565\n",
      "Epoch 242/400\n",
      "1/1 - 0s - loss: 0.9849 - acc: 0.6556\n",
      "Epoch 243/400\n",
      "1/1 - 0s - loss: 0.9896 - acc: 0.6529\n",
      "Epoch 244/400\n",
      "1/1 - 0s - loss: 0.9690 - acc: 0.6583\n",
      "Epoch 245/400\n",
      "1/1 - 0s - loss: 0.9799 - acc: 0.6528\n",
      "Epoch 246/400\n",
      "1/1 - 0s - loss: 0.9771 - acc: 0.6568\n",
      "Epoch 247/400\n",
      "1/1 - 0s - loss: 0.9870 - acc: 0.6553\n",
      "Epoch 248/400\n",
      "1/1 - 0s - loss: 0.9796 - acc: 0.6558\n",
      "Epoch 249/400\n",
      "1/1 - 0s - loss: 0.9807 - acc: 0.6572\n",
      "Epoch 250/400\n",
      "1/1 - 0s - loss: 0.9803 - acc: 0.6530\n",
      "Epoch 251/400\n",
      "1/1 - 0s - loss: 0.9912 - acc: 0.6512\n",
      "Epoch 252/400\n",
      "1/1 - 0s - loss: 0.9783 - acc: 0.6555\n",
      "Epoch 253/400\n",
      "1/1 - 0s - loss: 0.9697 - acc: 0.6601\n",
      "Epoch 254/400\n",
      "1/1 - 0s - loss: 0.9721 - acc: 0.6612\n",
      "Epoch 255/400\n",
      "1/1 - 0s - loss: 0.9812 - acc: 0.6504\n",
      "Epoch 256/400\n",
      "1/1 - 0s - loss: 0.9717 - acc: 0.6595\n",
      "Epoch 257/400\n",
      "1/1 - 0s - loss: 0.9715 - acc: 0.6590\n",
      "Epoch 258/400\n",
      "1/1 - 0s - loss: 0.9678 - acc: 0.6593\n",
      "Epoch 259/400\n",
      "1/1 - 0s - loss: 0.9676 - acc: 0.6593\n",
      "Epoch 260/400\n",
      "1/1 - 0s - loss: 0.9681 - acc: 0.6587\n",
      "Epoch 261/400\n",
      "1/1 - 0s - loss: 0.9624 - acc: 0.6644\n",
      "Epoch 262/400\n",
      "1/1 - 0s - loss: 0.9832 - acc: 0.6590\n",
      "Epoch 263/400\n",
      "1/1 - 0s - loss: 0.9663 - acc: 0.6612\n",
      "Epoch 264/400\n",
      "1/1 - 0s - loss: 0.9732 - acc: 0.6609\n",
      "Epoch 265/400\n",
      "1/1 - 0s - loss: 0.9669 - acc: 0.6597\n",
      "Epoch 266/400\n",
      "1/1 - 0s - loss: 0.9751 - acc: 0.6592\n",
      "Epoch 267/400\n",
      "1/1 - 0s - loss: 0.9782 - acc: 0.6562\n",
      "Epoch 268/400\n",
      "1/1 - 0s - loss: 0.9754 - acc: 0.6566\n",
      "Epoch 269/400\n",
      "1/1 - 0s - loss: 0.9763 - acc: 0.6571\n",
      "Epoch 270/400\n",
      "1/1 - 0s - loss: 0.9624 - acc: 0.6618\n",
      "Epoch 271/400\n",
      "1/1 - 0s - loss: 0.9665 - acc: 0.6595\n",
      "Epoch 272/400\n",
      "1/1 - 0s - loss: 0.9572 - acc: 0.6644\n",
      "Epoch 273/400\n",
      "1/1 - 0s - loss: 0.9793 - acc: 0.6504\n",
      "Epoch 274/400\n",
      "1/1 - 0s - loss: 0.9792 - acc: 0.6565\n",
      "Epoch 275/400\n",
      "1/1 - 0s - loss: 0.9600 - acc: 0.6617\n",
      "Epoch 276/400\n",
      "1/1 - 0s - loss: 0.9670 - acc: 0.6583\n",
      "Epoch 277/400\n",
      "1/1 - 0s - loss: 0.9715 - acc: 0.6579\n",
      "Epoch 278/400\n",
      "1/1 - 0s - loss: 0.9772 - acc: 0.6571\n",
      "Epoch 279/400\n",
      "1/1 - 0s - loss: 0.9739 - acc: 0.6542\n",
      "Epoch 280/400\n",
      "1/1 - 0s - loss: 0.9708 - acc: 0.6572\n",
      "Epoch 281/400\n",
      "1/1 - 0s - loss: 0.9646 - acc: 0.6587\n",
      "Epoch 282/400\n",
      "1/1 - 0s - loss: 0.9708 - acc: 0.6542\n",
      "Epoch 283/400\n",
      "1/1 - 0s - loss: 0.9583 - acc: 0.6631\n",
      "Epoch 284/400\n",
      "1/1 - 0s - loss: 0.9715 - acc: 0.6531\n",
      "Epoch 285/400\n",
      "1/1 - 0s - loss: 0.9575 - acc: 0.6662\n",
      "Epoch 286/400\n",
      "1/1 - 0s - loss: 0.9627 - acc: 0.6583\n",
      "Epoch 287/400\n",
      "1/1 - 0s - loss: 0.9661 - acc: 0.6579\n",
      "Epoch 288/400\n",
      "1/1 - 0s - loss: 0.9696 - acc: 0.6567\n",
      "Epoch 289/400\n",
      "1/1 - 0s - loss: 0.9652 - acc: 0.6571\n",
      "Epoch 290/400\n",
      "1/1 - 0s - loss: 0.9745 - acc: 0.6589\n",
      "Epoch 291/400\n",
      "1/1 - 0s - loss: 0.9664 - acc: 0.6625\n",
      "Epoch 292/400\n",
      "1/1 - 0s - loss: 0.9623 - acc: 0.6581\n",
      "Epoch 293/400\n",
      "1/1 - 0s - loss: 0.9683 - acc: 0.6594\n",
      "Epoch 294/400\n",
      "1/1 - 0s - loss: 0.9755 - acc: 0.6552\n",
      "Epoch 295/400\n",
      "1/1 - 0s - loss: 0.9682 - acc: 0.6585\n",
      "Epoch 296/400\n",
      "1/1 - 0s - loss: 0.9652 - acc: 0.6586\n",
      "Epoch 297/400\n",
      "1/1 - 0s - loss: 0.9652 - acc: 0.6608\n",
      "Epoch 298/400\n",
      "1/1 - 0s - loss: 0.9613 - acc: 0.6634\n",
      "Epoch 299/400\n",
      "1/1 - 0s - loss: 0.9675 - acc: 0.6606\n",
      "Epoch 300/400\n",
      "1/1 - 0s - loss: 0.9585 - acc: 0.6611\n",
      "Epoch 301/400\n",
      "1/1 - 0s - loss: 0.9693 - acc: 0.6569\n",
      "Epoch 302/400\n",
      "1/1 - 0s - loss: 0.9652 - acc: 0.6588\n",
      "Epoch 303/400\n",
      "1/1 - 0s - loss: 0.9685 - acc: 0.6562\n",
      "Epoch 304/400\n",
      "1/1 - 0s - loss: 0.9637 - acc: 0.6592\n",
      "Epoch 305/400\n",
      "1/1 - 0s - loss: 0.9672 - acc: 0.6601\n",
      "Epoch 306/400\n",
      "1/1 - 0s - loss: 0.9612 - acc: 0.6587\n",
      "Epoch 307/400\n",
      "1/1 - 0s - loss: 0.9689 - acc: 0.6568\n",
      "Epoch 308/400\n",
      "1/1 - 0s - loss: 0.9664 - acc: 0.6617\n",
      "Epoch 309/400\n",
      "1/1 - 0s - loss: 0.9650 - acc: 0.6605\n",
      "Epoch 310/400\n",
      "1/1 - 0s - loss: 0.9611 - acc: 0.6628\n",
      "Epoch 311/400\n",
      "1/1 - 0s - loss: 0.9609 - acc: 0.6580\n",
      "Epoch 312/400\n",
      "1/1 - 0s - loss: 0.9745 - acc: 0.6566\n",
      "Epoch 313/400\n",
      "1/1 - 0s - loss: 0.9640 - acc: 0.6648\n",
      "Epoch 314/400\n",
      "1/1 - 0s - loss: 0.9660 - acc: 0.6604\n",
      "Epoch 315/400\n",
      "1/1 - 0s - loss: 0.9569 - acc: 0.6636\n",
      "Epoch 316/400\n",
      "1/1 - 0s - loss: 0.9574 - acc: 0.6634\n",
      "Epoch 317/400\n",
      "1/1 - 0s - loss: 0.9599 - acc: 0.6608\n",
      "Epoch 318/400\n",
      "1/1 - 0s - loss: 0.9605 - acc: 0.6621\n"
     ]
    },
    {
     "name": "stdout",
     "output_type": "stream",
     "text": [
      "Epoch 319/400\n",
      "1/1 - 0s - loss: 0.9769 - acc: 0.6529\n",
      "Epoch 320/400\n",
      "1/1 - 0s - loss: 0.9652 - acc: 0.6611\n",
      "Epoch 321/400\n",
      "1/1 - 0s - loss: 0.9573 - acc: 0.6612\n",
      "Epoch 322/400\n",
      "1/1 - 0s - loss: 0.9621 - acc: 0.6600\n",
      "Epoch 323/400\n",
      "1/1 - 0s - loss: 0.9532 - acc: 0.6649\n",
      "Epoch 324/400\n",
      "1/1 - 0s - loss: 0.9596 - acc: 0.6613\n",
      "Epoch 325/400\n",
      "1/1 - 0s - loss: 0.9550 - acc: 0.6657\n",
      "Epoch 326/400\n",
      "1/1 - 0s - loss: 0.9532 - acc: 0.6636\n",
      "Epoch 327/400\n",
      "1/1 - 0s - loss: 0.9532 - acc: 0.6588\n",
      "Epoch 328/400\n",
      "1/1 - 0s - loss: 0.9578 - acc: 0.6585\n",
      "Epoch 329/400\n",
      "1/1 - 0s - loss: 0.9601 - acc: 0.6617\n",
      "Epoch 330/400\n",
      "1/1 - 0s - loss: 0.9561 - acc: 0.6649\n",
      "Epoch 331/400\n",
      "1/1 - 0s - loss: 0.9614 - acc: 0.6601\n",
      "Epoch 332/400\n",
      "1/1 - 0s - loss: 0.9529 - acc: 0.6662\n",
      "Epoch 333/400\n",
      "1/1 - 0s - loss: 0.9542 - acc: 0.6635\n",
      "Epoch 334/400\n",
      "1/1 - 0s - loss: 0.9651 - acc: 0.6582\n",
      "Epoch 335/400\n",
      "1/1 - 0s - loss: 0.9631 - acc: 0.6578\n",
      "Epoch 336/400\n",
      "1/1 - 0s - loss: 0.9570 - acc: 0.6667\n",
      "Epoch 337/400\n",
      "1/1 - 0s - loss: 0.9552 - acc: 0.6633\n",
      "Epoch 338/400\n",
      "1/1 - 0s - loss: 0.9508 - acc: 0.6599\n",
      "Epoch 339/400\n",
      "1/1 - 0s - loss: 0.9566 - acc: 0.6599\n",
      "Epoch 340/400\n",
      "1/1 - 0s - loss: 0.9550 - acc: 0.6655\n",
      "Epoch 341/400\n",
      "1/1 - 0s - loss: 0.9597 - acc: 0.6672\n",
      "Epoch 342/400\n",
      "1/1 - 0s - loss: 0.9551 - acc: 0.6667\n",
      "Epoch 343/400\n",
      "1/1 - 0s - loss: 0.9628 - acc: 0.6634\n",
      "Epoch 344/400\n",
      "1/1 - 0s - loss: 0.9596 - acc: 0.6647\n",
      "Epoch 345/400\n",
      "1/1 - 0s - loss: 0.9637 - acc: 0.6586\n",
      "Epoch 346/400\n",
      "1/1 - 0s - loss: 0.9464 - acc: 0.6635\n",
      "Epoch 347/400\n",
      "1/1 - 0s - loss: 0.9654 - acc: 0.6643\n",
      "Epoch 348/400\n",
      "1/1 - 0s - loss: 0.9601 - acc: 0.6630\n",
      "Epoch 349/400\n",
      "1/1 - 0s - loss: 0.9465 - acc: 0.6675\n",
      "Epoch 350/400\n",
      "1/1 - 0s - loss: 0.9610 - acc: 0.6598\n",
      "Epoch 351/400\n",
      "1/1 - 0s - loss: 0.9489 - acc: 0.6671\n",
      "Epoch 352/400\n",
      "1/1 - 0s - loss: 0.9478 - acc: 0.6683\n",
      "Epoch 353/400\n",
      "1/1 - 0s - loss: 0.9519 - acc: 0.6605\n",
      "Epoch 354/400\n",
      "1/1 - 0s - loss: 0.9411 - acc: 0.6642\n",
      "Epoch 355/400\n",
      "1/1 - 0s - loss: 0.9529 - acc: 0.6671\n",
      "Epoch 356/400\n",
      "1/1 - 0s - loss: 0.9572 - acc: 0.6571\n",
      "Epoch 357/400\n",
      "1/1 - 0s - loss: 0.9501 - acc: 0.6640\n",
      "Epoch 358/400\n",
      "1/1 - 0s - loss: 0.9633 - acc: 0.6572\n",
      "Epoch 359/400\n",
      "1/1 - 0s - loss: 0.9558 - acc: 0.6635\n",
      "Epoch 360/400\n",
      "1/1 - 0s - loss: 0.9578 - acc: 0.6626\n",
      "Epoch 361/400\n",
      "1/1 - 0s - loss: 0.9577 - acc: 0.6594\n",
      "Epoch 362/400\n",
      "1/1 - 0s - loss: 0.9570 - acc: 0.6610\n",
      "Epoch 363/400\n",
      "1/1 - 0s - loss: 0.9526 - acc: 0.6631\n",
      "Epoch 364/400\n",
      "1/1 - 0s - loss: 0.9628 - acc: 0.6617\n",
      "Epoch 365/400\n",
      "1/1 - 0s - loss: 0.9462 - acc: 0.6675\n",
      "Epoch 366/400\n",
      "1/1 - 0s - loss: 0.9475 - acc: 0.6662\n",
      "Epoch 367/400\n",
      "1/1 - 0s - loss: 0.9503 - acc: 0.6640\n",
      "Epoch 368/400\n",
      "1/1 - 0s - loss: 0.9492 - acc: 0.6632\n",
      "Epoch 369/400\n",
      "1/1 - 0s - loss: 0.9382 - acc: 0.6680\n",
      "Epoch 370/400\n",
      "1/1 - 0s - loss: 0.9544 - acc: 0.6601\n",
      "Epoch 371/400\n",
      "1/1 - 0s - loss: 0.9465 - acc: 0.6658\n",
      "Epoch 372/400\n",
      "1/1 - 0s - loss: 0.9513 - acc: 0.6658\n",
      "Epoch 373/400\n",
      "1/1 - 0s - loss: 0.9461 - acc: 0.6672\n",
      "Epoch 374/400\n",
      "1/1 - 0s - loss: 0.9528 - acc: 0.6647\n",
      "Epoch 375/400\n",
      "1/1 - 0s - loss: 0.9436 - acc: 0.6714\n",
      "Epoch 376/400\n",
      "1/1 - 0s - loss: 0.9492 - acc: 0.6630\n",
      "Epoch 377/400\n",
      "1/1 - 0s - loss: 0.9511 - acc: 0.6649\n",
      "Epoch 378/400\n",
      "1/1 - 0s - loss: 0.9439 - acc: 0.6665\n",
      "Epoch 379/400\n",
      "1/1 - 0s - loss: 0.9483 - acc: 0.6674\n",
      "Epoch 380/400\n",
      "1/1 - 0s - loss: 0.9553 - acc: 0.6644\n",
      "Epoch 381/400\n",
      "1/1 - 0s - loss: 0.9507 - acc: 0.6608\n",
      "Epoch 382/400\n",
      "1/1 - 0s - loss: 0.9511 - acc: 0.6627\n",
      "Epoch 383/400\n",
      "1/1 - 0s - loss: 0.9501 - acc: 0.6626\n",
      "Epoch 384/400\n",
      "1/1 - 0s - loss: 0.9422 - acc: 0.6667\n",
      "Epoch 385/400\n",
      "1/1 - 0s - loss: 0.9512 - acc: 0.6643\n",
      "Epoch 386/400\n",
      "1/1 - 0s - loss: 0.9595 - acc: 0.6609\n",
      "Epoch 387/400\n",
      "1/1 - 0s - loss: 0.9471 - acc: 0.6656\n",
      "Epoch 388/400\n",
      "1/1 - 0s - loss: 0.9518 - acc: 0.6632\n",
      "Epoch 389/400\n",
      "1/1 - 0s - loss: 0.9508 - acc: 0.6649\n",
      "Epoch 390/400\n",
      "1/1 - 0s - loss: 0.9538 - acc: 0.6610\n",
      "Epoch 391/400\n",
      "1/1 - 0s - loss: 0.9487 - acc: 0.6625\n",
      "Epoch 392/400\n",
      "1/1 - 0s - loss: 0.9527 - acc: 0.6624\n",
      "Epoch 393/400\n",
      "1/1 - 0s - loss: 0.9409 - acc: 0.6671\n",
      "Epoch 394/400\n",
      "1/1 - 0s - loss: 0.9459 - acc: 0.6681\n",
      "Epoch 395/400\n",
      "1/1 - 0s - loss: 0.9669 - acc: 0.6584\n",
      "Epoch 396/400\n",
      "1/1 - 0s - loss: 0.9463 - acc: 0.6677\n",
      "Epoch 397/400\n",
      "1/1 - 0s - loss: 0.9521 - acc: 0.6619\n",
      "Epoch 398/400\n",
      "1/1 - 0s - loss: 0.9520 - acc: 0.6596\n",
      "Epoch 399/400\n",
      "1/1 - 0s - loss: 0.9440 - acc: 0.6612\n",
      "Epoch 400/400\n",
      "1/1 - 0s - loss: 0.9459 - acc: 0.6674\n"
     ]
    },
    {
     "data": {
      "text/plain": [
       "<tensorflow.python.keras.callbacks.History at 0x7fa5fe01e320>"
      ]
     },
     "execution_count": 127,
     "metadata": {},
     "output_type": "execute_result"
    }
   ],
   "source": [
    "model.fit(\n",
    "    train_gen,\n",
    "    epochs=400,\n",
    "    verbose=2,\n",
    "    shuffle=False,  # this should be False, since shuffling data means shuffling the whole graph\n",
    ")"
   ]
  },
  {
   "cell_type": "code",
   "execution_count": 130,
   "id": "improved-slovenia",
   "metadata": {},
   "outputs": [],
   "source": [
    "test_gen = generator.flow(list(test_targets.index), encoded_test_targets)"
   ]
  },
  {
   "cell_type": "code",
   "execution_count": 131,
   "id": "explicit-chick",
   "metadata": {},
   "outputs": [
    {
     "name": "stdout",
     "output_type": "stream",
     "text": [
      "1/1 [==============================] - 0s 190ms/step - loss: 1.4122 - acc: 0.5856\n",
      "\n",
      "Test Set Metrics:\n",
      "\tloss: 1.4122\n",
      "\tacc: 0.5856\n"
     ]
    }
   ],
   "source": [
    "test_metrics = model.evaluate(test_gen)\n",
    "print(\"\\nTest Set Metrics:\")\n",
    "for name, val in zip(model.metrics_names, test_metrics):\n",
    "    print(\"\\t{}: {:0.4f}\".format(name, val))"
   ]
  },
  {
   "cell_type": "code",
   "execution_count": 134,
   "id": "accessible-reynolds",
   "metadata": {},
   "outputs": [],
   "source": [
    "all_gen = generator.flow(transformed_frame.nodes())\n",
    "all_predictions = model.predict(all_gen)"
   ]
  },
  {
   "cell_type": "code",
   "execution_count": 135,
   "id": "artificial-mistake",
   "metadata": {},
   "outputs": [],
   "source": [
    "embedding_model = Model(inputs=x_inp, outputs=x_out)"
   ]
  },
  {
   "cell_type": "code",
   "execution_count": 136,
   "id": "korean-wyoming",
   "metadata": {},
   "outputs": [
    {
     "data": {
      "text/plain": [
       "(1, 17989, 30)"
      ]
     },
     "execution_count": 136,
     "metadata": {},
     "output_type": "execute_result"
    }
   ],
   "source": [
    "emb = embedding_model.predict(all_gen)\n",
    "emb.shape"
   ]
  },
  {
   "cell_type": "code",
   "execution_count": 140,
   "id": "horizontal-secretary",
   "metadata": {},
   "outputs": [
    {
     "data": {
      "text/plain": [
       "(17989, 30)"
      ]
     },
     "execution_count": 140,
     "metadata": {},
     "output_type": "execute_result"
    }
   ],
   "source": [
    "emb[0].shape"
   ]
  },
  {
   "cell_type": "markdown",
   "id": "understanding-money",
   "metadata": {},
   "source": [
    "# prepare entity data"
   ]
  },
  {
   "cell_type": "code",
   "execution_count": 329,
   "id": "plain-exhaust",
   "metadata": {},
   "outputs": [],
   "source": [
    "neighbors, dist = node2vec.get_similar_points(existing_indices=[\"glucose\", \"covid-19\"])"
   ]
  },
  {
   "cell_type": "code",
   "execution_count": 330,
   "id": "naked-painting",
   "metadata": {},
   "outputs": [
    {
     "data": {
      "text/plain": [
       "[Index(['glucose', 'nonalcoholic steatohepatitis', 'insulin', 'adenosine',\n",
       "        'metabolic disorder', 'testis', 'stress', 'alanine', 'plasma',\n",
       "        'glyburide'],\n",
       "       dtype='object'),\n",
       " Index(['covid-19', 'multiple organ failure', 'platelet', 'coronavirus',\n",
       "        'acute respiratory distress syndrome', 'thrombolytic agent',\n",
       "        'cardiovascular complication', 'severe acute respiratory syndrome',\n",
       "        'cardiovascular system', 'dysfunction'],\n",
       "       dtype='object')]"
      ]
     },
     "execution_count": 330,
     "metadata": {},
     "output_type": "execute_result"
    }
   ],
   "source": [
    "neighbors"
   ]
  },
  {
   "cell_type": "code",
   "execution_count": 331,
   "id": "medium-diagnosis",
   "metadata": {},
   "outputs": [
    {
     "data": {
      "text/plain": [
       "array([[1.0000001 , 0.9999429 , 0.9999413 , 0.9999406 , 0.99993944,\n",
       "        0.99993914, 0.99993783, 0.99993575, 0.99993414, 0.9999339 ],\n",
       "       [1.        , 0.9999411 , 0.999937  , 0.9999359 , 0.99993193,\n",
       "        0.99993044, 0.9999237 , 0.999921  , 0.99991894, 0.9999187 ]],\n",
       "      dtype=float32)"
      ]
     },
     "execution_count": 331,
     "metadata": {},
     "output_type": "execute_result"
    }
   ],
   "source": [
    "dist"
   ]
  },
  {
   "cell_type": "code",
   "execution_count": 332,
   "id": "apparent-broadcasting",
   "metadata": {},
   "outputs": [],
   "source": [
    "node2vec = FaissSimilarityProcessor(\n",
    "    dimension=64,\n",
    "    similarity=\"dot\",\n",
    "    initial_vectors=np.array(node2vec_embedding[\"embedding\"].tolist()),\n",
    "    initial_index=node2vec_embedding.index,)"
   ]
  },
  {
   "cell_type": "code",
   "execution_count": 333,
   "id": "brief-illinois",
   "metadata": {},
   "outputs": [],
   "source": [
    "neighbors, dist = node2vec.get_similar_points(existing_indices=[\"glucose\", \"covid-19\"])"
   ]
  },
  {
   "cell_type": "code",
   "execution_count": 334,
   "id": "affiliated-penetration",
   "metadata": {},
   "outputs": [
    {
     "data": {
      "text/plain": [
       "[Index(['intestine', 'leukocyte', 'bone marrow', 'skin necrosis', 'man',\n",
       "        'skin rash', 'accumulation', 'growth factor', 'proliferation', 'colon'],\n",
       "       dtype='object'),\n",
       " Index(['intestine', 'leukocyte', 'bone marrow', 'skin necrosis', 'man',\n",
       "        'skin rash', 'accumulation', 'growth factor', 'proliferation', 'colon'],\n",
       "       dtype='object')]"
      ]
     },
     "execution_count": 334,
     "metadata": {},
     "output_type": "execute_result"
    }
   ],
   "source": [
    "neighbors"
   ]
  },
  {
   "cell_type": "code",
   "execution_count": 12,
   "id": "formed-leader",
   "metadata": {},
   "outputs": [],
   "source": [
    "a = [5, 0]\n",
    "b = [0, 5]\n",
    "c = [3, 2]\n",
    "d = [5, 0.5]"
   ]
  },
  {
   "cell_type": "code",
   "execution_count": 13,
   "id": "legitimate-ontario",
   "metadata": {},
   "outputs": [],
   "source": [
    "import numpy as np"
   ]
  },
  {
   "cell_type": "code",
   "execution_count": 15,
   "id": "choice-movie",
   "metadata": {},
   "outputs": [],
   "source": [
    "\n",
    "# a, d, c, b\n",
    "# b, c, d, a"
   ]
  },
  {
   "cell_type": "code",
   "execution_count": 16,
   "id": "graduate-bishop",
   "metadata": {},
   "outputs": [],
   "source": [
    "# a, d, c, b"
   ]
  },
  {
   "cell_type": "code",
   "execution_count": 10,
   "id": "subjective-toddler",
   "metadata": {
    "scrolled": true
   },
   "outputs": [],
   "source": [
    "def cosine(a, b):\n",
    "    return np.inner(np.array(a)/np.linalg.norm(np.array(a)), np.array(b)/np.linalg.norm(np.array(b)))"
   ]
  },
  {
   "cell_type": "code",
   "execution_count": 26,
   "id": "narrative-extension",
   "metadata": {},
   "outputs": [
    {
     "data": {
      "text/plain": [
       "0.0"
      ]
     },
     "execution_count": 26,
     "metadata": {},
     "output_type": "execute_result"
    }
   ],
   "source": [
    "cosine(b, a)"
   ]
  },
  {
   "cell_type": "code",
   "execution_count": 27,
   "id": "according-three",
   "metadata": {},
   "outputs": [],
   "source": [
    "import networkx as nx"
   ]
  },
  {
   "cell_type": "code",
   "execution_count": 28,
   "id": "aware-township",
   "metadata": {},
   "outputs": [],
   "source": [
    "nx.from_pandas_edgelist?"
   ]
  },
  {
   "cell_type": "code",
   "execution_count": null,
   "id": "vertical-suicide",
   "metadata": {},
   "outputs": [],
   "source": []
  },
  {
   "cell_type": "code",
   "execution_count": null,
   "id": "otherwise-folks",
   "metadata": {},
   "outputs": [],
   "source": []
  },
  {
   "cell_type": "code",
   "execution_count": null,
   "id": "hawaiian-listening",
   "metadata": {},
   "outputs": [],
   "source": []
  },
  {
   "cell_type": "code",
   "execution_count": 1,
   "id": "elementary-blanket",
   "metadata": {},
   "outputs": [],
   "source": [
    "import faiss\n",
    "import numpy as np"
   ]
  },
  {
   "cell_type": "code",
   "execution_count": 2,
   "id": "explicit-estimate",
   "metadata": {},
   "outputs": [],
   "source": [
    "# a = np.array([5, 0])\n",
    "# b = np.array([0, 5])\n",
    "# c = np.array([3, 2])\n",
    "# d = np.array([5, 0.5])\n",
    "# vectors = [a, a*2, b, b*2, c, c*2, d, d*2]\n",
    "vectors = np.random.rand(10000, 2)\n",
    "vectors = np.array(vectors).astype(np.float32)"
   ]
  },
  {
   "cell_type": "code",
   "execution_count": 3,
   "id": "rolled-accuracy",
   "metadata": {},
   "outputs": [],
   "source": []
  },
  {
   "cell_type": "code",
   "execution_count": 4,
   "id": "legitimate-aquatic",
   "metadata": {},
   "outputs": [],
   "source": [
    "q = faiss.IndexFlatL2(2)\n",
    "index = faiss.IndexIVFFlat(q, 2, 100)"
   ]
  },
  {
   "cell_type": "code",
   "execution_count": 5,
   "id": "thousand-shock",
   "metadata": {},
   "outputs": [],
   "source": [
    "index.train(vectors)"
   ]
  },
  {
   "cell_type": "code",
   "execution_count": 6,
   "id": "limited-injection",
   "metadata": {},
   "outputs": [],
   "source": [
    "index.make_direct_map()"
   ]
  },
  {
   "cell_type": "code",
   "execution_count": 7,
   "id": "concrete-bristol",
   "metadata": {},
   "outputs": [],
   "source": [
    "index.add(vectors)"
   ]
  },
  {
   "cell_type": "code",
   "execution_count": 8,
   "id": "fuzzy-storm",
   "metadata": {},
   "outputs": [
    {
     "data": {
      "text/plain": [
       "array([0.48872378, 0.42502713], dtype=float32)"
      ]
     },
     "execution_count": 8,
     "metadata": {},
     "output_type": "execute_result"
    }
   ],
   "source": [
    "index.reconstruct(1)"
   ]
  },
  {
   "cell_type": "code",
   "execution_count": null,
   "id": "sexual-updating",
   "metadata": {},
   "outputs": [],
   "source": []
  }
 ],
 "metadata": {
  "kernelspec": {
   "display_name": "bluegraph",
   "language": "python",
   "name": "bluegraph"
  },
  "language_info": {
   "codemirror_mode": {
    "name": "ipython",
    "version": 3
   },
   "file_extension": ".py",
   "mimetype": "text/x-python",
   "name": "python",
   "nbconvert_exporter": "python",
   "pygments_lexer": "ipython3",
   "version": "3.6.12"
  }
 },
 "nbformat": 4,
 "nbformat_minor": 5
}
