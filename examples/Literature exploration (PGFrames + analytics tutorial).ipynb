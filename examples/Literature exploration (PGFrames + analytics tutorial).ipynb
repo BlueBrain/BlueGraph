{
 "cells": [
  {
   "cell_type": "markdown",
   "metadata": {},
   "source": [
    "# Literature exploration by term co-occurrance analysis\n",
    "\n",
    "In this example we illustrate how network analytics can be used for literature exploration. \n",
    "\n",
    "The input dataset contains occurrences of different terms in paragraphs of scientific articles previously extracted by means of a Named Entity Recognition (NER) model. This dataset is transformed into three co-occurrence networks: representing paper- and paragraph-level co-occurrence relation between terms. The term relations in the above-mentioned networks are quantified using mutual-information-based scores (pointwise mutual information and its normalized version).\n",
    "\n",
    "The networks are further analysed using classical tools from complex networks: we find various centrality measures characterizing the importance of extracted terms, we detect term communities representing denesely connected clusters of terms and finally we illustrate how the algorithms for finding shortest paths and minimum spanning trees can be used to perform guided search in networks."
   ]
  },
  {
   "cell_type": "code",
   "execution_count": 1,
   "metadata": {},
   "outputs": [],
   "source": [
    "import networkx as nx\n",
    "import pandas as pd\n",
    "import numpy as np"
   ]
  },
  {
   "cell_type": "code",
   "execution_count": 2,
   "metadata": {},
   "outputs": [],
   "source": [
    "from bluegraph.core import (PandasPGFrame,\n",
    "                            pretty_print_paths,\n",
    "                            pretty_print_tripaths,\n",
    "                            graph_elements_from_paths)\n",
    "from bluegraph.preprocess.generators import CooccurrenceGenerator\n",
    "\n",
    "from bluegraph.backends.graph_tool import (GTMetricProcessor,\n",
    "                                           GTPathFinder,\n",
    "                                           GTGraphProcessor,\n",
    "                                           GTCommunityDetector)\n",
    "from bluegraph.backends.graph_tool import graph_tool_to_pgframe\n",
    "\n",
    "from bluegraph.backends.networkx import NXCommunityDetector\n",
    "\n",
    "from bluegraph.backends.stellargraph import StellarGraphNodeEmbedder"
   ]
  },
  {
   "cell_type": "markdown",
   "metadata": {},
   "source": [
    "## I. Entity-occurrence property graph\n",
    "\n",
    "In this section we will create a property graph whose nodes are papers and extracted named entities, and whose edges connect entities to the papers they occur in."
   ]
  },
  {
   "cell_type": "markdown",
   "metadata": {},
   "source": [
    "The input data is given by occurrences of different entities in specific paragraphs of scientific articles."
   ]
  },
  {
   "cell_type": "code",
   "execution_count": 3,
   "metadata": {},
   "outputs": [],
   "source": [
    "mentions = pd.read_csv(\"data/literature_NER_example.csv\")"
   ]
  },
  {
   "cell_type": "code",
   "execution_count": 4,
   "metadata": {},
   "outputs": [
    {
     "data": {
      "text/html": [
       "<div>\n",
       "<style scoped>\n",
       "    .dataframe tbody tr th:only-of-type {\n",
       "        vertical-align: middle;\n",
       "    }\n",
       "\n",
       "    .dataframe tbody tr th {\n",
       "        vertical-align: top;\n",
       "    }\n",
       "\n",
       "    .dataframe thead th {\n",
       "        text-align: right;\n",
       "    }\n",
       "</style>\n",
       "<table border=\"1\" class=\"dataframe\">\n",
       "  <thead>\n",
       "    <tr style=\"text-align: right;\">\n",
       "      <th></th>\n",
       "      <th>entity</th>\n",
       "      <th>occurrence</th>\n",
       "    </tr>\n",
       "  </thead>\n",
       "  <tbody>\n",
       "    <tr>\n",
       "      <th>1434</th>\n",
       "      <td>sitagliptin</td>\n",
       "      <td>184360:Conclusion:63</td>\n",
       "    </tr>\n",
       "    <tr>\n",
       "      <th>539</th>\n",
       "      <td>diabetes mellitus</td>\n",
       "      <td>197804:Discussion:37</td>\n",
       "    </tr>\n",
       "    <tr>\n",
       "      <th>34</th>\n",
       "      <td>acute respiratory distress syndrome</td>\n",
       "      <td>179426:Morbidity And Mortality In Diabetic Coh...</td>\n",
       "    </tr>\n",
       "    <tr>\n",
       "      <th>877</th>\n",
       "      <td>host cell</td>\n",
       "      <td>184360:Mechanisms Of Sars-Cov-2 Entry Into Hos...</td>\n",
       "    </tr>\n",
       "    <tr>\n",
       "      <th>491</th>\n",
       "      <td>death</td>\n",
       "      <td>129074:Abstract:1</td>\n",
       "    </tr>\n",
       "  </tbody>\n",
       "</table>\n",
       "</div>"
      ],
      "text/plain": [
       "                                   entity  \\\n",
       "1434                          sitagliptin   \n",
       "539                     diabetes mellitus   \n",
       "34    acute respiratory distress syndrome   \n",
       "877                             host cell   \n",
       "491                                 death   \n",
       "\n",
       "                                             occurrence  \n",
       "1434                               184360:Conclusion:63  \n",
       "539                                197804:Discussion:37  \n",
       "34    179426:Morbidity And Mortality In Diabetic Coh...  \n",
       "877   184360:Mechanisms Of Sars-Cov-2 Entry Into Hos...  \n",
       "491                                   129074:Abstract:1  "
      ]
     },
     "execution_count": 4,
     "metadata": {},
     "output_type": "execute_result"
    }
   ],
   "source": [
    "mentions.sample(5)"
   ]
  },
  {
   "cell_type": "markdown",
   "metadata": {},
   "source": [
    "Every paragraph is identified using the format `<paper_id>:<section_id>:<paragraph_id>`. From this data we will extract occurrences in distinct papers/paragraphs as follows:"
   ]
  },
  {
   "cell_type": "code",
   "execution_count": 5,
   "metadata": {},
   "outputs": [
    {
     "data": {
      "text/html": [
       "<div>\n",
       "<style scoped>\n",
       "    .dataframe tbody tr th:only-of-type {\n",
       "        vertical-align: middle;\n",
       "    }\n",
       "\n",
       "    .dataframe tbody tr th {\n",
       "        vertical-align: top;\n",
       "    }\n",
       "\n",
       "    .dataframe thead th {\n",
       "        text-align: right;\n",
       "    }\n",
       "</style>\n",
       "<table border=\"1\" class=\"dataframe\">\n",
       "  <thead>\n",
       "    <tr style=\"text-align: right;\">\n",
       "      <th></th>\n",
       "      <th>entity</th>\n",
       "      <th>paragraph</th>\n",
       "      <th>paper</th>\n",
       "    </tr>\n",
       "  </thead>\n",
       "  <tbody>\n",
       "    <tr>\n",
       "      <th>301</th>\n",
       "      <td>covid-19</td>\n",
       "      <td>197804:Discussion:48</td>\n",
       "      <td>197804</td>\n",
       "    </tr>\n",
       "    <tr>\n",
       "      <th>425</th>\n",
       "      <td>covid-19</td>\n",
       "      <td>211125:Study Design And Participants:9</td>\n",
       "      <td>211125</td>\n",
       "    </tr>\n",
       "    <tr>\n",
       "      <th>779</th>\n",
       "      <td>glucose</td>\n",
       "      <td>172581::5</td>\n",
       "      <td>172581</td>\n",
       "    </tr>\n",
       "    <tr>\n",
       "      <th>133</th>\n",
       "      <td>blood</td>\n",
       "      <td>184360:Gliptins ::: Therapeutic Potential Of T...</td>\n",
       "      <td>184360</td>\n",
       "    </tr>\n",
       "    <tr>\n",
       "      <th>357</th>\n",
       "      <td>covid-19</td>\n",
       "      <td>160564:Data Sources And Search Strategy ::: Ma...</td>\n",
       "      <td>160564</td>\n",
       "    </tr>\n",
       "  </tbody>\n",
       "</table>\n",
       "</div>"
      ],
      "text/plain": [
       "       entity                                          paragraph   paper\n",
       "301  covid-19                               197804:Discussion:48  197804\n",
       "425  covid-19             211125:Study Design And Participants:9  211125\n",
       "779   glucose                                          172581::5  172581\n",
       "133     blood  184360:Gliptins ::: Therapeutic Potential Of T...  184360\n",
       "357  covid-19  160564:Data Sources And Search Strategy ::: Ma...  160564"
      ]
     },
     "execution_count": 5,
     "metadata": {},
     "output_type": "execute_result"
    }
   ],
   "source": [
    "# Extract unique paper/seciton/paragraph identifiers\n",
    "mentions[\"paper\"] = mentions[\"occurrence\"].apply(\n",
    "    lambda x: x.split(\":\")[0])\n",
    "\n",
    "mentions = mentions.rename(columns={\"occurrence\": \"paragraph\"})\n",
    "mentions.sample(5)"
   ]
  },
  {
   "cell_type": "markdown",
   "metadata": {},
   "source": [
    "We, first, create an empty property graph object."
   ]
  },
  {
   "cell_type": "code",
   "execution_count": 6,
   "metadata": {},
   "outputs": [],
   "source": [
    "graph = PandasPGFrame()"
   ]
  },
  {
   "cell_type": "markdown",
   "metadata": {},
   "source": [
    "Then we add nodes for unique entities and papers"
   ]
  },
  {
   "cell_type": "code",
   "execution_count": 7,
   "metadata": {},
   "outputs": [],
   "source": [
    "entity_nodes = mentions[\"entity\"].unique()\n",
    "graph.add_nodes(entity_nodes)\n",
    "graph.add_node_types({n: \"Entity\" for n in entity_nodes})\n",
    "\n",
    "paper_nodes = mentions[\"paper\"].unique()\n",
    "graph.add_nodes(paper_nodes)\n",
    "graph.add_node_types({n: \"Paper\" for n in paper_nodes})"
   ]
  },
  {
   "cell_type": "code",
   "execution_count": 8,
   "metadata": {},
   "outputs": [
    {
     "data": {
      "text/html": [
       "<div>\n",
       "<style scoped>\n",
       "    .dataframe tbody tr th:only-of-type {\n",
       "        vertical-align: middle;\n",
       "    }\n",
       "\n",
       "    .dataframe tbody tr th {\n",
       "        vertical-align: top;\n",
       "    }\n",
       "\n",
       "    .dataframe thead th {\n",
       "        text-align: right;\n",
       "    }\n",
       "</style>\n",
       "<table border=\"1\" class=\"dataframe\">\n",
       "  <thead>\n",
       "    <tr style=\"text-align: right;\">\n",
       "      <th></th>\n",
       "      <th>@type</th>\n",
       "    </tr>\n",
       "    <tr>\n",
       "      <th>@id</th>\n",
       "      <th></th>\n",
       "    </tr>\n",
       "  </thead>\n",
       "  <tbody>\n",
       "    <tr>\n",
       "      <th>ace inhibitor</th>\n",
       "      <td>Entity</td>\n",
       "    </tr>\n",
       "    <tr>\n",
       "      <th>acetaminophen</th>\n",
       "      <td>Entity</td>\n",
       "    </tr>\n",
       "    <tr>\n",
       "      <th>acute lung injury</th>\n",
       "      <td>Entity</td>\n",
       "    </tr>\n",
       "    <tr>\n",
       "      <th>acute respiratory distress syndrome</th>\n",
       "      <td>Entity</td>\n",
       "    </tr>\n",
       "    <tr>\n",
       "      <th>adenosine</th>\n",
       "      <td>Entity</td>\n",
       "    </tr>\n",
       "    <tr>\n",
       "      <th>...</th>\n",
       "      <td>...</td>\n",
       "    </tr>\n",
       "    <tr>\n",
       "      <th>78884</th>\n",
       "      <td>Paper</td>\n",
       "    </tr>\n",
       "    <tr>\n",
       "      <th>35198</th>\n",
       "      <td>Paper</td>\n",
       "    </tr>\n",
       "    <tr>\n",
       "      <th>139943</th>\n",
       "      <td>Paper</td>\n",
       "    </tr>\n",
       "    <tr>\n",
       "      <th>172581</th>\n",
       "      <td>Paper</td>\n",
       "    </tr>\n",
       "    <tr>\n",
       "      <th>102473</th>\n",
       "      <td>Paper</td>\n",
       "    </tr>\n",
       "  </tbody>\n",
       "</table>\n",
       "<p>177 rows × 1 columns</p>\n",
       "</div>"
      ],
      "text/plain": [
       "                                      @type\n",
       "@id                                        \n",
       "ace inhibitor                        Entity\n",
       "acetaminophen                        Entity\n",
       "acute lung injury                    Entity\n",
       "acute respiratory distress syndrome  Entity\n",
       "adenosine                            Entity\n",
       "...                                     ...\n",
       "78884                                 Paper\n",
       "35198                                 Paper\n",
       "139943                                Paper\n",
       "172581                                Paper\n",
       "102473                                Paper\n",
       "\n",
       "[177 rows x 1 columns]"
      ]
     },
     "execution_count": 8,
     "metadata": {},
     "output_type": "execute_result"
    }
   ],
   "source": [
    "graph.nodes(raw_frame=True)"
   ]
  },
  {
   "cell_type": "markdown",
   "metadata": {},
   "source": [
    "We now add edges from entities to the papers they occur in storing paragraphs as edge properties."
   ]
  },
  {
   "cell_type": "code",
   "execution_count": 9,
   "metadata": {},
   "outputs": [],
   "source": [
    "occurrence_edges = mentions.groupby(by=[\"entity\", \"paper\"]).aggregate(set)"
   ]
  },
  {
   "cell_type": "code",
   "execution_count": 10,
   "metadata": {},
   "outputs": [
    {
     "data": {
      "text/html": [
       "<div>\n",
       "<style scoped>\n",
       "    .dataframe tbody tr th:only-of-type {\n",
       "        vertical-align: middle;\n",
       "    }\n",
       "\n",
       "    .dataframe tbody tr th {\n",
       "        vertical-align: top;\n",
       "    }\n",
       "\n",
       "    .dataframe thead th {\n",
       "        text-align: right;\n",
       "    }\n",
       "</style>\n",
       "<table border=\"1\" class=\"dataframe\">\n",
       "  <thead>\n",
       "    <tr style=\"text-align: right;\">\n",
       "      <th></th>\n",
       "      <th></th>\n",
       "      <th>paragraph</th>\n",
       "    </tr>\n",
       "    <tr>\n",
       "      <th>entity</th>\n",
       "      <th>paper</th>\n",
       "      <th></th>\n",
       "    </tr>\n",
       "  </thead>\n",
       "  <tbody>\n",
       "    <tr>\n",
       "      <th rowspan=\"2\" valign=\"top\">ace inhibitor</th>\n",
       "      <th>184360</th>\n",
       "      <td>{184360:Combined Therapeutic Potential Targeti...</td>\n",
       "    </tr>\n",
       "    <tr>\n",
       "      <th>197804</th>\n",
       "      <td>{197804:Management Of Children And Young Peopl...</td>\n",
       "    </tr>\n",
       "    <tr>\n",
       "      <th rowspan=\"2\" valign=\"top\">acetaminophen</th>\n",
       "      <th>179426</th>\n",
       "      <td>{179426:Blood Glucose Monitoring ::: Special A...</td>\n",
       "    </tr>\n",
       "    <tr>\n",
       "      <th>197804</th>\n",
       "      <td>{197804:Management Of Children And Young Peopl...</td>\n",
       "    </tr>\n",
       "    <tr>\n",
       "      <th>acute lung injury</th>\n",
       "      <th>179426</th>\n",
       "      <td>{179426:Role Of Ace/Arbs ::: Special Aspects O...</td>\n",
       "    </tr>\n",
       "    <tr>\n",
       "      <th>...</th>\n",
       "      <th>...</th>\n",
       "      <td>...</td>\n",
       "    </tr>\n",
       "    <tr>\n",
       "      <th rowspan=\"5\" valign=\"top\">virus</th>\n",
       "      <th>184360</th>\n",
       "      <td>{184360:Sdpp4 As Soluble Decoy Factor ::: Ther...</td>\n",
       "    </tr>\n",
       "    <tr>\n",
       "      <th>197804</th>\n",
       "      <td>{197804:Discussion:44, 197804:Introduction:2}</td>\n",
       "    </tr>\n",
       "    <tr>\n",
       "      <th>211125</th>\n",
       "      <td>{211125:Discussion:25}</td>\n",
       "    </tr>\n",
       "    <tr>\n",
       "      <th>211373</th>\n",
       "      <td>{211373:Introduction:6, 211373:Introduction:5,...</td>\n",
       "    </tr>\n",
       "    <tr>\n",
       "      <th>214924</th>\n",
       "      <td>{214924:The Immune Response To Sars-Cov-2 ::: ...</td>\n",
       "    </tr>\n",
       "  </tbody>\n",
       "</table>\n",
       "<p>551 rows × 1 columns</p>\n",
       "</div>"
      ],
      "text/plain": [
       "                                                                  paragraph\n",
       "entity            paper                                                    \n",
       "ace inhibitor     184360  {184360:Combined Therapeutic Potential Targeti...\n",
       "                  197804  {197804:Management Of Children And Young Peopl...\n",
       "acetaminophen     179426  {179426:Blood Glucose Monitoring ::: Special A...\n",
       "                  197804  {197804:Management Of Children And Young Peopl...\n",
       "acute lung injury 179426  {179426:Role Of Ace/Arbs ::: Special Aspects O...\n",
       "...                                                                     ...\n",
       "virus             184360  {184360:Sdpp4 As Soluble Decoy Factor ::: Ther...\n",
       "                  197804      {197804:Discussion:44, 197804:Introduction:2}\n",
       "                  211125                             {211125:Discussion:25}\n",
       "                  211373  {211373:Introduction:6, 211373:Introduction:5,...\n",
       "                  214924  {214924:The Immune Response To Sars-Cov-2 ::: ...\n",
       "\n",
       "[551 rows x 1 columns]"
      ]
     },
     "execution_count": 10,
     "metadata": {},
     "output_type": "execute_result"
    }
   ],
   "source": [
    "occurrence_edges"
   ]
  },
  {
   "cell_type": "code",
   "execution_count": 11,
   "metadata": {},
   "outputs": [],
   "source": [
    "graph.add_edges(occurrence_edges.index)\n",
    "graph.add_edge_types({e: \"OccursIn\" for e in occurrence_edges.index})"
   ]
  },
  {
   "cell_type": "code",
   "execution_count": 12,
   "metadata": {},
   "outputs": [],
   "source": [
    "occurrence_edges.index = occurrence_edges.index.rename([\"@source_id\", \"@target_id\"])"
   ]
  },
  {
   "cell_type": "code",
   "execution_count": 13,
   "metadata": {},
   "outputs": [],
   "source": [
    "graph.add_edge_properties(occurrence_edges[\"paragraph\"])"
   ]
  },
  {
   "cell_type": "code",
   "execution_count": 14,
   "metadata": {},
   "outputs": [
    {
     "data": {
      "text/html": [
       "<div>\n",
       "<style scoped>\n",
       "    .dataframe tbody tr th:only-of-type {\n",
       "        vertical-align: middle;\n",
       "    }\n",
       "\n",
       "    .dataframe tbody tr th {\n",
       "        vertical-align: top;\n",
       "    }\n",
       "\n",
       "    .dataframe thead th {\n",
       "        text-align: right;\n",
       "    }\n",
       "</style>\n",
       "<table border=\"1\" class=\"dataframe\">\n",
       "  <thead>\n",
       "    <tr style=\"text-align: right;\">\n",
       "      <th></th>\n",
       "      <th></th>\n",
       "      <th>@type</th>\n",
       "      <th>paragraph</th>\n",
       "    </tr>\n",
       "    <tr>\n",
       "      <th>@source_id</th>\n",
       "      <th>@target_id</th>\n",
       "      <th></th>\n",
       "      <th></th>\n",
       "    </tr>\n",
       "  </thead>\n",
       "  <tbody>\n",
       "    <tr>\n",
       "      <th rowspan=\"2\" valign=\"top\">ace inhibitor</th>\n",
       "      <th>184360</th>\n",
       "      <td>OccursIn</td>\n",
       "      <td>{184360:Combined Therapeutic Potential Targeti...</td>\n",
       "    </tr>\n",
       "    <tr>\n",
       "      <th>197804</th>\n",
       "      <td>OccursIn</td>\n",
       "      <td>{197804:Management Of Children And Young Peopl...</td>\n",
       "    </tr>\n",
       "    <tr>\n",
       "      <th rowspan=\"2\" valign=\"top\">acetaminophen</th>\n",
       "      <th>179426</th>\n",
       "      <td>OccursIn</td>\n",
       "      <td>{179426:Blood Glucose Monitoring ::: Special A...</td>\n",
       "    </tr>\n",
       "    <tr>\n",
       "      <th>197804</th>\n",
       "      <td>OccursIn</td>\n",
       "      <td>{197804:Management Of Children And Young Peopl...</td>\n",
       "    </tr>\n",
       "    <tr>\n",
       "      <th>acute lung injury</th>\n",
       "      <th>179426</th>\n",
       "      <td>OccursIn</td>\n",
       "      <td>{179426:Role Of Ace/Arbs ::: Special Aspects O...</td>\n",
       "    </tr>\n",
       "    <tr>\n",
       "      <th>...</th>\n",
       "      <th>...</th>\n",
       "      <td>...</td>\n",
       "      <td>...</td>\n",
       "    </tr>\n",
       "    <tr>\n",
       "      <th rowspan=\"5\" valign=\"top\">virus</th>\n",
       "      <th>184360</th>\n",
       "      <td>OccursIn</td>\n",
       "      <td>{184360:Sdpp4 As Soluble Decoy Factor ::: Ther...</td>\n",
       "    </tr>\n",
       "    <tr>\n",
       "      <th>197804</th>\n",
       "      <td>OccursIn</td>\n",
       "      <td>{197804:Discussion:44, 197804:Introduction:2}</td>\n",
       "    </tr>\n",
       "    <tr>\n",
       "      <th>211125</th>\n",
       "      <td>OccursIn</td>\n",
       "      <td>{211125:Discussion:25}</td>\n",
       "    </tr>\n",
       "    <tr>\n",
       "      <th>211373</th>\n",
       "      <td>OccursIn</td>\n",
       "      <td>{211373:Introduction:6, 211373:Introduction:5,...</td>\n",
       "    </tr>\n",
       "    <tr>\n",
       "      <th>214924</th>\n",
       "      <td>OccursIn</td>\n",
       "      <td>{214924:The Immune Response To Sars-Cov-2 ::: ...</td>\n",
       "    </tr>\n",
       "  </tbody>\n",
       "</table>\n",
       "<p>551 rows × 2 columns</p>\n",
       "</div>"
      ],
      "text/plain": [
       "                                 @type  \\\n",
       "@source_id        @target_id             \n",
       "ace inhibitor     184360      OccursIn   \n",
       "                  197804      OccursIn   \n",
       "acetaminophen     179426      OccursIn   \n",
       "                  197804      OccursIn   \n",
       "acute lung injury 179426      OccursIn   \n",
       "...                                ...   \n",
       "virus             184360      OccursIn   \n",
       "                  197804      OccursIn   \n",
       "                  211125      OccursIn   \n",
       "                  211373      OccursIn   \n",
       "                  214924      OccursIn   \n",
       "\n",
       "                                                                      paragraph  \n",
       "@source_id        @target_id                                                     \n",
       "ace inhibitor     184360      {184360:Combined Therapeutic Potential Targeti...  \n",
       "                  197804      {197804:Management Of Children And Young Peopl...  \n",
       "acetaminophen     179426      {179426:Blood Glucose Monitoring ::: Special A...  \n",
       "                  197804      {197804:Management Of Children And Young Peopl...  \n",
       "acute lung injury 179426      {179426:Role Of Ace/Arbs ::: Special Aspects O...  \n",
       "...                                                                         ...  \n",
       "virus             184360      {184360:Sdpp4 As Soluble Decoy Factor ::: Ther...  \n",
       "                  197804          {197804:Discussion:44, 197804:Introduction:2}  \n",
       "                  211125                                 {211125:Discussion:25}  \n",
       "                  211373      {211373:Introduction:6, 211373:Introduction:5,...  \n",
       "                  214924      {214924:The Immune Response To Sars-Cov-2 ::: ...  \n",
       "\n",
       "[551 rows x 2 columns]"
      ]
     },
     "execution_count": 14,
     "metadata": {},
     "output_type": "execute_result"
    }
   ],
   "source": [
    "graph.edges(raw_frame=True)"
   ]
  },
  {
   "cell_type": "markdown",
   "metadata": {},
   "source": [
    "## II. Entity co-occurrence graphs"
   ]
  },
  {
   "cell_type": "markdown",
   "metadata": {},
   "source": [
    "We will generate co-occurrence graphs for different occurrence factors (paper/paragraph), i.e. an edge between a pair of entities is added if they co-occur in the same paper or paragraph."
   ]
  },
  {
   "cell_type": "markdown",
   "metadata": {},
   "source": [
    "**NB: Some statistics computed during the co-occurrence analysis**\n",
    "\n",
    "- `ppmi`: _positive pointwise mutual information (PPMI)_ is defined as $PPMI(x, y) = \\log_2{\\frac{p(x, y)}{p(x)p(y)}} $, if $p(x) \\neq 0$ and $p(y) \\neq 0$, and $PPMI(x, y) = 0$ otherwise.\n",
    "\n",
    "- `npmi`: _normalized pointwise mutual information (NPMI)_ is defined as $NPMI(x, y) = \\frac{PPMI(x, y)}{-\\log_2{p(x, y)}} $."
   ]
  },
  {
   "cell_type": "markdown",
   "metadata": {},
   "source": [
    "### Paper-based co-occurrence\n",
    "\n",
    "We first generate co-occurrence network from edges of type `OccursIn` linking entities and papers."
   ]
  },
  {
   "cell_type": "code",
   "execution_count": 15,
   "metadata": {},
   "outputs": [
    {
     "name": "stdout",
     "output_type": "stream",
     "text": [
      "Examining 12246 pairs of terms for co-occurrence...\n"
     ]
    }
   ],
   "source": [
    "gen = CooccurrenceGenerator(graph)\n",
    "paper_cooccurrence_edges = gen.generate_from_edges(\n",
    "     \"OccursIn\", compute_statistics=[\"frequency\", \"ppmi\", \"npmi\"])"
   ]
  },
  {
   "cell_type": "code",
   "execution_count": 16,
   "metadata": {
    "scrolled": false
   },
   "outputs": [
    {
     "data": {
      "text/html": [
       "<div>\n",
       "<style scoped>\n",
       "    .dataframe tbody tr th:only-of-type {\n",
       "        vertical-align: middle;\n",
       "    }\n",
       "\n",
       "    .dataframe tbody tr th {\n",
       "        vertical-align: top;\n",
       "    }\n",
       "\n",
       "    .dataframe thead th {\n",
       "        text-align: right;\n",
       "    }\n",
       "</style>\n",
       "<table border=\"1\" class=\"dataframe\">\n",
       "  <thead>\n",
       "    <tr style=\"text-align: right;\">\n",
       "      <th></th>\n",
       "      <th></th>\n",
       "      <th>common_factors</th>\n",
       "      <th>frequency</th>\n",
       "      <th>ppmi</th>\n",
       "      <th>npmi</th>\n",
       "      <th>@type</th>\n",
       "    </tr>\n",
       "    <tr>\n",
       "      <th>@source_id</th>\n",
       "      <th>@target_id</th>\n",
       "      <th></th>\n",
       "      <th></th>\n",
       "      <th></th>\n",
       "      <th></th>\n",
       "      <th></th>\n",
       "    </tr>\n",
       "  </thead>\n",
       "  <tbody>\n",
       "    <tr>\n",
       "      <th rowspan=\"5\" valign=\"top\">ace inhibitor</th>\n",
       "      <th>acetaminophen</th>\n",
       "      <td>{197804}</td>\n",
       "      <td>1</td>\n",
       "      <td>2.321928</td>\n",
       "      <td>0.537244</td>\n",
       "      <td>CoOccursWith</td>\n",
       "    </tr>\n",
       "    <tr>\n",
       "      <th>acute lung injury</th>\n",
       "      <td>{197804, 184360}</td>\n",
       "      <td>2</td>\n",
       "      <td>2.321928</td>\n",
       "      <td>0.698970</td>\n",
       "      <td>CoOccursWith</td>\n",
       "    </tr>\n",
       "    <tr>\n",
       "      <th>acute respiratory distress syndrome</th>\n",
       "      <td>{197804, 184360}</td>\n",
       "      <td>2</td>\n",
       "      <td>1.736966</td>\n",
       "      <td>0.522879</td>\n",
       "      <td>CoOccursWith</td>\n",
       "    </tr>\n",
       "    <tr>\n",
       "      <th>adenosine</th>\n",
       "      <td>{184360}</td>\n",
       "      <td>1</td>\n",
       "      <td>2.321928</td>\n",
       "      <td>0.537244</td>\n",
       "      <td>CoOccursWith</td>\n",
       "    </tr>\n",
       "    <tr>\n",
       "      <th>adipose tissue</th>\n",
       "      <td>{197804, 184360}</td>\n",
       "      <td>2</td>\n",
       "      <td>2.736966</td>\n",
       "      <td>0.823909</td>\n",
       "      <td>CoOccursWith</td>\n",
       "    </tr>\n",
       "    <tr>\n",
       "      <th>...</th>\n",
       "      <th>...</th>\n",
       "      <td>...</td>\n",
       "      <td>...</td>\n",
       "      <td>...</td>\n",
       "      <td>...</td>\n",
       "      <td>...</td>\n",
       "    </tr>\n",
       "    <tr>\n",
       "      <th rowspan=\"2\" valign=\"top\">viral</th>\n",
       "      <th>viral infection</th>\n",
       "      <td>{184360, 214924, 211125, 211373}</td>\n",
       "      <td>4</td>\n",
       "      <td>2.000000</td>\n",
       "      <td>0.861353</td>\n",
       "      <td>CoOccursWith</td>\n",
       "    </tr>\n",
       "    <tr>\n",
       "      <th>virus</th>\n",
       "      <td>{214924, 211125, 211373, 179426, 184360}</td>\n",
       "      <td>5</td>\n",
       "      <td>1.514573</td>\n",
       "      <td>0.757287</td>\n",
       "      <td>CoOccursWith</td>\n",
       "    </tr>\n",
       "    <tr>\n",
       "      <th rowspan=\"2\" valign=\"top\">viral entry</th>\n",
       "      <th>viral infection</th>\n",
       "      <td>{214924}</td>\n",
       "      <td>1</td>\n",
       "      <td>1.321928</td>\n",
       "      <td>0.305865</td>\n",
       "      <td>CoOccursWith</td>\n",
       "    </tr>\n",
       "    <tr>\n",
       "      <th>virus</th>\n",
       "      <td>{179426, 214924}</td>\n",
       "      <td>2</td>\n",
       "      <td>1.514573</td>\n",
       "      <td>0.455932</td>\n",
       "      <td>CoOccursWith</td>\n",
       "    </tr>\n",
       "    <tr>\n",
       "      <th>viral infection</th>\n",
       "      <th>virus</th>\n",
       "      <td>{184360, 214924, 211125, 211373}</td>\n",
       "      <td>4</td>\n",
       "      <td>1.514573</td>\n",
       "      <td>0.652291</td>\n",
       "      <td>CoOccursWith</td>\n",
       "    </tr>\n",
       "  </tbody>\n",
       "</table>\n",
       "<p>9748 rows × 5 columns</p>\n",
       "</div>"
      ],
      "text/plain": [
       "                                                                               common_factors  \\\n",
       "@source_id      @target_id                                                                      \n",
       "ace inhibitor   acetaminophen                                                        {197804}   \n",
       "                acute lung injury                                            {197804, 184360}   \n",
       "                acute respiratory distress syndrome                          {197804, 184360}   \n",
       "                adenosine                                                            {184360}   \n",
       "                adipose tissue                                               {197804, 184360}   \n",
       "...                                                                                       ...   \n",
       "viral           viral infection                              {184360, 214924, 211125, 211373}   \n",
       "                virus                                {214924, 211125, 211373, 179426, 184360}   \n",
       "viral entry     viral infection                                                      {214924}   \n",
       "                virus                                                        {179426, 214924}   \n",
       "viral infection virus                                        {184360, 214924, 211125, 211373}   \n",
       "\n",
       "                                                     frequency      ppmi  \\\n",
       "@source_id      @target_id                                                 \n",
       "ace inhibitor   acetaminophen                                1  2.321928   \n",
       "                acute lung injury                            2  2.321928   \n",
       "                acute respiratory distress syndrome          2  1.736966   \n",
       "                adenosine                                    1  2.321928   \n",
       "                adipose tissue                               2  2.736966   \n",
       "...                                                        ...       ...   \n",
       "viral           viral infection                              4  2.000000   \n",
       "                virus                                        5  1.514573   \n",
       "viral entry     viral infection                              1  1.321928   \n",
       "                virus                                        2  1.514573   \n",
       "viral infection virus                                        4  1.514573   \n",
       "\n",
       "                                                         npmi         @type  \n",
       "@source_id      @target_id                                                   \n",
       "ace inhibitor   acetaminophen                        0.537244  CoOccursWith  \n",
       "                acute lung injury                    0.698970  CoOccursWith  \n",
       "                acute respiratory distress syndrome  0.522879  CoOccursWith  \n",
       "                adenosine                            0.537244  CoOccursWith  \n",
       "                adipose tissue                       0.823909  CoOccursWith  \n",
       "...                                                       ...           ...  \n",
       "viral           viral infection                      0.861353  CoOccursWith  \n",
       "                virus                                0.757287  CoOccursWith  \n",
       "viral entry     viral infection                      0.305865  CoOccursWith  \n",
       "                virus                                0.455932  CoOccursWith  \n",
       "viral infection virus                                0.652291  CoOccursWith  \n",
       "\n",
       "[9748 rows x 5 columns]"
      ]
     },
     "execution_count": 16,
     "metadata": {},
     "output_type": "execute_result"
    }
   ],
   "source": [
    "paper_cooccurrence_edges[\"@type\"] = \"CoOccursWith\"\n",
    "paper_cooccurrence_edges"
   ]
  },
  {
   "cell_type": "code",
   "execution_count": 17,
   "metadata": {},
   "outputs": [],
   "source": [
    "entity_nodes = graph.nodes_of_type(\"Entity\").copy()"
   ]
  },
  {
   "cell_type": "code",
   "execution_count": 18,
   "metadata": {},
   "outputs": [],
   "source": [
    "paper_frequency = mentions.groupby(\"entity\").aggregate(set)[\"paper\"].apply(len)\n",
    "paper_frequency.name = \"paper_frequency\"\n",
    "\n",
    "entity_nodes[\"paper_frequency\"] = paper_frequency"
   ]
  },
  {
   "cell_type": "markdown",
   "metadata": {},
   "source": [
    "We create a new property graph object from generated edges and entity nodes as follows:"
   ]
  },
  {
   "cell_type": "code",
   "execution_count": 19,
   "metadata": {},
   "outputs": [],
   "source": [
    "paper_network = PandasPGFrame.from_frames(\n",
    "    nodes=entity_nodes,\n",
    "    edges=paper_cooccurrence_edges,\n",
    "    node_prop_types={\n",
    "        \"paper_frequency\": \"numeric\",\n",
    "        \"paragraph_frequency\": \"numeric\"\n",
    "    },\n",
    "    edge_prop_types={\n",
    "        \"frequency\": \"numeric\",\n",
    "        \"ppmi\": \"numeric\",\n",
    "        \"npmi\": \"numeric\"\n",
    "    })"
   ]
  },
  {
   "cell_type": "code",
   "execution_count": 20,
   "metadata": {},
   "outputs": [
    {
     "data": {
      "text/html": [
       "<div>\n",
       "<style scoped>\n",
       "    .dataframe tbody tr th:only-of-type {\n",
       "        vertical-align: middle;\n",
       "    }\n",
       "\n",
       "    .dataframe tbody tr th {\n",
       "        vertical-align: top;\n",
       "    }\n",
       "\n",
       "    .dataframe thead th {\n",
       "        text-align: right;\n",
       "    }\n",
       "</style>\n",
       "<table border=\"1\" class=\"dataframe\">\n",
       "  <thead>\n",
       "    <tr style=\"text-align: right;\">\n",
       "      <th></th>\n",
       "      <th></th>\n",
       "      <th>common_factors</th>\n",
       "      <th>frequency</th>\n",
       "      <th>ppmi</th>\n",
       "      <th>npmi</th>\n",
       "      <th>@type</th>\n",
       "    </tr>\n",
       "    <tr>\n",
       "      <th>@source_id</th>\n",
       "      <th>@target_id</th>\n",
       "      <th></th>\n",
       "      <th></th>\n",
       "      <th></th>\n",
       "      <th></th>\n",
       "      <th></th>\n",
       "    </tr>\n",
       "  </thead>\n",
       "  <tbody>\n",
       "    <tr>\n",
       "      <th>acute respiratory distress syndrome</th>\n",
       "      <th>pneumonia</th>\n",
       "      <td>{214924, 211125, 179426, 184360, 197804}</td>\n",
       "      <td>5</td>\n",
       "      <td>1.058894</td>\n",
       "      <td>0.529447</td>\n",
       "      <td>CoOccursWith</td>\n",
       "    </tr>\n",
       "    <tr>\n",
       "      <th>hypertension</th>\n",
       "      <th>insulin resistance</th>\n",
       "      <td>{214924, 197804, 184360}</td>\n",
       "      <td>3</td>\n",
       "      <td>1.736966</td>\n",
       "      <td>0.634632</td>\n",
       "      <td>CoOccursWith</td>\n",
       "    </tr>\n",
       "    <tr>\n",
       "      <th>infectious disorder</th>\n",
       "      <th>insulin resistance</th>\n",
       "      <td>{214924, 197804, 184360}</td>\n",
       "      <td>3</td>\n",
       "      <td>1.152003</td>\n",
       "      <td>0.420905</td>\n",
       "      <td>CoOccursWith</td>\n",
       "    </tr>\n",
       "    <tr>\n",
       "      <th>angiotensin-1</th>\n",
       "      <th>tumor necrosis factor</th>\n",
       "      <td>{214924, 184360}</td>\n",
       "      <td>2</td>\n",
       "      <td>2.736966</td>\n",
       "      <td>0.823909</td>\n",
       "      <td>CoOccursWith</td>\n",
       "    </tr>\n",
       "    <tr>\n",
       "      <th>acetaminophen</th>\n",
       "      <th>pneumonia</th>\n",
       "      <td>{179426, 197804}</td>\n",
       "      <td>2</td>\n",
       "      <td>1.321928</td>\n",
       "      <td>0.397940</td>\n",
       "      <td>CoOccursWith</td>\n",
       "    </tr>\n",
       "  </tbody>\n",
       "</table>\n",
       "</div>"
      ],
      "text/plain": [
       "                                                                                     common_factors  \\\n",
       "@source_id                          @target_id                                                        \n",
       "acute respiratory distress syndrome pneumonia              {214924, 211125, 179426, 184360, 197804}   \n",
       "hypertension                        insulin resistance                     {214924, 197804, 184360}   \n",
       "infectious disorder                 insulin resistance                     {214924, 197804, 184360}   \n",
       "angiotensin-1                       tumor necrosis factor                          {214924, 184360}   \n",
       "acetaminophen                       pneumonia                                      {179426, 197804}   \n",
       "\n",
       "                                                           frequency  \\\n",
       "@source_id                          @target_id                         \n",
       "acute respiratory distress syndrome pneumonia                      5   \n",
       "hypertension                        insulin resistance             3   \n",
       "infectious disorder                 insulin resistance             3   \n",
       "angiotensin-1                       tumor necrosis factor          2   \n",
       "acetaminophen                       pneumonia                      2   \n",
       "\n",
       "                                                               ppmi      npmi  \\\n",
       "@source_id                          @target_id                                  \n",
       "acute respiratory distress syndrome pneumonia              1.058894  0.529447   \n",
       "hypertension                        insulin resistance     1.736966  0.634632   \n",
       "infectious disorder                 insulin resistance     1.152003  0.420905   \n",
       "angiotensin-1                       tumor necrosis factor  2.736966  0.823909   \n",
       "acetaminophen                       pneumonia              1.321928  0.397940   \n",
       "\n",
       "                                                                  @type  \n",
       "@source_id                          @target_id                           \n",
       "acute respiratory distress syndrome pneumonia              CoOccursWith  \n",
       "hypertension                        insulin resistance     CoOccursWith  \n",
       "infectious disorder                 insulin resistance     CoOccursWith  \n",
       "angiotensin-1                       tumor necrosis factor  CoOccursWith  \n",
       "acetaminophen                       pneumonia              CoOccursWith  "
      ]
     },
     "execution_count": 20,
     "metadata": {},
     "output_type": "execute_result"
    }
   ],
   "source": [
    "paper_network.edges(raw_frame=True).sample(5)"
   ]
  },
  {
   "cell_type": "code",
   "execution_count": 21,
   "metadata": {},
   "outputs": [
    {
     "data": {
      "text/html": [
       "<div>\n",
       "<style scoped>\n",
       "    .dataframe tbody tr th:only-of-type {\n",
       "        vertical-align: middle;\n",
       "    }\n",
       "\n",
       "    .dataframe tbody tr th {\n",
       "        vertical-align: top;\n",
       "    }\n",
       "\n",
       "    .dataframe thead th {\n",
       "        text-align: right;\n",
       "    }\n",
       "</style>\n",
       "<table border=\"1\" class=\"dataframe\">\n",
       "  <thead>\n",
       "    <tr style=\"text-align: right;\">\n",
       "      <th></th>\n",
       "      <th>@type</th>\n",
       "      <th>paper_frequency</th>\n",
       "    </tr>\n",
       "    <tr>\n",
       "      <th>@id</th>\n",
       "      <th></th>\n",
       "      <th></th>\n",
       "    </tr>\n",
       "  </thead>\n",
       "  <tbody>\n",
       "    <tr>\n",
       "      <th>hcp</th>\n",
       "      <td>Entity</td>\n",
       "      <td>2</td>\n",
       "    </tr>\n",
       "    <tr>\n",
       "      <th>transmembrane protein</th>\n",
       "      <td>Entity</td>\n",
       "      <td>2</td>\n",
       "    </tr>\n",
       "    <tr>\n",
       "      <th>lung</th>\n",
       "      <td>Entity</td>\n",
       "      <td>6</td>\n",
       "    </tr>\n",
       "    <tr>\n",
       "      <th>proliferation</th>\n",
       "      <td>Entity</td>\n",
       "      <td>3</td>\n",
       "    </tr>\n",
       "    <tr>\n",
       "      <th>glyburide</th>\n",
       "      <td>Entity</td>\n",
       "      <td>9</td>\n",
       "    </tr>\n",
       "  </tbody>\n",
       "</table>\n",
       "</div>"
      ],
      "text/plain": [
       "                        @type  paper_frequency\n",
       "@id                                           \n",
       "hcp                    Entity                2\n",
       "transmembrane protein  Entity                2\n",
       "lung                   Entity                6\n",
       "proliferation          Entity                3\n",
       "glyburide              Entity                9"
      ]
     },
     "execution_count": 21,
     "metadata": {},
     "output_type": "execute_result"
    }
   ],
   "source": [
    "paper_network.nodes(raw_frame=True).sample(5)"
   ]
  },
  {
   "cell_type": "markdown",
   "metadata": {},
   "source": [
    "### Paragraph-based co-occurrence\n",
    "\n",
    "We perform similar operation for paragraph-level co-occurrence. In order to use another co-occurrence factor, we will define the following 'factor_aggregator' function (`aggregate_paragraph`) that takes a collection of sets of paragraphs and merges them into the same set. This aggregator will be used to collect sets of common paragraphs of `OccursIn` edges pointing from a pair of entities to the same paper."
   ]
  },
  {
   "cell_type": "code",
   "execution_count": 22,
   "metadata": {},
   "outputs": [],
   "source": [
    "def aggregate_paragraphs(data):\n",
    "    return set(sum(data[\"paragraph\"].apply(list), []))"
   ]
  },
  {
   "cell_type": "code",
   "execution_count": 23,
   "metadata": {},
   "outputs": [
    {
     "name": "stdout",
     "output_type": "stream",
     "text": [
      "Computing total factor instances...\n",
      "Examining 12246 pairs of terms for co-occurrence...\n",
      "CPU times: user 87.7 ms, sys: 76.4 ms, total: 164 ms\n",
      "Wall time: 5.43 s\n"
     ]
    }
   ],
   "source": [
    "%%time\n",
    "paragraph_cooccurrence_edges = gen.generate_from_edges(\n",
    "     \"OccursIn\", \n",
    "    factor_aggregator=aggregate_paragraphs,\n",
    "    compute_statistics=[\"frequency\", \"ppmi\", \"npmi\"],\n",
    "    parallelize=True, cores=8)"
   ]
  },
  {
   "cell_type": "code",
   "execution_count": 24,
   "metadata": {
    "scrolled": true
   },
   "outputs": [
    {
     "data": {
      "text/html": [
       "<div>\n",
       "<style scoped>\n",
       "    .dataframe tbody tr th:only-of-type {\n",
       "        vertical-align: middle;\n",
       "    }\n",
       "\n",
       "    .dataframe tbody tr th {\n",
       "        vertical-align: top;\n",
       "    }\n",
       "\n",
       "    .dataframe thead th {\n",
       "        text-align: right;\n",
       "    }\n",
       "</style>\n",
       "<table border=\"1\" class=\"dataframe\">\n",
       "  <thead>\n",
       "    <tr style=\"text-align: right;\">\n",
       "      <th></th>\n",
       "      <th></th>\n",
       "      <th>common_factors</th>\n",
       "      <th>frequency</th>\n",
       "      <th>ppmi</th>\n",
       "      <th>npmi</th>\n",
       "      <th>@type</th>\n",
       "    </tr>\n",
       "    <tr>\n",
       "      <th>@source_id</th>\n",
       "      <th>@target_id</th>\n",
       "      <th></th>\n",
       "      <th></th>\n",
       "      <th></th>\n",
       "      <th></th>\n",
       "      <th></th>\n",
       "    </tr>\n",
       "  </thead>\n",
       "  <tbody>\n",
       "    <tr>\n",
       "      <th>lung</th>\n",
       "      <th>neutrophil</th>\n",
       "      <td>{214924:The Protective Role Of Angiotensin-Con...</td>\n",
       "      <td>2</td>\n",
       "      <td>1.736966</td>\n",
       "      <td>0.243638</td>\n",
       "      <td>CoOccursWith</td>\n",
       "    </tr>\n",
       "    <tr>\n",
       "      <th>cough</th>\n",
       "      <th>lower respiratory tract infection</th>\n",
       "      <td>{214924:Introduction:6, 214924:Introduction:3}</td>\n",
       "      <td>2</td>\n",
       "      <td>4.544321</td>\n",
       "      <td>0.637416</td>\n",
       "      <td>CoOccursWith</td>\n",
       "    </tr>\n",
       "    <tr>\n",
       "      <th>cardiovascular system</th>\n",
       "      <th>sars-cov-2</th>\n",
       "      <td>{214924:Introduction:6, 214924:Introduction:4,...</td>\n",
       "      <td>4</td>\n",
       "      <td>0.451563</td>\n",
       "      <td>0.073673</td>\n",
       "      <td>CoOccursWith</td>\n",
       "    </tr>\n",
       "    <tr>\n",
       "      <th>headache</th>\n",
       "      <th>respiratory failure</th>\n",
       "      <td>{214924:Introduction:6}</td>\n",
       "      <td>1</td>\n",
       "      <td>6.129283</td>\n",
       "      <td>0.753976</td>\n",
       "      <td>CoOccursWith</td>\n",
       "    </tr>\n",
       "    <tr>\n",
       "      <th>adipose tissue</th>\n",
       "      <th>cellular secretion</th>\n",
       "      <td>{214924:Angiotensin-Converting Enzyme 2 Expres...</td>\n",
       "      <td>1</td>\n",
       "      <td>4.544321</td>\n",
       "      <td>0.559006</td>\n",
       "      <td>CoOccursWith</td>\n",
       "    </tr>\n",
       "  </tbody>\n",
       "</table>\n",
       "</div>"
      ],
      "text/plain": [
       "                                                                                            common_factors  \\\n",
       "@source_id            @target_id                                                                             \n",
       "lung                  neutrophil                         {214924:The Protective Role Of Angiotensin-Con...   \n",
       "cough                 lower respiratory tract infection     {214924:Introduction:6, 214924:Introduction:3}   \n",
       "cardiovascular system sars-cov-2                         {214924:Introduction:6, 214924:Introduction:4,...   \n",
       "headache              respiratory failure                                          {214924:Introduction:6}   \n",
       "adipose tissue        cellular secretion                 {214924:Angiotensin-Converting Enzyme 2 Expres...   \n",
       "\n",
       "                                                         frequency      ppmi  \\\n",
       "@source_id            @target_id                                               \n",
       "lung                  neutrophil                                 2  1.736966   \n",
       "cough                 lower respiratory tract infection          2  4.544321   \n",
       "cardiovascular system sars-cov-2                                 4  0.451563   \n",
       "headache              respiratory failure                        1  6.129283   \n",
       "adipose tissue        cellular secretion                         1  4.544321   \n",
       "\n",
       "                                                             npmi  \\\n",
       "@source_id            @target_id                                    \n",
       "lung                  neutrophil                         0.243638   \n",
       "cough                 lower respiratory tract infection  0.637416   \n",
       "cardiovascular system sars-cov-2                         0.073673   \n",
       "headache              respiratory failure                0.753976   \n",
       "adipose tissue        cellular secretion                 0.559006   \n",
       "\n",
       "                                                                @type  \n",
       "@source_id            @target_id                                       \n",
       "lung                  neutrophil                         CoOccursWith  \n",
       "cough                 lower respiratory tract infection  CoOccursWith  \n",
       "cardiovascular system sars-cov-2                         CoOccursWith  \n",
       "headache              respiratory failure                CoOccursWith  \n",
       "adipose tissue        cellular secretion                 CoOccursWith  "
      ]
     },
     "execution_count": 24,
     "metadata": {},
     "output_type": "execute_result"
    }
   ],
   "source": [
    "paragraph_cooccurrence_edges[\"@type\"] = \"CoOccursWith\"\n",
    "paragraph_cooccurrence_edges.sample(5)"
   ]
  },
  {
   "cell_type": "code",
   "execution_count": 25,
   "metadata": {},
   "outputs": [],
   "source": [
    "paragraph_network = PandasPGFrame.from_frames(\n",
    "    nodes=entity_nodes,\n",
    "    edges=paragraph_cooccurrence_edges,\n",
    "    node_prop_types={\n",
    "        \"paper_frequency\": \"numeric\",\n",
    "    },\n",
    "    edge_prop_types={\n",
    "        \"frequency\": \"numeric\",\n",
    "        \"ppmi\": \"numeric\",\n",
    "        \"npmi\": \"numeric\"\n",
    "    })"
   ]
  },
  {
   "cell_type": "markdown",
   "metadata": {},
   "source": [
    "### Faster paragraph-based co-occurrence"
   ]
  },
  {
   "cell_type": "markdown",
   "metadata": {},
   "source": [
    "Alternatively, to generate paragraph-level co-occurrence network, we can assign sets of paragraphs where entities occur as properties of their respective nodes (as follows)."
   ]
  },
  {
   "cell_type": "code",
   "execution_count": 26,
   "metadata": {},
   "outputs": [
    {
     "data": {
      "text/html": [
       "<div>\n",
       "<style scoped>\n",
       "    .dataframe tbody tr th:only-of-type {\n",
       "        vertical-align: middle;\n",
       "    }\n",
       "\n",
       "    .dataframe tbody tr th {\n",
       "        vertical-align: top;\n",
       "    }\n",
       "\n",
       "    .dataframe thead th {\n",
       "        text-align: right;\n",
       "    }\n",
       "</style>\n",
       "<table border=\"1\" class=\"dataframe\">\n",
       "  <thead>\n",
       "    <tr style=\"text-align: right;\">\n",
       "      <th></th>\n",
       "      <th>@type</th>\n",
       "      <th>paragraphs</th>\n",
       "    </tr>\n",
       "    <tr>\n",
       "      <th>@id</th>\n",
       "      <th></th>\n",
       "      <th></th>\n",
       "    </tr>\n",
       "  </thead>\n",
       "  <tbody>\n",
       "    <tr>\n",
       "      <th>insulin resistance</th>\n",
       "      <td>Entity</td>\n",
       "      <td>{214924:The Interplay Between Covid-19 And Amp...</td>\n",
       "    </tr>\n",
       "    <tr>\n",
       "      <th>macrophage</th>\n",
       "      <td>Entity</td>\n",
       "      <td>{184360:Pathophysiology Of Covid-19: Pulmonar ...</td>\n",
       "    </tr>\n",
       "    <tr>\n",
       "      <th>78884</th>\n",
       "      <td>Paper</td>\n",
       "      <td>NaN</td>\n",
       "    </tr>\n",
       "    <tr>\n",
       "      <th>interleukin-19</th>\n",
       "      <td>Entity</td>\n",
       "      <td>{211125:Caption:31, 214924:The Immune Response...</td>\n",
       "    </tr>\n",
       "    <tr>\n",
       "      <th>99569</th>\n",
       "      <td>Paper</td>\n",
       "      <td>NaN</td>\n",
       "    </tr>\n",
       "  </tbody>\n",
       "</table>\n",
       "</div>"
      ],
      "text/plain": [
       "                     @type                                         paragraphs\n",
       "@id                                                                          \n",
       "insulin resistance  Entity  {214924:The Interplay Between Covid-19 And Amp...\n",
       "macrophage          Entity  {184360:Pathophysiology Of Covid-19: Pulmonar ...\n",
       "78884                Paper                                                NaN\n",
       "interleukin-19      Entity  {211125:Caption:31, 214924:The Immune Response...\n",
       "99569                Paper                                                NaN"
      ]
     },
     "execution_count": 26,
     "metadata": {},
     "output_type": "execute_result"
    }
   ],
   "source": [
    "paragraph_prop = pd.DataFrame({\"paragraphs\": mentions.groupby(\"entity\").aggregate(set)[\"paragraph\"]})\n",
    "graph.add_node_properties(paragraph_prop, prop_type=\"category\")\n",
    "graph.nodes(raw_frame=True).sample(5)"
   ]
  },
  {
   "cell_type": "markdown",
   "metadata": {},
   "source": [
    "And then use the `generate_from_nodes` method of `CooccurrenceGenerator` in order to generate co-occurrence edges for nodes whose `paragraphs` property has a non-empty intersection."
   ]
  },
  {
   "cell_type": "code",
   "execution_count": 27,
   "metadata": {},
   "outputs": [
    {
     "name": "stdout",
     "output_type": "stream",
     "text": [
      "Examining 15576 pairs of terms for co-occurrence...\n",
      "CPU times: user 91.2 ms, sys: 71.2 ms, total: 162 ms\n",
      "Wall time: 1.66 s\n"
     ]
    }
   ],
   "source": [
    "%%time\n",
    "generator = CooccurrenceGenerator(graph)\n",
    "paragraph_cooccurrence_edges = generator.generate_from_nodes(\n",
    "    \"paragraphs\", total_factor_instances=len(mentions.paragraph.unique()),\n",
    "    compute_statistics=[\"frequency\", \"npmi\"],\n",
    "    parallelize=True, cores=8)"
   ]
  },
  {
   "cell_type": "markdown",
   "metadata": {},
   "source": [
    "### Additional co-occurrence measures: NPMI-based distance\n",
    "\n",
    "For both paper- and paragraph-based networks we will compute a mutual-information-based distance as follows:\n",
    "$D = \\frac{1}{NPMI}$."
   ]
  },
  {
   "cell_type": "code",
   "execution_count": 28,
   "metadata": {},
   "outputs": [],
   "source": [
    "import math\n",
    "\n",
    "def compute_distance(x):\n",
    "    return 1 / x if x > 0 else math.inf"
   ]
  },
  {
   "cell_type": "code",
   "execution_count": 29,
   "metadata": {},
   "outputs": [],
   "source": [
    "npmi_distance = paper_network.edges(raw_frame=True)[\"npmi\"].apply(compute_distance)\n",
    "npmi_distance.name = \"distance_npmi\"\n",
    "paper_network.add_edge_properties(npmi_distance, \"numeric\")"
   ]
  },
  {
   "cell_type": "code",
   "execution_count": 30,
   "metadata": {},
   "outputs": [
    {
     "data": {
      "text/html": [
       "<div>\n",
       "<style scoped>\n",
       "    .dataframe tbody tr th:only-of-type {\n",
       "        vertical-align: middle;\n",
       "    }\n",
       "\n",
       "    .dataframe tbody tr th {\n",
       "        vertical-align: top;\n",
       "    }\n",
       "\n",
       "    .dataframe thead th {\n",
       "        text-align: right;\n",
       "    }\n",
       "</style>\n",
       "<table border=\"1\" class=\"dataframe\">\n",
       "  <thead>\n",
       "    <tr style=\"text-align: right;\">\n",
       "      <th></th>\n",
       "      <th></th>\n",
       "      <th>common_factors</th>\n",
       "      <th>frequency</th>\n",
       "      <th>ppmi</th>\n",
       "      <th>npmi</th>\n",
       "      <th>@type</th>\n",
       "      <th>distance_npmi</th>\n",
       "    </tr>\n",
       "    <tr>\n",
       "      <th>@source_id</th>\n",
       "      <th>@target_id</th>\n",
       "      <th></th>\n",
       "      <th></th>\n",
       "      <th></th>\n",
       "      <th></th>\n",
       "      <th></th>\n",
       "      <th></th>\n",
       "    </tr>\n",
       "  </thead>\n",
       "  <tbody>\n",
       "    <tr>\n",
       "      <th>acetaminophen</th>\n",
       "      <th>coronaviridae</th>\n",
       "      <td>{197804}</td>\n",
       "      <td>1</td>\n",
       "      <td>0.514573</td>\n",
       "      <td>0.119061</td>\n",
       "      <td>CoOccursWith</td>\n",
       "      <td>8.399054</td>\n",
       "    </tr>\n",
       "    <tr>\n",
       "      <th>cardiovascular system</th>\n",
       "      <th>hcp</th>\n",
       "      <td>{197804}</td>\n",
       "      <td>1</td>\n",
       "      <td>1.000000</td>\n",
       "      <td>0.231378</td>\n",
       "      <td>CoOccursWith</td>\n",
       "      <td>4.321928</td>\n",
       "    </tr>\n",
       "    <tr>\n",
       "      <th>influenza</th>\n",
       "      <th>lung</th>\n",
       "      <td>{179426, 214924, 184360}</td>\n",
       "      <td>3</td>\n",
       "      <td>1.736966</td>\n",
       "      <td>0.634632</td>\n",
       "      <td>CoOccursWith</td>\n",
       "      <td>1.575717</td>\n",
       "    </tr>\n",
       "    <tr>\n",
       "      <th>infectious disorder</th>\n",
       "      <th>pneumonia</th>\n",
       "      <td>{214924, 211125, 214728, 179426, 184360, 197804}</td>\n",
       "      <td>6</td>\n",
       "      <td>0.736966</td>\n",
       "      <td>0.424283</td>\n",
       "      <td>CoOccursWith</td>\n",
       "      <td>2.356915</td>\n",
       "    </tr>\n",
       "    <tr>\n",
       "      <th>pulmonary</th>\n",
       "      <th>rbd</th>\n",
       "      <td>{214924, 184360}</td>\n",
       "      <td>2</td>\n",
       "      <td>2.321928</td>\n",
       "      <td>0.698970</td>\n",
       "      <td>CoOccursWith</td>\n",
       "      <td>1.430677</td>\n",
       "    </tr>\n",
       "  </tbody>\n",
       "</table>\n",
       "</div>"
      ],
      "text/plain": [
       "                                                                       common_factors  \\\n",
       "@source_id            @target_id                                                        \n",
       "acetaminophen         coronaviridae                                          {197804}   \n",
       "cardiovascular system hcp                                                    {197804}   \n",
       "influenza             lung                                   {179426, 214924, 184360}   \n",
       "infectious disorder   pneumonia      {214924, 211125, 214728, 179426, 184360, 197804}   \n",
       "pulmonary             rbd                                            {214924, 184360}   \n",
       "\n",
       "                                     frequency      ppmi      npmi  \\\n",
       "@source_id            @target_id                                     \n",
       "acetaminophen         coronaviridae          1  0.514573  0.119061   \n",
       "cardiovascular system hcp                    1  1.000000  0.231378   \n",
       "influenza             lung                   3  1.736966  0.634632   \n",
       "infectious disorder   pneumonia              6  0.736966  0.424283   \n",
       "pulmonary             rbd                    2  2.321928  0.698970   \n",
       "\n",
       "                                            @type  distance_npmi  \n",
       "@source_id            @target_id                                  \n",
       "acetaminophen         coronaviridae  CoOccursWith       8.399054  \n",
       "cardiovascular system hcp            CoOccursWith       4.321928  \n",
       "influenza             lung           CoOccursWith       1.575717  \n",
       "infectious disorder   pneumonia      CoOccursWith       2.356915  \n",
       "pulmonary             rbd            CoOccursWith       1.430677  "
      ]
     },
     "execution_count": 30,
     "metadata": {},
     "output_type": "execute_result"
    }
   ],
   "source": [
    "paper_network.edges(raw_frame=True).sample(5)"
   ]
  },
  {
   "cell_type": "code",
   "execution_count": 31,
   "metadata": {},
   "outputs": [],
   "source": [
    "npmi_distance = paragraph_network.edges(raw_frame=True)[\"npmi\"].apply(compute_distance)\n",
    "npmi_distance.name = \"distance_npmi\"\n",
    "paragraph_network.add_edge_properties(npmi_distance, \"numeric\")"
   ]
  },
  {
   "cell_type": "code",
   "execution_count": 32,
   "metadata": {},
   "outputs": [
    {
     "data": {
      "text/html": [
       "<div>\n",
       "<style scoped>\n",
       "    .dataframe tbody tr th:only-of-type {\n",
       "        vertical-align: middle;\n",
       "    }\n",
       "\n",
       "    .dataframe tbody tr th {\n",
       "        vertical-align: top;\n",
       "    }\n",
       "\n",
       "    .dataframe thead th {\n",
       "        text-align: right;\n",
       "    }\n",
       "</style>\n",
       "<table border=\"1\" class=\"dataframe\">\n",
       "  <thead>\n",
       "    <tr style=\"text-align: right;\">\n",
       "      <th></th>\n",
       "      <th></th>\n",
       "      <th>common_factors</th>\n",
       "      <th>frequency</th>\n",
       "      <th>ppmi</th>\n",
       "      <th>npmi</th>\n",
       "      <th>@type</th>\n",
       "      <th>distance_npmi</th>\n",
       "    </tr>\n",
       "    <tr>\n",
       "      <th>@source_id</th>\n",
       "      <th>@target_id</th>\n",
       "      <th></th>\n",
       "      <th></th>\n",
       "      <th></th>\n",
       "      <th></th>\n",
       "      <th></th>\n",
       "      <th></th>\n",
       "    </tr>\n",
       "  </thead>\n",
       "  <tbody>\n",
       "    <tr>\n",
       "      <th>acetaminophen</th>\n",
       "      <th>viral entry</th>\n",
       "      <td>{179426}</td>\n",
       "      <td>1</td>\n",
       "      <td>2.321928</td>\n",
       "      <td>0.537244</td>\n",
       "      <td>CoOccursWith</td>\n",
       "      <td>1.861353</td>\n",
       "    </tr>\n",
       "    <tr>\n",
       "      <th>lower respiratory tract infection</th>\n",
       "      <th>proliferation</th>\n",
       "      <td>{214924, 211125}</td>\n",
       "      <td>2</td>\n",
       "      <td>2.152003</td>\n",
       "      <td>0.647817</td>\n",
       "      <td>CoOccursWith</td>\n",
       "      <td>1.543645</td>\n",
       "    </tr>\n",
       "    <tr>\n",
       "      <th>survival</th>\n",
       "      <th>vascular</th>\n",
       "      <td>{214924, 184360}</td>\n",
       "      <td>2</td>\n",
       "      <td>2.321928</td>\n",
       "      <td>0.698970</td>\n",
       "      <td>CoOccursWith</td>\n",
       "      <td>1.430677</td>\n",
       "    </tr>\n",
       "    <tr>\n",
       "      <th>acute lung injury</th>\n",
       "      <th>hmg-coa reductase inhibitor</th>\n",
       "      <td>{179426, 214924}</td>\n",
       "      <td>2</td>\n",
       "      <td>2.321928</td>\n",
       "      <td>0.698970</td>\n",
       "      <td>CoOccursWith</td>\n",
       "      <td>1.430677</td>\n",
       "    </tr>\n",
       "    <tr>\n",
       "      <th>bradykinin</th>\n",
       "      <th>diabetic ketoacidosis</th>\n",
       "      <td>{179426}</td>\n",
       "      <td>1</td>\n",
       "      <td>1.321928</td>\n",
       "      <td>0.305865</td>\n",
       "      <td>CoOccursWith</td>\n",
       "      <td>3.269412</td>\n",
       "    </tr>\n",
       "  </tbody>\n",
       "</table>\n",
       "</div>"
      ],
      "text/plain": [
       "                                                                 common_factors  \\\n",
       "@source_id                        @target_id                                      \n",
       "acetaminophen                     viral entry                          {179426}   \n",
       "lower respiratory tract infection proliferation                {214924, 211125}   \n",
       "survival                          vascular                     {214924, 184360}   \n",
       "acute lung injury                 hmg-coa reductase inhibitor  {179426, 214924}   \n",
       "bradykinin                        diabetic ketoacidosis                {179426}   \n",
       "\n",
       "                                                               frequency  \\\n",
       "@source_id                        @target_id                               \n",
       "acetaminophen                     viral entry                          1   \n",
       "lower respiratory tract infection proliferation                        2   \n",
       "survival                          vascular                             2   \n",
       "acute lung injury                 hmg-coa reductase inhibitor          2   \n",
       "bradykinin                        diabetic ketoacidosis                1   \n",
       "\n",
       "                                                                   ppmi  \\\n",
       "@source_id                        @target_id                              \n",
       "acetaminophen                     viral entry                  2.321928   \n",
       "lower respiratory tract infection proliferation                2.152003   \n",
       "survival                          vascular                     2.321928   \n",
       "acute lung injury                 hmg-coa reductase inhibitor  2.321928   \n",
       "bradykinin                        diabetic ketoacidosis        1.321928   \n",
       "\n",
       "                                                                   npmi  \\\n",
       "@source_id                        @target_id                              \n",
       "acetaminophen                     viral entry                  0.537244   \n",
       "lower respiratory tract infection proliferation                0.647817   \n",
       "survival                          vascular                     0.698970   \n",
       "acute lung injury                 hmg-coa reductase inhibitor  0.698970   \n",
       "bradykinin                        diabetic ketoacidosis        0.305865   \n",
       "\n",
       "                                                                      @type  \\\n",
       "@source_id                        @target_id                                  \n",
       "acetaminophen                     viral entry                  CoOccursWith   \n",
       "lower respiratory tract infection proliferation                CoOccursWith   \n",
       "survival                          vascular                     CoOccursWith   \n",
       "acute lung injury                 hmg-coa reductase inhibitor  CoOccursWith   \n",
       "bradykinin                        diabetic ketoacidosis        CoOccursWith   \n",
       "\n",
       "                                                               distance_npmi  \n",
       "@source_id                        @target_id                                  \n",
       "acetaminophen                     viral entry                       1.861353  \n",
       "lower respiratory tract infection proliferation                     1.543645  \n",
       "survival                          vascular                          1.430677  \n",
       "acute lung injury                 hmg-coa reductase inhibitor       1.430677  \n",
       "bradykinin                        diabetic ketoacidosis             3.269412  "
      ]
     },
     "execution_count": 32,
     "metadata": {},
     "output_type": "execute_result"
    }
   ],
   "source": [
    "paper_network.edges(raw_frame=True).sample(5)"
   ]
  },
  {
   "cell_type": "markdown",
   "metadata": {},
   "source": [
    "## III. Nearest neighours by co-occurrence scores"
   ]
  },
  {
   "cell_type": "markdown",
   "metadata": {},
   "source": [
    "To illustrate the importance of computing mutual-information-based scores over raw frequencies consider the following example, where we would like to estimate top closest (most related) neighbors to a specific term.\n",
    "\n",
    "To do so, we will use the paragraph-based network and the raw co-occurrence frequency as the weight of our co-occurrence relation. The `top_neighbors` method of the `PathFinder` interface provided by the BlueGraph allows us to search for top neighbors with the highest edge weight. In this example, we use `graph_tool`-based `GTPathFinder` interface."
   ]
  },
  {
   "cell_type": "code",
   "execution_count": 33,
   "metadata": {},
   "outputs": [],
   "source": [
    "paragraph_path_finder = GTPathFinder(paragraph_network)"
   ]
  },
  {
   "cell_type": "markdown",
   "metadata": {},
   "source": [
    "Observe in the following cell that the path finder interface generated a backend-specific graph object."
   ]
  },
  {
   "cell_type": "code",
   "execution_count": 34,
   "metadata": {},
   "outputs": [
    {
     "data": {
      "text/plain": [
       "<Graph object, directed, with 157 vertices and 2755 edges at 0x7ffc847319e8>"
      ]
     },
     "execution_count": 34,
     "metadata": {},
     "output_type": "execute_result"
    }
   ],
   "source": [
    "paragraph_path_finder.graph"
   ]
  },
  {
   "cell_type": "code",
   "execution_count": 35,
   "metadata": {},
   "outputs": [
    {
     "data": {
      "text/plain": [
       "{'insulin': 11.0,\n",
       " 'hyperglycemia': 8.0,\n",
       " 'infectious disorder': 6.0,\n",
       " 'inflammation': 6.0,\n",
       " 'sars coronavirus': 6.0,\n",
       " 'interleukin-6': 5.0,\n",
       " 'sars-cov-2': 5.0,\n",
       " 'glucose metabolism disorder': 4.0,\n",
       " 'glyburide': 4.0,\n",
       " 'oral cavity': 4.0}"
      ]
     },
     "execution_count": 35,
     "metadata": {},
     "output_type": "execute_result"
    }
   ],
   "source": [
    "paragraph_path_finder.top_neighbors(\"glucose\", 10, weight=\"frequency\")"
   ]
  },
  {
   "cell_type": "code",
   "execution_count": 36,
   "metadata": {},
   "outputs": [
    {
     "data": {
      "text/plain": [
       "{'sars-cov-2': 13.0,\n",
       " 'pulmonary': 10.0,\n",
       " 'sars coronavirus': 10.0,\n",
       " 'viral': 9.0,\n",
       " 'mouse': 7.0,\n",
       " 'virus': 5.0,\n",
       " 'vascular': 4.0,\n",
       " 'viral infection': 4.0,\n",
       " 'middle east respiratory syndrome coronavirus': 3.0,\n",
       " 'survival': 3.0}"
      ]
     },
     "execution_count": 36,
     "metadata": {},
     "output_type": "execute_result"
    }
   ],
   "source": [
    "paragraph_path_finder.top_neighbors(\"lung\", 10, weight=\"frequency\")"
   ]
  },
  {
   "cell_type": "markdown",
   "metadata": {},
   "source": [
    "We observe that 'glucose' and 'lung' share a lot of the closest neighbors by raw frequency. If we look into the list of top 10 entities by paragraph frequency in the entire corpus and we notice that 'glucose' and 'blood' co-occur the most with the terms that are simply the most frequent in our corpus, such as 'covid-19' and 'diabetes mellitus'.\n",
    "\n",
    "(Closest inspection of the distribution of weighted node degrees suggests that the network contains _hubs_, nodes with significantly high-degree connectivity to other nodes.)"
   ]
  },
  {
   "cell_type": "code",
   "execution_count": 37,
   "metadata": {},
   "outputs": [
    {
     "data": {
      "text/html": [
       "<div>\n",
       "<style scoped>\n",
       "    .dataframe tbody tr th:only-of-type {\n",
       "        vertical-align: middle;\n",
       "    }\n",
       "\n",
       "    .dataframe tbody tr th {\n",
       "        vertical-align: top;\n",
       "    }\n",
       "\n",
       "    .dataframe thead th {\n",
       "        text-align: right;\n",
       "    }\n",
       "</style>\n",
       "<table border=\"1\" class=\"dataframe\">\n",
       "  <thead>\n",
       "    <tr style=\"text-align: right;\">\n",
       "      <th></th>\n",
       "      <th>@type</th>\n",
       "      <th>paper_frequency</th>\n",
       "    </tr>\n",
       "    <tr>\n",
       "      <th>@id</th>\n",
       "      <th></th>\n",
       "      <th></th>\n",
       "    </tr>\n",
       "  </thead>\n",
       "  <tbody>\n",
       "    <tr>\n",
       "      <th>ace inhibitor</th>\n",
       "      <td>Entity</td>\n",
       "      <td>2</td>\n",
       "    </tr>\n",
       "    <tr>\n",
       "      <th>acetaminophen</th>\n",
       "      <td>Entity</td>\n",
       "      <td>2</td>\n",
       "    </tr>\n",
       "    <tr>\n",
       "      <th>acute lung injury</th>\n",
       "      <td>Entity</td>\n",
       "      <td>4</td>\n",
       "    </tr>\n",
       "    <tr>\n",
       "      <th>acute respiratory distress syndrome</th>\n",
       "      <td>Entity</td>\n",
       "      <td>6</td>\n",
       "    </tr>\n",
       "    <tr>\n",
       "      <th>adenosine</th>\n",
       "      <td>Entity</td>\n",
       "      <td>2</td>\n",
       "    </tr>\n",
       "    <tr>\n",
       "      <th>...</th>\n",
       "      <td>...</td>\n",
       "      <td>...</td>\n",
       "    </tr>\n",
       "    <tr>\n",
       "      <th>vildagliptin</th>\n",
       "      <td>Entity</td>\n",
       "      <td>2</td>\n",
       "    </tr>\n",
       "    <tr>\n",
       "      <th>viral</th>\n",
       "      <td>Entity</td>\n",
       "      <td>5</td>\n",
       "    </tr>\n",
       "    <tr>\n",
       "      <th>viral entry</th>\n",
       "      <td>Entity</td>\n",
       "      <td>2</td>\n",
       "    </tr>\n",
       "    <tr>\n",
       "      <th>viral infection</th>\n",
       "      <td>Entity</td>\n",
       "      <td>4</td>\n",
       "    </tr>\n",
       "    <tr>\n",
       "      <th>virus</th>\n",
       "      <td>Entity</td>\n",
       "      <td>7</td>\n",
       "    </tr>\n",
       "  </tbody>\n",
       "</table>\n",
       "<p>157 rows × 2 columns</p>\n",
       "</div>"
      ],
      "text/plain": [
       "                                      @type  paper_frequency\n",
       "@id                                                         \n",
       "ace inhibitor                        Entity                2\n",
       "acetaminophen                        Entity                2\n",
       "acute lung injury                    Entity                4\n",
       "acute respiratory distress syndrome  Entity                6\n",
       "adenosine                            Entity                2\n",
       "...                                     ...              ...\n",
       "vildagliptin                         Entity                2\n",
       "viral                                Entity                5\n",
       "viral entry                          Entity                2\n",
       "viral infection                      Entity                4\n",
       "virus                                Entity                7\n",
       "\n",
       "[157 rows x 2 columns]"
      ]
     },
     "execution_count": 37,
     "metadata": {},
     "output_type": "execute_result"
    }
   ],
   "source": [
    "paragraph_network._nodes"
   ]
  },
  {
   "cell_type": "code",
   "execution_count": 38,
   "metadata": {},
   "outputs": [
    {
     "data": {
      "text/html": [
       "<div>\n",
       "<style scoped>\n",
       "    .dataframe tbody tr th:only-of-type {\n",
       "        vertical-align: middle;\n",
       "    }\n",
       "\n",
       "    .dataframe tbody tr th {\n",
       "        vertical-align: top;\n",
       "    }\n",
       "\n",
       "    .dataframe thead th {\n",
       "        text-align: right;\n",
       "    }\n",
       "</style>\n",
       "<table border=\"1\" class=\"dataframe\">\n",
       "  <thead>\n",
       "    <tr style=\"text-align: right;\">\n",
       "      <th></th>\n",
       "      <th>@type</th>\n",
       "      <th>paper_frequency</th>\n",
       "    </tr>\n",
       "    <tr>\n",
       "      <th>@id</th>\n",
       "      <th></th>\n",
       "      <th></th>\n",
       "    </tr>\n",
       "  </thead>\n",
       "  <tbody>\n",
       "    <tr>\n",
       "      <th>covid-19</th>\n",
       "      <td>Entity</td>\n",
       "      <td>20</td>\n",
       "    </tr>\n",
       "    <tr>\n",
       "      <th>diabetes mellitus</th>\n",
       "      <td>Entity</td>\n",
       "      <td>19</td>\n",
       "    </tr>\n",
       "    <tr>\n",
       "      <th>coronavirus</th>\n",
       "      <td>Entity</td>\n",
       "      <td>16</td>\n",
       "    </tr>\n",
       "    <tr>\n",
       "      <th>glucose</th>\n",
       "      <td>Entity</td>\n",
       "      <td>13</td>\n",
       "    </tr>\n",
       "    <tr>\n",
       "      <th>death</th>\n",
       "      <td>Entity</td>\n",
       "      <td>9</td>\n",
       "    </tr>\n",
       "    <tr>\n",
       "      <th>glyburide</th>\n",
       "      <td>Entity</td>\n",
       "      <td>9</td>\n",
       "    </tr>\n",
       "    <tr>\n",
       "      <th>infectious disorder</th>\n",
       "      <td>Entity</td>\n",
       "      <td>9</td>\n",
       "    </tr>\n",
       "    <tr>\n",
       "      <th>blood</th>\n",
       "      <td>Entity</td>\n",
       "      <td>8</td>\n",
       "    </tr>\n",
       "    <tr>\n",
       "      <th>hyperglycemia</th>\n",
       "      <td>Entity</td>\n",
       "      <td>8</td>\n",
       "    </tr>\n",
       "    <tr>\n",
       "      <th>pneumonia</th>\n",
       "      <td>Entity</td>\n",
       "      <td>8</td>\n",
       "    </tr>\n",
       "  </tbody>\n",
       "</table>\n",
       "</div>"
      ],
      "text/plain": [
       "                      @type  paper_frequency\n",
       "@id                                         \n",
       "covid-19             Entity               20\n",
       "diabetes mellitus    Entity               19\n",
       "coronavirus          Entity               16\n",
       "glucose              Entity               13\n",
       "death                Entity                9\n",
       "glyburide            Entity                9\n",
       "infectious disorder  Entity                9\n",
       "blood                Entity                8\n",
       "hyperglycemia        Entity                8\n",
       "pneumonia            Entity                8"
      ]
     },
     "execution_count": 38,
     "metadata": {},
     "output_type": "execute_result"
    }
   ],
   "source": [
    "paragraph_network.nodes(raw_frame=True).nlargest(10, columns=[\"paper_frequency\"])"
   ]
  },
  {
   "cell_type": "markdown",
   "metadata": {},
   "source": [
    "To account for the presence of such hubs, we use the mutual-information-based scores presented above. They 'balance' the influence of the highly connected hub nodes such as 'covid-19' and 'diabetes mellitus' in our example."
   ]
  },
  {
   "cell_type": "code",
   "execution_count": 39,
   "metadata": {},
   "outputs": [
    {
     "data": {
      "text/plain": [
       "{'glucose metabolism disorder': 0.43558951200762297,\n",
       " 'insulin': 0.41957609533629175,\n",
       " 'thrombophilia': 0.4079646453270325,\n",
       " 'insulin infusion': 0.3744908698338857,\n",
       " 'leukopenia': 0.3744908698338857,\n",
       " 'millimole per liter': 0.3744908698338857,\n",
       " 'troponin t, cardiac muscle': 0.3744908698338857,\n",
       " 'hyperglycemia': 0.3255525953220345,\n",
       " 'serum ferritin': 0.2953531691104843,\n",
       " 'tissue': 0.2924401924613069}"
      ]
     },
     "execution_count": 39,
     "metadata": {},
     "output_type": "execute_result"
    }
   ],
   "source": [
    "paragraph_path_finder.top_neighbors(\"glucose\", 10, weight=\"npmi\")"
   ]
  },
  {
   "cell_type": "code",
   "execution_count": 40,
   "metadata": {
    "scrolled": true
   },
   "outputs": [
    {
     "data": {
      "text/plain": [
       "{'pulmonary': 0.6362945400636919,\n",
       " 'receptor binding': 0.46595542454855043,\n",
       " 'viral infection': 0.4465392749200213,\n",
       " 'mouse': 0.4362945258726772,\n",
       " 'viral': 0.4233482775367079,\n",
       " 'sars coronavirus': 0.4042589954647716,\n",
       " 'survival': 0.39499326084547054,\n",
       " 'm protein': 0.2856252008999382,\n",
       " 'myocardium': 0.2856252008999382,\n",
       " 'neoplasm': 0.2856252008999382}"
      ]
     },
     "execution_count": 40,
     "metadata": {},
     "output_type": "execute_result"
    }
   ],
   "source": [
    "paragraph_path_finder.top_neighbors(\"lung\", 10, weight=\"npmi\")"
   ]
  },
  {
   "cell_type": "markdown",
   "metadata": {},
   "source": [
    "## IV. Graph metrics and centrality measures\n",
    "\n",
    "BlueGraph provides the `MetricProcessor` interface for computing various graph statistics. As in the previous example, we will use `graph_tool`-based `GTMetricProcessor` interface."
   ]
  },
  {
   "cell_type": "code",
   "execution_count": 41,
   "metadata": {},
   "outputs": [],
   "source": [
    "paper_metrics = GTMetricProcessor(paper_network, directed=False)\n",
    "paragraph_metrics = GTMetricProcessor(paragraph_network, directed=False)"
   ]
  },
  {
   "cell_type": "markdown",
   "metadata": {},
   "source": [
    "### Graph density"
   ]
  },
  {
   "cell_type": "markdown",
   "metadata": {},
   "source": [
    "Density of a graph is quantified by the proportion of all possible edges ($n(n-1) / 2$ for the undirected graph with $n$ nodes) that are realized."
   ]
  },
  {
   "cell_type": "code",
   "execution_count": 42,
   "metadata": {},
   "outputs": [
    {
     "name": "stdout",
     "output_type": "stream",
     "text": [
      "Density of the paper-based network:  0.7960150253143884\n",
      "Density of the paragraph-based network:  0.22497141923893516\n"
     ]
    }
   ],
   "source": [
    "print(\"Density of the paper-based network: \", paper_metrics.density())\n",
    "print(\"Density of the paragraph-based network: \", paragraph_metrics.density())"
   ]
  },
  {
   "cell_type": "markdown",
   "metadata": {},
   "source": [
    "The results above show that in the paper, section and paragraph network repsectively 80%, 42% and 22% of all possible term pairs co-occur at least once."
   ]
  },
  {
   "cell_type": "markdown",
   "metadata": {},
   "source": [
    "### Node centrality (importance) measures\n",
    "\n",
    "In this example we will compute the Degree and PageRank centralities only for the raw frequency, and the Betweenness centrality for the mutual-information-based scores. We will use methods provided by the `MetricProcessor` interface in the _write_ mode, i.e. computed metrics will be written as node properties of the underlying graph object."
   ]
  },
  {
   "cell_type": "markdown",
   "metadata": {},
   "source": [
    "_Degree centrality_ is given by the sum of weights of all incident edges of the given node and characterizes the importance of the node in the network in terms of its connectivity to other nodes (high degree = high connectivity)."
   ]
  },
  {
   "cell_type": "code",
   "execution_count": 43,
   "metadata": {},
   "outputs": [],
   "source": [
    "paragraph_metrics.degree_centrality(\"frequency\", write=True, write_property=\"degree\")"
   ]
  },
  {
   "cell_type": "markdown",
   "metadata": {},
   "source": [
    "_PageRank centrality_ is another measure that estimated the importance of the given node in the network. Roughly speaking it can be interpreted as the probablity that having landed on a random node in the network we will jump to the given node (here the edge weights are taken into account\").\n",
    "\n",
    "https://en.wikipedia.org/wiki/PageRank"
   ]
  },
  {
   "cell_type": "code",
   "execution_count": 44,
   "metadata": {},
   "outputs": [],
   "source": [
    "paragraph_metrics.pagerank_centrality(\"frequency\", write=True, write_property=\"pagerank\")"
   ]
  },
  {
   "cell_type": "markdown",
   "metadata": {},
   "source": [
    "We then compute the betweenness centrality based on the NPMI distances.\n",
    "\n",
    "_Betweenness centrality_ is a node importance measure that estimates how often a shortest path between a pair of nodes will pass through the given node."
   ]
  },
  {
   "cell_type": "code",
   "execution_count": 45,
   "metadata": {},
   "outputs": [],
   "source": [
    "paragraph_metrics.betweenness_centrality(\"distance_npmi\", write=True, write_property=\"betweenness\")"
   ]
  },
  {
   "cell_type": "markdown",
   "metadata": {},
   "source": [
    "We can inspect the underlying graph object and observe the newly added properties:"
   ]
  },
  {
   "cell_type": "code",
   "execution_count": 46,
   "metadata": {},
   "outputs": [
    {
     "data": {
      "text/plain": [
       "['@id', '@type', 'paper_frequency', 'degree', 'pagerank', 'betweenness']"
      ]
     },
     "execution_count": 46,
     "metadata": {},
     "output_type": "execute_result"
    }
   ],
   "source": [
    "paragraph_metrics.graph.vp.keys()"
   ]
  },
  {
   "cell_type": "markdown",
   "metadata": {},
   "source": [
    "Now, we will export this backend-specific graph object into a `PGFrame`."
   ]
  },
  {
   "cell_type": "code",
   "execution_count": 47,
   "metadata": {},
   "outputs": [],
   "source": [
    "new_paragraph_network = paragraph_metrics.get_pgframe()"
   ]
  },
  {
   "cell_type": "code",
   "execution_count": 48,
   "metadata": {},
   "outputs": [
    {
     "data": {
      "text/html": [
       "<div>\n",
       "<style scoped>\n",
       "    .dataframe tbody tr th:only-of-type {\n",
       "        vertical-align: middle;\n",
       "    }\n",
       "\n",
       "    .dataframe tbody tr th {\n",
       "        vertical-align: top;\n",
       "    }\n",
       "\n",
       "    .dataframe thead th {\n",
       "        text-align: right;\n",
       "    }\n",
       "</style>\n",
       "<table border=\"1\" class=\"dataframe\">\n",
       "  <thead>\n",
       "    <tr style=\"text-align: right;\">\n",
       "      <th></th>\n",
       "      <th>@type</th>\n",
       "      <th>paper_frequency</th>\n",
       "      <th>degree</th>\n",
       "      <th>pagerank</th>\n",
       "      <th>betweenness</th>\n",
       "    </tr>\n",
       "    <tr>\n",
       "      <th>@id</th>\n",
       "      <th></th>\n",
       "      <th></th>\n",
       "      <th></th>\n",
       "      <th></th>\n",
       "      <th></th>\n",
       "    </tr>\n",
       "  </thead>\n",
       "  <tbody>\n",
       "    <tr>\n",
       "      <th>diarrhea, ctcae</th>\n",
       "      <td>Entity</td>\n",
       "      <td>3.0</td>\n",
       "      <td>38.0</td>\n",
       "      <td>0.004183</td>\n",
       "      <td>0.005707</td>\n",
       "    </tr>\n",
       "    <tr>\n",
       "      <th>fatigue</th>\n",
       "      <td>Entity</td>\n",
       "      <td>2.0</td>\n",
       "      <td>23.0</td>\n",
       "      <td>0.002879</td>\n",
       "      <td>0.002257</td>\n",
       "    </tr>\n",
       "    <tr>\n",
       "      <th>vascular</th>\n",
       "      <td>Entity</td>\n",
       "      <td>2.0</td>\n",
       "      <td>130.0</td>\n",
       "      <td>0.009778</td>\n",
       "      <td>0.002895</td>\n",
       "    </tr>\n",
       "    <tr>\n",
       "      <th>cardiac failure</th>\n",
       "      <td>Entity</td>\n",
       "      <td>2.0</td>\n",
       "      <td>18.0</td>\n",
       "      <td>0.002256</td>\n",
       "      <td>0.001554</td>\n",
       "    </tr>\n",
       "    <tr>\n",
       "      <th>angiotensin-2</th>\n",
       "      <td>Entity</td>\n",
       "      <td>2.0</td>\n",
       "      <td>19.0</td>\n",
       "      <td>0.002339</td>\n",
       "      <td>0.014006</td>\n",
       "    </tr>\n",
       "  </tbody>\n",
       "</table>\n",
       "</div>"
      ],
      "text/plain": [
       "                  @type  paper_frequency  degree  pagerank  betweenness\n",
       "@id                                                                    \n",
       "diarrhea, ctcae  Entity              3.0    38.0  0.004183     0.005707\n",
       "fatigue          Entity              2.0    23.0  0.002879     0.002257\n",
       "vascular         Entity              2.0   130.0  0.009778     0.002895\n",
       "cardiac failure  Entity              2.0    18.0  0.002256     0.001554\n",
       "angiotensin-2    Entity              2.0    19.0  0.002339     0.014006"
      ]
     },
     "execution_count": 48,
     "metadata": {},
     "output_type": "execute_result"
    }
   ],
   "source": [
    "new_paragraph_network.nodes(raw_frame=True).sample(5)"
   ]
  },
  {
   "cell_type": "code",
   "execution_count": 49,
   "metadata": {},
   "outputs": [
    {
     "name": "stdout",
     "output_type": "stream",
     "text": [
      "Top 10 nodes by degree\n",
      "\t covid-19\n",
      "\t diabetes mellitus\n",
      "\t sars-cov-2\n",
      "\t angiotensin-converting enzyme 2\n",
      "\t dipeptidyl peptidase 4\n",
      "\t lung\n",
      "\t glucose\n",
      "\t coronavirus\n",
      "\t sars coronavirus\n",
      "\t viral\n"
     ]
    }
   ],
   "source": [
    "print(\"Top 10 nodes by degree\")\n",
    "for n in new_paragraph_network.nodes(raw_frame=True).nlargest(10, columns=[\"degree\"]).index:\n",
    "    print(\"\\t\", n)"
   ]
  },
  {
   "cell_type": "code",
   "execution_count": 50,
   "metadata": {},
   "outputs": [
    {
     "name": "stdout",
     "output_type": "stream",
     "text": [
      "Top 10 nodes by PageRank\n",
      "\t covid-19\n",
      "\t diabetes mellitus\n",
      "\t sars-cov-2\n",
      "\t angiotensin-converting enzyme 2\n",
      "\t dipeptidyl peptidase 4\n",
      "\t glucose\n",
      "\t lung\n",
      "\t coronavirus\n",
      "\t viral\n",
      "\t sars coronavirus\n"
     ]
    }
   ],
   "source": [
    "print(\"Top 10 nodes by PageRank\")\n",
    "for n in new_paragraph_network.nodes(raw_frame=True).nlargest(10, columns=[\"pagerank\"]).index:\n",
    "    print(\"\\t\", n)"
   ]
  },
  {
   "cell_type": "code",
   "execution_count": 51,
   "metadata": {},
   "outputs": [
    {
     "name": "stdout",
     "output_type": "stream",
     "text": [
      "Top 10 nodes by betweenness\n",
      "\t lymphopenia\n",
      "\t pulmonary\n",
      "\t glucose metabolism disorder\n",
      "\t t-lymphocyte\n",
      "\t cough\n",
      "\t chemokine\n",
      "\t d-dimer measurement\n",
      "\t kidney\n",
      "\t interleukin-19\n",
      "\t ibuprofen\n"
     ]
    }
   ],
   "source": [
    "print(\"Top 10 nodes by betweenness\")\n",
    "for n in new_paragraph_network.nodes(raw_frame=True).nlargest(10, columns=[\"betweenness\"]).index:\n",
    "    print(\"\\t\", n)"
   ]
  },
  {
   "cell_type": "markdown",
   "metadata": {},
   "source": [
    "### Compute multiple metrics in one go"
   ]
  },
  {
   "cell_type": "markdown",
   "metadata": {},
   "source": [
    "Alternatively, we can compute all the metrics in one go. To do so, we need to specify edge attributes used for computing different metrics (if an empty list is specified as a weight list for a metric, computation of this metric is not performed). \n",
    "\n",
    "We select the paragraph-based network and re-compute all some of the previously illustrated metrics as follows:"
   ]
  },
  {
   "cell_type": "code",
   "execution_count": 52,
   "metadata": {
    "scrolled": false
   },
   "outputs": [],
   "source": [
    "result_metrics = paragraph_metrics.compute_all_node_metrics(\n",
    "    degree_weights=[\"frequency\"],\n",
    "    pagerank_weights=[\"frequency\"],\n",
    "    betweenness_weights=[\"distance_npmi\"])"
   ]
  },
  {
   "cell_type": "code",
   "execution_count": 53,
   "metadata": {},
   "outputs": [
    {
     "data": {
      "text/plain": [
       "{'degree': {'frequency': {'ace inhibitor': 47.0,\n",
       "   'acetaminophen': 7.0,\n",
       "   'acute lung injury': 133.0,\n",
       "   'acute respiratory distress syndrome': 153.0,\n",
       "   'adenosine': 24.0,\n",
       "   'adipose tissue': 28.0,\n",
       "   'angioedema': 23.0,\n",
       "   'angiotensin ii receptor antagonist': 87.0,\n",
       "   'angiotensin-1': 77.0,\n",
       "   'angiotensin-2': 19.0,\n",
       "   'angiotensin-converting enzyme': 13.0,\n",
       "   'angiotensin-converting enzyme 2': 366.0,\n",
       "   'animal': 53.0,\n",
       "   'apoptosis': 20.0,\n",
       "   'bals r': 6.0,\n",
       "   'basal': 36.0,\n",
       "   'blood': 174.0,\n",
       "   'blood vessel': 30.0,\n",
       "   'bradykinin': 18.0,\n",
       "   'c-c motif chemokine 1': 48.0,\n",
       "   'c-reactive protein': 35.0,\n",
       "   'cardiac failure': 18.0,\n",
       "   'cardiovascular disorder': 109.0,\n",
       "   'cardiovascular system': 119.0,\n",
       "   'cd44 antigen': 46.0,\n",
       "   'cellular secretion': 49.0,\n",
       "   'cerebrovascular': 19.0,\n",
       "   'chemokine': 45.0,\n",
       "   'chest pain': 23.0,\n",
       "   'chloroquine': 8.0,\n",
       "   'chronic disease': 12.0,\n",
       "   'chronic kidney disease': 19.0,\n",
       "   'comorbidity': 19.0,\n",
       "   'confounding factors': 26.0,\n",
       "   'coronaviridae': 65.0,\n",
       "   'coronavirus': 247.0,\n",
       "   'cough': 53.0,\n",
       "   'covid-19': 967.0,\n",
       "   'cytokine': 153.0,\n",
       "   'd-dimer measurement': 91.0,\n",
       "   'death': 201.0,\n",
       "   'degradation': 24.0,\n",
       "   'diabetes mellitus': 740.0,\n",
       "   'diabetic ketoacidosis': 50.0,\n",
       "   'diarrhea, ctcae': 38.0,\n",
       "   'dipeptidyl peptidase 4': 280.0,\n",
       "   'dna replication': 69.0,\n",
       "   'dpp4i': 110.0,\n",
       "   'dyspnea': 23.0,\n",
       "   'extracellular matrix': 14.0,\n",
       "   'fatigue': 23.0,\n",
       "   'fever': 41.0,\n",
       "   'glucose': 277.0,\n",
       "   'glucose metabolism disorder': 56.0,\n",
       "   'glyburide': 181.0,\n",
       "   'glycosylated hemoglobin measurement': 27.0,\n",
       "   'growth factor': 22.0,\n",
       "   'h1n1': 18.0,\n",
       "   'hcp': 25.0,\n",
       "   'headache': 25.0,\n",
       "   'heart': 114.0,\n",
       "   'heart failure': 18.0,\n",
       "   'high sensitivity c-reactive protein measurement': 55.0,\n",
       "   'hiv entry inhibitor': 61.0,\n",
       "   'hmg-coa reductase inhibitor': 20.0,\n",
       "   'host cell': 60.0,\n",
       "   'human': 195.0,\n",
       "   'human dpp4': 23.0,\n",
       "   'human immunodeficiency virus': 41.0,\n",
       "   'human kidney organoids': 18.0,\n",
       "   'humoral immunity': 20.0,\n",
       "   'hyperglycemia': 115.0,\n",
       "   'hypertension': 168.0,\n",
       "   'hypoxia': 16.0,\n",
       "   'ibuprofen': 24.0,\n",
       "   'immune cell': 28.0,\n",
       "   'immune response process': 36.0,\n",
       "   'infectious disorder': 203.0,\n",
       "   'inflammation': 172.0,\n",
       "   'influenza': 28.0,\n",
       "   'insulin': 120.0,\n",
       "   'insulin infusion': 14.0,\n",
       "   'insulin resistance': 71.0,\n",
       "   'interleukin': 20.0,\n",
       "   'interleukin 1 beta measurement': 81.0,\n",
       "   'interleukin-19': 60.0,\n",
       "   'interleukin-6': 216.0,\n",
       "   'interleukin-8': 38.0,\n",
       "   'islet of langerhans': 19.0,\n",
       "   'iv': 5.0,\n",
       "   'janus bifrons': 4.0,\n",
       "   'kidney': 90.0,\n",
       "   'leucopenia': 20.0,\n",
       "   'leukopenia': 26.0,\n",
       "   'liver': 44.0,\n",
       "   'lower respiratory tract infection': 44.0,\n",
       "   'lung': 279.0,\n",
       "   'lymphocyte': 55.0,\n",
       "   'lymphopenia': 55.0,\n",
       "   'm protein': 11.0,\n",
       "   'macrophage': 44.0,\n",
       "   'mellitus': 3.0,\n",
       "   'metformin': 41.0,\n",
       "   'middle east respiratory syndrome': 67.0,\n",
       "   'middle east respiratory syndrome coronavirus': 188.0,\n",
       "   'millimole per liter': 16.0,\n",
       "   'molecule': 20.0,\n",
       "   'mouse': 149.0,\n",
       "   'multi-organ dysfunction': 24.0,\n",
       "   'muscle': 15.0,\n",
       "   'myalgia': 10.0,\n",
       "   'myocardium': 18.0,\n",
       "   'neoplasm': 28.0,\n",
       "   'nephropathy': 14.0,\n",
       "   'neutrophil': 66.0,\n",
       "   'obesity': 101.0,\n",
       "   'oral cavity': 64.0,\n",
       "   'organ': 26.0,\n",
       "   'oxygen': 14.0,\n",
       "   'person': 48.0,\n",
       "   'plasma': 59.0,\n",
       "   'plasmid': 23.0,\n",
       "   'pneumonia': 131.0,\n",
       "   'prognosis': 4.0,\n",
       "   'proliferation': 84.0,\n",
       "   'pulmonary': 142.0,\n",
       "   'rbd': 21.0,\n",
       "   'receptor binding': 13.0,\n",
       "   'renal': 40.0,\n",
       "   'respiratory failure': 23.0,\n",
       "   'respiratory system': 43.0,\n",
       "   'sars coronavirus': 227.0,\n",
       "   'sars-cov-2': 462.0,\n",
       "   'saxagliptin': 52.0,\n",
       "   'septicemia': 7.0,\n",
       "   'serum': 29.0,\n",
       "   'serum ferritin': 59.0,\n",
       "   'severe acute respiratory syndrome': 30.0,\n",
       "   'shortness of breath visual analogue scale': 22.0,\n",
       "   'sitagliptin': 118.0,\n",
       "   'sulfonylurea antidiabetic agent': 29.0,\n",
       "   'survival': 40.0,\n",
       "   't-lymphocyte': 60.0,\n",
       "   'therapeutic corticosteroid': 30.0,\n",
       "   'thrombophilia': 39.0,\n",
       "   'tissue': 34.0,\n",
       "   'transmembrane protein': 23.0,\n",
       "   'troponin t, cardiac muscle': 26.0,\n",
       "   'tumor necrosis factor': 60.0,\n",
       "   'tzd': 26.0,\n",
       "   'vaccine': 36.0,\n",
       "   'vascular': 130.0,\n",
       "   'vildagliptin': 59.0,\n",
       "   'viral': 227.0,\n",
       "   'viral entry': 58.0,\n",
       "   'viral infection': 60.0,\n",
       "   'virus': 214.0}},\n",
       " 'pagerank': {'frequency': {'ace inhibitor': 0.004152458029344015,\n",
       "   'acetaminophen': 0.0014906961813661434,\n",
       "   'acute lung injury': 0.009832243982126676,\n",
       "   'acute respiratory distress syndrome': 0.011580030547361387,\n",
       "   'adenosine': 0.002612937014598164,\n",
       "   'adipose tissue': 0.0028758451874745508,\n",
       "   'angioedema': 0.002725347645783217,\n",
       "   'angiotensin ii receptor antagonist': 0.006901545362098664,\n",
       "   'angiotensin-1': 0.0060586797066069075,\n",
       "   'angiotensin-2': 0.002338880893244231,\n",
       "   'angiotensin-converting enzyme': 0.002011635050939988,\n",
       "   'angiotensin-converting enzyme 2': 0.026326895480669122,\n",
       "   'animal': 0.0045231222225027064,\n",
       "   'apoptosis': 0.0023214366343953133,\n",
       "   'bals r': 0.0013340881849877326,\n",
       "   'basal': 0.003304187290243935,\n",
       "   'blood': 0.013341979661426105,\n",
       "   'blood vessel': 0.0030240632954701037,\n",
       "   'bradykinin': 0.002581664275366596,\n",
       "   'c-c motif chemokine 1': 0.004185294268831437,\n",
       "   'c-reactive protein': 0.003424691967290455,\n",
       "   'cardiac failure': 0.0022556609336875453,\n",
       "   'cardiovascular disorder': 0.008508007460430825,\n",
       "   'cardiovascular system': 0.009221594415812398,\n",
       "   'cd44 antigen': 0.004143074764868434,\n",
       "   'cellular secretion': 0.004419504769772333,\n",
       "   'cerebrovascular': 0.002246677889687307,\n",
       "   'chemokine': 0.004380628762362812,\n",
       "   'chest pain': 0.0027802857337129957,\n",
       "   'chloroquine': 0.0017147994271386232,\n",
       "   'chronic disease': 0.0017287242160751721,\n",
       "   'chronic kidney disease': 0.00230381370076683,\n",
       "   'comorbidity': 0.002158974154553018,\n",
       "   'confounding factors': 0.0028019584079163676,\n",
       "   'coronaviridae': 0.005317891745565911,\n",
       "   'coronavirus': 0.01799883462743997,\n",
       "   'cough': 0.005159150851187762,\n",
       "   'covid-19': 0.06886925957123359,\n",
       "   'cytokine': 0.011523563418163421,\n",
       "   'd-dimer measurement': 0.007463840079219117,\n",
       "   'death': 0.014754648565919582,\n",
       "   'degradation': 0.003134396874894728,\n",
       "   'diabetes mellitus': 0.05261167520597816,\n",
       "   'diabetic ketoacidosis': 0.0043813521203349085,\n",
       "   'diarrhea, ctcae': 0.004182703039411017,\n",
       "   'dipeptidyl peptidase 4': 0.021188107027129963,\n",
       "   'dna replication': 0.00567381510604976,\n",
       "   'dpp4i': 0.008712656447381874,\n",
       "   'dyspnea': 0.0028790065009840736,\n",
       "   'extracellular matrix': 0.002191876245933133,\n",
       "   'fatigue': 0.0028790065009840736,\n",
       "   'fever': 0.004272038839579367,\n",
       "   'glucose': 0.020734003596608562,\n",
       "   'glucose metabolism disorder': 0.004914700809530222,\n",
       "   'glyburide': 0.013783247306899648,\n",
       "   'glycosylated hemoglobin measurement': 0.00290414740509276,\n",
       "   'growth factor': 0.002469690035258013,\n",
       "   'h1n1': 0.002250549567658149,\n",
       "   'hcp': 0.0025663414235044726,\n",
       "   'headache': 0.003159527850599882,\n",
       "   'heart': 0.009007303506906924,\n",
       "   'heart failure': 0.0022556609336875457,\n",
       "   'high sensitivity c-reactive protein measurement': 0.0048493330535681525,\n",
       "   'hiv entry inhibitor': 0.0049761828907330455,\n",
       "   'hmg-coa reductase inhibitor': 0.0022602018822671377,\n",
       "   'host cell': 0.0049064465033281345,\n",
       "   'human': 0.014265073738463651,\n",
       "   'human dpp4': 0.0024371104116018344,\n",
       "   'human immunodeficiency virus': 0.0035919497278639233,\n",
       "   'human kidney organoids': 0.0021348586982227248,\n",
       "   'humoral immunity': 0.002349206494761052,\n",
       "   'hyperglycemia': 0.009208086694322614,\n",
       "   'hypertension': 0.012718127893611025,\n",
       "   'hypoxia': 0.0020668076933929207,\n",
       "   'ibuprofen': 0.0030630942066669983,\n",
       "   'immune cell': 0.003305380772809256,\n",
       "   'immune response process': 0.0033980167402726364,\n",
       "   'infectious disorder': 0.014885039899702902,\n",
       "   'inflammation': 0.012935117049216514,\n",
       "   'influenza': 0.0029161581949291708,\n",
       "   'insulin': 0.009661985638993136,\n",
       "   'insulin infusion': 0.0018719164969189885,\n",
       "   'insulin resistance': 0.005804883687854388,\n",
       "   'interleukin': 0.0023600573383962477,\n",
       "   'interleukin 1 beta measurement': 0.006619614559427507,\n",
       "   'interleukin-19': 0.005172355295687237,\n",
       "   'interleukin-6': 0.016031820370886504,\n",
       "   'interleukin-8': 0.003678320997953137,\n",
       "   'islet of langerhans': 0.002163810168057412,\n",
       "   'iv': 0.0013073526599321629,\n",
       "   'janus bifrons': 0.001206524346893674,\n",
       "   'kidney': 0.007373366095259822,\n",
       "   'leucopenia': 0.0026437243564841435,\n",
       "   'leukopenia': 0.0027398831733284595,\n",
       "   'liver': 0.0041205937685508415,\n",
       "   'lower respiratory tract infection': 0.004215253952500799,\n",
       "   'lung': 0.01987603246408639,\n",
       "   'lymphocyte': 0.004743480432576459,\n",
       "   'lymphopenia': 0.004984120916010568,\n",
       "   'm protein': 0.001768282426683341,\n",
       "   'macrophage': 0.00397182562965511,\n",
       "   'mellitus': 0.0011368152454454548,\n",
       "   'metformin': 0.003814744177910735,\n",
       "   'middle east respiratory syndrome': 0.005471118248902777,\n",
       "   'middle east respiratory syndrome coronavirus': 0.013542484986260182,\n",
       "   'millimole per liter': 0.002012114886348464,\n",
       "   'molecule': 0.0026394691991344626,\n",
       "   'mouse': 0.011038161664515397,\n",
       "   'multi-organ dysfunction': 0.0028074755065375036,\n",
       "   'muscle': 0.0021013542071990497,\n",
       "   'myalgia': 0.0019203030930301014,\n",
       "   'myocardium': 0.0021616276094056563,\n",
       "   'neoplasm': 0.0029233275254040778,\n",
       "   'nephropathy': 0.0019913869279294958,\n",
       "   'neutrophil': 0.005492199855460827,\n",
       "   'obesity': 0.008069188655730612,\n",
       "   'oral cavity': 0.005438298759510575,\n",
       "   'organ': 0.002878024503339599,\n",
       "   'oxygen': 0.001976732147019142,\n",
       "   'person': 0.004154181126187047,\n",
       "   'plasma': 0.00496560591965284,\n",
       "   'plasmid': 0.0026700065358654683,\n",
       "   'pneumonia': 0.010452913508179843,\n",
       "   'prognosis': 0.0012126066748934063,\n",
       "   'proliferation': 0.006756467796314194,\n",
       "   'pulmonary': 0.01081993223187879,\n",
       "   'rbd': 0.002411895527887984,\n",
       "   'receptor binding': 0.0018097928573061603,\n",
       "   'renal': 0.0038370566828956434,\n",
       "   'respiratory failure': 0.0027899020739369255,\n",
       "   'respiratory system': 0.004197271541140391,\n",
       "   'sars coronavirus': 0.016399971886118914,\n",
       "   'sars-cov-2': 0.0332825611501555,\n",
       "   'saxagliptin': 0.004512206446156022,\n",
       "   'septicemia': 0.0014209024553975959,\n",
       "   'serum': 0.002895491900256021,\n",
       "   'serum ferritin': 0.005118237763288477,\n",
       "   'severe acute respiratory syndrome': 0.0028550838106643564,\n",
       "   'shortness of breath visual analogue scale': 0.0026612553474513623,\n",
       "   'sitagliptin': 0.009763944249960344,\n",
       "   'sulfonylurea antidiabetic agent': 0.00296418770907822,\n",
       "   'survival': 0.0036468377717435454,\n",
       "   't-lymphocyte': 0.005552101612082121,\n",
       "   'therapeutic corticosteroid': 0.0030466670454099396,\n",
       "   'thrombophilia': 0.003695323394049084,\n",
       "   'tissue': 0.00339631656457414,\n",
       "   'transmembrane protein': 0.002601807301922339,\n",
       "   'troponin t, cardiac muscle': 0.00273988317332846,\n",
       "   'tumor necrosis factor': 0.005237024505323946,\n",
       "   'tzd': 0.0028019584079163684,\n",
       "   'vaccine': 0.0033737875831698553,\n",
       "   'vascular': 0.00977790302242251,\n",
       "   'vildagliptin': 0.0051695753974040845,\n",
       "   'viral': 0.01669077355352824,\n",
       "   'viral entry': 0.004936393184985871,\n",
       "   'viral infection': 0.004988105635258172,\n",
       "   'virus': 0.015547419409213193}},\n",
       " 'betweenness': {'distance_npmi': {'ace inhibitor': 0.00020678246484698098,\n",
       "   'acetaminophen': 0.0,\n",
       "   'acute lung injury': 0.015260545905707195,\n",
       "   'acute respiratory distress syndrome': 0.014640198511166254,\n",
       "   'adenosine': 0.009376895505927765,\n",
       "   'adipose tissue': 0.006782464846980976,\n",
       "   'angioedema': 0.006685966363385718,\n",
       "   'angiotensin ii receptor antagonist': 0.009015715467328371,\n",
       "   'angiotensin-1': 0.003143093465674111,\n",
       "   'angiotensin-2': 0.014006065618968843,\n",
       "   'angiotensin-converting enzyme': 0.0045905707196029774,\n",
       "   'angiotensin-converting enzyme 2': 0.0030603804797353184,\n",
       "   'animal': 0.006617038875103391,\n",
       "   'apoptosis': 0.0027564102564102567,\n",
       "   'bals r': 0.0,\n",
       "   'basal': 0.0011993382961124897,\n",
       "   'blood': 0.01033912324234905,\n",
       "   'blood vessel': 0.005872622001654259,\n",
       "   'bradykinin': 0.004273504273504273,\n",
       "   'c-c motif chemokine 1': 0.0071960297766749375,\n",
       "   'c-reactive protein': 0.0070168183071408876,\n",
       "   'cardiac failure': 0.0015536255858836503,\n",
       "   'cardiovascular disorder': 0.014061207609594707,\n",
       "   'cardiovascular system': 0.004962779156327543,\n",
       "   'cd44 antigen': 0.013234077750206782,\n",
       "   'cellular secretion': 0.01368899917287014,\n",
       "   'cerebrovascular': 0.0012682657843948167,\n",
       "   'chemokine': 0.026730079955886405,\n",
       "   'chest pain': 0.005944995864350703,\n",
       "   'chloroquine': 0.0019713261648745518,\n",
       "   'chronic disease': 0.0009098428453267163,\n",
       "   'chronic kidney disease': 0.011248966087675765,\n",
       "   'comorbidity': 8.271298593879239e-05,\n",
       "   'confounding factors': 0.007154673283705542,\n",
       "   'coronaviridae': 0.010173697270471464,\n",
       "   'coronavirus': 0.006947890818858561,\n",
       "   'cough': 0.02803970223325062,\n",
       "   'covid-19': 0.0,\n",
       "   'cytokine': 0.004425144747725393,\n",
       "   'd-dimer measurement': 0.023738626964433417,\n",
       "   'death': 0.004631927212572374,\n",
       "   'degradation': 0.01578439481665288,\n",
       "   'diabetes mellitus': 0.01282051282051282,\n",
       "   'diabetic ketoacidosis': 0.003970223325062035,\n",
       "   'diarrhea, ctcae': 0.005707196029776675,\n",
       "   'dipeptidyl peptidase 4': 0.01108354011579818,\n",
       "   'dna replication': 0.010835401157981803,\n",
       "   'dpp4i': 0.003515301902398677,\n",
       "   'dyspnea': 0.002257375241246209,\n",
       "   'extracellular matrix': 0.007740556934105321,\n",
       "   'fatigue': 0.002257375241246209,\n",
       "   'fever': 0.004962779156327543,\n",
       "   'glucose': 0.007444168734491315,\n",
       "   'glucose metabolism disorder': 0.03432588916459884,\n",
       "   'glyburide': 0.0032258064516129032,\n",
       "   'glycosylated hemoglobin measurement': 0.01621174524400331,\n",
       "   'growth factor': 0.004921422663358147,\n",
       "   'h1n1': 0.007816377171215881,\n",
       "   'hcp': 0.0008271298593879239,\n",
       "   'headache': 0.0162979046043562,\n",
       "   'heart': 0.016604631927212572,\n",
       "   'heart failure': 0.0015536255858836503,\n",
       "   'high sensitivity c-reactive protein measurement': 0.013289219740832645,\n",
       "   'hiv entry inhibitor': 0.010794044665012407,\n",
       "   'hmg-coa reductase inhibitor': 0.002267714364488558,\n",
       "   'host cell': 0.002522746071133168,\n",
       "   'human': 0.004549214226633581,\n",
       "   'human dpp4': 0.004466501240694789,\n",
       "   'human immunodeficiency virus': 0.004880066170388751,\n",
       "   'human kidney organoids': 0.0007857733664185277,\n",
       "   'humoral immunity': 0.007223600771987869,\n",
       "   'hyperglycemia': 0.01588089330024814,\n",
       "   'hypertension': 0.004549214226633581,\n",
       "   'hypoxia': 0.0030603804797353184,\n",
       "   'ibuprofen': 0.020168183071408875,\n",
       "   'immune cell': 0.01000827129859388,\n",
       "   'immune response process': 0.0013234077750206782,\n",
       "   'infectious disorder': 0.0012406947890818859,\n",
       "   'inflammation': 0.0037220843672456576,\n",
       "   'influenza': 0.006699751861042184,\n",
       "   'insulin': 0.007113316790736146,\n",
       "   'insulin infusion': 0.0043286462641301355,\n",
       "   'insulin resistance': 0.014185277088502896,\n",
       "   'interleukin': 0.002522746071133168,\n",
       "   'interleukin 1 beta measurement': 0.007899090157154674,\n",
       "   'interleukin-19': 0.022125723738626965,\n",
       "   'interleukin-6': 0.013316790736145575,\n",
       "   'interleukin-8': 0.005872622001654259,\n",
       "   'islet of langerhans': 0.004797353184449959,\n",
       "   'iv': 0.0,\n",
       "   'janus bifrons': 0.0,\n",
       "   'kidney': 0.022539288668320927,\n",
       "   'leucopenia': 0.01262062310449407,\n",
       "   'leukopenia': 0.0029914529914529912,\n",
       "   'liver': 0.015232974910394265,\n",
       "   'lower respiratory tract infection': 0.014846980976013235,\n",
       "   'lung': 0.004466501240694789,\n",
       "   'lymphocyte': 0.007954232147780535,\n",
       "   'lymphopenia': 0.038916459884201816,\n",
       "   'm protein': 0.0008684863523573201,\n",
       "   'macrophage': 0.008395368072787427,\n",
       "   'mellitus': 0.0,\n",
       "   'metformin': 0.004425144747725393,\n",
       "   'middle east respiratory syndrome': 0.005500413564929694,\n",
       "   'middle east respiratory syndrome coronavirus': 0.005045492142266336,\n",
       "   'millimole per liter': 0.0016266887234629168,\n",
       "   'molecule': 0.018513923352633032,\n",
       "   'mouse': 0.008064516129032258,\n",
       "   'multi-organ dysfunction': 0.006792803970223325,\n",
       "   'muscle': 0.002564102564102564,\n",
       "   'myalgia': 0.0007926661152467604,\n",
       "   'myocardium': 0.0058519437551695615,\n",
       "   'neoplasm': 0.008353322304935207,\n",
       "   'nephropathy': 0.004962779156327543,\n",
       "   'neutrophil': 0.00883650399779432,\n",
       "   'obesity': 0.008023159636062862,\n",
       "   'oral cavity': 0.010752688172043012,\n",
       "   'organ': 0.013454645712710229,\n",
       "   'oxygen': 0.007154673283705542,\n",
       "   'person': 0.006038047973531845,\n",
       "   'plasma': 0.009966914805624482,\n",
       "   'plasmid': 0.01619106699751861,\n",
       "   'pneumonia': 0.012572373862696443,\n",
       "   'prognosis': 0.0,\n",
       "   'proliferation': 0.00380479735318445,\n",
       "   'pulmonary': 0.0347808105872622,\n",
       "   'rbd': 0.00380479735318445,\n",
       "   'receptor binding': 0.00260545905707196,\n",
       "   'renal': 0.012985938792390406,\n",
       "   'respiratory failure': 0.006406810035842295,\n",
       "   'respiratory system': 0.014846980976013235,\n",
       "   'sars coronavirus': 0.0037220843672456576,\n",
       "   'sars-cov-2': 0.003143093465674111,\n",
       "   'saxagliptin': 0.00467328370554177,\n",
       "   'septicemia': 0.00041356492969396195,\n",
       "   'serum': 0.014502343534601598,\n",
       "   'serum ferritin': 0.016101461262751585,\n",
       "   'severe acute respiratory syndrome': 0.004383788254755997,\n",
       "   'shortness of breath visual analogue scale': 0.00041356492969396195,\n",
       "   'sitagliptin': 0.006472291149710504,\n",
       "   'sulfonylurea antidiabetic agent': 0.00641025641025641,\n",
       "   'survival': 0.004466501240694789,\n",
       "   't-lymphocyte': 0.029404466501240695,\n",
       "   'therapeutic corticosteroid': 0.011248966087675765,\n",
       "   'thrombophilia': 0.018458781362007168,\n",
       "   'tissue': 0.011993382961124899,\n",
       "   'transmembrane protein': 0.010918114143920596,\n",
       "   'troponin t, cardiac muscle': 0.0029914529914529912,\n",
       "   'tumor necrosis factor': 0.016804521643231318,\n",
       "   'tzd': 0.007154673283705542,\n",
       "   'vaccine': 0.003349875930521092,\n",
       "   'vascular': 0.0028949545078577337,\n",
       "   'vildagliptin': 0.0030603804797353184,\n",
       "   'viral': 0.012241521918941274,\n",
       "   'viral entry': 0.015508684863523574,\n",
       "   'viral infection': 0.006286186931348222,\n",
       "   'virus': 0.005789909015715467}},\n",
       " 'closeness': {}}"
      ]
     },
     "execution_count": 53,
     "metadata": {},
     "output_type": "execute_result"
    }
   ],
   "source": [
    "result_metrics"
   ]
  },
  {
   "cell_type": "markdown",
   "metadata": {},
   "source": [
    "## V. Export network and the computed metrics"
   ]
  },
  {
   "cell_type": "code",
   "execution_count": 65,
   "metadata": {},
   "outputs": [],
   "source": [
    "# Save graph as JSON\n",
    "new_paragraph_network.export_json(\"data/literature_comention.json\")"
   ]
  },
  {
   "cell_type": "code",
   "execution_count": 64,
   "metadata": {},
   "outputs": [],
   "source": [
    "# Save the graph for Gephi import.\n",
    "new_paragraph_network.export_to_gephi(\n",
    "    \"data/gephi_literature_comention\", \n",
    "    node_attr_mapping = {\n",
    "        \"degree\": \"Degree\",\n",
    "        \"pagerank\": \"PageRank\",\n",
    "        \"betweenness\": \"Betweenness\",\n",
    "    },\n",
    "    edge_attr_mapping={\n",
    "        \"npmi\": \"Weight\"\n",
    "    })"
   ]
  },
  {
   "cell_type": "markdown",
   "metadata": {},
   "source": [
    "The representation of the network saved above can be imported into Gephi for producing graph visualizations, as in the following example:\n",
    "\n",
    "In the figures below colors represent communities detected using the NPMI weight, node sizes are proportional to the PageRank of nodes and edge thickness to the NPMI values.\n",
    "\n",
    "**Full network**\n",
    "<img src=\"./figures/literature/full_network.png\" alt=\"Literature co-occurrence network\" style=\"width: 400px;\"/>\n",
    "\n",
    "**Community \"Symptoms and comorbidities\"**\n",
    "<img src=\"./figures/literature/covid_19_comorbidities.png\" alt=\"Drawing\" style=\"width: 400px;\"/>\n",
    "\n",
    "**Community \"Viral biology\"**\n",
    "<img src=\"./figures/literature/virus.png\" alt=\"Drawing\" style=\"width: 600px;\"/>\n",
    "\n",
    "**Community \"Immunity\"**\n",
    "<img src=\"./figures/literature/immunity.png\" alt=\"Drawing\" style=\"width: 600px;\"/>"
   ]
  },
  {
   "cell_type": "markdown",
   "metadata": {},
   "source": [
    "## VI. Community detection"
   ]
  },
  {
   "cell_type": "markdown",
   "metadata": {},
   "source": [
    "_Community detection_ methods partition the network into clusters of densely connected nodes in a way that nodes in the same community are more connected between themselves relatively to the nodes in different communities. In this section we will illustrate the use of the `CommunityDetector` interface provided by BlueGraph for community detection and estimation of its quality using modularity, performance and coverange methods. The unified interface allows us to use various community detection methods available in different graph backends."
   ]
  },
  {
   "cell_type": "markdown",
   "metadata": {},
   "source": [
    "First, we create a `NetworkX`-based instance and use several different community detection strategies provided by this library. "
   ]
  },
  {
   "cell_type": "code",
   "execution_count": 54,
   "metadata": {},
   "outputs": [],
   "source": [
    "nx_detector = NXCommunityDetector(paragraph_network, directed=False)"
   ]
  },
  {
   "cell_type": "code",
   "execution_count": 55,
   "metadata": {},
   "outputs": [
    {
     "data": {
      "text/plain": [
       "<networkx.classes.graph.Graph at 0x7ffc84610b00>"
      ]
     },
     "execution_count": 55,
     "metadata": {},
     "output_type": "execute_result"
    }
   ],
   "source": [
    "nx_detector.graph"
   ]
  },
  {
   "cell_type": "markdown",
   "metadata": {},
   "source": [
    "### Louvain algorithm"
   ]
  },
  {
   "cell_type": "code",
   "execution_count": 56,
   "metadata": {},
   "outputs": [],
   "source": [
    "partition = nx_detector.detect_communities(\n",
    "    strategy=\"louvain\", weight=\"npmi\")"
   ]
  },
  {
   "cell_type": "code",
   "execution_count": 57,
   "metadata": {},
   "outputs": [
    {
     "name": "stdout",
     "output_type": "stream",
     "text": [
      "Modularity:  0.18724002885365992\n",
      "Performance:  0.7733953944145027\n",
      "Coverage:  0.37313974591651544\n"
     ]
    }
   ],
   "source": [
    "print(\"Modularity: \", nx_detector.evaluate_parition(partition, metric=\"modularity\"))\n",
    "print(\"Performance: \", nx_detector.evaluate_parition(partition, metric=\"performance\"))\n",
    "print(\"Coverage: \", nx_detector.evaluate_parition(partition, metric=\"coverage\"))"
   ]
  },
  {
   "cell_type": "markdown",
   "metadata": {},
   "source": [
    "### Label propagation"
   ]
  },
  {
   "cell_type": "code",
   "execution_count": 58,
   "metadata": {
    "scrolled": true
   },
   "outputs": [],
   "source": [
    "partition = nx_detector.detect_communities(\n",
    "    strategy=\"lpa\", weight=\"frequency\", intermediate=False)"
   ]
  },
  {
   "cell_type": "code",
   "execution_count": 59,
   "metadata": {},
   "outputs": [
    {
     "name": "stdout",
     "output_type": "stream",
     "text": [
      "Modularity:  0.0\n",
      "Performance:  0.22497141923893516\n",
      "Coverage:  1.0\n"
     ]
    }
   ],
   "source": [
    "print(\"Modularity: \", nx_detector.evaluate_parition(partition, metric=\"modularity\"))\n",
    "print(\"Performance: \", nx_detector.evaluate_parition(partition, metric=\"performance\"))\n",
    "print(\"Coverage: \", nx_detector.evaluate_parition(partition, metric=\"coverage\"))"
   ]
  },
  {
   "cell_type": "markdown",
   "metadata": {},
   "source": [
    "### Stochastic block model"
   ]
  },
  {
   "cell_type": "code",
   "execution_count": 60,
   "metadata": {},
   "outputs": [],
   "source": [
    "gt_detector = GTCommunityDetector(paragraph_network, directed=False)"
   ]
  },
  {
   "cell_type": "code",
   "execution_count": 61,
   "metadata": {
    "scrolled": false
   },
   "outputs": [],
   "source": [
    "partition = gt_detector.detect_communities(strategy=\"sbm\")"
   ]
  },
  {
   "cell_type": "code",
   "execution_count": 62,
   "metadata": {},
   "outputs": [
    {
     "name": "stdout",
     "output_type": "stream",
     "text": [
      "Modularity:  0.07518940978455275\n",
      "Performance:  0.7735587130491589\n",
      "Coverage:  0.1647912885662432\n"
     ]
    }
   ],
   "source": [
    "print(\"Modularity: \", nx_detector.evaluate_parition(partition, metric=\"modularity\"))\n",
    "print(\"Performance: \", nx_detector.evaluate_parition(partition, metric=\"performance\"))\n",
    "print(\"Coverage: \", nx_detector.evaluate_parition(partition, metric=\"coverage\"))"
   ]
  },
  {
   "cell_type": "markdown",
   "metadata": {},
   "source": [
    "## VII. Minimum spanning trees"
   ]
  },
  {
   "cell_type": "markdown",
   "metadata": {},
   "source": [
    "A _minimum spanning tree_ of a network is given by a subset of edges that make the network connected ($n - 1$ edges connecting $n$ nodes). Its weighted version minimizes not only the number of edges included in the tree, but the total edge weight.\n",
    "\n",
    "In the following example we compute a minimum spanning tree minimizing the NPMI-based distance weight of the network edges."
   ]
  },
  {
   "cell_type": "code",
   "execution_count": 112,
   "metadata": {},
   "outputs": [],
   "source": [
    "gt_paragraph_path_finder = GTPathFinder(new_paragraph_network)"
   ]
  },
  {
   "cell_type": "code",
   "execution_count": 113,
   "metadata": {
    "scrolled": true
   },
   "outputs": [],
   "source": [
    "tree = graph_tool_to_pgframe(gt_paragraph_path_finder.minimum_spanning_tree(distance=\"distance_npmi\"))"
   ]
  },
  {
   "cell_type": "code",
   "execution_count": 114,
   "metadata": {},
   "outputs": [],
   "source": [
    "tree.export_to_gephi(\n",
    "    \"data/gephi_literature_spanning_tree\", \n",
    "    node_attr_mapping = {\n",
    "        \"degree\": \"Degree\",\n",
    "        \"pagerank\": \"PageRank\",\n",
    "        \"betweenness\": \"Betweenness\",\n",
    "#         \"community_npmi\": \"Community\"\n",
    "    },\n",
    "    edge_attr_mapping={\n",
    "        \"npmi\": \"Weight\"\n",
    "    })"
   ]
  },
  {
   "cell_type": "markdown",
   "metadata": {},
   "source": [
    "The representation of the network saved above can be imported into Gephi for producing graph visualizations, as in the following example:\n",
    "\n",
    "In the figures below colors represent communities detected using the NPMI weight, node sizes are proportional to the PageRank of nodes and edge thickness to the NPMI values.\n",
    "\n",
    "**Full network**\n",
    "<img src=\"./figures/literature/tree.png\" alt=\"Literature co-occurrence MST\" style=\"width: 400px;\"/>\n",
    "\n",
    "**Zoom into \"covid-19\"**\n",
    "<img src=\"./figures/literature/tree_covid-19.png\" alt=\"Drawing\" style=\"width: 700px;\"/>"
   ]
  },
  {
   "cell_type": "markdown",
   "metadata": {},
   "source": [
    "## Shortest path search"
   ]
  },
  {
   "cell_type": "markdown",
   "metadata": {},
   "source": [
    "The _shortest path search problem_ consisits in finding a sequence of edges from the source node to the target node that minimizes the cumulative weight (or distance) associated to the edges. "
   ]
  },
  {
   "cell_type": "code",
   "execution_count": 115,
   "metadata": {},
   "outputs": [
    {
     "name": "stdout",
     "output_type": "stream",
     "text": [
      "lung <->  <-> sars-cov-2\n",
      "         \n"
     ]
    }
   ],
   "source": [
    "path = gt_paragraph_path_finder.shortest_path(\"lung\", \"sars-cov-2\")\n",
    "pretty_print_paths([path])"
   ]
  },
  {
   "cell_type": "markdown",
   "metadata": {},
   "source": [
    "The cell above illustrates that the single shortest path form 'lung' and 'sars-cov-2' consists of the direct edge between them.\n",
    "\n",
    "We adapt this problem to the literature exploration task, i.e. having fixed the source and the target concepts (the relation here is actually symmetric as the edges of our network are undirected), we would like to find a _set_ of $n$ shortest paths between them. Moreover, we would like these paths to be _indirect_ (not to include the direct edge from the source to the target). In the following examples we use mutual-information-based edge weights to perform our literature exploration. \n",
    "\n",
    "The library includes two strategies for finding such $n$ shortest paths. The first strategy uses Yen's algorithm for finding $n$ loopless shortest paths from the source to the target (https://en.wikipedia.org/wiki/Yen%27s_algorithm).\n"
   ]
  },
  {
   "cell_type": "code",
   "execution_count": 116,
   "metadata": {},
   "outputs": [],
   "source": [
    "nx_paragraph_path_finder = NXPathFinder(new_paragraph_network)\n",
    "paths = nx_paragraph_path_finder.n_shortest_paths(\n",
    "    \"lung\", \"sars-cov-2\", n=10,\n",
    "    distance=\"distance_npmi\", strategy=\"yen\")"
   ]
  },
  {
   "cell_type": "code",
   "execution_count": 117,
   "metadata": {},
   "outputs": [
    {
     "name": "stdout",
     "output_type": "stream",
     "text": [
      "lung <->                                 <-> sars-cov-2\n",
      "         \n",
      "         acute lung injury\n",
      "         pulmonary\n",
      "         receptor binding\n",
      "         human\n",
      "         viral\n",
      "         angiotensin-converting enzyme 2\n",
      "         host cell\n",
      "         dna replication\n",
      "         acute lung injury <-> pulmonary\n"
     ]
    }
   ],
   "source": [
    "pretty_print_paths(paths)"
   ]
  },
  {
   "cell_type": "markdown",
   "metadata": {},
   "source": [
    "The second, _naive_, strategy is suitable in the scenarios when our networks are large and highly dense (then the performance of Yen's algorithm degragates as the number of edges is approaching $O(N^2)$ with $N$ being the number of nodes). \n",
    "\n",
    "This strategy simply finds _all_ the indirect shortest paths from the source to the target (in dense graphs the most common such paths are of length 2, i.e. `source <-> intermediary <-> target`, and therefore, the number of such path is roughly proportional to the number of nodes in the network). Then, the cumulative distance score is computed for every path and the top $n$ paths with the best score are selected."
   ]
  },
  {
   "cell_type": "code",
   "execution_count": 118,
   "metadata": {},
   "outputs": [],
   "source": [
    "paths = gt_paragraph_path_finder.n_shortest_paths(\n",
    "    \"lung\", \"sars-cov-2\", n=10,\n",
    "    distance=\"distance_npmi\", strategy=\"naive\")"
   ]
  },
  {
   "cell_type": "code",
   "execution_count": 119,
   "metadata": {},
   "outputs": [
    {
     "name": "stdout",
     "output_type": "stream",
     "text": [
      "lung <->                                 <-> sars-cov-2\n",
      "         \n",
      "         acute lung injury\n",
      "         pulmonary\n",
      "         receptor binding\n",
      "         human\n",
      "         viral\n",
      "         angiotensin-converting enzyme 2\n",
      "         host cell\n",
      "         dna replication\n",
      "         human kidney organoids\n"
     ]
    }
   ],
   "source": [
    "pretty_print_paths(paths)"
   ]
  },
  {
   "cell_type": "markdown",
   "metadata": {},
   "source": [
    "We can also search for a path in the previously computed spanning tree"
   ]
  },
  {
   "cell_type": "code",
   "execution_count": 120,
   "metadata": {},
   "outputs": [
    {
     "name": "stdout",
     "output_type": "stream",
     "text": [
      "('lung', 'acute lung injury', 'animal', 'mouse', 'human dpp4', 'human immunodeficiency virus', 'coronaviridae', 'sars-cov-2')\n"
     ]
    }
   ],
   "source": [
    "tree_path_finder = GTPathFinder(tree)\n",
    "path = tree_path_finder.shortest_path(\"lung\", \"sars-cov-2\")\n",
    "print(path)"
   ]
  },
  {
   "cell_type": "markdown",
   "metadata": {},
   "source": [
    "The library provides an additional utility for finding _tripaths_, paths of the shape `source <-> intermediary <-> target`. Setting the parameter `intersecting` to `False` we can ensure that the entities the sets of entities discovered on the paths `source <-> intermediary` and `intermediary <-> target` do not overlap."
   ]
  },
  {
   "cell_type": "code",
   "execution_count": 121,
   "metadata": {},
   "outputs": [],
   "source": [
    "path_a_b, path_b_c = gt_paragraph_path_finder.n_shortest_tripaths(\n",
    "    \"lung\", \"glucose\", \"sars-cov-2\", 10,\n",
    "    strategy=\"naive\", distance=\"distance_npmi\", overlap=False)"
   ]
  },
  {
   "cell_type": "code",
   "execution_count": 122,
   "metadata": {},
   "outputs": [
    {
     "name": "stdout",
     "output_type": "stream",
     "text": [
      "lung ->                                -> glucose ->                   -> sars-cov-2\n",
      "        inflammation                                   cerebrovascular\n",
      "        islet of langerhans                            plasmid\n",
      "        serum                                          basal\n",
      "        oral cavity                                    coronavirus\n",
      "        death                                          headache\n",
      "        middle east respiratory syndrome               comorbidity\n",
      "        neutrophil                                     infectious disorder\n",
      "        sulfonylurea antidiabetic agent                viral entry\n",
      "        therapeutic corticosteroid                     sars coronavirus\n",
      "        chemokine                                      person\n"
     ]
    }
   ],
   "source": [
    "pretty_print_tripaths(\"lung\", \"glucose\", \"sars-cov-2\", 10, path_a_b, path_b_c)"
   ]
  },
  {
   "cell_type": "markdown",
   "metadata": {},
   "source": [
    "## Nested path search"
   ]
  },
  {
   "cell_type": "markdown",
   "metadata": {},
   "source": [
    "To explore the space of co-occurring terms in depth, we can run the path search procedure presented above in a _nested fashion_. For each edge $e_1, e_2, ..., e_n$ encountered on a path from the source to the target  from, we can\n",
    "further expand it into $n$ shortest paths between each pair of successive entities (i.e. paths between $e_1$ and $e_2$, $e_2$ and $e_3$, etc.)."
   ]
  },
  {
   "cell_type": "code",
   "execution_count": 123,
   "metadata": {},
   "outputs": [],
   "source": [
    "paths = gt_paragraph_path_finder.n_nested_shortest_paths(\n",
    "    \"lung\", \"glucose\", top_level_n=10, nested_n=2, depth=2, distance=\"distance_npmi\",\n",
    "    strategy=\"naive\")"
   ]
  },
  {
   "cell_type": "code",
   "execution_count": 124,
   "metadata": {
    "scrolled": true
   },
   "outputs": [
    {
     "data": {
      "text/plain": [
       "[('inflammation', 'glucose metabolism disorder', 'glucose'),\n",
       " ('neutrophil', 'lymphocyte', 'glucose'),\n",
       " ('inflammation', 'thrombophilia', 'glucose'),\n",
       " ('lung', 'serum', 'inflammation'),\n",
       " ('lung', 'oral cavity', 'glucose'),\n",
       " ('chemokine', 'growth factor', 'glucose'),\n",
       " ('neutrophil', 'millimole per liter', 'glucose'),\n",
       " ('therapeutic corticosteroid', 'oral cavity', 'glucose'),\n",
       " ('islet of langerhans', 'hyperglycemia', 'glucose'),\n",
       " ('lung', 'chemokine', 'glucose'),\n",
       " ('sulfonylurea antidiabetic agent', 'blood', 'glucose'),\n",
       " ('lung', 'sulfonylurea antidiabetic agent', 'glucose'),\n",
       " ('lung', 'serum', 'glucose'),\n",
       " ('middle east respiratory syndrome', 'lymphocyte', 'glucose'),\n",
       " ('chemokine', 'glucose metabolism disorder', 'glucose'),\n",
       " ('therapeutic corticosteroid', 'insulin', 'glucose'),\n",
       " ('lung', 'inflammation'),\n",
       " ('serum', 'thrombophilia', 'glucose'),\n",
       " ('death', 'leukopenia', 'glucose'),\n",
       " ('lung', 'oral cavity'),\n",
       " ('middle east respiratory syndrome', 'glucose'),\n",
       " ('oral cavity', 'glucose'),\n",
       " ('lung', 'serum'),\n",
       " ('lung', 'neutrophil'),\n",
       " ('lung', 'pulmonary', 'chemokine'),\n",
       " ('lung', 'middle east respiratory syndrome', 'glucose'),\n",
       " ('lung', 'islet of langerhans'),\n",
       " ('lung', 'therapeutic corticosteroid', 'glucose'),\n",
       " ('islet of langerhans', 'glucose'),\n",
       " ('lung', 'survival', 'oral cavity'),\n",
       " ('lung', 'islet of langerhans', 'glucose'),\n",
       " ('death', 'glucose'),\n",
       " ('lung', 'inflammation', 'glucose'),\n",
       " ('serum', 'glucose metabolism disorder', 'glucose'),\n",
       " ('lung', 'viral infection', 'islet of langerhans'),\n",
       " ('lung', 'acute lung injury', 'serum'),\n",
       " ('lung', 'therapeutic corticosteroid'),\n",
       " ('lung', 'survival', 'sulfonylurea antidiabetic agent'),\n",
       " ('lung', 'middle east respiratory syndrome'),\n",
       " ('lung', 'acute lung injury', 'chemokine'),\n",
       " ('lung', 'mouse', 'middle east respiratory syndrome'),\n",
       " ('lung', 'survival', 'death'),\n",
       " ('oral cavity', 'blood', 'glucose'),\n",
       " ('lung', 'neutrophil', 'glucose'),\n",
       " ('lung', 'pulmonary', 'sulfonylurea antidiabetic agent'),\n",
       " ('lung', 'acute lung injury', 'neutrophil'),\n",
       " ('lung', 'lower respiratory tract infection', 'therapeutic corticosteroid'),\n",
       " ('lung', 'death', 'glucose'),\n",
       " ('lung', 'death'),\n",
       " ('sulfonylurea antidiabetic agent', 'oral cavity', 'glucose')]"
      ]
     },
     "execution_count": 124,
     "metadata": {},
     "output_type": "execute_result"
    }
   ],
   "source": [
    "paths"
   ]
  },
  {
   "cell_type": "markdown",
   "metadata": {},
   "source": [
    "We can now visualize the subnetwork constructed using the nodes and the edges discovered during our nested path search."
   ]
  },
  {
   "cell_type": "code",
   "execution_count": 125,
   "metadata": {},
   "outputs": [],
   "source": [
    "nodes, edges = graph_elements_from_paths(paths)"
   ]
  },
  {
   "cell_type": "code",
   "execution_count": 126,
   "metadata": {},
   "outputs": [],
   "source": [
    "summary_graph = graph_tool_to_pgframe(\n",
    "    gt_paragraph_path_finder.get_subgraph(\n",
    "        nodes_to_exclude=[\n",
    "            n for n in gt_paragraph_path_finder.get_nodes()\n",
    "            if n not in nodes\n",
    "        ],\n",
    "        edges_to_exclude=[\n",
    "            (s, t) for s, t in gt_paragraph_path_finder.get_edges()\n",
    "            if (s, t) not in edges\n",
    "        ]))"
   ]
  },
  {
   "cell_type": "code",
   "execution_count": 127,
   "metadata": {
    "scrolled": true
   },
   "outputs": [
    {
     "name": "stdout",
     "output_type": "stream",
     "text": [
      "Number of nodes:  27\n",
      "Number of edges:  23\n"
     ]
    }
   ],
   "source": [
    "print(\"Number of nodes: \", summary_graph.number_of_nodes())\n",
    "print(\"Number of edges: \", summary_graph.number_of_edges())"
   ]
  },
  {
   "cell_type": "code",
   "execution_count": 128,
   "metadata": {},
   "outputs": [],
   "source": [
    "# Save the graph for Gephi import.\n",
    "summary_graph.export_to_gephi(\n",
    "    \"data/gephi_literature_path_graph\", \n",
    "    node_attr_mapping = {\n",
    "        \"degree\": \"Degree\",\n",
    "        \"pagerank\": \"PageRank\",\n",
    "        \"betweenness\": \"Betweenness\",\n",
    "#         \"community_npmi\": \"Community\"\n",
    "    },\n",
    "    edge_attr_mapping={\n",
    "        \"npmi\": \"Weight\"\n",
    "    })"
   ]
  },
  {
   "cell_type": "markdown",
   "metadata": {},
   "source": [
    "The resulting graph visualized with Gephi\n",
    "<img src=\"./figures/literature/path_graph.png\" alt=\"Literature co-occurrence network\" style=\"width: 800px;\"/>"
   ]
  }
 ],
 "metadata": {
  "kernelspec": {
   "display_name": "bluegraph",
   "language": "python",
   "name": "bluegraph"
  },
  "language_info": {
   "codemirror_mode": {
    "name": "ipython",
    "version": 3
   },
   "file_extension": ".py",
   "mimetype": "text/x-python",
   "name": "python",
   "nbconvert_exporter": "python",
   "pygments_lexer": "ipython3",
   "version": "3.6.12"
  }
 },
 "nbformat": 4,
 "nbformat_minor": 4
}
