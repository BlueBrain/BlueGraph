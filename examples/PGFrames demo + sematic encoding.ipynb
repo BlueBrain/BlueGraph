{
 "cells": [
  {
   "cell_type": "code",
   "execution_count": 1,
   "id": "fourth-offer",
   "metadata": {},
   "outputs": [],
   "source": [
    "import random\n",
    "\n",
    "import numpy as np\n",
    "import pandas as pd\n",
    "\n",
    "from nltk.corpus import words"
   ]
  },
  {
   "cell_type": "code",
   "execution_count": 2,
   "id": "several-developer",
   "metadata": {},
   "outputs": [],
   "source": [
    "# import nltk\n",
    "\n",
    "# nltk.download('words')"
   ]
  },
  {
   "cell_type": "code",
   "execution_count": 3,
   "id": "ongoing-senator",
   "metadata": {},
   "outputs": [],
   "source": [
    "from bluegraph import PandasPGFrame\n",
    "from bluegraph.preprocess import ScikitLearnPGEncoder"
   ]
  },
  {
   "cell_type": "code",
   "execution_count": 7,
   "id": "colonial-parcel",
   "metadata": {},
   "outputs": [],
   "source": [
    "def generate_targets(nodes, s, density=0.2):\n",
    "    edges = []\n",
    "    for t in nodes:\n",
    "        if s < t:\n",
    "            edge = np.random.choice([0, 1], p=[1 - density, density])\n",
    "            if edge:\n",
    "                \n",
    "                edges.append([s, t])\n",
    "    return edges\n",
    "\n",
    "\n",
    "def random_pgframe(n_nodes, density):\n",
    "    nodes = list(range(n_nodes))\n",
    "\n",
    "    edges = sum(\n",
    "        map(lambda x: generate_targets(nodes, x, density), nodes), [])\n",
    "    edges = pd.DataFrame(\n",
    "        edges, columns=[\"@source_id\", \"@target_id\"])\n",
    "    edges_df = edges.set_index([\"@source_id\", \"@target_id\"])\n",
    "    frame = PandasPGFrame(nodes=nodes, edges=edges_df.index)\n",
    "    return frame"
   ]
  },
  {
   "cell_type": "code",
   "execution_count": 5,
   "id": "similar-watershed",
   "metadata": {},
   "outputs": [],
   "source": [
    "N = 70\n",
    "density = 0.13"
   ]
  },
  {
   "cell_type": "markdown",
   "id": "leading-lodge",
   "metadata": {},
   "source": [
    "# Generate a random graph"
   ]
  },
  {
   "cell_type": "code",
   "execution_count": 8,
   "id": "temporal-target",
   "metadata": {},
   "outputs": [],
   "source": [
    "graph_frame = random_pgframe(N, density)"
   ]
  },
  {
   "cell_type": "code",
   "execution_count": 9,
   "id": "vanilla-tracker",
   "metadata": {},
   "outputs": [
    {
     "data": {
      "text/html": [
       "<div>\n",
       "<style scoped>\n",
       "    .dataframe tbody tr th:only-of-type {\n",
       "        vertical-align: middle;\n",
       "    }\n",
       "\n",
       "    .dataframe tbody tr th {\n",
       "        vertical-align: top;\n",
       "    }\n",
       "\n",
       "    .dataframe thead th {\n",
       "        text-align: right;\n",
       "    }\n",
       "</style>\n",
       "<table border=\"1\" class=\"dataframe\">\n",
       "  <thead>\n",
       "    <tr style=\"text-align: right;\">\n",
       "      <th></th>\n",
       "    </tr>\n",
       "    <tr>\n",
       "      <th>@id</th>\n",
       "    </tr>\n",
       "  </thead>\n",
       "  <tbody>\n",
       "    <tr>\n",
       "      <th>0</th>\n",
       "    </tr>\n",
       "    <tr>\n",
       "      <th>1</th>\n",
       "    </tr>\n",
       "    <tr>\n",
       "      <th>2</th>\n",
       "    </tr>\n",
       "    <tr>\n",
       "      <th>3</th>\n",
       "    </tr>\n",
       "    <tr>\n",
       "      <th>4</th>\n",
       "    </tr>\n",
       "    <tr>\n",
       "      <th>...</th>\n",
       "    </tr>\n",
       "    <tr>\n",
       "      <th>65</th>\n",
       "    </tr>\n",
       "    <tr>\n",
       "      <th>66</th>\n",
       "    </tr>\n",
       "    <tr>\n",
       "      <th>67</th>\n",
       "    </tr>\n",
       "    <tr>\n",
       "      <th>68</th>\n",
       "    </tr>\n",
       "    <tr>\n",
       "      <th>69</th>\n",
       "    </tr>\n",
       "  </tbody>\n",
       "</table>\n",
       "<p>70 rows × 0 columns</p>\n",
       "</div>"
      ],
      "text/plain": [
       "Empty DataFrame\n",
       "Columns: []\n",
       "Index: [0, 1, 2, 3, 4, 5, 6, 7, 8, 9, 10, 11, 12, 13, 14, 15, 16, 17, 18, 19, 20, 21, 22, 23, 24, 25, 26, 27, 28, 29, 30, 31, 32, 33, 34, 35, 36, 37, 38, 39, 40, 41, 42, 43, 44, 45, 46, 47, 48, 49, 50, 51, 52, 53, 54, 55, 56, 57, 58, 59, 60, 61, 62, 63, 64, 65, 66, 67, 68, 69]\n",
       "\n",
       "[70 rows x 0 columns]"
      ]
     },
     "execution_count": 9,
     "metadata": {},
     "output_type": "execute_result"
    }
   ],
   "source": [
    "graph_frame._nodes"
   ]
  },
  {
   "cell_type": "code",
   "execution_count": 10,
   "id": "macro-birmingham",
   "metadata": {},
   "outputs": [
    {
     "data": {
      "text/html": [
       "<div>\n",
       "<style scoped>\n",
       "    .dataframe tbody tr th:only-of-type {\n",
       "        vertical-align: middle;\n",
       "    }\n",
       "\n",
       "    .dataframe tbody tr th {\n",
       "        vertical-align: top;\n",
       "    }\n",
       "\n",
       "    .dataframe thead th {\n",
       "        text-align: right;\n",
       "    }\n",
       "</style>\n",
       "<table border=\"1\" class=\"dataframe\">\n",
       "  <thead>\n",
       "    <tr style=\"text-align: right;\">\n",
       "      <th></th>\n",
       "      <th></th>\n",
       "    </tr>\n",
       "    <tr>\n",
       "      <th>@source_id</th>\n",
       "      <th>@target_id</th>\n",
       "    </tr>\n",
       "  </thead>\n",
       "  <tbody>\n",
       "    <tr>\n",
       "      <th rowspan=\"5\" valign=\"top\">0</th>\n",
       "      <th>11</th>\n",
       "    </tr>\n",
       "    <tr>\n",
       "      <th>19</th>\n",
       "    </tr>\n",
       "    <tr>\n",
       "      <th>20</th>\n",
       "    </tr>\n",
       "    <tr>\n",
       "      <th>22</th>\n",
       "    </tr>\n",
       "    <tr>\n",
       "      <th>27</th>\n",
       "    </tr>\n",
       "    <tr>\n",
       "      <th>...</th>\n",
       "      <th>...</th>\n",
       "    </tr>\n",
       "    <tr>\n",
       "      <th>62</th>\n",
       "      <th>64</th>\n",
       "    </tr>\n",
       "    <tr>\n",
       "      <th>63</th>\n",
       "      <th>64</th>\n",
       "    </tr>\n",
       "    <tr>\n",
       "      <th>64</th>\n",
       "      <th>65</th>\n",
       "    </tr>\n",
       "    <tr>\n",
       "      <th>66</th>\n",
       "      <th>69</th>\n",
       "    </tr>\n",
       "    <tr>\n",
       "      <th>68</th>\n",
       "      <th>69</th>\n",
       "    </tr>\n",
       "  </tbody>\n",
       "</table>\n",
       "<p>361 rows × 0 columns</p>\n",
       "</div>"
      ],
      "text/plain": [
       "Empty DataFrame\n",
       "Columns: []\n",
       "Index: [(0, 11), (0, 19), (0, 20), (0, 22), (0, 27), (0, 30), (0, 33), (0, 45), (0, 50), (0, 53), (0, 59), (0, 68), (1, 10), (1, 14), (1, 24), (1, 26), (1, 30), (1, 33), (1, 36), (1, 41), (1, 44), (1, 60), (1, 61), (2, 3), (2, 5), (2, 9), (2, 17), (2, 21), (2, 38), (2, 39), (2, 43), (2, 57), (2, 58), (2, 69), (3, 9), (3, 15), (3, 27), (3, 31), (3, 34), (3, 39), (3, 40), (4, 9), (4, 33), (4, 36), (4, 39), (4, 43), (4, 45), (4, 55), (4, 58), (4, 65), (5, 7), (5, 11), (5, 31), (5, 39), (5, 58), (5, 61), (6, 16), (6, 20), (6, 26), (6, 32), (6, 33), (6, 35), (6, 43), (6, 44), (6, 51), (6, 57), (7, 14), (7, 30), (7, 39), (7, 55), (7, 63), (7, 65), (7, 66), (8, 10), (8, 15), (8, 18), (8, 36), (8, 44), (8, 56), (8, 62), (9, 11), (9, 15), (9, 17), (9, 24), (9, 33), (9, 35), (9, 37), (9, 39), (9, 44), (9, 47), (9, 49), (9, 50), (9, 51), (9, 53), (9, 60), (9, 68), (10, 11), (10, 25), (10, 30), (10, 32), ...]\n",
       "\n",
       "[361 rows x 0 columns]"
      ]
     },
     "execution_count": 10,
     "metadata": {},
     "output_type": "execute_result"
    }
   ],
   "source": [
    "graph_frame._edges"
   ]
  },
  {
   "cell_type": "markdown",
   "id": "african-football",
   "metadata": {},
   "source": [
    "# Add node and edge types"
   ]
  },
  {
   "cell_type": "code",
   "execution_count": 11,
   "id": "imported-merit",
   "metadata": {},
   "outputs": [],
   "source": [
    "types = [\"Apple\", \"Orange\", \"Carrot\"]"
   ]
  },
  {
   "cell_type": "code",
   "execution_count": 12,
   "id": "baking-bracket",
   "metadata": {},
   "outputs": [],
   "source": [
    "node_types = {\n",
    "    n: np.random.choice(types, p=[0.5, 0.4, 0.1])\n",
    "    for n in range(N)\n",
    "}"
   ]
  },
  {
   "cell_type": "code",
   "execution_count": 14,
   "id": "spiritual-desert",
   "metadata": {},
   "outputs": [],
   "source": [
    "graph_frame.add_node_types(node_types)"
   ]
  },
  {
   "cell_type": "code",
   "execution_count": 15,
   "id": "internal-michigan",
   "metadata": {},
   "outputs": [
    {
     "data": {
      "text/html": [
       "<div>\n",
       "<style scoped>\n",
       "    .dataframe tbody tr th:only-of-type {\n",
       "        vertical-align: middle;\n",
       "    }\n",
       "\n",
       "    .dataframe tbody tr th {\n",
       "        vertical-align: top;\n",
       "    }\n",
       "\n",
       "    .dataframe thead th {\n",
       "        text-align: right;\n",
       "    }\n",
       "</style>\n",
       "<table border=\"1\" class=\"dataframe\">\n",
       "  <thead>\n",
       "    <tr style=\"text-align: right;\">\n",
       "      <th></th>\n",
       "      <th>@type</th>\n",
       "    </tr>\n",
       "    <tr>\n",
       "      <th>@id</th>\n",
       "      <th></th>\n",
       "    </tr>\n",
       "  </thead>\n",
       "  <tbody>\n",
       "    <tr>\n",
       "      <th>0</th>\n",
       "      <td>Orange</td>\n",
       "    </tr>\n",
       "    <tr>\n",
       "      <th>1</th>\n",
       "      <td>Apple</td>\n",
       "    </tr>\n",
       "    <tr>\n",
       "      <th>2</th>\n",
       "      <td>Apple</td>\n",
       "    </tr>\n",
       "    <tr>\n",
       "      <th>3</th>\n",
       "      <td>Apple</td>\n",
       "    </tr>\n",
       "    <tr>\n",
       "      <th>4</th>\n",
       "      <td>Apple</td>\n",
       "    </tr>\n",
       "    <tr>\n",
       "      <th>...</th>\n",
       "      <td>...</td>\n",
       "    </tr>\n",
       "    <tr>\n",
       "      <th>65</th>\n",
       "      <td>Apple</td>\n",
       "    </tr>\n",
       "    <tr>\n",
       "      <th>66</th>\n",
       "      <td>Apple</td>\n",
       "    </tr>\n",
       "    <tr>\n",
       "      <th>67</th>\n",
       "      <td>Orange</td>\n",
       "    </tr>\n",
       "    <tr>\n",
       "      <th>68</th>\n",
       "      <td>Orange</td>\n",
       "    </tr>\n",
       "    <tr>\n",
       "      <th>69</th>\n",
       "      <td>Apple</td>\n",
       "    </tr>\n",
       "  </tbody>\n",
       "</table>\n",
       "<p>70 rows × 1 columns</p>\n",
       "</div>"
      ],
      "text/plain": [
       "      @type\n",
       "@id        \n",
       "0    Orange\n",
       "1     Apple\n",
       "2     Apple\n",
       "3     Apple\n",
       "4     Apple\n",
       "..      ...\n",
       "65    Apple\n",
       "66    Apple\n",
       "67   Orange\n",
       "68   Orange\n",
       "69    Apple\n",
       "\n",
       "[70 rows x 1 columns]"
      ]
     },
     "execution_count": 15,
     "metadata": {},
     "output_type": "execute_result"
    }
   ],
   "source": [
    "graph_frame._nodes"
   ]
  },
  {
   "cell_type": "code",
   "execution_count": 16,
   "id": "cheap-profile",
   "metadata": {},
   "outputs": [],
   "source": [
    "types = [\"isFriend\", \"isEnemy\"]"
   ]
  },
  {
   "cell_type": "code",
   "execution_count": 17,
   "id": "tight-village",
   "metadata": {},
   "outputs": [],
   "source": [
    "edge_types = {\n",
    "    e: np.random.choice(types, p=[0.8, 0.2])\n",
    "    for e in graph_frame.edges()\n",
    "}"
   ]
  },
  {
   "cell_type": "code",
   "execution_count": 18,
   "id": "adult-celtic",
   "metadata": {},
   "outputs": [],
   "source": [
    "graph_frame.add_edge_types(edge_types)"
   ]
  },
  {
   "cell_type": "code",
   "execution_count": 19,
   "id": "polished-cooler",
   "metadata": {},
   "outputs": [
    {
     "data": {
      "text/html": [
       "<div>\n",
       "<style scoped>\n",
       "    .dataframe tbody tr th:only-of-type {\n",
       "        vertical-align: middle;\n",
       "    }\n",
       "\n",
       "    .dataframe tbody tr th {\n",
       "        vertical-align: top;\n",
       "    }\n",
       "\n",
       "    .dataframe thead th {\n",
       "        text-align: right;\n",
       "    }\n",
       "</style>\n",
       "<table border=\"1\" class=\"dataframe\">\n",
       "  <thead>\n",
       "    <tr style=\"text-align: right;\">\n",
       "      <th></th>\n",
       "      <th></th>\n",
       "      <th>@type</th>\n",
       "    </tr>\n",
       "    <tr>\n",
       "      <th>@source_id</th>\n",
       "      <th>@target_id</th>\n",
       "      <th></th>\n",
       "    </tr>\n",
       "  </thead>\n",
       "  <tbody>\n",
       "    <tr>\n",
       "      <th rowspan=\"5\" valign=\"top\">0</th>\n",
       "      <th>11</th>\n",
       "      <td>isEnemy</td>\n",
       "    </tr>\n",
       "    <tr>\n",
       "      <th>19</th>\n",
       "      <td>isFriend</td>\n",
       "    </tr>\n",
       "    <tr>\n",
       "      <th>20</th>\n",
       "      <td>isFriend</td>\n",
       "    </tr>\n",
       "    <tr>\n",
       "      <th>22</th>\n",
       "      <td>isFriend</td>\n",
       "    </tr>\n",
       "    <tr>\n",
       "      <th>27</th>\n",
       "      <td>isEnemy</td>\n",
       "    </tr>\n",
       "    <tr>\n",
       "      <th>...</th>\n",
       "      <th>...</th>\n",
       "      <td>...</td>\n",
       "    </tr>\n",
       "    <tr>\n",
       "      <th>62</th>\n",
       "      <th>64</th>\n",
       "      <td>isFriend</td>\n",
       "    </tr>\n",
       "    <tr>\n",
       "      <th>63</th>\n",
       "      <th>64</th>\n",
       "      <td>isFriend</td>\n",
       "    </tr>\n",
       "    <tr>\n",
       "      <th>64</th>\n",
       "      <th>65</th>\n",
       "      <td>isFriend</td>\n",
       "    </tr>\n",
       "    <tr>\n",
       "      <th>66</th>\n",
       "      <th>69</th>\n",
       "      <td>isFriend</td>\n",
       "    </tr>\n",
       "    <tr>\n",
       "      <th>68</th>\n",
       "      <th>69</th>\n",
       "      <td>isFriend</td>\n",
       "    </tr>\n",
       "  </tbody>\n",
       "</table>\n",
       "<p>361 rows × 1 columns</p>\n",
       "</div>"
      ],
      "text/plain": [
       "                          @type\n",
       "@source_id @target_id          \n",
       "0          11           isEnemy\n",
       "           19          isFriend\n",
       "           20          isFriend\n",
       "           22          isFriend\n",
       "           27           isEnemy\n",
       "...                         ...\n",
       "62         64          isFriend\n",
       "63         64          isFriend\n",
       "64         65          isFriend\n",
       "66         69          isFriend\n",
       "68         69          isFriend\n",
       "\n",
       "[361 rows x 1 columns]"
      ]
     },
     "execution_count": 19,
     "metadata": {},
     "output_type": "execute_result"
    }
   ],
   "source": [
    "graph_frame._edges"
   ]
  },
  {
   "cell_type": "markdown",
   "id": "communist-exclusion",
   "metadata": {},
   "source": [
    "# Add node and edge properties\n",
    "\n",
    "numerical, categorical, text"
   ]
  },
  {
   "cell_type": "markdown",
   "id": "cathedral-stock",
   "metadata": {},
   "source": [
    "## Add node properties"
   ]
  },
  {
   "cell_type": "code",
   "execution_count": 20,
   "id": "afraid-domain",
   "metadata": {},
   "outputs": [],
   "source": [
    "weight = pd.DataFrame(\n",
    "    [\n",
    "        (n, np.random.normal(loc=35, scale=5))\n",
    "        for n in graph_frame.nodes()\n",
    "    ], \n",
    "    columns=[\"@id\", \"weight\"]\n",
    ")"
   ]
  },
  {
   "cell_type": "code",
   "execution_count": 22,
   "id": "differential-satellite",
   "metadata": {},
   "outputs": [],
   "source": [
    "graph_frame.add_node_properties(weight, prop_type=\"numeric\")"
   ]
  },
  {
   "cell_type": "code",
   "execution_count": 25,
   "id": "imposed-train",
   "metadata": {},
   "outputs": [],
   "source": [
    "colors = [\"red\", \"green\", \"blue\"]"
   ]
  },
  {
   "cell_type": "code",
   "execution_count": 26,
   "id": "employed-fraud",
   "metadata": {},
   "outputs": [],
   "source": [
    "colors = pd.DataFrame(\n",
    "    [\n",
    "        (n, np.random.choice(colors))\n",
    "        for n in graph_frame.nodes()\n",
    "    ], \n",
    "    columns=[\"@id\", \"color\"]\n",
    ")"
   ]
  },
  {
   "cell_type": "code",
   "execution_count": 27,
   "id": "loving-southwest",
   "metadata": {},
   "outputs": [],
   "source": [
    "graph_frame.add_node_properties(colors, prop_type=\"category\")"
   ]
  },
  {
   "cell_type": "code",
   "execution_count": 28,
   "id": "young-shirt",
   "metadata": {},
   "outputs": [],
   "source": [
    "desc = pd.DataFrame(\n",
    "    [\n",
    "        (n, ' '.join(random.sample(words.words(), 20)))\n",
    "        for n in graph_frame.nodes()\n",
    "    ], \n",
    "    columns=[\"@id\", \"desc\"]\n",
    ")"
   ]
  },
  {
   "cell_type": "code",
   "execution_count": 29,
   "id": "derived-green",
   "metadata": {},
   "outputs": [],
   "source": [
    "graph_frame.add_node_properties(desc, prop_type=\"text\")"
   ]
  },
  {
   "cell_type": "code",
   "execution_count": 30,
   "id": "twelve-hudson",
   "metadata": {},
   "outputs": [
    {
     "data": {
      "text/html": [
       "<div>\n",
       "<style scoped>\n",
       "    .dataframe tbody tr th:only-of-type {\n",
       "        vertical-align: middle;\n",
       "    }\n",
       "\n",
       "    .dataframe tbody tr th {\n",
       "        vertical-align: top;\n",
       "    }\n",
       "\n",
       "    .dataframe thead th {\n",
       "        text-align: right;\n",
       "    }\n",
       "</style>\n",
       "<table border=\"1\" class=\"dataframe\">\n",
       "  <thead>\n",
       "    <tr style=\"text-align: right;\">\n",
       "      <th></th>\n",
       "      <th>@type</th>\n",
       "      <th>weight</th>\n",
       "      <th>color</th>\n",
       "      <th>desc</th>\n",
       "    </tr>\n",
       "    <tr>\n",
       "      <th>@id</th>\n",
       "      <th></th>\n",
       "      <th></th>\n",
       "      <th></th>\n",
       "      <th></th>\n",
       "    </tr>\n",
       "  </thead>\n",
       "  <tbody>\n",
       "    <tr>\n",
       "      <th>0</th>\n",
       "      <td>Orange</td>\n",
       "      <td>33.009618</td>\n",
       "      <td>green</td>\n",
       "      <td>rhombos unkinglike couchmaking coreplastic inf...</td>\n",
       "    </tr>\n",
       "    <tr>\n",
       "      <th>1</th>\n",
       "      <td>Apple</td>\n",
       "      <td>35.173856</td>\n",
       "      <td>red</td>\n",
       "      <td>nonplastic insightful Hydrophyllaceae massebah...</td>\n",
       "    </tr>\n",
       "    <tr>\n",
       "      <th>2</th>\n",
       "      <td>Apple</td>\n",
       "      <td>35.949917</td>\n",
       "      <td>green</td>\n",
       "      <td>Messinese unpiety moromancy waterbrain pecopte...</td>\n",
       "    </tr>\n",
       "    <tr>\n",
       "      <th>3</th>\n",
       "      <td>Apple</td>\n",
       "      <td>45.994004</td>\n",
       "      <td>green</td>\n",
       "      <td>formulatory bestrew angelolatry micht sauriosi...</td>\n",
       "    </tr>\n",
       "    <tr>\n",
       "      <th>4</th>\n",
       "      <td>Apple</td>\n",
       "      <td>24.224365</td>\n",
       "      <td>red</td>\n",
       "      <td>amongst subbromid superstructor pentacetate fu...</td>\n",
       "    </tr>\n",
       "    <tr>\n",
       "      <th>...</th>\n",
       "      <td>...</td>\n",
       "      <td>...</td>\n",
       "      <td>...</td>\n",
       "      <td>...</td>\n",
       "    </tr>\n",
       "    <tr>\n",
       "      <th>65</th>\n",
       "      <td>Apple</td>\n",
       "      <td>40.707186</td>\n",
       "      <td>red</td>\n",
       "      <td>phenakism peristeronic deair esurient Dulangan...</td>\n",
       "    </tr>\n",
       "    <tr>\n",
       "      <th>66</th>\n",
       "      <td>Apple</td>\n",
       "      <td>34.152254</td>\n",
       "      <td>blue</td>\n",
       "      <td>Vestas franker counterwind unisolate untasty C...</td>\n",
       "    </tr>\n",
       "    <tr>\n",
       "      <th>67</th>\n",
       "      <td>Orange</td>\n",
       "      <td>29.789191</td>\n",
       "      <td>red</td>\n",
       "      <td>charmlessly bud bahnung idiosome shapeshifter ...</td>\n",
       "    </tr>\n",
       "    <tr>\n",
       "      <th>68</th>\n",
       "      <td>Orange</td>\n",
       "      <td>32.252627</td>\n",
       "      <td>green</td>\n",
       "      <td>maltose previolate oxytocic cacodemonic rebrus...</td>\n",
       "    </tr>\n",
       "    <tr>\n",
       "      <th>69</th>\n",
       "      <td>Apple</td>\n",
       "      <td>33.315157</td>\n",
       "      <td>green</td>\n",
       "      <td>Dermatophagus poof predisagree noncommunicable...</td>\n",
       "    </tr>\n",
       "  </tbody>\n",
       "</table>\n",
       "<p>70 rows × 4 columns</p>\n",
       "</div>"
      ],
      "text/plain": [
       "      @type     weight  color  \\\n",
       "@id                             \n",
       "0    Orange  33.009618  green   \n",
       "1     Apple  35.173856    red   \n",
       "2     Apple  35.949917  green   \n",
       "3     Apple  45.994004  green   \n",
       "4     Apple  24.224365    red   \n",
       "..      ...        ...    ...   \n",
       "65    Apple  40.707186    red   \n",
       "66    Apple  34.152254   blue   \n",
       "67   Orange  29.789191    red   \n",
       "68   Orange  32.252627  green   \n",
       "69    Apple  33.315157  green   \n",
       "\n",
       "                                                  desc  \n",
       "@id                                                     \n",
       "0    rhombos unkinglike couchmaking coreplastic inf...  \n",
       "1    nonplastic insightful Hydrophyllaceae massebah...  \n",
       "2    Messinese unpiety moromancy waterbrain pecopte...  \n",
       "3    formulatory bestrew angelolatry micht sauriosi...  \n",
       "4    amongst subbromid superstructor pentacetate fu...  \n",
       "..                                                 ...  \n",
       "65   phenakism peristeronic deair esurient Dulangan...  \n",
       "66   Vestas franker counterwind unisolate untasty C...  \n",
       "67   charmlessly bud bahnung idiosome shapeshifter ...  \n",
       "68   maltose previolate oxytocic cacodemonic rebrus...  \n",
       "69   Dermatophagus poof predisagree noncommunicable...  \n",
       "\n",
       "[70 rows x 4 columns]"
      ]
     },
     "execution_count": 30,
     "metadata": {},
     "output_type": "execute_result"
    }
   ],
   "source": [
    "graph_frame._nodes"
   ]
  },
  {
   "cell_type": "code",
   "execution_count": 31,
   "id": "eight-update",
   "metadata": {},
   "outputs": [
    {
     "data": {
      "text/plain": [
       "{'@type': 'category', 'weight': 'numeric', 'color': 'category', 'desc': 'text'}"
      ]
     },
     "execution_count": 31,
     "metadata": {},
     "output_type": "execute_result"
    }
   ],
   "source": [
    "graph_frame._node_prop_types"
   ]
  },
  {
   "cell_type": "markdown",
   "id": "potential-holiday",
   "metadata": {},
   "source": [
    "## Add edge properties"
   ]
  },
  {
   "cell_type": "code",
   "execution_count": 32,
   "id": "systematic-intensity",
   "metadata": {},
   "outputs": [],
   "source": [
    "years = pd.DataFrame(\n",
    "    [\n",
    "        (s, t, np.random.randint(0, 20))\n",
    "        for s, t in graph_frame.edges()\n",
    "    ], \n",
    "    columns=[\"@source_id\", \"@target_id\", \"n_years\"]\n",
    ")"
   ]
  },
  {
   "cell_type": "code",
   "execution_count": 33,
   "id": "canadian-wright",
   "metadata": {},
   "outputs": [],
   "source": [
    "graph_frame.add_edge_properties(years, prop_type=\"numeric\")"
   ]
  },
  {
   "cell_type": "code",
   "execution_count": 34,
   "id": "hired-leader",
   "metadata": {},
   "outputs": [],
   "source": [
    "shapes = [\"dashed\", \"dotted\", \"solid\"]\n",
    "shapes = pd.DataFrame(\n",
    "    [\n",
    "        (s, t, np.random.choice(shapes))\n",
    "        for s, t, in graph_frame.edges()\n",
    "    ], \n",
    "    columns=[\"@source_id\", \"@target_id\", \"shapes\"]\n",
    ")"
   ]
  },
  {
   "cell_type": "code",
   "execution_count": 35,
   "id": "progressive-billy",
   "metadata": {},
   "outputs": [],
   "source": [
    "graph_frame.add_edge_properties(shapes, prop_type=\"category\")"
   ]
  },
  {
   "cell_type": "code",
   "execution_count": 36,
   "id": "familiar-prophet",
   "metadata": {},
   "outputs": [],
   "source": [
    "desc = pd.DataFrame(\n",
    "    [\n",
    "        (s, t, ' '.join(random.sample(words.words(), 20)))\n",
    "        for s, t, in graph_frame.edges()\n",
    "    ], \n",
    "    columns=[\"@source_id\", \"@target_id\", \"desc\"]\n",
    ")"
   ]
  },
  {
   "cell_type": "code",
   "execution_count": 37,
   "id": "indirect-skirt",
   "metadata": {},
   "outputs": [],
   "source": [
    "graph_frame.add_edge_properties(desc, prop_type=\"text\")"
   ]
  },
  {
   "cell_type": "code",
   "execution_count": 38,
   "id": "optional-result",
   "metadata": {},
   "outputs": [
    {
     "data": {
      "text/html": [
       "<div>\n",
       "<style scoped>\n",
       "    .dataframe tbody tr th:only-of-type {\n",
       "        vertical-align: middle;\n",
       "    }\n",
       "\n",
       "    .dataframe tbody tr th {\n",
       "        vertical-align: top;\n",
       "    }\n",
       "\n",
       "    .dataframe thead th {\n",
       "        text-align: right;\n",
       "    }\n",
       "</style>\n",
       "<table border=\"1\" class=\"dataframe\">\n",
       "  <thead>\n",
       "    <tr style=\"text-align: right;\">\n",
       "      <th></th>\n",
       "      <th></th>\n",
       "      <th>@type</th>\n",
       "      <th>n_years</th>\n",
       "      <th>shapes</th>\n",
       "      <th>desc</th>\n",
       "    </tr>\n",
       "    <tr>\n",
       "      <th>@source_id</th>\n",
       "      <th>@target_id</th>\n",
       "      <th></th>\n",
       "      <th></th>\n",
       "      <th></th>\n",
       "      <th></th>\n",
       "    </tr>\n",
       "  </thead>\n",
       "  <tbody>\n",
       "    <tr>\n",
       "      <th rowspan=\"5\" valign=\"top\">0</th>\n",
       "      <th>11</th>\n",
       "      <td>isEnemy</td>\n",
       "      <td>2</td>\n",
       "      <td>solid</td>\n",
       "      <td>Pyrenomycetineae Chroococcus awfu exchequer ob...</td>\n",
       "    </tr>\n",
       "    <tr>\n",
       "      <th>19</th>\n",
       "      <td>isFriend</td>\n",
       "      <td>13</td>\n",
       "      <td>dashed</td>\n",
       "      <td>proceed proangiosperm unfinical seediness Joub...</td>\n",
       "    </tr>\n",
       "    <tr>\n",
       "      <th>20</th>\n",
       "      <td>isFriend</td>\n",
       "      <td>18</td>\n",
       "      <td>dashed</td>\n",
       "      <td>roamage bisymmetric oesophagostomiasis microga...</td>\n",
       "    </tr>\n",
       "    <tr>\n",
       "      <th>22</th>\n",
       "      <td>isFriend</td>\n",
       "      <td>3</td>\n",
       "      <td>dashed</td>\n",
       "      <td>lepidene warree siderean slideableness unshrug...</td>\n",
       "    </tr>\n",
       "    <tr>\n",
       "      <th>27</th>\n",
       "      <td>isEnemy</td>\n",
       "      <td>14</td>\n",
       "      <td>dashed</td>\n",
       "      <td>theopathy bogart subofficial Arosaguntacook gr...</td>\n",
       "    </tr>\n",
       "    <tr>\n",
       "      <th>...</th>\n",
       "      <th>...</th>\n",
       "      <td>...</td>\n",
       "      <td>...</td>\n",
       "      <td>...</td>\n",
       "      <td>...</td>\n",
       "    </tr>\n",
       "    <tr>\n",
       "      <th>62</th>\n",
       "      <th>64</th>\n",
       "      <td>isFriend</td>\n",
       "      <td>4</td>\n",
       "      <td>solid</td>\n",
       "      <td>exodist unembarrassedly courtyard rutherfordit...</td>\n",
       "    </tr>\n",
       "    <tr>\n",
       "      <th>63</th>\n",
       "      <th>64</th>\n",
       "      <td>isFriend</td>\n",
       "      <td>19</td>\n",
       "      <td>dashed</td>\n",
       "      <td>shelterlessness Negritic ingeniously gallowsma...</td>\n",
       "    </tr>\n",
       "    <tr>\n",
       "      <th>64</th>\n",
       "      <th>65</th>\n",
       "      <td>isFriend</td>\n",
       "      <td>15</td>\n",
       "      <td>dashed</td>\n",
       "      <td>Fodientia tonsure fumeless Slavification bulge...</td>\n",
       "    </tr>\n",
       "    <tr>\n",
       "      <th>66</th>\n",
       "      <th>69</th>\n",
       "      <td>isFriend</td>\n",
       "      <td>3</td>\n",
       "      <td>dotted</td>\n",
       "      <td>beduke bleakly doloriferous basipoditic psycho...</td>\n",
       "    </tr>\n",
       "    <tr>\n",
       "      <th>68</th>\n",
       "      <th>69</th>\n",
       "      <td>isFriend</td>\n",
       "      <td>4</td>\n",
       "      <td>dotted</td>\n",
       "      <td>twilightlike unfellowly trusteeship shirtmaker...</td>\n",
       "    </tr>\n",
       "  </tbody>\n",
       "</table>\n",
       "<p>361 rows × 4 columns</p>\n",
       "</div>"
      ],
      "text/plain": [
       "                          @type  n_years  shapes  \\\n",
       "@source_id @target_id                              \n",
       "0          11           isEnemy        2   solid   \n",
       "           19          isFriend       13  dashed   \n",
       "           20          isFriend       18  dashed   \n",
       "           22          isFriend        3  dashed   \n",
       "           27           isEnemy       14  dashed   \n",
       "...                         ...      ...     ...   \n",
       "62         64          isFriend        4   solid   \n",
       "63         64          isFriend       19  dashed   \n",
       "64         65          isFriend       15  dashed   \n",
       "66         69          isFriend        3  dotted   \n",
       "68         69          isFriend        4  dotted   \n",
       "\n",
       "                                                                    desc  \n",
       "@source_id @target_id                                                     \n",
       "0          11          Pyrenomycetineae Chroococcus awfu exchequer ob...  \n",
       "           19          proceed proangiosperm unfinical seediness Joub...  \n",
       "           20          roamage bisymmetric oesophagostomiasis microga...  \n",
       "           22          lepidene warree siderean slideableness unshrug...  \n",
       "           27          theopathy bogart subofficial Arosaguntacook gr...  \n",
       "...                                                                  ...  \n",
       "62         64          exodist unembarrassedly courtyard rutherfordit...  \n",
       "63         64          shelterlessness Negritic ingeniously gallowsma...  \n",
       "64         65          Fodientia tonsure fumeless Slavification bulge...  \n",
       "66         69          beduke bleakly doloriferous basipoditic psycho...  \n",
       "68         69          twilightlike unfellowly trusteeship shirtmaker...  \n",
       "\n",
       "[361 rows x 4 columns]"
      ]
     },
     "execution_count": 38,
     "metadata": {},
     "output_type": "execute_result"
    }
   ],
   "source": [
    "graph_frame._edges"
   ]
  },
  {
   "cell_type": "code",
   "execution_count": 39,
   "id": "dominant-intent",
   "metadata": {},
   "outputs": [
    {
     "data": {
      "text/plain": [
       "{'@type': 'category',\n",
       " 'n_years': 'numeric',\n",
       " 'shapes': 'category',\n",
       " 'desc': 'text'}"
      ]
     },
     "execution_count": 39,
     "metadata": {},
     "output_type": "execute_result"
    }
   ],
   "source": [
    "graph_frame._edge_prop_types"
   ]
  },
  {
   "cell_type": "markdown",
   "id": "attended-battlefield",
   "metadata": {},
   "source": [
    "# Property encoding"
   ]
  },
  {
   "cell_type": "code",
   "execution_count": 40,
   "id": "supreme-activation",
   "metadata": {},
   "outputs": [],
   "source": [
    "hom_encoder = ScikitLearnPGEncoder(\n",
    "    heterogeneous=False,\n",
    "    encode_types=True, drop_types=True, text_encoding=\"tfidf\")"
   ]
  },
  {
   "cell_type": "code",
   "execution_count": 41,
   "id": "unable-folder",
   "metadata": {},
   "outputs": [
    {
     "data": {
      "text/plain": [
       "{'@type': 'category',\n",
       " 'n_years': 'numeric',\n",
       " 'shapes': 'category',\n",
       " 'desc': 'text'}"
      ]
     },
     "execution_count": 41,
     "metadata": {},
     "output_type": "execute_result"
    }
   ],
   "source": [
    "graph_frame._edge_prop_types"
   ]
  },
  {
   "cell_type": "code",
   "execution_count": 42,
   "id": "floral-blind",
   "metadata": {},
   "outputs": [],
   "source": [
    "transformed_frame = hom_encoder.fit_transform(graph_frame)"
   ]
  },
  {
   "cell_type": "code",
   "execution_count": 44,
   "id": "clean-geography",
   "metadata": {},
   "outputs": [
    {
     "data": {
      "text/html": [
       "<div>\n",
       "<style scoped>\n",
       "    .dataframe tbody tr th:only-of-type {\n",
       "        vertical-align: middle;\n",
       "    }\n",
       "\n",
       "    .dataframe tbody tr th {\n",
       "        vertical-align: top;\n",
       "    }\n",
       "\n",
       "    .dataframe thead th {\n",
       "        text-align: right;\n",
       "    }\n",
       "</style>\n",
       "<table border=\"1\" class=\"dataframe\">\n",
       "  <thead>\n",
       "    <tr style=\"text-align: right;\">\n",
       "      <th></th>\n",
       "      <th>features</th>\n",
       "    </tr>\n",
       "    <tr>\n",
       "      <th>@id</th>\n",
       "      <th></th>\n",
       "    </tr>\n",
       "  </thead>\n",
       "  <tbody>\n",
       "    <tr>\n",
       "      <th>0</th>\n",
       "      <td>[0.0, 0.0, 1.0, -0.4054220559072771, 0.0, 1.0,...</td>\n",
       "    </tr>\n",
       "    <tr>\n",
       "      <th>1</th>\n",
       "      <td>[1.0, 0.0, 0.0, 0.03533446823235889, 0.0, 0.0,...</td>\n",
       "    </tr>\n",
       "    <tr>\n",
       "      <th>2</th>\n",
       "      <td>[1.0, 0.0, 0.0, 0.1933825673112407, 0.0, 1.0, ...</td>\n",
       "    </tr>\n",
       "    <tr>\n",
       "      <th>3</th>\n",
       "      <td>[1.0, 0.0, 0.0, 2.2389049730847126, 0.0, 1.0, ...</td>\n",
       "    </tr>\n",
       "    <tr>\n",
       "      <th>4</th>\n",
       "      <td>[1.0, 0.0, 0.0, -2.194577363879286, 0.0, 0.0, ...</td>\n",
       "    </tr>\n",
       "    <tr>\n",
       "      <th>...</th>\n",
       "      <td>...</td>\n",
       "    </tr>\n",
       "    <tr>\n",
       "      <th>65</th>\n",
       "      <td>[1.0, 0.0, 0.0, 1.162221364563694, 0.0, 0.0, 1...</td>\n",
       "    </tr>\n",
       "    <tr>\n",
       "      <th>66</th>\n",
       "      <td>[1.0, 0.0, 0.0, -0.17271921450297287, 1.0, 0.0...</td>\n",
       "    </tr>\n",
       "    <tr>\n",
       "      <th>67</th>\n",
       "      <td>[0.0, 0.0, 1.0, -1.0612762004891056, 0.0, 0.0,...</td>\n",
       "    </tr>\n",
       "    <tr>\n",
       "      <th>68</th>\n",
       "      <td>[0.0, 0.0, 1.0, -0.5595866152961186, 0.0, 1.0,...</td>\n",
       "    </tr>\n",
       "    <tr>\n",
       "      <th>69</th>\n",
       "      <td>[1.0, 0.0, 0.0, -0.3431978438559687, 0.0, 1.0,...</td>\n",
       "    </tr>\n",
       "  </tbody>\n",
       "</table>\n",
       "<p>70 rows × 1 columns</p>\n",
       "</div>"
      ],
      "text/plain": [
       "                                              features\n",
       "@id                                                   \n",
       "0    [0.0, 0.0, 1.0, -0.4054220559072771, 0.0, 1.0,...\n",
       "1    [1.0, 0.0, 0.0, 0.03533446823235889, 0.0, 0.0,...\n",
       "2    [1.0, 0.0, 0.0, 0.1933825673112407, 0.0, 1.0, ...\n",
       "3    [1.0, 0.0, 0.0, 2.2389049730847126, 0.0, 1.0, ...\n",
       "4    [1.0, 0.0, 0.0, -2.194577363879286, 0.0, 0.0, ...\n",
       "..                                                 ...\n",
       "65   [1.0, 0.0, 0.0, 1.162221364563694, 0.0, 0.0, 1...\n",
       "66   [1.0, 0.0, 0.0, -0.17271921450297287, 1.0, 0.0...\n",
       "67   [0.0, 0.0, 1.0, -1.0612762004891056, 0.0, 0.0,...\n",
       "68   [0.0, 0.0, 1.0, -0.5595866152961186, 0.0, 1.0,...\n",
       "69   [1.0, 0.0, 0.0, -0.3431978438559687, 0.0, 1.0,...\n",
       "\n",
       "[70 rows x 1 columns]"
      ]
     },
     "execution_count": 44,
     "metadata": {},
     "output_type": "execute_result"
    }
   ],
   "source": [
    "transformed_frame._nodes"
   ]
  },
  {
   "cell_type": "code",
   "execution_count": 45,
   "id": "legal-astronomy",
   "metadata": {},
   "outputs": [
    {
     "data": {
      "text/plain": [
       "{'@type': MultiLabelBinarizer(),\n",
       " 'weight': StandardScaler(),\n",
       " 'color': MultiLabelBinarizer(),\n",
       " 'desc': TfidfVectorizer(max_features=64, stop_words='english', sublinear_tf=True)}"
      ]
     },
     "execution_count": 45,
     "metadata": {},
     "output_type": "execute_result"
    }
   ],
   "source": [
    "hom_encoder._node_encoders"
   ]
  },
  {
   "cell_type": "code",
   "execution_count": 36,
   "id": "agreed-instruction",
   "metadata": {},
   "outputs": [
    {
     "data": {
      "text/plain": [
       "{'@type': MultiLabelBinarizer(),\n",
       " 'n_years': StandardScaler(),\n",
       " 'shapes': MultiLabelBinarizer(),\n",
       " 'desc': TfidfVectorizer(max_features=64, stop_words='english', sublinear_tf=True)}"
      ]
     },
     "execution_count": 36,
     "metadata": {},
     "output_type": "execute_result"
    }
   ],
   "source": [
    "hom_encoder._edge_encoders"
   ]
  },
  {
   "cell_type": "code",
   "execution_count": 37,
   "id": "neither-missile",
   "metadata": {},
   "outputs": [
    {
     "data": {
      "text/html": [
       "<div>\n",
       "<style scoped>\n",
       "    .dataframe tbody tr th:only-of-type {\n",
       "        vertical-align: middle;\n",
       "    }\n",
       "\n",
       "    .dataframe tbody tr th {\n",
       "        vertical-align: top;\n",
       "    }\n",
       "\n",
       "    .dataframe thead th {\n",
       "        text-align: right;\n",
       "    }\n",
       "</style>\n",
       "<table border=\"1\" class=\"dataframe\">\n",
       "  <thead>\n",
       "    <tr style=\"text-align: right;\">\n",
       "      <th></th>\n",
       "      <th>features</th>\n",
       "    </tr>\n",
       "    <tr>\n",
       "      <th>@id</th>\n",
       "      <th></th>\n",
       "    </tr>\n",
       "  </thead>\n",
       "  <tbody>\n",
       "    <tr>\n",
       "      <th>0</th>\n",
       "      <td>[1.0, 0.0, 0.0, -1.140728778341095, 1.0, 0.0, ...</td>\n",
       "    </tr>\n",
       "    <tr>\n",
       "      <th>1</th>\n",
       "      <td>[1.0, 0.0, 0.0, -0.72790544229623, 0.0, 0.0, 1...</td>\n",
       "    </tr>\n",
       "    <tr>\n",
       "      <th>2</th>\n",
       "      <td>[0.0, 0.0, 1.0, -0.118436847924602, 0.0, 0.0, ...</td>\n",
       "    </tr>\n",
       "    <tr>\n",
       "      <th>3</th>\n",
       "      <td>[0.0, 0.0, 1.0, 1.0084074828161862, 0.0, 0.0, ...</td>\n",
       "    </tr>\n",
       "    <tr>\n",
       "      <th>4</th>\n",
       "      <td>[1.0, 0.0, 0.0, 0.34550704907778085, 0.0, 1.0,...</td>\n",
       "    </tr>\n",
       "    <tr>\n",
       "      <th>...</th>\n",
       "      <td>...</td>\n",
       "    </tr>\n",
       "    <tr>\n",
       "      <th>65</th>\n",
       "      <td>[0.0, 0.0, 1.0, 1.1600737519075413, 1.0, 0.0, ...</td>\n",
       "    </tr>\n",
       "    <tr>\n",
       "      <th>66</th>\n",
       "      <td>[0.0, 0.0, 1.0, -0.11434403548223476, 0.0, 0.0...</td>\n",
       "    </tr>\n",
       "    <tr>\n",
       "      <th>67</th>\n",
       "      <td>[0.0, 0.0, 1.0, -1.5864541768629998, 0.0, 1.0,...</td>\n",
       "    </tr>\n",
       "    <tr>\n",
       "      <th>68</th>\n",
       "      <td>[0.0, 0.0, 1.0, 0.5106035495345334, 0.0, 1.0, ...</td>\n",
       "    </tr>\n",
       "    <tr>\n",
       "      <th>69</th>\n",
       "      <td>[0.0, 0.0, 1.0, 0.02991150678440354, 0.0, 0.0,...</td>\n",
       "    </tr>\n",
       "  </tbody>\n",
       "</table>\n",
       "<p>70 rows × 1 columns</p>\n",
       "</div>"
      ],
      "text/plain": [
       "                                              features\n",
       "@id                                                   \n",
       "0    [1.0, 0.0, 0.0, -1.140728778341095, 1.0, 0.0, ...\n",
       "1    [1.0, 0.0, 0.0, -0.72790544229623, 0.0, 0.0, 1...\n",
       "2    [0.0, 0.0, 1.0, -0.118436847924602, 0.0, 0.0, ...\n",
       "3    [0.0, 0.0, 1.0, 1.0084074828161862, 0.0, 0.0, ...\n",
       "4    [1.0, 0.0, 0.0, 0.34550704907778085, 0.0, 1.0,...\n",
       "..                                                 ...\n",
       "65   [0.0, 0.0, 1.0, 1.1600737519075413, 1.0, 0.0, ...\n",
       "66   [0.0, 0.0, 1.0, -0.11434403548223476, 0.0, 0.0...\n",
       "67   [0.0, 0.0, 1.0, -1.5864541768629998, 0.0, 1.0,...\n",
       "68   [0.0, 0.0, 1.0, 0.5106035495345334, 0.0, 1.0, ...\n",
       "69   [0.0, 0.0, 1.0, 0.02991150678440354, 0.0, 0.0,...\n",
       "\n",
       "[70 rows x 1 columns]"
      ]
     },
     "execution_count": 37,
     "metadata": {},
     "output_type": "execute_result"
    }
   ],
   "source": [
    "transformed_frame._nodes"
   ]
  },
  {
   "cell_type": "code",
   "execution_count": 38,
   "id": "marine-siemens",
   "metadata": {
    "scrolled": true
   },
   "outputs": [
    {
     "data": {
      "text/html": [
       "<div>\n",
       "<style scoped>\n",
       "    .dataframe tbody tr th:only-of-type {\n",
       "        vertical-align: middle;\n",
       "    }\n",
       "\n",
       "    .dataframe tbody tr th {\n",
       "        vertical-align: top;\n",
       "    }\n",
       "\n",
       "    .dataframe thead th {\n",
       "        text-align: right;\n",
       "    }\n",
       "</style>\n",
       "<table border=\"1\" class=\"dataframe\">\n",
       "  <thead>\n",
       "    <tr style=\"text-align: right;\">\n",
       "      <th></th>\n",
       "      <th></th>\n",
       "      <th>features</th>\n",
       "    </tr>\n",
       "    <tr>\n",
       "      <th>@source_id</th>\n",
       "      <th>@target_id</th>\n",
       "      <th></th>\n",
       "    </tr>\n",
       "  </thead>\n",
       "  <tbody>\n",
       "    <tr>\n",
       "      <th rowspan=\"5\" valign=\"top\">0</th>\n",
       "      <th>7</th>\n",
       "      <td>[0.0, 1.0, 0.7458675902680008, 0.0, 0.0, 1.0, ...</td>\n",
       "    </tr>\n",
       "    <tr>\n",
       "      <th>19</th>\n",
       "      <td>[0.0, 1.0, 0.20787356667396992, 1.0, 0.0, 0.0,...</td>\n",
       "    </tr>\n",
       "    <tr>\n",
       "      <th>27</th>\n",
       "      <td>[0.0, 1.0, 1.642524296258052, 0.0, 1.0, 0.0, 0...</td>\n",
       "    </tr>\n",
       "    <tr>\n",
       "      <th>34</th>\n",
       "      <td>[0.0, 1.0, -0.6887831393160815, 0.0, 1.0, 0.0,...</td>\n",
       "    </tr>\n",
       "    <tr>\n",
       "      <th>38</th>\n",
       "      <td>[0.0, 1.0, 0.028542225475959648, 0.0, 1.0, 0.0...</td>\n",
       "    </tr>\n",
       "    <tr>\n",
       "      <th>...</th>\n",
       "      <th>...</th>\n",
       "      <td>...</td>\n",
       "    </tr>\n",
       "    <tr>\n",
       "      <th rowspan=\"2\" valign=\"top\">65</th>\n",
       "      <th>66</th>\n",
       "      <td>[0.0, 1.0, -1.5854398453061327, 0.0, 1.0, 0.0,...</td>\n",
       "    </tr>\n",
       "    <tr>\n",
       "      <th>67</th>\n",
       "      <td>[0.0, 1.0, -1.764771186504143, 0.0, 1.0, 0.0, ...</td>\n",
       "    </tr>\n",
       "    <tr>\n",
       "      <th rowspan=\"2\" valign=\"top\">66</th>\n",
       "      <th>67</th>\n",
       "      <td>[0.0, 1.0, 0.5665362490699904, 0.0, 1.0, 0.0, ...</td>\n",
       "    </tr>\n",
       "    <tr>\n",
       "      <th>69</th>\n",
       "      <td>[0.0, 1.0, -0.5094517981180712, 0.0, 1.0, 0.0,...</td>\n",
       "    </tr>\n",
       "    <tr>\n",
       "      <th>67</th>\n",
       "      <th>69</th>\n",
       "      <td>[1.0, 0.0, 0.5665362490699904, 0.0, 1.0, 0.0, ...</td>\n",
       "    </tr>\n",
       "  </tbody>\n",
       "</table>\n",
       "<p>333 rows × 1 columns</p>\n",
       "</div>"
      ],
      "text/plain": [
       "                                                                features\n",
       "@source_id @target_id                                                   \n",
       "0          7           [0.0, 1.0, 0.7458675902680008, 0.0, 0.0, 1.0, ...\n",
       "           19          [0.0, 1.0, 0.20787356667396992, 1.0, 0.0, 0.0,...\n",
       "           27          [0.0, 1.0, 1.642524296258052, 0.0, 1.0, 0.0, 0...\n",
       "           34          [0.0, 1.0, -0.6887831393160815, 0.0, 1.0, 0.0,...\n",
       "           38          [0.0, 1.0, 0.028542225475959648, 0.0, 1.0, 0.0...\n",
       "...                                                                  ...\n",
       "65         66          [0.0, 1.0, -1.5854398453061327, 0.0, 1.0, 0.0,...\n",
       "           67          [0.0, 1.0, -1.764771186504143, 0.0, 1.0, 0.0, ...\n",
       "66         67          [0.0, 1.0, 0.5665362490699904, 0.0, 1.0, 0.0, ...\n",
       "           69          [0.0, 1.0, -0.5094517981180712, 0.0, 1.0, 0.0,...\n",
       "67         69          [1.0, 0.0, 0.5665362490699904, 0.0, 1.0, 0.0, ...\n",
       "\n",
       "[333 rows x 1 columns]"
      ]
     },
     "execution_count": 38,
     "metadata": {},
     "output_type": "execute_result"
    }
   ],
   "source": [
    "transformed_frame._edges"
   ]
  },
  {
   "cell_type": "code",
   "execution_count": 39,
   "id": "positive-chassis",
   "metadata": {},
   "outputs": [
    {
     "data": {
      "text/plain": [
       "(71,)"
      ]
     },
     "execution_count": 39,
     "metadata": {},
     "output_type": "execute_result"
    }
   ],
   "source": [
    "transformed_frame._nodes[\"features\"].to_list()[0].shape"
   ]
  },
  {
   "cell_type": "code",
   "execution_count": 40,
   "id": "proud-suicide",
   "metadata": {},
   "outputs": [
    {
     "data": {
      "text/plain": [
       "(70,)"
      ]
     },
     "execution_count": 40,
     "metadata": {},
     "output_type": "execute_result"
    }
   ],
   "source": [
    "transformed_frame._edges[\"features\"].to_list()[0].shape"
   ]
  },
  {
   "cell_type": "code",
   "execution_count": 41,
   "id": "honey-commitment",
   "metadata": {},
   "outputs": [],
   "source": [
    "hetero_encoder = ScikitLearnPGEncoder(\n",
    "    heterogeneous=True, text_encoding=\"tfidf\")"
   ]
  },
  {
   "cell_type": "code",
   "execution_count": 42,
   "id": "english-crowd",
   "metadata": {},
   "outputs": [],
   "source": [
    "hetero_encoder.fit(graph_frame)"
   ]
  },
  {
   "cell_type": "code",
   "execution_count": 44,
   "id": "operational-electron",
   "metadata": {},
   "outputs": [],
   "source": [
    "transformed_frame = hetero_encoder.transform(graph_frame)"
   ]
  },
  {
   "cell_type": "code",
   "execution_count": 46,
   "id": "ruled-party",
   "metadata": {},
   "outputs": [
    {
     "data": {
      "text/html": [
       "<div>\n",
       "<style scoped>\n",
       "    .dataframe tbody tr th:only-of-type {\n",
       "        vertical-align: middle;\n",
       "    }\n",
       "\n",
       "    .dataframe tbody tr th {\n",
       "        vertical-align: top;\n",
       "    }\n",
       "\n",
       "    .dataframe thead th {\n",
       "        text-align: right;\n",
       "    }\n",
       "</style>\n",
       "<table border=\"1\" class=\"dataframe\">\n",
       "  <thead>\n",
       "    <tr style=\"text-align: right;\">\n",
       "      <th></th>\n",
       "      <th>features</th>\n",
       "    </tr>\n",
       "    <tr>\n",
       "      <th>@id</th>\n",
       "      <th></th>\n",
       "    </tr>\n",
       "  </thead>\n",
       "  <tbody>\n",
       "    <tr>\n",
       "      <th>0</th>\n",
       "      <td>[0.0, 0.0, 1.0, -0.4054220559072771, 0.0, 1.0,...</td>\n",
       "    </tr>\n",
       "    <tr>\n",
       "      <th>1</th>\n",
       "      <td>[1.0, 0.0, 0.0, 0.03533446823235889, 0.0, 0.0,...</td>\n",
       "    </tr>\n",
       "    <tr>\n",
       "      <th>2</th>\n",
       "      <td>[1.0, 0.0, 0.0, 0.1933825673112407, 0.0, 1.0, ...</td>\n",
       "    </tr>\n",
       "    <tr>\n",
       "      <th>3</th>\n",
       "      <td>[1.0, 0.0, 0.0, 2.2389049730847126, 0.0, 1.0, ...</td>\n",
       "    </tr>\n",
       "    <tr>\n",
       "      <th>4</th>\n",
       "      <td>[1.0, 0.0, 0.0, -2.194577363879286, 0.0, 0.0, ...</td>\n",
       "    </tr>\n",
       "    <tr>\n",
       "      <th>...</th>\n",
       "      <td>...</td>\n",
       "    </tr>\n",
       "    <tr>\n",
       "      <th>65</th>\n",
       "      <td>[1.0, 0.0, 0.0, 1.162221364563694, 0.0, 0.0, 1...</td>\n",
       "    </tr>\n",
       "    <tr>\n",
       "      <th>66</th>\n",
       "      <td>[1.0, 0.0, 0.0, -0.17271921450297287, 1.0, 0.0...</td>\n",
       "    </tr>\n",
       "    <tr>\n",
       "      <th>67</th>\n",
       "      <td>[0.0, 0.0, 1.0, -1.0612762004891056, 0.0, 0.0,...</td>\n",
       "    </tr>\n",
       "    <tr>\n",
       "      <th>68</th>\n",
       "      <td>[0.0, 0.0, 1.0, -0.5595866152961186, 0.0, 1.0,...</td>\n",
       "    </tr>\n",
       "    <tr>\n",
       "      <th>69</th>\n",
       "      <td>[1.0, 0.0, 0.0, -0.3431978438559687, 0.0, 1.0,...</td>\n",
       "    </tr>\n",
       "  </tbody>\n",
       "</table>\n",
       "<p>70 rows × 1 columns</p>\n",
       "</div>"
      ],
      "text/plain": [
       "                                              features\n",
       "@id                                                   \n",
       "0    [0.0, 0.0, 1.0, -0.4054220559072771, 0.0, 1.0,...\n",
       "1    [1.0, 0.0, 0.0, 0.03533446823235889, 0.0, 0.0,...\n",
       "2    [1.0, 0.0, 0.0, 0.1933825673112407, 0.0, 1.0, ...\n",
       "3    [1.0, 0.0, 0.0, 2.2389049730847126, 0.0, 1.0, ...\n",
       "4    [1.0, 0.0, 0.0, -2.194577363879286, 0.0, 0.0, ...\n",
       "..                                                 ...\n",
       "65   [1.0, 0.0, 0.0, 1.162221364563694, 0.0, 0.0, 1...\n",
       "66   [1.0, 0.0, 0.0, -0.17271921450297287, 1.0, 0.0...\n",
       "67   [0.0, 0.0, 1.0, -1.0612762004891056, 0.0, 0.0,...\n",
       "68   [0.0, 0.0, 1.0, -0.5595866152961186, 0.0, 1.0,...\n",
       "69   [1.0, 0.0, 0.0, -0.3431978438559687, 0.0, 1.0,...\n",
       "\n",
       "[70 rows x 1 columns]"
      ]
     },
     "execution_count": 46,
     "metadata": {},
     "output_type": "execute_result"
    }
   ],
   "source": [
    "transformed_frame._nodes"
   ]
  },
  {
   "cell_type": "code",
   "execution_count": 46,
   "id": "valued-webmaster",
   "metadata": {},
   "outputs": [
    {
     "data": {
      "text/html": [
       "<div>\n",
       "<style scoped>\n",
       "    .dataframe tbody tr th:only-of-type {\n",
       "        vertical-align: middle;\n",
       "    }\n",
       "\n",
       "    .dataframe tbody tr th {\n",
       "        vertical-align: top;\n",
       "    }\n",
       "\n",
       "    .dataframe thead th {\n",
       "        text-align: right;\n",
       "    }\n",
       "</style>\n",
       "<table border=\"1\" class=\"dataframe\">\n",
       "  <thead>\n",
       "    <tr style=\"text-align: right;\">\n",
       "      <th></th>\n",
       "      <th></th>\n",
       "      <th>features</th>\n",
       "      <th>@type</th>\n",
       "    </tr>\n",
       "    <tr>\n",
       "      <th>@source_id</th>\n",
       "      <th>@target_id</th>\n",
       "      <th></th>\n",
       "      <th></th>\n",
       "    </tr>\n",
       "  </thead>\n",
       "  <tbody>\n",
       "    <tr>\n",
       "      <th rowspan=\"5\" valign=\"top\">0</th>\n",
       "      <th>7</th>\n",
       "      <td>[0.7360007733457389, 0.0, 0.0, 1.0, 0.0, 0.0, ...</td>\n",
       "      <td>isFriend</td>\n",
       "    </tr>\n",
       "    <tr>\n",
       "      <th>19</th>\n",
       "      <td>[0.19716717964858332, 1.0, 0.0, 0.0, 0.0, 0.0,...</td>\n",
       "      <td>isFriend</td>\n",
       "    </tr>\n",
       "    <tr>\n",
       "      <th>27</th>\n",
       "      <td>[1.634056762840998, 0.0, 1.0, 0.0, 0.0, 0.0, 0...</td>\n",
       "      <td>isFriend</td>\n",
       "    </tr>\n",
       "    <tr>\n",
       "      <th>34</th>\n",
       "      <td>[-0.7008888098466759, 0.0, 1.0, 0.0, 0.0, 0.0,...</td>\n",
       "      <td>isFriend</td>\n",
       "    </tr>\n",
       "    <tr>\n",
       "      <th>38</th>\n",
       "      <td>[0.017555981749531473, 0.0, 1.0, 0.0, 0.0, 0.0...</td>\n",
       "      <td>isFriend</td>\n",
       "    </tr>\n",
       "    <tr>\n",
       "      <th>...</th>\n",
       "      <th>...</th>\n",
       "      <td>...</td>\n",
       "      <td>...</td>\n",
       "    </tr>\n",
       "    <tr>\n",
       "      <th rowspan=\"2\" valign=\"top\">65</th>\n",
       "      <th>66</th>\n",
       "      <td>[-1.5989447993419352, 0.0, 1.0, 0.0, 0.0, 0.0,...</td>\n",
       "      <td>isFriend</td>\n",
       "    </tr>\n",
       "    <tr>\n",
       "      <th>67</th>\n",
       "      <td>[-1.778555997240987, 0.0, 1.0, 0.0, 0.0, 0.0, ...</td>\n",
       "      <td>isFriend</td>\n",
       "    </tr>\n",
       "    <tr>\n",
       "      <th rowspan=\"2\" valign=\"top\">66</th>\n",
       "      <th>67</th>\n",
       "      <td>[0.556389575446687, 0.0, 1.0, 0.0, 0.0, 0.0, 0...</td>\n",
       "      <td>isFriend</td>\n",
       "    </tr>\n",
       "    <tr>\n",
       "      <th>69</th>\n",
       "      <td>[-0.5212776119476241, 0.0, 1.0, 0.0, 0.0, 0.0,...</td>\n",
       "      <td>isFriend</td>\n",
       "    </tr>\n",
       "    <tr>\n",
       "      <th>67</th>\n",
       "      <th>69</th>\n",
       "      <td>[0.6072426334955634, 0.0, 1.0, 0.0, 0.0, 0.0, ...</td>\n",
       "      <td>isEnemy</td>\n",
       "    </tr>\n",
       "  </tbody>\n",
       "</table>\n",
       "<p>333 rows × 2 columns</p>\n",
       "</div>"
      ],
      "text/plain": [
       "                                                                features  \\\n",
       "@source_id @target_id                                                      \n",
       "0          7           [0.7360007733457389, 0.0, 0.0, 1.0, 0.0, 0.0, ...   \n",
       "           19          [0.19716717964858332, 1.0, 0.0, 0.0, 0.0, 0.0,...   \n",
       "           27          [1.634056762840998, 0.0, 1.0, 0.0, 0.0, 0.0, 0...   \n",
       "           34          [-0.7008888098466759, 0.0, 1.0, 0.0, 0.0, 0.0,...   \n",
       "           38          [0.017555981749531473, 0.0, 1.0, 0.0, 0.0, 0.0...   \n",
       "...                                                                  ...   \n",
       "65         66          [-1.5989447993419352, 0.0, 1.0, 0.0, 0.0, 0.0,...   \n",
       "           67          [-1.778555997240987, 0.0, 1.0, 0.0, 0.0, 0.0, ...   \n",
       "66         67          [0.556389575446687, 0.0, 1.0, 0.0, 0.0, 0.0, 0...   \n",
       "           69          [-0.5212776119476241, 0.0, 1.0, 0.0, 0.0, 0.0,...   \n",
       "67         69          [0.6072426334955634, 0.0, 1.0, 0.0, 0.0, 0.0, ...   \n",
       "\n",
       "                          @type  \n",
       "@source_id @target_id            \n",
       "0          7           isFriend  \n",
       "           19          isFriend  \n",
       "           27          isFriend  \n",
       "           34          isFriend  \n",
       "           38          isFriend  \n",
       "...                         ...  \n",
       "65         66          isFriend  \n",
       "           67          isFriend  \n",
       "66         67          isFriend  \n",
       "           69          isFriend  \n",
       "67         69           isEnemy  \n",
       "\n",
       "[333 rows x 2 columns]"
      ]
     },
     "execution_count": 46,
     "metadata": {},
     "output_type": "execute_result"
    }
   ],
   "source": [
    "transformed_frame._edges"
   ]
  }
 ],
 "metadata": {
  "kernelspec": {
   "display_name": "bluegraph",
   "language": "python",
   "name": "bluegraph"
  },
  "language_info": {
   "codemirror_mode": {
    "name": "ipython",
    "version": 3
   },
   "file_extension": ".py",
   "mimetype": "text/x-python",
   "name": "python",
   "nbconvert_exporter": "python",
   "pygments_lexer": "ipython3",
   "version": "3.6.12"
  }
 },
 "nbformat": 4,
 "nbformat_minor": 5
}
