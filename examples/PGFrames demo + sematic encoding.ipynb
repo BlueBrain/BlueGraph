{
 "cells": [
  {
   "cell_type": "code",
   "execution_count": 4,
   "metadata": {},
   "outputs": [],
   "source": [
    "import random\n",
    "\n",
    "import numpy as np\n",
    "import pandas as pd\n",
    "\n",
    "from nltk.corpus import words"
   ]
  },
  {
   "cell_type": "code",
   "execution_count": 5,
   "metadata": {},
   "outputs": [],
   "source": [
    "# import nltk\n",
    "\n",
    "# nltk.download('words')"
   ]
  },
  {
   "cell_type": "code",
   "execution_count": 6,
   "metadata": {},
   "outputs": [],
   "source": [
    "from bluegraph import PandasPGFrame\n",
    "from bluegraph.preprocess import ScikitLearnPGEncoder"
   ]
  },
  {
   "cell_type": "code",
   "execution_count": 7,
   "metadata": {},
   "outputs": [],
   "source": [
    "def generate_targets(nodes, s, density=0.2):\n",
    "    edges = []\n",
    "    for t in nodes:\n",
    "        if s < t:\n",
    "            edge = np.random.choice([0, 1], p=[1 - density, density])\n",
    "            if edge:\n",
    "                \n",
    "                edges.append([s, t])\n",
    "    return edges\n",
    "\n",
    "\n",
    "def random_pgframe(n_nodes, density):\n",
    "    nodes = list(range(n_nodes))\n",
    "\n",
    "    edges = sum(\n",
    "        map(lambda x: generate_targets(nodes, x, density), nodes), [])\n",
    "    edges = pd.DataFrame(\n",
    "        edges, columns=[\"@source_id\", \"@target_id\"])\n",
    "    edges_df = edges.set_index([\"@source_id\", \"@target_id\"])\n",
    "    print(edges_df.index)\n",
    "    frame = PandasPGFrame(nodes=nodes, edges=edges_df.index)\n",
    "    return frame"
   ]
  },
  {
   "cell_type": "code",
   "execution_count": 8,
   "metadata": {},
   "outputs": [],
   "source": [
    "N = 70\n",
    "density = 0.13"
   ]
  },
  {
   "cell_type": "markdown",
   "metadata": {},
   "source": [
    "# Generate a random graph"
   ]
  },
  {
   "cell_type": "code",
   "execution_count": 9,
   "metadata": {},
   "outputs": [
    {
     "name": "stdout",
     "output_type": "stream",
     "text": [
      "MultiIndex([( 0,  2),\n",
      "            ( 0,  4),\n",
      "            ( 0,  8),\n",
      "            ( 0, 18),\n",
      "            ( 0, 23),\n",
      "            ( 0, 30),\n",
      "            ( 0, 32),\n",
      "            ( 0, 37),\n",
      "            ( 0, 57),\n",
      "            ( 0, 58),\n",
      "            ...\n",
      "            (59, 60),\n",
      "            (59, 62),\n",
      "            (60, 66),\n",
      "            (61, 64),\n",
      "            (61, 68),\n",
      "            (62, 69),\n",
      "            (63, 64),\n",
      "            (63, 68),\n",
      "            (65, 67),\n",
      "            (67, 68)],\n",
      "           names=['@source_id', '@target_id'], length=316)\n"
     ]
    }
   ],
   "source": [
    "graph_frame = random_pgframe(N, density)"
   ]
  },
  {
   "cell_type": "markdown",
   "metadata": {},
   "source": [
    "# Add node and edge types"
   ]
  },
  {
   "cell_type": "code",
   "execution_count": 7,
   "metadata": {},
   "outputs": [],
   "source": [
    "types = [\"Apple\", \"Orange\", \"Carrot\"]"
   ]
  },
  {
   "cell_type": "code",
   "execution_count": 8,
   "metadata": {},
   "outputs": [],
   "source": [
    "node_types = {\n",
    "    n: np.random.choice(types, p=[0.5, 0.4, 0.1])\n",
    "    for n in range(N)\n",
    "}"
   ]
  },
  {
   "cell_type": "code",
   "execution_count": 9,
   "metadata": {},
   "outputs": [],
   "source": [
    "graph_frame.add_node_types(node_types)"
   ]
  },
  {
   "cell_type": "code",
   "execution_count": 10,
   "metadata": {},
   "outputs": [
    {
     "data": {
      "text/html": [
       "<div>\n",
       "<style scoped>\n",
       "    .dataframe tbody tr th:only-of-type {\n",
       "        vertical-align: middle;\n",
       "    }\n",
       "\n",
       "    .dataframe tbody tr th {\n",
       "        vertical-align: top;\n",
       "    }\n",
       "\n",
       "    .dataframe thead th {\n",
       "        text-align: right;\n",
       "    }\n",
       "</style>\n",
       "<table border=\"1\" class=\"dataframe\">\n",
       "  <thead>\n",
       "    <tr style=\"text-align: right;\">\n",
       "      <th></th>\n",
       "      <th>@type</th>\n",
       "    </tr>\n",
       "    <tr>\n",
       "      <th>@id</th>\n",
       "      <th></th>\n",
       "    </tr>\n",
       "  </thead>\n",
       "  <tbody>\n",
       "    <tr>\n",
       "      <th>0</th>\n",
       "      <td>Apple</td>\n",
       "    </tr>\n",
       "    <tr>\n",
       "      <th>1</th>\n",
       "      <td>Apple</td>\n",
       "    </tr>\n",
       "    <tr>\n",
       "      <th>2</th>\n",
       "      <td>Orange</td>\n",
       "    </tr>\n",
       "    <tr>\n",
       "      <th>3</th>\n",
       "      <td>Orange</td>\n",
       "    </tr>\n",
       "    <tr>\n",
       "      <th>4</th>\n",
       "      <td>Apple</td>\n",
       "    </tr>\n",
       "    <tr>\n",
       "      <th>...</th>\n",
       "      <td>...</td>\n",
       "    </tr>\n",
       "    <tr>\n",
       "      <th>65</th>\n",
       "      <td>Orange</td>\n",
       "    </tr>\n",
       "    <tr>\n",
       "      <th>66</th>\n",
       "      <td>Orange</td>\n",
       "    </tr>\n",
       "    <tr>\n",
       "      <th>67</th>\n",
       "      <td>Orange</td>\n",
       "    </tr>\n",
       "    <tr>\n",
       "      <th>68</th>\n",
       "      <td>Orange</td>\n",
       "    </tr>\n",
       "    <tr>\n",
       "      <th>69</th>\n",
       "      <td>Orange</td>\n",
       "    </tr>\n",
       "  </tbody>\n",
       "</table>\n",
       "<p>70 rows × 1 columns</p>\n",
       "</div>"
      ],
      "text/plain": [
       "      @type\n",
       "@id        \n",
       "0     Apple\n",
       "1     Apple\n",
       "2    Orange\n",
       "3    Orange\n",
       "4     Apple\n",
       "..      ...\n",
       "65   Orange\n",
       "66   Orange\n",
       "67   Orange\n",
       "68   Orange\n",
       "69   Orange\n",
       "\n",
       "[70 rows x 1 columns]"
      ]
     },
     "execution_count": 10,
     "metadata": {},
     "output_type": "execute_result"
    }
   ],
   "source": [
    "graph_frame._nodes"
   ]
  },
  {
   "cell_type": "code",
   "execution_count": 11,
   "metadata": {},
   "outputs": [],
   "source": [
    "types = [\"isFriend\", \"isEnemy\"]"
   ]
  },
  {
   "cell_type": "code",
   "execution_count": 12,
   "metadata": {},
   "outputs": [],
   "source": [
    "edge_types = {\n",
    "    e: np.random.choice(types, p=[0.8, 0.2])\n",
    "    for e in graph_frame.edges()\n",
    "}"
   ]
  },
  {
   "cell_type": "code",
   "execution_count": 13,
   "metadata": {},
   "outputs": [],
   "source": [
    "graph_frame.add_edge_types(edge_types)"
   ]
  },
  {
   "cell_type": "code",
   "execution_count": 14,
   "metadata": {},
   "outputs": [
    {
     "data": {
      "text/html": [
       "<div>\n",
       "<style scoped>\n",
       "    .dataframe tbody tr th:only-of-type {\n",
       "        vertical-align: middle;\n",
       "    }\n",
       "\n",
       "    .dataframe tbody tr th {\n",
       "        vertical-align: top;\n",
       "    }\n",
       "\n",
       "    .dataframe thead th {\n",
       "        text-align: right;\n",
       "    }\n",
       "</style>\n",
       "<table border=\"1\" class=\"dataframe\">\n",
       "  <thead>\n",
       "    <tr style=\"text-align: right;\">\n",
       "      <th></th>\n",
       "      <th></th>\n",
       "      <th>@type</th>\n",
       "    </tr>\n",
       "    <tr>\n",
       "      <th>@source_id</th>\n",
       "      <th>@target_id</th>\n",
       "      <th></th>\n",
       "    </tr>\n",
       "  </thead>\n",
       "  <tbody>\n",
       "    <tr>\n",
       "      <th rowspan=\"5\" valign=\"top\">0</th>\n",
       "      <th>7</th>\n",
       "      <td>isFriend</td>\n",
       "    </tr>\n",
       "    <tr>\n",
       "      <th>19</th>\n",
       "      <td>isFriend</td>\n",
       "    </tr>\n",
       "    <tr>\n",
       "      <th>27</th>\n",
       "      <td>isFriend</td>\n",
       "    </tr>\n",
       "    <tr>\n",
       "      <th>34</th>\n",
       "      <td>isFriend</td>\n",
       "    </tr>\n",
       "    <tr>\n",
       "      <th>38</th>\n",
       "      <td>isFriend</td>\n",
       "    </tr>\n",
       "    <tr>\n",
       "      <th>...</th>\n",
       "      <th>...</th>\n",
       "      <td>...</td>\n",
       "    </tr>\n",
       "    <tr>\n",
       "      <th rowspan=\"2\" valign=\"top\">65</th>\n",
       "      <th>66</th>\n",
       "      <td>isFriend</td>\n",
       "    </tr>\n",
       "    <tr>\n",
       "      <th>67</th>\n",
       "      <td>isFriend</td>\n",
       "    </tr>\n",
       "    <tr>\n",
       "      <th rowspan=\"2\" valign=\"top\">66</th>\n",
       "      <th>67</th>\n",
       "      <td>isFriend</td>\n",
       "    </tr>\n",
       "    <tr>\n",
       "      <th>69</th>\n",
       "      <td>isFriend</td>\n",
       "    </tr>\n",
       "    <tr>\n",
       "      <th>67</th>\n",
       "      <th>69</th>\n",
       "      <td>isEnemy</td>\n",
       "    </tr>\n",
       "  </tbody>\n",
       "</table>\n",
       "<p>333 rows × 1 columns</p>\n",
       "</div>"
      ],
      "text/plain": [
       "                          @type\n",
       "@source_id @target_id          \n",
       "0          7           isFriend\n",
       "           19          isFriend\n",
       "           27          isFriend\n",
       "           34          isFriend\n",
       "           38          isFriend\n",
       "...                         ...\n",
       "65         66          isFriend\n",
       "           67          isFriend\n",
       "66         67          isFriend\n",
       "           69          isFriend\n",
       "67         69           isEnemy\n",
       "\n",
       "[333 rows x 1 columns]"
      ]
     },
     "execution_count": 14,
     "metadata": {},
     "output_type": "execute_result"
    }
   ],
   "source": [
    "graph_frame._edges"
   ]
  },
  {
   "cell_type": "markdown",
   "metadata": {},
   "source": [
    "# Add node and edge properties\n",
    "\n",
    "numerical, categorical, text"
   ]
  },
  {
   "cell_type": "markdown",
   "metadata": {},
   "source": [
    "## Add node properties"
   ]
  },
  {
   "cell_type": "code",
   "execution_count": 15,
   "metadata": {},
   "outputs": [],
   "source": [
    "weight = pd.DataFrame(\n",
    "    [\n",
    "        (n, np.random.normal(loc=35, scale=5))\n",
    "        for n in graph_frame.nodes()\n",
    "    ], \n",
    "    columns=[\"@id\", \"weight\"]\n",
    ")"
   ]
  },
  {
   "cell_type": "code",
   "execution_count": 16,
   "metadata": {},
   "outputs": [],
   "source": [
    "graph_frame.add_node_properties(weight, prop_type=\"numeric\")"
   ]
  },
  {
   "cell_type": "code",
   "execution_count": 17,
   "metadata": {},
   "outputs": [],
   "source": [
    "colors = [\"red\", \"green\", \"blue\"]"
   ]
  },
  {
   "cell_type": "code",
   "execution_count": 18,
   "metadata": {},
   "outputs": [],
   "source": [
    "colors = pd.DataFrame(\n",
    "    [\n",
    "        (n, np.random.choice(colors))\n",
    "        for n in graph_frame.nodes()\n",
    "    ], \n",
    "    columns=[\"@id\", \"color\"]\n",
    ")"
   ]
  },
  {
   "cell_type": "code",
   "execution_count": 19,
   "metadata": {},
   "outputs": [],
   "source": [
    "graph_frame.add_node_properties(colors, prop_type=\"category\")"
   ]
  },
  {
   "cell_type": "code",
   "execution_count": 20,
   "metadata": {},
   "outputs": [],
   "source": [
    "desc = pd.DataFrame(\n",
    "    [\n",
    "        (n, ' '.join(random.sample(words.words(), 20)))\n",
    "        for n in graph_frame.nodes()\n",
    "    ], \n",
    "    columns=[\"@id\", \"desc\"]\n",
    ")"
   ]
  },
  {
   "cell_type": "code",
   "execution_count": 21,
   "metadata": {},
   "outputs": [],
   "source": [
    "graph_frame.add_node_properties(desc, prop_type=\"text\")"
   ]
  },
  {
   "cell_type": "code",
   "execution_count": 22,
   "metadata": {},
   "outputs": [
    {
     "data": {
      "text/html": [
       "<div>\n",
       "<style scoped>\n",
       "    .dataframe tbody tr th:only-of-type {\n",
       "        vertical-align: middle;\n",
       "    }\n",
       "\n",
       "    .dataframe tbody tr th {\n",
       "        vertical-align: top;\n",
       "    }\n",
       "\n",
       "    .dataframe thead th {\n",
       "        text-align: right;\n",
       "    }\n",
       "</style>\n",
       "<table border=\"1\" class=\"dataframe\">\n",
       "  <thead>\n",
       "    <tr style=\"text-align: right;\">\n",
       "      <th></th>\n",
       "      <th>@type</th>\n",
       "      <th>weight</th>\n",
       "      <th>color</th>\n",
       "      <th>desc</th>\n",
       "    </tr>\n",
       "    <tr>\n",
       "      <th>@id</th>\n",
       "      <th></th>\n",
       "      <th></th>\n",
       "      <th></th>\n",
       "      <th></th>\n",
       "    </tr>\n",
       "  </thead>\n",
       "  <tbody>\n",
       "    <tr>\n",
       "      <th>0</th>\n",
       "      <td>Apple</td>\n",
       "      <td>29.674754</td>\n",
       "      <td>blue</td>\n",
       "      <td>acridinic unmummied valiancy humour Cydonia pr...</td>\n",
       "    </tr>\n",
       "    <tr>\n",
       "      <th>1</th>\n",
       "      <td>Apple</td>\n",
       "      <td>31.723168</td>\n",
       "      <td>red</td>\n",
       "      <td>bridgework perenniality sklinter incarnadine o...</td>\n",
       "    </tr>\n",
       "    <tr>\n",
       "      <th>2</th>\n",
       "      <td>Orange</td>\n",
       "      <td>34.747329</td>\n",
       "      <td>red</td>\n",
       "      <td>indevout rinceau Mcintosh radiogoniometry supe...</td>\n",
       "    </tr>\n",
       "    <tr>\n",
       "      <th>3</th>\n",
       "      <td>Orange</td>\n",
       "      <td>40.338689</td>\n",
       "      <td>red</td>\n",
       "      <td>perspiry reissue slum Acer cystolith fulminura...</td>\n",
       "    </tr>\n",
       "    <tr>\n",
       "      <th>4</th>\n",
       "      <td>Apple</td>\n",
       "      <td>37.049401</td>\n",
       "      <td>green</td>\n",
       "      <td>phytologically retinoid Calandridae gonion fri...</td>\n",
       "    </tr>\n",
       "    <tr>\n",
       "      <th>...</th>\n",
       "      <td>...</td>\n",
       "      <td>...</td>\n",
       "      <td>...</td>\n",
       "      <td>...</td>\n",
       "    </tr>\n",
       "    <tr>\n",
       "      <th>65</th>\n",
       "      <td>Orange</td>\n",
       "      <td>41.091252</td>\n",
       "      <td>blue</td>\n",
       "      <td>chromid fragmented mildewy frass Gerridae Acma...</td>\n",
       "    </tr>\n",
       "    <tr>\n",
       "      <th>66</th>\n",
       "      <td>Orange</td>\n",
       "      <td>34.767637</td>\n",
       "      <td>red</td>\n",
       "      <td>Dionysia admonishment spannel nervily waterwis...</td>\n",
       "    </tr>\n",
       "    <tr>\n",
       "      <th>67</th>\n",
       "      <td>Orange</td>\n",
       "      <td>27.463080</td>\n",
       "      <td>green</td>\n",
       "      <td>abusious subdue saltly reinclination photosphe...</td>\n",
       "    </tr>\n",
       "    <tr>\n",
       "      <th>68</th>\n",
       "      <td>Orange</td>\n",
       "      <td>37.868604</td>\n",
       "      <td>green</td>\n",
       "      <td>dietotoxicity tartrate merrymaking antiknock p...</td>\n",
       "    </tr>\n",
       "    <tr>\n",
       "      <th>69</th>\n",
       "      <td>Orange</td>\n",
       "      <td>35.483428</td>\n",
       "      <td>red</td>\n",
       "      <td>campodeid estoc nuculiform pedagogism tonga be...</td>\n",
       "    </tr>\n",
       "  </tbody>\n",
       "</table>\n",
       "<p>70 rows × 4 columns</p>\n",
       "</div>"
      ],
      "text/plain": [
       "      @type     weight  color  \\\n",
       "@id                             \n",
       "0     Apple  29.674754   blue   \n",
       "1     Apple  31.723168    red   \n",
       "2    Orange  34.747329    red   \n",
       "3    Orange  40.338689    red   \n",
       "4     Apple  37.049401  green   \n",
       "..      ...        ...    ...   \n",
       "65   Orange  41.091252   blue   \n",
       "66   Orange  34.767637    red   \n",
       "67   Orange  27.463080  green   \n",
       "68   Orange  37.868604  green   \n",
       "69   Orange  35.483428    red   \n",
       "\n",
       "                                                  desc  \n",
       "@id                                                     \n",
       "0    acridinic unmummied valiancy humour Cydonia pr...  \n",
       "1    bridgework perenniality sklinter incarnadine o...  \n",
       "2    indevout rinceau Mcintosh radiogoniometry supe...  \n",
       "3    perspiry reissue slum Acer cystolith fulminura...  \n",
       "4    phytologically retinoid Calandridae gonion fri...  \n",
       "..                                                 ...  \n",
       "65   chromid fragmented mildewy frass Gerridae Acma...  \n",
       "66   Dionysia admonishment spannel nervily waterwis...  \n",
       "67   abusious subdue saltly reinclination photosphe...  \n",
       "68   dietotoxicity tartrate merrymaking antiknock p...  \n",
       "69   campodeid estoc nuculiform pedagogism tonga be...  \n",
       "\n",
       "[70 rows x 4 columns]"
      ]
     },
     "execution_count": 22,
     "metadata": {},
     "output_type": "execute_result"
    }
   ],
   "source": [
    "graph_frame._nodes"
   ]
  },
  {
   "cell_type": "code",
   "execution_count": 23,
   "metadata": {},
   "outputs": [
    {
     "data": {
      "text/plain": [
       "{'weight': 'numeric', 'color': 'category', 'desc': 'text'}"
      ]
     },
     "execution_count": 23,
     "metadata": {},
     "output_type": "execute_result"
    }
   ],
   "source": [
    "graph_frame._node_prop_types"
   ]
  },
  {
   "cell_type": "markdown",
   "metadata": {},
   "source": [
    "## Add edge properties"
   ]
  },
  {
   "cell_type": "code",
   "execution_count": 24,
   "metadata": {},
   "outputs": [],
   "source": [
    "years = pd.DataFrame(\n",
    "    [\n",
    "        (s, t, np.random.randint(0, 20))\n",
    "        for s, t in graph_frame.edges()\n",
    "    ], \n",
    "    columns=[\"@source_id\", \"@target_id\", \"n_years\"]\n",
    ")"
   ]
  },
  {
   "cell_type": "code",
   "execution_count": 25,
   "metadata": {},
   "outputs": [],
   "source": [
    "graph_frame.add_edge_properties(years, prop_type=\"numeric\")"
   ]
  },
  {
   "cell_type": "code",
   "execution_count": 26,
   "metadata": {},
   "outputs": [],
   "source": [
    "shapes = [\"dashed\", \"dotted\", \"solid\"]\n",
    "shapes = pd.DataFrame(\n",
    "    [\n",
    "        (s, t, np.random.choice(shapes))\n",
    "        for s, t, in graph_frame.edges()\n",
    "    ], \n",
    "    columns=[\"@source_id\", \"@target_id\", \"shapes\"]\n",
    ")"
   ]
  },
  {
   "cell_type": "code",
   "execution_count": 27,
   "metadata": {},
   "outputs": [],
   "source": [
    "graph_frame.add_edge_properties(shapes, prop_type=\"category\")"
   ]
  },
  {
   "cell_type": "code",
   "execution_count": 28,
   "metadata": {},
   "outputs": [],
   "source": [
    "desc = pd.DataFrame(\n",
    "    [\n",
    "        (s, t, ' '.join(random.sample(words.words(), 20)))\n",
    "        for s, t, in graph_frame.edges()\n",
    "    ], \n",
    "    columns=[\"@source_id\", \"@target_id\", \"desc\"]\n",
    ")"
   ]
  },
  {
   "cell_type": "code",
   "execution_count": 29,
   "metadata": {},
   "outputs": [],
   "source": [
    "graph_frame.add_edge_properties(desc, prop_type=\"text\")"
   ]
  },
  {
   "cell_type": "code",
   "execution_count": 30,
   "metadata": {},
   "outputs": [
    {
     "data": {
      "text/html": [
       "<div>\n",
       "<style scoped>\n",
       "    .dataframe tbody tr th:only-of-type {\n",
       "        vertical-align: middle;\n",
       "    }\n",
       "\n",
       "    .dataframe tbody tr th {\n",
       "        vertical-align: top;\n",
       "    }\n",
       "\n",
       "    .dataframe thead th {\n",
       "        text-align: right;\n",
       "    }\n",
       "</style>\n",
       "<table border=\"1\" class=\"dataframe\">\n",
       "  <thead>\n",
       "    <tr style=\"text-align: right;\">\n",
       "      <th></th>\n",
       "      <th></th>\n",
       "      <th>@type</th>\n",
       "      <th>n_years</th>\n",
       "      <th>shapes</th>\n",
       "      <th>desc</th>\n",
       "    </tr>\n",
       "    <tr>\n",
       "      <th>@source_id</th>\n",
       "      <th>@target_id</th>\n",
       "      <th></th>\n",
       "      <th></th>\n",
       "      <th></th>\n",
       "      <th></th>\n",
       "    </tr>\n",
       "  </thead>\n",
       "  <tbody>\n",
       "    <tr>\n",
       "      <th rowspan=\"5\" valign=\"top\">0</th>\n",
       "      <th>7</th>\n",
       "      <td>isFriend</td>\n",
       "      <td>14</td>\n",
       "      <td>solid</td>\n",
       "      <td>resultingly overveil pentahydric polyideic rhy...</td>\n",
       "    </tr>\n",
       "    <tr>\n",
       "      <th>19</th>\n",
       "      <td>isFriend</td>\n",
       "      <td>11</td>\n",
       "      <td>dashed</td>\n",
       "      <td>explicitly vegetality zoogeographically Bilocu...</td>\n",
       "    </tr>\n",
       "    <tr>\n",
       "      <th>27</th>\n",
       "      <td>isFriend</td>\n",
       "      <td>19</td>\n",
       "      <td>dotted</td>\n",
       "      <td>syllogist unwilted Delichon pottled gypsyesque...</td>\n",
       "    </tr>\n",
       "    <tr>\n",
       "      <th>34</th>\n",
       "      <td>isFriend</td>\n",
       "      <td>6</td>\n",
       "      <td>dotted</td>\n",
       "      <td>arsenicophagy phlebotomical pseudomorph allomo...</td>\n",
       "    </tr>\n",
       "    <tr>\n",
       "      <th>38</th>\n",
       "      <td>isFriend</td>\n",
       "      <td>10</td>\n",
       "      <td>dotted</td>\n",
       "      <td>stringful radiophotograph alkalimeter Neandert...</td>\n",
       "    </tr>\n",
       "    <tr>\n",
       "      <th>...</th>\n",
       "      <th>...</th>\n",
       "      <td>...</td>\n",
       "      <td>...</td>\n",
       "      <td>...</td>\n",
       "      <td>...</td>\n",
       "    </tr>\n",
       "    <tr>\n",
       "      <th rowspan=\"2\" valign=\"top\">65</th>\n",
       "      <th>66</th>\n",
       "      <td>isFriend</td>\n",
       "      <td>1</td>\n",
       "      <td>dotted</td>\n",
       "      <td>Alebion nitrocotton Jethronian holohyaline phy...</td>\n",
       "    </tr>\n",
       "    <tr>\n",
       "      <th>67</th>\n",
       "      <td>isFriend</td>\n",
       "      <td>0</td>\n",
       "      <td>dotted</td>\n",
       "      <td>licorne deutomerite macrotous Chechehet multit...</td>\n",
       "    </tr>\n",
       "    <tr>\n",
       "      <th rowspan=\"2\" valign=\"top\">66</th>\n",
       "      <th>67</th>\n",
       "      <td>isFriend</td>\n",
       "      <td>13</td>\n",
       "      <td>dotted</td>\n",
       "      <td>unspell churlish Narraganset uncost outwith Le...</td>\n",
       "    </tr>\n",
       "    <tr>\n",
       "      <th>69</th>\n",
       "      <td>isFriend</td>\n",
       "      <td>7</td>\n",
       "      <td>dotted</td>\n",
       "      <td>mystify Mbuba backstroke Parnellite undeformed...</td>\n",
       "    </tr>\n",
       "    <tr>\n",
       "      <th>67</th>\n",
       "      <th>69</th>\n",
       "      <td>isEnemy</td>\n",
       "      <td>13</td>\n",
       "      <td>dotted</td>\n",
       "      <td>storybook hylopathism redefy ashamedness mytho...</td>\n",
       "    </tr>\n",
       "  </tbody>\n",
       "</table>\n",
       "<p>333 rows × 4 columns</p>\n",
       "</div>"
      ],
      "text/plain": [
       "                          @type  n_years  shapes  \\\n",
       "@source_id @target_id                              \n",
       "0          7           isFriend       14   solid   \n",
       "           19          isFriend       11  dashed   \n",
       "           27          isFriend       19  dotted   \n",
       "           34          isFriend        6  dotted   \n",
       "           38          isFriend       10  dotted   \n",
       "...                         ...      ...     ...   \n",
       "65         66          isFriend        1  dotted   \n",
       "           67          isFriend        0  dotted   \n",
       "66         67          isFriend       13  dotted   \n",
       "           69          isFriend        7  dotted   \n",
       "67         69           isEnemy       13  dotted   \n",
       "\n",
       "                                                                    desc  \n",
       "@source_id @target_id                                                     \n",
       "0          7           resultingly overveil pentahydric polyideic rhy...  \n",
       "           19          explicitly vegetality zoogeographically Bilocu...  \n",
       "           27          syllogist unwilted Delichon pottled gypsyesque...  \n",
       "           34          arsenicophagy phlebotomical pseudomorph allomo...  \n",
       "           38          stringful radiophotograph alkalimeter Neandert...  \n",
       "...                                                                  ...  \n",
       "65         66          Alebion nitrocotton Jethronian holohyaline phy...  \n",
       "           67          licorne deutomerite macrotous Chechehet multit...  \n",
       "66         67          unspell churlish Narraganset uncost outwith Le...  \n",
       "           69          mystify Mbuba backstroke Parnellite undeformed...  \n",
       "67         69          storybook hylopathism redefy ashamedness mytho...  \n",
       "\n",
       "[333 rows x 4 columns]"
      ]
     },
     "execution_count": 30,
     "metadata": {},
     "output_type": "execute_result"
    }
   ],
   "source": [
    "graph_frame._edges"
   ]
  },
  {
   "cell_type": "code",
   "execution_count": 31,
   "metadata": {},
   "outputs": [
    {
     "data": {
      "text/plain": [
       "{'n_years': 'numeric', 'shapes': 'category', 'desc': 'text'}"
      ]
     },
     "execution_count": 31,
     "metadata": {},
     "output_type": "execute_result"
    }
   ],
   "source": [
    "graph_frame._edge_prop_types"
   ]
  },
  {
   "cell_type": "markdown",
   "metadata": {},
   "source": [
    "# Property encoding"
   ]
  },
  {
   "cell_type": "code",
   "execution_count": 32,
   "metadata": {},
   "outputs": [],
   "source": [
    "hom_encoder = ScikitLearnPGEncoder(\n",
    "    heterogeneous=False,\n",
    "    encode_types=True, drop_types=True, text_encoding=\"tfidf\")"
   ]
  },
  {
   "cell_type": "code",
   "execution_count": 33,
   "metadata": {},
   "outputs": [
    {
     "data": {
      "text/plain": [
       "{'n_years': 'numeric', 'shapes': 'category', 'desc': 'text'}"
      ]
     },
     "execution_count": 33,
     "metadata": {},
     "output_type": "execute_result"
    }
   ],
   "source": [
    "graph_frame._edge_prop_types"
   ]
  },
  {
   "cell_type": "code",
   "execution_count": 34,
   "metadata": {},
   "outputs": [],
   "source": [
    "transformed_frame = hom_encoder.fit_transform(graph_frame)"
   ]
  },
  {
   "cell_type": "code",
   "execution_count": 35,
   "metadata": {},
   "outputs": [
    {
     "data": {
      "text/plain": [
       "{'@type': MultiLabelBinarizer(),\n",
       " 'weight': StandardScaler(),\n",
       " 'color': MultiLabelBinarizer(),\n",
       " 'desc': TfidfVectorizer(max_features=64, stop_words='english', sublinear_tf=True)}"
      ]
     },
     "execution_count": 35,
     "metadata": {},
     "output_type": "execute_result"
    }
   ],
   "source": [
    "hom_encoder._node_encoders"
   ]
  },
  {
   "cell_type": "code",
   "execution_count": 36,
   "metadata": {},
   "outputs": [
    {
     "data": {
      "text/plain": [
       "{'@type': MultiLabelBinarizer(),\n",
       " 'n_years': StandardScaler(),\n",
       " 'shapes': MultiLabelBinarizer(),\n",
       " 'desc': TfidfVectorizer(max_features=64, stop_words='english', sublinear_tf=True)}"
      ]
     },
     "execution_count": 36,
     "metadata": {},
     "output_type": "execute_result"
    }
   ],
   "source": [
    "hom_encoder._edge_encoders"
   ]
  },
  {
   "cell_type": "code",
   "execution_count": 37,
   "metadata": {},
   "outputs": [
    {
     "data": {
      "text/html": [
       "<div>\n",
       "<style scoped>\n",
       "    .dataframe tbody tr th:only-of-type {\n",
       "        vertical-align: middle;\n",
       "    }\n",
       "\n",
       "    .dataframe tbody tr th {\n",
       "        vertical-align: top;\n",
       "    }\n",
       "\n",
       "    .dataframe thead th {\n",
       "        text-align: right;\n",
       "    }\n",
       "</style>\n",
       "<table border=\"1\" class=\"dataframe\">\n",
       "  <thead>\n",
       "    <tr style=\"text-align: right;\">\n",
       "      <th></th>\n",
       "      <th>features</th>\n",
       "    </tr>\n",
       "    <tr>\n",
       "      <th>@id</th>\n",
       "      <th></th>\n",
       "    </tr>\n",
       "  </thead>\n",
       "  <tbody>\n",
       "    <tr>\n",
       "      <th>0</th>\n",
       "      <td>[1.0, 0.0, 0.0, -1.140728778341095, 1.0, 0.0, ...</td>\n",
       "    </tr>\n",
       "    <tr>\n",
       "      <th>1</th>\n",
       "      <td>[1.0, 0.0, 0.0, -0.72790544229623, 0.0, 0.0, 1...</td>\n",
       "    </tr>\n",
       "    <tr>\n",
       "      <th>2</th>\n",
       "      <td>[0.0, 0.0, 1.0, -0.118436847924602, 0.0, 0.0, ...</td>\n",
       "    </tr>\n",
       "    <tr>\n",
       "      <th>3</th>\n",
       "      <td>[0.0, 0.0, 1.0, 1.0084074828161862, 0.0, 0.0, ...</td>\n",
       "    </tr>\n",
       "    <tr>\n",
       "      <th>4</th>\n",
       "      <td>[1.0, 0.0, 0.0, 0.34550704907778085, 0.0, 1.0,...</td>\n",
       "    </tr>\n",
       "    <tr>\n",
       "      <th>...</th>\n",
       "      <td>...</td>\n",
       "    </tr>\n",
       "    <tr>\n",
       "      <th>65</th>\n",
       "      <td>[0.0, 0.0, 1.0, 1.1600737519075413, 1.0, 0.0, ...</td>\n",
       "    </tr>\n",
       "    <tr>\n",
       "      <th>66</th>\n",
       "      <td>[0.0, 0.0, 1.0, -0.11434403548223476, 0.0, 0.0...</td>\n",
       "    </tr>\n",
       "    <tr>\n",
       "      <th>67</th>\n",
       "      <td>[0.0, 0.0, 1.0, -1.5864541768629998, 0.0, 1.0,...</td>\n",
       "    </tr>\n",
       "    <tr>\n",
       "      <th>68</th>\n",
       "      <td>[0.0, 0.0, 1.0, 0.5106035495345334, 0.0, 1.0, ...</td>\n",
       "    </tr>\n",
       "    <tr>\n",
       "      <th>69</th>\n",
       "      <td>[0.0, 0.0, 1.0, 0.02991150678440354, 0.0, 0.0,...</td>\n",
       "    </tr>\n",
       "  </tbody>\n",
       "</table>\n",
       "<p>70 rows × 1 columns</p>\n",
       "</div>"
      ],
      "text/plain": [
       "                                              features\n",
       "@id                                                   \n",
       "0    [1.0, 0.0, 0.0, -1.140728778341095, 1.0, 0.0, ...\n",
       "1    [1.0, 0.0, 0.0, -0.72790544229623, 0.0, 0.0, 1...\n",
       "2    [0.0, 0.0, 1.0, -0.118436847924602, 0.0, 0.0, ...\n",
       "3    [0.0, 0.0, 1.0, 1.0084074828161862, 0.0, 0.0, ...\n",
       "4    [1.0, 0.0, 0.0, 0.34550704907778085, 0.0, 1.0,...\n",
       "..                                                 ...\n",
       "65   [0.0, 0.0, 1.0, 1.1600737519075413, 1.0, 0.0, ...\n",
       "66   [0.0, 0.0, 1.0, -0.11434403548223476, 0.0, 0.0...\n",
       "67   [0.0, 0.0, 1.0, -1.5864541768629998, 0.0, 1.0,...\n",
       "68   [0.0, 0.0, 1.0, 0.5106035495345334, 0.0, 1.0, ...\n",
       "69   [0.0, 0.0, 1.0, 0.02991150678440354, 0.0, 0.0,...\n",
       "\n",
       "[70 rows x 1 columns]"
      ]
     },
     "execution_count": 37,
     "metadata": {},
     "output_type": "execute_result"
    }
   ],
   "source": [
    "transformed_frame._nodes"
   ]
  },
  {
   "cell_type": "code",
   "execution_count": 38,
   "metadata": {
    "scrolled": true
   },
   "outputs": [
    {
     "data": {
      "text/html": [
       "<div>\n",
       "<style scoped>\n",
       "    .dataframe tbody tr th:only-of-type {\n",
       "        vertical-align: middle;\n",
       "    }\n",
       "\n",
       "    .dataframe tbody tr th {\n",
       "        vertical-align: top;\n",
       "    }\n",
       "\n",
       "    .dataframe thead th {\n",
       "        text-align: right;\n",
       "    }\n",
       "</style>\n",
       "<table border=\"1\" class=\"dataframe\">\n",
       "  <thead>\n",
       "    <tr style=\"text-align: right;\">\n",
       "      <th></th>\n",
       "      <th></th>\n",
       "      <th>features</th>\n",
       "    </tr>\n",
       "    <tr>\n",
       "      <th>@source_id</th>\n",
       "      <th>@target_id</th>\n",
       "      <th></th>\n",
       "    </tr>\n",
       "  </thead>\n",
       "  <tbody>\n",
       "    <tr>\n",
       "      <th rowspan=\"5\" valign=\"top\">0</th>\n",
       "      <th>7</th>\n",
       "      <td>[0.0, 1.0, 0.7458675902680008, 0.0, 0.0, 1.0, ...</td>\n",
       "    </tr>\n",
       "    <tr>\n",
       "      <th>19</th>\n",
       "      <td>[0.0, 1.0, 0.20787356667396992, 1.0, 0.0, 0.0,...</td>\n",
       "    </tr>\n",
       "    <tr>\n",
       "      <th>27</th>\n",
       "      <td>[0.0, 1.0, 1.642524296258052, 0.0, 1.0, 0.0, 0...</td>\n",
       "    </tr>\n",
       "    <tr>\n",
       "      <th>34</th>\n",
       "      <td>[0.0, 1.0, -0.6887831393160815, 0.0, 1.0, 0.0,...</td>\n",
       "    </tr>\n",
       "    <tr>\n",
       "      <th>38</th>\n",
       "      <td>[0.0, 1.0, 0.028542225475959648, 0.0, 1.0, 0.0...</td>\n",
       "    </tr>\n",
       "    <tr>\n",
       "      <th>...</th>\n",
       "      <th>...</th>\n",
       "      <td>...</td>\n",
       "    </tr>\n",
       "    <tr>\n",
       "      <th rowspan=\"2\" valign=\"top\">65</th>\n",
       "      <th>66</th>\n",
       "      <td>[0.0, 1.0, -1.5854398453061327, 0.0, 1.0, 0.0,...</td>\n",
       "    </tr>\n",
       "    <tr>\n",
       "      <th>67</th>\n",
       "      <td>[0.0, 1.0, -1.764771186504143, 0.0, 1.0, 0.0, ...</td>\n",
       "    </tr>\n",
       "    <tr>\n",
       "      <th rowspan=\"2\" valign=\"top\">66</th>\n",
       "      <th>67</th>\n",
       "      <td>[0.0, 1.0, 0.5665362490699904, 0.0, 1.0, 0.0, ...</td>\n",
       "    </tr>\n",
       "    <tr>\n",
       "      <th>69</th>\n",
       "      <td>[0.0, 1.0, -0.5094517981180712, 0.0, 1.0, 0.0,...</td>\n",
       "    </tr>\n",
       "    <tr>\n",
       "      <th>67</th>\n",
       "      <th>69</th>\n",
       "      <td>[1.0, 0.0, 0.5665362490699904, 0.0, 1.0, 0.0, ...</td>\n",
       "    </tr>\n",
       "  </tbody>\n",
       "</table>\n",
       "<p>333 rows × 1 columns</p>\n",
       "</div>"
      ],
      "text/plain": [
       "                                                                features\n",
       "@source_id @target_id                                                   \n",
       "0          7           [0.0, 1.0, 0.7458675902680008, 0.0, 0.0, 1.0, ...\n",
       "           19          [0.0, 1.0, 0.20787356667396992, 1.0, 0.0, 0.0,...\n",
       "           27          [0.0, 1.0, 1.642524296258052, 0.0, 1.0, 0.0, 0...\n",
       "           34          [0.0, 1.0, -0.6887831393160815, 0.0, 1.0, 0.0,...\n",
       "           38          [0.0, 1.0, 0.028542225475959648, 0.0, 1.0, 0.0...\n",
       "...                                                                  ...\n",
       "65         66          [0.0, 1.0, -1.5854398453061327, 0.0, 1.0, 0.0,...\n",
       "           67          [0.0, 1.0, -1.764771186504143, 0.0, 1.0, 0.0, ...\n",
       "66         67          [0.0, 1.0, 0.5665362490699904, 0.0, 1.0, 0.0, ...\n",
       "           69          [0.0, 1.0, -0.5094517981180712, 0.0, 1.0, 0.0,...\n",
       "67         69          [1.0, 0.0, 0.5665362490699904, 0.0, 1.0, 0.0, ...\n",
       "\n",
       "[333 rows x 1 columns]"
      ]
     },
     "execution_count": 38,
     "metadata": {},
     "output_type": "execute_result"
    }
   ],
   "source": [
    "transformed_frame._edges"
   ]
  },
  {
   "cell_type": "code",
   "execution_count": 39,
   "metadata": {},
   "outputs": [
    {
     "data": {
      "text/plain": [
       "(71,)"
      ]
     },
     "execution_count": 39,
     "metadata": {},
     "output_type": "execute_result"
    }
   ],
   "source": [
    "transformed_frame._nodes[\"features\"].to_list()[0].shape"
   ]
  },
  {
   "cell_type": "code",
   "execution_count": 40,
   "metadata": {},
   "outputs": [
    {
     "data": {
      "text/plain": [
       "(70,)"
      ]
     },
     "execution_count": 40,
     "metadata": {},
     "output_type": "execute_result"
    }
   ],
   "source": [
    "transformed_frame._edges[\"features\"].to_list()[0].shape"
   ]
  },
  {
   "cell_type": "code",
   "execution_count": 41,
   "metadata": {},
   "outputs": [],
   "source": [
    "hetero_encoder = ScikitLearnPGEncoder(\n",
    "    heterogeneous=True, text_encoding=\"tfidf\")"
   ]
  },
  {
   "cell_type": "code",
   "execution_count": 42,
   "metadata": {},
   "outputs": [],
   "source": [
    "hetero_encoder.fit(graph_frame)"
   ]
  },
  {
   "cell_type": "code",
   "execution_count": 44,
   "metadata": {},
   "outputs": [],
   "source": [
    "transformed_frame = hetero_encoder.transform(graph_frame)"
   ]
  },
  {
   "cell_type": "code",
   "execution_count": 45,
   "metadata": {},
   "outputs": [
    {
     "data": {
      "text/html": [
       "<div>\n",
       "<style scoped>\n",
       "    .dataframe tbody tr th:only-of-type {\n",
       "        vertical-align: middle;\n",
       "    }\n",
       "\n",
       "    .dataframe tbody tr th {\n",
       "        vertical-align: top;\n",
       "    }\n",
       "\n",
       "    .dataframe thead th {\n",
       "        text-align: right;\n",
       "    }\n",
       "</style>\n",
       "<table border=\"1\" class=\"dataframe\">\n",
       "  <thead>\n",
       "    <tr style=\"text-align: right;\">\n",
       "      <th></th>\n",
       "      <th>features</th>\n",
       "      <th>@type</th>\n",
       "    </tr>\n",
       "    <tr>\n",
       "      <th>@id</th>\n",
       "      <th></th>\n",
       "      <th></th>\n",
       "    </tr>\n",
       "  </thead>\n",
       "  <tbody>\n",
       "    <tr>\n",
       "      <th>0</th>\n",
       "      <td>[-1.1367564524120004, 1.0, 0.0, 0.0, 0.0, 0.0,...</td>\n",
       "      <td>Apple</td>\n",
       "    </tr>\n",
       "    <tr>\n",
       "      <th>1</th>\n",
       "      <td>[-0.6889777579992171, 0.0, 0.0, 1.0, 0.0, 0.0,...</td>\n",
       "      <td>Apple</td>\n",
       "    </tr>\n",
       "    <tr>\n",
       "      <th>2</th>\n",
       "      <td>[-0.18327594143750522, 0.0, 0.0, 1.0, 0.0, 0.0...</td>\n",
       "      <td>Orange</td>\n",
       "    </tr>\n",
       "    <tr>\n",
       "      <th>3</th>\n",
       "      <td>[0.8219906455377133, 0.0, 0.0, 1.0, 0.0, 0.707...</td>\n",
       "      <td>Orange</td>\n",
       "    </tr>\n",
       "    <tr>\n",
       "      <th>4</th>\n",
       "      <td>[0.47532474621190834, 0.0, 1.0, 0.0, 0.0, 0.37...</td>\n",
       "      <td>Apple</td>\n",
       "    </tr>\n",
       "    <tr>\n",
       "      <th>...</th>\n",
       "      <td>...</td>\n",
       "      <td>...</td>\n",
       "    </tr>\n",
       "    <tr>\n",
       "      <th>65</th>\n",
       "      <td>[0.9572933031714441, 1.0, 0.0, 0.0, 0.0, 0.0, ...</td>\n",
       "      <td>Orange</td>\n",
       "    </tr>\n",
       "    <tr>\n",
       "      <th>66</th>\n",
       "      <td>[-0.17962471164220295, 0.0, 0.0, 1.0, 0.0, 0.0...</td>\n",
       "      <td>Orange</td>\n",
       "    </tr>\n",
       "    <tr>\n",
       "      <th>67</th>\n",
       "      <td>[-1.4929056122121913, 0.0, 1.0, 0.0, 0.0, 0.0,...</td>\n",
       "      <td>Orange</td>\n",
       "    </tr>\n",
       "    <tr>\n",
       "      <th>68</th>\n",
       "      <td>[0.37789588697962, 0.0, 1.0, 0.0, 0.0, 0.0, 0....</td>\n",
       "      <td>Orange</td>\n",
       "    </tr>\n",
       "    <tr>\n",
       "      <th>69</th>\n",
       "      <td>[-0.050933221016066746, 0.0, 0.0, 1.0, 0.0, 0....</td>\n",
       "      <td>Orange</td>\n",
       "    </tr>\n",
       "  </tbody>\n",
       "</table>\n",
       "<p>70 rows × 2 columns</p>\n",
       "</div>"
      ],
      "text/plain": [
       "                                              features   @type\n",
       "@id                                                           \n",
       "0    [-1.1367564524120004, 1.0, 0.0, 0.0, 0.0, 0.0,...   Apple\n",
       "1    [-0.6889777579992171, 0.0, 0.0, 1.0, 0.0, 0.0,...   Apple\n",
       "2    [-0.18327594143750522, 0.0, 0.0, 1.0, 0.0, 0.0...  Orange\n",
       "3    [0.8219906455377133, 0.0, 0.0, 1.0, 0.0, 0.707...  Orange\n",
       "4    [0.47532474621190834, 0.0, 1.0, 0.0, 0.0, 0.37...   Apple\n",
       "..                                                 ...     ...\n",
       "65   [0.9572933031714441, 1.0, 0.0, 0.0, 0.0, 0.0, ...  Orange\n",
       "66   [-0.17962471164220295, 0.0, 0.0, 1.0, 0.0, 0.0...  Orange\n",
       "67   [-1.4929056122121913, 0.0, 1.0, 0.0, 0.0, 0.0,...  Orange\n",
       "68   [0.37789588697962, 0.0, 1.0, 0.0, 0.0, 0.0, 0....  Orange\n",
       "69   [-0.050933221016066746, 0.0, 0.0, 1.0, 0.0, 0....  Orange\n",
       "\n",
       "[70 rows x 2 columns]"
      ]
     },
     "execution_count": 45,
     "metadata": {},
     "output_type": "execute_result"
    }
   ],
   "source": [
    "transformed_frame._nodes"
   ]
  },
  {
   "cell_type": "code",
   "execution_count": 46,
   "metadata": {},
   "outputs": [
    {
     "data": {
      "text/html": [
       "<div>\n",
       "<style scoped>\n",
       "    .dataframe tbody tr th:only-of-type {\n",
       "        vertical-align: middle;\n",
       "    }\n",
       "\n",
       "    .dataframe tbody tr th {\n",
       "        vertical-align: top;\n",
       "    }\n",
       "\n",
       "    .dataframe thead th {\n",
       "        text-align: right;\n",
       "    }\n",
       "</style>\n",
       "<table border=\"1\" class=\"dataframe\">\n",
       "  <thead>\n",
       "    <tr style=\"text-align: right;\">\n",
       "      <th></th>\n",
       "      <th></th>\n",
       "      <th>features</th>\n",
       "      <th>@type</th>\n",
       "    </tr>\n",
       "    <tr>\n",
       "      <th>@source_id</th>\n",
       "      <th>@target_id</th>\n",
       "      <th></th>\n",
       "      <th></th>\n",
       "    </tr>\n",
       "  </thead>\n",
       "  <tbody>\n",
       "    <tr>\n",
       "      <th rowspan=\"5\" valign=\"top\">0</th>\n",
       "      <th>7</th>\n",
       "      <td>[0.7360007733457389, 0.0, 0.0, 1.0, 0.0, 0.0, ...</td>\n",
       "      <td>isFriend</td>\n",
       "    </tr>\n",
       "    <tr>\n",
       "      <th>19</th>\n",
       "      <td>[0.19716717964858332, 1.0, 0.0, 0.0, 0.0, 0.0,...</td>\n",
       "      <td>isFriend</td>\n",
       "    </tr>\n",
       "    <tr>\n",
       "      <th>27</th>\n",
       "      <td>[1.634056762840998, 0.0, 1.0, 0.0, 0.0, 0.0, 0...</td>\n",
       "      <td>isFriend</td>\n",
       "    </tr>\n",
       "    <tr>\n",
       "      <th>34</th>\n",
       "      <td>[-0.7008888098466759, 0.0, 1.0, 0.0, 0.0, 0.0,...</td>\n",
       "      <td>isFriend</td>\n",
       "    </tr>\n",
       "    <tr>\n",
       "      <th>38</th>\n",
       "      <td>[0.017555981749531473, 0.0, 1.0, 0.0, 0.0, 0.0...</td>\n",
       "      <td>isFriend</td>\n",
       "    </tr>\n",
       "    <tr>\n",
       "      <th>...</th>\n",
       "      <th>...</th>\n",
       "      <td>...</td>\n",
       "      <td>...</td>\n",
       "    </tr>\n",
       "    <tr>\n",
       "      <th rowspan=\"2\" valign=\"top\">65</th>\n",
       "      <th>66</th>\n",
       "      <td>[-1.5989447993419352, 0.0, 1.0, 0.0, 0.0, 0.0,...</td>\n",
       "      <td>isFriend</td>\n",
       "    </tr>\n",
       "    <tr>\n",
       "      <th>67</th>\n",
       "      <td>[-1.778555997240987, 0.0, 1.0, 0.0, 0.0, 0.0, ...</td>\n",
       "      <td>isFriend</td>\n",
       "    </tr>\n",
       "    <tr>\n",
       "      <th rowspan=\"2\" valign=\"top\">66</th>\n",
       "      <th>67</th>\n",
       "      <td>[0.556389575446687, 0.0, 1.0, 0.0, 0.0, 0.0, 0...</td>\n",
       "      <td>isFriend</td>\n",
       "    </tr>\n",
       "    <tr>\n",
       "      <th>69</th>\n",
       "      <td>[-0.5212776119476241, 0.0, 1.0, 0.0, 0.0, 0.0,...</td>\n",
       "      <td>isFriend</td>\n",
       "    </tr>\n",
       "    <tr>\n",
       "      <th>67</th>\n",
       "      <th>69</th>\n",
       "      <td>[0.6072426334955634, 0.0, 1.0, 0.0, 0.0, 0.0, ...</td>\n",
       "      <td>isEnemy</td>\n",
       "    </tr>\n",
       "  </tbody>\n",
       "</table>\n",
       "<p>333 rows × 2 columns</p>\n",
       "</div>"
      ],
      "text/plain": [
       "                                                                features  \\\n",
       "@source_id @target_id                                                      \n",
       "0          7           [0.7360007733457389, 0.0, 0.0, 1.0, 0.0, 0.0, ...   \n",
       "           19          [0.19716717964858332, 1.0, 0.0, 0.0, 0.0, 0.0,...   \n",
       "           27          [1.634056762840998, 0.0, 1.0, 0.0, 0.0, 0.0, 0...   \n",
       "           34          [-0.7008888098466759, 0.0, 1.0, 0.0, 0.0, 0.0,...   \n",
       "           38          [0.017555981749531473, 0.0, 1.0, 0.0, 0.0, 0.0...   \n",
       "...                                                                  ...   \n",
       "65         66          [-1.5989447993419352, 0.0, 1.0, 0.0, 0.0, 0.0,...   \n",
       "           67          [-1.778555997240987, 0.0, 1.0, 0.0, 0.0, 0.0, ...   \n",
       "66         67          [0.556389575446687, 0.0, 1.0, 0.0, 0.0, 0.0, 0...   \n",
       "           69          [-0.5212776119476241, 0.0, 1.0, 0.0, 0.0, 0.0,...   \n",
       "67         69          [0.6072426334955634, 0.0, 1.0, 0.0, 0.0, 0.0, ...   \n",
       "\n",
       "                          @type  \n",
       "@source_id @target_id            \n",
       "0          7           isFriend  \n",
       "           19          isFriend  \n",
       "           27          isFriend  \n",
       "           34          isFriend  \n",
       "           38          isFriend  \n",
       "...                         ...  \n",
       "65         66          isFriend  \n",
       "           67          isFriend  \n",
       "66         67          isFriend  \n",
       "           69          isFriend  \n",
       "67         69           isEnemy  \n",
       "\n",
       "[333 rows x 2 columns]"
      ]
     },
     "execution_count": 46,
     "metadata": {},
     "output_type": "execute_result"
    }
   ],
   "source": [
    "transformed_frame._edges"
   ]
  }
 ],
 "metadata": {
  "kernelspec": {
   "display_name": "bluegraph",
   "language": "python",
   "name": "bluegraph"
  },
  "language_info": {
   "codemirror_mode": {
    "name": "ipython",
    "version": 3
   },
   "file_extension": ".py",
   "mimetype": "text/x-python",
   "name": "python",
   "nbconvert_exporter": "python",
   "pygments_lexer": "ipython3",
   "version": "3.6.12"
  }
 },
 "nbformat": 4,
 "nbformat_minor": 5
}
