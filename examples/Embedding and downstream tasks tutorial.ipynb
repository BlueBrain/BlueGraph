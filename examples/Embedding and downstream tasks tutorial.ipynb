{
 "cells": [
  {
   "cell_type": "code",
   "execution_count": 1,
   "id": "institutional-flexibility",
   "metadata": {},
   "outputs": [],
   "source": [
    "import pandas as pd\n",
    "import numpy as np\n",
    "\n",
    "from sklearn import model_selection\n",
    "from sklearn.svm import LinearSVC\n",
    "\n",
    "from bluegraph.core import PandasPGFrame\n",
    "from bluegraph.preprocess.generators import CooccurrenceGenerator\n",
    "from bluegraph.preprocess.encoders import ScikitLearnPGEncoder\n",
    "\n",
    "from bluegraph.core.embed.embedders import GraphElementEmbedder\n",
    "from bluegraph.backends.stellargraph import StellarGraphNodeEmbedder\n",
    "\n",
    "from bluegraph.downstream import EmbeddingPipeline, transform_to_2d, plot_2d, get_classification_scores\n",
    "from bluegraph.downstream.similarity import (SimilarityProcessor, NodeSimilarityProcessor)\n",
    "from bluegraph.downstream.node_classification import NodeClassifier\n",
    "from bluegraph.downstream.link_prediction import (generate_negative_edges,\n",
    "                                                  EdgePredictor)"
   ]
  },
  {
   "cell_type": "markdown",
   "id": "spoken-location",
   "metadata": {},
   "source": [
    "## Data preparation"
   ]
  },
  {
   "cell_type": "markdown",
   "id": "neutral-chapter",
   "metadata": {},
   "source": [
    "Fist, we read the source dataset with mentions of entities in different paragraphs"
   ]
  },
  {
   "cell_type": "code",
   "execution_count": 2,
   "id": "informative-mattress",
   "metadata": {},
   "outputs": [],
   "source": [
    "mentions = pd.read_csv(\"data/labeled_entity_occurrence.csv\")"
   ]
  },
  {
   "cell_type": "code",
   "execution_count": 3,
   "id": "alternate-swiss",
   "metadata": {},
   "outputs": [],
   "source": [
    "# Extract unique paper/seciton/paragraph identifiers\n",
    "mentions = mentions.rename(columns={\"occurrence\": \"paragraph\"})\n",
    "number_of_paragraphs = len(mentions[\"paragraph\"].unique())"
   ]
  },
  {
   "cell_type": "code",
   "execution_count": 4,
   "id": "surprised-platinum",
   "metadata": {},
   "outputs": [
    {
     "data": {
      "text/html": [
       "<div>\n",
       "<style scoped>\n",
       "    .dataframe tbody tr th:only-of-type {\n",
       "        vertical-align: middle;\n",
       "    }\n",
       "\n",
       "    .dataframe tbody tr th {\n",
       "        vertical-align: top;\n",
       "    }\n",
       "\n",
       "    .dataframe thead th {\n",
       "        text-align: right;\n",
       "    }\n",
       "</style>\n",
       "<table border=\"1\" class=\"dataframe\">\n",
       "  <thead>\n",
       "    <tr style=\"text-align: right;\">\n",
       "      <th></th>\n",
       "      <th>entity</th>\n",
       "      <th>paragraph</th>\n",
       "    </tr>\n",
       "  </thead>\n",
       "  <tbody>\n",
       "    <tr>\n",
       "      <th>0</th>\n",
       "      <td>lithostathine-1-alpha</td>\n",
       "      <td>1</td>\n",
       "    </tr>\n",
       "    <tr>\n",
       "      <th>1</th>\n",
       "      <td>pulmonary</td>\n",
       "      <td>1</td>\n",
       "    </tr>\n",
       "    <tr>\n",
       "      <th>2</th>\n",
       "      <td>host</td>\n",
       "      <td>1</td>\n",
       "    </tr>\n",
       "    <tr>\n",
       "      <th>3</th>\n",
       "      <td>lithostathine-1-alpha</td>\n",
       "      <td>2</td>\n",
       "    </tr>\n",
       "    <tr>\n",
       "      <th>4</th>\n",
       "      <td>surfactant protein d measurement</td>\n",
       "      <td>2</td>\n",
       "    </tr>\n",
       "    <tr>\n",
       "      <th>...</th>\n",
       "      <td>...</td>\n",
       "      <td>...</td>\n",
       "    </tr>\n",
       "    <tr>\n",
       "      <th>2281346</th>\n",
       "      <td>covid-19</td>\n",
       "      <td>227822</td>\n",
       "    </tr>\n",
       "    <tr>\n",
       "      <th>2281347</th>\n",
       "      <td>covid-19</td>\n",
       "      <td>227822</td>\n",
       "    </tr>\n",
       "    <tr>\n",
       "      <th>2281348</th>\n",
       "      <td>viral infection</td>\n",
       "      <td>227823</td>\n",
       "    </tr>\n",
       "    <tr>\n",
       "      <th>2281349</th>\n",
       "      <td>lipid</td>\n",
       "      <td>227823</td>\n",
       "    </tr>\n",
       "    <tr>\n",
       "      <th>2281350</th>\n",
       "      <td>inflammation</td>\n",
       "      <td>227823</td>\n",
       "    </tr>\n",
       "  </tbody>\n",
       "</table>\n",
       "<p>2281351 rows × 2 columns</p>\n",
       "</div>"
      ],
      "text/plain": [
       "                                   entity  paragraph\n",
       "0                   lithostathine-1-alpha          1\n",
       "1                               pulmonary          1\n",
       "2                                    host          1\n",
       "3                   lithostathine-1-alpha          2\n",
       "4        surfactant protein d measurement          2\n",
       "...                                   ...        ...\n",
       "2281346                          covid-19     227822\n",
       "2281347                          covid-19     227822\n",
       "2281348                   viral infection     227823\n",
       "2281349                             lipid     227823\n",
       "2281350                      inflammation     227823\n",
       "\n",
       "[2281351 rows x 2 columns]"
      ]
     },
     "execution_count": 4,
     "metadata": {},
     "output_type": "execute_result"
    }
   ],
   "source": [
    "mentions"
   ]
  },
  {
   "cell_type": "markdown",
   "id": "central-delicious",
   "metadata": {},
   "source": [
    "We will also load a dataset that contains definitions of entities and their types"
   ]
  },
  {
   "cell_type": "code",
   "execution_count": 5,
   "id": "cross-durham",
   "metadata": {
    "scrolled": false
   },
   "outputs": [],
   "source": [
    "entity_data = pd.read_csv(\"data/entity_types_defs.csv\")"
   ]
  },
  {
   "cell_type": "code",
   "execution_count": 6,
   "id": "quick-reason",
   "metadata": {},
   "outputs": [
    {
     "data": {
      "text/html": [
       "<div>\n",
       "<style scoped>\n",
       "    .dataframe tbody tr th:only-of-type {\n",
       "        vertical-align: middle;\n",
       "    }\n",
       "\n",
       "    .dataframe tbody tr th {\n",
       "        vertical-align: top;\n",
       "    }\n",
       "\n",
       "    .dataframe thead th {\n",
       "        text-align: right;\n",
       "    }\n",
       "</style>\n",
       "<table border=\"1\" class=\"dataframe\">\n",
       "  <thead>\n",
       "    <tr style=\"text-align: right;\">\n",
       "      <th></th>\n",
       "      <th>entity</th>\n",
       "      <th>entity_type</th>\n",
       "      <th>definition</th>\n",
       "    </tr>\n",
       "  </thead>\n",
       "  <tbody>\n",
       "    <tr>\n",
       "      <th>0</th>\n",
       "      <td>(e3-independent) e2 ubiquitin-conjugating enzyme</td>\n",
       "      <td>PROTEIN</td>\n",
       "      <td>(E3-independent) E2 ubiquitin-conjugating enzy...</td>\n",
       "    </tr>\n",
       "    <tr>\n",
       "      <th>1</th>\n",
       "      <td>(h115d)vhl35 peptide</td>\n",
       "      <td>CHEMICAL</td>\n",
       "      <td>A peptide vaccine derived from the von Hippel-...</td>\n",
       "    </tr>\n",
       "    <tr>\n",
       "      <th>2</th>\n",
       "      <td>1,1-dimethylhydrazine</td>\n",
       "      <td>DRUG</td>\n",
       "      <td>A clear, colorless, flammable, hygroscopic liq...</td>\n",
       "    </tr>\n",
       "    <tr>\n",
       "      <th>3</th>\n",
       "      <td>1,2-dimethylhydrazine</td>\n",
       "      <td>CHEMICAL</td>\n",
       "      <td>A compound used experimentally to induce tumor...</td>\n",
       "    </tr>\n",
       "    <tr>\n",
       "      <th>4</th>\n",
       "      <td>1,25-dihydroxyvitamin d(3) 24-hydroxylase, mit...</td>\n",
       "      <td>PROTEIN</td>\n",
       "      <td>1,25-dihydroxyvitamin D(3) 24-hydroxylase, mit...</td>\n",
       "    </tr>\n",
       "    <tr>\n",
       "      <th>...</th>\n",
       "      <td>...</td>\n",
       "      <td>...</td>\n",
       "      <td>...</td>\n",
       "    </tr>\n",
       "    <tr>\n",
       "      <th>28127</th>\n",
       "      <td>zygomycosis</td>\n",
       "      <td>DISEASE</td>\n",
       "      <td>Any infection due to a fungus of the Zygomycot...</td>\n",
       "    </tr>\n",
       "    <tr>\n",
       "      <th>28128</th>\n",
       "      <td>zygomycota</td>\n",
       "      <td>ORGANISM</td>\n",
       "      <td>A phylum of fungi that are characterized by ve...</td>\n",
       "    </tr>\n",
       "    <tr>\n",
       "      <th>28129</th>\n",
       "      <td>zygosity</td>\n",
       "      <td>ORGANISM</td>\n",
       "      <td>The genetic condition of a zygote, especially ...</td>\n",
       "    </tr>\n",
       "    <tr>\n",
       "      <th>28130</th>\n",
       "      <td>zygote</td>\n",
       "      <td>CELL_COMPARTMENT</td>\n",
       "      <td>The cell formed by the union of two gametes, e...</td>\n",
       "    </tr>\n",
       "    <tr>\n",
       "      <th>28131</th>\n",
       "      <td>zyxin</td>\n",
       "      <td>ORGANISM</td>\n",
       "      <td>Zyxin (572 aa, ~61 kDa) is encoded by the huma...</td>\n",
       "    </tr>\n",
       "  </tbody>\n",
       "</table>\n",
       "<p>28132 rows × 3 columns</p>\n",
       "</div>"
      ],
      "text/plain": [
       "                                                  entity       entity_type  \\\n",
       "0       (e3-independent) e2 ubiquitin-conjugating enzyme           PROTEIN   \n",
       "1                                   (h115d)vhl35 peptide          CHEMICAL   \n",
       "2                                  1,1-dimethylhydrazine              DRUG   \n",
       "3                                  1,2-dimethylhydrazine          CHEMICAL   \n",
       "4      1,25-dihydroxyvitamin d(3) 24-hydroxylase, mit...           PROTEIN   \n",
       "...                                                  ...               ...   \n",
       "28127                                        zygomycosis           DISEASE   \n",
       "28128                                         zygomycota          ORGANISM   \n",
       "28129                                           zygosity          ORGANISM   \n",
       "28130                                             zygote  CELL_COMPARTMENT   \n",
       "28131                                              zyxin          ORGANISM   \n",
       "\n",
       "                                              definition  \n",
       "0      (E3-independent) E2 ubiquitin-conjugating enzy...  \n",
       "1      A peptide vaccine derived from the von Hippel-...  \n",
       "2      A clear, colorless, flammable, hygroscopic liq...  \n",
       "3      A compound used experimentally to induce tumor...  \n",
       "4      1,25-dihydroxyvitamin D(3) 24-hydroxylase, mit...  \n",
       "...                                                  ...  \n",
       "28127  Any infection due to a fungus of the Zygomycot...  \n",
       "28128  A phylum of fungi that are characterized by ve...  \n",
       "28129  The genetic condition of a zygote, especially ...  \n",
       "28130  The cell formed by the union of two gametes, e...  \n",
       "28131  Zyxin (572 aa, ~61 kDa) is encoded by the huma...  \n",
       "\n",
       "[28132 rows x 3 columns]"
      ]
     },
     "execution_count": 6,
     "metadata": {},
     "output_type": "execute_result"
    }
   ],
   "source": [
    "entity_data"
   ]
  },
  {
   "cell_type": "markdown",
   "id": "prepared-butler",
   "metadata": {},
   "source": [
    "### Generation of a co-occurrence graph"
   ]
  },
  {
   "cell_type": "markdown",
   "id": "japanese-quilt",
   "metadata": {},
   "source": [
    "We first create a graph whose nodes are entities"
   ]
  },
  {
   "cell_type": "code",
   "execution_count": 7,
   "id": "everyday-provider",
   "metadata": {},
   "outputs": [],
   "source": [
    "graph = PandasPGFrame()\n",
    "entity_nodes = mentions[\"entity\"].unique()\n",
    "graph.add_nodes(entity_nodes)\n",
    "graph.add_node_types({n: \"Entity\" for n in entity_nodes})\n",
    "\n",
    "entity_props = entity_data.rename(columns={\"entity\": \"@id\"}).set_index(\"@id\")\n",
    "graph.add_node_properties(entity_props[\"entity_type\"], prop_type=\"category\")\n",
    "graph.add_node_properties(entity_props[\"definition\"], prop_type=\"text\")"
   ]
  },
  {
   "cell_type": "code",
   "execution_count": 8,
   "id": "respected-plenty",
   "metadata": {},
   "outputs": [],
   "source": [
    "paragraph_prop = pd.DataFrame({\"paragraphs\": mentions.groupby(\"entity\").aggregate(set)[\"paragraph\"]})\n",
    "graph.add_node_properties(paragraph_prop, prop_type=\"category\")"
   ]
  },
  {
   "cell_type": "code",
   "execution_count": 9,
   "id": "australian-rebel",
   "metadata": {},
   "outputs": [
    {
     "data": {
      "text/html": [
       "<div>\n",
       "<style scoped>\n",
       "    .dataframe tbody tr th:only-of-type {\n",
       "        vertical-align: middle;\n",
       "    }\n",
       "\n",
       "    .dataframe tbody tr th {\n",
       "        vertical-align: top;\n",
       "    }\n",
       "\n",
       "    .dataframe thead th {\n",
       "        text-align: right;\n",
       "    }\n",
       "</style>\n",
       "<table border=\"1\" class=\"dataframe\">\n",
       "  <thead>\n",
       "    <tr style=\"text-align: right;\">\n",
       "      <th></th>\n",
       "      <th>@type</th>\n",
       "      <th>entity_type</th>\n",
       "      <th>definition</th>\n",
       "      <th>paragraphs</th>\n",
       "    </tr>\n",
       "    <tr>\n",
       "      <th>@id</th>\n",
       "      <th></th>\n",
       "      <th></th>\n",
       "      <th></th>\n",
       "      <th></th>\n",
       "    </tr>\n",
       "  </thead>\n",
       "  <tbody>\n",
       "    <tr>\n",
       "      <th>lithostathine-1-alpha</th>\n",
       "      <td>Entity</td>\n",
       "      <td>PROTEIN</td>\n",
       "      <td>Lithostathine-1-alpha (166 aa, ~19 kDa) is enc...</td>\n",
       "      <td>{1, 2, 3, 18178, 195589, 104454, 88967, 104455...</td>\n",
       "    </tr>\n",
       "    <tr>\n",
       "      <th>pulmonary</th>\n",
       "      <td>Entity</td>\n",
       "      <td>ORGAN</td>\n",
       "      <td>Relating to the lungs as the intended site of ...</td>\n",
       "      <td>{1, 196612, 196613, 196614, 196621, 196623, 16...</td>\n",
       "    </tr>\n",
       "    <tr>\n",
       "      <th>host</th>\n",
       "      <td>Entity</td>\n",
       "      <td>ORGANISM</td>\n",
       "      <td>An organism that nourishes and supports anothe...</td>\n",
       "      <td>{1, 114689, 3, 221193, 180243, 180247, 28, 180...</td>\n",
       "    </tr>\n",
       "    <tr>\n",
       "      <th>surfactant protein d measurement</th>\n",
       "      <td>Entity</td>\n",
       "      <td>PROTEIN</td>\n",
       "      <td>The determination of the amount of surfactant ...</td>\n",
       "      <td>{145537, 2, 3, 4, 5, 6, 51202, 103939, 103940,...</td>\n",
       "    </tr>\n",
       "    <tr>\n",
       "      <th>communication response</th>\n",
       "      <td>Entity</td>\n",
       "      <td>PATHWAY</td>\n",
       "      <td>A statement (either spoken or written) that is...</td>\n",
       "      <td>{46592, 64000, 2, 28162, 166912, 226304, 88585...</td>\n",
       "    </tr>\n",
       "    <tr>\n",
       "      <th>...</th>\n",
       "      <td>...</td>\n",
       "      <td>...</td>\n",
       "      <td>...</td>\n",
       "      <td>...</td>\n",
       "    </tr>\n",
       "    <tr>\n",
       "      <th>drug binding site</th>\n",
       "      <td>Entity</td>\n",
       "      <td>PATHWAY</td>\n",
       "      <td>The reactive parts of a macromolecule that dir...</td>\n",
       "      <td>{225082, 225079}</td>\n",
       "    </tr>\n",
       "    <tr>\n",
       "      <th>carbaril</th>\n",
       "      <td>Entity</td>\n",
       "      <td>CHEMICAL</td>\n",
       "      <td>A synthetic carbamate acetylcholinesterase inh...</td>\n",
       "      <td>{225408, 225409, 225415, 225419, 225397}</td>\n",
       "    </tr>\n",
       "    <tr>\n",
       "      <th>ny-eso-1 positive tumor cells present</th>\n",
       "      <td>Entity</td>\n",
       "      <td>CELL_TYPE</td>\n",
       "      <td>An indication that Cancer/Testis Antigen 1 exp...</td>\n",
       "      <td>{225544, 226996}</td>\n",
       "    </tr>\n",
       "    <tr>\n",
       "      <th>mustelidae</th>\n",
       "      <td>Entity</td>\n",
       "      <td>ORGANISM</td>\n",
       "      <td>Taxonomic family which includes the Ferret.</td>\n",
       "      <td>{225901, 225903}</td>\n",
       "    </tr>\n",
       "    <tr>\n",
       "      <th>friulian language</th>\n",
       "      <td>Entity</td>\n",
       "      <td>ORGANISM</td>\n",
       "      <td>An Indo-European Romance language spoken in th...</td>\n",
       "      <td>{225901, 225903}</td>\n",
       "    </tr>\n",
       "  </tbody>\n",
       "</table>\n",
       "<p>17989 rows × 4 columns</p>\n",
       "</div>"
      ],
      "text/plain": [
       "                                        @type entity_type  \\\n",
       "@id                                                         \n",
       "lithostathine-1-alpha                  Entity     PROTEIN   \n",
       "pulmonary                              Entity       ORGAN   \n",
       "host                                   Entity    ORGANISM   \n",
       "surfactant protein d measurement       Entity     PROTEIN   \n",
       "communication response                 Entity     PATHWAY   \n",
       "...                                       ...         ...   \n",
       "drug binding site                      Entity     PATHWAY   \n",
       "carbaril                               Entity    CHEMICAL   \n",
       "ny-eso-1 positive tumor cells present  Entity   CELL_TYPE   \n",
       "mustelidae                             Entity    ORGANISM   \n",
       "friulian language                      Entity    ORGANISM   \n",
       "\n",
       "                                                                              definition  \\\n",
       "@id                                                                                        \n",
       "lithostathine-1-alpha                  Lithostathine-1-alpha (166 aa, ~19 kDa) is enc...   \n",
       "pulmonary                              Relating to the lungs as the intended site of ...   \n",
       "host                                   An organism that nourishes and supports anothe...   \n",
       "surfactant protein d measurement       The determination of the amount of surfactant ...   \n",
       "communication response                 A statement (either spoken or written) that is...   \n",
       "...                                                                                  ...   \n",
       "drug binding site                      The reactive parts of a macromolecule that dir...   \n",
       "carbaril                               A synthetic carbamate acetylcholinesterase inh...   \n",
       "ny-eso-1 positive tumor cells present  An indication that Cancer/Testis Antigen 1 exp...   \n",
       "mustelidae                                   Taxonomic family which includes the Ferret.   \n",
       "friulian language                      An Indo-European Romance language spoken in th...   \n",
       "\n",
       "                                                                              paragraphs  \n",
       "@id                                                                                       \n",
       "lithostathine-1-alpha                  {1, 2, 3, 18178, 195589, 104454, 88967, 104455...  \n",
       "pulmonary                              {1, 196612, 196613, 196614, 196621, 196623, 16...  \n",
       "host                                   {1, 114689, 3, 221193, 180243, 180247, 28, 180...  \n",
       "surfactant protein d measurement       {145537, 2, 3, 4, 5, 6, 51202, 103939, 103940,...  \n",
       "communication response                 {46592, 64000, 2, 28162, 166912, 226304, 88585...  \n",
       "...                                                                                  ...  \n",
       "drug binding site                                                       {225082, 225079}  \n",
       "carbaril                                        {225408, 225409, 225415, 225419, 225397}  \n",
       "ny-eso-1 positive tumor cells present                                   {225544, 226996}  \n",
       "mustelidae                                                              {225901, 225903}  \n",
       "friulian language                                                       {225901, 225903}  \n",
       "\n",
       "[17989 rows x 4 columns]"
      ]
     },
     "execution_count": 9,
     "metadata": {},
     "output_type": "execute_result"
    }
   ],
   "source": [
    "graph.nodes(raw_frame=True)"
   ]
  },
  {
   "cell_type": "markdown",
   "id": "consecutive-style",
   "metadata": {},
   "source": [
    "For each node we will add the `frequency` property that counts the total number of paragraphs where the entity was mentioned."
   ]
  },
  {
   "cell_type": "code",
   "execution_count": 10,
   "id": "prescription-utilization",
   "metadata": {},
   "outputs": [],
   "source": [
    "frequencies = graph._nodes[\"paragraphs\"].apply(len)\n",
    "frequencies.name = \"frequency\"\n",
    "graph.add_node_properties(frequencies)"
   ]
  },
  {
   "cell_type": "code",
   "execution_count": 11,
   "id": "cleared-trunk",
   "metadata": {},
   "outputs": [
    {
     "data": {
      "text/html": [
       "<div>\n",
       "<style scoped>\n",
       "    .dataframe tbody tr th:only-of-type {\n",
       "        vertical-align: middle;\n",
       "    }\n",
       "\n",
       "    .dataframe tbody tr th {\n",
       "        vertical-align: top;\n",
       "    }\n",
       "\n",
       "    .dataframe thead th {\n",
       "        text-align: right;\n",
       "    }\n",
       "</style>\n",
       "<table border=\"1\" class=\"dataframe\">\n",
       "  <thead>\n",
       "    <tr style=\"text-align: right;\">\n",
       "      <th></th>\n",
       "      <th>@type</th>\n",
       "      <th>entity_type</th>\n",
       "      <th>definition</th>\n",
       "      <th>paragraphs</th>\n",
       "      <th>frequency</th>\n",
       "    </tr>\n",
       "    <tr>\n",
       "      <th>@id</th>\n",
       "      <th></th>\n",
       "      <th></th>\n",
       "      <th></th>\n",
       "      <th></th>\n",
       "      <th></th>\n",
       "    </tr>\n",
       "  </thead>\n",
       "  <tbody>\n",
       "    <tr>\n",
       "      <th>lithostathine-1-alpha</th>\n",
       "      <td>Entity</td>\n",
       "      <td>PROTEIN</td>\n",
       "      <td>Lithostathine-1-alpha (166 aa, ~19 kDa) is enc...</td>\n",
       "      <td>{1, 2, 3, 18178, 195589, 104454, 88967, 104455...</td>\n",
       "      <td>80</td>\n",
       "    </tr>\n",
       "    <tr>\n",
       "      <th>pulmonary</th>\n",
       "      <td>Entity</td>\n",
       "      <td>ORGAN</td>\n",
       "      <td>Relating to the lungs as the intended site of ...</td>\n",
       "      <td>{1, 196612, 196613, 196614, 196621, 196623, 16...</td>\n",
       "      <td>8295</td>\n",
       "    </tr>\n",
       "    <tr>\n",
       "      <th>host</th>\n",
       "      <td>Entity</td>\n",
       "      <td>ORGANISM</td>\n",
       "      <td>An organism that nourishes and supports anothe...</td>\n",
       "      <td>{1, 114689, 3, 221193, 180243, 180247, 28, 180...</td>\n",
       "      <td>2660</td>\n",
       "    </tr>\n",
       "    <tr>\n",
       "      <th>surfactant protein d measurement</th>\n",
       "      <td>Entity</td>\n",
       "      <td>PROTEIN</td>\n",
       "      <td>The determination of the amount of surfactant ...</td>\n",
       "      <td>{145537, 2, 3, 4, 5, 6, 51202, 103939, 103940,...</td>\n",
       "      <td>268</td>\n",
       "    </tr>\n",
       "    <tr>\n",
       "      <th>communication response</th>\n",
       "      <td>Entity</td>\n",
       "      <td>PATHWAY</td>\n",
       "      <td>A statement (either spoken or written) that is...</td>\n",
       "      <td>{46592, 64000, 2, 28162, 166912, 226304, 88585...</td>\n",
       "      <td>160</td>\n",
       "    </tr>\n",
       "    <tr>\n",
       "      <th>...</th>\n",
       "      <td>...</td>\n",
       "      <td>...</td>\n",
       "      <td>...</td>\n",
       "      <td>...</td>\n",
       "      <td>...</td>\n",
       "    </tr>\n",
       "    <tr>\n",
       "      <th>drug binding site</th>\n",
       "      <td>Entity</td>\n",
       "      <td>PATHWAY</td>\n",
       "      <td>The reactive parts of a macromolecule that dir...</td>\n",
       "      <td>{225082, 225079}</td>\n",
       "      <td>2</td>\n",
       "    </tr>\n",
       "    <tr>\n",
       "      <th>carbaril</th>\n",
       "      <td>Entity</td>\n",
       "      <td>CHEMICAL</td>\n",
       "      <td>A synthetic carbamate acetylcholinesterase inh...</td>\n",
       "      <td>{225408, 225409, 225415, 225419, 225397}</td>\n",
       "      <td>5</td>\n",
       "    </tr>\n",
       "    <tr>\n",
       "      <th>ny-eso-1 positive tumor cells present</th>\n",
       "      <td>Entity</td>\n",
       "      <td>CELL_TYPE</td>\n",
       "      <td>An indication that Cancer/Testis Antigen 1 exp...</td>\n",
       "      <td>{225544, 226996}</td>\n",
       "      <td>2</td>\n",
       "    </tr>\n",
       "    <tr>\n",
       "      <th>mustelidae</th>\n",
       "      <td>Entity</td>\n",
       "      <td>ORGANISM</td>\n",
       "      <td>Taxonomic family which includes the Ferret.</td>\n",
       "      <td>{225901, 225903}</td>\n",
       "      <td>2</td>\n",
       "    </tr>\n",
       "    <tr>\n",
       "      <th>friulian language</th>\n",
       "      <td>Entity</td>\n",
       "      <td>ORGANISM</td>\n",
       "      <td>An Indo-European Romance language spoken in th...</td>\n",
       "      <td>{225901, 225903}</td>\n",
       "      <td>2</td>\n",
       "    </tr>\n",
       "  </tbody>\n",
       "</table>\n",
       "<p>17989 rows × 5 columns</p>\n",
       "</div>"
      ],
      "text/plain": [
       "                                        @type entity_type  \\\n",
       "@id                                                         \n",
       "lithostathine-1-alpha                  Entity     PROTEIN   \n",
       "pulmonary                              Entity       ORGAN   \n",
       "host                                   Entity    ORGANISM   \n",
       "surfactant protein d measurement       Entity     PROTEIN   \n",
       "communication response                 Entity     PATHWAY   \n",
       "...                                       ...         ...   \n",
       "drug binding site                      Entity     PATHWAY   \n",
       "carbaril                               Entity    CHEMICAL   \n",
       "ny-eso-1 positive tumor cells present  Entity   CELL_TYPE   \n",
       "mustelidae                             Entity    ORGANISM   \n",
       "friulian language                      Entity    ORGANISM   \n",
       "\n",
       "                                                                              definition  \\\n",
       "@id                                                                                        \n",
       "lithostathine-1-alpha                  Lithostathine-1-alpha (166 aa, ~19 kDa) is enc...   \n",
       "pulmonary                              Relating to the lungs as the intended site of ...   \n",
       "host                                   An organism that nourishes and supports anothe...   \n",
       "surfactant protein d measurement       The determination of the amount of surfactant ...   \n",
       "communication response                 A statement (either spoken or written) that is...   \n",
       "...                                                                                  ...   \n",
       "drug binding site                      The reactive parts of a macromolecule that dir...   \n",
       "carbaril                               A synthetic carbamate acetylcholinesterase inh...   \n",
       "ny-eso-1 positive tumor cells present  An indication that Cancer/Testis Antigen 1 exp...   \n",
       "mustelidae                                   Taxonomic family which includes the Ferret.   \n",
       "friulian language                      An Indo-European Romance language spoken in th...   \n",
       "\n",
       "                                                                              paragraphs  \\\n",
       "@id                                                                                        \n",
       "lithostathine-1-alpha                  {1, 2, 3, 18178, 195589, 104454, 88967, 104455...   \n",
       "pulmonary                              {1, 196612, 196613, 196614, 196621, 196623, 16...   \n",
       "host                                   {1, 114689, 3, 221193, 180243, 180247, 28, 180...   \n",
       "surfactant protein d measurement       {145537, 2, 3, 4, 5, 6, 51202, 103939, 103940,...   \n",
       "communication response                 {46592, 64000, 2, 28162, 166912, 226304, 88585...   \n",
       "...                                                                                  ...   \n",
       "drug binding site                                                       {225082, 225079}   \n",
       "carbaril                                        {225408, 225409, 225415, 225419, 225397}   \n",
       "ny-eso-1 positive tumor cells present                                   {225544, 226996}   \n",
       "mustelidae                                                              {225901, 225903}   \n",
       "friulian language                                                       {225901, 225903}   \n",
       "\n",
       "                                       frequency  \n",
       "@id                                               \n",
       "lithostathine-1-alpha                         80  \n",
       "pulmonary                                   8295  \n",
       "host                                        2660  \n",
       "surfactant protein d measurement             268  \n",
       "communication response                       160  \n",
       "...                                          ...  \n",
       "drug binding site                              2  \n",
       "carbaril                                       5  \n",
       "ny-eso-1 positive tumor cells present          2  \n",
       "mustelidae                                     2  \n",
       "friulian language                              2  \n",
       "\n",
       "[17989 rows x 5 columns]"
      ]
     },
     "execution_count": 11,
     "metadata": {},
     "output_type": "execute_result"
    }
   ],
   "source": [
    "graph.nodes(raw_frame=True)"
   ]
  },
  {
   "cell_type": "markdown",
   "id": "waiting-jimmy",
   "metadata": {},
   "source": [
    "Now, for constructing co-occurrence network we will select only 1000 most frequent entities."
   ]
  },
  {
   "cell_type": "code",
   "execution_count": 12,
   "id": "sensitive-running",
   "metadata": {},
   "outputs": [],
   "source": [
    "nodes_to_include = graph._nodes.nlargest(1000, \"frequency\").index"
   ]
  },
  {
   "cell_type": "code",
   "execution_count": 13,
   "id": "helpful-lounge",
   "metadata": {},
   "outputs": [
    {
     "data": {
      "text/plain": [
       "Index(['covid-19', 'blood', 'human', 'infectious disorder', 'heart',\n",
       "       'diabetes mellitus', 'lung', 'sars-cov-2', 'mouse', 'pulmonary',\n",
       "       ...\n",
       "       'wheezing', 'chief complaint', 'azathioprine', 'ileum', 'hematology',\n",
       "       'nonalcoholic steatohepatitis', 'nervous system disorder',\n",
       "       'renal impairment', 'urticaria', 'rectum'],\n",
       "      dtype='object', name='@id', length=1000)"
      ]
     },
     "execution_count": 13,
     "metadata": {},
     "output_type": "execute_result"
    }
   ],
   "source": [
    "nodes_to_include"
   ]
  },
  {
   "cell_type": "markdown",
   "id": "wired-train",
   "metadata": {},
   "source": [
    "The `CooccurrenceGenerator` class allows us to generate co-occurrence edges from overlaps in node property values or edge (or edge properties). In this case we consider the `paragraph` node property and construct co-occurrence edges from overlapping sets of paragraphs. In addition, we will compute some co-occurrence statistics: total co-occurrence frequency and normalized pointwise mutual information (NPMI)."
   ]
  },
  {
   "cell_type": "code",
   "execution_count": null,
   "id": "removed-paraguay",
   "metadata": {},
   "outputs": [
    {
     "name": "stdout",
     "output_type": "stream",
     "text": [
      "Examining 499500 pairs of terms for co-occurrence...\n"
     ]
    }
   ],
   "source": [
    "%%time\n",
    "generator = CooccurrenceGenerator(graph.subgraph(nodes=nodes_to_include))\n",
    "paragraph_cooccurrence_edges = generator.generate_from_nodes(\n",
    "    \"paragraphs\", total_factor_instances=number_of_paragraphs,\n",
    "    compute_statistics=[\"frequency\", \"npmi\"],\n",
    "    parallelize=True, cores=8)"
   ]
  },
  {
   "cell_type": "code",
   "execution_count": null,
   "id": "viral-opportunity",
   "metadata": {},
   "outputs": [],
   "source": [
    "cutoff = paragraph_cooccurrence_edges[\"npmi\"].mean()"
   ]
  },
  {
   "cell_type": "code",
   "execution_count": null,
   "id": "incomplete-elizabeth",
   "metadata": {},
   "outputs": [],
   "source": [
    "paragraph_cooccurrence_edges = paragraph_cooccurrence_edges[paragraph_cooccurrence_edges[\"npmi\"] > cutoff]"
   ]
  },
  {
   "cell_type": "markdown",
   "id": "thorough-therapy",
   "metadata": {},
   "source": [
    "We add generated edges to the original graph"
   ]
  },
  {
   "cell_type": "code",
   "execution_count": null,
   "id": "desperate-table",
   "metadata": {},
   "outputs": [],
   "source": [
    "graph._edges = paragraph_cooccurrence_edges\n",
    "graph.edge_prop_as_numeric(\"frequency\")\n",
    "graph.edge_prop_as_numeric(\"npmi\")"
   ]
  },
  {
   "cell_type": "code",
   "execution_count": null,
   "id": "baking-taxation",
   "metadata": {},
   "outputs": [],
   "source": [
    "graph.edges(raw_frame=True)"
   ]
  },
  {
   "cell_type": "markdown",
   "id": "subjective-joint",
   "metadata": {},
   "source": [
    "Recall that we have generated edges only for the 1000 most frequent entities, the rest of the entities will be isolated (having no incident edges). Let us remove all the isolated nodes."
   ]
  },
  {
   "cell_type": "code",
   "execution_count": null,
   "id": "valid-bracket",
   "metadata": {},
   "outputs": [],
   "source": [
    "graph.remove_isolated_nodes()"
   ]
  },
  {
   "cell_type": "code",
   "execution_count": null,
   "id": "adapted-holiday",
   "metadata": {},
   "outputs": [],
   "source": [
    "graph.number_of_nodes()"
   ]
  },
  {
   "cell_type": "markdown",
   "id": "formal-wilson",
   "metadata": {},
   "source": [
    "Next, we save the generated co-occurrence graph."
   ]
  },
  {
   "cell_type": "code",
   "execution_count": null,
   "id": "strong-capital",
   "metadata": {
    "scrolled": true
   },
   "outputs": [],
   "source": [
    "graph.export_json(\"data/cooccurrence_graph.json\")"
   ]
  },
  {
   "cell_type": "code",
   "execution_count": null,
   "id": "sought-arabic",
   "metadata": {},
   "outputs": [],
   "source": [
    "graph = PandasPGFrame.load_json(\"data/cooccurrence_graph.json\")"
   ]
  },
  {
   "cell_type": "markdown",
   "id": "synthetic-nudist",
   "metadata": {},
   "source": [
    "### Node feature extraction\n",
    "\n",
    "We extract node features from entity definitions using the `tfidf` model."
   ]
  },
  {
   "cell_type": "code",
   "execution_count": null,
   "id": "logical-cartridge",
   "metadata": {},
   "outputs": [],
   "source": [
    "encoder = ScikitLearnPGEncoder(\n",
    "    node_properties=[\"definition\"],\n",
    "    text_encoding_max_dimension=512)"
   ]
  },
  {
   "cell_type": "code",
   "execution_count": null,
   "id": "useful-engagement",
   "metadata": {},
   "outputs": [],
   "source": [
    "%%time\n",
    "transformed_graph = encoder.fit_transform(graph)"
   ]
  },
  {
   "cell_type": "markdown",
   "id": "closed-shoot",
   "metadata": {},
   "source": [
    "We can have a glance at the vocabulary that the encoder constructed for the 'definition' property"
   ]
  },
  {
   "cell_type": "code",
   "execution_count": null,
   "id": "operational-truth",
   "metadata": {},
   "outputs": [],
   "source": [
    "vocabulary = encoder._node_encoders[\"definition\"].vocabulary_\n",
    "list(vocabulary.keys())[:10]"
   ]
  },
  {
   "cell_type": "markdown",
   "id": "chief-spider",
   "metadata": {},
   "source": [
    "We will add additional properties to our transformed graph corresponding to the entity type labels. We will also add NPMI as an edge property to this transformed graph."
   ]
  },
  {
   "cell_type": "code",
   "execution_count": null,
   "id": "crucial-devices",
   "metadata": {},
   "outputs": [],
   "source": [
    "transformed_graph.add_node_properties(\n",
    "    graph.get_node_property_values(\"entity_type\"))\n",
    "transformed_graph.add_edge_properties(\n",
    "    graph.get_edge_property_values(\"npmi\"), prop_type=\"numeric\")"
   ]
  },
  {
   "cell_type": "code",
   "execution_count": null,
   "id": "cooked-treasury",
   "metadata": {},
   "outputs": [],
   "source": [
    "transformed_graph.nodes(raw_frame=True)"
   ]
  },
  {
   "cell_type": "markdown",
   "id": "included-domestic",
   "metadata": {},
   "source": [
    "## Node embedding and downstream tasks"
   ]
  },
  {
   "cell_type": "markdown",
   "id": "equipped-corruption",
   "metadata": {},
   "source": [
    "### Node embedding using StellarGraph\n",
    "\n",
    "Using `StellarGraphNodeEmbedder` we construct three different embeddings of our transformed graph corresponding to different embedding techniques."
   ]
  },
  {
   "cell_type": "code",
   "execution_count": null,
   "id": "dried-morgan",
   "metadata": {
    "scrolled": true
   },
   "outputs": [],
   "source": [
    "node2vec_embedder = StellarGraphNodeEmbedder(\n",
    "    \"node2vec\", edge_weight=\"npmi\", embedding_dimension=64, length=10, number_of_walks=20)\n",
    "node2vec_embedding = node2vec_embedder.fit_model(transformed_graph)"
   ]
  },
  {
   "cell_type": "code",
   "execution_count": null,
   "id": "provincial-working",
   "metadata": {
    "scrolled": false
   },
   "outputs": [],
   "source": [
    "attri2vec_embedder = StellarGraphNodeEmbedder(\n",
    "    \"attri2vec\", feature_vector_prop=\"features\",\n",
    "    length=5, number_of_walks=10,\n",
    "    epochs=10, embedding_dimension=128, edge_weight=\"npmi\")\n",
    "attri2vec_embedding = attri2vec_embedder.fit_model(transformed_graph)"
   ]
  },
  {
   "cell_type": "code",
   "execution_count": null,
   "id": "abstract-musician",
   "metadata": {},
   "outputs": [],
   "source": [
    "gcn_dgi_embedder = StellarGraphNodeEmbedder(\n",
    "    \"gcn_dgi\", feature_vector_prop=\"features\", epochs=250, embedding_dimension=512)\n",
    "gcn_dgi_embedding = gcn_dgi_embedder.fit_model(transformed_graph)"
   ]
  },
  {
   "cell_type": "markdown",
   "id": "offshore-soviet",
   "metadata": {},
   "source": [
    "The `fit_model` method produces a dataframe of the following shape"
   ]
  },
  {
   "cell_type": "code",
   "execution_count": null,
   "id": "embedded-pendant",
   "metadata": {},
   "outputs": [],
   "source": [
    "node2vec_embedding"
   ]
  },
  {
   "cell_type": "markdown",
   "id": "following-cylinder",
   "metadata": {},
   "source": [
    "Let us add the embedding vectors obtained using different models as node properties of our graph."
   ]
  },
  {
   "cell_type": "code",
   "execution_count": null,
   "id": "quick-madagascar",
   "metadata": {},
   "outputs": [],
   "source": [
    "transformed_graph.add_node_properties(\n",
    "    node2vec_embedding.rename(columns={\"embedding\": \"node2vec\"}))"
   ]
  },
  {
   "cell_type": "code",
   "execution_count": null,
   "id": "lined-frank",
   "metadata": {},
   "outputs": [],
   "source": [
    "transformed_graph.add_node_properties(\n",
    "    attri2vec_embedding.rename(columns={\"embedding\": \"attri2vec\"}))"
   ]
  },
  {
   "cell_type": "code",
   "execution_count": null,
   "id": "occasional-shipping",
   "metadata": {},
   "outputs": [],
   "source": [
    "transformed_graph.add_node_properties(\n",
    "    gcn_dgi_embedding.rename(columns={\"embedding\": \"gcn_dgi\"}))"
   ]
  },
  {
   "cell_type": "code",
   "execution_count": null,
   "id": "upper-coalition",
   "metadata": {
    "scrolled": false
   },
   "outputs": [],
   "source": [
    "transformed_graph.nodes(raw_frame=True)"
   ]
  },
  {
   "cell_type": "markdown",
   "id": "great-segment",
   "metadata": {},
   "source": [
    "### Plotting the embeddings\n",
    "\n",
    "Having produced the embedding vectors, we can project them into a 2D space using dimensionality reduction techniques such as TSNE (t-distributed Stochastic Neighbor Embedding)."
   ]
  },
  {
   "cell_type": "code",
   "execution_count": null,
   "id": "international-thinking",
   "metadata": {},
   "outputs": [],
   "source": [
    "node2vec_2d = transform_to_2d(transformed_graph._nodes[\"node2vec\"].tolist())"
   ]
  },
  {
   "cell_type": "code",
   "execution_count": null,
   "id": "disturbed-working",
   "metadata": {},
   "outputs": [],
   "source": [
    "attri2vec_2d = transform_to_2d(transformed_graph._nodes[\"attri2vec\"].tolist())"
   ]
  },
  {
   "cell_type": "code",
   "execution_count": null,
   "id": "grateful-plaintiff",
   "metadata": {},
   "outputs": [],
   "source": [
    "gcn_dgi_2d = transform_to_2d(transformed_graph._nodes[\"gcn_dgi\"].tolist())"
   ]
  },
  {
   "cell_type": "markdown",
   "id": "racial-class",
   "metadata": {},
   "source": [
    "We can now plot these 2D vectors using the `plot_2d` util provided by `bluegraph`."
   ]
  },
  {
   "cell_type": "code",
   "execution_count": null,
   "id": "recreational-hunger",
   "metadata": {},
   "outputs": [],
   "source": [
    "plot_2d(transformed_graph, vectors=node2vec_2d, label_prop=\"entity_type\")"
   ]
  },
  {
   "cell_type": "code",
   "execution_count": null,
   "id": "measured-consideration",
   "metadata": {},
   "outputs": [],
   "source": [
    "plot_2d(transformed_graph, vectors=attri2vec_2d, label_prop=\"entity_type\")"
   ]
  },
  {
   "cell_type": "code",
   "execution_count": null,
   "id": "worst-madagascar",
   "metadata": {
    "scrolled": false
   },
   "outputs": [],
   "source": [
    "plot_2d(transformed_graph, vectors=gcn_dgi_2d, label_prop=\"entity_type\")"
   ]
  },
  {
   "cell_type": "markdown",
   "id": "contrary-coffee",
   "metadata": {},
   "source": [
    "### Node similarity"
   ]
  },
  {
   "cell_type": "markdown",
   "id": "nearby-conservation",
   "metadata": {},
   "source": [
    "We would like to be able to search for similar nodes using the computed vector embeddings. For this we can use the `NodeSimilarityProcessor` interfaces provided as a part of `bluegraph`."
   ]
  },
  {
   "cell_type": "markdown",
   "id": "raising-fifty",
   "metadata": {},
   "source": [
    "We construct similarity processors for different embeddings and query top 10 most similar nodes to the terms `glucose` and `covid-19`."
   ]
  },
  {
   "cell_type": "code",
   "execution_count": null,
   "id": "dietary-running",
   "metadata": {},
   "outputs": [],
   "source": [
    "node2vec_l2 = NodeSimilarityProcessor(transformed_graph, \"node2vec\", similarity=\"euclidean\")\n",
    "node2vec_cosine = NodeSimilarityProcessor(\n",
    "    transformed_graph, \"node2vec\", similarity=\"cosine\")"
   ]
  },
  {
   "cell_type": "code",
   "execution_count": null,
   "id": "driving-custom",
   "metadata": {},
   "outputs": [],
   "source": [
    "node2vec_l2.get_similar_nodes([\"glucose\", \"covid-19\"], k=10)"
   ]
  },
  {
   "cell_type": "code",
   "execution_count": null,
   "id": "sized-spyware",
   "metadata": {},
   "outputs": [],
   "source": [
    "node2vec_cosine.get_similar_nodes([\"glucose\", \"covid-19\"], k=10)"
   ]
  },
  {
   "cell_type": "code",
   "execution_count": null,
   "id": "graduate-direction",
   "metadata": {},
   "outputs": [],
   "source": [
    "attri2vec_l2 = NodeSimilarityProcessor(transformed_graph, \"attri2vec\")\n",
    "attri2vec_cosine = NodeSimilarityProcessor(\n",
    "    transformed_graph, \"attri2vec\", similarity=\"cosine\")"
   ]
  },
  {
   "cell_type": "code",
   "execution_count": null,
   "id": "generic-jaguar",
   "metadata": {},
   "outputs": [],
   "source": [
    "attri2vec_l2.get_similar_nodes([\"glucose\", \"covid-19\"], k=10)"
   ]
  },
  {
   "cell_type": "code",
   "execution_count": null,
   "id": "funky-today",
   "metadata": {
    "scrolled": true
   },
   "outputs": [],
   "source": [
    "attri2vec_cosine.get_similar_nodes([\"glucose\", \"covid-19\"], k=10)"
   ]
  },
  {
   "cell_type": "code",
   "execution_count": null,
   "id": "average-layout",
   "metadata": {},
   "outputs": [],
   "source": [
    "gcn_l2 = NodeSimilarityProcessor(transformed_graph, \"gcn_dgi\")\n",
    "gcn_cosine = NodeSimilarityProcessor(\n",
    "    transformed_graph, \"gcn_dgi\", similarity=\"cosine\")"
   ]
  },
  {
   "cell_type": "code",
   "execution_count": null,
   "id": "colonial-senator",
   "metadata": {},
   "outputs": [],
   "source": [
    "gcn_l2.get_similar_nodes([\"glucose\", \"covid-19\"], k=10)"
   ]
  },
  {
   "cell_type": "code",
   "execution_count": null,
   "id": "promising-property",
   "metadata": {
    "scrolled": true
   },
   "outputs": [],
   "source": [
    "gcn_cosine.get_similar_nodes([\"glucose\", \"covid-19\"], k=10)"
   ]
  },
  {
   "cell_type": "markdown",
   "id": "incredible-richmond",
   "metadata": {},
   "source": [
    "### Node clustering\n",
    "\n",
    "We can cluster nodes according to their node embeddings. Often such clustering helps to reveal the community structure encoded in the underlying networks.\n",
    "\n",
    "In this example we will use the `BayesianGaussianMixture` model provided by the scikit-learn to cluster the nodes according to different embeddings into 5 clusters."
   ]
  },
  {
   "cell_type": "code",
   "execution_count": null,
   "id": "fatal-pierre",
   "metadata": {},
   "outputs": [],
   "source": [
    "from sklearn import mixture"
   ]
  },
  {
   "cell_type": "code",
   "execution_count": null,
   "id": "meaningful-compensation",
   "metadata": {},
   "outputs": [],
   "source": [
    "N = 5"
   ]
  },
  {
   "cell_type": "code",
   "execution_count": null,
   "id": "retired-revision",
   "metadata": {},
   "outputs": [],
   "source": [
    "X = transformed_graph.get_node_property_values(\"node2vec\").to_list()\n",
    "gmm = mixture.BayesianGaussianMixture(n_components=N, covariance_type='full').fit(X)\n",
    "node2vec_clusters = gmm.predict(X)"
   ]
  },
  {
   "cell_type": "code",
   "execution_count": null,
   "id": "corrected-silence",
   "metadata": {},
   "outputs": [],
   "source": [
    "X = transformed_graph.get_node_property_values(\"attri2vec\").to_list()\n",
    "gmm = mixture.BayesianGaussianMixture(n_components=5, covariance_type='full').fit(X)\n",
    "attri2vec_clusters = gmm.predict(X)"
   ]
  },
  {
   "cell_type": "code",
   "execution_count": null,
   "id": "compact-reaction",
   "metadata": {},
   "outputs": [],
   "source": [
    "X = transformed_graph.get_node_property_values(\"gcn_dgi\").to_list()\n",
    "gmm = mixture.BayesianGaussianMixture(n_components=5, covariance_type='full').fit(X)\n",
    "gcn_dgi_clusters = gmm.predict(X)"
   ]
  },
  {
   "cell_type": "markdown",
   "id": "blond-plain",
   "metadata": {},
   "source": [
    "Below we inspect the most frequent cluster members."
   ]
  },
  {
   "cell_type": "code",
   "execution_count": null,
   "id": "fifty-protest",
   "metadata": {},
   "outputs": [],
   "source": [
    "def show_top_members(clusters, N):\n",
    "    for i in range(N):\n",
    "        df = transformed_graph._nodes.iloc[np.where(clusters == i)]\n",
    "        df.loc[:, \"frequency\"] = df.index.map(lambda x: graph._nodes.loc[x, \"frequency\"])\n",
    "        print(f\"#{i}: \", \", \".join(df.nlargest(10, columns=[\"frequency\"]).index))"
   ]
  },
  {
   "cell_type": "code",
   "execution_count": null,
   "id": "flush-sport",
   "metadata": {},
   "outputs": [],
   "source": [
    "show_top_members(node2vec_clusters, N)"
   ]
  },
  {
   "cell_type": "code",
   "execution_count": null,
   "id": "interesting-immune",
   "metadata": {},
   "outputs": [],
   "source": [
    "show_top_members(attri2vec_clusters, N)"
   ]
  },
  {
   "cell_type": "code",
   "execution_count": null,
   "id": "suburban-williams",
   "metadata": {},
   "outputs": [],
   "source": [
    "show_top_members(gcn_dgi_clusters, N)"
   ]
  },
  {
   "cell_type": "markdown",
   "id": "bibliographic-florist",
   "metadata": {},
   "source": [
    "We can also use the previously `plot_2d` util and color our 2D nore representation according to the clusters they belong to."
   ]
  },
  {
   "cell_type": "code",
   "execution_count": null,
   "id": "pacific-intention",
   "metadata": {},
   "outputs": [],
   "source": [
    "plot_2d(transformed_graph, vectors=node2vec_2d, labels=node2vec_clusters)"
   ]
  },
  {
   "cell_type": "code",
   "execution_count": null,
   "id": "spoken-irrigation",
   "metadata": {},
   "outputs": [],
   "source": [
    "plot_2d(transformed_graph, vectors=attri2vec_2d, labels=attri2vec_clusters)"
   ]
  },
  {
   "cell_type": "code",
   "execution_count": null,
   "id": "promotional-tension",
   "metadata": {},
   "outputs": [],
   "source": [
    "plot_2d(transformed_graph, vectors=gcn_dgi_2d, labels=gcn_dgi_clusters)"
   ]
  },
  {
   "cell_type": "markdown",
   "id": "useful-highland",
   "metadata": {},
   "source": [
    "### Node classification\n",
    "\n",
    "Another downstream task that we would like to perform is node classification. We would like to automatically assign entity types according to their node embeddings. For this we will build predictive models for entity type prediction based on:\n",
    "\n",
    "- Only node features\n",
    "- Node2vec embeddings (only structure)\n",
    "- Attri2vec embeddings (structure and node features)\n",
    "- GCN Deep Graph Infomax embeddings (structure and node features)"
   ]
  },
  {
   "cell_type": "markdown",
   "id": "recovered-assault",
   "metadata": {},
   "source": [
    "First of all, we split the graph nodes into the train and the test sets."
   ]
  },
  {
   "cell_type": "code",
   "execution_count": null,
   "id": "opponent-tonight",
   "metadata": {},
   "outputs": [],
   "source": [
    "train_nodes, test_nodes = model_selection.train_test_split(\n",
    "    transformed_graph.nodes(), train_size=0.8)"
   ]
  },
  {
   "cell_type": "markdown",
   "id": "brazilian-disability",
   "metadata": {},
   "source": [
    "Now we use the `NodeClassifier` interface to create our classification models. As the base model we will use the linear SVM classifier (`LinearSVC`) provided by `scikit-learn`."
   ]
  },
  {
   "cell_type": "code",
   "execution_count": null,
   "id": "separate-quilt",
   "metadata": {},
   "outputs": [],
   "source": [
    "features_classifier = NodeClassifier(LinearSVC(), feature_vector_prop=\"features\")\n",
    "features_classifier.fit(transformed_graph, train_elements=train_nodes, label_prop=\"entity_type\")\n",
    "features_pred = features_classifier.predict(transformed_graph, predict_elements=test_nodes)"
   ]
  },
  {
   "cell_type": "code",
   "execution_count": null,
   "id": "spectacular-vocabulary",
   "metadata": {},
   "outputs": [],
   "source": [
    "node2vec_classifier = NodeClassifier(LinearSVC(), feature_vector_prop=\"node2vec\")\n",
    "node2vec_classifier.fit(transformed_graph, train_elements=train_nodes, label_prop=\"entity_type\")\n",
    "node2vec_pred = node2vec_classifier.predict(transformed_graph, predict_elements=test_nodes)"
   ]
  },
  {
   "cell_type": "code",
   "execution_count": null,
   "id": "british-scratch",
   "metadata": {},
   "outputs": [],
   "source": [
    "attri2vec_classifier = NodeClassifier(LinearSVC(), feature_vector_prop=\"attri2vec\")\n",
    "attri2vec_classifier.fit(transformed_graph, train_elements=train_nodes, label_prop=\"entity_type\")\n",
    "attri2vec_pred = attri2vec_classifier.predict(transformed_graph, predict_elements=test_nodes)"
   ]
  },
  {
   "cell_type": "code",
   "execution_count": null,
   "id": "altered-settlement",
   "metadata": {},
   "outputs": [],
   "source": [
    "gcn_dgi_classifier = NodeClassifier(LinearSVC(), feature_vector_prop=\"gcn_dgi\")\n",
    "gcn_dgi_classifier.fit(transformed_graph, train_elements=train_nodes, label_prop=\"entity_type\")\n",
    "gcn_dgi_pred = gcn_dgi_classifier.predict(transformed_graph, predict_elements=test_nodes)"
   ]
  },
  {
   "cell_type": "markdown",
   "id": "restricted-multiple",
   "metadata": {},
   "source": [
    "Let us have a look at the scores of different node classification models we have produced."
   ]
  },
  {
   "cell_type": "code",
   "execution_count": null,
   "id": "simple-bhutan",
   "metadata": {},
   "outputs": [],
   "source": [
    "true_labels = transformed_graph._nodes.loc[test_nodes, \"entity_type\"]"
   ]
  },
  {
   "cell_type": "code",
   "execution_count": null,
   "id": "sonic-louisville",
   "metadata": {
    "scrolled": true
   },
   "outputs": [],
   "source": [
    "get_classification_scores(true_labels, features_pred, multiclass=True)"
   ]
  },
  {
   "cell_type": "code",
   "execution_count": null,
   "id": "timely-testing",
   "metadata": {},
   "outputs": [],
   "source": [
    "get_classification_scores(true_labels, node2vec_pred, multiclass=True)"
   ]
  },
  {
   "cell_type": "code",
   "execution_count": null,
   "id": "indie-interstate",
   "metadata": {},
   "outputs": [],
   "source": [
    "get_classification_scores(true_labels, attri2vec_pred, multiclass=True)"
   ]
  },
  {
   "cell_type": "code",
   "execution_count": null,
   "id": "forced-printing",
   "metadata": {},
   "outputs": [],
   "source": [
    "get_classification_scores(true_labels, gcn_dgi_pred, multiclass=True)"
   ]
  },
  {
   "cell_type": "markdown",
   "id": "unexpected-harvard",
   "metadata": {},
   "source": [
    "## Link prediction"
   ]
  },
  {
   "cell_type": "markdown",
   "id": "german-operator",
   "metadata": {},
   "source": [
    "Finally, we would like to use the produced node embeddings to predict the existance of edges. This downstream task is formulated as follows: given a pair of nodes and their embedding vectors, is there an edge between these nodes?"
   ]
  },
  {
   "cell_type": "markdown",
   "id": "varying-energy",
   "metadata": {},
   "source": [
    "As the first step of the edges prediciton task we will generate false edges for training (node pairs that don't have edges between them)."
   ]
  },
  {
   "cell_type": "code",
   "execution_count": null,
   "id": "extended-immigration",
   "metadata": {},
   "outputs": [],
   "source": [
    "false_edges = generate_negative_edges(transformed_graph)"
   ]
  },
  {
   "cell_type": "markdown",
   "id": "serious-brazilian",
   "metadata": {},
   "source": [
    "We will now split both true and false edges into training and test sets."
   ]
  },
  {
   "cell_type": "code",
   "execution_count": null,
   "id": "heated-mississippi",
   "metadata": {},
   "outputs": [],
   "source": [
    "true_train_edges, true_test_edges = model_selection.train_test_split(\n",
    "    transformed_graph.edges(), train_size=0.8)"
   ]
  },
  {
   "cell_type": "code",
   "execution_count": null,
   "id": "introductory-duncan",
   "metadata": {},
   "outputs": [],
   "source": [
    "false_train_edges, false_test_edges = model_selection.train_test_split(\n",
    "    false_edges, train_size=0.8)"
   ]
  },
  {
   "cell_type": "markdown",
   "id": "cardiovascular-baseball",
   "metadata": {},
   "source": [
    "And, finally, we will use the `EdgePredictor` interface to build our model (using `LinearSVC` as before and the Hadamard product as the binary operator between the embedding vectors for the source and the target nodes."
   ]
  },
  {
   "cell_type": "code",
   "execution_count": null,
   "id": "devoted-plaza",
   "metadata": {},
   "outputs": [],
   "source": [
    "model = EdgePredictor(LinearSVC(), feature_vector_prop=\"node2vec\",\n",
    "                      operator=\"hadamard\", directed=False)\n",
    "model.fit(transformed_graph, true_train_edges, negative_samples=false_train_edges)"
   ]
  },
  {
   "cell_type": "code",
   "execution_count": null,
   "id": "changed-policy",
   "metadata": {},
   "outputs": [],
   "source": [
    "true_labels = np.hstack([\n",
    "    np.ones(len(true_test_edges)),\n",
    "    np.zeros(len(false_test_edges))])"
   ]
  },
  {
   "cell_type": "code",
   "execution_count": null,
   "id": "adapted-procedure",
   "metadata": {},
   "outputs": [],
   "source": [
    "y_pred = model.predict(transformed_graph, true_test_edges + false_test_edges)"
   ]
  },
  {
   "cell_type": "markdown",
   "id": "center-installation",
   "metadata": {},
   "source": [
    "Let us have a look at the obtained scores."
   ]
  },
  {
   "cell_type": "code",
   "execution_count": null,
   "id": "inclusive-forwarding",
   "metadata": {
    "scrolled": true
   },
   "outputs": [],
   "source": [
    "get_classification_scores(true_labels, y_pred)"
   ]
  },
  {
   "cell_type": "markdown",
   "id": "democratic-patio",
   "metadata": {},
   "source": [
    "## Creating and saving embedding pipelines\n",
    "\n",
    "`bluegraph` allows to create emebedding pipelines (using the `EmbeddingPipeline` class) that represent a useful wrapper around a sequence of steps necessary to produce embeddings and compute point similarities. In the example below we create a pipeline for producing `attri2vec` node embeddings and computing their cosine similarity."
   ]
  },
  {
   "cell_type": "markdown",
   "id": "egyptian-patch",
   "metadata": {},
   "source": [
    "We first create an encoder object that will be used in our pipeline as a preprocessing step."
   ]
  },
  {
   "cell_type": "code",
   "execution_count": null,
   "id": "august-mineral",
   "metadata": {},
   "outputs": [],
   "source": [
    "definition_encoder = ScikitLearnPGEncoder(\n",
    "    node_properties=[\"definition\"], text_encoding_max_dimension=512)"
   ]
  },
  {
   "cell_type": "markdown",
   "id": "falling-favorite",
   "metadata": {},
   "source": [
    "We then create an embedder object."
   ]
  },
  {
   "cell_type": "code",
   "execution_count": null,
   "id": "athletic-magnitude",
   "metadata": {},
   "outputs": [],
   "source": [
    "D = 128\n",
    "params = {\n",
    "    \"length\": 5,\n",
    "    \"number_of_walks\": 10,\n",
    "    \"epochs\": 5,\n",
    "    \"embedding_dimension\": D\n",
    "}\n",
    "attri2vec_embedder = StellarGraphNodeEmbedder(\n",
    "    \"attri2vec\", feature_vector_prop=\"features\", edge_weight=\"npmi\", **params)"
   ]
  },
  {
   "cell_type": "markdown",
   "id": "hazardous-restoration",
   "metadata": {},
   "source": [
    "And finally we create a pipeline object. Note that in the code below we use the `SimilarityProcessor` interface and not `NodeSimilarityProcessor`, as we have done it previously. We use this lower abstraction level interface, because the `EmbeddingPipeline` is designed to work with any embedding models (not only node embedding models)."
   ]
  },
  {
   "cell_type": "code",
   "execution_count": null,
   "id": "phantom-magnet",
   "metadata": {},
   "outputs": [],
   "source": [
    "attri2vec_pipeline = EmbeddingPipeline(\n",
    "    preprocessor=definition_encoder,\n",
    "    embedder=attri2vec_embedder,\n",
    "    similarity_processor=SimilarityProcessor(similarity=\"cosine\", dimension=D))"
   ]
  },
  {
   "cell_type": "markdown",
   "id": "neural-basics",
   "metadata": {},
   "source": [
    "We run the fitting process, which given the input data:\n",
    "1. fits the encoder\n",
    "2. transforms the data\n",
    "3. fits the embedder\n",
    "4. produces the embedding table\n",
    "5. fits the similarity processor index"
   ]
  },
  {
   "cell_type": "code",
   "execution_count": null,
   "id": "charming-short",
   "metadata": {},
   "outputs": [],
   "source": [
    "attri2vec_pipeline.run_fitting(graph)"
   ]
  },
  {
   "cell_type": "markdown",
   "id": "designed-blake",
   "metadata": {},
   "source": [
    "How we can save our pipeline to the file system."
   ]
  },
  {
   "cell_type": "code",
   "execution_count": null,
   "id": "satisfied-senegal",
   "metadata": {},
   "outputs": [],
   "source": [
    "attri2vec_pipeline.save(\n",
    "    \"../../BlueBrainEmbedder/models/attri2vec_test_model\",\n",
    "    compress=True)"
   ]
  },
  {
   "cell_type": "markdown",
   "id": "hundred-shoot",
   "metadata": {},
   "source": [
    "And we can load the pipeline back into memory:"
   ]
  },
  {
   "cell_type": "code",
   "execution_count": null,
   "id": "republican-interstate",
   "metadata": {},
   "outputs": [],
   "source": [
    "pipeline = EmbeddingPipeline.load(\n",
    "    \"../../BlueBrainEmbedder/models/attri2vec_test_model.zip\",\n",
    "    embedder_interface=GraphElementEmbedder,\n",
    "    embedder_ext=\"zip\")"
   ]
  },
  {
   "cell_type": "markdown",
   "id": "national-liberal",
   "metadata": {},
   "source": [
    "We can use `retrieve_embeddings` and `get_similar_points` methods of the pipeline object to respectively get embedding vectors and top most similar nodes for the input nodes."
   ]
  },
  {
   "cell_type": "code",
   "execution_count": null,
   "id": "attended-patient",
   "metadata": {},
   "outputs": [],
   "source": [
    "pipeline.retrieve_embeddings([\"covid-19\", \"glucose\"])"
   ]
  },
  {
   "cell_type": "code",
   "execution_count": null,
   "id": "brief-insertion",
   "metadata": {},
   "outputs": [],
   "source": [
    "pipeline.get_similar_points([\"covid-19\", \"glucose\"], k=5)"
   ]
  }
 ],
 "metadata": {
  "kernelspec": {
   "display_name": "bluegraph",
   "language": "python",
   "name": "bluegraph"
  },
  "language_info": {
   "codemirror_mode": {
    "name": "ipython",
    "version": 3
   },
   "file_extension": ".py",
   "mimetype": "text/x-python",
   "name": "python",
   "nbconvert_exporter": "python",
   "pygments_lexer": "ipython3",
   "version": "3.6.12"
  }
 },
 "nbformat": 4,
 "nbformat_minor": 5
}
