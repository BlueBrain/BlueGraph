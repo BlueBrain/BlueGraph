{
 "cells": [
  {
   "cell_type": "code",
   "execution_count": 1,
   "id": "worse-scholar",
   "metadata": {},
   "outputs": [],
   "source": [
    "import bluegraph"
   ]
  },
  {
   "cell_type": "code",
   "execution_count": 12,
   "id": "purple-biodiversity",
   "metadata": {},
   "outputs": [],
   "source": [
    "from bluegraph import graph_tool"
   ]
  },
  {
   "cell_type": "code",
   "execution_count": 13,
   "id": "swedish-visibility",
   "metadata": {},
   "outputs": [],
   "source": [
    "p = graph_tool.GTMetricProcessor()"
   ]
  },
  {
   "cell_type": "code",
   "execution_count": 14,
   "id": "nearby-cleaner",
   "metadata": {},
   "outputs": [
    {
     "ename": "ModuleNotFoundError",
     "evalue": "No module named 'bluegraph.graph_tool'",
     "output_type": "error",
     "traceback": [
      "\u001b[0;31m---------------------------------------------------------------------------\u001b[0m",
      "\u001b[0;31mModuleNotFoundError\u001b[0m                       Traceback (most recent call last)",
      "\u001b[0;32m<ipython-input-14-9d173f96f9c8>\u001b[0m in \u001b[0;36m<module>\u001b[0;34m\u001b[0m\n\u001b[0;32m----> 1\u001b[0;31m \u001b[0;32mfrom\u001b[0m \u001b[0mbluegraph\u001b[0m\u001b[0;34m.\u001b[0m\u001b[0mgraph_tool\u001b[0m \u001b[0;32mimport\u001b[0m \u001b[0mGTPathFinder\u001b[0m\u001b[0;34m\u001b[0m\u001b[0;34m\u001b[0m\u001b[0m\n\u001b[0m",
      "\u001b[0;31mModuleNotFoundError\u001b[0m: No module named 'bluegraph.graph_tool'"
     ]
    }
   ],
   "source": [
    "from bluegraph.graph_tool import GTPathFinder"
   ]
  },
  {
   "cell_type": "code",
   "execution_count": 15,
   "id": "refined-psychology",
   "metadata": {},
   "outputs": [
    {
     "ename": "NameError",
     "evalue": "name 'GTMetricProcessor' is not defined",
     "output_type": "error",
     "traceback": [
      "\u001b[0;31m---------------------------------------------------------------------------\u001b[0m",
      "\u001b[0;31mNameError\u001b[0m                                 Traceback (most recent call last)",
      "\u001b[0;32m<ipython-input-15-f62215cbfb7f>\u001b[0m in \u001b[0;36m<module>\u001b[0;34m\u001b[0m\n\u001b[0;32m----> 1\u001b[0;31m \u001b[0mp\u001b[0m \u001b[0;34m=\u001b[0m \u001b[0mGTMetricProcessor\u001b[0m\u001b[0;34m(\u001b[0m\u001b[0;34m)\u001b[0m\u001b[0;34m\u001b[0m\u001b[0;34m\u001b[0m\u001b[0m\n\u001b[0m",
      "\u001b[0;31mNameError\u001b[0m: name 'GTMetricProcessor' is not defined"
     ]
    }
   ],
   "source": [
    "p = GTMetricProcessor()"
   ]
  },
  {
   "cell_type": "code",
   "execution_count": 5,
   "id": "brilliant-housing",
   "metadata": {},
   "outputs": [
    {
     "ename": "ModuleNotFoundError",
     "evalue": "No module named 'bluegraph.graph_tool'",
     "output_type": "error",
     "traceback": [
      "\u001b[0;31m---------------------------------------------------------------------------\u001b[0m",
      "\u001b[0;31mModuleNotFoundError\u001b[0m                       Traceback (most recent call last)",
      "\u001b[0;32m<ipython-input-5-20621d70be46>\u001b[0m in \u001b[0;36m<module>\u001b[0;34m\u001b[0m\n\u001b[0;32m----> 1\u001b[0;31m \u001b[0;32mimport\u001b[0m \u001b[0mbluegraph\u001b[0m\u001b[0;34m.\u001b[0m\u001b[0mgraph_tool\u001b[0m\u001b[0;34m.\u001b[0m\u001b[0manalyse\u001b[0m\u001b[0;34m\u001b[0m\u001b[0;34m\u001b[0m\u001b[0m\n\u001b[0m",
      "\u001b[0;31mModuleNotFoundError\u001b[0m: No module named 'bluegraph.graph_tool'"
     ]
    }
   ],
   "source": [
    "import bluegraph.graph_tool.analyse"
   ]
  },
  {
   "cell_type": "code",
   "execution_count": 7,
   "id": "enabling-comment",
   "metadata": {},
   "outputs": [
    {
     "ename": "ModuleNotFoundError",
     "evalue": "No module named 'bluegraph.graph_tool'",
     "output_type": "error",
     "traceback": [
      "\u001b[0;31m---------------------------------------------------------------------------\u001b[0m",
      "\u001b[0;31mModuleNotFoundError\u001b[0m                       Traceback (most recent call last)",
      "\u001b[0;32m<ipython-input-7-66b92be249a6>\u001b[0m in \u001b[0;36m<module>\u001b[0;34m\u001b[0m\n\u001b[0;32m----> 1\u001b[0;31m \u001b[0;32mimport\u001b[0m \u001b[0mbluegraph\u001b[0m\u001b[0;34m.\u001b[0m\u001b[0mgraph_tool\u001b[0m \u001b[0;32mas\u001b[0m \u001b[0mgt\u001b[0m\u001b[0;34m\u001b[0m\u001b[0;34m\u001b[0m\u001b[0m\n\u001b[0m",
      "\u001b[0;31mModuleNotFoundError\u001b[0m: No module named 'bluegraph.graph_tool'"
     ]
    }
   ],
   "source": [
    "import bluegraph.graph_tool as gt "
   ]
  },
  {
   "cell_type": "code",
   "execution_count": 4,
   "id": "waiting-management",
   "metadata": {},
   "outputs": [
    {
     "ename": "ModuleNotFoundError",
     "evalue": "No module named 'bluegraph.graph_tool'",
     "output_type": "error",
     "traceback": [
      "\u001b[0;31m---------------------------------------------------------------------------\u001b[0m",
      "\u001b[0;31mModuleNotFoundError\u001b[0m                       Traceback (most recent call last)",
      "\u001b[0;32m<ipython-input-4-9d173f96f9c8>\u001b[0m in \u001b[0;36m<module>\u001b[0;34m\u001b[0m\n\u001b[0;32m----> 1\u001b[0;31m \u001b[0;32mfrom\u001b[0m \u001b[0mbluegraph\u001b[0m\u001b[0;34m.\u001b[0m\u001b[0mgraph_tool\u001b[0m \u001b[0;32mimport\u001b[0m \u001b[0mGTPathFinder\u001b[0m\u001b[0;34m\u001b[0m\u001b[0;34m\u001b[0m\u001b[0m\n\u001b[0m",
      "\u001b[0;31mModuleNotFoundError\u001b[0m: No module named 'bluegraph.graph_tool'"
     ]
    }
   ],
   "source": [
    "from bluegraph.graph_tool import GTPathFinder"
   ]
  },
  {
   "cell_type": "code",
   "execution_count": 16,
   "id": "thousand-narrative",
   "metadata": {},
   "outputs": [],
   "source": [
    "from bluegraph.backends.graph_tool import GTPathFinder, GTMetricProcessor"
   ]
  },
  {
   "cell_type": "code",
   "execution_count": 3,
   "id": "through-douglas",
   "metadata": {},
   "outputs": [],
   "source": [
    "from bluegraph.backends.graph_tool.analyse.metrics import GTMetricProcessor\n",
    "from bluegraph.backends.graph_tool.analyse.paths import GTPathFinder"
   ]
  },
  {
   "cell_type": "code",
   "execution_count": null,
   "id": "mighty-savings",
   "metadata": {},
   "outputs": [],
   "source": [
    "from bluegraph import "
   ]
  }
 ],
 "metadata": {
  "kernelspec": {
   "display_name": "bluegraph",
   "language": "python",
   "name": "bluegraph"
  },
  "language_info": {
   "codemirror_mode": {
    "name": "ipython",
    "version": 3
   },
   "file_extension": ".py",
   "mimetype": "text/x-python",
   "name": "python",
   "nbconvert_exporter": "python",
   "pygments_lexer": "ipython3",
   "version": "3.6.12"
  }
 },
 "nbformat": 4,
 "nbformat_minor": 5
}
