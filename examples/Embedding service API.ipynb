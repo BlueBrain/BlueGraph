{
 "cells": [
  {
   "cell_type": "markdown",
   "metadata": {},
   "source": [
    "# Embedding service API"
   ]
  },
  {
   "cell_type": "markdown",
   "metadata": {},
   "source": [
    "Run the service by, first, exporting your [staging]() token using `export NEXUS_TOKEN=<your_token>`. And then running `flask run`."
   ]
  },
  {
   "cell_type": "code",
   "execution_count": 8,
   "metadata": {},
   "outputs": [],
   "source": [
    "import requests"
   ]
  },
  {
   "cell_type": "markdown",
   "metadata": {},
   "source": [
    "## Get all the models in the catalogue"
   ]
  },
  {
   "cell_type": "code",
   "execution_count": 9,
   "metadata": {},
   "outputs": [
    {
     "name": "stdout",
     "output_type": "stream",
     "text": [
      "<Response [200]>\n"
     ]
    },
    {
     "data": {
      "text/plain": [
       "{'models': {'Test attri2vec model': {'id': 'https://staging.nexus.ocp.bbp.epfl.ch/v1/resources/dke/embedder_catalog/_/0fb24112-8b91-48fc-979d-f47e422fd35f',\n",
       "   'name': 'Test attri2vec model',\n",
       "   'description': 'Node embedding model built on the Covid dataset',\n",
       "   'filename': 'attri2vec_test_model.zip',\n",
       "   'created': '2021-03-05T14:09:28.593865Z',\n",
       "   'modified': '2021-03-05T14:09:28.593865Z'}}}"
      ]
     },
     "execution_count": 9,
     "metadata": {},
     "output_type": "execute_result"
    }
   ],
   "source": [
    "r = requests.get(\n",
    "    'http://127.0.0.1:5000/models/')\n",
    "print(r)\n",
    "r.json()"
   ]
  },
  {
   "cell_type": "markdown",
   "metadata": {},
   "source": [
    "## Get details on different model components"
   ]
  },
  {
   "cell_type": "code",
   "execution_count": 18,
   "metadata": {},
   "outputs": [
    {
     "name": "stdout",
     "output_type": "stream",
     "text": [
      "<Response [200]>\n"
     ]
    },
    {
     "data": {
      "text/plain": [
       "{'heterogeneous': False,\n",
       " 'drop_types': False,\n",
       " 'encode_types': False,\n",
       " 'edge_features': False,\n",
       " 'categorical_encoding': 'multibin',\n",
       " 'text_encoding': 'tfidf',\n",
       " 'text_encoding_max_dimension': 512,\n",
       " 'missing_numeric': 'drop',\n",
       " 'imputation_strategy': 'mean',\n",
       " 'standardize_numeric': True,\n",
       " 'node_properties': ['definition'],\n",
       " 'edge_properties': None,\n",
       " 'interface': 'ScikitLearnPGEncoder'}"
      ]
     },
     "execution_count": 18,
     "metadata": {},
     "output_type": "execute_result"
    }
   ],
   "source": [
    "r = requests.get(\n",
    "    'http://127.0.0.1:5000/model/details/preprocessor/',\n",
    "    params={\n",
    "        \"name\": \"Test attri2vec model\"\n",
    "    })\n",
    "print(r)\n",
    "r.json()"
   ]
  },
  {
   "cell_type": "code",
   "execution_count": 19,
   "metadata": {},
   "outputs": [
    {
     "name": "stdout",
     "output_type": "stream",
     "text": [
      "<Response [200]>\n"
     ]
    },
    {
     "data": {
      "text/plain": [
       "{'interface': 'StellarGraphNodeEmbedder',\n",
       " 'model_type': 'inductive',\n",
       " 'trained': 'True',\n",
       " 'model_name': 'attri2vec',\n",
       " 'model_params': {'length': 5,\n",
       "  'number_of_walks': 10,\n",
       "  'epochs': 5,\n",
       "  'embedding_dimension': 128,\n",
       "  'batch_size': 20,\n",
       "  'negative_samples': 10,\n",
       "  'num_samples': [10, 5],\n",
       "  'random_walk_p': 0.5,\n",
       "  'random_walk_q': 2.0,\n",
       "  'clusters': 2,\n",
       "  'clusters_q': 1},\n",
       " 'graph_configs': {'directed': True,\n",
       "  'include_type': False,\n",
       "  'feature_props': None,\n",
       "  'feature_vector_prop': 'features',\n",
       "  'edge_weight': 'npmi'}}"
      ]
     },
     "execution_count": 19,
     "metadata": {},
     "output_type": "execute_result"
    }
   ],
   "source": [
    "r = requests.get(\n",
    "    'http://127.0.0.1:5000/model/details/embedder/',\n",
    "    params={\n",
    "        \"name\": \"Test attri2vec model\"\n",
    "    })\n",
    "print(r)\n",
    "r.json()"
   ]
  },
  {
   "cell_type": "code",
   "execution_count": 20,
   "metadata": {},
   "outputs": [
    {
     "name": "stdout",
     "output_type": "stream",
     "text": [
      "<Response [200]>\n"
     ]
    },
    {
     "data": {
      "text/plain": [
       "{'similarity': 'cosine',\n",
       " 'dimension': 128,\n",
       " 'segmented': False,\n",
       " 'interface': 'SimilarityProcessor'}"
      ]
     },
     "execution_count": 20,
     "metadata": {},
     "output_type": "execute_result"
    }
   ],
   "source": [
    "r = requests.get(\n",
    "    'http://127.0.0.1:5000/model/details/similarity-processor/',\n",
    "    params={\n",
    "        \"name\": \"Test attri2vec model\"\n",
    "    })\n",
    "print(r)\n",
    "r.json()"
   ]
  },
  {
   "cell_type": "markdown",
   "metadata": {},
   "source": [
    "## Get resource embeddings"
   ]
  },
  {
   "cell_type": "code",
   "execution_count": 21,
   "metadata": {
    "scrolled": true
   },
   "outputs": [
    {
     "name": "stdout",
     "output_type": "stream",
     "text": [
      "<Response [200]>\n",
      "CPU times: user 5.94 ms, sys: 2.64 ms, total: 8.58 ms\n",
      "Wall time: 9.91 ms\n"
     ]
    },
    {
     "data": {
      "text/plain": [
       "{'embeddings': {'dna replication': [0.07164812088012695,\n",
       "   0.07756295800209045,\n",
       "   0.0569116473197937,\n",
       "   0.051368534564971924,\n",
       "   0.07309478521347046,\n",
       "   0.08538609743118286,\n",
       "   0.06472799181938171,\n",
       "   0.06495746970176697,\n",
       "   0.06184706091880798,\n",
       "   0.0522160530090332,\n",
       "   0.049841344356536865,\n",
       "   0.06333291530609131,\n",
       "   0.06374534964561462,\n",
       "   0.056498557329177856,\n",
       "   0.05183088779449463,\n",
       "   0.04495397210121155,\n",
       "   0.0541052520275116,\n",
       "   0.052536219358444214,\n",
       "   0.0360034704208374,\n",
       "   0.03352463245391846,\n",
       "   0.06796756386756897,\n",
       "   0.05813342332839966,\n",
       "   0.07896772027015686,\n",
       "   0.062244415283203125,\n",
       "   0.0480460524559021,\n",
       "   0.051534414291381836,\n",
       "   0.059615641832351685,\n",
       "   0.05519720911979675,\n",
       "   0.0645219087600708,\n",
       "   0.055949240922927856,\n",
       "   0.09286651015281677,\n",
       "   0.05681219696998596,\n",
       "   0.056948333978652954,\n",
       "   0.04469597339630127,\n",
       "   0.06077474355697632,\n",
       "   0.05059939622879028,\n",
       "   0.04572010040283203,\n",
       "   0.08580374717712402,\n",
       "   0.048861920833587646,\n",
       "   0.05425804853439331,\n",
       "   0.057908713817596436,\n",
       "   0.06183186173439026,\n",
       "   0.05514305830001831,\n",
       "   0.06334209442138672,\n",
       "   0.07047945261001587,\n",
       "   0.06349995732307434,\n",
       "   0.06935256719589233,\n",
       "   0.06425890326499939,\n",
       "   0.07012012600898743,\n",
       "   0.061144739389419556,\n",
       "   0.056027621030807495,\n",
       "   0.06274721026420593,\n",
       "   0.06463298201560974,\n",
       "   0.06311702728271484,\n",
       "   0.06579166650772095,\n",
       "   0.05745026469230652,\n",
       "   0.05578571557998657,\n",
       "   0.05491867661476135,\n",
       "   0.04329824447631836,\n",
       "   0.05648055672645569,\n",
       "   0.07617422938346863,\n",
       "   0.08964097499847412,\n",
       "   0.049409717321395874,\n",
       "   0.06243029236793518,\n",
       "   0.05398678779602051,\n",
       "   0.05781543254852295,\n",
       "   0.04173088073730469,\n",
       "   0.06723323464393616,\n",
       "   0.06671199202537537,\n",
       "   0.06271672248840332,\n",
       "   0.07193821668624878,\n",
       "   0.05235829949378967,\n",
       "   0.050138503313064575,\n",
       "   0.07568323612213135,\n",
       "   0.06804713606834412,\n",
       "   0.04802164435386658,\n",
       "   0.05234241485595703,\n",
       "   0.09071505069732666,\n",
       "   0.08179962635040283,\n",
       "   0.05682778358459473,\n",
       "   0.04923516511917114,\n",
       "   0.08276021480560303,\n",
       "   0.04339990019798279,\n",
       "   0.06996601819992065,\n",
       "   0.0570356547832489,\n",
       "   0.09059277176856995,\n",
       "   0.04792988300323486,\n",
       "   0.0726606547832489,\n",
       "   0.06400200724601746,\n",
       "   0.05573993921279907,\n",
       "   0.06981289386749268,\n",
       "   0.04467687010765076,\n",
       "   0.05433470010757446,\n",
       "   0.06809407472610474,\n",
       "   0.04698377847671509,\n",
       "   0.048660844564437866,\n",
       "   0.06856247782707214,\n",
       "   0.05303925275802612,\n",
       "   0.06186556816101074,\n",
       "   0.044729024171829224,\n",
       "   0.0580824613571167,\n",
       "   0.05947083234786987,\n",
       "   0.07138743996620178,\n",
       "   0.07813060283660889,\n",
       "   0.07317373156547546,\n",
       "   0.04782134294509888,\n",
       "   0.06921383738517761,\n",
       "   0.03921458125114441,\n",
       "   0.0497799813747406,\n",
       "   0.057224541902542114,\n",
       "   0.057142674922943115,\n",
       "   0.05742150545120239,\n",
       "   0.0573788583278656,\n",
       "   0.056297242641448975,\n",
       "   0.052618205547332764,\n",
       "   0.06932830810546875,\n",
       "   0.050202637910842896,\n",
       "   0.04564210772514343,\n",
       "   0.08020728826522827,\n",
       "   0.05223473906517029,\n",
       "   0.07632917165756226,\n",
       "   0.04306793212890625,\n",
       "   0.04539293050765991,\n",
       "   0.055775851011276245,\n",
       "   0.07294526696205139,\n",
       "   0.07084771990776062,\n",
       "   0.055567264556884766,\n",
       "   0.05809435248374939],\n",
       "  'glucose': [0.08222413063049316,\n",
       "   0.09804978966712952,\n",
       "   0.07964056730270386,\n",
       "   0.08615928888320923,\n",
       "   0.08160391449928284,\n",
       "   0.09330129623413086,\n",
       "   0.09039300680160522,\n",
       "   0.07864421606063843,\n",
       "   0.09700137376785278,\n",
       "   0.06889519095420837,\n",
       "   0.08810320496559143,\n",
       "   0.09972158074378967,\n",
       "   0.07647198438644409,\n",
       "   0.10423046350479126,\n",
       "   0.0729411244392395,\n",
       "   0.08137428760528564,\n",
       "   0.09143462777137756,\n",
       "   0.08350875973701477,\n",
       "   0.10164523124694824,\n",
       "   0.0554804801940918,\n",
       "   0.10643500089645386,\n",
       "   0.09386441111564636,\n",
       "   0.09506884217262268,\n",
       "   0.08149555325508118,\n",
       "   0.07541769742965698,\n",
       "   0.10415679216384888,\n",
       "   0.08323639631271362,\n",
       "   0.0839591920375824,\n",
       "   0.07939755916595459,\n",
       "   0.07658737897872925,\n",
       "   0.10180723667144775,\n",
       "   0.08515411615371704,\n",
       "   0.09743478894233704,\n",
       "   0.08961927890777588,\n",
       "   0.0925714373588562,\n",
       "   0.0629018247127533,\n",
       "   0.0768176019191742,\n",
       "   0.07541128993034363,\n",
       "   0.0705823004245758,\n",
       "   0.08209666609764099,\n",
       "   0.08808383345603943,\n",
       "   0.08093845844268799,\n",
       "   0.07902756333351135,\n",
       "   0.08575105667114258,\n",
       "   0.07088044285774231,\n",
       "   0.08756774663925171,\n",
       "   0.08889985084533691,\n",
       "   0.07100582122802734,\n",
       "   0.0832158625125885,\n",
       "   0.10711020231246948,\n",
       "   0.07815033197402954,\n",
       "   0.08622294664382935,\n",
       "   0.10177072882652283,\n",
       "   0.08639782667160034,\n",
       "   0.08082073926925659,\n",
       "   0.06998705863952637,\n",
       "   0.0824795663356781,\n",
       "   0.08709579706192017,\n",
       "   0.12358933687210083,\n",
       "   0.0939362645149231,\n",
       "   0.1031966507434845,\n",
       "   0.0853625237941742,\n",
       "   0.10740113258361816,\n",
       "   0.0946790874004364,\n",
       "   0.07565838098526001,\n",
       "   0.10525301098823547,\n",
       "   0.07524186372756958,\n",
       "   0.08187761902809143,\n",
       "   0.09077060222625732,\n",
       "   0.07430684566497803,\n",
       "   0.0882134735584259,\n",
       "   0.09175631403923035,\n",
       "   0.07579910755157471,\n",
       "   0.10989809036254883,\n",
       "   0.08799010515213013,\n",
       "   0.10035759210586548,\n",
       "   0.08745437860488892,\n",
       "   0.08490437269210815,\n",
       "   0.0718948245048523,\n",
       "   0.07389003038406372,\n",
       "   0.07974699139595032,\n",
       "   0.09152555465698242,\n",
       "   0.08230540156364441,\n",
       "   0.11235535144805908,\n",
       "   0.09466272592544556,\n",
       "   0.09221753478050232,\n",
       "   0.08438152074813843,\n",
       "   0.07896912097930908,\n",
       "   0.0736415684223175,\n",
       "   0.0911078155040741,\n",
       "   0.08960774540901184,\n",
       "   0.07168596982955933,\n",
       "   0.0905301570892334,\n",
       "   0.07098296284675598,\n",
       "   0.087485671043396,\n",
       "   0.08827665448188782,\n",
       "   0.12343639135360718,\n",
       "   0.07800856232643127,\n",
       "   0.0797678530216217,\n",
       "   0.08924457430839539,\n",
       "   0.06930217146873474,\n",
       "   0.07317361235618591,\n",
       "   0.0969427227973938,\n",
       "   0.05899837613105774,\n",
       "   0.08850276470184326,\n",
       "   0.08081495761871338,\n",
       "   0.07599988579750061,\n",
       "   0.09061992168426514,\n",
       "   0.07828450202941895,\n",
       "   0.0851961076259613,\n",
       "   0.09427842497825623,\n",
       "   0.08899778127670288,\n",
       "   0.07857897877693176,\n",
       "   0.07176530361175537,\n",
       "   0.09400290250778198,\n",
       "   0.1362362802028656,\n",
       "   0.07030341029167175,\n",
       "   0.11243951320648193,\n",
       "   0.10234907269477844,\n",
       "   0.08280402421951294,\n",
       "   0.10188889503479004,\n",
       "   0.07606756687164307,\n",
       "   0.09162870049476624,\n",
       "   0.08072400093078613,\n",
       "   0.09811514616012573,\n",
       "   0.08226051926612854,\n",
       "   0.08190450072288513,\n",
       "   0.09442466497421265]}}"
      ]
     },
     "execution_count": 21,
     "metadata": {},
     "output_type": "execute_result"
    }
   ],
   "source": [
    "%%time\n",
    "r = requests.get(\n",
    "    'http://127.0.0.1:5000/model/embeddings/',\n",
    "    params={\n",
    "        \"name\": \"Test attri2vec model\",\n",
    "        \"resource_ids\": [\"dna replication\", \"glucose\"]\n",
    "    })\n",
    "print(r)\n",
    "r.json()"
   ]
  },
  {
   "cell_type": "markdown",
   "metadata": {},
   "source": [
    "## Get nearest neighbors"
   ]
  },
  {
   "cell_type": "code",
   "execution_count": 22,
   "metadata": {
    "scrolled": true
   },
   "outputs": [
    {
     "name": "stdout",
     "output_type": "stream",
     "text": [
      "<Response [200]>\n",
      "CPU times: user 5.82 ms, sys: 2.56 ms, total: 8.37 ms\n",
      "Wall time: 10.9 ms\n"
     ]
    },
    {
     "data": {
      "text/plain": [
       "{'similar_points': {'glucose': ['glucose',\n",
       "   'foot',\n",
       "   'hydrophobicity',\n",
       "   'anxiety',\n",
       "   'dog',\n",
       "   'nasal',\n",
       "   'proximal',\n",
       "   'cerebral hemorrhage',\n",
       "   'endotracheal',\n",
       "   'water',\n",
       "   'pruritus',\n",
       "   'dizziness',\n",
       "   'constipation',\n",
       "   'subarachnoid hemorrhage',\n",
       "   'intracranial hemorrhage',\n",
       "   'depression',\n",
       "   'cat',\n",
       "   'brother',\n",
       "   'anal injury',\n",
       "   'bicarbonate ion'],\n",
       "  'covid-19': ['covid-19',\n",
       "   'middle east respiratory syndrome',\n",
       "   'dyspnea',\n",
       "   'severe acute respiratory syndrome',\n",
       "   'viral respiratory tract infection',\n",
       "   'respiratory failure',\n",
       "   'disease or disorder',\n",
       "   'pulmonary edema',\n",
       "   'asthma',\n",
       "   'h1n1 influenza',\n",
       "   'dengue fever',\n",
       "   'infertility',\n",
       "   'ischemic cerebrovascular accident',\n",
       "   'wheezing',\n",
       "   'cystic fibrosis pulmonary exacerbation',\n",
       "   'cystic fibrosis',\n",
       "   'airway',\n",
       "   'chronic obstructive pulmonary disease',\n",
       "   'childhood-onset systemic lupus erythematosus',\n",
       "   'septic shock'],\n",
       "  'dna replication': ['dna replication',\n",
       "   'nucleotide',\n",
       "   'mutation abnormality',\n",
       "   'human herpesvirus 1',\n",
       "   'herpesvirus',\n",
       "   'rabbit',\n",
       "   'sus',\n",
       "   'pharmacokinetics',\n",
       "   'inflammatory bowel disease',\n",
       "   'immune',\n",
       "   'cyclophosphamide',\n",
       "   'nonsteroidal antiinflammatory drug',\n",
       "   'toxin',\n",
       "   'dacarbazine',\n",
       "   'electron',\n",
       "   'mycophenolate',\n",
       "   'salt',\n",
       "   'ribavirin',\n",
       "   'lopinavir/ritonavir',\n",
       "   'fluorine f 18 nos']}}"
      ]
     },
     "execution_count": 22,
     "metadata": {},
     "output_type": "execute_result"
    }
   ],
   "source": [
    "%%time\n",
    "r = requests.get(\n",
    "    'http://127.0.0.1:5000/model/similar-points/',\n",
    "    params={\n",
    "        \"name\": \"Test attri2vec model\",\n",
    "        \"resource_ids\": [\"glucose\", \"covid-19\", \"dna replication\"],\n",
    "        \"k\": 20\n",
    "    })\n",
    "print(r)\n",
    "r.json()"
   ]
  },
  {
   "cell_type": "code",
   "execution_count": 23,
   "metadata": {
    "scrolled": false
   },
   "outputs": [
    {
     "name": "stdout",
     "output_type": "stream",
     "text": [
      "<Response [200]>\n",
      "CPU times: user 5.34 ms, sys: 2.05 ms, total: 7.38 ms\n",
      "Wall time: 8.82 ms\n"
     ]
    },
    {
     "data": {
      "text/plain": [
       "{'similar_points': {'glucose': {'glucose': 1.0,\n",
       "   'foot': 0.9908841848373413,\n",
       "   'hydrophobicity': 0.9902871251106262,\n",
       "   'anxiety': 0.9894585609436035,\n",
       "   'dog': 0.9894585609436035,\n",
       "   'nasal': 0.9894585609436035,\n",
       "   'proximal': 0.9894585609436035,\n",
       "   'cerebral hemorrhage': 0.9894585609436035,\n",
       "   'endotracheal': 0.9894585609436035,\n",
       "   'water': 0.9894585609436035,\n",
       "   'pruritus': 0.9894585609436035,\n",
       "   'dizziness': 0.9894585609436035,\n",
       "   'constipation': 0.9894585609436035,\n",
       "   'subarachnoid hemorrhage': 0.9894585609436035,\n",
       "   'intracranial hemorrhage': 0.9894585609436035,\n",
       "   'depression': 0.9894585609436035,\n",
       "   'cat': 0.9894585609436035,\n",
       "   'brother': 0.9894585609436035,\n",
       "   'anal injury': 0.9894585609436035,\n",
       "   'bicarbonate ion': 0.9894585609436035},\n",
       "  'covid-19': {'covid-19': 1.0,\n",
       "   'middle east respiratory syndrome': 0.9931174516677856,\n",
       "   'dyspnea': 0.9874406456947327,\n",
       "   'severe acute respiratory syndrome': 0.9871326684951782,\n",
       "   'viral respiratory tract infection': 0.986818790435791,\n",
       "   'respiratory failure': 0.9858482480049133,\n",
       "   'disease or disorder': 0.9857842326164246,\n",
       "   'pulmonary edema': 0.9857310652732849,\n",
       "   'asthma': 0.9853864908218384,\n",
       "   'h1n1 influenza': 0.9851226210594177,\n",
       "   'dengue fever': 0.9846243262290955,\n",
       "   'infertility': 0.9845640063285828,\n",
       "   'ischemic cerebrovascular accident': 0.984398603439331,\n",
       "   'wheezing': 0.9843322038650513,\n",
       "   'cystic fibrosis pulmonary exacerbation': 0.9842021465301514,\n",
       "   'cystic fibrosis': 0.9834675788879395,\n",
       "   'airway': 0.9827977418899536,\n",
       "   'chronic obstructive pulmonary disease': 0.9827762842178345,\n",
       "   'childhood-onset systemic lupus erythematosus': 0.982693076133728,\n",
       "   'septic shock': 0.9825196266174316},\n",
       "  'dna replication': {'dna replication': 0.9999999403953552,\n",
       "   'nucleotide': 0.9896419644355774,\n",
       "   'mutation abnormality': 0.9885260462760925,\n",
       "   'human herpesvirus 1': 0.9876160025596619,\n",
       "   'herpesvirus': 0.9869581460952759,\n",
       "   'rabbit': 0.9866076707839966,\n",
       "   'sus': 0.9857735633850098,\n",
       "   'pharmacokinetics': 0.9851503372192383,\n",
       "   'inflammatory bowel disease': 0.9847808480262756,\n",
       "   'immune': 0.9846583008766174,\n",
       "   'cyclophosphamide': 0.9845847487449646,\n",
       "   'nonsteroidal antiinflammatory drug': 0.9845523834228516,\n",
       "   'toxin': 0.9844334125518799,\n",
       "   'dacarbazine': 0.9843810796737671,\n",
       "   'electron': 0.9840359687805176,\n",
       "   'mycophenolate': 0.9836596250534058,\n",
       "   'salt': 0.9836411476135254,\n",
       "   'ribavirin': 0.9835517406463623,\n",
       "   'lopinavir/ritonavir': 0.9831522107124329,\n",
       "   'fluorine f 18 nos': 0.983102560043335}}}"
      ]
     },
     "execution_count": 23,
     "metadata": {},
     "output_type": "execute_result"
    }
   ],
   "source": [
    "%%time\n",
    "r = requests.get(\n",
    "    'http://127.0.0.1:5000/model/similar-points/',\n",
    "    params={\n",
    "        \"name\": \"Test attri2vec model\",\n",
    "        \"resource_ids\": [\"glucose\", \"covid-19\", \"dna replication\"],\n",
    "        \"k\": 20,\n",
    "        \"values\": True\n",
    "    })\n",
    "print(r)\n",
    "r.json()"
   ]
  }
 ],
 "metadata": {
  "kernelspec": {
   "display_name": "bluegraph",
   "language": "python",
   "name": "bluegraph"
  },
  "language_info": {
   "codemirror_mode": {
    "name": "ipython",
    "version": 3
   },
   "file_extension": ".py",
   "mimetype": "text/x-python",
   "name": "python",
   "nbconvert_exporter": "python",
   "pygments_lexer": "ipython3",
   "version": "3.6.12"
  }
 },
 "nbformat": 4,
 "nbformat_minor": 4
}
