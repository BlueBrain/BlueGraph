{
 "cells": [
  {
   "cell_type": "markdown",
   "metadata": {},
   "source": [
    "# Embedding service API"
   ]
  },
  {
   "cell_type": "markdown",
   "metadata": {},
   "source": [
    "Run the service by, first, exporting your [staging]() token using `export NEXUS_TOKEN=<your_token>`. And then running `flask run`."
   ]
  },
  {
   "cell_type": "code",
   "execution_count": 13,
   "metadata": {},
   "outputs": [],
   "source": [
    "import requests"
   ]
  },
  {
   "cell_type": "markdown",
   "metadata": {},
   "source": [
    "## Get all the models in the catalogue"
   ]
  },
  {
   "cell_type": "code",
   "execution_count": 24,
   "metadata": {},
   "outputs": [
    {
     "name": "stdout",
     "output_type": "stream",
     "text": [
      "<Response [200]>\n"
     ]
    },
    {
     "data": {
      "text/plain": [
       "{'models': {'Test attri2vec model': {'id': 'https://staging.nexus.ocp.bbp.epfl.ch/v1/resources/dke/embedder_catalog/_/0fb24112-8b91-48fc-979d-f47e422fd35f',\n",
       "   'name': 'Test attri2vec model',\n",
       "   'description': 'Node embedding model built on the Covid dataset',\n",
       "   'filename': 'attri2vec_test_model.zip',\n",
       "   'created': '2021-03-05T14:09:28.593865Z',\n",
       "   'modified': '2021-03-05T14:09:28.593865Z'}}}"
      ]
     },
     "execution_count": 24,
     "metadata": {},
     "output_type": "execute_result"
    }
   ],
   "source": [
    "r = requests.get(\n",
    "    'http://127.0.0.1:5000/models/')\n",
    "print(r)\n",
    "r.json()"
   ]
  },
  {
   "cell_type": "markdown",
   "metadata": {},
   "source": [
    "## Get details on different model components"
   ]
  },
  {
   "cell_type": "code",
   "execution_count": 25,
   "metadata": {},
   "outputs": [
    {
     "name": "stdout",
     "output_type": "stream",
     "text": [
      "<Response [200]>\n"
     ]
    },
    {
     "data": {
      "text/plain": [
       "{'heterogeneous': False,\n",
       " 'drop_types': False,\n",
       " 'encode_types': False,\n",
       " 'edge_features': False,\n",
       " 'categorical_encoding': 'multibin',\n",
       " 'text_encoding': 'tfidf',\n",
       " 'text_encoding_max_dimension': 512,\n",
       " 'missing_numeric': 'drop',\n",
       " 'imputation_strategy': 'mean',\n",
       " 'standardize_numeric': True,\n",
       " 'node_properties': ['definition'],\n",
       " 'edge_properties': None,\n",
       " 'interface': 'ScikitLearnPGEncoder'}"
      ]
     },
     "execution_count": 25,
     "metadata": {},
     "output_type": "execute_result"
    }
   ],
   "source": [
    "r = requests.get(\n",
    "    'http://127.0.0.1:5000/model/details/preprocessor/',\n",
    "    params={\n",
    "        \"name\": \"Test attri2vec model\"\n",
    "    })\n",
    "print(r)\n",
    "r.json()"
   ]
  },
  {
   "cell_type": "code",
   "execution_count": 18,
   "metadata": {},
   "outputs": [
    {
     "name": "stdout",
     "output_type": "stream",
     "text": [
      "<Response [200]>\n"
     ]
    },
    {
     "data": {
      "text/plain": [
       "{'interface': 'StellarGraphNodeEmbedder',\n",
       " 'model_type': 'inductive',\n",
       " 'trained': 'True',\n",
       " 'model_name': 'attri2vec',\n",
       " 'model_params': {'length': 5,\n",
       "  'number_of_walks': 10,\n",
       "  'epochs': 5,\n",
       "  'embedding_dimension': 128,\n",
       "  'batch_size': 20,\n",
       "  'negative_samples': 10,\n",
       "  'num_samples': [10, 5],\n",
       "  'random_walk_p': 0.5,\n",
       "  'random_walk_q': 2.0,\n",
       "  'clusters': 2,\n",
       "  'clusters_q': 1},\n",
       " 'graph_configs': {'directed': True,\n",
       "  'include_type': False,\n",
       "  'feature_props': None,\n",
       "  'feature_vector_prop': 'features',\n",
       "  'edge_weight': 'npmi'}}"
      ]
     },
     "execution_count": 18,
     "metadata": {},
     "output_type": "execute_result"
    }
   ],
   "source": [
    "r = requests.get(\n",
    "    'http://127.0.0.1:5000/model/details/embedder/',\n",
    "    params={\n",
    "        \"name\": \"Test attri2vec model\"\n",
    "    })\n",
    "print(r)\n",
    "r.json()"
   ]
  },
  {
   "cell_type": "code",
   "execution_count": 19,
   "metadata": {},
   "outputs": [
    {
     "name": "stdout",
     "output_type": "stream",
     "text": [
      "<Response [200]>\n"
     ]
    },
    {
     "data": {
      "text/plain": [
       "{'similarity': 'cosine',\n",
       " 'dimension': 128,\n",
       " 'segmented': False,\n",
       " 'interface': 'SimilarityProcessor'}"
      ]
     },
     "execution_count": 19,
     "metadata": {},
     "output_type": "execute_result"
    }
   ],
   "source": [
    "r = requests.get(\n",
    "    'http://127.0.0.1:5000/model/details/similarity-processor/',\n",
    "    params={\n",
    "        \"name\": \"Test attri2vec model\"\n",
    "    })\n",
    "print(r)\n",
    "r.json()"
   ]
  },
  {
   "cell_type": "markdown",
   "metadata": {},
   "source": [
    "## Get resource embeddings"
   ]
  },
  {
   "cell_type": "code",
   "execution_count": 20,
   "metadata": {
    "scrolled": true
   },
   "outputs": [
    {
     "name": "stdout",
     "output_type": "stream",
     "text": [
      "<Response [200]>\n",
      "CPU times: user 4.31 ms, sys: 1.99 ms, total: 6.29 ms\n",
      "Wall time: 16.6 ms\n"
     ]
    },
    {
     "data": {
      "text/plain": [
       "{'embeddings': {'dna replication': [0.07164812088012695,\n",
       "   0.07756295800209045,\n",
       "   0.0569116473197937,\n",
       "   0.051368534564971924,\n",
       "   0.07309478521347046,\n",
       "   0.08538609743118286,\n",
       "   0.06472799181938171,\n",
       "   0.06495746970176697,\n",
       "   0.06184706091880798,\n",
       "   0.0522160530090332,\n",
       "   0.049841344356536865,\n",
       "   0.06333291530609131,\n",
       "   0.06374534964561462,\n",
       "   0.056498557329177856,\n",
       "   0.05183088779449463,\n",
       "   0.04495397210121155,\n",
       "   0.0541052520275116,\n",
       "   0.052536219358444214,\n",
       "   0.0360034704208374,\n",
       "   0.03352463245391846,\n",
       "   0.06796756386756897,\n",
       "   0.05813342332839966,\n",
       "   0.07896772027015686,\n",
       "   0.062244415283203125,\n",
       "   0.0480460524559021,\n",
       "   0.051534414291381836,\n",
       "   0.059615641832351685,\n",
       "   0.05519720911979675,\n",
       "   0.0645219087600708,\n",
       "   0.055949240922927856,\n",
       "   0.09286651015281677,\n",
       "   0.05681219696998596,\n",
       "   0.056948333978652954,\n",
       "   0.04469597339630127,\n",
       "   0.06077474355697632,\n",
       "   0.05059939622879028,\n",
       "   0.04572010040283203,\n",
       "   0.08580374717712402,\n",
       "   0.048861920833587646,\n",
       "   0.05425804853439331,\n",
       "   0.057908713817596436,\n",
       "   0.06183186173439026,\n",
       "   0.05514305830001831,\n",
       "   0.06334209442138672,\n",
       "   0.07047945261001587,\n",
       "   0.06349995732307434,\n",
       "   0.06935256719589233,\n",
       "   0.06425890326499939,\n",
       "   0.07012012600898743,\n",
       "   0.061144739389419556,\n",
       "   0.056027621030807495,\n",
       "   0.06274721026420593,\n",
       "   0.06463298201560974,\n",
       "   0.06311702728271484,\n",
       "   0.06579166650772095,\n",
       "   0.05745026469230652,\n",
       "   0.05578571557998657,\n",
       "   0.05491867661476135,\n",
       "   0.04329824447631836,\n",
       "   0.05648055672645569,\n",
       "   0.07617422938346863,\n",
       "   0.08964097499847412,\n",
       "   0.049409717321395874,\n",
       "   0.06243029236793518,\n",
       "   0.05398678779602051,\n",
       "   0.05781543254852295,\n",
       "   0.04173088073730469,\n",
       "   0.06723323464393616,\n",
       "   0.06671199202537537,\n",
       "   0.06271672248840332,\n",
       "   0.07193821668624878,\n",
       "   0.05235829949378967,\n",
       "   0.050138503313064575,\n",
       "   0.07568323612213135,\n",
       "   0.06804713606834412,\n",
       "   0.04802164435386658,\n",
       "   0.05234241485595703,\n",
       "   0.09071505069732666,\n",
       "   0.08179962635040283,\n",
       "   0.05682778358459473,\n",
       "   0.04923516511917114,\n",
       "   0.08276021480560303,\n",
       "   0.04339990019798279,\n",
       "   0.06996601819992065,\n",
       "   0.0570356547832489,\n",
       "   0.09059277176856995,\n",
       "   0.04792988300323486,\n",
       "   0.0726606547832489,\n",
       "   0.06400200724601746,\n",
       "   0.05573993921279907,\n",
       "   0.06981289386749268,\n",
       "   0.04467687010765076,\n",
       "   0.05433470010757446,\n",
       "   0.06809407472610474,\n",
       "   0.04698377847671509,\n",
       "   0.048660844564437866,\n",
       "   0.06856247782707214,\n",
       "   0.05303925275802612,\n",
       "   0.06186556816101074,\n",
       "   0.044729024171829224,\n",
       "   0.0580824613571167,\n",
       "   0.05947083234786987,\n",
       "   0.07138743996620178,\n",
       "   0.07813060283660889,\n",
       "   0.07317373156547546,\n",
       "   0.04782134294509888,\n",
       "   0.06921383738517761,\n",
       "   0.03921458125114441,\n",
       "   0.0497799813747406,\n",
       "   0.057224541902542114,\n",
       "   0.057142674922943115,\n",
       "   0.05742150545120239,\n",
       "   0.0573788583278656,\n",
       "   0.056297242641448975,\n",
       "   0.052618205547332764,\n",
       "   0.06932830810546875,\n",
       "   0.050202637910842896,\n",
       "   0.04564210772514343,\n",
       "   0.08020728826522827,\n",
       "   0.05223473906517029,\n",
       "   0.07632917165756226,\n",
       "   0.04306793212890625,\n",
       "   0.04539293050765991,\n",
       "   0.055775851011276245,\n",
       "   0.07294526696205139,\n",
       "   0.07084771990776062,\n",
       "   0.055567264556884766,\n",
       "   0.05809435248374939],\n",
       "  'glucose': [0.08222413063049316,\n",
       "   0.09804978966712952,\n",
       "   0.07964056730270386,\n",
       "   0.08615928888320923,\n",
       "   0.08160391449928284,\n",
       "   0.09330129623413086,\n",
       "   0.09039300680160522,\n",
       "   0.07864421606063843,\n",
       "   0.09700137376785278,\n",
       "   0.06889519095420837,\n",
       "   0.08810320496559143,\n",
       "   0.09972158074378967,\n",
       "   0.07647198438644409,\n",
       "   0.10423046350479126,\n",
       "   0.0729411244392395,\n",
       "   0.08137428760528564,\n",
       "   0.09143462777137756,\n",
       "   0.08350875973701477,\n",
       "   0.10164523124694824,\n",
       "   0.0554804801940918,\n",
       "   0.10643500089645386,\n",
       "   0.09386441111564636,\n",
       "   0.09506884217262268,\n",
       "   0.08149555325508118,\n",
       "   0.07541769742965698,\n",
       "   0.10415679216384888,\n",
       "   0.08323639631271362,\n",
       "   0.0839591920375824,\n",
       "   0.07939755916595459,\n",
       "   0.07658737897872925,\n",
       "   0.10180723667144775,\n",
       "   0.08515411615371704,\n",
       "   0.09743478894233704,\n",
       "   0.08961927890777588,\n",
       "   0.0925714373588562,\n",
       "   0.0629018247127533,\n",
       "   0.0768176019191742,\n",
       "   0.07541128993034363,\n",
       "   0.0705823004245758,\n",
       "   0.08209666609764099,\n",
       "   0.08808383345603943,\n",
       "   0.08093845844268799,\n",
       "   0.07902756333351135,\n",
       "   0.08575105667114258,\n",
       "   0.07088044285774231,\n",
       "   0.08756774663925171,\n",
       "   0.08889985084533691,\n",
       "   0.07100582122802734,\n",
       "   0.0832158625125885,\n",
       "   0.10711020231246948,\n",
       "   0.07815033197402954,\n",
       "   0.08622294664382935,\n",
       "   0.10177072882652283,\n",
       "   0.08639782667160034,\n",
       "   0.08082073926925659,\n",
       "   0.06998705863952637,\n",
       "   0.0824795663356781,\n",
       "   0.08709579706192017,\n",
       "   0.12358933687210083,\n",
       "   0.0939362645149231,\n",
       "   0.1031966507434845,\n",
       "   0.0853625237941742,\n",
       "   0.10740113258361816,\n",
       "   0.0946790874004364,\n",
       "   0.07565838098526001,\n",
       "   0.10525301098823547,\n",
       "   0.07524186372756958,\n",
       "   0.08187761902809143,\n",
       "   0.09077060222625732,\n",
       "   0.07430684566497803,\n",
       "   0.0882134735584259,\n",
       "   0.09175631403923035,\n",
       "   0.07579910755157471,\n",
       "   0.10989809036254883,\n",
       "   0.08799010515213013,\n",
       "   0.10035759210586548,\n",
       "   0.08745437860488892,\n",
       "   0.08490437269210815,\n",
       "   0.0718948245048523,\n",
       "   0.07389003038406372,\n",
       "   0.07974699139595032,\n",
       "   0.09152555465698242,\n",
       "   0.08230540156364441,\n",
       "   0.11235535144805908,\n",
       "   0.09466272592544556,\n",
       "   0.09221753478050232,\n",
       "   0.08438152074813843,\n",
       "   0.07896912097930908,\n",
       "   0.0736415684223175,\n",
       "   0.0911078155040741,\n",
       "   0.08960774540901184,\n",
       "   0.07168596982955933,\n",
       "   0.0905301570892334,\n",
       "   0.07098296284675598,\n",
       "   0.087485671043396,\n",
       "   0.08827665448188782,\n",
       "   0.12343639135360718,\n",
       "   0.07800856232643127,\n",
       "   0.0797678530216217,\n",
       "   0.08924457430839539,\n",
       "   0.06930217146873474,\n",
       "   0.07317361235618591,\n",
       "   0.0969427227973938,\n",
       "   0.05899837613105774,\n",
       "   0.08850276470184326,\n",
       "   0.08081495761871338,\n",
       "   0.07599988579750061,\n",
       "   0.09061992168426514,\n",
       "   0.07828450202941895,\n",
       "   0.0851961076259613,\n",
       "   0.09427842497825623,\n",
       "   0.08899778127670288,\n",
       "   0.07857897877693176,\n",
       "   0.07176530361175537,\n",
       "   0.09400290250778198,\n",
       "   0.1362362802028656,\n",
       "   0.07030341029167175,\n",
       "   0.11243951320648193,\n",
       "   0.10234907269477844,\n",
       "   0.08280402421951294,\n",
       "   0.10188889503479004,\n",
       "   0.07606756687164307,\n",
       "   0.09162870049476624,\n",
       "   0.08072400093078613,\n",
       "   0.09811514616012573,\n",
       "   0.08226051926612854,\n",
       "   0.08190450072288513,\n",
       "   0.09442466497421265]}}"
      ]
     },
     "execution_count": 20,
     "metadata": {},
     "output_type": "execute_result"
    }
   ],
   "source": [
    "%%time\n",
    "r = requests.get(\n",
    "    'http://127.0.0.1:5000/model/embeddings/',\n",
    "    params={\n",
    "        \"name\": \"Test attri2vec model\",\n",
    "        \"resource_ids\": [\"dna replication\", \"glucose\"]\n",
    "    })\n",
    "print(r)\n",
    "r.json()"
   ]
  },
  {
   "cell_type": "markdown",
   "metadata": {},
   "source": [
    "## Get nearest neighbors"
   ]
  },
  {
   "cell_type": "code",
   "execution_count": 21,
   "metadata": {
    "scrolled": true
   },
   "outputs": [
    {
     "name": "stdout",
     "output_type": "stream",
     "text": [
      "<Response [200]>\n",
      "CPU times: user 5.57 ms, sys: 2.52 ms, total: 8.08 ms\n",
      "Wall time: 22.4 ms\n"
     ]
    },
    {
     "data": {
      "text/plain": [
       "{'similar_points': {'glucose': ['glucose',\n",
       "   'foot',\n",
       "   'hydrophobicity',\n",
       "   'anxiety',\n",
       "   'dog',\n",
       "   'nasal',\n",
       "   'proximal',\n",
       "   'cerebral hemorrhage',\n",
       "   'endotracheal',\n",
       "   'water',\n",
       "   'pruritus',\n",
       "   'dizziness',\n",
       "   'constipation',\n",
       "   'subarachnoid hemorrhage',\n",
       "   'intracranial hemorrhage',\n",
       "   'depression',\n",
       "   'cat',\n",
       "   'brother',\n",
       "   'anal injury',\n",
       "   'bicarbonate ion'],\n",
       "  'covid-19': ['covid-19',\n",
       "   'middle east respiratory syndrome',\n",
       "   'dyspnea',\n",
       "   'severe acute respiratory syndrome',\n",
       "   'viral respiratory tract infection',\n",
       "   'respiratory failure',\n",
       "   'disease or disorder',\n",
       "   'pulmonary edema',\n",
       "   'asthma',\n",
       "   'h1n1 influenza',\n",
       "   'dengue fever',\n",
       "   'infertility',\n",
       "   'ischemic cerebrovascular accident',\n",
       "   'wheezing',\n",
       "   'cystic fibrosis pulmonary exacerbation',\n",
       "   'cystic fibrosis',\n",
       "   'airway',\n",
       "   'chronic obstructive pulmonary disease',\n",
       "   'childhood-onset systemic lupus erythematosus',\n",
       "   'septic shock'],\n",
       "  'dna replication': ['dna replication',\n",
       "   'nucleotide',\n",
       "   'mutation abnormality',\n",
       "   'human herpesvirus 1',\n",
       "   'herpesvirus',\n",
       "   'rabbit',\n",
       "   'sus',\n",
       "   'pharmacokinetics',\n",
       "   'inflammatory bowel disease',\n",
       "   'immune',\n",
       "   'cyclophosphamide',\n",
       "   'nonsteroidal antiinflammatory drug',\n",
       "   'toxin',\n",
       "   'dacarbazine',\n",
       "   'electron',\n",
       "   'mycophenolate',\n",
       "   'salt',\n",
       "   'ribavirin',\n",
       "   'lopinavir/ritonavir',\n",
       "   'fluorine f 18 nos']}}"
      ]
     },
     "execution_count": 21,
     "metadata": {},
     "output_type": "execute_result"
    }
   ],
   "source": [
    "%%time\n",
    "r = requests.get(\n",
    "    'http://127.0.0.1:5000/model/similar-points/',\n",
    "    params={\n",
    "        \"name\": \"Test attri2vec model\",\n",
    "        \"resource_ids\": [\"glucose\", \"covid-19\", \"dna replication\"],\n",
    "        \"k\": 20\n",
    "    })\n",
    "print(r)\n",
    "r.json()"
   ]
  },
  {
   "cell_type": "code",
   "execution_count": 22,
   "metadata": {
    "scrolled": false
   },
   "outputs": [
    {
     "name": "stdout",
     "output_type": "stream",
     "text": [
      "<Response [200]>\n",
      "CPU times: user 3.89 ms, sys: 1.46 ms, total: 5.35 ms\n",
      "Wall time: 6.17 ms\n"
     ]
    },
    {
     "data": {
      "text/plain": [
       "{'similar_points': {'glucose': {'glucose': 1.0,\n",
       "   'foot': 0.9908841848373413,\n",
       "   'hydrophobicity': 0.9902871251106262,\n",
       "   'anxiety': 0.9894585609436035,\n",
       "   'dog': 0.9894585609436035,\n",
       "   'nasal': 0.9894585609436035,\n",
       "   'proximal': 0.9894585609436035,\n",
       "   'cerebral hemorrhage': 0.9894585609436035,\n",
       "   'endotracheal': 0.9894585609436035,\n",
       "   'water': 0.9894585609436035,\n",
       "   'pruritus': 0.9894585609436035,\n",
       "   'dizziness': 0.9894585609436035,\n",
       "   'constipation': 0.9894585609436035,\n",
       "   'subarachnoid hemorrhage': 0.9894585609436035,\n",
       "   'intracranial hemorrhage': 0.9894585609436035,\n",
       "   'depression': 0.9894585609436035,\n",
       "   'cat': 0.9894585609436035,\n",
       "   'brother': 0.9894585609436035,\n",
       "   'anal injury': 0.9894585609436035,\n",
       "   'bicarbonate ion': 0.9894585609436035},\n",
       "  'covid-19': {'covid-19': 1.0,\n",
       "   'middle east respiratory syndrome': 0.9931174516677856,\n",
       "   'dyspnea': 0.9874406456947327,\n",
       "   'severe acute respiratory syndrome': 0.9871326684951782,\n",
       "   'viral respiratory tract infection': 0.986818790435791,\n",
       "   'respiratory failure': 0.9858482480049133,\n",
       "   'disease or disorder': 0.9857842326164246,\n",
       "   'pulmonary edema': 0.9857310652732849,\n",
       "   'asthma': 0.9853864908218384,\n",
       "   'h1n1 influenza': 0.9851226210594177,\n",
       "   'dengue fever': 0.9846243262290955,\n",
       "   'infertility': 0.9845640063285828,\n",
       "   'ischemic cerebrovascular accident': 0.984398603439331,\n",
       "   'wheezing': 0.9843322038650513,\n",
       "   'cystic fibrosis pulmonary exacerbation': 0.9842021465301514,\n",
       "   'cystic fibrosis': 0.9834675788879395,\n",
       "   'airway': 0.9827977418899536,\n",
       "   'chronic obstructive pulmonary disease': 0.9827762842178345,\n",
       "   'childhood-onset systemic lupus erythematosus': 0.982693076133728,\n",
       "   'septic shock': 0.9825196266174316},\n",
       "  'dna replication': {'dna replication': 0.9999999403953552,\n",
       "   'nucleotide': 0.9896419644355774,\n",
       "   'mutation abnormality': 0.9885260462760925,\n",
       "   'human herpesvirus 1': 0.9876160025596619,\n",
       "   'herpesvirus': 0.9869581460952759,\n",
       "   'rabbit': 0.9866076707839966,\n",
       "   'sus': 0.9857735633850098,\n",
       "   'pharmacokinetics': 0.9851503372192383,\n",
       "   'inflammatory bowel disease': 0.9847808480262756,\n",
       "   'immune': 0.9846583008766174,\n",
       "   'cyclophosphamide': 0.9845847487449646,\n",
       "   'nonsteroidal antiinflammatory drug': 0.9845523834228516,\n",
       "   'toxin': 0.9844334125518799,\n",
       "   'dacarbazine': 0.9843810796737671,\n",
       "   'electron': 0.9840359687805176,\n",
       "   'mycophenolate': 0.9836596250534058,\n",
       "   'salt': 0.9836411476135254,\n",
       "   'ribavirin': 0.9835517406463623,\n",
       "   'lopinavir/ritonavir': 0.9831522107124329,\n",
       "   'fluorine f 18 nos': 0.983102560043335}}}"
      ]
     },
     "execution_count": 22,
     "metadata": {},
     "output_type": "execute_result"
    }
   ],
   "source": [
    "%%time\n",
    "r = requests.get(\n",
    "    'http://127.0.0.1:5000/model/similar-points/',\n",
    "    params={\n",
    "        \"name\": \"Test attri2vec model\",\n",
    "        \"resource_ids\": [\"glucose\", \"covid-19\", \"dna replication\"],\n",
    "        \"k\": 20,\n",
    "        \"values\": True\n",
    "    })\n",
    "print(r)\n",
    "r.json()"
   ]
  },
  {
   "cell_type": "code",
   "execution_count": 60,
   "metadata": {},
   "outputs": [],
   "source": [
    "import pandas as pd"
   ]
  },
  {
   "cell_type": "code",
   "execution_count": 62,
   "metadata": {},
   "outputs": [
    {
     "data": {
      "text/html": [
       "<div>\n",
       "<style scoped>\n",
       "    .dataframe tbody tr th:only-of-type {\n",
       "        vertical-align: middle;\n",
       "    }\n",
       "\n",
       "    .dataframe tbody tr th {\n",
       "        vertical-align: top;\n",
       "    }\n",
       "\n",
       "    .dataframe thead th {\n",
       "        text-align: right;\n",
       "    }\n",
       "</style>\n",
       "<table border=\"1\" class=\"dataframe\">\n",
       "  <thead>\n",
       "    <tr style=\"text-align: right;\">\n",
       "      <th></th>\n",
       "      <th>id</th>\n",
       "      <th>weight</th>\n",
       "      <th>strength</th>\n",
       "    </tr>\n",
       "  </thead>\n",
       "  <tbody>\n",
       "    <tr>\n",
       "      <th>0</th>\n",
       "      <td>a</td>\n",
       "      <td>3</td>\n",
       "      <td>NaN</td>\n",
       "    </tr>\n",
       "    <tr>\n",
       "      <th>1</th>\n",
       "      <td>b</td>\n",
       "      <td>4</td>\n",
       "      <td>3.0</td>\n",
       "    </tr>\n",
       "  </tbody>\n",
       "</table>\n",
       "</div>"
      ],
      "text/plain": [
       "  id  weight  strength\n",
       "0  a       3       NaN\n",
       "1  b       4       3.0"
      ]
     },
     "execution_count": 62,
     "metadata": {},
     "output_type": "execute_result"
    }
   ],
   "source": [
    "pd.DataFrame([{\"id\": \"a\", \"weight\": 3}, {\"id\": \"b\", \"weight\": 4, \"strength\": 3}])"
   ]
  },
  {
   "cell_type": "code",
   "execution_count": 63,
   "metadata": {},
   "outputs": [],
   "source": [
    "l = [(1, 2, {\"a\": 1, \"b\": 2}), (1, 2, {\"a\": 3, \"b\": 7})]"
   ]
  },
  {
   "cell_type": "code",
   "execution_count": 67,
   "metadata": {},
   "outputs": [
    {
     "data": {
      "text/plain": [
       "[{'a': 1, 'b': 2, 'source_id': 1, 't': 2},\n",
       " {'a': 3, 'b': 7, 'source_id': 1, 't': 2}]"
      ]
     },
     "execution_count": 67,
     "metadata": {},
     "output_type": "execute_result"
    }
   ],
   "source": [
    "[{**ll[2], \"source_id\": ll[0], \"t\": ll[1]} for ll in l]"
   ]
  },
  {
   "cell_type": "code",
   "execution_count": 74,
   "metadata": {},
   "outputs": [],
   "source": [
    "from bluegraph.backends.networkx import networkx_to_pgframe\n",
    "from bluegraph.backends.stellargraph import pgframe_to_stellargraph"
   ]
  },
  {
   "cell_type": "code",
   "execution_count": 68,
   "metadata": {},
   "outputs": [],
   "source": [
    "import networkx as nx"
   ]
  },
  {
   "cell_type": "code",
   "execution_count": 69,
   "metadata": {},
   "outputs": [],
   "source": [
    "nxg = nx.karate_club_graph()"
   ]
  },
  {
   "cell_type": "code",
   "execution_count": 87,
   "metadata": {},
   "outputs": [
    {
     "data": {
      "text/plain": [
       "NodeView((0, 1, 2, 3, 4, 5, 6, 7, 8, 9, 10, 11, 12, 13, 14, 15, 16, 17, 18, 19, 20, 21, 22, 23, 24, 25, 26, 27, 28, 29, 30, 31, 32, 33))"
      ]
     },
     "execution_count": 87,
     "metadata": {},
     "output_type": "execute_result"
    }
   ],
   "source": [
    "nxg.nodes()"
   ]
  },
  {
   "cell_type": "code",
   "execution_count": 145,
   "metadata": {},
   "outputs": [],
   "source": [
    "frame = networkx_to_pgframe(nxg)"
   ]
  },
  {
   "cell_type": "code",
   "execution_count": 146,
   "metadata": {},
   "outputs": [],
   "source": [
    "frame.add_node_types({n: \"Node\" for n in frame.nodes()[:5]})\n",
    "frame.add_node_types({n: \"La\" for n in frame.nodes()[5:]})"
   ]
  },
  {
   "cell_type": "code",
   "execution_count": null,
   "metadata": {},
   "outputs": [],
   "source": [
    "frame.add_edge_types({e: \"Edge\" for e in frame.edges()[:6]})"
   ]
  },
  {
   "cell_type": "code",
   "execution_count": 147,
   "metadata": {},
   "outputs": [],
   "source": [
    "# frame.add_edge_types({e: \"Edge\" for e in frame.edges()[:6]})"
   ]
  },
  {
   "cell_type": "code",
   "execution_count": 148,
   "metadata": {},
   "outputs": [],
   "source": [
    "# frame.add_edge_types({e: \"bla\" for e in frame.edges()[6:]})"
   ]
  },
  {
   "cell_type": "code",
   "execution_count": 149,
   "metadata": {},
   "outputs": [
    {
     "ename": "ValueError",
     "evalue": "edges: expected 'source', 'target', None, '@type' columns, found: 'source', 'target'",
     "output_type": "error",
     "traceback": [
      "\u001b[0;31m---------------------------------------------------------------------------\u001b[0m",
      "\u001b[0;31mValueError\u001b[0m                                Traceback (most recent call last)",
      "\u001b[0;32m<ipython-input-149-599c1a48d753>\u001b[0m in \u001b[0;36m<module>\u001b[0;34m\u001b[0m\n\u001b[0;32m----> 1\u001b[0;31m \u001b[0mstellar_graph\u001b[0m \u001b[0;34m=\u001b[0m \u001b[0mpgframe_to_stellargraph\u001b[0m\u001b[0;34m(\u001b[0m\u001b[0mframe\u001b[0m\u001b[0;34m,\u001b[0m \u001b[0minclude_type\u001b[0m\u001b[0;34m=\u001b[0m\u001b[0;32mTrue\u001b[0m\u001b[0;34m)\u001b[0m\u001b[0;34m\u001b[0m\u001b[0;34m\u001b[0m\u001b[0m\n\u001b[0m",
      "\u001b[0;32m~/opt/anaconda3/envs/bluegraph/lib/python3.6/site-packages/bluegraph/backends/stellargraph/io.py\u001b[0m in \u001b[0;36mpgframe_to_stellargraph\u001b[0;34m(pgframe, directed, include_type, feature_vector_prop, feature_props, edge_weight)\u001b[0m\n\u001b[1;32m     49\u001b[0m             \u001b[0medges\u001b[0m\u001b[0;34m=\u001b[0m\u001b[0medges\u001b[0m\u001b[0;34m,\u001b[0m\u001b[0;34m\u001b[0m\u001b[0;34m\u001b[0m\u001b[0m\n\u001b[1;32m     50\u001b[0m             \u001b[0medge_weight_column\u001b[0m\u001b[0;34m=\u001b[0m\u001b[0medge_weight\u001b[0m\u001b[0;34m,\u001b[0m\u001b[0;34m\u001b[0m\u001b[0;34m\u001b[0m\u001b[0m\n\u001b[0;32m---> 51\u001b[0;31m             edge_type_column=\"@type\" if include_type else None)\n\u001b[0m\u001b[1;32m     52\u001b[0m     \u001b[0;32melse\u001b[0m\u001b[0;34m:\u001b[0m\u001b[0;34m\u001b[0m\u001b[0;34m\u001b[0m\u001b[0m\n\u001b[1;32m     53\u001b[0m         graph = sg.StellarGraph(\n",
      "\u001b[0;32m~/opt/anaconda3/envs/bluegraph/lib/python3.6/site-packages/stellargraph/core/graph.py\u001b[0m in \u001b[0;36m__init__\u001b[0;34m(self, nodes, edges, source_column, target_column, edge_weight_column, edge_type_column, node_type_default, edge_type_default, dtype, graph, node_type_name, edge_type_name, node_features)\u001b[0m\n\u001b[1;32m   1910\u001b[0m             \u001b[0mnode_type_name\u001b[0m\u001b[0;34m=\u001b[0m\u001b[0mnode_type_name\u001b[0m\u001b[0;34m,\u001b[0m\u001b[0;34m\u001b[0m\u001b[0;34m\u001b[0m\u001b[0m\n\u001b[1;32m   1911\u001b[0m             \u001b[0medge_type_name\u001b[0m\u001b[0;34m=\u001b[0m\u001b[0medge_type_name\u001b[0m\u001b[0;34m,\u001b[0m\u001b[0;34m\u001b[0m\u001b[0;34m\u001b[0m\u001b[0m\n\u001b[0;32m-> 1912\u001b[0;31m             \u001b[0mnode_features\u001b[0m\u001b[0;34m=\u001b[0m\u001b[0mnode_features\u001b[0m\u001b[0;34m,\u001b[0m\u001b[0;34m\u001b[0m\u001b[0;34m\u001b[0m\u001b[0m\n\u001b[0m\u001b[1;32m   1913\u001b[0m         )\n",
      "\u001b[0;32m~/opt/anaconda3/envs/bluegraph/lib/python3.6/site-packages/stellargraph/core/graph.py\u001b[0m in \u001b[0;36m__init__\u001b[0;34m(self, nodes, edges, is_directed, source_column, target_column, edge_weight_column, edge_type_column, node_type_default, edge_type_default, dtype, graph, node_type_name, edge_type_name, node_features)\u001b[0m\n\u001b[1;32m    425\u001b[0m                 \u001b[0mtype_column\u001b[0m\u001b[0;34m=\u001b[0m\u001b[0medge_type_column\u001b[0m\u001b[0;34m,\u001b[0m\u001b[0;34m\u001b[0m\u001b[0;34m\u001b[0m\u001b[0m\n\u001b[1;32m    426\u001b[0m                 \u001b[0mnodes\u001b[0m\u001b[0;34m=\u001b[0m\u001b[0minternal_nodes\u001b[0m\u001b[0;34m,\u001b[0m\u001b[0;34m\u001b[0m\u001b[0;34m\u001b[0m\u001b[0m\n\u001b[0;32m--> 427\u001b[0;31m                 \u001b[0mdtype\u001b[0m\u001b[0;34m=\u001b[0m\u001b[0mdtype\u001b[0m\u001b[0;34m,\u001b[0m\u001b[0;34m\u001b[0m\u001b[0;34m\u001b[0m\u001b[0m\n\u001b[0m\u001b[1;32m    428\u001b[0m             )\n\u001b[1;32m    429\u001b[0m         \u001b[0;32melse\u001b[0m\u001b[0;34m:\u001b[0m\u001b[0;34m\u001b[0m\u001b[0;34m\u001b[0m\u001b[0m\n",
      "\u001b[0;32m~/opt/anaconda3/envs/bluegraph/lib/python3.6/site-packages/stellargraph/core/convert.py\u001b[0m in \u001b[0;36mconvert_edges\u001b[0;34m(data, name, default_type, source_column, target_column, weight_column, type_column, nodes, dtype)\u001b[0m\n\u001b[1;32m    307\u001b[0m         \u001b[0mdtype\u001b[0m\u001b[0;34m=\u001b[0m\u001b[0mdtype\u001b[0m\u001b[0;34m,\u001b[0m\u001b[0;34m\u001b[0m\u001b[0;34m\u001b[0m\u001b[0m\n\u001b[1;32m    308\u001b[0m     )\n\u001b[0;32m--> 309\u001b[0;31m     \u001b[0mids\u001b[0m\u001b[0;34m,\u001b[0m \u001b[0mcolumns\u001b[0m\u001b[0;34m,\u001b[0m \u001b[0mtype_info\u001b[0m \u001b[0;34m=\u001b[0m \u001b[0mconverter\u001b[0m\u001b[0;34m.\u001b[0m\u001b[0mconvert\u001b[0m\u001b[0;34m(\u001b[0m\u001b[0mdata\u001b[0m\u001b[0;34m)\u001b[0m\u001b[0;34m\u001b[0m\u001b[0;34m\u001b[0m\u001b[0m\n\u001b[0m\u001b[1;32m    310\u001b[0m \u001b[0;34m\u001b[0m\u001b[0m\n\u001b[1;32m    311\u001b[0m     \u001b[0mweight_col\u001b[0m \u001b[0;34m=\u001b[0m \u001b[0mcolumns\u001b[0m\u001b[0;34m[\u001b[0m\u001b[0mWEIGHT\u001b[0m\u001b[0;34m]\u001b[0m\u001b[0;34m\u001b[0m\u001b[0;34m\u001b[0m\u001b[0m\n",
      "\u001b[0;32m~/opt/anaconda3/envs/bluegraph/lib/python3.6/site-packages/stellargraph/core/convert.py\u001b[0m in \u001b[0;36mconvert\u001b[0;34m(self, elements)\u001b[0m\n\u001b[1;32m    223\u001b[0m     \u001b[0;32mdef\u001b[0m \u001b[0mconvert\u001b[0m\u001b[0;34m(\u001b[0m\u001b[0mself\u001b[0m\u001b[0;34m,\u001b[0m \u001b[0melements\u001b[0m\u001b[0;34m)\u001b[0m\u001b[0;34m:\u001b[0m\u001b[0;34m\u001b[0m\u001b[0;34m\u001b[0m\u001b[0m\n\u001b[1;32m    224\u001b[0m         \u001b[0;32mif\u001b[0m \u001b[0mself\u001b[0m\u001b[0;34m.\u001b[0m\u001b[0mtype_column\u001b[0m \u001b[0;32mis\u001b[0m \u001b[0;32mnot\u001b[0m \u001b[0;32mNone\u001b[0m\u001b[0;34m:\u001b[0m\u001b[0;34m\u001b[0m\u001b[0;34m\u001b[0m\u001b[0m\n\u001b[0;32m--> 225\u001b[0;31m             \u001b[0;32mreturn\u001b[0m \u001b[0mself\u001b[0m\u001b[0;34m.\u001b[0m\u001b[0m_convert_with_type_column\u001b[0m\u001b[0;34m(\u001b[0m\u001b[0melements\u001b[0m\u001b[0;34m)\u001b[0m\u001b[0;34m\u001b[0m\u001b[0;34m\u001b[0m\u001b[0m\n\u001b[0m\u001b[1;32m    226\u001b[0m \u001b[0;34m\u001b[0m\u001b[0m\n\u001b[1;32m    227\u001b[0m         \u001b[0;32mif\u001b[0m \u001b[0misinstance\u001b[0m\u001b[0;34m(\u001b[0m\u001b[0melements\u001b[0m\u001b[0;34m,\u001b[0m \u001b[0;34m(\u001b[0m\u001b[0mpd\u001b[0m\u001b[0;34m.\u001b[0m\u001b[0mDataFrame\u001b[0m\u001b[0;34m,\u001b[0m \u001b[0mIndexedArray\u001b[0m\u001b[0;34m,\u001b[0m \u001b[0mnp\u001b[0m\u001b[0;34m.\u001b[0m\u001b[0mndarray\u001b[0m\u001b[0;34m)\u001b[0m\u001b[0;34m)\u001b[0m\u001b[0;34m:\u001b[0m\u001b[0;34m\u001b[0m\u001b[0;34m\u001b[0m\u001b[0m\n",
      "\u001b[0;32m~/opt/anaconda3/envs/bluegraph/lib/python3.6/site-packages/stellargraph/core/convert.py\u001b[0m in \u001b[0;36m_convert_with_type_column\u001b[0;34m(self, data)\u001b[0m\n\u001b[1;32m    188\u001b[0m         \u001b[0;31m# to make sure things are arranged right, i.e. nodes of each type are contiguous, and\u001b[0m\u001b[0;34m\u001b[0m\u001b[0;34m\u001b[0m\u001b[0;34m\u001b[0m\u001b[0m\n\u001b[1;32m    189\u001b[0m         \u001b[0;31m# 'range(...)' objects describing each one.\u001b[0m\u001b[0;34m\u001b[0m\u001b[0;34m\u001b[0m\u001b[0;34m\u001b[0m\u001b[0m\n\u001b[0;32m--> 190\u001b[0;31m         \u001b[0mids\u001b[0m\u001b[0;34m,\u001b[0m \u001b[0mcolumns\u001b[0m\u001b[0;34m,\u001b[0m \u001b[0mfeatures\u001b[0m \u001b[0;34m=\u001b[0m \u001b[0mself\u001b[0m\u001b[0;34m.\u001b[0m\u001b[0m_convert_single\u001b[0m\u001b[0;34m(\u001b[0m\u001b[0;32mNone\u001b[0m\u001b[0;34m,\u001b[0m \u001b[0mdata\u001b[0m\u001b[0;34m)\u001b[0m\u001b[0;34m\u001b[0m\u001b[0;34m\u001b[0m\u001b[0m\n\u001b[0m\u001b[1;32m    191\u001b[0m \u001b[0;34m\u001b[0m\u001b[0m\n\u001b[1;32m    192\u001b[0m         \u001b[0;31m# the column we see in `known` is after being selected/renamed\u001b[0m\u001b[0;34m\u001b[0m\u001b[0;34m\u001b[0m\u001b[0;34m\u001b[0m\u001b[0m\n",
      "\u001b[0;32m~/opt/anaconda3/envs/bluegraph/lib/python3.6/site-packages/stellargraph/core/convert.py\u001b[0m in \u001b[0;36m_convert_single\u001b[0;34m(self, type_name, data)\u001b[0m\n\u001b[1;32m     80\u001b[0m     \u001b[0;32mdef\u001b[0m \u001b[0m_convert_single\u001b[0m\u001b[0;34m(\u001b[0m\u001b[0mself\u001b[0m\u001b[0;34m,\u001b[0m \u001b[0mtype_name\u001b[0m\u001b[0;34m,\u001b[0m \u001b[0mdata\u001b[0m\u001b[0;34m)\u001b[0m\u001b[0;34m:\u001b[0m\u001b[0;34m\u001b[0m\u001b[0;34m\u001b[0m\u001b[0m\n\u001b[1;32m     81\u001b[0m         \u001b[0;32mif\u001b[0m \u001b[0misinstance\u001b[0m\u001b[0;34m(\u001b[0m\u001b[0mdata\u001b[0m\u001b[0;34m,\u001b[0m \u001b[0mpd\u001b[0m\u001b[0;34m.\u001b[0m\u001b[0mDataFrame\u001b[0m\u001b[0;34m)\u001b[0m\u001b[0;34m:\u001b[0m\u001b[0;34m\u001b[0m\u001b[0;34m\u001b[0m\u001b[0m\n\u001b[0;32m---> 82\u001b[0;31m             \u001b[0;32mreturn\u001b[0m \u001b[0mself\u001b[0m\u001b[0;34m.\u001b[0m\u001b[0m_convert_pandas\u001b[0m\u001b[0;34m(\u001b[0m\u001b[0mtype_name\u001b[0m\u001b[0;34m,\u001b[0m \u001b[0mdata\u001b[0m\u001b[0;34m)\u001b[0m\u001b[0;34m\u001b[0m\u001b[0;34m\u001b[0m\u001b[0m\n\u001b[0m\u001b[1;32m     83\u001b[0m         \u001b[0;32melif\u001b[0m \u001b[0misinstance\u001b[0m\u001b[0;34m(\u001b[0m\u001b[0mdata\u001b[0m\u001b[0;34m,\u001b[0m \u001b[0;34m(\u001b[0m\u001b[0mIndexedArray\u001b[0m\u001b[0;34m,\u001b[0m \u001b[0mnp\u001b[0m\u001b[0;34m.\u001b[0m\u001b[0mndarray\u001b[0m\u001b[0;34m)\u001b[0m\u001b[0;34m)\u001b[0m\u001b[0;34m:\u001b[0m\u001b[0;34m\u001b[0m\u001b[0;34m\u001b[0m\u001b[0m\n\u001b[1;32m     84\u001b[0m             \u001b[0;32mreturn\u001b[0m \u001b[0mself\u001b[0m\u001b[0;34m.\u001b[0m\u001b[0m_convert_rowframe\u001b[0m\u001b[0;34m(\u001b[0m\u001b[0mtype_name\u001b[0m\u001b[0;34m,\u001b[0m \u001b[0mdata\u001b[0m\u001b[0;34m)\u001b[0m\u001b[0;34m\u001b[0m\u001b[0;34m\u001b[0m\u001b[0m\n",
      "\u001b[0;32m~/opt/anaconda3/envs/bluegraph/lib/python3.6/site-packages/stellargraph/core/convert.py\u001b[0m in \u001b[0;36m_convert_pandas\u001b[0;34m(self, type_name, data)\u001b[0m\n\u001b[1;32m    119\u001b[0m         \u001b[0;32mif\u001b[0m \u001b[0mmissing_columns\u001b[0m\u001b[0;34m:\u001b[0m\u001b[0;34m\u001b[0m\u001b[0;34m\u001b[0m\u001b[0m\n\u001b[1;32m    120\u001b[0m             raise ValueError(\n\u001b[0;32m--> 121\u001b[0;31m                 \u001b[0;34mf\"{self.name(type_name)}: expected {comma_sep(self.selected_columns)} columns, found: {comma_sep(data.columns)}\"\u001b[0m\u001b[0;34m\u001b[0m\u001b[0;34m\u001b[0m\u001b[0m\n\u001b[0m\u001b[1;32m    122\u001b[0m             )\n\u001b[1;32m    123\u001b[0m \u001b[0;34m\u001b[0m\u001b[0m\n",
      "\u001b[0;31mValueError\u001b[0m: edges: expected 'source', 'target', None, '@type' columns, found: 'source', 'target'"
     ]
    }
   ],
   "source": [
    "stellar_graph = pgframe_to_stellargraph(frame, include_type=True)"
   ]
  },
  {
   "cell_type": "code",
   "execution_count": 150,
   "metadata": {},
   "outputs": [
    {
     "data": {
      "text/plain": [
       "<stellargraph.core.element_data.EdgeData at 0x7f8aee95e390>"
      ]
     },
     "execution_count": 150,
     "metadata": {},
     "output_type": "execute_result"
    }
   ],
   "source": [
    "stellar_graph._edges"
   ]
  },
  {
   "cell_type": "code",
   "execution_count": 143,
   "metadata": {},
   "outputs": [
    {
     "data": {
      "text/plain": [
       "Index(['Edge', 'bla'], dtype='object')"
      ]
     },
     "execution_count": 143,
     "metadata": {},
     "output_type": "execute_result"
    }
   ],
   "source": [
    "stellar_graph.edge_types"
   ]
  },
  {
   "cell_type": "code",
   "execution_count": 157,
   "metadata": {},
   "outputs": [],
   "source": [
    "edge_dicts = [\n",
    "    {\"@source_id\": s, \"@target_id\": t, \"@type\": etype, \"weight\": weight}\n",
    "    for s, t, etype, weight in\n",
    "    zip(\n",
    "        stellar_graph._nodes.ids.from_iloc(stellar_graph._edges.sources),\n",
    "        stellar_graph._nodes.ids.from_iloc(stellar_graph._edges.targets),\n",
    "        stellar_graph._edges.type_of_iloc(slice(None)),\n",
    "        stellar_graph._edges.weights\n",
    "    )\n",
    "]\n",
    "edge_frame = pd.DataFrame(edge_dicts).set_index([\"@source_id\", \"@target_id\"])"
   ]
  },
  {
   "cell_type": "code",
   "execution_count": 156,
   "metadata": {},
   "outputs": [
    {
     "data": {
      "text/html": [
       "<div>\n",
       "<style scoped>\n",
       "    .dataframe tbody tr th:only-of-type {\n",
       "        vertical-align: middle;\n",
       "    }\n",
       "\n",
       "    .dataframe tbody tr th {\n",
       "        vertical-align: top;\n",
       "    }\n",
       "\n",
       "    .dataframe thead th {\n",
       "        text-align: right;\n",
       "    }\n",
       "</style>\n",
       "<table border=\"1\" class=\"dataframe\">\n",
       "  <thead>\n",
       "    <tr style=\"text-align: right;\">\n",
       "      <th></th>\n",
       "      <th>@source_id</th>\n",
       "      <th>@target_id</th>\n",
       "      <th>@type</th>\n",
       "      <th>weight</th>\n",
       "    </tr>\n",
       "  </thead>\n",
       "  <tbody>\n",
       "    <tr>\n",
       "      <th>0</th>\n",
       "      <td>0</td>\n",
       "      <td>1</td>\n",
       "      <td>Edge</td>\n",
       "      <td>1.0</td>\n",
       "    </tr>\n",
       "    <tr>\n",
       "      <th>1</th>\n",
       "      <td>0</td>\n",
       "      <td>2</td>\n",
       "      <td>Edge</td>\n",
       "      <td>1.0</td>\n",
       "    </tr>\n",
       "    <tr>\n",
       "      <th>2</th>\n",
       "      <td>0</td>\n",
       "      <td>3</td>\n",
       "      <td>Edge</td>\n",
       "      <td>1.0</td>\n",
       "    </tr>\n",
       "    <tr>\n",
       "      <th>3</th>\n",
       "      <td>0</td>\n",
       "      <td>4</td>\n",
       "      <td>Edge</td>\n",
       "      <td>1.0</td>\n",
       "    </tr>\n",
       "    <tr>\n",
       "      <th>4</th>\n",
       "      <td>0</td>\n",
       "      <td>5</td>\n",
       "      <td>Edge</td>\n",
       "      <td>1.0</td>\n",
       "    </tr>\n",
       "    <tr>\n",
       "      <th>...</th>\n",
       "      <td>...</td>\n",
       "      <td>...</td>\n",
       "      <td>...</td>\n",
       "      <td>...</td>\n",
       "    </tr>\n",
       "    <tr>\n",
       "      <th>73</th>\n",
       "      <td>2</td>\n",
       "      <td>8</td>\n",
       "      <td>bla</td>\n",
       "      <td>1.0</td>\n",
       "    </tr>\n",
       "    <tr>\n",
       "      <th>74</th>\n",
       "      <td>2</td>\n",
       "      <td>7</td>\n",
       "      <td>bla</td>\n",
       "      <td>1.0</td>\n",
       "    </tr>\n",
       "    <tr>\n",
       "      <th>75</th>\n",
       "      <td>2</td>\n",
       "      <td>3</td>\n",
       "      <td>bla</td>\n",
       "      <td>1.0</td>\n",
       "    </tr>\n",
       "    <tr>\n",
       "      <th>76</th>\n",
       "      <td>6</td>\n",
       "      <td>16</td>\n",
       "      <td>bla</td>\n",
       "      <td>1.0</td>\n",
       "    </tr>\n",
       "    <tr>\n",
       "      <th>77</th>\n",
       "      <td>32</td>\n",
       "      <td>33</td>\n",
       "      <td>bla</td>\n",
       "      <td>1.0</td>\n",
       "    </tr>\n",
       "  </tbody>\n",
       "</table>\n",
       "<p>78 rows × 4 columns</p>\n",
       "</div>"
      ],
      "text/plain": [
       "    @source_id  @target_id @type  weight\n",
       "0            0           1  Edge     1.0\n",
       "1            0           2  Edge     1.0\n",
       "2            0           3  Edge     1.0\n",
       "3            0           4  Edge     1.0\n",
       "4            0           5  Edge     1.0\n",
       "..         ...         ...   ...     ...\n",
       "73           2           8   bla     1.0\n",
       "74           2           7   bla     1.0\n",
       "75           2           3   bla     1.0\n",
       "76           6          16   bla     1.0\n",
       "77          32          33   bla     1.0\n",
       "\n",
       "[78 rows x 4 columns]"
      ]
     },
     "execution_count": 156,
     "metadata": {},
     "output_type": "execute_result"
    }
   ],
   "source": []
  },
  {
   "cell_type": "code",
   "execution_count": 142,
   "metadata": {
    "scrolled": true
   },
   "outputs": [
    {
     "name": "stdout",
     "output_type": "stream",
     "text": [
      "(0, 1, 'Edge', 1.0)\n",
      "(0, 2, 'Edge', 1.0)\n",
      "(0, 3, 'Edge', 1.0)\n",
      "(0, 4, 'Edge', 1.0)\n",
      "(0, 5, 'Edge', 1.0)\n",
      "(0, 6, 'Edge', 1.0)\n",
      "(22, 33, 'bla', 1.0)\n",
      "(22, 32, 'bla', 1.0)\n",
      "(20, 33, 'bla', 1.0)\n",
      "(20, 32, 'bla', 1.0)\n",
      "(19, 33, 'bla', 1.0)\n",
      "(18, 33, 'bla', 1.0)\n",
      "(18, 32, 'bla', 1.0)\n",
      "(14, 33, 'bla', 1.0)\n",
      "(15, 32, 'bla', 1.0)\n",
      "(23, 25, 'bla', 1.0)\n",
      "(14, 32, 'bla', 1.0)\n",
      "(13, 33, 'bla', 1.0)\n",
      "(9, 33, 'bla', 1.0)\n",
      "(8, 33, 'bla', 1.0)\n",
      "(15, 33, 'bla', 1.0)\n",
      "(23, 27, 'bla', 1.0)\n",
      "(23, 33, 'bla', 1.0)\n",
      "(23, 32, 'bla', 1.0)\n",
      "(31, 32, 'bla', 1.0)\n",
      "(30, 33, 'bla', 1.0)\n",
      "(30, 32, 'bla', 1.0)\n",
      "(29, 33, 'bla', 1.0)\n",
      "(29, 32, 'bla', 1.0)\n",
      "(28, 33, 'bla', 1.0)\n",
      "(28, 31, 'bla', 1.0)\n",
      "(27, 33, 'bla', 1.0)\n",
      "(26, 33, 'bla', 1.0)\n",
      "(26, 29, 'bla', 1.0)\n",
      "(25, 31, 'bla', 1.0)\n",
      "(24, 31, 'bla', 1.0)\n",
      "(24, 27, 'bla', 1.0)\n",
      "(24, 25, 'bla', 1.0)\n",
      "(8, 32, 'bla', 1.0)\n",
      "(23, 29, 'bla', 1.0)\n",
      "(8, 30, 'bla', 1.0)\n",
      "(5, 10, 'bla', 1.0)\n",
      "(5, 16, 'bla', 1.0)\n",
      "(1, 13, 'bla', 1.0)\n",
      "(1, 7, 'bla', 1.0)\n",
      "(1, 3, 'bla', 1.0)\n",
      "(1, 2, 'bla', 1.0)\n",
      "(0, 31, 'bla', 1.0)\n",
      "(0, 21, 'bla', 1.0)\n",
      "(1, 17, 'bla', 1.0)\n",
      "(0, 19, 'bla', 1.0)\n",
      "(0, 13, 'bla', 1.0)\n",
      "(0, 12, 'bla', 1.0)\n",
      "(0, 11, 'bla', 1.0)\n",
      "(0, 10, 'bla', 1.0)\n",
      "(0, 8, 'bla', 1.0)\n",
      "(0, 7, 'bla', 1.0)\n",
      "(0, 17, 'bla', 1.0)\n",
      "(1, 19, 'bla', 1.0)\n",
      "(1, 21, 'bla', 1.0)\n",
      "(1, 30, 'bla', 1.0)\n",
      "(31, 33, 'bla', 1.0)\n",
      "(5, 6, 'bla', 1.0)\n",
      "(4, 10, 'bla', 1.0)\n",
      "(4, 6, 'bla', 1.0)\n",
      "(3, 13, 'bla', 1.0)\n",
      "(3, 12, 'bla', 1.0)\n",
      "(3, 7, 'bla', 1.0)\n",
      "(2, 32, 'bla', 1.0)\n",
      "(2, 28, 'bla', 1.0)\n",
      "(2, 27, 'bla', 1.0)\n",
      "(2, 13, 'bla', 1.0)\n",
      "(2, 9, 'bla', 1.0)\n",
      "(2, 8, 'bla', 1.0)\n",
      "(2, 7, 'bla', 1.0)\n",
      "(2, 3, 'bla', 1.0)\n",
      "(6, 16, 'bla', 1.0)\n",
      "(32, 33, 'bla', 1.0)\n"
     ]
    }
   ],
   "source": [
    "for el in iterator:\n",
    "    print(el)"
   ]
  },
  {
   "cell_type": "code",
   "execution_count": 133,
   "metadata": {},
   "outputs": [],
   "source": [
    "node_dicts = []\n",
    "node_ids = stellar_graph.nodes()\n",
    "if stellar_graph.node_types != {\"default\"}:\n",
    "    for node_type in stellar_graph.node_types:\n",
    "        node_ids = stellar_graph.nodes(node_type=node_type)\n",
    "        features = stellar_graph.node_features(node_ids, node_type=node_type)\n",
    "        for node_id, node_features in zip(node_ids, features):\n",
    "            node_dict ={\"@id\": node_id, \"@type\": node_type}\n",
    "            if len(node_features) > 0:\n",
    "                node_dict[\"features\"] = node_features\n",
    "            node_dicts.append(node_dict)\n",
    "else:\n",
    "    features = stellar_graph.node_features(node_ids)\n",
    "    for node_id, node_features in zip(node_ids, features):\n",
    "        node_dict ={\"@id\": node_id}\n",
    "        if len(node_features) > 0:\n",
    "            node_dict[\"features\"] = node_features\n",
    "        node_dicts.append(node_dict)"
   ]
  },
  {
   "cell_type": "code",
   "execution_count": 134,
   "metadata": {
    "scrolled": true
   },
   "outputs": [
    {
     "data": {
      "text/html": [
       "<div>\n",
       "<style scoped>\n",
       "    .dataframe tbody tr th:only-of-type {\n",
       "        vertical-align: middle;\n",
       "    }\n",
       "\n",
       "    .dataframe tbody tr th {\n",
       "        vertical-align: top;\n",
       "    }\n",
       "\n",
       "    .dataframe thead th {\n",
       "        text-align: right;\n",
       "    }\n",
       "</style>\n",
       "<table border=\"1\" class=\"dataframe\">\n",
       "  <thead>\n",
       "    <tr style=\"text-align: right;\">\n",
       "      <th></th>\n",
       "      <th>@id</th>\n",
       "      <th>@type</th>\n",
       "    </tr>\n",
       "  </thead>\n",
       "  <tbody>\n",
       "    <tr>\n",
       "      <th>0</th>\n",
       "      <td>5</td>\n",
       "      <td>La</td>\n",
       "    </tr>\n",
       "    <tr>\n",
       "      <th>1</th>\n",
       "      <td>6</td>\n",
       "      <td>La</td>\n",
       "    </tr>\n",
       "    <tr>\n",
       "      <th>2</th>\n",
       "      <td>7</td>\n",
       "      <td>La</td>\n",
       "    </tr>\n",
       "    <tr>\n",
       "      <th>3</th>\n",
       "      <td>8</td>\n",
       "      <td>La</td>\n",
       "    </tr>\n",
       "    <tr>\n",
       "      <th>4</th>\n",
       "      <td>9</td>\n",
       "      <td>La</td>\n",
       "    </tr>\n",
       "    <tr>\n",
       "      <th>5</th>\n",
       "      <td>10</td>\n",
       "      <td>La</td>\n",
       "    </tr>\n",
       "    <tr>\n",
       "      <th>6</th>\n",
       "      <td>11</td>\n",
       "      <td>La</td>\n",
       "    </tr>\n",
       "    <tr>\n",
       "      <th>7</th>\n",
       "      <td>12</td>\n",
       "      <td>La</td>\n",
       "    </tr>\n",
       "    <tr>\n",
       "      <th>8</th>\n",
       "      <td>13</td>\n",
       "      <td>La</td>\n",
       "    </tr>\n",
       "    <tr>\n",
       "      <th>9</th>\n",
       "      <td>14</td>\n",
       "      <td>La</td>\n",
       "    </tr>\n",
       "    <tr>\n",
       "      <th>10</th>\n",
       "      <td>15</td>\n",
       "      <td>La</td>\n",
       "    </tr>\n",
       "    <tr>\n",
       "      <th>11</th>\n",
       "      <td>16</td>\n",
       "      <td>La</td>\n",
       "    </tr>\n",
       "    <tr>\n",
       "      <th>12</th>\n",
       "      <td>17</td>\n",
       "      <td>La</td>\n",
       "    </tr>\n",
       "    <tr>\n",
       "      <th>13</th>\n",
       "      <td>18</td>\n",
       "      <td>La</td>\n",
       "    </tr>\n",
       "    <tr>\n",
       "      <th>14</th>\n",
       "      <td>19</td>\n",
       "      <td>La</td>\n",
       "    </tr>\n",
       "    <tr>\n",
       "      <th>15</th>\n",
       "      <td>20</td>\n",
       "      <td>La</td>\n",
       "    </tr>\n",
       "    <tr>\n",
       "      <th>16</th>\n",
       "      <td>21</td>\n",
       "      <td>La</td>\n",
       "    </tr>\n",
       "    <tr>\n",
       "      <th>17</th>\n",
       "      <td>22</td>\n",
       "      <td>La</td>\n",
       "    </tr>\n",
       "    <tr>\n",
       "      <th>18</th>\n",
       "      <td>23</td>\n",
       "      <td>La</td>\n",
       "    </tr>\n",
       "    <tr>\n",
       "      <th>19</th>\n",
       "      <td>24</td>\n",
       "      <td>La</td>\n",
       "    </tr>\n",
       "    <tr>\n",
       "      <th>20</th>\n",
       "      <td>25</td>\n",
       "      <td>La</td>\n",
       "    </tr>\n",
       "    <tr>\n",
       "      <th>21</th>\n",
       "      <td>26</td>\n",
       "      <td>La</td>\n",
       "    </tr>\n",
       "    <tr>\n",
       "      <th>22</th>\n",
       "      <td>27</td>\n",
       "      <td>La</td>\n",
       "    </tr>\n",
       "    <tr>\n",
       "      <th>23</th>\n",
       "      <td>28</td>\n",
       "      <td>La</td>\n",
       "    </tr>\n",
       "    <tr>\n",
       "      <th>24</th>\n",
       "      <td>29</td>\n",
       "      <td>La</td>\n",
       "    </tr>\n",
       "    <tr>\n",
       "      <th>25</th>\n",
       "      <td>30</td>\n",
       "      <td>La</td>\n",
       "    </tr>\n",
       "    <tr>\n",
       "      <th>26</th>\n",
       "      <td>31</td>\n",
       "      <td>La</td>\n",
       "    </tr>\n",
       "    <tr>\n",
       "      <th>27</th>\n",
       "      <td>32</td>\n",
       "      <td>La</td>\n",
       "    </tr>\n",
       "    <tr>\n",
       "      <th>28</th>\n",
       "      <td>33</td>\n",
       "      <td>La</td>\n",
       "    </tr>\n",
       "    <tr>\n",
       "      <th>29</th>\n",
       "      <td>0</td>\n",
       "      <td>Node</td>\n",
       "    </tr>\n",
       "    <tr>\n",
       "      <th>30</th>\n",
       "      <td>1</td>\n",
       "      <td>Node</td>\n",
       "    </tr>\n",
       "    <tr>\n",
       "      <th>31</th>\n",
       "      <td>2</td>\n",
       "      <td>Node</td>\n",
       "    </tr>\n",
       "    <tr>\n",
       "      <th>32</th>\n",
       "      <td>3</td>\n",
       "      <td>Node</td>\n",
       "    </tr>\n",
       "    <tr>\n",
       "      <th>33</th>\n",
       "      <td>4</td>\n",
       "      <td>Node</td>\n",
       "    </tr>\n",
       "  </tbody>\n",
       "</table>\n",
       "</div>"
      ],
      "text/plain": [
       "    @id @type\n",
       "0     5    La\n",
       "1     6    La\n",
       "2     7    La\n",
       "3     8    La\n",
       "4     9    La\n",
       "5    10    La\n",
       "6    11    La\n",
       "7    12    La\n",
       "8    13    La\n",
       "9    14    La\n",
       "10   15    La\n",
       "11   16    La\n",
       "12   17    La\n",
       "13   18    La\n",
       "14   19    La\n",
       "15   20    La\n",
       "16   21    La\n",
       "17   22    La\n",
       "18   23    La\n",
       "19   24    La\n",
       "20   25    La\n",
       "21   26    La\n",
       "22   27    La\n",
       "23   28    La\n",
       "24   29    La\n",
       "25   30    La\n",
       "26   31    La\n",
       "27   32    La\n",
       "28   33    La\n",
       "29    0  Node\n",
       "30    1  Node\n",
       "31    2  Node\n",
       "32    3  Node\n",
       "33    4  Node"
      ]
     },
     "execution_count": 134,
     "metadata": {},
     "output_type": "execute_result"
    }
   ],
   "source": [
    "pd.DataFrame(node_dicts)"
   ]
  },
  {
   "cell_type": "code",
   "execution_count": 116,
   "metadata": {},
   "outputs": [
    {
     "ename": "TypeError",
     "evalue": "'ExternalIdIndex' object is not iterable",
     "output_type": "error",
     "traceback": [
      "\u001b[0;31m---------------------------------------------------------------------------\u001b[0m",
      "\u001b[0;31mTypeError\u001b[0m                                 Traceback (most recent call last)",
      "\u001b[0;32m<ipython-input-116-38fd3cb3c512>\u001b[0m in \u001b[0;36m<module>\u001b[0;34m\u001b[0m\n\u001b[0;32m----> 1\u001b[0;31m \u001b[0mlist\u001b[0m\u001b[0;34m(\u001b[0m\u001b[0mn\u001b[0m\u001b[0;34m.\u001b[0m\u001b[0mtypes\u001b[0m\u001b[0;34m)\u001b[0m\u001b[0;34m\u001b[0m\u001b[0;34m\u001b[0m\u001b[0m\n\u001b[0m",
      "\u001b[0;31mTypeError\u001b[0m: 'ExternalIdIndex' object is not iterable"
     ]
    }
   ],
   "source": [
    "for ty in self.node_types:\n",
    "    node_ids = self.nodes(node_type=ty)\n",
    "    ty_dict = {node_type_attr: ty}\n",
    "\n",
    "    if feature_attr is not None:\n",
    "        features = self.node_features(node_ids, node_type=ty)\n",
    "\n",
    "        for node_id, node_features in zip(node_ids, features):\n",
    "            graph.add_node(\n",
    "                node_id, **ty_dict, **{feature_attr: node_features},\n",
    "            )\n",
    "    else:\n",
    "        graph.add_nodes_from(node_ids, **ty_dict)\n",
    "\n",
    "iterator = zip(\n",
    "    self._nodes.ids.from_iloc(self._edges.sources),\n",
    "    self._nodes.ids.from_iloc(self._edges.targets),\n",
    "    self._edges.type_of_iloc(slice(None)),\n",
    "    self._edges.weights,\n",
    ")\n",
    "graph.add_edges_from(\n",
    "    (src, dst, {edge_type_attr: type_, edge_weight_attr: weight})\n",
    "    for src, dst, type_, weight in iterator\n",
    ")\n",
    "\n",
    "return graph"
   ]
  },
  {
   "cell_type": "code",
   "execution_count": null,
   "metadata": {},
   "outputs": [],
   "source": []
  },
  {
   "cell_type": "code",
   "execution_count": 89,
   "metadata": {},
   "outputs": [
    {
     "data": {
      "text/plain": [
       "array([], shape=(34, 0), dtype=float64)"
      ]
     },
     "execution_count": 89,
     "metadata": {},
     "output_type": "execute_result"
    }
   ],
   "source": [
    "stellar_graph.node_features()"
   ]
  },
  {
   "cell_type": "code",
   "execution_count": 86,
   "metadata": {},
   "outputs": [
    {
     "data": {
      "text/plain": [
       "Int64Index([ 0,  1,  2,  3,  4,  5,  6,  7,  8,  9, 10, 11, 12, 13, 14, 15, 16,\n",
       "            17, 18, 19, 20, 21, 22, 23, 24, 25, 26, 27, 28, 29, 30, 31, 32,\n",
       "            33],\n",
       "           dtype='int64')"
      ]
     },
     "execution_count": 86,
     "metadata": {},
     "output_type": "execute_result"
    }
   ],
   "source": [
    "n._id_index.pandas_index"
   ]
  },
  {
   "cell_type": "code",
   "execution_count": null,
   "metadata": {},
   "outputs": [],
   "source": []
  }
 ],
 "metadata": {
  "kernelspec": {
   "display_name": "bluegraph",
   "language": "python",
   "name": "bluegraph"
  },
  "language_info": {
   "codemirror_mode": {
    "name": "ipython",
    "version": 3
   },
   "file_extension": ".py",
   "mimetype": "text/x-python",
   "name": "python",
   "nbconvert_exporter": "python",
   "pygments_lexer": "ipython3",
   "version": "3.6.12"
  }
 },
 "nbformat": 4,
 "nbformat_minor": 4
}
