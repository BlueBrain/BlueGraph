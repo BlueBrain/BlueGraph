{
 "cells": [
  {
   "cell_type": "code",
   "execution_count": 1,
   "id": "fourth-offer",
   "metadata": {},
   "outputs": [],
   "source": [
    "import random\n",
    "\n",
    "import numpy as np\n",
    "import pandas as pd\n",
    "\n",
    "from nltk.corpus import words"
   ]
  },
  {
   "cell_type": "code",
   "execution_count": 2,
   "id": "ongoing-senator",
   "metadata": {},
   "outputs": [],
   "source": [
    "from bluegraph import PandasPGFrame\n",
    "from bluegraph.preprocess import ScikitLearnPGEncoder\n",
    "from bluegraph.backends.stellargraph import StellarGraphNodeEmbedder"
   ]
  },
  {
   "cell_type": "code",
   "execution_count": 3,
   "id": "naval-sudan",
   "metadata": {},
   "outputs": [],
   "source": [
    "nodes = [\n",
    "    \"Alice\", \"Bob\", \"Eric\", \"John\", \"Anna\", \"Laura\", \"Matt\"\n",
    "]\n",
    "age = [25, 9, 70, 42, 26, 35, 36]\n",
    "height = [180, 122, 173, 194, 172, 156, 177]\n",
    "weight = [75, 43, 68, 82, 70, 59, 81]\n",
    "sources = [\n",
    "    \"Alice\", \"Alice\", \"Bob\", \"Bob\", \"Bob\", \"Eric\", \"Anna\", \"Anna\", \"Matt\"\n",
    "]\n",
    "targets = [\n",
    "    \"Bob\", \"Eric\", \"Eric\", \"John\", \"Anna\", \"Anna\", \"Laura\", \"John\", \"John\"\n",
    "]\n",
    "weights = [1.0, 2.2, 0.3, 4.1, 1.5, 21.0, 1.0, 2.5, 7.5]\n",
    "edges = list(zip(sources, targets))\n",
    "frame = PandasPGFrame(nodes=nodes, edges=edges)\n",
    "\n",
    "# Add properties\n",
    "\n",
    "a = pd.DataFrame()\n",
    "frame.add_node_properties(\n",
    "    {\n",
    "        \"@id\": nodes,\n",
    "        \"age\": age\n",
    "    }, prop_type=\"numeric\")\n",
    "frame.add_node_properties(\n",
    "    {\n",
    "        \"@id\": nodes,\n",
    "        \"height\": height\n",
    "    }, prop_type=\"numeric\")\n",
    "frame.add_node_properties(\n",
    "    {\n",
    "        \"@id\": nodes,\n",
    "        \"weight\": weight\n",
    "    }, prop_type=\"numeric\")\n",
    "\n",
    "edge_weight = pd.DataFrame({\n",
    "    \"@source_id\": sources,\n",
    "    \"@target_id\": targets,\n",
    "    \"distance\": weights\n",
    "})\n",
    "frame.add_edge_properties(edge_weight, prop_type=\"numeric\")"
   ]
  },
  {
   "cell_type": "code",
   "execution_count": 4,
   "id": "changing-floor",
   "metadata": {},
   "outputs": [],
   "source": [
    "props = [\"age\", \"height\", \"weight\"]"
   ]
  },
  {
   "cell_type": "code",
   "execution_count": 5,
   "id": "descending-bangladesh",
   "metadata": {},
   "outputs": [],
   "source": [
    "df = frame._nodes[props]"
   ]
  },
  {
   "cell_type": "code",
   "execution_count": 6,
   "id": "appointed-least",
   "metadata": {},
   "outputs": [
    {
     "data": {
      "text/html": [
       "<div>\n",
       "<style scoped>\n",
       "    .dataframe tbody tr th:only-of-type {\n",
       "        vertical-align: middle;\n",
       "    }\n",
       "\n",
       "    .dataframe tbody tr th {\n",
       "        vertical-align: top;\n",
       "    }\n",
       "\n",
       "    .dataframe thead th {\n",
       "        text-align: right;\n",
       "    }\n",
       "</style>\n",
       "<table border=\"1\" class=\"dataframe\">\n",
       "  <thead>\n",
       "    <tr style=\"text-align: right;\">\n",
       "      <th></th>\n",
       "      <th>age</th>\n",
       "      <th>height</th>\n",
       "      <th>weight</th>\n",
       "    </tr>\n",
       "    <tr>\n",
       "      <th>@id</th>\n",
       "      <th></th>\n",
       "      <th></th>\n",
       "      <th></th>\n",
       "    </tr>\n",
       "  </thead>\n",
       "  <tbody>\n",
       "    <tr>\n",
       "      <th>Alice</th>\n",
       "      <td>25</td>\n",
       "      <td>180</td>\n",
       "      <td>75</td>\n",
       "    </tr>\n",
       "    <tr>\n",
       "      <th>Bob</th>\n",
       "      <td>9</td>\n",
       "      <td>122</td>\n",
       "      <td>43</td>\n",
       "    </tr>\n",
       "    <tr>\n",
       "      <th>Eric</th>\n",
       "      <td>70</td>\n",
       "      <td>173</td>\n",
       "      <td>68</td>\n",
       "    </tr>\n",
       "    <tr>\n",
       "      <th>John</th>\n",
       "      <td>42</td>\n",
       "      <td>194</td>\n",
       "      <td>82</td>\n",
       "    </tr>\n",
       "    <tr>\n",
       "      <th>Anna</th>\n",
       "      <td>26</td>\n",
       "      <td>172</td>\n",
       "      <td>70</td>\n",
       "    </tr>\n",
       "    <tr>\n",
       "      <th>Laura</th>\n",
       "      <td>35</td>\n",
       "      <td>156</td>\n",
       "      <td>59</td>\n",
       "    </tr>\n",
       "    <tr>\n",
       "      <th>Matt</th>\n",
       "      <td>36</td>\n",
       "      <td>177</td>\n",
       "      <td>81</td>\n",
       "    </tr>\n",
       "  </tbody>\n",
       "</table>\n",
       "</div>"
      ],
      "text/plain": [
       "       age  height  weight\n",
       "@id                       \n",
       "Alice   25     180      75\n",
       "Bob      9     122      43\n",
       "Eric    70     173      68\n",
       "John    42     194      82\n",
       "Anna    26     172      70\n",
       "Laura   35     156      59\n",
       "Matt    36     177      81"
      ]
     },
     "execution_count": 6,
     "metadata": {},
     "output_type": "execute_result"
    }
   ],
   "source": [
    "df"
   ]
  },
  {
   "cell_type": "code",
   "execution_count": 7,
   "id": "restricted-robinson",
   "metadata": {},
   "outputs": [
    {
     "data": {
      "text/plain": [
       "[[25, 180, 75],\n",
       " [9, 122, 43],\n",
       " [70, 173, 68],\n",
       " [42, 194, 82],\n",
       " [26, 172, 70],\n",
       " [35, 156, 59],\n",
       " [36, 177, 81]]"
      ]
     },
     "execution_count": 7,
     "metadata": {},
     "output_type": "execute_result"
    }
   ],
   "source": [
    "df.to_numpy().tolist()"
   ]
  },
  {
   "cell_type": "code",
   "execution_count": 8,
   "id": "conventional-maria",
   "metadata": {},
   "outputs": [],
   "source": [
    "df[\"_generated_features\"] = df.to_numpy().tolist()"
   ]
  },
  {
   "cell_type": "code",
   "execution_count": 9,
   "id": "loose-ottawa",
   "metadata": {},
   "outputs": [
    {
     "data": {
      "text/html": [
       "<div>\n",
       "<style scoped>\n",
       "    .dataframe tbody tr th:only-of-type {\n",
       "        vertical-align: middle;\n",
       "    }\n",
       "\n",
       "    .dataframe tbody tr th {\n",
       "        vertical-align: top;\n",
       "    }\n",
       "\n",
       "    .dataframe thead th {\n",
       "        text-align: right;\n",
       "    }\n",
       "</style>\n",
       "<table border=\"1\" class=\"dataframe\">\n",
       "  <thead>\n",
       "    <tr style=\"text-align: right;\">\n",
       "      <th></th>\n",
       "      <th>age</th>\n",
       "      <th>height</th>\n",
       "      <th>weight</th>\n",
       "      <th>_generated_features</th>\n",
       "    </tr>\n",
       "    <tr>\n",
       "      <th>@id</th>\n",
       "      <th></th>\n",
       "      <th></th>\n",
       "      <th></th>\n",
       "      <th></th>\n",
       "    </tr>\n",
       "  </thead>\n",
       "  <tbody>\n",
       "    <tr>\n",
       "      <th>Alice</th>\n",
       "      <td>25</td>\n",
       "      <td>180</td>\n",
       "      <td>75</td>\n",
       "      <td>[25, 180, 75]</td>\n",
       "    </tr>\n",
       "    <tr>\n",
       "      <th>Bob</th>\n",
       "      <td>9</td>\n",
       "      <td>122</td>\n",
       "      <td>43</td>\n",
       "      <td>[9, 122, 43]</td>\n",
       "    </tr>\n",
       "    <tr>\n",
       "      <th>Eric</th>\n",
       "      <td>70</td>\n",
       "      <td>173</td>\n",
       "      <td>68</td>\n",
       "      <td>[70, 173, 68]</td>\n",
       "    </tr>\n",
       "    <tr>\n",
       "      <th>John</th>\n",
       "      <td>42</td>\n",
       "      <td>194</td>\n",
       "      <td>82</td>\n",
       "      <td>[42, 194, 82]</td>\n",
       "    </tr>\n",
       "    <tr>\n",
       "      <th>Anna</th>\n",
       "      <td>26</td>\n",
       "      <td>172</td>\n",
       "      <td>70</td>\n",
       "      <td>[26, 172, 70]</td>\n",
       "    </tr>\n",
       "    <tr>\n",
       "      <th>Laura</th>\n",
       "      <td>35</td>\n",
       "      <td>156</td>\n",
       "      <td>59</td>\n",
       "      <td>[35, 156, 59]</td>\n",
       "    </tr>\n",
       "    <tr>\n",
       "      <th>Matt</th>\n",
       "      <td>36</td>\n",
       "      <td>177</td>\n",
       "      <td>81</td>\n",
       "      <td>[36, 177, 81]</td>\n",
       "    </tr>\n",
       "  </tbody>\n",
       "</table>\n",
       "</div>"
      ],
      "text/plain": [
       "       age  height  weight _generated_features\n",
       "@id                                           \n",
       "Alice   25     180      75       [25, 180, 75]\n",
       "Bob      9     122      43        [9, 122, 43]\n",
       "Eric    70     173      68       [70, 173, 68]\n",
       "John    42     194      82       [42, 194, 82]\n",
       "Anna    26     172      70       [26, 172, 70]\n",
       "Laura   35     156      59       [35, 156, 59]\n",
       "Matt    36     177      81       [36, 177, 81]"
      ]
     },
     "execution_count": 9,
     "metadata": {},
     "output_type": "execute_result"
    }
   ],
   "source": [
    "df"
   ]
  },
  {
   "cell_type": "code",
   "execution_count": 10,
   "id": "colonial-parcel",
   "metadata": {},
   "outputs": [],
   "source": [
    "def generate_targets(nodes, s, density=0.2):\n",
    "    edges = []\n",
    "    for t in nodes:\n",
    "        if s < t:\n",
    "            edge = np.random.choice([0, 1], p=[1 - density, density])\n",
    "            if edge:\n",
    "                \n",
    "                edges.append([s, t])\n",
    "    return edges\n",
    "\n",
    "\n",
    "def random_pgframe(n_nodes, density):\n",
    "    nodes = list(range(n_nodes))\n",
    "\n",
    "    edges = sum(\n",
    "        map(lambda x: generate_targets(nodes, x, density), nodes), [])\n",
    "    edges = pd.DataFrame(\n",
    "        edges, columns=[\"@source_id\", \"@target_id\"])\n",
    "    edges_df = edges.set_index([\"@source_id\", \"@target_id\"])\n",
    "    frame = PandasPGFrame(nodes=nodes, edges=edges_df.index)\n",
    "    return frame"
   ]
  },
  {
   "cell_type": "code",
   "execution_count": 11,
   "id": "similar-watershed",
   "metadata": {},
   "outputs": [],
   "source": [
    "N = 70\n",
    "density = 0.13"
   ]
  },
  {
   "cell_type": "markdown",
   "id": "leading-lodge",
   "metadata": {},
   "source": [
    "# Generate a random graph"
   ]
  },
  {
   "cell_type": "code",
   "execution_count": 12,
   "id": "temporal-target",
   "metadata": {},
   "outputs": [],
   "source": [
    "graph_frame = random_pgframe(N, density)"
   ]
  },
  {
   "cell_type": "code",
   "execution_count": 13,
   "id": "vanilla-tracker",
   "metadata": {},
   "outputs": [
    {
     "data": {
      "text/plain": [
       "[{'@id': 0},\n",
       " {'@id': 1},\n",
       " {'@id': 2},\n",
       " {'@id': 3},\n",
       " {'@id': 4},\n",
       " {'@id': 5},\n",
       " {'@id': 6},\n",
       " {'@id': 7},\n",
       " {'@id': 8},\n",
       " {'@id': 9},\n",
       " {'@id': 10},\n",
       " {'@id': 11},\n",
       " {'@id': 12},\n",
       " {'@id': 13},\n",
       " {'@id': 14},\n",
       " {'@id': 15},\n",
       " {'@id': 16},\n",
       " {'@id': 17},\n",
       " {'@id': 18},\n",
       " {'@id': 19},\n",
       " {'@id': 20},\n",
       " {'@id': 21},\n",
       " {'@id': 22},\n",
       " {'@id': 23},\n",
       " {'@id': 24},\n",
       " {'@id': 25},\n",
       " {'@id': 26},\n",
       " {'@id': 27},\n",
       " {'@id': 28},\n",
       " {'@id': 29},\n",
       " {'@id': 30},\n",
       " {'@id': 31},\n",
       " {'@id': 32},\n",
       " {'@id': 33},\n",
       " {'@id': 34},\n",
       " {'@id': 35},\n",
       " {'@id': 36},\n",
       " {'@id': 37},\n",
       " {'@id': 38},\n",
       " {'@id': 39},\n",
       " {'@id': 40},\n",
       " {'@id': 41},\n",
       " {'@id': 42},\n",
       " {'@id': 43},\n",
       " {'@id': 44},\n",
       " {'@id': 45},\n",
       " {'@id': 46},\n",
       " {'@id': 47},\n",
       " {'@id': 48},\n",
       " {'@id': 49},\n",
       " {'@id': 50},\n",
       " {'@id': 51},\n",
       " {'@id': 52},\n",
       " {'@id': 53},\n",
       " {'@id': 54},\n",
       " {'@id': 55},\n",
       " {'@id': 56},\n",
       " {'@id': 57},\n",
       " {'@id': 58},\n",
       " {'@id': 59},\n",
       " {'@id': 60},\n",
       " {'@id': 61},\n",
       " {'@id': 62},\n",
       " {'@id': 63},\n",
       " {'@id': 64},\n",
       " {'@id': 65},\n",
       " {'@id': 66},\n",
       " {'@id': 67},\n",
       " {'@id': 68},\n",
       " {'@id': 69}]"
      ]
     },
     "execution_count": 13,
     "metadata": {},
     "output_type": "execute_result"
    }
   ],
   "source": [
    "graph_frame._nodes.reset_index().to_dict(\"records\")"
   ]
  },
  {
   "cell_type": "code",
   "execution_count": 14,
   "id": "macro-birmingham",
   "metadata": {},
   "outputs": [
    {
     "data": {
      "text/html": [
       "<div>\n",
       "<style scoped>\n",
       "    .dataframe tbody tr th:only-of-type {\n",
       "        vertical-align: middle;\n",
       "    }\n",
       "\n",
       "    .dataframe tbody tr th {\n",
       "        vertical-align: top;\n",
       "    }\n",
       "\n",
       "    .dataframe thead th {\n",
       "        text-align: right;\n",
       "    }\n",
       "</style>\n",
       "<table border=\"1\" class=\"dataframe\">\n",
       "  <thead>\n",
       "    <tr style=\"text-align: right;\">\n",
       "      <th></th>\n",
       "      <th></th>\n",
       "    </tr>\n",
       "    <tr>\n",
       "      <th>@source_id</th>\n",
       "      <th>@target_id</th>\n",
       "    </tr>\n",
       "  </thead>\n",
       "  <tbody>\n",
       "    <tr>\n",
       "      <th rowspan=\"5\" valign=\"top\">0</th>\n",
       "      <th>4</th>\n",
       "    </tr>\n",
       "    <tr>\n",
       "      <th>5</th>\n",
       "    </tr>\n",
       "    <tr>\n",
       "      <th>31</th>\n",
       "    </tr>\n",
       "    <tr>\n",
       "      <th>36</th>\n",
       "    </tr>\n",
       "    <tr>\n",
       "      <th>37</th>\n",
       "    </tr>\n",
       "    <tr>\n",
       "      <th>...</th>\n",
       "      <th>...</th>\n",
       "    </tr>\n",
       "    <tr>\n",
       "      <th>62</th>\n",
       "      <th>66</th>\n",
       "    </tr>\n",
       "    <tr>\n",
       "      <th rowspan=\"3\" valign=\"top\">63</th>\n",
       "      <th>65</th>\n",
       "    </tr>\n",
       "    <tr>\n",
       "      <th>68</th>\n",
       "    </tr>\n",
       "    <tr>\n",
       "      <th>69</th>\n",
       "    </tr>\n",
       "    <tr>\n",
       "      <th>65</th>\n",
       "      <th>66</th>\n",
       "    </tr>\n",
       "  </tbody>\n",
       "</table>\n",
       "<p>304 rows × 0 columns</p>\n",
       "</div>"
      ],
      "text/plain": [
       "Empty DataFrame\n",
       "Columns: []\n",
       "Index: [(0, 4), (0, 5), (0, 31), (0, 36), (0, 37), (0, 42), (0, 53), (0, 67), (1, 29), (1, 35), (1, 36), (1, 42), (1, 46), (1, 50), (1, 66), (2, 4), (2, 17), (2, 22), (2, 26), (2, 34), (2, 40), (2, 56), (2, 62), (3, 7), (3, 17), (3, 19), (3, 26), (3, 32), (3, 42), (3, 47), (3, 53), (3, 67), (3, 68), (3, 69), (4, 5), (4, 8), (4, 12), (4, 15), (4, 31), (4, 32), (4, 36), (4, 39), (4, 63), (5, 13), (5, 31), (5, 36), (5, 51), (5, 55), (5, 57), (5, 61), (6, 23), (6, 25), (6, 28), (6, 31), (6, 40), (6, 59), (6, 60), (6, 66), (7, 35), (7, 56), (7, 67), (8, 22), (8, 24), (8, 29), (8, 37), (8, 41), (8, 53), (9, 14), (9, 17), (9, 27), (9, 41), (10, 16), (10, 21), (10, 24), (10, 29), (10, 35), (10, 40), (10, 45), (10, 50), (10, 66), (11, 13), (11, 27), (11, 29), (11, 35), (11, 37), (11, 39), (11, 47), (11, 55), (11, 58), (11, 60), (11, 65), (12, 18), (12, 19), (12, 20), (12, 23), (12, 34), (12, 58), (12, 59), (12, 66), (13, 31), ...]\n",
       "\n",
       "[304 rows x 0 columns]"
      ]
     },
     "execution_count": 14,
     "metadata": {},
     "output_type": "execute_result"
    }
   ],
   "source": [
    "graph_frame._edges"
   ]
  },
  {
   "cell_type": "markdown",
   "id": "african-football",
   "metadata": {},
   "source": [
    "# Add node and edge types"
   ]
  },
  {
   "cell_type": "code",
   "execution_count": 15,
   "id": "imported-merit",
   "metadata": {},
   "outputs": [],
   "source": [
    "types = [\"Apple\", \"Orange\", \"Carrot\"]"
   ]
  },
  {
   "cell_type": "code",
   "execution_count": 16,
   "id": "baking-bracket",
   "metadata": {},
   "outputs": [],
   "source": [
    "node_types = {\n",
    "    n: np.random.choice(types, p=[0.5, 0.4, 0.1])\n",
    "    for n in range(N)\n",
    "}"
   ]
  },
  {
   "cell_type": "code",
   "execution_count": 17,
   "id": "spiritual-desert",
   "metadata": {},
   "outputs": [],
   "source": [
    "graph_frame.add_node_types(node_types)"
   ]
  },
  {
   "cell_type": "code",
   "execution_count": 18,
   "id": "internal-michigan",
   "metadata": {},
   "outputs": [
    {
     "data": {
      "text/html": [
       "<div>\n",
       "<style scoped>\n",
       "    .dataframe tbody tr th:only-of-type {\n",
       "        vertical-align: middle;\n",
       "    }\n",
       "\n",
       "    .dataframe tbody tr th {\n",
       "        vertical-align: top;\n",
       "    }\n",
       "\n",
       "    .dataframe thead th {\n",
       "        text-align: right;\n",
       "    }\n",
       "</style>\n",
       "<table border=\"1\" class=\"dataframe\">\n",
       "  <thead>\n",
       "    <tr style=\"text-align: right;\">\n",
       "      <th></th>\n",
       "      <th>@type</th>\n",
       "    </tr>\n",
       "    <tr>\n",
       "      <th>@id</th>\n",
       "      <th></th>\n",
       "    </tr>\n",
       "  </thead>\n",
       "  <tbody>\n",
       "    <tr>\n",
       "      <th>0</th>\n",
       "      <td>Orange</td>\n",
       "    </tr>\n",
       "    <tr>\n",
       "      <th>1</th>\n",
       "      <td>Orange</td>\n",
       "    </tr>\n",
       "    <tr>\n",
       "      <th>2</th>\n",
       "      <td>Orange</td>\n",
       "    </tr>\n",
       "    <tr>\n",
       "      <th>3</th>\n",
       "      <td>Apple</td>\n",
       "    </tr>\n",
       "    <tr>\n",
       "      <th>4</th>\n",
       "      <td>Apple</td>\n",
       "    </tr>\n",
       "    <tr>\n",
       "      <th>...</th>\n",
       "      <td>...</td>\n",
       "    </tr>\n",
       "    <tr>\n",
       "      <th>65</th>\n",
       "      <td>Apple</td>\n",
       "    </tr>\n",
       "    <tr>\n",
       "      <th>66</th>\n",
       "      <td>Apple</td>\n",
       "    </tr>\n",
       "    <tr>\n",
       "      <th>67</th>\n",
       "      <td>Apple</td>\n",
       "    </tr>\n",
       "    <tr>\n",
       "      <th>68</th>\n",
       "      <td>Orange</td>\n",
       "    </tr>\n",
       "    <tr>\n",
       "      <th>69</th>\n",
       "      <td>Orange</td>\n",
       "    </tr>\n",
       "  </tbody>\n",
       "</table>\n",
       "<p>70 rows × 1 columns</p>\n",
       "</div>"
      ],
      "text/plain": [
       "      @type\n",
       "@id        \n",
       "0    Orange\n",
       "1    Orange\n",
       "2    Orange\n",
       "3     Apple\n",
       "4     Apple\n",
       "..      ...\n",
       "65    Apple\n",
       "66    Apple\n",
       "67    Apple\n",
       "68   Orange\n",
       "69   Orange\n",
       "\n",
       "[70 rows x 1 columns]"
      ]
     },
     "execution_count": 18,
     "metadata": {},
     "output_type": "execute_result"
    }
   ],
   "source": [
    "graph_frame._nodes"
   ]
  },
  {
   "cell_type": "code",
   "execution_count": 19,
   "id": "cheap-profile",
   "metadata": {},
   "outputs": [],
   "source": [
    "types = [\"isFriend\", \"isEnemy\"]"
   ]
  },
  {
   "cell_type": "code",
   "execution_count": 20,
   "id": "tight-village",
   "metadata": {},
   "outputs": [],
   "source": [
    "edge_types = {\n",
    "    e: np.random.choice(types, p=[0.8, 0.2])\n",
    "    for e in graph_frame.edges()\n",
    "}"
   ]
  },
  {
   "cell_type": "code",
   "execution_count": 21,
   "id": "adult-celtic",
   "metadata": {},
   "outputs": [],
   "source": [
    "graph_frame.add_edge_types(edge_types)"
   ]
  },
  {
   "cell_type": "code",
   "execution_count": 22,
   "id": "polished-cooler",
   "metadata": {},
   "outputs": [
    {
     "data": {
      "text/html": [
       "<div>\n",
       "<style scoped>\n",
       "    .dataframe tbody tr th:only-of-type {\n",
       "        vertical-align: middle;\n",
       "    }\n",
       "\n",
       "    .dataframe tbody tr th {\n",
       "        vertical-align: top;\n",
       "    }\n",
       "\n",
       "    .dataframe thead th {\n",
       "        text-align: right;\n",
       "    }\n",
       "</style>\n",
       "<table border=\"1\" class=\"dataframe\">\n",
       "  <thead>\n",
       "    <tr style=\"text-align: right;\">\n",
       "      <th></th>\n",
       "      <th></th>\n",
       "      <th>@type</th>\n",
       "    </tr>\n",
       "    <tr>\n",
       "      <th>@source_id</th>\n",
       "      <th>@target_id</th>\n",
       "      <th></th>\n",
       "    </tr>\n",
       "  </thead>\n",
       "  <tbody>\n",
       "    <tr>\n",
       "      <th rowspan=\"5\" valign=\"top\">0</th>\n",
       "      <th>4</th>\n",
       "      <td>isFriend</td>\n",
       "    </tr>\n",
       "    <tr>\n",
       "      <th>5</th>\n",
       "      <td>isFriend</td>\n",
       "    </tr>\n",
       "    <tr>\n",
       "      <th>31</th>\n",
       "      <td>isFriend</td>\n",
       "    </tr>\n",
       "    <tr>\n",
       "      <th>36</th>\n",
       "      <td>isEnemy</td>\n",
       "    </tr>\n",
       "    <tr>\n",
       "      <th>37</th>\n",
       "      <td>isFriend</td>\n",
       "    </tr>\n",
       "    <tr>\n",
       "      <th>...</th>\n",
       "      <th>...</th>\n",
       "      <td>...</td>\n",
       "    </tr>\n",
       "    <tr>\n",
       "      <th>62</th>\n",
       "      <th>66</th>\n",
       "      <td>isFriend</td>\n",
       "    </tr>\n",
       "    <tr>\n",
       "      <th rowspan=\"3\" valign=\"top\">63</th>\n",
       "      <th>65</th>\n",
       "      <td>isFriend</td>\n",
       "    </tr>\n",
       "    <tr>\n",
       "      <th>68</th>\n",
       "      <td>isEnemy</td>\n",
       "    </tr>\n",
       "    <tr>\n",
       "      <th>69</th>\n",
       "      <td>isFriend</td>\n",
       "    </tr>\n",
       "    <tr>\n",
       "      <th>65</th>\n",
       "      <th>66</th>\n",
       "      <td>isFriend</td>\n",
       "    </tr>\n",
       "  </tbody>\n",
       "</table>\n",
       "<p>304 rows × 1 columns</p>\n",
       "</div>"
      ],
      "text/plain": [
       "                          @type\n",
       "@source_id @target_id          \n",
       "0          4           isFriend\n",
       "           5           isFriend\n",
       "           31          isFriend\n",
       "           36           isEnemy\n",
       "           37          isFriend\n",
       "...                         ...\n",
       "62         66          isFriend\n",
       "63         65          isFriend\n",
       "           68           isEnemy\n",
       "           69          isFriend\n",
       "65         66          isFriend\n",
       "\n",
       "[304 rows x 1 columns]"
      ]
     },
     "execution_count": 22,
     "metadata": {},
     "output_type": "execute_result"
    }
   ],
   "source": [
    "graph_frame._edges"
   ]
  },
  {
   "cell_type": "markdown",
   "id": "communist-exclusion",
   "metadata": {},
   "source": [
    "# Add node and edge properties\n",
    "\n",
    "numerical, categorical, text"
   ]
  },
  {
   "cell_type": "markdown",
   "id": "cathedral-stock",
   "metadata": {},
   "source": [
    "## Add node properties"
   ]
  },
  {
   "cell_type": "code",
   "execution_count": 23,
   "id": "afraid-domain",
   "metadata": {},
   "outputs": [],
   "source": [
    "weight = pd.DataFrame(\n",
    "    [\n",
    "        (n, np.random.normal(loc=35, scale=5))\n",
    "        for n in graph_frame.nodes()\n",
    "    ], \n",
    "    columns=[\"@id\", \"weight\"]\n",
    ")"
   ]
  },
  {
   "cell_type": "code",
   "execution_count": 24,
   "id": "differential-satellite",
   "metadata": {},
   "outputs": [],
   "source": [
    "graph_frame.add_node_properties(weight, prop_type=\"numeric\")"
   ]
  },
  {
   "cell_type": "code",
   "execution_count": 25,
   "id": "imposed-train",
   "metadata": {},
   "outputs": [],
   "source": [
    "colors = [\"red\", \"green\", \"blue\"]"
   ]
  },
  {
   "cell_type": "code",
   "execution_count": 26,
   "id": "employed-fraud",
   "metadata": {},
   "outputs": [],
   "source": [
    "colors = pd.DataFrame(\n",
    "    [\n",
    "        (n, np.random.choice(colors))\n",
    "        for n in graph_frame.nodes()\n",
    "    ], \n",
    "    columns=[\"@id\", \"color\"]\n",
    ")"
   ]
  },
  {
   "cell_type": "code",
   "execution_count": 27,
   "id": "loving-southwest",
   "metadata": {},
   "outputs": [],
   "source": [
    "graph_frame.add_node_properties(colors, prop_type=\"category\")"
   ]
  },
  {
   "cell_type": "code",
   "execution_count": 28,
   "id": "young-shirt",
   "metadata": {},
   "outputs": [],
   "source": [
    "desc = pd.DataFrame(\n",
    "    [\n",
    "        (n, ' '.join(random.sample(words.words(), 20)))\n",
    "        for n in graph_frame.nodes()\n",
    "    ], \n",
    "    columns=[\"@id\", \"desc\"]\n",
    ")"
   ]
  },
  {
   "cell_type": "code",
   "execution_count": 29,
   "id": "derived-green",
   "metadata": {},
   "outputs": [],
   "source": [
    "graph_frame.add_node_properties(desc, prop_type=\"text\")"
   ]
  },
  {
   "cell_type": "code",
   "execution_count": 30,
   "id": "twelve-hudson",
   "metadata": {},
   "outputs": [
    {
     "data": {
      "text/html": [
       "<div>\n",
       "<style scoped>\n",
       "    .dataframe tbody tr th:only-of-type {\n",
       "        vertical-align: middle;\n",
       "    }\n",
       "\n",
       "    .dataframe tbody tr th {\n",
       "        vertical-align: top;\n",
       "    }\n",
       "\n",
       "    .dataframe thead th {\n",
       "        text-align: right;\n",
       "    }\n",
       "</style>\n",
       "<table border=\"1\" class=\"dataframe\">\n",
       "  <thead>\n",
       "    <tr style=\"text-align: right;\">\n",
       "      <th></th>\n",
       "      <th>@type</th>\n",
       "      <th>weight</th>\n",
       "      <th>color</th>\n",
       "      <th>desc</th>\n",
       "    </tr>\n",
       "    <tr>\n",
       "      <th>@id</th>\n",
       "      <th></th>\n",
       "      <th></th>\n",
       "      <th></th>\n",
       "      <th></th>\n",
       "    </tr>\n",
       "  </thead>\n",
       "  <tbody>\n",
       "    <tr>\n",
       "      <th>0</th>\n",
       "      <td>Orange</td>\n",
       "      <td>36.073461</td>\n",
       "      <td>red</td>\n",
       "      <td>ukase sialolithiasis downhanging intermediaten...</td>\n",
       "    </tr>\n",
       "    <tr>\n",
       "      <th>1</th>\n",
       "      <td>Orange</td>\n",
       "      <td>35.659915</td>\n",
       "      <td>blue</td>\n",
       "      <td>unreplaceable Sobranje foremanship matrilinear...</td>\n",
       "    </tr>\n",
       "    <tr>\n",
       "      <th>2</th>\n",
       "      <td>Orange</td>\n",
       "      <td>25.985632</td>\n",
       "      <td>red</td>\n",
       "      <td>linenette exocataphoria elytrum locellate Cerb...</td>\n",
       "    </tr>\n",
       "    <tr>\n",
       "      <th>3</th>\n",
       "      <td>Apple</td>\n",
       "      <td>36.389999</td>\n",
       "      <td>green</td>\n",
       "      <td>pentecoster glycosuric sulfurize synderesis an...</td>\n",
       "    </tr>\n",
       "    <tr>\n",
       "      <th>4</th>\n",
       "      <td>Apple</td>\n",
       "      <td>34.139613</td>\n",
       "      <td>green</td>\n",
       "      <td>essexite adoptive Marlena fliting disappear mi...</td>\n",
       "    </tr>\n",
       "    <tr>\n",
       "      <th>...</th>\n",
       "      <td>...</td>\n",
       "      <td>...</td>\n",
       "      <td>...</td>\n",
       "      <td>...</td>\n",
       "    </tr>\n",
       "    <tr>\n",
       "      <th>65</th>\n",
       "      <td>Apple</td>\n",
       "      <td>32.983873</td>\n",
       "      <td>red</td>\n",
       "      <td>hyperpatriotic hematocyte nonecompense submers...</td>\n",
       "    </tr>\n",
       "    <tr>\n",
       "      <th>66</th>\n",
       "      <td>Apple</td>\n",
       "      <td>29.692644</td>\n",
       "      <td>green</td>\n",
       "      <td>Eudorina orthosilicate Thalamiflorae rumenocen...</td>\n",
       "    </tr>\n",
       "    <tr>\n",
       "      <th>67</th>\n",
       "      <td>Apple</td>\n",
       "      <td>43.656535</td>\n",
       "      <td>red</td>\n",
       "      <td>photooxidation oversweeten fluviomarine impari...</td>\n",
       "    </tr>\n",
       "    <tr>\n",
       "      <th>68</th>\n",
       "      <td>Orange</td>\n",
       "      <td>39.844041</td>\n",
       "      <td>green</td>\n",
       "      <td>keloidal ingrowth overregistration overexert u...</td>\n",
       "    </tr>\n",
       "    <tr>\n",
       "      <th>69</th>\n",
       "      <td>Orange</td>\n",
       "      <td>26.004188</td>\n",
       "      <td>green</td>\n",
       "      <td>sustain Celaeno disposedly papule brassworker ...</td>\n",
       "    </tr>\n",
       "  </tbody>\n",
       "</table>\n",
       "<p>70 rows × 4 columns</p>\n",
       "</div>"
      ],
      "text/plain": [
       "      @type     weight  color  \\\n",
       "@id                             \n",
       "0    Orange  36.073461    red   \n",
       "1    Orange  35.659915   blue   \n",
       "2    Orange  25.985632    red   \n",
       "3     Apple  36.389999  green   \n",
       "4     Apple  34.139613  green   \n",
       "..      ...        ...    ...   \n",
       "65    Apple  32.983873    red   \n",
       "66    Apple  29.692644  green   \n",
       "67    Apple  43.656535    red   \n",
       "68   Orange  39.844041  green   \n",
       "69   Orange  26.004188  green   \n",
       "\n",
       "                                                  desc  \n",
       "@id                                                     \n",
       "0    ukase sialolithiasis downhanging intermediaten...  \n",
       "1    unreplaceable Sobranje foremanship matrilinear...  \n",
       "2    linenette exocataphoria elytrum locellate Cerb...  \n",
       "3    pentecoster glycosuric sulfurize synderesis an...  \n",
       "4    essexite adoptive Marlena fliting disappear mi...  \n",
       "..                                                 ...  \n",
       "65   hyperpatriotic hematocyte nonecompense submers...  \n",
       "66   Eudorina orthosilicate Thalamiflorae rumenocen...  \n",
       "67   photooxidation oversweeten fluviomarine impari...  \n",
       "68   keloidal ingrowth overregistration overexert u...  \n",
       "69   sustain Celaeno disposedly papule brassworker ...  \n",
       "\n",
       "[70 rows x 4 columns]"
      ]
     },
     "execution_count": 30,
     "metadata": {},
     "output_type": "execute_result"
    }
   ],
   "source": [
    "graph_frame._nodes"
   ]
  },
  {
   "cell_type": "markdown",
   "id": "potential-holiday",
   "metadata": {},
   "source": [
    "## Add edge properties"
   ]
  },
  {
   "cell_type": "code",
   "execution_count": 31,
   "id": "systematic-intensity",
   "metadata": {},
   "outputs": [],
   "source": [
    "years = pd.DataFrame(\n",
    "    [\n",
    "        (s, t, np.random.randint(0, 20))\n",
    "        for s, t in graph_frame.edges()\n",
    "    ], \n",
    "    columns=[\"@source_id\", \"@target_id\", \"n_years\"]\n",
    ")"
   ]
  },
  {
   "cell_type": "code",
   "execution_count": 32,
   "id": "canadian-wright",
   "metadata": {},
   "outputs": [],
   "source": [
    "graph_frame.add_edge_properties(years, prop_type=\"numeric\")"
   ]
  },
  {
   "cell_type": "code",
   "execution_count": 33,
   "id": "hired-leader",
   "metadata": {},
   "outputs": [],
   "source": [
    "shapes = [\"dashed\", \"dotted\", \"solid\"]\n",
    "shapes = pd.DataFrame(\n",
    "    [\n",
    "        (s, t, np.random.choice(shapes))\n",
    "        for s, t, in graph_frame.edges()\n",
    "    ], \n",
    "    columns=[\"@source_id\", \"@target_id\", \"shapes\"]\n",
    ")"
   ]
  },
  {
   "cell_type": "code",
   "execution_count": 34,
   "id": "progressive-billy",
   "metadata": {},
   "outputs": [],
   "source": [
    "graph_frame.add_edge_properties(shapes, prop_type=\"category\")"
   ]
  },
  {
   "cell_type": "code",
   "execution_count": null,
   "id": "familiar-prophet",
   "metadata": {},
   "outputs": [],
   "source": [
    "desc = pd.DataFrame(\n",
    "    [\n",
    "        (s, t, ' '.join(random.sample(words.words(), 20)))\n",
    "        for s, t, in graph_frame.edges()\n",
    "    ], \n",
    "    columns=[\"@source_id\", \"@target_id\", \"desc\"]\n",
    ")"
   ]
  },
  {
   "cell_type": "code",
   "execution_count": null,
   "id": "indirect-skirt",
   "metadata": {},
   "outputs": [],
   "source": [
    "graph_frame.add_edge_properties(desc, prop_type=\"text\")"
   ]
  },
  {
   "cell_type": "code",
   "execution_count": null,
   "id": "optional-result",
   "metadata": {},
   "outputs": [],
   "source": [
    "graph_frame._edges"
   ]
  },
  {
   "cell_type": "code",
   "execution_count": null,
   "id": "dominant-intent",
   "metadata": {},
   "outputs": [],
   "source": [
    "graph_frame._edge_prop_types"
   ]
  },
  {
   "cell_type": "markdown",
   "id": "attended-battlefield",
   "metadata": {},
   "source": [
    "# Property encoding"
   ]
  },
  {
   "cell_type": "code",
   "execution_count": null,
   "id": "incorrect-course",
   "metadata": {},
   "outputs": [],
   "source": [
    "## Run this if nltk error occurs (need to download the 'words' corpus)\n",
    "# import nltk\n",
    "# nltk.download('words')"
   ]
  },
  {
   "cell_type": "code",
   "execution_count": null,
   "id": "supreme-activation",
   "metadata": {},
   "outputs": [],
   "source": [
    "hom_encoder = ScikitLearnPGEncoder(\n",
    "    node_properties=[\"weight\", \"color\", \"desc\"],\n",
    "    edge_properties=[\"n_years\", \"shapes\", \"desc\"],\n",
    "    edge_features=True,\n",
    "    heterogeneous=False,\n",
    "    encode_types=True, drop_types=True, text_encoding=\"tfidf\")"
   ]
  },
  {
   "cell_type": "code",
   "execution_count": null,
   "id": "understood-execution",
   "metadata": {},
   "outputs": [],
   "source": [
    "transformed_frame = hom_encoder.fit_transform(graph_frame)"
   ]
  },
  {
   "cell_type": "code",
   "execution_count": null,
   "id": "clean-geography",
   "metadata": {},
   "outputs": [],
   "source": [
    "transformed_frame._nodes.sample(5)"
   ]
  },
  {
   "cell_type": "code",
   "execution_count": null,
   "id": "legal-astronomy",
   "metadata": {},
   "outputs": [],
   "source": [
    "hom_encoder._node_encoders"
   ]
  },
  {
   "cell_type": "code",
   "execution_count": null,
   "id": "ruled-party",
   "metadata": {},
   "outputs": [],
   "source": [
    "transformed_frame._edges.sample(5)"
   ]
  },
  {
   "cell_type": "code",
   "execution_count": null,
   "id": "angry-boulder",
   "metadata": {},
   "outputs": [],
   "source": [
    "hom_encoder._edge_encoders"
   ]
  },
  {
   "cell_type": "markdown",
   "id": "relevant-ministry",
   "metadata": {},
   "source": [
    "## Convert PGFrames into json-ld"
   ]
  },
  {
   "cell_type": "code",
   "execution_count": null,
   "id": "varied-mexican",
   "metadata": {},
   "outputs": [],
   "source": [
    "jsonld_repr = graph_frame.to_jsonld(edges_key=\"outEdges\")"
   ]
  },
  {
   "cell_type": "code",
   "execution_count": null,
   "id": "demographic-marsh",
   "metadata": {},
   "outputs": [],
   "source": [
    "jsonld_repr"
   ]
  },
  {
   "cell_type": "code",
   "execution_count": null,
   "id": "eastern-indication",
   "metadata": {},
   "outputs": [],
   "source": [
    "new_frame = PandasPGFrame()\n",
    "new_frame.from_jsonld(jsonld_repr, types_from_relations=False)"
   ]
  },
  {
   "cell_type": "code",
   "execution_count": null,
   "id": "collect-abraham",
   "metadata": {
    "scrolled": true
   },
   "outputs": [],
   "source": [
    "new_frame._nodes.sample(5)"
   ]
  },
  {
   "cell_type": "code",
   "execution_count": null,
   "id": "romance-cologne",
   "metadata": {
    "scrolled": true
   },
   "outputs": [],
   "source": [
    "new_frame._edges.sample(5)"
   ]
  }
 ],
 "metadata": {
  "kernelspec": {
   "display_name": "bluegraph",
   "language": "python",
   "name": "bluegraph"
  },
  "language_info": {
   "codemirror_mode": {
    "name": "ipython",
    "version": 3
   },
   "file_extension": ".py",
   "mimetype": "text/x-python",
   "name": "python",
   "nbconvert_exporter": "python",
   "pygments_lexer": "ipython3",
   "version": "3.6.12"
  }
 },
 "nbformat": 4,
 "nbformat_minor": 5
}
