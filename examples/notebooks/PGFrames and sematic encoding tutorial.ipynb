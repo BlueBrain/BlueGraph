{
 "cells": [
  {
   "cell_type": "markdown",
   "id": "desperate-florida",
   "metadata": {},
   "source": [
    "# Introduction to PGFrames and semantic encoding\n"
   ]
  },
  {
   "cell_type": "code",
   "execution_count": 1,
   "id": "fourth-offer",
   "metadata": {},
   "outputs": [],
   "source": [
    "import random\n",
    "\n",
    "import numpy as np\n",
    "import pandas as pd\n",
    "\n",
    "from nltk.corpus import words"
   ]
  },
  {
   "cell_type": "code",
   "execution_count": 2,
   "id": "ongoing-senator",
   "metadata": {},
   "outputs": [],
   "source": [
    "from bluegraph import PandasPGFrame\n",
    "from bluegraph.preprocess import ScikitLearnPGEncoder\n",
    "from bluegraph.backends.stellargraph import StellarGraphNodeEmbedder"
   ]
  },
  {
   "cell_type": "markdown",
   "id": "taken-memorabilia",
   "metadata": {},
   "source": [
    "__NB:__ If an nltk error occurs, run the following code (the 'words' corpus needs to be downloaded for semantic encoding of text properties):\n",
    "\n",
    "```\n",
    "import nltk\n",
    "nltk.download('words')\n",
    "```"
   ]
  },
  {
   "cell_type": "markdown",
   "id": "advisory-source",
   "metadata": {},
   "source": [
    "## Example 1: small property graph"
   ]
  },
  {
   "cell_type": "markdown",
   "id": "exceptional-signature",
   "metadata": {},
   "source": [
    "Intialize a `PandasPGFrame` given a node and edge list."
   ]
  },
  {
   "cell_type": "code",
   "execution_count": 3,
   "id": "naval-sudan",
   "metadata": {},
   "outputs": [],
   "source": [
    "nodes = [\"Alice\", \"Bob\", \"Eric\", \"John\", \"Anna\", \"Laura\", \"Matt\"]\n",
    "\n",
    "sources = [\n",
    "    \"Alice\", \"Alice\", \"Bob\", \"Bob\", \"Bob\", \"Eric\", \"Anna\", \"Anna\", \"Matt\"\n",
    "]\n",
    "targets = [\n",
    "    \"Bob\", \"Eric\", \"Eric\", \"John\", \"Anna\", \"Anna\", \"Laura\", \"John\", \"John\"\n",
    "]\n",
    "edges = list(zip(sources, targets))\n",
    "\n",
    "frame = PandasPGFrame(nodes=nodes, edges=edges)"
   ]
  },
  {
   "cell_type": "markdown",
   "id": "practical-mortgage",
   "metadata": {},
   "source": [
    "Get nodes and edges as lists."
   ]
  },
  {
   "cell_type": "code",
   "execution_count": 4,
   "id": "damaged-winner",
   "metadata": {},
   "outputs": [
    {
     "data": {
      "text/plain": [
       "['Alice', 'Bob', 'Eric', 'John', 'Anna', 'Laura', 'Matt']"
      ]
     },
     "execution_count": 4,
     "metadata": {},
     "output_type": "execute_result"
    }
   ],
   "source": [
    "frame.nodes()"
   ]
  },
  {
   "cell_type": "code",
   "execution_count": 5,
   "id": "italic-incidence",
   "metadata": {},
   "outputs": [
    {
     "data": {
      "text/plain": [
       "[('Alice', 'Bob'),\n",
       " ('Alice', 'Eric'),\n",
       " ('Bob', 'Eric'),\n",
       " ('Bob', 'John'),\n",
       " ('Bob', 'Anna'),\n",
       " ('Eric', 'Anna'),\n",
       " ('Anna', 'Laura'),\n",
       " ('Anna', 'John'),\n",
       " ('Matt', 'John')]"
      ]
     },
     "execution_count": 5,
     "metadata": {},
     "output_type": "execute_result"
    }
   ],
   "source": [
    "frame.edges()"
   ]
  },
  {
   "cell_type": "markdown",
   "id": "allied-portal",
   "metadata": {},
   "source": [
    "Add properties to nodes and edges. Here, all the properties have type `numeric`. Other available types are: `categorical` and `text`."
   ]
  },
  {
   "cell_type": "code",
   "execution_count": 6,
   "id": "solved-malawi",
   "metadata": {},
   "outputs": [],
   "source": [
    "age = [25, 9, 70, 42, 26, 35, 36]\n",
    "frame.add_node_properties(\n",
    "    {\n",
    "        \"@id\": nodes,\n",
    "        \"age\": age\n",
    "    }, prop_type=\"numeric\")\n",
    "\n",
    "height = [180, 122, 173, 194, 172, 156, 177]\n",
    "frame.add_node_properties(\n",
    "    {\n",
    "        \"@id\": nodes,\n",
    "        \"height\": height\n",
    "    }, prop_type=\"numeric\")\n",
    "\n",
    "weight = [75, 43, 68, 82, 70, 59, 81]\n",
    "frame.add_node_properties(\n",
    "    {\n",
    "        \"@id\": nodes,\n",
    "        \"weight\": weight\n",
    "    }, prop_type=\"numeric\")\n",
    "\n",
    "\n",
    "weights = [1.0, 2.2, 0.3, 4.1, 1.5, 21.0, 1.0, 2.5, 7.5]\n",
    "edge_weight = pd.DataFrame({\n",
    "    \"@source_id\": sources,\n",
    "    \"@target_id\": targets,\n",
    "    \"distance\": weights\n",
    "})\n",
    "frame.add_edge_properties(edge_weight, prop_type=\"numeric\")"
   ]
  },
  {
   "cell_type": "markdown",
   "id": "informative-wallet",
   "metadata": {},
   "source": [
    "Get nodes and edges as dataframes."
   ]
  },
  {
   "cell_type": "code",
   "execution_count": 7,
   "id": "descending-bangladesh",
   "metadata": {},
   "outputs": [
    {
     "data": {
      "text/html": [
       "<div>\n",
       "<style scoped>\n",
       "    .dataframe tbody tr th:only-of-type {\n",
       "        vertical-align: middle;\n",
       "    }\n",
       "\n",
       "    .dataframe tbody tr th {\n",
       "        vertical-align: top;\n",
       "    }\n",
       "\n",
       "    .dataframe thead th {\n",
       "        text-align: right;\n",
       "    }\n",
       "</style>\n",
       "<table border=\"1\" class=\"dataframe\">\n",
       "  <thead>\n",
       "    <tr style=\"text-align: right;\">\n",
       "      <th></th>\n",
       "      <th>age</th>\n",
       "      <th>height</th>\n",
       "      <th>weight</th>\n",
       "    </tr>\n",
       "    <tr>\n",
       "      <th>@id</th>\n",
       "      <th></th>\n",
       "      <th></th>\n",
       "      <th></th>\n",
       "    </tr>\n",
       "  </thead>\n",
       "  <tbody>\n",
       "    <tr>\n",
       "      <th>John</th>\n",
       "      <td>42</td>\n",
       "      <td>194</td>\n",
       "      <td>82</td>\n",
       "    </tr>\n",
       "    <tr>\n",
       "      <th>Anna</th>\n",
       "      <td>26</td>\n",
       "      <td>172</td>\n",
       "      <td>70</td>\n",
       "    </tr>\n",
       "    <tr>\n",
       "      <th>Alice</th>\n",
       "      <td>25</td>\n",
       "      <td>180</td>\n",
       "      <td>75</td>\n",
       "    </tr>\n",
       "    <tr>\n",
       "      <th>Matt</th>\n",
       "      <td>36</td>\n",
       "      <td>177</td>\n",
       "      <td>81</td>\n",
       "    </tr>\n",
       "    <tr>\n",
       "      <th>Laura</th>\n",
       "      <td>35</td>\n",
       "      <td>156</td>\n",
       "      <td>59</td>\n",
       "    </tr>\n",
       "  </tbody>\n",
       "</table>\n",
       "</div>"
      ],
      "text/plain": [
       "       age  height  weight\n",
       "@id                       \n",
       "John    42     194      82\n",
       "Anna    26     172      70\n",
       "Alice   25     180      75\n",
       "Matt    36     177      81\n",
       "Laura   35     156      59"
      ]
     },
     "execution_count": 7,
     "metadata": {},
     "output_type": "execute_result"
    }
   ],
   "source": [
    "frame.nodes(raw_frame=True).sample(5)"
   ]
  },
  {
   "cell_type": "code",
   "execution_count": 8,
   "id": "maritime-seattle",
   "metadata": {},
   "outputs": [
    {
     "data": {
      "text/html": [
       "<div>\n",
       "<style scoped>\n",
       "    .dataframe tbody tr th:only-of-type {\n",
       "        vertical-align: middle;\n",
       "    }\n",
       "\n",
       "    .dataframe tbody tr th {\n",
       "        vertical-align: top;\n",
       "    }\n",
       "\n",
       "    .dataframe thead th {\n",
       "        text-align: right;\n",
       "    }\n",
       "</style>\n",
       "<table border=\"1\" class=\"dataframe\">\n",
       "  <thead>\n",
       "    <tr style=\"text-align: right;\">\n",
       "      <th></th>\n",
       "      <th></th>\n",
       "      <th>distance</th>\n",
       "    </tr>\n",
       "    <tr>\n",
       "      <th>@source_id</th>\n",
       "      <th>@target_id</th>\n",
       "      <th></th>\n",
       "    </tr>\n",
       "  </thead>\n",
       "  <tbody>\n",
       "    <tr>\n",
       "      <th>Anna</th>\n",
       "      <th>Laura</th>\n",
       "      <td>1.0</td>\n",
       "    </tr>\n",
       "    <tr>\n",
       "      <th>Alice</th>\n",
       "      <th>Bob</th>\n",
       "      <td>1.0</td>\n",
       "    </tr>\n",
       "    <tr>\n",
       "      <th>Bob</th>\n",
       "      <th>Anna</th>\n",
       "      <td>1.5</td>\n",
       "    </tr>\n",
       "    <tr>\n",
       "      <th>Eric</th>\n",
       "      <th>Anna</th>\n",
       "      <td>21.0</td>\n",
       "    </tr>\n",
       "    <tr>\n",
       "      <th>Anna</th>\n",
       "      <th>John</th>\n",
       "      <td>2.5</td>\n",
       "    </tr>\n",
       "  </tbody>\n",
       "</table>\n",
       "</div>"
      ],
      "text/plain": [
       "                       distance\n",
       "@source_id @target_id          \n",
       "Anna       Laura            1.0\n",
       "Alice      Bob              1.0\n",
       "Bob        Anna             1.5\n",
       "Eric       Anna            21.0\n",
       "Anna       John             2.5"
      ]
     },
     "execution_count": 8,
     "metadata": {},
     "output_type": "execute_result"
    }
   ],
   "source": [
    "frame.edges(raw_frame=True).sample(5)"
   ]
  },
  {
   "cell_type": "markdown",
   "id": "leading-lodge",
   "metadata": {},
   "source": [
    "## Example 2: Random graph with a given density\n",
    "\n",
    "In this example we will generate a small random graph given a specified density value (i.e. ratio of edges realized of all possible edges between distinct pairs of nodes)."
   ]
  },
  {
   "cell_type": "markdown",
   "id": "heavy-builder",
   "metadata": {},
   "source": [
    "### Create a PandasPGFrame"
   ]
  },
  {
   "cell_type": "code",
   "execution_count": 9,
   "id": "similar-watershed",
   "metadata": {},
   "outputs": [],
   "source": [
    "N = 70  # number of nodes\n",
    "density = 0.1  # density value"
   ]
  },
  {
   "cell_type": "code",
   "execution_count": 10,
   "id": "colonial-parcel",
   "metadata": {},
   "outputs": [],
   "source": [
    "# Helper functions for graph generation\n",
    "\n",
    "def generate_targets(nodes, s, density=0.2):\n",
    "    edges = []\n",
    "    for t in nodes:\n",
    "        if s < t:\n",
    "            edge = np.random.choice([0, 1], p=[1 - density, density])\n",
    "            if edge:\n",
    "                \n",
    "                edges.append([s, t])\n",
    "    return edges\n",
    "\n",
    "\n",
    "def random_pgframe(n_nodes, density):\n",
    "    nodes = list(range(n_nodes))\n",
    "\n",
    "    edges = sum(\n",
    "        map(lambda x: generate_targets(nodes, x, density), nodes), [])\n",
    "    edges = pd.DataFrame(\n",
    "        edges, columns=[\"@source_id\", \"@target_id\"])\n",
    "    edges_df = edges.set_index([\"@source_id\", \"@target_id\"])\n",
    "    frame = PandasPGFrame(nodes=nodes, edges=edges_df.index)\n",
    "    return frame"
   ]
  },
  {
   "cell_type": "code",
   "execution_count": 11,
   "id": "temporal-target",
   "metadata": {},
   "outputs": [],
   "source": [
    "graph_frame = random_pgframe(N, density)"
   ]
  },
  {
   "cell_type": "markdown",
   "id": "lovely-marker",
   "metadata": {},
   "source": [
    "Get nodes and edges as dataframes."
   ]
  },
  {
   "cell_type": "code",
   "execution_count": 12,
   "id": "developing-colonial",
   "metadata": {},
   "outputs": [
    {
     "data": {
      "text/html": [
       "<div>\n",
       "<style scoped>\n",
       "    .dataframe tbody tr th:only-of-type {\n",
       "        vertical-align: middle;\n",
       "    }\n",
       "\n",
       "    .dataframe tbody tr th {\n",
       "        vertical-align: top;\n",
       "    }\n",
       "\n",
       "    .dataframe thead th {\n",
       "        text-align: right;\n",
       "    }\n",
       "</style>\n",
       "<table border=\"1\" class=\"dataframe\">\n",
       "  <thead>\n",
       "    <tr style=\"text-align: right;\">\n",
       "      <th></th>\n",
       "    </tr>\n",
       "    <tr>\n",
       "      <th>@id</th>\n",
       "    </tr>\n",
       "  </thead>\n",
       "  <tbody>\n",
       "    <tr>\n",
       "      <th>26</th>\n",
       "    </tr>\n",
       "    <tr>\n",
       "      <th>62</th>\n",
       "    </tr>\n",
       "    <tr>\n",
       "      <th>39</th>\n",
       "    </tr>\n",
       "    <tr>\n",
       "      <th>34</th>\n",
       "    </tr>\n",
       "    <tr>\n",
       "      <th>11</th>\n",
       "    </tr>\n",
       "  </tbody>\n",
       "</table>\n",
       "</div>"
      ],
      "text/plain": [
       "Empty DataFrame\n",
       "Columns: []\n",
       "Index: [26, 62, 39, 34, 11]"
      ]
     },
     "execution_count": 12,
     "metadata": {},
     "output_type": "execute_result"
    }
   ],
   "source": [
    "graph_frame.nodes(raw_frame=True).sample(5)"
   ]
  },
  {
   "cell_type": "code",
   "execution_count": 13,
   "id": "macro-birmingham",
   "metadata": {},
   "outputs": [
    {
     "data": {
      "text/html": [
       "<div>\n",
       "<style scoped>\n",
       "    .dataframe tbody tr th:only-of-type {\n",
       "        vertical-align: middle;\n",
       "    }\n",
       "\n",
       "    .dataframe tbody tr th {\n",
       "        vertical-align: top;\n",
       "    }\n",
       "\n",
       "    .dataframe thead th {\n",
       "        text-align: right;\n",
       "    }\n",
       "</style>\n",
       "<table border=\"1\" class=\"dataframe\">\n",
       "  <thead>\n",
       "    <tr style=\"text-align: right;\">\n",
       "      <th></th>\n",
       "      <th></th>\n",
       "    </tr>\n",
       "    <tr>\n",
       "      <th>@source_id</th>\n",
       "      <th>@target_id</th>\n",
       "    </tr>\n",
       "  </thead>\n",
       "  <tbody>\n",
       "    <tr>\n",
       "      <th>13</th>\n",
       "      <th>46</th>\n",
       "    </tr>\n",
       "    <tr>\n",
       "      <th>0</th>\n",
       "      <th>56</th>\n",
       "    </tr>\n",
       "    <tr>\n",
       "      <th>19</th>\n",
       "      <th>25</th>\n",
       "    </tr>\n",
       "    <tr>\n",
       "      <th>13</th>\n",
       "      <th>20</th>\n",
       "    </tr>\n",
       "    <tr>\n",
       "      <th>51</th>\n",
       "      <th>64</th>\n",
       "    </tr>\n",
       "  </tbody>\n",
       "</table>\n",
       "</div>"
      ],
      "text/plain": [
       "Empty DataFrame\n",
       "Columns: []\n",
       "Index: [(13, 46), (0, 56), (19, 25), (13, 20), (51, 64)]"
      ]
     },
     "execution_count": 13,
     "metadata": {},
     "output_type": "execute_result"
    }
   ],
   "source": [
    "graph_frame.edges(raw_frame=True).sample(5)"
   ]
  },
  {
   "cell_type": "markdown",
   "id": "african-football",
   "metadata": {},
   "source": [
    "### Add node and edge types\n",
    "\n",
    "Here we generate random types for nodes and edges."
   ]
  },
  {
   "cell_type": "code",
   "execution_count": 14,
   "id": "baking-bracket",
   "metadata": {},
   "outputs": [],
   "source": [
    "types = [\"Apple\", \"Orange\", \"Carrot\"]\n",
    "node_types = {\n",
    "    n: np.random.choice(types, p=[0.5, 0.4, 0.1])\n",
    "    for n in range(N)\n",
    "}"
   ]
  },
  {
   "cell_type": "code",
   "execution_count": 15,
   "id": "spiritual-desert",
   "metadata": {},
   "outputs": [],
   "source": [
    "graph_frame.add_node_types(node_types)"
   ]
  },
  {
   "cell_type": "code",
   "execution_count": 16,
   "id": "internal-michigan",
   "metadata": {},
   "outputs": [
    {
     "data": {
      "text/html": [
       "<div>\n",
       "<style scoped>\n",
       "    .dataframe tbody tr th:only-of-type {\n",
       "        vertical-align: middle;\n",
       "    }\n",
       "\n",
       "    .dataframe tbody tr th {\n",
       "        vertical-align: top;\n",
       "    }\n",
       "\n",
       "    .dataframe thead th {\n",
       "        text-align: right;\n",
       "    }\n",
       "</style>\n",
       "<table border=\"1\" class=\"dataframe\">\n",
       "  <thead>\n",
       "    <tr style=\"text-align: right;\">\n",
       "      <th></th>\n",
       "      <th>@type</th>\n",
       "    </tr>\n",
       "    <tr>\n",
       "      <th>@id</th>\n",
       "      <th></th>\n",
       "    </tr>\n",
       "  </thead>\n",
       "  <tbody>\n",
       "    <tr>\n",
       "      <th>6</th>\n",
       "      <td>Orange</td>\n",
       "    </tr>\n",
       "    <tr>\n",
       "      <th>53</th>\n",
       "      <td>Orange</td>\n",
       "    </tr>\n",
       "    <tr>\n",
       "      <th>66</th>\n",
       "      <td>Apple</td>\n",
       "    </tr>\n",
       "    <tr>\n",
       "      <th>31</th>\n",
       "      <td>Orange</td>\n",
       "    </tr>\n",
       "    <tr>\n",
       "      <th>47</th>\n",
       "      <td>Orange</td>\n",
       "    </tr>\n",
       "  </tbody>\n",
       "</table>\n",
       "</div>"
      ],
      "text/plain": [
       "      @type\n",
       "@id        \n",
       "6    Orange\n",
       "53   Orange\n",
       "66    Apple\n",
       "31   Orange\n",
       "47   Orange"
      ]
     },
     "execution_count": 16,
     "metadata": {},
     "output_type": "execute_result"
    }
   ],
   "source": [
    "graph_frame.nodes(raw_frame=True).sample(5)"
   ]
  },
  {
   "cell_type": "code",
   "execution_count": 17,
   "id": "tight-village",
   "metadata": {},
   "outputs": [],
   "source": [
    "types = [\"isFriend\", \"isEnemy\"]\n",
    "edge_types = {\n",
    "    e: np.random.choice(types, p=[0.8, 0.2])\n",
    "    for e in graph_frame.edges()\n",
    "}"
   ]
  },
  {
   "cell_type": "code",
   "execution_count": 18,
   "id": "adult-celtic",
   "metadata": {},
   "outputs": [],
   "source": [
    "graph_frame.add_edge_types(edge_types)"
   ]
  },
  {
   "cell_type": "code",
   "execution_count": 19,
   "id": "restricted-robinson",
   "metadata": {},
   "outputs": [
    {
     "data": {
      "text/html": [
       "<div>\n",
       "<style scoped>\n",
       "    .dataframe tbody tr th:only-of-type {\n",
       "        vertical-align: middle;\n",
       "    }\n",
       "\n",
       "    .dataframe tbody tr th {\n",
       "        vertical-align: top;\n",
       "    }\n",
       "\n",
       "    .dataframe thead th {\n",
       "        text-align: right;\n",
       "    }\n",
       "</style>\n",
       "<table border=\"1\" class=\"dataframe\">\n",
       "  <thead>\n",
       "    <tr style=\"text-align: right;\">\n",
       "      <th></th>\n",
       "      <th></th>\n",
       "      <th>@type</th>\n",
       "    </tr>\n",
       "    <tr>\n",
       "      <th>@source_id</th>\n",
       "      <th>@target_id</th>\n",
       "      <th></th>\n",
       "    </tr>\n",
       "  </thead>\n",
       "  <tbody>\n",
       "    <tr>\n",
       "      <th>12</th>\n",
       "      <th>56</th>\n",
       "      <td>isEnemy</td>\n",
       "    </tr>\n",
       "    <tr>\n",
       "      <th>32</th>\n",
       "      <th>33</th>\n",
       "      <td>isFriend</td>\n",
       "    </tr>\n",
       "    <tr>\n",
       "      <th>4</th>\n",
       "      <th>32</th>\n",
       "      <td>isEnemy</td>\n",
       "    </tr>\n",
       "    <tr>\n",
       "      <th>40</th>\n",
       "      <th>57</th>\n",
       "      <td>isFriend</td>\n",
       "    </tr>\n",
       "    <tr>\n",
       "      <th>47</th>\n",
       "      <th>54</th>\n",
       "      <td>isFriend</td>\n",
       "    </tr>\n",
       "  </tbody>\n",
       "</table>\n",
       "</div>"
      ],
      "text/plain": [
       "                          @type\n",
       "@source_id @target_id          \n",
       "12         56           isEnemy\n",
       "32         33          isFriend\n",
       "4          32           isEnemy\n",
       "40         57          isFriend\n",
       "47         54          isFriend"
      ]
     },
     "execution_count": 19,
     "metadata": {},
     "output_type": "execute_result"
    }
   ],
   "source": [
    "graph_frame.edges(raw_frame=True).sample(5)"
   ]
  },
  {
   "cell_type": "markdown",
   "id": "cathedral-stock",
   "metadata": {},
   "source": [
    "### Add node and edge properties\n",
    "\n",
    "We add node properties of different data types (`numeric`, `categorical`, `text`) randomly."
   ]
  },
  {
   "cell_type": "code",
   "execution_count": 20,
   "id": "afraid-domain",
   "metadata": {},
   "outputs": [],
   "source": [
    "weight = pd.DataFrame(\n",
    "    [\n",
    "        (n, np.random.normal(loc=35, scale=5))\n",
    "        for n in graph_frame.nodes()\n",
    "    ], \n",
    "    columns=[\"@id\", \"weight\"]\n",
    ")"
   ]
  },
  {
   "cell_type": "code",
   "execution_count": 21,
   "id": "differential-satellite",
   "metadata": {},
   "outputs": [],
   "source": [
    "graph_frame.add_node_properties(weight, prop_type=\"numeric\")"
   ]
  },
  {
   "cell_type": "code",
   "execution_count": 22,
   "id": "imposed-train",
   "metadata": {},
   "outputs": [],
   "source": [
    "colors = [\"red\", \"green\", \"blue\"]"
   ]
  },
  {
   "cell_type": "code",
   "execution_count": 23,
   "id": "employed-fraud",
   "metadata": {},
   "outputs": [],
   "source": [
    "colors = pd.DataFrame(\n",
    "    [\n",
    "        (n, np.random.choice(colors))\n",
    "        for n in graph_frame.nodes()\n",
    "    ], \n",
    "    columns=[\"@id\", \"color\"]\n",
    ")"
   ]
  },
  {
   "cell_type": "code",
   "execution_count": 24,
   "id": "loving-southwest",
   "metadata": {},
   "outputs": [],
   "source": [
    "graph_frame.add_node_properties(colors, prop_type=\"category\")"
   ]
  },
  {
   "cell_type": "code",
   "execution_count": 25,
   "id": "young-shirt",
   "metadata": {},
   "outputs": [],
   "source": [
    "desc = pd.DataFrame(\n",
    "    [\n",
    "        (n, ' '.join(random.sample(words.words(), 20)))\n",
    "        for n in graph_frame.nodes()\n",
    "    ], \n",
    "    columns=[\"@id\", \"desc\"]\n",
    ")"
   ]
  },
  {
   "cell_type": "code",
   "execution_count": 26,
   "id": "derived-green",
   "metadata": {},
   "outputs": [],
   "source": [
    "graph_frame.add_node_properties(desc, prop_type=\"text\")"
   ]
  },
  {
   "cell_type": "code",
   "execution_count": 27,
   "id": "worldwide-weapon",
   "metadata": {},
   "outputs": [
    {
     "data": {
      "text/html": [
       "<div>\n",
       "<style scoped>\n",
       "    .dataframe tbody tr th:only-of-type {\n",
       "        vertical-align: middle;\n",
       "    }\n",
       "\n",
       "    .dataframe tbody tr th {\n",
       "        vertical-align: top;\n",
       "    }\n",
       "\n",
       "    .dataframe thead th {\n",
       "        text-align: right;\n",
       "    }\n",
       "</style>\n",
       "<table border=\"1\" class=\"dataframe\">\n",
       "  <thead>\n",
       "    <tr style=\"text-align: right;\">\n",
       "      <th></th>\n",
       "      <th>@type</th>\n",
       "      <th>weight</th>\n",
       "      <th>color</th>\n",
       "      <th>desc</th>\n",
       "    </tr>\n",
       "    <tr>\n",
       "      <th>@id</th>\n",
       "      <th></th>\n",
       "      <th></th>\n",
       "      <th></th>\n",
       "      <th></th>\n",
       "    </tr>\n",
       "  </thead>\n",
       "  <tbody>\n",
       "    <tr>\n",
       "      <th>7</th>\n",
       "      <td>Apple</td>\n",
       "      <td>38.230987</td>\n",
       "      <td>blue</td>\n",
       "      <td>polycrystalline ornithischian kismet cyclophre...</td>\n",
       "    </tr>\n",
       "    <tr>\n",
       "      <th>55</th>\n",
       "      <td>Orange</td>\n",
       "      <td>42.171966</td>\n",
       "      <td>green</td>\n",
       "      <td>mantellone sensibilize cannibalize scrupler do...</td>\n",
       "    </tr>\n",
       "    <tr>\n",
       "      <th>67</th>\n",
       "      <td>Apple</td>\n",
       "      <td>36.589363</td>\n",
       "      <td>green</td>\n",
       "      <td>methoxide cubocuneiform Dasyurus lovemonger su...</td>\n",
       "    </tr>\n",
       "    <tr>\n",
       "      <th>8</th>\n",
       "      <td>Apple</td>\n",
       "      <td>35.480659</td>\n",
       "      <td>green</td>\n",
       "      <td>accresce adenomalacia enucleator pentyne untam...</td>\n",
       "    </tr>\n",
       "    <tr>\n",
       "      <th>32</th>\n",
       "      <td>Orange</td>\n",
       "      <td>35.251585</td>\n",
       "      <td>red</td>\n",
       "      <td>Meccawee bigamize Kirsten sappiness Tim phalan...</td>\n",
       "    </tr>\n",
       "  </tbody>\n",
       "</table>\n",
       "</div>"
      ],
      "text/plain": [
       "      @type     weight  color  \\\n",
       "@id                             \n",
       "7     Apple  38.230987   blue   \n",
       "55   Orange  42.171966  green   \n",
       "67    Apple  36.589363  green   \n",
       "8     Apple  35.480659  green   \n",
       "32   Orange  35.251585    red   \n",
       "\n",
       "                                                  desc  \n",
       "@id                                                     \n",
       "7    polycrystalline ornithischian kismet cyclophre...  \n",
       "55   mantellone sensibilize cannibalize scrupler do...  \n",
       "67   methoxide cubocuneiform Dasyurus lovemonger su...  \n",
       "8    accresce adenomalacia enucleator pentyne untam...  \n",
       "32   Meccawee bigamize Kirsten sappiness Tim phalan...  "
      ]
     },
     "execution_count": 27,
     "metadata": {},
     "output_type": "execute_result"
    }
   ],
   "source": [
    "graph_frame.nodes(raw_frame=True).sample(5)"
   ]
  },
  {
   "cell_type": "code",
   "execution_count": 28,
   "id": "featured-oliver",
   "metadata": {},
   "outputs": [
    {
     "data": {
      "text/plain": [
       "{'@type': 'category', 'weight': 'numeric', 'color': 'category', 'desc': 'text'}"
      ]
     },
     "execution_count": 28,
     "metadata": {},
     "output_type": "execute_result"
    }
   ],
   "source": [
    "graph_frame._node_prop_types"
   ]
  },
  {
   "cell_type": "markdown",
   "id": "potential-holiday",
   "metadata": {},
   "source": [
    "We add edge properties of different data types (`numeric`, `categorical`, `text`) randomly."
   ]
  },
  {
   "cell_type": "code",
   "execution_count": 29,
   "id": "systematic-intensity",
   "metadata": {},
   "outputs": [],
   "source": [
    "years = pd.DataFrame(\n",
    "    [\n",
    "        (s, t, np.random.randint(0, 20))\n",
    "        for s, t in graph_frame.edges()\n",
    "    ], \n",
    "    columns=[\"@source_id\", \"@target_id\", \"n_years\"]\n",
    ")"
   ]
  },
  {
   "cell_type": "code",
   "execution_count": 30,
   "id": "canadian-wright",
   "metadata": {},
   "outputs": [],
   "source": [
    "graph_frame.add_edge_properties(years, prop_type=\"numeric\")"
   ]
  },
  {
   "cell_type": "code",
   "execution_count": 31,
   "id": "hired-leader",
   "metadata": {},
   "outputs": [],
   "source": [
    "shapes = [\"dashed\", \"dotted\", \"solid\"]\n",
    "shapes = pd.DataFrame(\n",
    "    [\n",
    "        (s, t, np.random.choice(shapes))\n",
    "        for s, t, in graph_frame.edges()\n",
    "    ], \n",
    "    columns=[\"@source_id\", \"@target_id\", \"shapes\"]\n",
    ")"
   ]
  },
  {
   "cell_type": "code",
   "execution_count": 32,
   "id": "progressive-billy",
   "metadata": {},
   "outputs": [],
   "source": [
    "graph_frame.add_edge_properties(shapes, prop_type=\"category\")"
   ]
  },
  {
   "cell_type": "code",
   "execution_count": 33,
   "id": "familiar-prophet",
   "metadata": {},
   "outputs": [],
   "source": [
    "desc = pd.DataFrame(\n",
    "    [\n",
    "        (s, t, ' '.join(random.sample(words.words(), 20)))\n",
    "        for s, t, in graph_frame.edges()\n",
    "    ], \n",
    "    columns=[\"@source_id\", \"@target_id\", \"desc\"]\n",
    ")"
   ]
  },
  {
   "cell_type": "code",
   "execution_count": 34,
   "id": "indirect-skirt",
   "metadata": {},
   "outputs": [],
   "source": [
    "graph_frame.add_edge_properties(desc, prop_type=\"text\")"
   ]
  },
  {
   "cell_type": "code",
   "execution_count": 35,
   "id": "optional-result",
   "metadata": {},
   "outputs": [
    {
     "data": {
      "text/html": [
       "<div>\n",
       "<style scoped>\n",
       "    .dataframe tbody tr th:only-of-type {\n",
       "        vertical-align: middle;\n",
       "    }\n",
       "\n",
       "    .dataframe tbody tr th {\n",
       "        vertical-align: top;\n",
       "    }\n",
       "\n",
       "    .dataframe thead th {\n",
       "        text-align: right;\n",
       "    }\n",
       "</style>\n",
       "<table border=\"1\" class=\"dataframe\">\n",
       "  <thead>\n",
       "    <tr style=\"text-align: right;\">\n",
       "      <th></th>\n",
       "      <th></th>\n",
       "      <th>@type</th>\n",
       "      <th>n_years</th>\n",
       "      <th>shapes</th>\n",
       "      <th>desc</th>\n",
       "    </tr>\n",
       "    <tr>\n",
       "      <th>@source_id</th>\n",
       "      <th>@target_id</th>\n",
       "      <th></th>\n",
       "      <th></th>\n",
       "      <th></th>\n",
       "      <th></th>\n",
       "    </tr>\n",
       "  </thead>\n",
       "  <tbody>\n",
       "    <tr>\n",
       "      <th>30</th>\n",
       "      <th>56</th>\n",
       "      <td>isFriend</td>\n",
       "      <td>16</td>\n",
       "      <td>dashed</td>\n",
       "      <td>vikingship cicely hydrobiplane instinctivist m...</td>\n",
       "    </tr>\n",
       "    <tr>\n",
       "      <th>5</th>\n",
       "      <th>8</th>\n",
       "      <td>isFriend</td>\n",
       "      <td>16</td>\n",
       "      <td>dotted</td>\n",
       "      <td>barognosis Neil gaminish cassine boonk subditi...</td>\n",
       "    </tr>\n",
       "    <tr>\n",
       "      <th>39</th>\n",
       "      <th>42</th>\n",
       "      <td>isFriend</td>\n",
       "      <td>11</td>\n",
       "      <td>dashed</td>\n",
       "      <td>pleuropericardial helder nonslippery equiposti...</td>\n",
       "    </tr>\n",
       "    <tr>\n",
       "      <th>41</th>\n",
       "      <th>55</th>\n",
       "      <td>isFriend</td>\n",
       "      <td>18</td>\n",
       "      <td>solid</td>\n",
       "      <td>inalienable posterial cogwood hunting reciproc...</td>\n",
       "    </tr>\n",
       "    <tr>\n",
       "      <th>28</th>\n",
       "      <th>38</th>\n",
       "      <td>isFriend</td>\n",
       "      <td>18</td>\n",
       "      <td>dashed</td>\n",
       "      <td>befinger predetachment worshipfully rightship ...</td>\n",
       "    </tr>\n",
       "  </tbody>\n",
       "</table>\n",
       "</div>"
      ],
      "text/plain": [
       "                          @type  n_years  shapes  \\\n",
       "@source_id @target_id                              \n",
       "30         56          isFriend       16  dashed   \n",
       "5          8           isFriend       16  dotted   \n",
       "39         42          isFriend       11  dashed   \n",
       "41         55          isFriend       18   solid   \n",
       "28         38          isFriend       18  dashed   \n",
       "\n",
       "                                                                    desc  \n",
       "@source_id @target_id                                                     \n",
       "30         56          vikingship cicely hydrobiplane instinctivist m...  \n",
       "5          8           barognosis Neil gaminish cassine boonk subditi...  \n",
       "39         42          pleuropericardial helder nonslippery equiposti...  \n",
       "41         55          inalienable posterial cogwood hunting reciproc...  \n",
       "28         38          befinger predetachment worshipfully rightship ...  "
      ]
     },
     "execution_count": 35,
     "metadata": {},
     "output_type": "execute_result"
    }
   ],
   "source": [
    "graph_frame.edges(raw_frame=True).sample(5)"
   ]
  },
  {
   "cell_type": "code",
   "execution_count": 36,
   "id": "dominant-intent",
   "metadata": {},
   "outputs": [
    {
     "data": {
      "text/plain": [
       "{'@type': 'category',\n",
       " 'n_years': 'numeric',\n",
       " 'shapes': 'category',\n",
       " 'desc': 'text'}"
      ]
     },
     "execution_count": 36,
     "metadata": {},
     "output_type": "execute_result"
    }
   ],
   "source": [
    "graph_frame._edge_prop_types"
   ]
  },
  {
   "cell_type": "markdown",
   "id": "attended-battlefield",
   "metadata": {},
   "source": [
    "### Perform semantic encoding of properties\n",
    "\n",
    "BlueGraph allows to convert node/edge properties of different data types into numerical vectors."
   ]
  },
  {
   "cell_type": "markdown",
   "id": "driving-stocks",
   "metadata": {},
   "source": [
    "Create a encoder object for homogeneous encoding (properties of all the nodes (edges) are encoded with feature vectors of the same length independently of their type)."
   ]
  },
  {
   "cell_type": "code",
   "execution_count": 37,
   "id": "supreme-activation",
   "metadata": {},
   "outputs": [],
   "source": [
    "hom_encoder = ScikitLearnPGEncoder(\n",
    "    node_properties=[\"weight\", \"color\", \"desc\"],\n",
    "    edge_properties=[\"n_years\", \"shapes\", \"desc\"],\n",
    "    edge_features=True,\n",
    "    heterogeneous=False,\n",
    "    encode_types=True,\n",
    "    drop_types=True,\n",
    "    text_encoding=\"tfidf\",\n",
    "    standardize_numeric=True)"
   ]
  },
  {
   "cell_type": "code",
   "execution_count": 38,
   "id": "understood-execution",
   "metadata": {},
   "outputs": [],
   "source": [
    "transformed_frame = hom_encoder.fit_transform(graph_frame)"
   ]
  },
  {
   "cell_type": "code",
   "execution_count": 39,
   "id": "clean-geography",
   "metadata": {},
   "outputs": [
    {
     "data": {
      "text/html": [
       "<div>\n",
       "<style scoped>\n",
       "    .dataframe tbody tr th:only-of-type {\n",
       "        vertical-align: middle;\n",
       "    }\n",
       "\n",
       "    .dataframe tbody tr th {\n",
       "        vertical-align: top;\n",
       "    }\n",
       "\n",
       "    .dataframe thead th {\n",
       "        text-align: right;\n",
       "    }\n",
       "</style>\n",
       "<table border=\"1\" class=\"dataframe\">\n",
       "  <thead>\n",
       "    <tr style=\"text-align: right;\">\n",
       "      <th></th>\n",
       "      <th>features</th>\n",
       "    </tr>\n",
       "    <tr>\n",
       "      <th>@id</th>\n",
       "      <th></th>\n",
       "    </tr>\n",
       "  </thead>\n",
       "  <tbody>\n",
       "    <tr>\n",
       "      <th>60</th>\n",
       "      <td>[-0.5606563439968789, 0.0, 0.0, 1.0, 0.0, 0.0,...</td>\n",
       "    </tr>\n",
       "    <tr>\n",
       "      <th>30</th>\n",
       "      <td>[-0.5723782773667659, 0.0, 0.0, 1.0, 0.0, 0.0,...</td>\n",
       "    </tr>\n",
       "    <tr>\n",
       "      <th>18</th>\n",
       "      <td>[-0.4444349383011907, 0.0, 1.0, 0.0, 0.0, 0.0,...</td>\n",
       "    </tr>\n",
       "    <tr>\n",
       "      <th>1</th>\n",
       "      <td>[1.752355378767732, 0.0, 0.0, 1.0, 0.0, 0.0, 0...</td>\n",
       "    </tr>\n",
       "    <tr>\n",
       "      <th>51</th>\n",
       "      <td>[-0.013849249565769765, 0.0, 0.0, 1.0, 0.0, 0....</td>\n",
       "    </tr>\n",
       "  </tbody>\n",
       "</table>\n",
       "</div>"
      ],
      "text/plain": [
       "                                              features\n",
       "@id                                                   \n",
       "60   [-0.5606563439968789, 0.0, 0.0, 1.0, 0.0, 0.0,...\n",
       "30   [-0.5723782773667659, 0.0, 0.0, 1.0, 0.0, 0.0,...\n",
       "18   [-0.4444349383011907, 0.0, 1.0, 0.0, 0.0, 0.0,...\n",
       "1    [1.752355378767732, 0.0, 0.0, 1.0, 0.0, 0.0, 0...\n",
       "51   [-0.013849249565769765, 0.0, 0.0, 1.0, 0.0, 0...."
      ]
     },
     "execution_count": 39,
     "metadata": {},
     "output_type": "execute_result"
    }
   ],
   "source": [
    "transformed_frame.nodes(raw_frame=True).sample(5)"
   ]
  },
  {
   "cell_type": "markdown",
   "id": "pharmaceutical-eating",
   "metadata": {},
   "source": [
    "We can inspect encoding models for different node and edge properties created by BlueGraph."
   ]
  },
  {
   "cell_type": "code",
   "execution_count": 40,
   "id": "legal-astronomy",
   "metadata": {},
   "outputs": [
    {
     "data": {
      "text/plain": [
       "{'weight': StandardScaler(),\n",
       " 'color': MultiLabelBinarizer(),\n",
       " 'desc': <bluegraph.preprocess.utils.TfIdfEncoder at 0x7f8a4069f790>}"
      ]
     },
     "execution_count": 40,
     "metadata": {},
     "output_type": "execute_result"
    }
   ],
   "source": [
    "hom_encoder._node_encoders"
   ]
  },
  {
   "cell_type": "code",
   "execution_count": 41,
   "id": "ruled-party",
   "metadata": {},
   "outputs": [
    {
     "data": {
      "text/html": [
       "<div>\n",
       "<style scoped>\n",
       "    .dataframe tbody tr th:only-of-type {\n",
       "        vertical-align: middle;\n",
       "    }\n",
       "\n",
       "    .dataframe tbody tr th {\n",
       "        vertical-align: top;\n",
       "    }\n",
       "\n",
       "    .dataframe thead th {\n",
       "        text-align: right;\n",
       "    }\n",
       "</style>\n",
       "<table border=\"1\" class=\"dataframe\">\n",
       "  <thead>\n",
       "    <tr style=\"text-align: right;\">\n",
       "      <th></th>\n",
       "      <th></th>\n",
       "      <th>features</th>\n",
       "    </tr>\n",
       "    <tr>\n",
       "      <th>@source_id</th>\n",
       "      <th>@target_id</th>\n",
       "      <th></th>\n",
       "    </tr>\n",
       "  </thead>\n",
       "  <tbody>\n",
       "    <tr>\n",
       "      <th>0</th>\n",
       "      <th>51</th>\n",
       "      <td>[0.7992979631740463, 0.0, 1.0, 0.0, 0.0, 0.0, ...</td>\n",
       "    </tr>\n",
       "    <tr>\n",
       "      <th>41</th>\n",
       "      <th>67</th>\n",
       "      <td>[-1.6168694614926307, 1.0, 0.0, 0.0, 0.0, 0.0,...</td>\n",
       "    </tr>\n",
       "    <tr>\n",
       "      <th>7</th>\n",
       "      <th>16</th>\n",
       "      <td>[-0.4087857491592922, 1.0, 0.0, 0.0, 0.0, 0.0,...</td>\n",
       "    </tr>\n",
       "    <tr>\n",
       "      <th>17</th>\n",
       "      <th>54</th>\n",
       "      <td>[0.10896441326928144, 1.0, 0.0, 0.0, 0.0, 0.0,...</td>\n",
       "    </tr>\n",
       "    <tr>\n",
       "      <th>6</th>\n",
       "      <th>36</th>\n",
       "      <td>[-1.099119299064057, 0.0, 1.0, 0.0, 0.0, 0.0, ...</td>\n",
       "    </tr>\n",
       "  </tbody>\n",
       "</table>\n",
       "</div>"
      ],
      "text/plain": [
       "                                                                features\n",
       "@source_id @target_id                                                   \n",
       "0          51          [0.7992979631740463, 0.0, 1.0, 0.0, 0.0, 0.0, ...\n",
       "41         67          [-1.6168694614926307, 1.0, 0.0, 0.0, 0.0, 0.0,...\n",
       "7          16          [-0.4087857491592922, 1.0, 0.0, 0.0, 0.0, 0.0,...\n",
       "17         54          [0.10896441326928144, 1.0, 0.0, 0.0, 0.0, 0.0,...\n",
       "6          36          [-1.099119299064057, 0.0, 1.0, 0.0, 0.0, 0.0, ..."
      ]
     },
     "execution_count": 41,
     "metadata": {},
     "output_type": "execute_result"
    }
   ],
   "source": [
    "transformed_frame.edges(raw_frame=True).sample(5)"
   ]
  },
  {
   "cell_type": "code",
   "execution_count": 42,
   "id": "atomic-armstrong",
   "metadata": {},
   "outputs": [
    {
     "data": {
      "text/plain": [
       "{'n_years': StandardScaler(),\n",
       " 'shapes': MultiLabelBinarizer(),\n",
       " 'desc': <bluegraph.preprocess.utils.TfIdfEncoder at 0x7f8a3f498390>}"
      ]
     },
     "execution_count": 42,
     "metadata": {},
     "output_type": "execute_result"
    }
   ],
   "source": [
    "hom_encoder._edge_encoders"
   ]
  },
  {
   "cell_type": "markdown",
   "id": "relevant-ministry",
   "metadata": {},
   "source": [
    "### Convert PGFrames to JSON"
   ]
  },
  {
   "cell_type": "code",
   "execution_count": 43,
   "id": "varied-mexican",
   "metadata": {},
   "outputs": [],
   "source": [
    "json_repr = graph_frame.to_json()"
   ]
  },
  {
   "cell_type": "code",
   "execution_count": 44,
   "id": "indie-labor",
   "metadata": {},
   "outputs": [
    {
     "data": {
      "text/plain": [
       "[{'@id': 0,\n",
       "  '@type': 'Apple',\n",
       "  'weight': 36.48081522792947,\n",
       "  'color': 'blue',\n",
       "  'desc': 'sertule Saumya unson subrogation mechanist brachycranial cliffsman quinisext transformance unitarily remunerable ceaselessly oppositifolious Zwinglian cytodiagnosis pauper ophthalmophore allalinite reinsult irreticence'},\n",
       " {'@id': 1,\n",
       "  '@type': 'Orange',\n",
       "  'weight': 43.06895384018701,\n",
       "  'color': 'red',\n",
       "  'desc': 'pleiophylly aegagropila nonblack photoinduction Mauri royale Hezron misanthrope hod adiaphorism ingemination unindwellable ratten substantivally Safini casque handflower amphilogy disagreeableness crumpet'}]"
      ]
     },
     "execution_count": 44,
     "metadata": {},
     "output_type": "execute_result"
    }
   ],
   "source": [
    "json_repr[\"nodes\"][:2]"
   ]
  },
  {
   "cell_type": "code",
   "execution_count": 45,
   "id": "instrumental-cross",
   "metadata": {},
   "outputs": [
    {
     "data": {
      "text/plain": [
       "[{'@source_id': 0,\n",
       "  '@target_id': 33,\n",
       "  '@type': 'isEnemy',\n",
       "  'n_years': 16,\n",
       "  'shapes': 'dashed',\n",
       "  'desc': 'sapiutan polysyllable architecturally ossification demonstratable smelt dipolarize unpracticability oraculum outdaciousness putelee coenocyte tights goodwife pressingness jaudie pathlessness enherit Aspidobranchia irresistibility'},\n",
       " {'@source_id': 0,\n",
       "  '@target_id': 47,\n",
       "  '@type': 'isFriend',\n",
       "  'n_years': 17,\n",
       "  'shapes': 'dotted',\n",
       "  'desc': 'vertebra bushlet androdioecious unmechanic celandine philologue Hartmann acritical yashiro Tartar versicular sleech deteriorator pianistically wejack Delsartian apiculus exsanguinate ferromolybdenum merchantman'}]"
      ]
     },
     "execution_count": 45,
     "metadata": {},
     "output_type": "execute_result"
    }
   ],
   "source": [
    "json_repr[\"edges\"][:2]"
   ]
  },
  {
   "cell_type": "markdown",
   "id": "stretch-wednesday",
   "metadata": {},
   "source": [
    "Create a new `PandasPGFrame` from the generated representation."
   ]
  },
  {
   "cell_type": "code",
   "execution_count": 46,
   "id": "eastern-indication",
   "metadata": {},
   "outputs": [],
   "source": [
    "new_frame = PandasPGFrame.from_json(json_repr)"
   ]
  },
  {
   "cell_type": "code",
   "execution_count": 47,
   "id": "collect-abraham",
   "metadata": {
    "scrolled": true
   },
   "outputs": [
    {
     "data": {
      "text/html": [
       "<div>\n",
       "<style scoped>\n",
       "    .dataframe tbody tr th:only-of-type {\n",
       "        vertical-align: middle;\n",
       "    }\n",
       "\n",
       "    .dataframe tbody tr th {\n",
       "        vertical-align: top;\n",
       "    }\n",
       "\n",
       "    .dataframe thead th {\n",
       "        text-align: right;\n",
       "    }\n",
       "</style>\n",
       "<table border=\"1\" class=\"dataframe\">\n",
       "  <thead>\n",
       "    <tr style=\"text-align: right;\">\n",
       "      <th></th>\n",
       "      <th>@type</th>\n",
       "      <th>weight</th>\n",
       "      <th>color</th>\n",
       "      <th>desc</th>\n",
       "    </tr>\n",
       "    <tr>\n",
       "      <th>@id</th>\n",
       "      <th></th>\n",
       "      <th></th>\n",
       "      <th></th>\n",
       "      <th></th>\n",
       "    </tr>\n",
       "  </thead>\n",
       "  <tbody>\n",
       "    <tr>\n",
       "      <th>9</th>\n",
       "      <td>Orange</td>\n",
       "      <td>28.304847</td>\n",
       "      <td>red</td>\n",
       "      <td>recapacitate Emesa unpresumingness truthlikene...</td>\n",
       "    </tr>\n",
       "    <tr>\n",
       "      <th>56</th>\n",
       "      <td>Apple</td>\n",
       "      <td>36.598888</td>\n",
       "      <td>blue</td>\n",
       "      <td>generale rhomboideus reavoid overstimulate she...</td>\n",
       "    </tr>\n",
       "    <tr>\n",
       "      <th>33</th>\n",
       "      <td>Orange</td>\n",
       "      <td>37.705923</td>\n",
       "      <td>green</td>\n",
       "      <td>appraise nonremanie Ohio mistreatment semitech...</td>\n",
       "    </tr>\n",
       "    <tr>\n",
       "      <th>53</th>\n",
       "      <td>Orange</td>\n",
       "      <td>29.818268</td>\n",
       "      <td>blue</td>\n",
       "      <td>subgape mischance Palaeotheriidae outquote ide...</td>\n",
       "    </tr>\n",
       "    <tr>\n",
       "      <th>15</th>\n",
       "      <td>Orange</td>\n",
       "      <td>36.693074</td>\n",
       "      <td>blue</td>\n",
       "      <td>tib ethnotechnography celite dicyanine aortocl...</td>\n",
       "    </tr>\n",
       "  </tbody>\n",
       "</table>\n",
       "</div>"
      ],
      "text/plain": [
       "      @type     weight  color  \\\n",
       "@id                             \n",
       "9    Orange  28.304847    red   \n",
       "56    Apple  36.598888   blue   \n",
       "33   Orange  37.705923  green   \n",
       "53   Orange  29.818268   blue   \n",
       "15   Orange  36.693074   blue   \n",
       "\n",
       "                                                  desc  \n",
       "@id                                                     \n",
       "9    recapacitate Emesa unpresumingness truthlikene...  \n",
       "56   generale rhomboideus reavoid overstimulate she...  \n",
       "33   appraise nonremanie Ohio mistreatment semitech...  \n",
       "53   subgape mischance Palaeotheriidae outquote ide...  \n",
       "15   tib ethnotechnography celite dicyanine aortocl...  "
      ]
     },
     "execution_count": 47,
     "metadata": {},
     "output_type": "execute_result"
    }
   ],
   "source": [
    "new_frame.nodes(raw_frame=True).sample(5)"
   ]
  }
 ],
 "metadata": {
  "kernelspec": {
   "display_name": "bg",
   "language": "python",
   "name": "bg"
  },
  "language_info": {
   "codemirror_mode": {
    "name": "ipython",
    "version": 3
   },
   "file_extension": ".py",
   "mimetype": "text/x-python",
   "name": "python",
   "nbconvert_exporter": "python",
   "pygments_lexer": "ipython3",
   "version": "3.7.10"
  }
 },
 "nbformat": 4,
 "nbformat_minor": 5
}
