{
 "cells": [
  {
   "cell_type": "markdown",
   "metadata": {},
   "source": [
    "# NASA dataset keywords analysis\n",
    "\n",
    "In this notebook we use graph-based co-occurrence analysis on the publicly available Data catalog of NASA (https://data.nasa.gov/browse, and the API endpoint https://data.nasa.gov/data.json). This dataset consists of the meta-data for different NASA datasets. \n",
    "\n",
    "We will work on the sets of keywords attached to each dataset and build a keyword co-occurrence graph describing relations between different dataset keywords. The keyword relations in the above-mentioned graph are quantified using mutual-information-based scores (normalized pointwise mutual information).\n",
    "\n",
    "See the related tutorial here: https://www.tidytextmining.com/nasa.html\n",
    "\n",
    "In this tutorial we will use the Neo4j-based implementation of different analytics interfaces provided by BlueGraph. Therefore, in order to use it, you need a running instance of the Neo4j database (see installation [instructions](https://neo4j.com/docs/operations-manual/current/installation/))."
   ]
  },
  {
   "cell_type": "code",
   "execution_count": 1,
   "metadata": {},
   "outputs": [],
   "source": [
    "import os\n",
    "import json\n",
    "import pandas as pd\n",
    "import requests\n",
    "import getpass"
   ]
  },
  {
   "cell_type": "code",
   "execution_count": 2,
   "metadata": {},
   "outputs": [],
   "source": [
    "from bluegraph.core import (PandasPGFrame,\n",
    "                            pretty_print_paths,\n",
    "                            pretty_print_tripaths)\n",
    "from bluegraph.preprocess.generators import CooccurrenceGenerator\n",
    "from bluegraph.backends.neo4j import (pgframe_to_neo4j,\n",
    "                                      Neo4jMetricProcessor,\n",
    "                                      Neo4jPathFinder,\n",
    "                                      Neo4jCommunityDetector,\n",
    "                                      Neo4jGraphProcessor)\n",
    "from bluegraph.backends.networkx import NXPathFinder, networkx_to_pgframe"
   ]
  },
  {
   "cell_type": "markdown",
   "metadata": {},
   "source": [
    "## I. Data preparation"
   ]
  },
  {
   "cell_type": "markdown",
   "metadata": {},
   "source": [
    "Download and read the NASA dataset."
   ]
  },
  {
   "cell_type": "code",
   "execution_count": 3,
   "metadata": {},
   "outputs": [],
   "source": [
    "NASA_META_DATA_URL = \"https://data.nasa.gov/data.json\"\n",
    "if not os.path.isfile(\"../data/nasa.json\"):\n",
    "    r = requests.get(NASA_META_DATA_URL)\n",
    "    open(\"../data/nasa.json\", \"wb\").write(r.content)"
   ]
  },
  {
   "cell_type": "code",
   "execution_count": 4,
   "metadata": {},
   "outputs": [],
   "source": [
    "with open(\"../data/nasa.json\", \"r\") as f:\n",
    "    data = json.load(f)"
   ]
  },
  {
   "cell_type": "code",
   "execution_count": 5,
   "metadata": {},
   "outputs": [
    {
     "name": "stdout",
     "output_type": "stream",
     "text": [
      "Example dataset: \n",
      "----------------\n",
      "{\n",
      "   \"accessLevel\": \"public\",\n",
      "   \"landingPage\": \"https://pds.nasa.gov/ds-view/pds/viewDataset.jsp?dsid=RO-E-RPCMAG-2-EAR2-RAW-V3.0\",\n",
      "   \"bureauCode\": [\n",
      "      \"026:00\"\n",
      "   ],\n",
      "   \"issued\": \"2018-06-26\",\n",
      "   \"@type\": \"dcat:Dataset\",\n",
      "   \"modified\": \"2020-03-04\",\n",
      "   \"references\": [\n",
      "      \"https://pds.nasa.gov\"\n",
      "   ],\n",
      "   \"keyword\": [\n",
      "      \"earth\",\n",
      "      \"unknown\",\n",
      "      \"international rosetta mission\"\n",
      "   ],\n",
      "   \"contactPoint\": {\n",
      "      \"@type\": \"vcard:Contact\",\n",
      "      \"fn\": \"Thomas Morgan\",\n",
      "      \"hasEmail\": \"mailto:thomas.h.morgan@nasa.gov\"\n",
      "   },\n",
      "   \"publisher\": {\n",
      "      \"@type\": \"org:Organization\",\n",
      "      \"name\": \"National Aeronautics and Space Administration\"\n",
      "   },\n",
      "   \"identifier\": \"urn:nasa:pds:context_pds3:data_set:data_set.ro-e-rpcmag-2-ear2-raw-v3.0\",\n",
      "   \"description\": \"This dataset contains EDITED RAW DATA of the second Earth Flyby (EAR2). The closest approach (CA) took place on November 13, 2007 at 20:57\",\n",
      "   \"title\": \"ROSETTA-ORBITER EARTH RPCMAG 2 EAR2 RAW V3.0\",\n",
      "   \"programCode\": [\n",
      "      \"026:005\"\n",
      "   ],\n",
      "   \"distribution\": [\n",
      "      {\n",
      "         \"@type\": \"dcat:Distribution\",\n",
      "         \"downloadURL\": \"https://www.socrata.com\",\n",
      "         \"mediaType\": \"text/html\"\n",
      "      }\n",
      "   ],\n",
      "   \"accrualPeriodicity\": \"irregular\",\n",
      "   \"theme\": [\n",
      "      \"Earth Science\"\n",
      "   ]\n",
      "}\n",
      "\n",
      "Keywords:  ['earth', 'unknown', 'international rosetta mission']\n"
     ]
    }
   ],
   "source": [
    "print(\"Example dataset: \")\n",
    "print(\"----------------\")\n",
    "print(json.dumps(data[\"dataset\"][0], indent=\"   \"))\n",
    "\n",
    "print()\n",
    "print(\"Keywords: \", data[\"dataset\"][0][\"keyword\"])"
   ]
  },
  {
   "cell_type": "markdown",
   "metadata": {},
   "source": [
    "Create a dataframe with keyword occurrence in different datasets"
   ]
  },
  {
   "cell_type": "code",
   "execution_count": 6,
   "metadata": {},
   "outputs": [],
   "source": [
    "rows = []\n",
    "for el in data['dataset']:\n",
    "    row = [el[\"identifier\"]]\n",
    "    if \"keyword\" in el:\n",
    "        for k in el[\"keyword\"]:\n",
    "            rows.append(row + [k])\n",
    "keyword_data = pd.DataFrame(rows, columns=[\"dataset\", \"keyword\"])"
   ]
  },
  {
   "cell_type": "code",
   "execution_count": 7,
   "metadata": {},
   "outputs": [
    {
     "data": {
      "text/html": [
       "<div>\n",
       "<style scoped>\n",
       "    .dataframe tbody tr th:only-of-type {\n",
       "        vertical-align: middle;\n",
       "    }\n",
       "\n",
       "    .dataframe tbody tr th {\n",
       "        vertical-align: top;\n",
       "    }\n",
       "\n",
       "    .dataframe thead th {\n",
       "        text-align: right;\n",
       "    }\n",
       "</style>\n",
       "<table border=\"1\" class=\"dataframe\">\n",
       "  <thead>\n",
       "    <tr style=\"text-align: right;\">\n",
       "      <th></th>\n",
       "      <th>dataset</th>\n",
       "      <th>keyword</th>\n",
       "    </tr>\n",
       "  </thead>\n",
       "  <tbody>\n",
       "    <tr>\n",
       "      <th>0</th>\n",
       "      <td>urn:nasa:pds:context_pds3:data_set:data_set.ro...</td>\n",
       "      <td>earth</td>\n",
       "    </tr>\n",
       "    <tr>\n",
       "      <th>1</th>\n",
       "      <td>urn:nasa:pds:context_pds3:data_set:data_set.ro...</td>\n",
       "      <td>unknown</td>\n",
       "    </tr>\n",
       "    <tr>\n",
       "      <th>2</th>\n",
       "      <td>urn:nasa:pds:context_pds3:data_set:data_set.ro...</td>\n",
       "      <td>international rosetta mission</td>\n",
       "    </tr>\n",
       "    <tr>\n",
       "      <th>3</th>\n",
       "      <td>TECHPORT_9532</td>\n",
       "      <td>completed</td>\n",
       "    </tr>\n",
       "    <tr>\n",
       "      <th>4</th>\n",
       "      <td>TECHPORT_9532</td>\n",
       "      <td>jet propulsion laboratory</td>\n",
       "    </tr>\n",
       "    <tr>\n",
       "      <th>...</th>\n",
       "      <td>...</td>\n",
       "      <td>...</td>\n",
       "    </tr>\n",
       "    <tr>\n",
       "      <th>112731</th>\n",
       "      <td>NASA-877__2</td>\n",
       "      <td>lunar</td>\n",
       "    </tr>\n",
       "    <tr>\n",
       "      <th>112732</th>\n",
       "      <td>NASA-877__2</td>\n",
       "      <td>jsc</td>\n",
       "    </tr>\n",
       "    <tr>\n",
       "      <th>112733</th>\n",
       "      <td>NASA-877__2</td>\n",
       "      <td>sample</td>\n",
       "    </tr>\n",
       "    <tr>\n",
       "      <th>112734</th>\n",
       "      <td>TECHPORT_94299</td>\n",
       "      <td>active</td>\n",
       "    </tr>\n",
       "    <tr>\n",
       "      <th>112735</th>\n",
       "      <td>TECHPORT_94299</td>\n",
       "      <td>trustees of the colorado school of mines</td>\n",
       "    </tr>\n",
       "  </tbody>\n",
       "</table>\n",
       "<p>112736 rows × 2 columns</p>\n",
       "</div>"
      ],
      "text/plain": [
       "                                                  dataset  \\\n",
       "0       urn:nasa:pds:context_pds3:data_set:data_set.ro...   \n",
       "1       urn:nasa:pds:context_pds3:data_set:data_set.ro...   \n",
       "2       urn:nasa:pds:context_pds3:data_set:data_set.ro...   \n",
       "3                                           TECHPORT_9532   \n",
       "4                                           TECHPORT_9532   \n",
       "...                                                   ...   \n",
       "112731                                        NASA-877__2   \n",
       "112732                                        NASA-877__2   \n",
       "112733                                        NASA-877__2   \n",
       "112734                                     TECHPORT_94299   \n",
       "112735                                     TECHPORT_94299   \n",
       "\n",
       "                                         keyword  \n",
       "0                                          earth  \n",
       "1                                        unknown  \n",
       "2                  international rosetta mission  \n",
       "3                                      completed  \n",
       "4                      jet propulsion laboratory  \n",
       "...                                          ...  \n",
       "112731                                     lunar  \n",
       "112732                                       jsc  \n",
       "112733                                    sample  \n",
       "112734                                    active  \n",
       "112735  trustees of the colorado school of mines  \n",
       "\n",
       "[112736 rows x 2 columns]"
      ]
     },
     "execution_count": 7,
     "metadata": {},
     "output_type": "execute_result"
    }
   ],
   "source": [
    "keyword_data"
   ]
  },
  {
   "cell_type": "markdown",
   "metadata": {},
   "source": [
    "Aggregate dataset ids for each keyword and select the 500 most frequently used keywords."
   ]
  },
  {
   "cell_type": "code",
   "execution_count": 8,
   "metadata": {},
   "outputs": [],
   "source": [
    "n = 500"
   ]
  },
  {
   "cell_type": "code",
   "execution_count": 9,
   "metadata": {},
   "outputs": [
    {
     "data": {
      "text/plain": [
       "['completed',\n",
       " 'earth science',\n",
       " 'atmosphere',\n",
       " 'national geospatial data asset',\n",
       " 'ngda']"
      ]
     },
     "execution_count": 9,
     "metadata": {},
     "output_type": "execute_result"
    }
   ],
   "source": [
    "aggregated_datasets = keyword_data.groupby(\"keyword\").aggregate(set)[\"dataset\"]\n",
    "most_frequent_keywords = list(aggregated_datasets.apply(len).nlargest(n).index)\n",
    "most_frequent_keywords[:5]"
   ]
  },
  {
   "cell_type": "markdown",
   "metadata": {},
   "source": [
    "Create a property graph object whose nodes are unique keywords."
   ]
  },
  {
   "cell_type": "code",
   "execution_count": 10,
   "metadata": {},
   "outputs": [],
   "source": [
    "graph = PandasPGFrame()\n",
    "graph.add_nodes(most_frequent_keywords)\n",
    "graph.add_node_types({n: \"Keyword\" for n in most_frequent_keywords})"
   ]
  },
  {
   "cell_type": "markdown",
   "metadata": {},
   "source": [
    "Add sets of dataset ids as properties of our keyword nodes."
   ]
  },
  {
   "cell_type": "code",
   "execution_count": 11,
   "metadata": {},
   "outputs": [],
   "source": [
    "aggregated_datasets.index.name = \"@id\"\n",
    "graph.add_node_properties(aggregated_datasets, prop_type=\"category\")"
   ]
  },
  {
   "cell_type": "code",
   "execution_count": 12,
   "metadata": {},
   "outputs": [
    {
     "data": {
      "text/html": [
       "<div>\n",
       "<style scoped>\n",
       "    .dataframe tbody tr th:only-of-type {\n",
       "        vertical-align: middle;\n",
       "    }\n",
       "\n",
       "    .dataframe tbody tr th {\n",
       "        vertical-align: top;\n",
       "    }\n",
       "\n",
       "    .dataframe thead th {\n",
       "        text-align: right;\n",
       "    }\n",
       "</style>\n",
       "<table border=\"1\" class=\"dataframe\">\n",
       "  <thead>\n",
       "    <tr style=\"text-align: right;\">\n",
       "      <th></th>\n",
       "      <th>@type</th>\n",
       "      <th>dataset</th>\n",
       "    </tr>\n",
       "    <tr>\n",
       "      <th>@id</th>\n",
       "      <th></th>\n",
       "      <th></th>\n",
       "    </tr>\n",
       "  </thead>\n",
       "  <tbody>\n",
       "    <tr>\n",
       "      <th>crew</th>\n",
       "      <td>Keyword</td>\n",
       "      <td>{OCIO-Fitara-26, OCIO-Fitara-46, OCIO-Fitara-5...</td>\n",
       "    </tr>\n",
       "    <tr>\n",
       "      <th>specified_biomaterial_action</th>\n",
       "      <td>Keyword</td>\n",
       "      <td>{nasa_genelab_GLDS-43, nasa_genelab_GLDS-52, n...</td>\n",
       "    </tr>\n",
       "    <tr>\n",
       "      <th>international halley watch</th>\n",
       "      <td>Keyword</td>\n",
       "      <td>{urn:nasa:pds:context_pds3:data_set:data_set.i...</td>\n",
       "    </tr>\n",
       "    <tr>\n",
       "      <th>salinity/density</th>\n",
       "      <td>Keyword</td>\n",
       "      <td>{C1633360424-OB_DAAC, C1439496790-ORNL_DAAC, C...</td>\n",
       "    </tr>\n",
       "    <tr>\n",
       "      <th>87 sylvia</th>\n",
       "      <td>Keyword</td>\n",
       "      <td>{urn:nasa:pds:context_pds3:data_set:data_set.e...</td>\n",
       "    </tr>\n",
       "  </tbody>\n",
       "</table>\n",
       "</div>"
      ],
      "text/plain": [
       "                                @type  \\\n",
       "@id                                     \n",
       "crew                          Keyword   \n",
       "specified_biomaterial_action  Keyword   \n",
       "international halley watch    Keyword   \n",
       "salinity/density              Keyword   \n",
       "87 sylvia                     Keyword   \n",
       "\n",
       "                                                                        dataset  \n",
       "@id                                                                              \n",
       "crew                          {OCIO-Fitara-26, OCIO-Fitara-46, OCIO-Fitara-5...  \n",
       "specified_biomaterial_action  {nasa_genelab_GLDS-43, nasa_genelab_GLDS-52, n...  \n",
       "international halley watch    {urn:nasa:pds:context_pds3:data_set:data_set.i...  \n",
       "salinity/density              {C1633360424-OB_DAAC, C1439496790-ORNL_DAAC, C...  \n",
       "87 sylvia                     {urn:nasa:pds:context_pds3:data_set:data_set.e...  "
      ]
     },
     "execution_count": 12,
     "metadata": {},
     "output_type": "execute_result"
    }
   ],
   "source": [
    "graph._nodes.sample(5)"
   ]
  },
  {
   "cell_type": "code",
   "execution_count": 13,
   "metadata": {},
   "outputs": [
    {
     "name": "stdout",
     "output_type": "stream",
     "text": [
      "Total number of dataset:  25722\n"
     ]
    }
   ],
   "source": [
    "n_datasets = len(keyword_data[\"dataset\"].unique())\n",
    "print(\"Total number of dataset: \", n_datasets)"
   ]
  },
  {
   "cell_type": "markdown",
   "metadata": {},
   "source": [
    "## II. Co-occurrence graph generation"
   ]
  },
  {
   "cell_type": "markdown",
   "metadata": {},
   "source": [
    "We create a co-occurrence graph using the 500 most frequent keywords: nodes are keywords and a pair of nodes is connected with an undirected edge if two corresponding keywords co-occur in at lease one dataset. Moreover, the edges are equipped with weights corresponding to:\n",
    "\n",
    "- raw co-occurrence frequency\n",
    "- normalized pointwise mutual information (NPMI)\n",
    "- frequency- and mutual-information-based distances (1 / frequency, 1 / NPMI)"
   ]
  },
  {
   "cell_type": "code",
   "execution_count": 14,
   "metadata": {},
   "outputs": [],
   "source": [
    "generator = CooccurrenceGenerator(graph)\n",
    "comention_edges = generator.generate_from_nodes(\n",
    "    \"dataset\", total_factor_instances=n_datasets,\n",
    "    compute_statistics=[\"frequency\", \"npmi\"])"
   ]
  },
  {
   "cell_type": "markdown",
   "metadata": {},
   "source": [
    "Remove edges with zero NPMI"
   ]
  },
  {
   "cell_type": "code",
   "execution_count": 15,
   "metadata": {},
   "outputs": [],
   "source": [
    "comention_edges = comention_edges[comention_edges[\"npmi\"] > 0]"
   ]
  },
  {
   "cell_type": "markdown",
   "metadata": {},
   "source": [
    "Compute the NPMI-based distance score"
   ]
  },
  {
   "cell_type": "code",
   "execution_count": 16,
   "metadata": {},
   "outputs": [],
   "source": [
    "comention_edges.loc[:, \"distance_npmi\"] = comention_edges.loc[:, \"npmi\"].apply(lambda x: 1 / x)"
   ]
  },
  {
   "cell_type": "markdown",
   "metadata": {},
   "source": [
    "Add generated edges to the property graph."
   ]
  },
  {
   "cell_type": "code",
   "execution_count": 17,
   "metadata": {},
   "outputs": [],
   "source": [
    "graph.remove_node_properties(\"dataset\") # Remove datasets from node properties\n",
    "graph._edges = comention_edges.drop(columns=[\"common_factors\"])\n",
    "graph._edge_prop_types = {\n",
    "    \"frequency\": \"numeric\",\n",
    "    \"npmi\": \"numeric\",\n",
    "    \"distance_npmi\": \"numeric\"\n",
    "}"
   ]
  },
  {
   "cell_type": "code",
   "execution_count": 18,
   "metadata": {},
   "outputs": [
    {
     "data": {
      "text/html": [
       "<div>\n",
       "<style scoped>\n",
       "    .dataframe tbody tr th:only-of-type {\n",
       "        vertical-align: middle;\n",
       "    }\n",
       "\n",
       "    .dataframe tbody tr th {\n",
       "        vertical-align: top;\n",
       "    }\n",
       "\n",
       "    .dataframe thead th {\n",
       "        text-align: right;\n",
       "    }\n",
       "</style>\n",
       "<table border=\"1\" class=\"dataframe\">\n",
       "  <thead>\n",
       "    <tr style=\"text-align: right;\">\n",
       "      <th></th>\n",
       "      <th></th>\n",
       "      <th>frequency</th>\n",
       "      <th>npmi</th>\n",
       "      <th>distance_npmi</th>\n",
       "    </tr>\n",
       "    <tr>\n",
       "      <th>@source_id</th>\n",
       "      <th>@target_id</th>\n",
       "      <th></th>\n",
       "      <th></th>\n",
       "      <th></th>\n",
       "    </tr>\n",
       "  </thead>\n",
       "  <tbody>\n",
       "    <tr>\n",
       "      <th>vega</th>\n",
       "      <th>dark sky</th>\n",
       "      <td>3</td>\n",
       "      <td>0.561840</td>\n",
       "      <td>1.779867</td>\n",
       "    </tr>\n",
       "    <tr>\n",
       "      <th>hyperion</th>\n",
       "      <th>ganymede</th>\n",
       "      <td>2</td>\n",
       "      <td>0.279332</td>\n",
       "      <td>3.579964</td>\n",
       "    </tr>\n",
       "    <tr>\n",
       "      <th>precipitation</th>\n",
       "      <th>temperature</th>\n",
       "      <td>1</td>\n",
       "      <td>0.098614</td>\n",
       "      <td>10.140522</td>\n",
       "    </tr>\n",
       "    <tr>\n",
       "      <th>saturn</th>\n",
       "      <th>solar system</th>\n",
       "      <td>15</td>\n",
       "      <td>0.436506</td>\n",
       "      <td>2.290917</td>\n",
       "    </tr>\n",
       "    <tr>\n",
       "      <th>gravity/gravitational field</th>\n",
       "      <th>ocean pressure</th>\n",
       "      <td>13</td>\n",
       "      <td>0.438317</td>\n",
       "      <td>2.281456</td>\n",
       "    </tr>\n",
       "  </tbody>\n",
       "</table>\n",
       "</div>"
      ],
      "text/plain": [
       "                                            frequency      npmi  distance_npmi\n",
       "@source_id                  @target_id                                        \n",
       "vega                        dark sky                3  0.561840       1.779867\n",
       "hyperion                    ganymede                2  0.279332       3.579964\n",
       "precipitation               temperature             1  0.098614      10.140522\n",
       "saturn                      solar system           15  0.436506       2.290917\n",
       "gravity/gravitational field ocean pressure         13  0.438317       2.281456"
      ]
     },
     "execution_count": 18,
     "metadata": {},
     "output_type": "execute_result"
    }
   ],
   "source": [
    "graph.edges(raw_frame=True).sample(5)"
   ]
  },
  {
   "cell_type": "markdown",
   "metadata": {},
   "source": [
    "## III. Initializing Neo4j graph from a PGFrame\n",
    "\n",
    "In this section we will populate a Neo4j database with the generated keyword co-occurrence property graph."
   ]
  },
  {
   "cell_type": "markdown",
   "metadata": {},
   "source": [
    "In the cells below provide the credentials for connecting to your instance of the Neo4j database."
   ]
  },
  {
   "cell_type": "code",
   "execution_count": 19,
   "metadata": {},
   "outputs": [],
   "source": [
    "NEO4J_URI = \"bolt://localhost:7687\"\n",
    "NEO4J_USER = \"neo4j\""
   ]
  },
  {
   "cell_type": "code",
   "execution_count": 20,
   "metadata": {
    "scrolled": false
   },
   "outputs": [
    {
     "name": "stdout",
     "output_type": "stream",
     "text": [
      "········\n"
     ]
    }
   ],
   "source": [
    "NEO4J_PASSWORD = getpass.getpass()"
   ]
  },
  {
   "cell_type": "markdown",
   "metadata": {},
   "source": [
    "Populate the Neo4j database with the nodes and edges of the generated property graph using `pgframe_to_neo4j`. We specify labels of nodes (`Keyword`) and edges (`CoOccurs`) to use for the new elements."
   ]
  },
  {
   "cell_type": "code",
   "execution_count": 21,
   "metadata": {},
   "outputs": [],
   "source": [
    "NODE_LABEL = \"Keyword\"\n",
    "EDGE_LABEL = \"CoOccurs\""
   ]
  },
  {
   "cell_type": "code",
   "execution_count": 22,
   "metadata": {},
   "outputs": [],
   "source": [
    "# (!) If you run this cell multiple times, you may create nodes and edges of the graph\n",
    "# multiple times, if you have already run the notebook, set the parameter `pgframe` to None\n",
    "# this will prevent population of the Neo4j database with the generated graph, but will create\n",
    "# the necessary `Neo4jGraphView` object.\n",
    "graph_view = pgframe_to_neo4j(\n",
    "    pgframe=graph,  # None, if no population is required\n",
    "    uri=NEO4J_URI, username=NEO4J_USER, password=NEO4J_PASSWORD, \n",
    "    node_label=NODE_LABEL, edge_label=EDGE_LABEL,\n",
    "    directed=False)"
   ]
  },
  {
   "cell_type": "code",
   "execution_count": 23,
   "metadata": {},
   "outputs": [],
   "source": [
    "# # If you want to clear the database from created elements, run\n",
    "# graph_view._clear()"
   ]
  },
  {
   "cell_type": "markdown",
   "metadata": {},
   "source": [
    "## IV. Nearest neighours by NPMI"
   ]
  },
  {
   "cell_type": "markdown",
   "metadata": {},
   "source": [
    "In this section we will compute top 10 neighbors of the keywords 'mars' and 'saturn' by the highest NPMI.\n",
    "\n",
    "To do so, we will use the `top_neighbors` method of the `PathFinder` interface provided by the BlueGraph. This interface allows us to search for top neighbors with the highest edge weight. In this example, we use Neo4j-based `Neo4jPathFinder` interface."
   ]
  },
  {
   "cell_type": "code",
   "execution_count": 24,
   "metadata": {},
   "outputs": [],
   "source": [
    "path_finder = Neo4jPathFinder.from_graph_object(graph_view)"
   ]
  },
  {
   "cell_type": "code",
   "execution_count": 25,
   "metadata": {},
   "outputs": [
    {
     "data": {
      "text/plain": [
       "{'mars exploration rover': 0.7734334910676389,\n",
       " 'phoenix': 0.6468063979421724,\n",
       " 'mars science laboratory': 0.6354738555723674,\n",
       " '2001 mars odyssey': 0.5902693119742288,\n",
       " 'mars global surveyor': 0.5756873488729959,\n",
       " 'mars reconnaissance orbiter': 0.555421194053889,\n",
       " 'viking': 0.5490894121185264,\n",
       " 'mars pathfinder': 0.5223639673427369,\n",
       " 'mars express': 0.5153112375202485,\n",
       " 'phobos': 0.49283414887183974}"
      ]
     },
     "execution_count": 25,
     "metadata": {},
     "output_type": "execute_result"
    }
   ],
   "source": [
    "path_finder.top_neighbors(\"mars\", 10, weight=\"npmi\")"
   ]
  },
  {
   "cell_type": "code",
   "execution_count": 26,
   "metadata": {
    "scrolled": true
   },
   "outputs": [
    {
     "data": {
      "text/plain": [
       "{'iapetus': 0.7512958866945076,\n",
       " 'tethys': 0.750629376973449,\n",
       " 'mimas': 0.7481024499128304,\n",
       " 'phoebe': 0.7458314316016054,\n",
       " 'rhea': 0.7453385116030462,\n",
       " 'dione': 0.7425859139664013,\n",
       " 'cassini-huygens': 0.74217432172955,\n",
       " 'enceladus': 0.7347323196182364,\n",
       " 'hyperion': 0.7346061630878281,\n",
       " 'janus': 0.7144193057581066}"
      ]
     },
     "execution_count": 26,
     "metadata": {},
     "output_type": "execute_result"
    }
   ],
   "source": [
    "path_finder.top_neighbors(\"saturn\", 10, weight=\"npmi\")"
   ]
  },
  {
   "cell_type": "markdown",
   "metadata": {},
   "source": [
    "## V. Graph metrics and node centrality measures"
   ]
  },
  {
   "cell_type": "markdown",
   "metadata": {},
   "source": [
    "BlueGraph provides the `MetricProcessor` interface for computing various graph statistics. We will use Neo4j-based `Neo4jMetricProcessor` interface."
   ]
  },
  {
   "cell_type": "code",
   "execution_count": 27,
   "metadata": {},
   "outputs": [],
   "source": [
    "metrics = Neo4jMetricProcessor.from_graph_object(graph_view)"
   ]
  },
  {
   "cell_type": "code",
   "execution_count": 28,
   "metadata": {},
   "outputs": [
    {
     "name": "stdout",
     "output_type": "stream",
     "text": [
      "Density of the constructed network:  0.051334669338677356\n"
     ]
    }
   ],
   "source": [
    "print(\"Density of the constructed network: \", metrics.density())"
   ]
  },
  {
   "cell_type": "markdown",
   "metadata": {},
   "source": [
    "### Node centralities"
   ]
  },
  {
   "cell_type": "markdown",
   "metadata": {},
   "source": [
    "In this example we will compute the Degree and PageRank centralities only for the raw frequency, and the Betweenness centrality for the mutual-information-based scores. We will use methods provided by the `MetricProcessor` interface in the _write_ mode, i.e. computed metrics will be written as node properties of the underlying graph object."
   ]
  },
  {
   "cell_type": "markdown",
   "metadata": {},
   "source": [
    "_Degree centrality_ is given by the sum of weights of all incident edges of the given node and characterizes the importance of the node in the network in terms of its connectivity to other nodes (high degree = high connectivity)."
   ]
  },
  {
   "cell_type": "code",
   "execution_count": 29,
   "metadata": {},
   "outputs": [],
   "source": [
    "metrics.degree_centrality(\"frequency\", write=True, write_property=\"degree\")"
   ]
  },
  {
   "cell_type": "markdown",
   "metadata": {},
   "source": [
    "_PageRank centrality_ is another measure that estimated the importance of the given node in the network. Roughly speaking it can be interpreted as the probablity that having landed on a random node in the network we will jump to the given node (here the edge weights are taken into account\").\n",
    "\n",
    "https://en.wikipedia.org/wiki/PageRank"
   ]
  },
  {
   "cell_type": "code",
   "execution_count": 30,
   "metadata": {},
   "outputs": [],
   "source": [
    "metrics.pagerank_centrality(\"frequency\", write=True, write_property=\"pagerank\")"
   ]
  },
  {
   "cell_type": "markdown",
   "metadata": {},
   "source": [
    "We then compute the betweenness centrality based on the NPMI distances.\n",
    "\n",
    "_Betweenness centrality_ is a node importance measure that estimates how often a shortest path between a pair of nodes will pass through the given node."
   ]
  },
  {
   "cell_type": "code",
   "execution_count": 31,
   "metadata": {},
   "outputs": [
    {
     "name": "stderr",
     "output_type": "stream",
     "text": [
      "/Users/oshurko/opt/anaconda3/envs/bg/lib/python3.7/site-packages/bluegraph/backends/neo4j/analyse/metrics.py:112: MetricProcessingWarning: Weighted betweenness centrality for Neo4j graphs is not implemented: computing the unweighted version\n",
      "  MetricProcessor.MetricProcessingWarning)\n"
     ]
    }
   ],
   "source": [
    "metrics.betweenness_centrality(\"distance_npmi\", write=True, write_property=\"betweenness\")"
   ]
  },
  {
   "cell_type": "markdown",
   "metadata": {},
   "source": [
    "Now, we will export this backend-specific graph object into a `PGFrame`."
   ]
  },
  {
   "cell_type": "code",
   "execution_count": 32,
   "metadata": {},
   "outputs": [],
   "source": [
    "new_graph = metrics.get_pgframe(node_prop_types=graph._node_prop_types, edge_prop_types=graph._edge_prop_types)"
   ]
  },
  {
   "cell_type": "code",
   "execution_count": 33,
   "metadata": {},
   "outputs": [
    {
     "data": {
      "text/html": [
       "<div>\n",
       "<style scoped>\n",
       "    .dataframe tbody tr th:only-of-type {\n",
       "        vertical-align: middle;\n",
       "    }\n",
       "\n",
       "    .dataframe tbody tr th {\n",
       "        vertical-align: top;\n",
       "    }\n",
       "\n",
       "    .dataframe thead th {\n",
       "        text-align: right;\n",
       "    }\n",
       "</style>\n",
       "<table border=\"1\" class=\"dataframe\">\n",
       "  <thead>\n",
       "    <tr style=\"text-align: right;\">\n",
       "      <th></th>\n",
       "      <th>degree</th>\n",
       "      <th>betweenness</th>\n",
       "      <th>pagerank</th>\n",
       "    </tr>\n",
       "    <tr>\n",
       "      <th>@id</th>\n",
       "      <th></th>\n",
       "      <th></th>\n",
       "      <th></th>\n",
       "    </tr>\n",
       "  </thead>\n",
       "  <tbody>\n",
       "    <tr>\n",
       "      <th>nucleic acid extraction protocol</th>\n",
       "      <td>25.0</td>\n",
       "      <td>168.454639</td>\n",
       "      <td>0.963914</td>\n",
       "    </tr>\n",
       "    <tr>\n",
       "      <th>control</th>\n",
       "      <td>9.0</td>\n",
       "      <td>559.751853</td>\n",
       "      <td>0.734981</td>\n",
       "    </tr>\n",
       "    <tr>\n",
       "      <th>io plasma torus</th>\n",
       "      <td>7.0</td>\n",
       "      <td>0.000000</td>\n",
       "      <td>0.327884</td>\n",
       "    </tr>\n",
       "    <tr>\n",
       "      <th>radiation</th>\n",
       "      <td>25.0</td>\n",
       "      <td>1802.124785</td>\n",
       "      <td>1.058191</td>\n",
       "    </tr>\n",
       "    <tr>\n",
       "      <th>surface thermal properties</th>\n",
       "      <td>39.0</td>\n",
       "      <td>23.577960</td>\n",
       "      <td>1.027151</td>\n",
       "    </tr>\n",
       "  </tbody>\n",
       "</table>\n",
       "</div>"
      ],
      "text/plain": [
       "                                  degree  betweenness  pagerank\n",
       "@id                                                            \n",
       "nucleic acid extraction protocol    25.0   168.454639  0.963914\n",
       "control                              9.0   559.751853  0.734981\n",
       "io plasma torus                      7.0     0.000000  0.327884\n",
       "radiation                           25.0  1802.124785  1.058191\n",
       "surface thermal properties          39.0    23.577960  1.027151"
      ]
     },
     "execution_count": 33,
     "metadata": {},
     "output_type": "execute_result"
    }
   ],
   "source": [
    "new_graph.nodes(raw_frame=True).sample(5)"
   ]
  },
  {
   "cell_type": "code",
   "execution_count": 34,
   "metadata": {},
   "outputs": [
    {
     "name": "stdout",
     "output_type": "stream",
     "text": [
      "Top 10 nodes by degree\n",
      "\t earth science\n",
      "\t jupiter\n",
      "\t earth\n",
      "\t land surface\n",
      "\t terrestrial hydrosphere\n",
      "\t imagery\n",
      "\t support archives\n",
      "\t sun\n",
      "\t atmosphere\n",
      "\t surface water\n"
     ]
    }
   ],
   "source": [
    "print(\"Top 10 nodes by degree\")\n",
    "for n in new_graph.nodes(raw_frame=True).nlargest(10, columns=[\"degree\"]).index:\n",
    "    print(\"\\t\", n)"
   ]
  },
  {
   "cell_type": "code",
   "execution_count": 35,
   "metadata": {},
   "outputs": [
    {
     "name": "stdout",
     "output_type": "stream",
     "text": [
      "Top 10 nodes by PageRank\n",
      "\t active\n",
      "\t earth science\n",
      "\t completed\n",
      "\t project\n",
      "\t pds\n",
      "\t earth\n",
      "\t jupiter\n",
      "\t imagery\n",
      "\t data\n",
      "\t moon\n"
     ]
    }
   ],
   "source": [
    "print(\"Top 10 nodes by PageRank\")\n",
    "for n in new_graph.nodes(raw_frame=True).nlargest(10, columns=[\"pagerank\"]).index:\n",
    "    print(\"\\t\", n)"
   ]
  },
  {
   "cell_type": "code",
   "execution_count": 36,
   "metadata": {},
   "outputs": [
    {
     "name": "stdout",
     "output_type": "stream",
     "text": [
      "Top 10 nodes by betweenness\n",
      "\t astronomy\n",
      "\t imagery\n",
      "\t goddard space flight center\n",
      "\t radar\n",
      "\t active\n",
      "\t topography\n",
      "\t safety\n",
      "\t time\n",
      "\t images\n",
      "\t temperature\n"
     ]
    }
   ],
   "source": [
    "print(\"Top 10 nodes by betweenness\")\n",
    "for n in new_graph.nodes(raw_frame=True).nlargest(10, columns=[\"betweenness\"]).index:\n",
    "    print(\"\\t\", n)"
   ]
  },
  {
   "cell_type": "markdown",
   "metadata": {},
   "source": [
    "## VI. Community detection"
   ]
  },
  {
   "cell_type": "markdown",
   "metadata": {},
   "source": [
    "_Community detection_ methods partition the graph into clusters of densely connected nodes in a way that nodes in the same community are more connected between themselves relatively to the nodes in different communities. In this section we will illustrate the use of the `CommunityDetector` interface provided by BlueGraph for community detection and estimation of its quality using modularity, performance and coverange methods. "
   ]
  },
  {
   "cell_type": "markdown",
   "metadata": {},
   "source": [
    "First, we create a `Neo4j`-based instance and use several different community detection strategies provided by Neo4j."
   ]
  },
  {
   "cell_type": "code",
   "execution_count": 37,
   "metadata": {},
   "outputs": [],
   "source": [
    "com_detector = Neo4jCommunityDetector.from_graph_object(graph_view)"
   ]
  },
  {
   "cell_type": "markdown",
   "metadata": {},
   "source": [
    "### Louvain algorithm"
   ]
  },
  {
   "cell_type": "code",
   "execution_count": 38,
   "metadata": {},
   "outputs": [],
   "source": [
    "partition = com_detector.detect_communities(\n",
    "    strategy=\"louvain\", weight=\"npmi\")"
   ]
  },
  {
   "cell_type": "code",
   "execution_count": 39,
   "metadata": {},
   "outputs": [
    {
     "name": "stdout",
     "output_type": "stream",
     "text": [
      "Modularity:  0.8032579244688011\n",
      "Performance:  0.9046172344689378\n",
      "Coverage:  0.919709080368237\n"
     ]
    }
   ],
   "source": [
    "print(\"Modularity: \", com_detector.evaluate_parition(partition, metric=\"modularity\", weight=\"npmi\"))\n",
    "print(\"Performance: \", com_detector.evaluate_parition(partition, metric=\"performance\", weight=\"npmi\"))\n",
    "print(\"Coverage: \", com_detector.evaluate_parition(partition, metric=\"coverage\", weight=\"npmi\"))"
   ]
  },
  {
   "cell_type": "markdown",
   "metadata": {},
   "source": [
    "### Label propagation"
   ]
  },
  {
   "cell_type": "code",
   "execution_count": 40,
   "metadata": {},
   "outputs": [],
   "source": [
    "partition = com_detector.detect_communities(\n",
    "    strategy=\"lpa\", weight=\"npmi\")"
   ]
  },
  {
   "cell_type": "code",
   "execution_count": 41,
   "metadata": {},
   "outputs": [
    {
     "name": "stdout",
     "output_type": "stream",
     "text": [
      "Modularity:  0.6599097374293331\n",
      "Performance:  0.6372184368737475\n",
      "Coverage:  0.9699235341510688\n"
     ]
    }
   ],
   "source": [
    "print(\"Modularity: \", com_detector.evaluate_parition(partition, metric=\"modularity\", weight=\"npmi\"))\n",
    "print(\"Performance: \", com_detector.evaluate_parition(partition, metric=\"performance\", weight=\"npmi\"))\n",
    "print(\"Coverage: \", com_detector.evaluate_parition(partition, metric=\"coverage\", weight=\"npmi\"))"
   ]
  },
  {
   "cell_type": "markdown",
   "metadata": {},
   "source": [
    "### Writing community partition as node properties"
   ]
  },
  {
   "cell_type": "code",
   "execution_count": 42,
   "metadata": {},
   "outputs": [],
   "source": [
    "com_detector.detect_communities(\n",
    "    strategy=\"louvain\", weight=\"npmi\",\n",
    "    write=True, write_property=\"louvain_community\")"
   ]
  },
  {
   "cell_type": "code",
   "execution_count": 43,
   "metadata": {},
   "outputs": [],
   "source": [
    "new_graph = com_detector.get_pgframe(\n",
    "    node_prop_types=new_graph._node_prop_types,\n",
    "    edge_prop_types=new_graph._edge_prop_types)"
   ]
  },
  {
   "cell_type": "code",
   "execution_count": 44,
   "metadata": {},
   "outputs": [
    {
     "data": {
      "text/html": [
       "<div>\n",
       "<style scoped>\n",
       "    .dataframe tbody tr th:only-of-type {\n",
       "        vertical-align: middle;\n",
       "    }\n",
       "\n",
       "    .dataframe tbody tr th {\n",
       "        vertical-align: top;\n",
       "    }\n",
       "\n",
       "    .dataframe thead th {\n",
       "        text-align: right;\n",
       "    }\n",
       "</style>\n",
       "<table border=\"1\" class=\"dataframe\">\n",
       "  <thead>\n",
       "    <tr style=\"text-align: right;\">\n",
       "      <th></th>\n",
       "      <th>degree</th>\n",
       "      <th>betweenness</th>\n",
       "      <th>louvain_community</th>\n",
       "      <th>pagerank</th>\n",
       "    </tr>\n",
       "    <tr>\n",
       "      <th>@id</th>\n",
       "      <th></th>\n",
       "      <th></th>\n",
       "      <th></th>\n",
       "      <th></th>\n",
       "    </tr>\n",
       "  </thead>\n",
       "  <tbody>\n",
       "    <tr>\n",
       "      <th>socioeconomics</th>\n",
       "      <td>16.0</td>\n",
       "      <td>16.837836</td>\n",
       "      <td>319</td>\n",
       "      <td>0.514688</td>\n",
       "    </tr>\n",
       "    <tr>\n",
       "      <th>glast ssc</th>\n",
       "      <td>14.0</td>\n",
       "      <td>0.000000</td>\n",
       "      <td>222</td>\n",
       "      <td>0.813650</td>\n",
       "    </tr>\n",
       "    <tr>\n",
       "      <th>spaceflight</th>\n",
       "      <td>30.0</td>\n",
       "      <td>31.882660</td>\n",
       "      <td>330</td>\n",
       "      <td>1.151221</td>\n",
       "    </tr>\n",
       "    <tr>\n",
       "      <th>treatment</th>\n",
       "      <td>33.0</td>\n",
       "      <td>46.062761</td>\n",
       "      <td>330</td>\n",
       "      <td>1.257428</td>\n",
       "    </tr>\n",
       "    <tr>\n",
       "      <th>time</th>\n",
       "      <td>45.0</td>\n",
       "      <td>6328.248634</td>\n",
       "      <td>209</td>\n",
       "      <td>1.608128</td>\n",
       "    </tr>\n",
       "  </tbody>\n",
       "</table>\n",
       "</div>"
      ],
      "text/plain": [
       "                degree  betweenness  louvain_community  pagerank\n",
       "@id                                                             \n",
       "socioeconomics    16.0    16.837836                319  0.514688\n",
       "glast ssc         14.0     0.000000                222  0.813650\n",
       "spaceflight       30.0    31.882660                330  1.151221\n",
       "treatment         33.0    46.062761                330  1.257428\n",
       "time              45.0  6328.248634                209  1.608128"
      ]
     },
     "execution_count": 44,
     "metadata": {},
     "output_type": "execute_result"
    }
   ],
   "source": [
    "new_graph.nodes(raw_frame=True).sample(5)"
   ]
  },
  {
   "cell_type": "markdown",
   "metadata": {},
   "source": [
    "## VII. Export network and the computed metrics"
   ]
  },
  {
   "cell_type": "markdown",
   "metadata": {},
   "source": [
    "Save graph as JSON"
   ]
  },
  {
   "cell_type": "code",
   "execution_count": 45,
   "metadata": {},
   "outputs": [],
   "source": [
    "new_graph.export_json(\"../data/nasa_comention.json\")"
   ]
  },
  {
   "cell_type": "markdown",
   "metadata": {},
   "source": [
    "Save the graph for Gephi import."
   ]
  },
  {
   "cell_type": "code",
   "execution_count": 46,
   "metadata": {},
   "outputs": [],
   "source": [
    "new_graph.export_to_gephi(\n",
    "    \"../data/gephi_nasa_comention\", \n",
    "    node_attr_mapping = {\n",
    "        \"degree\": \"Degree\",\n",
    "        \"pagerank\": \"PageRank\",\n",
    "        \"betweenness\": \"Betweenness\",\n",
    "        \"louvain_community\": \"Community\"\n",
    "    },\n",
    "    edge_attr_mapping={\n",
    "        \"npmi\": \"Weight\"\n",
    "    })"
   ]
  },
  {
   "cell_type": "markdown",
   "metadata": {},
   "source": [
    "The representation of the network saved above can be imported into Gephi for producing graph visualizations, as in the following example:\n",
    "\n",
    "In the figures below colors represent communities detected using the raw frequency of the co-occurrence edges, node sizes are proportional to the PageRank of nodes and edge thickness to the NPMI values.\n",
    "\n",
    "![alt text](./figures/nasa/full_network.png \"NASA dataset keywords co-occurrence network\")\n",
    "\n",
    "We can zoom into some of the communities of keywords identified using the community detection method above\n",
    "\n",
    "Community | Zoom\n",
    "- | - \n",
    "Celestial bodies <img src=\"./figures/nasa/celestial_body_cluster.png\" alt=\"Drawing\" style=\"width: 400px;\"/>|<img src=\"./figures/nasa/celestial_body_cluster_zoom.png\" alt=\"Drawing\" style=\"width: 400px;\"/>\n",
    "Earth science <img src=\"./figures/nasa/earth_science.png\" alt=\"Drawing\" style=\"width: 400px;\"/>|<img src=\"./figures/nasa/earch_science_zoom.png\" alt=\"Drawing\" style=\"width: 400px;\"/>\n",
    "Space programs and missions <img src=\"./figures/nasa/programs_missions.png\" alt=\"Drawing\" style=\"width: 400px;\"/>|<img src=\"./figures/nasa/programs_missions_zoom.png\" alt=\"Drawing\" style=\"width: 400px;\"/>"
   ]
  },
  {
   "cell_type": "markdown",
   "metadata": {},
   "source": [
    "## VIII. Minimum spanning tree"
   ]
  },
  {
   "cell_type": "markdown",
   "metadata": {},
   "source": [
    "A _minimum spanning tree_ of a network is given by a subset of edges that make the network connected ($n - 1$ edges connecting $n$ nodes). Its weighted version minimizes not only the number of edges included in the tree, but the total edge weight.\n",
    "\n",
    "In the following example we compute a minimum spanning tree minimizing the NPMI-based distance weight of the network edges. We use the Neo4j-based implementation of the `PathFinder` interface."
   ]
  },
  {
   "cell_type": "code",
   "execution_count": 47,
   "metadata": {},
   "outputs": [],
   "source": [
    "path_finder.minimum_spanning_tree(distance=\"distance_npmi\", write=True, write_edge_label=\"MSTEdge\")"
   ]
  },
  {
   "cell_type": "code",
   "execution_count": 48,
   "metadata": {},
   "outputs": [],
   "source": [
    "nx_path_finder = NXPathFinder(new_graph, directed=False)\n",
    "tree = nx_path_finder.minimum_spanning_tree(distance=\"distance_npmi\")"
   ]
  },
  {
   "cell_type": "code",
   "execution_count": 49,
   "metadata": {},
   "outputs": [],
   "source": [
    "tree_pgframe = networkx_to_pgframe(\n",
    "    tree,\n",
    "    node_prop_types=new_graph._node_prop_types,\n",
    "    edge_prop_types=new_graph._edge_prop_types)"
   ]
  },
  {
   "cell_type": "code",
   "execution_count": 50,
   "metadata": {},
   "outputs": [
    {
     "data": {
      "text/html": [
       "<div>\n",
       "<style scoped>\n",
       "    .dataframe tbody tr th:only-of-type {\n",
       "        vertical-align: middle;\n",
       "    }\n",
       "\n",
       "    .dataframe tbody tr th {\n",
       "        vertical-align: top;\n",
       "    }\n",
       "\n",
       "    .dataframe thead th {\n",
       "        text-align: right;\n",
       "    }\n",
       "</style>\n",
       "<table border=\"1\" class=\"dataframe\">\n",
       "  <thead>\n",
       "    <tr style=\"text-align: right;\">\n",
       "      <th></th>\n",
       "      <th>degree</th>\n",
       "      <th>betweenness</th>\n",
       "      <th>louvain_community</th>\n",
       "      <th>pagerank</th>\n",
       "    </tr>\n",
       "    <tr>\n",
       "      <th>@id</th>\n",
       "      <th></th>\n",
       "      <th></th>\n",
       "      <th></th>\n",
       "      <th></th>\n",
       "    </tr>\n",
       "  </thead>\n",
       "  <tbody>\n",
       "    <tr>\n",
       "      <th>completed</th>\n",
       "      <td>13.0</td>\n",
       "      <td>1858.314166</td>\n",
       "      <td>5</td>\n",
       "      <td>2.817500</td>\n",
       "    </tr>\n",
       "    <tr>\n",
       "      <th>langley research center</th>\n",
       "      <td>2.0</td>\n",
       "      <td>2.832536</td>\n",
       "      <td>5</td>\n",
       "      <td>0.550552</td>\n",
       "    </tr>\n",
       "    <tr>\n",
       "      <th>kennedy space center</th>\n",
       "      <td>4.0</td>\n",
       "      <td>15.039579</td>\n",
       "      <td>5</td>\n",
       "      <td>0.872527</td>\n",
       "    </tr>\n",
       "    <tr>\n",
       "      <th>marshall space flight center</th>\n",
       "      <td>2.0</td>\n",
       "      <td>2.832536</td>\n",
       "      <td>5</td>\n",
       "      <td>0.550552</td>\n",
       "    </tr>\n",
       "    <tr>\n",
       "      <th>armstrong flight research center</th>\n",
       "      <td>4.0</td>\n",
       "      <td>15.039579</td>\n",
       "      <td>5</td>\n",
       "      <td>0.872527</td>\n",
       "    </tr>\n",
       "    <tr>\n",
       "      <th>...</th>\n",
       "      <td>...</td>\n",
       "      <td>...</td>\n",
       "      <td>...</td>\n",
       "      <td>...</td>\n",
       "    </tr>\n",
       "    <tr>\n",
       "      <th>ocio</th>\n",
       "      <td>4.0</td>\n",
       "      <td>0.000000</td>\n",
       "      <td>188</td>\n",
       "      <td>0.765379</td>\n",
       "    </tr>\n",
       "    <tr>\n",
       "      <th>finance</th>\n",
       "      <td>5.0</td>\n",
       "      <td>0.000000</td>\n",
       "      <td>188</td>\n",
       "      <td>0.895925</td>\n",
       "    </tr>\n",
       "    <tr>\n",
       "      <th>sample</th>\n",
       "      <td>5.0</td>\n",
       "      <td>17.894817</td>\n",
       "      <td>209</td>\n",
       "      <td>0.427974</td>\n",
       "    </tr>\n",
       "    <tr>\n",
       "      <th>labelling protocol</th>\n",
       "      <td>15.0</td>\n",
       "      <td>64.874000</td>\n",
       "      <td>330</td>\n",
       "      <td>0.636082</td>\n",
       "    </tr>\n",
       "    <tr>\n",
       "      <th>hybridization protocol</th>\n",
       "      <td>15.0</td>\n",
       "      <td>64.874000</td>\n",
       "      <td>330</td>\n",
       "      <td>0.636082</td>\n",
       "    </tr>\n",
       "  </tbody>\n",
       "</table>\n",
       "<p>500 rows × 4 columns</p>\n",
       "</div>"
      ],
      "text/plain": [
       "                                  degree  betweenness  louvain_community  \\\n",
       "@id                                                                        \n",
       "completed                           13.0  1858.314166                  5   \n",
       "langley research center              2.0     2.832536                  5   \n",
       "kennedy space center                 4.0    15.039579                  5   \n",
       "marshall space flight center         2.0     2.832536                  5   \n",
       "armstrong flight research center     4.0    15.039579                  5   \n",
       "...                                  ...          ...                ...   \n",
       "ocio                                 4.0     0.000000                188   \n",
       "finance                              5.0     0.000000                188   \n",
       "sample                               5.0    17.894817                209   \n",
       "labelling protocol                  15.0    64.874000                330   \n",
       "hybridization protocol              15.0    64.874000                330   \n",
       "\n",
       "                                  pagerank  \n",
       "@id                                         \n",
       "completed                         2.817500  \n",
       "langley research center           0.550552  \n",
       "kennedy space center              0.872527  \n",
       "marshall space flight center      0.550552  \n",
       "armstrong flight research center  0.872527  \n",
       "...                                    ...  \n",
       "ocio                              0.765379  \n",
       "finance                           0.895925  \n",
       "sample                            0.427974  \n",
       "labelling protocol                0.636082  \n",
       "hybridization protocol            0.636082  \n",
       "\n",
       "[500 rows x 4 columns]"
      ]
     },
     "execution_count": 50,
     "metadata": {},
     "output_type": "execute_result"
    }
   ],
   "source": [
    "tree_pgframe._nodes"
   ]
  },
  {
   "cell_type": "code",
   "execution_count": 51,
   "metadata": {},
   "outputs": [],
   "source": [
    "tree_pgframe.export_to_gephi(\n",
    "    \"../data/gephi_nasa_spanning_tree\", \n",
    "    node_attr_mapping = {\n",
    "        \"degree\": \"Degree\",\n",
    "        \"pagerank\": \"PageRank\",\n",
    "        \"betweenness\": \"Betweenness\",\n",
    "        \"louvain_community\": \"Community\"\n",
    "    },\n",
    "    edge_attr_mapping={\n",
    "        \"npmi\": \"Weight\"\n",
    "    })"
   ]
  },
  {
   "cell_type": "markdown",
   "metadata": {},
   "source": [
    "![alt text](./figures/nasa/tree.png \"Minimum spanning tree\")\n",
    "\n",
    "Zoom Earth Science | Zoom Asteroids\n",
    "-|-\n",
    "![alt text](./figures/nasa/tree_zoom_1.png \"Minimum spanning tree\")|![alt text](./figures/nasa/tree_zoom_2.png \"Minimum spanning tree\")\n"
   ]
  },
  {
   "cell_type": "markdown",
   "metadata": {},
   "source": [
    "## IX. Shortest path search"
   ]
  },
  {
   "cell_type": "markdown",
   "metadata": {},
   "source": [
    "The _shortest path search problem_ consisits in finding a sequence of edges from the source node to the target node that minimizes the cumulative weight (or distance) associated to the edges. "
   ]
  },
  {
   "cell_type": "code",
   "execution_count": 52,
   "metadata": {
    "scrolled": true
   },
   "outputs": [
    {
     "name": "stdout",
     "output_type": "stream",
     "text": [
      "ecosystems <->               <-> oceans\n",
      "               earth science\n"
     ]
    }
   ],
   "source": [
    "path = path_finder.shortest_path(\"ecosystems\", \"oceans\")\n",
    "pretty_print_paths([path])"
   ]
  },
  {
   "cell_type": "markdown",
   "metadata": {},
   "source": [
    "The cell above illustrates that the single shortest path form 'ecosystems' and 'oceans' consists of the direct edge between them.\n",
    "\n",
    "Now to explore related keywords we would like to find a _set_ of $n$ shortest paths between them. Moreover, we would like these paths to be _indirect_ (not to include the direct edge from the source to the target). In the following examples we use mutual-information-based edge weights to perform our literature exploration. \n",
    "\n",
    "In the following examples we use Yen's algorithm for finding $n$ loopless shortest paths from the source to the target (https://en.wikipedia.org/wiki/Yen%27s_algorithm)."
   ]
  },
  {
   "cell_type": "code",
   "execution_count": 53,
   "metadata": {},
   "outputs": [],
   "source": [
    "paths = path_finder.n_shortest_paths(\n",
    "    \"ecosystems\", \"oceans\", n=10,\n",
    "    distance=\"distance_npmi\",\n",
    "    strategy=\"yen\")"
   ]
  },
  {
   "cell_type": "code",
   "execution_count": 54,
   "metadata": {},
   "outputs": [
    {
     "name": "stdout",
     "output_type": "stream",
     "text": [
      "ecosystems <->                                              <-> oceans\n",
      "               biosphere <-> coastal processes\n",
      "               biosphere <-> ocean waves\n",
      "               biosphere <-> terrestrial ecosystems\n",
      "               biosphere <-> erosion/sedimentation\n",
      "               geomorphic landforms/processes\n",
      "               biosphere <-> geomorphic landforms/processes\n",
      "               land use/land cover <-> coastal processes\n",
      "               biosphere <-> forest science\n",
      "               earth science\n",
      "               land use/land cover <-> ocean waves\n"
     ]
    }
   ],
   "source": [
    "pretty_print_paths(paths)"
   ]
  },
  {
   "cell_type": "code",
   "execution_count": 55,
   "metadata": {},
   "outputs": [],
   "source": [
    "paths = path_finder.n_shortest_paths(\n",
    "    \"mission\", \"mars\", n=10,\n",
    "    distance=\"distance_npmi\",\n",
    "    strategy=\"yen\")"
   ]
  },
  {
   "cell_type": "code",
   "execution_count": 56,
   "metadata": {},
   "outputs": [
    {
     "name": "stdout",
     "output_type": "stream",
     "text": [
      "mission <->                                                         <-> mars\n",
      "            delta <-> mars reconnaissance orbiter\n",
      "            earth's bridge to space <-> mars reconnaissance orbiter\n",
      "            vehicle <-> mars reconnaissance orbiter\n",
      "            mars reconnaissance orbiter\n",
      "            history <-> mars reconnaissance orbiter\n",
      "            support <-> mars reconnaissance orbiter\n",
      "            landing <-> mars reconnaissance orbiter\n",
      "            delta <-> phoenix\n",
      "            earth's bridge to space <-> phoenix\n",
      "            vehicle <-> phoenix\n"
     ]
    }
   ],
   "source": [
    "pretty_print_paths(paths)"
   ]
  },
  {
   "cell_type": "markdown",
   "metadata": {},
   "source": [
    "## X. Nested path search"
   ]
  },
  {
   "cell_type": "markdown",
   "metadata": {},
   "source": [
    "To explore the space of co-occurring terms in depth, we can run the path search procedure presented above in a _nested fashion_. For each edge $e_1, e_2, ..., e_n$ encountered on a path from the source to the target  from, we can\n",
    "further expand it into $n$ shortest paths between each pair of successive entities (i.e. paths between $e_1$ and $e_2$, $e_2$ and $e_3$, etc.)."
   ]
  },
  {
   "cell_type": "code",
   "execution_count": 57,
   "metadata": {},
   "outputs": [],
   "source": [
    "paths1 = path_finder.n_nested_shortest_paths(\n",
    "    \"ecosystems\", \"oceans\",\n",
    "    top_level_n=10, nested_n=3, depth=2, distance=\"distance_npmi\",\n",
    "    strategy=\"yen\")"
   ]
  },
  {
   "cell_type": "code",
   "execution_count": 58,
   "metadata": {},
   "outputs": [],
   "source": [
    "paths2 = path_finder.n_nested_shortest_paths(\n",
    "    \"mission\", \"mars\",\n",
    "    top_level_n=10, nested_n=3, depth=2, distance=\"distance_npmi\",\n",
    "    strategy=\"yen\")"
   ]
  },
  {
   "cell_type": "markdown",
   "metadata": {},
   "source": [
    "We can now build and visualize the subnetwork constructed using the nodes and the edges discovered during our nested path search."
   ]
  },
  {
   "cell_type": "code",
   "execution_count": 59,
   "metadata": {},
   "outputs": [],
   "source": [
    "summary_graph_oceans = networkx_to_pgframe(nx_path_finder.get_subgraph_from_paths(paths1))\n",
    "summary_graph_mars = networkx_to_pgframe(nx_path_finder.get_subgraph_from_paths(paths2))"
   ]
  },
  {
   "cell_type": "code",
   "execution_count": 60,
   "metadata": {},
   "outputs": [],
   "source": [
    "# Save the graph for Gephi import.\n",
    "summary_graph_oceans.export_to_gephi(\n",
    "    \"../data/gephi_nasa_path_graph_oceans\", \n",
    "    node_attr_mapping = {\n",
    "        \"degree\": \"Degree\",\n",
    "        \"pagerank\": \"PageRank\",\n",
    "        \"betweenness\": \"Betweenness\",\n",
    "        \"louvain_community\": \"Community\"\n",
    "    },\n",
    "    edge_attr_mapping={\n",
    "        \"npmi\": \"Weight\"\n",
    "    })\n",
    "# Save the graph for Gephi import.\n",
    "summary_graph_mars.export_to_gephi(\n",
    "    \"../data/gephi_nasa_path_graph_mars\", \n",
    "    node_attr_mapping = {\n",
    "        \"degree\": \"Degree\",\n",
    "        \"pagerank\": \"PageRank\",\n",
    "        \"betweenness\": \"Betweenness\",\n",
    "        \"louvain_community\": \"Community\"\n",
    "    },\n",
    "    edge_attr_mapping={\n",
    "        \"npmi\": \"Weight\"\n",
    "    })"
   ]
  },
  {
   "cell_type": "markdown",
   "metadata": {},
   "source": [
    "The resulting graphs visualized with Gephi\n",
    "\n",
    "Ecosystems <-> Oceans\n",
    "<img src=\"./figures/nasa/path_graph_ocean.png\" alt=\"NASA path graph\" style=\"width: 800px;\"/>\n",
    "\n",
    " Mission <-> Mars\n",
    "<img src=\"./figures/nasa/path_graph_mars.png\" alt=\"NASA path graph\" style=\"width: 800px;\"/>"
   ]
  }
 ],
 "metadata": {
  "kernelspec": {
   "display_name": "bg",
   "language": "python",
   "name": "bg"
  },
  "language_info": {
   "codemirror_mode": {
    "name": "ipython",
    "version": 3
   },
   "file_extension": ".py",
   "mimetype": "text/x-python",
   "name": "python",
   "nbconvert_exporter": "python",
   "pygments_lexer": "ipython3",
   "version": "3.7.10"
  }
 },
 "nbformat": 4,
 "nbformat_minor": 4
}
