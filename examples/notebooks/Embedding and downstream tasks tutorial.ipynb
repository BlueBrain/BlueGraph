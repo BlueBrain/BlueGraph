{
 "cells": [
  {
   "cell_type": "markdown",
   "metadata": {},
   "source": [
    "# Node embedding and downstream tasks"
   ]
  },
  {
   "cell_type": "code",
   "execution_count": 1,
   "metadata": {},
   "outputs": [],
   "source": [
    "import pandas as pd\n",
    "import numpy as np\n",
    "\n",
    "from sklearn import model_selection\n",
    "from sklearn.svm import LinearSVC"
   ]
  },
  {
   "cell_type": "code",
   "execution_count": 2,
   "metadata": {},
   "outputs": [],
   "source": [
    "from bluegraph.core import PandasPGFrame\n",
    "from bluegraph.preprocess.generators import CooccurrenceGenerator\n",
    "from bluegraph.preprocess.encoders import ScikitLearnPGEncoder\n",
    "\n",
    "from bluegraph.core.embed.embedders import GraphElementEmbedder\n",
    "from bluegraph.backends.stellargraph import StellarGraphNodeEmbedder\n",
    "\n",
    "from bluegraph.downstream import EmbeddingPipeline, transform_to_2d, plot_2d, get_classification_scores\n",
    "from bluegraph.downstream.similarity import (SimilarityProcessor, NodeSimilarityProcessor)\n",
    "from bluegraph.downstream.node_classification import NodeClassifier\n",
    "from bluegraph.downstream.link_prediction import (generate_negative_edges,\n",
    "                                                  EdgePredictor)"
   ]
  },
  {
   "cell_type": "markdown",
   "metadata": {},
   "source": [
    "## Data preparation"
   ]
  },
  {
   "cell_type": "markdown",
   "metadata": {},
   "source": [
    "Fist, we read the source dataset with mentions of entities in different paragraphs"
   ]
  },
  {
   "cell_type": "code",
   "execution_count": 3,
   "metadata": {},
   "outputs": [],
   "source": [
    "mentions = pd.read_csv(\"../data/labeled_entity_occurrence.csv\")"
   ]
  },
  {
   "cell_type": "code",
   "execution_count": 4,
   "metadata": {},
   "outputs": [],
   "source": [
    "# Extract unique paper/seciton/paragraph identifiers\n",
    "mentions = mentions.rename(columns={\"occurrence\": \"paragraph\"})\n",
    "number_of_paragraphs = len(mentions[\"paragraph\"].unique())"
   ]
  },
  {
   "cell_type": "code",
   "execution_count": 5,
   "metadata": {},
   "outputs": [
    {
     "data": {
      "text/html": [
       "<div>\n",
       "<style scoped>\n",
       "    .dataframe tbody tr th:only-of-type {\n",
       "        vertical-align: middle;\n",
       "    }\n",
       "\n",
       "    .dataframe tbody tr th {\n",
       "        vertical-align: top;\n",
       "    }\n",
       "\n",
       "    .dataframe thead th {\n",
       "        text-align: right;\n",
       "    }\n",
       "</style>\n",
       "<table border=\"1\" class=\"dataframe\">\n",
       "  <thead>\n",
       "    <tr style=\"text-align: right;\">\n",
       "      <th></th>\n",
       "      <th>entity</th>\n",
       "      <th>paragraph</th>\n",
       "    </tr>\n",
       "  </thead>\n",
       "  <tbody>\n",
       "    <tr>\n",
       "      <th>0</th>\n",
       "      <td>lithostathine-1-alpha</td>\n",
       "      <td>1</td>\n",
       "    </tr>\n",
       "    <tr>\n",
       "      <th>1</th>\n",
       "      <td>pulmonary</td>\n",
       "      <td>1</td>\n",
       "    </tr>\n",
       "    <tr>\n",
       "      <th>2</th>\n",
       "      <td>host</td>\n",
       "      <td>1</td>\n",
       "    </tr>\n",
       "    <tr>\n",
       "      <th>3</th>\n",
       "      <td>lithostathine-1-alpha</td>\n",
       "      <td>2</td>\n",
       "    </tr>\n",
       "    <tr>\n",
       "      <th>4</th>\n",
       "      <td>surfactant protein d measurement</td>\n",
       "      <td>2</td>\n",
       "    </tr>\n",
       "    <tr>\n",
       "      <th>...</th>\n",
       "      <td>...</td>\n",
       "      <td>...</td>\n",
       "    </tr>\n",
       "    <tr>\n",
       "      <th>2281346</th>\n",
       "      <td>covid-19</td>\n",
       "      <td>227822</td>\n",
       "    </tr>\n",
       "    <tr>\n",
       "      <th>2281347</th>\n",
       "      <td>covid-19</td>\n",
       "      <td>227822</td>\n",
       "    </tr>\n",
       "    <tr>\n",
       "      <th>2281348</th>\n",
       "      <td>viral infection</td>\n",
       "      <td>227823</td>\n",
       "    </tr>\n",
       "    <tr>\n",
       "      <th>2281349</th>\n",
       "      <td>lipid</td>\n",
       "      <td>227823</td>\n",
       "    </tr>\n",
       "    <tr>\n",
       "      <th>2281350</th>\n",
       "      <td>inflammation</td>\n",
       "      <td>227823</td>\n",
       "    </tr>\n",
       "  </tbody>\n",
       "</table>\n",
       "<p>2281351 rows × 2 columns</p>\n",
       "</div>"
      ],
      "text/plain": [
       "                                   entity  paragraph\n",
       "0                   lithostathine-1-alpha          1\n",
       "1                               pulmonary          1\n",
       "2                                    host          1\n",
       "3                   lithostathine-1-alpha          2\n",
       "4        surfactant protein d measurement          2\n",
       "...                                   ...        ...\n",
       "2281346                          covid-19     227822\n",
       "2281347                          covid-19     227822\n",
       "2281348                   viral infection     227823\n",
       "2281349                             lipid     227823\n",
       "2281350                      inflammation     227823\n",
       "\n",
       "[2281351 rows x 2 columns]"
      ]
     },
     "execution_count": 5,
     "metadata": {},
     "output_type": "execute_result"
    }
   ],
   "source": [
    "mentions"
   ]
  },
  {
   "cell_type": "markdown",
   "metadata": {},
   "source": [
    "We will also load a dataset that contains definitions of entities and their types"
   ]
  },
  {
   "cell_type": "code",
   "execution_count": 6,
   "metadata": {
    "scrolled": false
   },
   "outputs": [],
   "source": [
    "entity_data = pd.read_csv(\"../data/entity_types_defs.csv\")"
   ]
  },
  {
   "cell_type": "code",
   "execution_count": 7,
   "metadata": {},
   "outputs": [
    {
     "data": {
      "text/html": [
       "<div>\n",
       "<style scoped>\n",
       "    .dataframe tbody tr th:only-of-type {\n",
       "        vertical-align: middle;\n",
       "    }\n",
       "\n",
       "    .dataframe tbody tr th {\n",
       "        vertical-align: top;\n",
       "    }\n",
       "\n",
       "    .dataframe thead th {\n",
       "        text-align: right;\n",
       "    }\n",
       "</style>\n",
       "<table border=\"1\" class=\"dataframe\">\n",
       "  <thead>\n",
       "    <tr style=\"text-align: right;\">\n",
       "      <th></th>\n",
       "      <th>entity</th>\n",
       "      <th>entity_type</th>\n",
       "      <th>definition</th>\n",
       "    </tr>\n",
       "  </thead>\n",
       "  <tbody>\n",
       "    <tr>\n",
       "      <th>0</th>\n",
       "      <td>(e3-independent) e2 ubiquitin-conjugating enzyme</td>\n",
       "      <td>PROTEIN</td>\n",
       "      <td>(E3-independent) E2 ubiquitin-conjugating enzy...</td>\n",
       "    </tr>\n",
       "    <tr>\n",
       "      <th>1</th>\n",
       "      <td>(h115d)vhl35 peptide</td>\n",
       "      <td>CHEMICAL</td>\n",
       "      <td>A peptide vaccine derived from the von Hippel-...</td>\n",
       "    </tr>\n",
       "    <tr>\n",
       "      <th>2</th>\n",
       "      <td>1,1-dimethylhydrazine</td>\n",
       "      <td>DRUG</td>\n",
       "      <td>A clear, colorless, flammable, hygroscopic liq...</td>\n",
       "    </tr>\n",
       "    <tr>\n",
       "      <th>3</th>\n",
       "      <td>1,2-dimethylhydrazine</td>\n",
       "      <td>CHEMICAL</td>\n",
       "      <td>A compound used experimentally to induce tumor...</td>\n",
       "    </tr>\n",
       "    <tr>\n",
       "      <th>4</th>\n",
       "      <td>1,25-dihydroxyvitamin d(3) 24-hydroxylase, mit...</td>\n",
       "      <td>PROTEIN</td>\n",
       "      <td>1,25-dihydroxyvitamin D(3) 24-hydroxylase, mit...</td>\n",
       "    </tr>\n",
       "    <tr>\n",
       "      <th>...</th>\n",
       "      <td>...</td>\n",
       "      <td>...</td>\n",
       "      <td>...</td>\n",
       "    </tr>\n",
       "    <tr>\n",
       "      <th>28127</th>\n",
       "      <td>zygomycosis</td>\n",
       "      <td>DISEASE</td>\n",
       "      <td>Any infection due to a fungus of the Zygomycot...</td>\n",
       "    </tr>\n",
       "    <tr>\n",
       "      <th>28128</th>\n",
       "      <td>zygomycota</td>\n",
       "      <td>ORGANISM</td>\n",
       "      <td>A phylum of fungi that are characterized by ve...</td>\n",
       "    </tr>\n",
       "    <tr>\n",
       "      <th>28129</th>\n",
       "      <td>zygosity</td>\n",
       "      <td>ORGANISM</td>\n",
       "      <td>The genetic condition of a zygote, especially ...</td>\n",
       "    </tr>\n",
       "    <tr>\n",
       "      <th>28130</th>\n",
       "      <td>zygote</td>\n",
       "      <td>CELL_COMPARTMENT</td>\n",
       "      <td>The cell formed by the union of two gametes, e...</td>\n",
       "    </tr>\n",
       "    <tr>\n",
       "      <th>28131</th>\n",
       "      <td>zyxin</td>\n",
       "      <td>ORGANISM</td>\n",
       "      <td>Zyxin (572 aa, ~61 kDa) is encoded by the huma...</td>\n",
       "    </tr>\n",
       "  </tbody>\n",
       "</table>\n",
       "<p>28132 rows × 3 columns</p>\n",
       "</div>"
      ],
      "text/plain": [
       "                                                  entity       entity_type  \\\n",
       "0       (e3-independent) e2 ubiquitin-conjugating enzyme           PROTEIN   \n",
       "1                                   (h115d)vhl35 peptide          CHEMICAL   \n",
       "2                                  1,1-dimethylhydrazine              DRUG   \n",
       "3                                  1,2-dimethylhydrazine          CHEMICAL   \n",
       "4      1,25-dihydroxyvitamin d(3) 24-hydroxylase, mit...           PROTEIN   \n",
       "...                                                  ...               ...   \n",
       "28127                                        zygomycosis           DISEASE   \n",
       "28128                                         zygomycota          ORGANISM   \n",
       "28129                                           zygosity          ORGANISM   \n",
       "28130                                             zygote  CELL_COMPARTMENT   \n",
       "28131                                              zyxin          ORGANISM   \n",
       "\n",
       "                                              definition  \n",
       "0      (E3-independent) E2 ubiquitin-conjugating enzy...  \n",
       "1      A peptide vaccine derived from the von Hippel-...  \n",
       "2      A clear, colorless, flammable, hygroscopic liq...  \n",
       "3      A compound used experimentally to induce tumor...  \n",
       "4      1,25-dihydroxyvitamin D(3) 24-hydroxylase, mit...  \n",
       "...                                                  ...  \n",
       "28127  Any infection due to a fungus of the Zygomycot...  \n",
       "28128  A phylum of fungi that are characterized by ve...  \n",
       "28129  The genetic condition of a zygote, especially ...  \n",
       "28130  The cell formed by the union of two gametes, e...  \n",
       "28131  Zyxin (572 aa, ~61 kDa) is encoded by the huma...  \n",
       "\n",
       "[28132 rows x 3 columns]"
      ]
     },
     "execution_count": 7,
     "metadata": {},
     "output_type": "execute_result"
    }
   ],
   "source": [
    "entity_data"
   ]
  },
  {
   "cell_type": "markdown",
   "metadata": {},
   "source": [
    "### Generation of a co-occurrence graph"
   ]
  },
  {
   "cell_type": "markdown",
   "metadata": {},
   "source": [
    "We first create a graph whose nodes are entities"
   ]
  },
  {
   "cell_type": "code",
   "execution_count": 8,
   "metadata": {},
   "outputs": [],
   "source": [
    "graph = PandasPGFrame()\n",
    "entity_nodes = mentions[\"entity\"].unique()\n",
    "graph.add_nodes(entity_nodes)\n",
    "graph.add_node_types({n: \"Entity\" for n in entity_nodes})\n",
    "\n",
    "entity_props = entity_data.rename(columns={\"entity\": \"@id\"}).set_index(\"@id\")\n",
    "graph.add_node_properties(entity_props[\"entity_type\"], prop_type=\"category\")\n",
    "graph.add_node_properties(entity_props[\"definition\"], prop_type=\"text\")"
   ]
  },
  {
   "cell_type": "code",
   "execution_count": 9,
   "metadata": {},
   "outputs": [],
   "source": [
    "paragraph_prop = pd.DataFrame({\"paragraphs\": mentions.groupby(\"entity\").aggregate(set)[\"paragraph\"]})\n",
    "graph.add_node_properties(paragraph_prop, prop_type=\"category\")"
   ]
  },
  {
   "cell_type": "code",
   "execution_count": 10,
   "metadata": {},
   "outputs": [
    {
     "data": {
      "text/html": [
       "<div>\n",
       "<style scoped>\n",
       "    .dataframe tbody tr th:only-of-type {\n",
       "        vertical-align: middle;\n",
       "    }\n",
       "\n",
       "    .dataframe tbody tr th {\n",
       "        vertical-align: top;\n",
       "    }\n",
       "\n",
       "    .dataframe thead th {\n",
       "        text-align: right;\n",
       "    }\n",
       "</style>\n",
       "<table border=\"1\" class=\"dataframe\">\n",
       "  <thead>\n",
       "    <tr style=\"text-align: right;\">\n",
       "      <th></th>\n",
       "      <th>@type</th>\n",
       "      <th>entity_type</th>\n",
       "      <th>definition</th>\n",
       "      <th>paragraphs</th>\n",
       "    </tr>\n",
       "    <tr>\n",
       "      <th>@id</th>\n",
       "      <th></th>\n",
       "      <th></th>\n",
       "      <th></th>\n",
       "      <th></th>\n",
       "    </tr>\n",
       "  </thead>\n",
       "  <tbody>\n",
       "    <tr>\n",
       "      <th>lithostathine-1-alpha</th>\n",
       "      <td>Entity</td>\n",
       "      <td>PROTEIN</td>\n",
       "      <td>Lithostathine-1-alpha (166 aa, ~19 kDa) is enc...</td>\n",
       "      <td>{1, 2, 3, 18178, 195589, 104454, 88967, 104455...</td>\n",
       "    </tr>\n",
       "    <tr>\n",
       "      <th>pulmonary</th>\n",
       "      <td>Entity</td>\n",
       "      <td>ORGAN</td>\n",
       "      <td>Relating to the lungs as the intended site of ...</td>\n",
       "      <td>{1, 196612, 196613, 196614, 196621, 196623, 16...</td>\n",
       "    </tr>\n",
       "    <tr>\n",
       "      <th>host</th>\n",
       "      <td>Entity</td>\n",
       "      <td>ORGANISM</td>\n",
       "      <td>An organism that nourishes and supports anothe...</td>\n",
       "      <td>{1, 114689, 3, 221193, 180243, 180247, 28, 180...</td>\n",
       "    </tr>\n",
       "    <tr>\n",
       "      <th>surfactant protein d measurement</th>\n",
       "      <td>Entity</td>\n",
       "      <td>PROTEIN</td>\n",
       "      <td>The determination of the amount of surfactant ...</td>\n",
       "      <td>{145537, 2, 3, 4, 5, 6, 51202, 103939, 103940,...</td>\n",
       "    </tr>\n",
       "    <tr>\n",
       "      <th>communication response</th>\n",
       "      <td>Entity</td>\n",
       "      <td>PATHWAY</td>\n",
       "      <td>A statement (either spoken or written) that is...</td>\n",
       "      <td>{46592, 64000, 2, 28162, 166912, 226304, 88585...</td>\n",
       "    </tr>\n",
       "    <tr>\n",
       "      <th>...</th>\n",
       "      <td>...</td>\n",
       "      <td>...</td>\n",
       "      <td>...</td>\n",
       "      <td>...</td>\n",
       "    </tr>\n",
       "    <tr>\n",
       "      <th>drug binding site</th>\n",
       "      <td>Entity</td>\n",
       "      <td>PATHWAY</td>\n",
       "      <td>The reactive parts of a macromolecule that dir...</td>\n",
       "      <td>{225082, 225079}</td>\n",
       "    </tr>\n",
       "    <tr>\n",
       "      <th>carbaril</th>\n",
       "      <td>Entity</td>\n",
       "      <td>CHEMICAL</td>\n",
       "      <td>A synthetic carbamate acetylcholinesterase inh...</td>\n",
       "      <td>{225408, 225409, 225415, 225419, 225397}</td>\n",
       "    </tr>\n",
       "    <tr>\n",
       "      <th>ny-eso-1 positive tumor cells present</th>\n",
       "      <td>Entity</td>\n",
       "      <td>CELL_TYPE</td>\n",
       "      <td>An indication that Cancer/Testis Antigen 1 exp...</td>\n",
       "      <td>{225544, 226996}</td>\n",
       "    </tr>\n",
       "    <tr>\n",
       "      <th>mustelidae</th>\n",
       "      <td>Entity</td>\n",
       "      <td>ORGANISM</td>\n",
       "      <td>Taxonomic family which includes the Ferret.</td>\n",
       "      <td>{225901, 225903}</td>\n",
       "    </tr>\n",
       "    <tr>\n",
       "      <th>friulian language</th>\n",
       "      <td>Entity</td>\n",
       "      <td>ORGANISM</td>\n",
       "      <td>An Indo-European Romance language spoken in th...</td>\n",
       "      <td>{225901, 225903}</td>\n",
       "    </tr>\n",
       "  </tbody>\n",
       "</table>\n",
       "<p>17989 rows × 4 columns</p>\n",
       "</div>"
      ],
      "text/plain": [
       "                                        @type entity_type  \\\n",
       "@id                                                         \n",
       "lithostathine-1-alpha                  Entity     PROTEIN   \n",
       "pulmonary                              Entity       ORGAN   \n",
       "host                                   Entity    ORGANISM   \n",
       "surfactant protein d measurement       Entity     PROTEIN   \n",
       "communication response                 Entity     PATHWAY   \n",
       "...                                       ...         ...   \n",
       "drug binding site                      Entity     PATHWAY   \n",
       "carbaril                               Entity    CHEMICAL   \n",
       "ny-eso-1 positive tumor cells present  Entity   CELL_TYPE   \n",
       "mustelidae                             Entity    ORGANISM   \n",
       "friulian language                      Entity    ORGANISM   \n",
       "\n",
       "                                                                              definition  \\\n",
       "@id                                                                                        \n",
       "lithostathine-1-alpha                  Lithostathine-1-alpha (166 aa, ~19 kDa) is enc...   \n",
       "pulmonary                              Relating to the lungs as the intended site of ...   \n",
       "host                                   An organism that nourishes and supports anothe...   \n",
       "surfactant protein d measurement       The determination of the amount of surfactant ...   \n",
       "communication response                 A statement (either spoken or written) that is...   \n",
       "...                                                                                  ...   \n",
       "drug binding site                      The reactive parts of a macromolecule that dir...   \n",
       "carbaril                               A synthetic carbamate acetylcholinesterase inh...   \n",
       "ny-eso-1 positive tumor cells present  An indication that Cancer/Testis Antigen 1 exp...   \n",
       "mustelidae                                   Taxonomic family which includes the Ferret.   \n",
       "friulian language                      An Indo-European Romance language spoken in th...   \n",
       "\n",
       "                                                                              paragraphs  \n",
       "@id                                                                                       \n",
       "lithostathine-1-alpha                  {1, 2, 3, 18178, 195589, 104454, 88967, 104455...  \n",
       "pulmonary                              {1, 196612, 196613, 196614, 196621, 196623, 16...  \n",
       "host                                   {1, 114689, 3, 221193, 180243, 180247, 28, 180...  \n",
       "surfactant protein d measurement       {145537, 2, 3, 4, 5, 6, 51202, 103939, 103940,...  \n",
       "communication response                 {46592, 64000, 2, 28162, 166912, 226304, 88585...  \n",
       "...                                                                                  ...  \n",
       "drug binding site                                                       {225082, 225079}  \n",
       "carbaril                                        {225408, 225409, 225415, 225419, 225397}  \n",
       "ny-eso-1 positive tumor cells present                                   {225544, 226996}  \n",
       "mustelidae                                                              {225901, 225903}  \n",
       "friulian language                                                       {225901, 225903}  \n",
       "\n",
       "[17989 rows x 4 columns]"
      ]
     },
     "execution_count": 10,
     "metadata": {},
     "output_type": "execute_result"
    }
   ],
   "source": [
    "graph.nodes(raw_frame=True)"
   ]
  },
  {
   "cell_type": "markdown",
   "metadata": {},
   "source": [
    "For each node we will add the `frequency` property that counts the total number of paragraphs where the entity was mentioned."
   ]
  },
  {
   "cell_type": "code",
   "execution_count": 11,
   "metadata": {},
   "outputs": [],
   "source": [
    "frequencies = graph._nodes[\"paragraphs\"].apply(len)\n",
    "frequencies.name = \"frequency\"\n",
    "graph.add_node_properties(frequencies)"
   ]
  },
  {
   "cell_type": "code",
   "execution_count": 12,
   "metadata": {},
   "outputs": [
    {
     "data": {
      "text/html": [
       "<div>\n",
       "<style scoped>\n",
       "    .dataframe tbody tr th:only-of-type {\n",
       "        vertical-align: middle;\n",
       "    }\n",
       "\n",
       "    .dataframe tbody tr th {\n",
       "        vertical-align: top;\n",
       "    }\n",
       "\n",
       "    .dataframe thead th {\n",
       "        text-align: right;\n",
       "    }\n",
       "</style>\n",
       "<table border=\"1\" class=\"dataframe\">\n",
       "  <thead>\n",
       "    <tr style=\"text-align: right;\">\n",
       "      <th></th>\n",
       "      <th>@type</th>\n",
       "      <th>entity_type</th>\n",
       "      <th>definition</th>\n",
       "      <th>paragraphs</th>\n",
       "      <th>frequency</th>\n",
       "    </tr>\n",
       "    <tr>\n",
       "      <th>@id</th>\n",
       "      <th></th>\n",
       "      <th></th>\n",
       "      <th></th>\n",
       "      <th></th>\n",
       "      <th></th>\n",
       "    </tr>\n",
       "  </thead>\n",
       "  <tbody>\n",
       "    <tr>\n",
       "      <th>lithostathine-1-alpha</th>\n",
       "      <td>Entity</td>\n",
       "      <td>PROTEIN</td>\n",
       "      <td>Lithostathine-1-alpha (166 aa, ~19 kDa) is enc...</td>\n",
       "      <td>{1, 2, 3, 18178, 195589, 104454, 88967, 104455...</td>\n",
       "      <td>80</td>\n",
       "    </tr>\n",
       "    <tr>\n",
       "      <th>pulmonary</th>\n",
       "      <td>Entity</td>\n",
       "      <td>ORGAN</td>\n",
       "      <td>Relating to the lungs as the intended site of ...</td>\n",
       "      <td>{1, 196612, 196613, 196614, 196621, 196623, 16...</td>\n",
       "      <td>8295</td>\n",
       "    </tr>\n",
       "    <tr>\n",
       "      <th>host</th>\n",
       "      <td>Entity</td>\n",
       "      <td>ORGANISM</td>\n",
       "      <td>An organism that nourishes and supports anothe...</td>\n",
       "      <td>{1, 114689, 3, 221193, 180243, 180247, 28, 180...</td>\n",
       "      <td>2660</td>\n",
       "    </tr>\n",
       "    <tr>\n",
       "      <th>surfactant protein d measurement</th>\n",
       "      <td>Entity</td>\n",
       "      <td>PROTEIN</td>\n",
       "      <td>The determination of the amount of surfactant ...</td>\n",
       "      <td>{145537, 2, 3, 4, 5, 6, 51202, 103939, 103940,...</td>\n",
       "      <td>268</td>\n",
       "    </tr>\n",
       "    <tr>\n",
       "      <th>communication response</th>\n",
       "      <td>Entity</td>\n",
       "      <td>PATHWAY</td>\n",
       "      <td>A statement (either spoken or written) that is...</td>\n",
       "      <td>{46592, 64000, 2, 28162, 166912, 226304, 88585...</td>\n",
       "      <td>160</td>\n",
       "    </tr>\n",
       "    <tr>\n",
       "      <th>...</th>\n",
       "      <td>...</td>\n",
       "      <td>...</td>\n",
       "      <td>...</td>\n",
       "      <td>...</td>\n",
       "      <td>...</td>\n",
       "    </tr>\n",
       "    <tr>\n",
       "      <th>drug binding site</th>\n",
       "      <td>Entity</td>\n",
       "      <td>PATHWAY</td>\n",
       "      <td>The reactive parts of a macromolecule that dir...</td>\n",
       "      <td>{225082, 225079}</td>\n",
       "      <td>2</td>\n",
       "    </tr>\n",
       "    <tr>\n",
       "      <th>carbaril</th>\n",
       "      <td>Entity</td>\n",
       "      <td>CHEMICAL</td>\n",
       "      <td>A synthetic carbamate acetylcholinesterase inh...</td>\n",
       "      <td>{225408, 225409, 225415, 225419, 225397}</td>\n",
       "      <td>5</td>\n",
       "    </tr>\n",
       "    <tr>\n",
       "      <th>ny-eso-1 positive tumor cells present</th>\n",
       "      <td>Entity</td>\n",
       "      <td>CELL_TYPE</td>\n",
       "      <td>An indication that Cancer/Testis Antigen 1 exp...</td>\n",
       "      <td>{225544, 226996}</td>\n",
       "      <td>2</td>\n",
       "    </tr>\n",
       "    <tr>\n",
       "      <th>mustelidae</th>\n",
       "      <td>Entity</td>\n",
       "      <td>ORGANISM</td>\n",
       "      <td>Taxonomic family which includes the Ferret.</td>\n",
       "      <td>{225901, 225903}</td>\n",
       "      <td>2</td>\n",
       "    </tr>\n",
       "    <tr>\n",
       "      <th>friulian language</th>\n",
       "      <td>Entity</td>\n",
       "      <td>ORGANISM</td>\n",
       "      <td>An Indo-European Romance language spoken in th...</td>\n",
       "      <td>{225901, 225903}</td>\n",
       "      <td>2</td>\n",
       "    </tr>\n",
       "  </tbody>\n",
       "</table>\n",
       "<p>17989 rows × 5 columns</p>\n",
       "</div>"
      ],
      "text/plain": [
       "                                        @type entity_type  \\\n",
       "@id                                                         \n",
       "lithostathine-1-alpha                  Entity     PROTEIN   \n",
       "pulmonary                              Entity       ORGAN   \n",
       "host                                   Entity    ORGANISM   \n",
       "surfactant protein d measurement       Entity     PROTEIN   \n",
       "communication response                 Entity     PATHWAY   \n",
       "...                                       ...         ...   \n",
       "drug binding site                      Entity     PATHWAY   \n",
       "carbaril                               Entity    CHEMICAL   \n",
       "ny-eso-1 positive tumor cells present  Entity   CELL_TYPE   \n",
       "mustelidae                             Entity    ORGANISM   \n",
       "friulian language                      Entity    ORGANISM   \n",
       "\n",
       "                                                                              definition  \\\n",
       "@id                                                                                        \n",
       "lithostathine-1-alpha                  Lithostathine-1-alpha (166 aa, ~19 kDa) is enc...   \n",
       "pulmonary                              Relating to the lungs as the intended site of ...   \n",
       "host                                   An organism that nourishes and supports anothe...   \n",
       "surfactant protein d measurement       The determination of the amount of surfactant ...   \n",
       "communication response                 A statement (either spoken or written) that is...   \n",
       "...                                                                                  ...   \n",
       "drug binding site                      The reactive parts of a macromolecule that dir...   \n",
       "carbaril                               A synthetic carbamate acetylcholinesterase inh...   \n",
       "ny-eso-1 positive tumor cells present  An indication that Cancer/Testis Antigen 1 exp...   \n",
       "mustelidae                                   Taxonomic family which includes the Ferret.   \n",
       "friulian language                      An Indo-European Romance language spoken in th...   \n",
       "\n",
       "                                                                              paragraphs  \\\n",
       "@id                                                                                        \n",
       "lithostathine-1-alpha                  {1, 2, 3, 18178, 195589, 104454, 88967, 104455...   \n",
       "pulmonary                              {1, 196612, 196613, 196614, 196621, 196623, 16...   \n",
       "host                                   {1, 114689, 3, 221193, 180243, 180247, 28, 180...   \n",
       "surfactant protein d measurement       {145537, 2, 3, 4, 5, 6, 51202, 103939, 103940,...   \n",
       "communication response                 {46592, 64000, 2, 28162, 166912, 226304, 88585...   \n",
       "...                                                                                  ...   \n",
       "drug binding site                                                       {225082, 225079}   \n",
       "carbaril                                        {225408, 225409, 225415, 225419, 225397}   \n",
       "ny-eso-1 positive tumor cells present                                   {225544, 226996}   \n",
       "mustelidae                                                              {225901, 225903}   \n",
       "friulian language                                                       {225901, 225903}   \n",
       "\n",
       "                                       frequency  \n",
       "@id                                               \n",
       "lithostathine-1-alpha                         80  \n",
       "pulmonary                                   8295  \n",
       "host                                        2660  \n",
       "surfactant protein d measurement             268  \n",
       "communication response                       160  \n",
       "...                                          ...  \n",
       "drug binding site                              2  \n",
       "carbaril                                       5  \n",
       "ny-eso-1 positive tumor cells present          2  \n",
       "mustelidae                                     2  \n",
       "friulian language                              2  \n",
       "\n",
       "[17989 rows x 5 columns]"
      ]
     },
     "execution_count": 12,
     "metadata": {},
     "output_type": "execute_result"
    }
   ],
   "source": [
    "graph.nodes(raw_frame=True)"
   ]
  },
  {
   "cell_type": "markdown",
   "metadata": {},
   "source": [
    "Now, for constructing co-occurrence network we will select only 1000 most frequent entities."
   ]
  },
  {
   "cell_type": "code",
   "execution_count": 13,
   "metadata": {},
   "outputs": [],
   "source": [
    "nodes_to_include = graph._nodes.nlargest(1000, \"frequency\").index"
   ]
  },
  {
   "cell_type": "markdown",
   "metadata": {},
   "source": [
    "The `CooccurrenceGenerator` class allows us to generate co-occurrence edges from overlaps in node property values or edge (or edge properties). In this case we consider the `paragraph` node property and construct co-occurrence edges from overlapping sets of paragraphs. In addition, we will compute some co-occurrence statistics: total co-occurrence frequency and normalized pointwise mutual information (NPMI)."
   ]
  },
  {
   "cell_type": "code",
   "execution_count": 14,
   "metadata": {},
   "outputs": [
    {
     "name": "stdout",
     "output_type": "stream",
     "text": [
      "Examining 499500 pairs of terms for co-occurrence...\n",
      "CPU times: user 8.4 s, sys: 2.36 s, total: 10.8 s\n",
      "Wall time: 1min 34s\n"
     ]
    }
   ],
   "source": [
    "%%time\n",
    "generator = CooccurrenceGenerator(graph.subgraph(nodes=nodes_to_include))\n",
    "paragraph_cooccurrence_edges = generator.generate_from_nodes(\n",
    "    \"paragraphs\", total_factor_instances=number_of_paragraphs,\n",
    "    compute_statistics=[\"frequency\", \"npmi\"],\n",
    "    parallelize=True, cores=8)"
   ]
  },
  {
   "cell_type": "code",
   "execution_count": 15,
   "metadata": {},
   "outputs": [],
   "source": [
    "cutoff = paragraph_cooccurrence_edges[\"npmi\"].mean()"
   ]
  },
  {
   "cell_type": "code",
   "execution_count": 16,
   "metadata": {},
   "outputs": [],
   "source": [
    "paragraph_cooccurrence_edges = paragraph_cooccurrence_edges[paragraph_cooccurrence_edges[\"npmi\"] > cutoff]"
   ]
  },
  {
   "cell_type": "markdown",
   "metadata": {},
   "source": [
    "We add generated edges to the original graph"
   ]
  },
  {
   "cell_type": "code",
   "execution_count": 17,
   "metadata": {},
   "outputs": [],
   "source": [
    "graph._edges = paragraph_cooccurrence_edges\n",
    "graph.edge_prop_as_numeric(\"frequency\")\n",
    "graph.edge_prop_as_numeric(\"npmi\")"
   ]
  },
  {
   "cell_type": "code",
   "execution_count": 18,
   "metadata": {},
   "outputs": [
    {
     "data": {
      "text/html": [
       "<div>\n",
       "<style scoped>\n",
       "    .dataframe tbody tr th:only-of-type {\n",
       "        vertical-align: middle;\n",
       "    }\n",
       "\n",
       "    .dataframe tbody tr th {\n",
       "        vertical-align: top;\n",
       "    }\n",
       "\n",
       "    .dataframe thead th {\n",
       "        text-align: right;\n",
       "    }\n",
       "</style>\n",
       "<table border=\"1\" class=\"dataframe\">\n",
       "  <thead>\n",
       "    <tr style=\"text-align: right;\">\n",
       "      <th></th>\n",
       "      <th></th>\n",
       "      <th>common_factors</th>\n",
       "      <th>frequency</th>\n",
       "      <th>npmi</th>\n",
       "    </tr>\n",
       "    <tr>\n",
       "      <th>@source_id</th>\n",
       "      <th>@target_id</th>\n",
       "      <th></th>\n",
       "      <th></th>\n",
       "      <th></th>\n",
       "    </tr>\n",
       "  </thead>\n",
       "  <tbody>\n",
       "    <tr>\n",
       "      <th rowspan=\"5\" valign=\"top\">surfactant protein d measurement</th>\n",
       "      <th>microorganism</th>\n",
       "      <td>{2, 3, 7810, 58, 41, 7754, 7850, 26218, 7853, ...</td>\n",
       "      <td>19</td>\n",
       "      <td>0.235263</td>\n",
       "    </tr>\n",
       "    <tr>\n",
       "      <th>lung</th>\n",
       "      <td>{2, 103939, 51202, 5, 4, 103940, 15, 145438, 3...</td>\n",
       "      <td>93</td>\n",
       "      <td>0.221395</td>\n",
       "    </tr>\n",
       "    <tr>\n",
       "      <th>alveolar</th>\n",
       "      <td>{223872, 2, 51202, 100502, 7831, 149657, 19522...</td>\n",
       "      <td>25</td>\n",
       "      <td>0.336175</td>\n",
       "    </tr>\n",
       "    <tr>\n",
       "      <th>epithelial cell</th>\n",
       "      <td>{2, 4, 5, 222298, 7825, 7732, 7733, 169174, 7738}</td>\n",
       "      <td>9</td>\n",
       "      <td>0.175923</td>\n",
       "    </tr>\n",
       "    <tr>\n",
       "      <th>molecule</th>\n",
       "      <td>{2, 7750, 49991, 134504, 206448, 49, 52, 20645...</td>\n",
       "      <td>10</td>\n",
       "      <td>0.113611</td>\n",
       "    </tr>\n",
       "    <tr>\n",
       "      <th>...</th>\n",
       "      <th>...</th>\n",
       "      <td>...</td>\n",
       "      <td>...</td>\n",
       "      <td>...</td>\n",
       "    </tr>\n",
       "    <tr>\n",
       "      <th rowspan=\"2\" valign=\"top\">severe acute respiratory syndrome</th>\n",
       "      <th>caax prenyl protease 2</th>\n",
       "      <td>{205345, 185829, 227486, 220124, 220126}</td>\n",
       "      <td>5</td>\n",
       "      <td>0.142611</td>\n",
       "    </tr>\n",
       "    <tr>\n",
       "      <th>transmembrane protease serine 2</th>\n",
       "      <td>{223746, 223747, 167301, 223752, 200971, 22375...</td>\n",
       "      <td>21</td>\n",
       "      <td>0.238160</td>\n",
       "    </tr>\n",
       "    <tr>\n",
       "      <th rowspan=\"3\" valign=\"top\">ciliated bronchial epithelial cell</th>\n",
       "      <th>cystic fibrosis pulmonary exacerbation</th>\n",
       "      <td>{46779}</td>\n",
       "      <td>1</td>\n",
       "      <td>0.088963</td>\n",
       "    </tr>\n",
       "    <tr>\n",
       "      <th>caax prenyl protease 2</th>\n",
       "      <td>{215748, 220047}</td>\n",
       "      <td>2</td>\n",
       "      <td>0.151639</td>\n",
       "    </tr>\n",
       "    <tr>\n",
       "      <th>transmembrane protease serine 2</th>\n",
       "      <td>{167360, 167358, 167301, 214566, 214567, 16138...</td>\n",
       "      <td>14</td>\n",
       "      <td>0.305697</td>\n",
       "    </tr>\n",
       "  </tbody>\n",
       "</table>\n",
       "<p>161332 rows × 3 columns</p>\n",
       "</div>"
      ],
      "text/plain": [
       "                                                                                                              common_factors  \\\n",
       "@source_id                         @target_id                                                                                  \n",
       "surfactant protein d measurement   microorganism                           {2, 3, 7810, 58, 41, 7754, 7850, 26218, 7853, ...   \n",
       "                                   lung                                    {2, 103939, 51202, 5, 4, 103940, 15, 145438, 3...   \n",
       "                                   alveolar                                {223872, 2, 51202, 100502, 7831, 149657, 19522...   \n",
       "                                   epithelial cell                         {2, 4, 5, 222298, 7825, 7732, 7733, 169174, 7738}   \n",
       "                                   molecule                                {2, 7750, 49991, 134504, 206448, 49, 52, 20645...   \n",
       "...                                                                                                                      ...   \n",
       "severe acute respiratory syndrome  caax prenyl protease 2                           {205345, 185829, 227486, 220124, 220126}   \n",
       "                                   transmembrane protease serine 2         {223746, 223747, 167301, 223752, 200971, 22375...   \n",
       "ciliated bronchial epithelial cell cystic fibrosis pulmonary exacerbation                                            {46779}   \n",
       "                                   caax prenyl protease 2                                                   {215748, 220047}   \n",
       "                                   transmembrane protease serine 2         {167360, 167358, 167301, 214566, 214567, 16138...   \n",
       "\n",
       "                                                                           frequency  \\\n",
       "@source_id                         @target_id                                          \n",
       "surfactant protein d measurement   microorganism                                  19   \n",
       "                                   lung                                           93   \n",
       "                                   alveolar                                       25   \n",
       "                                   epithelial cell                                 9   \n",
       "                                   molecule                                       10   \n",
       "...                                                                              ...   \n",
       "severe acute respiratory syndrome  caax prenyl protease 2                          5   \n",
       "                                   transmembrane protease serine 2                21   \n",
       "ciliated bronchial epithelial cell cystic fibrosis pulmonary exacerbation          1   \n",
       "                                   caax prenyl protease 2                          2   \n",
       "                                   transmembrane protease serine 2                14   \n",
       "\n",
       "                                                                               npmi  \n",
       "@source_id                         @target_id                                        \n",
       "surfactant protein d measurement   microorganism                           0.235263  \n",
       "                                   lung                                    0.221395  \n",
       "                                   alveolar                                0.336175  \n",
       "                                   epithelial cell                         0.175923  \n",
       "                                   molecule                                0.113611  \n",
       "...                                                                             ...  \n",
       "severe acute respiratory syndrome  caax prenyl protease 2                  0.142611  \n",
       "                                   transmembrane protease serine 2         0.238160  \n",
       "ciliated bronchial epithelial cell cystic fibrosis pulmonary exacerbation  0.088963  \n",
       "                                   caax prenyl protease 2                  0.151639  \n",
       "                                   transmembrane protease serine 2         0.305697  \n",
       "\n",
       "[161332 rows x 3 columns]"
      ]
     },
     "execution_count": 18,
     "metadata": {},
     "output_type": "execute_result"
    }
   ],
   "source": [
    "graph.edges(raw_frame=True)"
   ]
  },
  {
   "cell_type": "markdown",
   "metadata": {},
   "source": [
    "Recall that we have generated edges only for the 1000 most frequent entities, the rest of the entities will be isolated (having no incident edges). Let us remove all the isolated nodes."
   ]
  },
  {
   "cell_type": "code",
   "execution_count": 19,
   "metadata": {},
   "outputs": [],
   "source": [
    "graph.remove_node_properties(\"paragraphs\")\n",
    "graph.remove_edge_properties(\"common_factors\")"
   ]
  },
  {
   "cell_type": "code",
   "execution_count": 20,
   "metadata": {},
   "outputs": [],
   "source": [
    "graph.remove_isolated_nodes()"
   ]
  },
  {
   "cell_type": "code",
   "execution_count": 21,
   "metadata": {},
   "outputs": [
    {
     "data": {
      "text/plain": [
       "1000"
      ]
     },
     "execution_count": 21,
     "metadata": {},
     "output_type": "execute_result"
    }
   ],
   "source": [
    "graph.number_of_nodes()"
   ]
  },
  {
   "cell_type": "markdown",
   "metadata": {},
   "source": [
    "Next, we save the generated co-occurrence graph."
   ]
  },
  {
   "cell_type": "code",
   "execution_count": 22,
   "metadata": {
    "scrolled": true
   },
   "outputs": [],
   "source": [
    "graph.export_json(\"../data/cooccurrence_graph.json\")"
   ]
  },
  {
   "cell_type": "code",
   "execution_count": 23,
   "metadata": {},
   "outputs": [],
   "source": [
    "graph = PandasPGFrame.load_json(\"../data/cooccurrence_graph.json\")"
   ]
  },
  {
   "cell_type": "markdown",
   "metadata": {},
   "source": [
    "### Node feature extraction\n",
    "\n",
    "We extract node features from entity definitions using the `tfidf` model."
   ]
  },
  {
   "cell_type": "code",
   "execution_count": 24,
   "metadata": {},
   "outputs": [],
   "source": [
    "encoder = ScikitLearnPGEncoder(\n",
    "    node_properties=[\"definition\"],\n",
    "    text_encoding_max_dimension=512)"
   ]
  },
  {
   "cell_type": "code",
   "execution_count": 25,
   "metadata": {},
   "outputs": [
    {
     "name": "stdout",
     "output_type": "stream",
     "text": [
      "CPU times: user 405 ms, sys: 17.5 ms, total: 423 ms\n",
      "Wall time: 439 ms\n"
     ]
    }
   ],
   "source": [
    "%%time\n",
    "transformed_graph = encoder.fit_transform(graph)"
   ]
  },
  {
   "cell_type": "markdown",
   "metadata": {},
   "source": [
    "We can have a glance at the vocabulary that the encoder constructed for the 'definition' property"
   ]
  },
  {
   "cell_type": "code",
   "execution_count": 26,
   "metadata": {},
   "outputs": [
    {
     "data": {
      "text/plain": [
       "['relating',\n",
       " 'lungs',\n",
       " 'site',\n",
       " 'administration',\n",
       " 'product',\n",
       " 'usually',\n",
       " 'action',\n",
       " 'lower',\n",
       " 'respiratory',\n",
       " 'tract']"
      ]
     },
     "execution_count": 26,
     "metadata": {},
     "output_type": "execute_result"
    }
   ],
   "source": [
    "vocabulary = encoder._node_encoders[\"definition\"].vocabulary_\n",
    "list(vocabulary.keys())[:10]"
   ]
  },
  {
   "cell_type": "markdown",
   "metadata": {},
   "source": [
    "We will add additional properties to our transformed graph corresponding to the entity type labels. We will also add NPMI as an edge property to this transformed graph."
   ]
  },
  {
   "cell_type": "code",
   "execution_count": 27,
   "metadata": {},
   "outputs": [],
   "source": [
    "transformed_graph.add_node_properties(\n",
    "    graph.get_node_property_values(\"entity_type\"))\n",
    "transformed_graph.add_edge_properties(\n",
    "    graph.get_edge_property_values(\"npmi\"), prop_type=\"numeric\")"
   ]
  },
  {
   "cell_type": "code",
   "execution_count": 28,
   "metadata": {},
   "outputs": [
    {
     "data": {
      "text/html": [
       "<div>\n",
       "<style scoped>\n",
       "    .dataframe tbody tr th:only-of-type {\n",
       "        vertical-align: middle;\n",
       "    }\n",
       "\n",
       "    .dataframe tbody tr th {\n",
       "        vertical-align: top;\n",
       "    }\n",
       "\n",
       "    .dataframe thead th {\n",
       "        text-align: right;\n",
       "    }\n",
       "</style>\n",
       "<table border=\"1\" class=\"dataframe\">\n",
       "  <thead>\n",
       "    <tr style=\"text-align: right;\">\n",
       "      <th></th>\n",
       "      <th>features</th>\n",
       "      <th>@type</th>\n",
       "      <th>entity_type</th>\n",
       "    </tr>\n",
       "    <tr>\n",
       "      <th>@id</th>\n",
       "      <th></th>\n",
       "      <th></th>\n",
       "      <th></th>\n",
       "    </tr>\n",
       "  </thead>\n",
       "  <tbody>\n",
       "    <tr>\n",
       "      <th>pulmonary</th>\n",
       "      <td>[0.0, 0.0, 0.0, 0.0, 0.0, 0.0, 0.0, 0.0, 0.0, ...</td>\n",
       "      <td>Entity</td>\n",
       "      <td>ORGAN</td>\n",
       "    </tr>\n",
       "    <tr>\n",
       "      <th>host</th>\n",
       "      <td>[0.0, 0.0, 0.0, 0.0, 0.0, 0.0, 0.0, 0.0, 0.0, ...</td>\n",
       "      <td>Entity</td>\n",
       "      <td>ORGANISM</td>\n",
       "    </tr>\n",
       "    <tr>\n",
       "      <th>surfactant protein d measurement</th>\n",
       "      <td>[0.0, 0.0, 0.0, 0.0, 0.0, 0.0, 0.0, 0.0, 0.0, ...</td>\n",
       "      <td>Entity</td>\n",
       "      <td>PROTEIN</td>\n",
       "    </tr>\n",
       "    <tr>\n",
       "      <th>microorganism</th>\n",
       "      <td>[0.0, 0.0, 0.0, 0.0, 0.0, 0.0, 0.0, 0.0, 0.0, ...</td>\n",
       "      <td>Entity</td>\n",
       "      <td>ORGANISM</td>\n",
       "    </tr>\n",
       "    <tr>\n",
       "      <th>lung</th>\n",
       "      <td>[0.0, 0.0, 0.0, 0.0, 0.0, 0.0, 0.0, 0.0, 0.0, ...</td>\n",
       "      <td>Entity</td>\n",
       "      <td>ORGAN</td>\n",
       "    </tr>\n",
       "    <tr>\n",
       "      <th>...</th>\n",
       "      <td>...</td>\n",
       "      <td>...</td>\n",
       "      <td>...</td>\n",
       "    </tr>\n",
       "    <tr>\n",
       "      <th>candida parapsilosis</th>\n",
       "      <td>[0.0, 0.0, 0.0, 0.0, 0.0, 0.0, 0.0, 0.0, 0.0, ...</td>\n",
       "      <td>Entity</td>\n",
       "      <td>ORGANISM</td>\n",
       "    </tr>\n",
       "    <tr>\n",
       "      <th>ciliated bronchial epithelial cell</th>\n",
       "      <td>[0.0, 0.0, 0.0, 0.0, 0.0, 0.0, 0.0, 0.0, 0.0, ...</td>\n",
       "      <td>Entity</td>\n",
       "      <td>CELL_TYPE</td>\n",
       "    </tr>\n",
       "    <tr>\n",
       "      <th>cystic fibrosis pulmonary exacerbation</th>\n",
       "      <td>[0.0, 0.0, 0.0, 0.0, 0.0, 0.0, 0.0, 0.0, 0.0, ...</td>\n",
       "      <td>Entity</td>\n",
       "      <td>DISEASE</td>\n",
       "    </tr>\n",
       "    <tr>\n",
       "      <th>caax prenyl protease 2</th>\n",
       "      <td>[0.0, 0.0, 0.3198444339599345, 0.0, 0.0, 0.0, ...</td>\n",
       "      <td>Entity</td>\n",
       "      <td>PROTEIN</td>\n",
       "    </tr>\n",
       "    <tr>\n",
       "      <th>transmembrane protease serine 2</th>\n",
       "      <td>[0.0, 0.0, 0.2853086240289885, 0.0, 0.0, 0.0, ...</td>\n",
       "      <td>Entity</td>\n",
       "      <td>PROTEIN</td>\n",
       "    </tr>\n",
       "  </tbody>\n",
       "</table>\n",
       "<p>1000 rows × 3 columns</p>\n",
       "</div>"
      ],
      "text/plain": [
       "                                                                                 features  \\\n",
       "@id                                                                                         \n",
       "pulmonary                               [0.0, 0.0, 0.0, 0.0, 0.0, 0.0, 0.0, 0.0, 0.0, ...   \n",
       "host                                    [0.0, 0.0, 0.0, 0.0, 0.0, 0.0, 0.0, 0.0, 0.0, ...   \n",
       "surfactant protein d measurement        [0.0, 0.0, 0.0, 0.0, 0.0, 0.0, 0.0, 0.0, 0.0, ...   \n",
       "microorganism                           [0.0, 0.0, 0.0, 0.0, 0.0, 0.0, 0.0, 0.0, 0.0, ...   \n",
       "lung                                    [0.0, 0.0, 0.0, 0.0, 0.0, 0.0, 0.0, 0.0, 0.0, ...   \n",
       "...                                                                                   ...   \n",
       "candida parapsilosis                    [0.0, 0.0, 0.0, 0.0, 0.0, 0.0, 0.0, 0.0, 0.0, ...   \n",
       "ciliated bronchial epithelial cell      [0.0, 0.0, 0.0, 0.0, 0.0, 0.0, 0.0, 0.0, 0.0, ...   \n",
       "cystic fibrosis pulmonary exacerbation  [0.0, 0.0, 0.0, 0.0, 0.0, 0.0, 0.0, 0.0, 0.0, ...   \n",
       "caax prenyl protease 2                  [0.0, 0.0, 0.3198444339599345, 0.0, 0.0, 0.0, ...   \n",
       "transmembrane protease serine 2         [0.0, 0.0, 0.2853086240289885, 0.0, 0.0, 0.0, ...   \n",
       "\n",
       "                                         @type entity_type  \n",
       "@id                                                         \n",
       "pulmonary                               Entity       ORGAN  \n",
       "host                                    Entity    ORGANISM  \n",
       "surfactant protein d measurement        Entity     PROTEIN  \n",
       "microorganism                           Entity    ORGANISM  \n",
       "lung                                    Entity       ORGAN  \n",
       "...                                        ...         ...  \n",
       "candida parapsilosis                    Entity    ORGANISM  \n",
       "ciliated bronchial epithelial cell      Entity   CELL_TYPE  \n",
       "cystic fibrosis pulmonary exacerbation  Entity     DISEASE  \n",
       "caax prenyl protease 2                  Entity     PROTEIN  \n",
       "transmembrane protease serine 2         Entity     PROTEIN  \n",
       "\n",
       "[1000 rows x 3 columns]"
      ]
     },
     "execution_count": 28,
     "metadata": {},
     "output_type": "execute_result"
    }
   ],
   "source": [
    "transformed_graph.nodes(raw_frame=True)"
   ]
  },
  {
   "cell_type": "markdown",
   "metadata": {},
   "source": [
    "## Node embedding and downstream tasks"
   ]
  },
  {
   "cell_type": "markdown",
   "metadata": {},
   "source": [
    "### Node embedding using StellarGraph\n",
    "\n",
    "Using `StellarGraphNodeEmbedder` we construct three different embeddings of our transformed graph corresponding to different embedding techniques."
   ]
  },
  {
   "cell_type": "code",
   "execution_count": 29,
   "metadata": {
    "scrolled": true
   },
   "outputs": [],
   "source": [
    "node2vec_embedder = StellarGraphNodeEmbedder(\n",
    "    \"node2vec\", edge_weight=\"npmi\", embedding_dimension=64, length=10, number_of_walks=20)\n",
    "node2vec_embedding = node2vec_embedder.fit_model(transformed_graph)"
   ]
  },
  {
   "cell_type": "code",
   "execution_count": 30,
   "metadata": {
    "scrolled": false
   },
   "outputs": [
    {
     "name": "stdout",
     "output_type": "stream",
     "text": [
      "link_classification: using 'ip' method to combine node embeddings into edge embeddings\n"
     ]
    }
   ],
   "source": [
    "attri2vec_embedder = StellarGraphNodeEmbedder(\n",
    "    \"attri2vec\", feature_vector_prop=\"features\",\n",
    "    length=5, number_of_walks=10,\n",
    "    epochs=10, embedding_dimension=128, edge_weight=\"npmi\")\n",
    "attri2vec_embedding = attri2vec_embedder.fit_model(transformed_graph)"
   ]
  },
  {
   "cell_type": "code",
   "execution_count": 31,
   "metadata": {},
   "outputs": [
    {
     "name": "stdout",
     "output_type": "stream",
     "text": [
      "Using GCN (local pooling) filters...\n"
     ]
    }
   ],
   "source": [
    "gcn_dgi_embedder = StellarGraphNodeEmbedder(\n",
    "    \"gcn_dgi\", feature_vector_prop=\"features\", epochs=250, embedding_dimension=512)\n",
    "gcn_dgi_embedding = gcn_dgi_embedder.fit_model(transformed_graph)"
   ]
  },
  {
   "cell_type": "markdown",
   "metadata": {},
   "source": [
    "The `fit_model` method produces a dataframe of the following shape"
   ]
  },
  {
   "cell_type": "code",
   "execution_count": 32,
   "metadata": {},
   "outputs": [
    {
     "data": {
      "text/html": [
       "<div>\n",
       "<style scoped>\n",
       "    .dataframe tbody tr th:only-of-type {\n",
       "        vertical-align: middle;\n",
       "    }\n",
       "\n",
       "    .dataframe tbody tr th {\n",
       "        vertical-align: top;\n",
       "    }\n",
       "\n",
       "    .dataframe thead th {\n",
       "        text-align: right;\n",
       "    }\n",
       "</style>\n",
       "<table border=\"1\" class=\"dataframe\">\n",
       "  <thead>\n",
       "    <tr style=\"text-align: right;\">\n",
       "      <th></th>\n",
       "      <th>embedding</th>\n",
       "    </tr>\n",
       "  </thead>\n",
       "  <tbody>\n",
       "    <tr>\n",
       "      <th>pulmonary</th>\n",
       "      <td>[-0.11484251916408539, 0.2697576880455017, -0....</td>\n",
       "    </tr>\n",
       "    <tr>\n",
       "      <th>host</th>\n",
       "      <td>[0.07598941028118134, 0.4049169719219208, 0.28...</td>\n",
       "    </tr>\n",
       "    <tr>\n",
       "      <th>surfactant protein d measurement</th>\n",
       "      <td>[0.04849686846137047, 0.5111294388771057, 0.42...</td>\n",
       "    </tr>\n",
       "    <tr>\n",
       "      <th>microorganism</th>\n",
       "      <td>[-0.10245834290981293, 0.21136833727359772, -0...</td>\n",
       "    </tr>\n",
       "    <tr>\n",
       "      <th>lung</th>\n",
       "      <td>[-0.030864765867590904, 0.33841079473495483, 0...</td>\n",
       "    </tr>\n",
       "    <tr>\n",
       "      <th>...</th>\n",
       "      <td>...</td>\n",
       "    </tr>\n",
       "    <tr>\n",
       "      <th>candida parapsilosis</th>\n",
       "      <td>[-0.1734621375799179, 0.22384271025657654, -0....</td>\n",
       "    </tr>\n",
       "    <tr>\n",
       "      <th>ciliated bronchial epithelial cell</th>\n",
       "      <td>[0.07948779314756393, 0.5079295039176941, 0.44...</td>\n",
       "    </tr>\n",
       "    <tr>\n",
       "      <th>cystic fibrosis pulmonary exacerbation</th>\n",
       "      <td>[-0.08426730334758759, 0.25626856088638306, -0...</td>\n",
       "    </tr>\n",
       "    <tr>\n",
       "      <th>caax prenyl protease 2</th>\n",
       "      <td>[0.03700694069266319, 0.4388614296913147, 0.33...</td>\n",
       "    </tr>\n",
       "    <tr>\n",
       "      <th>transmembrane protease serine 2</th>\n",
       "      <td>[0.06274139881134033, 0.503814697265625, 0.445...</td>\n",
       "    </tr>\n",
       "  </tbody>\n",
       "</table>\n",
       "<p>1000 rows × 1 columns</p>\n",
       "</div>"
      ],
      "text/plain": [
       "                                                                                embedding\n",
       "pulmonary                               [-0.11484251916408539, 0.2697576880455017, -0....\n",
       "host                                    [0.07598941028118134, 0.4049169719219208, 0.28...\n",
       "surfactant protein d measurement        [0.04849686846137047, 0.5111294388771057, 0.42...\n",
       "microorganism                           [-0.10245834290981293, 0.21136833727359772, -0...\n",
       "lung                                    [-0.030864765867590904, 0.33841079473495483, 0...\n",
       "...                                                                                   ...\n",
       "candida parapsilosis                    [-0.1734621375799179, 0.22384271025657654, -0....\n",
       "ciliated bronchial epithelial cell      [0.07948779314756393, 0.5079295039176941, 0.44...\n",
       "cystic fibrosis pulmonary exacerbation  [-0.08426730334758759, 0.25626856088638306, -0...\n",
       "caax prenyl protease 2                  [0.03700694069266319, 0.4388614296913147, 0.33...\n",
       "transmembrane protease serine 2         [0.06274139881134033, 0.503814697265625, 0.445...\n",
       "\n",
       "[1000 rows x 1 columns]"
      ]
     },
     "execution_count": 32,
     "metadata": {},
     "output_type": "execute_result"
    }
   ],
   "source": [
    "node2vec_embedding"
   ]
  },
  {
   "cell_type": "markdown",
   "metadata": {},
   "source": [
    "Let us add the embedding vectors obtained using different models as node properties of our graph."
   ]
  },
  {
   "cell_type": "code",
   "execution_count": 33,
   "metadata": {},
   "outputs": [],
   "source": [
    "transformed_graph.add_node_properties(\n",
    "    node2vec_embedding.rename(columns={\"embedding\": \"node2vec\"}))"
   ]
  },
  {
   "cell_type": "code",
   "execution_count": 34,
   "metadata": {},
   "outputs": [],
   "source": [
    "transformed_graph.add_node_properties(\n",
    "    attri2vec_embedding.rename(columns={\"embedding\": \"attri2vec\"}))"
   ]
  },
  {
   "cell_type": "code",
   "execution_count": 35,
   "metadata": {},
   "outputs": [],
   "source": [
    "transformed_graph.add_node_properties(\n",
    "    gcn_dgi_embedding.rename(columns={\"embedding\": \"gcn_dgi\"}))"
   ]
  },
  {
   "cell_type": "code",
   "execution_count": 36,
   "metadata": {
    "scrolled": false
   },
   "outputs": [
    {
     "data": {
      "text/html": [
       "<div>\n",
       "<style scoped>\n",
       "    .dataframe tbody tr th:only-of-type {\n",
       "        vertical-align: middle;\n",
       "    }\n",
       "\n",
       "    .dataframe tbody tr th {\n",
       "        vertical-align: top;\n",
       "    }\n",
       "\n",
       "    .dataframe thead th {\n",
       "        text-align: right;\n",
       "    }\n",
       "</style>\n",
       "<table border=\"1\" class=\"dataframe\">\n",
       "  <thead>\n",
       "    <tr style=\"text-align: right;\">\n",
       "      <th></th>\n",
       "      <th>features</th>\n",
       "      <th>@type</th>\n",
       "      <th>entity_type</th>\n",
       "      <th>node2vec</th>\n",
       "      <th>attri2vec</th>\n",
       "      <th>gcn_dgi</th>\n",
       "    </tr>\n",
       "    <tr>\n",
       "      <th>@id</th>\n",
       "      <th></th>\n",
       "      <th></th>\n",
       "      <th></th>\n",
       "      <th></th>\n",
       "      <th></th>\n",
       "      <th></th>\n",
       "    </tr>\n",
       "  </thead>\n",
       "  <tbody>\n",
       "    <tr>\n",
       "      <th>pulmonary</th>\n",
       "      <td>[0.0, 0.0, 0.0, 0.0, 0.0, 0.0, 0.0, 0.0, 0.0, ...</td>\n",
       "      <td>Entity</td>\n",
       "      <td>ORGAN</td>\n",
       "      <td>[-0.11484251916408539, 0.2697576880455017, -0....</td>\n",
       "      <td>[0.011372953653335571, 0.01698356866836548, 0....</td>\n",
       "      <td>[0.02679600566625595, 0.02361087128520012, 0.0...</td>\n",
       "    </tr>\n",
       "    <tr>\n",
       "      <th>host</th>\n",
       "      <td>[0.0, 0.0, 0.0, 0.0, 0.0, 0.0, 0.0, 0.0, 0.0, ...</td>\n",
       "      <td>Entity</td>\n",
       "      <td>ORGANISM</td>\n",
       "      <td>[0.07598941028118134, 0.4049169719219208, 0.28...</td>\n",
       "      <td>[0.046642571687698364, 0.032147228717803955, 0...</td>\n",
       "      <td>[0.03214546665549278, 0.0, 0.0, 0.000338085927...</td>\n",
       "    </tr>\n",
       "    <tr>\n",
       "      <th>surfactant protein d measurement</th>\n",
       "      <td>[0.0, 0.0, 0.0, 0.0, 0.0, 0.0, 0.0, 0.0, 0.0, ...</td>\n",
       "      <td>Entity</td>\n",
       "      <td>PROTEIN</td>\n",
       "      <td>[0.04849686846137047, 0.5111294388771057, 0.42...</td>\n",
       "      <td>[0.030358076095581055, 0.015190362930297852, 0...</td>\n",
       "      <td>[0.022115424275398254, 0.0, 0.0, 0.0, 0.022447...</td>\n",
       "    </tr>\n",
       "    <tr>\n",
       "      <th>microorganism</th>\n",
       "      <td>[0.0, 0.0, 0.0, 0.0, 0.0, 0.0, 0.0, 0.0, 0.0, ...</td>\n",
       "      <td>Entity</td>\n",
       "      <td>ORGANISM</td>\n",
       "      <td>[-0.10245834290981293, 0.21136833727359772, -0...</td>\n",
       "      <td>[0.0819171667098999, 0.09705746173858643, 0.05...</td>\n",
       "      <td>[0.04545750468969345, 0.0, 0.0, 0.0, 0.0356143...</td>\n",
       "    </tr>\n",
       "    <tr>\n",
       "      <th>lung</th>\n",
       "      <td>[0.0, 0.0, 0.0, 0.0, 0.0, 0.0, 0.0, 0.0, 0.0, ...</td>\n",
       "      <td>Entity</td>\n",
       "      <td>ORGAN</td>\n",
       "      <td>[-0.030864765867590904, 0.33841079473495483, 0...</td>\n",
       "      <td>[0.017723888158798218, 0.011589348316192627, 0...</td>\n",
       "      <td>[0.02352488413453102, 0.010659581050276756, 0....</td>\n",
       "    </tr>\n",
       "    <tr>\n",
       "      <th>...</th>\n",
       "      <td>...</td>\n",
       "      <td>...</td>\n",
       "      <td>...</td>\n",
       "      <td>...</td>\n",
       "      <td>...</td>\n",
       "      <td>...</td>\n",
       "    </tr>\n",
       "    <tr>\n",
       "      <th>candida parapsilosis</th>\n",
       "      <td>[0.0, 0.0, 0.0, 0.0, 0.0, 0.0, 0.0, 0.0, 0.0, ...</td>\n",
       "      <td>Entity</td>\n",
       "      <td>ORGANISM</td>\n",
       "      <td>[-0.1734621375799179, 0.22384271025657654, -0....</td>\n",
       "      <td>[0.04590162634849548, 0.18919211626052856, 0.0...</td>\n",
       "      <td>[0.03051687777042389, 0.0, 0.0, 0.0, 0.0246775...</td>\n",
       "    </tr>\n",
       "    <tr>\n",
       "      <th>ciliated bronchial epithelial cell</th>\n",
       "      <td>[0.0, 0.0, 0.0, 0.0, 0.0, 0.0, 0.0, 0.0, 0.0, ...</td>\n",
       "      <td>Entity</td>\n",
       "      <td>CELL_TYPE</td>\n",
       "      <td>[0.07948779314756393, 0.5079295039176941, 0.44...</td>\n",
       "      <td>[0.008184999227523804, 0.015429139137268066, 0...</td>\n",
       "      <td>[0.024745048955082893, 0.0, 0.0, 0.0, 0.024314...</td>\n",
       "    </tr>\n",
       "    <tr>\n",
       "      <th>cystic fibrosis pulmonary exacerbation</th>\n",
       "      <td>[0.0, 0.0, 0.0, 0.0, 0.0, 0.0, 0.0, 0.0, 0.0, ...</td>\n",
       "      <td>Entity</td>\n",
       "      <td>DISEASE</td>\n",
       "      <td>[-0.08426730334758759, 0.25626856088638306, -0...</td>\n",
       "      <td>[0.06886047124862671, 0.0787685215473175, 0.08...</td>\n",
       "      <td>[0.026181312277913094, 0.005016176495701075, 0...</td>\n",
       "    </tr>\n",
       "    <tr>\n",
       "      <th>caax prenyl protease 2</th>\n",
       "      <td>[0.0, 0.0, 0.3198444339599345, 0.0, 0.0, 0.0, ...</td>\n",
       "      <td>Entity</td>\n",
       "      <td>PROTEIN</td>\n",
       "      <td>[0.03700694069266319, 0.4388614296913147, 0.33...</td>\n",
       "      <td>[0.03745073080062866, 0.007027477025985718, 0....</td>\n",
       "      <td>[0.024919874966144562, 0.00029019732028245926,...</td>\n",
       "    </tr>\n",
       "    <tr>\n",
       "      <th>transmembrane protease serine 2</th>\n",
       "      <td>[0.0, 0.0, 0.2853086240289885, 0.0, 0.0, 0.0, ...</td>\n",
       "      <td>Entity</td>\n",
       "      <td>PROTEIN</td>\n",
       "      <td>[0.06274139881134033, 0.503814697265625, 0.445...</td>\n",
       "      <td>[0.0601753294467926, 0.007696628570556641, 0.0...</td>\n",
       "      <td>[0.022362036630511284, 0.0, 0.0, 0.0, 0.024464...</td>\n",
       "    </tr>\n",
       "  </tbody>\n",
       "</table>\n",
       "<p>1000 rows × 6 columns</p>\n",
       "</div>"
      ],
      "text/plain": [
       "                                                                                 features  \\\n",
       "@id                                                                                         \n",
       "pulmonary                               [0.0, 0.0, 0.0, 0.0, 0.0, 0.0, 0.0, 0.0, 0.0, ...   \n",
       "host                                    [0.0, 0.0, 0.0, 0.0, 0.0, 0.0, 0.0, 0.0, 0.0, ...   \n",
       "surfactant protein d measurement        [0.0, 0.0, 0.0, 0.0, 0.0, 0.0, 0.0, 0.0, 0.0, ...   \n",
       "microorganism                           [0.0, 0.0, 0.0, 0.0, 0.0, 0.0, 0.0, 0.0, 0.0, ...   \n",
       "lung                                    [0.0, 0.0, 0.0, 0.0, 0.0, 0.0, 0.0, 0.0, 0.0, ...   \n",
       "...                                                                                   ...   \n",
       "candida parapsilosis                    [0.0, 0.0, 0.0, 0.0, 0.0, 0.0, 0.0, 0.0, 0.0, ...   \n",
       "ciliated bronchial epithelial cell      [0.0, 0.0, 0.0, 0.0, 0.0, 0.0, 0.0, 0.0, 0.0, ...   \n",
       "cystic fibrosis pulmonary exacerbation  [0.0, 0.0, 0.0, 0.0, 0.0, 0.0, 0.0, 0.0, 0.0, ...   \n",
       "caax prenyl protease 2                  [0.0, 0.0, 0.3198444339599345, 0.0, 0.0, 0.0, ...   \n",
       "transmembrane protease serine 2         [0.0, 0.0, 0.2853086240289885, 0.0, 0.0, 0.0, ...   \n",
       "\n",
       "                                         @type entity_type  \\\n",
       "@id                                                          \n",
       "pulmonary                               Entity       ORGAN   \n",
       "host                                    Entity    ORGANISM   \n",
       "surfactant protein d measurement        Entity     PROTEIN   \n",
       "microorganism                           Entity    ORGANISM   \n",
       "lung                                    Entity       ORGAN   \n",
       "...                                        ...         ...   \n",
       "candida parapsilosis                    Entity    ORGANISM   \n",
       "ciliated bronchial epithelial cell      Entity   CELL_TYPE   \n",
       "cystic fibrosis pulmonary exacerbation  Entity     DISEASE   \n",
       "caax prenyl protease 2                  Entity     PROTEIN   \n",
       "transmembrane protease serine 2         Entity     PROTEIN   \n",
       "\n",
       "                                                                                 node2vec  \\\n",
       "@id                                                                                         \n",
       "pulmonary                               [-0.11484251916408539, 0.2697576880455017, -0....   \n",
       "host                                    [0.07598941028118134, 0.4049169719219208, 0.28...   \n",
       "surfactant protein d measurement        [0.04849686846137047, 0.5111294388771057, 0.42...   \n",
       "microorganism                           [-0.10245834290981293, 0.21136833727359772, -0...   \n",
       "lung                                    [-0.030864765867590904, 0.33841079473495483, 0...   \n",
       "...                                                                                   ...   \n",
       "candida parapsilosis                    [-0.1734621375799179, 0.22384271025657654, -0....   \n",
       "ciliated bronchial epithelial cell      [0.07948779314756393, 0.5079295039176941, 0.44...   \n",
       "cystic fibrosis pulmonary exacerbation  [-0.08426730334758759, 0.25626856088638306, -0...   \n",
       "caax prenyl protease 2                  [0.03700694069266319, 0.4388614296913147, 0.33...   \n",
       "transmembrane protease serine 2         [0.06274139881134033, 0.503814697265625, 0.445...   \n",
       "\n",
       "                                                                                attri2vec  \\\n",
       "@id                                                                                         \n",
       "pulmonary                               [0.011372953653335571, 0.01698356866836548, 0....   \n",
       "host                                    [0.046642571687698364, 0.032147228717803955, 0...   \n",
       "surfactant protein d measurement        [0.030358076095581055, 0.015190362930297852, 0...   \n",
       "microorganism                           [0.0819171667098999, 0.09705746173858643, 0.05...   \n",
       "lung                                    [0.017723888158798218, 0.011589348316192627, 0...   \n",
       "...                                                                                   ...   \n",
       "candida parapsilosis                    [0.04590162634849548, 0.18919211626052856, 0.0...   \n",
       "ciliated bronchial epithelial cell      [0.008184999227523804, 0.015429139137268066, 0...   \n",
       "cystic fibrosis pulmonary exacerbation  [0.06886047124862671, 0.0787685215473175, 0.08...   \n",
       "caax prenyl protease 2                  [0.03745073080062866, 0.007027477025985718, 0....   \n",
       "transmembrane protease serine 2         [0.0601753294467926, 0.007696628570556641, 0.0...   \n",
       "\n",
       "                                                                                  gcn_dgi  \n",
       "@id                                                                                        \n",
       "pulmonary                               [0.02679600566625595, 0.02361087128520012, 0.0...  \n",
       "host                                    [0.03214546665549278, 0.0, 0.0, 0.000338085927...  \n",
       "surfactant protein d measurement        [0.022115424275398254, 0.0, 0.0, 0.0, 0.022447...  \n",
       "microorganism                           [0.04545750468969345, 0.0, 0.0, 0.0, 0.0356143...  \n",
       "lung                                    [0.02352488413453102, 0.010659581050276756, 0....  \n",
       "...                                                                                   ...  \n",
       "candida parapsilosis                    [0.03051687777042389, 0.0, 0.0, 0.0, 0.0246775...  \n",
       "ciliated bronchial epithelial cell      [0.024745048955082893, 0.0, 0.0, 0.0, 0.024314...  \n",
       "cystic fibrosis pulmonary exacerbation  [0.026181312277913094, 0.005016176495701075, 0...  \n",
       "caax prenyl protease 2                  [0.024919874966144562, 0.00029019732028245926,...  \n",
       "transmembrane protease serine 2         [0.022362036630511284, 0.0, 0.0, 0.0, 0.024464...  \n",
       "\n",
       "[1000 rows x 6 columns]"
      ]
     },
     "execution_count": 36,
     "metadata": {},
     "output_type": "execute_result"
    }
   ],
   "source": [
    "transformed_graph.nodes(raw_frame=True)"
   ]
  },
  {
   "cell_type": "markdown",
   "metadata": {},
   "source": [
    "### Plotting the embeddings\n",
    "\n",
    "Having produced the embedding vectors, we can project them into a 2D space using dimensionality reduction techniques such as TSNE (t-distributed Stochastic Neighbor Embedding)."
   ]
  },
  {
   "cell_type": "code",
   "execution_count": 37,
   "metadata": {},
   "outputs": [],
   "source": [
    "node2vec_2d = transform_to_2d(transformed_graph._nodes[\"node2vec\"].tolist())"
   ]
  },
  {
   "cell_type": "code",
   "execution_count": 38,
   "metadata": {},
   "outputs": [],
   "source": [
    "attri2vec_2d = transform_to_2d(transformed_graph._nodes[\"attri2vec\"].tolist())"
   ]
  },
  {
   "cell_type": "code",
   "execution_count": 39,
   "metadata": {},
   "outputs": [],
   "source": [
    "gcn_dgi_2d = transform_to_2d(transformed_graph._nodes[\"gcn_dgi\"].tolist())"
   ]
  },
  {
   "cell_type": "markdown",
   "metadata": {},
   "source": [
    "We can now plot these 2D vectors using the `plot_2d` util provided by `bluegraph`."
   ]
  },
  {
   "cell_type": "code",
   "execution_count": 40,
   "metadata": {},
   "outputs": [
    {
     "data": {
      "image/png": "[encoded data removed]",
      "text/plain": [
       "<Figure size 504x504 with 1 Axes>"
      ]
     },
     "metadata": {
      "needs_background": "light"
     },
     "output_type": "display_data"
    }
   ],
   "source": [
    "plot_2d(transformed_graph, vectors=node2vec_2d, label_prop=\"entity_type\")"
   ]
  },
  {
   "cell_type": "code",
   "execution_count": 41,
   "metadata": {},
   "outputs": [
    {
     "data": {
      "image/png": "[encoded data removed]",
      "text/plain": [
       "<Figure size 504x504 with 1 Axes>"
      ]
     },
     "metadata": {
      "needs_background": "light"
     },
     "output_type": "display_data"
    }
   ],
   "source": [
    "plot_2d(transformed_graph, vectors=attri2vec_2d, label_prop=\"entity_type\")"
   ]
  },
  {
   "cell_type": "code",
   "execution_count": 42,
   "metadata": {
    "scrolled": false
   },
   "outputs": [
    {
     "data": {
      "image/png": "[encoded data removed]",
      "text/plain": [
       "<Figure size 504x504 with 1 Axes>"
      ]
     },
     "metadata": {
      "needs_background": "light"
     },
     "output_type": "display_data"
    }
   ],
   "source": [
    "plot_2d(transformed_graph, vectors=gcn_dgi_2d, label_prop=\"entity_type\")"
   ]
  },
  {
   "cell_type": "markdown",
   "metadata": {},
   "source": [
    "### Node similarity"
   ]
  },
  {
   "cell_type": "markdown",
   "metadata": {},
   "source": [
    "We would like to be able to search for similar nodes using the computed vector embeddings. For this we can use the `NodeSimilarityProcessor` interfaces provided as a part of `bluegraph`."
   ]
  },
  {
   "cell_type": "markdown",
   "metadata": {},
   "source": [
    "We construct similarity processors for different embeddings and query top 10 most similar nodes to the terms `glucose` and `covid-19`."
   ]
  },
  {
   "cell_type": "code",
   "execution_count": 43,
   "metadata": {},
   "outputs": [],
   "source": [
    "node2vec_l2 = NodeSimilarityProcessor(transformed_graph, \"node2vec\", similarity=\"euclidean\")\n",
    "node2vec_cosine = NodeSimilarityProcessor(\n",
    "    transformed_graph, \"node2vec\", similarity=\"cosine\")"
   ]
  },
  {
   "cell_type": "code",
   "execution_count": 44,
   "metadata": {},
   "outputs": [
    {
     "data": {
      "text/plain": [
       "{'glucose': {'glucose': 0.0,\n",
       "  'metabolic syndrome': 0.014310974,\n",
       "  'metabolic disorder': 0.02164137,\n",
       "  'high density lipoprotein': 0.03668686,\n",
       "  'metformin': 0.037920028,\n",
       "  'hyperglycemia': 0.040885676,\n",
       "  'glycosylated hemoglobin measurement': 0.06038039,\n",
       "  'obesity': 0.064796254,\n",
       "  'citrate': 0.06597613,\n",
       "  'organic phosphate': 0.066444114},\n",
       " 'covid-19': {'covid-19': 0.0,\n",
       "  'sars-cov-2': 0.046953723,\n",
       "  'coronavirus': 0.06871553,\n",
       "  'severe acute respiratory syndrome': 0.070610926,\n",
       "  'ace inhibitor': 0.07361235,\n",
       "  'person': 0.08198258,\n",
       "  'gas exchanger device': 0.09038474,\n",
       "  'middle east respiratory syndrome': 0.09637199,\n",
       "  'angiotensin ii receptor antagonist': 0.1136456,\n",
       "  'chronic disease': 0.11859228}}"
      ]
     },
     "execution_count": 44,
     "metadata": {},
     "output_type": "execute_result"
    }
   ],
   "source": [
    "node2vec_l2.get_similar_nodes([\"glucose\", \"covid-19\"], k=10)"
   ]
  },
  {
   "cell_type": "code",
   "execution_count": 45,
   "metadata": {},
   "outputs": [
    {
     "data": {
      "text/plain": [
       "{'glucose': {'glucose': 1.0,\n",
       "  'metabolic syndrome': 0.99740076,\n",
       "  'high density lipoprotein': 0.9963473,\n",
       "  'metabolic disorder': 0.99593985,\n",
       "  'metformin': 0.9925702,\n",
       "  'hyperglycemia': 0.99227124,\n",
       "  'plaque': 0.9886697,\n",
       "  'glycosylated hemoglobin measurement': 0.98725927,\n",
       "  'tissue factor': 0.986852,\n",
       "  'organic phosphate': 0.9863991},\n",
       " 'covid-19': {'covid-19': 1.0,\n",
       "  'sars-cov-2': 0.9907962,\n",
       "  'coronavirus': 0.98762804,\n",
       "  'severe acute respiratory syndrome': 0.9854877,\n",
       "  'ace inhibitor': 0.984706,\n",
       "  'person': 0.9833803,\n",
       "  'gas exchanger device': 0.98083824,\n",
       "  'middle east respiratory syndrome': 0.9802362,\n",
       "  'chronic disease': 0.9778568,\n",
       "  'angiotensin ii receptor antagonist': 0.9759309}}"
      ]
     },
     "execution_count": 45,
     "metadata": {},
     "output_type": "execute_result"
    }
   ],
   "source": [
    "node2vec_cosine.get_similar_nodes([\"glucose\", \"covid-19\"], k=10)"
   ]
  },
  {
   "cell_type": "code",
   "execution_count": 46,
   "metadata": {},
   "outputs": [],
   "source": [
    "attri2vec_l2 = NodeSimilarityProcessor(transformed_graph, \"attri2vec\")\n",
    "attri2vec_cosine = NodeSimilarityProcessor(\n",
    "    transformed_graph, \"attri2vec\", similarity=\"cosine\")"
   ]
  },
  {
   "cell_type": "code",
   "execution_count": 47,
   "metadata": {},
   "outputs": [
    {
     "data": {
      "text/plain": [
       "{'glucose': {'glucose': 0.0,\n",
       "  'stroma': 0.009468369,\n",
       "  'autosome': 0.010928787,\n",
       "  'immunoglobulin': 0.01155513,\n",
       "  'axon': 0.011608841,\n",
       "  'animal': 0.011933647,\n",
       "  'amino acid': 0.012379877,\n",
       "  'intestine': 0.012402505,\n",
       "  'serine protease': 0.013391947,\n",
       "  'transaminase': 0.013426815},\n",
       " 'covid-19': {'covid-19': 0.0,\n",
       "  'pleural effusion': 0.00048487444,\n",
       "  'pulmonary edema': 0.00061302294,\n",
       "  'vasculitis': 0.00067740935,\n",
       "  'autoimmune disease': 0.00070353015,\n",
       "  'chronic obstructive pulmonary disease': 0.00081234216,\n",
       "  'dopamine': 0.00097498356,\n",
       "  'h1n1 influenza': 0.0010924524,\n",
       "  'osteoporosis': 0.0011811603,\n",
       "  'glutamine': 0.0012028639}}"
      ]
     },
     "execution_count": 47,
     "metadata": {},
     "output_type": "execute_result"
    }
   ],
   "source": [
    "attri2vec_l2.get_similar_nodes([\"glucose\", \"covid-19\"], k=10)"
   ]
  },
  {
   "cell_type": "code",
   "execution_count": 48,
   "metadata": {
    "scrolled": true
   },
   "outputs": [
    {
     "data": {
      "text/plain": [
       "{'glucose': {'glucose': 1.0,\n",
       "  'degradation': 0.9753926,\n",
       "  'stroma': 0.97192746,\n",
       "  'ulcer': 0.97184235,\n",
       "  'mucosa': 0.9710687,\n",
       "  'electrolytes': 0.97009075,\n",
       "  'chloride ion': 0.970086,\n",
       "  'cell': 0.969141,\n",
       "  'dehydration': 0.96912795,\n",
       "  'pericyte': 0.9686631},\n",
       " 'covid-19': {'covid-19': 1.0,\n",
       "  'severe acute respiratory syndrome': 0.97823393,\n",
       "  'middle east respiratory syndrome': 0.977093,\n",
       "  'respiratory system disorder': 0.96996945,\n",
       "  'septicemia': 0.9699439,\n",
       "  'h1n1 influenza': 0.96930873,\n",
       "  'middle east respiratory syndrome coronavirus': 0.9669094,\n",
       "  'wheezing': 0.9659238,\n",
       "  'dengue fever': 0.96462774,\n",
       "  'pleural effusion': 0.96419966}}"
      ]
     },
     "execution_count": 48,
     "metadata": {},
     "output_type": "execute_result"
    }
   ],
   "source": [
    "attri2vec_cosine.get_similar_nodes([\"glucose\", \"covid-19\"], k=10)"
   ]
  },
  {
   "cell_type": "code",
   "execution_count": 49,
   "metadata": {},
   "outputs": [],
   "source": [
    "gcn_l2 = NodeSimilarityProcessor(transformed_graph, \"gcn_dgi\")\n",
    "gcn_cosine = NodeSimilarityProcessor(\n",
    "    transformed_graph, \"gcn_dgi\", similarity=\"cosine\")"
   ]
  },
  {
   "cell_type": "code",
   "execution_count": 50,
   "metadata": {},
   "outputs": [
    {
     "data": {
      "text/plain": [
       "{'glucose': {'glucose': 0.0,\n",
       "  'glucose tolerance test': 0.0029790646,\n",
       "  'high density lipoprotein': 0.004179284,\n",
       "  'triglycerides': 0.004231677,\n",
       "  'insulin': 0.0042698896,\n",
       "  'organic phosphate': 0.0058562914,\n",
       "  'cholesterol': 0.0058661983,\n",
       "  'diabetic nephropathy': 0.0062935883,\n",
       "  'calcium': 0.006875459,\n",
       "  'uric acid': 0.0068798824},\n",
       " 'covid-19': {'covid-19': 0.0,\n",
       "  'coronavirus': 0.00092743034,\n",
       "  'fatal': 0.0029443386,\n",
       "  'acute respiratory distress syndrome': 0.0030410388,\n",
       "  'sars-cov-2': 0.0049313493,\n",
       "  'cardiac valve injury': 0.0050265756,\n",
       "  'myocarditis': 0.005094906,\n",
       "  'angiotensin ii receptor antagonist': 0.005249212,\n",
       "  'severe acute respiratory syndrome': 0.005326599,\n",
       "  'middle east respiratory syndrome': 0.0061835423}}"
      ]
     },
     "execution_count": 50,
     "metadata": {},
     "output_type": "execute_result"
    }
   ],
   "source": [
    "gcn_l2.get_similar_nodes([\"glucose\", \"covid-19\"], k=10)"
   ]
  },
  {
   "cell_type": "code",
   "execution_count": 51,
   "metadata": {
    "scrolled": true
   },
   "outputs": [
    {
     "data": {
      "text/plain": [
       "{'glucose': {'glucose': 1.0,\n",
       "  'glucose tolerance test': 0.9812847,\n",
       "  'cholesterol': 0.9809156,\n",
       "  'insulin': 0.9803098,\n",
       "  'triglycerides': 0.97919875,\n",
       "  'high density lipoprotein': 0.9767054,\n",
       "  'low density lipoprotein': 0.9718623,\n",
       "  'plasma': 0.96984684,\n",
       "  'atherosclerosis': 0.9675857,\n",
       "  'diabetic nephropathy': 0.9660597},\n",
       " 'covid-19': {'covid-19': 1.0,\n",
       "  'coronavirus': 0.9957595,\n",
       "  'fatal': 0.9880442,\n",
       "  'acute respiratory distress syndrome': 0.98634124,\n",
       "  'angiotensin ii receptor antagonist': 0.9784541,\n",
       "  'sars-cov-2': 0.97769195,\n",
       "  'cardiac valve injury': 0.97702265,\n",
       "  'myocarditis': 0.9765818,\n",
       "  'severe acute respiratory syndrome': 0.9762689,\n",
       "  'cardiovascular disorder': 0.97257257}}"
      ]
     },
     "execution_count": 51,
     "metadata": {},
     "output_type": "execute_result"
    }
   ],
   "source": [
    "gcn_cosine.get_similar_nodes([\"glucose\", \"covid-19\"], k=10)"
   ]
  },
  {
   "cell_type": "markdown",
   "metadata": {},
   "source": [
    "### Node clustering\n",
    "\n",
    "We can cluster nodes according to their node embeddings. Often such clustering helps to reveal the community structure encoded in the underlying networks.\n",
    "\n",
    "In this example we will use the `BayesianGaussianMixture` model provided by the scikit-learn to cluster the nodes according to different embeddings into 5 clusters."
   ]
  },
  {
   "cell_type": "code",
   "execution_count": 52,
   "metadata": {},
   "outputs": [],
   "source": [
    "from sklearn import mixture"
   ]
  },
  {
   "cell_type": "code",
   "execution_count": 53,
   "metadata": {},
   "outputs": [],
   "source": [
    "N = 5"
   ]
  },
  {
   "cell_type": "code",
   "execution_count": 54,
   "metadata": {},
   "outputs": [],
   "source": [
    "X = transformed_graph.get_node_property_values(\"node2vec\").to_list()\n",
    "gmm = mixture.BayesianGaussianMixture(n_components=N, covariance_type='full').fit(X)\n",
    "node2vec_clusters = gmm.predict(X)"
   ]
  },
  {
   "cell_type": "code",
   "execution_count": 55,
   "metadata": {},
   "outputs": [],
   "source": [
    "X = transformed_graph.get_node_property_values(\"attri2vec\").to_list()\n",
    "gmm = mixture.BayesianGaussianMixture(n_components=5, covariance_type='full').fit(X)\n",
    "attri2vec_clusters = gmm.predict(X)"
   ]
  },
  {
   "cell_type": "code",
   "execution_count": 56,
   "metadata": {},
   "outputs": [],
   "source": [
    "X = transformed_graph.get_node_property_values(\"gcn_dgi\").to_list()\n",
    "gmm = mixture.BayesianGaussianMixture(n_components=5, covariance_type='full').fit(X)\n",
    "gcn_dgi_clusters = gmm.predict(X)"
   ]
  },
  {
   "cell_type": "markdown",
   "metadata": {},
   "source": [
    "Below we inspect the most frequent cluster members."
   ]
  },
  {
   "cell_type": "code",
   "execution_count": 57,
   "metadata": {},
   "outputs": [],
   "source": [
    "def show_top_members(clusters, N):\n",
    "    for i in range(N):\n",
    "        df = transformed_graph._nodes.iloc[np.where(clusters == i)]\n",
    "        df.loc[:, \"frequency\"] = df.index.map(lambda x: graph._nodes.loc[x, \"frequency\"])\n",
    "        print(f\"#{i}: \", \", \".join(df.nlargest(10, columns=[\"frequency\"]).index))"
   ]
  },
  {
   "cell_type": "code",
   "execution_count": 58,
   "metadata": {},
   "outputs": [
    {
     "name": "stdout",
     "output_type": "stream",
     "text": [
      "#0:  blood, heart, pulmonary, death, renal, hypertension, cardiovascular system, person, oral cavity, fever\n",
      "#1:  lung, liver, survival, virus, brain, glucose, cancer, serum, obesity, plasma\n",
      "#2:  human, mouse, inflammation, animal, cytokine, interleukin-6, dna, tissue, antibody, proliferation\n",
      "#3:  bacteria, antibiotic, pneumonia, escherichia coli, staphylococcus aureus, pathogen, klebsiella pneumoniae, microorganism, mucoid pseudomonas aeruginosa, organism\n",
      "#4:  covid-19, infectious disorder, diabetes mellitus, sars-cov-2, kidney, dog, septicemia, respiratory system, organ, coronavirus\n"
     ]
    },
    {
     "name": "stderr",
     "output_type": "stream",
     "text": [
      "/Users/oshurko/opt/anaconda3/envs/bluegraph/lib/python3.6/site-packages/pandas/core/indexing.py:1596: SettingWithCopyWarning: \n",
      "A value is trying to be set on a copy of a slice from a DataFrame.\n",
      "Try using .loc[row_indexer,col_indexer] = value instead\n",
      "\n",
      "See the caveats in the documentation: https://pandas.pydata.org/pandas-docs/stable/user_guide/indexing.html#returning-a-view-versus-a-copy\n",
      "  self.obj[key] = _infer_fill_value(value)\n",
      "/Users/oshurko/opt/anaconda3/envs/bluegraph/lib/python3.6/site-packages/pandas/core/indexing.py:1743: SettingWithCopyWarning: \n",
      "A value is trying to be set on a copy of a slice from a DataFrame.\n",
      "Try using .loc[row_indexer,col_indexer] = value instead\n",
      "\n",
      "See the caveats in the documentation: https://pandas.pydata.org/pandas-docs/stable/user_guide/indexing.html#returning-a-view-versus-a-copy\n",
      "  isetter(ilocs[0], value)\n"
     ]
    }
   ],
   "source": [
    "show_top_members(node2vec_clusters, N)"
   ]
  },
  {
   "cell_type": "code",
   "execution_count": 59,
   "metadata": {},
   "outputs": [
    {
     "name": "stdout",
     "output_type": "stream",
     "text": [
      "#0:  covid-19, blood, infectious disorder, heart, diabetes mellitus, lung, sars-cov-2, mouse, pulmonary, bacteria\n",
      "#1:  dog, cat, water, depression, horse, anxiety, nasal, subarachnoid hemorrhage, proximal, brother\n",
      "#2:  death, person, urine, proliferation, molecule, lower, failure, intestinal, transfer, organism\n",
      "#3:  antibiotic, escherichia coli, staphylococcus aureus, klebsiella pneumoniae, mucoid pseudomonas aeruginosa, vancomycin, pseudomonas aeruginosa, ciprofloxacin, bacterial infection, staphylococcus\n",
      "#4:  human, renal, survival, brain, hypertension, obesity, respiratory system, oral cavity, fever, injury\n"
     ]
    }
   ],
   "source": [
    "show_top_members(attri2vec_clusters, N)"
   ]
  },
  {
   "cell_type": "code",
   "execution_count": 60,
   "metadata": {},
   "outputs": [
    {
     "name": "stdout",
     "output_type": "stream",
     "text": [
      "#0:  covid-19, blood, heart, diabetes mellitus, pulmonary, death, renal, hypertension, cardiovascular system, dog\n",
      "#1:  bacteria, antibiotic, escherichia coli, staphylococcus aureus, pathogen, klebsiella pneumoniae, microorganism, mucoid pseudomonas aeruginosa, organism, sputum\n",
      "#2:  human, mouse, inflammation, animal, cytokine, plasma, interleukin-6, neoplasm, dna, tissue\n",
      "#3:  lung, sars-cov-2, liver, survival, virus, brain, glucose, kidney, cancer, serum\n",
      "#4:  infectious disorder, respiratory system, oral cavity, pneumonia, skin, fever, cystic fibrosis, urine, central nervous system, human immunodeficiency virus\n"
     ]
    }
   ],
   "source": [
    "show_top_members(gcn_dgi_clusters, N)"
   ]
  },
  {
   "cell_type": "markdown",
   "metadata": {},
   "source": [
    "We can also use the previously `plot_2d` util and color our 2D nore representation according to the clusters they belong to."
   ]
  },
  {
   "cell_type": "code",
   "execution_count": 61,
   "metadata": {},
   "outputs": [
    {
     "data": {
      "image/png": "[encoded data removed]",
      "text/plain": [
       "<Figure size 504x504 with 1 Axes>"
      ]
     },
     "metadata": {
      "needs_background": "light"
     },
     "output_type": "display_data"
    }
   ],
   "source": [
    "plot_2d(transformed_graph, vectors=node2vec_2d, labels=node2vec_clusters)"
   ]
  },
  {
   "cell_type": "code",
   "execution_count": 62,
   "metadata": {},
   "outputs": [
    {
     "data": {
      "image/png": "[encoded data removed]",
      "text/plain": [
       "<Figure size 504x504 with 1 Axes>"
      ]
     },
     "metadata": {
      "needs_background": "light"
     },
     "output_type": "display_data"
    }
   ],
   "source": [
    "plot_2d(transformed_graph, vectors=attri2vec_2d, labels=attri2vec_clusters)"
   ]
  },
  {
   "cell_type": "code",
   "execution_count": 63,
   "metadata": {},
   "outputs": [
    {
     "data": {
      "image/png": "[encoded data removed]",
      "text/plain": [
       "<Figure size 504x504 with 1 Axes>"
      ]
     },
     "metadata": {
      "needs_background": "light"
     },
     "output_type": "display_data"
    }
   ],
   "source": [
    "plot_2d(transformed_graph, vectors=gcn_dgi_2d, labels=gcn_dgi_clusters)"
   ]
  },
  {
   "cell_type": "markdown",
   "metadata": {},
   "source": [
    "### Node classification\n",
    "\n",
    "Another downstream task that we would like to perform is node classification. We would like to automatically assign entity types according to their node embeddings. For this we will build predictive models for entity type prediction based on:\n",
    "\n",
    "- Only node features\n",
    "- Node2vec embeddings (only structure)\n",
    "- Attri2vec embeddings (structure and node features)\n",
    "- GCN Deep Graph Infomax embeddings (structure and node features)"
   ]
  },
  {
   "cell_type": "markdown",
   "metadata": {},
   "source": [
    "First of all, we split the graph nodes into the train and the test sets."
   ]
  },
  {
   "cell_type": "code",
   "execution_count": 64,
   "metadata": {},
   "outputs": [],
   "source": [
    "train_nodes, test_nodes = model_selection.train_test_split(\n",
    "    transformed_graph.nodes(), train_size=0.8)"
   ]
  },
  {
   "cell_type": "markdown",
   "metadata": {},
   "source": [
    "Now we use the `NodeClassifier` interface to create our classification models. As the base model we will use the linear SVM classifier (`LinearSVC`) provided by `scikit-learn`."
   ]
  },
  {
   "cell_type": "code",
   "execution_count": 65,
   "metadata": {},
   "outputs": [],
   "source": [
    "features_classifier = NodeClassifier(LinearSVC(), feature_vector_prop=\"features\")\n",
    "features_classifier.fit(transformed_graph, train_elements=train_nodes, label_prop=\"entity_type\")\n",
    "features_pred = features_classifier.predict(transformed_graph, predict_elements=test_nodes)"
   ]
  },
  {
   "cell_type": "code",
   "execution_count": 66,
   "metadata": {},
   "outputs": [],
   "source": [
    "node2vec_classifier = NodeClassifier(LinearSVC(), feature_vector_prop=\"node2vec\")\n",
    "node2vec_classifier.fit(transformed_graph, train_elements=train_nodes, label_prop=\"entity_type\")\n",
    "node2vec_pred = node2vec_classifier.predict(transformed_graph, predict_elements=test_nodes)"
   ]
  },
  {
   "cell_type": "code",
   "execution_count": 67,
   "metadata": {},
   "outputs": [
    {
     "name": "stderr",
     "output_type": "stream",
     "text": [
      "/Users/oshurko/opt/anaconda3/envs/bluegraph/lib/python3.6/site-packages/sklearn/svm/_base.py:986: ConvergenceWarning: Liblinear failed to converge, increase the number of iterations.\n",
      "  \"the number of iterations.\", ConvergenceWarning)\n"
     ]
    }
   ],
   "source": [
    "attri2vec_classifier = NodeClassifier(LinearSVC(), feature_vector_prop=\"attri2vec\")\n",
    "attri2vec_classifier.fit(transformed_graph, train_elements=train_nodes, label_prop=\"entity_type\")\n",
    "attri2vec_pred = attri2vec_classifier.predict(transformed_graph, predict_elements=test_nodes)"
   ]
  },
  {
   "cell_type": "code",
   "execution_count": 68,
   "metadata": {},
   "outputs": [],
   "source": [
    "gcn_dgi_classifier = NodeClassifier(LinearSVC(), feature_vector_prop=\"gcn_dgi\")\n",
    "gcn_dgi_classifier.fit(transformed_graph, train_elements=train_nodes, label_prop=\"entity_type\")\n",
    "gcn_dgi_pred = gcn_dgi_classifier.predict(transformed_graph, predict_elements=test_nodes)"
   ]
  },
  {
   "cell_type": "markdown",
   "metadata": {},
   "source": [
    "Let us have a look at the scores of different node classification models we have produced."
   ]
  },
  {
   "cell_type": "code",
   "execution_count": 69,
   "metadata": {},
   "outputs": [],
   "source": [
    "true_labels = transformed_graph._nodes.loc[test_nodes, \"entity_type\"]"
   ]
  },
  {
   "cell_type": "code",
   "execution_count": 70,
   "metadata": {
    "scrolled": true
   },
   "outputs": [
    {
     "data": {
      "text/plain": [
       "{'accuracy': 0.595,\n",
       " 'precision': 0.595,\n",
       " 'recall': 0.595,\n",
       " 'f1_score': 0.595,\n",
       " 'roc_auc_score': 0.784575202581728}"
      ]
     },
     "execution_count": 70,
     "metadata": {},
     "output_type": "execute_result"
    }
   ],
   "source": [
    "get_classification_scores(true_labels, features_pred, multiclass=True)"
   ]
  },
  {
   "cell_type": "code",
   "execution_count": 71,
   "metadata": {},
   "outputs": [
    {
     "data": {
      "text/plain": [
       "{'accuracy': 0.415,\n",
       " 'precision': 0.415,\n",
       " 'recall': 0.415,\n",
       " 'f1_score': 0.415,\n",
       " 'roc_auc_score': 0.7080000038760804}"
      ]
     },
     "execution_count": 71,
     "metadata": {},
     "output_type": "execute_result"
    }
   ],
   "source": [
    "get_classification_scores(true_labels, node2vec_pred, multiclass=True)"
   ]
  },
  {
   "cell_type": "code",
   "execution_count": 72,
   "metadata": {},
   "outputs": [
    {
     "data": {
      "text/plain": [
       "{'accuracy': 0.45,\n",
       " 'precision': 0.45,\n",
       " 'recall': 0.45,\n",
       " 'f1_score': 0.45,\n",
       " 'roc_auc_score': 0.7145481572306182}"
      ]
     },
     "execution_count": 72,
     "metadata": {},
     "output_type": "execute_result"
    }
   ],
   "source": [
    "get_classification_scores(true_labels, attri2vec_pred, multiclass=True)"
   ]
  },
  {
   "cell_type": "code",
   "execution_count": 73,
   "metadata": {},
   "outputs": [
    {
     "data": {
      "text/plain": [
       "{'accuracy': 0.43,\n",
       " 'precision': 0.43,\n",
       " 'recall': 0.43,\n",
       " 'f1_score': 0.42999999999999994,\n",
       " 'roc_auc_score': 0.7106864506117908}"
      ]
     },
     "execution_count": 73,
     "metadata": {},
     "output_type": "execute_result"
    }
   ],
   "source": [
    "get_classification_scores(true_labels, gcn_dgi_pred, multiclass=True)"
   ]
  },
  {
   "cell_type": "markdown",
   "metadata": {},
   "source": [
    "## Link prediction"
   ]
  },
  {
   "cell_type": "markdown",
   "metadata": {},
   "source": [
    "Finally, we would like to use the produced node embeddings to predict the existance of edges. This downstream task is formulated as follows: given a pair of nodes and their embedding vectors, is there an edge between these nodes?"
   ]
  },
  {
   "cell_type": "markdown",
   "metadata": {},
   "source": [
    "As the first step of the edges prediciton task we will generate false edges for training (node pairs that don't have edges between them)."
   ]
  },
  {
   "cell_type": "code",
   "execution_count": 74,
   "metadata": {},
   "outputs": [],
   "source": [
    "false_edges = generate_negative_edges(transformed_graph)"
   ]
  },
  {
   "cell_type": "markdown",
   "metadata": {},
   "source": [
    "We will now split both true and false edges into training and test sets."
   ]
  },
  {
   "cell_type": "code",
   "execution_count": 75,
   "metadata": {},
   "outputs": [],
   "source": [
    "true_train_edges, true_test_edges = model_selection.train_test_split(\n",
    "    transformed_graph.edges(), train_size=0.8)"
   ]
  },
  {
   "cell_type": "code",
   "execution_count": 76,
   "metadata": {},
   "outputs": [],
   "source": [
    "false_train_edges, false_test_edges = model_selection.train_test_split(\n",
    "    false_edges, train_size=0.8)"
   ]
  },
  {
   "cell_type": "markdown",
   "metadata": {},
   "source": [
    "And, finally, we will use the `EdgePredictor` interface to build our model (using `LinearSVC` as before and the Hadamard product as the binary operator between the embedding vectors for the source and the target nodes."
   ]
  },
  {
   "cell_type": "code",
   "execution_count": 77,
   "metadata": {},
   "outputs": [],
   "source": [
    "model = EdgePredictor(LinearSVC(), feature_vector_prop=\"node2vec\",\n",
    "                      operator=\"hadamard\", directed=False)\n",
    "model.fit(transformed_graph, true_train_edges, negative_samples=false_train_edges)"
   ]
  },
  {
   "cell_type": "code",
   "execution_count": 78,
   "metadata": {},
   "outputs": [],
   "source": [
    "true_labels = np.hstack([\n",
    "    np.ones(len(true_test_edges)),\n",
    "    np.zeros(len(false_test_edges))])"
   ]
  },
  {
   "cell_type": "code",
   "execution_count": 79,
   "metadata": {},
   "outputs": [],
   "source": [
    "y_pred = model.predict(transformed_graph, true_test_edges + false_test_edges)"
   ]
  },
  {
   "cell_type": "markdown",
   "metadata": {},
   "source": [
    "Let us have a look at the obtained scores."
   ]
  },
  {
   "cell_type": "code",
   "execution_count": 80,
   "metadata": {
    "scrolled": true
   },
   "outputs": [
    {
     "data": {
      "text/plain": [
       "{'accuracy': 0.7374227805210636,\n",
       " 'precision': 0.7374227805210636,\n",
       " 'recall': 0.7374227805210636,\n",
       " 'f1_score': 0.7374227805210636,\n",
       " 'roc_auc_score': 0.6468160197027184}"
      ]
     },
     "execution_count": 80,
     "metadata": {},
     "output_type": "execute_result"
    }
   ],
   "source": [
    "get_classification_scores(true_labels, y_pred)"
   ]
  },
  {
   "cell_type": "markdown",
   "metadata": {},
   "source": [
    "## Creating and saving embedding pipelines\n",
    "\n",
    "`bluegraph` allows to create emebedding pipelines (using the `EmbeddingPipeline` class) that represent a useful wrapper around a sequence of steps necessary to produce embeddings and compute point similarities. In the example below we create a pipeline for producing `attri2vec` node embeddings and computing their cosine similarity."
   ]
  },
  {
   "cell_type": "markdown",
   "metadata": {},
   "source": [
    "We first create an encoder object that will be used in our pipeline as a preprocessing step."
   ]
  },
  {
   "cell_type": "code",
   "execution_count": 81,
   "metadata": {},
   "outputs": [],
   "source": [
    "definition_encoder = ScikitLearnPGEncoder(\n",
    "    node_properties=[\"definition\"], text_encoding_max_dimension=512)"
   ]
  },
  {
   "cell_type": "markdown",
   "metadata": {},
   "source": [
    "We then create an embedder object."
   ]
  },
  {
   "cell_type": "code",
   "execution_count": 82,
   "metadata": {},
   "outputs": [],
   "source": [
    "D = 128\n",
    "params = {\n",
    "    \"length\": 5,\n",
    "    \"number_of_walks\": 10,\n",
    "    \"epochs\": 5,\n",
    "    \"embedding_dimension\": D\n",
    "}\n",
    "attri2vec_embedder = StellarGraphNodeEmbedder(\n",
    "    \"attri2vec\", feature_vector_prop=\"features\", edge_weight=\"npmi\", **params)"
   ]
  },
  {
   "cell_type": "markdown",
   "metadata": {},
   "source": [
    "And finally we create a pipeline object. Note that in the code below we use the `SimilarityProcessor` interface and not `NodeSimilarityProcessor`, as we have done it previously. We use this lower abstraction level interface, because the `EmbeddingPipeline` is designed to work with any embedding models (not only node embedding models)."
   ]
  },
  {
   "cell_type": "code",
   "execution_count": 83,
   "metadata": {},
   "outputs": [],
   "source": [
    "attri2vec_pipeline = EmbeddingPipeline(\n",
    "    preprocessor=definition_encoder,\n",
    "    embedder=attri2vec_embedder,\n",
    "    similarity_processor=SimilarityProcessor(similarity=\"cosine\", dimension=D))"
   ]
  },
  {
   "cell_type": "markdown",
   "metadata": {},
   "source": [
    "We run the fitting process, which given the input data:\n",
    "1. fits the encoder\n",
    "2. transforms the data\n",
    "3. fits the embedder\n",
    "4. produces the embedding table\n",
    "5. fits the similarity processor index"
   ]
  },
  {
   "cell_type": "code",
   "execution_count": 84,
   "metadata": {},
   "outputs": [
    {
     "name": "stdout",
     "output_type": "stream",
     "text": [
      "link_classification: using 'ip' method to combine node embeddings into edge embeddings\n"
     ]
    }
   ],
   "source": [
    "attri2vec_pipeline.run_fitting(graph)"
   ]
  },
  {
   "cell_type": "markdown",
   "metadata": {},
   "source": [
    "How we can save our pipeline to the file system."
   ]
  },
  {
   "cell_type": "code",
   "execution_count": 85,
   "metadata": {},
   "outputs": [
    {
     "name": "stdout",
     "output_type": "stream",
     "text": [
      "INFO:tensorflow:Assets written to: ../data/attri2vec_test_model/embedder/model/assets\n"
     ]
    }
   ],
   "source": [
    "attri2vec_pipeline.save(\n",
    "    \"../data/attri2vec_test_model\",\n",
    "    compress=True)"
   ]
  },
  {
   "cell_type": "markdown",
   "metadata": {},
   "source": [
    "And we can load the pipeline back into memory:"
   ]
  },
  {
   "cell_type": "code",
   "execution_count": 86,
   "metadata": {},
   "outputs": [],
   "source": [
    "pipeline = EmbeddingPipeline.load(\n",
    "    \"../data/attri2vec_test_model.zip\",\n",
    "    embedder_interface=GraphElementEmbedder,\n",
    "    embedder_ext=\"zip\")"
   ]
  },
  {
   "cell_type": "markdown",
   "metadata": {},
   "source": [
    "We can use `retrieve_embeddings` and `get_similar_points` methods of the pipeline object to respectively get embedding vectors and top most similar nodes for the input nodes."
   ]
  },
  {
   "cell_type": "code",
   "execution_count": 87,
   "metadata": {},
   "outputs": [
    {
     "data": {
      "text/plain": [
       "[[0.026441097259521484,\n",
       "  0.020046621561050415,\n",
       "  0.0194341242313385,\n",
       "  0.03011074662208557,\n",
       "  0.0282953679561615,\n",
       "  0.04663392901420593,\n",
       "  0.03015837073326111,\n",
       "  0.02424454689025879,\n",
       "  0.031363338232040405,\n",
       "  0.028217732906341553,\n",
       "  0.0295945405960083,\n",
       "  0.020050078630447388,\n",
       "  0.025160938501358032,\n",
       "  0.050014346837997437,\n",
       "  0.023941457271575928,\n",
       "  0.02473461627960205,\n",
       "  0.02436971664428711,\n",
       "  0.021792948246002197,\n",
       "  0.030936330556869507,\n",
       "  0.02424648404121399,\n",
       "  0.022921651601791382,\n",
       "  0.03386187553405762,\n",
       "  0.026500016450881958,\n",
       "  0.021708935499191284,\n",
       "  0.033362627029418945,\n",
       "  0.03157290816307068,\n",
       "  0.02734997868537903,\n",
       "  0.027173668146133423,\n",
       "  0.03447708487510681,\n",
       "  0.03153151273727417,\n",
       "  0.024453788995742798,\n",
       "  0.032079100608825684,\n",
       "  0.02832368016242981,\n",
       "  0.0334816575050354,\n",
       "  0.028732776641845703,\n",
       "  0.02407422661781311,\n",
       "  0.03553268313407898,\n",
       "  0.025017261505126953,\n",
       "  0.019506126642227173,\n",
       "  0.028026103973388672,\n",
       "  0.021077990531921387,\n",
       "  0.027385443449020386,\n",
       "  0.0202750563621521,\n",
       "  0.025773674249649048,\n",
       "  0.025107115507125854,\n",
       "  0.02644282579421997,\n",
       "  0.024081110954284668,\n",
       "  0.0268060564994812,\n",
       "  0.02096390724182129,\n",
       "  0.025763005018234253,\n",
       "  0.02683091163635254,\n",
       "  0.030013293027877808,\n",
       "  0.02490094304084778,\n",
       "  0.022778958082199097,\n",
       "  0.028345227241516113,\n",
       "  0.03618815541267395,\n",
       "  0.0193118155002594,\n",
       "  0.01809832453727722,\n",
       "  0.028344064950942993,\n",
       "  0.031157225370407104,\n",
       "  0.02817147970199585,\n",
       "  0.019677340984344482,\n",
       "  0.03981408476829529,\n",
       "  0.019305706024169922,\n",
       "  0.026891380548477173,\n",
       "  0.018742382526397705,\n",
       "  0.025270730257034302,\n",
       "  0.042784690856933594,\n",
       "  0.02709946036338806,\n",
       "  0.021716177463531494,\n",
       "  0.02337437868118286,\n",
       "  0.027213960886001587,\n",
       "  0.02848684787750244,\n",
       "  0.02816593647003174,\n",
       "  0.025130659341812134,\n",
       "  0.022277265787124634,\n",
       "  0.01697605848312378,\n",
       "  0.03024807572364807,\n",
       "  0.022955238819122314,\n",
       "  0.02232491970062256,\n",
       "  0.021096348762512207,\n",
       "  0.026891440153121948,\n",
       "  0.03439164161682129,\n",
       "  0.03497806191444397,\n",
       "  0.02889329195022583,\n",
       "  0.03181782364845276,\n",
       "  0.021164149045944214,\n",
       "  0.021912336349487305,\n",
       "  0.02458667755126953,\n",
       "  0.03081408143043518,\n",
       "  0.021473288536071777,\n",
       "  0.02512696385383606,\n",
       "  0.021269410848617554,\n",
       "  0.020322859287261963,\n",
       "  0.025599569082260132,\n",
       "  0.02583131194114685,\n",
       "  0.031664252281188965,\n",
       "  0.03203767538070679,\n",
       "  0.026017457246780396,\n",
       "  0.01904281973838806,\n",
       "  0.027173280715942383,\n",
       "  0.02402511239051819,\n",
       "  0.021161943674087524,\n",
       "  0.03448718786239624,\n",
       "  0.030565112829208374,\n",
       "  0.034025609493255615,\n",
       "  0.02100268006324768,\n",
       "  0.03737005591392517,\n",
       "  0.02987825870513916,\n",
       "  0.03949850797653198,\n",
       "  0.02471068501472473,\n",
       "  0.029324054718017578,\n",
       "  0.035130441188812256,\n",
       "  0.03121209144592285,\n",
       "  0.034395039081573486,\n",
       "  0.022202223539352417,\n",
       "  0.02602982521057129,\n",
       "  0.028936922550201416,\n",
       "  0.03689303994178772,\n",
       "  0.0281715989112854,\n",
       "  0.030644983053207397,\n",
       "  0.02356511354446411,\n",
       "  0.028851211071014404,\n",
       "  0.03437584638595581,\n",
       "  0.028737157583236694,\n",
       "  0.030141085386276245,\n",
       "  0.023545026779174805,\n",
       "  0.03583762049674988],\n",
       " [0.1317186951637268,\n",
       "  0.08693569898605347,\n",
       "  0.09401535987854004,\n",
       "  0.09966245293617249,\n",
       "  0.09935939311981201,\n",
       "  0.12900277972221375,\n",
       "  0.0956110954284668,\n",
       "  0.10104522109031677,\n",
       "  0.1065835952758789,\n",
       "  0.09725451469421387,\n",
       "  0.10028943419456482,\n",
       "  0.11485916376113892,\n",
       "  0.10374009609222412,\n",
       "  0.10271957516670227,\n",
       "  0.10554468631744385,\n",
       "  0.11076027154922485,\n",
       "  0.0886724591255188,\n",
       "  0.08707192540168762,\n",
       "  0.08833703398704529,\n",
       "  0.12255784869194031,\n",
       "  0.11718454957008362,\n",
       "  0.12078860402107239,\n",
       "  0.1281406581401825,\n",
       "  0.10985377430915833,\n",
       "  0.09863454103469849,\n",
       "  0.10306394100189209,\n",
       "  0.08852842450141907,\n",
       "  0.10792660713195801,\n",
       "  0.09571599960327148,\n",
       "  0.11819466948509216,\n",
       "  0.10714176297187805,\n",
       "  0.10661911964416504,\n",
       "  0.10379686951637268,\n",
       "  0.10765859484672546,\n",
       "  0.09939086437225342,\n",
       "  0.10969558358192444,\n",
       "  0.10657718777656555,\n",
       "  0.11928907036781311,\n",
       "  0.1413048803806305,\n",
       "  0.1283625364303589,\n",
       "  0.08835825324058533,\n",
       "  0.09338077902793884,\n",
       "  0.15750062465667725,\n",
       "  0.11914607882499695,\n",
       "  0.09913486242294312,\n",
       "  0.10242682695388794,\n",
       "  0.1059209406375885,\n",
       "  0.10256391763687134,\n",
       "  0.1328316032886505,\n",
       "  0.1299886405467987,\n",
       "  0.0948946475982666,\n",
       "  0.10154864192008972,\n",
       "  0.10330250859260559,\n",
       "  0.1505822241306305,\n",
       "  0.1052071750164032,\n",
       "  0.11330699920654297,\n",
       "  0.10333949327468872,\n",
       "  0.09686926007270813,\n",
       "  0.08771488070487976,\n",
       "  0.08489271998405457,\n",
       "  0.09618523716926575,\n",
       "  0.11391496658325195,\n",
       "  0.10238021612167358,\n",
       "  0.11918625235557556,\n",
       "  0.09381163120269775,\n",
       "  0.09189599752426147,\n",
       "  0.08731824159622192,\n",
       "  0.1054028868675232,\n",
       "  0.13484957814216614,\n",
       "  0.12851601839065552,\n",
       "  0.10829728841781616,\n",
       "  0.10750865936279297,\n",
       "  0.11765611171722412,\n",
       "  0.11197134852409363,\n",
       "  0.09650260210037231,\n",
       "  0.08868321776390076,\n",
       "  0.11481216549873352,\n",
       "  0.10262909531593323,\n",
       "  0.11933475732803345,\n",
       "  0.12986797094345093,\n",
       "  0.10255080461502075,\n",
       "  0.14096024632453918,\n",
       "  0.07262665033340454,\n",
       "  0.09529820084571838,\n",
       "  0.10040408372879028,\n",
       "  0.08899810910224915,\n",
       "  0.09354889392852783,\n",
       "  0.09625068306922913,\n",
       "  0.0964113175868988,\n",
       "  0.12286549806594849,\n",
       "  0.09407737851142883,\n",
       "  0.09656533598899841,\n",
       "  0.08662459254264832,\n",
       "  0.09484550356864929,\n",
       "  0.09154921770095825,\n",
       "  0.09463462233543396,\n",
       "  0.09253653883934021,\n",
       "  0.09093630313873291,\n",
       "  0.0836561918258667,\n",
       "  0.09823247790336609,\n",
       "  0.10253781080245972,\n",
       "  0.09644505381584167,\n",
       "  0.09895908832550049,\n",
       "  0.09714189171791077,\n",
       "  0.11738607287406921,\n",
       "  0.10807308554649353,\n",
       "  0.12605798244476318,\n",
       "  0.14519697427749634,\n",
       "  0.13974276185035706,\n",
       "  0.08049532771110535,\n",
       "  0.09572726488113403,\n",
       "  0.10483130812644958,\n",
       "  0.09103074669837952,\n",
       "  0.08190768957138062,\n",
       "  0.13277626037597656,\n",
       "  0.08043482899665833,\n",
       "  0.09323775768280029,\n",
       "  0.1102449893951416,\n",
       "  0.09049403667449951,\n",
       "  0.10197490453720093,\n",
       "  0.09713426232337952,\n",
       "  0.10729193687438965,\n",
       "  0.10578319430351257,\n",
       "  0.09256377816200256,\n",
       "  0.09522354602813721,\n",
       "  0.09279927611351013,\n",
       "  0.11217063665390015,\n",
       "  0.11020177602767944]]"
      ]
     },
     "execution_count": 87,
     "metadata": {},
     "output_type": "execute_result"
    }
   ],
   "source": [
    "pipeline.retrieve_embeddings([\"covid-19\", \"glucose\"])"
   ]
  },
  {
   "cell_type": "code",
   "execution_count": 88,
   "metadata": {},
   "outputs": [
    {
     "data": {
      "text/plain": [
       "([Index(['covid-19', 'middle east respiratory syndrome', 'septicemia',\n",
       "         'childhood-onset systemic lupus erythematosus',\n",
       "         'severe acute respiratory syndrome'],\n",
       "        dtype='object', name='@id'),\n",
       "  Index(['glucose', 'mineral', 'hydrophobicity', 'molecule', 'pruritus'], dtype='object', name='@id')],\n",
       " array([[1.        , 0.98781574, 0.9874807 , 0.9873569 , 0.9870476 ],\n",
       "        [1.0000001 , 0.9910007 , 0.99055326, 0.99017215, 0.9891875 ]],\n",
       "       dtype=float32))"
      ]
     },
     "execution_count": 88,
     "metadata": {},
     "output_type": "execute_result"
    }
   ],
   "source": [
    "pipeline.get_similar_points([\"covid-19\", \"glucose\"], k=5)"
   ]
  }
 ],
 "metadata": {
  "kernelspec": {
   "display_name": "bluegraph",
   "language": "python",
   "name": "bluegraph"
  },
  "language_info": {
   "codemirror_mode": {
    "name": "ipython",
    "version": 3
   },
   "file_extension": ".py",
   "mimetype": "text/x-python",
   "name": "python",
   "nbconvert_exporter": "python",
   "pygments_lexer": "ipython3",
   "version": "3.6.12"
  }
 },
 "nbformat": 4,
 "nbformat_minor": 5
}
