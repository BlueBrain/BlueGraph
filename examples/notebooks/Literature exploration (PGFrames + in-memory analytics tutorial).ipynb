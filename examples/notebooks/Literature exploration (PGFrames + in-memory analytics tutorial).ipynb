{
 "cells": [
  {
   "cell_type": "markdown",
   "metadata": {},
   "source": [
    "# Literature exploration by term co-occurrance analysis\n",
    "\n",
    "In this example we illustrate how network analytics can be used for literature exploration. \n",
    "\n",
    "The input dataset contains occurrences of different terms in paragraphs of scientific articles previously extracted by means of a Named Entity Recognition (NER) model. This dataset is transformed into three co-occurrence networks: representing paper- and paragraph-level co-occurrence relation between terms. The term relations in the above-mentioned networks are quantified using mutual-information-based scores (pointwise mutual information and its normalized version).\n",
    "\n",
    "The networks are further analysed using classical tools from complex networks: we find various centrality measures characterizing the importance of extracted terms, we detect term communities representing denesely connected clusters of terms and finally we illustrate how the algorithms for finding shortest paths and minimum spanning trees can be used to perform guided search in networks."
   ]
  },
  {
   "cell_type": "code",
   "execution_count": 1,
   "metadata": {},
   "outputs": [],
   "source": [
    "import networkx as nx\n",
    "import pandas as pd\n",
    "import numpy as np"
   ]
  },
  {
   "cell_type": "code",
   "execution_count": 2,
   "metadata": {},
   "outputs": [],
   "source": [
    "from bluegraph.core import (PandasPGFrame,\n",
    "                            pretty_print_paths,\n",
    "                            pretty_print_tripaths,\n",
    "                            graph_elements_from_paths)\n",
    "from bluegraph.preprocess.generators import CooccurrenceGenerator\n",
    "\n",
    "from bluegraph.backends.graph_tool import (GTMetricProcessor,\n",
    "                                           GTPathFinder,\n",
    "                                           GTGraphProcessor,\n",
    "                                           GTCommunityDetector)\n",
    "from bluegraph.backends.graph_tool import graph_tool_to_pgframe\n",
    "\n",
    "from bluegraph.backends.networkx import NXCommunityDetector, NXPathFinder\n",
    "\n",
    "from bluegraph.backends.stellargraph import StellarGraphNodeEmbedder"
   ]
  },
  {
   "cell_type": "markdown",
   "metadata": {},
   "source": [
    "## I. Entity-occurrence property graph\n",
    "\n",
    "In this section we will create a property graph whose nodes are papers and extracted named entities, and whose edges connect entities to the papers they occur in."
   ]
  },
  {
   "cell_type": "markdown",
   "metadata": {},
   "source": [
    "The input data is given by occurrences of different entities in specific paragraphs of scientific articles."
   ]
  },
  {
   "cell_type": "code",
   "execution_count": 3,
   "metadata": {},
   "outputs": [],
   "source": [
    "mentions = pd.read_csv(\"../data/literature_NER_example.csv\")"
   ]
  },
  {
   "cell_type": "code",
   "execution_count": 4,
   "metadata": {},
   "outputs": [
    {
     "data": {
      "text/html": [
       "<div>\n",
       "<style scoped>\n",
       "    .dataframe tbody tr th:only-of-type {\n",
       "        vertical-align: middle;\n",
       "    }\n",
       "\n",
       "    .dataframe tbody tr th {\n",
       "        vertical-align: top;\n",
       "    }\n",
       "\n",
       "    .dataframe thead th {\n",
       "        text-align: right;\n",
       "    }\n",
       "</style>\n",
       "<table border=\"1\" class=\"dataframe\">\n",
       "  <thead>\n",
       "    <tr style=\"text-align: right;\">\n",
       "      <th></th>\n",
       "      <th>entity</th>\n",
       "      <th>occurrence</th>\n",
       "    </tr>\n",
       "  </thead>\n",
       "  <tbody>\n",
       "    <tr>\n",
       "      <th>1033</th>\n",
       "      <td>insulin infusion</td>\n",
       "      <td>78018:Abstract:1</td>\n",
       "    </tr>\n",
       "    <tr>\n",
       "      <th>886</th>\n",
       "      <td>human</td>\n",
       "      <td>214924:Conclusion:28</td>\n",
       "    </tr>\n",
       "    <tr>\n",
       "      <th>351</th>\n",
       "      <td>covid-19</td>\n",
       "      <td>197804:Introduction:2</td>\n",
       "    </tr>\n",
       "    <tr>\n",
       "      <th>319</th>\n",
       "      <td>covid-19</td>\n",
       "      <td>179426:Role Of Dpp4 Enzyme And Dpp4 Inhibitors...</td>\n",
       "    </tr>\n",
       "    <tr>\n",
       "      <th>1488</th>\n",
       "      <td>vascular</td>\n",
       "      <td>184360:Combined Therapeutic Potential Targetin...</td>\n",
       "    </tr>\n",
       "  </tbody>\n",
       "</table>\n",
       "</div>"
      ],
      "text/plain": [
       "                entity                                         occurrence\n",
       "1033  insulin infusion                                   78018:Abstract:1\n",
       "886              human                               214924:Conclusion:28\n",
       "351           covid-19                              197804:Introduction:2\n",
       "319           covid-19  179426:Role Of Dpp4 Enzyme And Dpp4 Inhibitors...\n",
       "1488          vascular  184360:Combined Therapeutic Potential Targetin..."
      ]
     },
     "execution_count": 4,
     "metadata": {},
     "output_type": "execute_result"
    }
   ],
   "source": [
    "mentions.sample(5)"
   ]
  },
  {
   "cell_type": "markdown",
   "metadata": {},
   "source": [
    "Every paragraph is identified using the format `<paper_id>:<section_id>:<paragraph_id>`. From this data we will extract occurrences in distinct papers/paragraphs as follows:"
   ]
  },
  {
   "cell_type": "code",
   "execution_count": 5,
   "metadata": {},
   "outputs": [
    {
     "data": {
      "text/html": [
       "<div>\n",
       "<style scoped>\n",
       "    .dataframe tbody tr th:only-of-type {\n",
       "        vertical-align: middle;\n",
       "    }\n",
       "\n",
       "    .dataframe tbody tr th {\n",
       "        vertical-align: top;\n",
       "    }\n",
       "\n",
       "    .dataframe thead th {\n",
       "        text-align: right;\n",
       "    }\n",
       "</style>\n",
       "<table border=\"1\" class=\"dataframe\">\n",
       "  <thead>\n",
       "    <tr style=\"text-align: right;\">\n",
       "      <th></th>\n",
       "      <th>entity</th>\n",
       "      <th>paragraph</th>\n",
       "      <th>paper</th>\n",
       "    </tr>\n",
       "  </thead>\n",
       "  <tbody>\n",
       "    <tr>\n",
       "      <th>791</th>\n",
       "      <td>glucose</td>\n",
       "      <td>35198:Abstract:1</td>\n",
       "      <td>35198</td>\n",
       "    </tr>\n",
       "    <tr>\n",
       "      <th>1498</th>\n",
       "      <td>vildagliptin</td>\n",
       "      <td>184360:Gliptins ::: Therapeutic Potential Of T...</td>\n",
       "      <td>184360</td>\n",
       "    </tr>\n",
       "    <tr>\n",
       "      <th>204</th>\n",
       "      <td>cellular secretion</td>\n",
       "      <td>184360:Gliptins ::: Therapeutic Potential Of T...</td>\n",
       "      <td>184360</td>\n",
       "    </tr>\n",
       "    <tr>\n",
       "      <th>522</th>\n",
       "      <td>diabetes mellitus</td>\n",
       "      <td>211125:Introduction:7</td>\n",
       "      <td>211125</td>\n",
       "    </tr>\n",
       "    <tr>\n",
       "      <th>1342</th>\n",
       "      <td>sars coronavirus</td>\n",
       "      <td>179426:Role Of Dpp4 Enzyme And Dpp4 Inhibitors...</td>\n",
       "      <td>179426</td>\n",
       "    </tr>\n",
       "  </tbody>\n",
       "</table>\n",
       "</div>"
      ],
      "text/plain": [
       "                  entity                                          paragraph  \\\n",
       "791              glucose                                   35198:Abstract:1   \n",
       "1498        vildagliptin  184360:Gliptins ::: Therapeutic Potential Of T...   \n",
       "204   cellular secretion  184360:Gliptins ::: Therapeutic Potential Of T...   \n",
       "522    diabetes mellitus                              211125:Introduction:7   \n",
       "1342    sars coronavirus  179426:Role Of Dpp4 Enzyme And Dpp4 Inhibitors...   \n",
       "\n",
       "       paper  \n",
       "791    35198  \n",
       "1498  184360  \n",
       "204   184360  \n",
       "522   211125  \n",
       "1342  179426  "
      ]
     },
     "execution_count": 5,
     "metadata": {},
     "output_type": "execute_result"
    }
   ],
   "source": [
    "# Extract unique paper/seciton/paragraph identifiers\n",
    "mentions[\"paper\"] = mentions[\"occurrence\"].apply(\n",
    "    lambda x: x.split(\":\")[0])\n",
    "\n",
    "mentions = mentions.rename(columns={\"occurrence\": \"paragraph\"})\n",
    "mentions.sample(5)"
   ]
  },
  {
   "cell_type": "markdown",
   "metadata": {},
   "source": [
    "We, first, create an empty property graph object."
   ]
  },
  {
   "cell_type": "code",
   "execution_count": 6,
   "metadata": {},
   "outputs": [],
   "source": [
    "graph = PandasPGFrame()"
   ]
  },
  {
   "cell_type": "markdown",
   "metadata": {},
   "source": [
    "Then we add nodes for unique entities and papers"
   ]
  },
  {
   "cell_type": "code",
   "execution_count": 7,
   "metadata": {},
   "outputs": [],
   "source": [
    "entity_nodes = mentions[\"entity\"].unique()\n",
    "graph.add_nodes(entity_nodes)\n",
    "graph.add_node_types({n: \"Entity\" for n in entity_nodes})\n",
    "\n",
    "paper_nodes = mentions[\"paper\"].unique()\n",
    "graph.add_nodes(paper_nodes)\n",
    "graph.add_node_types({n: \"Paper\" for n in paper_nodes})"
   ]
  },
  {
   "cell_type": "code",
   "execution_count": 8,
   "metadata": {},
   "outputs": [
    {
     "data": {
      "text/html": [
       "<div>\n",
       "<style scoped>\n",
       "    .dataframe tbody tr th:only-of-type {\n",
       "        vertical-align: middle;\n",
       "    }\n",
       "\n",
       "    .dataframe tbody tr th {\n",
       "        vertical-align: top;\n",
       "    }\n",
       "\n",
       "    .dataframe thead th {\n",
       "        text-align: right;\n",
       "    }\n",
       "</style>\n",
       "<table border=\"1\" class=\"dataframe\">\n",
       "  <thead>\n",
       "    <tr style=\"text-align: right;\">\n",
       "      <th></th>\n",
       "      <th>@type</th>\n",
       "    </tr>\n",
       "    <tr>\n",
       "      <th>@id</th>\n",
       "      <th></th>\n",
       "    </tr>\n",
       "  </thead>\n",
       "  <tbody>\n",
       "    <tr>\n",
       "      <th>ace inhibitor</th>\n",
       "      <td>Entity</td>\n",
       "    </tr>\n",
       "    <tr>\n",
       "      <th>acetaminophen</th>\n",
       "      <td>Entity</td>\n",
       "    </tr>\n",
       "    <tr>\n",
       "      <th>acute lung injury</th>\n",
       "      <td>Entity</td>\n",
       "    </tr>\n",
       "    <tr>\n",
       "      <th>acute respiratory distress syndrome</th>\n",
       "      <td>Entity</td>\n",
       "    </tr>\n",
       "    <tr>\n",
       "      <th>adenosine</th>\n",
       "      <td>Entity</td>\n",
       "    </tr>\n",
       "    <tr>\n",
       "      <th>...</th>\n",
       "      <td>...</td>\n",
       "    </tr>\n",
       "    <tr>\n",
       "      <th>78884</th>\n",
       "      <td>Paper</td>\n",
       "    </tr>\n",
       "    <tr>\n",
       "      <th>35198</th>\n",
       "      <td>Paper</td>\n",
       "    </tr>\n",
       "    <tr>\n",
       "      <th>139943</th>\n",
       "      <td>Paper</td>\n",
       "    </tr>\n",
       "    <tr>\n",
       "      <th>172581</th>\n",
       "      <td>Paper</td>\n",
       "    </tr>\n",
       "    <tr>\n",
       "      <th>102473</th>\n",
       "      <td>Paper</td>\n",
       "    </tr>\n",
       "  </tbody>\n",
       "</table>\n",
       "<p>177 rows × 1 columns</p>\n",
       "</div>"
      ],
      "text/plain": [
       "                                      @type\n",
       "@id                                        \n",
       "ace inhibitor                        Entity\n",
       "acetaminophen                        Entity\n",
       "acute lung injury                    Entity\n",
       "acute respiratory distress syndrome  Entity\n",
       "adenosine                            Entity\n",
       "...                                     ...\n",
       "78884                                 Paper\n",
       "35198                                 Paper\n",
       "139943                                Paper\n",
       "172581                                Paper\n",
       "102473                                Paper\n",
       "\n",
       "[177 rows x 1 columns]"
      ]
     },
     "execution_count": 8,
     "metadata": {},
     "output_type": "execute_result"
    }
   ],
   "source": [
    "graph.nodes(raw_frame=True)"
   ]
  },
  {
   "cell_type": "markdown",
   "metadata": {},
   "source": [
    "We now add edges from entities to the papers they occur in storing paragraphs as edge properties."
   ]
  },
  {
   "cell_type": "code",
   "execution_count": 9,
   "metadata": {},
   "outputs": [],
   "source": [
    "occurrence_edges = mentions.groupby(by=[\"entity\", \"paper\"]).aggregate(set)"
   ]
  },
  {
   "cell_type": "code",
   "execution_count": 10,
   "metadata": {},
   "outputs": [
    {
     "data": {
      "text/html": [
       "<div>\n",
       "<style scoped>\n",
       "    .dataframe tbody tr th:only-of-type {\n",
       "        vertical-align: middle;\n",
       "    }\n",
       "\n",
       "    .dataframe tbody tr th {\n",
       "        vertical-align: top;\n",
       "    }\n",
       "\n",
       "    .dataframe thead th {\n",
       "        text-align: right;\n",
       "    }\n",
       "</style>\n",
       "<table border=\"1\" class=\"dataframe\">\n",
       "  <thead>\n",
       "    <tr style=\"text-align: right;\">\n",
       "      <th></th>\n",
       "      <th></th>\n",
       "      <th>paragraph</th>\n",
       "    </tr>\n",
       "    <tr>\n",
       "      <th>entity</th>\n",
       "      <th>paper</th>\n",
       "      <th></th>\n",
       "    </tr>\n",
       "  </thead>\n",
       "  <tbody>\n",
       "    <tr>\n",
       "      <th rowspan=\"2\" valign=\"top\">ace inhibitor</th>\n",
       "      <th>184360</th>\n",
       "      <td>{184360:Caption:68, 184360:Aceis And Arbs ::: ...</td>\n",
       "    </tr>\n",
       "    <tr>\n",
       "      <th>197804</th>\n",
       "      <td>{197804:Caption:71, 197804:Caption:72, 197804:...</td>\n",
       "    </tr>\n",
       "    <tr>\n",
       "      <th rowspan=\"2\" valign=\"top\">acetaminophen</th>\n",
       "      <th>179426</th>\n",
       "      <td>{179426:Blood Glucose Monitoring ::: Special A...</td>\n",
       "    </tr>\n",
       "    <tr>\n",
       "      <th>197804</th>\n",
       "      <td>{197804:Discussion:52, 197804:Discussion:51, 1...</td>\n",
       "    </tr>\n",
       "    <tr>\n",
       "      <th>acute lung injury</th>\n",
       "      <th>179426</th>\n",
       "      <td>{179426:Role Of Ace/Arbs ::: Special Aspects O...</td>\n",
       "    </tr>\n",
       "    <tr>\n",
       "      <th>...</th>\n",
       "      <th>...</th>\n",
       "      <td>...</td>\n",
       "    </tr>\n",
       "    <tr>\n",
       "      <th rowspan=\"5\" valign=\"top\">virus</th>\n",
       "      <th>184360</th>\n",
       "      <td>{184360:Sdpp4 As Soluble Decoy Factor ::: Ther...</td>\n",
       "    </tr>\n",
       "    <tr>\n",
       "      <th>197804</th>\n",
       "      <td>{197804:Introduction:2, 197804:Discussion:44}</td>\n",
       "    </tr>\n",
       "    <tr>\n",
       "      <th>211125</th>\n",
       "      <td>{211125:Discussion:25}</td>\n",
       "    </tr>\n",
       "    <tr>\n",
       "      <th>211373</th>\n",
       "      <td>{211373:Introduction:3, 211373:Introduction:5,...</td>\n",
       "    </tr>\n",
       "    <tr>\n",
       "      <th>214924</th>\n",
       "      <td>{214924:The Interplay Between Covid-19 And Amp...</td>\n",
       "    </tr>\n",
       "  </tbody>\n",
       "</table>\n",
       "<p>551 rows × 1 columns</p>\n",
       "</div>"
      ],
      "text/plain": [
       "                                                                  paragraph\n",
       "entity            paper                                                    \n",
       "ace inhibitor     184360  {184360:Caption:68, 184360:Aceis And Arbs ::: ...\n",
       "                  197804  {197804:Caption:71, 197804:Caption:72, 197804:...\n",
       "acetaminophen     179426  {179426:Blood Glucose Monitoring ::: Special A...\n",
       "                  197804  {197804:Discussion:52, 197804:Discussion:51, 1...\n",
       "acute lung injury 179426  {179426:Role Of Ace/Arbs ::: Special Aspects O...\n",
       "...                                                                     ...\n",
       "virus             184360  {184360:Sdpp4 As Soluble Decoy Factor ::: Ther...\n",
       "                  197804      {197804:Introduction:2, 197804:Discussion:44}\n",
       "                  211125                             {211125:Discussion:25}\n",
       "                  211373  {211373:Introduction:3, 211373:Introduction:5,...\n",
       "                  214924  {214924:The Interplay Between Covid-19 And Amp...\n",
       "\n",
       "[551 rows x 1 columns]"
      ]
     },
     "execution_count": 10,
     "metadata": {},
     "output_type": "execute_result"
    }
   ],
   "source": [
    "occurrence_edges"
   ]
  },
  {
   "cell_type": "code",
   "execution_count": 11,
   "metadata": {},
   "outputs": [],
   "source": [
    "graph.add_edges(occurrence_edges.index)\n",
    "graph.add_edge_types({e: \"OccursIn\" for e in occurrence_edges.index})"
   ]
  },
  {
   "cell_type": "code",
   "execution_count": 12,
   "metadata": {},
   "outputs": [],
   "source": [
    "occurrence_edges.index = occurrence_edges.index.rename([\"@source_id\", \"@target_id\"])"
   ]
  },
  {
   "cell_type": "code",
   "execution_count": 13,
   "metadata": {},
   "outputs": [],
   "source": [
    "graph.add_edge_properties(occurrence_edges[\"paragraph\"])"
   ]
  },
  {
   "cell_type": "code",
   "execution_count": 14,
   "metadata": {},
   "outputs": [
    {
     "data": {
      "text/html": [
       "<div>\n",
       "<style scoped>\n",
       "    .dataframe tbody tr th:only-of-type {\n",
       "        vertical-align: middle;\n",
       "    }\n",
       "\n",
       "    .dataframe tbody tr th {\n",
       "        vertical-align: top;\n",
       "    }\n",
       "\n",
       "    .dataframe thead th {\n",
       "        text-align: right;\n",
       "    }\n",
       "</style>\n",
       "<table border=\"1\" class=\"dataframe\">\n",
       "  <thead>\n",
       "    <tr style=\"text-align: right;\">\n",
       "      <th></th>\n",
       "      <th></th>\n",
       "      <th>@type</th>\n",
       "      <th>paragraph</th>\n",
       "    </tr>\n",
       "    <tr>\n",
       "      <th>@source_id</th>\n",
       "      <th>@target_id</th>\n",
       "      <th></th>\n",
       "      <th></th>\n",
       "    </tr>\n",
       "  </thead>\n",
       "  <tbody>\n",
       "    <tr>\n",
       "      <th rowspan=\"2\" valign=\"top\">ace inhibitor</th>\n",
       "      <th>184360</th>\n",
       "      <td>OccursIn</td>\n",
       "      <td>{184360:Caption:68, 184360:Aceis And Arbs ::: ...</td>\n",
       "    </tr>\n",
       "    <tr>\n",
       "      <th>197804</th>\n",
       "      <td>OccursIn</td>\n",
       "      <td>{197804:Caption:71, 197804:Caption:72, 197804:...</td>\n",
       "    </tr>\n",
       "    <tr>\n",
       "      <th rowspan=\"2\" valign=\"top\">acetaminophen</th>\n",
       "      <th>179426</th>\n",
       "      <td>OccursIn</td>\n",
       "      <td>{179426:Blood Glucose Monitoring ::: Special A...</td>\n",
       "    </tr>\n",
       "    <tr>\n",
       "      <th>197804</th>\n",
       "      <td>OccursIn</td>\n",
       "      <td>{197804:Discussion:52, 197804:Discussion:51, 1...</td>\n",
       "    </tr>\n",
       "    <tr>\n",
       "      <th>acute lung injury</th>\n",
       "      <th>179426</th>\n",
       "      <td>OccursIn</td>\n",
       "      <td>{179426:Role Of Ace/Arbs ::: Special Aspects O...</td>\n",
       "    </tr>\n",
       "    <tr>\n",
       "      <th>...</th>\n",
       "      <th>...</th>\n",
       "      <td>...</td>\n",
       "      <td>...</td>\n",
       "    </tr>\n",
       "    <tr>\n",
       "      <th rowspan=\"5\" valign=\"top\">virus</th>\n",
       "      <th>184360</th>\n",
       "      <td>OccursIn</td>\n",
       "      <td>{184360:Sdpp4 As Soluble Decoy Factor ::: Ther...</td>\n",
       "    </tr>\n",
       "    <tr>\n",
       "      <th>197804</th>\n",
       "      <td>OccursIn</td>\n",
       "      <td>{197804:Introduction:2, 197804:Discussion:44}</td>\n",
       "    </tr>\n",
       "    <tr>\n",
       "      <th>211125</th>\n",
       "      <td>OccursIn</td>\n",
       "      <td>{211125:Discussion:25}</td>\n",
       "    </tr>\n",
       "    <tr>\n",
       "      <th>211373</th>\n",
       "      <td>OccursIn</td>\n",
       "      <td>{211373:Introduction:3, 211373:Introduction:5,...</td>\n",
       "    </tr>\n",
       "    <tr>\n",
       "      <th>214924</th>\n",
       "      <td>OccursIn</td>\n",
       "      <td>{214924:The Interplay Between Covid-19 And Amp...</td>\n",
       "    </tr>\n",
       "  </tbody>\n",
       "</table>\n",
       "<p>551 rows × 2 columns</p>\n",
       "</div>"
      ],
      "text/plain": [
       "                                 @type  \\\n",
       "@source_id        @target_id             \n",
       "ace inhibitor     184360      OccursIn   \n",
       "                  197804      OccursIn   \n",
       "acetaminophen     179426      OccursIn   \n",
       "                  197804      OccursIn   \n",
       "acute lung injury 179426      OccursIn   \n",
       "...                                ...   \n",
       "virus             184360      OccursIn   \n",
       "                  197804      OccursIn   \n",
       "                  211125      OccursIn   \n",
       "                  211373      OccursIn   \n",
       "                  214924      OccursIn   \n",
       "\n",
       "                                                                      paragraph  \n",
       "@source_id        @target_id                                                     \n",
       "ace inhibitor     184360      {184360:Caption:68, 184360:Aceis And Arbs ::: ...  \n",
       "                  197804      {197804:Caption:71, 197804:Caption:72, 197804:...  \n",
       "acetaminophen     179426      {179426:Blood Glucose Monitoring ::: Special A...  \n",
       "                  197804      {197804:Discussion:52, 197804:Discussion:51, 1...  \n",
       "acute lung injury 179426      {179426:Role Of Ace/Arbs ::: Special Aspects O...  \n",
       "...                                                                         ...  \n",
       "virus             184360      {184360:Sdpp4 As Soluble Decoy Factor ::: Ther...  \n",
       "                  197804          {197804:Introduction:2, 197804:Discussion:44}  \n",
       "                  211125                                 {211125:Discussion:25}  \n",
       "                  211373      {211373:Introduction:3, 211373:Introduction:5,...  \n",
       "                  214924      {214924:The Interplay Between Covid-19 And Amp...  \n",
       "\n",
       "[551 rows x 2 columns]"
      ]
     },
     "execution_count": 14,
     "metadata": {},
     "output_type": "execute_result"
    }
   ],
   "source": [
    "graph.edges(raw_frame=True)"
   ]
  },
  {
   "cell_type": "markdown",
   "metadata": {},
   "source": [
    "## II. Entity co-occurrence graphs"
   ]
  },
  {
   "cell_type": "markdown",
   "metadata": {},
   "source": [
    "We will generate co-occurrence graphs for different occurrence factors (paper/paragraph), i.e. an edge between a pair of entities is added if they co-occur in the same paper or paragraph."
   ]
  },
  {
   "cell_type": "markdown",
   "metadata": {},
   "source": [
    "**NB: Some statistics computed during the co-occurrence analysis**\n",
    "\n",
    "- `ppmi`: _positive pointwise mutual information (PPMI)_ is defined as $PPMI(x, y) = \\log_2{\\frac{p(x, y)}{p(x)p(y)}} $, if $p(x) \\neq 0$ and $p(y) \\neq 0$, and $PPMI(x, y) = 0$ otherwise.\n",
    "\n",
    "- `npmi`: _normalized pointwise mutual information (NPMI)_ is defined as $NPMI(x, y) = \\frac{PPMI(x, y)}{-\\log_2{p(x, y)}} $."
   ]
  },
  {
   "cell_type": "markdown",
   "metadata": {},
   "source": [
    "### Paper-based co-occurrence\n",
    "\n",
    "We first generate co-occurrence network from edges of type `OccursIn` linking entities and papers."
   ]
  },
  {
   "cell_type": "code",
   "execution_count": 15,
   "metadata": {},
   "outputs": [],
   "source": [
    "gen = CooccurrenceGenerator(graph)\n",
    "paper_cooccurrence_edges = gen.generate_from_edges(\n",
    "     \"OccursIn\", compute_statistics=[\"frequency\", \"ppmi\", \"npmi\"])"
   ]
  },
  {
   "cell_type": "code",
   "execution_count": 16,
   "metadata": {
    "scrolled": true
   },
   "outputs": [
    {
     "data": {
      "text/html": [
       "<div>\n",
       "<style scoped>\n",
       "    .dataframe tbody tr th:only-of-type {\n",
       "        vertical-align: middle;\n",
       "    }\n",
       "\n",
       "    .dataframe tbody tr th {\n",
       "        vertical-align: top;\n",
       "    }\n",
       "\n",
       "    .dataframe thead th {\n",
       "        text-align: right;\n",
       "    }\n",
       "</style>\n",
       "<table border=\"1\" class=\"dataframe\">\n",
       "  <thead>\n",
       "    <tr style=\"text-align: right;\">\n",
       "      <th></th>\n",
       "      <th></th>\n",
       "      <th>common_factors</th>\n",
       "      <th>frequency</th>\n",
       "      <th>ppmi</th>\n",
       "      <th>npmi</th>\n",
       "      <th>@type</th>\n",
       "    </tr>\n",
       "    <tr>\n",
       "      <th>@source_id</th>\n",
       "      <th>@target_id</th>\n",
       "      <th></th>\n",
       "      <th></th>\n",
       "      <th></th>\n",
       "      <th></th>\n",
       "      <th></th>\n",
       "    </tr>\n",
       "  </thead>\n",
       "  <tbody>\n",
       "    <tr>\n",
       "      <th rowspan=\"5\" valign=\"top\">ace inhibitor</th>\n",
       "      <th>acetaminophen</th>\n",
       "      <td>{197804}</td>\n",
       "      <td>1</td>\n",
       "      <td>2.321928</td>\n",
       "      <td>0.537244</td>\n",
       "      <td>CoOccursWith</td>\n",
       "    </tr>\n",
       "    <tr>\n",
       "      <th>acute lung injury</th>\n",
       "      <td>{197804, 184360}</td>\n",
       "      <td>2</td>\n",
       "      <td>2.321928</td>\n",
       "      <td>0.698970</td>\n",
       "      <td>CoOccursWith</td>\n",
       "    </tr>\n",
       "    <tr>\n",
       "      <th>acute respiratory distress syndrome</th>\n",
       "      <td>{197804, 184360}</td>\n",
       "      <td>2</td>\n",
       "      <td>1.736966</td>\n",
       "      <td>0.522879</td>\n",
       "      <td>CoOccursWith</td>\n",
       "    </tr>\n",
       "    <tr>\n",
       "      <th>adenosine</th>\n",
       "      <td>{184360}</td>\n",
       "      <td>1</td>\n",
       "      <td>2.321928</td>\n",
       "      <td>0.537244</td>\n",
       "      <td>CoOccursWith</td>\n",
       "    </tr>\n",
       "    <tr>\n",
       "      <th>adipose tissue</th>\n",
       "      <td>{197804, 184360}</td>\n",
       "      <td>2</td>\n",
       "      <td>2.736966</td>\n",
       "      <td>0.823909</td>\n",
       "      <td>CoOccursWith</td>\n",
       "    </tr>\n",
       "    <tr>\n",
       "      <th>...</th>\n",
       "      <th>...</th>\n",
       "      <td>...</td>\n",
       "      <td>...</td>\n",
       "      <td>...</td>\n",
       "      <td>...</td>\n",
       "      <td>...</td>\n",
       "    </tr>\n",
       "    <tr>\n",
       "      <th rowspan=\"2\" valign=\"top\">viral</th>\n",
       "      <th>viral infection</th>\n",
       "      <td>{214924, 184360, 211125, 211373}</td>\n",
       "      <td>4</td>\n",
       "      <td>2.000000</td>\n",
       "      <td>0.861353</td>\n",
       "      <td>CoOccursWith</td>\n",
       "    </tr>\n",
       "    <tr>\n",
       "      <th>virus</th>\n",
       "      <td>{214924, 184360, 179426, 211373, 211125}</td>\n",
       "      <td>5</td>\n",
       "      <td>1.514573</td>\n",
       "      <td>0.757287</td>\n",
       "      <td>CoOccursWith</td>\n",
       "    </tr>\n",
       "    <tr>\n",
       "      <th rowspan=\"2\" valign=\"top\">viral entry</th>\n",
       "      <th>viral infection</th>\n",
       "      <td>{214924}</td>\n",
       "      <td>1</td>\n",
       "      <td>1.321928</td>\n",
       "      <td>0.305865</td>\n",
       "      <td>CoOccursWith</td>\n",
       "    </tr>\n",
       "    <tr>\n",
       "      <th>virus</th>\n",
       "      <td>{214924, 179426}</td>\n",
       "      <td>2</td>\n",
       "      <td>1.514573</td>\n",
       "      <td>0.455932</td>\n",
       "      <td>CoOccursWith</td>\n",
       "    </tr>\n",
       "    <tr>\n",
       "      <th>viral infection</th>\n",
       "      <th>virus</th>\n",
       "      <td>{214924, 184360, 211125, 211373}</td>\n",
       "      <td>4</td>\n",
       "      <td>1.514573</td>\n",
       "      <td>0.652291</td>\n",
       "      <td>CoOccursWith</td>\n",
       "    </tr>\n",
       "  </tbody>\n",
       "</table>\n",
       "<p>9748 rows × 5 columns</p>\n",
       "</div>"
      ],
      "text/plain": [
       "                                                                               common_factors  \\\n",
       "@source_id      @target_id                                                                      \n",
       "ace inhibitor   acetaminophen                                                        {197804}   \n",
       "                acute lung injury                                            {197804, 184360}   \n",
       "                acute respiratory distress syndrome                          {197804, 184360}   \n",
       "                adenosine                                                            {184360}   \n",
       "                adipose tissue                                               {197804, 184360}   \n",
       "...                                                                                       ...   \n",
       "viral           viral infection                              {214924, 184360, 211125, 211373}   \n",
       "                virus                                {214924, 184360, 179426, 211373, 211125}   \n",
       "viral entry     viral infection                                                      {214924}   \n",
       "                virus                                                        {214924, 179426}   \n",
       "viral infection virus                                        {214924, 184360, 211125, 211373}   \n",
       "\n",
       "                                                     frequency      ppmi  \\\n",
       "@source_id      @target_id                                                 \n",
       "ace inhibitor   acetaminophen                                1  2.321928   \n",
       "                acute lung injury                            2  2.321928   \n",
       "                acute respiratory distress syndrome          2  1.736966   \n",
       "                adenosine                                    1  2.321928   \n",
       "                adipose tissue                               2  2.736966   \n",
       "...                                                        ...       ...   \n",
       "viral           viral infection                              4  2.000000   \n",
       "                virus                                        5  1.514573   \n",
       "viral entry     viral infection                              1  1.321928   \n",
       "                virus                                        2  1.514573   \n",
       "viral infection virus                                        4  1.514573   \n",
       "\n",
       "                                                         npmi         @type  \n",
       "@source_id      @target_id                                                   \n",
       "ace inhibitor   acetaminophen                        0.537244  CoOccursWith  \n",
       "                acute lung injury                    0.698970  CoOccursWith  \n",
       "                acute respiratory distress syndrome  0.522879  CoOccursWith  \n",
       "                adenosine                            0.537244  CoOccursWith  \n",
       "                adipose tissue                       0.823909  CoOccursWith  \n",
       "...                                                       ...           ...  \n",
       "viral           viral infection                      0.861353  CoOccursWith  \n",
       "                virus                                0.757287  CoOccursWith  \n",
       "viral entry     viral infection                      0.305865  CoOccursWith  \n",
       "                virus                                0.455932  CoOccursWith  \n",
       "viral infection virus                                0.652291  CoOccursWith  \n",
       "\n",
       "[9748 rows x 5 columns]"
      ]
     },
     "execution_count": 16,
     "metadata": {},
     "output_type": "execute_result"
    }
   ],
   "source": [
    "paper_cooccurrence_edges[\"@type\"] = \"CoOccursWith\"\n",
    "paper_cooccurrence_edges"
   ]
  },
  {
   "cell_type": "markdown",
   "metadata": {},
   "source": [
    "From the generated edges we remove the ones with zero NPMI scores."
   ]
  },
  {
   "cell_type": "code",
   "execution_count": 17,
   "metadata": {},
   "outputs": [],
   "source": [
    "paper_cooccurrence_edges = paper_cooccurrence_edges[paper_cooccurrence_edges[\"npmi\"] != 0]"
   ]
  },
  {
   "cell_type": "code",
   "execution_count": 18,
   "metadata": {},
   "outputs": [],
   "source": [
    "entity_nodes = graph.nodes_of_type(\"Entity\").copy()"
   ]
  },
  {
   "cell_type": "code",
   "execution_count": 19,
   "metadata": {},
   "outputs": [],
   "source": [
    "paper_frequency = mentions.groupby(\"entity\").aggregate(set)[\"paper\"].apply(len)\n",
    "paper_frequency.name = \"paper_frequency\"\n",
    "\n",
    "entity_nodes[\"paper_frequency\"] = paper_frequency"
   ]
  },
  {
   "cell_type": "markdown",
   "metadata": {},
   "source": [
    "We create a new property graph object from generated edges and entity nodes as follows:"
   ]
  },
  {
   "cell_type": "code",
   "execution_count": 20,
   "metadata": {},
   "outputs": [],
   "source": [
    "paper_network = PandasPGFrame.from_frames(\n",
    "    nodes=entity_nodes,\n",
    "    edges=paper_cooccurrence_edges,\n",
    "    node_prop_types={\n",
    "        \"paper_frequency\": \"numeric\",\n",
    "        \"paragraph_frequency\": \"numeric\"\n",
    "    },\n",
    "    edge_prop_types={\n",
    "        \"frequency\": \"numeric\",\n",
    "        \"ppmi\": \"numeric\",\n",
    "        \"npmi\": \"numeric\"\n",
    "    })"
   ]
  },
  {
   "cell_type": "code",
   "execution_count": 21,
   "metadata": {},
   "outputs": [
    {
     "data": {
      "text/html": [
       "<div>\n",
       "<style scoped>\n",
       "    .dataframe tbody tr th:only-of-type {\n",
       "        vertical-align: middle;\n",
       "    }\n",
       "\n",
       "    .dataframe tbody tr th {\n",
       "        vertical-align: top;\n",
       "    }\n",
       "\n",
       "    .dataframe thead th {\n",
       "        text-align: right;\n",
       "    }\n",
       "</style>\n",
       "<table border=\"1\" class=\"dataframe\">\n",
       "  <thead>\n",
       "    <tr style=\"text-align: right;\">\n",
       "      <th></th>\n",
       "      <th></th>\n",
       "      <th>common_factors</th>\n",
       "      <th>frequency</th>\n",
       "      <th>ppmi</th>\n",
       "      <th>npmi</th>\n",
       "      <th>@type</th>\n",
       "    </tr>\n",
       "    <tr>\n",
       "      <th>@source_id</th>\n",
       "      <th>@target_id</th>\n",
       "      <th></th>\n",
       "      <th></th>\n",
       "      <th></th>\n",
       "      <th></th>\n",
       "      <th></th>\n",
       "    </tr>\n",
       "  </thead>\n",
       "  <tbody>\n",
       "    <tr>\n",
       "      <th>heart</th>\n",
       "      <th>severe acute respiratory syndrome</th>\n",
       "      <td>{184360}</td>\n",
       "      <td>1</td>\n",
       "      <td>0.415037</td>\n",
       "      <td>0.096031</td>\n",
       "      <td>CoOccursWith</td>\n",
       "    </tr>\n",
       "    <tr>\n",
       "      <th>glyburide</th>\n",
       "      <th>hcp</th>\n",
       "      <td>{197804}</td>\n",
       "      <td>1</td>\n",
       "      <td>0.152003</td>\n",
       "      <td>0.035170</td>\n",
       "      <td>CoOccursWith</td>\n",
       "    </tr>\n",
       "    <tr>\n",
       "      <th>molecule</th>\n",
       "      <th>person</th>\n",
       "      <td>{184360}</td>\n",
       "      <td>1</td>\n",
       "      <td>1.321928</td>\n",
       "      <td>0.305865</td>\n",
       "      <td>CoOccursWith</td>\n",
       "    </tr>\n",
       "    <tr>\n",
       "      <th>immune cell</th>\n",
       "      <th>lung</th>\n",
       "      <td>{184360, 211373}</td>\n",
       "      <td>2</td>\n",
       "      <td>1.736966</td>\n",
       "      <td>0.522879</td>\n",
       "      <td>CoOccursWith</td>\n",
       "    </tr>\n",
       "    <tr>\n",
       "      <th>acute respiratory distress syndrome</th>\n",
       "      <th>c-c motif chemokine 1</th>\n",
       "      <td>{214924, 184360}</td>\n",
       "      <td>2</td>\n",
       "      <td>1.736966</td>\n",
       "      <td>0.522879</td>\n",
       "      <td>CoOccursWith</td>\n",
       "    </tr>\n",
       "  </tbody>\n",
       "</table>\n",
       "</div>"
      ],
      "text/plain": [
       "                                                                         common_factors  \\\n",
       "@source_id                          @target_id                                            \n",
       "heart                               severe acute respiratory syndrome          {184360}   \n",
       "glyburide                           hcp                                        {197804}   \n",
       "molecule                            person                                     {184360}   \n",
       "immune cell                         lung                               {184360, 211373}   \n",
       "acute respiratory distress syndrome c-c motif chemokine 1              {214924, 184360}   \n",
       "\n",
       "                                                                       frequency  \\\n",
       "@source_id                          @target_id                                     \n",
       "heart                               severe acute respiratory syndrome          1   \n",
       "glyburide                           hcp                                        1   \n",
       "molecule                            person                                     1   \n",
       "immune cell                         lung                                       2   \n",
       "acute respiratory distress syndrome c-c motif chemokine 1                      2   \n",
       "\n",
       "                                                                           ppmi  \\\n",
       "@source_id                          @target_id                                    \n",
       "heart                               severe acute respiratory syndrome  0.415037   \n",
       "glyburide                           hcp                                0.152003   \n",
       "molecule                            person                             1.321928   \n",
       "immune cell                         lung                               1.736966   \n",
       "acute respiratory distress syndrome c-c motif chemokine 1              1.736966   \n",
       "\n",
       "                                                                           npmi  \\\n",
       "@source_id                          @target_id                                    \n",
       "heart                               severe acute respiratory syndrome  0.096031   \n",
       "glyburide                           hcp                                0.035170   \n",
       "molecule                            person                             0.305865   \n",
       "immune cell                         lung                               0.522879   \n",
       "acute respiratory distress syndrome c-c motif chemokine 1              0.522879   \n",
       "\n",
       "                                                                              @type  \n",
       "@source_id                          @target_id                                       \n",
       "heart                               severe acute respiratory syndrome  CoOccursWith  \n",
       "glyburide                           hcp                                CoOccursWith  \n",
       "molecule                            person                             CoOccursWith  \n",
       "immune cell                         lung                               CoOccursWith  \n",
       "acute respiratory distress syndrome c-c motif chemokine 1              CoOccursWith  "
      ]
     },
     "execution_count": 21,
     "metadata": {},
     "output_type": "execute_result"
    }
   ],
   "source": [
    "paper_network.edges(raw_frame=True).sample(5)"
   ]
  },
  {
   "cell_type": "code",
   "execution_count": 22,
   "metadata": {},
   "outputs": [
    {
     "data": {
      "text/html": [
       "<div>\n",
       "<style scoped>\n",
       "    .dataframe tbody tr th:only-of-type {\n",
       "        vertical-align: middle;\n",
       "    }\n",
       "\n",
       "    .dataframe tbody tr th {\n",
       "        vertical-align: top;\n",
       "    }\n",
       "\n",
       "    .dataframe thead th {\n",
       "        text-align: right;\n",
       "    }\n",
       "</style>\n",
       "<table border=\"1\" class=\"dataframe\">\n",
       "  <thead>\n",
       "    <tr style=\"text-align: right;\">\n",
       "      <th></th>\n",
       "      <th>@type</th>\n",
       "      <th>paper_frequency</th>\n",
       "    </tr>\n",
       "    <tr>\n",
       "      <th>@id</th>\n",
       "      <th></th>\n",
       "      <th></th>\n",
       "    </tr>\n",
       "  </thead>\n",
       "  <tbody>\n",
       "    <tr>\n",
       "      <th>dyspnea</th>\n",
       "      <td>Entity</td>\n",
       "      <td>2</td>\n",
       "    </tr>\n",
       "    <tr>\n",
       "      <th>cardiovascular disorder</th>\n",
       "      <td>Entity</td>\n",
       "      <td>4</td>\n",
       "    </tr>\n",
       "    <tr>\n",
       "      <th>m protein</th>\n",
       "      <td>Entity</td>\n",
       "      <td>2</td>\n",
       "    </tr>\n",
       "    <tr>\n",
       "      <th>adenosine</th>\n",
       "      <td>Entity</td>\n",
       "      <td>2</td>\n",
       "    </tr>\n",
       "    <tr>\n",
       "      <th>acetaminophen</th>\n",
       "      <td>Entity</td>\n",
       "      <td>2</td>\n",
       "    </tr>\n",
       "  </tbody>\n",
       "</table>\n",
       "</div>"
      ],
      "text/plain": [
       "                          @type  paper_frequency\n",
       "@id                                             \n",
       "dyspnea                  Entity                2\n",
       "cardiovascular disorder  Entity                4\n",
       "m protein                Entity                2\n",
       "adenosine                Entity                2\n",
       "acetaminophen            Entity                2"
      ]
     },
     "execution_count": 22,
     "metadata": {},
     "output_type": "execute_result"
    }
   ],
   "source": [
    "paper_network.nodes(raw_frame=True).sample(5)"
   ]
  },
  {
   "cell_type": "markdown",
   "metadata": {},
   "source": [
    "### Paragraph-based co-occurrence\n",
    "\n",
    "We perform similar operation for paragraph-level co-occurrence. In order to use another co-occurrence factor, we will define the following 'factor_aggregator' function (`aggregate_paragraph`) that takes a collection of sets of paragraphs and merges them into the same set. This aggregator will be used to collect sets of common paragraphs of `OccursIn` edges pointing from a pair of entities to the same paper."
   ]
  },
  {
   "cell_type": "code",
   "execution_count": 23,
   "metadata": {},
   "outputs": [],
   "source": [
    "def aggregate_paragraphs(data):\n",
    "    return set(sum(data[\"paragraph\"].apply(list), []))"
   ]
  },
  {
   "cell_type": "code",
   "execution_count": 24,
   "metadata": {},
   "outputs": [
    {
     "name": "stdout",
     "output_type": "stream",
     "text": [
      "CPU times: user 73.5 ms, sys: 61.1 ms, total: 135 ms\n",
      "Wall time: 3.93 s\n"
     ]
    }
   ],
   "source": [
    "%%time\n",
    "paragraph_cooccurrence_edges = gen.generate_from_edges(\n",
    "     \"OccursIn\", \n",
    "    factor_aggregator=aggregate_paragraphs,\n",
    "    compute_statistics=[\"frequency\", \"ppmi\", \"npmi\"],\n",
    "    parallelize=True, cores=8)"
   ]
  },
  {
   "cell_type": "code",
   "execution_count": 25,
   "metadata": {
    "scrolled": true
   },
   "outputs": [
    {
     "data": {
      "text/html": [
       "<div>\n",
       "<style scoped>\n",
       "    .dataframe tbody tr th:only-of-type {\n",
       "        vertical-align: middle;\n",
       "    }\n",
       "\n",
       "    .dataframe tbody tr th {\n",
       "        vertical-align: top;\n",
       "    }\n",
       "\n",
       "    .dataframe thead th {\n",
       "        text-align: right;\n",
       "    }\n",
       "</style>\n",
       "<table border=\"1\" class=\"dataframe\">\n",
       "  <thead>\n",
       "    <tr style=\"text-align: right;\">\n",
       "      <th></th>\n",
       "      <th></th>\n",
       "      <th>common_factors</th>\n",
       "      <th>frequency</th>\n",
       "      <th>ppmi</th>\n",
       "      <th>npmi</th>\n",
       "      <th>@type</th>\n",
       "    </tr>\n",
       "    <tr>\n",
       "      <th>@source_id</th>\n",
       "      <th>@target_id</th>\n",
       "      <th></th>\n",
       "      <th></th>\n",
       "      <th></th>\n",
       "      <th></th>\n",
       "      <th></th>\n",
       "    </tr>\n",
       "  </thead>\n",
       "  <tbody>\n",
       "    <tr>\n",
       "      <th>hyperglycemia</th>\n",
       "      <th>sars-cov-2</th>\n",
       "      <td>{211125:Discussion:25, 214924:Angiotensin-Conv...</td>\n",
       "      <td>2</td>\n",
       "      <td>0.000000</td>\n",
       "      <td>0.000000</td>\n",
       "      <td>CoOccursWith</td>\n",
       "    </tr>\n",
       "    <tr>\n",
       "      <th>cardiovascular disorder</th>\n",
       "      <th>sars-cov-2</th>\n",
       "      <td>{214924:Diabetes Mellitus: A Risk Factor For T...</td>\n",
       "      <td>4</td>\n",
       "      <td>0.567041</td>\n",
       "      <td>0.092513</td>\n",
       "      <td>CoOccursWith</td>\n",
       "    </tr>\n",
       "    <tr>\n",
       "      <th>glyburide</th>\n",
       "      <th>glycosylated hemoglobin measurement</th>\n",
       "      <td>{179426:Association Of Diabetes With Acute Vir...</td>\n",
       "      <td>1</td>\n",
       "      <td>2.020759</td>\n",
       "      <td>0.248578</td>\n",
       "      <td>CoOccursWith</td>\n",
       "    </tr>\n",
       "    <tr>\n",
       "      <th>cardiovascular disorder</th>\n",
       "      <th>cerebrovascular</th>\n",
       "      <td>{214924:Diabetes Mellitus: A Risk Factor For T...</td>\n",
       "      <td>1</td>\n",
       "      <td>3.544321</td>\n",
       "      <td>0.435994</td>\n",
       "      <td>CoOccursWith</td>\n",
       "    </tr>\n",
       "    <tr>\n",
       "      <th>hypertension</th>\n",
       "      <th>nephropathy</th>\n",
       "      <td>{197804:Management Of Children And Young Peopl...</td>\n",
       "      <td>1</td>\n",
       "      <td>2.669851</td>\n",
       "      <td>0.328424</td>\n",
       "      <td>CoOccursWith</td>\n",
       "    </tr>\n",
       "  </tbody>\n",
       "</table>\n",
       "</div>"
      ],
      "text/plain": [
       "                                                                                                common_factors  \\\n",
       "@source_id              @target_id                                                                               \n",
       "hyperglycemia           sars-cov-2                           {211125:Discussion:25, 214924:Angiotensin-Conv...   \n",
       "cardiovascular disorder sars-cov-2                           {214924:Diabetes Mellitus: A Risk Factor For T...   \n",
       "glyburide               glycosylated hemoglobin measurement  {179426:Association Of Diabetes With Acute Vir...   \n",
       "cardiovascular disorder cerebrovascular                      {214924:Diabetes Mellitus: A Risk Factor For T...   \n",
       "hypertension            nephropathy                          {197804:Management Of Children And Young Peopl...   \n",
       "\n",
       "                                                             frequency  \\\n",
       "@source_id              @target_id                                       \n",
       "hyperglycemia           sars-cov-2                                   2   \n",
       "cardiovascular disorder sars-cov-2                                   4   \n",
       "glyburide               glycosylated hemoglobin measurement          1   \n",
       "cardiovascular disorder cerebrovascular                              1   \n",
       "hypertension            nephropathy                                  1   \n",
       "\n",
       "                                                                 ppmi  \\\n",
       "@source_id              @target_id                                      \n",
       "hyperglycemia           sars-cov-2                           0.000000   \n",
       "cardiovascular disorder sars-cov-2                           0.567041   \n",
       "glyburide               glycosylated hemoglobin measurement  2.020759   \n",
       "cardiovascular disorder cerebrovascular                      3.544321   \n",
       "hypertension            nephropathy                          2.669851   \n",
       "\n",
       "                                                                 npmi  \\\n",
       "@source_id              @target_id                                      \n",
       "hyperglycemia           sars-cov-2                           0.000000   \n",
       "cardiovascular disorder sars-cov-2                           0.092513   \n",
       "glyburide               glycosylated hemoglobin measurement  0.248578   \n",
       "cardiovascular disorder cerebrovascular                      0.435994   \n",
       "hypertension            nephropathy                          0.328424   \n",
       "\n",
       "                                                                    @type  \n",
       "@source_id              @target_id                                         \n",
       "hyperglycemia           sars-cov-2                           CoOccursWith  \n",
       "cardiovascular disorder sars-cov-2                           CoOccursWith  \n",
       "glyburide               glycosylated hemoglobin measurement  CoOccursWith  \n",
       "cardiovascular disorder cerebrovascular                      CoOccursWith  \n",
       "hypertension            nephropathy                          CoOccursWith  "
      ]
     },
     "execution_count": 25,
     "metadata": {},
     "output_type": "execute_result"
    }
   ],
   "source": [
    "paragraph_cooccurrence_edges[\"@type\"] = \"CoOccursWith\"\n",
    "paragraph_cooccurrence_edges.sample(5)"
   ]
  },
  {
   "cell_type": "markdown",
   "metadata": {},
   "source": [
    "From the generated edges we remove the ones with zero NPMI scores."
   ]
  },
  {
   "cell_type": "code",
   "execution_count": 26,
   "metadata": {},
   "outputs": [],
   "source": [
    "paragraph_cooccurrence_edges = paragraph_cooccurrence_edges[paragraph_cooccurrence_edges[\"npmi\"] != 0]"
   ]
  },
  {
   "cell_type": "code",
   "execution_count": 27,
   "metadata": {},
   "outputs": [],
   "source": [
    "paragraph_network = PandasPGFrame.from_frames(\n",
    "    nodes=entity_nodes,\n",
    "    edges=paragraph_cooccurrence_edges,\n",
    "    node_prop_types={\n",
    "        \"paper_frequency\": \"numeric\",\n",
    "    },\n",
    "    edge_prop_types={\n",
    "        \"frequency\": \"numeric\",\n",
    "        \"ppmi\": \"numeric\",\n",
    "        \"npmi\": \"numeric\"\n",
    "    })"
   ]
  },
  {
   "cell_type": "markdown",
   "metadata": {},
   "source": [
    "### Faster paragraph-based co-occurrence"
   ]
  },
  {
   "cell_type": "markdown",
   "metadata": {},
   "source": [
    "Alternatively, to generate paragraph-level co-occurrence network, we can assign sets of paragraphs where entities occur as properties of their respective nodes (as follows)."
   ]
  },
  {
   "cell_type": "code",
   "execution_count": 28,
   "metadata": {},
   "outputs": [
    {
     "data": {
      "text/html": [
       "<div>\n",
       "<style scoped>\n",
       "    .dataframe tbody tr th:only-of-type {\n",
       "        vertical-align: middle;\n",
       "    }\n",
       "\n",
       "    .dataframe tbody tr th {\n",
       "        vertical-align: top;\n",
       "    }\n",
       "\n",
       "    .dataframe thead th {\n",
       "        text-align: right;\n",
       "    }\n",
       "</style>\n",
       "<table border=\"1\" class=\"dataframe\">\n",
       "  <thead>\n",
       "    <tr style=\"text-align: right;\">\n",
       "      <th></th>\n",
       "      <th>@type</th>\n",
       "      <th>paragraphs</th>\n",
       "    </tr>\n",
       "    <tr>\n",
       "      <th>@id</th>\n",
       "      <th></th>\n",
       "      <th></th>\n",
       "    </tr>\n",
       "  </thead>\n",
       "  <tbody>\n",
       "    <tr>\n",
       "      <th>diarrhea, ctcae</th>\n",
       "      <td>Entity</td>\n",
       "      <td>{211125:General Characteristics Of Patients Wi...</td>\n",
       "    </tr>\n",
       "    <tr>\n",
       "      <th>197804</th>\n",
       "      <td>Paper</td>\n",
       "      <td>NaN</td>\n",
       "    </tr>\n",
       "    <tr>\n",
       "      <th>cough</th>\n",
       "      <td>Entity</td>\n",
       "      <td>{197804:Introduction:2, 214924:Introduction:6,...</td>\n",
       "    </tr>\n",
       "    <tr>\n",
       "      <th>nephropathy</th>\n",
       "      <td>Entity</td>\n",
       "      <td>{214924:Angiotensin-Converting Enzyme 2 Expres...</td>\n",
       "    </tr>\n",
       "    <tr>\n",
       "      <th>cardiac failure</th>\n",
       "      <td>Entity</td>\n",
       "      <td>{184360:Caption:71, 211125:Study Design And Pa...</td>\n",
       "    </tr>\n",
       "  </tbody>\n",
       "</table>\n",
       "</div>"
      ],
      "text/plain": [
       "                  @type                                         paragraphs\n",
       "@id                                                                       \n",
       "diarrhea, ctcae  Entity  {211125:General Characteristics Of Patients Wi...\n",
       "197804            Paper                                                NaN\n",
       "cough            Entity  {197804:Introduction:2, 214924:Introduction:6,...\n",
       "nephropathy      Entity  {214924:Angiotensin-Converting Enzyme 2 Expres...\n",
       "cardiac failure  Entity  {184360:Caption:71, 211125:Study Design And Pa..."
      ]
     },
     "execution_count": 28,
     "metadata": {},
     "output_type": "execute_result"
    }
   ],
   "source": [
    "paragraph_prop = pd.DataFrame({\"paragraphs\": mentions.groupby(\"entity\").aggregate(set)[\"paragraph\"]})\n",
    "graph.add_node_properties(paragraph_prop, prop_type=\"category\")\n",
    "graph.nodes(raw_frame=True).sample(5)"
   ]
  },
  {
   "cell_type": "markdown",
   "metadata": {},
   "source": [
    "And then use the `generate_from_nodes` method of `CooccurrenceGenerator` in order to generate co-occurrence edges for nodes whose `paragraphs` property has a non-empty intersection."
   ]
  },
  {
   "cell_type": "code",
   "execution_count": 29,
   "metadata": {},
   "outputs": [
    {
     "name": "stdout",
     "output_type": "stream",
     "text": [
      "CPU times: user 68 ms, sys: 56.4 ms, total: 124 ms\n",
      "Wall time: 880 ms\n"
     ]
    }
   ],
   "source": [
    "%%time\n",
    "generator = CooccurrenceGenerator(graph)\n",
    "paragraph_cooccurrence_edges = generator.generate_from_nodes(\n",
    "    \"paragraphs\", total_factor_instances=len(mentions.paragraph.unique()),\n",
    "    compute_statistics=[\"frequency\", \"npmi\"],\n",
    "    parallelize=True, cores=8)"
   ]
  },
  {
   "cell_type": "markdown",
   "metadata": {},
   "source": [
    "### Additional co-occurrence measures: NPMI-based distance\n",
    "\n",
    "For both paper- and paragraph-based networks we will compute a mutual-information-based distance as follows:\n",
    "$D = \\frac{1}{NPMI}$."
   ]
  },
  {
   "cell_type": "code",
   "execution_count": 30,
   "metadata": {},
   "outputs": [],
   "source": [
    "import math\n",
    "\n",
    "def compute_distance(x):\n",
    "    return 1 / x if x > 0 else math.inf"
   ]
  },
  {
   "cell_type": "code",
   "execution_count": 31,
   "metadata": {},
   "outputs": [],
   "source": [
    "npmi_distance = paper_network.edges(raw_frame=True)[\"npmi\"].apply(compute_distance)\n",
    "npmi_distance.name = \"distance_npmi\"\n",
    "paper_network.add_edge_properties(npmi_distance, \"numeric\")"
   ]
  },
  {
   "cell_type": "code",
   "execution_count": 32,
   "metadata": {},
   "outputs": [
    {
     "data": {
      "text/html": [
       "<div>\n",
       "<style scoped>\n",
       "    .dataframe tbody tr th:only-of-type {\n",
       "        vertical-align: middle;\n",
       "    }\n",
       "\n",
       "    .dataframe tbody tr th {\n",
       "        vertical-align: top;\n",
       "    }\n",
       "\n",
       "    .dataframe thead th {\n",
       "        text-align: right;\n",
       "    }\n",
       "</style>\n",
       "<table border=\"1\" class=\"dataframe\">\n",
       "  <thead>\n",
       "    <tr style=\"text-align: right;\">\n",
       "      <th></th>\n",
       "      <th></th>\n",
       "      <th>common_factors</th>\n",
       "      <th>frequency</th>\n",
       "      <th>ppmi</th>\n",
       "      <th>npmi</th>\n",
       "      <th>@type</th>\n",
       "      <th>distance_npmi</th>\n",
       "    </tr>\n",
       "    <tr>\n",
       "      <th>@source_id</th>\n",
       "      <th>@target_id</th>\n",
       "      <th></th>\n",
       "      <th></th>\n",
       "      <th></th>\n",
       "      <th></th>\n",
       "      <th></th>\n",
       "      <th></th>\n",
       "    </tr>\n",
       "  </thead>\n",
       "  <tbody>\n",
       "    <tr>\n",
       "      <th>chemokine</th>\n",
       "      <th>hmg-coa reductase inhibitor</th>\n",
       "      <td>{214924, 179426}</td>\n",
       "      <td>2</td>\n",
       "      <td>2.736966</td>\n",
       "      <td>0.823909</td>\n",
       "      <td>CoOccursWith</td>\n",
       "      <td>1.213727</td>\n",
       "    </tr>\n",
       "    <tr>\n",
       "      <th>pneumonia</th>\n",
       "      <th>transmembrane protein</th>\n",
       "      <td>{184360, 179426}</td>\n",
       "      <td>2</td>\n",
       "      <td>1.321928</td>\n",
       "      <td>0.397940</td>\n",
       "      <td>CoOccursWith</td>\n",
       "      <td>2.512942</td>\n",
       "    </tr>\n",
       "    <tr>\n",
       "      <th>ace inhibitor</th>\n",
       "      <th>obesity</th>\n",
       "      <td>{184360}</td>\n",
       "      <td>1</td>\n",
       "      <td>1.321928</td>\n",
       "      <td>0.305865</td>\n",
       "      <td>CoOccursWith</td>\n",
       "      <td>3.269412</td>\n",
       "    </tr>\n",
       "    <tr>\n",
       "      <th>interleukin 1 beta measurement</th>\n",
       "      <th>sulfonylurea antidiabetic agent</th>\n",
       "      <td>{184360}</td>\n",
       "      <td>1</td>\n",
       "      <td>2.321928</td>\n",
       "      <td>0.537244</td>\n",
       "      <td>CoOccursWith</td>\n",
       "      <td>1.861353</td>\n",
       "    </tr>\n",
       "    <tr>\n",
       "      <th>glucose metabolism disorder</th>\n",
       "      <th>nephropathy</th>\n",
       "      <td>{197804, 214924}</td>\n",
       "      <td>2</td>\n",
       "      <td>2.321928</td>\n",
       "      <td>0.698970</td>\n",
       "      <td>CoOccursWith</td>\n",
       "      <td>1.430677</td>\n",
       "    </tr>\n",
       "  </tbody>\n",
       "</table>\n",
       "</div>"
      ],
      "text/plain": [
       "                                                                  common_factors  \\\n",
       "@source_id                     @target_id                                          \n",
       "chemokine                      hmg-coa reductase inhibitor      {214924, 179426}   \n",
       "pneumonia                      transmembrane protein            {184360, 179426}   \n",
       "ace inhibitor                  obesity                                  {184360}   \n",
       "interleukin 1 beta measurement sulfonylurea antidiabetic agent          {184360}   \n",
       "glucose metabolism disorder    nephropathy                      {197804, 214924}   \n",
       "\n",
       "                                                                frequency  \\\n",
       "@source_id                     @target_id                                   \n",
       "chemokine                      hmg-coa reductase inhibitor              2   \n",
       "pneumonia                      transmembrane protein                    2   \n",
       "ace inhibitor                  obesity                                  1   \n",
       "interleukin 1 beta measurement sulfonylurea antidiabetic agent          1   \n",
       "glucose metabolism disorder    nephropathy                              2   \n",
       "\n",
       "                                                                    ppmi  \\\n",
       "@source_id                     @target_id                                  \n",
       "chemokine                      hmg-coa reductase inhibitor      2.736966   \n",
       "pneumonia                      transmembrane protein            1.321928   \n",
       "ace inhibitor                  obesity                          1.321928   \n",
       "interleukin 1 beta measurement sulfonylurea antidiabetic agent  2.321928   \n",
       "glucose metabolism disorder    nephropathy                      2.321928   \n",
       "\n",
       "                                                                    npmi  \\\n",
       "@source_id                     @target_id                                  \n",
       "chemokine                      hmg-coa reductase inhibitor      0.823909   \n",
       "pneumonia                      transmembrane protein            0.397940   \n",
       "ace inhibitor                  obesity                          0.305865   \n",
       "interleukin 1 beta measurement sulfonylurea antidiabetic agent  0.537244   \n",
       "glucose metabolism disorder    nephropathy                      0.698970   \n",
       "\n",
       "                                                                       @type  \\\n",
       "@source_id                     @target_id                                      \n",
       "chemokine                      hmg-coa reductase inhibitor      CoOccursWith   \n",
       "pneumonia                      transmembrane protein            CoOccursWith   \n",
       "ace inhibitor                  obesity                          CoOccursWith   \n",
       "interleukin 1 beta measurement sulfonylurea antidiabetic agent  CoOccursWith   \n",
       "glucose metabolism disorder    nephropathy                      CoOccursWith   \n",
       "\n",
       "                                                                distance_npmi  \n",
       "@source_id                     @target_id                                      \n",
       "chemokine                      hmg-coa reductase inhibitor           1.213727  \n",
       "pneumonia                      transmembrane protein                 2.512942  \n",
       "ace inhibitor                  obesity                               3.269412  \n",
       "interleukin 1 beta measurement sulfonylurea antidiabetic agent       1.861353  \n",
       "glucose metabolism disorder    nephropathy                           1.430677  "
      ]
     },
     "execution_count": 32,
     "metadata": {},
     "output_type": "execute_result"
    }
   ],
   "source": [
    "paper_network.edges(raw_frame=True).sample(5)"
   ]
  },
  {
   "cell_type": "code",
   "execution_count": 33,
   "metadata": {},
   "outputs": [],
   "source": [
    "npmi_distance = paragraph_network.edges(raw_frame=True)[\"npmi\"].apply(compute_distance)\n",
    "npmi_distance.name = \"distance_npmi\"\n",
    "paragraph_network.add_edge_properties(npmi_distance, \"numeric\")"
   ]
  },
  {
   "cell_type": "code",
   "execution_count": 34,
   "metadata": {},
   "outputs": [
    {
     "data": {
      "text/html": [
       "<div>\n",
       "<style scoped>\n",
       "    .dataframe tbody tr th:only-of-type {\n",
       "        vertical-align: middle;\n",
       "    }\n",
       "\n",
       "    .dataframe tbody tr th {\n",
       "        vertical-align: top;\n",
       "    }\n",
       "\n",
       "    .dataframe thead th {\n",
       "        text-align: right;\n",
       "    }\n",
       "</style>\n",
       "<table border=\"1\" class=\"dataframe\">\n",
       "  <thead>\n",
       "    <tr style=\"text-align: right;\">\n",
       "      <th></th>\n",
       "      <th></th>\n",
       "      <th>common_factors</th>\n",
       "      <th>frequency</th>\n",
       "      <th>ppmi</th>\n",
       "      <th>npmi</th>\n",
       "      <th>@type</th>\n",
       "      <th>distance_npmi</th>\n",
       "    </tr>\n",
       "    <tr>\n",
       "      <th>@source_id</th>\n",
       "      <th>@target_id</th>\n",
       "      <th></th>\n",
       "      <th></th>\n",
       "      <th></th>\n",
       "      <th></th>\n",
       "      <th></th>\n",
       "      <th></th>\n",
       "    </tr>\n",
       "  </thead>\n",
       "  <tbody>\n",
       "    <tr>\n",
       "      <th>hypoxia</th>\n",
       "      <th>tissue</th>\n",
       "      <td>{214924, 184360}</td>\n",
       "      <td>2</td>\n",
       "      <td>2.736966</td>\n",
       "      <td>0.823909</td>\n",
       "      <td>CoOccursWith</td>\n",
       "      <td>1.213727</td>\n",
       "    </tr>\n",
       "    <tr>\n",
       "      <th>islet of langerhans</th>\n",
       "      <th>proliferation</th>\n",
       "      <td>{211125}</td>\n",
       "      <td>1</td>\n",
       "      <td>1.736966</td>\n",
       "      <td>0.401896</td>\n",
       "      <td>CoOccursWith</td>\n",
       "      <td>2.488206</td>\n",
       "    </tr>\n",
       "    <tr>\n",
       "      <th>chronic disease</th>\n",
       "      <th>middle east respiratory syndrome</th>\n",
       "      <td>{179426}</td>\n",
       "      <td>1</td>\n",
       "      <td>1.321928</td>\n",
       "      <td>0.305865</td>\n",
       "      <td>CoOccursWith</td>\n",
       "      <td>3.269412</td>\n",
       "    </tr>\n",
       "    <tr>\n",
       "      <th>saxagliptin</th>\n",
       "      <th>tissue</th>\n",
       "      <td>{184360}</td>\n",
       "      <td>1</td>\n",
       "      <td>1.736966</td>\n",
       "      <td>0.401896</td>\n",
       "      <td>CoOccursWith</td>\n",
       "      <td>2.488206</td>\n",
       "    </tr>\n",
       "    <tr>\n",
       "      <th>heart</th>\n",
       "      <th>hmg-coa reductase inhibitor</th>\n",
       "      <td>{214924}</td>\n",
       "      <td>1</td>\n",
       "      <td>1.000000</td>\n",
       "      <td>0.231378</td>\n",
       "      <td>CoOccursWith</td>\n",
       "      <td>4.321928</td>\n",
       "    </tr>\n",
       "  </tbody>\n",
       "</table>\n",
       "</div>"
      ],
      "text/plain": [
       "                                                        common_factors  \\\n",
       "@source_id          @target_id                                           \n",
       "hypoxia             tissue                            {214924, 184360}   \n",
       "islet of langerhans proliferation                             {211125}   \n",
       "chronic disease     middle east respiratory syndrome          {179426}   \n",
       "saxagliptin         tissue                                    {184360}   \n",
       "heart               hmg-coa reductase inhibitor               {214924}   \n",
       "\n",
       "                                                      frequency      ppmi  \\\n",
       "@source_id          @target_id                                              \n",
       "hypoxia             tissue                                    2  2.736966   \n",
       "islet of langerhans proliferation                             1  1.736966   \n",
       "chronic disease     middle east respiratory syndrome          1  1.321928   \n",
       "saxagliptin         tissue                                    1  1.736966   \n",
       "heart               hmg-coa reductase inhibitor               1  1.000000   \n",
       "\n",
       "                                                          npmi         @type  \\\n",
       "@source_id          @target_id                                                 \n",
       "hypoxia             tissue                            0.823909  CoOccursWith   \n",
       "islet of langerhans proliferation                     0.401896  CoOccursWith   \n",
       "chronic disease     middle east respiratory syndrome  0.305865  CoOccursWith   \n",
       "saxagliptin         tissue                            0.401896  CoOccursWith   \n",
       "heart               hmg-coa reductase inhibitor       0.231378  CoOccursWith   \n",
       "\n",
       "                                                      distance_npmi  \n",
       "@source_id          @target_id                                       \n",
       "hypoxia             tissue                                 1.213727  \n",
       "islet of langerhans proliferation                          2.488206  \n",
       "chronic disease     middle east respiratory syndrome       3.269412  \n",
       "saxagliptin         tissue                                 2.488206  \n",
       "heart               hmg-coa reductase inhibitor            4.321928  "
      ]
     },
     "execution_count": 34,
     "metadata": {},
     "output_type": "execute_result"
    }
   ],
   "source": [
    "paper_network.edges(raw_frame=True).sample(5)"
   ]
  },
  {
   "cell_type": "markdown",
   "metadata": {},
   "source": [
    "## III. Nearest neighours by co-occurrence scores"
   ]
  },
  {
   "cell_type": "markdown",
   "metadata": {},
   "source": [
    "To illustrate the importance of computing mutual-information-based scores over raw frequencies consider the following example, where we would like to estimate top closest (most related) neighbors to a specific term.\n",
    "\n",
    "To do so, we will use the paragraph-based network and the raw co-occurrence frequency as the weight of our co-occurrence relation. The `top_neighbors` method of the `PathFinder` interface provided by the BlueGraph allows us to search for top neighbors with the highest edge weight. In this example, we use `graph_tool`-based `GTPathFinder` interface."
   ]
  },
  {
   "cell_type": "code",
   "execution_count": 35,
   "metadata": {},
   "outputs": [],
   "source": [
    "paragraph_path_finder = GTPathFinder(paragraph_network, directed=False)"
   ]
  },
  {
   "cell_type": "markdown",
   "metadata": {},
   "source": [
    "Observe in the following cell that the path finder interface generated a backend-specific graph object."
   ]
  },
  {
   "cell_type": "code",
   "execution_count": 36,
   "metadata": {},
   "outputs": [
    {
     "data": {
      "text/plain": [
       "<Graph object, undirected, with 157 vertices and 2479 edges, 3 internal vertex properties, 6 internal edge properties, at 0x7f91201c7dd0>"
      ]
     },
     "execution_count": 36,
     "metadata": {},
     "output_type": "execute_result"
    }
   ],
   "source": [
    "paragraph_path_finder.graph"
   ]
  },
  {
   "cell_type": "code",
   "execution_count": 37,
   "metadata": {},
   "outputs": [
    {
     "data": {
      "text/plain": [
       "{'diabetes mellitus': 29.0,\n",
       " 'blood': 18.0,\n",
       " 'insulin': 11.0,\n",
       " 'death': 9.0,\n",
       " 'hyperglycemia': 8.0,\n",
       " 'coronavirus': 8.0,\n",
       " 'infectious disorder': 6.0,\n",
       " 'inflammation': 6.0,\n",
       " 'sars coronavirus': 6.0,\n",
       " 'interleukin-6': 5.0}"
      ]
     },
     "execution_count": 37,
     "metadata": {},
     "output_type": "execute_result"
    }
   ],
   "source": [
    "paragraph_path_finder.top_neighbors(\"glucose\", 10, weight=\"frequency\")"
   ]
  },
  {
   "cell_type": "code",
   "execution_count": 38,
   "metadata": {},
   "outputs": [
    {
     "data": {
      "text/plain": [
       "{'covid-19': 24.0,\n",
       " 'angiotensin-converting enzyme 2': 16.0,\n",
       " 'sars-cov-2': 13.0,\n",
       " 'acute lung injury': 12.0,\n",
       " 'pulmonary': 10.0,\n",
       " 'sars coronavirus': 10.0,\n",
       " 'viral': 9.0,\n",
       " 'human': 9.0,\n",
       " 'mouse': 7.0,\n",
       " 'inflammation': 6.0}"
      ]
     },
     "execution_count": 38,
     "metadata": {},
     "output_type": "execute_result"
    }
   ],
   "source": [
    "paragraph_path_finder.top_neighbors(\"lung\", 10, weight=\"frequency\")"
   ]
  },
  {
   "cell_type": "markdown",
   "metadata": {},
   "source": [
    "We observe that 'glucose' and 'lung' share a lot of the closest neighbors by raw frequency. If we look into the list of top 10 entities by paragraph frequency in the entire corpus and we notice that 'glucose' and 'blood' co-occur the most with the terms that are simply the most frequent in our corpus, such as 'covid-19' and 'diabetes mellitus'.\n",
    "\n",
    "(Closest inspection of the distribution of weighted node degrees suggests that the network contains _hubs_, nodes with significantly high-degree connectivity to other nodes.)"
   ]
  },
  {
   "cell_type": "code",
   "execution_count": 39,
   "metadata": {},
   "outputs": [
    {
     "data": {
      "text/html": [
       "<div>\n",
       "<style scoped>\n",
       "    .dataframe tbody tr th:only-of-type {\n",
       "        vertical-align: middle;\n",
       "    }\n",
       "\n",
       "    .dataframe tbody tr th {\n",
       "        vertical-align: top;\n",
       "    }\n",
       "\n",
       "    .dataframe thead th {\n",
       "        text-align: right;\n",
       "    }\n",
       "</style>\n",
       "<table border=\"1\" class=\"dataframe\">\n",
       "  <thead>\n",
       "    <tr style=\"text-align: right;\">\n",
       "      <th></th>\n",
       "      <th>@type</th>\n",
       "      <th>paper_frequency</th>\n",
       "    </tr>\n",
       "    <tr>\n",
       "      <th>@id</th>\n",
       "      <th></th>\n",
       "      <th></th>\n",
       "    </tr>\n",
       "  </thead>\n",
       "  <tbody>\n",
       "    <tr>\n",
       "      <th>ace inhibitor</th>\n",
       "      <td>Entity</td>\n",
       "      <td>2</td>\n",
       "    </tr>\n",
       "    <tr>\n",
       "      <th>acetaminophen</th>\n",
       "      <td>Entity</td>\n",
       "      <td>2</td>\n",
       "    </tr>\n",
       "    <tr>\n",
       "      <th>acute lung injury</th>\n",
       "      <td>Entity</td>\n",
       "      <td>4</td>\n",
       "    </tr>\n",
       "    <tr>\n",
       "      <th>acute respiratory distress syndrome</th>\n",
       "      <td>Entity</td>\n",
       "      <td>6</td>\n",
       "    </tr>\n",
       "    <tr>\n",
       "      <th>adenosine</th>\n",
       "      <td>Entity</td>\n",
       "      <td>2</td>\n",
       "    </tr>\n",
       "    <tr>\n",
       "      <th>...</th>\n",
       "      <td>...</td>\n",
       "      <td>...</td>\n",
       "    </tr>\n",
       "    <tr>\n",
       "      <th>vildagliptin</th>\n",
       "      <td>Entity</td>\n",
       "      <td>2</td>\n",
       "    </tr>\n",
       "    <tr>\n",
       "      <th>viral</th>\n",
       "      <td>Entity</td>\n",
       "      <td>5</td>\n",
       "    </tr>\n",
       "    <tr>\n",
       "      <th>viral entry</th>\n",
       "      <td>Entity</td>\n",
       "      <td>2</td>\n",
       "    </tr>\n",
       "    <tr>\n",
       "      <th>viral infection</th>\n",
       "      <td>Entity</td>\n",
       "      <td>4</td>\n",
       "    </tr>\n",
       "    <tr>\n",
       "      <th>virus</th>\n",
       "      <td>Entity</td>\n",
       "      <td>7</td>\n",
       "    </tr>\n",
       "  </tbody>\n",
       "</table>\n",
       "<p>157 rows × 2 columns</p>\n",
       "</div>"
      ],
      "text/plain": [
       "                                      @type  paper_frequency\n",
       "@id                                                         \n",
       "ace inhibitor                        Entity                2\n",
       "acetaminophen                        Entity                2\n",
       "acute lung injury                    Entity                4\n",
       "acute respiratory distress syndrome  Entity                6\n",
       "adenosine                            Entity                2\n",
       "...                                     ...              ...\n",
       "vildagliptin                         Entity                2\n",
       "viral                                Entity                5\n",
       "viral entry                          Entity                2\n",
       "viral infection                      Entity                4\n",
       "virus                                Entity                7\n",
       "\n",
       "[157 rows x 2 columns]"
      ]
     },
     "execution_count": 39,
     "metadata": {},
     "output_type": "execute_result"
    }
   ],
   "source": [
    "paragraph_network._nodes"
   ]
  },
  {
   "cell_type": "code",
   "execution_count": 40,
   "metadata": {},
   "outputs": [
    {
     "data": {
      "text/html": [
       "<div>\n",
       "<style scoped>\n",
       "    .dataframe tbody tr th:only-of-type {\n",
       "        vertical-align: middle;\n",
       "    }\n",
       "\n",
       "    .dataframe tbody tr th {\n",
       "        vertical-align: top;\n",
       "    }\n",
       "\n",
       "    .dataframe thead th {\n",
       "        text-align: right;\n",
       "    }\n",
       "</style>\n",
       "<table border=\"1\" class=\"dataframe\">\n",
       "  <thead>\n",
       "    <tr style=\"text-align: right;\">\n",
       "      <th></th>\n",
       "      <th>@type</th>\n",
       "      <th>paper_frequency</th>\n",
       "    </tr>\n",
       "    <tr>\n",
       "      <th>@id</th>\n",
       "      <th></th>\n",
       "      <th></th>\n",
       "    </tr>\n",
       "  </thead>\n",
       "  <tbody>\n",
       "    <tr>\n",
       "      <th>covid-19</th>\n",
       "      <td>Entity</td>\n",
       "      <td>20</td>\n",
       "    </tr>\n",
       "    <tr>\n",
       "      <th>diabetes mellitus</th>\n",
       "      <td>Entity</td>\n",
       "      <td>19</td>\n",
       "    </tr>\n",
       "    <tr>\n",
       "      <th>coronavirus</th>\n",
       "      <td>Entity</td>\n",
       "      <td>16</td>\n",
       "    </tr>\n",
       "    <tr>\n",
       "      <th>glucose</th>\n",
       "      <td>Entity</td>\n",
       "      <td>13</td>\n",
       "    </tr>\n",
       "    <tr>\n",
       "      <th>death</th>\n",
       "      <td>Entity</td>\n",
       "      <td>9</td>\n",
       "    </tr>\n",
       "    <tr>\n",
       "      <th>glyburide</th>\n",
       "      <td>Entity</td>\n",
       "      <td>9</td>\n",
       "    </tr>\n",
       "    <tr>\n",
       "      <th>infectious disorder</th>\n",
       "      <td>Entity</td>\n",
       "      <td>9</td>\n",
       "    </tr>\n",
       "    <tr>\n",
       "      <th>blood</th>\n",
       "      <td>Entity</td>\n",
       "      <td>8</td>\n",
       "    </tr>\n",
       "    <tr>\n",
       "      <th>hyperglycemia</th>\n",
       "      <td>Entity</td>\n",
       "      <td>8</td>\n",
       "    </tr>\n",
       "    <tr>\n",
       "      <th>pneumonia</th>\n",
       "      <td>Entity</td>\n",
       "      <td>8</td>\n",
       "    </tr>\n",
       "  </tbody>\n",
       "</table>\n",
       "</div>"
      ],
      "text/plain": [
       "                      @type  paper_frequency\n",
       "@id                                         \n",
       "covid-19             Entity               20\n",
       "diabetes mellitus    Entity               19\n",
       "coronavirus          Entity               16\n",
       "glucose              Entity               13\n",
       "death                Entity                9\n",
       "glyburide            Entity                9\n",
       "infectious disorder  Entity                9\n",
       "blood                Entity                8\n",
       "hyperglycemia        Entity                8\n",
       "pneumonia            Entity                8"
      ]
     },
     "execution_count": 40,
     "metadata": {},
     "output_type": "execute_result"
    }
   ],
   "source": [
    "paragraph_network.nodes(raw_frame=True).nlargest(10, columns=[\"paper_frequency\"])"
   ]
  },
  {
   "cell_type": "markdown",
   "metadata": {},
   "source": [
    "To account for the presence of such hubs, we use the mutual-information-based scores presented above. They 'balance' the influence of the highly connected hub nodes such as 'covid-19' and 'diabetes mellitus' in our example."
   ]
  },
  {
   "cell_type": "code",
   "execution_count": 41,
   "metadata": {},
   "outputs": [
    {
     "data": {
      "text/plain": [
       "{'blood': 0.5133209650995287,\n",
       " 'glucose metabolism disorder': 0.43558951200762297,\n",
       " 'insulin': 0.41957609533629175,\n",
       " 'thrombophilia': 0.4079646453270325,\n",
       " 'insulin infusion': 0.3744908698338857,\n",
       " 'leukopenia': 0.3744908698338857,\n",
       " 'millimole per liter': 0.3744908698338857,\n",
       " 'troponin t, cardiac muscle': 0.3744908698338857,\n",
       " 'bals r': 0.3744908698338857,\n",
       " 'hyperglycemia': 0.3255525953220345}"
      ]
     },
     "execution_count": 41,
     "metadata": {},
     "output_type": "execute_result"
    }
   ],
   "source": [
    "paragraph_path_finder.top_neighbors(\"glucose\", 10, weight=\"npmi\")"
   ]
  },
  {
   "cell_type": "code",
   "execution_count": 42,
   "metadata": {
    "scrolled": true
   },
   "outputs": [
    {
     "data": {
      "text/plain": [
       "{'acute lung injury': 0.731006557092012,\n",
       " 'pulmonary': 0.6362945400636919,\n",
       " 'angiotensin-converting enzyme 2': 0.4757184436640079,\n",
       " 'receptor binding': 0.46595542454855043,\n",
       " 'viral infection': 0.4465392749200213,\n",
       " 'animal': 0.4465392749200213,\n",
       " 'mouse': 0.4362945258726772,\n",
       " 'angiotensin-1': 0.4259996541516483,\n",
       " 'viral': 0.4233482775367079,\n",
       " 'human': 0.4098154380746763}"
      ]
     },
     "execution_count": 42,
     "metadata": {},
     "output_type": "execute_result"
    }
   ],
   "source": [
    "paragraph_path_finder.top_neighbors(\"lung\", 10, weight=\"npmi\")"
   ]
  },
  {
   "cell_type": "markdown",
   "metadata": {},
   "source": [
    "## IV. Graph metrics and centrality measures\n",
    "\n",
    "BlueGraph provides the `MetricProcessor` interface for computing various graph statistics. As in the previous example, we will use `graph_tool`-based `GTMetricProcessor` interface."
   ]
  },
  {
   "cell_type": "code",
   "execution_count": 43,
   "metadata": {},
   "outputs": [],
   "source": [
    "paper_metrics = GTMetricProcessor(paper_network, directed=False)\n",
    "paragraph_metrics = GTMetricProcessor(paragraph_network, directed=False)"
   ]
  },
  {
   "cell_type": "markdown",
   "metadata": {},
   "source": [
    "### Graph density"
   ]
  },
  {
   "cell_type": "markdown",
   "metadata": {},
   "source": [
    "Density of a graph is quantified by the proportion of all possible edges ($n(n-1) / 2$ for the undirected graph with $n$ nodes) that are realized."
   ]
  },
  {
   "cell_type": "code",
   "execution_count": 44,
   "metadata": {},
   "outputs": [
    {
     "name": "stdout",
     "output_type": "stream",
     "text": [
      "Density of the paper-based network:  0.7769884043769394\n",
      "Density of the paragraph-based network:  0.20243344765637758\n"
     ]
    }
   ],
   "source": [
    "print(\"Density of the paper-based network: \", paper_metrics.density())\n",
    "print(\"Density of the paragraph-based network: \", paragraph_metrics.density())"
   ]
  },
  {
   "cell_type": "markdown",
   "metadata": {},
   "source": [
    "The results above show that in the paper, section and paragraph network repsectively 80%, 42% and 22% of all possible term pairs co-occur at least once."
   ]
  },
  {
   "cell_type": "markdown",
   "metadata": {},
   "source": [
    "### Node centrality (importance) measures\n",
    "\n",
    "In this example we will compute the Degree and PageRank centralities only for the raw frequency, and the Betweenness centrality for the mutual-information-based scores. We will use methods provided by the `MetricProcessor` interface in the _write_ mode, i.e. computed metrics will be written as node properties of the underlying graph object."
   ]
  },
  {
   "cell_type": "markdown",
   "metadata": {},
   "source": [
    "_Degree centrality_ is given by the sum of weights of all incident edges of the given node and characterizes the importance of the node in the network in terms of its connectivity to other nodes (high degree = high connectivity)."
   ]
  },
  {
   "cell_type": "code",
   "execution_count": 45,
   "metadata": {},
   "outputs": [],
   "source": [
    "paragraph_metrics.degree_centrality(\"frequency\", write=True, write_property=\"degree\")"
   ]
  },
  {
   "cell_type": "markdown",
   "metadata": {},
   "source": [
    "_PageRank centrality_ is another measure that estimated the importance of the given node in the network. Roughly speaking it can be interpreted as the probablity that having landed on a random node in the network we will jump to the given node (here the edge weights are taken into account\").\n",
    "\n",
    "https://en.wikipedia.org/wiki/PageRank"
   ]
  },
  {
   "cell_type": "code",
   "execution_count": 46,
   "metadata": {},
   "outputs": [],
   "source": [
    "paragraph_metrics.pagerank_centrality(\"frequency\", write=True, write_property=\"pagerank\")"
   ]
  },
  {
   "cell_type": "markdown",
   "metadata": {},
   "source": [
    "We then compute the betweenness centrality based on the NPMI distances.\n",
    "\n",
    "_Betweenness centrality_ is a node importance measure that estimates how often a shortest path between a pair of nodes will pass through the given node."
   ]
  },
  {
   "cell_type": "code",
   "execution_count": 47,
   "metadata": {},
   "outputs": [],
   "source": [
    "paragraph_metrics.betweenness_centrality(\"distance_npmi\", write=True, write_property=\"betweenness\")"
   ]
  },
  {
   "cell_type": "markdown",
   "metadata": {},
   "source": [
    "We can inspect the underlying graph object and observe the newly added properties:"
   ]
  },
  {
   "cell_type": "code",
   "execution_count": 48,
   "metadata": {},
   "outputs": [
    {
     "data": {
      "text/plain": [
       "<generator object PropertyDict.iterkeys at 0x7f91205ee750>"
      ]
     },
     "execution_count": 48,
     "metadata": {},
     "output_type": "execute_result"
    }
   ],
   "source": [
    "paragraph_metrics.graph.vp.keys()"
   ]
  },
  {
   "cell_type": "markdown",
   "metadata": {},
   "source": [
    "Now, we will export this backend-specific graph object into a `PGFrame`."
   ]
  },
  {
   "cell_type": "code",
   "execution_count": 49,
   "metadata": {},
   "outputs": [],
   "source": [
    "new_paragraph_network = paragraph_metrics.get_pgframe()"
   ]
  },
  {
   "cell_type": "code",
   "execution_count": 50,
   "metadata": {},
   "outputs": [
    {
     "data": {
      "text/html": [
       "<div>\n",
       "<style scoped>\n",
       "    .dataframe tbody tr th:only-of-type {\n",
       "        vertical-align: middle;\n",
       "    }\n",
       "\n",
       "    .dataframe tbody tr th {\n",
       "        vertical-align: top;\n",
       "    }\n",
       "\n",
       "    .dataframe thead th {\n",
       "        text-align: right;\n",
       "    }\n",
       "</style>\n",
       "<table border=\"1\" class=\"dataframe\">\n",
       "  <thead>\n",
       "    <tr style=\"text-align: right;\">\n",
       "      <th></th>\n",
       "      <th>@type</th>\n",
       "      <th>paper_frequency</th>\n",
       "      <th>degree</th>\n",
       "      <th>pagerank</th>\n",
       "      <th>betweenness</th>\n",
       "    </tr>\n",
       "    <tr>\n",
       "      <th>@id</th>\n",
       "      <th></th>\n",
       "      <th></th>\n",
       "      <th></th>\n",
       "      <th></th>\n",
       "      <th></th>\n",
       "    </tr>\n",
       "  </thead>\n",
       "  <tbody>\n",
       "    <tr>\n",
       "      <th>metformin</th>\n",
       "      <td>Entity</td>\n",
       "      <td>2.0</td>\n",
       "      <td>39.0</td>\n",
       "      <td>0.004052</td>\n",
       "      <td>0.004425</td>\n",
       "    </tr>\n",
       "    <tr>\n",
       "      <th>blood</th>\n",
       "      <td>Entity</td>\n",
       "      <td>8.0</td>\n",
       "      <td>115.0</td>\n",
       "      <td>0.010854</td>\n",
       "      <td>0.010339</td>\n",
       "    </tr>\n",
       "    <tr>\n",
       "      <th>tumor necrosis factor</th>\n",
       "      <td>Entity</td>\n",
       "      <td>3.0</td>\n",
       "      <td>56.0</td>\n",
       "      <td>0.005504</td>\n",
       "      <td>0.016805</td>\n",
       "    </tr>\n",
       "    <tr>\n",
       "      <th>immune cell</th>\n",
       "      <td>Entity</td>\n",
       "      <td>2.0</td>\n",
       "      <td>27.0</td>\n",
       "      <td>0.003499</td>\n",
       "      <td>0.010008</td>\n",
       "    </tr>\n",
       "    <tr>\n",
       "      <th>plasma</th>\n",
       "      <td>Entity</td>\n",
       "      <td>3.0</td>\n",
       "      <td>57.0</td>\n",
       "      <td>0.005320</td>\n",
       "      <td>0.009967</td>\n",
       "    </tr>\n",
       "  </tbody>\n",
       "</table>\n",
       "</div>"
      ],
      "text/plain": [
       "                        @type  paper_frequency  degree  pagerank  betweenness\n",
       "@id                                                                          \n",
       "metformin              Entity              2.0    39.0  0.004052     0.004425\n",
       "blood                  Entity              8.0   115.0  0.010854     0.010339\n",
       "tumor necrosis factor  Entity              3.0    56.0  0.005504     0.016805\n",
       "immune cell            Entity              2.0    27.0  0.003499     0.010008\n",
       "plasma                 Entity              3.0    57.0  0.005320     0.009967"
      ]
     },
     "execution_count": 50,
     "metadata": {},
     "output_type": "execute_result"
    }
   ],
   "source": [
    "new_paragraph_network.nodes(raw_frame=True).sample(5)"
   ]
  },
  {
   "cell_type": "code",
   "execution_count": 51,
   "metadata": {},
   "outputs": [
    {
     "name": "stdout",
     "output_type": "stream",
     "text": [
      "Top 10 nodes by degree\n",
      "\t covid-19\n",
      "\t diabetes mellitus\n",
      "\t sars-cov-2\n",
      "\t angiotensin-converting enzyme 2\n",
      "\t lung\n",
      "\t coronavirus\n",
      "\t dipeptidyl peptidase 4\n",
      "\t glucose\n",
      "\t sars coronavirus\n",
      "\t interleukin-6\n"
     ]
    }
   ],
   "source": [
    "print(\"Top 10 nodes by degree\")\n",
    "for n in new_paragraph_network.nodes(raw_frame=True).nlargest(10, columns=[\"degree\"]).index:\n",
    "    print(\"\\t\", n)"
   ]
  },
  {
   "cell_type": "code",
   "execution_count": 52,
   "metadata": {},
   "outputs": [
    {
     "name": "stdout",
     "output_type": "stream",
     "text": [
      "Top 10 nodes by PageRank\n",
      "\t covid-19\n",
      "\t diabetes mellitus\n",
      "\t sars-cov-2\n",
      "\t angiotensin-converting enzyme 2\n",
      "\t lung\n",
      "\t dipeptidyl peptidase 4\n",
      "\t glucose\n",
      "\t coronavirus\n",
      "\t sars coronavirus\n",
      "\t interleukin-6\n"
     ]
    }
   ],
   "source": [
    "print(\"Top 10 nodes by PageRank\")\n",
    "for n in new_paragraph_network.nodes(raw_frame=True).nlargest(10, columns=[\"pagerank\"]).index:\n",
    "    print(\"\\t\", n)"
   ]
  },
  {
   "cell_type": "code",
   "execution_count": 53,
   "metadata": {},
   "outputs": [
    {
     "name": "stdout",
     "output_type": "stream",
     "text": [
      "Top 10 nodes by betweenness\n",
      "\t lymphopenia\n",
      "\t pulmonary\n",
      "\t glucose metabolism disorder\n",
      "\t t-lymphocyte\n",
      "\t cough\n",
      "\t chemokine\n",
      "\t d-dimer measurement\n",
      "\t kidney\n",
      "\t interleukin-19\n",
      "\t ibuprofen\n"
     ]
    }
   ],
   "source": [
    "print(\"Top 10 nodes by betweenness\")\n",
    "for n in new_paragraph_network.nodes(raw_frame=True).nlargest(10, columns=[\"betweenness\"]).index:\n",
    "    print(\"\\t\", n)"
   ]
  },
  {
   "cell_type": "markdown",
   "metadata": {},
   "source": [
    "### Compute multiple metrics in one go"
   ]
  },
  {
   "cell_type": "markdown",
   "metadata": {},
   "source": [
    "Alternatively, we can compute all the metrics in one go. To do so, we need to specify edge attributes used for computing different metrics (if an empty list is specified as a weight list for a metric, computation of this metric is not performed). \n",
    "\n",
    "We select the paragraph-based network and re-compute all some of the previously illustrated metrics as follows:"
   ]
  },
  {
   "cell_type": "code",
   "execution_count": 54,
   "metadata": {
    "scrolled": false
   },
   "outputs": [],
   "source": [
    "result_metrics = paragraph_metrics.compute_all_node_metrics(\n",
    "    degree_weights=[\"frequency\"],\n",
    "    pagerank_weights=[\"frequency\"],\n",
    "    betweenness_weights=[\"distance_npmi\"])"
   ]
  },
  {
   "cell_type": "code",
   "execution_count": 55,
   "metadata": {},
   "outputs": [
    {
     "data": {
      "text/plain": [
       "{'degree': {'frequency': {'ace inhibitor': 39.0,\n",
       "   'acetaminophen': 5.0,\n",
       "   'acute lung injury': 128.0,\n",
       "   'acute respiratory distress syndrome': 139.0,\n",
       "   'adenosine': 22.0,\n",
       "   'adipose tissue': 27.0,\n",
       "   'angioedema': 20.0,\n",
       "   'angiotensin ii receptor antagonist': 85.0,\n",
       "   'angiotensin-1': 70.0,\n",
       "   'angiotensin-2': 18.0,\n",
       "   'angiotensin-converting enzyme': 13.0,\n",
       "   'angiotensin-converting enzyme 2': 329.0,\n",
       "   'animal': 47.0,\n",
       "   'apoptosis': 18.0,\n",
       "   'bals r': 6.0,\n",
       "   'basal': 34.0,\n",
       "   'blood': 115.0,\n",
       "   'blood vessel': 28.0,\n",
       "   'bradykinin': 18.0,\n",
       "   'c-c motif chemokine 1': 47.0,\n",
       "   'c-reactive protein': 31.0,\n",
       "   'cardiac failure': 17.0,\n",
       "   'cardiovascular disorder': 107.0,\n",
       "   'cardiovascular system': 115.0,\n",
       "   'cd44 antigen': 46.0,\n",
       "   'cellular secretion': 47.0,\n",
       "   'cerebrovascular': 18.0,\n",
       "   'chemokine': 43.0,\n",
       "   'chest pain': 21.0,\n",
       "   'chloroquine': 7.0,\n",
       "   'chronic disease': 12.0,\n",
       "   'chronic kidney disease': 18.0,\n",
       "   'comorbidity': 19.0,\n",
       "   'confounding factors': 26.0,\n",
       "   'coronaviridae': 54.0,\n",
       "   'coronavirus': 231.0,\n",
       "   'cough': 51.0,\n",
       "   'covid-19': 701.0,\n",
       "   'cytokine': 141.0,\n",
       "   'd-dimer measurement': 87.0,\n",
       "   'death': 194.0,\n",
       "   'degradation': 24.0,\n",
       "   'diabetes mellitus': 489.0,\n",
       "   'diabetic ketoacidosis': 46.0,\n",
       "   'diarrhea, ctcae': 35.0,\n",
       "   'dipeptidyl peptidase 4': 217.0,\n",
       "   'dna replication': 67.0,\n",
       "   'dpp4i': 92.0,\n",
       "   'dyspnea': 23.0,\n",
       "   'extracellular matrix': 14.0,\n",
       "   'fatigue': 23.0,\n",
       "   'fever': 40.0,\n",
       "   'glucose': 215.0,\n",
       "   'glucose metabolism disorder': 56.0,\n",
       "   'glyburide': 151.0,\n",
       "   'glycosylated hemoglobin measurement': 27.0,\n",
       "   'growth factor': 22.0,\n",
       "   'h1n1': 16.0,\n",
       "   'hcp': 25.0,\n",
       "   'headache': 24.0,\n",
       "   'heart': 107.0,\n",
       "   'heart failure': 17.0,\n",
       "   'high sensitivity c-reactive protein measurement': 52.0,\n",
       "   'hiv entry inhibitor': 59.0,\n",
       "   'hmg-coa reductase inhibitor': 18.0,\n",
       "   'host cell': 57.0,\n",
       "   'human': 169.0,\n",
       "   'human dpp4': 22.0,\n",
       "   'human immunodeficiency virus': 39.0,\n",
       "   'human kidney organoids': 17.0,\n",
       "   'humoral immunity': 19.0,\n",
       "   'hyperglycemia': 110.0,\n",
       "   'hypertension': 159.0,\n",
       "   'hypoxia': 15.0,\n",
       "   'ibuprofen': 23.0,\n",
       "   'immune cell': 27.0,\n",
       "   'immune response process': 34.0,\n",
       "   'infectious disorder': 194.0,\n",
       "   'inflammation': 154.0,\n",
       "   'influenza': 27.0,\n",
       "   'insulin': 100.0,\n",
       "   'insulin infusion': 13.0,\n",
       "   'insulin resistance': 65.0,\n",
       "   'interleukin': 18.0,\n",
       "   'interleukin 1 beta measurement': 78.0,\n",
       "   'interleukin-19': 56.0,\n",
       "   'interleukin-6': 209.0,\n",
       "   'interleukin-8': 35.0,\n",
       "   'islet of langerhans': 18.0,\n",
       "   'iv': 4.0,\n",
       "   'janus bifrons': 4.0,\n",
       "   'kidney': 89.0,\n",
       "   'leucopenia': 18.0,\n",
       "   'leukopenia': 26.0,\n",
       "   'liver': 42.0,\n",
       "   'lower respiratory tract infection': 43.0,\n",
       "   'lung': 259.0,\n",
       "   'lymphocyte': 50.0,\n",
       "   'lymphopenia': 55.0,\n",
       "   'm protein': 11.0,\n",
       "   'macrophage': 40.0,\n",
       "   'mellitus': 2.0,\n",
       "   'metformin': 39.0,\n",
       "   'middle east respiratory syndrome': 67.0,\n",
       "   'middle east respiratory syndrome coronavirus': 171.0,\n",
       "   'millimole per liter': 16.0,\n",
       "   'molecule': 20.0,\n",
       "   'mouse': 140.0,\n",
       "   'multi-organ dysfunction': 23.0,\n",
       "   'muscle': 13.0,\n",
       "   'myalgia': 9.0,\n",
       "   'myocardium': 17.0,\n",
       "   'neoplasm': 26.0,\n",
       "   'nephropathy': 12.0,\n",
       "   'neutrophil': 66.0,\n",
       "   'obesity': 92.0,\n",
       "   'oral cavity': 57.0,\n",
       "   'organ': 24.0,\n",
       "   'oxygen': 13.0,\n",
       "   'person': 48.0,\n",
       "   'plasma': 57.0,\n",
       "   'plasmid': 21.0,\n",
       "   'pneumonia': 116.0,\n",
       "   'prognosis': 4.0,\n",
       "   'proliferation': 75.0,\n",
       "   'pulmonary': 137.0,\n",
       "   'rbd': 20.0,\n",
       "   'receptor binding': 12.0,\n",
       "   'renal': 35.0,\n",
       "   'respiratory failure': 23.0,\n",
       "   'respiratory system': 39.0,\n",
       "   'sars coronavirus': 213.0,\n",
       "   'sars-cov-2': 406.0,\n",
       "   'saxagliptin': 48.0,\n",
       "   'septicemia': 6.0,\n",
       "   'serum': 29.0,\n",
       "   'serum ferritin': 59.0,\n",
       "   'severe acute respiratory syndrome': 30.0,\n",
       "   'shortness of breath visual analogue scale': 18.0,\n",
       "   'sitagliptin': 103.0,\n",
       "   'sulfonylurea antidiabetic agent': 27.0,\n",
       "   'survival': 34.0,\n",
       "   't-lymphocyte': 56.0,\n",
       "   'therapeutic corticosteroid': 28.0,\n",
       "   'thrombophilia': 39.0,\n",
       "   'tissue': 32.0,\n",
       "   'transmembrane protein': 22.0,\n",
       "   'troponin t, cardiac muscle': 26.0,\n",
       "   'tumor necrosis factor': 56.0,\n",
       "   'tzd': 26.0,\n",
       "   'vaccine': 33.0,\n",
       "   'vascular': 110.0,\n",
       "   'vildagliptin': 55.0,\n",
       "   'viral': 203.0,\n",
       "   'viral entry': 58.0,\n",
       "   'viral infection': 54.0,\n",
       "   'virus': 199.0}},\n",
       " 'pagerank': {'frequency': {'ace inhibitor': 0.004042530805234559,\n",
       "   'acetaminophen': 0.001438112847217684,\n",
       "   'acute lung injury': 0.010586985714212894,\n",
       "   'acute respiratory distress syndrome': 0.011867704712126654,\n",
       "   'adenosine': 0.0026917760651910213,\n",
       "   'adipose tissue': 0.003050180074112491,\n",
       "   'angioedema': 0.002756829710592291,\n",
       "   'angiotensin ii receptor antagonist': 0.00746809358002035,\n",
       "   'angiotensin-1': 0.006245821418420198,\n",
       "   'angiotensin-2': 0.002470853065990793,\n",
       "   'angiotensin-converting enzyme': 0.0021517440285987646,\n",
       "   'angiotensin-converting enzyme 2': 0.02678760907538507,\n",
       "   'animal': 0.004592419992089224,\n",
       "   'apoptosis': 0.0023524301833432923,\n",
       "   'bals r': 0.001397199827976852,\n",
       "   'basal': 0.0034764575410275544,\n",
       "   'blood': 0.01085362134113763,\n",
       "   'blood vessel': 0.0031260667851256397,\n",
       "   'bradykinin': 0.0027708076837687666,\n",
       "   'c-c motif chemokine 1': 0.004515416323614919,\n",
       "   'c-reactive protein': 0.0034587853616818054,\n",
       "   'cardiac failure': 0.002350378641575196,\n",
       "   'cardiovascular disorder': 0.00919888846066653,\n",
       "   'cardiovascular system': 0.009866588757093796,\n",
       "   'cd44 antigen': 0.004534812732391918,\n",
       "   'cellular secretion': 0.004739588233023713,\n",
       "   'cerebrovascular': 0.002327955010459226,\n",
       "   'chemokine': 0.004657039692111883,\n",
       "   'chest pain': 0.00285352889029586,\n",
       "   'chloroquine': 0.0017516584191543307,\n",
       "   'chronic disease': 0.001828074100556019,\n",
       "   'chronic kidney disease': 0.0024017709671377346,\n",
       "   'comorbidity': 0.0022953068575465472,\n",
       "   'confounding factors': 0.0030216706672650372,\n",
       "   'coronaviridae': 0.0051371282608085565,\n",
       "   'coronavirus': 0.018866668159786992,\n",
       "   'cough': 0.005549716153725856,\n",
       "   'covid-19': 0.05433610118159648,\n",
       "   'cytokine': 0.011999810473555757,\n",
       "   'd-dimer measurement': 0.007904179723956701,\n",
       "   'death': 0.01588115762541802,\n",
       "   'degradation': 0.003379550619191846,\n",
       "   'diabetes mellitus': 0.03872932193775662,\n",
       "   'diabetic ketoacidosis': 0.004489379965610478,\n",
       "   'diarrhea, ctcae': 0.00437488923081928,\n",
       "   'dipeptidyl peptidase 4': 0.019292255378860798,\n",
       "   'dna replication': 0.006114767662303313,\n",
       "   'dpp4i': 0.008544463701272936,\n",
       "   'dyspnea': 0.0030876590553554186,\n",
       "   'extracellular matrix': 0.0023364487459284124,\n",
       "   'fatigue': 0.0030876590553554186,\n",
       "   'fever': 0.004607872966016623,\n",
       "   'glucose': 0.01891629565971577,\n",
       "   'glucose metabolism disorder': 0.005398096884190623,\n",
       "   'glyburide': 0.013288960222700855,\n",
       "   'glycosylated hemoglobin measurement': 0.00316352693129643,\n",
       "   'growth factor': 0.0026633183979991887,\n",
       "   'h1n1': 0.002264938539929582,\n",
       "   'hcp': 0.0027364236231450087,\n",
       "   'headache': 0.0033578693582865097,\n",
       "   'heart': 0.009421332811370097,\n",
       "   'heart failure': 0.0023503786415751955,\n",
       "   'high sensitivity c-reactive protein measurement': 0.005099882641154376,\n",
       "   'hiv entry inhibitor': 0.005365135800387551,\n",
       "   'hmg-coa reductase inhibitor': 0.002289513092451817,\n",
       "   'host cell': 0.005223029773412262,\n",
       "   'human': 0.014092801528073864,\n",
       "   'human dpp4': 0.002556211710519165,\n",
       "   'human immunodeficiency virus': 0.0037946404784082693,\n",
       "   'human kidney organoids': 0.0022050307810595787,\n",
       "   'humoral immunity': 0.002447806997101164,\n",
       "   'hyperglycemia': 0.009797828654832542,\n",
       "   'hypertension': 0.013430293464003852,\n",
       "   'hypoxia': 0.0021438186717728353,\n",
       "   'ibuprofen': 0.0033415396684936464,\n",
       "   'immune cell': 0.0034992608747177354,\n",
       "   'immune response process': 0.0035897227204900926,\n",
       "   'infectious disorder': 0.01591287393608746,\n",
       "   'inflammation': 0.013196747867092438,\n",
       "   'influenza': 0.003084152937829748,\n",
       "   'insulin': 0.00949502983710845,\n",
       "   'insulin infusion': 0.001944578655114113,\n",
       "   'insulin resistance': 0.005983411850864118,\n",
       "   'interleukin': 0.0024108668083832564,\n",
       "   'interleukin 1 beta measurement': 0.0070970118624575345,\n",
       "   'interleukin-19': 0.005432616905573494,\n",
       "   'interleukin-6': 0.017315393375679777,\n",
       "   'interleukin-8': 0.00383178730610752,\n",
       "   'islet of langerhans': 0.002251140818756654,\n",
       "   'iv': 0.0012861290938934351,\n",
       "   'janus bifrons': 0.0012449367295877894,\n",
       "   'kidney': 0.008050845332539037,\n",
       "   'leucopenia': 0.0027088842460303865,\n",
       "   'leukopenia': 0.002932949994588701,\n",
       "   'liver': 0.004381443381638265,\n",
       "   'lower respiratory tract infection': 0.004531576500548021,\n",
       "   'lung': 0.020767410879585207,\n",
       "   'lymphocyte': 0.004870333471334929,\n",
       "   'lymphopenia': 0.005415097958458006,\n",
       "   'm protein': 0.0018646822018238388,\n",
       "   'macrophage': 0.004076946700022218,\n",
       "   'mellitus': 0.0010900555777919516,\n",
       "   'metformin': 0.004052023030357942,\n",
       "   'middle east respiratory syndrome': 0.006036974208200138,\n",
       "   'middle east respiratory syndrome coronavirus': 0.013925679997029811,\n",
       "   'millimole per liter': 0.0021373699233968708,\n",
       "   'molecule': 0.002838505562387744,\n",
       "   'mouse': 0.011677381179374615,\n",
       "   'multi-organ dysfunction': 0.0029372153143388878,\n",
       "   'muscle': 0.002122672174800488,\n",
       "   'myalgia': 0.001977521539326412,\n",
       "   'myocardium': 0.0022345724148010787,\n",
       "   'neoplasm': 0.003037911877765503,\n",
       "   'nephropathy': 0.0019676543688425746,\n",
       "   'neutrophil': 0.006043543871225477,\n",
       "   'obesity': 0.008267711638693713,\n",
       "   'oral cavity': 0.0055659857338091045,\n",
       "   'organ': 0.0029737418790995195,\n",
       "   'oxygen': 0.0020351103352963485,\n",
       "   'person': 0.004525680283686401,\n",
       "   'plasma': 0.0053197061181747204,\n",
       "   'plasmid': 0.0027226509338995376,\n",
       "   'pneumonia': 0.010512095493427492,\n",
       "   'prognosis': 0.0012386054122404233,\n",
       "   'proliferation': 0.006890696441541255,\n",
       "   'pulmonary': 0.01163903389278049,\n",
       "   'rbd': 0.002524752343453392,\n",
       "   'receptor binding': 0.0018464368550616746,\n",
       "   'renal': 0.0038736869773938884,\n",
       "   'respiratory failure': 0.002986319777792431,\n",
       "   'respiratory system': 0.004329495522768546,\n",
       "   'sars coronavirus': 0.01735548019022084,\n",
       "   'sars-cov-2': 0.033049550473799,\n",
       "   'saxagliptin': 0.004721702323809725,\n",
       "   'septicemia': 0.0014192915757123858,\n",
       "   'serum': 0.0031395422204015004,\n",
       "   'serum ferritin': 0.005597172953134468,\n",
       "   'severe acute respiratory syndrome': 0.003097702126449046,\n",
       "   'shortness of breath visual analogue scale': 0.0026129361572218095,\n",
       "   'sitagliptin': 0.009855673950393119,\n",
       "   'sulfonylurea antidiabetic agent': 0.003096324833939332,\n",
       "   'survival': 0.0035787752943805084,\n",
       "   't-lymphocyte': 0.005867754495528255,\n",
       "   'therapeutic corticosteroid': 0.0031845265341031753,\n",
       "   'thrombophilia': 0.004018275751713625,\n",
       "   'tissue': 0.0035433048999557516,\n",
       "   'transmembrane protein': 0.002741079098339674,\n",
       "   'troponin t, cardiac muscle': 0.0029329499945887007,\n",
       "   'tumor necrosis factor': 0.005503860224580636,\n",
       "   'tzd': 0.0030216706672650372,\n",
       "   'vaccine': 0.0034800627699885373,\n",
       "   'vascular': 0.009565371755902547,\n",
       "   'vildagliptin': 0.005452913076992331,\n",
       "   'viral': 0.016857758695857906,\n",
       "   'viral entry': 0.005437985316728421,\n",
       "   'viral infection': 0.005080823684964583,\n",
       "   'virus': 0.01628447621361242}},\n",
       " 'betweenness': {'distance_npmi': {'ace inhibitor': 0.00020678246484698098,\n",
       "   'acetaminophen': 0.0,\n",
       "   'acute lung injury': 0.015260545905707195,\n",
       "   'acute respiratory distress syndrome': 0.014640198511166254,\n",
       "   'adenosine': 0.009376895505927765,\n",
       "   'adipose tissue': 0.006782464846980976,\n",
       "   'angioedema': 0.006685966363385716,\n",
       "   'angiotensin ii receptor antagonist': 0.009015715467328371,\n",
       "   'angiotensin-1': 0.003143093465674111,\n",
       "   'angiotensin-2': 0.014006065618968845,\n",
       "   'angiotensin-converting enzyme': 0.004590570719602978,\n",
       "   'angiotensin-converting enzyme 2': 0.0030603804797353184,\n",
       "   'animal': 0.006617038875103391,\n",
       "   'apoptosis': 0.0027564102564102567,\n",
       "   'bals r': 0.0,\n",
       "   'basal': 0.0011993382961124897,\n",
       "   'blood': 0.01033912324234905,\n",
       "   'blood vessel': 0.005872622001654259,\n",
       "   'bradykinin': 0.004273504273504273,\n",
       "   'c-c motif chemokine 1': 0.0071960297766749375,\n",
       "   'c-reactive protein': 0.0070168183071408876,\n",
       "   'cardiac failure': 0.0015536255858836499,\n",
       "   'cardiovascular disorder': 0.014061207609594707,\n",
       "   'cardiovascular system': 0.004962779156327543,\n",
       "   'cd44 antigen': 0.013234077750206782,\n",
       "   'cellular secretion': 0.01368899917287014,\n",
       "   'cerebrovascular': 0.0012682657843948167,\n",
       "   'chemokine': 0.026730079955886398,\n",
       "   'chest pain': 0.005944995864350703,\n",
       "   'chloroquine': 0.0019713261648745518,\n",
       "   'chronic disease': 0.0009098428453267163,\n",
       "   'chronic kidney disease': 0.011248966087675765,\n",
       "   'comorbidity': 8.271298593879239e-05,\n",
       "   'confounding factors': 0.007154673283705542,\n",
       "   'coronaviridae': 0.010173697270471464,\n",
       "   'coronavirus': 0.006947890818858561,\n",
       "   'cough': 0.02803970223325062,\n",
       "   'covid-19': 0.0,\n",
       "   'cytokine': 0.004425144747725393,\n",
       "   'd-dimer measurement': 0.023738626964433417,\n",
       "   'death': 0.004631927212572374,\n",
       "   'degradation': 0.01578439481665288,\n",
       "   'diabetes mellitus': 0.01282051282051282,\n",
       "   'diabetic ketoacidosis': 0.003970223325062035,\n",
       "   'diarrhea, ctcae': 0.005707196029776675,\n",
       "   'dipeptidyl peptidase 4': 0.01108354011579818,\n",
       "   'dna replication': 0.010835401157981803,\n",
       "   'dpp4i': 0.003515301902398677,\n",
       "   'dyspnea': 0.002257375241246209,\n",
       "   'extracellular matrix': 0.007740556934105321,\n",
       "   'fatigue': 0.002257375241246209,\n",
       "   'fever': 0.004962779156327543,\n",
       "   'glucose': 0.007444168734491315,\n",
       "   'glucose metabolism disorder': 0.03432588916459884,\n",
       "   'glyburide': 0.0032258064516129032,\n",
       "   'glycosylated hemoglobin measurement': 0.01621174524400331,\n",
       "   'growth factor': 0.004921422663358147,\n",
       "   'h1n1': 0.007816377171215881,\n",
       "   'hcp': 0.0008271298593879239,\n",
       "   'headache': 0.0162979046043562,\n",
       "   'heart': 0.016604631927212572,\n",
       "   'heart failure': 0.0015536255858836499,\n",
       "   'high sensitivity c-reactive protein measurement': 0.013289219740832645,\n",
       "   'hiv entry inhibitor': 0.010794044665012407,\n",
       "   'hmg-coa reductase inhibitor': 0.002267714364488558,\n",
       "   'host cell': 0.002522746071133168,\n",
       "   'human': 0.004549214226633581,\n",
       "   'human dpp4': 0.004466501240694789,\n",
       "   'human immunodeficiency virus': 0.004880066170388751,\n",
       "   'human kidney organoids': 0.0007857733664185277,\n",
       "   'humoral immunity': 0.007223600771987869,\n",
       "   'hyperglycemia': 0.01588089330024814,\n",
       "   'hypertension': 0.004549214226633581,\n",
       "   'hypoxia': 0.0030603804797353184,\n",
       "   'ibuprofen': 0.020168183071408878,\n",
       "   'immune cell': 0.01000827129859388,\n",
       "   'immune response process': 0.0013234077750206782,\n",
       "   'infectious disorder': 0.0012406947890818859,\n",
       "   'inflammation': 0.0037220843672456576,\n",
       "   'influenza': 0.006699751861042184,\n",
       "   'insulin': 0.007113316790736146,\n",
       "   'insulin infusion': 0.004328646264130135,\n",
       "   'insulin resistance': 0.014185277088502896,\n",
       "   'interleukin': 0.002522746071133168,\n",
       "   'interleukin 1 beta measurement': 0.007899090157154674,\n",
       "   'interleukin-19': 0.022125723738626965,\n",
       "   'interleukin-6': 0.013316790736145575,\n",
       "   'interleukin-8': 0.005872622001654259,\n",
       "   'islet of langerhans': 0.004797353184449959,\n",
       "   'iv': 0.0,\n",
       "   'janus bifrons': 0.0,\n",
       "   'kidney': 0.022539288668320927,\n",
       "   'leucopenia': 0.012620623104494072,\n",
       "   'leukopenia': 0.0029914529914529917,\n",
       "   'liver': 0.015232974910394265,\n",
       "   'lower respiratory tract infection': 0.014846980976013235,\n",
       "   'lung': 0.004466501240694789,\n",
       "   'lymphocyte': 0.007954232147780535,\n",
       "   'lymphopenia': 0.038916459884201816,\n",
       "   'm protein': 0.0008684863523573201,\n",
       "   'macrophage': 0.008395368072787427,\n",
       "   'mellitus': 0.0,\n",
       "   'metformin': 0.004425144747725393,\n",
       "   'middle east respiratory syndrome': 0.005500413564929694,\n",
       "   'middle east respiratory syndrome coronavirus': 0.005045492142266336,\n",
       "   'millimole per liter': 0.001626688723462917,\n",
       "   'molecule': 0.01851392335263303,\n",
       "   'mouse': 0.008064516129032258,\n",
       "   'multi-organ dysfunction': 0.006792803970223325,\n",
       "   'muscle': 0.002564102564102564,\n",
       "   'myalgia': 0.0007926661152467603,\n",
       "   'myocardium': 0.0058519437551695615,\n",
       "   'neoplasm': 0.008353322304935207,\n",
       "   'nephropathy': 0.004962779156327543,\n",
       "   'neutrophil': 0.008836503997794318,\n",
       "   'obesity': 0.008023159636062862,\n",
       "   'oral cavity': 0.010752688172043012,\n",
       "   'organ': 0.01345464571271023,\n",
       "   'oxygen': 0.007154673283705542,\n",
       "   'person': 0.006038047973531845,\n",
       "   'plasma': 0.009966914805624482,\n",
       "   'plasmid': 0.01619106699751861,\n",
       "   'pneumonia': 0.012572373862696443,\n",
       "   'prognosis': 0.0,\n",
       "   'proliferation': 0.00380479735318445,\n",
       "   'pulmonary': 0.0347808105872622,\n",
       "   'rbd': 0.00380479735318445,\n",
       "   'receptor binding': 0.00260545905707196,\n",
       "   'renal': 0.012985938792390406,\n",
       "   'respiratory failure': 0.006406810035842293,\n",
       "   'respiratory system': 0.014846980976013235,\n",
       "   'sars coronavirus': 0.0037220843672456576,\n",
       "   'sars-cov-2': 0.003143093465674111,\n",
       "   'saxagliptin': 0.00467328370554177,\n",
       "   'septicemia': 0.00041356492969396195,\n",
       "   'serum': 0.0145023435346016,\n",
       "   'serum ferritin': 0.016101461262751585,\n",
       "   'severe acute respiratory syndrome': 0.004383788254755997,\n",
       "   'shortness of breath visual analogue scale': 0.00041356492969396195,\n",
       "   'sitagliptin': 0.006472291149710504,\n",
       "   'sulfonylurea antidiabetic agent': 0.00641025641025641,\n",
       "   'survival': 0.004466501240694789,\n",
       "   't-lymphocyte': 0.029404466501240695,\n",
       "   'therapeutic corticosteroid': 0.011248966087675765,\n",
       "   'thrombophilia': 0.018458781362007168,\n",
       "   'tissue': 0.011993382961124897,\n",
       "   'transmembrane protein': 0.010918114143920596,\n",
       "   'troponin t, cardiac muscle': 0.0029914529914529917,\n",
       "   'tumor necrosis factor': 0.016804521643231318,\n",
       "   'tzd': 0.007154673283705542,\n",
       "   'vaccine': 0.003349875930521092,\n",
       "   'vascular': 0.0028949545078577337,\n",
       "   'vildagliptin': 0.0030603804797353184,\n",
       "   'viral': 0.012241521918941274,\n",
       "   'viral entry': 0.015508684863523574,\n",
       "   'viral infection': 0.006286186931348222,\n",
       "   'virus': 0.005789909015715467}},\n",
       " 'closeness': {}}"
      ]
     },
     "execution_count": 55,
     "metadata": {},
     "output_type": "execute_result"
    }
   ],
   "source": [
    "result_metrics"
   ]
  },
  {
   "cell_type": "markdown",
   "metadata": {},
   "source": [
    "## VI. Community detection"
   ]
  },
  {
   "cell_type": "markdown",
   "metadata": {},
   "source": [
    "_Community detection_ methods partition the network into clusters of densely connected nodes in a way that nodes in the same community are more connected between themselves relatively to the nodes in different communities. In this section we will illustrate the use of the `CommunityDetector` interface provided by BlueGraph for community detection and estimation of its quality using modularity, performance and coverange methods. The unified interface allows us to use various community detection methods available in different graph backends."
   ]
  },
  {
   "cell_type": "markdown",
   "metadata": {},
   "source": [
    "First, we create a `NetworkX`-based instance and use several different community detection strategies provided by this library. "
   ]
  },
  {
   "cell_type": "code",
   "execution_count": 56,
   "metadata": {},
   "outputs": [],
   "source": [
    "nx_detector = NXCommunityDetector(new_paragraph_network, directed=False)"
   ]
  },
  {
   "cell_type": "code",
   "execution_count": 57,
   "metadata": {},
   "outputs": [
    {
     "data": {
      "text/plain": [
       "<networkx.classes.graph.Graph at 0x7f9120037310>"
      ]
     },
     "execution_count": 57,
     "metadata": {},
     "output_type": "execute_result"
    }
   ],
   "source": [
    "nx_detector.graph"
   ]
  },
  {
   "cell_type": "markdown",
   "metadata": {},
   "source": [
    "### Louvain algorithm"
   ]
  },
  {
   "cell_type": "code",
   "execution_count": 58,
   "metadata": {},
   "outputs": [],
   "source": [
    "partition = nx_detector.detect_communities(\n",
    "    strategy=\"louvain\", weight=\"npmi\")"
   ]
  },
  {
   "cell_type": "code",
   "execution_count": 59,
   "metadata": {},
   "outputs": [
    {
     "name": "stdout",
     "output_type": "stream",
     "text": [
      "Modularity:  0.33890209866564786\n",
      "Performance:  0.789645598562796\n",
      "Coverage:  0.3949173053650666\n"
     ]
    }
   ],
   "source": [
    "print(\"Modularity: \", nx_detector.evaluate_parition(partition, metric=\"modularity\", weight=\"npmi\"))\n",
    "print(\"Performance: \", nx_detector.evaluate_parition(partition, metric=\"performance\", weight=\"npmi\"))\n",
    "print(\"Coverage: \", nx_detector.evaluate_parition(partition, metric=\"coverage\", weight=\"npmi\"))"
   ]
  },
  {
   "cell_type": "markdown",
   "metadata": {},
   "source": [
    "### Label propagation"
   ]
  },
  {
   "cell_type": "code",
   "execution_count": 60,
   "metadata": {
    "scrolled": true
   },
   "outputs": [],
   "source": [
    "partition = nx_detector.detect_communities(\n",
    "    strategy=\"lpa\", weight=\"npmi\", intermediate=False)"
   ]
  },
  {
   "cell_type": "code",
   "execution_count": 61,
   "metadata": {},
   "outputs": [
    {
     "name": "stdout",
     "output_type": "stream",
     "text": [
      "Modularity:  0.07719091705395371\n",
      "Performance:  0.3316184876694431\n",
      "Coverage:  0.9415086728519564\n"
     ]
    }
   ],
   "source": [
    "print(\"Modularity: \", nx_detector.evaluate_parition(partition, metric=\"modularity\", weight=\"npmi\"))\n",
    "print(\"Performance: \", nx_detector.evaluate_parition(partition, metric=\"performance\", weight=\"npmi\"))\n",
    "print(\"Coverage: \", nx_detector.evaluate_parition(partition, metric=\"coverage\", weight=\"npmi\"))"
   ]
  },
  {
   "cell_type": "markdown",
   "metadata": {},
   "source": [
    "### Stochastic block model"
   ]
  },
  {
   "cell_type": "code",
   "execution_count": 62,
   "metadata": {},
   "outputs": [],
   "source": [
    "gt_detector = GTCommunityDetector(new_paragraph_network, directed=False)"
   ]
  },
  {
   "cell_type": "code",
   "execution_count": 63,
   "metadata": {
    "scrolled": false
   },
   "outputs": [],
   "source": [
    "partition = gt_detector.detect_communities(strategy=\"sbm\", weight=\"npmi\")"
   ]
  },
  {
   "cell_type": "code",
   "execution_count": 64,
   "metadata": {
    "scrolled": true
   },
   "outputs": [
    {
     "name": "stdout",
     "output_type": "stream",
     "text": [
      "Modularity:  0.21501874092692383\n",
      "Performance:  0.7382818879634166\n",
      "Coverage:  0.24606696248487292\n"
     ]
    }
   ],
   "source": [
    "print(\"Modularity: \", nx_detector.evaluate_parition(partition, metric=\"modularity\", weight=\"npmi\"))\n",
    "print(\"Performance: \", nx_detector.evaluate_parition(partition, metric=\"performance\", weight=\"npmi\"))\n",
    "print(\"Coverage: \", nx_detector.evaluate_parition(partition, metric=\"coverage\", weight=\"npmi\"))"
   ]
  },
  {
   "cell_type": "markdown",
   "metadata": {},
   "source": [
    "### Writing community partition as node properties"
   ]
  },
  {
   "cell_type": "code",
   "execution_count": 65,
   "metadata": {},
   "outputs": [],
   "source": [
    "nx_detector.detect_communities(\n",
    "    strategy=\"louvain\", weight=\"npmi\",\n",
    "    write=True, write_property=\"louvain_community\")"
   ]
  },
  {
   "cell_type": "code",
   "execution_count": 66,
   "metadata": {},
   "outputs": [],
   "source": [
    "new_paragraph_network = nx_detector.get_pgframe(\n",
    "    node_prop_types=new_paragraph_network._node_prop_types,\n",
    "    edge_prop_types=new_paragraph_network._edge_prop_types)"
   ]
  },
  {
   "cell_type": "code",
   "execution_count": 67,
   "metadata": {},
   "outputs": [
    {
     "data": {
      "text/html": [
       "<div>\n",
       "<style scoped>\n",
       "    .dataframe tbody tr th:only-of-type {\n",
       "        vertical-align: middle;\n",
       "    }\n",
       "\n",
       "    .dataframe tbody tr th {\n",
       "        vertical-align: top;\n",
       "    }\n",
       "\n",
       "    .dataframe thead th {\n",
       "        text-align: right;\n",
       "    }\n",
       "</style>\n",
       "<table border=\"1\" class=\"dataframe\">\n",
       "  <thead>\n",
       "    <tr style=\"text-align: right;\">\n",
       "      <th></th>\n",
       "      <th>@type</th>\n",
       "      <th>paper_frequency</th>\n",
       "      <th>degree</th>\n",
       "      <th>pagerank</th>\n",
       "      <th>betweenness</th>\n",
       "      <th>louvain_community</th>\n",
       "    </tr>\n",
       "    <tr>\n",
       "      <th>@id</th>\n",
       "      <th></th>\n",
       "      <th></th>\n",
       "      <th></th>\n",
       "      <th></th>\n",
       "      <th></th>\n",
       "      <th></th>\n",
       "    </tr>\n",
       "  </thead>\n",
       "  <tbody>\n",
       "    <tr>\n",
       "      <th>myocardium</th>\n",
       "      <td>Entity</td>\n",
       "      <td>2.0</td>\n",
       "      <td>17.0</td>\n",
       "      <td>0.002235</td>\n",
       "      <td>0.005852</td>\n",
       "      <td>2</td>\n",
       "    </tr>\n",
       "    <tr>\n",
       "      <th>nephropathy</th>\n",
       "      <td>Entity</td>\n",
       "      <td>2.0</td>\n",
       "      <td>12.0</td>\n",
       "      <td>0.001968</td>\n",
       "      <td>0.004963</td>\n",
       "      <td>2</td>\n",
       "    </tr>\n",
       "    <tr>\n",
       "      <th>plasmid</th>\n",
       "      <td>Entity</td>\n",
       "      <td>2.0</td>\n",
       "      <td>21.0</td>\n",
       "      <td>0.002723</td>\n",
       "      <td>0.016191</td>\n",
       "      <td>3</td>\n",
       "    </tr>\n",
       "    <tr>\n",
       "      <th>angiotensin-converting enzyme</th>\n",
       "      <td>Entity</td>\n",
       "      <td>3.0</td>\n",
       "      <td>13.0</td>\n",
       "      <td>0.002152</td>\n",
       "      <td>0.004591</td>\n",
       "      <td>1</td>\n",
       "    </tr>\n",
       "    <tr>\n",
       "      <th>diabetic ketoacidosis</th>\n",
       "      <td>Entity</td>\n",
       "      <td>4.0</td>\n",
       "      <td>46.0</td>\n",
       "      <td>0.004489</td>\n",
       "      <td>0.003970</td>\n",
       "      <td>0</td>\n",
       "    </tr>\n",
       "  </tbody>\n",
       "</table>\n",
       "</div>"
      ],
      "text/plain": [
       "                                @type  paper_frequency  degree  pagerank  \\\n",
       "@id                                                                        \n",
       "myocardium                     Entity              2.0    17.0  0.002235   \n",
       "nephropathy                    Entity              2.0    12.0  0.001968   \n",
       "plasmid                        Entity              2.0    21.0  0.002723   \n",
       "angiotensin-converting enzyme  Entity              3.0    13.0  0.002152   \n",
       "diabetic ketoacidosis          Entity              4.0    46.0  0.004489   \n",
       "\n",
       "                               betweenness  louvain_community  \n",
       "@id                                                            \n",
       "myocardium                        0.005852                  2  \n",
       "nephropathy                       0.004963                  2  \n",
       "plasmid                           0.016191                  3  \n",
       "angiotensin-converting enzyme     0.004591                  1  \n",
       "diabetic ketoacidosis             0.003970                  0  "
      ]
     },
     "execution_count": 67,
     "metadata": {},
     "output_type": "execute_result"
    }
   ],
   "source": [
    "new_paragraph_network.nodes(raw_frame=True).sample(5)"
   ]
  },
  {
   "cell_type": "markdown",
   "metadata": {},
   "source": [
    "## V. Export network and the computed metrics"
   ]
  },
  {
   "cell_type": "code",
   "execution_count": 68,
   "metadata": {},
   "outputs": [],
   "source": [
    "# Save graph as JSON\n",
    "new_paragraph_network.export_json(\"../data/literature_comention.json\")"
   ]
  },
  {
   "cell_type": "code",
   "execution_count": 69,
   "metadata": {},
   "outputs": [],
   "source": [
    "# Save the graph for Gephi import.\n",
    "new_paragraph_network.export_to_gephi(\n",
    "    \"../data/gephi_literature_comention\", \n",
    "    node_attr_mapping = {\n",
    "        \"degree\": \"Degree\",\n",
    "        \"pagerank\": \"PageRank\",\n",
    "        \"betweenness\": \"Betweenness\",\n",
    "        \"louvain_community\": \"Community\"\n",
    "    },\n",
    "    edge_attr_mapping={\n",
    "        \"npmi\": \"Weight\"\n",
    "    })"
   ]
  },
  {
   "cell_type": "markdown",
   "metadata": {},
   "source": [
    "The representation of the network saved above can be imported into Gephi for producing graph visualizations, as in the following example:\n",
    "\n",
    "In the figures below colors represent communities detected using the Louvain algorithm (with NPMI edge weights), node sizes are proportional to the PageRank of nodes and edge thickness to the NPMI values.\n",
    "\n",
    "**Full network**\n",
    "<img src=\"./figures/literature/full_network.png\" alt=\"Literature co-occurrence network\" style=\"width: 400px;\"/>\n",
    "\n",
    "**Community \"Symptoms and comorbidities\"**\n",
    "<img src=\"./figures/literature/covid_19_comorbidities.png\" alt=\"Drawing\" style=\"width: 400px;\"/>\n",
    "\n",
    "**Community \"Viral biology\"**\n",
    "<img src=\"./figures/literature/virus.png\" alt=\"Drawing\" style=\"width: 600px;\"/>\n",
    "\n",
    "**Community \"Immunity\"**\n",
    "<img src=\"./figures/literature/immunity.png\" alt=\"Drawing\" style=\"width: 600px;\"/>"
   ]
  },
  {
   "cell_type": "markdown",
   "metadata": {},
   "source": [
    "## VII. Minimum spanning trees"
   ]
  },
  {
   "cell_type": "markdown",
   "metadata": {},
   "source": [
    "A _minimum spanning tree_ of a network is given by a subset of edges that make the network connected ($n - 1$ edges connecting $n$ nodes). Its weighted version minimizes not only the number of edges included in the tree, but the total edge weight.\n",
    "\n",
    "In the following example we compute a minimum spanning tree minimizing the NPMI-based distance weight of the network edges. We use the `graph_tool`-based implementation of the `PathFinder` interface."
   ]
  },
  {
   "cell_type": "code",
   "execution_count": 70,
   "metadata": {},
   "outputs": [],
   "source": [
    "gt_paragraph_path_finder = GTPathFinder(new_paragraph_network, directed=False)"
   ]
  },
  {
   "cell_type": "code",
   "execution_count": 71,
   "metadata": {},
   "outputs": [
    {
     "data": {
      "text/plain": [
       "<Graph object, undirected, with 157 vertices and 2479 edges, 7 internal vertex properties, 6 internal edge properties, at 0x7f912004b810>"
      ]
     },
     "execution_count": 71,
     "metadata": {},
     "output_type": "execute_result"
    }
   ],
   "source": [
    "gt_paragraph_path_finder.graph"
   ]
  },
  {
   "cell_type": "code",
   "execution_count": 72,
   "metadata": {
    "scrolled": true
   },
   "outputs": [],
   "source": [
    "tree = graph_tool_to_pgframe(gt_paragraph_path_finder.minimum_spanning_tree(distance=\"distance_npmi\"))"
   ]
  },
  {
   "cell_type": "code",
   "execution_count": 73,
   "metadata": {},
   "outputs": [],
   "source": [
    "tree.export_to_gephi(\n",
    "    \"../data/gephi_literature_spanning_tree\", \n",
    "    node_attr_mapping = {\n",
    "        \"degree\": \"Degree\",\n",
    "        \"pagerank\": \"PageRank\",\n",
    "        \"betweenness\": \"Betweenness\",\n",
    "        \"louvain_community\": \"Community\"\n",
    "    },\n",
    "    edge_attr_mapping={\n",
    "        \"npmi\": \"Weight\"\n",
    "    })"
   ]
  },
  {
   "cell_type": "markdown",
   "metadata": {},
   "source": [
    "The representation of the network saved above can be imported into Gephi for producing graph visualizations, as in the following example:\n",
    "\n",
    "In the figures below colors represent communities detected using the NPMI weight, node sizes are proportional to the PageRank of nodes and edge thickness to the NPMI values.\n",
    "\n",
    "**Full network**\n",
    "<img src=\"./figures/literature/tree.png\" alt=\"Literature co-occurrence MST\" style=\"width: 400px;\"/>\n",
    "\n",
    "**Zoom into \"covid-19\"**\n",
    "<img src=\"./figures/literature/tree_covid-19.png\" alt=\"Drawing\" style=\"width: 700px;\"/>"
   ]
  },
  {
   "cell_type": "markdown",
   "metadata": {},
   "source": [
    "## VIII. Shortest path search"
   ]
  },
  {
   "cell_type": "markdown",
   "metadata": {},
   "source": [
    "The _shortest path search problem_ consisits in finding a sequence of edges from the source node to the target node that minimizes the cumulative weight (or distance) associated to the edges. "
   ]
  },
  {
   "cell_type": "code",
   "execution_count": 74,
   "metadata": {},
   "outputs": [
    {
     "name": "stdout",
     "output_type": "stream",
     "text": [
      "lung <->  <-> sars-cov-2\n",
      "         \n"
     ]
    }
   ],
   "source": [
    "path = gt_paragraph_path_finder.shortest_path(\"lung\", \"sars-cov-2\")\n",
    "pretty_print_paths([path])"
   ]
  },
  {
   "cell_type": "markdown",
   "metadata": {},
   "source": [
    "The cell above illustrates that the single shortest path form 'lung' and 'sars-cov-2' consists of the direct edge between them.\n",
    "\n",
    "We adapt this problem to the literature exploration task, i.e. having fixed the source and the target concepts (the relation here is actually symmetric as the edges of our network are undirected), we would like to find a _set_ of $n$ shortest paths between them. Moreover, we would like these paths to be _indirect_ (not to include the direct edge from the source to the target). In the following examples we use mutual-information-based edge weights to perform our literature exploration. \n",
    "\n",
    "The library includes two strategies for finding such $n$ shortest paths. The first strategy uses Yen's algorithm for finding $n$ loopless shortest paths from the source to the target (https://en.wikipedia.org/wiki/Yen%27s_algorithm).\n"
   ]
  },
  {
   "cell_type": "code",
   "execution_count": 75,
   "metadata": {},
   "outputs": [],
   "source": [
    "nx_paragraph_path_finder = NXPathFinder(new_paragraph_network, directed=False)\n",
    "paths = nx_paragraph_path_finder.n_shortest_paths(\n",
    "    \"lung\", \"sars-cov-2\", n=10,\n",
    "    distance=\"distance_npmi\", strategy=\"yen\")"
   ]
  },
  {
   "cell_type": "code",
   "execution_count": 76,
   "metadata": {},
   "outputs": [
    {
     "name": "stdout",
     "output_type": "stream",
     "text": [
      "lung <->                                 <-> sars-cov-2\n",
      "         \n",
      "         acute lung injury\n",
      "         pulmonary\n",
      "         receptor binding\n",
      "         human\n",
      "         viral\n",
      "         angiotensin-converting enzyme 2\n",
      "         host cell\n",
      "         dna replication\n",
      "         acute lung injury <-> pulmonary\n"
     ]
    }
   ],
   "source": [
    "pretty_print_paths(paths)"
   ]
  },
  {
   "cell_type": "markdown",
   "metadata": {},
   "source": [
    "The second, _naive_, strategy is suitable in the scenarios when our networks are large and highly dense (then the performance of Yen's algorithm degragates as the number of edges is approaching $O(N^2)$ with $N$ being the number of nodes). \n",
    "\n",
    "This strategy simply finds _all_ the indirect shortest paths from the source to the target (in dense graphs the most common such paths are of length 2, i.e. `source <-> intermediary <-> target`, and therefore, the number of such path is roughly proportional to the number of nodes in the network). Then, the cumulative distance score is computed for every path and the top $n$ paths with the best score are selected."
   ]
  },
  {
   "cell_type": "code",
   "execution_count": 77,
   "metadata": {},
   "outputs": [],
   "source": [
    "paths = gt_paragraph_path_finder.n_shortest_paths(\n",
    "    \"lung\", \"sars-cov-2\", n=10,\n",
    "    distance=\"distance_npmi\", strategy=\"naive\")"
   ]
  },
  {
   "cell_type": "code",
   "execution_count": 78,
   "metadata": {},
   "outputs": [
    {
     "name": "stdout",
     "output_type": "stream",
     "text": [
      "lung <->                                 <-> sars-cov-2\n",
      "         \n",
      "         acute lung injury\n",
      "         pulmonary\n",
      "         receptor binding\n",
      "         human\n",
      "         viral\n",
      "         angiotensin-converting enzyme 2\n",
      "         host cell\n",
      "         dna replication\n",
      "         human kidney organoids\n"
     ]
    }
   ],
   "source": [
    "pretty_print_paths(paths)"
   ]
  },
  {
   "cell_type": "markdown",
   "metadata": {},
   "source": [
    "The library provides an additional utility for finding _tripaths_, paths of the shape `source <-> intermediary <-> target`. Setting the parameter `intersecting` to `False` we can ensure that the entities the sets of entities discovered on the paths `source <-> intermediary` and `intermediary <-> target` do not overlap."
   ]
  },
  {
   "cell_type": "code",
   "execution_count": 79,
   "metadata": {},
   "outputs": [
    {
     "data": {
      "text/plain": [
       "False"
      ]
     },
     "execution_count": 79,
     "metadata": {},
     "output_type": "execute_result"
    }
   ],
   "source": [
    "(\"sars-cov-2\", \"glucose\") in new_paragraph_network.edges()"
   ]
  },
  {
   "cell_type": "code",
   "execution_count": 80,
   "metadata": {},
   "outputs": [
    {
     "data": {
      "text/plain": [
       "[('glucose', 'cerebrovascular', 'sars-cov-2'),\n",
       " ('glucose', 'plasmid', 'sars-cov-2'),\n",
       " ('glucose', 'basal', 'sars-cov-2'),\n",
       " ('glucose', 'coronavirus', 'sars-cov-2'),\n",
       " ('glucose', 'headache', 'sars-cov-2'),\n",
       " ('glucose', 'islet of langerhans', 'sars-cov-2'),\n",
       " ('glucose', 'serum', 'sars-cov-2'),\n",
       " ('glucose', 'comorbidity', 'sars-cov-2'),\n",
       " ('glucose', 'infectious disorder', 'sars-cov-2'),\n",
       " ('glucose', 'viral entry', 'sars-cov-2')]"
      ]
     },
     "execution_count": 80,
     "metadata": {},
     "output_type": "execute_result"
    }
   ],
   "source": [
    "gt_paragraph_path_finder.n_shortest_paths(\n",
    "    \"glucose\", \"sars-cov-2\", n=10,\n",
    "    distance=\"distance_npmi\", strategy=\"naive\")"
   ]
  },
  {
   "cell_type": "code",
   "execution_count": 81,
   "metadata": {},
   "outputs": [],
   "source": [
    "path_a_b, path_b_c = gt_paragraph_path_finder.n_shortest_tripaths(\n",
    "    \"lung\", \"glucose\", \"sars-cov-2\", 10,\n",
    "    strategy=\"naive\", distance=\"distance_npmi\", overlap=False)"
   ]
  },
  {
   "cell_type": "code",
   "execution_count": 82,
   "metadata": {},
   "outputs": [
    {
     "name": "stdout",
     "output_type": "stream",
     "text": [
      "lung ->                                -> glucose ->                   -> sars-cov-2\n",
      "       \n",
      "inflammation\n",
      "                                 \n",
      "cerebrovascular\n",
      "       \n",
      "islet of langerhans\n",
      "                          \n",
      "plasmid\n",
      "       \n",
      "serum\n",
      "                                        \n",
      "basal\n",
      "       \n",
      "oral cavity\n",
      "                                  \n",
      "coronavirus\n",
      "       \n",
      "death\n",
      "                                        \n",
      "headache\n",
      "       \n",
      "middle east respiratory syndrome\n",
      "             \n",
      "comorbidity\n",
      "       \n",
      "neutrophil\n",
      "                                   \n",
      "infectious disorder\n",
      "       \n",
      "chemokine\n",
      "                                    \n",
      "viral entry\n",
      "       \n",
      "sulfonylurea antidiabetic agent\n",
      "              \n",
      "sars coronavirus\n",
      "       \n",
      "therapeutic corticosteroid\n",
      "                   \n",
      "person\n"
     ]
    }
   ],
   "source": [
    "pretty_print_tripaths(\"lung\", \"glucose\", \"sars-cov-2\", 10, path_a_b, path_b_c)"
   ]
  },
  {
   "cell_type": "markdown",
   "metadata": {},
   "source": [
    "## IX. Nested path search"
   ]
  },
  {
   "cell_type": "markdown",
   "metadata": {},
   "source": [
    "To explore the space of co-occurring terms in depth, we can run the path search procedure presented above in a _nested fashion_. For each edge $e_1, e_2, ..., e_n$ encountered on a path from the source to the target  from, we can\n",
    "further expand it into $n$ shortest paths between each pair of successive entities (i.e. paths between $e_1$ and $e_2$, $e_2$ and $e_3$, etc.)."
   ]
  },
  {
   "cell_type": "code",
   "execution_count": 83,
   "metadata": {},
   "outputs": [],
   "source": [
    "paths = gt_paragraph_path_finder.n_nested_shortest_paths(\n",
    "    \"lung\", \"glucose\", top_level_n=10, nested_n=2, depth=2, distance=\"distance_npmi\",\n",
    "    strategy=\"naive\")"
   ]
  },
  {
   "cell_type": "code",
   "execution_count": 84,
   "metadata": {
    "scrolled": true
   },
   "outputs": [
    {
     "data": {
      "text/plain": [
       "[('lung', 'middle east respiratory syndrome'),\n",
       " ('neutrophil', 'lymphocyte', 'glucose'),\n",
       " ('lung', 'pulmonary', 'chemokine'),\n",
       " ('lung', 'serum'),\n",
       " ('lung', 'serum', 'inflammation'),\n",
       " ('lung', 'survival', 'oral cavity'),\n",
       " ('lung', 'islet of langerhans'),\n",
       " ('sulfonylurea antidiabetic agent', 'oral cavity', 'glucose'),\n",
       " ('lung', 'oral cavity', 'glucose'),\n",
       " ('lung', 'mouse', 'middle east respiratory syndrome'),\n",
       " ('oral cavity', 'blood', 'glucose'),\n",
       " ('neutrophil', 'millimole per liter', 'glucose'),\n",
       " ('sulfonylurea antidiabetic agent', 'blood', 'glucose'),\n",
       " ('lung', 'therapeutic corticosteroid', 'glucose'),\n",
       " ('lung', 'acute lung injury', 'chemokine'),\n",
       " ('lung', 'oral cavity'),\n",
       " ('chemokine', 'growth factor', 'glucose'),\n",
       " ('lung', 'serum', 'glucose'),\n",
       " ('lung', 'survival', 'sulfonylurea antidiabetic agent'),\n",
       " ('middle east respiratory syndrome', 'glucose'),\n",
       " ('serum', 'glucose metabolism disorder', 'glucose'),\n",
       " ('lung', 'acute lung injury', 'neutrophil'),\n",
       " ('lung', 'chemokine', 'glucose'),\n",
       " ('lung', 'acute lung injury', 'serum'),\n",
       " ('lung', 'survival', 'death'),\n",
       " ('death', 'leukopenia', 'glucose'),\n",
       " ('lung', 'islet of langerhans', 'glucose'),\n",
       " ('islet of langerhans', 'glucose'),\n",
       " ('lung', 'death'),\n",
       " ('middle east respiratory syndrome', 'lymphocyte', 'glucose'),\n",
       " ('death', 'glucose'),\n",
       " ('lung', 'inflammation'),\n",
       " ('oral cavity', 'glucose'),\n",
       " ('lung', 'sulfonylurea antidiabetic agent', 'glucose'),\n",
       " ('therapeutic corticosteroid', 'insulin', 'glucose'),\n",
       " ('serum', 'thrombophilia', 'glucose'),\n",
       " ('lung', 'neutrophil', 'glucose'),\n",
       " ('lung', 'lower respiratory tract infection', 'therapeutic corticosteroid'),\n",
       " ('therapeutic corticosteroid', 'oral cavity', 'glucose'),\n",
       " ('lung', 'death', 'glucose'),\n",
       " ('islet of langerhans', 'hyperglycemia', 'glucose'),\n",
       " ('lung', 'inflammation', 'glucose'),\n",
       " ('inflammation', 'glucose metabolism disorder', 'glucose'),\n",
       " ('chemokine', 'glucose metabolism disorder', 'glucose'),\n",
       " ('lung', 'pulmonary', 'sulfonylurea antidiabetic agent'),\n",
       " ('inflammation', 'thrombophilia', 'glucose'),\n",
       " ('lung', 'neutrophil'),\n",
       " ('lung', 'middle east respiratory syndrome', 'glucose'),\n",
       " ('lung', 'therapeutic corticosteroid'),\n",
       " ('lung', 'viral infection', 'islet of langerhans')]"
      ]
     },
     "execution_count": 84,
     "metadata": {},
     "output_type": "execute_result"
    }
   ],
   "source": [
    "paths"
   ]
  },
  {
   "cell_type": "markdown",
   "metadata": {},
   "source": [
    "We can now visualize the subnetwork constructed using the nodes and the edges discovered during our nested path search."
   ]
  },
  {
   "cell_type": "code",
   "execution_count": 85,
   "metadata": {},
   "outputs": [],
   "source": [
    "summary_graph = graph_tool_to_pgframe(\n",
    "    gt_paragraph_path_finder.get_subgraph_from_paths(paths))"
   ]
  },
  {
   "cell_type": "code",
   "execution_count": 86,
   "metadata": {
    "scrolled": true
   },
   "outputs": [
    {
     "name": "stdout",
     "output_type": "stream",
     "text": [
      "Number of nodes:  27\n",
      "Number of edges:  63\n"
     ]
    }
   ],
   "source": [
    "print(\"Number of nodes: \", summary_graph.number_of_nodes())\n",
    "print(\"Number of edges: \", summary_graph.number_of_edges())"
   ]
  },
  {
   "cell_type": "code",
   "execution_count": 87,
   "metadata": {},
   "outputs": [],
   "source": [
    "# Save the graph for Gephi import.\n",
    "summary_graph.export_to_gephi(\n",
    "    \"../data/gephi_literature_path_graph\", \n",
    "    node_attr_mapping = {\n",
    "        \"degree\": \"Degree\",\n",
    "        \"pagerank\": \"PageRank\",\n",
    "        \"betweenness\": \"Betweenness\",\n",
    "        \"louvain_community\": \"Community\"\n",
    "    },\n",
    "    edge_attr_mapping={\n",
    "        \"npmi\": \"Weight\"\n",
    "    })"
   ]
  },
  {
   "cell_type": "markdown",
   "metadata": {},
   "source": [
    "The resulting example graph visualized with Gephi\n",
    "<img src=\"./figures/literature/path_graph_example.png\" alt=\"Literature co-occurrence network\" style=\"width: 800px;\"/>"
   ]
  }
 ],
 "metadata": {
  "kernelspec": {
   "display_name": "bg",
   "language": "python",
   "name": "bg"
  },
  "language_info": {
   "codemirror_mode": {
    "name": "ipython",
    "version": 3
   },
   "file_extension": ".py",
   "mimetype": "text/x-python",
   "name": "python",
   "nbconvert_exporter": "python",
   "pygments_lexer": "ipython3",
   "version": "3.7.10"
  }
 },
 "nbformat": 4,
 "nbformat_minor": 4
}
