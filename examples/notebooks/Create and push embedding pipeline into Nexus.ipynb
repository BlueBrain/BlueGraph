{
 "cells": [
  {
   "cell_type": "markdown",
   "id": "b2613554",
   "metadata": {},
   "source": [
    "# Create and push embedding pipelines to the Nexus catalog"
   ]
  },
  {
   "cell_type": "code",
   "execution_count": null,
   "id": "0b75b3b4",
   "metadata": {},
   "outputs": [],
   "source": [
    "from bluegraph.core import PandasPGFrame\n",
    "\n",
    "from bluegraph.preprocess.encoders import ScikitLearnPGEncoder\n",
    "from bluegraph.backends.stellargraph import StellarGraphNodeEmbedder\n",
    "from bluegraph.downstream.similarity import SimilarityProcessor\n",
    "from bluegraph.downstream import EmbeddingPipeline"
   ]
  },
  {
   "cell_type": "markdown",
   "id": "3ae5e08c",
   "metadata": {},
   "source": [
    "## Creating and saving a pipeline object\n",
    "\n",
    "`bluegraph` allows to create emebedding pipelines (using the `EmbeddingPipeline` class) that represent a useful wrapper around a sequence of steps necessary to produce embeddings and compute point similarities. In the example below we create a pipeline for producing `attri2vec` node embeddings and computing their cosine similarity."
   ]
  },
  {
   "cell_type": "markdown",
   "id": "3754e35f",
   "metadata": {},
   "source": [
    "We first create an encoder object that will be used in our pipeline as a preprocessing step."
   ]
  },
  {
   "cell_type": "code",
   "execution_count": null,
   "id": "5452e4ea",
   "metadata": {},
   "outputs": [],
   "source": [
    "definition_encoder = ScikitLearnPGEncoder(\n",
    "    node_properties=[\"definition\"], text_encoding_max_dimension=512)"
   ]
  },
  {
   "cell_type": "markdown",
   "id": "43780a91",
   "metadata": {},
   "source": [
    "We then create an embedder object."
   ]
  },
  {
   "cell_type": "code",
   "execution_count": null,
   "id": "a1ff22fd",
   "metadata": {},
   "outputs": [],
   "source": [
    "D = 128\n",
    "params = {\n",
    "    \"length\": 5,\n",
    "    \"number_of_walks\": 10,\n",
    "    \"epochs\": 5,\n",
    "    \"embedding_dimension\": D\n",
    "}\n",
    "attri2vec_embedder = StellarGraphNodeEmbedder(\n",
    "    \"attri2vec\", feature_vector_prop=\"features\", edge_weight=\"npmi\", **params)"
   ]
  },
  {
   "cell_type": "markdown",
   "id": "30dcdea4",
   "metadata": {},
   "source": [
    "And finally we create a pipeline object. Note that in the code below we use the `SimilarityProcessor` interface and not `NodeSimilarityProcessor`, as we have done it previously. We use this lower abstraction level interface, because the `EmbeddingPipeline` is designed to work with any embedding models (not only node embedding models)."
   ]
  },
  {
   "cell_type": "code",
   "execution_count": null,
   "id": "9dbd5995",
   "metadata": {},
   "outputs": [],
   "source": [
    "attri2vec_pipeline = EmbeddingPipeline(\n",
    "    preprocessor=definition_encoder,\n",
    "    embedder=attri2vec_embedder,\n",
    "    similarity_processor=SimilarityProcessor(similarity=\"cosine\", dimension=D))"
   ]
  },
  {
   "cell_type": "markdown",
   "id": "9e6eeef3",
   "metadata": {},
   "source": [
    "Let us read the training graph from the provided example dataset"
   ]
  },
  {
   "cell_type": "markdown",
   "id": "b0a3640f",
   "metadata": {},
   "source": [
    "We run the fitting process, which given the input data:\n",
    "1. fits the encoder\n",
    "2. transforms the data\n",
    "3. fits the embedder\n",
    "4. produces the embedding table\n",
    "5. fits the similarity processor index"
   ]
  },
  {
   "cell_type": "code",
   "execution_count": null,
   "id": "b8d12d69",
   "metadata": {},
   "outputs": [],
   "source": [
    "graph = PandasPGFrame.load_json(\"../data/cooccurrence_graph.json\")"
   ]
  },
  {
   "cell_type": "code",
   "execution_count": null,
   "id": "c51767e0",
   "metadata": {},
   "outputs": [],
   "source": [
    "attri2vec_pipeline.run_fitting(graph)"
   ]
  },
  {
   "cell_type": "markdown",
   "id": "d416dc1f",
   "metadata": {},
   "source": [
    "Now we can save our pipeline to the file system."
   ]
  },
  {
   "cell_type": "code",
   "execution_count": null,
   "id": "3fde8649",
   "metadata": {},
   "outputs": [],
   "source": [
    "attri2vec_pipeline.save(\n",
    "    \"../data/attri2vec_test_model\",\n",
    "    compress=True)"
   ]
  },
  {
   "cell_type": "code",
   "execution_count": null,
   "id": "915cfe27",
   "metadata": {},
   "outputs": [],
   "source": [
    "graph"
   ]
  },
  {
   "cell_type": "code",
   "execution_count": null,
   "id": "99782cb2",
   "metadata": {},
   "outputs": [],
   "source": [
    "graph.to_json()"
   ]
  },
  {
   "cell_type": "code",
   "execution_count": null,
   "id": "4e70af9a",
   "metadata": {},
   "outputs": [],
   "source": [
    "attri2vec_pipeline.run_prediction(graph)"
   ]
  },
  {
   "cell_type": "markdown",
   "id": "f7c27350",
   "metadata": {},
   "source": [
    "## Pushing models to the catalog"
   ]
  },
  {
   "cell_type": "code",
   "execution_count": null,
   "id": "3072c469",
   "metadata": {},
   "outputs": [],
   "source": [
    "import getpass\n",
    "import jwt\n",
    "\n",
    "from kgforge.core import KnowledgeGraphForge\n",
    "from kgforge.specializations.resources import Dataset"
   ]
  },
  {
   "cell_type": "code",
   "execution_count": null,
   "id": "a26d31f8",
   "metadata": {},
   "outputs": [],
   "source": [
    "FORGE_CONFIG_FILE = \"../services/embedder/configs/forge_configs/prod-forge-nexus.yml\""
   ]
  },
  {
   "cell_type": "markdown",
   "id": "5c19310b",
   "metadata": {},
   "source": [
    "Get your token from https://staging.nexus.ocp.bbp.epfl.ch/"
   ]
  },
  {
   "cell_type": "code",
   "execution_count": null,
   "id": "8e0cc120",
   "metadata": {},
   "outputs": [],
   "source": [
    "TOKEN = getpass.getpass()"
   ]
  },
  {
   "cell_type": "code",
   "execution_count": null,
   "id": "8912e89f",
   "metadata": {},
   "outputs": [],
   "source": [
    "forge = KnowledgeGraphForge(FORGE_CONFIG_FILE, token=TOKEN)"
   ]
  },
  {
   "cell_type": "code",
   "execution_count": null,
   "id": "70e5aede",
   "metadata": {},
   "outputs": [],
   "source": [
    "def get_agent(token):\n",
    "    agent_data = jwt.decode(token, verify=False)\n",
    "    agent = forge.reshape(\n",
    "        forge.from_json(agent_data), keep=[\n",
    "            \"name\", \"email\", \"sub\", \"preferred_username\"])\n",
    "    agent.id = agent.sub\n",
    "    agent.type = \"Person\"\n",
    "    return agent"
   ]
  },
  {
   "cell_type": "code",
   "execution_count": null,
   "id": "f6a41e9d",
   "metadata": {},
   "outputs": [],
   "source": [
    "def push_model(forge, agent, name, description, distribution):\n",
    "    # Create a new model resource\n",
    "    model_resource = Dataset(\n",
    "        forge,\n",
    "        name=name,\n",
    "        description=description)\n",
    "    model_resource.type = [\"Dataset\", \"EmbeddingModel\"]\n",
    "    # Add distrubution\n",
    "    model_resource.add_distribution(\n",
    "        distribution, content_type=\"application/octet-stream\")\n",
    "    # Add contribution\n",
    "    model_resource.add_contribution(agent, versioned=False)\n",
    "    model_resource.contribution.hadRole = \"Engineer\"\n",
    "\n",
    "    forge.register(model_resource)"
   ]
  },
  {
   "cell_type": "code",
   "execution_count": null,
   "id": "a7f3dab3",
   "metadata": {
    "scrolled": true
   },
   "outputs": [],
   "source": [
    "agent = get_agent(TOKEN)"
   ]
  },
  {
   "cell_type": "code",
   "execution_count": null,
   "id": "394896f8",
   "metadata": {},
   "outputs": [],
   "source": [
    "push_model(\n",
    "    forge, agent, \"New test attri2vec model\",\n",
    "    \"Node embedding model built on the Covid dataset\", \"../data/attri2vec_test_model.zip\")"
   ]
  },
  {
   "cell_type": "markdown",
   "id": "949d7d93",
   "metadata": {},
   "source": [
    "## Get existing models"
   ]
  },
  {
   "cell_type": "code",
   "execution_count": null,
   "id": "15421adb",
   "metadata": {},
   "outputs": [],
   "source": [
    "def retrieve_all_model_resources(forge):\n",
    "    \"\"\"Retrieve all models from the catalog.\"\"\"\n",
    "    query = \"\"\"\n",
    "        SELECT ?id\n",
    "        WHERE {\n",
    "            ?id a <https://bbp.epfl.ch/nexus/v1/resources/dke/embedder_catalog/_/EmbeddingModel>;\n",
    "                <https://bluebrain.github.io/nexus/vocabulary/deprecated> false.\n",
    "        }\n",
    "    \"\"\"\n",
    "    resources = forge.sparql(query, limit=1000)\n",
    "    return [\n",
    "        forge.retrieve(r.id) for r in resources\n",
    "    ]"
   ]
  },
  {
   "cell_type": "code",
   "execution_count": null,
   "id": "747eace2",
   "metadata": {},
   "outputs": [],
   "source": [
    "models = retrieve_all_model_resources(forge)\n",
    "for m in models:\n",
    "    print(m)"
   ]
  },
  {
   "cell_type": "markdown",
   "id": "8e63abf7",
   "metadata": {},
   "source": [
    "## Update an existing model"
   ]
  },
  {
   "cell_type": "code",
   "execution_count": null,
   "id": "216dcf9d",
   "metadata": {},
   "outputs": [],
   "source": [
    "def retrieve_model_resource(forge, model_name):\n",
    "    \"\"\"Retrieve model resource by its name.\"\"\"\n",
    "    query = f\"\"\"\n",
    "        SELECT ?id\n",
    "        WHERE {{\n",
    "            ?id a <https://bbp.epfl.ch/nexus/v1/resources/dke/embedder_catalog/_/EmbeddingModel>;\n",
    "                name \"{model_name}\";\n",
    "                <https://bluebrain.github.io/nexus/vocabulary/deprecated> false.\n",
    "        }}\n",
    "    \"\"\"\n",
    "    resources = forge.sparql(query, limit=1)\n",
    "    if resources and len(resources) > 0:\n",
    "        resource = forge.retrieve(resources[0].id)\n",
    "        return resource"
   ]
  },
  {
   "cell_type": "code",
   "execution_count": null,
   "id": "237bec6c",
   "metadata": {},
   "outputs": [],
   "source": [
    "def update_model(forge, name, description=None, distribution=None):\n",
    "    # Try retreiving model resource\n",
    "    model_resource = retrieve_model_resource(forge, name)\n",
    "    if model_resource:\n",
    "        # Update an existing model\n",
    "        if description:\n",
    "            model_resource.description = description\n",
    "        if distribution:\n",
    "            model_resource.distribution = forge.attach(\n",
    "                distribution, content_type=\"application/octet-stream\")\n",
    "        forge.update(model_resource)\n",
    "    else:\n",
    "        raise ValueError(\"Model node found\")"
   ]
  },
  {
   "cell_type": "code",
   "execution_count": null,
   "id": "6b8dc492",
   "metadata": {},
   "outputs": [],
   "source": [
    "update_model(forge, \"New test attri2vec model\", description=\"Updated description of the test model\")"
   ]
  },
  {
   "cell_type": "markdown",
   "id": "9ca846eb",
   "metadata": {},
   "source": [
    "## Delete a model"
   ]
  },
  {
   "cell_type": "code",
   "execution_count": null,
   "id": "5b0b88aa",
   "metadata": {},
   "outputs": [],
   "source": [
    "def deprecate_resource(forge, resource):\n",
    "    \"\"\"Deprecate the resource together with its distribution.\"\"\"\n",
    "    base = resource.id.rsplit('/', 1)[0]\n",
    "    file_id = resource.distribution.contentUrl.rsplit('/', 1)[1]\n",
    "    file = forge.retrieve(f\"{base}/{file_id}\")\n",
    "\n",
    "    forge.deprecate(resource)\n",
    "    forge.deprecate(file)"
   ]
  },
  {
   "cell_type": "code",
   "execution_count": null,
   "id": "7cdc008b",
   "metadata": {},
   "outputs": [],
   "source": [
    "model_resource = retrieve_model_resource(forge, \"New test attri2vec model\")"
   ]
  },
  {
   "cell_type": "code",
   "execution_count": null,
   "id": "e8af5096",
   "metadata": {},
   "outputs": [],
   "source": [
    "deprecate_resource(forge, model_resource)"
   ]
  }
 ],
 "metadata": {
  "kernelspec": {
   "display_name": "bg",
   "language": "python",
   "name": "bg"
  },
  "language_info": {
   "codemirror_mode": {
    "name": "ipython",
    "version": 3
   },
   "file_extension": ".py",
   "mimetype": "text/x-python",
   "name": "python",
   "nbconvert_exporter": "python",
   "pygments_lexer": "ipython3",
   "version": "3.7.10"
  }
 },
 "nbformat": 4,
 "nbformat_minor": 5
}
