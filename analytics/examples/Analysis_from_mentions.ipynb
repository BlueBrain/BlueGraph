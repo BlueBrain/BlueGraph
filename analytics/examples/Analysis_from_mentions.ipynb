{
 "cells": [
  {
   "cell_type": "code",
   "execution_count": 1,
   "metadata": {},
   "outputs": [],
   "source": [
    "import pandas as pd\n",
    "\n",
    "from analytics.network_generation import generate_comention_network\n",
    "from analytics.data_preparation import (mentions_to_occurrence,\n",
    "                                        is_experiment_related,\n",
    "                                        dummy_clean_up,\n",
    "                                        is_not_single_letter)\n",
    "from analytics.metrics import (compute_degree_centrality,\n",
    "                               compute_pagerank_centrality,\n",
    "                               compute_betweenness_centrality,\n",
    "                               detect_communities,\n",
    "                               compute_all_metrics)\n",
    "from analytics.export import (save_nodes,\n",
    "                              save_to_gephi)\n",
    "from analytics.paths import (minimum_spanning_tree,\n",
    "                             top_n_paths,\n",
    "                             top_n_tripaths,\n",
    "                             single_shortest_path)"
   ]
  },
  {
   "cell_type": "markdown",
   "metadata": {},
   "source": [
    "## 1. Read mentions data"
   ]
  },
  {
   "cell_type": "code",
   "execution_count": 2,
   "metadata": {},
   "outputs": [],
   "source": [
    "# Load 10000 lines of the mention data sample\n",
    "mentions = pd.read_csv(\"data/mention_data_sample.csv\", nrows=10000)\n",
    "\n",
    "# Extract unique paper/seciton/paragraph identifiers\n",
    "mentions[\"paper\"] = mentions[\"paper_id\"].apply(\n",
    "    lambda x: x.split(\":\")[0])\n",
    "mentions[\"section\"] = mentions[\"paper_id\"].apply(\n",
    "    lambda x: \":\".join([x.split(\":\")[0], x.split(\":\")[1]]))\n",
    "\n",
    "mentions = mentions.rename(columns={\"paper_id\": \"paragraph\"})"
   ]
  },
  {
   "cell_type": "code",
   "execution_count": 3,
   "metadata": {},
   "outputs": [
    {
     "data": {
      "text/html": [
       "<div>\n",
       "<style scoped>\n",
       "    .dataframe tbody tr th:only-of-type {\n",
       "        vertical-align: middle;\n",
       "    }\n",
       "\n",
       "    .dataframe tbody tr th {\n",
       "        vertical-align: top;\n",
       "    }\n",
       "\n",
       "    .dataframe thead th {\n",
       "        text-align: right;\n",
       "    }\n",
       "</style>\n",
       "<table border=\"1\" class=\"dataframe\">\n",
       "  <thead>\n",
       "    <tr style=\"text-align: right;\">\n",
       "      <th></th>\n",
       "      <th>entity</th>\n",
       "      <th>paragraph</th>\n",
       "      <th>paper</th>\n",
       "      <th>section</th>\n",
       "    </tr>\n",
       "  </thead>\n",
       "  <tbody>\n",
       "    <tr>\n",
       "      <th>0</th>\n",
       "      <td>tract</td>\n",
       "      <td>1:Introduction:2</td>\n",
       "      <td>1</td>\n",
       "      <td>1:Introduction</td>\n",
       "    </tr>\n",
       "    <tr>\n",
       "      <th>1</th>\n",
       "      <td>nasopharyngeal</td>\n",
       "      <td>1:Data Collection ::: Methods:4</td>\n",
       "      <td>1</td>\n",
       "      <td>1:Data Collection</td>\n",
       "    </tr>\n",
       "    <tr>\n",
       "      <th>2</th>\n",
       "      <td>tract</td>\n",
       "      <td>1:Data Collection ::: Methods:4</td>\n",
       "      <td>1</td>\n",
       "      <td>1:Data Collection</td>\n",
       "    </tr>\n",
       "    <tr>\n",
       "      <th>3</th>\n",
       "      <td>lung</td>\n",
       "      <td>1:Results:10</td>\n",
       "      <td>1</td>\n",
       "      <td>1:Results</td>\n",
       "    </tr>\n",
       "    <tr>\n",
       "      <th>4</th>\n",
       "      <td>heart</td>\n",
       "      <td>1:Results:10</td>\n",
       "      <td>1</td>\n",
       "      <td>1:Results</td>\n",
       "    </tr>\n",
       "    <tr>\n",
       "      <th>...</th>\n",
       "      <td>...</td>\n",
       "      <td>...</td>\n",
       "      <td>...</td>\n",
       "      <td>...</td>\n",
       "    </tr>\n",
       "    <tr>\n",
       "      <th>9995</th>\n",
       "      <td>A549 cells</td>\n",
       "      <td>19:Caption:44</td>\n",
       "      <td>19</td>\n",
       "      <td>19:Caption</td>\n",
       "    </tr>\n",
       "    <tr>\n",
       "      <th>9996</th>\n",
       "      <td>hNTH</td>\n",
       "      <td>19:Caption:44</td>\n",
       "      <td>19</td>\n",
       "      <td>19:Caption</td>\n",
       "    </tr>\n",
       "    <tr>\n",
       "      <th>9997</th>\n",
       "      <td>A549 cells</td>\n",
       "      <td>19:Caption:44</td>\n",
       "      <td>19</td>\n",
       "      <td>19:Caption</td>\n",
       "    </tr>\n",
       "    <tr>\n",
       "      <th>9998</th>\n",
       "      <td>hNTH</td>\n",
       "      <td>19:Caption:44</td>\n",
       "      <td>19</td>\n",
       "      <td>19:Caption</td>\n",
       "    </tr>\n",
       "    <tr>\n",
       "      <th>9999</th>\n",
       "      <td>vector control cells</td>\n",
       "      <td>19:Caption:44</td>\n",
       "      <td>19</td>\n",
       "      <td>19:Caption</td>\n",
       "    </tr>\n",
       "  </tbody>\n",
       "</table>\n",
       "<p>10000 rows × 4 columns</p>\n",
       "</div>"
      ],
      "text/plain": [
       "                    entity                        paragraph paper  \\\n",
       "0                    tract                 1:Introduction:2     1   \n",
       "1           nasopharyngeal  1:Data Collection ::: Methods:4     1   \n",
       "2                    tract  1:Data Collection ::: Methods:4     1   \n",
       "3                     lung                     1:Results:10     1   \n",
       "4                    heart                     1:Results:10     1   \n",
       "...                    ...                              ...   ...   \n",
       "9995            A549 cells                    19:Caption:44    19   \n",
       "9996                  hNTH                    19:Caption:44    19   \n",
       "9997            A549 cells                    19:Caption:44    19   \n",
       "9998                  hNTH                    19:Caption:44    19   \n",
       "9999  vector control cells                    19:Caption:44    19   \n",
       "\n",
       "                 section  \n",
       "0         1:Introduction  \n",
       "1     1:Data Collection   \n",
       "2     1:Data Collection   \n",
       "3              1:Results  \n",
       "4              1:Results  \n",
       "...                  ...  \n",
       "9995          19:Caption  \n",
       "9996          19:Caption  \n",
       "9997          19:Caption  \n",
       "9998          19:Caption  \n",
       "9999          19:Caption  \n",
       "\n",
       "[10000 rows x 4 columns]"
      ]
     },
     "execution_count": 3,
     "metadata": {},
     "output_type": "execute_result"
    }
   ],
   "source": [
    "mentions"
   ]
  },
  {
   "cell_type": "markdown",
   "metadata": {},
   "source": [
    "## 2. Transform mentions into occurrences"
   ]
  },
  {
   "cell_type": "code",
   "execution_count": 4,
   "metadata": {},
   "outputs": [
    {
     "name": "stdout",
     "output_type": "stream",
     "text": [
      "Cleaning up the entities...\n",
      "Aggregating occurrences of entities....\n",
      "Saving the occurrence data....\n"
     ]
    }
   ],
   "source": [
    "occurrence_data, counts = mentions_to_occurrence(\n",
    "    mentions,\n",
    "    term_column=\"entity\",\n",
    "    factor_columns=[\"paper\", \"section\", \"paragraph\"],\n",
    "    term_cleanup=dummy_clean_up,\n",
    "    term_filter=is_not_single_letter,\n",
    "    mention_filter=lambda data: ~data[\"section\"].apply(is_experiment_related),\n",
    "    dump_prefix=\"data/example_\")"
   ]
  },
  {
   "cell_type": "code",
   "execution_count": 5,
   "metadata": {
    "scrolled": false
   },
   "outputs": [
    {
     "data": {
      "text/html": [
       "<div>\n",
       "<style scoped>\n",
       "    .dataframe tbody tr th:only-of-type {\n",
       "        vertical-align: middle;\n",
       "    }\n",
       "\n",
       "    .dataframe tbody tr th {\n",
       "        vertical-align: top;\n",
       "    }\n",
       "\n",
       "    .dataframe thead th {\n",
       "        text-align: right;\n",
       "    }\n",
       "</style>\n",
       "<table border=\"1\" class=\"dataframe\">\n",
       "  <thead>\n",
       "    <tr style=\"text-align: right;\">\n",
       "      <th></th>\n",
       "      <th>paragraph</th>\n",
       "      <th>paper</th>\n",
       "      <th>section</th>\n",
       "    </tr>\n",
       "    <tr>\n",
       "      <th>entity</th>\n",
       "      <th></th>\n",
       "      <th></th>\n",
       "      <th></th>\n",
       "    </tr>\n",
       "  </thead>\n",
       "  <tbody>\n",
       "    <tr>\n",
       "      <th>1 nucleotide</th>\n",
       "      <td>{6:The Discontinuous Step In Nidovirus Sg Rna ...</td>\n",
       "      <td>{6}</td>\n",
       "      <td>{6:The Discontinuous Step In Nidovirus Sg Rna ...</td>\n",
       "    </tr>\n",
       "    <tr>\n",
       "      <th>1,2,9</th>\n",
       "      <td>{19:Background:4}</td>\n",
       "      <td>{19}</td>\n",
       "      <td>{19:Background}</td>\n",
       "    </tr>\n",
       "    <tr>\n",
       "      <th>10/100,000</th>\n",
       "      <td>{8:Acute Respiratory Distress Syndrome:14}</td>\n",
       "      <td>{8}</td>\n",
       "      <td>{8:Acute Respiratory Distress Syndrome}</td>\n",
       "    </tr>\n",
       "    <tr>\n",
       "      <th>104</th>\n",
       "      <td>{9:Pulmonary Vascular Disease ::: Review:23}</td>\n",
       "      <td>{9}</td>\n",
       "      <td>{9:Pulmonary Vascular Disease }</td>\n",
       "    </tr>\n",
       "    <tr>\n",
       "      <th>11c</th>\n",
       "      <td>{14:A10L And L4R Associate With Microtubules I...</td>\n",
       "      <td>{14}</td>\n",
       "      <td>{14:A10L And L4R Associate With Microtubules I...</td>\n",
       "    </tr>\n",
       "    <tr>\n",
       "      <th>...</th>\n",
       "      <td>...</td>\n",
       "      <td>...</td>\n",
       "      <td>...</td>\n",
       "    </tr>\n",
       "    <tr>\n",
       "      <th>–208</th>\n",
       "      <td>{5:Syncytia Formation:17}</td>\n",
       "      <td>{5}</td>\n",
       "      <td>{5:Syncytia Formation}</td>\n",
       "    </tr>\n",
       "    <tr>\n",
       "      <th>–met</th>\n",
       "      <td>{11:In Vitro Transcription And Translation :::...</td>\n",
       "      <td>{11}</td>\n",
       "      <td>{11:In Vitro Transcription And Translation }</td>\n",
       "    </tr>\n",
       "    <tr>\n",
       "      <th>†in</th>\n",
       "      <td>{7:Caption:27}</td>\n",
       "      <td>{7}</td>\n",
       "      <td>{7:Caption}</td>\n",
       "    </tr>\n",
       "    <tr>\n",
       "      <th>∼250 kda</th>\n",
       "      <td>{12:Discussion:21, 12:The Mechanism Of Dominan...</td>\n",
       "      <td>{12}</td>\n",
       "      <td>{12:Discussion, 12:The Mechanism Of Dominant-N...</td>\n",
       "    </tr>\n",
       "    <tr>\n",
       "      <th>∼80</th>\n",
       "      <td>{12:Di Rna Transcription And Transfection ::: ...</td>\n",
       "      <td>{11, 12}</td>\n",
       "      <td>{11:Identification Of An Antizyme Gene In Schi...</td>\n",
       "    </tr>\n",
       "  </tbody>\n",
       "</table>\n",
       "<p>2880 rows × 3 columns</p>\n",
       "</div>"
      ],
      "text/plain": [
       "                                                      paragraph     paper  \\\n",
       "entity                                                                      \n",
       "1 nucleotide  {6:The Discontinuous Step In Nidovirus Sg Rna ...       {6}   \n",
       "1,2,9                                         {19:Background:4}      {19}   \n",
       "10/100,000           {8:Acute Respiratory Distress Syndrome:14}       {8}   \n",
       "104                {9:Pulmonary Vascular Disease ::: Review:23}       {9}   \n",
       "11c           {14:A10L And L4R Associate With Microtubules I...      {14}   \n",
       "...                                                         ...       ...   \n",
       "–208                                  {5:Syncytia Formation:17}       {5}   \n",
       "–met          {11:In Vitro Transcription And Translation :::...      {11}   \n",
       "†in                                              {7:Caption:27}       {7}   \n",
       "∼250 kda      {12:Discussion:21, 12:The Mechanism Of Dominan...      {12}   \n",
       "∼80           {12:Di Rna Transcription And Transfection ::: ...  {11, 12}   \n",
       "\n",
       "                                                        section  \n",
       "entity                                                           \n",
       "1 nucleotide  {6:The Discontinuous Step In Nidovirus Sg Rna ...  \n",
       "1,2,9                                           {19:Background}  \n",
       "10/100,000              {8:Acute Respiratory Distress Syndrome}  \n",
       "104                             {9:Pulmonary Vascular Disease }  \n",
       "11c           {14:A10L And L4R Associate With Microtubules I...  \n",
       "...                                                         ...  \n",
       "–208                                     {5:Syncytia Formation}  \n",
       "–met               {11:In Vitro Transcription And Translation }  \n",
       "†in                                                 {7:Caption}  \n",
       "∼250 kda      {12:Discussion, 12:The Mechanism Of Dominant-N...  \n",
       "∼80           {11:Identification Of An Antizyme Gene In Schi...  \n",
       "\n",
       "[2880 rows x 3 columns]"
      ]
     },
     "execution_count": 5,
     "metadata": {},
     "output_type": "execute_result"
    }
   ],
   "source": [
    "occurrence_data"
   ]
  },
  {
   "cell_type": "code",
   "execution_count": 6,
   "metadata": {},
   "outputs": [
    {
     "data": {
      "text/html": [
       "<div>\n",
       "<style scoped>\n",
       "    .dataframe tbody tr th:only-of-type {\n",
       "        vertical-align: middle;\n",
       "    }\n",
       "\n",
       "    .dataframe tbody tr th {\n",
       "        vertical-align: top;\n",
       "    }\n",
       "\n",
       "    .dataframe thead th {\n",
       "        text-align: right;\n",
       "    }\n",
       "</style>\n",
       "<table border=\"1\" class=\"dataframe\">\n",
       "  <thead>\n",
       "    <tr style=\"text-align: right;\">\n",
       "      <th></th>\n",
       "      <th>paragraph</th>\n",
       "      <th>paper</th>\n",
       "      <th>section</th>\n",
       "    </tr>\n",
       "    <tr>\n",
       "      <th>entity</th>\n",
       "      <th></th>\n",
       "      <th></th>\n",
       "      <th></th>\n",
       "    </tr>\n",
       "  </thead>\n",
       "  <tbody>\n",
       "    <tr>\n",
       "      <th>16,20</th>\n",
       "      <td>{2:Protein Tyrosine Nitration In The Lung: Doe...</td>\n",
       "      <td>{2}</td>\n",
       "      <td>{2:Injurious Properties Of No•, 2:Protein Tyro...</td>\n",
       "    </tr>\n",
       "    <tr>\n",
       "      <th>2-oxoglutarate</th>\n",
       "      <td>{20:Background:2, 20:The Viral Alkb Domains Ar...</td>\n",
       "      <td>{20}</td>\n",
       "      <td>{20:Background, 20:The Viral Alkb Domains Are ...</td>\n",
       "    </tr>\n",
       "    <tr>\n",
       "      <th>2c cells</th>\n",
       "      <td>{25:Caption:26, 25:Rna Isolation And Different...</td>\n",
       "      <td>{25}</td>\n",
       "      <td>{25:Discussion, 25:Caption, 25:Rna Isolation A...</td>\n",
       "    </tr>\n",
       "    <tr>\n",
       "      <th>3-methylcytosine</th>\n",
       "      <td>{20:The Alkb Domain Probably Protects Virus Rn...</td>\n",
       "      <td>{20}</td>\n",
       "      <td>{20:Background, 20:Abstract, 20:The Alkb Domai...</td>\n",
       "    </tr>\n",
       "    <tr>\n",
       "      <th>3-nitrotyrosine</th>\n",
       "      <td>{2:Protein Tyrosine Nitration In The Lung: Doe...</td>\n",
       "      <td>{2}</td>\n",
       "      <td>{2:Injurious Properties Of No•, 2:Protein Tyro...</td>\n",
       "    </tr>\n",
       "    <tr>\n",
       "      <th>...</th>\n",
       "      <td>...</td>\n",
       "      <td>...</td>\n",
       "      <td>...</td>\n",
       "    </tr>\n",
       "    <tr>\n",
       "      <th>β-galactosidase</th>\n",
       "      <td>{11:Translational Frameshifting During Express...</td>\n",
       "      <td>{11}</td>\n",
       "      <td>{11:Identification Of Antizyme Genes In Nemato...</td>\n",
       "    </tr>\n",
       "    <tr>\n",
       "      <th>γ-tubulin</th>\n",
       "      <td>{14:Vaccinia Virus Infection Disrupts Centroso...</td>\n",
       "      <td>{14}</td>\n",
       "      <td>{14:Vaccinia Virus Infection Disrupts Centroso...</td>\n",
       "    </tr>\n",
       "    <tr>\n",
       "      <th>–20</th>\n",
       "      <td>{12:Immunofluorescence Staining ::: Materials ...</td>\n",
       "      <td>{12, 14}</td>\n",
       "      <td>{14:Antibodies And Immunofluorescence Microsco...</td>\n",
       "    </tr>\n",
       "    <tr>\n",
       "      <th>∼250 kda</th>\n",
       "      <td>{12:Discussion:21, 12:The Mechanism Of Dominan...</td>\n",
       "      <td>{12}</td>\n",
       "      <td>{12:Discussion, 12:The Mechanism Of Dominant-N...</td>\n",
       "    </tr>\n",
       "    <tr>\n",
       "      <th>∼80</th>\n",
       "      <td>{12:Di Rna Transcription And Transfection ::: ...</td>\n",
       "      <td>{11, 12}</td>\n",
       "      <td>{11:Identification Of An Antizyme Gene In Schi...</td>\n",
       "    </tr>\n",
       "  </tbody>\n",
       "</table>\n",
       "<p>896 rows × 3 columns</p>\n",
       "</div>"
      ],
      "text/plain": [
       "                                                          paragraph     paper  \\\n",
       "entity                                                                          \n",
       "16,20             {2:Protein Tyrosine Nitration In The Lung: Doe...       {2}   \n",
       "2-oxoglutarate    {20:Background:2, 20:The Viral Alkb Domains Ar...      {20}   \n",
       "2c cells          {25:Caption:26, 25:Rna Isolation And Different...      {25}   \n",
       "3-methylcytosine  {20:The Alkb Domain Probably Protects Virus Rn...      {20}   \n",
       "3-nitrotyrosine   {2:Protein Tyrosine Nitration In The Lung: Doe...       {2}   \n",
       "...                                                             ...       ...   \n",
       "β-galactosidase   {11:Translational Frameshifting During Express...      {11}   \n",
       "γ-tubulin         {14:Vaccinia Virus Infection Disrupts Centroso...      {14}   \n",
       "–20               {12:Immunofluorescence Staining ::: Materials ...  {12, 14}   \n",
       "∼250 kda          {12:Discussion:21, 12:The Mechanism Of Dominan...      {12}   \n",
       "∼80               {12:Di Rna Transcription And Transfection ::: ...  {11, 12}   \n",
       "\n",
       "                                                            section  \n",
       "entity                                                               \n",
       "16,20             {2:Injurious Properties Of No•, 2:Protein Tyro...  \n",
       "2-oxoglutarate    {20:Background, 20:The Viral Alkb Domains Are ...  \n",
       "2c cells          {25:Discussion, 25:Caption, 25:Rna Isolation A...  \n",
       "3-methylcytosine  {20:Background, 20:Abstract, 20:The Alkb Domai...  \n",
       "3-nitrotyrosine   {2:Injurious Properties Of No•, 2:Protein Tyro...  \n",
       "...                                                             ...  \n",
       "β-galactosidase   {11:Identification Of Antizyme Genes In Nemato...  \n",
       "γ-tubulin         {14:Vaccinia Virus Infection Disrupts Centroso...  \n",
       "–20               {14:Antibodies And Immunofluorescence Microsco...  \n",
       "∼250 kda          {12:Discussion, 12:The Mechanism Of Dominant-N...  \n",
       "∼80               {11:Identification Of An Antizyme Gene In Schi...  \n",
       "\n",
       "[896 rows x 3 columns]"
      ]
     },
     "execution_count": 6,
     "metadata": {},
     "output_type": "execute_result"
    }
   ],
   "source": [
    "# Filter entities that occur only once (only in one paragraph, usually represent noisy terms)\n",
    "occurrence_data = occurrence_data[occurrence_data[\"paragraph\"].apply(lambda x: len(x) > 1)]\n",
    "occurrence_data"
   ]
  },
  {
   "cell_type": "code",
   "execution_count": 7,
   "metadata": {},
   "outputs": [
    {
     "data": {
      "text/plain": [
       "{'paper': 41, 'section': 465, 'paragraph': 1045}"
      ]
     },
     "execution_count": 7,
     "metadata": {},
     "output_type": "execute_result"
    }
   ],
   "source": [
    "counts"
   ]
  },
  {
   "cell_type": "markdown",
   "metadata": {},
   "source": [
    "## 3. Generate co-occurrence networks"
   ]
  },
  {
   "cell_type": "code",
   "execution_count": 8,
   "metadata": {
    "scrolled": true
   },
   "outputs": [
    {
     "name": "stdout",
     "output_type": "stream",
     "text": [
      "Examining 400960 pairs of terms for co-occurrence...\n"
     ]
    },
    {
     "ename": "KeyboardInterrupt",
     "evalue": "",
     "output_type": "error",
     "traceback": [
      "\u001b[0;31m---------------------------------------------------------------------------\u001b[0m",
      "\u001b[0;31mKeyboardInterrupt\u001b[0m                         Traceback (most recent call last)",
      "\u001b[0;32m<ipython-input-8-e9e457f17524>\u001b[0m in \u001b[0;36m<module>\u001b[0;34m\u001b[0m\n\u001b[1;32m      1\u001b[0m \u001b[0;31m# Limit to 1000 edges\u001b[0m\u001b[0;34m\u001b[0m\u001b[0;34m\u001b[0m\u001b[0;34m\u001b[0m\u001b[0m\n\u001b[0;32m----> 2\u001b[0;31m paper_comention_network_1000_edges = generate_comention_network(\n\u001b[0m\u001b[1;32m      3\u001b[0m     \u001b[0moccurrence_data\u001b[0m\u001b[0;34m,\u001b[0m \u001b[0;34m\"paper\"\u001b[0m\u001b[0;34m,\u001b[0m \u001b[0mcounts\u001b[0m\u001b[0;34m[\u001b[0m\u001b[0;34m\"paper\"\u001b[0m\u001b[0;34m]\u001b[0m\u001b[0;34m,\u001b[0m\u001b[0;34m\u001b[0m\u001b[0;34m\u001b[0m\u001b[0m\n\u001b[1;32m      4\u001b[0m \u001b[0;31m#     n_most_frequent=100,\u001b[0m\u001b[0;34m\u001b[0m\u001b[0;34m\u001b[0m\u001b[0;34m\u001b[0m\u001b[0m\n\u001b[1;32m      5\u001b[0m     \u001b[0mlimit\u001b[0m\u001b[0;34m=\u001b[0m\u001b[0;36m1000\u001b[0m\u001b[0;34m,\u001b[0m\u001b[0;34m\u001b[0m\u001b[0;34m\u001b[0m\u001b[0m\n",
      "\u001b[0;32m~/opt/anaconda3/envs/bbg/lib/python3.8/site-packages/bbg_analytics-0.0.0-py3.8.egg/analytics/network_generation.py\u001b[0m in \u001b[0;36mgenerate_comention_network\u001b[0;34m(occurrence_data, factor_column, factor_count, n_most_frequent, limit, parallelize, cores, dump_path, keep)\u001b[0m\n\u001b[1;32m    193\u001b[0m     \u001b[0;32melse\u001b[0m\u001b[0;34m:\u001b[0m\u001b[0;34m\u001b[0m\u001b[0;34m\u001b[0m\u001b[0m\n\u001b[1;32m    194\u001b[0m         \u001b[0;32mfor\u001b[0m \u001b[0msource_index\u001b[0m \u001b[0;32min\u001b[0m \u001b[0mrange\u001b[0m\u001b[0;34m(\u001b[0m\u001b[0mlen\u001b[0m\u001b[0;34m(\u001b[0m\u001b[0mnodes\u001b[0m\u001b[0;34m)\u001b[0m\u001b[0;34m)\u001b[0m\u001b[0;34m:\u001b[0m\u001b[0;34m\u001b[0m\u001b[0;34m\u001b[0m\u001b[0m\n\u001b[0;32m--> 195\u001b[0;31m             edges = scan_targets(\n\u001b[0m\u001b[1;32m    196\u001b[0m                 \u001b[0moccurrence_data\u001b[0m\u001b[0;34m,\u001b[0m \u001b[0mfactor_column\u001b[0m\u001b[0;34m,\u001b[0m \u001b[0mfactor_count\u001b[0m\u001b[0;34m,\u001b[0m\u001b[0;34m\u001b[0m\u001b[0;34m\u001b[0m\u001b[0m\n\u001b[1;32m    197\u001b[0m                 \u001b[0mindices_to_nodes\u001b[0m\u001b[0;34m,\u001b[0m \u001b[0msource_index\u001b[0m\u001b[0;34m,\u001b[0m \u001b[0mall_edges\u001b[0m\u001b[0;34m,\u001b[0m\u001b[0;34m\u001b[0m\u001b[0;34m\u001b[0m\u001b[0m\n",
      "\u001b[0;32m~/opt/anaconda3/envs/bbg/lib/python3.8/site-packages/bbg_analytics-0.0.0-py3.8.egg/analytics/network_generation.py\u001b[0m in \u001b[0;36mscan_targets\u001b[0;34m(occurrence_data, factor_column, factor_count, indices_to_nodes, source_index, generated_edges, limit)\u001b[0m\n\u001b[1;32m     24\u001b[0m \u001b[0;34m\u001b[0m\u001b[0m\n\u001b[1;32m     25\u001b[0m         \u001b[0;32mif\u001b[0m \u001b[0mfrequency\u001b[0m \u001b[0;34m>\u001b[0m \u001b[0;36m0\u001b[0m\u001b[0;34m:\u001b[0m\u001b[0;34m\u001b[0m\u001b[0;34m\u001b[0m\u001b[0m\n\u001b[0;32m---> 26\u001b[0;31m             ppmi = mutual_information(\n\u001b[0m\u001b[1;32m     27\u001b[0m                 \u001b[0moccurrence_data\u001b[0m\u001b[0;34m,\u001b[0m \u001b[0mfactor_column\u001b[0m\u001b[0;34m,\u001b[0m\u001b[0;34m\u001b[0m\u001b[0;34m\u001b[0m\u001b[0m\n\u001b[1;32m     28\u001b[0m                 factor_count, s, t)\n",
      "\u001b[0;32m~/opt/anaconda3/envs/bbg/lib/python3.8/site-packages/bbg_analytics-0.0.0-py3.8.egg/analytics/network_generation.py\u001b[0m in \u001b[0;36mmutual_information\u001b[0;34m(occurrence_data, factor, total_instances, s, t, mitype)\u001b[0m\n\u001b[1;32m    104\u001b[0m     \u001b[0;34m\"\"\"Compute mutual information on a pair of terms.\"\"\"\u001b[0m\u001b[0;34m\u001b[0m\u001b[0;34m\u001b[0m\u001b[0m\n\u001b[1;32m    105\u001b[0m     \u001b[0mco_freq\u001b[0m \u001b[0;34m=\u001b[0m \u001b[0mcofrequence\u001b[0m\u001b[0;34m(\u001b[0m\u001b[0moccurrence_data\u001b[0m\u001b[0;34m,\u001b[0m \u001b[0mfactor\u001b[0m\u001b[0;34m,\u001b[0m \u001b[0ms\u001b[0m\u001b[0;34m,\u001b[0m \u001b[0mt\u001b[0m\u001b[0;34m)\u001b[0m\u001b[0;34m\u001b[0m\u001b[0;34m\u001b[0m\u001b[0m\n\u001b[0;32m--> 106\u001b[0;31m     \u001b[0ms_freq\u001b[0m \u001b[0;34m=\u001b[0m \u001b[0mlen\u001b[0m\u001b[0;34m(\u001b[0m\u001b[0moccurrence_data\u001b[0m\u001b[0;34m.\u001b[0m\u001b[0mloc\u001b[0m\u001b[0;34m[\u001b[0m\u001b[0ms\u001b[0m\u001b[0;34m]\u001b[0m\u001b[0;34m[\u001b[0m\u001b[0mfactor\u001b[0m\u001b[0;34m]\u001b[0m\u001b[0;34m)\u001b[0m\u001b[0;34m\u001b[0m\u001b[0;34m\u001b[0m\u001b[0m\n\u001b[0m\u001b[1;32m    107\u001b[0m     \u001b[0mt_freq\u001b[0m \u001b[0;34m=\u001b[0m \u001b[0mlen\u001b[0m\u001b[0;34m(\u001b[0m\u001b[0moccurrence_data\u001b[0m\u001b[0;34m.\u001b[0m\u001b[0mloc\u001b[0m\u001b[0;34m[\u001b[0m\u001b[0mt\u001b[0m\u001b[0;34m]\u001b[0m\u001b[0;34m[\u001b[0m\u001b[0mfactor\u001b[0m\u001b[0;34m]\u001b[0m\u001b[0;34m)\u001b[0m\u001b[0;34m\u001b[0m\u001b[0;34m\u001b[0m\u001b[0m\n\u001b[1;32m    108\u001b[0m     \u001b[0;32mif\u001b[0m \u001b[0mco_freq\u001b[0m \u001b[0;34m>\u001b[0m \u001b[0;36m0\u001b[0m\u001b[0;34m:\u001b[0m\u001b[0;34m\u001b[0m\u001b[0;34m\u001b[0m\u001b[0m\n",
      "\u001b[0;32m~/opt/anaconda3/envs/bbg/lib/python3.8/site-packages/pandas-1.1.2-py3.8-macosx-10.9-x86_64.egg/pandas/core/indexing.py\u001b[0m in \u001b[0;36m__getitem__\u001b[0;34m(self, key)\u001b[0m\n\u001b[1;32m    877\u001b[0m \u001b[0;34m\u001b[0m\u001b[0m\n\u001b[1;32m    878\u001b[0m             \u001b[0mmaybe_callable\u001b[0m \u001b[0;34m=\u001b[0m \u001b[0mcom\u001b[0m\u001b[0;34m.\u001b[0m\u001b[0mapply_if_callable\u001b[0m\u001b[0;34m(\u001b[0m\u001b[0mkey\u001b[0m\u001b[0;34m,\u001b[0m \u001b[0mself\u001b[0m\u001b[0;34m.\u001b[0m\u001b[0mobj\u001b[0m\u001b[0;34m)\u001b[0m\u001b[0;34m\u001b[0m\u001b[0;34m\u001b[0m\u001b[0m\n\u001b[0;32m--> 879\u001b[0;31m             \u001b[0;32mreturn\u001b[0m \u001b[0mself\u001b[0m\u001b[0;34m.\u001b[0m\u001b[0m_getitem_axis\u001b[0m\u001b[0;34m(\u001b[0m\u001b[0mmaybe_callable\u001b[0m\u001b[0;34m,\u001b[0m \u001b[0maxis\u001b[0m\u001b[0;34m=\u001b[0m\u001b[0maxis\u001b[0m\u001b[0;34m)\u001b[0m\u001b[0;34m\u001b[0m\u001b[0;34m\u001b[0m\u001b[0m\n\u001b[0m\u001b[1;32m    880\u001b[0m \u001b[0;34m\u001b[0m\u001b[0m\n\u001b[1;32m    881\u001b[0m     \u001b[0;32mdef\u001b[0m \u001b[0m_is_scalar_access\u001b[0m\u001b[0;34m(\u001b[0m\u001b[0mself\u001b[0m\u001b[0;34m,\u001b[0m \u001b[0mkey\u001b[0m\u001b[0;34m:\u001b[0m \u001b[0mTuple\u001b[0m\u001b[0;34m)\u001b[0m\u001b[0;34m:\u001b[0m\u001b[0;34m\u001b[0m\u001b[0;34m\u001b[0m\u001b[0m\n",
      "\u001b[0;32m~/opt/anaconda3/envs/bbg/lib/python3.8/site-packages/pandas-1.1.2-py3.8-macosx-10.9-x86_64.egg/pandas/core/indexing.py\u001b[0m in \u001b[0;36m_getitem_axis\u001b[0;34m(self, key, axis)\u001b[0m\n\u001b[1;32m   1108\u001b[0m         \u001b[0;31m# fall thru to straight lookup\u001b[0m\u001b[0;34m\u001b[0m\u001b[0;34m\u001b[0m\u001b[0;34m\u001b[0m\u001b[0m\n\u001b[1;32m   1109\u001b[0m         \u001b[0mself\u001b[0m\u001b[0;34m.\u001b[0m\u001b[0m_validate_key\u001b[0m\u001b[0;34m(\u001b[0m\u001b[0mkey\u001b[0m\u001b[0;34m,\u001b[0m \u001b[0maxis\u001b[0m\u001b[0;34m)\u001b[0m\u001b[0;34m\u001b[0m\u001b[0;34m\u001b[0m\u001b[0m\n\u001b[0;32m-> 1110\u001b[0;31m         \u001b[0;32mreturn\u001b[0m \u001b[0mself\u001b[0m\u001b[0;34m.\u001b[0m\u001b[0m_get_label\u001b[0m\u001b[0;34m(\u001b[0m\u001b[0mkey\u001b[0m\u001b[0;34m,\u001b[0m \u001b[0maxis\u001b[0m\u001b[0;34m=\u001b[0m\u001b[0maxis\u001b[0m\u001b[0;34m)\u001b[0m\u001b[0;34m\u001b[0m\u001b[0;34m\u001b[0m\u001b[0m\n\u001b[0m\u001b[1;32m   1111\u001b[0m \u001b[0;34m\u001b[0m\u001b[0m\n\u001b[1;32m   1112\u001b[0m     \u001b[0;32mdef\u001b[0m \u001b[0m_get_slice_axis\u001b[0m\u001b[0;34m(\u001b[0m\u001b[0mself\u001b[0m\u001b[0;34m,\u001b[0m \u001b[0mslice_obj\u001b[0m\u001b[0;34m:\u001b[0m \u001b[0mslice\u001b[0m\u001b[0;34m,\u001b[0m \u001b[0maxis\u001b[0m\u001b[0;34m:\u001b[0m \u001b[0mint\u001b[0m\u001b[0;34m)\u001b[0m\u001b[0;34m:\u001b[0m\u001b[0;34m\u001b[0m\u001b[0;34m\u001b[0m\u001b[0m\n",
      "\u001b[0;32m~/opt/anaconda3/envs/bbg/lib/python3.8/site-packages/pandas-1.1.2-py3.8-macosx-10.9-x86_64.egg/pandas/core/indexing.py\u001b[0m in \u001b[0;36m_get_label\u001b[0;34m(self, label, axis)\u001b[0m\n\u001b[1;32m   1057\u001b[0m     \u001b[0;32mdef\u001b[0m \u001b[0m_get_label\u001b[0m\u001b[0;34m(\u001b[0m\u001b[0mself\u001b[0m\u001b[0;34m,\u001b[0m \u001b[0mlabel\u001b[0m\u001b[0;34m,\u001b[0m \u001b[0maxis\u001b[0m\u001b[0;34m:\u001b[0m \u001b[0mint\u001b[0m\u001b[0;34m)\u001b[0m\u001b[0;34m:\u001b[0m\u001b[0;34m\u001b[0m\u001b[0;34m\u001b[0m\u001b[0m\n\u001b[1;32m   1058\u001b[0m         \u001b[0;31m# GH#5667 this will fail if the label is not present in the axis.\u001b[0m\u001b[0;34m\u001b[0m\u001b[0;34m\u001b[0m\u001b[0;34m\u001b[0m\u001b[0m\n\u001b[0;32m-> 1059\u001b[0;31m         \u001b[0;32mreturn\u001b[0m \u001b[0mself\u001b[0m\u001b[0;34m.\u001b[0m\u001b[0mobj\u001b[0m\u001b[0;34m.\u001b[0m\u001b[0mxs\u001b[0m\u001b[0;34m(\u001b[0m\u001b[0mlabel\u001b[0m\u001b[0;34m,\u001b[0m \u001b[0maxis\u001b[0m\u001b[0;34m=\u001b[0m\u001b[0maxis\u001b[0m\u001b[0;34m)\u001b[0m\u001b[0;34m\u001b[0m\u001b[0;34m\u001b[0m\u001b[0m\n\u001b[0m\u001b[1;32m   1060\u001b[0m \u001b[0;34m\u001b[0m\u001b[0m\n\u001b[1;32m   1061\u001b[0m     \u001b[0;32mdef\u001b[0m \u001b[0m_handle_lowerdim_multi_index_axis0\u001b[0m\u001b[0;34m(\u001b[0m\u001b[0mself\u001b[0m\u001b[0;34m,\u001b[0m \u001b[0mtup\u001b[0m\u001b[0;34m:\u001b[0m \u001b[0mTuple\u001b[0m\u001b[0;34m)\u001b[0m\u001b[0;34m:\u001b[0m\u001b[0;34m\u001b[0m\u001b[0;34m\u001b[0m\u001b[0m\n",
      "\u001b[0;32m~/opt/anaconda3/envs/bbg/lib/python3.8/site-packages/pandas-1.1.2-py3.8-macosx-10.9-x86_64.egg/pandas/core/generic.py\u001b[0m in \u001b[0;36mxs\u001b[0;34m(self, key, axis, level, drop_level)\u001b[0m\n\u001b[1;32m   3511\u001b[0m                 \u001b[0mnew_values\u001b[0m\u001b[0;34m,\u001b[0m\u001b[0;34m\u001b[0m\u001b[0;34m\u001b[0m\u001b[0m\n\u001b[1;32m   3512\u001b[0m                 \u001b[0mindex\u001b[0m\u001b[0;34m=\u001b[0m\u001b[0mself\u001b[0m\u001b[0;34m.\u001b[0m\u001b[0mcolumns\u001b[0m\u001b[0;34m,\u001b[0m\u001b[0;34m\u001b[0m\u001b[0;34m\u001b[0m\u001b[0m\n\u001b[0;32m-> 3513\u001b[0;31m                 \u001b[0mname\u001b[0m\u001b[0;34m=\u001b[0m\u001b[0mself\u001b[0m\u001b[0;34m.\u001b[0m\u001b[0mindex\u001b[0m\u001b[0;34m[\u001b[0m\u001b[0mloc\u001b[0m\u001b[0;34m]\u001b[0m\u001b[0;34m,\u001b[0m\u001b[0;34m\u001b[0m\u001b[0;34m\u001b[0m\u001b[0m\n\u001b[0m\u001b[1;32m   3514\u001b[0m                 \u001b[0mdtype\u001b[0m\u001b[0;34m=\u001b[0m\u001b[0mnew_values\u001b[0m\u001b[0;34m.\u001b[0m\u001b[0mdtype\u001b[0m\u001b[0;34m,\u001b[0m\u001b[0;34m\u001b[0m\u001b[0;34m\u001b[0m\u001b[0m\n\u001b[1;32m   3515\u001b[0m             )\n",
      "\u001b[0;31mKeyboardInterrupt\u001b[0m: "
     ]
    }
   ],
   "source": [
    "# Limit to 1000 edges\n",
    "paper_comention_network_1000_edges = generate_comention_network(\n",
    "    occurrence_data, \"paper\", counts[\"paper\"],\n",
    "#     n_most_frequent=100,\n",
    "    limit=1000,\n",
    "    parallelize=False)"
   ]
  },
  {
   "cell_type": "code",
   "execution_count": null,
   "metadata": {},
   "outputs": [],
   "source": [
    "# Use only 100 most frequent entities\n",
    "paper_comention_network_100_most_frequent = generate_comention_network(\n",
    "    occurrence_data, \"paper\", counts[\"paper\"],\n",
    "    n_most_frequent=100,\n",
    "#     limit=1000,\n",
    "    parallelize=False)"
   ]
  },
  {
   "cell_type": "markdown",
   "metadata": {},
   "source": [
    "## 4. Compute centralities"
   ]
  },
  {
   "cell_type": "markdown",
   "metadata": {},
   "source": [
    "We compute the degree and PageRank centralities only for the raw frequency"
   ]
  },
  {
   "cell_type": "code",
   "execution_count": null,
   "metadata": {},
   "outputs": [],
   "source": [
    "weights = [\"frequency\"]"
   ]
  },
  {
   "cell_type": "code",
   "execution_count": null,
   "metadata": {},
   "outputs": [],
   "source": [
    "degree_centrality = compute_degree_centrality(paper_comention_network_100_most_frequent, weights, 10)"
   ]
  },
  {
   "cell_type": "code",
   "execution_count": null,
   "metadata": {},
   "outputs": [],
   "source": [
    "pagerank_centrality = compute_pagerank_centrality(paper_comention_network_100_most_frequent, weights, 10)"
   ]
  },
  {
   "cell_type": "markdown",
   "metadata": {},
   "source": [
    "We then compute the betweenness centrality based on the PPMI and NPMI distances"
   ]
  },
  {
   "cell_type": "code",
   "execution_count": null,
   "metadata": {},
   "outputs": [],
   "source": [
    "betweenness_centrality = compute_betweenness_centrality(\n",
    "    paper_comention_network_100_most_frequent, [\"distance_ppmi\", \"distance_npmi\"], 20)"
   ]
  },
  {
   "cell_type": "markdown",
   "metadata": {},
   "source": [
    "## 5. Detect communities"
   ]
  },
  {
   "cell_type": "code",
   "execution_count": null,
   "metadata": {},
   "outputs": [],
   "source": [
    "_ = detect_communities(paper_comention_network_100_most_frequent, weight=\"frequency\", set_attr=\"community\")\n",
    "_ = detect_communities(paper_comention_network_100_most_frequent, weight=\"ppmi\", set_attr=\"community_ppmi\")\n",
    "_ = detect_communities(paper_comention_network_100_most_frequent, weight=\"npmi\", set_attr=\"community_npmi\")"
   ]
  },
  {
   "cell_type": "markdown",
   "metadata": {},
   "source": [
    "## 6. Compute all the metrics in one go"
   ]
  },
  {
   "cell_type": "code",
   "execution_count": null,
   "metadata": {
    "scrolled": true
   },
   "outputs": [],
   "source": [
    "paper_comention_network = generate_comention_network(\n",
    "    occurrence_data,\n",
    "    \"paper\",\n",
    "    counts[\"paper\"],\n",
    "    parallelize=True,\n",
    "    cores=4,\n",
    "    dump_path=\"data/paper_comention_edge_list.pkl\")"
   ]
  },
  {
   "cell_type": "code",
   "execution_count": null,
   "metadata": {
    "scrolled": true
   },
   "outputs": [],
   "source": [
    "# We need to specify edge attributes used for computing different metrics\n",
    "compute_all_metrics(\n",
    "    paper_comention_network,\n",
    "    degree_weights=[\"frequency\"],\n",
    "    pagerank_weights=[\"frequency\"],\n",
    "    betweenness_weights=[\"distance_ppmi\", \"distance_npmi\"],\n",
    "    community_weights=[\"frequency\", \"npmi\"],\n",
    "    print_summary=True)"
   ]
  },
  {
   "cell_type": "markdown",
   "metadata": {},
   "source": [
    "## 7. Export network and the computed metrics"
   ]
  },
  {
   "cell_type": "code",
   "execution_count": null,
   "metadata": {},
   "outputs": [],
   "source": [
    "# Save graph nodes as a pickled pandas.DataFrame\n",
    "save_nodes(paper_comention_network, \"data/paper_comention_node_list.pkl\")"
   ]
  },
  {
   "cell_type": "code",
   "execution_count": null,
   "metadata": {},
   "outputs": [],
   "source": [
    "paper_comention_network.nodes[list(paper_comention_network.nodes())[0]]"
   ]
  },
  {
   "cell_type": "code",
   "execution_count": null,
   "metadata": {},
   "outputs": [],
   "source": [
    "# Save the graph for Gephi import.\n",
    "save_to_gephi(\n",
    "    paper_comention_network, \"data/gephi_paper\", \n",
    "    node_attr_mapping = {\n",
    "        \"degree_frequency\": \"Degree\",\n",
    "        \"pagerank_frequency\": \"PageRank\",\n",
    "        \"betweenness_distance_npmi\": \"Betweenness\",\n",
    "        \"community_npmi\": \"Community\"\n",
    "    },\n",
    "    edge_attr_mapping={\n",
    "        \"npmi\": \"Weight\"\n",
    "    })"
   ]
  },
  {
   "cell_type": "markdown",
   "metadata": {},
   "source": [
    "## 8. Find spanning trees"
   ]
  },
  {
   "cell_type": "code",
   "execution_count": null,
   "metadata": {},
   "outputs": [],
   "source": [
    "tree = minimum_spanning_tree(paper_comention_network, weight=\"distance_npmi\")"
   ]
  },
  {
   "cell_type": "code",
   "execution_count": null,
   "metadata": {},
   "outputs": [],
   "source": [
    "save_to_gephi(\n",
    "    tree, \"data/gephi_paper_spanning_tree\", \n",
    "    node_attr_mapping = {\n",
    "        \"degree_frequency\": \"Degree\",\n",
    "        \"pagerank_frequency\": \"PageRank\",\n",
    "        \"betweenness_distance_npmi\": \"Betweenness\",\n",
    "        \"community_npmi\": \"Community\"\n",
    "    },\n",
    "    edge_attr_mapping={\n",
    "        \"npmi\": \"Weight\"\n",
    "    })"
   ]
  },
  {
   "cell_type": "markdown",
   "metadata": {},
   "source": [
    "## 9. Simple path search"
   ]
  },
  {
   "cell_type": "code",
   "execution_count": null,
   "metadata": {},
   "outputs": [],
   "source": [
    "try:\n",
    "    paths, _ = top_n_paths(\n",
    "        paper_comention_network, \"virus\", \"sars-cov-2\", n=10, weight=\"npmi\",\n",
    "        strategy=\"naive\", pretty_print=True)\n",
    "except Exception as e:\n",
    "    print(e)"
   ]
  },
  {
   "cell_type": "code",
   "execution_count": null,
   "metadata": {},
   "outputs": [],
   "source": [
    "paths, _ = top_n_paths(\n",
    "    paper_comention_network, \"virus\", \"transcription factors\", n=10, weight=\"npmi\",\n",
    "    strategy=\"naive\", pretty_print=True)"
   ]
  },
  {
   "cell_type": "code",
   "execution_count": null,
   "metadata": {},
   "outputs": [],
   "source": [
    "paths, _ = top_n_paths(\n",
    "    paper_comention_network, \"virus\", \"transcription factors\", n=10,\n",
    "    distance=\"distance_npmi\",\n",
    "    strategy=\"yen\", pretty_print=True)"
   ]
  },
  {
   "cell_type": "code",
   "execution_count": null,
   "metadata": {},
   "outputs": [],
   "source": [
    "_ = single_shortest_path(tree, \"virus\", \"transcription factors\", pretty_print=True)"
   ]
  },
  {
   "cell_type": "markdown",
   "metadata": {},
   "source": [
    "## 10. Conditional path search"
   ]
  },
  {
   "cell_type": "code",
   "execution_count": null,
   "metadata": {},
   "outputs": [],
   "source": [
    "path_a_b, path_b_c =  top_n_tripaths(\n",
    "    paper_comention_network, \"virus\", \"lung injury\", \"transcription factors\", 10,\n",
    "    strategy=\"yen\", distance=\"distance_npmi\", intersecting=False,\n",
    "    pretty_print=True)"
   ]
  },
  {
   "cell_type": "code",
   "execution_count": null,
   "metadata": {},
   "outputs": [],
   "source": [
    "path_a_b"
   ]
  },
  {
   "cell_type": "code",
   "execution_count": null,
   "metadata": {},
   "outputs": [],
   "source": [
    "path_b_c"
   ]
  }
 ],
 "metadata": {
  "kernelspec": {
   "display_name": "bbg",
   "language": "python",
   "name": "bbg"
  },
  "language_info": {
   "codemirror_mode": {
    "name": "ipython",
    "version": 3
   },
   "file_extension": ".py",
   "mimetype": "text/x-python",
   "name": "python",
   "nbconvert_exporter": "python",
   "pygments_lexer": "ipython3",
   "version": "3.8.5"
  }
 },
 "nbformat": 4,
 "nbformat_minor": 4
}
