{
 "cells": [
  {
   "cell_type": "code",
   "execution_count": 1,
   "metadata": {},
   "outputs": [],
   "source": [
    "import pandas as pd\n",
    "\n",
    "from analytics.network_generation import generate_comention_network\n",
    "from analytics.data_preparation import (mentions_to_occurrence,\n",
    "                                        is_experiment_related,\n",
    "                                        dummy_clean_up,\n",
    "                                        is_not_single_letter)\n",
    "from analytics.metrics import (compute_degree_centrality,\n",
    "                               compute_pagerank_centrality,\n",
    "                               compute_betweenness_centrality,\n",
    "                               detect_communities,\n",
    "                               compute_all_metrics)\n",
    "from analytics.export import (save_nodes,\n",
    "                              save_to_gephi)\n",
    "from analytics.paths import (minimum_spanning_tree,\n",
    "                             top_n_paths,\n",
    "                             top_n_tripaths,\n",
    "                             single_shortest_path)"
   ]
  },
  {
   "cell_type": "markdown",
   "metadata": {},
   "source": [
    "## 1. Read mentions data"
   ]
  },
  {
   "cell_type": "code",
   "execution_count": 2,
   "metadata": {},
   "outputs": [],
   "source": [
    "# Load 10000 lines of the mention data sample\n",
    "mentions = pd.read_csv(\"data/mention_data_sample.csv\", nrows=10000)\n",
    "\n",
    "# Extract unique paper/seciton/paragraph identifiers\n",
    "mentions[\"paper\"] = mentions[\"paper_id\"].apply(\n",
    "    lambda x: x.split(\":\")[0])\n",
    "mentions[\"section\"] = mentions[\"paper_id\"].apply(\n",
    "    lambda x: \":\".join([x.split(\":\")[0], x.split(\":\")[1]]))\n",
    "\n",
    "mentions = mentions.rename(columns={\"paper_id\": \"paragraph\"})"
   ]
  },
  {
   "cell_type": "code",
   "execution_count": 3,
   "metadata": {},
   "outputs": [
    {
     "data": {
      "text/html": [
       "<div>\n",
       "<style scoped>\n",
       "    .dataframe tbody tr th:only-of-type {\n",
       "        vertical-align: middle;\n",
       "    }\n",
       "\n",
       "    .dataframe tbody tr th {\n",
       "        vertical-align: top;\n",
       "    }\n",
       "\n",
       "    .dataframe thead th {\n",
       "        text-align: right;\n",
       "    }\n",
       "</style>\n",
       "<table border=\"1\" class=\"dataframe\">\n",
       "  <thead>\n",
       "    <tr style=\"text-align: right;\">\n",
       "      <th></th>\n",
       "      <th>entity</th>\n",
       "      <th>paragraph</th>\n",
       "      <th>paper</th>\n",
       "      <th>section</th>\n",
       "    </tr>\n",
       "  </thead>\n",
       "  <tbody>\n",
       "    <tr>\n",
       "      <th>0</th>\n",
       "      <td>tract</td>\n",
       "      <td>1:Introduction:2</td>\n",
       "      <td>1</td>\n",
       "      <td>1:Introduction</td>\n",
       "    </tr>\n",
       "    <tr>\n",
       "      <th>1</th>\n",
       "      <td>nasopharyngeal</td>\n",
       "      <td>1:Data Collection ::: Methods:4</td>\n",
       "      <td>1</td>\n",
       "      <td>1:Data Collection</td>\n",
       "    </tr>\n",
       "    <tr>\n",
       "      <th>2</th>\n",
       "      <td>tract</td>\n",
       "      <td>1:Data Collection ::: Methods:4</td>\n",
       "      <td>1</td>\n",
       "      <td>1:Data Collection</td>\n",
       "    </tr>\n",
       "    <tr>\n",
       "      <th>3</th>\n",
       "      <td>lung</td>\n",
       "      <td>1:Results:10</td>\n",
       "      <td>1</td>\n",
       "      <td>1:Results</td>\n",
       "    </tr>\n",
       "    <tr>\n",
       "      <th>4</th>\n",
       "      <td>heart</td>\n",
       "      <td>1:Results:10</td>\n",
       "      <td>1</td>\n",
       "      <td>1:Results</td>\n",
       "    </tr>\n",
       "    <tr>\n",
       "      <th>...</th>\n",
       "      <td>...</td>\n",
       "      <td>...</td>\n",
       "      <td>...</td>\n",
       "      <td>...</td>\n",
       "    </tr>\n",
       "    <tr>\n",
       "      <th>9995</th>\n",
       "      <td>A549 cells</td>\n",
       "      <td>19:Caption:44</td>\n",
       "      <td>19</td>\n",
       "      <td>19:Caption</td>\n",
       "    </tr>\n",
       "    <tr>\n",
       "      <th>9996</th>\n",
       "      <td>hNTH</td>\n",
       "      <td>19:Caption:44</td>\n",
       "      <td>19</td>\n",
       "      <td>19:Caption</td>\n",
       "    </tr>\n",
       "    <tr>\n",
       "      <th>9997</th>\n",
       "      <td>A549 cells</td>\n",
       "      <td>19:Caption:44</td>\n",
       "      <td>19</td>\n",
       "      <td>19:Caption</td>\n",
       "    </tr>\n",
       "    <tr>\n",
       "      <th>9998</th>\n",
       "      <td>hNTH</td>\n",
       "      <td>19:Caption:44</td>\n",
       "      <td>19</td>\n",
       "      <td>19:Caption</td>\n",
       "    </tr>\n",
       "    <tr>\n",
       "      <th>9999</th>\n",
       "      <td>vector control cells</td>\n",
       "      <td>19:Caption:44</td>\n",
       "      <td>19</td>\n",
       "      <td>19:Caption</td>\n",
       "    </tr>\n",
       "  </tbody>\n",
       "</table>\n",
       "<p>10000 rows × 4 columns</p>\n",
       "</div>"
      ],
      "text/plain": [
       "                    entity                        paragraph paper  \\\n",
       "0                    tract                 1:Introduction:2     1   \n",
       "1           nasopharyngeal  1:Data Collection ::: Methods:4     1   \n",
       "2                    tract  1:Data Collection ::: Methods:4     1   \n",
       "3                     lung                     1:Results:10     1   \n",
       "4                    heart                     1:Results:10     1   \n",
       "...                    ...                              ...   ...   \n",
       "9995            A549 cells                    19:Caption:44    19   \n",
       "9996                  hNTH                    19:Caption:44    19   \n",
       "9997            A549 cells                    19:Caption:44    19   \n",
       "9998                  hNTH                    19:Caption:44    19   \n",
       "9999  vector control cells                    19:Caption:44    19   \n",
       "\n",
       "                 section  \n",
       "0         1:Introduction  \n",
       "1     1:Data Collection   \n",
       "2     1:Data Collection   \n",
       "3              1:Results  \n",
       "4              1:Results  \n",
       "...                  ...  \n",
       "9995          19:Caption  \n",
       "9996          19:Caption  \n",
       "9997          19:Caption  \n",
       "9998          19:Caption  \n",
       "9999          19:Caption  \n",
       "\n",
       "[10000 rows x 4 columns]"
      ]
     },
     "execution_count": 3,
     "metadata": {},
     "output_type": "execute_result"
    }
   ],
   "source": [
    "mentions"
   ]
  },
  {
   "cell_type": "markdown",
   "metadata": {},
   "source": [
    "## 2. Transform mentions into occurrences"
   ]
  },
  {
   "cell_type": "code",
   "execution_count": 4,
   "metadata": {},
   "outputs": [
    {
     "name": "stdout",
     "output_type": "stream",
     "text": [
      "Cleaning up the entities...\n",
      "Aggregating occurrences of entities....\n",
      "Saving the occurrence data....\n"
     ]
    }
   ],
   "source": [
    "occurrence_data, counts = mentions_to_occurrence(\n",
    "    mentions,\n",
    "    term_column=\"entity\",\n",
    "    factor_columns=[\"paper\", \"section\", \"paragraph\"],\n",
    "    term_cleanup=dummy_clean_up,\n",
    "    term_filter=is_not_single_letter,\n",
    "    mention_filter=lambda data: ~data[\"section\"].apply(is_experiment_related),\n",
    "    dump_prefix=\"data/example_\")"
   ]
  },
  {
   "cell_type": "code",
   "execution_count": 5,
   "metadata": {
    "scrolled": false
   },
   "outputs": [
    {
     "data": {
      "text/html": [
       "<div>\n",
       "<style scoped>\n",
       "    .dataframe tbody tr th:only-of-type {\n",
       "        vertical-align: middle;\n",
       "    }\n",
       "\n",
       "    .dataframe tbody tr th {\n",
       "        vertical-align: top;\n",
       "    }\n",
       "\n",
       "    .dataframe thead th {\n",
       "        text-align: right;\n",
       "    }\n",
       "</style>\n",
       "<table border=\"1\" class=\"dataframe\">\n",
       "  <thead>\n",
       "    <tr style=\"text-align: right;\">\n",
       "      <th></th>\n",
       "      <th>paragraph</th>\n",
       "      <th>paper</th>\n",
       "      <th>section</th>\n",
       "    </tr>\n",
       "    <tr>\n",
       "      <th>entity</th>\n",
       "      <th></th>\n",
       "      <th></th>\n",
       "      <th></th>\n",
       "    </tr>\n",
       "  </thead>\n",
       "  <tbody>\n",
       "    <tr>\n",
       "      <th>1 nucleotide</th>\n",
       "      <td>{6:The Discontinuous Step In Nidovirus Sg Rna ...</td>\n",
       "      <td>{6}</td>\n",
       "      <td>{6:The Discontinuous Step In Nidovirus Sg Rna ...</td>\n",
       "    </tr>\n",
       "    <tr>\n",
       "      <th>1,2,9</th>\n",
       "      <td>{19:Background:4}</td>\n",
       "      <td>{19}</td>\n",
       "      <td>{19:Background}</td>\n",
       "    </tr>\n",
       "    <tr>\n",
       "      <th>10/100,000</th>\n",
       "      <td>{8:Acute Respiratory Distress Syndrome:14}</td>\n",
       "      <td>{8}</td>\n",
       "      <td>{8:Acute Respiratory Distress Syndrome}</td>\n",
       "    </tr>\n",
       "    <tr>\n",
       "      <th>104</th>\n",
       "      <td>{9:Pulmonary Vascular Disease ::: Review:23}</td>\n",
       "      <td>{9}</td>\n",
       "      <td>{9:Pulmonary Vascular Disease }</td>\n",
       "    </tr>\n",
       "    <tr>\n",
       "      <th>11c</th>\n",
       "      <td>{14:A10L And L4R Associate With Microtubules I...</td>\n",
       "      <td>{14}</td>\n",
       "      <td>{14:A10L And L4R Associate With Microtubules I...</td>\n",
       "    </tr>\n",
       "    <tr>\n",
       "      <th>...</th>\n",
       "      <td>...</td>\n",
       "      <td>...</td>\n",
       "      <td>...</td>\n",
       "    </tr>\n",
       "    <tr>\n",
       "      <th>–208</th>\n",
       "      <td>{5:Syncytia Formation:17}</td>\n",
       "      <td>{5}</td>\n",
       "      <td>{5:Syncytia Formation}</td>\n",
       "    </tr>\n",
       "    <tr>\n",
       "      <th>–met</th>\n",
       "      <td>{11:In Vitro Transcription And Translation :::...</td>\n",
       "      <td>{11}</td>\n",
       "      <td>{11:In Vitro Transcription And Translation }</td>\n",
       "    </tr>\n",
       "    <tr>\n",
       "      <th>†in</th>\n",
       "      <td>{7:Caption:27}</td>\n",
       "      <td>{7}</td>\n",
       "      <td>{7:Caption}</td>\n",
       "    </tr>\n",
       "    <tr>\n",
       "      <th>∼250 kda</th>\n",
       "      <td>{12:The Mechanism Of Dominant-Negative Inhibit...</td>\n",
       "      <td>{12}</td>\n",
       "      <td>{12:Discussion, 12:The Mechanism Of Dominant-N...</td>\n",
       "    </tr>\n",
       "    <tr>\n",
       "      <th>∼80</th>\n",
       "      <td>{12:Di Rna Transcription And Transfection ::: ...</td>\n",
       "      <td>{11, 12}</td>\n",
       "      <td>{12:Di Rna Transcription And Transfection , 11...</td>\n",
       "    </tr>\n",
       "  </tbody>\n",
       "</table>\n",
       "<p>2880 rows × 3 columns</p>\n",
       "</div>"
      ],
      "text/plain": [
       "                                                      paragraph     paper  \\\n",
       "entity                                                                      \n",
       "1 nucleotide  {6:The Discontinuous Step In Nidovirus Sg Rna ...       {6}   \n",
       "1,2,9                                         {19:Background:4}      {19}   \n",
       "10/100,000           {8:Acute Respiratory Distress Syndrome:14}       {8}   \n",
       "104                {9:Pulmonary Vascular Disease ::: Review:23}       {9}   \n",
       "11c           {14:A10L And L4R Associate With Microtubules I...      {14}   \n",
       "...                                                         ...       ...   \n",
       "–208                                  {5:Syncytia Formation:17}       {5}   \n",
       "–met          {11:In Vitro Transcription And Translation :::...      {11}   \n",
       "†in                                              {7:Caption:27}       {7}   \n",
       "∼250 kda      {12:The Mechanism Of Dominant-Negative Inhibit...      {12}   \n",
       "∼80           {12:Di Rna Transcription And Transfection ::: ...  {11, 12}   \n",
       "\n",
       "                                                        section  \n",
       "entity                                                           \n",
       "1 nucleotide  {6:The Discontinuous Step In Nidovirus Sg Rna ...  \n",
       "1,2,9                                           {19:Background}  \n",
       "10/100,000              {8:Acute Respiratory Distress Syndrome}  \n",
       "104                             {9:Pulmonary Vascular Disease }  \n",
       "11c           {14:A10L And L4R Associate With Microtubules I...  \n",
       "...                                                         ...  \n",
       "–208                                     {5:Syncytia Formation}  \n",
       "–met               {11:In Vitro Transcription And Translation }  \n",
       "†in                                                 {7:Caption}  \n",
       "∼250 kda      {12:Discussion, 12:The Mechanism Of Dominant-N...  \n",
       "∼80           {12:Di Rna Transcription And Transfection , 11...  \n",
       "\n",
       "[2880 rows x 3 columns]"
      ]
     },
     "execution_count": 5,
     "metadata": {},
     "output_type": "execute_result"
    }
   ],
   "source": [
    "occurrence_data"
   ]
  },
  {
   "cell_type": "code",
   "execution_count": 6,
   "metadata": {},
   "outputs": [
    {
     "data": {
      "text/html": [
       "<div>\n",
       "<style scoped>\n",
       "    .dataframe tbody tr th:only-of-type {\n",
       "        vertical-align: middle;\n",
       "    }\n",
       "\n",
       "    .dataframe tbody tr th {\n",
       "        vertical-align: top;\n",
       "    }\n",
       "\n",
       "    .dataframe thead th {\n",
       "        text-align: right;\n",
       "    }\n",
       "</style>\n",
       "<table border=\"1\" class=\"dataframe\">\n",
       "  <thead>\n",
       "    <tr style=\"text-align: right;\">\n",
       "      <th></th>\n",
       "      <th>paragraph</th>\n",
       "      <th>paper</th>\n",
       "      <th>section</th>\n",
       "    </tr>\n",
       "    <tr>\n",
       "      <th>entity</th>\n",
       "      <th></th>\n",
       "      <th></th>\n",
       "      <th></th>\n",
       "    </tr>\n",
       "  </thead>\n",
       "  <tbody>\n",
       "    <tr>\n",
       "      <th>16,20</th>\n",
       "      <td>{2:Protein Tyrosine Nitration In The Lung: Doe...</td>\n",
       "      <td>{2}</td>\n",
       "      <td>{2:Protein Tyrosine Nitration In The Lung, 2:I...</td>\n",
       "    </tr>\n",
       "    <tr>\n",
       "      <th>2-oxoglutarate</th>\n",
       "      <td>{20:The Viral Alkb Domains Are Most Likely Fun...</td>\n",
       "      <td>{20}</td>\n",
       "      <td>{20:Background, 20:The Viral Alkb Domains Are ...</td>\n",
       "    </tr>\n",
       "    <tr>\n",
       "      <th>2c cells</th>\n",
       "      <td>{25:Rna Isolation And Differential Display Pcr...</td>\n",
       "      <td>{25}</td>\n",
       "      <td>{25:Introduction, 25:Rna Isolation And Differe...</td>\n",
       "    </tr>\n",
       "    <tr>\n",
       "      <th>3-methylcytosine</th>\n",
       "      <td>{20:Background:2, 20:The Alkb Domain Probably ...</td>\n",
       "      <td>{20}</td>\n",
       "      <td>{20:Background, 20:The Alkb Domain Probably Pr...</td>\n",
       "    </tr>\n",
       "    <tr>\n",
       "      <th>3-nitrotyrosine</th>\n",
       "      <td>{2:Protein Tyrosine Nitration In The Lung: Doe...</td>\n",
       "      <td>{2}</td>\n",
       "      <td>{2:Protein Tyrosine Nitration In The Lung, 2:I...</td>\n",
       "    </tr>\n",
       "    <tr>\n",
       "      <th>...</th>\n",
       "      <td>...</td>\n",
       "      <td>...</td>\n",
       "      <td>...</td>\n",
       "    </tr>\n",
       "    <tr>\n",
       "      <th>β-galactosidase</th>\n",
       "      <td>{11:Translational Frameshifting During Express...</td>\n",
       "      <td>{11}</td>\n",
       "      <td>{11:Identification Of Antizyme Genes In Nemato...</td>\n",
       "    </tr>\n",
       "    <tr>\n",
       "      <th>γ-tubulin</th>\n",
       "      <td>{14:Vaccinia Virus Infection Disrupts Centroso...</td>\n",
       "      <td>{14}</td>\n",
       "      <td>{14:Vaccinia Virus Infection Disrupts Centroso...</td>\n",
       "    </tr>\n",
       "    <tr>\n",
       "      <th>–20</th>\n",
       "      <td>{12:Immunofluorescence Staining ::: Materials ...</td>\n",
       "      <td>{14, 12}</td>\n",
       "      <td>{14:Antibodies And Immunofluorescence Microsco...</td>\n",
       "    </tr>\n",
       "    <tr>\n",
       "      <th>∼250 kda</th>\n",
       "      <td>{12:The Mechanism Of Dominant-Negative Inhibit...</td>\n",
       "      <td>{12}</td>\n",
       "      <td>{12:Discussion, 12:The Mechanism Of Dominant-N...</td>\n",
       "    </tr>\n",
       "    <tr>\n",
       "      <th>∼80</th>\n",
       "      <td>{12:Di Rna Transcription And Transfection ::: ...</td>\n",
       "      <td>{11, 12}</td>\n",
       "      <td>{12:Di Rna Transcription And Transfection , 11...</td>\n",
       "    </tr>\n",
       "  </tbody>\n",
       "</table>\n",
       "<p>896 rows × 3 columns</p>\n",
       "</div>"
      ],
      "text/plain": [
       "                                                          paragraph     paper  \\\n",
       "entity                                                                          \n",
       "16,20             {2:Protein Tyrosine Nitration In The Lung: Doe...       {2}   \n",
       "2-oxoglutarate    {20:The Viral Alkb Domains Are Most Likely Fun...      {20}   \n",
       "2c cells          {25:Rna Isolation And Differential Display Pcr...      {25}   \n",
       "3-methylcytosine  {20:Background:2, 20:The Alkb Domain Probably ...      {20}   \n",
       "3-nitrotyrosine   {2:Protein Tyrosine Nitration In The Lung: Doe...       {2}   \n",
       "...                                                             ...       ...   \n",
       "β-galactosidase   {11:Translational Frameshifting During Express...      {11}   \n",
       "γ-tubulin         {14:Vaccinia Virus Infection Disrupts Centroso...      {14}   \n",
       "–20               {12:Immunofluorescence Staining ::: Materials ...  {14, 12}   \n",
       "∼250 kda          {12:The Mechanism Of Dominant-Negative Inhibit...      {12}   \n",
       "∼80               {12:Di Rna Transcription And Transfection ::: ...  {11, 12}   \n",
       "\n",
       "                                                            section  \n",
       "entity                                                               \n",
       "16,20             {2:Protein Tyrosine Nitration In The Lung, 2:I...  \n",
       "2-oxoglutarate    {20:Background, 20:The Viral Alkb Domains Are ...  \n",
       "2c cells          {25:Introduction, 25:Rna Isolation And Differe...  \n",
       "3-methylcytosine  {20:Background, 20:The Alkb Domain Probably Pr...  \n",
       "3-nitrotyrosine   {2:Protein Tyrosine Nitration In The Lung, 2:I...  \n",
       "...                                                             ...  \n",
       "β-galactosidase   {11:Identification Of Antizyme Genes In Nemato...  \n",
       "γ-tubulin         {14:Vaccinia Virus Infection Disrupts Centroso...  \n",
       "–20               {14:Antibodies And Immunofluorescence Microsco...  \n",
       "∼250 kda          {12:Discussion, 12:The Mechanism Of Dominant-N...  \n",
       "∼80               {12:Di Rna Transcription And Transfection , 11...  \n",
       "\n",
       "[896 rows x 3 columns]"
      ]
     },
     "execution_count": 6,
     "metadata": {},
     "output_type": "execute_result"
    }
   ],
   "source": [
    "# Filter entities that occur only once (only in one paragraph, usually represent noisy terms)\n",
    "occurrence_data = occurrence_data[occurrence_data[\"paragraph\"].apply(lambda x: len(x) > 1)]\n",
    "occurrence_data"
   ]
  },
  {
   "cell_type": "code",
   "execution_count": 7,
   "metadata": {},
   "outputs": [
    {
     "data": {
      "text/plain": [
       "{'paper': 41, 'section': 465, 'paragraph': 1045}"
      ]
     },
     "execution_count": 7,
     "metadata": {},
     "output_type": "execute_result"
    }
   ],
   "source": [
    "counts"
   ]
  },
  {
   "cell_type": "markdown",
   "metadata": {},
   "source": [
    "## 3. Generate co-occurrence networks"
   ]
  },
  {
   "cell_type": "code",
   "execution_count": 8,
   "metadata": {
    "scrolled": true
   },
   "outputs": [
    {
     "name": "stdout",
     "output_type": "stream",
     "text": [
      "Examining 400960 pairs of terms for co-occurrence...\n",
      "Reached the edge limit (1000)  \u001b[1K\n",
      "Generated 1000 edges                    \n",
      "Created a co-occurrence graph:\n",
      "\tnumber of nodes:  896\n",
      "\tnumber of edges:  1000\n",
      "Saving the edges...\n",
      "Creating a graph object...\n"
     ]
    }
   ],
   "source": [
    "# Limit to 1000 edges\n",
    "paper_comention_network_1000_edges = generate_comention_network(\n",
    "    occurrence_data, counts[\"paper\"],\n",
    "    factor_column=\"paper\",\n",
    "#     n_most_frequent=100,\n",
    "    limit=1000,\n",
    "    parallelize=False)"
   ]
  },
  {
   "cell_type": "code",
   "execution_count": 9,
   "metadata": {},
   "outputs": [
    {
     "name": "stdout",
     "output_type": "stream",
     "text": [
      "Fitering data.....\n",
      "Selected 100 most frequent terms\n",
      "Examining 4950 pairs of terms for co-occurrence...\n",
      "Generated 3421 edges                    \n",
      "Created a co-occurrence graph:\n",
      "\tnumber of nodes:  100\n",
      "\tnumber of edges:  3421\n",
      "Saving the edges...\n",
      "Creating a graph object...\n"
     ]
    }
   ],
   "source": [
    "# Use only 100 most frequent entities\n",
    "paper_comention_network_100_most_frequent = generate_comention_network(\n",
    "    occurrence_data, counts[\"paper\"],\n",
    "    factor_column=\"paper\",\n",
    "    n_most_frequent=100,\n",
    "#     limit=1000,\n",
    "    parallelize=False)"
   ]
  },
  {
   "cell_type": "markdown",
   "metadata": {},
   "source": [
    "## 4. Compute centralities"
   ]
  },
  {
   "cell_type": "markdown",
   "metadata": {},
   "source": [
    "We compute the degree and PageRank centralities only for the raw frequency"
   ]
  },
  {
   "cell_type": "code",
   "execution_count": 10,
   "metadata": {},
   "outputs": [],
   "source": [
    "weights = [\"frequency\"]"
   ]
  },
  {
   "cell_type": "code",
   "execution_count": 11,
   "metadata": {},
   "outputs": [
    {
     "name": "stdout",
     "output_type": "stream",
     "text": [
      "Top n nodes by frequency:\n",
      "\thuman (420)\n",
      "\tvirus (353)\n",
      "\thumans (312)\n",
      "\tviral (284)\n",
      "\tlung (283)\n",
      "\tinfection (282)\n",
      "\tdna (266)\n",
      "\tards (256)\n",
      "\tbacterial (256)\n",
      "\tanimal (255)\n",
      "\n"
     ]
    }
   ],
   "source": [
    "degree_centrality = compute_degree_centrality(paper_comention_network_100_most_frequent, weights, 10)"
   ]
  },
  {
   "cell_type": "code",
   "execution_count": 12,
   "metadata": {},
   "outputs": [
    {
     "name": "stdout",
     "output_type": "stream",
     "text": [
      "Top n nodes by frequency:\n",
      "\thuman (0.03)\n",
      "\tvirus (0.02)\n",
      "\thumans (0.02)\n",
      "\tinfection (0.02)\n",
      "\tviral (0.02)\n",
      "\tlung (0.02)\n",
      "\tdna (0.02)\n",
      "\tbacterial (0.02)\n",
      "\tanimal (0.02)\n",
      "\tanimals (0.02)\n",
      "\n"
     ]
    }
   ],
   "source": [
    "pagerank_centrality = compute_pagerank_centrality(paper_comention_network_100_most_frequent, weights, 10)"
   ]
  },
  {
   "cell_type": "markdown",
   "metadata": {},
   "source": [
    "We then compute the betweenness centrality based on the PPMI and NPMI distances"
   ]
  },
  {
   "cell_type": "code",
   "execution_count": 13,
   "metadata": {},
   "outputs": [
    {
     "name": "stdout",
     "output_type": "stream",
     "text": [
      "Top n nodes by distance_ppmi:\n",
      "\tcell lines (0.06547447261732976)\n",
      "\talveolar macrophages (0.047124549675570074)\n",
      "\tamino acid sequence (0.04497354497354497)\n",
      "\tco2 (0.04057926200783344)\n",
      "\tantioxidants (0.033897036448056854)\n",
      "\taids (0.021713735999450284)\n",
      "\tepithelial cells (0.02170023853697323)\n",
      "\thuman disease (0.021438878581735724)\n",
      "\tasthmatic (0.021208930902808454)\n",
      "\tallergic (0.01941180512609084)\n",
      "\theart (0.018793375936233075)\n",
      "\tbacterium (0.01742596028310314)\n",
      "\tamino acids (0.015838658695801554)\n",
      "\ttranscription factors (0.01504844361987219)\n",
      "\tamino acid (0.014979729265443548)\n",
      "\tcystic fibrosis (0.01392324606610321)\n",
      "\trats (0.013399299113584827)\n",
      "\tformaldehyde (0.013090084518655946)\n",
      "\tenzyme (0.012677798392084105)\n",
      "\tinfected cells (0.012358276643990931)\n",
      "\n",
      "Top n nodes by distance_npmi:\n",
      "\ttranscription factors (0.03150553150553151)\n",
      "\tmouse (0.0282415996701711)\n",
      "\tamino acids (0.027004741290455575)\n",
      "\theart (0.025613275613275612)\n",
      "\tamino acid (0.024324881467738608)\n",
      "\thuman disease (0.023809523809523808)\n",
      "\tepithelial cells (0.023088023088023088)\n",
      "\tcell lines (0.02198859341716484)\n",
      "\ttumor (0.020476877619734764)\n",
      "\tinfected cells (0.02027760599189171)\n",
      "\tcystic fibrosis (0.02023637737923452)\n",
      "\tco2 (0.018844911702054556)\n",
      "\talveolar macrophages (0.017934446505875078)\n",
      "\tmolecules (0.016903731189445475)\n",
      "\tbovine (0.016663230948945233)\n",
      "\trat (0.016388373531230672)\n",
      "\tenzyme (0.015426372569229711)\n",
      "\tneutrophils (0.01468769325912183)\n",
      "\tairways (0.01443001443001443)\n",
      "\tmurine (0.013914656771799629)\n",
      "\n"
     ]
    }
   ],
   "source": [
    "betweenness_centrality = compute_betweenness_centrality(\n",
    "    paper_comention_network_100_most_frequent, [\"distance_ppmi\", \"distance_npmi\"], 20)"
   ]
  },
  {
   "cell_type": "markdown",
   "metadata": {},
   "source": [
    "## 5. Detect communities"
   ]
  },
  {
   "cell_type": "code",
   "execution_count": 14,
   "metadata": {},
   "outputs": [
    {
     "name": "stdout",
     "output_type": "stream",
     "text": [
      "Detecting communities...\n",
      "Best network partition:\n",
      "\t Number of communities: 2\n",
      "\t Modularity: 0.1693805447207431\n",
      "Detecting communities...\n",
      "Best network partition:\n",
      "\t Number of communities: 2\n",
      "\t Modularity: 0.22869830233990954\n",
      "Detecting communities...\n",
      "Best network partition:\n",
      "\t Number of communities: 3\n",
      "\t Modularity: 0.24186849865223786\n"
     ]
    }
   ],
   "source": [
    "_ = detect_communities(paper_comention_network_100_most_frequent, weight=\"frequency\", set_attr=\"community\")\n",
    "_ = detect_communities(paper_comention_network_100_most_frequent, weight=\"ppmi\", set_attr=\"community_ppmi\")\n",
    "_ = detect_communities(paper_comention_network_100_most_frequent, weight=\"npmi\", set_attr=\"community_npmi\")"
   ]
  },
  {
   "cell_type": "markdown",
   "metadata": {},
   "source": [
    "## 6. Compute all the metrics in one go"
   ]
  },
  {
   "cell_type": "code",
   "execution_count": 15,
   "metadata": {
    "scrolled": true
   },
   "outputs": [
    {
     "name": "stdout",
     "output_type": "stream",
     "text": [
      "Fitering data.....\n",
      "Selected 100 most frequent terms\n",
      "Examining 4950 pairs of terms for co-occurrence...\n",
      "Generated 3421 edges                    \n",
      "Created a co-occurrence graph:\n",
      "\tnumber of nodes:  100\n",
      "\tnumber of edges:  3421\n",
      "Saving the edges...\n",
      "Creating a graph object...\n"
     ]
    }
   ],
   "source": [
    "paper_comention_network = generate_comention_network(\n",
    "    occurrence_data, counts[\"paper\"],\n",
    "    factor_column=\"paper\",\n",
    "    n_most_frequent=100,\n",
    "#     limit=1000,\n",
    "    parallelize=False,\n",
    "    dump_path=\"data/paper_comention_edge_list.pkl\")"
   ]
  },
  {
   "cell_type": "code",
   "execution_count": 16,
   "metadata": {
    "scrolled": true
   },
   "outputs": [
    {
     "name": "stdout",
     "output_type": "stream",
     "text": [
      "Computing degree centrality statistics....\n",
      "Top n nodes by frequency:\n",
      "\thuman (420)\n",
      "\tvirus (353)\n",
      "\thumans (312)\n",
      "\tviral (284)\n",
      "\tlung (283)\n",
      "\tinfection (282)\n",
      "\tdna (266)\n",
      "\tards (256)\n",
      "\tbacterial (256)\n",
      "\tanimal (255)\n",
      "\n",
      "Computing PageRank centrality statistics....\n",
      "Top n nodes by frequency:\n",
      "\thuman (0.03)\n",
      "\tvirus (0.02)\n",
      "\thumans (0.02)\n",
      "\tinfection (0.02)\n",
      "\tviral (0.02)\n",
      "\tlung (0.02)\n",
      "\tdna (0.02)\n",
      "\tbacterial (0.02)\n",
      "\tanimal (0.02)\n",
      "\tanimals (0.02)\n",
      "\n",
      "Computing betweenness centrality statistics....\n",
      "Top n nodes by distance_ppmi:\n",
      "\tcell lines (0.06547447261732976)\n",
      "\talveolar macrophages (0.047124549675570074)\n",
      "\tamino acid sequence (0.04497354497354497)\n",
      "\tco2 (0.04057926200783344)\n",
      "\tantioxidants (0.033897036448056854)\n",
      "\taids (0.021713735999450284)\n",
      "\tepithelial cells (0.02170023853697323)\n",
      "\thuman disease (0.021438878581735724)\n",
      "\tasthmatic (0.021208930902808454)\n",
      "\tallergic (0.01941180512609084)\n",
      "\n",
      "Top n nodes by distance_npmi:\n",
      "\ttranscription factors (0.03150553150553151)\n",
      "\tmouse (0.0282415996701711)\n",
      "\tamino acids (0.027004741290455575)\n",
      "\theart (0.025613275613275612)\n",
      "\tamino acid (0.024324881467738608)\n",
      "\thuman disease (0.023809523809523808)\n",
      "\tepithelial cells (0.023088023088023088)\n",
      "\tcell lines (0.02198859341716484)\n",
      "\ttumor (0.020476877619734764)\n",
      "\tinfected cells (0.02027760599189171)\n",
      "\n",
      "Detecting communities...\n",
      "Best network partition:\n",
      "\t Number of communities: 2\n",
      "\t Modularity: 0.16918004857768174\n",
      "Detecting communities...\n",
      "Best network partition:\n",
      "\t Number of communities: 2\n",
      "\t Modularity: 0.24201423846145664\n"
     ]
    }
   ],
   "source": [
    "# We need to specify edge attributes used for computing different metrics\n",
    "compute_all_metrics(\n",
    "    paper_comention_network,\n",
    "    degree_weights=[\"frequency\"],\n",
    "    pagerank_weights=[\"frequency\"],\n",
    "    betweenness_weights=[\"distance_ppmi\", \"distance_npmi\"],\n",
    "    community_weights=[\"frequency\", \"npmi\"],\n",
    "    print_summary=True)"
   ]
  },
  {
   "cell_type": "markdown",
   "metadata": {},
   "source": [
    "## 7. Export network and the computed metrics"
   ]
  },
  {
   "cell_type": "code",
   "execution_count": 17,
   "metadata": {},
   "outputs": [],
   "source": [
    "# Save graph nodes as a pickled pandas.DataFrame\n",
    "save_nodes(paper_comention_network, \"data/paper_comention_node_list.pkl\")"
   ]
  },
  {
   "cell_type": "code",
   "execution_count": 18,
   "metadata": {},
   "outputs": [
    {
     "data": {
      "text/plain": [
       "{'degree_frequency': 244,\n",
       " 'pagerank_frequency': 0.015405249811721203,\n",
       " 'betweenness_distance_ppmi': 0.0,\n",
       " 'betweenness_distance_npmi': 0.002886002886002886,\n",
       " 'community_frequency': 0,\n",
       " 'community_npmi': 0}"
      ]
     },
     "execution_count": 18,
     "metadata": {},
     "output_type": "execute_result"
    }
   ],
   "source": [
    "paper_comention_network.nodes[list(paper_comention_network.nodes())[0]]"
   ]
  },
  {
   "cell_type": "code",
   "execution_count": 19,
   "metadata": {},
   "outputs": [],
   "source": [
    "# Save the graph for Gephi import.\n",
    "save_to_gephi(\n",
    "    paper_comention_network, \"data/gephi_paper\", \n",
    "    node_attr_mapping = {\n",
    "        \"degree_frequency\": \"Degree\",\n",
    "        \"pagerank_frequency\": \"PageRank\",\n",
    "        \"betweenness_distance_npmi\": \"Betweenness\",\n",
    "        \"community_npmi\": \"Community\"\n",
    "    },\n",
    "    edge_attr_mapping={\n",
    "        \"npmi\": \"Weight\"\n",
    "    })"
   ]
  },
  {
   "cell_type": "markdown",
   "metadata": {},
   "source": [
    "## 8. Find spanning trees"
   ]
  },
  {
   "cell_type": "code",
   "execution_count": 20,
   "metadata": {},
   "outputs": [],
   "source": [
    "tree = minimum_spanning_tree(paper_comention_network, weight=\"distance_npmi\")"
   ]
  },
  {
   "cell_type": "code",
   "execution_count": 21,
   "metadata": {},
   "outputs": [],
   "source": [
    "save_to_gephi(\n",
    "    tree, \"data/gephi_paper_spanning_tree\", \n",
    "    node_attr_mapping = {\n",
    "        \"degree_frequency\": \"Degree\",\n",
    "        \"pagerank_frequency\": \"PageRank\",\n",
    "        \"betweenness_distance_npmi\": \"Betweenness\",\n",
    "        \"community_npmi\": \"Community\"\n",
    "    },\n",
    "    edge_attr_mapping={\n",
    "        \"npmi\": \"Weight\"\n",
    "    })"
   ]
  },
  {
   "cell_type": "markdown",
   "metadata": {},
   "source": [
    "## 9. Simple path search"
   ]
  },
  {
   "cell_type": "code",
   "execution_count": 22,
   "metadata": {},
   "outputs": [
    {
     "name": "stdout",
     "output_type": "stream",
     "text": [
      "Target sars-cov-2 cannot be reachedfrom given sources\n",
      "No undirect paths from 'virus' to 'sars-cov-2' found\n"
     ]
    }
   ],
   "source": [
    "try:\n",
    "    paths, _ = top_n_paths(\n",
    "        paper_comention_network, \"virus\", \"sars-cov-2\", n=10, weight=\"npmi\",\n",
    "        strategy=\"naive\", pretty_print=True)\n",
    "except Exception as e:\n",
    "    print(e)"
   ]
  },
  {
   "cell_type": "code",
   "execution_count": 23,
   "metadata": {},
   "outputs": [
    {
     "name": "stdout",
     "output_type": "stream",
     "text": [
      "virus <->                  <-> transcription factors\n",
      "          viral\n",
      "          infected cells\n",
      "          cell lines\n",
      "          cystic fibrosis\n",
      "          lung injury\n",
      "          antioxidants\n",
      "          asthmatic\n",
      "          co2\n",
      "          airways\n",
      "          epithelial cells\n"
     ]
    }
   ],
   "source": [
    "paths, _ = top_n_paths(\n",
    "    paper_comention_network, \"virus\", \"transcription factors\", n=10, weight=\"npmi\",\n",
    "    strategy=\"naive\", pretty_print=True)"
   ]
  },
  {
   "cell_type": "code",
   "execution_count": 24,
   "metadata": {},
   "outputs": [
    {
     "name": "stdout",
     "output_type": "stream",
     "text": [
      "virus <->                                 <-> transcription factors\n",
      "          viral\n",
      "          cell lines\n",
      "          viral <-> infected cells\n",
      "          infected cells\n",
      "          viral <-> cell lines\n",
      "          viral <-> co2\n",
      "          neutrophils\n",
      "          cell lines <-> infected cells\n",
      "          mosaic virus <-> infected cells\n",
      "          bacterial <-> enzyme\n"
     ]
    }
   ],
   "source": [
    "paths, _ = top_n_paths(\n",
    "    paper_comention_network, \"virus\", \"transcription factors\", n=10,\n",
    "    distance=\"distance_npmi\",\n",
    "    strategy=\"yen\", pretty_print=True)"
   ]
  },
  {
   "cell_type": "code",
   "execution_count": 25,
   "metadata": {},
   "outputs": [
    {
     "name": "stdout",
     "output_type": "stream",
     "text": [
      "virus -> viral -> host -> bacteria -> bacterium -> fungi -> aids -> human disease -> airways -> asthmatic -> cystic fibrosis -> transcription factors\n"
     ]
    }
   ],
   "source": [
    "_ = single_shortest_path(tree, \"virus\", \"transcription factors\", pretty_print=True)"
   ]
  },
  {
   "cell_type": "markdown",
   "metadata": {},
   "source": [
    "## 10. Conditional path search"
   ]
  },
  {
   "cell_type": "code",
   "execution_count": 26,
   "metadata": {},
   "outputs": [
    {
     "name": "stdout",
     "output_type": "stream",
     "text": [
      "virus ->                  -> lung injury ->                -> transcription factors\n",
      "         lungs                                \n",
      "                                              cystic fibrosis\n",
      "         bacterial                            asthmatic\n",
      "         neutrophils                          asthma\n",
      "         animals                              enzyme\n",
      "         viral                                bronchiectasis\n",
      "         mice                                 epithelial cells\n",
      "         airways                              antioxidants\n",
      "         influenza                            co2\n",
      "         animals -> airways                   rat\n"
     ]
    }
   ],
   "source": [
    "path_a_b, path_b_c =  top_n_tripaths(\n",
    "    paper_comention_network, \"virus\", \"lung injury\", \"transcription factors\", 10,\n",
    "    strategy=\"yen\", distance=\"distance_npmi\", intersecting=False,\n",
    "    pretty_print=True)"
   ]
  },
  {
   "cell_type": "code",
   "execution_count": 27,
   "metadata": {},
   "outputs": [
    {
     "data": {
      "text/plain": [
       "[['virus', 'lungs', 'lung injury'],\n",
       " ['virus', 'lung injury'],\n",
       " ['virus', 'bacterial', 'lung injury'],\n",
       " ['virus', 'neutrophils', 'lung injury'],\n",
       " ['virus', 'animals', 'lung injury'],\n",
       " ['virus', 'viral', 'lung injury'],\n",
       " ['virus', 'mice', 'lung injury'],\n",
       " ['virus', 'airways', 'lung injury'],\n",
       " ['virus', 'influenza', 'lung injury'],\n",
       " ['virus', 'animals', 'airways', 'lung injury']]"
      ]
     },
     "execution_count": 27,
     "metadata": {},
     "output_type": "execute_result"
    }
   ],
   "source": [
    "path_a_b"
   ]
  },
  {
   "cell_type": "code",
   "execution_count": 28,
   "metadata": {},
   "outputs": [
    {
     "data": {
      "text/plain": [
       "[['lung injury', 'transcription factors'],\n",
       " ['lung injury', 'cystic fibrosis', 'transcription factors'],\n",
       " ['lung injury', 'asthmatic', 'transcription factors'],\n",
       " ['lung injury', 'asthma', 'transcription factors'],\n",
       " ['lung injury', 'enzyme', 'transcription factors'],\n",
       " ['lung injury', 'bronchiectasis', 'transcription factors'],\n",
       " ['lung injury', 'epithelial cells', 'transcription factors'],\n",
       " ['lung injury', 'antioxidants', 'transcription factors'],\n",
       " ['lung injury', 'co2', 'transcription factors'],\n",
       " ['lung injury', 'rat', 'transcription factors']]"
      ]
     },
     "execution_count": 28,
     "metadata": {},
     "output_type": "execute_result"
    }
   ],
   "source": [
    "path_b_c"
   ]
  }
 ],
 "metadata": {
  "kernelspec": {
   "display_name": "bbg",
   "language": "python",
   "name": "bbg"
  },
  "language_info": {
   "codemirror_mode": {
    "name": "ipython",
    "version": 3
   },
   "file_extension": ".py",
   "mimetype": "text/x-python",
   "name": "python",
   "nbconvert_exporter": "python",
   "pygments_lexer": "ipython3",
   "version": "3.8.5"
  }
 },
 "nbformat": 4,
 "nbformat_minor": 4
}
