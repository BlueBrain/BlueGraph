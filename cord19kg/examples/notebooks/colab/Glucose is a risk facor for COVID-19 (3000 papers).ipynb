{
  "nbformat": 4,
  "nbformat_minor": 0,
  "metadata": {
    "kernelspec": {
      "display_name": "bluegraph",
      "language": "python",
      "name": "bluegraph"
    },
    "language_info": {
      "codemirror_mode": {
        "name": "ipython",
        "version": 3
      },
      "file_extension": ".py",
      "mimetype": "text/x-python",
      "name": "python",
      "nbconvert_exporter": "python",
      "pygments_lexer": "ipython3",
      "version": "3.6.12"
    },
    "colab": {
      "name": "Glucose is a risk facor for COVID-19 (3000 papers).ipynb",
      "provenance": [],
      "history_visible": true
    }
  },
  "cells": [
    {
      "cell_type": "markdown",
      "metadata": {
        "id": "4lakIXNEwMK4"
      },
      "source": [
        "To install BlueGraph and the necessary dependecies from the notebook, run the following cell."
      ]
    },
    {
      "cell_type": "code",
      "metadata": {
        "id": "UbEdKOdlt925",
        "outputId": "3a6232d2-ea6c-410d-bd14-f1e7b37e6272",
        "colab": {
          "base_uri": "https://localhost:8080/"
        }
      },
      "source": [
        "# Install bluegraph\n",
        "! git clone https://github.com/BlueBrain/BlueGraph\n",
        "! cd BlueGraph\n",
        "! pip install bluegraph[cord19kg]\n",
        "\n",
        "# Install graph-tool\n",
        "!echo \"deb http://downloads.skewed.de/apt bionic main\" >> /etc/apt/sources.list\n",
        "!apt-key adv --keyserver keys.openpgp.org --recv-key 612DEFB798507F25\n",
        "!apt-get update\n",
        "!apt-get install python3-graph-tool python3-cairo python3-matplotlib"
      ],
      "execution_count": 7,
      "outputs": [
        {
          "output_type": "stream",
          "text": [
            "Cloning into 'BlueGraph'...\n",
            "remote: Enumerating objects: 238, done.\u001b[K\n",
            "remote: Counting objects: 100% (238/238), done.\u001b[K\n",
            "remote: Compressing objects: 100% (95/95), done.\u001b[K\n",
            "remote: Total 2481 (delta 169), reused 159 (delta 140), pack-reused 2243\u001b[K\n",
            "Receiving objects: 100% (2481/2481), 210.12 MiB | 29.32 MiB/s, done.\n",
            "Resolving deltas: 100% (1474/1474), done.\n",
            "Checking out files: 100% (214/214), done.\n",
            "Requirement already satisfied: bluegraph[cord19kg] in /usr/local/lib/python3.7/dist-packages (0.0.2.dev240+g64628f1)\n",
            "Requirement already satisfied: gensim==3.8.3 in /usr/local/lib/python3.7/dist-packages (from bluegraph[cord19kg]) (3.8.3)\n",
            "Requirement already satisfied: networkx>=2 in /usr/local/lib/python3.7/dist-packages (from bluegraph[cord19kg]) (2.5)\n",
            "Requirement already satisfied: tensorflow in /usr/local/lib/python3.7/dist-packages (from bluegraph[cord19kg]) (2.4.1)\n",
            "Requirement already satisfied: pandas in /usr/local/lib/python3.7/dist-packages (from bluegraph[cord19kg]) (1.1.5)\n",
            "Requirement already satisfied: scipy in /usr/local/lib/python3.7/dist-packages (from bluegraph[cord19kg]) (1.4.1)\n",
            "Requirement already satisfied: sklearn in /usr/local/lib/python3.7/dist-packages (from bluegraph[cord19kg]) (0.0)\n",
            "Requirement already satisfied: nexusforge in /usr/local/lib/python3.7/dist-packages (from bluegraph[cord19kg]) (0.5.2)\n",
            "Requirement already satisfied: python-louvain in /usr/local/lib/python3.7/dist-packages (from bluegraph[cord19kg]) (0.15)\n",
            "Requirement already satisfied: numpy>=1.20.1 in /usr/local/lib/python3.7/dist-packages (from bluegraph[cord19kg]) (1.20.2)\n",
            "Requirement already satisfied: matplotlib in /usr/local/lib/python3.7/dist-packages (from bluegraph[cord19kg]) (3.2.2)\n",
            "Requirement already satisfied: nltk in /usr/local/lib/python3.7/dist-packages (from bluegraph[cord19kg]) (3.2.5)\n",
            "Requirement already satisfied: nexus-sdk; extra == \"cord19kg\" in /usr/local/lib/python3.7/dist-packages (from bluegraph[cord19kg]) (0.3.2)\n",
            "Requirement already satisfied: dash-cytoscape; extra == \"cord19kg\" in /usr/local/lib/python3.7/dist-packages (from bluegraph[cord19kg]) (0.2.0)\n",
            "Requirement already satisfied: dash-daq; extra == \"cord19kg\" in /usr/local/lib/python3.7/dist-packages (from bluegraph[cord19kg]) (0.5.0)\n",
            "Requirement already satisfied: pyjwt==1.7.1; extra == \"cord19kg\" in /usr/local/lib/python3.7/dist-packages (from bluegraph[cord19kg]) (1.7.1)\n",
            "Requirement already satisfied: jupyter-dash; extra == \"cord19kg\" in /usr/local/lib/python3.7/dist-packages (from bluegraph[cord19kg]) (0.4.0)\n",
            "Requirement already satisfied: dash-extensions; extra == \"cord19kg\" in /usr/local/lib/python3.7/dist-packages (from bluegraph[cord19kg]) (0.0.51)\n",
            "Requirement already satisfied: ipywidgets; extra == \"cord19kg\" in /usr/local/lib/python3.7/dist-packages (from bluegraph[cord19kg]) (7.6.3)\n",
            "Requirement already satisfied: dash-bootstrap-components; extra == \"cord19kg\" in /usr/local/lib/python3.7/dist-packages (from bluegraph[cord19kg]) (0.12.0)\n",
            "Requirement already satisfied: smart-open>=1.8.1 in /usr/local/lib/python3.7/dist-packages (from gensim==3.8.3->bluegraph[cord19kg]) (4.2.0)\n",
            "Requirement already satisfied: six>=1.5.0 in /usr/local/lib/python3.7/dist-packages (from gensim==3.8.3->bluegraph[cord19kg]) (1.15.0)\n",
            "Requirement already satisfied: decorator>=4.3.0 in /usr/local/lib/python3.7/dist-packages (from networkx>=2->bluegraph[cord19kg]) (4.4.2)\n",
            "Requirement already satisfied: google-pasta~=0.2 in /usr/local/lib/python3.7/dist-packages (from tensorflow->bluegraph[cord19kg]) (0.2.0)\n",
            "Requirement already satisfied: opt-einsum~=3.3.0 in /usr/local/lib/python3.7/dist-packages (from tensorflow->bluegraph[cord19kg]) (3.3.0)\n",
            "Requirement already satisfied: typing-extensions~=3.7.4 in /usr/local/lib/python3.7/dist-packages (from tensorflow->bluegraph[cord19kg]) (3.7.4.3)\n",
            "Requirement already satisfied: wheel~=0.35 in /usr/local/lib/python3.7/dist-packages (from tensorflow->bluegraph[cord19kg]) (0.36.2)\n",
            "Requirement already satisfied: wrapt~=1.12.1 in /usr/local/lib/python3.7/dist-packages (from tensorflow->bluegraph[cord19kg]) (1.12.1)\n",
            "Requirement already satisfied: protobuf>=3.9.2 in /usr/local/lib/python3.7/dist-packages (from tensorflow->bluegraph[cord19kg]) (3.12.4)\n",
            "Requirement already satisfied: grpcio~=1.32.0 in /usr/local/lib/python3.7/dist-packages (from tensorflow->bluegraph[cord19kg]) (1.32.0)\n",
            "Requirement already satisfied: astunparse~=1.6.3 in /usr/local/lib/python3.7/dist-packages (from tensorflow->bluegraph[cord19kg]) (1.6.3)\n",
            "Requirement already satisfied: absl-py~=0.10 in /usr/local/lib/python3.7/dist-packages (from tensorflow->bluegraph[cord19kg]) (0.12.0)\n",
            "Requirement already satisfied: keras-preprocessing~=1.1.2 in /usr/local/lib/python3.7/dist-packages (from tensorflow->bluegraph[cord19kg]) (1.1.2)\n",
            "Requirement already satisfied: tensorflow-estimator<2.5.0,>=2.4.0 in /usr/local/lib/python3.7/dist-packages (from tensorflow->bluegraph[cord19kg]) (2.4.0)\n",
            "Requirement already satisfied: flatbuffers~=1.12.0 in /usr/local/lib/python3.7/dist-packages (from tensorflow->bluegraph[cord19kg]) (1.12)\n",
            "Requirement already satisfied: h5py~=2.10.0 in /usr/local/lib/python3.7/dist-packages (from tensorflow->bluegraph[cord19kg]) (2.10.0)\n",
            "Requirement already satisfied: termcolor~=1.1.0 in /usr/local/lib/python3.7/dist-packages (from tensorflow->bluegraph[cord19kg]) (1.1.0)\n",
            "Requirement already satisfied: tensorboard~=2.4 in /usr/local/lib/python3.7/dist-packages (from tensorflow->bluegraph[cord19kg]) (2.4.1)\n",
            "Requirement already satisfied: gast==0.3.3 in /usr/local/lib/python3.7/dist-packages (from tensorflow->bluegraph[cord19kg]) (0.3.3)\n",
            "Requirement already satisfied: python-dateutil>=2.7.3 in /usr/local/lib/python3.7/dist-packages (from pandas->bluegraph[cord19kg]) (2.8.1)\n",
            "Requirement already satisfied: pytz>=2017.2 in /usr/local/lib/python3.7/dist-packages (from pandas->bluegraph[cord19kg]) (2018.9)\n",
            "Requirement already satisfied: scikit-learn in /usr/local/lib/python3.7/dist-packages (from sklearn->bluegraph[cord19kg]) (0.22.2.post1)\n",
            "Requirement already satisfied: hjson in /usr/local/lib/python3.7/dist-packages (from nexusforge->bluegraph[cord19kg]) (3.0.2)\n",
            "Requirement already satisfied: pyyaml in /usr/local/lib/python3.7/dist-packages (from nexusforge->bluegraph[cord19kg]) (3.13)\n",
            "Requirement already satisfied: aiohttp in /usr/local/lib/python3.7/dist-packages (from nexusforge->bluegraph[cord19kg]) (3.7.4.post0)\n",
            "Requirement already satisfied: rdflib-jsonld in /usr/local/lib/python3.7/dist-packages (from nexusforge->bluegraph[cord19kg]) (0.5.0)\n",
            "Requirement already satisfied: pyLD in /usr/local/lib/python3.7/dist-packages (from nexusforge->bluegraph[cord19kg]) (2.0.3)\n",
            "Requirement already satisfied: nest-asyncio in /usr/local/lib/python3.7/dist-packages (from nexusforge->bluegraph[cord19kg]) (1.5.1)\n",
            "Requirement already satisfied: pyshacl==0.11.6.post1 in /usr/local/lib/python3.7/dist-packages (from nexusforge->bluegraph[cord19kg]) (0.11.6.post1)\n",
            "Requirement already satisfied: pyparsing!=2.0.4,!=2.1.2,!=2.1.6,>=2.0.1 in /usr/local/lib/python3.7/dist-packages (from matplotlib->bluegraph[cord19kg]) (2.4.7)\n",
            "Requirement already satisfied: kiwisolver>=1.0.1 in /usr/local/lib/python3.7/dist-packages (from matplotlib->bluegraph[cord19kg]) (1.3.1)\n",
            "Requirement already satisfied: cycler>=0.10 in /usr/local/lib/python3.7/dist-packages (from matplotlib->bluegraph[cord19kg]) (0.10.0)\n",
            "Requirement already satisfied: requests in /usr/local/lib/python3.7/dist-packages (from nexus-sdk; extra == \"cord19kg\"->bluegraph[cord19kg]) (2.23.0)\n",
            "Requirement already satisfied: sseclient in /usr/local/lib/python3.7/dist-packages (from nexus-sdk; extra == \"cord19kg\"->bluegraph[cord19kg]) (0.0.27)\n",
            "Requirement already satisfied: puremagic in /usr/local/lib/python3.7/dist-packages (from nexus-sdk; extra == \"cord19kg\"->bluegraph[cord19kg]) (1.10)\n",
            "Requirement already satisfied: dash in /usr/local/lib/python3.7/dist-packages (from dash-cytoscape; extra == \"cord19kg\"->bluegraph[cord19kg]) (1.20.0)\n",
            "Requirement already satisfied: flask in /usr/local/lib/python3.7/dist-packages (from jupyter-dash; extra == \"cord19kg\"->bluegraph[cord19kg]) (1.1.2)\n",
            "Requirement already satisfied: ipykernel in /usr/local/lib/python3.7/dist-packages (from jupyter-dash; extra == \"cord19kg\"->bluegraph[cord19kg]) (4.10.1)\n",
            "Requirement already satisfied: ipython in /usr/local/lib/python3.7/dist-packages (from jupyter-dash; extra == \"cord19kg\"->bluegraph[cord19kg]) (5.5.0)\n",
            "Requirement already satisfied: ansi2html in /usr/local/lib/python3.7/dist-packages (from jupyter-dash; extra == \"cord19kg\"->bluegraph[cord19kg]) (1.6.0)\n",
            "Requirement already satisfied: retrying in /usr/local/lib/python3.7/dist-packages (from jupyter-dash; extra == \"cord19kg\"->bluegraph[cord19kg]) (1.3.3)\n",
            "Requirement already satisfied: Flask-Caching in /usr/local/lib/python3.7/dist-packages (from dash-extensions; extra == \"cord19kg\"->bluegraph[cord19kg]) (1.10.1)\n",
            "Requirement already satisfied: more-itertools in /usr/local/lib/python3.7/dist-packages (from dash-extensions; extra == \"cord19kg\"->bluegraph[cord19kg]) (8.7.0)\n",
            "Requirement already satisfied: jupyterlab-widgets>=1.0.0; python_version >= \"3.6\" in /usr/local/lib/python3.7/dist-packages (from ipywidgets; extra == \"cord19kg\"->bluegraph[cord19kg]) (1.0.0)\n",
            "Requirement already satisfied: traitlets>=4.3.1 in /usr/local/lib/python3.7/dist-packages (from ipywidgets; extra == \"cord19kg\"->bluegraph[cord19kg]) (5.0.5)\n",
            "Requirement already satisfied: widgetsnbextension~=3.5.0 in /usr/local/lib/python3.7/dist-packages (from ipywidgets; extra == \"cord19kg\"->bluegraph[cord19kg]) (3.5.1)\n",
            "Requirement already satisfied: nbformat>=4.2.0 in /usr/local/lib/python3.7/dist-packages (from ipywidgets; extra == \"cord19kg\"->bluegraph[cord19kg]) (5.1.2)\n",
            "Requirement already satisfied: setuptools in /usr/local/lib/python3.7/dist-packages (from protobuf>=3.9.2->tensorflow->bluegraph[cord19kg]) (54.2.0)\n",
            "Requirement already satisfied: werkzeug>=0.11.15 in /usr/local/lib/python3.7/dist-packages (from tensorboard~=2.4->tensorflow->bluegraph[cord19kg]) (1.0.1)\n",
            "Requirement already satisfied: tensorboard-plugin-wit>=1.6.0 in /usr/local/lib/python3.7/dist-packages (from tensorboard~=2.4->tensorflow->bluegraph[cord19kg]) (1.8.0)\n",
            "Requirement already satisfied: google-auth-oauthlib<0.5,>=0.4.1 in /usr/local/lib/python3.7/dist-packages (from tensorboard~=2.4->tensorflow->bluegraph[cord19kg]) (0.4.3)\n",
            "Requirement already satisfied: markdown>=2.6.8 in /usr/local/lib/python3.7/dist-packages (from tensorboard~=2.4->tensorflow->bluegraph[cord19kg]) (3.3.4)\n",
            "Requirement already satisfied: google-auth<2,>=1.6.3 in /usr/local/lib/python3.7/dist-packages (from tensorboard~=2.4->tensorflow->bluegraph[cord19kg]) (1.28.0)\n",
            "Requirement already satisfied: joblib>=0.11 in /usr/local/lib/python3.7/dist-packages (from scikit-learn->sklearn->bluegraph[cord19kg]) (1.0.1)\n",
            "Requirement already satisfied: async-timeout<4.0,>=3.0 in /usr/local/lib/python3.7/dist-packages (from aiohttp->nexusforge->bluegraph[cord19kg]) (3.0.1)\n",
            "Requirement already satisfied: attrs>=17.3.0 in /usr/local/lib/python3.7/dist-packages (from aiohttp->nexusforge->bluegraph[cord19kg]) (20.3.0)\n",
            "Requirement already satisfied: chardet<5.0,>=2.0 in /usr/local/lib/python3.7/dist-packages (from aiohttp->nexusforge->bluegraph[cord19kg]) (3.0.4)\n",
            "Requirement already satisfied: yarl<2.0,>=1.0 in /usr/local/lib/python3.7/dist-packages (from aiohttp->nexusforge->bluegraph[cord19kg]) (1.6.3)\n",
            "Requirement already satisfied: multidict<7.0,>=4.5 in /usr/local/lib/python3.7/dist-packages (from aiohttp->nexusforge->bluegraph[cord19kg]) (5.1.0)\n",
            "Requirement already satisfied: rdflib>=4.2.2 in /usr/local/lib/python3.7/dist-packages (from rdflib-jsonld->nexusforge->bluegraph[cord19kg]) (5.0.0)\n",
            "Requirement already satisfied: frozendict in /usr/local/lib/python3.7/dist-packages (from pyLD->nexusforge->bluegraph[cord19kg]) (1.2)\n",
            "Requirement already satisfied: lxml in /usr/local/lib/python3.7/dist-packages (from pyLD->nexusforge->bluegraph[cord19kg]) (4.2.6)\n",
            "Requirement already satisfied: cachetools in /usr/local/lib/python3.7/dist-packages (from pyLD->nexusforge->bluegraph[cord19kg]) (4.2.1)\n",
            "Requirement already satisfied: owlrl>=5.2.1 in /usr/local/lib/python3.7/dist-packages (from pyshacl==0.11.6.post1->nexusforge->bluegraph[cord19kg]) (5.2.1)\n",
            "Requirement already satisfied: urllib3!=1.25.0,!=1.25.1,<1.26,>=1.21.1 in /usr/local/lib/python3.7/dist-packages (from requests->nexus-sdk; extra == \"cord19kg\"->bluegraph[cord19kg]) (1.24.3)\n",
            "Requirement already satisfied: certifi>=2017.4.17 in /usr/local/lib/python3.7/dist-packages (from requests->nexus-sdk; extra == \"cord19kg\"->bluegraph[cord19kg]) (2020.12.5)\n",
            "Requirement already satisfied: idna<3,>=2.5 in /usr/local/lib/python3.7/dist-packages (from requests->nexus-sdk; extra == \"cord19kg\"->bluegraph[cord19kg]) (2.10)\n",
            "Requirement already satisfied: argparse in /usr/local/lib/python3.7/dist-packages (from puremagic->nexus-sdk; extra == \"cord19kg\"->bluegraph[cord19kg]) (1.4.0)\n",
            "Requirement already satisfied: dash-html-components==1.1.3 in /usr/local/lib/python3.7/dist-packages (from dash->dash-cytoscape; extra == \"cord19kg\"->bluegraph[cord19kg]) (1.1.3)\n",
            "Requirement already satisfied: future in /usr/local/lib/python3.7/dist-packages (from dash->dash-cytoscape; extra == \"cord19kg\"->bluegraph[cord19kg]) (0.16.0)\n",
            "Requirement already satisfied: dash-core-components==1.16.0 in /usr/local/lib/python3.7/dist-packages (from dash->dash-cytoscape; extra == \"cord19kg\"->bluegraph[cord19kg]) (1.16.0)\n",
            "Requirement already satisfied: flask-compress in /usr/local/lib/python3.7/dist-packages (from dash->dash-cytoscape; extra == \"cord19kg\"->bluegraph[cord19kg]) (1.9.0)\n",
            "Requirement already satisfied: plotly in /usr/local/lib/python3.7/dist-packages (from dash->dash-cytoscape; extra == \"cord19kg\"->bluegraph[cord19kg]) (4.4.1)\n",
            "Requirement already satisfied: dash-renderer==1.9.1 in /usr/local/lib/python3.7/dist-packages (from dash->dash-cytoscape; extra == \"cord19kg\"->bluegraph[cord19kg]) (1.9.1)\n",
            "Requirement already satisfied: dash-table==4.11.3 in /usr/local/lib/python3.7/dist-packages (from dash->dash-cytoscape; extra == \"cord19kg\"->bluegraph[cord19kg]) (4.11.3)\n",
            "Requirement already satisfied: Jinja2>=2.10.1 in /usr/local/lib/python3.7/dist-packages (from flask->jupyter-dash; extra == \"cord19kg\"->bluegraph[cord19kg]) (2.11.3)\n",
            "Requirement already satisfied: itsdangerous>=0.24 in /usr/local/lib/python3.7/dist-packages (from flask->jupyter-dash; extra == \"cord19kg\"->bluegraph[cord19kg]) (1.1.0)\n",
            "Requirement already satisfied: click>=5.1 in /usr/local/lib/python3.7/dist-packages (from flask->jupyter-dash; extra == \"cord19kg\"->bluegraph[cord19kg]) (7.1.2)\n",
            "Requirement already satisfied: jupyter-client in /usr/local/lib/python3.7/dist-packages (from ipykernel->jupyter-dash; extra == \"cord19kg\"->bluegraph[cord19kg]) (5.3.5)\n",
            "Requirement already satisfied: tornado>=4.0 in /usr/local/lib/python3.7/dist-packages (from ipykernel->jupyter-dash; extra == \"cord19kg\"->bluegraph[cord19kg]) (5.1.1)\n",
            "Requirement already satisfied: simplegeneric>0.8 in /usr/local/lib/python3.7/dist-packages (from ipython->jupyter-dash; extra == \"cord19kg\"->bluegraph[cord19kg]) (0.8.1)\n",
            "Requirement already satisfied: prompt-toolkit<2.0.0,>=1.0.4 in /usr/local/lib/python3.7/dist-packages (from ipython->jupyter-dash; extra == \"cord19kg\"->bluegraph[cord19kg]) (1.0.18)\n",
            "Requirement already satisfied: pickleshare in /usr/local/lib/python3.7/dist-packages (from ipython->jupyter-dash; extra == \"cord19kg\"->bluegraph[cord19kg]) (0.7.5)\n",
            "Requirement already satisfied: pygments in /usr/local/lib/python3.7/dist-packages (from ipython->jupyter-dash; extra == \"cord19kg\"->bluegraph[cord19kg]) (2.6.1)\n",
            "Requirement already satisfied: pexpect; sys_platform != \"win32\" in /usr/local/lib/python3.7/dist-packages (from ipython->jupyter-dash; extra == \"cord19kg\"->bluegraph[cord19kg]) (4.8.0)\n",
            "Requirement already satisfied: ipython-genutils in /usr/local/lib/python3.7/dist-packages (from traitlets>=4.3.1->ipywidgets; extra == \"cord19kg\"->bluegraph[cord19kg]) (0.2.0)\n",
            "Requirement already satisfied: notebook>=4.4.1 in /usr/local/lib/python3.7/dist-packages (from widgetsnbextension~=3.5.0->ipywidgets; extra == \"cord19kg\"->bluegraph[cord19kg]) (5.3.1)\n",
            "Requirement already satisfied: jsonschema!=2.5.0,>=2.4 in /usr/local/lib/python3.7/dist-packages (from nbformat>=4.2.0->ipywidgets; extra == \"cord19kg\"->bluegraph[cord19kg]) (2.6.0)\n",
            "Requirement already satisfied: jupyter-core in /usr/local/lib/python3.7/dist-packages (from nbformat>=4.2.0->ipywidgets; extra == \"cord19kg\"->bluegraph[cord19kg]) (4.7.1)\n",
            "Requirement already satisfied: requests-oauthlib>=0.7.0 in /usr/local/lib/python3.7/dist-packages (from google-auth-oauthlib<0.5,>=0.4.1->tensorboard~=2.4->tensorflow->bluegraph[cord19kg]) (1.3.0)\n",
            "Requirement already satisfied: importlib-metadata; python_version < \"3.8\" in /usr/local/lib/python3.7/dist-packages (from markdown>=2.6.8->tensorboard~=2.4->tensorflow->bluegraph[cord19kg]) (3.8.1)\n",
            "Requirement already satisfied: pyasn1-modules>=0.2.1 in /usr/local/lib/python3.7/dist-packages (from google-auth<2,>=1.6.3->tensorboard~=2.4->tensorflow->bluegraph[cord19kg]) (0.2.8)\n",
            "Requirement already satisfied: rsa<5,>=3.1.4; python_version >= \"3.6\" in /usr/local/lib/python3.7/dist-packages (from google-auth<2,>=1.6.3->tensorboard~=2.4->tensorflow->bluegraph[cord19kg]) (4.7.2)\n",
            "Requirement already satisfied: isodate in /usr/local/lib/python3.7/dist-packages (from rdflib>=4.2.2->rdflib-jsonld->nexusforge->bluegraph[cord19kg]) (0.6.0)\n",
            "Requirement already satisfied: brotli in /usr/local/lib/python3.7/dist-packages (from flask-compress->dash->dash-cytoscape; extra == \"cord19kg\"->bluegraph[cord19kg]) (1.0.9)\n",
            "Requirement already satisfied: MarkupSafe>=0.23 in /usr/local/lib/python3.7/dist-packages (from Jinja2>=2.10.1->flask->jupyter-dash; extra == \"cord19kg\"->bluegraph[cord19kg]) (1.1.1)\n",
            "Requirement already satisfied: pyzmq>=13 in /usr/local/lib/python3.7/dist-packages (from jupyter-client->ipykernel->jupyter-dash; extra == \"cord19kg\"->bluegraph[cord19kg]) (22.0.3)\n",
            "Requirement already satisfied: wcwidth in /usr/local/lib/python3.7/dist-packages (from prompt-toolkit<2.0.0,>=1.0.4->ipython->jupyter-dash; extra == \"cord19kg\"->bluegraph[cord19kg]) (0.2.5)\n",
            "Requirement already satisfied: ptyprocess>=0.5 in /usr/local/lib/python3.7/dist-packages (from pexpect; sys_platform != \"win32\"->ipython->jupyter-dash; extra == \"cord19kg\"->bluegraph[cord19kg]) (0.7.0)\n",
            "Requirement already satisfied: terminado>=0.8.1 in /usr/local/lib/python3.7/dist-packages (from notebook>=4.4.1->widgetsnbextension~=3.5.0->ipywidgets; extra == \"cord19kg\"->bluegraph[cord19kg]) (0.9.3)\n",
            "Requirement already satisfied: Send2Trash in /usr/local/lib/python3.7/dist-packages (from notebook>=4.4.1->widgetsnbextension~=3.5.0->ipywidgets; extra == \"cord19kg\"->bluegraph[cord19kg]) (1.5.0)\n",
            "Requirement already satisfied: nbconvert in /usr/local/lib/python3.7/dist-packages (from notebook>=4.4.1->widgetsnbextension~=3.5.0->ipywidgets; extra == \"cord19kg\"->bluegraph[cord19kg]) (5.6.1)\n",
            "Requirement already satisfied: oauthlib>=3.0.0 in /usr/local/lib/python3.7/dist-packages (from requests-oauthlib>=0.7.0->google-auth-oauthlib<0.5,>=0.4.1->tensorboard~=2.4->tensorflow->bluegraph[cord19kg]) (3.1.0)\n",
            "Requirement already satisfied: zipp>=0.5 in /usr/local/lib/python3.7/dist-packages (from importlib-metadata; python_version < \"3.8\"->markdown>=2.6.8->tensorboard~=2.4->tensorflow->bluegraph[cord19kg]) (3.4.1)\n",
            "Requirement already satisfied: pyasn1<0.5.0,>=0.4.6 in /usr/local/lib/python3.7/dist-packages (from pyasn1-modules>=0.2.1->google-auth<2,>=1.6.3->tensorboard~=2.4->tensorflow->bluegraph[cord19kg]) (0.4.8)\n",
            "Requirement already satisfied: testpath in /usr/local/lib/python3.7/dist-packages (from nbconvert->notebook>=4.4.1->widgetsnbextension~=3.5.0->ipywidgets; extra == \"cord19kg\"->bluegraph[cord19kg]) (0.4.4)\n",
            "Requirement already satisfied: entrypoints>=0.2.2 in /usr/local/lib/python3.7/dist-packages (from nbconvert->notebook>=4.4.1->widgetsnbextension~=3.5.0->ipywidgets; extra == \"cord19kg\"->bluegraph[cord19kg]) (0.3)\n",
            "Requirement already satisfied: pandocfilters>=1.4.1 in /usr/local/lib/python3.7/dist-packages (from nbconvert->notebook>=4.4.1->widgetsnbextension~=3.5.0->ipywidgets; extra == \"cord19kg\"->bluegraph[cord19kg]) (1.4.3)\n",
            "Requirement already satisfied: bleach in /usr/local/lib/python3.7/dist-packages (from nbconvert->notebook>=4.4.1->widgetsnbextension~=3.5.0->ipywidgets; extra == \"cord19kg\"->bluegraph[cord19kg]) (3.3.0)\n",
            "Requirement already satisfied: defusedxml in /usr/local/lib/python3.7/dist-packages (from nbconvert->notebook>=4.4.1->widgetsnbextension~=3.5.0->ipywidgets; extra == \"cord19kg\"->bluegraph[cord19kg]) (0.7.1)\n",
            "Requirement already satisfied: mistune<2,>=0.8.1 in /usr/local/lib/python3.7/dist-packages (from nbconvert->notebook>=4.4.1->widgetsnbextension~=3.5.0->ipywidgets; extra == \"cord19kg\"->bluegraph[cord19kg]) (0.8.4)\n",
            "Requirement already satisfied: packaging in /usr/local/lib/python3.7/dist-packages (from bleach->nbconvert->notebook>=4.4.1->widgetsnbextension~=3.5.0->ipywidgets; extra == \"cord19kg\"->bluegraph[cord19kg]) (20.9)\n",
            "Requirement already satisfied: webencodings in /usr/local/lib/python3.7/dist-packages (from bleach->nbconvert->notebook>=4.4.1->widgetsnbextension~=3.5.0->ipywidgets; extra == \"cord19kg\"->bluegraph[cord19kg]) (0.5.1)\n",
            "Executing: /tmp/apt-key-gpghome.o3abUwGOqh/gpg.1.sh --keyserver keys.openpgp.org --recv-key 612DEFB798507F25\n",
            "gpg: key 612DEFB798507F25: \"Tiago de Paula Peixoto <tiago@skewed.de>\" not changed\n",
            "gpg: Total number processed: 1\n",
            "gpg:              unchanged: 1\n",
            "Hit:1 https://cloud.r-project.org/bin/linux/ubuntu bionic-cran40/ InRelease\n",
            "Hit:2 http://security.ubuntu.com/ubuntu bionic-security InRelease\n",
            "Ign:3 https://developer.download.nvidia.com/compute/cuda/repos/ubuntu1804/x86_64  InRelease\n",
            "Ign:4 https://developer.download.nvidia.com/compute/machine-learning/repos/ubuntu1804/x86_64  InRelease\n",
            "Hit:5 https://developer.download.nvidia.com/compute/cuda/repos/ubuntu1804/x86_64  Release\n",
            "Hit:6 https://developer.download.nvidia.com/compute/machine-learning/repos/ubuntu1804/x86_64  Release\n",
            "Hit:7 http://archive.ubuntu.com/ubuntu bionic InRelease\n",
            "Hit:8 http://ppa.launchpad.net/c2d4u.team/c2d4u4.0+/ubuntu bionic InRelease\n",
            "Hit:9 http://archive.ubuntu.com/ubuntu bionic-updates InRelease\n",
            "Hit:10 http://downloads.skewed.de/apt bionic InRelease\n",
            "Hit:11 http://archive.ubuntu.com/ubuntu bionic-backports InRelease\n",
            "Hit:12 http://ppa.launchpad.net/cran/libgit2/ubuntu bionic InRelease\n",
            "Hit:13 http://ppa.launchpad.net/deadsnakes/ppa/ubuntu bionic InRelease\n",
            "Hit:15 http://ppa.launchpad.net/graphics-drivers/ppa/ubuntu bionic InRelease\n",
            "Reading package lists... Done\n",
            "W: Target Packages (main/binary-amd64/Packages) is configured multiple times in /etc/apt/sources.list:51 and /etc/apt/sources.list:52\n",
            "W: Target Packages (main/binary-all/Packages) is configured multiple times in /etc/apt/sources.list:51 and /etc/apt/sources.list:52\n",
            "W: Target Packages (main/binary-amd64/Packages) is configured multiple times in /etc/apt/sources.list:51 and /etc/apt/sources.list:52\n",
            "W: Target Packages (main/binary-all/Packages) is configured multiple times in /etc/apt/sources.list:51 and /etc/apt/sources.list:52\n",
            "Reading package lists... Done\n",
            "Building dependency tree       \n",
            "Reading state information... Done\n",
            "python3-cairo is already the newest version (1.16.2-1).\n",
            "python3-matplotlib is already the newest version (2.1.1-2ubuntu3).\n",
            "python3-graph-tool is already the newest version (2.37).\n",
            "0 upgraded, 0 newly installed, 0 to remove and 34 not upgraded.\n",
            "W: Target Packages (main/binary-amd64/Packages) is configured multiple times in /etc/apt/sources.list:51 and /etc/apt/sources.list:52\n",
            "W: Target Packages (main/binary-all/Packages) is configured multiple times in /etc/apt/sources.list:51 and /etc/apt/sources.list:52\n"
          ],
          "name": "stdout"
        }
      ]
    },
    {
      "cell_type": "markdown",
      "metadata": {
        "id": "AlYcNNJgt0n0"
      },
      "source": [
        "# Topic-centered co-occurrence network analysis of CORD-19\n",
        "\n",
        "In this notebook we will perform interactive exploration and analysis of a topic-centered subset of the [CORD-19](https://www.kaggle.com/allen-institute-for-ai/CORD-19-research-challenge) dataset using the `cord19kg` package. The exploration and analysis techniques presented here focus on named entities and their co-occurrence in the scientific articles constituting the dataset.\n",
        "\n",
        "The input data for this notebook contains the named entities extracted from the 3000 most relevant articles to the query _\"Glucose is a risk factor of COVID-19\"_ obtained using the article search model [BlueSearch](https://github.com/BlueBrain/Search). The entity extraction was performed using the Named Entity Recognition (NER) techniques also included in [BlueSearch](https://github.com/BlueBrain/Search). The entities represent 10 different types (i.e. proteins, chemicals, drugs, diseases, conditions, organs, organisms, pathways, cell types, cell compartments). \n",
        "\n",
        "The interactive literature exploration through the named entity co-occurrence analysis consisting of the following steps:\n",
        "\n",
        "1. __Data preparation__ step converts raw mentions into aggregated entity occurrence statistics.\n",
        "2. __Data curation__ step allows the user to manage extracted entities: modify, filter them and link to the ontology.\n",
        "3. __Network generation__ step allows creating entity co-occurrence networks based on paper-, section- and paragraph-level co-occurrence relations between entities. These entity relations are quantified using mutual-information-based scores (pointwise mutual information and its normalized version).\n",
        "4. __Network visualization and analysis__ step allows the user to perform interactive network visualization, edit network elements and perform its analysis (spanning tree, mutual-information based shortest paths between entities, etc)."
      ]
    },
    {
      "cell_type": "code",
      "metadata": {
        "id": "LQcLL2-at0n7"
      },
      "source": [
        "import json\n",
        "import zipfile\n",
        "\n",
        "import pandas as pd\n",
        "\n",
        "import dash_cytoscape as cyto\n",
        "\n",
        "from cord19kg.utils import (generate_curation_table,\n",
        "                           link_ontology,\n",
        "                           generate_cooccurrence_analysis)\n",
        "from cord19kg.apps.curation_app import curation_app\n",
        "from cord19kg.apps.visualization_app import visualization_app"
      ],
      "execution_count": 14,
      "outputs": []
    },
    {
      "cell_type": "code",
      "metadata": {
        "id": "-SHZ8oo7t0n9"
      },
      "source": [
        "cyto.load_extra_layouts()"
      ],
      "execution_count": 15,
      "outputs": []
    },
    {
      "cell_type": "markdown",
      "metadata": {
        "id": "j0CI4chEt0n-"
      },
      "source": [
        "## 1. Data preparation\n",
        "\n",
        "The input dataset contains occurrences of different terms in paragraphs of scientific articles from the CORD-19 dataset previously extracted by means of a NER model."
      ]
    },
    {
      "cell_type": "code",
      "metadata": {
        "id": "atzbwnwQt0n_",
        "outputId": "387afef3-674e-46c8-b2aa-3cddd863a22e",
        "colab": {
          "base_uri": "https://localhost:8080/",
          "height": 467
        }
      },
      "source": [
        "%%time\n",
        "print(\"Decompressing the input data file...\")\n",
        "with zipfile.ZipFile(\"BlueGraph/cord19kg/examples/data/Glucose_risk_3000_papers.csv.zip\", 'r') as zip_ref:\n",
        "    zip_ref.extractall(\"BlueGraph/cord19kg/examples/data/\")\n",
        "data = pd.read_csv(\"BlueGraph/cord19kg/examples/data/Glucose_risk_3000_papers.csv\")\n",
        "print(\"Done.\")"
      ],
      "execution_count": 22,
      "outputs": [
        {
          "output_type": "stream",
          "text": [
            "Decompressing the input data file...\n"
          ],
          "name": "stdout"
        },
        {
          "output_type": "error",
          "ename": "FileNotFoundError",
          "evalue": "ignored",
          "traceback": [
            "\u001b[0;31m---------------------------------------------------------------------------\u001b[0m",
            "\u001b[0;31mFileNotFoundError\u001b[0m                         Traceback (most recent call last)",
            "\u001b[0;32m<ipython-input-22-f089ff0e5f2c>\u001b[0m in \u001b[0;36m<module>\u001b[0;34m()\u001b[0m\n\u001b[0;32m----> 1\u001b[0;31m \u001b[0mget_ipython\u001b[0m\u001b[0;34m(\u001b[0m\u001b[0;34m)\u001b[0m\u001b[0;34m.\u001b[0m\u001b[0mrun_cell_magic\u001b[0m\u001b[0;34m(\u001b[0m\u001b[0;34m'time'\u001b[0m\u001b[0;34m,\u001b[0m \u001b[0;34m''\u001b[0m\u001b[0;34m,\u001b[0m \u001b[0;34m'print(\"Decompressing the input data file...\")\\nwith zipfile.ZipFile(\"https://github.com/BlueBrain/BlueGraph/blob/master/cord19kg/examples/data/Glucose_risk_3000_papers.csv.zip?raw=true\", \\'r\\') as zip_ref:\\n    zip_ref.extractall(\"BlueGraph/cord19kg/examples/data/\")\\ndata = pd.read_csv(\"BlueGraph/cord19kg/examples/data/Glucose_risk_3000_papers.csv\")\\nprint(\"Done.\")'\u001b[0m\u001b[0;34m)\u001b[0m\u001b[0;34m\u001b[0m\u001b[0;34m\u001b[0m\u001b[0m\n\u001b[0m",
            "\u001b[0;32m/usr/local/lib/python3.7/dist-packages/IPython/core/interactiveshell.py\u001b[0m in \u001b[0;36mrun_cell_magic\u001b[0;34m(self, magic_name, line, cell)\u001b[0m\n\u001b[1;32m   2115\u001b[0m             \u001b[0mmagic_arg_s\u001b[0m \u001b[0;34m=\u001b[0m \u001b[0mself\u001b[0m\u001b[0;34m.\u001b[0m\u001b[0mvar_expand\u001b[0m\u001b[0;34m(\u001b[0m\u001b[0mline\u001b[0m\u001b[0;34m,\u001b[0m \u001b[0mstack_depth\u001b[0m\u001b[0;34m)\u001b[0m\u001b[0;34m\u001b[0m\u001b[0;34m\u001b[0m\u001b[0m\n\u001b[1;32m   2116\u001b[0m             \u001b[0;32mwith\u001b[0m \u001b[0mself\u001b[0m\u001b[0;34m.\u001b[0m\u001b[0mbuiltin_trap\u001b[0m\u001b[0;34m:\u001b[0m\u001b[0;34m\u001b[0m\u001b[0;34m\u001b[0m\u001b[0m\n\u001b[0;32m-> 2117\u001b[0;31m                 \u001b[0mresult\u001b[0m \u001b[0;34m=\u001b[0m \u001b[0mfn\u001b[0m\u001b[0;34m(\u001b[0m\u001b[0mmagic_arg_s\u001b[0m\u001b[0;34m,\u001b[0m \u001b[0mcell\u001b[0m\u001b[0;34m)\u001b[0m\u001b[0;34m\u001b[0m\u001b[0;34m\u001b[0m\u001b[0m\n\u001b[0m\u001b[1;32m   2118\u001b[0m             \u001b[0;32mreturn\u001b[0m \u001b[0mresult\u001b[0m\u001b[0;34m\u001b[0m\u001b[0;34m\u001b[0m\u001b[0m\n\u001b[1;32m   2119\u001b[0m \u001b[0;34m\u001b[0m\u001b[0m\n",
            "\u001b[0;32m<decorator-gen-53>\u001b[0m in \u001b[0;36mtime\u001b[0;34m(self, line, cell, local_ns)\u001b[0m\n",
            "\u001b[0;32m/usr/local/lib/python3.7/dist-packages/IPython/core/magic.py\u001b[0m in \u001b[0;36m<lambda>\u001b[0;34m(f, *a, **k)\u001b[0m\n\u001b[1;32m    186\u001b[0m     \u001b[0;31m# but it's overkill for just that one bit of state.\u001b[0m\u001b[0;34m\u001b[0m\u001b[0;34m\u001b[0m\u001b[0;34m\u001b[0m\u001b[0m\n\u001b[1;32m    187\u001b[0m     \u001b[0;32mdef\u001b[0m \u001b[0mmagic_deco\u001b[0m\u001b[0;34m(\u001b[0m\u001b[0marg\u001b[0m\u001b[0;34m)\u001b[0m\u001b[0;34m:\u001b[0m\u001b[0;34m\u001b[0m\u001b[0;34m\u001b[0m\u001b[0m\n\u001b[0;32m--> 188\u001b[0;31m         \u001b[0mcall\u001b[0m \u001b[0;34m=\u001b[0m \u001b[0;32mlambda\u001b[0m \u001b[0mf\u001b[0m\u001b[0;34m,\u001b[0m \u001b[0;34m*\u001b[0m\u001b[0ma\u001b[0m\u001b[0;34m,\u001b[0m \u001b[0;34m**\u001b[0m\u001b[0mk\u001b[0m\u001b[0;34m:\u001b[0m \u001b[0mf\u001b[0m\u001b[0;34m(\u001b[0m\u001b[0;34m*\u001b[0m\u001b[0ma\u001b[0m\u001b[0;34m,\u001b[0m \u001b[0;34m**\u001b[0m\u001b[0mk\u001b[0m\u001b[0;34m)\u001b[0m\u001b[0;34m\u001b[0m\u001b[0;34m\u001b[0m\u001b[0m\n\u001b[0m\u001b[1;32m    189\u001b[0m \u001b[0;34m\u001b[0m\u001b[0m\n\u001b[1;32m    190\u001b[0m         \u001b[0;32mif\u001b[0m \u001b[0mcallable\u001b[0m\u001b[0;34m(\u001b[0m\u001b[0marg\u001b[0m\u001b[0;34m)\u001b[0m\u001b[0;34m:\u001b[0m\u001b[0;34m\u001b[0m\u001b[0;34m\u001b[0m\u001b[0m\n",
            "\u001b[0;32m/usr/local/lib/python3.7/dist-packages/IPython/core/magics/execution.py\u001b[0m in \u001b[0;36mtime\u001b[0;34m(self, line, cell, local_ns)\u001b[0m\n\u001b[1;32m   1191\u001b[0m         \u001b[0;32melse\u001b[0m\u001b[0;34m:\u001b[0m\u001b[0;34m\u001b[0m\u001b[0;34m\u001b[0m\u001b[0m\n\u001b[1;32m   1192\u001b[0m             \u001b[0mst\u001b[0m \u001b[0;34m=\u001b[0m \u001b[0mclock2\u001b[0m\u001b[0;34m(\u001b[0m\u001b[0;34m)\u001b[0m\u001b[0;34m\u001b[0m\u001b[0;34m\u001b[0m\u001b[0m\n\u001b[0;32m-> 1193\u001b[0;31m             \u001b[0mexec\u001b[0m\u001b[0;34m(\u001b[0m\u001b[0mcode\u001b[0m\u001b[0;34m,\u001b[0m \u001b[0mglob\u001b[0m\u001b[0;34m,\u001b[0m \u001b[0mlocal_ns\u001b[0m\u001b[0;34m)\u001b[0m\u001b[0;34m\u001b[0m\u001b[0;34m\u001b[0m\u001b[0m\n\u001b[0m\u001b[1;32m   1194\u001b[0m             \u001b[0mend\u001b[0m \u001b[0;34m=\u001b[0m \u001b[0mclock2\u001b[0m\u001b[0;34m(\u001b[0m\u001b[0;34m)\u001b[0m\u001b[0;34m\u001b[0m\u001b[0;34m\u001b[0m\u001b[0m\n\u001b[1;32m   1195\u001b[0m             \u001b[0mout\u001b[0m \u001b[0;34m=\u001b[0m \u001b[0;32mNone\u001b[0m\u001b[0;34m\u001b[0m\u001b[0;34m\u001b[0m\u001b[0m\n",
            "\u001b[0;32m<timed exec>\u001b[0m in \u001b[0;36m<module>\u001b[0;34m()\u001b[0m\n",
            "\u001b[0;32m/usr/lib/python3.7/zipfile.py\u001b[0m in \u001b[0;36m__init__\u001b[0;34m(self, file, mode, compression, allowZip64, compresslevel)\u001b[0m\n\u001b[1;32m   1238\u001b[0m             \u001b[0;32mwhile\u001b[0m \u001b[0;32mTrue\u001b[0m\u001b[0;34m:\u001b[0m\u001b[0;34m\u001b[0m\u001b[0;34m\u001b[0m\u001b[0m\n\u001b[1;32m   1239\u001b[0m                 \u001b[0;32mtry\u001b[0m\u001b[0;34m:\u001b[0m\u001b[0;34m\u001b[0m\u001b[0;34m\u001b[0m\u001b[0m\n\u001b[0;32m-> 1240\u001b[0;31m                     \u001b[0mself\u001b[0m\u001b[0;34m.\u001b[0m\u001b[0mfp\u001b[0m \u001b[0;34m=\u001b[0m \u001b[0mio\u001b[0m\u001b[0;34m.\u001b[0m\u001b[0mopen\u001b[0m\u001b[0;34m(\u001b[0m\u001b[0mfile\u001b[0m\u001b[0;34m,\u001b[0m \u001b[0mfilemode\u001b[0m\u001b[0;34m)\u001b[0m\u001b[0;34m\u001b[0m\u001b[0;34m\u001b[0m\u001b[0m\n\u001b[0m\u001b[1;32m   1241\u001b[0m                 \u001b[0;32mexcept\u001b[0m \u001b[0mOSError\u001b[0m\u001b[0;34m:\u001b[0m\u001b[0;34m\u001b[0m\u001b[0;34m\u001b[0m\u001b[0m\n\u001b[1;32m   1242\u001b[0m                     \u001b[0;32mif\u001b[0m \u001b[0mfilemode\u001b[0m \u001b[0;32min\u001b[0m \u001b[0mmodeDict\u001b[0m\u001b[0;34m:\u001b[0m\u001b[0;34m\u001b[0m\u001b[0;34m\u001b[0m\u001b[0m\n",
            "\u001b[0;31mFileNotFoundError\u001b[0m: [Errno 2] No such file or directory: 'https://github.com/BlueBrain/BlueGraph/blob/master/cord19kg/examples/data/Glucose_risk_3000_papers.csv.zip?raw=true'"
          ]
        }
      ]
    },
    {
      "cell_type": "code",
      "metadata": {
        "id": "jkDsyaFVt0n_",
        "outputId": "98a40b80-12ef-40f9-ce9a-31b09d7b738d",
        "colab": {
          "base_uri": "https://localhost:8080/",
          "height": 206
        }
      },
      "source": [
        "data.sample(5)"
      ],
      "execution_count": 20,
      "outputs": [
        {
          "output_type": "execute_result",
          "data": {
            "text/html": [
              "<div>\n",
              "<style scoped>\n",
              "    .dataframe tbody tr th:only-of-type {\n",
              "        vertical-align: middle;\n",
              "    }\n",
              "\n",
              "    .dataframe tbody tr th {\n",
              "        vertical-align: top;\n",
              "    }\n",
              "\n",
              "    .dataframe thead th {\n",
              "        text-align: right;\n",
              "    }\n",
              "</style>\n",
              "<table border=\"1\" class=\"dataframe\">\n",
              "  <thead>\n",
              "    <tr style=\"text-align: right;\">\n",
              "      <th></th>\n",
              "      <th>entity</th>\n",
              "      <th>entity_type</th>\n",
              "      <th>occurrence</th>\n",
              "    </tr>\n",
              "  </thead>\n",
              "  <tbody>\n",
              "    <tr>\n",
              "      <th>1599944</th>\n",
              "      <td>ventricular</td>\n",
              "      <td>ORGAN</td>\n",
              "      <td>19229:Abstract:486</td>\n",
              "    </tr>\n",
              "    <tr>\n",
              "      <th>763765</th>\n",
              "      <td>spinal cord</td>\n",
              "      <td>CELL_TYPE</td>\n",
              "      <td>9907:Stem Cell Research And Injury Repairs Hum...</td>\n",
              "    </tr>\n",
              "    <tr>\n",
              "      <th>245072</th>\n",
              "      <td>IRIS</td>\n",
              "      <td>DISEASE</td>\n",
              "      <td>5680:S419:452</td>\n",
              "    </tr>\n",
              "    <tr>\n",
              "      <th>1546658</th>\n",
              "      <td>Neisseria gonorrhoeae</td>\n",
              "      <td>ORGANISM</td>\n",
              "      <td>18225:P667 Comparison Of The New Versant® Ct/G...</td>\n",
              "    </tr>\n",
              "    <tr>\n",
              "      <th>1731187</th>\n",
              "      <td>SAM</td>\n",
              "      <td>CHEMICAL</td>\n",
              "      <td>21542:P2031 In Vitro Activity Of Tigecycline A...</td>\n",
              "    </tr>\n",
              "  </tbody>\n",
              "</table>\n",
              "</div>"
            ],
            "text/plain": [
              "                        entity  ...                                         occurrence\n",
              "1599944            ventricular  ...                                 19229:Abstract:486\n",
              "763765             spinal cord  ...  9907:Stem Cell Research And Injury Repairs Hum...\n",
              "245072                    IRIS  ...                                      5680:S419:452\n",
              "1546658  Neisseria gonorrhoeae  ...  18225:P667 Comparison Of The New Versant® Ct/G...\n",
              "1731187                    SAM  ...  21542:P2031 In Vitro Activity Of Tigecycline A...\n",
              "\n",
              "[5 rows x 3 columns]"
            ]
          },
          "metadata": {
            "tags": []
          },
          "execution_count": 20
        }
      ]
    },
    {
      "cell_type": "markdown",
      "metadata": {
        "id": "TynVPUopt0oA"
      },
      "source": [
        "On the first preparation step, we group and aggregate the input data by unique entities."
      ]
    },
    {
      "cell_type": "code",
      "metadata": {
        "id": "MqeDGegHt0oA",
        "outputId": "2c8b1ed9-02f7-468b-fdda-98cc5a97986b",
        "colab": {
          "base_uri": "https://localhost:8080/"
        }
      },
      "source": [
        "%%time\n",
        "print(\"Prepating curatation data...\")\n",
        "curation_input_table, factor_counts = generate_curation_table(data)\n",
        "print(\"Done.\")"
      ],
      "execution_count": 21,
      "outputs": [
        {
          "output_type": "stream",
          "text": [
            "Prepating curatation data...\n",
            "Cleaning up the entities...\n",
            "Aggregating occurrences of entities....\n",
            "Done.\n",
            "CPU times: user 2min 42s, sys: 7.68 s, total: 2min 49s\n",
            "Wall time: 2min 44s\n"
          ],
          "name": "stdout"
        }
      ]
    },
    {
      "cell_type": "markdown",
      "metadata": {
        "id": "DCoj8UTst0oA"
      },
      "source": [
        "The resulting dataframe contains a row per unique named entity together with the following occurrence data: \n",
        "- sets of unique paragraphs, papers, sections, where the corresponding entity is mentioned (`paper`, `section`, `paragraph` columns);\n",
        "- number of total entity occurrences (the `raw_frequency` column);\n",
        "- number of unique papers where it occurs (the `paper_frequency` column);\n",
        "- unique entity types assigned by the NER model (the `entity_type` column, multiple types are possible).\n",
        "- raw entity types assigned by the NER model with the multiplicity of thier occurrence (the `raw_entity_types` column).\n"
      ]
    },
    {
      "cell_type": "code",
      "metadata": {
        "id": "q9Cu_5ijt0oB",
        "outputId": "503d2470-052a-48f6-a220-da233ce080a2",
        "colab": {
          "base_uri": "https://localhost:8080/",
          "height": 397
        }
      },
      "source": [
        "curation_input_table.sample(5)"
      ],
      "execution_count": 23,
      "outputs": [
        {
          "output_type": "execute_result",
          "data": {
            "text/html": [
              "<div>\n",
              "<style scoped>\n",
              "    .dataframe tbody tr th:only-of-type {\n",
              "        vertical-align: middle;\n",
              "    }\n",
              "\n",
              "    .dataframe tbody tr th {\n",
              "        vertical-align: top;\n",
              "    }\n",
              "\n",
              "    .dataframe thead th {\n",
              "        text-align: right;\n",
              "    }\n",
              "</style>\n",
              "<table border=\"1\" class=\"dataframe\">\n",
              "  <thead>\n",
              "    <tr style=\"text-align: right;\">\n",
              "      <th></th>\n",
              "      <th>entity</th>\n",
              "      <th>entity_type</th>\n",
              "      <th>paragraph</th>\n",
              "      <th>paper</th>\n",
              "      <th>section</th>\n",
              "      <th>paper_frequency</th>\n",
              "      <th>raw_entity_types</th>\n",
              "      <th>raw_frequency</th>\n",
              "    </tr>\n",
              "  </thead>\n",
              "  <tbody>\n",
              "    <tr>\n",
              "      <th>80408</th>\n",
              "      <td>superoxide anion</td>\n",
              "      <td>CHEMICAL</td>\n",
              "      <td>[2087:Discussion:17, 21665:B2.32:262, 166624:A...</td>\n",
              "      <td>[218972, 8327, 9769, 16201, 212440, 21665, 216...</td>\n",
              "      <td>[8327:Introduction, 228969:Myocardial Damage, ...</td>\n",
              "      <td>36</td>\n",
              "      <td>[CHEMICAL, CHEMICAL, CHEMICAL, CHEMICAL, CHEMI...</td>\n",
              "      <td>73</td>\n",
              "    </tr>\n",
              "    <tr>\n",
              "      <th>32071</th>\n",
              "      <td>furunculosis</td>\n",
              "      <td>DISEASE</td>\n",
              "      <td>[13187:351:394, 14321:P1586 Chronic Furunculos...</td>\n",
              "      <td>[18225, 13187, 14321, 21542, 8225]</td>\n",
              "      <td>[8225:O152 Integrated Analysis Of Efficacy Of ...</td>\n",
              "      <td>5</td>\n",
              "      <td>[DISEASE, DISEASE, DISEASE, DISEASE, DISEASE, ...</td>\n",
              "      <td>11</td>\n",
              "    </tr>\n",
              "    <tr>\n",
              "      <th>8311</th>\n",
              "      <td>auto-inflammatory diseases</td>\n",
              "      <td>DISEASE</td>\n",
              "      <td>[21363:Conclusion::1487, 6116:Sp-24:51, 3583:A...</td>\n",
              "      <td>[6116, 21363, 3583]</td>\n",
              "      <td>[3583:A77, 21363:Conclusion, 6116:Sp-24]</td>\n",
              "      <td>3</td>\n",
              "      <td>[DISEASE, DISEASE, DISEASE, DISEASE]</td>\n",
              "      <td>4</td>\n",
              "    </tr>\n",
              "    <tr>\n",
              "      <th>16685</th>\n",
              "      <td>cfbe41o-cell line</td>\n",
              "      <td>CELL_TYPE</td>\n",
              "      <td>[21896:4ଙ Wild-Type Cftr Enhances The Barrier ...</td>\n",
              "      <td>[21896, 9769, 21948]</td>\n",
              "      <td>[21896:4ଙ Wild-Type Cftr Enhances The Barrier ...</td>\n",
              "      <td>3</td>\n",
              "      <td>[CELL_TYPE, CELL_TYPE, CELL_TYPE]</td>\n",
              "      <td>3</td>\n",
              "    </tr>\n",
              "    <tr>\n",
              "      <th>61884</th>\n",
              "      <td>oxygenated hemoglobin</td>\n",
              "      <td>CHEMICAL</td>\n",
              "      <td>[21876:Results::239, 7094:J849:269]</td>\n",
              "      <td>[21876, 7094]</td>\n",
              "      <td>[21876:Results, 7094:J849]</td>\n",
              "      <td>2</td>\n",
              "      <td>[CHEMICAL, CHEMICAL]</td>\n",
              "      <td>2</td>\n",
              "    </tr>\n",
              "  </tbody>\n",
              "</table>\n",
              "</div>"
            ],
            "text/plain": [
              "                           entity  ... raw_frequency\n",
              "80408            superoxide anion  ...            73\n",
              "32071                furunculosis  ...            11\n",
              "8311   auto-inflammatory diseases  ...             4\n",
              "16685           cfbe41o-cell line  ...             3\n",
              "61884       oxygenated hemoglobin  ...             2\n",
              "\n",
              "[5 rows x 8 columns]"
            ]
          },
          "metadata": {
            "tags": []
          },
          "execution_count": 23
        }
      ]
    },
    {
      "cell_type": "markdown",
      "metadata": {
        "id": "6cP4F0dmt0oC"
      },
      "source": [
        "The second output of the data preparation step outputs the counts of different instances of occurrence factors: number of distinct papers/sections/paragraphs in the input corpus."
      ]
    },
    {
      "cell_type": "code",
      "metadata": {
        "id": "3RaoBXV0t0oD",
        "outputId": "a199fb1d-633d-4f94-e599-c27c603d6abe",
        "colab": {
          "base_uri": "https://localhost:8080/"
        }
      },
      "source": [
        "factor_counts"
      ],
      "execution_count": 24,
      "outputs": [
        {
          "output_type": "execute_result",
          "data": {
            "text/plain": [
              "{'paper': 3000, 'paragraph': 211380, 'section': 53947}"
            ]
          },
          "metadata": {
            "tags": []
          },
          "execution_count": 24
        }
      ]
    },
    {
      "cell_type": "markdown",
      "metadata": {
        "id": "laelk_8ot0oD"
      },
      "source": [
        "## 2. Data curation"
      ]
    },
    {
      "cell_type": "markdown",
      "metadata": {
        "id": "53_-YU2Tt0oE"
      },
      "source": [
        "### Loading the NCIT ontology linking data"
      ]
    },
    {
      "cell_type": "markdown",
      "metadata": {
        "id": "A-Xpz6Tkt0oE"
      },
      "source": [
        "To group synonymical entities in the previously extracted table (e.g. `ace2`, `ace-2`, `angiotensin-converting enzyme 2`), as well as assign additional semantics to these entities (e.g. human-readable definition, taxonomy, etc), we peform further _linking_ of the entities to the terms from the [NCIT ontology](https://ncithesaurus.nci.nih.gov/ncitbrowser/).\n",
        "\n",
        "To be able to perform such ontology linking, we load some additional (pre-computed using ML-based linking models) data."
      ]
    },
    {
      "cell_type": "code",
      "metadata": {
        "id": "9KtLYBUdt0oE",
        "outputId": "56432212-cd45-4e5f-b8ac-33a5befc6e40",
        "colab": {
          "base_uri": "https://localhost:8080/"
        }
      },
      "source": [
        "%%time\n",
        "print(\"Loading the ontology linking data...\")\n",
        "    \n",
        "print(\"\\tDecompressing the input data file...\")\n",
        "with zipfile.ZipFile(\"BlueGraph/cord19kg/examples/data/NCIT_ontology_linking_3000_papers.csv.zip\", 'r') as zip_ref:\n",
        "    zip_ref.extractall(\"BlueGraph/cord19kg/examples/data/\")\n",
        "\n",
        "print(\"\\tLoading the linking dataframe in memory...\")\n",
        "ontology_linking = pd.read_csv(\"BlueGraph/cord19kg/examples/data/NCIT_ontology_linking_3000_papers.csv\")\n",
        "\n",
        "print(\"\\tLoading ontology type mapping...\")\n",
        "with open(\"BlueGraph/cord19kg/examples/data/NCIT_type_mapping.json\", \"rb\") as f:\n",
        "    type_mapping = json.load(f)\n",
        "print(\"Done.\")"
      ],
      "execution_count": 28,
      "outputs": [
        {
          "output_type": "stream",
          "text": [
            "Loading the ontology linking data...\n",
            "\tDecompressing the input data file...\n",
            "\tLoading the linking dataframe in memory...\n",
            "\tLoading ontology type mapping...\n",
            "Done.\n",
            "CPU times: user 1.56 s, sys: 186 ms, total: 1.75 s\n",
            "Wall time: 1.83 s\n"
          ],
          "name": "stdout"
        }
      ]
    },
    {
      "cell_type": "markdown",
      "metadata": {
        "id": "gppws1XHt0oE"
      },
      "source": [
        "The ontology linking table contains the following columns:\n",
        "- `mention` entity mentioned in the text\n",
        "- `concept` ontology concept linked to the entity mention\n",
        "- `uid` unique identifier of the ontology concept\n",
        "- `definition` definition of the concept\n",
        "- `taxonomy` taxonomy of semantic types associated with the concept"
      ]
    },
    {
      "cell_type": "code",
      "metadata": {
        "scrolled": true,
        "id": "VYlNo7qCt0oE",
        "outputId": "d183193b-bb45-4604-de64-af7f24afb20d",
        "colab": {
          "base_uri": "https://localhost:8080/",
          "height": 293
        }
      },
      "source": [
        "ontology_linking.sample(5)"
      ],
      "execution_count": 29,
      "outputs": [
        {
          "output_type": "execute_result",
          "data": {
            "text/html": [
              "<div>\n",
              "<style scoped>\n",
              "    .dataframe tbody tr th:only-of-type {\n",
              "        vertical-align: middle;\n",
              "    }\n",
              "\n",
              "    .dataframe tbody tr th {\n",
              "        vertical-align: top;\n",
              "    }\n",
              "\n",
              "    .dataframe thead th {\n",
              "        text-align: right;\n",
              "    }\n",
              "</style>\n",
              "<table border=\"1\" class=\"dataframe\">\n",
              "  <thead>\n",
              "    <tr style=\"text-align: right;\">\n",
              "      <th></th>\n",
              "      <th>mention</th>\n",
              "      <th>concept</th>\n",
              "      <th>uid</th>\n",
              "      <th>definition</th>\n",
              "      <th>taxonomy</th>\n",
              "    </tr>\n",
              "  </thead>\n",
              "  <tbody>\n",
              "    <tr>\n",
              "      <th>87885</th>\n",
              "      <td>dialysate leakage</td>\n",
              "      <td>dialysis fluid</td>\n",
              "      <td>http://purl.obolibrary.org/obo/NCIT_C106515</td>\n",
              "      <td>The fluid which runs through a dialysis machin...</td>\n",
              "      <td>[('http://purl.obolibrary.org/obo/NCIT_C70699'...</td>\n",
              "    </tr>\n",
              "    <tr>\n",
              "      <th>32247</th>\n",
              "      <td>carbacholine</td>\n",
              "      <td>carbachol</td>\n",
              "      <td>http://purl.obolibrary.org/obo/NCIT_C47430</td>\n",
              "      <td>A synthetic choline ester and a positively cha...</td>\n",
              "      <td>[('http://purl.obolibrary.org/obo/NCIT_C29705'...</td>\n",
              "    </tr>\n",
              "    <tr>\n",
              "      <th>51630</th>\n",
              "      <td>human epithelial cancer</td>\n",
              "      <td>ovarian carcinoma</td>\n",
              "      <td>http://purl.obolibrary.org/obo/NCIT_C4908</td>\n",
              "      <td>A malignant neoplasm originating from the surf...</td>\n",
              "      <td>[('http://purl.obolibrary.org/obo/NCIT_C40026'...</td>\n",
              "    </tr>\n",
              "    <tr>\n",
              "      <th>57235</th>\n",
              "      <td>galactocerebroside</td>\n",
              "      <td>galactocerebrosidase</td>\n",
              "      <td>http://purl.obolibrary.org/obo/NCIT_C121620</td>\n",
              "      <td>Galactocerebrosidase (685 aa, ~77 kDa) is enco...</td>\n",
              "      <td>[('http://purl.obolibrary.org/obo/NCIT_C16701'...</td>\n",
              "    </tr>\n",
              "    <tr>\n",
              "      <th>115855</th>\n",
              "      <td>bacterial transcription factor</td>\n",
              "      <td>transcription factor</td>\n",
              "      <td>http://purl.obolibrary.org/obo/NCIT_C17207</td>\n",
              "      <td>Transcription factors are a diverse group of p...</td>\n",
              "      <td>[('http://purl.obolibrary.org/obo/NCIT_C26199'...</td>\n",
              "    </tr>\n",
              "  </tbody>\n",
              "</table>\n",
              "</div>"
            ],
            "text/plain": [
              "                               mention  ...                                           taxonomy\n",
              "87885                dialysate leakage  ...  [('http://purl.obolibrary.org/obo/NCIT_C70699'...\n",
              "32247                     carbacholine  ...  [('http://purl.obolibrary.org/obo/NCIT_C29705'...\n",
              "51630          human epithelial cancer  ...  [('http://purl.obolibrary.org/obo/NCIT_C40026'...\n",
              "57235               galactocerebroside  ...  [('http://purl.obolibrary.org/obo/NCIT_C16701'...\n",
              "115855  bacterial transcription factor  ...  [('http://purl.obolibrary.org/obo/NCIT_C26199'...\n",
              "\n",
              "[5 rows x 5 columns]"
            ]
          },
          "metadata": {
            "tags": []
          },
          "execution_count": 29
        }
      ]
    },
    {
      "cell_type": "markdown",
      "metadata": {
        "id": "Oq51o-hQt0oE"
      },
      "source": [
        "### Interactive curation of  entity occurrence data\n",
        "\n",
        "The package provides an interactive entity curation app that allows the user to visualize the entity occurrence data, modify it, perform ontology linking (see `Link to NCIT ontology` button), filter short or unfrequent entities.\n",
        "\n",
        "The field `Keep` allows specifying a set of entities that must be kept in the dataset at all times (even if they don't satisfy the selected filtering criteria).\n",
        "\n",
        "Finally the value specified in the `Generate Graphs from top 500 frequent entities` field corresponds to the number of top entities (by the frequency of their occurrence in papers) to be included in the co-occurrence network."
      ]
    },
    {
      "cell_type": "markdown",
      "metadata": {
        "id": "DxDPdM_Qt0oF"
      },
      "source": [
        "We load the prepared data table into the curation app as follows:"
      ]
    },
    {
      "cell_type": "code",
      "metadata": {
        "id": "8Lzwtzutt0oG"
      },
      "source": [
        "curation_app.set_table(curation_input_table.copy())"
      ],
      "execution_count": 30,
      "outputs": []
    },
    {
      "cell_type": "markdown",
      "metadata": {
        "id": "mhXrHeT8t0oG"
      },
      "source": [
        "We can specify the default entities to keep."
      ]
    },
    {
      "cell_type": "code",
      "metadata": {
        "id": "jXB_j1zKt0oG"
      },
      "source": [
        "default_entities_to_keep = [\"glucose\", \"covid-19\"]\n",
        "curation_app.set_default_terms_to_include(default_entities_to_keep)"
      ],
      "execution_count": 31,
      "outputs": []
    },
    {
      "cell_type": "markdown",
      "metadata": {
        "id": "5XYVyFyut0oG"
      },
      "source": [
        "Finally, we set the ontology linking callback to be fired upon a click on the `Link to NCIT ontology` button."
      ]
    },
    {
      "cell_type": "code",
      "metadata": {
        "scrolled": false,
        "id": "-I6f0Bpnt0oG"
      },
      "source": [
        "curation_app.set_ontology_linking_callback(lambda x: link_ontology(ontology_linking, type_mapping, x))"
      ],
      "execution_count": 32,
      "outputs": []
    },
    {
      "cell_type": "markdown",
      "metadata": {
        "id": "3PGcvDbkt0oG"
      },
      "source": [
        "### Launch the curation app"
      ]
    },
    {
      "cell_type": "markdown",
      "metadata": {
        "id": "6-l8sijDt0oH"
      },
      "source": [
        "The application can be launched either inline (inside the current notebook) as below."
      ]
    },
    {
      "cell_type": "code",
      "metadata": {
        "id": "nQK97fjWt0oH",
        "outputId": "0d1d5471-8c9e-456d-e445-4446f9922517",
        "colab": {
          "base_uri": "https://localhost:8080/",
          "height": 672
        }
      },
      "source": [
        "curation_app.run(port=8073, mode=\"inline\")"
      ],
      "execution_count": 33,
      "outputs": [
        {
          "output_type": "display_data",
          "data": {
            "application/javascript": [
              "(async (port, path, width, height, cache, element) => {\n",
              "    if (!google.colab.kernel.accessAllowed && !cache) {\n",
              "      return;\n",
              "    }\n",
              "    element.appendChild(document.createTextNode(''));\n",
              "    const url = await google.colab.kernel.proxyPort(port, {cache});\n",
              "    const iframe = document.createElement('iframe');\n",
              "    iframe.src = url + path;\n",
              "    iframe.height = height;\n",
              "    iframe.width = width;\n",
              "    iframe.style.border = 0;\n",
              "    element.appendChild(iframe);\n",
              "  })(8073, \"/\", \"100%\", 650, false, window.element)"
            ],
            "text/plain": [
              "<IPython.core.display.Javascript object>"
            ]
          },
          "metadata": {
            "tags": []
          }
        }
      ]
    },
    {
      "cell_type": "markdown",
      "metadata": {
        "id": "FoSoGVV3t0oH"
      },
      "source": [
        "Or it can be opened externally (by the URL that you can open in a separate tab of your browser, try uncommenting, executing and doing Ctrl+Click on the displayed URL)."
      ]
    },
    {
      "cell_type": "code",
      "metadata": {
        "id": "IGk_Kxpit0oH"
      },
      "source": [
        "# curation_app.run(port=8070, mode=\"external\")"
      ],
      "execution_count": 34,
      "outputs": []
    },
    {
      "cell_type": "markdown",
      "metadata": {
        "id": "5dOoB7Rft0oI"
      },
      "source": [
        "## 3. Co-occurrence network generation"
      ]
    },
    {
      "cell_type": "markdown",
      "metadata": {
        "id": "YnJxAn9ft0oI"
      },
      "source": [
        "Current curation table displayed in the curation app can be extracted using the `get_curated_table` method."
      ]
    },
    {
      "cell_type": "code",
      "metadata": {
        "id": "SO5ndHr3t0oI",
        "outputId": "1ff515f7-f7c3-48c2-9ef3-ac2150f46baa",
        "colab": {
          "base_uri": "https://localhost:8080/",
          "height": 438
        }
      },
      "source": [
        "curated_occurrence_data = curation_app.get_curated_table()\n",
        "curated_occurrence_data.sample(3)"
      ],
      "execution_count": 35,
      "outputs": [
        {
          "output_type": "execute_result",
          "data": {
            "text/html": [
              "<div>\n",
              "<style scoped>\n",
              "    .dataframe tbody tr th:only-of-type {\n",
              "        vertical-align: middle;\n",
              "    }\n",
              "\n",
              "    .dataframe tbody tr th {\n",
              "        vertical-align: top;\n",
              "    }\n",
              "\n",
              "    .dataframe thead th {\n",
              "        text-align: right;\n",
              "    }\n",
              "</style>\n",
              "<table border=\"1\" class=\"dataframe\">\n",
              "  <thead>\n",
              "    <tr style=\"text-align: right;\">\n",
              "      <th></th>\n",
              "      <th>paper</th>\n",
              "      <th>section</th>\n",
              "      <th>paragraph</th>\n",
              "      <th>aggregated_entities</th>\n",
              "      <th>uid</th>\n",
              "      <th>definition</th>\n",
              "      <th>paper_frequency</th>\n",
              "      <th>entity_type</th>\n",
              "    </tr>\n",
              "    <tr>\n",
              "      <th>entity</th>\n",
              "      <th></th>\n",
              "      <th></th>\n",
              "      <th></th>\n",
              "      <th></th>\n",
              "      <th></th>\n",
              "      <th></th>\n",
              "      <th></th>\n",
              "      <th></th>\n",
              "    </tr>\n",
              "  </thead>\n",
              "  <tbody>\n",
              "    <tr>\n",
              "      <th>systemic hyperinflammation</th>\n",
              "      <td>{175292, 169902, 160268, 185208, 172250}</td>\n",
              "      <td>{185208:Introduction, 172250:Abstract, 160268:...</td>\n",
              "      <td>{175292:Abstract:1, 160268:Discussion:25, 1852...</td>\n",
              "      <td>[systemic hyperinflammation]</td>\n",
              "      <td>NaN</td>\n",
              "      <td>NaN</td>\n",
              "      <td>5</td>\n",
              "      <td>DISEASE</td>\n",
              "    </tr>\n",
              "    <tr>\n",
              "      <th>calcium overload</th>\n",
              "      <td>{9805, 7793, 5949, 13186, 30520, 21768, 56, 64...</td>\n",
              "      <td>{5167:Effects Of Human Growth Hormone Treatmen...</td>\n",
              "      <td>{56:Early Recognition Of An Uncommon Pathogen:...</td>\n",
              "      <td>[calcium overload]</td>\n",
              "      <td>NaN</td>\n",
              "      <td>NaN</td>\n",
              "      <td>11</td>\n",
              "      <td>DISEASE</td>\n",
              "    </tr>\n",
              "    <tr>\n",
              "      <th>thymopentin</th>\n",
              "      <td>{17184, 21876, 3872, 7151, 228798}</td>\n",
              "      <td>{17184:Glucagon-Like Peptide-1 , 17184:Oxyntom...</td>\n",
              "      <td>{228798:Dpp4, Appetite, Energy Expenditure, An...</td>\n",
              "      <td>[oxyntomodulin]</td>\n",
              "      <td>http://purl.obolibrary.org/obo/NCIT_C1294</td>\n",
              "      <td>A synthetic pentapeptide which is the active s...</td>\n",
              "      <td>5</td>\n",
              "      <td>DRUG</td>\n",
              "    </tr>\n",
              "  </tbody>\n",
              "</table>\n",
              "</div>"
            ],
            "text/plain": [
              "                                                                        paper  ... entity_type\n",
              "entity                                                                         ...            \n",
              "systemic hyperinflammation           {175292, 169902, 160268, 185208, 172250}  ...     DISEASE\n",
              "calcium overload            {9805, 7793, 5949, 13186, 30520, 21768, 56, 64...  ...     DISEASE\n",
              "thymopentin                                {17184, 21876, 3872, 7151, 228798}  ...        DRUG\n",
              "\n",
              "[3 rows x 8 columns]"
            ]
          },
          "metadata": {
            "tags": []
          },
          "execution_count": 35
        }
      ]
    },
    {
      "cell_type": "markdown",
      "metadata": {
        "id": "2H8xhYegt0oI"
      },
      "source": [
        "Before we can proceed we need to convert paper/section and paragraph columns into `set`."
      ]
    },
    {
      "cell_type": "code",
      "metadata": {
        "id": "ne7dvoItt0oI"
      },
      "source": [
        "curated_occurrence_data[\"paper\"] = curated_occurrence_data[\"paper\"].apply(set)\n",
        "curated_occurrence_data[\"paragraph\"] = curated_occurrence_data[\"paragraph\"].apply(set)\n",
        "curated_occurrence_data[\"section\"] = curated_occurrence_data[\"section\"].apply(set)"
      ],
      "execution_count": 36,
      "outputs": []
    },
    {
      "cell_type": "markdown",
      "metadata": {
        "id": "3diq7Qc7t0oI"
      },
      "source": [
        "We can also retreive current values of the `Keep` field (these entities will be also included in the resulting co-occurrence network)."
      ]
    },
    {
      "cell_type": "code",
      "metadata": {
        "id": "MCW8Xd04t0oJ",
        "outputId": "b67bbb20-e53a-4051-db9d-042e9f001c08",
        "colab": {
          "base_uri": "https://localhost:8080/"
        }
      },
      "source": [
        "curation_app.get_terms_to_include()"
      ],
      "execution_count": 37,
      "outputs": [
        {
          "output_type": "execute_result",
          "data": {
            "text/plain": [
              "['glucose', 'covid-19']"
            ]
          },
          "metadata": {
            "tags": []
          },
          "execution_count": 37
        }
      ]
    },
    {
      "cell_type": "markdown",
      "metadata": {
        "id": "yBZdyZolt0oJ"
      },
      "source": [
        "### Generating co-occurrence networks\n",
        "\n",
        "In the cell below we generate a paper-based entity co-occurrence network. Along with the network generation the `generate_comention_analysis` function:\n",
        "\n",
        "- computes node centrality metrics (such as degree, RageRank)\n",
        "- computes co-occurrence statistics (such as frequency, pointwise mutual information and normalized pointwise mutual information) and assignes them as weights to the corresponding edges\n",
        "- performs entity community detection based on different co-occurrence statistics\n",
        "- computes mutual-information-based minimum spanning trees.\n",
        "\n",
        "Here we set the number of entities to include to the 1500 most frequent entities."
      ]
    },
    {
      "cell_type": "markdown",
      "metadata": {
        "id": "t-Zo49P-t0oJ"
      },
      "source": [
        "Before we run the co-occurrence analysis, we will create a dictionary with backend configurations for the analytics: we set metrics (centalities) computation to use `graph_tool`, community detection to use `networkx` and, finally, path search to use `graph_tool` as well."
      ]
    },
    {
      "cell_type": "code",
      "metadata": {
        "id": "UcX382BFt0oJ"
      },
      "source": [
        "import time"
      ],
      "execution_count": 38,
      "outputs": []
    },
    {
      "cell_type": "code",
      "metadata": {
        "id": "5DfZVoZZt0oK"
      },
      "source": [
        "backend_configs = {\n",
        "    \"metrics\": \"graph_tool\",\n",
        "    \"communities\": \"networkx\",\n",
        "    \"paths\": \"graph_tool\"\n",
        "}"
      ],
      "execution_count": 39,
      "outputs": []
    },
    {
      "cell_type": "code",
      "metadata": {
        "scrolled": true,
        "id": "5EBPWuC8t0oK",
        "outputId": "344abbd2-e231-4f29-ad6f-ca482120629d",
        "colab": {
          "base_uri": "https://localhost:8080/"
        }
      },
      "source": [
        "%%time\n",
        "type_data = curated_occurrence_data[[\"entity_type\"]].rename(columns={\"entity_type\": \"type\"})\n",
        "\n",
        "graphs, trees = generate_cooccurrence_analysis(\n",
        "    curated_occurrence_data,  factor_counts,\n",
        "    n_most_frequent=200,\n",
        "    type_data=type_data, \n",
        "    factors=[\"paragraph\"],\n",
        "    keep=curation_app.get_terms_to_include(),\n",
        "    cores=24, \n",
        "    backend_configs=backend_configs)  # here set up the number of cores  \n",
        "print(\"Done.\")"
      ],
      "execution_count": 45,
      "outputs": [
        {
          "output_type": "stream",
          "text": [
            "-------------------------------\n",
            "Factor: paragraph\n",
            "-------------------------------\n",
            "Done.\n",
            "CPU times: user 4.74 s, sys: 1.69 s, total: 6.43 s\n",
            "Wall time: 34.7 s\n"
          ],
          "name": "stdout"
        }
      ]
    },
    {
      "cell_type": "markdown",
      "metadata": {
        "id": "yTknfBk3t0oL"
      },
      "source": [
        "## 4. Network visualization and analysis"
      ]
    },
    {
      "cell_type": "markdown",
      "metadata": {
        "id": "_KT4ohrWt0oL"
      },
      "source": [
        "### Loading the generated graph into the visualization app"
      ]
    },
    {
      "cell_type": "markdown",
      "metadata": {
        "id": "k2dUhZmDt0oL"
      },
      "source": [
        "First of all, we set a backend for the visualization app (currently two backends are supported: based on `NetworkX` and `graph-tool`, in this example we use the latter)."
      ]
    },
    {
      "cell_type": "code",
      "metadata": {
        "id": "F7drm1Jtt0oM"
      },
      "source": [
        "visualization_app.set_backend(\"graph_tool\")"
      ],
      "execution_count": 46,
      "outputs": []
    },
    {
      "cell_type": "code",
      "metadata": {
        "id": "k-UANtG9t0oM"
      },
      "source": [
        "# #  Run the following use NetworkX as the backend for the visualization app\n",
        "# visualization_app.set_backend(\"networkx\")"
      ],
      "execution_count": 47,
      "outputs": []
    },
    {
      "cell_type": "code",
      "metadata": {
        "id": "p6vRhXpA-ZUZ",
        "outputId": "2dfa2ae8-77ef-417a-a664-05472524539e",
        "colab": {
          "base_uri": "https://localhost:8080/",
          "height": 380
        }
      },
      "source": [
        "visualization_app.add_graph(\n",
        "    \"Paragraph-based graph\", graphs[\"paragraph\"],\n",
        "    tree=trees[\"paragraph\"], default_top_n=100)\n",
        "\n",
        "visualization_app.set_current_graph(\"Paragraph-based graph\")"
      ],
      "execution_count": 75,
      "outputs": [
        {
          "output_type": "error",
          "ename": "KeyError",
          "evalue": "ignored",
          "traceback": [
            "\u001b[0;31m---------------------------------------------------------------------------\u001b[0m",
            "\u001b[0;31mKeyError\u001b[0m                                  Traceback (most recent call last)",
            "\u001b[0;32m<ipython-input-75-1ed2f0b0c588>\u001b[0m in \u001b[0;36m<module>\u001b[0;34m()\u001b[0m\n\u001b[1;32m      1\u001b[0m visualization_app.add_graph(\n\u001b[1;32m      2\u001b[0m     \u001b[0;34m\"Paragraph-based graph\"\u001b[0m\u001b[0;34m,\u001b[0m \u001b[0mgraphs\u001b[0m\u001b[0;34m[\u001b[0m\u001b[0;34m\"paragraph\"\u001b[0m\u001b[0;34m]\u001b[0m\u001b[0;34m,\u001b[0m\u001b[0;34m\u001b[0m\u001b[0;34m\u001b[0m\u001b[0m\n\u001b[0;32m----> 3\u001b[0;31m     tree=trees[\"paragraph\"], default_top_n=100)\n\u001b[0m\u001b[1;32m      4\u001b[0m \u001b[0;34m\u001b[0m\u001b[0m\n\u001b[1;32m      5\u001b[0m \u001b[0mvisualization_app\u001b[0m\u001b[0;34m.\u001b[0m\u001b[0mset_current_graph\u001b[0m\u001b[0;34m(\u001b[0m\u001b[0;34m\"Paragraph-based graph\"\u001b[0m\u001b[0;34m)\u001b[0m\u001b[0;34m\u001b[0m\u001b[0;34m\u001b[0m\u001b[0m\n",
            "\u001b[0;32m/usr/local/lib/python3.7/dist-packages/cord19kg/apps/visualization_app.py\u001b[0m in \u001b[0;36madd_graph\u001b[0;34m(self, graph_id, graph, tree, positions, default_top_n, full_graph_view)\u001b[0m\n\u001b[1;32m    518\u001b[0m         \u001b[0;31m# Build a cyto repr with the spanning tree with default top n nodes\u001b[0m\u001b[0;34m\u001b[0m\u001b[0;34m\u001b[0m\u001b[0;34m\u001b[0m\u001b[0m\n\u001b[1;32m    519\u001b[0m         self._update_cyto_graph(\n\u001b[0;32m--> 520\u001b[0;31m             graph_id, processor, default_top_n, positions)\n\u001b[0m\u001b[1;32m    521\u001b[0m \u001b[0;34m\u001b[0m\u001b[0m\n\u001b[1;32m    522\u001b[0m         self.dropdown_items.options = [\n",
            "\u001b[0;32m/usr/local/lib/python3.7/dist-packages/cord19kg/apps/visualization_app.py\u001b[0m in \u001b[0;36m_update_cyto_graph\u001b[0;34m(self, graph_id, processor, top_n_entities, positions, node_freq_type, edge_freq_type, node_subset, nodes_to_keep)\u001b[0m\n\u001b[1;32m    390\u001b[0m                 graph_view = top_n_spanning_tree(\n\u001b[1;32m    391\u001b[0m                     \u001b[0mprocessor\u001b[0m\u001b[0;34m,\u001b[0m \u001b[0mtop_n_entities\u001b[0m\u001b[0;34m,\u001b[0m \u001b[0mself\u001b[0m\u001b[0;34m.\u001b[0m\u001b[0m_backend\u001b[0m\u001b[0;34m,\u001b[0m\u001b[0;34m\u001b[0m\u001b[0;34m\u001b[0m\u001b[0m\n\u001b[0;32m--> 392\u001b[0;31m                     node_subset=node_subset, nodes_to_keep=nodes_to_keep)\n\u001b[0m\u001b[1;32m    393\u001b[0m         \u001b[0;32melse\u001b[0m\u001b[0;34m:\u001b[0m\u001b[0;34m\u001b[0m\u001b[0;34m\u001b[0m\u001b[0m\n\u001b[1;32m    394\u001b[0m             \u001b[0;32mif\u001b[0m \u001b[0mtop_n_entities\u001b[0m \u001b[0;32mis\u001b[0m \u001b[0;32mNone\u001b[0m\u001b[0;34m:\u001b[0m\u001b[0;34m\u001b[0m\u001b[0;34m\u001b[0m\u001b[0m\n",
            "\u001b[0;32m/usr/local/lib/python3.7/dist-packages/cord19kg/apps/visualization_app.py\u001b[0m in \u001b[0;36mtop_n_spanning_tree\u001b[0;34m(graph_processor, n, backend, node_subset, nodes_to_keep)\u001b[0m\n\u001b[1;32m    130\u001b[0m                         nodes_to_keep=None):\n\u001b[1;32m    131\u001b[0m     nodes_to_include = get_top_n_nodes(\n\u001b[0;32m--> 132\u001b[0;31m         graph_processor, n, node_subset, nodes_to_keep)\n\u001b[0m\u001b[1;32m    133\u001b[0m     \u001b[0msubgraph\u001b[0m \u001b[0;34m=\u001b[0m \u001b[0mgraph_processor\u001b[0m\u001b[0;34m.\u001b[0m\u001b[0msubgraph\u001b[0m\u001b[0;34m(\u001b[0m\u001b[0mnodes_to_include\u001b[0m\u001b[0;34m=\u001b[0m\u001b[0mnodes_to_include\u001b[0m\u001b[0;34m)\u001b[0m\u001b[0;34m\u001b[0m\u001b[0;34m\u001b[0m\u001b[0m\n\u001b[1;32m    134\u001b[0m     path_finder = BACKEND_MAPPING[backend][\"paths\"].from_graph_object(\n",
            "\u001b[0;32m/usr/local/lib/python3.7/dist-packages/cord19kg/apps/visualization_app.py\u001b[0m in \u001b[0;36mget_top_n_nodes\u001b[0;34m(graph_processor, n, node_subset, nodes_to_keep)\u001b[0m\n\u001b[1;32m     97\u001b[0m         \u001b[0mnodes_to_keep\u001b[0m \u001b[0;34m=\u001b[0m \u001b[0;34m[\u001b[0m\u001b[0;34m]\u001b[0m\u001b[0;34m\u001b[0m\u001b[0;34m\u001b[0m\u001b[0m\n\u001b[1;32m     98\u001b[0m \u001b[0;34m\u001b[0m\u001b[0m\n\u001b[0;32m---> 99\u001b[0;31m     \u001b[0mnodes\u001b[0m \u001b[0;34m=\u001b[0m \u001b[0mdict\u001b[0m\u001b[0;34m(\u001b[0m\u001b[0mgraph_processor\u001b[0m\u001b[0;34m.\u001b[0m\u001b[0mnodes\u001b[0m\u001b[0;34m(\u001b[0m\u001b[0mproperties\u001b[0m\u001b[0;34m=\u001b[0m\u001b[0;32mTrue\u001b[0m\u001b[0;34m)\u001b[0m\u001b[0;34m)\u001b[0m\u001b[0;34m\u001b[0m\u001b[0;34m\u001b[0m\u001b[0m\n\u001b[0m\u001b[1;32m    100\u001b[0m \u001b[0;34m\u001b[0m\u001b[0m\n\u001b[1;32m    101\u001b[0m     \u001b[0;32mif\u001b[0m \u001b[0mn\u001b[0m \u001b[0;32mis\u001b[0m \u001b[0;32mNone\u001b[0m\u001b[0;34m:\u001b[0m\u001b[0;34m\u001b[0m\u001b[0;34m\u001b[0m\u001b[0m\n",
            "\u001b[0;32m/usr/local/lib/python3.7/dist-packages/bluegraph/backends/graph_tool/io.py\u001b[0m in \u001b[0;36mnodes\u001b[0;34m(self, properties)\u001b[0m\n\u001b[1;32m    199\u001b[0m                     self.graph.vp[p] for p in props]):\n\u001b[1;32m    200\u001b[0m                 \u001b[0mraw_props\u001b[0m \u001b[0;34m=\u001b[0m \u001b[0mdict\u001b[0m\u001b[0;34m(\u001b[0m\u001b[0mzip\u001b[0m\u001b[0;34m(\u001b[0m\u001b[0mprops\u001b[0m\u001b[0;34m,\u001b[0m \u001b[0mv\u001b[0m\u001b[0;34m[\u001b[0m\u001b[0;36m1\u001b[0m\u001b[0;34m:\u001b[0m\u001b[0;34m]\u001b[0m\u001b[0;34m)\u001b[0m\u001b[0;34m)\u001b[0m\u001b[0;34m\u001b[0m\u001b[0;34m\u001b[0m\u001b[0m\n\u001b[0;32m--> 201\u001b[0;31m                 \u001b[0mnode_id\u001b[0m \u001b[0;34m=\u001b[0m \u001b[0mraw_props\u001b[0m\u001b[0;34m[\u001b[0m\u001b[0;34m\"@id\"\u001b[0m\u001b[0;34m]\u001b[0m\u001b[0;34m\u001b[0m\u001b[0;34m\u001b[0m\u001b[0m\n\u001b[0m\u001b[1;32m    202\u001b[0m                 \u001b[0;32mdel\u001b[0m \u001b[0mraw_props\u001b[0m\u001b[0;34m[\u001b[0m\u001b[0;34m\"@id\"\u001b[0m\u001b[0;34m]\u001b[0m\u001b[0;34m\u001b[0m\u001b[0;34m\u001b[0m\u001b[0m\n\u001b[1;32m    203\u001b[0m                 \u001b[0mresult\u001b[0m\u001b[0;34m.\u001b[0m\u001b[0mappend\u001b[0m\u001b[0;34m(\u001b[0m\u001b[0;34m(\u001b[0m\u001b[0mnode_id\u001b[0m\u001b[0;34m,\u001b[0m \u001b[0mraw_props\u001b[0m\u001b[0;34m)\u001b[0m\u001b[0;34m)\u001b[0m\u001b[0;34m\u001b[0m\u001b[0;34m\u001b[0m\u001b[0m\n",
            "\u001b[0;31mKeyError\u001b[0m: '@id'"
          ]
        }
      ]
    },
    {
      "cell_type": "markdown",
      "metadata": {
        "id": "8NgMz1oCt0oM"
      },
      "source": [
        "### Loading papers' meta-data into the app\n",
        "\n",
        "We now load an additional dataset containing some meta-data on the papers where the entities analyzed in this notebook occur."
      ]
    },
    {
      "cell_type": "code",
      "metadata": {
        "scrolled": true,
        "id": "a3uwm0eNt0oM",
        "outputId": "52fdc0aa-2d06-4ade-bac7-5920381e7cc9",
        "colab": {
          "base_uri": "https://localhost:8080/",
          "height": 296
        }
      },
      "source": [
        "paper_data = pd.read_csv(\"BlueGraph/cord19kg/examples/data/Glucose_risk_3000_paper_meta_data.csv\")\n",
        "paper_data = paper_data.set_index(\"id\")\n",
        "paper_data.head(3)"
      ],
      "execution_count": 50,
      "outputs": [
        {
          "output_type": "execute_result",
          "data": {
            "text/html": [
              "<div>\n",
              "<style scoped>\n",
              "    .dataframe tbody tr th:only-of-type {\n",
              "        vertical-align: middle;\n",
              "    }\n",
              "\n",
              "    .dataframe tbody tr th {\n",
              "        vertical-align: top;\n",
              "    }\n",
              "\n",
              "    .dataframe thead th {\n",
              "        text-align: right;\n",
              "    }\n",
              "</style>\n",
              "<table border=\"1\" class=\"dataframe\">\n",
              "  <thead>\n",
              "    <tr style=\"text-align: right;\">\n",
              "      <th></th>\n",
              "      <th>title</th>\n",
              "      <th>authors</th>\n",
              "      <th>abstract</th>\n",
              "      <th>doi</th>\n",
              "      <th>url</th>\n",
              "      <th>journal</th>\n",
              "      <th>pmc_id</th>\n",
              "      <th>pubmed_id</th>\n",
              "      <th>publish_time</th>\n",
              "    </tr>\n",
              "    <tr>\n",
              "      <th>id</th>\n",
              "      <th></th>\n",
              "      <th></th>\n",
              "      <th></th>\n",
              "      <th></th>\n",
              "      <th></th>\n",
              "      <th></th>\n",
              "      <th></th>\n",
              "      <th></th>\n",
              "      <th></th>\n",
              "    </tr>\n",
              "  </thead>\n",
              "  <tbody>\n",
              "    <tr>\n",
              "      <th>3</th>\n",
              "      <td>Surfactant protein-D and pulmonary host defense</td>\n",
              "      <td>Crouch, Erika C</td>\n",
              "      <td>Surfactant protein-D (SP-D) participates in th...</td>\n",
              "      <td>10.1186/rr19</td>\n",
              "      <td>https://www.ncbi.nlm.nih.gov/pmc/articles/PMC5...</td>\n",
              "      <td>Respir Res</td>\n",
              "      <td>PMC59549</td>\n",
              "      <td>11667972.0</td>\n",
              "      <td>2000-08-25</td>\n",
              "    </tr>\n",
              "    <tr>\n",
              "      <th>56</th>\n",
              "      <td>CLINICAL VIGNETTES</td>\n",
              "      <td>NaN</td>\n",
              "      <td>NaN</td>\n",
              "      <td>10.1046/j.1525-1497.18.s1.20.x</td>\n",
              "      <td>https://www.ncbi.nlm.nih.gov/pmc/articles/PMC1...</td>\n",
              "      <td>J Gen Intern Med</td>\n",
              "      <td>PMC1494988</td>\n",
              "      <td>12753119.0</td>\n",
              "      <td>2003-04-01</td>\n",
              "    </tr>\n",
              "    <tr>\n",
              "      <th>58</th>\n",
              "      <td>Clinical Vignettes</td>\n",
              "      <td>NaN</td>\n",
              "      <td>NaN</td>\n",
              "      <td>10.1046/j.1525-1497.2001.0160s1023.x</td>\n",
              "      <td>https://www.ncbi.nlm.nih.gov/pmc/articles/PMC1...</td>\n",
              "      <td>J Gen Intern Med</td>\n",
              "      <td>PMC1495316</td>\n",
              "      <td>11357836.0</td>\n",
              "      <td>2001-04-01</td>\n",
              "    </tr>\n",
              "  </tbody>\n",
              "</table>\n",
              "</div>"
            ],
            "text/plain": [
              "                                              title  ... publish_time\n",
              "id                                                   ...             \n",
              "3   Surfactant protein-D and pulmonary host defense  ...   2000-08-25\n",
              "56                               CLINICAL VIGNETTES  ...   2003-04-01\n",
              "58                               Clinical Vignettes  ...   2001-04-01\n",
              "\n",
              "[3 rows x 9 columns]"
            ]
          },
          "metadata": {
            "tags": []
          },
          "execution_count": 50
        }
      ]
    },
    {
      "cell_type": "markdown",
      "metadata": {
        "id": "e737l6hCt0oN"
      },
      "source": [
        "We pass a callback for the lookup of paper meta-data to the visualization app using the `set_list_papers_callback` method."
      ]
    },
    {
      "cell_type": "code",
      "metadata": {
        "id": "9o3MCqzJ3b08"
      },
      "source": [
        ""
      ],
      "execution_count": null,
      "outputs": []
    },
    {
      "cell_type": "code",
      "metadata": {
        "id": "jWVdDpOCt0oN"
      },
      "source": [
        "def list_papers(paper_data, selected_papers, limit=200):\n",
        "    selected_paper_data = paper_data.loc[[int(p) for p in selected_papers]].head(200)\n",
        "    return selected_paper_data.to_dict(\"records\")\n",
        "\n",
        "visualization_app.set_list_papers_callback(lambda x: list_papers(paper_data, x))"
      ],
      "execution_count": null,
      "outputs": []
    },
    {
      "cell_type": "markdown",
      "metadata": {
        "id": "406TxFi1t0oN"
      },
      "source": [
        "The ontology linking process described above is noisy, therefore, we would like to keep a possibility of accessing, the raw entities that were linked to particular ontology concepts. For this we define the function `get_aggregated_entities` that retreives such raw entities and we pass it to the visualization app using the `set_aggregated_entities_callback` method."
      ]
    },
    {
      "cell_type": "code",
      "metadata": {
        "id": "KqZOMKKvt0oN"
      },
      "source": [
        "def top_n(data_dict, n, smallest=False):\n",
        "    \"\"\"Return top `n` keys of the input dictionary by their value.\"\"\"\n",
        "    df = pd.DataFrame(dict(data_dict).items(), columns=[\"id\", \"value\"])\n",
        "    if smallest:\n",
        "        df = df.nsmallest(n, columns=[\"value\"])\n",
        "    else:\n",
        "        df = df.nlargest(n, columns=[\"value\"])\n",
        "    return(list(df[\"id\"]))\n",
        "\n",
        "\n",
        "def get_aggregated_entities(entity, n):\n",
        "    if \"aggregated_entities\" in curated_occurrence_data.columns:\n",
        "        aggregated = curated_occurrence_data.loc[entity][\"aggregated_entities\"]\n",
        "    else:\n",
        "        aggregated = [entity]\n",
        "    if curation_input_table is not None:\n",
        "        df = curation_input_table.set_index(\"entity\")\n",
        "        if entity in curated_occurrence_data.index:\n",
        "            freqs = df.loc[aggregated][\"paper_frequency\"].to_dict()\n",
        "        else:\n",
        "            return {}\n",
        "    else:\n",
        "        df = data.copy()\n",
        "        df[\"entity\"] = data[\"entity\"].apply(lambda x: x.lower())\n",
        "        freqs = df[df[\"entity\"].apply(lambda x: x.lower() in aggregated)].groupby(\"entity\").aggregate(\n",
        "            lambda x: len(x))[\"entity_type\"].to_dict()\n",
        "    if len(freqs) == 0:\n",
        "        return {}\n",
        "    return {e: freqs[e] for e in top_n(freqs, n)}\n",
        "\n",
        "visualization_app.set_aggregated_entities_callback(\n",
        "    lambda x: get_aggregated_entities(x, 10))"
      ],
      "execution_count": null,
      "outputs": []
    },
    {
      "cell_type": "markdown",
      "metadata": {
        "id": "JUZEBjgkt0oO"
      },
      "source": [
        "Finally, we create a dictionary `definitions` that will serve the visualization app as the lookup table for accessing the definitions of different ontology concepts."
      ]
    },
    {
      "cell_type": "code",
      "metadata": {
        "id": "uxraN-hCt0oO"
      },
      "source": [
        "definitions = ontology_linking[[\"concept\", \"definition\"]].groupby(\n",
        "    \"concept\").aggregate(lambda x: list(x)[0]).to_dict()[\"definition\"]\n",
        "visualization_app.set_entity_definitons(definitions)"
      ],
      "execution_count": null,
      "outputs": []
    },
    {
      "cell_type": "markdown",
      "metadata": {
        "id": "AKBZn4Qut0oO"
      },
      "source": [
        "### Launching the visualization app"
      ]
    },
    {
      "cell_type": "markdown",
      "metadata": {
        "id": "i7tSP4v7t0oO"
      },
      "source": [
        "As before, the interactive graph visualization app can be launched in two modes: inline and external. Here we recommend the external mode for better user experience."
      ]
    },
    {
      "cell_type": "code",
      "metadata": {
        "scrolled": false,
        "id": "DmXEuyeet0oO"
      },
      "source": [
        "visualization_app.run(port=8081, mode=\"external\")"
      ],
      "execution_count": null,
      "outputs": []
    }
  ]
}