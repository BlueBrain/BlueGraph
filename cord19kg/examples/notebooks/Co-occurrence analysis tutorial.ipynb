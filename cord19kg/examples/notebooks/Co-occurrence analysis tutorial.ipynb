{
 "cells": [
  {
   "cell_type": "markdown",
   "metadata": {},
   "source": [
    "# Co-occurrence network analysis tutorial\n",
    "\n",
    "In this notebook we will illustrate how interactive exploration and analysis of the [CORD-19](https://www.kaggle.com/allen-institute-for-ai/CORD-19-research-challenge) dataset can be performed using the `cord19kg` package. The exploration and analysis techniques presented here focus on named entities and their co-occurrence in the scientific articles constituting the dataset.\n",
    "\n",
    "The input data for this notebook contains the named entities extracted from a small selection of 20 articles representing 10 different entity types (i.e. proteins, chemicals, drugs, diseases, condtions, organs, organisms, pathways, cell types, cell compartments). The article selection corresponds to 20 most relevant articles to the query _\"Glucose is a risk factor of COVID-19\"_ obtained using the article search model [ref to blue brain search](). The entity extraction was performed using the Named Entity Recognition (NER) techniques also included in [ref to blue brain search]().\n",
    "\n",
    "The `cord19kg` package provides a set of tools for interactive literature exploration through the named entity co-occurrence analysis consisting of the following steps:\n",
    "\n",
    "1. __Data preparation__ step converts raw mentions into aggregated entity occurrence statistics.\n",
    "2. __Data curation__ step allows the user to manage extracted entities: modify, filter them and link to the ontology.\n",
    "3. __Network generation__ step allows creating entity co-occurrence networks based on paper-, section- and paragraph-level co-occurrence relations between entities. These entity relations are quantified using mutual-information-based scores (pointwise mutual information and its normalized version).\n",
    "4. __Network visualization and analysis__ step allows the user to perform interactive network visualization, edit network elements and perform its analysis (spanning tree, mutual-information based shortest paths between entities, etc)."
   ]
  },
  {
   "cell_type": "code",
   "execution_count": null,
   "metadata": {},
   "outputs": [],
   "source": [
    "import json\n",
    "import zipfile\n",
    "\n",
    "import pandas as pd\n",
    "\n",
    "import dash_cytoscape as cyto\n",
    "\n",
    "from cord19kg.utils import (generate_curation_table,\n",
    "                            link_ontology,\n",
    "                            generate_comention_analysis)\n",
    "from cord19kg.apps.curation_app import curation_app\n",
    "from cord19kg.apps.visualization_app import visualization_app"
   ]
  },
  {
   "cell_type": "code",
   "execution_count": null,
   "metadata": {},
   "outputs": [],
   "source": [
    "cyto.load_extra_layouts()"
   ]
  },
  {
   "cell_type": "markdown",
   "metadata": {},
   "source": [
    "## 1. Data preparation\n",
    "\n",
    "The input dataset contains occurrences of different terms in paragraphs of scientific articles from the CORD-19 dataset previously extracted by means of a NER model."
   ]
  },
  {
   "cell_type": "code",
   "execution_count": null,
   "metadata": {},
   "outputs": [],
   "source": [
    "data = pd.read_csv(\"../data/Glucose_risk_20_papers.csv\")"
   ]
  },
  {
   "cell_type": "code",
   "execution_count": null,
   "metadata": {},
   "outputs": [],
   "source": [
    "data.sample(5)"
   ]
  },
  {
   "cell_type": "code",
   "execution_count": null,
   "metadata": {},
   "outputs": [],
   "source": [
    "# %%time\n",
    "# print(\"Decompressing the input data file...\")\n",
    "# with zipfile.ZipFile(\"../data/Glucose_risk_3000_papers.csv.zip\", 'r') as zip_ref:\n",
    "#     zip_ref.extractall(\"../data/\")\n",
    "# data = pd.read_csv(\"../data/Glucose_risk_3000_papers.csv\")\n",
    "# print(\"Done.\")"
   ]
  },
  {
   "cell_type": "markdown",
   "metadata": {},
   "source": [
    "On the first preparation step, we group and aggregate the input data by unique entities."
   ]
  },
  {
   "cell_type": "code",
   "execution_count": null,
   "metadata": {},
   "outputs": [],
   "source": [
    "%%time\n",
    "print(\"Prepating curatation data...\")\n",
    "curation_input_table, factor_counts = generate_curation_table(data)\n",
    "print(\"Done.\")"
   ]
  },
  {
   "cell_type": "markdown",
   "metadata": {},
   "source": [
    "The resulting dataframe contains a row per unique named entity together with the following occurrence data: \n",
    "- sets of unique paragraphs, papers, sections, where the corresponding entity is mentioned (`paper`, `section`, `paragraph` columns);\n",
    "- number of total entity occurrences (the `raw_frequency` column);\n",
    "- number of unique papers where it occurs (the `paper_frequency` column);\n",
    "- unique entity types assigned by the NER model (the `entity_type` column, multiple types are possible).\n",
    "- raw entity types assigned by the NER model with the multiplicity of thier occurrence (the `raw_entity_types` column).\n"
   ]
  },
  {
   "cell_type": "code",
   "execution_count": null,
   "metadata": {},
   "outputs": [],
   "source": [
    "curation_input_table.sample(5)"
   ]
  },
  {
   "cell_type": "markdown",
   "metadata": {},
   "source": [
    "The second output of the data preparation step outputs the counts of different instances of occurrence factors: number of distinct papers/sections/paragraphs in the input corpus."
   ]
  },
  {
   "cell_type": "code",
   "execution_count": null,
   "metadata": {},
   "outputs": [],
   "source": [
    "factor_counts"
   ]
  },
  {
   "cell_type": "markdown",
   "metadata": {},
   "source": [
    "## 2. Data curation"
   ]
  },
  {
   "cell_type": "markdown",
   "metadata": {},
   "source": [
    "### Loading the NCIT ontology linking data"
   ]
  },
  {
   "cell_type": "markdown",
   "metadata": {},
   "source": [
    "To group synonymical entities in the previously extracted table (e.g. `ace2`, `ace-2`, `angiotensin-converting enzyme 2`), as well as assign additional semantics to these entities (e.g. human-readable definition, taxonomy, etc), we peform further _linking_ of the entities to the terms from the [NCIT ontology](https://ncithesaurus.nci.nih.gov/ncitbrowser/).\n",
    "\n",
    "To be able to perform such ontology linking, we load some additional (pre-computed using ML-based linking models) data."
   ]
  },
  {
   "cell_type": "code",
   "execution_count": null,
   "metadata": {},
   "outputs": [],
   "source": [
    "%%time\n",
    "print(\"Loading the ontology linking data...\")\n",
    "    \n",
    "print(\"\\tDecompressing the input data file...\")\n",
    "with zipfile.ZipFile(\"../data/NCIT_ontology_linking_3000_papers.csv.zip\", 'r') as zip_ref:\n",
    "    zip_ref.extractall(\"../data/\")\n",
    "\n",
    "print(\"\\tLoading the linking dataframe in memory...\")\n",
    "ontology_linking = pd.read_csv(\"../data/NCIT_ontology_linking_3000_papers.csv\")\n",
    "\n",
    "print(\"\\tLoading ontology type mapping...\")\n",
    "with open(\"../data/NCIT_type_mapping.json\", \"rb\") as f:\n",
    "    type_mapping = json.load(f)\n",
    "print(\"Done.\")"
   ]
  },
  {
   "cell_type": "markdown",
   "metadata": {},
   "source": [
    "The ontology linking table contains the following columns:\n",
    "- `mention` entity mentioned in the text\n",
    "- `concept` ontology concept linked to the entity mention\n",
    "- `uid` unique identifier of the ontology concept\n",
    "- `definition` definition of the concept\n",
    "- `taxonomy` taxonomy of semantic types associated with the concept"
   ]
  },
  {
   "cell_type": "code",
   "execution_count": null,
   "metadata": {
    "scrolled": true
   },
   "outputs": [],
   "source": [
    "ontology_linking.sample(5)"
   ]
  },
  {
   "cell_type": "markdown",
   "metadata": {},
   "source": [
    "### Interactive curation of  entity occurrence data\n",
    "\n",
    "The package provides an interactive entity curation app that allows the user to visualize the entity occurrence data, modify it, perform ontology linking (see `Link to NCIT ontology` button), filter short or unfrequent entities.\n",
    "\n",
    "The field `Keep` allows specifying a set of entities that must be kept in the dataset at all times (even if they don't satisfy the selected filtering criteria).\n",
    "\n",
    "Finally the value specified in the `Generate Graphs from top 500 frequent entities` field corresponds to the number of top entities (by the frequency of their occurrence in papers) to be included in the co-occurrence network."
   ]
  },
  {
   "cell_type": "markdown",
   "metadata": {},
   "source": [
    "We load the prepared data table into the curation app as follows:"
   ]
  },
  {
   "cell_type": "code",
   "execution_count": null,
   "metadata": {},
   "outputs": [],
   "source": [
    "curation_app.set_table(curation_input_table.copy())"
   ]
  },
  {
   "cell_type": "markdown",
   "metadata": {},
   "source": [
    "We can specify the default entities to keep."
   ]
  },
  {
   "cell_type": "code",
   "execution_count": null,
   "metadata": {},
   "outputs": [],
   "source": [
    "default_entities_to_keep = [\"glucose\", \"covid-19\"]\n",
    "curation_app.set_default_terms_to_include(default_entities_to_keep)"
   ]
  },
  {
   "cell_type": "markdown",
   "metadata": {},
   "source": [
    "Finally, we set the ontology linking callback to be fired upon a click on the `Link to NCIT ontology` button."
   ]
  },
  {
   "cell_type": "code",
   "execution_count": null,
   "metadata": {
    "scrolled": false
   },
   "outputs": [],
   "source": [
    "curation_app.set_ontology_linking_callback(lambda x: link_ontology(ontology_linking, type_mapping, x))"
   ]
  },
  {
   "cell_type": "markdown",
   "metadata": {},
   "source": [
    "### Launch the curation app"
   ]
  },
  {
   "cell_type": "markdown",
   "metadata": {},
   "source": [
    "The application can be launched either inline (inside the current notebook) as below."
   ]
  },
  {
   "cell_type": "code",
   "execution_count": null,
   "metadata": {},
   "outputs": [],
   "source": [
    "curation_app.run(port=8070, mode=\"inline\")"
   ]
  },
  {
   "cell_type": "markdown",
   "metadata": {},
   "source": [
    "Or it can be opened externally (by the URL that you can open in a separate tab of your browser, try uncommenting, executing and doing Ctrl+Click on the displayed URL)."
   ]
  },
  {
   "cell_type": "code",
   "execution_count": null,
   "metadata": {},
   "outputs": [],
   "source": [
    "# curation_app.run(port=8070, mode=\"external\")"
   ]
  },
  {
   "cell_type": "markdown",
   "metadata": {},
   "source": [
    "## 3. Co-occurrence network generation"
   ]
  },
  {
   "cell_type": "markdown",
   "metadata": {},
   "source": [
    "Current curation table displayed in the curation app can be extracted using the `get_curated_table` method."
   ]
  },
  {
   "cell_type": "code",
   "execution_count": 20,
   "metadata": {},
   "outputs": [
    {
     "data": {
      "text/html": [
       "<div>\n",
       "<style scoped>\n",
       "    .dataframe tbody tr th:only-of-type {\n",
       "        vertical-align: middle;\n",
       "    }\n",
       "\n",
       "    .dataframe tbody tr th {\n",
       "        vertical-align: top;\n",
       "    }\n",
       "\n",
       "    .dataframe thead th {\n",
       "        text-align: right;\n",
       "    }\n",
       "</style>\n",
       "<table border=\"1\" class=\"dataframe\">\n",
       "  <thead>\n",
       "    <tr style=\"text-align: right;\">\n",
       "      <th></th>\n",
       "      <th>aggregated_entities</th>\n",
       "      <th>paragraph</th>\n",
       "      <th>paper</th>\n",
       "      <th>section</th>\n",
       "      <th>raw_entity_types</th>\n",
       "      <th>uid</th>\n",
       "      <th>definition</th>\n",
       "      <th>taxonomy</th>\n",
       "      <th>paper_frequency</th>\n",
       "      <th>entity_type</th>\n",
       "      <th>entity_type_label</th>\n",
       "    </tr>\n",
       "    <tr>\n",
       "      <th>entity</th>\n",
       "      <th></th>\n",
       "      <th></th>\n",
       "      <th></th>\n",
       "      <th></th>\n",
       "      <th></th>\n",
       "      <th></th>\n",
       "      <th></th>\n",
       "      <th></th>\n",
       "      <th></th>\n",
       "      <th></th>\n",
       "      <th></th>\n",
       "    </tr>\n",
       "  </thead>\n",
       "  <tbody>\n",
       "    <tr>\n",
       "      <th>4e-bp1</th>\n",
       "      <td>[4e-bp1]</td>\n",
       "      <td>[214924:The Interplay Between Covid-19 And Amp...</td>\n",
       "      <td>[214924]</td>\n",
       "      <td>[214924:The Interplay Between Covid-19 And Amp...</td>\n",
       "      <td>[PROTEIN, PROTEIN]</td>\n",
       "      <td>NaN</td>\n",
       "      <td>NaN</td>\n",
       "      <td>NaN</td>\n",
       "      <td>1</td>\n",
       "      <td>PROTEIN</td>\n",
       "      <td>PROTEIN</td>\n",
       "    </tr>\n",
       "    <tr>\n",
       "      <th>ace inhibitor</th>\n",
       "      <td>[acei]</td>\n",
       "      <td>[184360:Combined Therapeutic Potential Targeti...</td>\n",
       "      <td>[184360, 197804]</td>\n",
       "      <td>[184360:Conclusion, 184360:Aceis And Arbs , 18...</td>\n",
       "      <td>[PROTEIN, DRUG, DRUG, DRUG, DRUG, DRUG, PROTEI...</td>\n",
       "      <td>http://purl.obolibrary.org/obo/NCIT_C247</td>\n",
       "      <td>Any substance that inhibits angiotensin-conver...</td>\n",
       "      <td>[('http://purl.obolibrary.org/obo/NCIT_C270', ...</td>\n",
       "      <td>2</td>\n",
       "      <td>DRUG</td>\n",
       "      <td>DRUG</td>\n",
       "    </tr>\n",
       "    <tr>\n",
       "      <th>acetaminophen</th>\n",
       "      <td>[acetaminophen, paracetamol]</td>\n",
       "      <td>[197804:Management Of Children And Young Peopl...</td>\n",
       "      <td>[197804, 179426]</td>\n",
       "      <td>[179426:Blood Glucose Monitoring , 197804:Mana...</td>\n",
       "      <td>[CHEMICAL, DRUG, CHEMICAL, DRUG, DRUG, DRUG]</td>\n",
       "      <td>http://purl.obolibrary.org/obo/NCIT_C198</td>\n",
       "      <td>A p-aminophenol derivative with analgesic and ...</td>\n",
       "      <td>[('http://purl.obolibrary.org/obo/NCIT_C2356',...</td>\n",
       "      <td>2</td>\n",
       "      <td>DRUG</td>\n",
       "      <td>DRUG</td>\n",
       "    </tr>\n",
       "    <tr>\n",
       "      <th>acute lung injury</th>\n",
       "      <td>[ali, lung injury]</td>\n",
       "      <td>[184360:Caption:71, 184360:Pathophysiology Of ...</td>\n",
       "      <td>[214924, 184360, 197804, 179426]</td>\n",
       "      <td>[214924:The Immune Response To Sars-Cov-2 , 19...</td>\n",
       "      <td>[DISEASE, DISEASE, DISEASE, DISEASE, DISEASE, ...</td>\n",
       "      <td>http://purl.obolibrary.org/obo/NCIT_C155766</td>\n",
       "      <td>A finding of acute onset of bilateral pulmonar...</td>\n",
       "      <td>[('http://purl.obolibrary.org/obo/NCIT_C45233'...</td>\n",
       "      <td>4</td>\n",
       "      <td>DISEASE</td>\n",
       "      <td>DISEASE</td>\n",
       "    </tr>\n",
       "    <tr>\n",
       "      <th>acute respiratory distress syndrome</th>\n",
       "      <td>[acute respiratory distress syndrome, ards]</td>\n",
       "      <td>[184360:Caption:71, 184360:Pathophysiology Of ...</td>\n",
       "      <td>[129074, 211125, 214924, 184360, 179426, 197804]</td>\n",
       "      <td>[214924:Introduction, 214924:The Immune Respon...</td>\n",
       "      <td>[DISEASE, DISEASE, DISEASE, DISEASE, DISEASE, ...</td>\n",
       "      <td>http://purl.obolibrary.org/obo/NCIT_C3353</td>\n",
       "      <td>Progressive and life-threatening pulmonary dis...</td>\n",
       "      <td>[('http://purl.obolibrary.org/obo/NCIT_C28193'...</td>\n",
       "      <td>6</td>\n",
       "      <td>DISEASE</td>\n",
       "      <td>DISEASE</td>\n",
       "    </tr>\n",
       "  </tbody>\n",
       "</table>\n",
       "</div>"
      ],
      "text/plain": [
       "                                                             aggregated_entities  \\\n",
       "entity                                                                             \n",
       "4e-bp1                                                                  [4e-bp1]   \n",
       "ace inhibitor                                                             [acei]   \n",
       "acetaminophen                                       [acetaminophen, paracetamol]   \n",
       "acute lung injury                                             [ali, lung injury]   \n",
       "acute respiratory distress syndrome  [acute respiratory distress syndrome, ards]   \n",
       "\n",
       "                                                                             paragraph  \\\n",
       "entity                                                                                   \n",
       "4e-bp1                               [214924:The Interplay Between Covid-19 And Amp...   \n",
       "ace inhibitor                        [184360:Combined Therapeutic Potential Targeti...   \n",
       "acetaminophen                        [197804:Management Of Children And Young Peopl...   \n",
       "acute lung injury                    [184360:Caption:71, 184360:Pathophysiology Of ...   \n",
       "acute respiratory distress syndrome  [184360:Caption:71, 184360:Pathophysiology Of ...   \n",
       "\n",
       "                                                                                paper  \\\n",
       "entity                                                                                  \n",
       "4e-bp1                                                                       [214924]   \n",
       "ace inhibitor                                                        [184360, 197804]   \n",
       "acetaminophen                                                        [197804, 179426]   \n",
       "acute lung injury                                    [214924, 184360, 197804, 179426]   \n",
       "acute respiratory distress syndrome  [129074, 211125, 214924, 184360, 179426, 197804]   \n",
       "\n",
       "                                                                               section  \\\n",
       "entity                                                                                   \n",
       "4e-bp1                               [214924:The Interplay Between Covid-19 And Amp...   \n",
       "ace inhibitor                        [184360:Conclusion, 184360:Aceis And Arbs , 18...   \n",
       "acetaminophen                        [179426:Blood Glucose Monitoring , 197804:Mana...   \n",
       "acute lung injury                    [214924:The Immune Response To Sars-Cov-2 , 19...   \n",
       "acute respiratory distress syndrome  [214924:Introduction, 214924:The Immune Respon...   \n",
       "\n",
       "                                                                      raw_entity_types  \\\n",
       "entity                                                                                   \n",
       "4e-bp1                                                              [PROTEIN, PROTEIN]   \n",
       "ace inhibitor                        [PROTEIN, DRUG, DRUG, DRUG, DRUG, DRUG, PROTEI...   \n",
       "acetaminophen                             [CHEMICAL, DRUG, CHEMICAL, DRUG, DRUG, DRUG]   \n",
       "acute lung injury                    [DISEASE, DISEASE, DISEASE, DISEASE, DISEASE, ...   \n",
       "acute respiratory distress syndrome  [DISEASE, DISEASE, DISEASE, DISEASE, DISEASE, ...   \n",
       "\n",
       "                                                                             uid  \\\n",
       "entity                                                                             \n",
       "4e-bp1                                                                       NaN   \n",
       "ace inhibitor                           http://purl.obolibrary.org/obo/NCIT_C247   \n",
       "acetaminophen                           http://purl.obolibrary.org/obo/NCIT_C198   \n",
       "acute lung injury                    http://purl.obolibrary.org/obo/NCIT_C155766   \n",
       "acute respiratory distress syndrome    http://purl.obolibrary.org/obo/NCIT_C3353   \n",
       "\n",
       "                                                                            definition  \\\n",
       "entity                                                                                   \n",
       "4e-bp1                                                                             NaN   \n",
       "ace inhibitor                        Any substance that inhibits angiotensin-conver...   \n",
       "acetaminophen                        A p-aminophenol derivative with analgesic and ...   \n",
       "acute lung injury                    A finding of acute onset of bilateral pulmonar...   \n",
       "acute respiratory distress syndrome  Progressive and life-threatening pulmonary dis...   \n",
       "\n",
       "                                                                              taxonomy  \\\n",
       "entity                                                                                   \n",
       "4e-bp1                                                                             NaN   \n",
       "ace inhibitor                        [('http://purl.obolibrary.org/obo/NCIT_C270', ...   \n",
       "acetaminophen                        [('http://purl.obolibrary.org/obo/NCIT_C2356',...   \n",
       "acute lung injury                    [('http://purl.obolibrary.org/obo/NCIT_C45233'...   \n",
       "acute respiratory distress syndrome  [('http://purl.obolibrary.org/obo/NCIT_C28193'...   \n",
       "\n",
       "                                     paper_frequency entity_type  \\\n",
       "entity                                                             \n",
       "4e-bp1                                             1     PROTEIN   \n",
       "ace inhibitor                                      2        DRUG   \n",
       "acetaminophen                                      2        DRUG   \n",
       "acute lung injury                                  4     DISEASE   \n",
       "acute respiratory distress syndrome                6     DISEASE   \n",
       "\n",
       "                                    entity_type_label  \n",
       "entity                                                 \n",
       "4e-bp1                                        PROTEIN  \n",
       "ace inhibitor                                    DRUG  \n",
       "acetaminophen                                    DRUG  \n",
       "acute lung injury                             DISEASE  \n",
       "acute respiratory distress syndrome           DISEASE  "
      ]
     },
     "execution_count": 20,
     "metadata": {},
     "output_type": "execute_result"
    }
   ],
   "source": [
    "curated_occurrence_data = curation_app.get_curated_table()\n",
    "curated_occurrence_data.head(5)"
   ]
  },
  {
   "cell_type": "markdown",
   "metadata": {},
   "source": [
    "Before we can proceed we need to convert paper/section and paragraph columns into `set`."
   ]
  },
  {
   "cell_type": "code",
   "execution_count": null,
   "metadata": {},
   "outputs": [],
   "source": [
    "curated_occurrence_data[\"paper\"] = curated_occurrence_data[\"paper\"].apply(set)\n",
    "curated_occurrence_data[\"paragraph\"] = curated_occurrence_data[\"paragraph\"].apply(set)\n",
    "curated_occurrence_data[\"section\"] = curated_occurrence_data[\"section\"].apply(set)"
   ]
  },
  {
   "cell_type": "markdown",
   "metadata": {},
   "source": [
    "We can also retreive current values of the `Keep` field (these entities will be also included in the resulting co-occurrence network)."
   ]
  },
  {
   "cell_type": "code",
   "execution_count": null,
   "metadata": {},
   "outputs": [],
   "source": [
    "curation_app.get_terms_to_include()"
   ]
  },
  {
   "cell_type": "markdown",
   "metadata": {},
   "source": [
    "And the number of top frequent entities to use for network generation."
   ]
  },
  {
   "cell_type": "code",
   "execution_count": null,
   "metadata": {},
   "outputs": [],
   "source": [
    "curation_app.n_most_frequent"
   ]
  },
  {
   "cell_type": "markdown",
   "metadata": {},
   "source": [
    "### Generating co-occurrence networks\n",
    "\n",
    "In the cell below we generate two co-occurrence networks: for paper- and paragraph-based entity co-occurrences. Along with the network generation the `generate_comention_analysis` function \n",
    "- computes node centrality metrics (such as degree, RageRank)\n",
    "- computes co-occurrence statistics (such as frequency, pointwise mutual information and normalized pointwise mutual information) and assignes them as weights to the corresponding edges\n",
    "- performs entity community detection based on different co-occurrence statistics\n",
    "- computes mutual-information-based minimum spanning trees."
   ]
  },
  {
   "cell_type": "code",
   "execution_count": null,
   "metadata": {},
   "outputs": [],
   "source": [
    "%%time\n",
    "type_data = curated_occurrence_data[[\"entity_type\"]].rename(columns={\"entity_type\": \"type\"})\n",
    "\n",
    "graphs, trees = generate_comention_analysis(\n",
    "    curated_occurrence_data,  factor_counts,\n",
    "    n_most_frequent=curation_app.n_most_frequent if curation_app.n_most_frequent else 100,\n",
    "    type_data=type_data, \n",
    "    factors=[\"paper\", \"paragraph\"],\n",
    "    keep=curation_app.get_terms_to_include(),\n",
    "    cores=10)\n",
    "print(\"Done.\")"
   ]
  },
  {
   "cell_type": "markdown",
   "metadata": {},
   "source": [
    "## 4. Network visualization and analysis"
   ]
  },
  {
   "cell_type": "markdown",
   "metadata": {},
   "source": [
    "### Loading the generated graphs into the visualization app"
   ]
  },
  {
   "cell_type": "code",
   "execution_count": null,
   "metadata": {},
   "outputs": [],
   "source": [
    "visualization_app.set_graph(\n",
    "    \"Paper-based graph\", graphs[\"paper\"],\n",
    "    tree_object=trees[\"paper\"], default_top_n=100)\n",
    "\n",
    "visualization_app.set_graph(\n",
    "    \"Paragraph-based graph\", graphs[\"paragraph\"],\n",
    "    tree_object=trees[\"paragraph\"], default_top_n=100)\n",
    "\n",
    "visualization_app.set_current_graph(\"Paragraph-based graph\")"
   ]
  },
  {
   "cell_type": "markdown",
   "metadata": {},
   "source": [
    "### Loading papers' meta-data into the app\n",
    "\n",
    "We now load an additional dataset containing some meta-data on the papers where the entities analyzed in this notebook occur."
   ]
  },
  {
   "cell_type": "code",
   "execution_count": null,
   "metadata": {
    "scrolled": true
   },
   "outputs": [],
   "source": [
    "paper_data = pd.read_csv(\"../data/Glucose_risk_3000_paper_meta_data.csv\")\n",
    "paper_data = paper_data.set_index(\"id\")\n",
    "paper_data.head(3)"
   ]
  },
  {
   "cell_type": "markdown",
   "metadata": {},
   "source": [
    "We pass a callback for the lookup of paper meta-data to the visualization app using the `set_list_papers_callback` method."
   ]
  },
  {
   "cell_type": "code",
   "execution_count": null,
   "metadata": {},
   "outputs": [],
   "source": [
    "def list_papers(paper_data, selected_papers, limit=200):\n",
    "    selected_paper_data = paper_data.loc[[int(p) for p in selected_papers]].head(200)\n",
    "    return selected_paper_data.to_dict(\"records\")\n",
    "\n",
    "visualization_app.set_list_papers_callback(lambda x: list_papers(paper_data, x))"
   ]
  },
  {
   "cell_type": "markdown",
   "metadata": {},
   "source": [
    "The ontology linking process described above is noisy, therefore, we would like to keep a possibility of accessing, the raw entities that were linked to particular ontology concepts. For this we define the function `get_aggregated_entities` that retreives such raw entities and we pass it to the visualization app using the `set_aggregated_entities_callback` method."
   ]
  },
  {
   "cell_type": "code",
   "execution_count": null,
   "metadata": {},
   "outputs": [],
   "source": [
    "def top_n(data_dict, n, smallest=False):\n",
    "    \"\"\"Return top `n` keys of the input dictionary by their value.\"\"\"\n",
    "    df = pd.DataFrame(dict(data_dict).items(), columns=[\"id\", \"value\"])\n",
    "    if smallest:\n",
    "        df = df.nsmallest(n, columns=[\"value\"])\n",
    "    else:\n",
    "        df = df.nlargest(n, columns=[\"value\"])\n",
    "    return(list(df[\"id\"]))\n",
    "\n",
    "\n",
    "def get_aggregated_entities(entity, n):\n",
    "    if \"aggregated_entities\" in curated_occurrence_data.columns:\n",
    "        aggregated = curated_occurrence_data.loc[entity][\"aggregated_entities\"]\n",
    "    else:\n",
    "        aggregated = [entity]\n",
    "    if curation_input_table is not None:\n",
    "        df = curation_input_table.set_index(\"entity\")\n",
    "        if entity in curated_occurrence_data.index:\n",
    "            freqs = df.loc[aggregated][\"paper_frequency\"].to_dict()\n",
    "        else:\n",
    "            return {}\n",
    "    else:\n",
    "        df = data.copy()\n",
    "        df[\"entity\"] = data[\"entity\"].apply(lambda x: x.lower())\n",
    "        freqs = df[df[\"entity\"].apply(lambda x: x.lower() in aggregated)].groupby(\"entity\").aggregate(\n",
    "            lambda x: len(x))[\"entity_type\"].to_dict()\n",
    "    if len(freqs) == 0:\n",
    "        return {}\n",
    "    return {e: freqs[e] for e in top_n(freqs, n)}\n",
    "\n",
    "visualization_app.set_aggregated_entities_callback(\n",
    "    lambda x: get_aggregated_entities(x, 10))"
   ]
  },
  {
   "cell_type": "markdown",
   "metadata": {},
   "source": [
    "Finally, we create a dictionary `definitions` that will serve the visualization app as the lookup table for accessing the definitions of different ontology concepts."
   ]
  },
  {
   "cell_type": "code",
   "execution_count": null,
   "metadata": {},
   "outputs": [],
   "source": [
    "definitions = ontology_linking[[\"concept\", \"definition\"]].groupby(\n",
    "    \"concept\").aggregate(lambda x: list(x)[0]).to_dict()[\"definition\"]\n",
    "visualization_app.set_entity_definitons(definitions)"
   ]
  },
  {
   "cell_type": "markdown",
   "metadata": {},
   "source": [
    "### Launching the visualization app"
   ]
  },
  {
   "cell_type": "markdown",
   "metadata": {},
   "source": [
    "As before, the interactive graph visualization app can be launched in two modes: inline and external. Here we recommend the external mode for better user experience."
   ]
  },
  {
   "cell_type": "code",
   "execution_count": null,
   "metadata": {
    "scrolled": false
   },
   "outputs": [],
   "source": [
    "visualization_app.run(port=8079, mode=\"external\")"
   ]
  },
  {
   "cell_type": "markdown",
   "metadata": {},
   "source": [
    "### Guide to the visualization app interface"
   ]
  },
  {
   "cell_type": "markdown",
   "metadata": {},
   "source": [
    "The visualization app contains three panels highlighted below:\n",
    "\n",
    "<img src=\"../figures/visualization_app_structure.png\" alt=\"Drawing\" style=\"width: 800px;\"/>\n",
    "\n",
    "\n",
    "The graph displayed by the app corresponds to the mutual-information-based minimum spanning tree computed on the selected set of nodes.\n",
    "\n",
    "#### 1. Search panel\n",
    "\n",
    "The element on the figure below allows us to search for nodes (note that at the moment the result of the search is simply highlighted in the graph and not zoomed in).\n",
    "<img src=\"../figures/1_search.png\" alt=\"Drawing\" style=\"width: 600px;\"/>\n",
    "\n",
    "The graph displayed in the app at any time can be downloaded using different formats (including the graph format `gml`).\n",
    "<img src=\"../figures/1_download.png\" alt=\"Drawing\" style=\"width: 600px;\"/>\n",
    "\n",
    "\n",
    "#### 2.  View control panel\n",
    "\n",
    "This panel expands when the `Controls` button is clicked. It contains three tabs allowing to control different aspects of the graph view.\n",
    "\n",
    "The first tab allows the user to switch between different loaded graphs, filter nodes/edges by different criteria (frequencies, weights, nodes types, communities)\n",
    "\n",
    "<img src=\"../figures/2_view.png\" alt=\"Drawing\" style=\"width: 400px;\"/>\n",
    "\n",
    "The second tab allows to change the layout of the graph and highlighting color scheme\n",
    "\n",
    "<img src=\"../figures/2_layouts.png\" alt=\"Drawing\" style=\"width: 400px;\"/>\n",
    "\n",
    "The third tab allows to search for different paths in the graph (the paths are found by minimizing the distance score based on the mutual information)\n",
    "\n",
    "<img src=\"../figures/2_paths.png\" alt=\"Drawing\" style=\"width: 400px;\"/>\n",
    "\n",
    "#### 3. Details panel\n",
    "\n",
    "This panel allow the user to view and interact with different graph elements. It consists of 4 tabs.\n",
    "\n",
    "The legend tab provides the interpretation of the node colors\n",
    "\n",
    "<img src=\"../figures/3_legend.png\" alt=\"Drawing\" style=\"width: 800px;\"/>\n",
    "\n",
    "The details tab allows to access the knowledge associated to nodes and edges of the selected graph elements. For graph nodes, for example, we can see the definition of the associated ontology concept, all the papers where the concept is mentioned, all the raw entities associated to the concept.\n",
    "\n",
    "<img src=\"../figures/3_detail.png\" alt=\"Drawing\" style=\"width: 800px;\"/>\n",
    "\n",
    "The edit tab allows to edit different graph elements (remove nodes and edges, rename nodes and merge multiple nodes). Editing is available in two modes: the editing mode actually modifies the uderlying graph object, while the masking mode simply acts on the current graph view (when the view is refreshed the edits are reset).\n",
    "\n",
    "<img src=\"../figures/3_edit.png\" alt=\"Drawing\" style=\"width: 800px;\"/>\n",
    "\n",
    "Finally, the neighbors tab allows the user to access to the top N closest neighbors of the selected node by the largest mutual information score (normalized pointwise mutual information).\n",
    "\n",
    "<img src=\"../figures/3_neighbors.png\" alt=\"Drawing\" style=\"width: 800px;\"/>"
   ]
  }
 ],
 "metadata": {
  "kernelspec": {
   "display_name": "bbg",
   "language": "python",
   "name": "bbg"
  },
  "language_info": {
   "codemirror_mode": {
    "name": "ipython",
    "version": 3
   },
   "file_extension": ".py",
   "mimetype": "text/x-python",
   "name": "python",
   "nbconvert_exporter": "python",
   "pygments_lexer": "ipython3",
   "version": "3.8.6"
  }
 },
 "nbformat": 4,
 "nbformat_minor": 4
}
