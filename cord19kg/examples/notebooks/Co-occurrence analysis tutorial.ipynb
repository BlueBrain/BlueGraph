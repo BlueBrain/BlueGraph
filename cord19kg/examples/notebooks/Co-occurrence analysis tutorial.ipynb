{
 "cells": [
  {
   "cell_type": "markdown",
   "metadata": {},
   "source": [
    "# Co-occurrence network analysis tutorial\n",
    "\n",
    "In this notebook we will illustrate how interactive exploration and analysis of the [CORD-19](https://www.kaggle.com/allen-institute-for-ai/CORD-19-research-challenge) dataset can be performed using the `cord19kg` package. The exploration and analysis techniques presented here focus on named entities and their co-occurrence in the scientific articles constituting the dataset.\n",
    "\n",
    "The input data for this notebook contains the named entities extracted from a small selection of 20 articles representing 10 different entity types (i.e. proteins, chemicals, drugs, diseases, condtions, organs, organisms, pathways, cell types, cell compartments). The article selection corresponds to 20 most relevant articles to the query _\"Glucose is a risk factor of COVID-19\"_ obtained using the article search model provided by [BlueSearch](https://github.com/BlueBrain/Search). The entity extraction was performed using the Named Entity Recognition (NER) techniques also included as a part of [BlueSearch](https://github.com/BlueBrain/Search).\n",
    "\n",
    "The `cord19kg` package provides a set of tools for interactive literature exploration through the named entity co-occurrence analysis consisting of the following steps:\n",
    "\n",
    "1. __Data preparation__ step converts raw mentions into aggregated entity occurrence statistics.\n",
    "2. __Data curation__ step allows the user to manage extracted entities: modify, filter them and link to the ontology.\n",
    "3. __Network generation__ step allows creating entity co-occurrence networks based on paper-, section- and paragraph-level co-occurrence relations between entities. These entity relations are quantified using mutual-information-based scores (pointwise mutual information and its normalized version).\n",
    "4. __Network visualization and analysis__ step allows the user to perform interactive network visualization, edit network elements and perform its analysis (spanning tree, mutual-information based shortest paths between entities, etc)."
   ]
  },
  {
   "cell_type": "code",
   "execution_count": 1,
   "metadata": {},
   "outputs": [],
   "source": [
    "import json\n",
    "import zipfile\n",
    "\n",
    "import pandas as pd\n",
    "\n",
    "import dash_cytoscape as cyto\n",
    "\n",
    "from cord19kg.utils import (generate_curation_table,\n",
    "                            link_ontology,\n",
    "                            generate_cooccurrence_analysis)\n",
    "from cord19kg.apps.curation_app import curation_app\n",
    "from cord19kg.apps.visualization_app import visualization_app"
   ]
  },
  {
   "cell_type": "markdown",
   "metadata": {},
   "source": [
    "The cell below loads additional graph layouts used in the graph visualization app"
   ]
  },
  {
   "cell_type": "code",
   "execution_count": 2,
   "metadata": {},
   "outputs": [],
   "source": [
    "cyto.load_extra_layouts()"
   ]
  },
  {
   "cell_type": "markdown",
   "metadata": {},
   "source": [
    "## 1. Data preparation\n",
    "\n",
    "The input dataset contains occurrences of different terms in paragraphs of scientific articles from the CORD-19 dataset previously extracted by means of a NER model."
   ]
  },
  {
   "cell_type": "code",
   "execution_count": 3,
   "metadata": {},
   "outputs": [],
   "source": [
    "data = pd.read_csv(\"../data/Glucose_risk_20_papers.csv\")"
   ]
  },
  {
   "cell_type": "code",
   "execution_count": 4,
   "metadata": {},
   "outputs": [
    {
     "data": {
      "text/html": [
       "<div>\n",
       "<style scoped>\n",
       "    .dataframe tbody tr th:only-of-type {\n",
       "        vertical-align: middle;\n",
       "    }\n",
       "\n",
       "    .dataframe tbody tr th {\n",
       "        vertical-align: top;\n",
       "    }\n",
       "\n",
       "    .dataframe thead th {\n",
       "        text-align: right;\n",
       "    }\n",
       "</style>\n",
       "<table border=\"1\" class=\"dataframe\">\n",
       "  <thead>\n",
       "    <tr style=\"text-align: right;\">\n",
       "      <th></th>\n",
       "      <th>entity</th>\n",
       "      <th>entity_type</th>\n",
       "      <th>occurrence</th>\n",
       "    </tr>\n",
       "  </thead>\n",
       "  <tbody>\n",
       "    <tr>\n",
       "      <th>671</th>\n",
       "      <td>glucose</td>\n",
       "      <td>CHEMICAL</td>\n",
       "      <td>179426:Blood Glucose Monitoring ::: Special As...</td>\n",
       "    </tr>\n",
       "    <tr>\n",
       "      <th>2143</th>\n",
       "      <td>COVID19</td>\n",
       "      <td>CHEMICAL</td>\n",
       "      <td>197804:Caption:70</td>\n",
       "    </tr>\n",
       "    <tr>\n",
       "      <th>95</th>\n",
       "      <td>IL-6</td>\n",
       "      <td>PROTEIN</td>\n",
       "      <td>99569:Abstract:1</td>\n",
       "    </tr>\n",
       "    <tr>\n",
       "      <th>591</th>\n",
       "      <td>MERS-CoV</td>\n",
       "      <td>ORGANISM</td>\n",
       "      <td>179426:Role Of Dpp4 Enzyme And Dpp4 Inhibitors...</td>\n",
       "    </tr>\n",
       "    <tr>\n",
       "      <th>3216</th>\n",
       "      <td>diabetes</td>\n",
       "      <td>DISEASE</td>\n",
       "      <td>214924:Diabetes Mellitus And Covid-19: In The ...</td>\n",
       "    </tr>\n",
       "  </tbody>\n",
       "</table>\n",
       "</div>"
      ],
      "text/plain": [
       "        entity entity_type                                         occurrence\n",
       "671    glucose    CHEMICAL  179426:Blood Glucose Monitoring ::: Special As...\n",
       "2143   COVID19    CHEMICAL                                  197804:Caption:70\n",
       "95        IL-6     PROTEIN                                   99569:Abstract:1\n",
       "591   MERS-CoV    ORGANISM  179426:Role Of Dpp4 Enzyme And Dpp4 Inhibitors...\n",
       "3216  diabetes     DISEASE  214924:Diabetes Mellitus And Covid-19: In The ..."
      ]
     },
     "execution_count": 4,
     "metadata": {},
     "output_type": "execute_result"
    }
   ],
   "source": [
    "data.sample(5)"
   ]
  },
  {
   "cell_type": "markdown",
   "metadata": {},
   "source": [
    "On the first preparation step, we group and aggregate the input data by unique entities."
   ]
  },
  {
   "cell_type": "code",
   "execution_count": 5,
   "metadata": {},
   "outputs": [
    {
     "name": "stdout",
     "output_type": "stream",
     "text": [
      "Prepating curatation data...\n",
      "Cleaning up the entities...\n",
      "Aggregating occurrences of entities....\n",
      "Done.\n",
      "CPU times: user 239 ms, sys: 6 ms, total: 245 ms\n",
      "Wall time: 244 ms\n"
     ]
    }
   ],
   "source": [
    "%%time\n",
    "print(\"Prepating curatation data...\")\n",
    "curation_input_table, factor_counts = generate_curation_table(data)\n",
    "print(\"Done.\")"
   ]
  },
  {
   "cell_type": "markdown",
   "metadata": {},
   "source": [
    "The resulting dataframe contains a row per unique named entity together with the following occurrence data: \n",
    "- sets of unique paragraphs, papers, sections, where the corresponding entity is mentioned (`paper`, `section`, `paragraph` columns);\n",
    "- number of total entity occurrences (the `raw_frequency` column);\n",
    "- number of unique papers where it occurs (the `paper_frequency` column);\n",
    "- unique entity types assigned by the NER model (the `entity_type` column, multiple types are possible).\n",
    "- raw entity types assigned by the NER model with the multiplicity of thier occurrence (the `raw_entity_types` column).\n"
   ]
  },
  {
   "cell_type": "code",
   "execution_count": 6,
   "metadata": {},
   "outputs": [
    {
     "data": {
      "text/html": [
       "<div>\n",
       "<style scoped>\n",
       "    .dataframe tbody tr th:only-of-type {\n",
       "        vertical-align: middle;\n",
       "    }\n",
       "\n",
       "    .dataframe tbody tr th {\n",
       "        vertical-align: top;\n",
       "    }\n",
       "\n",
       "    .dataframe thead th {\n",
       "        text-align: right;\n",
       "    }\n",
       "</style>\n",
       "<table border=\"1\" class=\"dataframe\">\n",
       "  <thead>\n",
       "    <tr style=\"text-align: right;\">\n",
       "      <th></th>\n",
       "      <th>entity</th>\n",
       "      <th>entity_type</th>\n",
       "      <th>paragraph</th>\n",
       "      <th>paper</th>\n",
       "      <th>section</th>\n",
       "      <th>paper_frequency</th>\n",
       "      <th>raw_entity_types</th>\n",
       "      <th>raw_frequency</th>\n",
       "    </tr>\n",
       "  </thead>\n",
       "  <tbody>\n",
       "    <tr>\n",
       "      <th>238</th>\n",
       "      <td>spike protein</td>\n",
       "      <td>PROTEIN</td>\n",
       "      <td>[211373:Introduction:6, 184360:Cardiovascular ...</td>\n",
       "      <td>[211373, 184360]</td>\n",
       "      <td>[211373:Introduction, 184360:Cardiovascular Ef...</td>\n",
       "      <td>2</td>\n",
       "      <td>[PROTEIN, PROTEIN]</td>\n",
       "      <td>2</td>\n",
       "    </tr>\n",
       "    <tr>\n",
       "      <th>123</th>\n",
       "      <td>human cells</td>\n",
       "      <td>CELL_TYPE</td>\n",
       "      <td>[184360:Gliptins ::: Therapeutic Potential Of ...</td>\n",
       "      <td>[184360]</td>\n",
       "      <td>[184360:Gliptins , 184360:Mechanisms Of Sars-C...</td>\n",
       "      <td>1</td>\n",
       "      <td>[CELL_TYPE, CELL_TYPE, CELL_TYPE]</td>\n",
       "      <td>3</td>\n",
       "    </tr>\n",
       "    <tr>\n",
       "      <th>207</th>\n",
       "      <td>pro-inflammatory cytokines</td>\n",
       "      <td>PROTEIN</td>\n",
       "      <td>[214924:Abstract:1, 184360:Cardiovascular Effe...</td>\n",
       "      <td>[214924, 184360]</td>\n",
       "      <td>[214924:The Immune Response To Sars-Cov-2 , 21...</td>\n",
       "      <td>2</td>\n",
       "      <td>[PROTEIN, PROTEIN, PROTEIN, PROTEIN, PROTEIN, ...</td>\n",
       "      <td>6</td>\n",
       "    </tr>\n",
       "    <tr>\n",
       "      <th>102</th>\n",
       "      <td>furin</td>\n",
       "      <td>PROTEIN</td>\n",
       "      <td>[214924:Angiotensin-Converting Enzyme 2 Expres...</td>\n",
       "      <td>[214924]</td>\n",
       "      <td>[214924:Angiotensin-Converting Enzyme 2 Expres...</td>\n",
       "      <td>1</td>\n",
       "      <td>[PROTEIN, PROTEIN]</td>\n",
       "      <td>2</td>\n",
       "    </tr>\n",
       "    <tr>\n",
       "      <th>154</th>\n",
       "      <td>insulin</td>\n",
       "      <td>PROTEIN, CHEMICAL</td>\n",
       "      <td>[179426:Glycemic Control ::: Special Aspects O...</td>\n",
       "      <td>[211125, 179426, 197804, 214728, 214924, 78018...</td>\n",
       "      <td>[172581:, 179426:Glycemic Control , 214924:The...</td>\n",
       "      <td>7</td>\n",
       "      <td>[PROTEIN, PROTEIN, PROTEIN, PROTEIN, PROTEIN, ...</td>\n",
       "      <td>32</td>\n",
       "    </tr>\n",
       "  </tbody>\n",
       "</table>\n",
       "</div>"
      ],
      "text/plain": [
       "                         entity        entity_type  \\\n",
       "238               spike protein            PROTEIN   \n",
       "123                 human cells          CELL_TYPE   \n",
       "207  pro-inflammatory cytokines            PROTEIN   \n",
       "102                       furin            PROTEIN   \n",
       "154                     insulin  PROTEIN, CHEMICAL   \n",
       "\n",
       "                                             paragraph  \\\n",
       "238  [211373:Introduction:6, 184360:Cardiovascular ...   \n",
       "123  [184360:Gliptins ::: Therapeutic Potential Of ...   \n",
       "207  [214924:Abstract:1, 184360:Cardiovascular Effe...   \n",
       "102  [214924:Angiotensin-Converting Enzyme 2 Expres...   \n",
       "154  [179426:Glycemic Control ::: Special Aspects O...   \n",
       "\n",
       "                                                 paper  \\\n",
       "238                                   [211373, 184360]   \n",
       "123                                           [184360]   \n",
       "207                                   [214924, 184360]   \n",
       "102                                           [214924]   \n",
       "154  [211125, 179426, 197804, 214728, 214924, 78018...   \n",
       "\n",
       "                                               section  paper_frequency  \\\n",
       "238  [211373:Introduction, 184360:Cardiovascular Ef...                2   \n",
       "123  [184360:Gliptins , 184360:Mechanisms Of Sars-C...                1   \n",
       "207  [214924:The Immune Response To Sars-Cov-2 , 21...                2   \n",
       "102  [214924:Angiotensin-Converting Enzyme 2 Expres...                1   \n",
       "154  [172581:, 179426:Glycemic Control , 214924:The...                7   \n",
       "\n",
       "                                      raw_entity_types  raw_frequency  \n",
       "238                                 [PROTEIN, PROTEIN]              2  \n",
       "123                  [CELL_TYPE, CELL_TYPE, CELL_TYPE]              3  \n",
       "207  [PROTEIN, PROTEIN, PROTEIN, PROTEIN, PROTEIN, ...              6  \n",
       "102                                 [PROTEIN, PROTEIN]              2  \n",
       "154  [PROTEIN, PROTEIN, PROTEIN, PROTEIN, PROTEIN, ...             32  "
      ]
     },
     "execution_count": 6,
     "metadata": {},
     "output_type": "execute_result"
    }
   ],
   "source": [
    "curation_input_table.sample(5)"
   ]
  },
  {
   "cell_type": "markdown",
   "metadata": {},
   "source": [
    "The second output of the data preparation step outputs the counts of different instances of occurrence factors: number of distinct papers/sections/paragraphs in the input corpus."
   ]
  },
  {
   "cell_type": "code",
   "execution_count": 7,
   "metadata": {},
   "outputs": [
    {
     "data": {
      "text/plain": [
       "{'paper': 20, 'section': 108, 'paragraph': 286}"
      ]
     },
     "execution_count": 7,
     "metadata": {},
     "output_type": "execute_result"
    }
   ],
   "source": [
    "factor_counts"
   ]
  },
  {
   "cell_type": "markdown",
   "metadata": {},
   "source": [
    "## 2. Data curation"
   ]
  },
  {
   "cell_type": "markdown",
   "metadata": {},
   "source": [
    "### Loading the NCIT ontology linking data"
   ]
  },
  {
   "cell_type": "markdown",
   "metadata": {},
   "source": [
    "To group synonymical entities in the previously extracted table (e.g. `ace2`, `ace-2`, `angiotensin-converting enzyme 2`), as well as assign additional semantics to these entities (e.g. human-readable definition, taxonomy, etc), we peform further _linking_ of the entities to the terms from the [NCIT ontology](https://ncithesaurus.nci.nih.gov/ncitbrowser/).\n",
    "\n",
    "To be able to perform such ontology linking, we load some additional (pre-computed using ML-based linking models) data."
   ]
  },
  {
   "cell_type": "code",
   "execution_count": 8,
   "metadata": {},
   "outputs": [
    {
     "name": "stdout",
     "output_type": "stream",
     "text": [
      "Loading the ontology linking data...\n",
      "\tDecompressing the input data file...\n",
      "\tLoading the linking dataframe in memory...\n",
      "\tLoading ontology type mapping...\n",
      "Done.\n",
      "CPU times: user 1.04 s, sys: 149 ms, total: 1.19 s\n",
      "Wall time: 1.2 s\n"
     ]
    }
   ],
   "source": [
    "%%time\n",
    "print(\"Loading the ontology linking data...\")\n",
    "    \n",
    "print(\"\\tDecompressing the input data file...\")\n",
    "with zipfile.ZipFile(\"../data/NCIT_ontology_linking_3000_papers.csv.zip\", 'r') as zip_ref:\n",
    "    zip_ref.extractall(\"../data/\")\n",
    "\n",
    "print(\"\\tLoading the linking dataframe in memory...\")\n",
    "ontology_linking = pd.read_csv(\"../data/NCIT_ontology_linking_3000_papers.csv\")\n",
    "\n",
    "print(\"\\tLoading ontology type mapping...\")\n",
    "with open(\"../data/NCIT_type_mapping.json\", \"rb\") as f:\n",
    "    type_mapping = json.load(f)\n",
    "print(\"Done.\")"
   ]
  },
  {
   "cell_type": "markdown",
   "metadata": {},
   "source": [
    "The ontology linking table contains the following columns:\n",
    "- `mention` entity mentioned in the text\n",
    "- `concept` ontology concept linked to the entity mention\n",
    "- `uid` unique identifier of the ontology concept\n",
    "- `definition` definition of the concept\n",
    "- `taxonomy` taxonomy of semantic types associated with the concept"
   ]
  },
  {
   "cell_type": "code",
   "execution_count": 9,
   "metadata": {
    "scrolled": true
   },
   "outputs": [
    {
     "data": {
      "text/html": [
       "<div>\n",
       "<style scoped>\n",
       "    .dataframe tbody tr th:only-of-type {\n",
       "        vertical-align: middle;\n",
       "    }\n",
       "\n",
       "    .dataframe tbody tr th {\n",
       "        vertical-align: top;\n",
       "    }\n",
       "\n",
       "    .dataframe thead th {\n",
       "        text-align: right;\n",
       "    }\n",
       "</style>\n",
       "<table border=\"1\" class=\"dataframe\">\n",
       "  <thead>\n",
       "    <tr style=\"text-align: right;\">\n",
       "      <th></th>\n",
       "      <th>mention</th>\n",
       "      <th>concept</th>\n",
       "      <th>uid</th>\n",
       "      <th>definition</th>\n",
       "      <th>taxonomy</th>\n",
       "    </tr>\n",
       "  </thead>\n",
       "  <tbody>\n",
       "    <tr>\n",
       "      <th>153294</th>\n",
       "      <td>superoxide ion o2\\n</td>\n",
       "      <td>superoxide</td>\n",
       "      <td>http://purl.obolibrary.org/obo/NCIT_C852</td>\n",
       "      <td>A reactive oxygen species (ROS) containing a n...</td>\n",
       "      <td>[('http://purl.obolibrary.org/obo/NCIT_C1421',...</td>\n",
       "    </tr>\n",
       "    <tr>\n",
       "      <th>54823</th>\n",
       "      <td>systolic pulmonary arterial</td>\n",
       "      <td>pulmonary artery systolic pressure</td>\n",
       "      <td>http://purl.obolibrary.org/obo/NCIT_C120943</td>\n",
       "      <td>The blood pressure in the pulmonary artery dur...</td>\n",
       "      <td>[('http://purl.obolibrary.org/obo/NCIT_C38081'...</td>\n",
       "    </tr>\n",
       "    <tr>\n",
       "      <th>23281</th>\n",
       "      <td>musculoskeletal dysfunction</td>\n",
       "      <td>musculoskeletal</td>\n",
       "      <td>http://purl.obolibrary.org/obo/NCIT_C25348</td>\n",
       "      <td>Pertaining to the muscles and skeleton.</td>\n",
       "      <td>[('http://purl.obolibrary.org/obo/NCIT_C13442'...</td>\n",
       "    </tr>\n",
       "    <tr>\n",
       "      <th>25329</th>\n",
       "      <td>sixty-fi</td>\n",
       "      <td>sixty</td>\n",
       "      <td>http://purl.obolibrary.org/obo/NCIT_C105792</td>\n",
       "      <td>A natural number greater than fifty-nine and l...</td>\n",
       "      <td>[('http://purl.obolibrary.org/obo/NCIT_C62439'...</td>\n",
       "    </tr>\n",
       "    <tr>\n",
       "      <th>93663</th>\n",
       "      <td>pregnanediol 3-glucoronide</td>\n",
       "      <td>pregnanediol-3alpha-glucuronide</td>\n",
       "      <td>http://purl.obolibrary.org/obo/NCIT_C121486</td>\n",
       "      <td>A metabolite formed during the catabolism of p...</td>\n",
       "      <td>[('http://purl.obolibrary.org/obo/NCIT_C2296',...</td>\n",
       "    </tr>\n",
       "  </tbody>\n",
       "</table>\n",
       "</div>"
      ],
      "text/plain": [
       "                            mention                             concept  \\\n",
       "153294          superoxide ion o2\\n                          superoxide   \n",
       "54823   systolic pulmonary arterial  pulmonary artery systolic pressure   \n",
       "23281   musculoskeletal dysfunction                     musculoskeletal   \n",
       "25329                      sixty-fi                               sixty   \n",
       "93663    pregnanediol 3-glucoronide     pregnanediol-3alpha-glucuronide   \n",
       "\n",
       "                                                uid  \\\n",
       "153294     http://purl.obolibrary.org/obo/NCIT_C852   \n",
       "54823   http://purl.obolibrary.org/obo/NCIT_C120943   \n",
       "23281    http://purl.obolibrary.org/obo/NCIT_C25348   \n",
       "25329   http://purl.obolibrary.org/obo/NCIT_C105792   \n",
       "93663   http://purl.obolibrary.org/obo/NCIT_C121486   \n",
       "\n",
       "                                               definition  \\\n",
       "153294  A reactive oxygen species (ROS) containing a n...   \n",
       "54823   The blood pressure in the pulmonary artery dur...   \n",
       "23281             Pertaining to the muscles and skeleton.   \n",
       "25329   A natural number greater than fifty-nine and l...   \n",
       "93663   A metabolite formed during the catabolism of p...   \n",
       "\n",
       "                                                 taxonomy  \n",
       "153294  [('http://purl.obolibrary.org/obo/NCIT_C1421',...  \n",
       "54823   [('http://purl.obolibrary.org/obo/NCIT_C38081'...  \n",
       "23281   [('http://purl.obolibrary.org/obo/NCIT_C13442'...  \n",
       "25329   [('http://purl.obolibrary.org/obo/NCIT_C62439'...  \n",
       "93663   [('http://purl.obolibrary.org/obo/NCIT_C2296',...  "
      ]
     },
     "execution_count": 9,
     "metadata": {},
     "output_type": "execute_result"
    }
   ],
   "source": [
    "ontology_linking.sample(5)"
   ]
  },
  {
   "cell_type": "markdown",
   "metadata": {},
   "source": [
    "### Interactive curation of  entity occurrence data\n",
    "\n",
    "The package provides an interactive entity curation app that allows the user to visualize the entity occurrence data, modify it, perform ontology linking (see `Link to NCIT ontology` button), filter short or unfrequent entities.\n",
    "\n",
    "The field `Keep` allows specifying a set of entities that must be kept in the dataset at all times (even if they don't satisfy the selected filtering criteria).\n",
    "\n",
    "Finally the value specified in the `Generate Graphs from top 500 frequent entities` field corresponds to the number of top entities (by the frequency of their occurrence in papers) to be included in the co-occurrence network."
   ]
  },
  {
   "cell_type": "markdown",
   "metadata": {},
   "source": [
    "We load the prepared data table into the curation app as follows:"
   ]
  },
  {
   "cell_type": "code",
   "execution_count": 10,
   "metadata": {},
   "outputs": [],
   "source": [
    "curation_app.set_table(curation_input_table.copy())"
   ]
  },
  {
   "cell_type": "markdown",
   "metadata": {},
   "source": [
    "We can specify the default entities to keep."
   ]
  },
  {
   "cell_type": "code",
   "execution_count": 11,
   "metadata": {},
   "outputs": [],
   "source": [
    "default_entities_to_keep = [\"glucose\", \"covid-19\"]\n",
    "curation_app.set_default_terms_to_include(default_entities_to_keep)"
   ]
  },
  {
   "cell_type": "markdown",
   "metadata": {},
   "source": [
    "Finally, we set the ontology linking callback to be fired upon a click on the `Link to NCIT ontology` button."
   ]
  },
  {
   "cell_type": "code",
   "execution_count": 12,
   "metadata": {
    "scrolled": false
   },
   "outputs": [],
   "source": [
    "curation_app.set_ontology_linking_callback(lambda x: link_ontology(ontology_linking, type_mapping, x))"
   ]
  },
  {
   "cell_type": "markdown",
   "metadata": {},
   "source": [
    "### Launch the curation app"
   ]
  },
  {
   "cell_type": "markdown",
   "metadata": {},
   "source": [
    "The application can be launched either inline (inside the current notebook) as below."
   ]
  },
  {
   "cell_type": "code",
   "execution_count": 13,
   "metadata": {
    "scrolled": true
   },
   "outputs": [
    {
     "data": {
      "text/html": [
       "\n",
       "        <iframe\n",
       "            width=\"100%\"\n",
       "            height=\"650\"\n",
       "            src=\"http://127.0.0.1:8072/\"\n",
       "            frameborder=\"0\"\n",
       "            allowfullscreen\n",
       "        ></iframe>\n",
       "        "
      ],
      "text/plain": [
       "<IPython.lib.display.IFrame at 0x7ffa75666ef0>"
      ]
     },
     "metadata": {},
     "output_type": "display_data"
    },
    {
     "name": "stdout",
     "output_type": "stream",
     "text": [
      "Merging the occurrence data with the ontology linking...\n"
     ]
    }
   ],
   "source": [
    "curation_app.run(port=8072, mode=\"inline\")"
   ]
  },
  {
   "cell_type": "markdown",
   "metadata": {},
   "source": [
    "Or it can be opened externally (by the URL that you can open in a separate tab of your browser, try uncommenting, executing and doing Ctrl+Click on the displayed URL)."
   ]
  },
  {
   "cell_type": "code",
   "execution_count": 14,
   "metadata": {},
   "outputs": [],
   "source": [
    "# curation_app.run(port=8070, mode=\"external\")"
   ]
  },
  {
   "cell_type": "markdown",
   "metadata": {},
   "source": [
    "## 3. Co-occurrence network generation"
   ]
  },
  {
   "cell_type": "markdown",
   "metadata": {},
   "source": [
    "Current curation table displayed in the curation app can be extracted using the `get_curated_table` method."
   ]
  },
  {
   "cell_type": "code",
   "execution_count": 15,
   "metadata": {},
   "outputs": [
    {
     "data": {
      "text/html": [
       "<div>\n",
       "<style scoped>\n",
       "    .dataframe tbody tr th:only-of-type {\n",
       "        vertical-align: middle;\n",
       "    }\n",
       "\n",
       "    .dataframe tbody tr th {\n",
       "        vertical-align: top;\n",
       "    }\n",
       "\n",
       "    .dataframe thead th {\n",
       "        text-align: right;\n",
       "    }\n",
       "</style>\n",
       "<table border=\"1\" class=\"dataframe\">\n",
       "  <thead>\n",
       "    <tr style=\"text-align: right;\">\n",
       "      <th></th>\n",
       "      <th>paper</th>\n",
       "      <th>section</th>\n",
       "      <th>paragraph</th>\n",
       "      <th>aggregated_entities</th>\n",
       "      <th>uid</th>\n",
       "      <th>definition</th>\n",
       "      <th>paper_frequency</th>\n",
       "      <th>entity_type</th>\n",
       "    </tr>\n",
       "    <tr>\n",
       "      <th>entity</th>\n",
       "      <th></th>\n",
       "      <th></th>\n",
       "      <th></th>\n",
       "      <th></th>\n",
       "      <th></th>\n",
       "      <th></th>\n",
       "      <th></th>\n",
       "      <th></th>\n",
       "    </tr>\n",
       "  </thead>\n",
       "  <tbody>\n",
       "    <tr>\n",
       "      <th>4e-bp1</th>\n",
       "      <td>{214924}</td>\n",
       "      <td>{214924:The Interplay Between Covid-19 And Amp...</td>\n",
       "      <td>{214924:The Interplay Between Covid-19 And Amp...</td>\n",
       "      <td>[4e-bp1]</td>\n",
       "      <td>NaN</td>\n",
       "      <td>NaN</td>\n",
       "      <td>1</td>\n",
       "      <td>PROTEIN</td>\n",
       "    </tr>\n",
       "    <tr>\n",
       "      <th>ace inhibitor</th>\n",
       "      <td>{197804, 184360}</td>\n",
       "      <td>{197804:Management Of Children And Young Peopl...</td>\n",
       "      <td>{184360:Aceis And Arbs ::: Therapeutic Potenti...</td>\n",
       "      <td>[acei]</td>\n",
       "      <td>http://purl.obolibrary.org/obo/NCIT_C247</td>\n",
       "      <td>Any substance that inhibits angiotensin-conver...</td>\n",
       "      <td>2</td>\n",
       "      <td>DRUG</td>\n",
       "    </tr>\n",
       "    <tr>\n",
       "      <th>acetaminophen</th>\n",
       "      <td>{179426, 197804}</td>\n",
       "      <td>{179426:Blood Glucose Monitoring , 197804:Mana...</td>\n",
       "      <td>{197804:Discussion:51, 179426:Blood Glucose Mo...</td>\n",
       "      <td>[acetaminophen, paracetamol]</td>\n",
       "      <td>http://purl.obolibrary.org/obo/NCIT_C198</td>\n",
       "      <td>A p-aminophenol derivative with analgesic and ...</td>\n",
       "      <td>2</td>\n",
       "      <td>DRUG</td>\n",
       "    </tr>\n",
       "    <tr>\n",
       "      <th>acute lung injury</th>\n",
       "      <td>{214924, 184360, 179426, 197804}</td>\n",
       "      <td>{214924:The Immune Response To Sars-Cov-2 , 21...</td>\n",
       "      <td>{179426:Role Of Ace/Arbs ::: Special Aspects O...</td>\n",
       "      <td>[ali, lung injury]</td>\n",
       "      <td>http://purl.obolibrary.org/obo/NCIT_C155766</td>\n",
       "      <td>A finding of acute onset of bilateral pulmonar...</td>\n",
       "      <td>4</td>\n",
       "      <td>DISEASE</td>\n",
       "    </tr>\n",
       "    <tr>\n",
       "      <th>acute respiratory distress syndrome</th>\n",
       "      <td>{184360, 129074, 211125, 179426, 197804, 214924}</td>\n",
       "      <td>{129074:Abstract, 214924:The Immune Response T...</td>\n",
       "      <td>{214924:The Immune Response To Sars-Cov-2 ::: ...</td>\n",
       "      <td>[acute respiratory distress syndrome, ards]</td>\n",
       "      <td>http://purl.obolibrary.org/obo/NCIT_C3353</td>\n",
       "      <td>Progressive and life-threatening pulmonary dis...</td>\n",
       "      <td>6</td>\n",
       "      <td>DISEASE</td>\n",
       "    </tr>\n",
       "  </tbody>\n",
       "</table>\n",
       "</div>"
      ],
      "text/plain": [
       "                                                                                paper  \\\n",
       "entity                                                                                  \n",
       "4e-bp1                                                                       {214924}   \n",
       "ace inhibitor                                                        {197804, 184360}   \n",
       "acetaminophen                                                        {179426, 197804}   \n",
       "acute lung injury                                    {214924, 184360, 179426, 197804}   \n",
       "acute respiratory distress syndrome  {184360, 129074, 211125, 179426, 197804, 214924}   \n",
       "\n",
       "                                                                               section  \\\n",
       "entity                                                                                   \n",
       "4e-bp1                               {214924:The Interplay Between Covid-19 And Amp...   \n",
       "ace inhibitor                        {197804:Management Of Children And Young Peopl...   \n",
       "acetaminophen                        {179426:Blood Glucose Monitoring , 197804:Mana...   \n",
       "acute lung injury                    {214924:The Immune Response To Sars-Cov-2 , 21...   \n",
       "acute respiratory distress syndrome  {129074:Abstract, 214924:The Immune Response T...   \n",
       "\n",
       "                                                                             paragraph  \\\n",
       "entity                                                                                   \n",
       "4e-bp1                               {214924:The Interplay Between Covid-19 And Amp...   \n",
       "ace inhibitor                        {184360:Aceis And Arbs ::: Therapeutic Potenti...   \n",
       "acetaminophen                        {197804:Discussion:51, 179426:Blood Glucose Mo...   \n",
       "acute lung injury                    {179426:Role Of Ace/Arbs ::: Special Aspects O...   \n",
       "acute respiratory distress syndrome  {214924:The Immune Response To Sars-Cov-2 ::: ...   \n",
       "\n",
       "                                                             aggregated_entities  \\\n",
       "entity                                                                             \n",
       "4e-bp1                                                                  [4e-bp1]   \n",
       "ace inhibitor                                                             [acei]   \n",
       "acetaminophen                                       [acetaminophen, paracetamol]   \n",
       "acute lung injury                                             [ali, lung injury]   \n",
       "acute respiratory distress syndrome  [acute respiratory distress syndrome, ards]   \n",
       "\n",
       "                                                                             uid  \\\n",
       "entity                                                                             \n",
       "4e-bp1                                                                       NaN   \n",
       "ace inhibitor                           http://purl.obolibrary.org/obo/NCIT_C247   \n",
       "acetaminophen                           http://purl.obolibrary.org/obo/NCIT_C198   \n",
       "acute lung injury                    http://purl.obolibrary.org/obo/NCIT_C155766   \n",
       "acute respiratory distress syndrome    http://purl.obolibrary.org/obo/NCIT_C3353   \n",
       "\n",
       "                                                                            definition  \\\n",
       "entity                                                                                   \n",
       "4e-bp1                                                                             NaN   \n",
       "ace inhibitor                        Any substance that inhibits angiotensin-conver...   \n",
       "acetaminophen                        A p-aminophenol derivative with analgesic and ...   \n",
       "acute lung injury                    A finding of acute onset of bilateral pulmonar...   \n",
       "acute respiratory distress syndrome  Progressive and life-threatening pulmonary dis...   \n",
       "\n",
       "                                     paper_frequency entity_type  \n",
       "entity                                                            \n",
       "4e-bp1                                             1     PROTEIN  \n",
       "ace inhibitor                                      2        DRUG  \n",
       "acetaminophen                                      2        DRUG  \n",
       "acute lung injury                                  4     DISEASE  \n",
       "acute respiratory distress syndrome                6     DISEASE  "
      ]
     },
     "execution_count": 15,
     "metadata": {},
     "output_type": "execute_result"
    }
   ],
   "source": [
    "curated_occurrence_data = curation_app.get_curated_table()\n",
    "curated_occurrence_data.head(5)"
   ]
  },
  {
   "cell_type": "markdown",
   "metadata": {},
   "source": [
    "We can also retreive current values of the `Keep` field (these entities will be also included in the resulting co-occurrence network)."
   ]
  },
  {
   "cell_type": "code",
   "execution_count": 16,
   "metadata": {},
   "outputs": [
    {
     "data": {
      "text/plain": [
       "['glucose', 'covid-19']"
      ]
     },
     "execution_count": 16,
     "metadata": {},
     "output_type": "execute_result"
    }
   ],
   "source": [
    "curation_app.get_terms_to_include()"
   ]
  },
  {
   "cell_type": "markdown",
   "metadata": {},
   "source": [
    "And the number of top frequent entities to use for network generation."
   ]
  },
  {
   "cell_type": "code",
   "execution_count": 17,
   "metadata": {},
   "outputs": [
    {
     "data": {
      "text/plain": [
       "500"
      ]
     },
     "execution_count": 17,
     "metadata": {},
     "output_type": "execute_result"
    }
   ],
   "source": [
    "curation_app.n_most_frequent"
   ]
  },
  {
   "cell_type": "markdown",
   "metadata": {},
   "source": [
    "### Generating co-occurrence networks\n",
    "\n",
    "In the cell below we generate two co-occurrence graphs: for paper- and paragraph-based entity co-occurrences. Along with the graph generation the `generate_cooccurrence_analysis` function \n",
    "\n",
    "- computes node centrality metrics (such as degree, RageRank)\n",
    "- computes co-occurrence statistics (such as frequency, pointwise mutual information and normalized pointwise mutual information) and assignes them as weights to the corresponding edges\n",
    "- performs entity community detection based on different co-occurrence statistics\n",
    "- computes mutual-information-based minimum spanning trees."
   ]
  },
  {
   "cell_type": "markdown",
   "metadata": {},
   "source": [
    "Before we run the co-occurrence analysis, we will create a dictionary with backend configurations for the analytics: we set metrics (centalities) computation to use `graph_tool`, community detection to use `networkx` and, finally, path search to use `graph_tool` as well."
   ]
  },
  {
   "cell_type": "code",
   "execution_count": 18,
   "metadata": {},
   "outputs": [],
   "source": [
    "backend_configs = {\n",
    "    \"metrics\": \"graph_tool\",\n",
    "    \"communities\": \"networkx\",\n",
    "    \"paths\": \"graph_tool\"\n",
    "}"
   ]
  },
  {
   "cell_type": "code",
   "execution_count": 19,
   "metadata": {
    "scrolled": false
   },
   "outputs": [
    {
     "name": "stdout",
     "output_type": "stream",
     "text": [
      "-------------------------------\n",
      "Factor: paper\n",
      "-------------------------------\n",
      "Examining 23005 pairs of terms for co-occurrence...\n",
      "-------------------------------\n",
      "Factor: paragraph\n",
      "-------------------------------\n",
      "Examining 23005 pairs of terms for co-occurrence...\n",
      "Done.\n",
      "CPU times: user 1.57 s, sys: 267 ms, total: 1.84 s\n",
      "Wall time: 7.55 s\n"
     ]
    }
   ],
   "source": [
    "%%time\n",
    "type_data = curated_occurrence_data[[\"entity_type\"]].rename(columns={\"entity_type\": \"type\"})\n",
    "\n",
    "graphs, trees = generate_cooccurrence_analysis(\n",
    "    curated_occurrence_data,  factor_counts,\n",
    "    n_most_frequent=curation_app.n_most_frequent,\n",
    "    type_data=type_data, \n",
    "    factors=[\"paper\", \"paragraph\"],\n",
    "    keep=curation_app.get_terms_to_include(),\n",
    "    cores=8, \n",
    "    backend_configs=backend_configs)\n",
    "\n",
    "print(\"Done.\")"
   ]
  },
  {
   "cell_type": "markdown",
   "metadata": {},
   "source": [
    "The resulting graph objects are instances of `PandasPGFrame` - frame-based property graphs provided by `BlueGraph`."
   ]
  },
  {
   "cell_type": "code",
   "execution_count": 20,
   "metadata": {},
   "outputs": [
    {
     "data": {
      "text/plain": [
       "<bluegraph.core.io.PandasPGFrame at 0x7ffa67ae89e8>"
      ]
     },
     "execution_count": 20,
     "metadata": {},
     "output_type": "execute_result"
    }
   ],
   "source": [
    "graphs[\"paper\"]"
   ]
  },
  {
   "cell_type": "code",
   "execution_count": 21,
   "metadata": {},
   "outputs": [
    {
     "data": {
      "text/html": [
       "<div>\n",
       "<style scoped>\n",
       "    .dataframe tbody tr th:only-of-type {\n",
       "        vertical-align: middle;\n",
       "    }\n",
       "\n",
       "    .dataframe tbody tr th {\n",
       "        vertical-align: top;\n",
       "    }\n",
       "\n",
       "    .dataframe thead th {\n",
       "        text-align: right;\n",
       "    }\n",
       "</style>\n",
       "<table border=\"1\" class=\"dataframe\">\n",
       "  <thead>\n",
       "    <tr style=\"text-align: right;\">\n",
       "      <th></th>\n",
       "      <th>@type</th>\n",
       "      <th>paper_frequency</th>\n",
       "      <th>entity_type</th>\n",
       "      <th>paper</th>\n",
       "      <th>degree_frequency</th>\n",
       "      <th>pagerank_frequency</th>\n",
       "      <th>community_frequency</th>\n",
       "      <th>community_npmi</th>\n",
       "    </tr>\n",
       "    <tr>\n",
       "      <th>@id</th>\n",
       "      <th></th>\n",
       "      <th></th>\n",
       "      <th></th>\n",
       "      <th></th>\n",
       "      <th></th>\n",
       "      <th></th>\n",
       "      <th></th>\n",
       "      <th></th>\n",
       "    </tr>\n",
       "  </thead>\n",
       "  <tbody>\n",
       "    <tr>\n",
       "      <th>angiotensin-converting enzyme 2</th>\n",
       "      <td>Entity</td>\n",
       "      <td>7</td>\n",
       "      <td>PROTEIN</td>\n",
       "      <td>[160564, 184360, 211125, 211373, 179426, 19780...</td>\n",
       "      <td>489.0</td>\n",
       "      <td>0.009673</td>\n",
       "      <td>0</td>\n",
       "      <td>0</td>\n",
       "    </tr>\n",
       "    <tr>\n",
       "      <th>vascular</th>\n",
       "      <td>Entity</td>\n",
       "      <td>2</td>\n",
       "      <td>ORGAN</td>\n",
       "      <td>[214924, 184360]</td>\n",
       "      <td>249.0</td>\n",
       "      <td>0.005238</td>\n",
       "      <td>1</td>\n",
       "      <td>1</td>\n",
       "    </tr>\n",
       "    <tr>\n",
       "      <th>pneumonia</th>\n",
       "      <td>Entity</td>\n",
       "      <td>8</td>\n",
       "      <td>DISEASE</td>\n",
       "      <td>[160564, 184360, 211125, 114119, 179426, 19780...</td>\n",
       "      <td>481.0</td>\n",
       "      <td>0.009523</td>\n",
       "      <td>0</td>\n",
       "      <td>0</td>\n",
       "    </tr>\n",
       "    <tr>\n",
       "      <th>mouse</th>\n",
       "      <td>Entity</td>\n",
       "      <td>5</td>\n",
       "      <td>ORGANISM</td>\n",
       "      <td>[184360, 211125, 211373, 179426, 214924]</td>\n",
       "      <td>423.0</td>\n",
       "      <td>0.008459</td>\n",
       "      <td>0</td>\n",
       "      <td>0</td>\n",
       "    </tr>\n",
       "    <tr>\n",
       "      <th>endothelium</th>\n",
       "      <td>Entity</td>\n",
       "      <td>1</td>\n",
       "      <td>ORGAN</td>\n",
       "      <td>[184360]</td>\n",
       "      <td>134.0</td>\n",
       "      <td>0.003152</td>\n",
       "      <td>1</td>\n",
       "      <td>2</td>\n",
       "    </tr>\n",
       "  </tbody>\n",
       "</table>\n",
       "</div>"
      ],
      "text/plain": [
       "                                  @type  paper_frequency entity_type  \\\n",
       "@id                                                                    \n",
       "angiotensin-converting enzyme 2  Entity                7     PROTEIN   \n",
       "vascular                         Entity                2       ORGAN   \n",
       "pneumonia                        Entity                8     DISEASE   \n",
       "mouse                            Entity                5    ORGANISM   \n",
       "endothelium                      Entity                1       ORGAN   \n",
       "\n",
       "                                                                             paper  \\\n",
       "@id                                                                                  \n",
       "angiotensin-converting enzyme 2  [160564, 184360, 211125, 211373, 179426, 19780...   \n",
       "vascular                                                          [214924, 184360]   \n",
       "pneumonia                        [160564, 184360, 211125, 114119, 179426, 19780...   \n",
       "mouse                                     [184360, 211125, 211373, 179426, 214924]   \n",
       "endothelium                                                               [184360]   \n",
       "\n",
       "                                 degree_frequency  pagerank_frequency  \\\n",
       "@id                                                                     \n",
       "angiotensin-converting enzyme 2             489.0            0.009673   \n",
       "vascular                                    249.0            0.005238   \n",
       "pneumonia                                   481.0            0.009523   \n",
       "mouse                                       423.0            0.008459   \n",
       "endothelium                                 134.0            0.003152   \n",
       "\n",
       "                                 community_frequency  community_npmi  \n",
       "@id                                                                   \n",
       "angiotensin-converting enzyme 2                    0               0  \n",
       "vascular                                           1               1  \n",
       "pneumonia                                          0               0  \n",
       "mouse                                              0               0  \n",
       "endothelium                                        1               2  "
      ]
     },
     "execution_count": 21,
     "metadata": {},
     "output_type": "execute_result"
    }
   ],
   "source": [
    "graphs[\"paper\"].nodes(raw_frame=True).sample(5)"
   ]
  },
  {
   "cell_type": "code",
   "execution_count": 22,
   "metadata": {},
   "outputs": [
    {
     "data": {
      "text/html": [
       "<div>\n",
       "<style scoped>\n",
       "    .dataframe tbody tr th:only-of-type {\n",
       "        vertical-align: middle;\n",
       "    }\n",
       "\n",
       "    .dataframe tbody tr th {\n",
       "        vertical-align: top;\n",
       "    }\n",
       "\n",
       "    .dataframe thead th {\n",
       "        text-align: right;\n",
       "    }\n",
       "</style>\n",
       "<table border=\"1\" class=\"dataframe\">\n",
       "  <thead>\n",
       "    <tr style=\"text-align: right;\">\n",
       "      <th></th>\n",
       "      <th></th>\n",
       "      <th>frequency</th>\n",
       "      <th>ppmi</th>\n",
       "      <th>npmi</th>\n",
       "      <th>distance_npmi</th>\n",
       "    </tr>\n",
       "    <tr>\n",
       "      <th>@source_id</th>\n",
       "      <th>@target_id</th>\n",
       "      <th></th>\n",
       "      <th></th>\n",
       "      <th></th>\n",
       "      <th></th>\n",
       "    </tr>\n",
       "  </thead>\n",
       "  <tbody>\n",
       "    <tr>\n",
       "      <th>pulmonary fibrosis</th>\n",
       "      <th>renal</th>\n",
       "      <td>1</td>\n",
       "      <td>2.736966</td>\n",
       "      <td>0.633274</td>\n",
       "      <td>1.579095</td>\n",
       "    </tr>\n",
       "    <tr>\n",
       "      <th>adipose tissue</th>\n",
       "      <th>chest pain</th>\n",
       "      <td>1</td>\n",
       "      <td>1.736966</td>\n",
       "      <td>0.401896</td>\n",
       "      <td>2.488206</td>\n",
       "    </tr>\n",
       "    <tr>\n",
       "      <th>chloroquine</th>\n",
       "      <th>glucose</th>\n",
       "      <td>2</td>\n",
       "      <td>0.621488</td>\n",
       "      <td>0.187087</td>\n",
       "      <td>5.345117</td>\n",
       "    </tr>\n",
       "    <tr>\n",
       "      <th>h1n1</th>\n",
       "      <th>nephropathy</th>\n",
       "      <td>1</td>\n",
       "      <td>2.321928</td>\n",
       "      <td>0.537244</td>\n",
       "      <td>1.861353</td>\n",
       "    </tr>\n",
       "    <tr>\n",
       "      <th>diabetes mellitus</th>\n",
       "      <th>infectious disorder</th>\n",
       "      <td>9</td>\n",
       "      <td>0.074001</td>\n",
       "      <td>0.064236</td>\n",
       "      <td>15.567487</td>\n",
       "    </tr>\n",
       "  </tbody>\n",
       "</table>\n",
       "</div>"
      ],
      "text/plain": [
       "                                        frequency      ppmi      npmi  \\\n",
       "@source_id         @target_id                                           \n",
       "pulmonary fibrosis renal                        1  2.736966  0.633274   \n",
       "adipose tissue     chest pain                   1  1.736966  0.401896   \n",
       "chloroquine        glucose                      2  0.621488  0.187087   \n",
       "h1n1               nephropathy                  1  2.321928  0.537244   \n",
       "diabetes mellitus  infectious disorder          9  0.074001  0.064236   \n",
       "\n",
       "                                        distance_npmi  \n",
       "@source_id         @target_id                          \n",
       "pulmonary fibrosis renal                     1.579095  \n",
       "adipose tissue     chest pain                2.488206  \n",
       "chloroquine        glucose                   5.345117  \n",
       "h1n1               nephropathy               1.861353  \n",
       "diabetes mellitus  infectious disorder      15.567487  "
      ]
     },
     "execution_count": 22,
     "metadata": {},
     "output_type": "execute_result"
    }
   ],
   "source": [
    "graphs[\"paper\"].edges(raw_frame=True).sample(5)"
   ]
  },
  {
   "cell_type": "markdown",
   "metadata": {},
   "source": [
    "## 4. Network visualization and analysis"
   ]
  },
  {
   "cell_type": "markdown",
   "metadata": {},
   "source": [
    "First of all, we set a backend for the visualization app (currently two backends are supported: based on `NetworkX` and `graph-tool`, in this example we use the latter)."
   ]
  },
  {
   "cell_type": "code",
   "execution_count": 23,
   "metadata": {},
   "outputs": [],
   "source": [
    "visualization_app.set_backend(\"graph_tool\")"
   ]
  },
  {
   "cell_type": "code",
   "execution_count": 24,
   "metadata": {},
   "outputs": [],
   "source": [
    "# # Run the following use NetworkX as the backend for the visualization app\n",
    "# visualization_app.set_backend(\"networkx\")"
   ]
  },
  {
   "cell_type": "markdown",
   "metadata": {},
   "source": [
    "### Loading the generated graphs into the visualization app"
   ]
  },
  {
   "cell_type": "code",
   "execution_count": 25,
   "metadata": {},
   "outputs": [],
   "source": [
    "visualization_app.add_graph(\n",
    "    \"Paper-based graph\", graphs[\"paper\"],\n",
    "    tree=trees[\"paper\"], default_top_n=100)\n",
    "\n",
    "visualization_app.add_graph(\n",
    "    \"Paragraph-based graph\", graphs[\"paragraph\"],\n",
    "    tree=trees[\"paragraph\"], default_top_n=100)\n",
    "\n",
    "visualization_app.set_current_graph(\"Paragraph-based graph\")"
   ]
  },
  {
   "cell_type": "markdown",
   "metadata": {},
   "source": [
    "### Loading papers' meta-data into the app\n",
    "\n",
    "We now load an additional dataset containing some meta-data on the papers where the entities analyzed in this notebook occur."
   ]
  },
  {
   "cell_type": "code",
   "execution_count": 26,
   "metadata": {
    "scrolled": true
   },
   "outputs": [
    {
     "data": {
      "text/html": [
       "<div>\n",
       "<style scoped>\n",
       "    .dataframe tbody tr th:only-of-type {\n",
       "        vertical-align: middle;\n",
       "    }\n",
       "\n",
       "    .dataframe tbody tr th {\n",
       "        vertical-align: top;\n",
       "    }\n",
       "\n",
       "    .dataframe thead th {\n",
       "        text-align: right;\n",
       "    }\n",
       "</style>\n",
       "<table border=\"1\" class=\"dataframe\">\n",
       "  <thead>\n",
       "    <tr style=\"text-align: right;\">\n",
       "      <th></th>\n",
       "      <th>title</th>\n",
       "      <th>authors</th>\n",
       "      <th>abstract</th>\n",
       "      <th>doi</th>\n",
       "      <th>url</th>\n",
       "      <th>journal</th>\n",
       "      <th>pmc_id</th>\n",
       "      <th>pubmed_id</th>\n",
       "      <th>publish_time</th>\n",
       "    </tr>\n",
       "    <tr>\n",
       "      <th>id</th>\n",
       "      <th></th>\n",
       "      <th></th>\n",
       "      <th></th>\n",
       "      <th></th>\n",
       "      <th></th>\n",
       "      <th></th>\n",
       "      <th></th>\n",
       "      <th></th>\n",
       "      <th></th>\n",
       "    </tr>\n",
       "  </thead>\n",
       "  <tbody>\n",
       "    <tr>\n",
       "      <th>3</th>\n",
       "      <td>Surfactant protein-D and pulmonary host defense</td>\n",
       "      <td>Crouch, Erika C</td>\n",
       "      <td>Surfactant protein-D (SP-D) participates in th...</td>\n",
       "      <td>10.1186/rr19</td>\n",
       "      <td>https://www.ncbi.nlm.nih.gov/pmc/articles/PMC5...</td>\n",
       "      <td>Respir Res</td>\n",
       "      <td>PMC59549</td>\n",
       "      <td>11667972.0</td>\n",
       "      <td>2000-08-25</td>\n",
       "    </tr>\n",
       "    <tr>\n",
       "      <th>56</th>\n",
       "      <td>CLINICAL VIGNETTES</td>\n",
       "      <td>NaN</td>\n",
       "      <td>NaN</td>\n",
       "      <td>10.1046/j.1525-1497.18.s1.20.x</td>\n",
       "      <td>https://www.ncbi.nlm.nih.gov/pmc/articles/PMC1...</td>\n",
       "      <td>J Gen Intern Med</td>\n",
       "      <td>PMC1494988</td>\n",
       "      <td>12753119.0</td>\n",
       "      <td>2003-04-01</td>\n",
       "    </tr>\n",
       "    <tr>\n",
       "      <th>58</th>\n",
       "      <td>Clinical Vignettes</td>\n",
       "      <td>NaN</td>\n",
       "      <td>NaN</td>\n",
       "      <td>10.1046/j.1525-1497.2001.0160s1023.x</td>\n",
       "      <td>https://www.ncbi.nlm.nih.gov/pmc/articles/PMC1...</td>\n",
       "      <td>J Gen Intern Med</td>\n",
       "      <td>PMC1495316</td>\n",
       "      <td>11357836.0</td>\n",
       "      <td>2001-04-01</td>\n",
       "    </tr>\n",
       "  </tbody>\n",
       "</table>\n",
       "</div>"
      ],
      "text/plain": [
       "                                              title          authors  \\\n",
       "id                                                                     \n",
       "3   Surfactant protein-D and pulmonary host defense  Crouch, Erika C   \n",
       "56                               CLINICAL VIGNETTES              NaN   \n",
       "58                               Clinical Vignettes              NaN   \n",
       "\n",
       "                                             abstract  \\\n",
       "id                                                      \n",
       "3   Surfactant protein-D (SP-D) participates in th...   \n",
       "56                                                NaN   \n",
       "58                                                NaN   \n",
       "\n",
       "                                     doi  \\\n",
       "id                                         \n",
       "3                           10.1186/rr19   \n",
       "56        10.1046/j.1525-1497.18.s1.20.x   \n",
       "58  10.1046/j.1525-1497.2001.0160s1023.x   \n",
       "\n",
       "                                                  url           journal  \\\n",
       "id                                                                        \n",
       "3   https://www.ncbi.nlm.nih.gov/pmc/articles/PMC5...        Respir Res   \n",
       "56  https://www.ncbi.nlm.nih.gov/pmc/articles/PMC1...  J Gen Intern Med   \n",
       "58  https://www.ncbi.nlm.nih.gov/pmc/articles/PMC1...  J Gen Intern Med   \n",
       "\n",
       "        pmc_id   pubmed_id publish_time  \n",
       "id                                       \n",
       "3     PMC59549  11667972.0   2000-08-25  \n",
       "56  PMC1494988  12753119.0   2003-04-01  \n",
       "58  PMC1495316  11357836.0   2001-04-01  "
      ]
     },
     "execution_count": 26,
     "metadata": {},
     "output_type": "execute_result"
    }
   ],
   "source": [
    "paper_data = pd.read_csv(\"../data/Glucose_risk_3000_paper_meta_data.csv\")\n",
    "paper_data = paper_data.set_index(\"id\")\n",
    "paper_data.head(3)"
   ]
  },
  {
   "cell_type": "markdown",
   "metadata": {},
   "source": [
    "We pass a callback for the lookup of paper meta-data to the visualization app using the `set_list_papers_callback` method."
   ]
  },
  {
   "cell_type": "code",
   "execution_count": 27,
   "metadata": {},
   "outputs": [],
   "source": [
    "def list_papers(paper_data, selected_papers, limit=200):\n",
    "    selected_paper_data = paper_data.loc[[int(p) for p in selected_papers]].head(200)\n",
    "    return selected_paper_data.to_dict(\"records\")\n",
    "\n",
    "visualization_app.set_list_papers_callback(lambda x: list_papers(paper_data, x))"
   ]
  },
  {
   "cell_type": "markdown",
   "metadata": {},
   "source": [
    "The ontology linking process described above is noisy, therefore, we would like to keep a possibility of accessing, the raw entities that were linked to particular ontology concepts. For this we define the function `get_aggregated_entities` that retreives such raw entities and we pass it to the visualization app using the `set_aggregated_entities_callback` method."
   ]
  },
  {
   "cell_type": "code",
   "execution_count": 28,
   "metadata": {},
   "outputs": [],
   "source": [
    "def top_n(data_dict, n, smallest=False):\n",
    "    \"\"\"Return top `n` keys of the input dictionary by their value.\"\"\"\n",
    "    df = pd.DataFrame(dict(data_dict).items(), columns=[\"id\", \"value\"])\n",
    "    if smallest:\n",
    "        df = df.nsmallest(n, columns=[\"value\"])\n",
    "    else:\n",
    "        df = df.nlargest(n, columns=[\"value\"])\n",
    "    return(list(df[\"id\"]))\n",
    "\n",
    "\n",
    "def get_aggregated_entities(entity, n):\n",
    "    if \"aggregated_entities\" in curated_occurrence_data.columns:\n",
    "        if entity not in curated_occurrence_data.index:\n",
    "            return None\n",
    "        aggregated = curated_occurrence_data.loc[entity][\"aggregated_entities\"]\n",
    "    else:\n",
    "        aggregated = [entity]\n",
    "    if curation_input_table is not None:\n",
    "        df = curation_input_table.set_index(\"entity\")\n",
    "        if entity in curated_occurrence_data.index:\n",
    "            freqs = df.loc[aggregated][\"paper_frequency\"].to_dict()\n",
    "        else:\n",
    "            return {}\n",
    "    else:\n",
    "        df = data.copy()\n",
    "        df[\"entity\"] = data[\"entity\"].apply(lambda x: x.lower())\n",
    "        freqs = df[df[\"entity\"].apply(lambda x: x.lower() in aggregated)].groupby(\"entity\").aggregate(\n",
    "            lambda x: len(x))[\"entity_type\"].to_dict()\n",
    "    if len(freqs) == 0:\n",
    "        return {}\n",
    "    return {e: freqs[e] for e in top_n(freqs, n)}\n",
    "\n",
    "visualization_app.set_aggregated_entities_callback(\n",
    "    lambda x: get_aggregated_entities(x, 10))"
   ]
  },
  {
   "cell_type": "markdown",
   "metadata": {},
   "source": [
    "Finally, we create a dictionary `definitions` that will serve the visualization app as the lookup table for accessing the definitions of different ontology concepts."
   ]
  },
  {
   "cell_type": "code",
   "execution_count": 29,
   "metadata": {},
   "outputs": [],
   "source": [
    "definitions = ontology_linking[[\"concept\", \"definition\"]].groupby(\n",
    "    \"concept\").aggregate(lambda x: list(x)[0]).to_dict()[\"definition\"]\n",
    "visualization_app.set_entity_definitons(definitions)"
   ]
  },
  {
   "cell_type": "markdown",
   "metadata": {},
   "source": [
    "### Launching the visualization app"
   ]
  },
  {
   "cell_type": "markdown",
   "metadata": {},
   "source": [
    "As before, the interactive graph visualization app can be launched in two modes: inline and external. Here we recommend the external mode for better user experience."
   ]
  },
  {
   "cell_type": "code",
   "execution_count": 30,
   "metadata": {
    "scrolled": false
   },
   "outputs": [
    {
     "name": "stdout",
     "output_type": "stream",
     "text": [
      "Dash app running on http://127.0.0.1:8082/\n"
     ]
    }
   ],
   "source": [
    "visualization_app.run(port=8082, mode=\"external\")"
   ]
  },
  {
   "cell_type": "code",
   "execution_count": null,
   "metadata": {},
   "outputs": [],
   "source": []
  }
 ],
 "metadata": {
  "kernelspec": {
   "display_name": "bluegraph",
   "language": "python",
   "name": "bluegraph"
  },
  "language_info": {
   "codemirror_mode": {
    "name": "ipython",
    "version": 3
   },
   "file_extension": ".py",
   "mimetype": "text/x-python",
   "name": "python",
   "nbconvert_exporter": "python",
   "pygments_lexer": "ipython3",
   "version": "3.6.12"
  }
 },
 "nbformat": 4,
 "nbformat_minor": 4
}
