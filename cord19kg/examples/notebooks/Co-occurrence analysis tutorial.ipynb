{
 "cells": [
  {
   "cell_type": "markdown",
   "metadata": {},
   "source": [
    "# Co-occurrence network analysis tutorial\n",
    "\n",
    "In this notebook we will illustrate how interactive exploration and analysis of the [CORD-19](https://www.kaggle.com/allen-institute-for-ai/CORD-19-research-challenge) dataset can be performed using the `cord19kg` package. The exploration and analysis techniques presented here focus on named entities and their co-occurrence in the scientific articles constituting the dataset.\n",
    "\n",
    "The input data for this notebook contains the named entities extracted from a small selection of 20 articles representing 10 different entity types (i.e. proteins, chemicals, drugs, diseases, condtions, organs, organisms, pathways, cell types, cell compartments). The article selection corresponds to 20 most relevant articles to the query _\"Glucose is a risk factor of COVID-19\"_ obtained using the article search model [ref to blue brain search](). The entity extraction was performed using the Named Entity Recognition (NER) techniques also included in [ref to blue brain search]().\n",
    "\n",
    "The `cord19kg` package provides a set of tools for interactive literature exploration through the named entity co-occurrence analysis consisting of the following steps:\n",
    "\n",
    "1. __Data preparation__ step converts raw mentions into aggregated entity occurrence statistics.\n",
    "2. __Data curation__ step allows the user to manage extracted entities: modify, filter them and link to the ontology.\n",
    "3. __Network generation__ step allows creating entity co-occurrence networks based on paper-, section- and paragraph-level co-occurrence relations between entities. These entity relations are quantified using mutual-information-based scores (pointwise mutual information and its normalized version).\n",
    "4. __Network visualization and analysis__ step allows the user to perform interactive network visualization, edit network elements and perform its analysis (spanning tree, mutual-information based shortest paths between entities, etc)."
   ]
  },
  {
   "cell_type": "code",
   "execution_count": 1,
   "metadata": {},
   "outputs": [],
   "source": [
    "import json\n",
    "import zipfile\n",
    "\n",
    "import pandas as pd\n",
    "\n",
    "import dash_cytoscape as cyto\n",
    "\n",
    "from cord19kg.utils import (generate_curation_table,\n",
    "                            link_ontology,\n",
    "                            generate_cooccurrence_analysis)\n",
    "from cord19kg.apps.curation_app import curation_app\n",
    "from cord19kg.apps.visualization_app import visualization_app"
   ]
  },
  {
   "cell_type": "markdown",
   "metadata": {},
   "source": [
    "The cell below loads additional graph layouts used in the graph visualization app"
   ]
  },
  {
   "cell_type": "code",
   "execution_count": 2,
   "metadata": {},
   "outputs": [],
   "source": [
    "cyto.load_extra_layouts()"
   ]
  },
  {
   "cell_type": "markdown",
   "metadata": {},
   "source": [
    "## 1. Data preparation\n",
    "\n",
    "The input dataset contains occurrences of different terms in paragraphs of scientific articles from the CORD-19 dataset previously extracted by means of a NER model."
   ]
  },
  {
   "cell_type": "code",
   "execution_count": 3,
   "metadata": {},
   "outputs": [],
   "source": [
    "data = pd.read_csv(\"../data/Glucose_risk_20_papers.csv\")"
   ]
  },
  {
   "cell_type": "code",
   "execution_count": 4,
   "metadata": {},
   "outputs": [
    {
     "data": {
      "text/html": [
       "<div>\n",
       "<style scoped>\n",
       "    .dataframe tbody tr th:only-of-type {\n",
       "        vertical-align: middle;\n",
       "    }\n",
       "\n",
       "    .dataframe tbody tr th {\n",
       "        vertical-align: top;\n",
       "    }\n",
       "\n",
       "    .dataframe thead th {\n",
       "        text-align: right;\n",
       "    }\n",
       "</style>\n",
       "<table border=\"1\" class=\"dataframe\">\n",
       "  <thead>\n",
       "    <tr style=\"text-align: right;\">\n",
       "      <th></th>\n",
       "      <th>entity</th>\n",
       "      <th>entity_type</th>\n",
       "      <th>occurrence</th>\n",
       "    </tr>\n",
       "  </thead>\n",
       "  <tbody>\n",
       "    <tr>\n",
       "      <th>2748</th>\n",
       "      <td>respiratory failure</td>\n",
       "      <td>DISEASE</td>\n",
       "      <td>214924:Introduction:6</td>\n",
       "    </tr>\n",
       "    <tr>\n",
       "      <th>3383</th>\n",
       "      <td>AMPK</td>\n",
       "      <td>PROTEIN</td>\n",
       "      <td>214924:The Interplay Between Covid-19 And Ampk...</td>\n",
       "    </tr>\n",
       "    <tr>\n",
       "      <th>2000</th>\n",
       "      <td>blood</td>\n",
       "      <td>ORGAN</td>\n",
       "      <td>197804:Discussion:39</td>\n",
       "    </tr>\n",
       "    <tr>\n",
       "      <th>1949</th>\n",
       "      <td>angiotensin-converting enzyme</td>\n",
       "      <td>PROTEIN</td>\n",
       "      <td>197804:Management Of Children And Young People...</td>\n",
       "    </tr>\n",
       "    <tr>\n",
       "      <th>840</th>\n",
       "      <td>COVID-19</td>\n",
       "      <td>DISEASE</td>\n",
       "      <td>184360:Diabetes As Promoter Of Severity And Mo...</td>\n",
       "    </tr>\n",
       "  </tbody>\n",
       "</table>\n",
       "</div>"
      ],
      "text/plain": [
       "                             entity entity_type  \\\n",
       "2748            respiratory failure     DISEASE   \n",
       "3383                           AMPK     PROTEIN   \n",
       "2000                          blood       ORGAN   \n",
       "1949  angiotensin-converting enzyme     PROTEIN   \n",
       "840                        COVID-19     DISEASE   \n",
       "\n",
       "                                             occurrence  \n",
       "2748                              214924:Introduction:6  \n",
       "3383  214924:The Interplay Between Covid-19 And Ampk...  \n",
       "2000                               197804:Discussion:39  \n",
       "1949  197804:Management Of Children And Young People...  \n",
       "840   184360:Diabetes As Promoter Of Severity And Mo...  "
      ]
     },
     "execution_count": 4,
     "metadata": {},
     "output_type": "execute_result"
    }
   ],
   "source": [
    "data.sample(5)"
   ]
  },
  {
   "cell_type": "markdown",
   "metadata": {},
   "source": [
    "On the first preparation step, we group and aggregate the input data by unique entities."
   ]
  },
  {
   "cell_type": "code",
   "execution_count": 5,
   "metadata": {},
   "outputs": [
    {
     "name": "stdout",
     "output_type": "stream",
     "text": [
      "Prepating curatation data...\n",
      "Cleaning up the entities...\n",
      "Aggregating occurrences of entities....\n",
      "Done.\n",
      "CPU times: user 279 ms, sys: 8.35 ms, total: 287 ms\n",
      "Wall time: 290 ms\n"
     ]
    }
   ],
   "source": [
    "%%time\n",
    "print(\"Prepating curatation data...\")\n",
    "curation_input_table, factor_counts = generate_curation_table(data)\n",
    "print(\"Done.\")"
   ]
  },
  {
   "cell_type": "markdown",
   "metadata": {},
   "source": [
    "The resulting dataframe contains a row per unique named entity together with the following occurrence data: \n",
    "- sets of unique paragraphs, papers, sections, where the corresponding entity is mentioned (`paper`, `section`, `paragraph` columns);\n",
    "- number of total entity occurrences (the `raw_frequency` column);\n",
    "- number of unique papers where it occurs (the `paper_frequency` column);\n",
    "- unique entity types assigned by the NER model (the `entity_type` column, multiple types are possible).\n",
    "- raw entity types assigned by the NER model with the multiplicity of thier occurrence (the `raw_entity_types` column).\n"
   ]
  },
  {
   "cell_type": "code",
   "execution_count": 6,
   "metadata": {},
   "outputs": [
    {
     "data": {
      "text/html": [
       "<div>\n",
       "<style scoped>\n",
       "    .dataframe tbody tr th:only-of-type {\n",
       "        vertical-align: middle;\n",
       "    }\n",
       "\n",
       "    .dataframe tbody tr th {\n",
       "        vertical-align: top;\n",
       "    }\n",
       "\n",
       "    .dataframe thead th {\n",
       "        text-align: right;\n",
       "    }\n",
       "</style>\n",
       "<table border=\"1\" class=\"dataframe\">\n",
       "  <thead>\n",
       "    <tr style=\"text-align: right;\">\n",
       "      <th></th>\n",
       "      <th>entity</th>\n",
       "      <th>entity_type</th>\n",
       "      <th>paragraph</th>\n",
       "      <th>paper</th>\n",
       "      <th>section</th>\n",
       "      <th>paper_frequency</th>\n",
       "      <th>raw_entity_types</th>\n",
       "      <th>raw_frequency</th>\n",
       "    </tr>\n",
       "  </thead>\n",
       "  <tbody>\n",
       "    <tr>\n",
       "      <th>210</th>\n",
       "      <td>pulmonary</td>\n",
       "      <td>ORGAN</td>\n",
       "      <td>[184360:Rhace2 As Decoy Factor ::: Therapeutic...</td>\n",
       "      <td>[179426, 211373, 214924, 184360]</td>\n",
       "      <td>[214924:Introduction, 214924:The Immune Respon...</td>\n",
       "      <td>4</td>\n",
       "      <td>[ORGAN, ORGAN, ORGAN, ORGAN, ORGAN, ORGAN, ORG...</td>\n",
       "      <td>16</td>\n",
       "    </tr>\n",
       "    <tr>\n",
       "      <th>243</th>\n",
       "      <td>t cell</td>\n",
       "      <td>CELL_TYPE</td>\n",
       "      <td>[184360:Gliptins ::: Therapeutic Potential Of ...</td>\n",
       "      <td>[184360]</td>\n",
       "      <td>[184360:Cardiovascular Effects Of Sdpp4 Upregu...</td>\n",
       "      <td>1</td>\n",
       "      <td>[CELL_TYPE, CELL_TYPE, CELL_TYPE]</td>\n",
       "      <td>3</td>\n",
       "    </tr>\n",
       "    <tr>\n",
       "      <th>200</th>\n",
       "      <td>organs</td>\n",
       "      <td>ORGAN</td>\n",
       "      <td>[214924:Angiotensin-Converting Enzyme 2 Expres...</td>\n",
       "      <td>[214924, 211125]</td>\n",
       "      <td>[211125:Study Design And Participants, 214924:...</td>\n",
       "      <td>2</td>\n",
       "      <td>[ORGAN, ORGAN, ORGAN, ORGAN]</td>\n",
       "      <td>4</td>\n",
       "    </tr>\n",
       "    <tr>\n",
       "      <th>16</th>\n",
       "      <td>ang ii</td>\n",
       "      <td>PROTEIN</td>\n",
       "      <td>[184360:Rhace2 As Decoy Factor ::: Therapeutic...</td>\n",
       "      <td>[184360]</td>\n",
       "      <td>[184360:Aceis And Arbs , 184360:Ang-(1-7) Anal...</td>\n",
       "      <td>1</td>\n",
       "      <td>[PROTEIN, PROTEIN, PROTEIN, PROTEIN, PROTEIN, ...</td>\n",
       "      <td>9</td>\n",
       "    </tr>\n",
       "    <tr>\n",
       "      <th>180</th>\n",
       "      <td>mice</td>\n",
       "      <td>ORGANISM</td>\n",
       "      <td>[179426:Role Of Ace/Arbs ::: Special Aspects O...</td>\n",
       "      <td>[179426, 214924, 184360, 211373, 211125]</td>\n",
       "      <td>[184360:Aceis And Arbs , 184360:Mechanisms Of ...</td>\n",
       "      <td>5</td>\n",
       "      <td>[ORGANISM, ORGANISM, ORGANISM, ORGANISM, ORGAN...</td>\n",
       "      <td>18</td>\n",
       "    </tr>\n",
       "  </tbody>\n",
       "</table>\n",
       "</div>"
      ],
      "text/plain": [
       "        entity entity_type                                          paragraph  \\\n",
       "210  pulmonary       ORGAN  [184360:Rhace2 As Decoy Factor ::: Therapeutic...   \n",
       "243     t cell   CELL_TYPE  [184360:Gliptins ::: Therapeutic Potential Of ...   \n",
       "200     organs       ORGAN  [214924:Angiotensin-Converting Enzyme 2 Expres...   \n",
       "16      ang ii     PROTEIN  [184360:Rhace2 As Decoy Factor ::: Therapeutic...   \n",
       "180       mice    ORGANISM  [179426:Role Of Ace/Arbs ::: Special Aspects O...   \n",
       "\n",
       "                                        paper  \\\n",
       "210          [179426, 211373, 214924, 184360]   \n",
       "243                                  [184360]   \n",
       "200                          [214924, 211125]   \n",
       "16                                   [184360]   \n",
       "180  [179426, 214924, 184360, 211373, 211125]   \n",
       "\n",
       "                                               section  paper_frequency  \\\n",
       "210  [214924:Introduction, 214924:The Immune Respon...                4   \n",
       "243  [184360:Cardiovascular Effects Of Sdpp4 Upregu...                1   \n",
       "200  [211125:Study Design And Participants, 214924:...                2   \n",
       "16   [184360:Aceis And Arbs , 184360:Ang-(1-7) Anal...                1   \n",
       "180  [184360:Aceis And Arbs , 184360:Mechanisms Of ...                5   \n",
       "\n",
       "                                      raw_entity_types  raw_frequency  \n",
       "210  [ORGAN, ORGAN, ORGAN, ORGAN, ORGAN, ORGAN, ORG...             16  \n",
       "243                  [CELL_TYPE, CELL_TYPE, CELL_TYPE]              3  \n",
       "200                       [ORGAN, ORGAN, ORGAN, ORGAN]              4  \n",
       "16   [PROTEIN, PROTEIN, PROTEIN, PROTEIN, PROTEIN, ...              9  \n",
       "180  [ORGANISM, ORGANISM, ORGANISM, ORGANISM, ORGAN...             18  "
      ]
     },
     "execution_count": 6,
     "metadata": {},
     "output_type": "execute_result"
    }
   ],
   "source": [
    "curation_input_table.sample(5)"
   ]
  },
  {
   "cell_type": "markdown",
   "metadata": {},
   "source": [
    "The second output of the data preparation step outputs the counts of different instances of occurrence factors: number of distinct papers/sections/paragraphs in the input corpus."
   ]
  },
  {
   "cell_type": "code",
   "execution_count": 7,
   "metadata": {},
   "outputs": [
    {
     "data": {
      "text/plain": [
       "{'paper': 20, 'section': 108, 'paragraph': 286}"
      ]
     },
     "execution_count": 7,
     "metadata": {},
     "output_type": "execute_result"
    }
   ],
   "source": [
    "factor_counts"
   ]
  },
  {
   "cell_type": "markdown",
   "metadata": {},
   "source": [
    "## 2. Data curation"
   ]
  },
  {
   "cell_type": "markdown",
   "metadata": {},
   "source": [
    "### Loading the NCIT ontology linking data"
   ]
  },
  {
   "cell_type": "markdown",
   "metadata": {},
   "source": [
    "To group synonymical entities in the previously extracted table (e.g. `ace2`, `ace-2`, `angiotensin-converting enzyme 2`), as well as assign additional semantics to these entities (e.g. human-readable definition, taxonomy, etc), we peform further _linking_ of the entities to the terms from the [NCIT ontology](https://ncithesaurus.nci.nih.gov/ncitbrowser/).\n",
    "\n",
    "To be able to perform such ontology linking, we load some additional (pre-computed using ML-based linking models) data."
   ]
  },
  {
   "cell_type": "code",
   "execution_count": 8,
   "metadata": {},
   "outputs": [
    {
     "name": "stdout",
     "output_type": "stream",
     "text": [
      "Loading the ontology linking data...\n",
      "\tDecompressing the input data file...\n",
      "\tLoading the linking dataframe in memory...\n",
      "\tLoading ontology type mapping...\n",
      "Done.\n",
      "CPU times: user 1.14 s, sys: 203 ms, total: 1.35 s\n",
      "Wall time: 1.37 s\n"
     ]
    }
   ],
   "source": [
    "%%time\n",
    "print(\"Loading the ontology linking data...\")\n",
    "    \n",
    "print(\"\\tDecompressing the input data file...\")\n",
    "with zipfile.ZipFile(\"../data/NCIT_ontology_linking_3000_papers.csv.zip\", 'r') as zip_ref:\n",
    "    zip_ref.extractall(\"../data/\")\n",
    "\n",
    "print(\"\\tLoading the linking dataframe in memory...\")\n",
    "ontology_linking = pd.read_csv(\"../data/NCIT_ontology_linking_3000_papers.csv\")\n",
    "\n",
    "print(\"\\tLoading ontology type mapping...\")\n",
    "with open(\"../data/NCIT_type_mapping.json\", \"rb\") as f:\n",
    "    type_mapping = json.load(f)\n",
    "print(\"Done.\")"
   ]
  },
  {
   "cell_type": "markdown",
   "metadata": {},
   "source": [
    "The ontology linking table contains the following columns:\n",
    "- `mention` entity mentioned in the text\n",
    "- `concept` ontology concept linked to the entity mention\n",
    "- `uid` unique identifier of the ontology concept\n",
    "- `definition` definition of the concept\n",
    "- `taxonomy` taxonomy of semantic types associated with the concept"
   ]
  },
  {
   "cell_type": "code",
   "execution_count": 9,
   "metadata": {
    "scrolled": true
   },
   "outputs": [
    {
     "data": {
      "text/html": [
       "<div>\n",
       "<style scoped>\n",
       "    .dataframe tbody tr th:only-of-type {\n",
       "        vertical-align: middle;\n",
       "    }\n",
       "\n",
       "    .dataframe tbody tr th {\n",
       "        vertical-align: top;\n",
       "    }\n",
       "\n",
       "    .dataframe thead th {\n",
       "        text-align: right;\n",
       "    }\n",
       "</style>\n",
       "<table border=\"1\" class=\"dataframe\">\n",
       "  <thead>\n",
       "    <tr style=\"text-align: right;\">\n",
       "      <th></th>\n",
       "      <th>mention</th>\n",
       "      <th>concept</th>\n",
       "      <th>uid</th>\n",
       "      <th>definition</th>\n",
       "      <th>taxonomy</th>\n",
       "    </tr>\n",
       "  </thead>\n",
       "  <tbody>\n",
       "    <tr>\n",
       "      <th>120640</th>\n",
       "      <td>leishmania tropica</td>\n",
       "      <td>leishmania tropica</td>\n",
       "      <td>http://purl.obolibrary.org/obo/NCIT_C123511</td>\n",
       "      <td>A species of parasitic trypanosomatid protozoa...</td>\n",
       "      <td>[('http://purl.obolibrary.org/obo/NCIT_C123421...</td>\n",
       "    </tr>\n",
       "    <tr>\n",
       "      <th>88864</th>\n",
       "      <td>microvascular iliac</td>\n",
       "      <td>microcirculatory bed</td>\n",
       "      <td>http://purl.obolibrary.org/obo/NCIT_C33109</td>\n",
       "      <td>A collection of the smallest blood vessels of ...</td>\n",
       "      <td>[('http://purl.obolibrary.org/obo/NCIT_C12679'...</td>\n",
       "    </tr>\n",
       "    <tr>\n",
       "      <th>8095</th>\n",
       "      <td>hippocampal ca1</td>\n",
       "      <td>hippocampus</td>\n",
       "      <td>http://purl.obolibrary.org/obo/NCIT_C12444</td>\n",
       "      <td>A curved gray matter structure of the temporal...</td>\n",
       "      <td>[('http://purl.obolibrary.org/obo/NCIT_C13031'...</td>\n",
       "    </tr>\n",
       "    <tr>\n",
       "      <th>38269</th>\n",
       "      <td>dopaminergic neuronal</td>\n",
       "      <td>dopamine hydrochloride</td>\n",
       "      <td>http://purl.obolibrary.org/obo/NCIT_C455</td>\n",
       "      <td>The hydrochloride salt form of dopamine, a mon...</td>\n",
       "      <td>[('http://purl.obolibrary.org/obo/NCIT_C29709'...</td>\n",
       "    </tr>\n",
       "    <tr>\n",
       "      <th>133923</th>\n",
       "      <td>pharyngoconjunctival fever</td>\n",
       "      <td>pharyngoconjunctival fever</td>\n",
       "      <td>http://purl.obolibrary.org/obo/NCIT_C34924</td>\n",
       "      <td>A condition characterized by fever, conjunctiv...</td>\n",
       "      <td>[('http://purl.obolibrary.org/obo/NCIT_C3439',...</td>\n",
       "    </tr>\n",
       "  </tbody>\n",
       "</table>\n",
       "</div>"
      ],
      "text/plain": [
       "                           mention                     concept  \\\n",
       "120640          leishmania tropica          leishmania tropica   \n",
       "88864          microvascular iliac        microcirculatory bed   \n",
       "8095               hippocampal ca1                 hippocampus   \n",
       "38269        dopaminergic neuronal      dopamine hydrochloride   \n",
       "133923  pharyngoconjunctival fever  pharyngoconjunctival fever   \n",
       "\n",
       "                                                uid  \\\n",
       "120640  http://purl.obolibrary.org/obo/NCIT_C123511   \n",
       "88864    http://purl.obolibrary.org/obo/NCIT_C33109   \n",
       "8095     http://purl.obolibrary.org/obo/NCIT_C12444   \n",
       "38269      http://purl.obolibrary.org/obo/NCIT_C455   \n",
       "133923   http://purl.obolibrary.org/obo/NCIT_C34924   \n",
       "\n",
       "                                               definition  \\\n",
       "120640  A species of parasitic trypanosomatid protozoa...   \n",
       "88864   A collection of the smallest blood vessels of ...   \n",
       "8095    A curved gray matter structure of the temporal...   \n",
       "38269   The hydrochloride salt form of dopamine, a mon...   \n",
       "133923  A condition characterized by fever, conjunctiv...   \n",
       "\n",
       "                                                 taxonomy  \n",
       "120640  [('http://purl.obolibrary.org/obo/NCIT_C123421...  \n",
       "88864   [('http://purl.obolibrary.org/obo/NCIT_C12679'...  \n",
       "8095    [('http://purl.obolibrary.org/obo/NCIT_C13031'...  \n",
       "38269   [('http://purl.obolibrary.org/obo/NCIT_C29709'...  \n",
       "133923  [('http://purl.obolibrary.org/obo/NCIT_C3439',...  "
      ]
     },
     "execution_count": 9,
     "metadata": {},
     "output_type": "execute_result"
    }
   ],
   "source": [
    "ontology_linking.sample(5)"
   ]
  },
  {
   "cell_type": "markdown",
   "metadata": {},
   "source": [
    "### Interactive curation of  entity occurrence data\n",
    "\n",
    "The package provides an interactive entity curation app that allows the user to visualize the entity occurrence data, modify it, perform ontology linking (see `Link to NCIT ontology` button), filter short or unfrequent entities.\n",
    "\n",
    "The field `Keep` allows specifying a set of entities that must be kept in the dataset at all times (even if they don't satisfy the selected filtering criteria).\n",
    "\n",
    "Finally the value specified in the `Generate Graphs from top 500 frequent entities` field corresponds to the number of top entities (by the frequency of their occurrence in papers) to be included in the co-occurrence network."
   ]
  },
  {
   "cell_type": "markdown",
   "metadata": {},
   "source": [
    "We load the prepared data table into the curation app as follows:"
   ]
  },
  {
   "cell_type": "code",
   "execution_count": 10,
   "metadata": {},
   "outputs": [],
   "source": [
    "curation_app.set_table(curation_input_table.copy())"
   ]
  },
  {
   "cell_type": "markdown",
   "metadata": {},
   "source": [
    "We can specify the default entities to keep."
   ]
  },
  {
   "cell_type": "code",
   "execution_count": 11,
   "metadata": {},
   "outputs": [],
   "source": [
    "default_entities_to_keep = [\"glucose\", \"covid-19\"]\n",
    "curation_app.set_default_terms_to_include(default_entities_to_keep)"
   ]
  },
  {
   "cell_type": "markdown",
   "metadata": {},
   "source": [
    "Finally, we set the ontology linking callback to be fired upon a click on the `Link to NCIT ontology` button."
   ]
  },
  {
   "cell_type": "code",
   "execution_count": 12,
   "metadata": {
    "scrolled": false
   },
   "outputs": [],
   "source": [
    "curation_app.set_ontology_linking_callback(lambda x: link_ontology(ontology_linking, type_mapping, x))"
   ]
  },
  {
   "cell_type": "markdown",
   "metadata": {},
   "source": [
    "### Launch the curation app"
   ]
  },
  {
   "cell_type": "markdown",
   "metadata": {},
   "source": [
    "The application can be launched either inline (inside the current notebook) as below."
   ]
  },
  {
   "cell_type": "code",
   "execution_count": 13,
   "metadata": {
    "scrolled": false
   },
   "outputs": [
    {
     "data": {
      "text/html": [
       "\n",
       "        <iframe\n",
       "            width=\"100%\"\n",
       "            height=\"650\"\n",
       "            src=\"http://127.0.0.1:8072/\"\n",
       "            frameborder=\"0\"\n",
       "            allowfullscreen\n",
       "        ></iframe>\n",
       "        "
      ],
      "text/plain": [
       "<IPython.lib.display.IFrame at 0x7fa42a43b908>"
      ]
     },
     "metadata": {},
     "output_type": "display_data"
    },
    {
     "name": "stdout",
     "output_type": "stream",
     "text": [
      "Merging the occurrence data with the ontology linking...\n"
     ]
    }
   ],
   "source": [
    "curation_app.run(port=8072, mode=\"inline\")"
   ]
  },
  {
   "cell_type": "markdown",
   "metadata": {},
   "source": [
    "Or it can be opened externally (by the URL that you can open in a separate tab of your browser, try uncommenting, executing and doing Ctrl+Click on the displayed URL)."
   ]
  },
  {
   "cell_type": "code",
   "execution_count": 14,
   "metadata": {},
   "outputs": [],
   "source": [
    "# curation_app.run(port=8070, mode=\"external\")"
   ]
  },
  {
   "cell_type": "markdown",
   "metadata": {},
   "source": [
    "## 3. Co-occurrence network generation"
   ]
  },
  {
   "cell_type": "markdown",
   "metadata": {},
   "source": [
    "Current curation table displayed in the curation app can be extracted using the `get_curated_table` method."
   ]
  },
  {
   "cell_type": "code",
   "execution_count": 15,
   "metadata": {},
   "outputs": [
    {
     "data": {
      "text/html": [
       "<div>\n",
       "<style scoped>\n",
       "    .dataframe tbody tr th:only-of-type {\n",
       "        vertical-align: middle;\n",
       "    }\n",
       "\n",
       "    .dataframe tbody tr th {\n",
       "        vertical-align: top;\n",
       "    }\n",
       "\n",
       "    .dataframe thead th {\n",
       "        text-align: right;\n",
       "    }\n",
       "</style>\n",
       "<table border=\"1\" class=\"dataframe\">\n",
       "  <thead>\n",
       "    <tr style=\"text-align: right;\">\n",
       "      <th></th>\n",
       "      <th>paper</th>\n",
       "      <th>section</th>\n",
       "      <th>paragraph</th>\n",
       "      <th>aggregated_entities</th>\n",
       "      <th>uid</th>\n",
       "      <th>definition</th>\n",
       "      <th>paper_frequency</th>\n",
       "      <th>entity_type</th>\n",
       "    </tr>\n",
       "    <tr>\n",
       "      <th>entity</th>\n",
       "      <th></th>\n",
       "      <th></th>\n",
       "      <th></th>\n",
       "      <th></th>\n",
       "      <th></th>\n",
       "      <th></th>\n",
       "      <th></th>\n",
       "      <th></th>\n",
       "    </tr>\n",
       "  </thead>\n",
       "  <tbody>\n",
       "    <tr>\n",
       "      <th>4e-bp1</th>\n",
       "      <td>{214924}</td>\n",
       "      <td>{214924:The Interplay Between Covid-19 And Amp...</td>\n",
       "      <td>{214924:The Interplay Between Covid-19 And Amp...</td>\n",
       "      <td>[4e-bp1]</td>\n",
       "      <td>NaN</td>\n",
       "      <td>NaN</td>\n",
       "      <td>1</td>\n",
       "      <td>PROTEIN</td>\n",
       "    </tr>\n",
       "    <tr>\n",
       "      <th>ace inhibitor</th>\n",
       "      <td>{197804, 184360}</td>\n",
       "      <td>{184360:Aceis And Arbs , 197804:Management Of ...</td>\n",
       "      <td>{197804:Management Of Children And Young Peopl...</td>\n",
       "      <td>[acei]</td>\n",
       "      <td>http://purl.obolibrary.org/obo/NCIT_C247</td>\n",
       "      <td>Any substance that inhibits angiotensin-conver...</td>\n",
       "      <td>2</td>\n",
       "      <td>DRUG</td>\n",
       "    </tr>\n",
       "    <tr>\n",
       "      <th>acetaminophen</th>\n",
       "      <td>{179426, 197804}</td>\n",
       "      <td>{197804:Management Of Children And Young Peopl...</td>\n",
       "      <td>{197804:Discussion:52, 197804:Management Of Ch...</td>\n",
       "      <td>[acetaminophen, paracetamol]</td>\n",
       "      <td>http://purl.obolibrary.org/obo/NCIT_C198</td>\n",
       "      <td>A p-aminophenol derivative with analgesic and ...</td>\n",
       "      <td>2</td>\n",
       "      <td>DRUG</td>\n",
       "    </tr>\n",
       "    <tr>\n",
       "      <th>acute lung injury</th>\n",
       "      <td>{179426, 214924, 197804, 184360}</td>\n",
       "      <td>{214924:The Immune Response To Sars-Cov-2 , 18...</td>\n",
       "      <td>{179426:Role Of Ace/Arbs ::: Special Aspects O...</td>\n",
       "      <td>[ali, lung injury]</td>\n",
       "      <td>http://purl.obolibrary.org/obo/NCIT_C155766</td>\n",
       "      <td>A finding of acute onset of bilateral pulmonar...</td>\n",
       "      <td>4</td>\n",
       "      <td>DISEASE</td>\n",
       "    </tr>\n",
       "    <tr>\n",
       "      <th>acute respiratory distress syndrome</th>\n",
       "      <td>{214924, 179426, 129074, 184360, 211125, 197804}</td>\n",
       "      <td>{214924:Introduction, 214924:The Immune Respon...</td>\n",
       "      <td>{214924:Introduction:4, 211125:Introduction:3,...</td>\n",
       "      <td>[acute respiratory distress syndrome, ards]</td>\n",
       "      <td>http://purl.obolibrary.org/obo/NCIT_C3353</td>\n",
       "      <td>Progressive and life-threatening pulmonary dis...</td>\n",
       "      <td>6</td>\n",
       "      <td>DISEASE</td>\n",
       "    </tr>\n",
       "  </tbody>\n",
       "</table>\n",
       "</div>"
      ],
      "text/plain": [
       "                                                                                paper  \\\n",
       "entity                                                                                  \n",
       "4e-bp1                                                                       {214924}   \n",
       "ace inhibitor                                                        {197804, 184360}   \n",
       "acetaminophen                                                        {179426, 197804}   \n",
       "acute lung injury                                    {179426, 214924, 197804, 184360}   \n",
       "acute respiratory distress syndrome  {214924, 179426, 129074, 184360, 211125, 197804}   \n",
       "\n",
       "                                                                               section  \\\n",
       "entity                                                                                   \n",
       "4e-bp1                               {214924:The Interplay Between Covid-19 And Amp...   \n",
       "ace inhibitor                        {184360:Aceis And Arbs , 197804:Management Of ...   \n",
       "acetaminophen                        {197804:Management Of Children And Young Peopl...   \n",
       "acute lung injury                    {214924:The Immune Response To Sars-Cov-2 , 18...   \n",
       "acute respiratory distress syndrome  {214924:Introduction, 214924:The Immune Respon...   \n",
       "\n",
       "                                                                             paragraph  \\\n",
       "entity                                                                                   \n",
       "4e-bp1                               {214924:The Interplay Between Covid-19 And Amp...   \n",
       "ace inhibitor                        {197804:Management Of Children And Young Peopl...   \n",
       "acetaminophen                        {197804:Discussion:52, 197804:Management Of Ch...   \n",
       "acute lung injury                    {179426:Role Of Ace/Arbs ::: Special Aspects O...   \n",
       "acute respiratory distress syndrome  {214924:Introduction:4, 211125:Introduction:3,...   \n",
       "\n",
       "                                                             aggregated_entities  \\\n",
       "entity                                                                             \n",
       "4e-bp1                                                                  [4e-bp1]   \n",
       "ace inhibitor                                                             [acei]   \n",
       "acetaminophen                                       [acetaminophen, paracetamol]   \n",
       "acute lung injury                                             [ali, lung injury]   \n",
       "acute respiratory distress syndrome  [acute respiratory distress syndrome, ards]   \n",
       "\n",
       "                                                                             uid  \\\n",
       "entity                                                                             \n",
       "4e-bp1                                                                       NaN   \n",
       "ace inhibitor                           http://purl.obolibrary.org/obo/NCIT_C247   \n",
       "acetaminophen                           http://purl.obolibrary.org/obo/NCIT_C198   \n",
       "acute lung injury                    http://purl.obolibrary.org/obo/NCIT_C155766   \n",
       "acute respiratory distress syndrome    http://purl.obolibrary.org/obo/NCIT_C3353   \n",
       "\n",
       "                                                                            definition  \\\n",
       "entity                                                                                   \n",
       "4e-bp1                                                                             NaN   \n",
       "ace inhibitor                        Any substance that inhibits angiotensin-conver...   \n",
       "acetaminophen                        A p-aminophenol derivative with analgesic and ...   \n",
       "acute lung injury                    A finding of acute onset of bilateral pulmonar...   \n",
       "acute respiratory distress syndrome  Progressive and life-threatening pulmonary dis...   \n",
       "\n",
       "                                     paper_frequency entity_type  \n",
       "entity                                                            \n",
       "4e-bp1                                             1     PROTEIN  \n",
       "ace inhibitor                                      2        DRUG  \n",
       "acetaminophen                                      2        DRUG  \n",
       "acute lung injury                                  4     DISEASE  \n",
       "acute respiratory distress syndrome                6     DISEASE  "
      ]
     },
     "execution_count": 15,
     "metadata": {},
     "output_type": "execute_result"
    }
   ],
   "source": [
    "curated_occurrence_data = curation_app.get_curated_table()\n",
    "curated_occurrence_data.head(5)"
   ]
  },
  {
   "cell_type": "markdown",
   "metadata": {},
   "source": [
    "We can also retreive current values of the `Keep` field (these entities will be also included in the resulting co-occurrence network)."
   ]
  },
  {
   "cell_type": "code",
   "execution_count": 16,
   "metadata": {},
   "outputs": [
    {
     "data": {
      "text/plain": [
       "['glucose', 'covid-19']"
      ]
     },
     "execution_count": 16,
     "metadata": {},
     "output_type": "execute_result"
    }
   ],
   "source": [
    "curation_app.get_terms_to_include()"
   ]
  },
  {
   "cell_type": "markdown",
   "metadata": {},
   "source": [
    "And the number of top frequent entities to use for network generation."
   ]
  },
  {
   "cell_type": "code",
   "execution_count": 17,
   "metadata": {},
   "outputs": [
    {
     "data": {
      "text/plain": [
       "500"
      ]
     },
     "execution_count": 17,
     "metadata": {},
     "output_type": "execute_result"
    }
   ],
   "source": [
    "curation_app.n_most_frequent"
   ]
  },
  {
   "cell_type": "markdown",
   "metadata": {},
   "source": [
    "### Generating co-occurrence networks\n",
    "\n",
    "In the cell below we generate two co-occurrence networks: for paper- and paragraph-based entity co-occurrences. Along with the network generation the `generate_cooccurrence_analysis` function \n",
    "- computes node centrality metrics (such as degree, RageRank)\n",
    "- computes co-occurrence statistics (such as frequency, pointwise mutual information and normalized pointwise mutual information) and assignes them as weights to the corresponding edges\n",
    "- performs entity community detection based on different co-occurrence statistics\n",
    "- computes mutual-information-based minimum spanning trees."
   ]
  },
  {
   "cell_type": "code",
   "execution_count": 18,
   "metadata": {
    "scrolled": false
   },
   "outputs": [
    {
     "name": "stdout",
     "output_type": "stream",
     "text": [
      "-------------------------------\n",
      "Factor: paper\n",
      "-------------------------------\n",
      "Examining 23005 pairs of terms for co-occurrence...\n",
      "-------------------------------\n",
      "Factor: paragraph\n",
      "-------------------------------\n",
      "Examining 23005 pairs of terms for co-occurrence...\n",
      "Done.\n",
      "CPU times: user 2.5 s, sys: 369 ms, total: 2.86 s\n",
      "Wall time: 12.7 s\n"
     ]
    }
   ],
   "source": [
    "%%time\n",
    "type_data = curated_occurrence_data[[\"entity_type\"]].rename(columns={\"entity_type\": \"type\"})\n",
    "\n",
    "graphs, trees = generate_cooccurrence_analysis(\n",
    "    curated_occurrence_data,  factor_counts,\n",
    "    n_most_frequent=curation_app.n_most_frequent if curation_app.n_most_frequent else 100,\n",
    "    type_data=type_data, \n",
    "    factors=[\"paper\", \"paragraph\"],\n",
    "    keep=curation_app.get_terms_to_include(),\n",
    "    cores=8, backend=\"networkx\")\n",
    "\n",
    "print(\"Done.\")"
   ]
  },
  {
   "cell_type": "markdown",
   "metadata": {},
   "source": [
    "## 4. Network visualization and analysis"
   ]
  },
  {
   "cell_type": "markdown",
   "metadata": {},
   "source": [
    "### Loading the generated graphs into the visualization app"
   ]
  },
  {
   "cell_type": "code",
   "execution_count": 19,
   "metadata": {},
   "outputs": [],
   "source": [
    "visualization_app.set_graph(\n",
    "    \"Paper-based graph\", graphs[\"paper\"],\n",
    "    tree=trees[\"paper\"], default_top_n=100)\n",
    "\n",
    "visualization_app.set_graph(\n",
    "    \"Paragraph-based graph\", graphs[\"paragraph\"],\n",
    "    tree=trees[\"paragraph\"], default_top_n=100)\n",
    "\n",
    "visualization_app.set_current_graph(\"Paragraph-based graph\")"
   ]
  },
  {
   "cell_type": "markdown",
   "metadata": {},
   "source": [
    "### Loading papers' meta-data into the app\n",
    "\n",
    "We now load an additional dataset containing some meta-data on the papers where the entities analyzed in this notebook occur."
   ]
  },
  {
   "cell_type": "code",
   "execution_count": 20,
   "metadata": {
    "scrolled": true
   },
   "outputs": [
    {
     "data": {
      "text/html": [
       "<div>\n",
       "<style scoped>\n",
       "    .dataframe tbody tr th:only-of-type {\n",
       "        vertical-align: middle;\n",
       "    }\n",
       "\n",
       "    .dataframe tbody tr th {\n",
       "        vertical-align: top;\n",
       "    }\n",
       "\n",
       "    .dataframe thead th {\n",
       "        text-align: right;\n",
       "    }\n",
       "</style>\n",
       "<table border=\"1\" class=\"dataframe\">\n",
       "  <thead>\n",
       "    <tr style=\"text-align: right;\">\n",
       "      <th></th>\n",
       "      <th>title</th>\n",
       "      <th>authors</th>\n",
       "      <th>abstract</th>\n",
       "      <th>doi</th>\n",
       "      <th>url</th>\n",
       "      <th>journal</th>\n",
       "      <th>pmc_id</th>\n",
       "      <th>pubmed_id</th>\n",
       "      <th>publish_time</th>\n",
       "    </tr>\n",
       "    <tr>\n",
       "      <th>id</th>\n",
       "      <th></th>\n",
       "      <th></th>\n",
       "      <th></th>\n",
       "      <th></th>\n",
       "      <th></th>\n",
       "      <th></th>\n",
       "      <th></th>\n",
       "      <th></th>\n",
       "      <th></th>\n",
       "    </tr>\n",
       "  </thead>\n",
       "  <tbody>\n",
       "    <tr>\n",
       "      <th>3</th>\n",
       "      <td>Surfactant protein-D and pulmonary host defense</td>\n",
       "      <td>Crouch, Erika C</td>\n",
       "      <td>Surfactant protein-D (SP-D) participates in th...</td>\n",
       "      <td>10.1186/rr19</td>\n",
       "      <td>https://www.ncbi.nlm.nih.gov/pmc/articles/PMC5...</td>\n",
       "      <td>Respir Res</td>\n",
       "      <td>PMC59549</td>\n",
       "      <td>11667972.0</td>\n",
       "      <td>2000-08-25</td>\n",
       "    </tr>\n",
       "    <tr>\n",
       "      <th>56</th>\n",
       "      <td>CLINICAL VIGNETTES</td>\n",
       "      <td>NaN</td>\n",
       "      <td>NaN</td>\n",
       "      <td>10.1046/j.1525-1497.18.s1.20.x</td>\n",
       "      <td>https://www.ncbi.nlm.nih.gov/pmc/articles/PMC1...</td>\n",
       "      <td>J Gen Intern Med</td>\n",
       "      <td>PMC1494988</td>\n",
       "      <td>12753119.0</td>\n",
       "      <td>2003-04-01</td>\n",
       "    </tr>\n",
       "    <tr>\n",
       "      <th>58</th>\n",
       "      <td>Clinical Vignettes</td>\n",
       "      <td>NaN</td>\n",
       "      <td>NaN</td>\n",
       "      <td>10.1046/j.1525-1497.2001.0160s1023.x</td>\n",
       "      <td>https://www.ncbi.nlm.nih.gov/pmc/articles/PMC1...</td>\n",
       "      <td>J Gen Intern Med</td>\n",
       "      <td>PMC1495316</td>\n",
       "      <td>11357836.0</td>\n",
       "      <td>2001-04-01</td>\n",
       "    </tr>\n",
       "  </tbody>\n",
       "</table>\n",
       "</div>"
      ],
      "text/plain": [
       "                                              title          authors  \\\n",
       "id                                                                     \n",
       "3   Surfactant protein-D and pulmonary host defense  Crouch, Erika C   \n",
       "56                               CLINICAL VIGNETTES              NaN   \n",
       "58                               Clinical Vignettes              NaN   \n",
       "\n",
       "                                             abstract  \\\n",
       "id                                                      \n",
       "3   Surfactant protein-D (SP-D) participates in th...   \n",
       "56                                                NaN   \n",
       "58                                                NaN   \n",
       "\n",
       "                                     doi  \\\n",
       "id                                         \n",
       "3                           10.1186/rr19   \n",
       "56        10.1046/j.1525-1497.18.s1.20.x   \n",
       "58  10.1046/j.1525-1497.2001.0160s1023.x   \n",
       "\n",
       "                                                  url           journal  \\\n",
       "id                                                                        \n",
       "3   https://www.ncbi.nlm.nih.gov/pmc/articles/PMC5...        Respir Res   \n",
       "56  https://www.ncbi.nlm.nih.gov/pmc/articles/PMC1...  J Gen Intern Med   \n",
       "58  https://www.ncbi.nlm.nih.gov/pmc/articles/PMC1...  J Gen Intern Med   \n",
       "\n",
       "        pmc_id   pubmed_id publish_time  \n",
       "id                                       \n",
       "3     PMC59549  11667972.0   2000-08-25  \n",
       "56  PMC1494988  12753119.0   2003-04-01  \n",
       "58  PMC1495316  11357836.0   2001-04-01  "
      ]
     },
     "execution_count": 20,
     "metadata": {},
     "output_type": "execute_result"
    }
   ],
   "source": [
    "paper_data = pd.read_csv(\"../data/Glucose_risk_3000_paper_meta_data.csv\")\n",
    "paper_data = paper_data.set_index(\"id\")\n",
    "paper_data.head(3)"
   ]
  },
  {
   "cell_type": "markdown",
   "metadata": {},
   "source": [
    "We pass a callback for the lookup of paper meta-data to the visualization app using the `set_list_papers_callback` method."
   ]
  },
  {
   "cell_type": "code",
   "execution_count": 21,
   "metadata": {},
   "outputs": [],
   "source": [
    "def list_papers(paper_data, selected_papers, limit=200):\n",
    "    selected_paper_data = paper_data.loc[[int(p) for p in selected_papers]].head(200)\n",
    "    return selected_paper_data.to_dict(\"records\")\n",
    "\n",
    "visualization_app.set_list_papers_callback(lambda x: list_papers(paper_data, x))"
   ]
  },
  {
   "cell_type": "markdown",
   "metadata": {},
   "source": [
    "The ontology linking process described above is noisy, therefore, we would like to keep a possibility of accessing, the raw entities that were linked to particular ontology concepts. For this we define the function `get_aggregated_entities` that retreives such raw entities and we pass it to the visualization app using the `set_aggregated_entities_callback` method."
   ]
  },
  {
   "cell_type": "code",
   "execution_count": 22,
   "metadata": {},
   "outputs": [],
   "source": [
    "def top_n(data_dict, n, smallest=False):\n",
    "    \"\"\"Return top `n` keys of the input dictionary by their value.\"\"\"\n",
    "    df = pd.DataFrame(dict(data_dict).items(), columns=[\"id\", \"value\"])\n",
    "    if smallest:\n",
    "        df = df.nsmallest(n, columns=[\"value\"])\n",
    "    else:\n",
    "        df = df.nlargest(n, columns=[\"value\"])\n",
    "    return(list(df[\"id\"]))\n",
    "\n",
    "\n",
    "def get_aggregated_entities(entity, n):\n",
    "    if \"aggregated_entities\" in curated_occurrence_data.columns:\n",
    "        aggregated = curated_occurrence_data.loc[entity][\"aggregated_entities\"]\n",
    "    else:\n",
    "        aggregated = [entity]\n",
    "    if curation_input_table is not None:\n",
    "        df = curation_input_table.set_index(\"entity\")\n",
    "        if entity in curated_occurrence_data.index:\n",
    "            freqs = df.loc[aggregated][\"paper_frequency\"].to_dict()\n",
    "        else:\n",
    "            return {}\n",
    "    else:\n",
    "        df = data.copy()\n",
    "        df[\"entity\"] = data[\"entity\"].apply(lambda x: x.lower())\n",
    "        freqs = df[df[\"entity\"].apply(lambda x: x.lower() in aggregated)].groupby(\"entity\").aggregate(\n",
    "            lambda x: len(x))[\"entity_type\"].to_dict()\n",
    "    if len(freqs) == 0:\n",
    "        return {}\n",
    "    return {e: freqs[e] for e in top_n(freqs, n)}\n",
    "\n",
    "visualization_app.set_aggregated_entities_callback(\n",
    "    lambda x: get_aggregated_entities(x, 10))"
   ]
  },
  {
   "cell_type": "markdown",
   "metadata": {},
   "source": [
    "Finally, we create a dictionary `definitions` that will serve the visualization app as the lookup table for accessing the definitions of different ontology concepts."
   ]
  },
  {
   "cell_type": "code",
   "execution_count": 23,
   "metadata": {},
   "outputs": [],
   "source": [
    "definitions = ontology_linking[[\"concept\", \"definition\"]].groupby(\n",
    "    \"concept\").aggregate(lambda x: list(x)[0]).to_dict()[\"definition\"]\n",
    "visualization_app.set_entity_definitons(definitions)"
   ]
  },
  {
   "cell_type": "markdown",
   "metadata": {},
   "source": [
    "### Launching the visualization app"
   ]
  },
  {
   "cell_type": "markdown",
   "metadata": {},
   "source": [
    "As before, the interactive graph visualization app can be launched in two modes: inline and external. Here we recommend the external mode for better user experience."
   ]
  },
  {
   "cell_type": "code",
   "execution_count": 24,
   "metadata": {
    "scrolled": false
   },
   "outputs": [
    {
     "name": "stdout",
     "output_type": "stream",
     "text": [
      "Dash app running on http://127.0.0.1:8082/\n"
     ]
    }
   ],
   "source": [
    "visualization_app.run(port=8082, mode=\"external\")"
   ]
  },
  {
   "cell_type": "code",
   "execution_count": 25,
   "metadata": {},
   "outputs": [
    {
     "data": {
      "text/plain": [
       "{'paper': <bluegraph.core.io.PandasPGFrame at 0x7fa42a43bb00>,\n",
       " 'paragraph': <bluegraph.core.io.PandasPGFrame at 0x7fa43a69b5f8>}"
      ]
     },
     "execution_count": 25,
     "metadata": {},
     "output_type": "execute_result"
    }
   ],
   "source": [
    "graphs"
   ]
  },
  {
   "cell_type": "code",
   "execution_count": 26,
   "metadata": {},
   "outputs": [],
   "source": [
    "from bluegraph.backends.networkx import pgframe_to_networkx, NXPathFinder"
   ]
  },
  {
   "cell_type": "code",
   "execution_count": 27,
   "metadata": {},
   "outputs": [],
   "source": [
    "from bluegraph.core.analyse.paths import graph_elements_from_paths"
   ]
  },
  {
   "cell_type": "code",
   "execution_count": 28,
   "metadata": {},
   "outputs": [],
   "source": [
    "f = NXPathFinder(graphs[\"paper\"])"
   ]
  },
  {
   "cell_type": "code",
   "execution_count": 29,
   "metadata": {},
   "outputs": [
    {
     "data": {
      "text/plain": [
       "NodeView(('acetaminophen', 'acute lung injury', 'acute respiratory distress syndrome', 'adipose tissue', 'angioedema', 'angiotensin ii receptor antagonist', 'angiotensin-2', 'angiotensin-converting enzyme', 'angiotensin-converting enzyme 2', 'anxiety', 'basal', 'blood', 'bradykinin', 'caax prenyl protease 2', 'cardiovascular disorder', 'cardiovascular system', 'chemokine', 'chest pain', 'child', 'chloroquine', 'chronic disease', 'chronic kidney disease', 'comorbidity', 'confounding factors', 'coronaviridae', 'coronavirus', 'cough', 'covid-19', 'death', 'degradation', 'diabetes mellitus', 'diabetic ketoacidosis', 'diarrhea, ctcae', 'dipeptidyl peptidase 4', 'dpp-4i', 'dpp4i', 'fever', 'glucose', 'glucose metabolism disorder', 'glyburide', 'glycosylated hemoglobin measurement', 'growth factor', 'h1n1', 'hcp', 'headache', 'heart', 'hmg-coa reductase inhibitor', 'humoral immunity', 'hyperglycemia', 'hypertension', 'ibuprofen', 'infectious disorder', 'inflammation', 'influenza', 'insulin', 'insulin infusion', 'insulin resistance', 'islet of langerhans', 'kidney', 'liver', 'lower respiratory tract infection', 'lung', 'metformin', 'middle east respiratory syndrome', 'middle east respiratory syndrome coronavirus', 'mouse', 'multi-organ dysfunction', 'muscle', 'myalgia', 'nephropathy', 'oral cavity', 'oxygen', 'person', 'pneumonia', 'pulmonary', 'receptor binding', 'sars coronavirus', 'sars-cov-2', 'saxagliptin', 'septicemia', 'severe acute respiratory syndrome', 'shortness of breath visual analogue scale', 'sitagliptin', 'sulfonylurea antidiabetic agent', 'survival', 't-lymphocyte', 'thrombophilia', 'transmembrane protein', 'tzd', 'vildagliptin', 'viral', 'viral entry', 'virus', 'vomiting', '4e-bp1', 'adenosine', 'amphiphysin', 'angiotensin-1', 'animal', 'antibody responses', 'apoptosis', 'blood vessel', 'c-c motif chemokine 1', 'cd44 antigen', 'cellular secretion', 'cerebrovascular', 'cytokine', 'dna replication', 'dyspnea', 'fatigue', 'furin', 'glomerulus', 'host cell', 'human', 'human kidney organoids', 'hypoxia', 'il-6r', 'immune response process', 'interleukin', 'interleukin 1 beta measurement', 'interleukin-19', 'interleukin-6', 'interleukin-8', 'lymphocyte', 'lymphopenia', 'mellitus', 'mtorc1', 'mtorc2', 'myocardium', 'neoplasm', 'neutrophil', 'obesity', 'organ', 'plasma', 'plasmid', 'proliferation', 'pulmonary fibrosis', 'rbd', 'recombinant interleukin-3', 'recombinant soluble t4', 'renal', 'respiratory failure', 'serine/threonine-protein kinase mtor', 'serum', 'sirolimus', 'therapeutic corticosteroid', 'tissue', 'tumor necrosis factor', 'vaccine', 'vascular', 'viral infection', 'ada', 'alogliptin', 'ang ii/ang-(1', 'anti-dpp4', 'arrhythmia', 'artery', 'at1 receptors', 'atherosclerosis', 'brain natriuretic peptide measurement', 'bronchoconstriction', 'c-reactive protein', 'coagulation disorder', 'cs-f', 'cv disease', 'cv diseases', 'd-dimer measurement', 'decoy factor', 'endothelial dysfunction', 'endothelium', 'extracellular matrix', 'extracellular matrix protein', 'gip', 'heart failure', 'hiv entry inhibitor', 'homeostatic process', 'human dpp4', 'immune cell', 'inflammatory', 'leucopenia', 'linagliptin', 'm protein', 'macrophage', 'migration', 'molecule', 'myocarditis', 'pulmonary arterial hypertension', 'pulmonary hypertension', 'raas', 'rat', 'relationship', 'respiratory system', 'sdf-1alpha', 'smc', 'tumor necrosis factor receptor superfamily member 10c', 'tumor-associated vasculature', 'vaccine-sensitized draining lymph node cells', 'vero cells', 'ace inhibitor', 'corticosteroid', 'fpg', 'high sensitivity c-reactive protein measurement', 'influenza a virus', 'lactate dehydrogenase', 'leukopenia', 'methylprednisolone', 'serum ferritin', 'steroid compound', 'troponin t, cardiac muscle', 'bals r', 'dpp4 2', 'human immunodeficiency virus', 'janus bifrons', 'millimole per liter', 'prognosis'))"
      ]
     },
     "execution_count": 29,
     "metadata": {},
     "output_type": "execute_result"
    }
   ],
   "source": [
    "f.graph.nodes()"
   ]
  },
  {
   "cell_type": "code",
   "execution_count": 30,
   "metadata": {},
   "outputs": [],
   "source": [
    "paths = f.n_shortest_paths(\"glucose\", \"inflammation\", 10)"
   ]
  },
  {
   "cell_type": "code",
   "execution_count": null,
   "metadata": {},
   "outputs": [],
   "source": []
  },
  {
   "cell_type": "code",
   "execution_count": 47,
   "metadata": {},
   "outputs": [],
   "source": [
    "def get_subgraph(graph, nodes_to_exclude=None, edges_to_exclude=None):\n",
    "    \"\"\"Produce a graph induced by the input nodes.\"\"\"\n",
    "    if nodes_to_exclude is None:\n",
    "        nodes_to_exclude = []\n",
    "    nodes_to_include = [\n",
    "        n for n in graph.nodes()\n",
    "        if n not in nodes_to_exclude\n",
    "    ]\n",
    "\n",
    "    subgraph = graph.subgraph(nodes_to_include)\n",
    "\n",
    "    if edges_to_exclude is not None:\n",
    "        print(edges_to_exclude)\n",
    "        subgraph = subgraph.edge_subgraph(\n",
    "            [e for e in subgraph.edges() if e not in edges_to_exclude]\n",
    "        )\n",
    "\n",
    "    return subgraph"
   ]
  },
  {
   "cell_type": "code",
   "execution_count": 50,
   "metadata": {},
   "outputs": [],
   "source": [
    "nx_graph.subgraph?"
   ]
  },
  {
   "cell_type": "code",
   "execution_count": 67,
   "metadata": {},
   "outputs": [],
   "source": [
    "def sugraph_from_paths(graph, paths):\n",
    "    nodes, edges = graph_elements_from_paths(paths)\n",
    "    subgraph = graph.subgraph(nodes).edge_subgraph(edges)\n",
    "    print(edges)\n",
    "    return subgraph"
   ]
  },
  {
   "cell_type": "code",
   "execution_count": 68,
   "metadata": {
    "scrolled": true
   },
   "outputs": [
    {
     "name": "stdout",
     "output_type": "stream",
     "text": [
      "{('glucose', 'glycosylated hemoglobin measurement'), ('glycosylated hemoglobin measurement', 'inflammation'), ('glucose', 'growth factor'), ('headache', 'inflammation'), ('hcp', 'inflammation'), ('glucose', 'glyburide'), ('h1n1', 'inflammation'), ('glucose', 'h1n1'), ('glyburide', 'inflammation'), ('growth factor', 'inflammation'), ('glucose', 'headache'), ('glucose', 'heart failure'), ('glucose', 'hcp'), ('heart failure', 'inflammation'), ('glucose', 'inflammation'), ('glucose', 'heart'), ('heart', 'inflammation'), ('glucose metabolism disorder', 'inflammation'), ('glucose', 'glucose metabolism disorder')}\n"
     ]
    }
   ],
   "source": [
    "path_graph = sugraph_from_paths(nx_graph, paths)"
   ]
  },
  {
   "cell_type": "code",
   "execution_count": 69,
   "metadata": {},
   "outputs": [
    {
     "data": {
      "text/plain": [
       "OutEdgeView([('growth factor', 'inflammation'), ('hcp', 'inflammation'), ('heart failure', 'inflammation'), ('heart', 'inflammation'), ('glyburide', 'inflammation'), ('h1n1', 'inflammation'), ('headache', 'inflammation'), ('glycosylated hemoglobin measurement', 'inflammation'), ('glucose', 'glucose metabolism disorder'), ('glucose', 'glyburide'), ('glucose', 'glycosylated hemoglobin measurement'), ('glucose', 'growth factor'), ('glucose', 'h1n1'), ('glucose', 'hcp'), ('glucose', 'headache'), ('glucose', 'heart'), ('glucose', 'heart failure'), ('glucose', 'inflammation'), ('glucose metabolism disorder', 'inflammation')])"
      ]
     },
     "execution_count": 69,
     "metadata": {},
     "output_type": "execute_result"
    }
   ],
   "source": [
    "path_graph.edges()"
   ]
  },
  {
   "cell_type": "code",
   "execution_count": null,
   "metadata": {},
   "outputs": [],
   "source": []
  }
 ],
 "metadata": {
  "kernelspec": {
   "display_name": "bluegraph",
   "language": "python",
   "name": "bluegraph"
  },
  "language_info": {
   "codemirror_mode": {
    "name": "ipython",
    "version": 3
   },
   "file_extension": ".py",
   "mimetype": "text/x-python",
   "name": "python",
   "nbconvert_exporter": "python",
   "pygments_lexer": "ipython3",
   "version": "3.6.12"
  }
 },
 "nbformat": 4,
 "nbformat_minor": 4
}
