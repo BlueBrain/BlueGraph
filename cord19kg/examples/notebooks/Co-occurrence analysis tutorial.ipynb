{
 "cells": [
  {
   "cell_type": "markdown",
   "metadata": {},
   "source": [
    "# Co-occurrence network analysis tutorial\n",
    "\n",
    "In this notebook we will illustrate how interactive exploration and analysis of the [CORD-19](https://www.kaggle.com/allen-institute-for-ai/CORD-19-research-challenge) dataset can be performed using the `cord19kg` package. The exploration and analysis techniques presented here focus on named entities and their co-occurrence in the scientific articles constituting the dataset.\n",
    "\n",
    "The input data for this notebook contains the named entities extracted from a small selection of 20 articles representing 10 different entity types (i.e. proteins, chemicals, drugs, diseases, condtions, organs, organisms, pathways, cell types, cell compartments). The article selection corresponds to 20 most relevant articles to the query _\"Glucose is a risk factor of COVID-19\"_ obtained using the article search model [ref to blue brain search](). The entity extraction was performed using the Named Entity Recognition (NER) techniques also included in [ref to blue brain search]().\n",
    "\n",
    "The `cord19kg` package provides a set of tools for interactive literature exploration through the named entity co-occurrence analysis consisting of the following steps:\n",
    "\n",
    "1. __Data preparation__ step converts raw mentions into aggregated entity occurrence statistics.\n",
    "2. __Data curation__ step allows the user to manage extracted entities: modify, filter them and link to the ontology.\n",
    "3. __Network generation__ step allows creating entity co-occurrence networks based on paper-, section- and paragraph-level co-occurrence relations between entities. These entity relations are quantified using mutual-information-based scores (pointwise mutual information and its normalized version).\n",
    "4. __Network visualization and analysis__ step allows the user to perform interactive network visualization, edit network elements and perform its analysis (spanning tree, mutual-information based shortest paths between entities, etc)."
   ]
  },
  {
   "cell_type": "code",
   "execution_count": 1,
   "metadata": {},
   "outputs": [],
   "source": [
    "import json\n",
    "import zipfile\n",
    "\n",
    "import pandas as pd\n",
    "\n",
    "import dash_cytoscape as cyto\n",
    "\n",
    "from cord19kg.utils import (generate_curation_table,\n",
    "                            link_ontology,\n",
    "                            generate_cooccurrence_analysis)\n",
    "from cord19kg.apps.curation_app import curation_app\n",
    "# from cord19kg.apps.visualization_app import visualization_app"
   ]
  },
  {
   "cell_type": "markdown",
   "metadata": {},
   "source": [
    "The cell below loads additional graph layouts used in the graph visualization app"
   ]
  },
  {
   "cell_type": "code",
   "execution_count": 2,
   "metadata": {},
   "outputs": [],
   "source": [
    "cyto.load_extra_layouts()"
   ]
  },
  {
   "cell_type": "markdown",
   "metadata": {},
   "source": [
    "## 1. Data preparation\n",
    "\n",
    "The input dataset contains occurrences of different terms in paragraphs of scientific articles from the CORD-19 dataset previously extracted by means of a NER model."
   ]
  },
  {
   "cell_type": "code",
   "execution_count": 3,
   "metadata": {},
   "outputs": [],
   "source": [
    "data = pd.read_csv(\"../data/Glucose_risk_20_papers.csv\")"
   ]
  },
  {
   "cell_type": "code",
   "execution_count": 4,
   "metadata": {},
   "outputs": [
    {
     "data": {
      "text/html": [
       "<div>\n",
       "<style scoped>\n",
       "    .dataframe tbody tr th:only-of-type {\n",
       "        vertical-align: middle;\n",
       "    }\n",
       "\n",
       "    .dataframe tbody tr th {\n",
       "        vertical-align: top;\n",
       "    }\n",
       "\n",
       "    .dataframe thead th {\n",
       "        text-align: right;\n",
       "    }\n",
       "</style>\n",
       "<table border=\"1\" class=\"dataframe\">\n",
       "  <thead>\n",
       "    <tr style=\"text-align: right;\">\n",
       "      <th></th>\n",
       "      <th>entity</th>\n",
       "      <th>entity_type</th>\n",
       "      <th>occurrence</th>\n",
       "    </tr>\n",
       "  </thead>\n",
       "  <tbody>\n",
       "    <tr>\n",
       "      <th>3150</th>\n",
       "      <td>human</td>\n",
       "      <td>ORGANISM</td>\n",
       "      <td>214924:Angiotensin-Converting Enzyme 2 Express...</td>\n",
       "    </tr>\n",
       "    <tr>\n",
       "      <th>1255</th>\n",
       "      <td>ADA</td>\n",
       "      <td>CHEMICAL</td>\n",
       "      <td>184360:Cardiovascular Effects Of Sdpp4 Upregul...</td>\n",
       "    </tr>\n",
       "    <tr>\n",
       "      <th>3420</th>\n",
       "      <td>Nile Virus</td>\n",
       "      <td>ORGANISM</td>\n",
       "      <td>214924:The Interplay Between Covid-19 And Ampk...</td>\n",
       "    </tr>\n",
       "    <tr>\n",
       "      <th>214</th>\n",
       "      <td>COVID-19</td>\n",
       "      <td>DISEASE</td>\n",
       "      <td>151932:Abstract:1</td>\n",
       "    </tr>\n",
       "    <tr>\n",
       "      <th>547</th>\n",
       "      <td>pulmonary</td>\n",
       "      <td>ORGAN</td>\n",
       "      <td>179426:Role Of Antidiabetic Drugs In Current C...</td>\n",
       "    </tr>\n",
       "  </tbody>\n",
       "</table>\n",
       "</div>"
      ],
      "text/plain": [
       "          entity entity_type  \\\n",
       "3150       human    ORGANISM   \n",
       "1255         ADA    CHEMICAL   \n",
       "3420  Nile Virus    ORGANISM   \n",
       "214     COVID-19     DISEASE   \n",
       "547    pulmonary       ORGAN   \n",
       "\n",
       "                                             occurrence  \n",
       "3150  214924:Angiotensin-Converting Enzyme 2 Express...  \n",
       "1255  184360:Cardiovascular Effects Of Sdpp4 Upregul...  \n",
       "3420  214924:The Interplay Between Covid-19 And Ampk...  \n",
       "214                                   151932:Abstract:1  \n",
       "547   179426:Role Of Antidiabetic Drugs In Current C...  "
      ]
     },
     "execution_count": 4,
     "metadata": {},
     "output_type": "execute_result"
    }
   ],
   "source": [
    "data.sample(5)"
   ]
  },
  {
   "cell_type": "markdown",
   "metadata": {},
   "source": [
    "On the first preparation step, we group and aggregate the input data by unique entities."
   ]
  },
  {
   "cell_type": "code",
   "execution_count": 5,
   "metadata": {},
   "outputs": [
    {
     "name": "stdout",
     "output_type": "stream",
     "text": [
      "Prepating curatation data...\n",
      "Cleaning up the entities...\n",
      "Aggregating occurrences of entities....\n",
      "Done.\n",
      "CPU times: user 289 ms, sys: 5.66 ms, total: 295 ms\n",
      "Wall time: 294 ms\n"
     ]
    }
   ],
   "source": [
    "%%time\n",
    "print(\"Prepating curatation data...\")\n",
    "curation_input_table, factor_counts = generate_curation_table(data)\n",
    "print(\"Done.\")"
   ]
  },
  {
   "cell_type": "markdown",
   "metadata": {},
   "source": [
    "The resulting dataframe contains a row per unique named entity together with the following occurrence data: \n",
    "- sets of unique paragraphs, papers, sections, where the corresponding entity is mentioned (`paper`, `section`, `paragraph` columns);\n",
    "- number of total entity occurrences (the `raw_frequency` column);\n",
    "- number of unique papers where it occurs (the `paper_frequency` column);\n",
    "- unique entity types assigned by the NER model (the `entity_type` column, multiple types are possible).\n",
    "- raw entity types assigned by the NER model with the multiplicity of thier occurrence (the `raw_entity_types` column).\n"
   ]
  },
  {
   "cell_type": "code",
   "execution_count": 6,
   "metadata": {},
   "outputs": [
    {
     "data": {
      "text/html": [
       "<div>\n",
       "<style scoped>\n",
       "    .dataframe tbody tr th:only-of-type {\n",
       "        vertical-align: middle;\n",
       "    }\n",
       "\n",
       "    .dataframe tbody tr th {\n",
       "        vertical-align: top;\n",
       "    }\n",
       "\n",
       "    .dataframe thead th {\n",
       "        text-align: right;\n",
       "    }\n",
       "</style>\n",
       "<table border=\"1\" class=\"dataframe\">\n",
       "  <thead>\n",
       "    <tr style=\"text-align: right;\">\n",
       "      <th></th>\n",
       "      <th>entity</th>\n",
       "      <th>entity_type</th>\n",
       "      <th>paragraph</th>\n",
       "      <th>paper</th>\n",
       "      <th>section</th>\n",
       "      <th>paper_frequency</th>\n",
       "      <th>raw_entity_types</th>\n",
       "      <th>raw_frequency</th>\n",
       "    </tr>\n",
       "  </thead>\n",
       "  <tbody>\n",
       "    <tr>\n",
       "      <th>121</th>\n",
       "      <td>human</td>\n",
       "      <td>ORGANISM</td>\n",
       "      <td>[184360:Pathophysiology Of Covid-19: Pulmonar ...</td>\n",
       "      <td>[211373, 211125, 214924, 184360]</td>\n",
       "      <td>[184360:Sdpp4 As Soluble Decoy Factor , 184360...</td>\n",
       "      <td>4</td>\n",
       "      <td>[ORGANISM, ORGANISM, ORGANISM, ORGANISM, ORGAN...</td>\n",
       "      <td>27</td>\n",
       "    </tr>\n",
       "    <tr>\n",
       "      <th>54</th>\n",
       "      <td>chest pain</td>\n",
       "      <td>DISEASE</td>\n",
       "      <td>[214924:Introduction:6, 179426:Measures For Go...</td>\n",
       "      <td>[179426, 214924]</td>\n",
       "      <td>[214924:Introduction, 179426:Measures For Good...</td>\n",
       "      <td>2</td>\n",
       "      <td>[DISEASE, DISEASE]</td>\n",
       "      <td>2</td>\n",
       "    </tr>\n",
       "    <tr>\n",
       "      <th>206</th>\n",
       "      <td>pneumonia</td>\n",
       "      <td>DISEASE</td>\n",
       "      <td>[160564:Introduction:3, 214728:Cap Community-A...</td>\n",
       "      <td>[214728, 214924, 114119, 197804, 179426, 18436...</td>\n",
       "      <td>[214924:Introduction, 114119:Abstract, 214728:...</td>\n",
       "      <td>8</td>\n",
       "      <td>[DISEASE, DISEASE, DISEASE, DISEASE, DISEASE, ...</td>\n",
       "      <td>17</td>\n",
       "    </tr>\n",
       "    <tr>\n",
       "      <th>208</th>\n",
       "      <td>prognosis</td>\n",
       "      <td>DISEASE</td>\n",
       "      <td>[35198:Title:0, 104188:Title:0]</td>\n",
       "      <td>[35198, 104188]</td>\n",
       "      <td>[104188:Title, 35198:Title]</td>\n",
       "      <td>2</td>\n",
       "      <td>[DISEASE, DISEASE]</td>\n",
       "      <td>2</td>\n",
       "    </tr>\n",
       "    <tr>\n",
       "      <th>104</th>\n",
       "      <td>gliptins</td>\n",
       "      <td>PROTEIN</td>\n",
       "      <td>[184360:Gliptins ::: Therapeutic Potential Of ...</td>\n",
       "      <td>[184360]</td>\n",
       "      <td>[184360:Gliptins , 184360:Caption, 184360:Conc...</td>\n",
       "      <td>1</td>\n",
       "      <td>[PROTEIN, PROTEIN, PROTEIN, PROTEIN, PROTEIN, ...</td>\n",
       "      <td>17</td>\n",
       "    </tr>\n",
       "  </tbody>\n",
       "</table>\n",
       "</div>"
      ],
      "text/plain": [
       "         entity entity_type  \\\n",
       "121       human    ORGANISM   \n",
       "54   chest pain     DISEASE   \n",
       "206   pneumonia     DISEASE   \n",
       "208   prognosis     DISEASE   \n",
       "104    gliptins     PROTEIN   \n",
       "\n",
       "                                             paragraph  \\\n",
       "121  [184360:Pathophysiology Of Covid-19: Pulmonar ...   \n",
       "54   [214924:Introduction:6, 179426:Measures For Go...   \n",
       "206  [160564:Introduction:3, 214728:Cap Community-A...   \n",
       "208                    [35198:Title:0, 104188:Title:0]   \n",
       "104  [184360:Gliptins ::: Therapeutic Potential Of ...   \n",
       "\n",
       "                                                 paper  \\\n",
       "121                   [211373, 211125, 214924, 184360]   \n",
       "54                                    [179426, 214924]   \n",
       "206  [214728, 214924, 114119, 197804, 179426, 18436...   \n",
       "208                                    [35198, 104188]   \n",
       "104                                           [184360]   \n",
       "\n",
       "                                               section  paper_frequency  \\\n",
       "121  [184360:Sdpp4 As Soluble Decoy Factor , 184360...                4   \n",
       "54   [214924:Introduction, 179426:Measures For Good...                2   \n",
       "206  [214924:Introduction, 114119:Abstract, 214728:...                8   \n",
       "208                        [104188:Title, 35198:Title]                2   \n",
       "104  [184360:Gliptins , 184360:Caption, 184360:Conc...                1   \n",
       "\n",
       "                                      raw_entity_types  raw_frequency  \n",
       "121  [ORGANISM, ORGANISM, ORGANISM, ORGANISM, ORGAN...             27  \n",
       "54                                  [DISEASE, DISEASE]              2  \n",
       "206  [DISEASE, DISEASE, DISEASE, DISEASE, DISEASE, ...             17  \n",
       "208                                 [DISEASE, DISEASE]              2  \n",
       "104  [PROTEIN, PROTEIN, PROTEIN, PROTEIN, PROTEIN, ...             17  "
      ]
     },
     "execution_count": 6,
     "metadata": {},
     "output_type": "execute_result"
    }
   ],
   "source": [
    "curation_input_table.sample(5)"
   ]
  },
  {
   "cell_type": "markdown",
   "metadata": {},
   "source": [
    "The second output of the data preparation step outputs the counts of different instances of occurrence factors: number of distinct papers/sections/paragraphs in the input corpus."
   ]
  },
  {
   "cell_type": "code",
   "execution_count": 7,
   "metadata": {},
   "outputs": [
    {
     "data": {
      "text/plain": [
       "{'paper': 20, 'section': 108, 'paragraph': 286}"
      ]
     },
     "execution_count": 7,
     "metadata": {},
     "output_type": "execute_result"
    }
   ],
   "source": [
    "factor_counts"
   ]
  },
  {
   "cell_type": "markdown",
   "metadata": {},
   "source": [
    "## 2. Data curation"
   ]
  },
  {
   "cell_type": "markdown",
   "metadata": {},
   "source": [
    "### Loading the NCIT ontology linking data"
   ]
  },
  {
   "cell_type": "markdown",
   "metadata": {},
   "source": [
    "To group synonymical entities in the previously extracted table (e.g. `ace2`, `ace-2`, `angiotensin-converting enzyme 2`), as well as assign additional semantics to these entities (e.g. human-readable definition, taxonomy, etc), we peform further _linking_ of the entities to the terms from the [NCIT ontology](https://ncithesaurus.nci.nih.gov/ncitbrowser/).\n",
    "\n",
    "To be able to perform such ontology linking, we load some additional (pre-computed using ML-based linking models) data."
   ]
  },
  {
   "cell_type": "code",
   "execution_count": 8,
   "metadata": {},
   "outputs": [
    {
     "name": "stdout",
     "output_type": "stream",
     "text": [
      "Loading the ontology linking data...\n",
      "\tDecompressing the input data file...\n",
      "\tLoading the linking dataframe in memory...\n",
      "\tLoading ontology type mapping...\n",
      "Done.\n",
      "CPU times: user 1.02 s, sys: 164 ms, total: 1.19 s\n",
      "Wall time: 1.2 s\n"
     ]
    }
   ],
   "source": [
    "%%time\n",
    "print(\"Loading the ontology linking data...\")\n",
    "    \n",
    "print(\"\\tDecompressing the input data file...\")\n",
    "with zipfile.ZipFile(\"../data/NCIT_ontology_linking_3000_papers.csv.zip\", 'r') as zip_ref:\n",
    "    zip_ref.extractall(\"../data/\")\n",
    "\n",
    "print(\"\\tLoading the linking dataframe in memory...\")\n",
    "ontology_linking = pd.read_csv(\"../data/NCIT_ontology_linking_3000_papers.csv\")\n",
    "\n",
    "print(\"\\tLoading ontology type mapping...\")\n",
    "with open(\"../data/NCIT_type_mapping.json\", \"rb\") as f:\n",
    "    type_mapping = json.load(f)\n",
    "print(\"Done.\")"
   ]
  },
  {
   "cell_type": "markdown",
   "metadata": {},
   "source": [
    "The ontology linking table contains the following columns:\n",
    "- `mention` entity mentioned in the text\n",
    "- `concept` ontology concept linked to the entity mention\n",
    "- `uid` unique identifier of the ontology concept\n",
    "- `definition` definition of the concept\n",
    "- `taxonomy` taxonomy of semantic types associated with the concept"
   ]
  },
  {
   "cell_type": "code",
   "execution_count": 9,
   "metadata": {
    "scrolled": true
   },
   "outputs": [
    {
     "data": {
      "text/html": [
       "<div>\n",
       "<style scoped>\n",
       "    .dataframe tbody tr th:only-of-type {\n",
       "        vertical-align: middle;\n",
       "    }\n",
       "\n",
       "    .dataframe tbody tr th {\n",
       "        vertical-align: top;\n",
       "    }\n",
       "\n",
       "    .dataframe thead th {\n",
       "        text-align: right;\n",
       "    }\n",
       "</style>\n",
       "<table border=\"1\" class=\"dataframe\">\n",
       "  <thead>\n",
       "    <tr style=\"text-align: right;\">\n",
       "      <th></th>\n",
       "      <th>mention</th>\n",
       "      <th>concept</th>\n",
       "      <th>uid</th>\n",
       "      <th>definition</th>\n",
       "      <th>taxonomy</th>\n",
       "    </tr>\n",
       "  </thead>\n",
       "  <tbody>\n",
       "    <tr>\n",
       "      <th>27549</th>\n",
       "      <td>apical bone</td>\n",
       "      <td>apical</td>\n",
       "      <td>http://purl.obolibrary.org/obo/NCIT_C25423</td>\n",
       "      <td>Relating to or located at the tip (an apex).</td>\n",
       "      <td>[('http://purl.obolibrary.org/obo/NCIT_C13442'...</td>\n",
       "    </tr>\n",
       "    <tr>\n",
       "      <th>133975</th>\n",
       "      <td>palpationsystemic</td>\n",
       "      <td>palpation</td>\n",
       "      <td>http://purl.obolibrary.org/obo/NCIT_C16950</td>\n",
       "      <td>A method of feeling with the hands during a ph...</td>\n",
       "      <td>[('http://purl.obolibrary.org/obo/NCIT_C20989'...</td>\n",
       "    </tr>\n",
       "    <tr>\n",
       "      <th>47298</th>\n",
       "      <td>brucella-associated glomerulonephritis</td>\n",
       "      <td>glomerulonephritis</td>\n",
       "      <td>http://purl.obolibrary.org/obo/NCIT_C26784</td>\n",
       "      <td>A renal disorder characterized by damage in th...</td>\n",
       "      <td>[('http://purl.obolibrary.org/obo/NCIT_C26833'...</td>\n",
       "    </tr>\n",
       "    <tr>\n",
       "      <th>81165</th>\n",
       "      <td>antineoplastic</td>\n",
       "      <td>antineoplastic agent</td>\n",
       "      <td>http://purl.obolibrary.org/obo/NCIT_C274</td>\n",
       "      <td>A substance that inhibits the maturation, grow...</td>\n",
       "      <td>[('http://purl.obolibrary.org/obo/NCIT_C1909',...</td>\n",
       "    </tr>\n",
       "    <tr>\n",
       "      <th>34590</th>\n",
       "      <td>itch</td>\n",
       "      <td>pruritus</td>\n",
       "      <td>http://purl.obolibrary.org/obo/NCIT_C3344</td>\n",
       "      <td>An intense itching sensation.</td>\n",
       "      <td>[('http://purl.obolibrary.org/obo/NCIT_C5036',...</td>\n",
       "    </tr>\n",
       "  </tbody>\n",
       "</table>\n",
       "</div>"
      ],
      "text/plain": [
       "                                       mention               concept  \\\n",
       "27549                              apical bone                apical   \n",
       "133975                       palpationsystemic             palpation   \n",
       "47298   brucella-associated glomerulonephritis    glomerulonephritis   \n",
       "81165                           antineoplastic  antineoplastic agent   \n",
       "34590                                     itch              pruritus   \n",
       "\n",
       "                                               uid  \\\n",
       "27549   http://purl.obolibrary.org/obo/NCIT_C25423   \n",
       "133975  http://purl.obolibrary.org/obo/NCIT_C16950   \n",
       "47298   http://purl.obolibrary.org/obo/NCIT_C26784   \n",
       "81165     http://purl.obolibrary.org/obo/NCIT_C274   \n",
       "34590    http://purl.obolibrary.org/obo/NCIT_C3344   \n",
       "\n",
       "                                               definition  \\\n",
       "27549        Relating to or located at the tip (an apex).   \n",
       "133975  A method of feeling with the hands during a ph...   \n",
       "47298   A renal disorder characterized by damage in th...   \n",
       "81165   A substance that inhibits the maturation, grow...   \n",
       "34590                       An intense itching sensation.   \n",
       "\n",
       "                                                 taxonomy  \n",
       "27549   [('http://purl.obolibrary.org/obo/NCIT_C13442'...  \n",
       "133975  [('http://purl.obolibrary.org/obo/NCIT_C20989'...  \n",
       "47298   [('http://purl.obolibrary.org/obo/NCIT_C26833'...  \n",
       "81165   [('http://purl.obolibrary.org/obo/NCIT_C1909',...  \n",
       "34590   [('http://purl.obolibrary.org/obo/NCIT_C5036',...  "
      ]
     },
     "execution_count": 9,
     "metadata": {},
     "output_type": "execute_result"
    }
   ],
   "source": [
    "ontology_linking.sample(5)"
   ]
  },
  {
   "cell_type": "markdown",
   "metadata": {},
   "source": [
    "### Interactive curation of  entity occurrence data\n",
    "\n",
    "The package provides an interactive entity curation app that allows the user to visualize the entity occurrence data, modify it, perform ontology linking (see `Link to NCIT ontology` button), filter short or unfrequent entities.\n",
    "\n",
    "The field `Keep` allows specifying a set of entities that must be kept in the dataset at all times (even if they don't satisfy the selected filtering criteria).\n",
    "\n",
    "Finally the value specified in the `Generate Graphs from top 500 frequent entities` field corresponds to the number of top entities (by the frequency of their occurrence in papers) to be included in the co-occurrence network."
   ]
  },
  {
   "cell_type": "markdown",
   "metadata": {},
   "source": [
    "We load the prepared data table into the curation app as follows:"
   ]
  },
  {
   "cell_type": "code",
   "execution_count": 10,
   "metadata": {},
   "outputs": [],
   "source": [
    "curation_app.set_table(curation_input_table.copy())"
   ]
  },
  {
   "cell_type": "markdown",
   "metadata": {},
   "source": [
    "We can specify the default entities to keep."
   ]
  },
  {
   "cell_type": "code",
   "execution_count": 11,
   "metadata": {},
   "outputs": [],
   "source": [
    "default_entities_to_keep = [\"glucose\", \"covid-19\"]\n",
    "curation_app.set_default_terms_to_include(default_entities_to_keep)"
   ]
  },
  {
   "cell_type": "markdown",
   "metadata": {},
   "source": [
    "Finally, we set the ontology linking callback to be fired upon a click on the `Link to NCIT ontology` button."
   ]
  },
  {
   "cell_type": "code",
   "execution_count": 12,
   "metadata": {
    "scrolled": false
   },
   "outputs": [],
   "source": [
    "curation_app.set_ontology_linking_callback(lambda x: link_ontology(ontology_linking, type_mapping, x))"
   ]
  },
  {
   "cell_type": "markdown",
   "metadata": {},
   "source": [
    "### Launch the curation app"
   ]
  },
  {
   "cell_type": "markdown",
   "metadata": {},
   "source": [
    "The application can be launched either inline (inside the current notebook) as below."
   ]
  },
  {
   "cell_type": "code",
   "execution_count": 13,
   "metadata": {},
   "outputs": [
    {
     "data": {
      "text/html": [
       "\n",
       "        <iframe\n",
       "            width=\"100%\"\n",
       "            height=\"650\"\n",
       "            src=\"http://127.0.0.1:8072/\"\n",
       "            frameborder=\"0\"\n",
       "            allowfullscreen\n",
       "        ></iframe>\n",
       "        "
      ],
      "text/plain": [
       "<IPython.lib.display.IFrame at 0x7fd2d3231f98>"
      ]
     },
     "metadata": {},
     "output_type": "display_data"
    },
    {
     "name": "stdout",
     "output_type": "stream",
     "text": [
      "Merging the occurrence data with the ontology linking...\n"
     ]
    }
   ],
   "source": [
    "curation_app.run(port=8072, mode=\"inline\")"
   ]
  },
  {
   "cell_type": "markdown",
   "metadata": {},
   "source": [
    "Or it can be opened externally (by the URL that you can open in a separate tab of your browser, try uncommenting, executing and doing Ctrl+Click on the displayed URL)."
   ]
  },
  {
   "cell_type": "code",
   "execution_count": 14,
   "metadata": {},
   "outputs": [],
   "source": [
    "# curation_app.run(port=8070, mode=\"external\")"
   ]
  },
  {
   "cell_type": "markdown",
   "metadata": {},
   "source": [
    "## 3. Co-occurrence network generation"
   ]
  },
  {
   "cell_type": "markdown",
   "metadata": {},
   "source": [
    "Current curation table displayed in the curation app can be extracted using the `get_curated_table` method."
   ]
  },
  {
   "cell_type": "code",
   "execution_count": 15,
   "metadata": {},
   "outputs": [
    {
     "data": {
      "text/html": [
       "<div>\n",
       "<style scoped>\n",
       "    .dataframe tbody tr th:only-of-type {\n",
       "        vertical-align: middle;\n",
       "    }\n",
       "\n",
       "    .dataframe tbody tr th {\n",
       "        vertical-align: top;\n",
       "    }\n",
       "\n",
       "    .dataframe thead th {\n",
       "        text-align: right;\n",
       "    }\n",
       "</style>\n",
       "<table border=\"1\" class=\"dataframe\">\n",
       "  <thead>\n",
       "    <tr style=\"text-align: right;\">\n",
       "      <th></th>\n",
       "      <th>paper</th>\n",
       "      <th>section</th>\n",
       "      <th>paragraph</th>\n",
       "      <th>aggregated_entities</th>\n",
       "      <th>uid</th>\n",
       "      <th>definition</th>\n",
       "      <th>paper_frequency</th>\n",
       "      <th>entity_type</th>\n",
       "    </tr>\n",
       "    <tr>\n",
       "      <th>entity</th>\n",
       "      <th></th>\n",
       "      <th></th>\n",
       "      <th></th>\n",
       "      <th></th>\n",
       "      <th></th>\n",
       "      <th></th>\n",
       "      <th></th>\n",
       "      <th></th>\n",
       "    </tr>\n",
       "  </thead>\n",
       "  <tbody>\n",
       "    <tr>\n",
       "      <th>acute respiratory distress syndrome</th>\n",
       "      <td>{214924, 197804, 129074, 179426, 184360, 211125}</td>\n",
       "      <td>{214924:Introduction, 184360:Ang-(1-7) Analogu...</td>\n",
       "      <td>{179426:Morbidity And Mortality In Diabetic Co...</td>\n",
       "      <td>[acute respiratory distress syndrome, ards]</td>\n",
       "      <td>http://purl.obolibrary.org/obo/NCIT_C3353</td>\n",
       "      <td>Progressive and life-threatening pulmonary dis...</td>\n",
       "      <td>6</td>\n",
       "      <td>DISEASE</td>\n",
       "    </tr>\n",
       "    <tr>\n",
       "      <th>angiotensin-converting enzyme 2</th>\n",
       "      <td>{214924, 197804, 179426, 184360, 211373, 16056...</td>\n",
       "      <td>{184360:Combined Therapeutic Potential Targeti...</td>\n",
       "      <td>{214924:The Immune Response To Sars-Cov-2 ::: ...</td>\n",
       "      <td>[ace, ace2, ace2 receptor, ace2 receptors, ang...</td>\n",
       "      <td>http://purl.obolibrary.org/obo/NCIT_C102530</td>\n",
       "      <td>Angiotensin-converting enzyme 2 (805 aa, ~92 k...</td>\n",
       "      <td>7</td>\n",
       "      <td>PROTEIN</td>\n",
       "    </tr>\n",
       "    <tr>\n",
       "      <th>blood</th>\n",
       "      <td>{214728, 78018, 214924, 197804, 179426, 147333...</td>\n",
       "      <td>{214728:Cap Community-Acquired Pneumonia Covid...</td>\n",
       "      <td>{211125:Discussion:27, 184360:Gliptins ::: The...</td>\n",
       "      <td>[blood]</td>\n",
       "      <td>http://purl.obolibrary.org/obo/NCIT_C12434</td>\n",
       "      <td>A liquid tissue; its major function is to tran...</td>\n",
       "      <td>8</td>\n",
       "      <td>ORGAN</td>\n",
       "    </tr>\n",
       "    <tr>\n",
       "      <th>cardiovascular system</th>\n",
       "      <td>{214924, 197804, 179426, 184360, 160564}</td>\n",
       "      <td>{214924:Introduction, 184360:Gliptins , 214924...</td>\n",
       "      <td>{197804:Discussion:42, 214924:Abstract:1, 1843...</td>\n",
       "      <td>[cardiovascular]</td>\n",
       "      <td>http://purl.obolibrary.org/obo/NCIT_C12686</td>\n",
       "      <td>Relating to the heart and the blood vessels or...</td>\n",
       "      <td>5</td>\n",
       "      <td>ORGAN</td>\n",
       "    </tr>\n",
       "    <tr>\n",
       "      <th>coronaviridae</th>\n",
       "      <td>{78018, 214924, 197804, 151932, 184360, 211373...</td>\n",
       "      <td>{151932:Abstract, 214924:Introduction, 211373:...</td>\n",
       "      <td>{184360:Mechanisms Of Sars-Cov-2 Entry Into Ho...</td>\n",
       "      <td>[coronavirus disease, coronavirus family, coro...</td>\n",
       "      <td>http://purl.obolibrary.org/obo/NCIT_C113205</td>\n",
       "      <td>A family of positive sense ssRNA viruses of zo...</td>\n",
       "      <td>7</td>\n",
       "      <td>ORGANISM</td>\n",
       "    </tr>\n",
       "  </tbody>\n",
       "</table>\n",
       "</div>"
      ],
      "text/plain": [
       "                                                                                 paper  \\\n",
       "entity                                                                                   \n",
       "acute respiratory distress syndrome   {214924, 197804, 129074, 179426, 184360, 211125}   \n",
       "angiotensin-converting enzyme 2      {214924, 197804, 179426, 184360, 211373, 16056...   \n",
       "blood                                {214728, 78018, 214924, 197804, 179426, 147333...   \n",
       "cardiovascular system                         {214924, 197804, 179426, 184360, 160564}   \n",
       "coronaviridae                        {78018, 214924, 197804, 151932, 184360, 211373...   \n",
       "\n",
       "                                                                               section  \\\n",
       "entity                                                                                   \n",
       "acute respiratory distress syndrome  {214924:Introduction, 184360:Ang-(1-7) Analogu...   \n",
       "angiotensin-converting enzyme 2      {184360:Combined Therapeutic Potential Targeti...   \n",
       "blood                                {214728:Cap Community-Acquired Pneumonia Covid...   \n",
       "cardiovascular system                {214924:Introduction, 184360:Gliptins , 214924...   \n",
       "coronaviridae                        {151932:Abstract, 214924:Introduction, 211373:...   \n",
       "\n",
       "                                                                             paragraph  \\\n",
       "entity                                                                                   \n",
       "acute respiratory distress syndrome  {179426:Morbidity And Mortality In Diabetic Co...   \n",
       "angiotensin-converting enzyme 2      {214924:The Immune Response To Sars-Cov-2 ::: ...   \n",
       "blood                                {211125:Discussion:27, 184360:Gliptins ::: The...   \n",
       "cardiovascular system                {197804:Discussion:42, 214924:Abstract:1, 1843...   \n",
       "coronaviridae                        {184360:Mechanisms Of Sars-Cov-2 Entry Into Ho...   \n",
       "\n",
       "                                                                   aggregated_entities  \\\n",
       "entity                                                                                   \n",
       "acute respiratory distress syndrome        [acute respiratory distress syndrome, ards]   \n",
       "angiotensin-converting enzyme 2      [ace, ace2, ace2 receptor, ace2 receptors, ang...   \n",
       "blood                                                                          [blood]   \n",
       "cardiovascular system                                                 [cardiovascular]   \n",
       "coronaviridae                        [coronavirus disease, coronavirus family, coro...   \n",
       "\n",
       "                                                                             uid  \\\n",
       "entity                                                                             \n",
       "acute respiratory distress syndrome    http://purl.obolibrary.org/obo/NCIT_C3353   \n",
       "angiotensin-converting enzyme 2      http://purl.obolibrary.org/obo/NCIT_C102530   \n",
       "blood                                 http://purl.obolibrary.org/obo/NCIT_C12434   \n",
       "cardiovascular system                 http://purl.obolibrary.org/obo/NCIT_C12686   \n",
       "coronaviridae                        http://purl.obolibrary.org/obo/NCIT_C113205   \n",
       "\n",
       "                                                                            definition  \\\n",
       "entity                                                                                   \n",
       "acute respiratory distress syndrome  Progressive and life-threatening pulmonary dis...   \n",
       "angiotensin-converting enzyme 2      Angiotensin-converting enzyme 2 (805 aa, ~92 k...   \n",
       "blood                                A liquid tissue; its major function is to tran...   \n",
       "cardiovascular system                Relating to the heart and the blood vessels or...   \n",
       "coronaviridae                        A family of positive sense ssRNA viruses of zo...   \n",
       "\n",
       "                                     paper_frequency entity_type  \n",
       "entity                                                            \n",
       "acute respiratory distress syndrome                6     DISEASE  \n",
       "angiotensin-converting enzyme 2                    7     PROTEIN  \n",
       "blood                                              8       ORGAN  \n",
       "cardiovascular system                              5       ORGAN  \n",
       "coronaviridae                                      7    ORGANISM  "
      ]
     },
     "execution_count": 15,
     "metadata": {},
     "output_type": "execute_result"
    }
   ],
   "source": [
    "curated_occurrence_data = curation_app.get_curated_table()\n",
    "curated_occurrence_data.head(5)"
   ]
  },
  {
   "cell_type": "markdown",
   "metadata": {},
   "source": [
    "We can also retreive current values of the `Keep` field (these entities will be also included in the resulting co-occurrence network)."
   ]
  },
  {
   "cell_type": "code",
   "execution_count": 16,
   "metadata": {},
   "outputs": [
    {
     "data": {
      "text/plain": [
       "['glucose', 'covid-19']"
      ]
     },
     "execution_count": 16,
     "metadata": {},
     "output_type": "execute_result"
    }
   ],
   "source": [
    "curation_app.get_terms_to_include()"
   ]
  },
  {
   "cell_type": "markdown",
   "metadata": {},
   "source": [
    "And the number of top frequent entities to use for network generation."
   ]
  },
  {
   "cell_type": "code",
   "execution_count": 17,
   "metadata": {},
   "outputs": [
    {
     "data": {
      "text/plain": [
       "500"
      ]
     },
     "execution_count": 17,
     "metadata": {},
     "output_type": "execute_result"
    }
   ],
   "source": [
    "curation_app.n_most_frequent"
   ]
  },
  {
   "cell_type": "markdown",
   "metadata": {},
   "source": [
    "### Generating co-occurrence networks\n",
    "\n",
    "In the cell below we generate two co-occurrence networks: for paper- and paragraph-based entity co-occurrences. Along with the network generation the `generate_cooccurrence_analysis` function \n",
    "- computes node centrality metrics (such as degree, RageRank)\n",
    "- computes co-occurrence statistics (such as frequency, pointwise mutual information and normalized pointwise mutual information) and assignes them as weights to the corresponding edges\n",
    "- performs entity community detection based on different co-occurrence statistics\n",
    "- computes mutual-information-based minimum spanning trees."
   ]
  },
  {
   "cell_type": "code",
   "execution_count": 18,
   "metadata": {
    "scrolled": true
   },
   "outputs": [
    {
     "name": "stdout",
     "output_type": "stream",
     "text": [
      "-------------------------------\n",
      "Factor: paper\n",
      "-------------------------------\n",
      "Examining 378 pairs of terms for co-occurrence...\n",
      "-------------------------------\n",
      "Factor: paragraph\n",
      "-------------------------------\n",
      "Examining 378 pairs of terms for co-occurrence...\n",
      "Done.\n",
      "CPU times: user 309 ms, sys: 155 ms, total: 464 ms\n",
      "Wall time: 865 ms\n"
     ]
    }
   ],
   "source": [
    "%%time\n",
    "type_data = curated_occurrence_data[[\"entity_type\"]].rename(columns={\"entity_type\": \"type\"})\n",
    "\n",
    "graphs, trees = generate_cooccurrence_analysis(\n",
    "    curated_occurrence_data,  factor_counts,\n",
    "    n_most_frequent=curation_app.n_most_frequent if curation_app.n_most_frequent else 100,\n",
    "    type_data=type_data, \n",
    "    factors=[\"paper\", \"paragraph\"],\n",
    "    keep=curation_app.get_terms_to_include(),\n",
    "    cores=10)\n",
    "\n",
    "print(\"Done.\")"
   ]
  },
  {
   "cell_type": "markdown",
   "metadata": {},
   "source": [
    "## 4. Network visualization and analysis"
   ]
  },
  {
   "cell_type": "markdown",
   "metadata": {},
   "source": [
    "### Loading the generated graphs into the visualization app"
   ]
  },
  {
   "cell_type": "code",
   "execution_count": null,
   "metadata": {},
   "outputs": [],
   "source": [
    "visualization_app.set_graph(\n",
    "    \"Paper-based graph\", graphs[\"paper\"],\n",
    "    tree_object=trees[\"paper\"], default_top_n=100)\n",
    "\n",
    "visualization_app.set_graph(\n",
    "    \"Paragraph-based graph\", graphs[\"paragraph\"],\n",
    "    tree_object=trees[\"paragraph\"], default_top_n=100)\n",
    "\n",
    "visualization_app.set_current_graph(\"Paragraph-based graph\")"
   ]
  },
  {
   "cell_type": "markdown",
   "metadata": {},
   "source": [
    "### Loading papers' meta-data into the app\n",
    "\n",
    "We now load an additional dataset containing some meta-data on the papers where the entities analyzed in this notebook occur."
   ]
  },
  {
   "cell_type": "code",
   "execution_count": null,
   "metadata": {
    "scrolled": true
   },
   "outputs": [],
   "source": [
    "paper_data = pd.read_csv(\"../data/Glucose_risk_3000_paper_meta_data.csv\")\n",
    "paper_data = paper_data.set_index(\"id\")\n",
    "paper_data.head(3)"
   ]
  },
  {
   "cell_type": "markdown",
   "metadata": {},
   "source": [
    "We pass a callback for the lookup of paper meta-data to the visualization app using the `set_list_papers_callback` method."
   ]
  },
  {
   "cell_type": "code",
   "execution_count": null,
   "metadata": {},
   "outputs": [],
   "source": [
    "def list_papers(paper_data, selected_papers, limit=200):\n",
    "    selected_paper_data = paper_data.loc[[int(p) for p in selected_papers]].head(200)\n",
    "    return selected_paper_data.to_dict(\"records\")\n",
    "\n",
    "visualization_app.set_list_papers_callback(lambda x: list_papers(paper_data, x))"
   ]
  },
  {
   "cell_type": "markdown",
   "metadata": {},
   "source": [
    "The ontology linking process described above is noisy, therefore, we would like to keep a possibility of accessing, the raw entities that were linked to particular ontology concepts. For this we define the function `get_aggregated_entities` that retreives such raw entities and we pass it to the visualization app using the `set_aggregated_entities_callback` method."
   ]
  },
  {
   "cell_type": "code",
   "execution_count": null,
   "metadata": {},
   "outputs": [],
   "source": [
    "def top_n(data_dict, n, smallest=False):\n",
    "    \"\"\"Return top `n` keys of the input dictionary by their value.\"\"\"\n",
    "    df = pd.DataFrame(dict(data_dict).items(), columns=[\"id\", \"value\"])\n",
    "    if smallest:\n",
    "        df = df.nsmallest(n, columns=[\"value\"])\n",
    "    else:\n",
    "        df = df.nlargest(n, columns=[\"value\"])\n",
    "    return(list(df[\"id\"]))\n",
    "\n",
    "\n",
    "def get_aggregated_entities(entity, n):\n",
    "    if \"aggregated_entities\" in curated_occurrence_data.columns:\n",
    "        aggregated = curated_occurrence_data.loc[entity][\"aggregated_entities\"]\n",
    "    else:\n",
    "        aggregated = [entity]\n",
    "    if curation_input_table is not None:\n",
    "        df = curation_input_table.set_index(\"entity\")\n",
    "        if entity in curated_occurrence_data.index:\n",
    "            freqs = df.loc[aggregated][\"paper_frequency\"].to_dict()\n",
    "        else:\n",
    "            return {}\n",
    "    else:\n",
    "        df = data.copy()\n",
    "        df[\"entity\"] = data[\"entity\"].apply(lambda x: x.lower())\n",
    "        freqs = df[df[\"entity\"].apply(lambda x: x.lower() in aggregated)].groupby(\"entity\").aggregate(\n",
    "            lambda x: len(x))[\"entity_type\"].to_dict()\n",
    "    if len(freqs) == 0:\n",
    "        return {}\n",
    "    return {e: freqs[e] for e in top_n(freqs, n)}\n",
    "\n",
    "visualization_app.set_aggregated_entities_callback(\n",
    "    lambda x: get_aggregated_entities(x, 10))"
   ]
  },
  {
   "cell_type": "markdown",
   "metadata": {},
   "source": [
    "Finally, we create a dictionary `definitions` that will serve the visualization app as the lookup table for accessing the definitions of different ontology concepts."
   ]
  },
  {
   "cell_type": "code",
   "execution_count": null,
   "metadata": {},
   "outputs": [],
   "source": [
    "definitions = ontology_linking[[\"concept\", \"definition\"]].groupby(\n",
    "    \"concept\").aggregate(lambda x: list(x)[0]).to_dict()[\"definition\"]\n",
    "visualization_app.set_entity_definitons(definitions)"
   ]
  },
  {
   "cell_type": "markdown",
   "metadata": {},
   "source": [
    "### Launching the visualization app"
   ]
  },
  {
   "cell_type": "markdown",
   "metadata": {},
   "source": [
    "As before, the interactive graph visualization app can be launched in two modes: inline and external. Here we recommend the external mode for better user experience."
   ]
  },
  {
   "cell_type": "code",
   "execution_count": null,
   "metadata": {
    "scrolled": false
   },
   "outputs": [],
   "source": [
    "visualization_app.run(port=8082, mode=\"external\")"
   ]
  }
 ],
 "metadata": {
  "kernelspec": {
   "display_name": "bluegraph",
   "language": "python",
   "name": "bluegraph"
  },
  "language_info": {
   "codemirror_mode": {
    "name": "ipython",
    "version": 3
   },
   "file_extension": ".py",
   "mimetype": "text/x-python",
   "name": "python",
   "nbconvert_exporter": "python",
   "pygments_lexer": "ipython3",
   "version": "3.6.12"
  }
 },
 "nbformat": 4,
 "nbformat_minor": 4
}
