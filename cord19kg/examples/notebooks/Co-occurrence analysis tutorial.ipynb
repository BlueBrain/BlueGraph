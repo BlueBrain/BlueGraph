{
 "cells": [
  {
   "cell_type": "markdown",
   "metadata": {},
   "source": [
    "# Co-occurrence network analysis tutorial\n",
    "\n",
    "In this notebook we will illustrate how interactive exploration and analysis of the [CORD-19](https://www.kaggle.com/allen-institute-for-ai/CORD-19-research-challenge) dataset can be performed using the `cord19kg` package. The exploration and analysis techniques presented here focus on named entities and their co-occurrence in the scientific articles constituting the dataset.\n",
    "\n",
    "The input data for this notebook contains the named entities extracted from a small selection of 20 articles representing 10 different entity types (i.e. proteins, chemicals, drugs, diseases, condtions, organs, organisms, pathways, cell types, cell compartments). The article selection corresponds to 20 most relevant articles to the query _\"Glucose is a risk factor of COVID-19\"_ obtained using the article search model [ref to blue brain search](). The entity extraction was performed using the Named Entity Recognition (NER) techniques also included in [ref to blue brain search]().\n",
    "\n",
    "The `cord19kg` package provides a set of tools for interactive literature exploration through the named entity co-occurrence analysis consisting of the following steps:\n",
    "\n",
    "1. __Data preparation__ step converts raw mentions into aggregated entity occurrence statistics.\n",
    "2. __Data curation__ step allows the user to manage extracted entities: modify, filter them and link to the ontology.\n",
    "3. __Network generation__ step allows creating entity co-occurrence networks based on paper-, section- and paragraph-level co-occurrence relations between entities. These entity relations are quantified using mutual-information-based scores (pointwise mutual information and its normalized version).\n",
    "4. __Network visualization and analysis__ step allows the user to perform interactive network visualization, edit network elements and perform its analysis (spanning tree, mutual-information based shortest paths between entities, etc)."
   ]
  },
  {
   "cell_type": "code",
   "execution_count": 1,
   "metadata": {},
   "outputs": [],
   "source": [
    "import json\n",
    "import zipfile\n",
    "\n",
    "import pandas as pd\n",
    "\n",
    "import dash_cytoscape as cyto\n",
    "\n",
    "from cord19kg.utils import (generate_curation_table,\n",
    "                            link_ontology,\n",
    "                            generate_cooccurrence_analysis)\n",
    "from cord19kg.apps.curation_app import curation_app\n",
    "from cord19kg.apps.visualization_app import visualization_app"
   ]
  },
  {
   "cell_type": "markdown",
   "metadata": {},
   "source": [
    "The cell below loads additional graph layouts used in the graph visualization app"
   ]
  },
  {
   "cell_type": "code",
   "execution_count": 2,
   "metadata": {},
   "outputs": [],
   "source": [
    "cyto.load_extra_layouts()"
   ]
  },
  {
   "cell_type": "markdown",
   "metadata": {},
   "source": [
    "## 1. Data preparation\n",
    "\n",
    "The input dataset contains occurrences of different terms in paragraphs of scientific articles from the CORD-19 dataset previously extracted by means of a NER model."
   ]
  },
  {
   "cell_type": "code",
   "execution_count": 3,
   "metadata": {},
   "outputs": [],
   "source": [
    "data = pd.read_csv(\"../data/Glucose_risk_20_papers.csv\")"
   ]
  },
  {
   "cell_type": "code",
   "execution_count": 4,
   "metadata": {},
   "outputs": [
    {
     "data": {
      "text/html": [
       "<div>\n",
       "<style scoped>\n",
       "    .dataframe tbody tr th:only-of-type {\n",
       "        vertical-align: middle;\n",
       "    }\n",
       "\n",
       "    .dataframe tbody tr th {\n",
       "        vertical-align: top;\n",
       "    }\n",
       "\n",
       "    .dataframe thead th {\n",
       "        text-align: right;\n",
       "    }\n",
       "</style>\n",
       "<table border=\"1\" class=\"dataframe\">\n",
       "  <thead>\n",
       "    <tr style=\"text-align: right;\">\n",
       "      <th></th>\n",
       "      <th>entity</th>\n",
       "      <th>entity_type</th>\n",
       "      <th>occurrence</th>\n",
       "    </tr>\n",
       "  </thead>\n",
       "  <tbody>\n",
       "    <tr>\n",
       "      <th>2977</th>\n",
       "      <td>SARS-CoV-2</td>\n",
       "      <td>ORGANISM</td>\n",
       "      <td>214924:Diabetes Mellitus: A Risk Factor For Th...</td>\n",
       "    </tr>\n",
       "    <tr>\n",
       "      <th>1539</th>\n",
       "      <td>DPP4i</td>\n",
       "      <td>PROTEIN</td>\n",
       "      <td>184360:Gliptins ::: Therapeutic Potential Of T...</td>\n",
       "    </tr>\n",
       "    <tr>\n",
       "      <th>1355</th>\n",
       "      <td>ARB</td>\n",
       "      <td>DRUG</td>\n",
       "      <td>184360:Aceis And Arbs ::: Therapeutic Potentia...</td>\n",
       "    </tr>\n",
       "    <tr>\n",
       "      <th>577</th>\n",
       "      <td>glucose</td>\n",
       "      <td>CHEMICAL</td>\n",
       "      <td>179426:Role Of Dpp4 Enzyme And Dpp4 Inhibitors...</td>\n",
       "    </tr>\n",
       "    <tr>\n",
       "      <th>620</th>\n",
       "      <td>vildagliptin</td>\n",
       "      <td>DRUG</td>\n",
       "      <td>179426:Role Of Dpp4 Enzyme And Dpp4 Inhibitors...</td>\n",
       "    </tr>\n",
       "  </tbody>\n",
       "</table>\n",
       "</div>"
      ],
      "text/plain": [
       "            entity entity_type  \\\n",
       "2977    SARS-CoV-2    ORGANISM   \n",
       "1539         DPP4i     PROTEIN   \n",
       "1355           ARB        DRUG   \n",
       "577        glucose    CHEMICAL   \n",
       "620   vildagliptin        DRUG   \n",
       "\n",
       "                                             occurrence  \n",
       "2977  214924:Diabetes Mellitus: A Risk Factor For Th...  \n",
       "1539  184360:Gliptins ::: Therapeutic Potential Of T...  \n",
       "1355  184360:Aceis And Arbs ::: Therapeutic Potentia...  \n",
       "577   179426:Role Of Dpp4 Enzyme And Dpp4 Inhibitors...  \n",
       "620   179426:Role Of Dpp4 Enzyme And Dpp4 Inhibitors...  "
      ]
     },
     "execution_count": 4,
     "metadata": {},
     "output_type": "execute_result"
    }
   ],
   "source": [
    "data.sample(5)"
   ]
  },
  {
   "cell_type": "markdown",
   "metadata": {},
   "source": [
    "On the first preparation step, we group and aggregate the input data by unique entities."
   ]
  },
  {
   "cell_type": "code",
   "execution_count": 5,
   "metadata": {},
   "outputs": [
    {
     "name": "stdout",
     "output_type": "stream",
     "text": [
      "Prepating curatation data...\n",
      "Cleaning up the entities...\n",
      "Aggregating occurrences of entities....\n",
      "Done.\n",
      "CPU times: user 199 ms, sys: 5.78 ms, total: 204 ms\n",
      "Wall time: 203 ms\n"
     ]
    }
   ],
   "source": [
    "%%time\n",
    "print(\"Prepating curatation data...\")\n",
    "curation_input_table, factor_counts = generate_curation_table(data)\n",
    "print(\"Done.\")"
   ]
  },
  {
   "cell_type": "markdown",
   "metadata": {},
   "source": [
    "The resulting dataframe contains a row per unique named entity together with the following occurrence data: \n",
    "- sets of unique paragraphs, papers, sections, where the corresponding entity is mentioned (`paper`, `section`, `paragraph` columns);\n",
    "- number of total entity occurrences (the `raw_frequency` column);\n",
    "- number of unique papers where it occurs (the `paper_frequency` column);\n",
    "- unique entity types assigned by the NER model (the `entity_type` column, multiple types are possible).\n",
    "- raw entity types assigned by the NER model with the multiplicity of thier occurrence (the `raw_entity_types` column).\n"
   ]
  },
  {
   "cell_type": "code",
   "execution_count": 6,
   "metadata": {},
   "outputs": [
    {
     "data": {
      "text/html": [
       "<div>\n",
       "<style scoped>\n",
       "    .dataframe tbody tr th:only-of-type {\n",
       "        vertical-align: middle;\n",
       "    }\n",
       "\n",
       "    .dataframe tbody tr th {\n",
       "        vertical-align: top;\n",
       "    }\n",
       "\n",
       "    .dataframe thead th {\n",
       "        text-align: right;\n",
       "    }\n",
       "</style>\n",
       "<table border=\"1\" class=\"dataframe\">\n",
       "  <thead>\n",
       "    <tr style=\"text-align: right;\">\n",
       "      <th></th>\n",
       "      <th>entity</th>\n",
       "      <th>entity_type</th>\n",
       "      <th>paragraph</th>\n",
       "      <th>paper</th>\n",
       "      <th>section</th>\n",
       "      <th>paper_frequency</th>\n",
       "      <th>raw_entity_types</th>\n",
       "      <th>raw_frequency</th>\n",
       "    </tr>\n",
       "  </thead>\n",
       "  <tbody>\n",
       "    <tr>\n",
       "      <th>103</th>\n",
       "      <td>gip</td>\n",
       "      <td>PROTEIN, CHEMICAL</td>\n",
       "      <td>[184360:Cardiovascular Effects Of Sdpp4 Upregu...</td>\n",
       "      <td>[184360]</td>\n",
       "      <td>[184360:Cardiovascular Effects Of Sdpp4 Upregu...</td>\n",
       "      <td>1</td>\n",
       "      <td>[PROTEIN, CHEMICAL]</td>\n",
       "      <td>2</td>\n",
       "    </tr>\n",
       "    <tr>\n",
       "      <th>245</th>\n",
       "      <td>t2dm</td>\n",
       "      <td>DISEASE</td>\n",
       "      <td>[184360:Cardiovascular Effects Of Sdpp4 Upregu...</td>\n",
       "      <td>[160564, 184360]</td>\n",
       "      <td>[184360:Pathophysiology Of Covid-19, 184360:Co...</td>\n",
       "      <td>2</td>\n",
       "      <td>[DISEASE, DISEASE, DISEASE, DISEASE, DISEASE, ...</td>\n",
       "      <td>16</td>\n",
       "    </tr>\n",
       "    <tr>\n",
       "      <th>51</th>\n",
       "      <td>cd26</td>\n",
       "      <td>PROTEIN</td>\n",
       "      <td>[179426:Role Of Dpp4 Enzyme And Dpp4 Inhibitor...</td>\n",
       "      <td>[179426, 184360, 211373]</td>\n",
       "      <td>[184360:Anti-Dpp4 Vaccine , 179426:Role Of Dpp...</td>\n",
       "      <td>3</td>\n",
       "      <td>[PROTEIN, PROTEIN, PROTEIN, PROTEIN]</td>\n",
       "      <td>4</td>\n",
       "    </tr>\n",
       "    <tr>\n",
       "      <th>36</th>\n",
       "      <td>atherosclerosis</td>\n",
       "      <td>DISEASE</td>\n",
       "      <td>[184360:Caption:71, 184360:Cardiovascular Effe...</td>\n",
       "      <td>[184360]</td>\n",
       "      <td>[184360:Caption, 184360:Cardiovascular Effects...</td>\n",
       "      <td>1</td>\n",
       "      <td>[DISEASE, DISEASE]</td>\n",
       "      <td>2</td>\n",
       "    </tr>\n",
       "    <tr>\n",
       "      <th>108</th>\n",
       "      <td>glucose homeostasis</td>\n",
       "      <td>PATHWAY</td>\n",
       "      <td>[184360:Conclusion:63, 184360:Gliptins ::: The...</td>\n",
       "      <td>[184360]</td>\n",
       "      <td>[184360:Conclusion, 184360:Gliptins ]</td>\n",
       "      <td>1</td>\n",
       "      <td>[PATHWAY, PATHWAY, PATHWAY]</td>\n",
       "      <td>3</td>\n",
       "    </tr>\n",
       "  </tbody>\n",
       "</table>\n",
       "</div>"
      ],
      "text/plain": [
       "                  entity        entity_type  \\\n",
       "103                  gip  PROTEIN, CHEMICAL   \n",
       "245                 t2dm            DISEASE   \n",
       "51                  cd26            PROTEIN   \n",
       "36       atherosclerosis            DISEASE   \n",
       "108  glucose homeostasis            PATHWAY   \n",
       "\n",
       "                                             paragraph  \\\n",
       "103  [184360:Cardiovascular Effects Of Sdpp4 Upregu...   \n",
       "245  [184360:Cardiovascular Effects Of Sdpp4 Upregu...   \n",
       "51   [179426:Role Of Dpp4 Enzyme And Dpp4 Inhibitor...   \n",
       "36   [184360:Caption:71, 184360:Cardiovascular Effe...   \n",
       "108  [184360:Conclusion:63, 184360:Gliptins ::: The...   \n",
       "\n",
       "                        paper  \\\n",
       "103                  [184360]   \n",
       "245          [160564, 184360]   \n",
       "51   [179426, 184360, 211373]   \n",
       "36                   [184360]   \n",
       "108                  [184360]   \n",
       "\n",
       "                                               section  paper_frequency  \\\n",
       "103  [184360:Cardiovascular Effects Of Sdpp4 Upregu...                1   \n",
       "245  [184360:Pathophysiology Of Covid-19, 184360:Co...                2   \n",
       "51   [184360:Anti-Dpp4 Vaccine , 179426:Role Of Dpp...                3   \n",
       "36   [184360:Caption, 184360:Cardiovascular Effects...                1   \n",
       "108              [184360:Conclusion, 184360:Gliptins ]                1   \n",
       "\n",
       "                                      raw_entity_types  raw_frequency  \n",
       "103                                [PROTEIN, CHEMICAL]              2  \n",
       "245  [DISEASE, DISEASE, DISEASE, DISEASE, DISEASE, ...             16  \n",
       "51                [PROTEIN, PROTEIN, PROTEIN, PROTEIN]              4  \n",
       "36                                  [DISEASE, DISEASE]              2  \n",
       "108                        [PATHWAY, PATHWAY, PATHWAY]              3  "
      ]
     },
     "execution_count": 6,
     "metadata": {},
     "output_type": "execute_result"
    }
   ],
   "source": [
    "curation_input_table.sample(5)"
   ]
  },
  {
   "cell_type": "markdown",
   "metadata": {},
   "source": [
    "The second output of the data preparation step outputs the counts of different instances of occurrence factors: number of distinct papers/sections/paragraphs in the input corpus."
   ]
  },
  {
   "cell_type": "code",
   "execution_count": 7,
   "metadata": {},
   "outputs": [
    {
     "data": {
      "text/plain": [
       "{'paper': 20, 'section': 108, 'paragraph': 286}"
      ]
     },
     "execution_count": 7,
     "metadata": {},
     "output_type": "execute_result"
    }
   ],
   "source": [
    "factor_counts"
   ]
  },
  {
   "cell_type": "markdown",
   "metadata": {},
   "source": [
    "## 2. Data curation"
   ]
  },
  {
   "cell_type": "markdown",
   "metadata": {},
   "source": [
    "### Loading the NCIT ontology linking data"
   ]
  },
  {
   "cell_type": "markdown",
   "metadata": {},
   "source": [
    "To group synonymical entities in the previously extracted table (e.g. `ace2`, `ace-2`, `angiotensin-converting enzyme 2`), as well as assign additional semantics to these entities (e.g. human-readable definition, taxonomy, etc), we peform further _linking_ of the entities to the terms from the [NCIT ontology](https://ncithesaurus.nci.nih.gov/ncitbrowser/).\n",
    "\n",
    "To be able to perform such ontology linking, we load some additional (pre-computed using ML-based linking models) data."
   ]
  },
  {
   "cell_type": "code",
   "execution_count": 8,
   "metadata": {},
   "outputs": [
    {
     "name": "stdout",
     "output_type": "stream",
     "text": [
      "Loading the ontology linking data...\n",
      "\tDecompressing the input data file...\n",
      "\tLoading the linking dataframe in memory...\n",
      "\tLoading ontology type mapping...\n",
      "Done.\n",
      "CPU times: user 1.01 s, sys: 143 ms, total: 1.15 s\n",
      "Wall time: 1.15 s\n"
     ]
    }
   ],
   "source": [
    "%%time\n",
    "print(\"Loading the ontology linking data...\")\n",
    "    \n",
    "print(\"\\tDecompressing the input data file...\")\n",
    "with zipfile.ZipFile(\"../data/NCIT_ontology_linking_3000_papers.csv.zip\", 'r') as zip_ref:\n",
    "    zip_ref.extractall(\"../data/\")\n",
    "\n",
    "print(\"\\tLoading the linking dataframe in memory...\")\n",
    "ontology_linking = pd.read_csv(\"../data/NCIT_ontology_linking_3000_papers.csv\")\n",
    "\n",
    "print(\"\\tLoading ontology type mapping...\")\n",
    "with open(\"../data/NCIT_type_mapping.json\", \"rb\") as f:\n",
    "    type_mapping = json.load(f)\n",
    "print(\"Done.\")"
   ]
  },
  {
   "cell_type": "markdown",
   "metadata": {},
   "source": [
    "The ontology linking table contains the following columns:\n",
    "- `mention` entity mentioned in the text\n",
    "- `concept` ontology concept linked to the entity mention\n",
    "- `uid` unique identifier of the ontology concept\n",
    "- `definition` definition of the concept\n",
    "- `taxonomy` taxonomy of semantic types associated with the concept"
   ]
  },
  {
   "cell_type": "code",
   "execution_count": 9,
   "metadata": {
    "scrolled": true
   },
   "outputs": [
    {
     "data": {
      "text/html": [
       "<div>\n",
       "<style scoped>\n",
       "    .dataframe tbody tr th:only-of-type {\n",
       "        vertical-align: middle;\n",
       "    }\n",
       "\n",
       "    .dataframe tbody tr th {\n",
       "        vertical-align: top;\n",
       "    }\n",
       "\n",
       "    .dataframe thead th {\n",
       "        text-align: right;\n",
       "    }\n",
       "</style>\n",
       "<table border=\"1\" class=\"dataframe\">\n",
       "  <thead>\n",
       "    <tr style=\"text-align: right;\">\n",
       "      <th></th>\n",
       "      <th>mention</th>\n",
       "      <th>concept</th>\n",
       "      <th>uid</th>\n",
       "      <th>definition</th>\n",
       "      <th>taxonomy</th>\n",
       "    </tr>\n",
       "  </thead>\n",
       "  <tbody>\n",
       "    <tr>\n",
       "      <th>15923</th>\n",
       "      <td>pci</td>\n",
       "      <td>picocurie</td>\n",
       "      <td>http://purl.obolibrary.org/obo/NCIT_C70516</td>\n",
       "      <td>A unit of radioactivity defined as 0.037 atomi...</td>\n",
       "      <td>[('http://purl.obolibrary.org/obo/NCIT_C48467'...</td>\n",
       "    </tr>\n",
       "    <tr>\n",
       "      <th>94061</th>\n",
       "      <td>fibrinogen clearance</td>\n",
       "      <td>fibrinogen</td>\n",
       "      <td>http://purl.obolibrary.org/obo/NCIT_C25736</td>\n",
       "      <td>A fibrillar protein present in blood plasma; i...</td>\n",
       "      <td>[('http://purl.obolibrary.org/obo/NCIT_C21176'...</td>\n",
       "    </tr>\n",
       "    <tr>\n",
       "      <th>65014</th>\n",
       "      <td>ventilatory dysfunction</td>\n",
       "      <td>ejaculation disorder</td>\n",
       "      <td>http://purl.obolibrary.org/obo/NCIT_C78264</td>\n",
       "      <td>A disorder referring to problems related to ej...</td>\n",
       "      <td>[('http://purl.obolibrary.org/obo/NCIT_C27611'...</td>\n",
       "    </tr>\n",
       "    <tr>\n",
       "      <th>61354</th>\n",
       "      <td>hypothalamus tissue</td>\n",
       "      <td>hypothalamus</td>\n",
       "      <td>http://purl.obolibrary.org/obo/NCIT_C12458</td>\n",
       "      <td>An important supervisory center in the brain, ...</td>\n",
       "      <td>[('http://purl.obolibrary.org/obo/NCIT_C13031'...</td>\n",
       "    </tr>\n",
       "    <tr>\n",
       "      <th>101744</th>\n",
       "      <td>fgfr4</td>\n",
       "      <td>fgfr</td>\n",
       "      <td>NaN</td>\n",
       "      <td>NaN</td>\n",
       "      <td>NaN</td>\n",
       "    </tr>\n",
       "  </tbody>\n",
       "</table>\n",
       "</div>"
      ],
      "text/plain": [
       "                        mention               concept  \\\n",
       "15923                       pci             picocurie   \n",
       "94061      fibrinogen clearance            fibrinogen   \n",
       "65014   ventilatory dysfunction  ejaculation disorder   \n",
       "61354       hypothalamus tissue          hypothalamus   \n",
       "101744                    fgfr4                  fgfr   \n",
       "\n",
       "                                               uid  \\\n",
       "15923   http://purl.obolibrary.org/obo/NCIT_C70516   \n",
       "94061   http://purl.obolibrary.org/obo/NCIT_C25736   \n",
       "65014   http://purl.obolibrary.org/obo/NCIT_C78264   \n",
       "61354   http://purl.obolibrary.org/obo/NCIT_C12458   \n",
       "101744                                         NaN   \n",
       "\n",
       "                                               definition  \\\n",
       "15923   A unit of radioactivity defined as 0.037 atomi...   \n",
       "94061   A fibrillar protein present in blood plasma; i...   \n",
       "65014   A disorder referring to problems related to ej...   \n",
       "61354   An important supervisory center in the brain, ...   \n",
       "101744                                                NaN   \n",
       "\n",
       "                                                 taxonomy  \n",
       "15923   [('http://purl.obolibrary.org/obo/NCIT_C48467'...  \n",
       "94061   [('http://purl.obolibrary.org/obo/NCIT_C21176'...  \n",
       "65014   [('http://purl.obolibrary.org/obo/NCIT_C27611'...  \n",
       "61354   [('http://purl.obolibrary.org/obo/NCIT_C13031'...  \n",
       "101744                                                NaN  "
      ]
     },
     "execution_count": 9,
     "metadata": {},
     "output_type": "execute_result"
    }
   ],
   "source": [
    "ontology_linking.sample(5)"
   ]
  },
  {
   "cell_type": "markdown",
   "metadata": {},
   "source": [
    "### Interactive curation of  entity occurrence data\n",
    "\n",
    "The package provides an interactive entity curation app that allows the user to visualize the entity occurrence data, modify it, perform ontology linking (see `Link to NCIT ontology` button), filter short or unfrequent entities.\n",
    "\n",
    "The field `Keep` allows specifying a set of entities that must be kept in the dataset at all times (even if they don't satisfy the selected filtering criteria).\n",
    "\n",
    "Finally the value specified in the `Generate Graphs from top 500 frequent entities` field corresponds to the number of top entities (by the frequency of their occurrence in papers) to be included in the co-occurrence network."
   ]
  },
  {
   "cell_type": "markdown",
   "metadata": {},
   "source": [
    "We load the prepared data table into the curation app as follows:"
   ]
  },
  {
   "cell_type": "code",
   "execution_count": 10,
   "metadata": {},
   "outputs": [],
   "source": [
    "curation_app.set_table(curation_input_table.copy())"
   ]
  },
  {
   "cell_type": "markdown",
   "metadata": {},
   "source": [
    "We can specify the default entities to keep."
   ]
  },
  {
   "cell_type": "code",
   "execution_count": 11,
   "metadata": {},
   "outputs": [],
   "source": [
    "default_entities_to_keep = [\"glucose\", \"covid-19\"]\n",
    "curation_app.set_default_terms_to_include(default_entities_to_keep)"
   ]
  },
  {
   "cell_type": "markdown",
   "metadata": {},
   "source": [
    "Finally, we set the ontology linking callback to be fired upon a click on the `Link to NCIT ontology` button."
   ]
  },
  {
   "cell_type": "code",
   "execution_count": 12,
   "metadata": {
    "scrolled": false
   },
   "outputs": [],
   "source": [
    "curation_app.set_ontology_linking_callback(lambda x: link_ontology(ontology_linking, type_mapping, x))"
   ]
  },
  {
   "cell_type": "markdown",
   "metadata": {},
   "source": [
    "### Launch the curation app"
   ]
  },
  {
   "cell_type": "markdown",
   "metadata": {},
   "source": [
    "The application can be launched either inline (inside the current notebook) as below."
   ]
  },
  {
   "cell_type": "code",
   "execution_count": 15,
   "metadata": {},
   "outputs": [
    {
     "data": {
      "text/html": [
       "\n",
       "        <iframe\n",
       "            width=\"100%\"\n",
       "            height=\"650\"\n",
       "            src=\"http://127.0.0.1:8072/\"\n",
       "            frameborder=\"0\"\n",
       "            allowfullscreen\n",
       "        ></iframe>\n",
       "        "
      ],
      "text/plain": [
       "<IPython.lib.display.IFrame at 0x7f9dfb84f4f0>"
      ]
     },
     "metadata": {},
     "output_type": "display_data"
    }
   ],
   "source": [
    "curation_app.run(port=8072, mode=\"inline\")"
   ]
  },
  {
   "cell_type": "markdown",
   "metadata": {},
   "source": [
    "Or it can be opened externally (by the URL that you can open in a separate tab of your browser, try uncommenting, executing and doing Ctrl+Click on the displayed URL)."
   ]
  },
  {
   "cell_type": "code",
   "execution_count": 14,
   "metadata": {},
   "outputs": [],
   "source": [
    "# curation_app.run(port=8070, mode=\"external\")"
   ]
  },
  {
   "cell_type": "markdown",
   "metadata": {},
   "source": [
    "## 3. Co-occurrence network generation"
   ]
  },
  {
   "cell_type": "markdown",
   "metadata": {},
   "source": [
    "Current curation table displayed in the curation app can be extracted using the `get_curated_table` method."
   ]
  },
  {
   "cell_type": "code",
   "execution_count": 16,
   "metadata": {},
   "outputs": [
    {
     "data": {
      "text/html": [
       "<div>\n",
       "<style scoped>\n",
       "    .dataframe tbody tr th:only-of-type {\n",
       "        vertical-align: middle;\n",
       "    }\n",
       "\n",
       "    .dataframe tbody tr th {\n",
       "        vertical-align: top;\n",
       "    }\n",
       "\n",
       "    .dataframe thead th {\n",
       "        text-align: right;\n",
       "    }\n",
       "</style>\n",
       "<table border=\"1\" class=\"dataframe\">\n",
       "  <thead>\n",
       "    <tr style=\"text-align: right;\">\n",
       "      <th></th>\n",
       "      <th>paper</th>\n",
       "      <th>section</th>\n",
       "      <th>paragraph</th>\n",
       "      <th>aggregated_entities</th>\n",
       "      <th>uid</th>\n",
       "      <th>definition</th>\n",
       "      <th>paper_frequency</th>\n",
       "      <th>entity_type</th>\n",
       "    </tr>\n",
       "    <tr>\n",
       "      <th>entity</th>\n",
       "      <th></th>\n",
       "      <th></th>\n",
       "      <th></th>\n",
       "      <th></th>\n",
       "      <th></th>\n",
       "      <th></th>\n",
       "      <th></th>\n",
       "      <th></th>\n",
       "    </tr>\n",
       "  </thead>\n",
       "  <tbody>\n",
       "    <tr>\n",
       "      <th>4e-bp1</th>\n",
       "      <td>{214924}</td>\n",
       "      <td>{214924:The Interplay Between Covid-19 And Amp...</td>\n",
       "      <td>{214924:The Interplay Between Covid-19 And Amp...</td>\n",
       "      <td>NaN</td>\n",
       "      <td>NaN</td>\n",
       "      <td>NaN</td>\n",
       "      <td>1</td>\n",
       "      <td>PROTEIN</td>\n",
       "    </tr>\n",
       "    <tr>\n",
       "      <th>ace</th>\n",
       "      <td>{214924, 179426, 184360}</td>\n",
       "      <td>{214924:The Protective Role Of Angiotensin-Con...</td>\n",
       "      <td>{214924:The Protective Role Of Angiotensin-Con...</td>\n",
       "      <td>NaN</td>\n",
       "      <td>NaN</td>\n",
       "      <td>NaN</td>\n",
       "      <td>3</td>\n",
       "      <td>PROTEIN</td>\n",
       "    </tr>\n",
       "    <tr>\n",
       "      <th>ace-2</th>\n",
       "      <td>{179426}</td>\n",
       "      <td>{179426:Role Of Antidiabetic Drugs In Current ...</td>\n",
       "      <td>{179426:Role Of Dpp4 Enzyme And Dpp4 Inhibitor...</td>\n",
       "      <td>NaN</td>\n",
       "      <td>NaN</td>\n",
       "      <td>NaN</td>\n",
       "      <td>1</td>\n",
       "      <td>PROTEIN</td>\n",
       "    </tr>\n",
       "    <tr>\n",
       "      <th>ace2</th>\n",
       "      <td>{197804, 211125, 211373, 184360, 214924, 17942...</td>\n",
       "      <td>{184360:Pathophysiology Of Covid-19, 184360:Co...</td>\n",
       "      <td>{214924:Angiotensin-Converting Enzyme 2 Expres...</td>\n",
       "      <td>NaN</td>\n",
       "      <td>NaN</td>\n",
       "      <td>NaN</td>\n",
       "      <td>7</td>\n",
       "      <td>PROTEIN</td>\n",
       "    </tr>\n",
       "    <tr>\n",
       "      <th>ace2 receptor</th>\n",
       "      <td>{214924, 211373}</td>\n",
       "      <td>{214924:Conclusion, 211373:Introduction}</td>\n",
       "      <td>{214924:Conclusion:28, 211373:Introduction:5}</td>\n",
       "      <td>NaN</td>\n",
       "      <td>NaN</td>\n",
       "      <td>NaN</td>\n",
       "      <td>2</td>\n",
       "      <td>PROTEIN</td>\n",
       "    </tr>\n",
       "  </tbody>\n",
       "</table>\n",
       "</div>"
      ],
      "text/plain": [
       "                                                           paper  \\\n",
       "entity                                                             \n",
       "4e-bp1                                                  {214924}   \n",
       "ace                                     {214924, 179426, 184360}   \n",
       "ace-2                                                   {179426}   \n",
       "ace2           {197804, 211125, 211373, 184360, 214924, 17942...   \n",
       "ace2 receptor                                   {214924, 211373}   \n",
       "\n",
       "                                                         section  \\\n",
       "entity                                                             \n",
       "4e-bp1         {214924:The Interplay Between Covid-19 And Amp...   \n",
       "ace            {214924:The Protective Role Of Angiotensin-Con...   \n",
       "ace-2          {179426:Role Of Antidiabetic Drugs In Current ...   \n",
       "ace2           {184360:Pathophysiology Of Covid-19, 184360:Co...   \n",
       "ace2 receptor           {214924:Conclusion, 211373:Introduction}   \n",
       "\n",
       "                                                       paragraph  \\\n",
       "entity                                                             \n",
       "4e-bp1         {214924:The Interplay Between Covid-19 And Amp...   \n",
       "ace            {214924:The Protective Role Of Angiotensin-Con...   \n",
       "ace-2          {179426:Role Of Dpp4 Enzyme And Dpp4 Inhibitor...   \n",
       "ace2           {214924:Angiotensin-Converting Enzyme 2 Expres...   \n",
       "ace2 receptor      {214924:Conclusion:28, 211373:Introduction:5}   \n",
       "\n",
       "               aggregated_entities  uid  definition  paper_frequency  \\\n",
       "entity                                                                 \n",
       "4e-bp1                         NaN  NaN         NaN                1   \n",
       "ace                            NaN  NaN         NaN                3   \n",
       "ace-2                          NaN  NaN         NaN                1   \n",
       "ace2                           NaN  NaN         NaN                7   \n",
       "ace2 receptor                  NaN  NaN         NaN                2   \n",
       "\n",
       "              entity_type  \n",
       "entity                     \n",
       "4e-bp1            PROTEIN  \n",
       "ace               PROTEIN  \n",
       "ace-2             PROTEIN  \n",
       "ace2              PROTEIN  \n",
       "ace2 receptor     PROTEIN  "
      ]
     },
     "execution_count": 16,
     "metadata": {},
     "output_type": "execute_result"
    }
   ],
   "source": [
    "curated_occurrence_data = curation_app.get_curated_table()\n",
    "curated_occurrence_data.head(5)"
   ]
  },
  {
   "cell_type": "markdown",
   "metadata": {},
   "source": [
    "We can also retreive current values of the `Keep` field (these entities will be also included in the resulting co-occurrence network)."
   ]
  },
  {
   "cell_type": "code",
   "execution_count": 17,
   "metadata": {},
   "outputs": [
    {
     "data": {
      "text/plain": [
       "['glucose', 'covid-19']"
      ]
     },
     "execution_count": 17,
     "metadata": {},
     "output_type": "execute_result"
    }
   ],
   "source": [
    "curation_app.get_terms_to_include()"
   ]
  },
  {
   "cell_type": "markdown",
   "metadata": {},
   "source": [
    "And the number of top frequent entities to use for network generation."
   ]
  },
  {
   "cell_type": "code",
   "execution_count": 18,
   "metadata": {},
   "outputs": [
    {
     "data": {
      "text/plain": [
       "500"
      ]
     },
     "execution_count": 18,
     "metadata": {},
     "output_type": "execute_result"
    }
   ],
   "source": [
    "curation_app.n_most_frequent"
   ]
  },
  {
   "cell_type": "markdown",
   "metadata": {},
   "source": [
    "### Generating co-occurrence networks\n",
    "\n",
    "In the cell below we generate two co-occurrence networks: for paper- and paragraph-based entity co-occurrences. Along with the network generation the `generate_cooccurrence_analysis` function \n",
    "- computes node centrality metrics (such as degree, RageRank)\n",
    "- computes co-occurrence statistics (such as frequency, pointwise mutual information and normalized pointwise mutual information) and assignes them as weights to the corresponding edges\n",
    "- performs entity community detection based on different co-occurrence statistics\n",
    "- computes mutual-information-based minimum spanning trees."
   ]
  },
  {
   "cell_type": "code",
   "execution_count": 19,
   "metadata": {},
   "outputs": [
    {
     "name": "stdout",
     "output_type": "stream",
     "text": [
      "-------------------------------\n",
      "Factor: paper\n",
      "-------------------------------\n",
      "Fitering data.....\n",
      "Selected 268 most frequent terms\n",
      "Examining 35778 pairs of terms for co-occurrence...\n",
      "Generated 23235 edges                    \n",
      "Created a co-occurrence graph:\n",
      "\tnumber of nodes:  268\n",
      "\tnumber of edges:  23235\n",
      "Saving the edges...\n",
      "Creating a graph object...\n",
      "\n",
      "Computing degree centrality statistics....\n",
      "Top n nodes by frequency:\n",
      "\tcovid-19 (684)\n",
      "\tdiabetes (681)\n",
      "\tcoronavirus (670)\n",
      "\tdiabetic (598)\n",
      "\tglucose (596)\n",
      "\tace2 (579)\n",
      "\tsars-cov-2 (572)\n",
      "\tpneumonia (565)\n",
      "\tlung (561)\n",
      "\tdeath (555)\n",
      "\n",
      "Computing PageRank centrality statistics....\n",
      "Top n nodes by frequency:\n",
      "\tcovid-19 (0.01)\n",
      "\tdiabetes (0.01)\n",
      "\tcoronavirus (0.01)\n",
      "\tglucose (0.01)\n",
      "\tdiabetic (0.01)\n",
      "\tace2 (0.01)\n",
      "\tsars-cov-2 (0.01)\n",
      "\tpneumonia (0.01)\n",
      "\tlung (0.01)\n",
      "\tdeath (0.01)\n",
      "\n",
      "Using the 'frequency' weight...\n",
      "Detecting communities...\n",
      "Best network partition:\n",
      "\t Number of communities: 4\n",
      "\t Modularity: 0.12751974989737996\n",
      "Using the 'npmi' weight...\n",
      "Detecting communities...\n",
      "Best network partition:\n",
      "\t Number of communities: 5\n",
      "\t Modularity: 0.18338637351454135\n",
      "Computing the minimum spanning tree...\n",
      "-------------------------------\n",
      "Factor: paragraph\n",
      "-------------------------------\n",
      "Fitering data.....\n",
      "Selected 268 most frequent terms\n",
      "Examining 35778 pairs of terms for co-occurrence...\n",
      "Generated 5018 edges                    \n",
      "Created a co-occurrence graph:\n",
      "\tnumber of nodes:  268\n",
      "\tnumber of edges:  5018\n",
      "Saving the edges...\n",
      "Creating a graph object...\n",
      "\n",
      "Computing degree centrality statistics....\n",
      "Top n nodes by frequency:\n",
      "\tcovid-19 (1017)\n",
      "\tdiabetes (707)\n",
      "\tsars-cov-2 (522)\n",
      "\tace2 (345)\n",
      "\tdpp4 (343)\n",
      "\tglucose (320)\n",
      "\tlung (290)\n",
      "\tviral (275)\n",
      "\tcoronavirus (269)\n",
      "\til-6 (253)\n",
      "\n",
      "Computing PageRank centrality statistics....\n",
      "Top n nodes by frequency:\n",
      "\tcovid-19 (0.05)\n",
      "\tdiabetes (0.04)\n",
      "\tsars-cov-2 (0.03)\n",
      "\tdpp4 (0.02)\n",
      "\tace2 (0.02)\n",
      "\tglucose (0.02)\n",
      "\tlung (0.01)\n",
      "\tviral (0.01)\n",
      "\tcoronavirus (0.01)\n",
      "\til-6 (0.01)\n",
      "\n",
      "Using the 'frequency' weight...\n",
      "Detecting communities...\n",
      "Best network partition:\n",
      "\t Number of communities: 4\n",
      "\t Modularity: 0.25597847283926484\n",
      "Using the 'npmi' weight...\n",
      "Detecting communities...\n",
      "Best network partition:\n",
      "\t Number of communities: 7\n",
      "\t Modularity: 0.35373467419375665\n",
      "Computing the minimum spanning tree...\n",
      "Done.\n",
      "CPU times: user 2.4 s, sys: 509 ms, total: 2.91 s\n",
      "Wall time: 16.9 s\n"
     ]
    }
   ],
   "source": [
    "%%time\n",
    "type_data = curated_occurrence_data[[\"entity_type\"]].rename(columns={\"entity_type\": \"type\"})\n",
    "\n",
    "graphs, trees = generate_cooccurrence_analysis(\n",
    "    curated_occurrence_data,  factor_counts,\n",
    "    n_most_frequent=curation_app.n_most_frequent if curation_app.n_most_frequent else 100,\n",
    "    type_data=type_data, \n",
    "    factors=[\"paper\", \"paragraph\"],\n",
    "    keep=curation_app.get_terms_to_include(),\n",
    "    cores=10)\n",
    "print(\"Done.\")"
   ]
  },
  {
   "cell_type": "markdown",
   "metadata": {},
   "source": [
    "## 4. Network visualization and analysis"
   ]
  },
  {
   "cell_type": "markdown",
   "metadata": {},
   "source": [
    "### Loading the generated graphs into the visualization app"
   ]
  },
  {
   "cell_type": "code",
   "execution_count": 20,
   "metadata": {},
   "outputs": [],
   "source": [
    "visualization_app.set_graph(\n",
    "    \"Paper-based graph\", graphs[\"paper\"],\n",
    "    tree_object=trees[\"paper\"], default_top_n=100)\n",
    "\n",
    "visualization_app.set_graph(\n",
    "    \"Paragraph-based graph\", graphs[\"paragraph\"],\n",
    "    tree_object=trees[\"paragraph\"], default_top_n=100)\n",
    "\n",
    "visualization_app.set_current_graph(\"Paragraph-based graph\")"
   ]
  },
  {
   "cell_type": "markdown",
   "metadata": {},
   "source": [
    "### Loading papers' meta-data into the app\n",
    "\n",
    "We now load an additional dataset containing some meta-data on the papers where the entities analyzed in this notebook occur."
   ]
  },
  {
   "cell_type": "code",
   "execution_count": 21,
   "metadata": {
    "scrolled": true
   },
   "outputs": [
    {
     "data": {
      "text/html": [
       "<div>\n",
       "<style scoped>\n",
       "    .dataframe tbody tr th:only-of-type {\n",
       "        vertical-align: middle;\n",
       "    }\n",
       "\n",
       "    .dataframe tbody tr th {\n",
       "        vertical-align: top;\n",
       "    }\n",
       "\n",
       "    .dataframe thead th {\n",
       "        text-align: right;\n",
       "    }\n",
       "</style>\n",
       "<table border=\"1\" class=\"dataframe\">\n",
       "  <thead>\n",
       "    <tr style=\"text-align: right;\">\n",
       "      <th></th>\n",
       "      <th>title</th>\n",
       "      <th>authors</th>\n",
       "      <th>abstract</th>\n",
       "      <th>doi</th>\n",
       "      <th>url</th>\n",
       "      <th>journal</th>\n",
       "      <th>pmc_id</th>\n",
       "      <th>pubmed_id</th>\n",
       "      <th>publish_time</th>\n",
       "    </tr>\n",
       "    <tr>\n",
       "      <th>id</th>\n",
       "      <th></th>\n",
       "      <th></th>\n",
       "      <th></th>\n",
       "      <th></th>\n",
       "      <th></th>\n",
       "      <th></th>\n",
       "      <th></th>\n",
       "      <th></th>\n",
       "      <th></th>\n",
       "    </tr>\n",
       "  </thead>\n",
       "  <tbody>\n",
       "    <tr>\n",
       "      <th>3</th>\n",
       "      <td>Surfactant protein-D and pulmonary host defense</td>\n",
       "      <td>Crouch, Erika C</td>\n",
       "      <td>Surfactant protein-D (SP-D) participates in th...</td>\n",
       "      <td>10.1186/rr19</td>\n",
       "      <td>https://www.ncbi.nlm.nih.gov/pmc/articles/PMC5...</td>\n",
       "      <td>Respir Res</td>\n",
       "      <td>PMC59549</td>\n",
       "      <td>11667972.0</td>\n",
       "      <td>2000-08-25</td>\n",
       "    </tr>\n",
       "    <tr>\n",
       "      <th>56</th>\n",
       "      <td>CLINICAL VIGNETTES</td>\n",
       "      <td>NaN</td>\n",
       "      <td>NaN</td>\n",
       "      <td>10.1046/j.1525-1497.18.s1.20.x</td>\n",
       "      <td>https://www.ncbi.nlm.nih.gov/pmc/articles/PMC1...</td>\n",
       "      <td>J Gen Intern Med</td>\n",
       "      <td>PMC1494988</td>\n",
       "      <td>12753119.0</td>\n",
       "      <td>2003-04-01</td>\n",
       "    </tr>\n",
       "    <tr>\n",
       "      <th>58</th>\n",
       "      <td>Clinical Vignettes</td>\n",
       "      <td>NaN</td>\n",
       "      <td>NaN</td>\n",
       "      <td>10.1046/j.1525-1497.2001.0160s1023.x</td>\n",
       "      <td>https://www.ncbi.nlm.nih.gov/pmc/articles/PMC1...</td>\n",
       "      <td>J Gen Intern Med</td>\n",
       "      <td>PMC1495316</td>\n",
       "      <td>11357836.0</td>\n",
       "      <td>2001-04-01</td>\n",
       "    </tr>\n",
       "  </tbody>\n",
       "</table>\n",
       "</div>"
      ],
      "text/plain": [
       "                                              title          authors  \\\n",
       "id                                                                     \n",
       "3   Surfactant protein-D and pulmonary host defense  Crouch, Erika C   \n",
       "56                               CLINICAL VIGNETTES              NaN   \n",
       "58                               Clinical Vignettes              NaN   \n",
       "\n",
       "                                             abstract  \\\n",
       "id                                                      \n",
       "3   Surfactant protein-D (SP-D) participates in th...   \n",
       "56                                                NaN   \n",
       "58                                                NaN   \n",
       "\n",
       "                                     doi  \\\n",
       "id                                         \n",
       "3                           10.1186/rr19   \n",
       "56        10.1046/j.1525-1497.18.s1.20.x   \n",
       "58  10.1046/j.1525-1497.2001.0160s1023.x   \n",
       "\n",
       "                                                  url           journal  \\\n",
       "id                                                                        \n",
       "3   https://www.ncbi.nlm.nih.gov/pmc/articles/PMC5...        Respir Res   \n",
       "56  https://www.ncbi.nlm.nih.gov/pmc/articles/PMC1...  J Gen Intern Med   \n",
       "58  https://www.ncbi.nlm.nih.gov/pmc/articles/PMC1...  J Gen Intern Med   \n",
       "\n",
       "        pmc_id   pubmed_id publish_time  \n",
       "id                                       \n",
       "3     PMC59549  11667972.0   2000-08-25  \n",
       "56  PMC1494988  12753119.0   2003-04-01  \n",
       "58  PMC1495316  11357836.0   2001-04-01  "
      ]
     },
     "execution_count": 21,
     "metadata": {},
     "output_type": "execute_result"
    }
   ],
   "source": [
    "paper_data = pd.read_csv(\"../data/Glucose_risk_3000_paper_meta_data.csv\")\n",
    "paper_data = paper_data.set_index(\"id\")\n",
    "paper_data.head(3)"
   ]
  },
  {
   "cell_type": "markdown",
   "metadata": {},
   "source": [
    "We pass a callback for the lookup of paper meta-data to the visualization app using the `set_list_papers_callback` method."
   ]
  },
  {
   "cell_type": "code",
   "execution_count": 22,
   "metadata": {},
   "outputs": [],
   "source": [
    "def list_papers(paper_data, selected_papers, limit=200):\n",
    "    selected_paper_data = paper_data.loc[[int(p) for p in selected_papers]].head(200)\n",
    "    return selected_paper_data.to_dict(\"records\")\n",
    "\n",
    "visualization_app.set_list_papers_callback(lambda x: list_papers(paper_data, x))"
   ]
  },
  {
   "cell_type": "markdown",
   "metadata": {},
   "source": [
    "The ontology linking process described above is noisy, therefore, we would like to keep a possibility of accessing, the raw entities that were linked to particular ontology concepts. For this we define the function `get_aggregated_entities` that retreives such raw entities and we pass it to the visualization app using the `set_aggregated_entities_callback` method."
   ]
  },
  {
   "cell_type": "code",
   "execution_count": 23,
   "metadata": {},
   "outputs": [],
   "source": [
    "def top_n(data_dict, n, smallest=False):\n",
    "    \"\"\"Return top `n` keys of the input dictionary by their value.\"\"\"\n",
    "    df = pd.DataFrame(dict(data_dict).items(), columns=[\"id\", \"value\"])\n",
    "    if smallest:\n",
    "        df = df.nsmallest(n, columns=[\"value\"])\n",
    "    else:\n",
    "        df = df.nlargest(n, columns=[\"value\"])\n",
    "    return(list(df[\"id\"]))\n",
    "\n",
    "\n",
    "def get_aggregated_entities(entity, n):\n",
    "    if \"aggregated_entities\" in curated_occurrence_data.columns:\n",
    "        aggregated = curated_occurrence_data.loc[entity][\"aggregated_entities\"]\n",
    "    else:\n",
    "        aggregated = [entity]\n",
    "    if curation_input_table is not None:\n",
    "        df = curation_input_table.set_index(\"entity\")\n",
    "        if entity in curated_occurrence_data.index:\n",
    "            freqs = df.loc[aggregated][\"paper_frequency\"].to_dict()\n",
    "        else:\n",
    "            return {}\n",
    "    else:\n",
    "        df = data.copy()\n",
    "        df[\"entity\"] = data[\"entity\"].apply(lambda x: x.lower())\n",
    "        freqs = df[df[\"entity\"].apply(lambda x: x.lower() in aggregated)].groupby(\"entity\").aggregate(\n",
    "            lambda x: len(x))[\"entity_type\"].to_dict()\n",
    "    if len(freqs) == 0:\n",
    "        return {}\n",
    "    return {e: freqs[e] for e in top_n(freqs, n)}\n",
    "\n",
    "visualization_app.set_aggregated_entities_callback(\n",
    "    lambda x: get_aggregated_entities(x, 10))"
   ]
  },
  {
   "cell_type": "markdown",
   "metadata": {},
   "source": [
    "Finally, we create a dictionary `definitions` that will serve the visualization app as the lookup table for accessing the definitions of different ontology concepts."
   ]
  },
  {
   "cell_type": "code",
   "execution_count": 24,
   "metadata": {},
   "outputs": [],
   "source": [
    "definitions = ontology_linking[[\"concept\", \"definition\"]].groupby(\n",
    "    \"concept\").aggregate(lambda x: list(x)[0]).to_dict()[\"definition\"]\n",
    "visualization_app.set_entity_definitons(definitions)"
   ]
  },
  {
   "cell_type": "markdown",
   "metadata": {},
   "source": [
    "### Launching the visualization app"
   ]
  },
  {
   "cell_type": "markdown",
   "metadata": {},
   "source": [
    "As before, the interactive graph visualization app can be launched in two modes: inline and external. Here we recommend the external mode for better user experience."
   ]
  },
  {
   "cell_type": "code",
   "execution_count": 25,
   "metadata": {
    "scrolled": false
   },
   "outputs": [
    {
     "name": "stdout",
     "output_type": "stream",
     "text": [
      "Dash app running on http://127.0.0.1:8082/\n"
     ]
    }
   ],
   "source": [
    "visualization_app.run(port=8082, mode=\"external\")"
   ]
  }
 ],
 "metadata": {
  "kernelspec": {
   "display_name": "bbg",
   "language": "python",
   "name": "bbg"
  },
  "language_info": {
   "codemirror_mode": {
    "name": "ipython",
    "version": 3
   },
   "file_extension": ".py",
   "mimetype": "text/x-python",
   "name": "python",
   "nbconvert_exporter": "python",
   "pygments_lexer": "ipython3",
   "version": "3.8.6"
  }
 },
 "nbformat": 4,
 "nbformat_minor": 4
}
