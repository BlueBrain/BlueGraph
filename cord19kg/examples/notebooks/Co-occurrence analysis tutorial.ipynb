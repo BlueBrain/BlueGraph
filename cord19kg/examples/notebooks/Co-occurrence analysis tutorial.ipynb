{
 "cells": [
  {
   "cell_type": "markdown",
   "metadata": {},
   "source": [
    "# Co-occurrence network analysis tutorial\n",
    "\n",
    "In this notebook we will illustrate how interactive exploration and analysis of the [CORD-19](https://www.kaggle.com/allen-institute-for-ai/CORD-19-research-challenge) dataset can be performed using the `cord19kg` package. The exploration and analysis techniques presented here focus on named entities and their co-occurrence in the scientific articles constituting the dataset.\n",
    "\n",
    "The input data for this notebook contains the named entities extracted from a small selection of 20 articles representing 10 different entity types (i.e. proteins, chemicals, drugs, diseases, condtions, organs, organisms, pathways, cell types, cell compartments). The article selection corresponds to 20 most relevant articles to the query _\"Glucose is a risk factor of COVID-19\"_ obtained using the article search model [ref to blue brain search](). The entity extraction was performed using the Named Entity Recognition (NER) techniques also included in [ref to blue brain search]().\n",
    "\n",
    "The `cord19kg` package provides a set of tools for interactive literature exploration through the named entity co-occurrence analysis consisting of the following steps:\n",
    "\n",
    "1. __Data preparation__ step converts raw mentions into aggregated entity occurrence statistics.\n",
    "2. __Data curation__ step allows the user to manage extracted entities: modify, filter them and link to the ontology.\n",
    "3. __Network generation__ step allows creating entity co-occurrence networks based on paper-, section- and paragraph-level co-occurrence relations between entities. These entity relations are quantified using mutual-information-based scores (pointwise mutual information and its normalized version).\n",
    "4. __Network visualization and analysis__ step allows the user to perform interactive network visualization, edit network elements and perform its analysis (spanning tree, mutual-information based shortest paths between entities, etc)."
   ]
  },
  {
   "cell_type": "code",
   "execution_count": 4,
   "metadata": {},
   "outputs": [],
   "source": [
    "import json\n",
    "import zipfile\n",
    "\n",
    "import pandas as pd\n",
    "\n",
    "import dash_cytoscape as cyto\n",
    "\n",
    "from cord19kg.utils import (generate_curation_table,\n",
    "                            link_ontology,\n",
    "                            generate_cooccurrence_analysis)\n",
    "from cord19kg.apps.curation_app import curation_app\n",
    "from cord19kg.apps.visualization_app import visualization_app"
   ]
  },
  {
   "cell_type": "markdown",
   "metadata": {},
   "source": [
    "The cell below loads additional graph layouts used in the graph visualization app"
   ]
  },
  {
   "cell_type": "code",
   "execution_count": 5,
   "metadata": {},
   "outputs": [],
   "source": [
    "cyto.load_extra_layouts()"
   ]
  },
  {
   "cell_type": "markdown",
   "metadata": {},
   "source": [
    "## 1. Data preparation\n",
    "\n",
    "The input dataset contains occurrences of different terms in paragraphs of scientific articles from the CORD-19 dataset previously extracted by means of a NER model."
   ]
  },
  {
   "cell_type": "code",
   "execution_count": 6,
   "metadata": {},
   "outputs": [],
   "source": [
    "data = pd.read_csv(\"../data/Glucose_risk_20_papers.csv\")"
   ]
  },
  {
   "cell_type": "code",
   "execution_count": 7,
   "metadata": {},
   "outputs": [
    {
     "data": {
      "text/html": [
       "<div>\n",
       "<style scoped>\n",
       "    .dataframe tbody tr th:only-of-type {\n",
       "        vertical-align: middle;\n",
       "    }\n",
       "\n",
       "    .dataframe tbody tr th {\n",
       "        vertical-align: top;\n",
       "    }\n",
       "\n",
       "    .dataframe thead th {\n",
       "        text-align: right;\n",
       "    }\n",
       "</style>\n",
       "<table border=\"1\" class=\"dataframe\">\n",
       "  <thead>\n",
       "    <tr style=\"text-align: right;\">\n",
       "      <th></th>\n",
       "      <th>entity</th>\n",
       "      <th>entity_type</th>\n",
       "      <th>occurrence</th>\n",
       "    </tr>\n",
       "  </thead>\n",
       "  <tbody>\n",
       "    <tr>\n",
       "      <th>2518</th>\n",
       "      <td>human angiotensin-converting enzyme 2</td>\n",
       "      <td>PROTEIN</td>\n",
       "      <td>211373:Introduction:3</td>\n",
       "    </tr>\n",
       "    <tr>\n",
       "      <th>2055</th>\n",
       "      <td>vasculopathy</td>\n",
       "      <td>DISEASE</td>\n",
       "      <td>197804:Discussion:49</td>\n",
       "    </tr>\n",
       "    <tr>\n",
       "      <th>1588</th>\n",
       "      <td>DPP4</td>\n",
       "      <td>PROTEIN</td>\n",
       "      <td>184360:Gliptins ::: Therapeutic Potential Of T...</td>\n",
       "    </tr>\n",
       "    <tr>\n",
       "      <th>2204</th>\n",
       "      <td>Diabetes</td>\n",
       "      <td>DISEASE</td>\n",
       "      <td>211125:Introduction:6</td>\n",
       "    </tr>\n",
       "    <tr>\n",
       "      <th>1806</th>\n",
       "      <td>ARBS</td>\n",
       "      <td>PROTEIN</td>\n",
       "      <td>184360:Caption:68</td>\n",
       "    </tr>\n",
       "  </tbody>\n",
       "</table>\n",
       "</div>"
      ],
      "text/plain": [
       "                                     entity entity_type  \\\n",
       "2518  human angiotensin-converting enzyme 2     PROTEIN   \n",
       "2055                           vasculopathy     DISEASE   \n",
       "1588                                   DPP4     PROTEIN   \n",
       "2204                               Diabetes     DISEASE   \n",
       "1806                                   ARBS     PROTEIN   \n",
       "\n",
       "                                             occurrence  \n",
       "2518                              211373:Introduction:3  \n",
       "2055                               197804:Discussion:49  \n",
       "1588  184360:Gliptins ::: Therapeutic Potential Of T...  \n",
       "2204                              211125:Introduction:6  \n",
       "1806                                  184360:Caption:68  "
      ]
     },
     "execution_count": 7,
     "metadata": {},
     "output_type": "execute_result"
    }
   ],
   "source": [
    "data.sample(5)"
   ]
  },
  {
   "cell_type": "markdown",
   "metadata": {},
   "source": [
    "On the first preparation step, we group and aggregate the input data by unique entities."
   ]
  },
  {
   "cell_type": "code",
   "execution_count": 8,
   "metadata": {},
   "outputs": [
    {
     "name": "stdout",
     "output_type": "stream",
     "text": [
      "Prepating curatation data...\n",
      "Cleaning up the entities...\n",
      "Aggregating occurrences of entities....\n",
      "Done.\n",
      "CPU times: user 200 ms, sys: 6.35 ms, total: 206 ms\n",
      "Wall time: 204 ms\n"
     ]
    }
   ],
   "source": [
    "%%time\n",
    "print(\"Prepating curatation data...\")\n",
    "curation_input_table, factor_counts = generate_curation_table(data)\n",
    "print(\"Done.\")"
   ]
  },
  {
   "cell_type": "markdown",
   "metadata": {},
   "source": [
    "The resulting dataframe contains a row per unique named entity together with the following occurrence data: \n",
    "- sets of unique paragraphs, papers, sections, where the corresponding entity is mentioned (`paper`, `section`, `paragraph` columns);\n",
    "- number of total entity occurrences (the `raw_frequency` column);\n",
    "- number of unique papers where it occurs (the `paper_frequency` column);\n",
    "- unique entity types assigned by the NER model (the `entity_type` column, multiple types are possible).\n",
    "- raw entity types assigned by the NER model with the multiplicity of thier occurrence (the `raw_entity_types` column).\n"
   ]
  },
  {
   "cell_type": "code",
   "execution_count": 9,
   "metadata": {},
   "outputs": [
    {
     "data": {
      "text/html": [
       "<div>\n",
       "<style scoped>\n",
       "    .dataframe tbody tr th:only-of-type {\n",
       "        vertical-align: middle;\n",
       "    }\n",
       "\n",
       "    .dataframe tbody tr th {\n",
       "        vertical-align: top;\n",
       "    }\n",
       "\n",
       "    .dataframe thead th {\n",
       "        text-align: right;\n",
       "    }\n",
       "</style>\n",
       "<table border=\"1\" class=\"dataframe\">\n",
       "  <thead>\n",
       "    <tr style=\"text-align: right;\">\n",
       "      <th></th>\n",
       "      <th>entity</th>\n",
       "      <th>entity_type</th>\n",
       "      <th>paragraph</th>\n",
       "      <th>paper</th>\n",
       "      <th>section</th>\n",
       "      <th>paper_frequency</th>\n",
       "      <th>raw_entity_types</th>\n",
       "      <th>raw_frequency</th>\n",
       "    </tr>\n",
       "  </thead>\n",
       "  <tbody>\n",
       "    <tr>\n",
       "      <th>110</th>\n",
       "      <td>glycated hemoglobin</td>\n",
       "      <td>CHEMICAL</td>\n",
       "      <td>[184360:Cardiovascular Effects Of Sdpp4 Upregu...</td>\n",
       "      <td>[184360, 179426]</td>\n",
       "      <td>[184360:Gliptins , 179426:Association Of Diabe...</td>\n",
       "      <td>2</td>\n",
       "      <td>[CHEMICAL, CHEMICAL, CHEMICAL]</td>\n",
       "      <td>3</td>\n",
       "    </tr>\n",
       "    <tr>\n",
       "      <th>87</th>\n",
       "      <td>diabetic ketoacidosis</td>\n",
       "      <td>DISEASE</td>\n",
       "      <td>[179426:Glycemic Control ::: Special Aspects O...</td>\n",
       "      <td>[214924, 197804, 139943, 179426]</td>\n",
       "      <td>[214924:Angiotensin-Converting Enzyme 2 Expres...</td>\n",
       "      <td>4</td>\n",
       "      <td>[DISEASE, DISEASE, DISEASE, DISEASE]</td>\n",
       "      <td>4</td>\n",
       "    </tr>\n",
       "    <tr>\n",
       "      <th>137</th>\n",
       "      <td>ibuprofen</td>\n",
       "      <td>DRUG</td>\n",
       "      <td>[214924:Angiotensin-Converting Enzyme 2 Expres...</td>\n",
       "      <td>[214924, 197804]</td>\n",
       "      <td>[214924:Angiotensin-Converting Enzyme 2 Expres...</td>\n",
       "      <td>2</td>\n",
       "      <td>[DRUG, DRUG, DRUG, DRUG, DRUG]</td>\n",
       "      <td>5</td>\n",
       "    </tr>\n",
       "    <tr>\n",
       "      <th>127</th>\n",
       "      <td>humans</td>\n",
       "      <td>ORGANISM</td>\n",
       "      <td>[214924:Angiotensin-Converting Enzyme 2 Expres...</td>\n",
       "      <td>[214924, 184360]</td>\n",
       "      <td>[214924:Angiotensin-Converting Enzyme 2 Expres...</td>\n",
       "      <td>2</td>\n",
       "      <td>[ORGANISM, ORGANISM, ORGANISM, ORGANISM]</td>\n",
       "      <td>4</td>\n",
       "    </tr>\n",
       "    <tr>\n",
       "      <th>42</th>\n",
       "      <td>bnp</td>\n",
       "      <td>PROTEIN</td>\n",
       "      <td>[184360:Cardiovascular Effects Of Sdpp4 Upregu...</td>\n",
       "      <td>[184360]</td>\n",
       "      <td>[184360:Gliptins , 184360:Cardiovascular Effec...</td>\n",
       "      <td>1</td>\n",
       "      <td>[PROTEIN, PROTEIN, PROTEIN]</td>\n",
       "      <td>3</td>\n",
       "    </tr>\n",
       "  </tbody>\n",
       "</table>\n",
       "</div>"
      ],
      "text/plain": [
       "                    entity entity_type  \\\n",
       "110    glycated hemoglobin    CHEMICAL   \n",
       "87   diabetic ketoacidosis     DISEASE   \n",
       "137              ibuprofen        DRUG   \n",
       "127                 humans    ORGANISM   \n",
       "42                     bnp     PROTEIN   \n",
       "\n",
       "                                             paragraph  \\\n",
       "110  [184360:Cardiovascular Effects Of Sdpp4 Upregu...   \n",
       "87   [179426:Glycemic Control ::: Special Aspects O...   \n",
       "137  [214924:Angiotensin-Converting Enzyme 2 Expres...   \n",
       "127  [214924:Angiotensin-Converting Enzyme 2 Expres...   \n",
       "42   [184360:Cardiovascular Effects Of Sdpp4 Upregu...   \n",
       "\n",
       "                                paper  \\\n",
       "110                  [184360, 179426]   \n",
       "87   [214924, 197804, 139943, 179426]   \n",
       "137                  [214924, 197804]   \n",
       "127                  [214924, 184360]   \n",
       "42                           [184360]   \n",
       "\n",
       "                                               section  paper_frequency  \\\n",
       "110  [184360:Gliptins , 179426:Association Of Diabe...                2   \n",
       "87   [214924:Angiotensin-Converting Enzyme 2 Expres...                4   \n",
       "137  [214924:Angiotensin-Converting Enzyme 2 Expres...                2   \n",
       "127  [214924:Angiotensin-Converting Enzyme 2 Expres...                2   \n",
       "42   [184360:Gliptins , 184360:Cardiovascular Effec...                1   \n",
       "\n",
       "                             raw_entity_types  raw_frequency  \n",
       "110            [CHEMICAL, CHEMICAL, CHEMICAL]              3  \n",
       "87       [DISEASE, DISEASE, DISEASE, DISEASE]              4  \n",
       "137            [DRUG, DRUG, DRUG, DRUG, DRUG]              5  \n",
       "127  [ORGANISM, ORGANISM, ORGANISM, ORGANISM]              4  \n",
       "42                [PROTEIN, PROTEIN, PROTEIN]              3  "
      ]
     },
     "execution_count": 9,
     "metadata": {},
     "output_type": "execute_result"
    }
   ],
   "source": [
    "curation_input_table.sample(5)"
   ]
  },
  {
   "cell_type": "markdown",
   "metadata": {},
   "source": [
    "The second output of the data preparation step outputs the counts of different instances of occurrence factors: number of distinct papers/sections/paragraphs in the input corpus."
   ]
  },
  {
   "cell_type": "code",
   "execution_count": 10,
   "metadata": {},
   "outputs": [
    {
     "data": {
      "text/plain": [
       "{'paper': 20, 'section': 108, 'paragraph': 286}"
      ]
     },
     "execution_count": 10,
     "metadata": {},
     "output_type": "execute_result"
    }
   ],
   "source": [
    "factor_counts"
   ]
  },
  {
   "cell_type": "markdown",
   "metadata": {},
   "source": [
    "## 2. Data curation"
   ]
  },
  {
   "cell_type": "markdown",
   "metadata": {},
   "source": [
    "### Loading the NCIT ontology linking data"
   ]
  },
  {
   "cell_type": "markdown",
   "metadata": {},
   "source": [
    "To group synonymical entities in the previously extracted table (e.g. `ace2`, `ace-2`, `angiotensin-converting enzyme 2`), as well as assign additional semantics to these entities (e.g. human-readable definition, taxonomy, etc), we peform further _linking_ of the entities to the terms from the [NCIT ontology](https://ncithesaurus.nci.nih.gov/ncitbrowser/).\n",
    "\n",
    "To be able to perform such ontology linking, we load some additional (pre-computed using ML-based linking models) data."
   ]
  },
  {
   "cell_type": "code",
   "execution_count": 11,
   "metadata": {},
   "outputs": [
    {
     "name": "stdout",
     "output_type": "stream",
     "text": [
      "Loading the ontology linking data...\n",
      "\tDecompressing the input data file...\n",
      "\tLoading the linking dataframe in memory...\n",
      "\tLoading ontology type mapping...\n",
      "Done.\n",
      "CPU times: user 973 ms, sys: 118 ms, total: 1.09 s\n",
      "Wall time: 1.1 s\n"
     ]
    }
   ],
   "source": [
    "%%time\n",
    "print(\"Loading the ontology linking data...\")\n",
    "    \n",
    "print(\"\\tDecompressing the input data file...\")\n",
    "with zipfile.ZipFile(\"../data/NCIT_ontology_linking_3000_papers.csv.zip\", 'r') as zip_ref:\n",
    "    zip_ref.extractall(\"../data/\")\n",
    "\n",
    "print(\"\\tLoading the linking dataframe in memory...\")\n",
    "ontology_linking = pd.read_csv(\"../data/NCIT_ontology_linking_3000_papers.csv\")\n",
    "\n",
    "print(\"\\tLoading ontology type mapping...\")\n",
    "with open(\"../data/NCIT_type_mapping.json\", \"rb\") as f:\n",
    "    type_mapping = json.load(f)\n",
    "print(\"Done.\")"
   ]
  },
  {
   "cell_type": "markdown",
   "metadata": {},
   "source": [
    "The ontology linking table contains the following columns:\n",
    "- `mention` entity mentioned in the text\n",
    "- `concept` ontology concept linked to the entity mention\n",
    "- `uid` unique identifier of the ontology concept\n",
    "- `definition` definition of the concept\n",
    "- `taxonomy` taxonomy of semantic types associated with the concept"
   ]
  },
  {
   "cell_type": "code",
   "execution_count": 12,
   "metadata": {
    "scrolled": true
   },
   "outputs": [
    {
     "data": {
      "text/html": [
       "<div>\n",
       "<style scoped>\n",
       "    .dataframe tbody tr th:only-of-type {\n",
       "        vertical-align: middle;\n",
       "    }\n",
       "\n",
       "    .dataframe tbody tr th {\n",
       "        vertical-align: top;\n",
       "    }\n",
       "\n",
       "    .dataframe thead th {\n",
       "        text-align: right;\n",
       "    }\n",
       "</style>\n",
       "<table border=\"1\" class=\"dataframe\">\n",
       "  <thead>\n",
       "    <tr style=\"text-align: right;\">\n",
       "      <th></th>\n",
       "      <th>mention</th>\n",
       "      <th>concept</th>\n",
       "      <th>uid</th>\n",
       "      <th>definition</th>\n",
       "      <th>taxonomy</th>\n",
       "    </tr>\n",
       "  </thead>\n",
       "  <tbody>\n",
       "    <tr>\n",
       "      <th>12544</th>\n",
       "      <td>m. fatehi</td>\n",
       "      <td>neuroendocrine cell hyperplasia of infancy</td>\n",
       "      <td>http://purl.obolibrary.org/obo/NCIT_C120169</td>\n",
       "      <td>A form of interstitial lung disease characteri...</td>\n",
       "      <td>[('http://purl.obolibrary.org/obo/NCIT_C3113',...</td>\n",
       "    </tr>\n",
       "    <tr>\n",
       "      <th>150681</th>\n",
       "      <td>oligosaccharide moieties</td>\n",
       "      <td>oligosaccharide</td>\n",
       "      <td>http://purl.obolibrary.org/obo/NCIT_C714</td>\n",
       "      <td>NaN</td>\n",
       "      <td>[('http://purl.obolibrary.org/obo/NCIT_C68470'...</td>\n",
       "    </tr>\n",
       "    <tr>\n",
       "      <th>141639</th>\n",
       "      <td>immune system dysfunction</td>\n",
       "      <td>immune system disorder</td>\n",
       "      <td>http://purl.obolibrary.org/obo/NCIT_C3507</td>\n",
       "      <td>A disorder resulting from an abnormality in th...</td>\n",
       "      <td>[('http://purl.obolibrary.org/obo/NCIT_C27351'...</td>\n",
       "    </tr>\n",
       "    <tr>\n",
       "      <th>30159</th>\n",
       "      <td>ireland</td>\n",
       "      <td>ireland</td>\n",
       "      <td>http://purl.obolibrary.org/obo/NCIT_C16757</td>\n",
       "      <td>A country in western Europe, occupying five-si...</td>\n",
       "      <td>[('http://purl.obolibrary.org/obo/NCIT_C25464'...</td>\n",
       "    </tr>\n",
       "    <tr>\n",
       "      <th>105711</th>\n",
       "      <td>bronchoalveolar lavage (bal) clinical samples</td>\n",
       "      <td>bronchoalveolar lavage</td>\n",
       "      <td>http://purl.obolibrary.org/obo/NCIT_C51913</td>\n",
       "      <td>Washing out the bronchi and alveoli by flushin...</td>\n",
       "      <td>[('http://purl.obolibrary.org/obo/NCIT_C38068'...</td>\n",
       "    </tr>\n",
       "  </tbody>\n",
       "</table>\n",
       "</div>"
      ],
      "text/plain": [
       "                                              mention  \\\n",
       "12544                                       m. fatehi   \n",
       "150681                       oligosaccharide moieties   \n",
       "141639                      immune system dysfunction   \n",
       "30159                                         ireland   \n",
       "105711  bronchoalveolar lavage (bal) clinical samples   \n",
       "\n",
       "                                           concept  \\\n",
       "12544   neuroendocrine cell hyperplasia of infancy   \n",
       "150681                             oligosaccharide   \n",
       "141639                      immune system disorder   \n",
       "30159                                      ireland   \n",
       "105711                      bronchoalveolar lavage   \n",
       "\n",
       "                                                uid  \\\n",
       "12544   http://purl.obolibrary.org/obo/NCIT_C120169   \n",
       "150681     http://purl.obolibrary.org/obo/NCIT_C714   \n",
       "141639    http://purl.obolibrary.org/obo/NCIT_C3507   \n",
       "30159    http://purl.obolibrary.org/obo/NCIT_C16757   \n",
       "105711   http://purl.obolibrary.org/obo/NCIT_C51913   \n",
       "\n",
       "                                               definition  \\\n",
       "12544   A form of interstitial lung disease characteri...   \n",
       "150681                                                NaN   \n",
       "141639  A disorder resulting from an abnormality in th...   \n",
       "30159   A country in western Europe, occupying five-si...   \n",
       "105711  Washing out the bronchi and alveoli by flushin...   \n",
       "\n",
       "                                                 taxonomy  \n",
       "12544   [('http://purl.obolibrary.org/obo/NCIT_C3113',...  \n",
       "150681  [('http://purl.obolibrary.org/obo/NCIT_C68470'...  \n",
       "141639  [('http://purl.obolibrary.org/obo/NCIT_C27351'...  \n",
       "30159   [('http://purl.obolibrary.org/obo/NCIT_C25464'...  \n",
       "105711  [('http://purl.obolibrary.org/obo/NCIT_C38068'...  "
      ]
     },
     "execution_count": 12,
     "metadata": {},
     "output_type": "execute_result"
    }
   ],
   "source": [
    "ontology_linking.sample(5)"
   ]
  },
  {
   "cell_type": "markdown",
   "metadata": {},
   "source": [
    "### Interactive curation of  entity occurrence data\n",
    "\n",
    "The package provides an interactive entity curation app that allows the user to visualize the entity occurrence data, modify it, perform ontology linking (see `Link to NCIT ontology` button), filter short or unfrequent entities.\n",
    "\n",
    "The field `Keep` allows specifying a set of entities that must be kept in the dataset at all times (even if they don't satisfy the selected filtering criteria).\n",
    "\n",
    "Finally the value specified in the `Generate Graphs from top 500 frequent entities` field corresponds to the number of top entities (by the frequency of their occurrence in papers) to be included in the co-occurrence network."
   ]
  },
  {
   "cell_type": "markdown",
   "metadata": {},
   "source": [
    "We load the prepared data table into the curation app as follows:"
   ]
  },
  {
   "cell_type": "code",
   "execution_count": 13,
   "metadata": {},
   "outputs": [],
   "source": [
    "curation_app.set_table(curation_input_table.copy())"
   ]
  },
  {
   "cell_type": "markdown",
   "metadata": {},
   "source": [
    "We can specify the default entities to keep."
   ]
  },
  {
   "cell_type": "code",
   "execution_count": 14,
   "metadata": {},
   "outputs": [],
   "source": [
    "default_entities_to_keep = [\"glucose\", \"covid-19\"]\n",
    "curation_app.set_default_terms_to_include(default_entities_to_keep)"
   ]
  },
  {
   "cell_type": "markdown",
   "metadata": {},
   "source": [
    "Finally, we set the ontology linking callback to be fired upon a click on the `Link to NCIT ontology` button."
   ]
  },
  {
   "cell_type": "code",
   "execution_count": 15,
   "metadata": {
    "scrolled": false
   },
   "outputs": [],
   "source": [
    "curation_app.set_ontology_linking_callback(lambda x: link_ontology(ontology_linking, type_mapping, x))"
   ]
  },
  {
   "cell_type": "markdown",
   "metadata": {},
   "source": [
    "### Launch the curation app"
   ]
  },
  {
   "cell_type": "markdown",
   "metadata": {},
   "source": [
    "The application can be launched either inline (inside the current notebook) as below."
   ]
  },
  {
   "cell_type": "code",
   "execution_count": 19,
   "metadata": {},
   "outputs": [
    {
     "data": {
      "text/html": [
       "\n",
       "        <iframe\n",
       "            width=\"100%\"\n",
       "            height=\"650\"\n",
       "            src=\"http://127.0.0.1:8072/\"\n",
       "            frameborder=\"0\"\n",
       "            allowfullscreen\n",
       "        ></iframe>\n",
       "        "
      ],
      "text/plain": [
       "<IPython.lib.display.IFrame at 0x7ffa74f52280>"
      ]
     },
     "metadata": {},
     "output_type": "display_data"
    },
    {
     "name": "stdout",
     "output_type": "stream",
     "text": [
      "Merging the occurrence data with the ontology linking...\n"
     ]
    }
   ],
   "source": [
    "curation_app.run(port=8072, mode=\"inline\")"
   ]
  },
  {
   "cell_type": "markdown",
   "metadata": {},
   "source": [
    "Or it can be opened externally (by the URL that you can open in a separate tab of your browser, try uncommenting, executing and doing Ctrl+Click on the displayed URL)."
   ]
  },
  {
   "cell_type": "code",
   "execution_count": 20,
   "metadata": {},
   "outputs": [],
   "source": [
    "# curation_app.run(port=8070, mode=\"external\")"
   ]
  },
  {
   "cell_type": "markdown",
   "metadata": {},
   "source": [
    "## 3. Co-occurrence network generation"
   ]
  },
  {
   "cell_type": "markdown",
   "metadata": {},
   "source": [
    "Current curation table displayed in the curation app can be extracted using the `get_curated_table` method."
   ]
  },
  {
   "cell_type": "code",
   "execution_count": 21,
   "metadata": {},
   "outputs": [
    {
     "data": {
      "text/html": [
       "<div>\n",
       "<style scoped>\n",
       "    .dataframe tbody tr th:only-of-type {\n",
       "        vertical-align: middle;\n",
       "    }\n",
       "\n",
       "    .dataframe tbody tr th {\n",
       "        vertical-align: top;\n",
       "    }\n",
       "\n",
       "    .dataframe thead th {\n",
       "        text-align: right;\n",
       "    }\n",
       "</style>\n",
       "<table border=\"1\" class=\"dataframe\">\n",
       "  <thead>\n",
       "    <tr style=\"text-align: right;\">\n",
       "      <th></th>\n",
       "      <th>paper</th>\n",
       "      <th>section</th>\n",
       "      <th>paragraph</th>\n",
       "      <th>aggregated_entities</th>\n",
       "      <th>uid</th>\n",
       "      <th>definition</th>\n",
       "      <th>paper_frequency</th>\n",
       "      <th>entity_type</th>\n",
       "    </tr>\n",
       "    <tr>\n",
       "      <th>entity</th>\n",
       "      <th></th>\n",
       "      <th></th>\n",
       "      <th></th>\n",
       "      <th></th>\n",
       "      <th></th>\n",
       "      <th></th>\n",
       "      <th></th>\n",
       "      <th></th>\n",
       "    </tr>\n",
       "  </thead>\n",
       "  <tbody>\n",
       "    <tr>\n",
       "      <th>4e-bp1</th>\n",
       "      <td>{214924}</td>\n",
       "      <td>{214924:The Interplay Between Covid-19 And Amp...</td>\n",
       "      <td>{214924:The Interplay Between Covid-19 And Amp...</td>\n",
       "      <td>[4e-bp1]</td>\n",
       "      <td>NaN</td>\n",
       "      <td>NaN</td>\n",
       "      <td>1</td>\n",
       "      <td>PROTEIN</td>\n",
       "    </tr>\n",
       "    <tr>\n",
       "      <th>ace inhibitor</th>\n",
       "      <td>{197804, 184360}</td>\n",
       "      <td>{184360:Combined Therapeutic Potential Targeti...</td>\n",
       "      <td>{197804:Management Of Children And Young Peopl...</td>\n",
       "      <td>[acei]</td>\n",
       "      <td>http://purl.obolibrary.org/obo/NCIT_C247</td>\n",
       "      <td>Any substance that inhibits angiotensin-conver...</td>\n",
       "      <td>2</td>\n",
       "      <td>DRUG</td>\n",
       "    </tr>\n",
       "    <tr>\n",
       "      <th>acetaminophen</th>\n",
       "      <td>{197804, 179426}</td>\n",
       "      <td>{197804:Management Of Children And Young Peopl...</td>\n",
       "      <td>{197804:Discussion:51, 197804:Discussion:52, 1...</td>\n",
       "      <td>[acetaminophen, paracetamol]</td>\n",
       "      <td>http://purl.obolibrary.org/obo/NCIT_C198</td>\n",
       "      <td>A p-aminophenol derivative with analgesic and ...</td>\n",
       "      <td>2</td>\n",
       "      <td>DRUG</td>\n",
       "    </tr>\n",
       "    <tr>\n",
       "      <th>acute lung injury</th>\n",
       "      <td>{214924, 197804, 184360, 179426}</td>\n",
       "      <td>{214924:The Immune Response To Sars-Cov-2 , 18...</td>\n",
       "      <td>{184360:Caption:71, 184360:Rhace2 As Decoy Fac...</td>\n",
       "      <td>[ali, lung injury]</td>\n",
       "      <td>http://purl.obolibrary.org/obo/NCIT_C155766</td>\n",
       "      <td>A finding of acute onset of bilateral pulmonar...</td>\n",
       "      <td>4</td>\n",
       "      <td>DISEASE</td>\n",
       "    </tr>\n",
       "    <tr>\n",
       "      <th>acute respiratory distress syndrome</th>\n",
       "      <td>{197804, 184360, 211125, 179426, 214924, 129074}</td>\n",
       "      <td>{211125:Introduction, 214924:The Immune Respon...</td>\n",
       "      <td>{211125:Discussion:23, 184360:Caption:71, 1794...</td>\n",
       "      <td>[acute respiratory distress syndrome, ards]</td>\n",
       "      <td>http://purl.obolibrary.org/obo/NCIT_C3353</td>\n",
       "      <td>Progressive and life-threatening pulmonary dis...</td>\n",
       "      <td>6</td>\n",
       "      <td>DISEASE</td>\n",
       "    </tr>\n",
       "  </tbody>\n",
       "</table>\n",
       "</div>"
      ],
      "text/plain": [
       "                                                                                paper  \\\n",
       "entity                                                                                  \n",
       "4e-bp1                                                                       {214924}   \n",
       "ace inhibitor                                                        {197804, 184360}   \n",
       "acetaminophen                                                        {197804, 179426}   \n",
       "acute lung injury                                    {214924, 197804, 184360, 179426}   \n",
       "acute respiratory distress syndrome  {197804, 184360, 211125, 179426, 214924, 129074}   \n",
       "\n",
       "                                                                               section  \\\n",
       "entity                                                                                   \n",
       "4e-bp1                               {214924:The Interplay Between Covid-19 And Amp...   \n",
       "ace inhibitor                        {184360:Combined Therapeutic Potential Targeti...   \n",
       "acetaminophen                        {197804:Management Of Children And Young Peopl...   \n",
       "acute lung injury                    {214924:The Immune Response To Sars-Cov-2 , 18...   \n",
       "acute respiratory distress syndrome  {211125:Introduction, 214924:The Immune Respon...   \n",
       "\n",
       "                                                                             paragraph  \\\n",
       "entity                                                                                   \n",
       "4e-bp1                               {214924:The Interplay Between Covid-19 And Amp...   \n",
       "ace inhibitor                        {197804:Management Of Children And Young Peopl...   \n",
       "acetaminophen                        {197804:Discussion:51, 197804:Discussion:52, 1...   \n",
       "acute lung injury                    {184360:Caption:71, 184360:Rhace2 As Decoy Fac...   \n",
       "acute respiratory distress syndrome  {211125:Discussion:23, 184360:Caption:71, 1794...   \n",
       "\n",
       "                                                             aggregated_entities  \\\n",
       "entity                                                                             \n",
       "4e-bp1                                                                  [4e-bp1]   \n",
       "ace inhibitor                                                             [acei]   \n",
       "acetaminophen                                       [acetaminophen, paracetamol]   \n",
       "acute lung injury                                             [ali, lung injury]   \n",
       "acute respiratory distress syndrome  [acute respiratory distress syndrome, ards]   \n",
       "\n",
       "                                                                             uid  \\\n",
       "entity                                                                             \n",
       "4e-bp1                                                                       NaN   \n",
       "ace inhibitor                           http://purl.obolibrary.org/obo/NCIT_C247   \n",
       "acetaminophen                           http://purl.obolibrary.org/obo/NCIT_C198   \n",
       "acute lung injury                    http://purl.obolibrary.org/obo/NCIT_C155766   \n",
       "acute respiratory distress syndrome    http://purl.obolibrary.org/obo/NCIT_C3353   \n",
       "\n",
       "                                                                            definition  \\\n",
       "entity                                                                                   \n",
       "4e-bp1                                                                             NaN   \n",
       "ace inhibitor                        Any substance that inhibits angiotensin-conver...   \n",
       "acetaminophen                        A p-aminophenol derivative with analgesic and ...   \n",
       "acute lung injury                    A finding of acute onset of bilateral pulmonar...   \n",
       "acute respiratory distress syndrome  Progressive and life-threatening pulmonary dis...   \n",
       "\n",
       "                                     paper_frequency entity_type  \n",
       "entity                                                            \n",
       "4e-bp1                                             1     PROTEIN  \n",
       "ace inhibitor                                      2        DRUG  \n",
       "acetaminophen                                      2        DRUG  \n",
       "acute lung injury                                  4     DISEASE  \n",
       "acute respiratory distress syndrome                6     DISEASE  "
      ]
     },
     "execution_count": 21,
     "metadata": {},
     "output_type": "execute_result"
    }
   ],
   "source": [
    "curated_occurrence_data = curation_app.get_curated_table()\n",
    "curated_occurrence_data.head(5)"
   ]
  },
  {
   "cell_type": "markdown",
   "metadata": {},
   "source": [
    "We can also retreive current values of the `Keep` field (these entities will be also included in the resulting co-occurrence network)."
   ]
  },
  {
   "cell_type": "code",
   "execution_count": 22,
   "metadata": {},
   "outputs": [
    {
     "data": {
      "text/plain": [
       "['glucose', 'covid-19']"
      ]
     },
     "execution_count": 22,
     "metadata": {},
     "output_type": "execute_result"
    }
   ],
   "source": [
    "curation_app.get_terms_to_include()"
   ]
  },
  {
   "cell_type": "markdown",
   "metadata": {},
   "source": [
    "And the number of top frequent entities to use for network generation."
   ]
  },
  {
   "cell_type": "code",
   "execution_count": 23,
   "metadata": {},
   "outputs": [
    {
     "data": {
      "text/plain": [
       "500"
      ]
     },
     "execution_count": 23,
     "metadata": {},
     "output_type": "execute_result"
    }
   ],
   "source": [
    "curation_app.n_most_frequent"
   ]
  },
  {
   "cell_type": "markdown",
   "metadata": {},
   "source": [
    "### Generating co-occurrence networks\n",
    "\n",
    "In the cell below we generate two co-occurrence networks: for paper- and paragraph-based entity co-occurrences. Along with the network generation the `generate_cooccurrence_analysis` function \n",
    "- computes node centrality metrics (such as degree, RageRank)\n",
    "- computes co-occurrence statistics (such as frequency, pointwise mutual information and normalized pointwise mutual information) and assignes them as weights to the corresponding edges\n",
    "- performs entity community detection based on different co-occurrence statistics\n",
    "- computes mutual-information-based minimum spanning trees."
   ]
  },
  {
   "cell_type": "code",
   "execution_count": 24,
   "metadata": {},
   "outputs": [
    {
     "name": "stdout",
     "output_type": "stream",
     "text": [
      "-------------------------------\n",
      "Factor: paper\n",
      "-------------------------------\n",
      "Fitering data.....\n",
      "Selected 215 most frequent terms\n",
      "Examining 23005 pairs of terms for co-occurrence...\n",
      "Generated 15756 edges                    \n",
      "Created a co-occurrence graph:\n",
      "\tnumber of nodes:  215\n",
      "\tnumber of edges:  15756\n",
      "Saving the edges...\n",
      "Creating a graph object...\n",
      "\n",
      "Computing degree centrality statistics....\n",
      "Top n nodes by frequency:\n",
      "\tcovid-19 (587)\n",
      "\tdiabetes mellitus (584)\n",
      "\tcoronavirus (574)\n",
      "\tglucose (513)\n",
      "\tglyburide (507)\n",
      "\tsars coronavirus (498)\n",
      "\tangiotensin-converting enzyme 2 (489)\n",
      "\tvirus (489)\n",
      "\tsars-cov-2 (483)\n",
      "\tpneumonia (481)\n",
      "\n",
      "Computing PageRank centrality statistics....\n",
      "Top n nodes by frequency:\n",
      "\tcovid-19 (0.01)\n",
      "\tdiabetes mellitus (0.01)\n",
      "\tcoronavirus (0.01)\n",
      "\tglucose (0.01)\n",
      "\tglyburide (0.01)\n",
      "\tsars coronavirus (0.01)\n",
      "\tangiotensin-converting enzyme 2 (0.01)\n",
      "\tvirus (0.01)\n",
      "\tsars-cov-2 (0.01)\n",
      "\tpneumonia (0.01)\n",
      "\n",
      "Using the 'frequency' weight...\n",
      "Detecting communities...\n",
      "Best network partition:\n",
      "\t Number of communities: 3\n",
      "\t Modularity: 0.11893850259984833\n",
      "Using the 'npmi' weight...\n",
      "Detecting communities...\n",
      "Best network partition:\n",
      "\t Number of communities: 5\n",
      "\t Modularity: 0.1808253634143621\n",
      "Computing the minimum spanning tree...\n",
      "-------------------------------\n",
      "Factor: paragraph\n",
      "-------------------------------\n",
      "Fitering data.....\n",
      "Selected 215 most frequent terms\n",
      "Examining 23005 pairs of terms for co-occurrence...\n",
      "Generated 3912 edges                    \n",
      "Created a co-occurrence graph:\n",
      "\tnumber of nodes:  215\n",
      "\tnumber of edges:  3912\n",
      "Saving the edges...\n",
      "Creating a graph object...\n",
      "\n",
      "Computing degree centrality statistics....\n",
      "Top n nodes by frequency:\n",
      "\tcovid-19 (1057)\n",
      "\tdiabetes mellitus (818)\n",
      "\tsars-cov-2 (478)\n",
      "\tangiotensin-converting enzyme 2 (357)\n",
      "\tdipeptidyl peptidase 4 (325)\n",
      "\tlung (313)\n",
      "\tglucose (306)\n",
      "\tviral (257)\n",
      "\tcoronavirus (253)\n",
      "\tinterleukin-6 (242)\n",
      "\n",
      "Computing PageRank centrality statistics....\n",
      "Top n nodes by frequency:\n",
      "\tcovid-19 (0.06)\n",
      "\tdiabetes mellitus (0.05)\n",
      "\tsars-cov-2 (0.03)\n",
      "\tangiotensin-converting enzyme 2 (0.02)\n",
      "\tdipeptidyl peptidase 4 (0.02)\n",
      "\tglucose (0.02)\n",
      "\tlung (0.02)\n",
      "\tviral (0.02)\n",
      "\tcoronavirus (0.01)\n",
      "\tinterleukin-6 (0.01)\n",
      "\n",
      "Using the 'frequency' weight...\n",
      "Detecting communities...\n",
      "Best network partition:\n",
      "\t Number of communities: 4\n",
      "\t Modularity: 0.21293792918806884\n",
      "Using the 'npmi' weight...\n",
      "Detecting communities...\n",
      "Best network partition:\n",
      "\t Number of communities: 8\n",
      "\t Modularity: 0.3362027877810301\n",
      "Computing the minimum spanning tree...\n",
      "Done.\n",
      "CPU times: user 1.62 s, sys: 262 ms, total: 1.88 s\n",
      "Wall time: 12 s\n"
     ]
    }
   ],
   "source": [
    "%%time\n",
    "type_data = curated_occurrence_data[[\"entity_type\"]].rename(columns={\"entity_type\": \"type\"})\n",
    "\n",
    "graphs, trees = generate_cooccurrence_analysis(\n",
    "    curated_occurrence_data,  factor_counts,\n",
    "    n_most_frequent=curation_app.n_most_frequent if curation_app.n_most_frequent else 100,\n",
    "    type_data=type_data, \n",
    "    factors=[\"paper\", \"paragraph\"],\n",
    "    keep=curation_app.get_terms_to_include(),\n",
    "    cores=10)\n",
    "print(\"Done.\")"
   ]
  },
  {
   "cell_type": "markdown",
   "metadata": {},
   "source": [
    "## 4. Network visualization and analysis"
   ]
  },
  {
   "cell_type": "markdown",
   "metadata": {},
   "source": [
    "### Loading the generated graphs into the visualization app"
   ]
  },
  {
   "cell_type": "code",
   "execution_count": 25,
   "metadata": {},
   "outputs": [],
   "source": [
    "visualization_app.set_graph(\n",
    "    \"Paper-based graph\", graphs[\"paper\"],\n",
    "    tree_object=trees[\"paper\"], default_top_n=100)\n",
    "\n",
    "visualization_app.set_graph(\n",
    "    \"Paragraph-based graph\", graphs[\"paragraph\"],\n",
    "    tree_object=trees[\"paragraph\"], default_top_n=100)\n",
    "\n",
    "visualization_app.set_current_graph(\"Paragraph-based graph\")"
   ]
  },
  {
   "cell_type": "markdown",
   "metadata": {},
   "source": [
    "### Loading papers' meta-data into the app\n",
    "\n",
    "We now load an additional dataset containing some meta-data on the papers where the entities analyzed in this notebook occur."
   ]
  },
  {
   "cell_type": "code",
   "execution_count": 26,
   "metadata": {
    "scrolled": true
   },
   "outputs": [
    {
     "data": {
      "text/html": [
       "<div>\n",
       "<style scoped>\n",
       "    .dataframe tbody tr th:only-of-type {\n",
       "        vertical-align: middle;\n",
       "    }\n",
       "\n",
       "    .dataframe tbody tr th {\n",
       "        vertical-align: top;\n",
       "    }\n",
       "\n",
       "    .dataframe thead th {\n",
       "        text-align: right;\n",
       "    }\n",
       "</style>\n",
       "<table border=\"1\" class=\"dataframe\">\n",
       "  <thead>\n",
       "    <tr style=\"text-align: right;\">\n",
       "      <th></th>\n",
       "      <th>title</th>\n",
       "      <th>authors</th>\n",
       "      <th>abstract</th>\n",
       "      <th>doi</th>\n",
       "      <th>url</th>\n",
       "      <th>journal</th>\n",
       "      <th>pmc_id</th>\n",
       "      <th>pubmed_id</th>\n",
       "      <th>publish_time</th>\n",
       "    </tr>\n",
       "    <tr>\n",
       "      <th>id</th>\n",
       "      <th></th>\n",
       "      <th></th>\n",
       "      <th></th>\n",
       "      <th></th>\n",
       "      <th></th>\n",
       "      <th></th>\n",
       "      <th></th>\n",
       "      <th></th>\n",
       "      <th></th>\n",
       "    </tr>\n",
       "  </thead>\n",
       "  <tbody>\n",
       "    <tr>\n",
       "      <th>3</th>\n",
       "      <td>Surfactant protein-D and pulmonary host defense</td>\n",
       "      <td>Crouch, Erika C</td>\n",
       "      <td>Surfactant protein-D (SP-D) participates in th...</td>\n",
       "      <td>10.1186/rr19</td>\n",
       "      <td>https://www.ncbi.nlm.nih.gov/pmc/articles/PMC5...</td>\n",
       "      <td>Respir Res</td>\n",
       "      <td>PMC59549</td>\n",
       "      <td>11667972.0</td>\n",
       "      <td>2000-08-25</td>\n",
       "    </tr>\n",
       "    <tr>\n",
       "      <th>56</th>\n",
       "      <td>CLINICAL VIGNETTES</td>\n",
       "      <td>NaN</td>\n",
       "      <td>NaN</td>\n",
       "      <td>10.1046/j.1525-1497.18.s1.20.x</td>\n",
       "      <td>https://www.ncbi.nlm.nih.gov/pmc/articles/PMC1...</td>\n",
       "      <td>J Gen Intern Med</td>\n",
       "      <td>PMC1494988</td>\n",
       "      <td>12753119.0</td>\n",
       "      <td>2003-04-01</td>\n",
       "    </tr>\n",
       "    <tr>\n",
       "      <th>58</th>\n",
       "      <td>Clinical Vignettes</td>\n",
       "      <td>NaN</td>\n",
       "      <td>NaN</td>\n",
       "      <td>10.1046/j.1525-1497.2001.0160s1023.x</td>\n",
       "      <td>https://www.ncbi.nlm.nih.gov/pmc/articles/PMC1...</td>\n",
       "      <td>J Gen Intern Med</td>\n",
       "      <td>PMC1495316</td>\n",
       "      <td>11357836.0</td>\n",
       "      <td>2001-04-01</td>\n",
       "    </tr>\n",
       "  </tbody>\n",
       "</table>\n",
       "</div>"
      ],
      "text/plain": [
       "                                              title          authors  \\\n",
       "id                                                                     \n",
       "3   Surfactant protein-D and pulmonary host defense  Crouch, Erika C   \n",
       "56                               CLINICAL VIGNETTES              NaN   \n",
       "58                               Clinical Vignettes              NaN   \n",
       "\n",
       "                                             abstract  \\\n",
       "id                                                      \n",
       "3   Surfactant protein-D (SP-D) participates in th...   \n",
       "56                                                NaN   \n",
       "58                                                NaN   \n",
       "\n",
       "                                     doi  \\\n",
       "id                                         \n",
       "3                           10.1186/rr19   \n",
       "56        10.1046/j.1525-1497.18.s1.20.x   \n",
       "58  10.1046/j.1525-1497.2001.0160s1023.x   \n",
       "\n",
       "                                                  url           journal  \\\n",
       "id                                                                        \n",
       "3   https://www.ncbi.nlm.nih.gov/pmc/articles/PMC5...        Respir Res   \n",
       "56  https://www.ncbi.nlm.nih.gov/pmc/articles/PMC1...  J Gen Intern Med   \n",
       "58  https://www.ncbi.nlm.nih.gov/pmc/articles/PMC1...  J Gen Intern Med   \n",
       "\n",
       "        pmc_id   pubmed_id publish_time  \n",
       "id                                       \n",
       "3     PMC59549  11667972.0   2000-08-25  \n",
       "56  PMC1494988  12753119.0   2003-04-01  \n",
       "58  PMC1495316  11357836.0   2001-04-01  "
      ]
     },
     "execution_count": 26,
     "metadata": {},
     "output_type": "execute_result"
    }
   ],
   "source": [
    "paper_data = pd.read_csv(\"../data/Glucose_risk_3000_paper_meta_data.csv\")\n",
    "paper_data = paper_data.set_index(\"id\")\n",
    "paper_data.head(3)"
   ]
  },
  {
   "cell_type": "markdown",
   "metadata": {},
   "source": [
    "We pass a callback for the lookup of paper meta-data to the visualization app using the `set_list_papers_callback` method."
   ]
  },
  {
   "cell_type": "code",
   "execution_count": 27,
   "metadata": {},
   "outputs": [],
   "source": [
    "def list_papers(paper_data, selected_papers, limit=200):\n",
    "    selected_paper_data = paper_data.loc[[int(p) for p in selected_papers]].head(200)\n",
    "    return selected_paper_data.to_dict(\"records\")\n",
    "\n",
    "visualization_app.set_list_papers_callback(lambda x: list_papers(paper_data, x))"
   ]
  },
  {
   "cell_type": "markdown",
   "metadata": {},
   "source": [
    "The ontology linking process described above is noisy, therefore, we would like to keep a possibility of accessing, the raw entities that were linked to particular ontology concepts. For this we define the function `get_aggregated_entities` that retreives such raw entities and we pass it to the visualization app using the `set_aggregated_entities_callback` method."
   ]
  },
  {
   "cell_type": "code",
   "execution_count": 28,
   "metadata": {},
   "outputs": [],
   "source": [
    "def top_n(data_dict, n, smallest=False):\n",
    "    \"\"\"Return top `n` keys of the input dictionary by their value.\"\"\"\n",
    "    df = pd.DataFrame(dict(data_dict).items(), columns=[\"id\", \"value\"])\n",
    "    if smallest:\n",
    "        df = df.nsmallest(n, columns=[\"value\"])\n",
    "    else:\n",
    "        df = df.nlargest(n, columns=[\"value\"])\n",
    "    return(list(df[\"id\"]))\n",
    "\n",
    "\n",
    "def get_aggregated_entities(entity, n):\n",
    "    if \"aggregated_entities\" in curated_occurrence_data.columns:\n",
    "        aggregated = curated_occurrence_data.loc[entity][\"aggregated_entities\"]\n",
    "    else:\n",
    "        aggregated = [entity]\n",
    "    if curation_input_table is not None:\n",
    "        df = curation_input_table.set_index(\"entity\")\n",
    "        if entity in curated_occurrence_data.index:\n",
    "            freqs = df.loc[aggregated][\"paper_frequency\"].to_dict()\n",
    "        else:\n",
    "            return {}\n",
    "    else:\n",
    "        df = data.copy()\n",
    "        df[\"entity\"] = data[\"entity\"].apply(lambda x: x.lower())\n",
    "        freqs = df[df[\"entity\"].apply(lambda x: x.lower() in aggregated)].groupby(\"entity\").aggregate(\n",
    "            lambda x: len(x))[\"entity_type\"].to_dict()\n",
    "    if len(freqs) == 0:\n",
    "        return {}\n",
    "    return {e: freqs[e] for e in top_n(freqs, n)}\n",
    "\n",
    "visualization_app.set_aggregated_entities_callback(\n",
    "    lambda x: get_aggregated_entities(x, 10))"
   ]
  },
  {
   "cell_type": "markdown",
   "metadata": {},
   "source": [
    "Finally, we create a dictionary `definitions` that will serve the visualization app as the lookup table for accessing the definitions of different ontology concepts."
   ]
  },
  {
   "cell_type": "code",
   "execution_count": 29,
   "metadata": {},
   "outputs": [],
   "source": [
    "definitions = ontology_linking[[\"concept\", \"definition\"]].groupby(\n",
    "    \"concept\").aggregate(lambda x: list(x)[0]).to_dict()[\"definition\"]\n",
    "visualization_app.set_entity_definitons(definitions)"
   ]
  },
  {
   "cell_type": "markdown",
   "metadata": {},
   "source": [
    "### Launching the visualization app"
   ]
  },
  {
   "cell_type": "markdown",
   "metadata": {},
   "source": [
    "As before, the interactive graph visualization app can be launched in two modes: inline and external. Here we recommend the external mode for better user experience."
   ]
  },
  {
   "cell_type": "code",
   "execution_count": 32,
   "metadata": {
    "scrolled": false
   },
   "outputs": [
    {
     "name": "stdout",
     "output_type": "stream",
     "text": [
      "Dash app running on http://127.0.0.1:8082/\n"
     ]
    }
   ],
   "source": [
    "visualization_app.run(port=8082, mode=\"external\")"
   ]
  }
 ],
 "metadata": {
  "kernelspec": {
   "display_name": "bbg",
   "language": "python",
   "name": "bbg"
  },
  "language_info": {
   "codemirror_mode": {
    "name": "ipython",
    "version": 3
   },
   "file_extension": ".py",
   "mimetype": "text/x-python",
   "name": "python",
   "nbconvert_exporter": "python",
   "pygments_lexer": "ipython3",
   "version": "3.8.6"
  }
 },
 "nbformat": 4,
 "nbformat_minor": 4
}
