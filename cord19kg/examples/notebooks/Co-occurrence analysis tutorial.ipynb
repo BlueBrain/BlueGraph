{
 "cells": [
  {
   "cell_type": "markdown",
   "metadata": {},
   "source": [
    "# Co-occurrence network analysis tutorial\n",
    "\n",
    "In this notebook we will illustrate how interactive exploration and analysis of the [CORD-19](https://www.kaggle.com/allen-institute-for-ai/CORD-19-research-challenge) dataset can be performed using the `cord19kg` package. The exploration and analysis techniques presented here focus on named entities and their co-occurrence in the scientific articles constituting the dataset.\n",
    "\n",
    "The input data for this notebook contains the named entities extracted from a small selection of 20 articles representing 10 different entity types (i.e. proteins, chemicals, drugs, diseases, condtions, organs, organisms, pathways, cell types, cell compartments). The article selection corresponds to 20 most relevant articles to the query _\"Glucose is a risk factor of COVID-19\"_ obtained using the article search model [ref to blue brain search](). The entity extraction was performed using the Named Entity Recognition (NER) techniques also included in [ref to blue brain search]().\n",
    "\n",
    "The `cord19kg` package provides a set of tools for interactive literature exploration through the named entity co-occurrence analysis consisting of the following steps:\n",
    "\n",
    "1. __Data preparation__ step converts raw mentions into aggregated entity occurrence statistics.\n",
    "2. __Data curation__ step allows the user to manage extracted entities: modify, filter them and link to the ontology.\n",
    "3. __Network generation__ step allows creating entity co-occurrence networks based on paper-, section- and paragraph-level co-occurrence relations between entities. These entity relations are quantified using mutual-information-based scores (pointwise mutual information and its normalized version).\n",
    "4. __Network visualization and analysis__ step allows the user to perform interactive network visualization, edit network elements and perform its analysis (spanning tree, mutual-information based shortest paths between entities, etc)."
   ]
  },
  {
   "cell_type": "code",
   "execution_count": 1,
   "metadata": {},
   "outputs": [],
   "source": [
    "import json\n",
    "import zipfile\n",
    "\n",
    "import pandas as pd\n",
    "\n",
    "import dash_cytoscape as cyto\n",
    "\n",
    "from cord19kg.utils import (generate_curation_table,\n",
    "                            link_ontology,\n",
    "                            generate_cooccurrence_analysis)\n",
    "from cord19kg.apps.curation_app import curation_app\n",
    "from cord19kg.apps.visualization_app import visualization_app"
   ]
  },
  {
   "cell_type": "markdown",
   "metadata": {},
   "source": [
    "The cell below loads additional graph layouts used in the graph visualization app"
   ]
  },
  {
   "cell_type": "code",
   "execution_count": 2,
   "metadata": {},
   "outputs": [],
   "source": [
    "cyto.load_extra_layouts()"
   ]
  },
  {
   "cell_type": "markdown",
   "metadata": {},
   "source": [
    "## 1. Data preparation\n",
    "\n",
    "The input dataset contains occurrences of different terms in paragraphs of scientific articles from the CORD-19 dataset previously extracted by means of a NER model."
   ]
  },
  {
   "cell_type": "code",
   "execution_count": 3,
   "metadata": {},
   "outputs": [],
   "source": [
    "data = pd.read_csv(\"../data/Glucose_risk_20_papers.csv\")"
   ]
  },
  {
   "cell_type": "code",
   "execution_count": 4,
   "metadata": {},
   "outputs": [
    {
     "data": {
      "text/html": [
       "<div>\n",
       "<style scoped>\n",
       "    .dataframe tbody tr th:only-of-type {\n",
       "        vertical-align: middle;\n",
       "    }\n",
       "\n",
       "    .dataframe tbody tr th {\n",
       "        vertical-align: top;\n",
       "    }\n",
       "\n",
       "    .dataframe thead th {\n",
       "        text-align: right;\n",
       "    }\n",
       "</style>\n",
       "<table border=\"1\" class=\"dataframe\">\n",
       "  <thead>\n",
       "    <tr style=\"text-align: right;\">\n",
       "      <th></th>\n",
       "      <th>entity</th>\n",
       "      <th>entity_type</th>\n",
       "      <th>occurrence</th>\n",
       "    </tr>\n",
       "  </thead>\n",
       "  <tbody>\n",
       "    <tr>\n",
       "      <th>3363</th>\n",
       "      <td>phosphorylation</td>\n",
       "      <td>PATHWAY</td>\n",
       "      <td>214924:The Interplay Between Covid-19 And Ampk...</td>\n",
       "    </tr>\n",
       "    <tr>\n",
       "      <th>1650</th>\n",
       "      <td>human</td>\n",
       "      <td>ORGANISM</td>\n",
       "      <td>184360:Sdpp4 As Soluble Decoy Factor ::: Thera...</td>\n",
       "    </tr>\n",
       "    <tr>\n",
       "      <th>1285</th>\n",
       "      <td>hypoxia</td>\n",
       "      <td>DISEASE</td>\n",
       "      <td>184360:Cardiovascular Effects Of Sdpp4 Upregul...</td>\n",
       "    </tr>\n",
       "    <tr>\n",
       "      <th>3358</th>\n",
       "      <td>TSC1-TSC2</td>\n",
       "      <td>PROTEIN</td>\n",
       "      <td>214924:The Interplay Between Covid-19 And Ampk...</td>\n",
       "    </tr>\n",
       "    <tr>\n",
       "      <th>891</th>\n",
       "      <td>COVID-19</td>\n",
       "      <td>DISEASE</td>\n",
       "      <td>184360:Pathophysiology Of Covid-19: Pulmonar A...</td>\n",
       "    </tr>\n",
       "  </tbody>\n",
       "</table>\n",
       "</div>"
      ],
      "text/plain": [
       "               entity entity_type  \\\n",
       "3363  phosphorylation     PATHWAY   \n",
       "1650            human    ORGANISM   \n",
       "1285          hypoxia     DISEASE   \n",
       "3358        TSC1-TSC2     PROTEIN   \n",
       "891          COVID-19     DISEASE   \n",
       "\n",
       "                                             occurrence  \n",
       "3363  214924:The Interplay Between Covid-19 And Ampk...  \n",
       "1650  184360:Sdpp4 As Soluble Decoy Factor ::: Thera...  \n",
       "1285  184360:Cardiovascular Effects Of Sdpp4 Upregul...  \n",
       "3358  214924:The Interplay Between Covid-19 And Ampk...  \n",
       "891   184360:Pathophysiology Of Covid-19: Pulmonar A...  "
      ]
     },
     "execution_count": 4,
     "metadata": {},
     "output_type": "execute_result"
    }
   ],
   "source": [
    "data.sample(5)"
   ]
  },
  {
   "cell_type": "markdown",
   "metadata": {},
   "source": [
    "On the first preparation step, we group and aggregate the input data by unique entities."
   ]
  },
  {
   "cell_type": "code",
   "execution_count": 5,
   "metadata": {},
   "outputs": [
    {
     "name": "stdout",
     "output_type": "stream",
     "text": [
      "Prepating curatation data...\n",
      "Cleaning up the entities...\n",
      "Aggregating occurrences of entities....\n",
      "Done.\n",
      "CPU times: user 205 ms, sys: 5.59 ms, total: 210 ms\n",
      "Wall time: 210 ms\n"
     ]
    }
   ],
   "source": [
    "%%time\n",
    "print(\"Prepating curatation data...\")\n",
    "curation_input_table, factor_counts = generate_curation_table(data)\n",
    "print(\"Done.\")"
   ]
  },
  {
   "cell_type": "markdown",
   "metadata": {},
   "source": [
    "The resulting dataframe contains a row per unique named entity together with the following occurrence data: \n",
    "- sets of unique paragraphs, papers, sections, where the corresponding entity is mentioned (`paper`, `section`, `paragraph` columns);\n",
    "- number of total entity occurrences (the `raw_frequency` column);\n",
    "- number of unique papers where it occurs (the `paper_frequency` column);\n",
    "- unique entity types assigned by the NER model (the `entity_type` column, multiple types are possible).\n",
    "- raw entity types assigned by the NER model with the multiplicity of thier occurrence (the `raw_entity_types` column).\n"
   ]
  },
  {
   "cell_type": "code",
   "execution_count": 6,
   "metadata": {},
   "outputs": [
    {
     "data": {
      "text/html": [
       "<div>\n",
       "<style scoped>\n",
       "    .dataframe tbody tr th:only-of-type {\n",
       "        vertical-align: middle;\n",
       "    }\n",
       "\n",
       "    .dataframe tbody tr th {\n",
       "        vertical-align: top;\n",
       "    }\n",
       "\n",
       "    .dataframe thead th {\n",
       "        text-align: right;\n",
       "    }\n",
       "</style>\n",
       "<table border=\"1\" class=\"dataframe\">\n",
       "  <thead>\n",
       "    <tr style=\"text-align: right;\">\n",
       "      <th></th>\n",
       "      <th>entity</th>\n",
       "      <th>entity_type</th>\n",
       "      <th>paragraph</th>\n",
       "      <th>paper</th>\n",
       "      <th>section</th>\n",
       "      <th>paper_frequency</th>\n",
       "      <th>raw_entity_types</th>\n",
       "      <th>raw_frequency</th>\n",
       "    </tr>\n",
       "  </thead>\n",
       "  <tbody>\n",
       "    <tr>\n",
       "      <th>91</th>\n",
       "      <td>dpp4</td>\n",
       "      <td>PROTEIN</td>\n",
       "      <td>[151932:Title:0, 179426:Role Of Dpp4 Enzyme An...</td>\n",
       "      <td>[179426, 151932, 184360, 211373]</td>\n",
       "      <td>[151932:Abstract, 179426:Role Of Dpp4 Enzyme A...</td>\n",
       "      <td>4</td>\n",
       "      <td>[PROTEIN, PROTEIN, PROTEIN, PROTEIN, PROTEIN, ...</td>\n",
       "      <td>96</td>\n",
       "    </tr>\n",
       "    <tr>\n",
       "      <th>154</th>\n",
       "      <td>insulin</td>\n",
       "      <td>CHEMICAL, PROTEIN</td>\n",
       "      <td>[214924:Angiotensin-Converting Enzyme 2 Expres...</td>\n",
       "      <td>[78018, 197804, 172581, 179426, 211125, 214924...</td>\n",
       "      <td>[172581:, 214924:The Interplay Between Covid-1...</td>\n",
       "      <td>7</td>\n",
       "      <td>[PROTEIN, PROTEIN, PROTEIN, PROTEIN, PROTEIN, ...</td>\n",
       "      <td>32</td>\n",
       "    </tr>\n",
       "    <tr>\n",
       "      <th>43</th>\n",
       "      <td>bradykinin</td>\n",
       "      <td>CHEMICAL, PROTEIN</td>\n",
       "      <td>[211373:Introduction:4, 179426:Role Of Dpp4 En...</td>\n",
       "      <td>[179426, 211373]</td>\n",
       "      <td>[179426:Role Of Dpp4 Enzyme And Dpp4 Inhibitor...</td>\n",
       "      <td>2</td>\n",
       "      <td>[CHEMICAL, PROTEIN]</td>\n",
       "      <td>2</td>\n",
       "    </tr>\n",
       "    <tr>\n",
       "      <th>141</th>\n",
       "      <td>il-6</td>\n",
       "      <td>PROTEIN</td>\n",
       "      <td>[211125:Discussion:23, 184360:Sdpp4 As Soluble...</td>\n",
       "      <td>[184360, 114119, 99569, 211125, 214924]</td>\n",
       "      <td>[214924:The Interplay Between Covid-19 And Amp...</td>\n",
       "      <td>5</td>\n",
       "      <td>[PROTEIN, PROTEIN, PROTEIN, PROTEIN, PROTEIN, ...</td>\n",
       "      <td>37</td>\n",
       "    </tr>\n",
       "    <tr>\n",
       "      <th>156</th>\n",
       "      <td>insulin resistance</td>\n",
       "      <td>PATHWAY</td>\n",
       "      <td>[214924:Angiotensin-Converting Enzyme 2 Expres...</td>\n",
       "      <td>[184360, 214924, 197804]</td>\n",
       "      <td>[214924:The Interplay Between Covid-19 And Amp...</td>\n",
       "      <td>3</td>\n",
       "      <td>[PATHWAY, PATHWAY, PATHWAY, PATHWAY, PATHWAY, ...</td>\n",
       "      <td>7</td>\n",
       "    </tr>\n",
       "  </tbody>\n",
       "</table>\n",
       "</div>"
      ],
      "text/plain": [
       "                 entity        entity_type  \\\n",
       "91                 dpp4            PROTEIN   \n",
       "154             insulin  CHEMICAL, PROTEIN   \n",
       "43           bradykinin  CHEMICAL, PROTEIN   \n",
       "141                il-6            PROTEIN   \n",
       "156  insulin resistance            PATHWAY   \n",
       "\n",
       "                                             paragraph  \\\n",
       "91   [151932:Title:0, 179426:Role Of Dpp4 Enzyme An...   \n",
       "154  [214924:Angiotensin-Converting Enzyme 2 Expres...   \n",
       "43   [211373:Introduction:4, 179426:Role Of Dpp4 En...   \n",
       "141  [211125:Discussion:23, 184360:Sdpp4 As Soluble...   \n",
       "156  [214924:Angiotensin-Converting Enzyme 2 Expres...   \n",
       "\n",
       "                                                 paper  \\\n",
       "91                    [179426, 151932, 184360, 211373]   \n",
       "154  [78018, 197804, 172581, 179426, 211125, 214924...   \n",
       "43                                    [179426, 211373]   \n",
       "141            [184360, 114119, 99569, 211125, 214924]   \n",
       "156                           [184360, 214924, 197804]   \n",
       "\n",
       "                                               section  paper_frequency  \\\n",
       "91   [151932:Abstract, 179426:Role Of Dpp4 Enzyme A...                4   \n",
       "154  [172581:, 214924:The Interplay Between Covid-1...                7   \n",
       "43   [179426:Role Of Dpp4 Enzyme And Dpp4 Inhibitor...                2   \n",
       "141  [214924:The Interplay Between Covid-19 And Amp...                5   \n",
       "156  [214924:The Interplay Between Covid-19 And Amp...                3   \n",
       "\n",
       "                                      raw_entity_types  raw_frequency  \n",
       "91   [PROTEIN, PROTEIN, PROTEIN, PROTEIN, PROTEIN, ...             96  \n",
       "154  [PROTEIN, PROTEIN, PROTEIN, PROTEIN, PROTEIN, ...             32  \n",
       "43                                 [CHEMICAL, PROTEIN]              2  \n",
       "141  [PROTEIN, PROTEIN, PROTEIN, PROTEIN, PROTEIN, ...             37  \n",
       "156  [PATHWAY, PATHWAY, PATHWAY, PATHWAY, PATHWAY, ...              7  "
      ]
     },
     "execution_count": 6,
     "metadata": {},
     "output_type": "execute_result"
    }
   ],
   "source": [
    "curation_input_table.sample(5)"
   ]
  },
  {
   "cell_type": "markdown",
   "metadata": {},
   "source": [
    "The second output of the data preparation step outputs the counts of different instances of occurrence factors: number of distinct papers/sections/paragraphs in the input corpus."
   ]
  },
  {
   "cell_type": "code",
   "execution_count": 7,
   "metadata": {},
   "outputs": [
    {
     "data": {
      "text/plain": [
       "{'paper': 20, 'section': 108, 'paragraph': 286}"
      ]
     },
     "execution_count": 7,
     "metadata": {},
     "output_type": "execute_result"
    }
   ],
   "source": [
    "factor_counts"
   ]
  },
  {
   "cell_type": "markdown",
   "metadata": {},
   "source": [
    "## 2. Data curation"
   ]
  },
  {
   "cell_type": "markdown",
   "metadata": {},
   "source": [
    "### Loading the NCIT ontology linking data"
   ]
  },
  {
   "cell_type": "markdown",
   "metadata": {},
   "source": [
    "To group synonymical entities in the previously extracted table (e.g. `ace2`, `ace-2`, `angiotensin-converting enzyme 2`), as well as assign additional semantics to these entities (e.g. human-readable definition, taxonomy, etc), we peform further _linking_ of the entities to the terms from the [NCIT ontology](https://ncithesaurus.nci.nih.gov/ncitbrowser/).\n",
    "\n",
    "To be able to perform such ontology linking, we load some additional (pre-computed using ML-based linking models) data."
   ]
  },
  {
   "cell_type": "code",
   "execution_count": 8,
   "metadata": {},
   "outputs": [
    {
     "name": "stdout",
     "output_type": "stream",
     "text": [
      "Loading the ontology linking data...\n",
      "\tDecompressing the input data file...\n",
      "\tLoading the linking dataframe in memory...\n",
      "\tLoading ontology type mapping...\n",
      "Done.\n",
      "CPU times: user 1.03 s, sys: 151 ms, total: 1.18 s\n",
      "Wall time: 1.21 s\n"
     ]
    }
   ],
   "source": [
    "%%time\n",
    "print(\"Loading the ontology linking data...\")\n",
    "    \n",
    "print(\"\\tDecompressing the input data file...\")\n",
    "with zipfile.ZipFile(\"../data/NCIT_ontology_linking_3000_papers.csv.zip\", 'r') as zip_ref:\n",
    "    zip_ref.extractall(\"../data/\")\n",
    "\n",
    "print(\"\\tLoading the linking dataframe in memory...\")\n",
    "ontology_linking = pd.read_csv(\"../data/NCIT_ontology_linking_3000_papers.csv\")\n",
    "\n",
    "print(\"\\tLoading ontology type mapping...\")\n",
    "with open(\"../data/NCIT_type_mapping.json\", \"rb\") as f:\n",
    "    type_mapping = json.load(f)\n",
    "print(\"Done.\")"
   ]
  },
  {
   "cell_type": "markdown",
   "metadata": {},
   "source": [
    "The ontology linking table contains the following columns:\n",
    "- `mention` entity mentioned in the text\n",
    "- `concept` ontology concept linked to the entity mention\n",
    "- `uid` unique identifier of the ontology concept\n",
    "- `definition` definition of the concept\n",
    "- `taxonomy` taxonomy of semantic types associated with the concept"
   ]
  },
  {
   "cell_type": "code",
   "execution_count": 9,
   "metadata": {
    "scrolled": true
   },
   "outputs": [
    {
     "data": {
      "text/html": [
       "<div>\n",
       "<style scoped>\n",
       "    .dataframe tbody tr th:only-of-type {\n",
       "        vertical-align: middle;\n",
       "    }\n",
       "\n",
       "    .dataframe tbody tr th {\n",
       "        vertical-align: top;\n",
       "    }\n",
       "\n",
       "    .dataframe thead th {\n",
       "        text-align: right;\n",
       "    }\n",
       "</style>\n",
       "<table border=\"1\" class=\"dataframe\">\n",
       "  <thead>\n",
       "    <tr style=\"text-align: right;\">\n",
       "      <th></th>\n",
       "      <th>mention</th>\n",
       "      <th>concept</th>\n",
       "      <th>uid</th>\n",
       "      <th>definition</th>\n",
       "      <th>taxonomy</th>\n",
       "    </tr>\n",
       "  </thead>\n",
       "  <tbody>\n",
       "    <tr>\n",
       "      <th>67358</th>\n",
       "      <td>okam</td>\n",
       "      <td>f-box only protein 38</td>\n",
       "      <td>http://purl.obolibrary.org/obo/NCIT_C114612</td>\n",
       "      <td>F-box only protein 38 (1188 aa, ~134 kDa) is e...</td>\n",
       "      <td>[('http://purl.obolibrary.org/obo/NCIT_C95242'...</td>\n",
       "    </tr>\n",
       "    <tr>\n",
       "      <th>12967</th>\n",
       "      <td>endovascular-</td>\n",
       "      <td>vascular</td>\n",
       "      <td>http://purl.obolibrary.org/obo/NCIT_C13311</td>\n",
       "      <td>Relating to or containing blood vessels.</td>\n",
       "      <td>[('http://purl.obolibrary.org/obo/NCIT_C13442'...</td>\n",
       "    </tr>\n",
       "    <tr>\n",
       "      <th>119014</th>\n",
       "      <td>glial periventricular cells</td>\n",
       "      <td>periventricular</td>\n",
       "      <td>http://purl.obolibrary.org/obo/NCIT_C165869</td>\n",
       "      <td>Of, or pertaining to, the area surrounding the...</td>\n",
       "      <td>[('http://purl.obolibrary.org/obo/NCIT_C13442'...</td>\n",
       "    </tr>\n",
       "    <tr>\n",
       "      <th>93952</th>\n",
       "      <td>nucleotide-binding oligomerization domain prot...</td>\n",
       "      <td>nlr family member x1</td>\n",
       "      <td>http://purl.obolibrary.org/obo/NCIT_C126593</td>\n",
       "      <td>NLR family member X1 (975 aa, ~108 kDa) is enc...</td>\n",
       "      <td>[('http://purl.obolibrary.org/obo/NCIT_C18466'...</td>\n",
       "    </tr>\n",
       "    <tr>\n",
       "      <th>1851</th>\n",
       "      <td>glucocorticoid</td>\n",
       "      <td>glucocorticoid</td>\n",
       "      <td>http://purl.obolibrary.org/obo/NCIT_C2323</td>\n",
       "      <td>A corticosteroid that supports a variety of ca...</td>\n",
       "      <td>[('http://purl.obolibrary.org/obo/NCIT_C2322',...</td>\n",
       "    </tr>\n",
       "  </tbody>\n",
       "</table>\n",
       "</div>"
      ],
      "text/plain": [
       "                                                  mention  \\\n",
       "67358                                                okam   \n",
       "12967                                       endovascular-   \n",
       "119014                        glial periventricular cells   \n",
       "93952   nucleotide-binding oligomerization domain prot...   \n",
       "1851                                       glucocorticoid   \n",
       "\n",
       "                      concept                                          uid  \\\n",
       "67358   f-box only protein 38  http://purl.obolibrary.org/obo/NCIT_C114612   \n",
       "12967                vascular   http://purl.obolibrary.org/obo/NCIT_C13311   \n",
       "119014        periventricular  http://purl.obolibrary.org/obo/NCIT_C165869   \n",
       "93952    nlr family member x1  http://purl.obolibrary.org/obo/NCIT_C126593   \n",
       "1851           glucocorticoid    http://purl.obolibrary.org/obo/NCIT_C2323   \n",
       "\n",
       "                                               definition  \\\n",
       "67358   F-box only protein 38 (1188 aa, ~134 kDa) is e...   \n",
       "12967            Relating to or containing blood vessels.   \n",
       "119014  Of, or pertaining to, the area surrounding the...   \n",
       "93952   NLR family member X1 (975 aa, ~108 kDa) is enc...   \n",
       "1851    A corticosteroid that supports a variety of ca...   \n",
       "\n",
       "                                                 taxonomy  \n",
       "67358   [('http://purl.obolibrary.org/obo/NCIT_C95242'...  \n",
       "12967   [('http://purl.obolibrary.org/obo/NCIT_C13442'...  \n",
       "119014  [('http://purl.obolibrary.org/obo/NCIT_C13442'...  \n",
       "93952   [('http://purl.obolibrary.org/obo/NCIT_C18466'...  \n",
       "1851    [('http://purl.obolibrary.org/obo/NCIT_C2322',...  "
      ]
     },
     "execution_count": 9,
     "metadata": {},
     "output_type": "execute_result"
    }
   ],
   "source": [
    "ontology_linking.sample(5)"
   ]
  },
  {
   "cell_type": "markdown",
   "metadata": {},
   "source": [
    "### Interactive curation of  entity occurrence data\n",
    "\n",
    "The package provides an interactive entity curation app that allows the user to visualize the entity occurrence data, modify it, perform ontology linking (see `Link to NCIT ontology` button), filter short or unfrequent entities.\n",
    "\n",
    "The field `Keep` allows specifying a set of entities that must be kept in the dataset at all times (even if they don't satisfy the selected filtering criteria).\n",
    "\n",
    "Finally the value specified in the `Generate Graphs from top 500 frequent entities` field corresponds to the number of top entities (by the frequency of their occurrence in papers) to be included in the co-occurrence network."
   ]
  },
  {
   "cell_type": "markdown",
   "metadata": {},
   "source": [
    "We load the prepared data table into the curation app as follows:"
   ]
  },
  {
   "cell_type": "code",
   "execution_count": 10,
   "metadata": {},
   "outputs": [],
   "source": [
    "curation_app.set_table(curation_input_table.copy())"
   ]
  },
  {
   "cell_type": "markdown",
   "metadata": {},
   "source": [
    "We can specify the default entities to keep."
   ]
  },
  {
   "cell_type": "code",
   "execution_count": 11,
   "metadata": {},
   "outputs": [],
   "source": [
    "default_entities_to_keep = [\"glucose\", \"covid-19\"]\n",
    "curation_app.set_default_terms_to_include(default_entities_to_keep)"
   ]
  },
  {
   "cell_type": "markdown",
   "metadata": {},
   "source": [
    "Finally, we set the ontology linking callback to be fired upon a click on the `Link to NCIT ontology` button."
   ]
  },
  {
   "cell_type": "code",
   "execution_count": 12,
   "metadata": {
    "scrolled": false
   },
   "outputs": [],
   "source": [
    "curation_app.set_ontology_linking_callback(lambda x: link_ontology(ontology_linking, type_mapping, x))"
   ]
  },
  {
   "cell_type": "markdown",
   "metadata": {},
   "source": [
    "### Launch the curation app"
   ]
  },
  {
   "cell_type": "markdown",
   "metadata": {},
   "source": [
    "The application can be launched either inline (inside the current notebook) as below."
   ]
  },
  {
   "cell_type": "code",
   "execution_count": 13,
   "metadata": {},
   "outputs": [
    {
     "data": {
      "text/html": [
       "\n",
       "        <iframe\n",
       "            width=\"100%\"\n",
       "            height=\"650\"\n",
       "            src=\"http://127.0.0.1:8072/\"\n",
       "            frameborder=\"0\"\n",
       "            allowfullscreen\n",
       "        ></iframe>\n",
       "        "
      ],
      "text/plain": [
       "<IPython.lib.display.IFrame at 0x7f8f233ccb20>"
      ]
     },
     "metadata": {},
     "output_type": "display_data"
    },
    {
     "name": "stdout",
     "output_type": "stream",
     "text": [
      "Merging the occurrence data with the ontology linking...\n"
     ]
    }
   ],
   "source": [
    "curation_app.run(port=8072, mode=\"inline\")"
   ]
  },
  {
   "cell_type": "markdown",
   "metadata": {},
   "source": [
    "Or it can be opened externally (by the URL that you can open in a separate tab of your browser, try uncommenting, executing and doing Ctrl+Click on the displayed URL)."
   ]
  },
  {
   "cell_type": "code",
   "execution_count": 14,
   "metadata": {},
   "outputs": [],
   "source": [
    "# curation_app.run(port=8070, mode=\"external\")"
   ]
  },
  {
   "cell_type": "markdown",
   "metadata": {},
   "source": [
    "## 3. Co-occurrence network generation"
   ]
  },
  {
   "cell_type": "markdown",
   "metadata": {},
   "source": [
    "Current curation table displayed in the curation app can be extracted using the `get_curated_table` method."
   ]
  },
  {
   "cell_type": "code",
   "execution_count": 15,
   "metadata": {},
   "outputs": [
    {
     "data": {
      "text/html": [
       "<div>\n",
       "<style scoped>\n",
       "    .dataframe tbody tr th:only-of-type {\n",
       "        vertical-align: middle;\n",
       "    }\n",
       "\n",
       "    .dataframe tbody tr th {\n",
       "        vertical-align: top;\n",
       "    }\n",
       "\n",
       "    .dataframe thead th {\n",
       "        text-align: right;\n",
       "    }\n",
       "</style>\n",
       "<table border=\"1\" class=\"dataframe\">\n",
       "  <thead>\n",
       "    <tr style=\"text-align: right;\">\n",
       "      <th></th>\n",
       "      <th>paper</th>\n",
       "      <th>section</th>\n",
       "      <th>paragraph</th>\n",
       "      <th>aggregated_entities</th>\n",
       "      <th>uid</th>\n",
       "      <th>definition</th>\n",
       "      <th>paper_frequency</th>\n",
       "      <th>entity_type</th>\n",
       "    </tr>\n",
       "    <tr>\n",
       "      <th>entity</th>\n",
       "      <th></th>\n",
       "      <th></th>\n",
       "      <th></th>\n",
       "      <th></th>\n",
       "      <th></th>\n",
       "      <th></th>\n",
       "      <th></th>\n",
       "      <th></th>\n",
       "    </tr>\n",
       "  </thead>\n",
       "  <tbody>\n",
       "    <tr>\n",
       "      <th>acute respiratory distress syndrome</th>\n",
       "      <td>{184360, 197804, 129074, 179426, 211125, 214924}</td>\n",
       "      <td>{211125:Introduction, 129074:Abstract, 184360:...</td>\n",
       "      <td>{184360:Caption:71, 214924:Introduction:4, 214...</td>\n",
       "      <td>[acute respiratory distress syndrome, ards]</td>\n",
       "      <td>http://purl.obolibrary.org/obo/NCIT_C3353</td>\n",
       "      <td>Progressive and life-threatening pulmonary dis...</td>\n",
       "      <td>6</td>\n",
       "      <td>DISEASE</td>\n",
       "    </tr>\n",
       "    <tr>\n",
       "      <th>angiotensin-converting enzyme 2</th>\n",
       "      <td>{184360, 197804, 211373, 179426, 211125, 16056...</td>\n",
       "      <td>{184360:Gliptins , 197804:Discussion, 214924:T...</td>\n",
       "      <td>{214924:The Immune Response To Sars-Cov-2 ::: ...</td>\n",
       "      <td>[ace, ace2, ace2 receptor, ace2 receptors, ang...</td>\n",
       "      <td>http://purl.obolibrary.org/obo/NCIT_C102530</td>\n",
       "      <td>Angiotensin-converting enzyme 2 (805 aa, ~92 k...</td>\n",
       "      <td>7</td>\n",
       "      <td>PROTEIN</td>\n",
       "    </tr>\n",
       "    <tr>\n",
       "      <th>blood</th>\n",
       "      <td>{78018, 184360, 197804, 179426, 211125, 147333...</td>\n",
       "      <td>{214728:Title, 184360:Gliptins , 197804:Discus...</td>\n",
       "      <td>{197804:Discussion:39, 211125:Study Design And...</td>\n",
       "      <td>[blood]</td>\n",
       "      <td>http://purl.obolibrary.org/obo/NCIT_C12434</td>\n",
       "      <td>A liquid tissue; its major function is to tran...</td>\n",
       "      <td>8</td>\n",
       "      <td>ORGAN</td>\n",
       "    </tr>\n",
       "    <tr>\n",
       "      <th>cardiovascular system</th>\n",
       "      <td>{184360, 197804, 179426, 160564, 214924}</td>\n",
       "      <td>{184360:Gliptins , 160564:Introduction, 179426...</td>\n",
       "      <td>{214924:Introduction:4, 184360:Gliptins ::: Th...</td>\n",
       "      <td>[cardiovascular]</td>\n",
       "      <td>http://purl.obolibrary.org/obo/NCIT_C12686</td>\n",
       "      <td>Relating to the heart and the blood vessels or...</td>\n",
       "      <td>5</td>\n",
       "      <td>ORGAN</td>\n",
       "    </tr>\n",
       "    <tr>\n",
       "      <th>coronaviridae</th>\n",
       "      <td>{78018, 184360, 151932, 197804, 211373, 211125...</td>\n",
       "      <td>{151932:Abstract, 184360:Mechanisms Of Sars-Co...</td>\n",
       "      <td>{214924:Introduction:2, 214924:The Immune Resp...</td>\n",
       "      <td>[coronavirus disease, coronavirus family, coro...</td>\n",
       "      <td>http://purl.obolibrary.org/obo/NCIT_C113205</td>\n",
       "      <td>A family of positive sense ssRNA viruses of zo...</td>\n",
       "      <td>7</td>\n",
       "      <td>ORGANISM</td>\n",
       "    </tr>\n",
       "  </tbody>\n",
       "</table>\n",
       "</div>"
      ],
      "text/plain": [
       "                                                                                 paper  \\\n",
       "entity                                                                                   \n",
       "acute respiratory distress syndrome   {184360, 197804, 129074, 179426, 211125, 214924}   \n",
       "angiotensin-converting enzyme 2      {184360, 197804, 211373, 179426, 211125, 16056...   \n",
       "blood                                {78018, 184360, 197804, 179426, 211125, 147333...   \n",
       "cardiovascular system                         {184360, 197804, 179426, 160564, 214924}   \n",
       "coronaviridae                        {78018, 184360, 151932, 197804, 211373, 211125...   \n",
       "\n",
       "                                                                               section  \\\n",
       "entity                                                                                   \n",
       "acute respiratory distress syndrome  {211125:Introduction, 129074:Abstract, 184360:...   \n",
       "angiotensin-converting enzyme 2      {184360:Gliptins , 197804:Discussion, 214924:T...   \n",
       "blood                                {214728:Title, 184360:Gliptins , 197804:Discus...   \n",
       "cardiovascular system                {184360:Gliptins , 160564:Introduction, 179426...   \n",
       "coronaviridae                        {151932:Abstract, 184360:Mechanisms Of Sars-Co...   \n",
       "\n",
       "                                                                             paragraph  \\\n",
       "entity                                                                                   \n",
       "acute respiratory distress syndrome  {184360:Caption:71, 214924:Introduction:4, 214...   \n",
       "angiotensin-converting enzyme 2      {214924:The Immune Response To Sars-Cov-2 ::: ...   \n",
       "blood                                {197804:Discussion:39, 211125:Study Design And...   \n",
       "cardiovascular system                {214924:Introduction:4, 184360:Gliptins ::: Th...   \n",
       "coronaviridae                        {214924:Introduction:2, 214924:The Immune Resp...   \n",
       "\n",
       "                                                                   aggregated_entities  \\\n",
       "entity                                                                                   \n",
       "acute respiratory distress syndrome        [acute respiratory distress syndrome, ards]   \n",
       "angiotensin-converting enzyme 2      [ace, ace2, ace2 receptor, ace2 receptors, ang...   \n",
       "blood                                                                          [blood]   \n",
       "cardiovascular system                                                 [cardiovascular]   \n",
       "coronaviridae                        [coronavirus disease, coronavirus family, coro...   \n",
       "\n",
       "                                                                             uid  \\\n",
       "entity                                                                             \n",
       "acute respiratory distress syndrome    http://purl.obolibrary.org/obo/NCIT_C3353   \n",
       "angiotensin-converting enzyme 2      http://purl.obolibrary.org/obo/NCIT_C102530   \n",
       "blood                                 http://purl.obolibrary.org/obo/NCIT_C12434   \n",
       "cardiovascular system                 http://purl.obolibrary.org/obo/NCIT_C12686   \n",
       "coronaviridae                        http://purl.obolibrary.org/obo/NCIT_C113205   \n",
       "\n",
       "                                                                            definition  \\\n",
       "entity                                                                                   \n",
       "acute respiratory distress syndrome  Progressive and life-threatening pulmonary dis...   \n",
       "angiotensin-converting enzyme 2      Angiotensin-converting enzyme 2 (805 aa, ~92 k...   \n",
       "blood                                A liquid tissue; its major function is to tran...   \n",
       "cardiovascular system                Relating to the heart and the blood vessels or...   \n",
       "coronaviridae                        A family of positive sense ssRNA viruses of zo...   \n",
       "\n",
       "                                     paper_frequency entity_type  \n",
       "entity                                                            \n",
       "acute respiratory distress syndrome                6     DISEASE  \n",
       "angiotensin-converting enzyme 2                    7     PROTEIN  \n",
       "blood                                              8       ORGAN  \n",
       "cardiovascular system                              5       ORGAN  \n",
       "coronaviridae                                      7    ORGANISM  "
      ]
     },
     "execution_count": 15,
     "metadata": {},
     "output_type": "execute_result"
    }
   ],
   "source": [
    "curated_occurrence_data = curation_app.get_curated_table()\n",
    "curated_occurrence_data.head(5)"
   ]
  },
  {
   "cell_type": "markdown",
   "metadata": {},
   "source": [
    "We can also retreive current values of the `Keep` field (these entities will be also included in the resulting co-occurrence network)."
   ]
  },
  {
   "cell_type": "code",
   "execution_count": 16,
   "metadata": {},
   "outputs": [
    {
     "data": {
      "text/plain": [
       "['glucose', 'covid-19']"
      ]
     },
     "execution_count": 16,
     "metadata": {},
     "output_type": "execute_result"
    }
   ],
   "source": [
    "curation_app.get_terms_to_include()"
   ]
  },
  {
   "cell_type": "markdown",
   "metadata": {},
   "source": [
    "And the number of top frequent entities to use for network generation."
   ]
  },
  {
   "cell_type": "code",
   "execution_count": 17,
   "metadata": {},
   "outputs": [
    {
     "data": {
      "text/plain": [
       "500"
      ]
     },
     "execution_count": 17,
     "metadata": {},
     "output_type": "execute_result"
    }
   ],
   "source": [
    "curation_app.n_most_frequent"
   ]
  },
  {
   "cell_type": "markdown",
   "metadata": {},
   "source": [
    "### Generating co-occurrence networks\n",
    "\n",
    "In the cell below we generate two co-occurrence networks: for paper- and paragraph-based entity co-occurrences. Along with the network generation the `generate_cooccurrence_analysis` function \n",
    "- computes node centrality metrics (such as degree, RageRank)\n",
    "- computes co-occurrence statistics (such as frequency, pointwise mutual information and normalized pointwise mutual information) and assignes them as weights to the corresponding edges\n",
    "- performs entity community detection based on different co-occurrence statistics\n",
    "- computes mutual-information-based minimum spanning trees."
   ]
  },
  {
   "cell_type": "code",
   "execution_count": 18,
   "metadata": {},
   "outputs": [
    {
     "name": "stdout",
     "output_type": "stream",
     "text": [
      "-------------------------------\n",
      "Factor: paper\n",
      "-------------------------------\n",
      "Fitering data.....\n",
      "Selected 28 most frequent terms\n",
      "Examining 378 pairs of terms for co-occurrence...\n",
      "Generated 378 edges                    \n",
      "Created a co-occurrence graph:\n",
      "\tnumber of nodes:  28\n",
      "\tnumber of edges:  378\n",
      "Saving the edges...\n",
      "Creating a graph object...\n",
      "\n",
      "Computing degree centrality statistics....\n",
      "Top n nodes by frequency:\n",
      "\tcovid-19 (209)\n",
      "\tdiabetes mellitus (207)\n",
      "\tcoronavirus (198)\n",
      "\tglucose (170)\n",
      "\tglyburide (153)\n",
      "\tpneumonia (147)\n",
      "\tsars coronavirus (147)\n",
      "\tdeath (144)\n",
      "\tinfectious disorder (143)\n",
      "\tvirus (141)\n",
      "\n",
      "Computing PageRank centrality statistics....\n",
      "Top n nodes by frequency:\n",
      "\tcovid-19 (0.05)\n",
      "\tdiabetes mellitus (0.05)\n",
      "\tcoronavirus (0.05)\n",
      "\tglucose (0.04)\n",
      "\tglyburide (0.04)\n",
      "\tpneumonia (0.04)\n",
      "\tsars coronavirus (0.04)\n",
      "\tdeath (0.04)\n",
      "\tinfectious disorder (0.04)\n",
      "\tvirus (0.04)\n",
      "\n",
      "Using the 'frequency' weight...\n",
      "Detecting communities...\n",
      "Best network partition:\n",
      "\t Number of communities: 2\n",
      "\t Modularity: 0.03680364812074721\n",
      "Using the 'npmi' weight...\n",
      "Detecting communities...\n",
      "Best network partition:\n",
      "\t Number of communities: 3\n",
      "\t Modularity: 0.08283035787579018\n",
      "Computing the minimum spanning tree...\n",
      "-------------------------------\n",
      "Factor: paragraph\n",
      "-------------------------------\n",
      "Fitering data.....\n",
      "Selected 28 most frequent terms\n",
      "Examining 378 pairs of terms for co-occurrence...\n",
      "Generated 326 edges                    \n",
      "Created a co-occurrence graph:\n",
      "\tnumber of nodes:  28\n",
      "\tnumber of edges:  326\n",
      "Saving the edges...\n",
      "Creating a graph object...\n",
      "\n",
      "Computing degree centrality statistics....\n",
      "Top n nodes by frequency:\n",
      "\tcovid-19 (553)\n",
      "\tdiabetes mellitus (436)\n",
      "\tsars-cov-2 (216)\n",
      "\tglucose (173)\n",
      "\tangiotensin-converting enzyme 2 (168)\n",
      "\tcoronavirus (154)\n",
      "\tlung (149)\n",
      "\tsars coronavirus (132)\n",
      "\tdeath (131)\n",
      "\tinfectious disorder (127)\n",
      "\n",
      "Computing PageRank centrality statistics....\n",
      "Top n nodes by frequency:\n",
      "\tcovid-19 (0.13)\n",
      "\tdiabetes mellitus (0.11)\n",
      "\tsars-cov-2 (0.06)\n",
      "\tglucose (0.05)\n",
      "\tangiotensin-converting enzyme 2 (0.04)\n",
      "\tcoronavirus (0.04)\n",
      "\tlung (0.04)\n",
      "\tsars coronavirus (0.04)\n",
      "\tdeath (0.04)\n",
      "\tinfectious disorder (0.03)\n",
      "\n",
      "Using the 'frequency' weight...\n",
      "Detecting communities...\n",
      "Best network partition:\n",
      "\t Number of communities: 3\n",
      "\t Modularity: 0.08700325878652958\n",
      "Using the 'npmi' weight...\n",
      "Detecting communities...\n",
      "Best network partition:\n",
      "\t Number of communities: 3\n",
      "\t Modularity: 0.24322356834503417\n",
      "Computing the minimum spanning tree...\n",
      "Done.\n",
      "CPU times: user 152 ms, sys: 170 ms, total: 322 ms\n",
      "Wall time: 4.16 s\n"
     ]
    }
   ],
   "source": [
    "%%time\n",
    "type_data = curated_occurrence_data[[\"entity_type\"]].rename(columns={\"entity_type\": \"type\"})\n",
    "\n",
    "graphs, trees = generate_cooccurrence_analysis(\n",
    "    curated_occurrence_data,  factor_counts,\n",
    "    n_most_frequent=curation_app.n_most_frequent if curation_app.n_most_frequent else 100,\n",
    "    type_data=type_data, \n",
    "    factors=[\"paper\", \"paragraph\"],\n",
    "    keep=curation_app.get_terms_to_include(),\n",
    "    cores=10)\n",
    "print(\"Done.\")"
   ]
  },
  {
   "cell_type": "markdown",
   "metadata": {},
   "source": [
    "## 4. Network visualization and analysis"
   ]
  },
  {
   "cell_type": "markdown",
   "metadata": {},
   "source": [
    "### Loading the generated graphs into the visualization app"
   ]
  },
  {
   "cell_type": "code",
   "execution_count": 19,
   "metadata": {},
   "outputs": [],
   "source": [
    "visualization_app.set_graph(\n",
    "    \"Paper-based graph\", graphs[\"paper\"],\n",
    "    tree_object=trees[\"paper\"], default_top_n=100)\n",
    "\n",
    "visualization_app.set_graph(\n",
    "    \"Paragraph-based graph\", graphs[\"paragraph\"],\n",
    "    tree_object=trees[\"paragraph\"], default_top_n=100)\n",
    "\n",
    "visualization_app.set_current_graph(\"Paragraph-based graph\")"
   ]
  },
  {
   "cell_type": "markdown",
   "metadata": {},
   "source": [
    "### Loading papers' meta-data into the app\n",
    "\n",
    "We now load an additional dataset containing some meta-data on the papers where the entities analyzed in this notebook occur."
   ]
  },
  {
   "cell_type": "code",
   "execution_count": 20,
   "metadata": {
    "scrolled": true
   },
   "outputs": [
    {
     "data": {
      "text/html": [
       "<div>\n",
       "<style scoped>\n",
       "    .dataframe tbody tr th:only-of-type {\n",
       "        vertical-align: middle;\n",
       "    }\n",
       "\n",
       "    .dataframe tbody tr th {\n",
       "        vertical-align: top;\n",
       "    }\n",
       "\n",
       "    .dataframe thead th {\n",
       "        text-align: right;\n",
       "    }\n",
       "</style>\n",
       "<table border=\"1\" class=\"dataframe\">\n",
       "  <thead>\n",
       "    <tr style=\"text-align: right;\">\n",
       "      <th></th>\n",
       "      <th>title</th>\n",
       "      <th>authors</th>\n",
       "      <th>abstract</th>\n",
       "      <th>doi</th>\n",
       "      <th>url</th>\n",
       "      <th>journal</th>\n",
       "      <th>pmc_id</th>\n",
       "      <th>pubmed_id</th>\n",
       "      <th>publish_time</th>\n",
       "    </tr>\n",
       "    <tr>\n",
       "      <th>id</th>\n",
       "      <th></th>\n",
       "      <th></th>\n",
       "      <th></th>\n",
       "      <th></th>\n",
       "      <th></th>\n",
       "      <th></th>\n",
       "      <th></th>\n",
       "      <th></th>\n",
       "      <th></th>\n",
       "    </tr>\n",
       "  </thead>\n",
       "  <tbody>\n",
       "    <tr>\n",
       "      <th>3</th>\n",
       "      <td>Surfactant protein-D and pulmonary host defense</td>\n",
       "      <td>Crouch, Erika C</td>\n",
       "      <td>Surfactant protein-D (SP-D) participates in th...</td>\n",
       "      <td>10.1186/rr19</td>\n",
       "      <td>https://www.ncbi.nlm.nih.gov/pmc/articles/PMC5...</td>\n",
       "      <td>Respir Res</td>\n",
       "      <td>PMC59549</td>\n",
       "      <td>11667972.0</td>\n",
       "      <td>2000-08-25</td>\n",
       "    </tr>\n",
       "    <tr>\n",
       "      <th>56</th>\n",
       "      <td>CLINICAL VIGNETTES</td>\n",
       "      <td>NaN</td>\n",
       "      <td>NaN</td>\n",
       "      <td>10.1046/j.1525-1497.18.s1.20.x</td>\n",
       "      <td>https://www.ncbi.nlm.nih.gov/pmc/articles/PMC1...</td>\n",
       "      <td>J Gen Intern Med</td>\n",
       "      <td>PMC1494988</td>\n",
       "      <td>12753119.0</td>\n",
       "      <td>2003-04-01</td>\n",
       "    </tr>\n",
       "    <tr>\n",
       "      <th>58</th>\n",
       "      <td>Clinical Vignettes</td>\n",
       "      <td>NaN</td>\n",
       "      <td>NaN</td>\n",
       "      <td>10.1046/j.1525-1497.2001.0160s1023.x</td>\n",
       "      <td>https://www.ncbi.nlm.nih.gov/pmc/articles/PMC1...</td>\n",
       "      <td>J Gen Intern Med</td>\n",
       "      <td>PMC1495316</td>\n",
       "      <td>11357836.0</td>\n",
       "      <td>2001-04-01</td>\n",
       "    </tr>\n",
       "  </tbody>\n",
       "</table>\n",
       "</div>"
      ],
      "text/plain": [
       "                                              title          authors  \\\n",
       "id                                                                     \n",
       "3   Surfactant protein-D and pulmonary host defense  Crouch, Erika C   \n",
       "56                               CLINICAL VIGNETTES              NaN   \n",
       "58                               Clinical Vignettes              NaN   \n",
       "\n",
       "                                             abstract  \\\n",
       "id                                                      \n",
       "3   Surfactant protein-D (SP-D) participates in th...   \n",
       "56                                                NaN   \n",
       "58                                                NaN   \n",
       "\n",
       "                                     doi  \\\n",
       "id                                         \n",
       "3                           10.1186/rr19   \n",
       "56        10.1046/j.1525-1497.18.s1.20.x   \n",
       "58  10.1046/j.1525-1497.2001.0160s1023.x   \n",
       "\n",
       "                                                  url           journal  \\\n",
       "id                                                                        \n",
       "3   https://www.ncbi.nlm.nih.gov/pmc/articles/PMC5...        Respir Res   \n",
       "56  https://www.ncbi.nlm.nih.gov/pmc/articles/PMC1...  J Gen Intern Med   \n",
       "58  https://www.ncbi.nlm.nih.gov/pmc/articles/PMC1...  J Gen Intern Med   \n",
       "\n",
       "        pmc_id   pubmed_id publish_time  \n",
       "id                                       \n",
       "3     PMC59549  11667972.0   2000-08-25  \n",
       "56  PMC1494988  12753119.0   2003-04-01  \n",
       "58  PMC1495316  11357836.0   2001-04-01  "
      ]
     },
     "execution_count": 20,
     "metadata": {},
     "output_type": "execute_result"
    }
   ],
   "source": [
    "paper_data = pd.read_csv(\"../data/Glucose_risk_3000_paper_meta_data.csv\")\n",
    "paper_data = paper_data.set_index(\"id\")\n",
    "paper_data.head(3)"
   ]
  },
  {
   "cell_type": "markdown",
   "metadata": {},
   "source": [
    "We pass a callback for the lookup of paper meta-data to the visualization app using the `set_list_papers_callback` method."
   ]
  },
  {
   "cell_type": "code",
   "execution_count": 21,
   "metadata": {},
   "outputs": [],
   "source": [
    "def list_papers(paper_data, selected_papers, limit=200):\n",
    "    selected_paper_data = paper_data.loc[[int(p) for p in selected_papers]].head(200)\n",
    "    return selected_paper_data.to_dict(\"records\")\n",
    "\n",
    "visualization_app.set_list_papers_callback(lambda x: list_papers(paper_data, x))"
   ]
  },
  {
   "cell_type": "markdown",
   "metadata": {},
   "source": [
    "The ontology linking process described above is noisy, therefore, we would like to keep a possibility of accessing, the raw entities that were linked to particular ontology concepts. For this we define the function `get_aggregated_entities` that retreives such raw entities and we pass it to the visualization app using the `set_aggregated_entities_callback` method."
   ]
  },
  {
   "cell_type": "code",
   "execution_count": 22,
   "metadata": {},
   "outputs": [],
   "source": [
    "def top_n(data_dict, n, smallest=False):\n",
    "    \"\"\"Return top `n` keys of the input dictionary by their value.\"\"\"\n",
    "    df = pd.DataFrame(dict(data_dict).items(), columns=[\"id\", \"value\"])\n",
    "    if smallest:\n",
    "        df = df.nsmallest(n, columns=[\"value\"])\n",
    "    else:\n",
    "        df = df.nlargest(n, columns=[\"value\"])\n",
    "    return(list(df[\"id\"]))\n",
    "\n",
    "\n",
    "def get_aggregated_entities(entity, n):\n",
    "    if \"aggregated_entities\" in curated_occurrence_data.columns:\n",
    "        aggregated = curated_occurrence_data.loc[entity][\"aggregated_entities\"]\n",
    "    else:\n",
    "        aggregated = [entity]\n",
    "    if curation_input_table is not None:\n",
    "        df = curation_input_table.set_index(\"entity\")\n",
    "        if entity in curated_occurrence_data.index:\n",
    "            freqs = df.loc[aggregated][\"paper_frequency\"].to_dict()\n",
    "        else:\n",
    "            return {}\n",
    "    else:\n",
    "        df = data.copy()\n",
    "        df[\"entity\"] = data[\"entity\"].apply(lambda x: x.lower())\n",
    "        freqs = df[df[\"entity\"].apply(lambda x: x.lower() in aggregated)].groupby(\"entity\").aggregate(\n",
    "            lambda x: len(x))[\"entity_type\"].to_dict()\n",
    "    if len(freqs) == 0:\n",
    "        return {}\n",
    "    return {e: freqs[e] for e in top_n(freqs, n)}\n",
    "\n",
    "visualization_app.set_aggregated_entities_callback(\n",
    "    lambda x: get_aggregated_entities(x, 10))"
   ]
  },
  {
   "cell_type": "markdown",
   "metadata": {},
   "source": [
    "Finally, we create a dictionary `definitions` that will serve the visualization app as the lookup table for accessing the definitions of different ontology concepts."
   ]
  },
  {
   "cell_type": "code",
   "execution_count": 23,
   "metadata": {},
   "outputs": [],
   "source": [
    "definitions = ontology_linking[[\"concept\", \"definition\"]].groupby(\n",
    "    \"concept\").aggregate(lambda x: list(x)[0]).to_dict()[\"definition\"]\n",
    "visualization_app.set_entity_definitons(definitions)"
   ]
  },
  {
   "cell_type": "markdown",
   "metadata": {},
   "source": [
    "### Launching the visualization app"
   ]
  },
  {
   "cell_type": "markdown",
   "metadata": {},
   "source": [
    "As before, the interactive graph visualization app can be launched in two modes: inline and external. Here we recommend the external mode for better user experience."
   ]
  },
  {
   "cell_type": "code",
   "execution_count": 24,
   "metadata": {
    "scrolled": false
   },
   "outputs": [
    {
     "name": "stdout",
     "output_type": "stream",
     "text": [
      "Dash app running on http://127.0.0.1:8082/\n"
     ]
    }
   ],
   "source": [
    "visualization_app.run(port=8082, mode=\"external\")"
   ]
  }
 ],
 "metadata": {
  "kernelspec": {
   "display_name": "bbg",
   "language": "python",
   "name": "bbg"
  },
  "language_info": {
   "codemirror_mode": {
    "name": "ipython",
    "version": 3
   },
   "file_extension": ".py",
   "mimetype": "text/x-python",
   "name": "python",
   "nbconvert_exporter": "python",
   "pygments_lexer": "ipython3",
   "version": "3.8.6"
  }
 },
 "nbformat": 4,
 "nbformat_minor": 4
}
