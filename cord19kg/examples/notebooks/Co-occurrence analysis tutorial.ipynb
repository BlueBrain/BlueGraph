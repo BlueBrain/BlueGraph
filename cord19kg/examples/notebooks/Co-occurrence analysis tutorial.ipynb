{
 "cells": [
  {
   "cell_type": "markdown",
   "metadata": {},
   "source": [
    "# Co-occurrence network analysis tutorial\n",
    "\n",
    "In this notebook we will illustrate how interactive exploration and analysis of the [CORD-19](https://www.kaggle.com/allen-institute-for-ai/CORD-19-research-challenge) dataset can be performed using the `cord19kg` package. The exploration and analysis techniques presented here focus on named entities and their co-occurrence in the scientific articles constituting the dataset.\n",
    "\n",
    "The input data for this notebook contains the named entities extracted from a small selection of 20 articles representing 10 different entity types (i.e. proteins, chemicals, drugs, diseases, condtions, organs, organisms, pathways, cell types, cell compartments). The article selection corresponds to 20 most relevant articles to the query _\"Glucose is a risk factor of COVID-19\"_ obtained using the article search model provided by [BlueSearch](https://github.com/BlueBrain/Search). The entity extraction was performed using the Named Entity Recognition (NER) techniques also included as a part of [BlueSearch](https://github.com/BlueBrain/Search).\n",
    "\n",
    "The `cord19kg` package provides a set of tools for interactive literature exploration through the named entity co-occurrence analysis consisting of the following steps:\n",
    "\n",
    "1. __Data preparation__ step converts raw mentions into aggregated entity occurrence statistics.\n",
    "2. __Data curation__ step allows the user to manage extracted entities: modify, filter them and link to the ontology.\n",
    "3. __Network generation__ step allows creating entity co-occurrence networks based on paper-, section- and paragraph-level co-occurrence relations between entities. These entity relations are quantified using mutual-information-based scores (pointwise mutual information and its normalized version).\n",
    "4. __Network visualization and analysis__ step allows the user to perform interactive network visualization, edit network elements and perform its analysis (spanning tree, mutual-information based shortest paths between entities, etc)."
   ]
  },
  {
   "cell_type": "code",
   "execution_count": 1,
   "metadata": {},
   "outputs": [],
   "source": [
    "import json\n",
    "import zipfile\n",
    "\n",
    "import pandas as pd\n",
    "\n",
    "import dash_cytoscape as cyto\n",
    "\n",
    "from cord19kg.utils import (generate_curation_table,\n",
    "                            link_ontology,\n",
    "                            generate_cooccurrence_analysis)\n",
    "from cord19kg.apps.curation_app import curation_app\n",
    "from cord19kg.apps.visualization_app import visualization_app"
   ]
  },
  {
   "cell_type": "markdown",
   "metadata": {},
   "source": [
    "The cell below loads additional graph layouts used in the graph visualization app"
   ]
  },
  {
   "cell_type": "code",
   "execution_count": 2,
   "metadata": {},
   "outputs": [],
   "source": [
    "cyto.load_extra_layouts()"
   ]
  },
  {
   "cell_type": "markdown",
   "metadata": {},
   "source": [
    "## 1. Data preparation\n",
    "\n",
    "The input dataset contains occurrences of different terms in paragraphs of scientific articles from the CORD-19 dataset previously extracted by means of a NER model."
   ]
  },
  {
   "cell_type": "code",
   "execution_count": 3,
   "metadata": {},
   "outputs": [],
   "source": [
    "data = pd.read_csv(\"../data/Glucose_risk_20_papers.csv\")"
   ]
  },
  {
   "cell_type": "code",
   "execution_count": 4,
   "metadata": {},
   "outputs": [
    {
     "data": {
      "text/html": [
       "<div>\n",
       "<style scoped>\n",
       "    .dataframe tbody tr th:only-of-type {\n",
       "        vertical-align: middle;\n",
       "    }\n",
       "\n",
       "    .dataframe tbody tr th {\n",
       "        vertical-align: top;\n",
       "    }\n",
       "\n",
       "    .dataframe thead th {\n",
       "        text-align: right;\n",
       "    }\n",
       "</style>\n",
       "<table border=\"1\" class=\"dataframe\">\n",
       "  <thead>\n",
       "    <tr style=\"text-align: right;\">\n",
       "      <th></th>\n",
       "      <th>entity</th>\n",
       "      <th>entity_type</th>\n",
       "      <th>occurrence</th>\n",
       "    </tr>\n",
       "  </thead>\n",
       "  <tbody>\n",
       "    <tr>\n",
       "      <th>620</th>\n",
       "      <td>vildagliptin</td>\n",
       "      <td>DRUG</td>\n",
       "      <td>179426:Role Of Dpp4 Enzyme And Dpp4 Inhibitors...</td>\n",
       "    </tr>\n",
       "    <tr>\n",
       "      <th>1609</th>\n",
       "      <td>human cells</td>\n",
       "      <td>CELL_TYPE</td>\n",
       "      <td>184360:Gliptins ::: Therapeutic Potential Of T...</td>\n",
       "    </tr>\n",
       "    <tr>\n",
       "      <th>1560</th>\n",
       "      <td>SARS-CoV-2</td>\n",
       "      <td>ORGANISM</td>\n",
       "      <td>184360:Gliptins ::: Therapeutic Potential Of T...</td>\n",
       "    </tr>\n",
       "    <tr>\n",
       "      <th>2082</th>\n",
       "      <td>acetaminophen</td>\n",
       "      <td>CHEMICAL</td>\n",
       "      <td>197804:Discussion:52</td>\n",
       "    </tr>\n",
       "    <tr>\n",
       "      <th>1539</th>\n",
       "      <td>DPP4i</td>\n",
       "      <td>PROTEIN</td>\n",
       "      <td>184360:Gliptins ::: Therapeutic Potential Of T...</td>\n",
       "    </tr>\n",
       "  </tbody>\n",
       "</table>\n",
       "</div>"
      ],
      "text/plain": [
       "             entity entity_type  \\\n",
       "620    vildagliptin        DRUG   \n",
       "1609    human cells   CELL_TYPE   \n",
       "1560     SARS-CoV-2    ORGANISM   \n",
       "2082  acetaminophen    CHEMICAL   \n",
       "1539          DPP4i     PROTEIN   \n",
       "\n",
       "                                             occurrence  \n",
       "620   179426:Role Of Dpp4 Enzyme And Dpp4 Inhibitors...  \n",
       "1609  184360:Gliptins ::: Therapeutic Potential Of T...  \n",
       "1560  184360:Gliptins ::: Therapeutic Potential Of T...  \n",
       "2082                               197804:Discussion:52  \n",
       "1539  184360:Gliptins ::: Therapeutic Potential Of T...  "
      ]
     },
     "execution_count": 4,
     "metadata": {},
     "output_type": "execute_result"
    }
   ],
   "source": [
    "data.sample(5)"
   ]
  },
  {
   "cell_type": "markdown",
   "metadata": {},
   "source": [
    "On the first preparation step, we group and aggregate the input data by unique entities."
   ]
  },
  {
   "cell_type": "code",
   "execution_count": 5,
   "metadata": {},
   "outputs": [
    {
     "name": "stdout",
     "output_type": "stream",
     "text": [
      "Prepating curatation data...\n",
      "Cleaning up the entities...\n",
      "Aggregating occurrences of entities....\n",
      "Done.\n",
      "CPU times: user 241 ms, sys: 6.06 ms, total: 247 ms\n",
      "Wall time: 247 ms\n"
     ]
    }
   ],
   "source": [
    "%%time\n",
    "print(\"Prepating curatation data...\")\n",
    "curation_input_table, factor_counts = generate_curation_table(data)\n",
    "print(\"Done.\")"
   ]
  },
  {
   "cell_type": "markdown",
   "metadata": {},
   "source": [
    "The resulting dataframe contains a row per unique named entity together with the following occurrence data: \n",
    "- sets of unique paragraphs, papers, sections, where the corresponding entity is mentioned (`paper`, `section`, `paragraph` columns);\n",
    "- number of total entity occurrences (the `raw_frequency` column);\n",
    "- number of unique papers where it occurs (the `paper_frequency` column);\n",
    "- unique entity types assigned by the NER model (the `entity_type` column, multiple types are possible).\n",
    "- raw entity types assigned by the NER model with the multiplicity of thier occurrence (the `raw_entity_types` column).\n"
   ]
  },
  {
   "cell_type": "code",
   "execution_count": 6,
   "metadata": {},
   "outputs": [
    {
     "data": {
      "text/html": [
       "<div>\n",
       "<style scoped>\n",
       "    .dataframe tbody tr th:only-of-type {\n",
       "        vertical-align: middle;\n",
       "    }\n",
       "\n",
       "    .dataframe tbody tr th {\n",
       "        vertical-align: top;\n",
       "    }\n",
       "\n",
       "    .dataframe thead th {\n",
       "        text-align: right;\n",
       "    }\n",
       "</style>\n",
       "<table border=\"1\" class=\"dataframe\">\n",
       "  <thead>\n",
       "    <tr style=\"text-align: right;\">\n",
       "      <th></th>\n",
       "      <th>entity</th>\n",
       "      <th>entity_type</th>\n",
       "      <th>paragraph</th>\n",
       "      <th>paper</th>\n",
       "      <th>section</th>\n",
       "      <th>paper_frequency</th>\n",
       "      <th>raw_entity_types</th>\n",
       "      <th>raw_frequency</th>\n",
       "    </tr>\n",
       "  </thead>\n",
       "  <tbody>\n",
       "    <tr>\n",
       "      <th>83</th>\n",
       "      <td>degradation</td>\n",
       "      <td>PATHWAY</td>\n",
       "      <td>[211373:Introduction:4, 184360:Cardiovascular ...</td>\n",
       "      <td>[184360, 179426, 211373]</td>\n",
       "      <td>[184360:Cardiovascular Effects Of Sdpp4 Upregu...</td>\n",
       "      <td>3</td>\n",
       "      <td>[PATHWAY, PATHWAY, PATHWAY]</td>\n",
       "      <td>3</td>\n",
       "    </tr>\n",
       "    <tr>\n",
       "      <th>3</th>\n",
       "      <td>ace2</td>\n",
       "      <td>PROTEIN</td>\n",
       "      <td>[214924:Conclusion:28, 184360:Gliptins ::: The...</td>\n",
       "      <td>[184360, 211125, 197804, 214924, 179426, 16056...</td>\n",
       "      <td>[184360:Mechanisms Of Sars-Cov-2 Entry Into Ho...</td>\n",
       "      <td>7</td>\n",
       "      <td>[PROTEIN, PROTEIN, PROTEIN, PROTEIN, PROTEIN, ...</td>\n",
       "      <td>79</td>\n",
       "    </tr>\n",
       "    <tr>\n",
       "      <th>191</th>\n",
       "      <td>myocarditis</td>\n",
       "      <td>DISEASE</td>\n",
       "      <td>[184360:Caption:71, 184360:Pathophysiology Of ...</td>\n",
       "      <td>[184360]</td>\n",
       "      <td>[184360:Pathophysiology Of Covid-19, 184360:Ca...</td>\n",
       "      <td>1</td>\n",
       "      <td>[DISEASE, DISEASE]</td>\n",
       "      <td>2</td>\n",
       "    </tr>\n",
       "    <tr>\n",
       "      <th>128</th>\n",
       "      <td>humoral immune</td>\n",
       "      <td>PATHWAY</td>\n",
       "      <td>[211125:Introduction:6, 179426:Association Of ...</td>\n",
       "      <td>[179426, 211125]</td>\n",
       "      <td>[179426:Association Of Diabetes With Acute Vir...</td>\n",
       "      <td>2</td>\n",
       "      <td>[PATHWAY, PATHWAY]</td>\n",
       "      <td>2</td>\n",
       "    </tr>\n",
       "    <tr>\n",
       "      <th>82</th>\n",
       "      <td>decoy receptor</td>\n",
       "      <td>PROTEIN</td>\n",
       "      <td>[184360:Conclusion:63, 184360:Conclusion:62]</td>\n",
       "      <td>[184360]</td>\n",
       "      <td>[184360:Conclusion]</td>\n",
       "      <td>1</td>\n",
       "      <td>[PROTEIN, PROTEIN]</td>\n",
       "      <td>2</td>\n",
       "    </tr>\n",
       "  </tbody>\n",
       "</table>\n",
       "</div>"
      ],
      "text/plain": [
       "             entity entity_type  \\\n",
       "83      degradation     PATHWAY   \n",
       "3              ace2     PROTEIN   \n",
       "191     myocarditis     DISEASE   \n",
       "128  humoral immune     PATHWAY   \n",
       "82   decoy receptor     PROTEIN   \n",
       "\n",
       "                                             paragraph  \\\n",
       "83   [211373:Introduction:4, 184360:Cardiovascular ...   \n",
       "3    [214924:Conclusion:28, 184360:Gliptins ::: The...   \n",
       "191  [184360:Caption:71, 184360:Pathophysiology Of ...   \n",
       "128  [211125:Introduction:6, 179426:Association Of ...   \n",
       "82        [184360:Conclusion:63, 184360:Conclusion:62]   \n",
       "\n",
       "                                                 paper  \\\n",
       "83                            [184360, 179426, 211373]   \n",
       "3    [184360, 211125, 197804, 214924, 179426, 16056...   \n",
       "191                                           [184360]   \n",
       "128                                   [179426, 211125]   \n",
       "82                                            [184360]   \n",
       "\n",
       "                                               section  paper_frequency  \\\n",
       "83   [184360:Cardiovascular Effects Of Sdpp4 Upregu...                3   \n",
       "3    [184360:Mechanisms Of Sars-Cov-2 Entry Into Ho...                7   \n",
       "191  [184360:Pathophysiology Of Covid-19, 184360:Ca...                1   \n",
       "128  [179426:Association Of Diabetes With Acute Vir...                2   \n",
       "82                                 [184360:Conclusion]                1   \n",
       "\n",
       "                                      raw_entity_types  raw_frequency  \n",
       "83                         [PATHWAY, PATHWAY, PATHWAY]              3  \n",
       "3    [PROTEIN, PROTEIN, PROTEIN, PROTEIN, PROTEIN, ...             79  \n",
       "191                                 [DISEASE, DISEASE]              2  \n",
       "128                                 [PATHWAY, PATHWAY]              2  \n",
       "82                                  [PROTEIN, PROTEIN]              2  "
      ]
     },
     "execution_count": 6,
     "metadata": {},
     "output_type": "execute_result"
    }
   ],
   "source": [
    "curation_input_table.sample(5)"
   ]
  },
  {
   "cell_type": "markdown",
   "metadata": {},
   "source": [
    "The second output of the data preparation step outputs the counts of different instances of occurrence factors: number of distinct papers/sections/paragraphs in the input corpus."
   ]
  },
  {
   "cell_type": "code",
   "execution_count": 7,
   "metadata": {},
   "outputs": [
    {
     "data": {
      "text/plain": [
       "{'paper': 20, 'section': 108, 'paragraph': 286}"
      ]
     },
     "execution_count": 7,
     "metadata": {},
     "output_type": "execute_result"
    }
   ],
   "source": [
    "factor_counts"
   ]
  },
  {
   "cell_type": "markdown",
   "metadata": {},
   "source": [
    "## 2. Data curation"
   ]
  },
  {
   "cell_type": "markdown",
   "metadata": {},
   "source": [
    "### Loading the NCIT ontology linking data"
   ]
  },
  {
   "cell_type": "markdown",
   "metadata": {},
   "source": [
    "To group synonymical entities in the previously extracted table (e.g. `ace2`, `ace-2`, `angiotensin-converting enzyme 2`), as well as assign additional semantics to these entities (e.g. human-readable definition, taxonomy, etc), we peform further _linking_ of the entities to the terms from the [NCIT ontology](https://ncithesaurus.nci.nih.gov/ncitbrowser/).\n",
    "\n",
    "To be able to perform such ontology linking, we load some additional (pre-computed using ML-based linking models) data."
   ]
  },
  {
   "cell_type": "code",
   "execution_count": 8,
   "metadata": {},
   "outputs": [
    {
     "name": "stdout",
     "output_type": "stream",
     "text": [
      "Loading the ontology linking data...\n",
      "\tDecompressing the input data file...\n",
      "\tLoading the linking dataframe in memory...\n",
      "\tLoading ontology type mapping...\n",
      "Done.\n",
      "CPU times: user 1.06 s, sys: 150 ms, total: 1.21 s\n",
      "Wall time: 1.21 s\n"
     ]
    }
   ],
   "source": [
    "%%time\n",
    "print(\"Loading the ontology linking data...\")\n",
    "    \n",
    "print(\"\\tDecompressing the input data file...\")\n",
    "with zipfile.ZipFile(\"../data/NCIT_ontology_linking_3000_papers.csv.zip\", 'r') as zip_ref:\n",
    "    zip_ref.extractall(\"../data/\")\n",
    "\n",
    "print(\"\\tLoading the linking dataframe in memory...\")\n",
    "ontology_linking = pd.read_csv(\"../data/NCIT_ontology_linking_3000_papers.csv\")\n",
    "\n",
    "print(\"\\tLoading ontology type mapping...\")\n",
    "with open(\"../data/NCIT_type_mapping.json\", \"rb\") as f:\n",
    "    type_mapping = json.load(f)\n",
    "print(\"Done.\")"
   ]
  },
  {
   "cell_type": "markdown",
   "metadata": {},
   "source": [
    "The ontology linking table contains the following columns:\n",
    "- `mention` entity mentioned in the text\n",
    "- `concept` ontology concept linked to the entity mention\n",
    "- `uid` unique identifier of the ontology concept\n",
    "- `definition` definition of the concept\n",
    "- `taxonomy` taxonomy of semantic types associated with the concept"
   ]
  },
  {
   "cell_type": "code",
   "execution_count": 9,
   "metadata": {
    "scrolled": true
   },
   "outputs": [
    {
     "data": {
      "text/html": [
       "<div>\n",
       "<style scoped>\n",
       "    .dataframe tbody tr th:only-of-type {\n",
       "        vertical-align: middle;\n",
       "    }\n",
       "\n",
       "    .dataframe tbody tr th {\n",
       "        vertical-align: top;\n",
       "    }\n",
       "\n",
       "    .dataframe thead th {\n",
       "        text-align: right;\n",
       "    }\n",
       "</style>\n",
       "<table border=\"1\" class=\"dataframe\">\n",
       "  <thead>\n",
       "    <tr style=\"text-align: right;\">\n",
       "      <th></th>\n",
       "      <th>mention</th>\n",
       "      <th>concept</th>\n",
       "      <th>uid</th>\n",
       "      <th>definition</th>\n",
       "      <th>taxonomy</th>\n",
       "    </tr>\n",
       "  </thead>\n",
       "  <tbody>\n",
       "    <tr>\n",
       "      <th>103431</th>\n",
       "      <td>microvascular barrier</td>\n",
       "      <td>microcirculatory bed</td>\n",
       "      <td>http://purl.obolibrary.org/obo/NCIT_C33109</td>\n",
       "      <td>A collection of the smallest blood vessels of ...</td>\n",
       "      <td>[('http://purl.obolibrary.org/obo/NCIT_C12679'...</td>\n",
       "    </tr>\n",
       "    <tr>\n",
       "      <th>91501</th>\n",
       "      <td>ptb(luo</td>\n",
       "      <td>luo language</td>\n",
       "      <td>http://purl.obolibrary.org/obo/NCIT_C154012</td>\n",
       "      <td>A Nilotic language spoken by the Luo people of...</td>\n",
       "      <td>[('http://purl.obolibrary.org/obo/NCIT_C161905...</td>\n",
       "    </tr>\n",
       "    <tr>\n",
       "      <th>85826</th>\n",
       "      <td>stromal mmp-11</td>\n",
       "      <td>stromelysin-3</td>\n",
       "      <td>http://purl.obolibrary.org/obo/NCIT_C17594</td>\n",
       "      <td>Stromelysin-3 (488 aa, ~55 kDa) is encoded by ...</td>\n",
       "      <td>[('http://purl.obolibrary.org/obo/NCIT_C18164'...</td>\n",
       "    </tr>\n",
       "    <tr>\n",
       "      <th>33078</th>\n",
       "      <td>il15</td>\n",
       "      <td>il15</td>\n",
       "      <td>NaN</td>\n",
       "      <td>NaN</td>\n",
       "      <td>NaN</td>\n",
       "    </tr>\n",
       "    <tr>\n",
       "      <th>61943</th>\n",
       "      <td>axillary lymphadenitis</td>\n",
       "      <td>axillary lymphadenitis</td>\n",
       "      <td>http://purl.obolibrary.org/obo/NCIT_C27333</td>\n",
       "      <td>An infection of the lymph nodes in the axilla.</td>\n",
       "      <td>[('http://purl.obolibrary.org/obo/NCIT_C35747'...</td>\n",
       "    </tr>\n",
       "  </tbody>\n",
       "</table>\n",
       "</div>"
      ],
      "text/plain": [
       "                       mention                 concept  \\\n",
       "103431   microvascular barrier    microcirculatory bed   \n",
       "91501                  ptb(luo            luo language   \n",
       "85826           stromal mmp-11           stromelysin-3   \n",
       "33078                     il15                    il15   \n",
       "61943   axillary lymphadenitis  axillary lymphadenitis   \n",
       "\n",
       "                                                uid  \\\n",
       "103431   http://purl.obolibrary.org/obo/NCIT_C33109   \n",
       "91501   http://purl.obolibrary.org/obo/NCIT_C154012   \n",
       "85826    http://purl.obolibrary.org/obo/NCIT_C17594   \n",
       "33078                                           NaN   \n",
       "61943    http://purl.obolibrary.org/obo/NCIT_C27333   \n",
       "\n",
       "                                               definition  \\\n",
       "103431  A collection of the smallest blood vessels of ...   \n",
       "91501   A Nilotic language spoken by the Luo people of...   \n",
       "85826   Stromelysin-3 (488 aa, ~55 kDa) is encoded by ...   \n",
       "33078                                                 NaN   \n",
       "61943      An infection of the lymph nodes in the axilla.   \n",
       "\n",
       "                                                 taxonomy  \n",
       "103431  [('http://purl.obolibrary.org/obo/NCIT_C12679'...  \n",
       "91501   [('http://purl.obolibrary.org/obo/NCIT_C161905...  \n",
       "85826   [('http://purl.obolibrary.org/obo/NCIT_C18164'...  \n",
       "33078                                                 NaN  \n",
       "61943   [('http://purl.obolibrary.org/obo/NCIT_C35747'...  "
      ]
     },
     "execution_count": 9,
     "metadata": {},
     "output_type": "execute_result"
    }
   ],
   "source": [
    "ontology_linking.sample(5)"
   ]
  },
  {
   "cell_type": "markdown",
   "metadata": {},
   "source": [
    "### Interactive curation of  entity occurrence data\n",
    "\n",
    "The package provides an interactive entity curation app that allows the user to visualize the entity occurrence data, modify it, perform ontology linking (see `Link to NCIT ontology` button), filter short or unfrequent entities.\n",
    "\n",
    "The field `Keep` allows specifying a set of entities that must be kept in the dataset at all times (even if they don't satisfy the selected filtering criteria).\n",
    "\n",
    "Finally the value specified in the `Generate Graphs from top 500 frequent entities` field corresponds to the number of top entities (by the frequency of their occurrence in papers) to be included in the co-occurrence network."
   ]
  },
  {
   "cell_type": "markdown",
   "metadata": {},
   "source": [
    "We load the prepared data table into the curation app as follows:"
   ]
  },
  {
   "cell_type": "code",
   "execution_count": 10,
   "metadata": {},
   "outputs": [],
   "source": [
    "curation_app.set_table(curation_input_table.copy())"
   ]
  },
  {
   "cell_type": "markdown",
   "metadata": {},
   "source": [
    "We can specify the default entities to keep."
   ]
  },
  {
   "cell_type": "code",
   "execution_count": 11,
   "metadata": {},
   "outputs": [],
   "source": [
    "default_entities_to_keep = [\"glucose\", \"covid-19\"]\n",
    "curation_app.set_default_terms_to_include(default_entities_to_keep)"
   ]
  },
  {
   "cell_type": "markdown",
   "metadata": {},
   "source": [
    "Finally, we set the ontology linking callback to be fired upon a click on the `Link to NCIT ontology` button."
   ]
  },
  {
   "cell_type": "code",
   "execution_count": 12,
   "metadata": {
    "scrolled": false
   },
   "outputs": [],
   "source": [
    "curation_app.set_ontology_linking_callback(lambda x: link_ontology(ontology_linking, type_mapping, x))"
   ]
  },
  {
   "cell_type": "markdown",
   "metadata": {},
   "source": [
    "### Launch the curation app"
   ]
  },
  {
   "cell_type": "markdown",
   "metadata": {},
   "source": [
    "The application can be launched either inline (inside the current notebook) as below."
   ]
  },
  {
   "cell_type": "code",
   "execution_count": 13,
   "metadata": {
    "scrolled": true
   },
   "outputs": [
    {
     "data": {
      "text/html": [
       "\n",
       "        <iframe\n",
       "            width=\"100%\"\n",
       "            height=\"650\"\n",
       "            src=\"http://127.0.0.1:8072/\"\n",
       "            frameborder=\"0\"\n",
       "            allowfullscreen\n",
       "        ></iframe>\n",
       "        "
      ],
      "text/plain": [
       "<IPython.lib.display.IFrame at 0x7fdc97feed30>"
      ]
     },
     "metadata": {},
     "output_type": "display_data"
    },
    {
     "name": "stdout",
     "output_type": "stream",
     "text": [
      "Merging the occurrence data with the ontology linking...\n"
     ]
    }
   ],
   "source": [
    "curation_app.run(port=8072, mode=\"inline\")"
   ]
  },
  {
   "cell_type": "markdown",
   "metadata": {},
   "source": [
    "Or it can be opened externally (by the URL that you can open in a separate tab of your browser, try uncommenting, executing and doing Ctrl+Click on the displayed URL)."
   ]
  },
  {
   "cell_type": "code",
   "execution_count": 14,
   "metadata": {},
   "outputs": [],
   "source": [
    "# curation_app.run(port=8070, mode=\"external\")"
   ]
  },
  {
   "cell_type": "markdown",
   "metadata": {},
   "source": [
    "## 3. Co-occurrence network generation"
   ]
  },
  {
   "cell_type": "markdown",
   "metadata": {},
   "source": [
    "Current curation table displayed in the curation app can be extracted using the `get_curated_table` method."
   ]
  },
  {
   "cell_type": "code",
   "execution_count": 15,
   "metadata": {},
   "outputs": [
    {
     "data": {
      "text/html": [
       "<div>\n",
       "<style scoped>\n",
       "    .dataframe tbody tr th:only-of-type {\n",
       "        vertical-align: middle;\n",
       "    }\n",
       "\n",
       "    .dataframe tbody tr th {\n",
       "        vertical-align: top;\n",
       "    }\n",
       "\n",
       "    .dataframe thead th {\n",
       "        text-align: right;\n",
       "    }\n",
       "</style>\n",
       "<table border=\"1\" class=\"dataframe\">\n",
       "  <thead>\n",
       "    <tr style=\"text-align: right;\">\n",
       "      <th></th>\n",
       "      <th>paper</th>\n",
       "      <th>section</th>\n",
       "      <th>paragraph</th>\n",
       "      <th>aggregated_entities</th>\n",
       "      <th>uid</th>\n",
       "      <th>definition</th>\n",
       "      <th>paper_frequency</th>\n",
       "      <th>entity_type</th>\n",
       "    </tr>\n",
       "    <tr>\n",
       "      <th>entity</th>\n",
       "      <th></th>\n",
       "      <th></th>\n",
       "      <th></th>\n",
       "      <th></th>\n",
       "      <th></th>\n",
       "      <th></th>\n",
       "      <th></th>\n",
       "      <th></th>\n",
       "    </tr>\n",
       "  </thead>\n",
       "  <tbody>\n",
       "    <tr>\n",
       "      <th>4e-bp1</th>\n",
       "      <td>{214924}</td>\n",
       "      <td>{214924:The Interplay Between Covid-19 And Amp...</td>\n",
       "      <td>{214924:The Interplay Between Covid-19 And Amp...</td>\n",
       "      <td>[4e-bp1]</td>\n",
       "      <td>NaN</td>\n",
       "      <td>NaN</td>\n",
       "      <td>1</td>\n",
       "      <td>PROTEIN</td>\n",
       "    </tr>\n",
       "    <tr>\n",
       "      <th>ace inhibitor</th>\n",
       "      <td>{184360, 197804}</td>\n",
       "      <td>{184360:Combined Therapeutic Potential Targeti...</td>\n",
       "      <td>{197804:Caption:71, 184360:Combined Therapeuti...</td>\n",
       "      <td>[acei]</td>\n",
       "      <td>http://purl.obolibrary.org/obo/NCIT_C247</td>\n",
       "      <td>Any substance that inhibits angiotensin-conver...</td>\n",
       "      <td>2</td>\n",
       "      <td>DRUG</td>\n",
       "    </tr>\n",
       "    <tr>\n",
       "      <th>acetaminophen</th>\n",
       "      <td>{179426, 197804}</td>\n",
       "      <td>{197804:Discussion, 179426:Blood Glucose Monit...</td>\n",
       "      <td>{197804:Management Of Children And Young Peopl...</td>\n",
       "      <td>[acetaminophen, paracetamol]</td>\n",
       "      <td>http://purl.obolibrary.org/obo/NCIT_C198</td>\n",
       "      <td>A p-aminophenol derivative with analgesic and ...</td>\n",
       "      <td>2</td>\n",
       "      <td>DRUG</td>\n",
       "    </tr>\n",
       "    <tr>\n",
       "      <th>acute lung injury</th>\n",
       "      <td>{184360, 179426, 197804, 214924}</td>\n",
       "      <td>{214924:The Immune Response To Sars-Cov-2 , 21...</td>\n",
       "      <td>{179426:Role Of Ace/Arbs ::: Special Aspects O...</td>\n",
       "      <td>[ali, lung injury]</td>\n",
       "      <td>http://purl.obolibrary.org/obo/NCIT_C155766</td>\n",
       "      <td>A finding of acute onset of bilateral pulmonar...</td>\n",
       "      <td>4</td>\n",
       "      <td>DISEASE</td>\n",
       "    </tr>\n",
       "    <tr>\n",
       "      <th>acute respiratory distress syndrome</th>\n",
       "      <td>{184360, 211125, 197804, 129074, 214924, 179426}</td>\n",
       "      <td>{214924:The Immune Response To Sars-Cov-2 , 18...</td>\n",
       "      <td>{184360:Caption:71, 184360:Ang-(1-7) Analogues...</td>\n",
       "      <td>[acute respiratory distress syndrome, ards]</td>\n",
       "      <td>http://purl.obolibrary.org/obo/NCIT_C3353</td>\n",
       "      <td>Progressive and life-threatening pulmonary dis...</td>\n",
       "      <td>6</td>\n",
       "      <td>DISEASE</td>\n",
       "    </tr>\n",
       "  </tbody>\n",
       "</table>\n",
       "</div>"
      ],
      "text/plain": [
       "                                                                                paper  \\\n",
       "entity                                                                                  \n",
       "4e-bp1                                                                       {214924}   \n",
       "ace inhibitor                                                        {184360, 197804}   \n",
       "acetaminophen                                                        {179426, 197804}   \n",
       "acute lung injury                                    {184360, 179426, 197804, 214924}   \n",
       "acute respiratory distress syndrome  {184360, 211125, 197804, 129074, 214924, 179426}   \n",
       "\n",
       "                                                                               section  \\\n",
       "entity                                                                                   \n",
       "4e-bp1                               {214924:The Interplay Between Covid-19 And Amp...   \n",
       "ace inhibitor                        {184360:Combined Therapeutic Potential Targeti...   \n",
       "acetaminophen                        {197804:Discussion, 179426:Blood Glucose Monit...   \n",
       "acute lung injury                    {214924:The Immune Response To Sars-Cov-2 , 21...   \n",
       "acute respiratory distress syndrome  {214924:The Immune Response To Sars-Cov-2 , 18...   \n",
       "\n",
       "                                                                             paragraph  \\\n",
       "entity                                                                                   \n",
       "4e-bp1                               {214924:The Interplay Between Covid-19 And Amp...   \n",
       "ace inhibitor                        {197804:Caption:71, 184360:Combined Therapeuti...   \n",
       "acetaminophen                        {197804:Management Of Children And Young Peopl...   \n",
       "acute lung injury                    {179426:Role Of Ace/Arbs ::: Special Aspects O...   \n",
       "acute respiratory distress syndrome  {184360:Caption:71, 184360:Ang-(1-7) Analogues...   \n",
       "\n",
       "                                                             aggregated_entities  \\\n",
       "entity                                                                             \n",
       "4e-bp1                                                                  [4e-bp1]   \n",
       "ace inhibitor                                                             [acei]   \n",
       "acetaminophen                                       [acetaminophen, paracetamol]   \n",
       "acute lung injury                                             [ali, lung injury]   \n",
       "acute respiratory distress syndrome  [acute respiratory distress syndrome, ards]   \n",
       "\n",
       "                                                                             uid  \\\n",
       "entity                                                                             \n",
       "4e-bp1                                                                       NaN   \n",
       "ace inhibitor                           http://purl.obolibrary.org/obo/NCIT_C247   \n",
       "acetaminophen                           http://purl.obolibrary.org/obo/NCIT_C198   \n",
       "acute lung injury                    http://purl.obolibrary.org/obo/NCIT_C155766   \n",
       "acute respiratory distress syndrome    http://purl.obolibrary.org/obo/NCIT_C3353   \n",
       "\n",
       "                                                                            definition  \\\n",
       "entity                                                                                   \n",
       "4e-bp1                                                                             NaN   \n",
       "ace inhibitor                        Any substance that inhibits angiotensin-conver...   \n",
       "acetaminophen                        A p-aminophenol derivative with analgesic and ...   \n",
       "acute lung injury                    A finding of acute onset of bilateral pulmonar...   \n",
       "acute respiratory distress syndrome  Progressive and life-threatening pulmonary dis...   \n",
       "\n",
       "                                     paper_frequency entity_type  \n",
       "entity                                                            \n",
       "4e-bp1                                             1     PROTEIN  \n",
       "ace inhibitor                                      2        DRUG  \n",
       "acetaminophen                                      2        DRUG  \n",
       "acute lung injury                                  4     DISEASE  \n",
       "acute respiratory distress syndrome                6     DISEASE  "
      ]
     },
     "execution_count": 15,
     "metadata": {},
     "output_type": "execute_result"
    }
   ],
   "source": [
    "curated_occurrence_data = curation_app.get_curated_table()\n",
    "curated_occurrence_data.head(5)"
   ]
  },
  {
   "cell_type": "markdown",
   "metadata": {},
   "source": [
    "We can also retreive current values of the `Keep` field (these entities will be also included in the resulting co-occurrence network)."
   ]
  },
  {
   "cell_type": "code",
   "execution_count": 16,
   "metadata": {},
   "outputs": [
    {
     "data": {
      "text/plain": [
       "['glucose', 'covid-19']"
      ]
     },
     "execution_count": 16,
     "metadata": {},
     "output_type": "execute_result"
    }
   ],
   "source": [
    "curation_app.get_terms_to_include()"
   ]
  },
  {
   "cell_type": "markdown",
   "metadata": {},
   "source": [
    "And the number of top frequent entities to use for network generation."
   ]
  },
  {
   "cell_type": "code",
   "execution_count": 17,
   "metadata": {},
   "outputs": [
    {
     "data": {
      "text/plain": [
       "500"
      ]
     },
     "execution_count": 17,
     "metadata": {},
     "output_type": "execute_result"
    }
   ],
   "source": [
    "curation_app.n_most_frequent"
   ]
  },
  {
   "cell_type": "markdown",
   "metadata": {},
   "source": [
    "### Generating co-occurrence networks\n",
    "\n",
    "In the cell below we generate two co-occurrence graphs: for paper- and paragraph-based entity co-occurrences. Along with the graph generation the `generate_cooccurrence_analysis` function \n",
    "\n",
    "- computes node centrality metrics (such as degree, RageRank)\n",
    "- computes co-occurrence statistics (such as frequency, pointwise mutual information and normalized pointwise mutual information) and assignes them as weights to the corresponding edges\n",
    "- performs entity community detection based on different co-occurrence statistics\n",
    "- computes mutual-information-based minimum spanning trees."
   ]
  },
  {
   "cell_type": "markdown",
   "metadata": {},
   "source": [
    "Before we run the co-occurrence analysis, we will create a dictionary with backend configurations for the analytics: we set metrics (centalities) computation to use `graph_tool`, community detection to use `networkx` and, finally, path search to use `graph_tool` as well."
   ]
  },
  {
   "cell_type": "code",
   "execution_count": 18,
   "metadata": {},
   "outputs": [],
   "source": [
    "backend_configs = {\n",
    "    \"metrics\": \"graph_tool\",\n",
    "    \"communities\": \"networkx\",\n",
    "    \"paths\": \"graph_tool\"\n",
    "}"
   ]
  },
  {
   "cell_type": "code",
   "execution_count": 19,
   "metadata": {
    "scrolled": false
   },
   "outputs": [
    {
     "name": "stdout",
     "output_type": "stream",
     "text": [
      "-------------------------------\n",
      "Factor: paper\n",
      "-------------------------------\n",
      "Examining 23005 pairs of terms for co-occurrence...\n",
      "-------------------------------\n",
      "Factor: paragraph\n",
      "-------------------------------\n",
      "Examining 23005 pairs of terms for co-occurrence...\n",
      "Done.\n",
      "CPU times: user 1.61 s, sys: 388 ms, total: 2 s\n",
      "Wall time: 8.54 s\n"
     ]
    }
   ],
   "source": [
    "%%time\n",
    "type_data = curated_occurrence_data[[\"entity_type\"]].rename(columns={\"entity_type\": \"type\"})\n",
    "\n",
    "graphs, trees = generate_cooccurrence_analysis(\n",
    "    curated_occurrence_data,  factor_counts,\n",
    "    n_most_frequent=curation_app.n_most_frequent,\n",
    "    type_data=type_data, \n",
    "    factors=[\"paper\", \"paragraph\"],\n",
    "    keep=curation_app.get_terms_to_include(),\n",
    "    cores=8, \n",
    "    backend_configs=backend_configs)\n",
    "\n",
    "print(\"Done.\")"
   ]
  },
  {
   "cell_type": "markdown",
   "metadata": {},
   "source": [
    "The resulting graph objects are instances of `PandasPGFrame` - frame-based property graphs provided by `BlueGraph`."
   ]
  },
  {
   "cell_type": "code",
   "execution_count": 20,
   "metadata": {},
   "outputs": [
    {
     "data": {
      "text/plain": [
       "<bluegraph.core.io.PandasPGFrame at 0x7fdc7af244e0>"
      ]
     },
     "execution_count": 20,
     "metadata": {},
     "output_type": "execute_result"
    }
   ],
   "source": [
    "graphs[\"paper\"]"
   ]
  },
  {
   "cell_type": "code",
   "execution_count": 21,
   "metadata": {},
   "outputs": [
    {
     "data": {
      "text/html": [
       "<div>\n",
       "<style scoped>\n",
       "    .dataframe tbody tr th:only-of-type {\n",
       "        vertical-align: middle;\n",
       "    }\n",
       "\n",
       "    .dataframe tbody tr th {\n",
       "        vertical-align: top;\n",
       "    }\n",
       "\n",
       "    .dataframe thead th {\n",
       "        text-align: right;\n",
       "    }\n",
       "</style>\n",
       "<table border=\"1\" class=\"dataframe\">\n",
       "  <thead>\n",
       "    <tr style=\"text-align: right;\">\n",
       "      <th></th>\n",
       "      <th>@type</th>\n",
       "      <th>paper_frequency</th>\n",
       "      <th>entity_type</th>\n",
       "      <th>paper</th>\n",
       "      <th>degree_frequency</th>\n",
       "      <th>pagerank_frequency</th>\n",
       "      <th>community_frequency</th>\n",
       "      <th>community_npmi</th>\n",
       "    </tr>\n",
       "    <tr>\n",
       "      <th>@id</th>\n",
       "      <th></th>\n",
       "      <th></th>\n",
       "      <th></th>\n",
       "      <th></th>\n",
       "      <th></th>\n",
       "      <th></th>\n",
       "      <th></th>\n",
       "      <th></th>\n",
       "    </tr>\n",
       "  </thead>\n",
       "  <tbody>\n",
       "    <tr>\n",
       "      <th>vascular</th>\n",
       "      <td>Entity</td>\n",
       "      <td>2</td>\n",
       "      <td>ORGAN</td>\n",
       "      <td>[184360, 214924]</td>\n",
       "      <td>249.0</td>\n",
       "      <td>0.005238</td>\n",
       "      <td>1</td>\n",
       "      <td>2</td>\n",
       "    </tr>\n",
       "    <tr>\n",
       "      <th>myocarditis</th>\n",
       "      <td>Entity</td>\n",
       "      <td>1</td>\n",
       "      <td>DISEASE</td>\n",
       "      <td>[184360]</td>\n",
       "      <td>134.0</td>\n",
       "      <td>0.003152</td>\n",
       "      <td>2</td>\n",
       "      <td>1</td>\n",
       "    </tr>\n",
       "    <tr>\n",
       "      <th>cardiovascular disorder</th>\n",
       "      <td>Entity</td>\n",
       "      <td>4</td>\n",
       "      <td>DISEASE</td>\n",
       "      <td>[214924, 179426, 197804, 160564]</td>\n",
       "      <td>250.0</td>\n",
       "      <td>0.005249</td>\n",
       "      <td>0</td>\n",
       "      <td>3</td>\n",
       "    </tr>\n",
       "    <tr>\n",
       "      <th>diarrhea, ctcae</th>\n",
       "      <td>Entity</td>\n",
       "      <td>3</td>\n",
       "      <td>DISEASE</td>\n",
       "      <td>[214924, 197804, 211125]</td>\n",
       "      <td>235.0</td>\n",
       "      <td>0.005005</td>\n",
       "      <td>3</td>\n",
       "      <td>3</td>\n",
       "    </tr>\n",
       "    <tr>\n",
       "      <th>pulmonary arterial hypertension</th>\n",
       "      <td>Entity</td>\n",
       "      <td>1</td>\n",
       "      <td>DISEASE</td>\n",
       "      <td>[184360]</td>\n",
       "      <td>134.0</td>\n",
       "      <td>0.003152</td>\n",
       "      <td>2</td>\n",
       "      <td>1</td>\n",
       "    </tr>\n",
       "  </tbody>\n",
       "</table>\n",
       "</div>"
      ],
      "text/plain": [
       "                                  @type  paper_frequency entity_type  \\\n",
       "@id                                                                    \n",
       "vascular                         Entity                2       ORGAN   \n",
       "myocarditis                      Entity                1     DISEASE   \n",
       "cardiovascular disorder          Entity                4     DISEASE   \n",
       "diarrhea, ctcae                  Entity                3     DISEASE   \n",
       "pulmonary arterial hypertension  Entity                1     DISEASE   \n",
       "\n",
       "                                                            paper  \\\n",
       "@id                                                                 \n",
       "vascular                                         [184360, 214924]   \n",
       "myocarditis                                              [184360]   \n",
       "cardiovascular disorder          [214924, 179426, 197804, 160564]   \n",
       "diarrhea, ctcae                          [214924, 197804, 211125]   \n",
       "pulmonary arterial hypertension                          [184360]   \n",
       "\n",
       "                                 degree_frequency  pagerank_frequency  \\\n",
       "@id                                                                     \n",
       "vascular                                    249.0            0.005238   \n",
       "myocarditis                                 134.0            0.003152   \n",
       "cardiovascular disorder                     250.0            0.005249   \n",
       "diarrhea, ctcae                             235.0            0.005005   \n",
       "pulmonary arterial hypertension             134.0            0.003152   \n",
       "\n",
       "                                 community_frequency  community_npmi  \n",
       "@id                                                                   \n",
       "vascular                                           1               2  \n",
       "myocarditis                                        2               1  \n",
       "cardiovascular disorder                            0               3  \n",
       "diarrhea, ctcae                                    3               3  \n",
       "pulmonary arterial hypertension                    2               1  "
      ]
     },
     "execution_count": 21,
     "metadata": {},
     "output_type": "execute_result"
    }
   ],
   "source": [
    "graphs[\"paper\"].nodes(raw_frame=True).sample(5)"
   ]
  },
  {
   "cell_type": "code",
   "execution_count": 22,
   "metadata": {},
   "outputs": [
    {
     "data": {
      "text/html": [
       "<div>\n",
       "<style scoped>\n",
       "    .dataframe tbody tr th:only-of-type {\n",
       "        vertical-align: middle;\n",
       "    }\n",
       "\n",
       "    .dataframe tbody tr th {\n",
       "        vertical-align: top;\n",
       "    }\n",
       "\n",
       "    .dataframe thead th {\n",
       "        text-align: right;\n",
       "    }\n",
       "</style>\n",
       "<table border=\"1\" class=\"dataframe\">\n",
       "  <thead>\n",
       "    <tr style=\"text-align: right;\">\n",
       "      <th></th>\n",
       "      <th></th>\n",
       "      <th>frequency</th>\n",
       "      <th>ppmi</th>\n",
       "      <th>npmi</th>\n",
       "      <th>distance_npmi</th>\n",
       "    </tr>\n",
       "    <tr>\n",
       "      <th>@source_id</th>\n",
       "      <th>@target_id</th>\n",
       "      <th></th>\n",
       "      <th></th>\n",
       "      <th></th>\n",
       "      <th></th>\n",
       "    </tr>\n",
       "  </thead>\n",
       "  <tbody>\n",
       "    <tr>\n",
       "      <th>lung</th>\n",
       "      <th>middle east respiratory syndrome coronavirus</th>\n",
       "      <td>5</td>\n",
       "      <td>1.251539</td>\n",
       "      <td>0.625769</td>\n",
       "      <td>1.598033</td>\n",
       "    </tr>\n",
       "    <tr>\n",
       "      <th>cytokine</th>\n",
       "      <th>middle east respiratory syndrome coronavirus</th>\n",
       "      <td>3</td>\n",
       "      <td>1.514573</td>\n",
       "      <td>0.553377</td>\n",
       "      <td>1.807087</td>\n",
       "    </tr>\n",
       "    <tr>\n",
       "      <th>ace inhibitor</th>\n",
       "      <th>muscle</th>\n",
       "      <td>1</td>\n",
       "      <td>2.321928</td>\n",
       "      <td>0.537244</td>\n",
       "      <td>1.861353</td>\n",
       "    </tr>\n",
       "    <tr>\n",
       "      <th>insulin</th>\n",
       "      <th>mtorc2</th>\n",
       "      <td>1</td>\n",
       "      <td>1.514573</td>\n",
       "      <td>0.350439</td>\n",
       "      <td>2.853562</td>\n",
       "    </tr>\n",
       "    <tr>\n",
       "      <th>infectious disorder</th>\n",
       "      <th>insulin resistance</th>\n",
       "      <td>3</td>\n",
       "      <td>1.152003</td>\n",
       "      <td>0.420905</td>\n",
       "      <td>2.375832</td>\n",
       "    </tr>\n",
       "  </tbody>\n",
       "</table>\n",
       "</div>"
      ],
      "text/plain": [
       "                                                                  frequency  \\\n",
       "@source_id          @target_id                                                \n",
       "lung                middle east respiratory syndrome coronavirus          5   \n",
       "cytokine            middle east respiratory syndrome coronavirus          3   \n",
       "ace inhibitor       muscle                                                1   \n",
       "insulin             mtorc2                                                1   \n",
       "infectious disorder insulin resistance                                    3   \n",
       "\n",
       "                                                                      ppmi  \\\n",
       "@source_id          @target_id                                               \n",
       "lung                middle east respiratory syndrome coronavirus  1.251539   \n",
       "cytokine            middle east respiratory syndrome coronavirus  1.514573   \n",
       "ace inhibitor       muscle                                        2.321928   \n",
       "insulin             mtorc2                                        1.514573   \n",
       "infectious disorder insulin resistance                            1.152003   \n",
       "\n",
       "                                                                      npmi  \\\n",
       "@source_id          @target_id                                               \n",
       "lung                middle east respiratory syndrome coronavirus  0.625769   \n",
       "cytokine            middle east respiratory syndrome coronavirus  0.553377   \n",
       "ace inhibitor       muscle                                        0.537244   \n",
       "insulin             mtorc2                                        0.350439   \n",
       "infectious disorder insulin resistance                            0.420905   \n",
       "\n",
       "                                                                  distance_npmi  \n",
       "@source_id          @target_id                                                   \n",
       "lung                middle east respiratory syndrome coronavirus       1.598033  \n",
       "cytokine            middle east respiratory syndrome coronavirus       1.807087  \n",
       "ace inhibitor       muscle                                             1.861353  \n",
       "insulin             mtorc2                                             2.853562  \n",
       "infectious disorder insulin resistance                                 2.375832  "
      ]
     },
     "execution_count": 22,
     "metadata": {},
     "output_type": "execute_result"
    }
   ],
   "source": [
    "graphs[\"paper\"].edges(raw_frame=True).sample(5)"
   ]
  },
  {
   "cell_type": "markdown",
   "metadata": {},
   "source": [
    "## 4. Network visualization and analysis"
   ]
  },
  {
   "cell_type": "markdown",
   "metadata": {},
   "source": [
    "First of all, we set a backend for the visualization app (currently two backends are supported: based on `NetworkX` and `graph-tool`, in this example we use the latter)."
   ]
  },
  {
   "cell_type": "code",
   "execution_count": 23,
   "metadata": {},
   "outputs": [],
   "source": [
    "visualization_app.set_backend(\"graph_tool\")"
   ]
  },
  {
   "cell_type": "code",
   "execution_count": 24,
   "metadata": {},
   "outputs": [],
   "source": [
    "# If you want to use NetworkX\n",
    "visualization_app.set_backend(\"networkx\")"
   ]
  },
  {
   "cell_type": "markdown",
   "metadata": {},
   "source": [
    "### Loading the generated graphs into the visualization app"
   ]
  },
  {
   "cell_type": "code",
   "execution_count": 25,
   "metadata": {},
   "outputs": [],
   "source": [
    "visualization_app.add_graph(\n",
    "    \"Paper-based graph\", graphs[\"paper\"],\n",
    "    tree=trees[\"paper\"], default_top_n=100)\n",
    "\n",
    "visualization_app.add_graph(\n",
    "    \"Paragraph-based graph\", graphs[\"paragraph\"],\n",
    "    tree=trees[\"paragraph\"], default_top_n=100)\n",
    "\n",
    "visualization_app.set_current_graph(\"Paragraph-based graph\")"
   ]
  },
  {
   "cell_type": "markdown",
   "metadata": {},
   "source": [
    "### Loading papers' meta-data into the app\n",
    "\n",
    "We now load an additional dataset containing some meta-data on the papers where the entities analyzed in this notebook occur."
   ]
  },
  {
   "cell_type": "code",
   "execution_count": 26,
   "metadata": {
    "scrolled": true
   },
   "outputs": [
    {
     "data": {
      "text/html": [
       "<div>\n",
       "<style scoped>\n",
       "    .dataframe tbody tr th:only-of-type {\n",
       "        vertical-align: middle;\n",
       "    }\n",
       "\n",
       "    .dataframe tbody tr th {\n",
       "        vertical-align: top;\n",
       "    }\n",
       "\n",
       "    .dataframe thead th {\n",
       "        text-align: right;\n",
       "    }\n",
       "</style>\n",
       "<table border=\"1\" class=\"dataframe\">\n",
       "  <thead>\n",
       "    <tr style=\"text-align: right;\">\n",
       "      <th></th>\n",
       "      <th>title</th>\n",
       "      <th>authors</th>\n",
       "      <th>abstract</th>\n",
       "      <th>doi</th>\n",
       "      <th>url</th>\n",
       "      <th>journal</th>\n",
       "      <th>pmc_id</th>\n",
       "      <th>pubmed_id</th>\n",
       "      <th>publish_time</th>\n",
       "    </tr>\n",
       "    <tr>\n",
       "      <th>id</th>\n",
       "      <th></th>\n",
       "      <th></th>\n",
       "      <th></th>\n",
       "      <th></th>\n",
       "      <th></th>\n",
       "      <th></th>\n",
       "      <th></th>\n",
       "      <th></th>\n",
       "      <th></th>\n",
       "    </tr>\n",
       "  </thead>\n",
       "  <tbody>\n",
       "    <tr>\n",
       "      <th>3</th>\n",
       "      <td>Surfactant protein-D and pulmonary host defense</td>\n",
       "      <td>Crouch, Erika C</td>\n",
       "      <td>Surfactant protein-D (SP-D) participates in th...</td>\n",
       "      <td>10.1186/rr19</td>\n",
       "      <td>https://www.ncbi.nlm.nih.gov/pmc/articles/PMC5...</td>\n",
       "      <td>Respir Res</td>\n",
       "      <td>PMC59549</td>\n",
       "      <td>11667972.0</td>\n",
       "      <td>2000-08-25</td>\n",
       "    </tr>\n",
       "    <tr>\n",
       "      <th>56</th>\n",
       "      <td>CLINICAL VIGNETTES</td>\n",
       "      <td>NaN</td>\n",
       "      <td>NaN</td>\n",
       "      <td>10.1046/j.1525-1497.18.s1.20.x</td>\n",
       "      <td>https://www.ncbi.nlm.nih.gov/pmc/articles/PMC1...</td>\n",
       "      <td>J Gen Intern Med</td>\n",
       "      <td>PMC1494988</td>\n",
       "      <td>12753119.0</td>\n",
       "      <td>2003-04-01</td>\n",
       "    </tr>\n",
       "    <tr>\n",
       "      <th>58</th>\n",
       "      <td>Clinical Vignettes</td>\n",
       "      <td>NaN</td>\n",
       "      <td>NaN</td>\n",
       "      <td>10.1046/j.1525-1497.2001.0160s1023.x</td>\n",
       "      <td>https://www.ncbi.nlm.nih.gov/pmc/articles/PMC1...</td>\n",
       "      <td>J Gen Intern Med</td>\n",
       "      <td>PMC1495316</td>\n",
       "      <td>11357836.0</td>\n",
       "      <td>2001-04-01</td>\n",
       "    </tr>\n",
       "  </tbody>\n",
       "</table>\n",
       "</div>"
      ],
      "text/plain": [
       "                                              title          authors  \\\n",
       "id                                                                     \n",
       "3   Surfactant protein-D and pulmonary host defense  Crouch, Erika C   \n",
       "56                               CLINICAL VIGNETTES              NaN   \n",
       "58                               Clinical Vignettes              NaN   \n",
       "\n",
       "                                             abstract  \\\n",
       "id                                                      \n",
       "3   Surfactant protein-D (SP-D) participates in th...   \n",
       "56                                                NaN   \n",
       "58                                                NaN   \n",
       "\n",
       "                                     doi  \\\n",
       "id                                         \n",
       "3                           10.1186/rr19   \n",
       "56        10.1046/j.1525-1497.18.s1.20.x   \n",
       "58  10.1046/j.1525-1497.2001.0160s1023.x   \n",
       "\n",
       "                                                  url           journal  \\\n",
       "id                                                                        \n",
       "3   https://www.ncbi.nlm.nih.gov/pmc/articles/PMC5...        Respir Res   \n",
       "56  https://www.ncbi.nlm.nih.gov/pmc/articles/PMC1...  J Gen Intern Med   \n",
       "58  https://www.ncbi.nlm.nih.gov/pmc/articles/PMC1...  J Gen Intern Med   \n",
       "\n",
       "        pmc_id   pubmed_id publish_time  \n",
       "id                                       \n",
       "3     PMC59549  11667972.0   2000-08-25  \n",
       "56  PMC1494988  12753119.0   2003-04-01  \n",
       "58  PMC1495316  11357836.0   2001-04-01  "
      ]
     },
     "execution_count": 26,
     "metadata": {},
     "output_type": "execute_result"
    }
   ],
   "source": [
    "paper_data = pd.read_csv(\"../data/Glucose_risk_3000_paper_meta_data.csv\")\n",
    "paper_data = paper_data.set_index(\"id\")\n",
    "paper_data.head(3)"
   ]
  },
  {
   "cell_type": "markdown",
   "metadata": {},
   "source": [
    "We pass a callback for the lookup of paper meta-data to the visualization app using the `set_list_papers_callback` method."
   ]
  },
  {
   "cell_type": "code",
   "execution_count": 27,
   "metadata": {},
   "outputs": [],
   "source": [
    "def list_papers(paper_data, selected_papers, limit=200):\n",
    "    selected_paper_data = paper_data.loc[[int(p) for p in selected_papers]].head(200)\n",
    "    return selected_paper_data.to_dict(\"records\")\n",
    "\n",
    "visualization_app.set_list_papers_callback(lambda x: list_papers(paper_data, x))"
   ]
  },
  {
   "cell_type": "markdown",
   "metadata": {},
   "source": [
    "The ontology linking process described above is noisy, therefore, we would like to keep a possibility of accessing, the raw entities that were linked to particular ontology concepts. For this we define the function `get_aggregated_entities` that retreives such raw entities and we pass it to the visualization app using the `set_aggregated_entities_callback` method."
   ]
  },
  {
   "cell_type": "code",
   "execution_count": 28,
   "metadata": {},
   "outputs": [],
   "source": [
    "def top_n(data_dict, n, smallest=False):\n",
    "    \"\"\"Return top `n` keys of the input dictionary by their value.\"\"\"\n",
    "    df = pd.DataFrame(dict(data_dict).items(), columns=[\"id\", \"value\"])\n",
    "    if smallest:\n",
    "        df = df.nsmallest(n, columns=[\"value\"])\n",
    "    else:\n",
    "        df = df.nlargest(n, columns=[\"value\"])\n",
    "    return(list(df[\"id\"]))\n",
    "\n",
    "\n",
    "def get_aggregated_entities(entity, n):\n",
    "    if \"aggregated_entities\" in curated_occurrence_data.columns:\n",
    "        if entity not in curated_occurrence_data.index:\n",
    "            return None\n",
    "        aggregated = curated_occurrence_data.loc[entity][\"aggregated_entities\"]\n",
    "    else:\n",
    "        aggregated = [entity]\n",
    "    if curation_input_table is not None:\n",
    "        df = curation_input_table.set_index(\"entity\")\n",
    "        if entity in curated_occurrence_data.index:\n",
    "            freqs = df.loc[aggregated][\"paper_frequency\"].to_dict()\n",
    "        else:\n",
    "            return {}\n",
    "    else:\n",
    "        df = data.copy()\n",
    "        df[\"entity\"] = data[\"entity\"].apply(lambda x: x.lower())\n",
    "        freqs = df[df[\"entity\"].apply(lambda x: x.lower() in aggregated)].groupby(\"entity\").aggregate(\n",
    "            lambda x: len(x))[\"entity_type\"].to_dict()\n",
    "    if len(freqs) == 0:\n",
    "        return {}\n",
    "    return {e: freqs[e] for e in top_n(freqs, n)}\n",
    "\n",
    "visualization_app.set_aggregated_entities_callback(\n",
    "    lambda x: get_aggregated_entities(x, 10))"
   ]
  },
  {
   "cell_type": "markdown",
   "metadata": {},
   "source": [
    "Finally, we create a dictionary `definitions` that will serve the visualization app as the lookup table for accessing the definitions of different ontology concepts."
   ]
  },
  {
   "cell_type": "code",
   "execution_count": 29,
   "metadata": {},
   "outputs": [],
   "source": [
    "definitions = ontology_linking[[\"concept\", \"definition\"]].groupby(\n",
    "    \"concept\").aggregate(lambda x: list(x)[0]).to_dict()[\"definition\"]\n",
    "visualization_app.set_entity_definitons(definitions)"
   ]
  },
  {
   "cell_type": "markdown",
   "metadata": {},
   "source": [
    "### Launching the visualization app"
   ]
  },
  {
   "cell_type": "markdown",
   "metadata": {},
   "source": [
    "As before, the interactive graph visualization app can be launched in two modes: inline and external. Here we recommend the external mode for better user experience."
   ]
  },
  {
   "cell_type": "code",
   "execution_count": 34,
   "metadata": {
    "scrolled": true
   },
   "outputs": [
    {
     "name": "stdout",
     "output_type": "stream",
     "text": [
      "Dash app running on http://127.0.0.1:8082/\n"
     ]
    }
   ],
   "source": [
    "visualization_app.run(port=8082, mode=\"external\")"
   ]
  },
  {
   "cell_type": "code",
   "execution_count": 37,
   "metadata": {},
   "outputs": [],
   "source": [
    "node_mapping"
   ]
  },
  {
   "cell_type": "code",
   "execution_count": 38,
   "metadata": {},
   "outputs": [],
   "source": [
    "query = (\n",
    "    \"MATCH {} \".format(\", \".join(\n",
    "        [\n",
    "            \"(`{}`:{})\".format(k, \"lala\")\n",
    "            for k in node_mapping.keys()\n",
    "        ])\n",
    "    ) + \"\\n\".join([\n",
    "        \"SET `{}`.id = '{}'\".format(k, v)\n",
    "        for k, v in node_mapping.items()\n",
    "    ])\n",
    ")"
   ]
  },
  {
   "cell_type": "code",
   "execution_count": 39,
   "metadata": {},
   "outputs": [
    {
     "name": "stdout",
     "output_type": "stream",
     "text": [
      "MATCH (`a`:lala), (`b`:lala), (`c`:lala) SET `a`.id = '1'\n",
      "SET `b`.id = '2'\n",
      "SET `c`.id = '3'\n"
     ]
    }
   ],
   "source": [
    "print(query)"
   ]
  },
  {
   "cell_type": "code",
   "execution_count": 40,
   "metadata": {},
   "outputs": [],
   "source": [
    "import numbers"
   ]
  },
  {
   "cell_type": "code",
   "execution_count": 42,
   "metadata": {},
   "outputs": [
    {
     "data": {
      "text/plain": [
       "True"
      ]
     },
     "execution_count": 42,
     "metadata": {},
     "output_type": "execute_result"
    }
   ],
   "source": [
    "isinstance(4.434, numbers.Number)"
   ]
  },
  {
   "cell_type": "code",
   "execution_count": 62,
   "metadata": {},
   "outputs": [],
   "source": [
    "properties =  {\"a\": \"1\", \"b\": \"2\", \"c\": \"3\"}"
   ]
  },
  {
   "cell_type": "code",
   "execution_count": 63,
   "metadata": {},
   "outputs": [],
   "source": [
    "def _generate_property_repr(properties, prop_types):\n",
    "    props = []\n",
    "    for k, v in properties.items():\n",
    "        quote = \"'\"\n",
    "        if prop_types[k] == \"numeric\":\n",
    "            quote = \"\"\n",
    "        props.append(\"{}: {}{}{}\".format(\n",
    "            k, quote, v, quote))\n",
    "    return props\n"
   ]
  },
  {
   "cell_type": "code",
   "execution_count": 64,
   "metadata": {},
   "outputs": [],
   "source": [
    "node_label = \"NODE\"\n",
    "edge_label = \"EDGE\"\n",
    "source = \"a\"\n",
    "target = \"b\""
   ]
  },
  {
   "cell_type": "code",
   "execution_count": 65,
   "metadata": {},
   "outputs": [
    {
     "data": {
      "text/plain": [
       "{'a': '1', 'b': '2', 'c': '3'}"
      ]
     },
     "execution_count": 65,
     "metadata": {},
     "output_type": "execute_result"
    }
   ],
   "source": [
    "properties"
   ]
  },
  {
   "cell_type": "code",
   "execution_count": 66,
   "metadata": {},
   "outputs": [],
   "source": [
    "prop_types = {}\n",
    "for k, v in properties.items():\n",
    "    prop_types[k] = (\n",
    "        \"numeric\"\n",
    "        if isinstance(v, numbers.Number) else \"category\"\n",
    "    )\n",
    "property_repr = \", \".join(\n",
    "    _generate_property_repr(properties, prop_types))\n",
    "query = (\n",
    "    f\"\"\"MATCH (n:{node_label} {{id: {source}}}), (m:{node_label} {{id: {target}}})\n",
    "    CREATE (n)-[r:{edge_label} {{{property_repr}}}]->(m)\n",
    "    \"\"\"\n",
    ")"
   ]
  },
  {
   "cell_type": "code",
   "execution_count": 68,
   "metadata": {},
   "outputs": [
    {
     "name": "stdout",
     "output_type": "stream",
     "text": [
      "MATCH (n:NODE {id: a}), (m:NODE {id: b})\n",
      "    CREATE (n)-[r:EDGE {a: '1', b: '2', c: '3'}]->(m)\n",
      "    \n"
     ]
    }
   ],
   "source": [
    "print(query)"
   ]
  },
  {
   "cell_type": "code",
   "execution_count": 75,
   "metadata": {},
   "outputs": [],
   "source": [
    "node = \"a\""
   ]
  },
  {
   "cell_type": "code",
   "execution_count": null,
   "metadata": {},
   "outputs": [],
   "source": [
    "property_repr"
   ]
  },
  {
   "cell_type": "code",
   "execution_count": 80,
   "metadata": {},
   "outputs": [],
   "source": [
    "query = (\n",
    "    f\"\"\"MATCH (n:{node_label} {{id: '{node}'}})\n",
    "    SET n = {{}}\n",
    "    SET n += {{ {property_repr} }}\n",
    "    \"\"\"\n",
    ")"
   ]
  },
  {
   "cell_type": "code",
   "execution_count": 81,
   "metadata": {},
   "outputs": [
    {
     "name": "stdout",
     "output_type": "stream",
     "text": [
      "MATCH (n:NODE {id: 'a'})\n",
      "    SET n = {}\n",
      "    SET n += { a: '1', b: '2', c: '3' }\n",
      "    \n"
     ]
    }
   ],
   "source": [
    "print(query)"
   ]
  },
  {
   "cell_type": "code",
   "execution_count": null,
   "metadata": {},
   "outputs": [],
   "source": []
  }
 ],
 "metadata": {
  "kernelspec": {
   "display_name": "bluegraph",
   "language": "python",
   "name": "bluegraph"
  },
  "language_info": {
   "codemirror_mode": {
    "name": "ipython",
    "version": 3
   },
   "file_extension": ".py",
   "mimetype": "text/x-python",
   "name": "python",
   "nbconvert_exporter": "python",
   "pygments_lexer": "ipython3",
   "version": "3.6.12"
  }
 },
 "nbformat": 4,
 "nbformat_minor": 4
}
