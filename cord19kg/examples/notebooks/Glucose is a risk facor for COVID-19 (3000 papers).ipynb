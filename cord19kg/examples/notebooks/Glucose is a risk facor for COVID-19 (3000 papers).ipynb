// This example notebook is distributed with the 3-clause BSD license.

// See file AUTHORS.txt for further details.

// COPYRIGHT 2020–2021, Blue Brain Project/EPFL

// Redistribution and use in source and binary forms, with or without
// modification, are permitted provided that the following conditions are
// met:

//  * Redistributions of source code must retain the above copyright
//    notice, this list of conditions and the following disclaimer.

//  * Redistributions in binary form must reproduce the above
//    copyright notice, this list of conditions and the following
//    disclaimer in the documentation and/or other materials provided
//    with the distribution.

//  * Neither the name of the NetworkX Developers nor the names of its
//    contributors may be used to endorse or promote products derived
//    from this software without specific prior written permission.

// THIS SOFTWARE IS PROVIDED BY THE COPYRIGHT HOLDERS AND CONTRIBUTORS
// "AS IS" AND ANY EXPRESS OR IMPLIED WARRANTIES, INCLUDING, BUT NOT
// LIMITED TO, THE IMPLIED WARRANTIES OF MERCHANTABILITY AND FITNESS FOR
// A PARTICULAR PURPOSE ARE DISCLAIMED. IN NO EVENT SHALL THE COPYRIGHT
// OWNER OR CONTRIBUTORS BE LIABLE FOR ANY DIRECT, INDIRECT, INCIDENTAL,
// SPECIAL, EXEMPLARY, OR CONSEQUENTIAL DAMAGES (INCLUDING, BUT NOT
// LIMITED TO, PROCUREMENT OF SUBSTITUTE GOODS OR SERVICES; LOSS OF USE,
// DATA, OR PROFITS; OR BUSINESS INTERRUPTION) HOWEVER CAUSED AND ON ANY
// THEORY OF LIABILITY, WHETHER IN CONTRACT, STRICT LIABILITY, OR TORT
// (INCLUDING NEGLIGENCE OR OTHERWISE) ARISING IN ANY WAY OUT OF THE USE
// OF THIS SOFTWARE, EVEN IF ADVISED OF THE POSSIBILITY OF SUCH DAMAGE.
{
 "cells": [
  {
   "cell_type": "markdown",
   "metadata": {},
   "source": [
    "# Topic-centered co-occurrence network analysis of CORD-19\n",
    "\n",
    "In this notebook we will perform interactive exploration and analysis of a topic-centered subset of the [CORD-19](https://www.kaggle.com/allen-institute-for-ai/CORD-19-research-challenge) dataset using the `cord19kg` package. The exploration and analysis techniques presented here focus on named entities and their co-occurrence in the scientific articles constituting the dataset.\n",
    "\n",
    "The input data for this notebook contains the named entities extracted from the 3000 most relevant articles to the query _\"Glucose is a risk factor of COVID-19\"_ obtained using the article search model [ref to blue brain search](). The entity extraction was performed using the Named Entity Recognition (NER) techniques also included in [ref to blue brain search](). The entities represent 10 different types (i.e. proteins, chemicals, drugs, diseases, conditions, organs, organisms, pathways, cell types, cell compartments). \n",
    "\n",
    "The interactive literature exploration through the named entity co-occurrence analysis consisting of the following steps:\n",
    "\n",
    "1. __Data preparation__ step converts raw mentions into aggregated entity occurrence statistics.\n",
    "2. __Data curation__ step allows the user to manage extracted entities: modify, filter them and link to the ontology.\n",
    "3. __Network generation__ step allows creating entity co-occurrence networks based on paper-, section- and paragraph-level co-occurrence relations between entities. These entity relations are quantified using mutual-information-based scores (pointwise mutual information and its normalized version).\n",
    "4. __Network visualization and analysis__ step allows the user to perform interactive network visualization, edit network elements and perform its analysis (spanning tree, mutual-information based shortest paths between entities, etc)."
   ]
  },
  {
   "cell_type": "code",
   "execution_count": 1,
   "metadata": {},
   "outputs": [],
   "source": [
    "import json\n",
    "import zipfile\n",
    "\n",
    "import pandas as pd\n",
    "\n",
    "import dash_cytoscape as cyto\n",
    "\n",
    "from cord19kg.utils import (generate_curation_table,\n",
    "                           link_ontology,\n",
    "                           generate_cooccurrence_analysis)\n",
    "from cord19kg.apps.curation_app import curation_app\n",
    "from cord19kg.apps.visualization_app import visualization_app"
   ]
  },
  {
   "cell_type": "code",
   "execution_count": 2,
   "metadata": {},
   "outputs": [],
   "source": [
    "cyto.load_extra_layouts()"
   ]
  },
  {
   "cell_type": "markdown",
   "metadata": {},
   "source": [
    "## 1. Data preparation\n",
    "\n",
    "The input dataset contains occurrences of different terms in paragraphs of scientific articles from the CORD-19 dataset previously extracted by means of a NER model."
   ]
  },
  {
   "cell_type": "code",
   "execution_count": 3,
   "metadata": {},
   "outputs": [
    {
     "name": "stdout",
     "output_type": "stream",
     "text": [
      "Decompressing the input data file...\n",
      "Done.\n",
      "CPU times: user 2.23 s, sys: 239 ms, total: 2.47 s\n",
      "Wall time: 2.49 s\n"
     ]
    }
   ],
   "source": [
    "%%time\n",
    "print(\"Decompressing the input data file...\")\n",
    "with zipfile.ZipFile(\"../data/Glucose_risk_3000_papers.csv.zip\", 'r') as zip_ref:\n",
    "    zip_ref.extractall(\"../data/\")\n",
    "data = pd.read_csv(\"../data/Glucose_risk_3000_papers.csv\")\n",
    "print(\"Done.\")"
   ]
  },
  {
   "cell_type": "code",
   "execution_count": 4,
   "metadata": {},
   "outputs": [
    {
     "data": {
      "text/html": [
       "<div>\n",
       "<style scoped>\n",
       "    .dataframe tbody tr th:only-of-type {\n",
       "        vertical-align: middle;\n",
       "    }\n",
       "\n",
       "    .dataframe tbody tr th {\n",
       "        vertical-align: top;\n",
       "    }\n",
       "\n",
       "    .dataframe thead th {\n",
       "        text-align: right;\n",
       "    }\n",
       "</style>\n",
       "<table border=\"1\" class=\"dataframe\">\n",
       "  <thead>\n",
       "    <tr style=\"text-align: right;\">\n",
       "      <th></th>\n",
       "      <th>entity</th>\n",
       "      <th>entity_type</th>\n",
       "      <th>occurrence</th>\n",
       "    </tr>\n",
       "  </thead>\n",
       "  <tbody>\n",
       "    <tr>\n",
       "      <th>1741485</th>\n",
       "      <td>bacteraemia</td>\n",
       "      <td>DISEASE</td>\n",
       "      <td>21573:R2370 First Report Of Helicobacter Cinae...</td>\n",
       "    </tr>\n",
       "    <tr>\n",
       "      <th>2607216</th>\n",
       "      <td>cardiac</td>\n",
       "      <td>ORGAN</td>\n",
       "      <td>188565:Cardiovascular Disease And Covid-19 :::...</td>\n",
       "    </tr>\n",
       "    <tr>\n",
       "      <th>2839914</th>\n",
       "      <td>communicable diseases</td>\n",
       "      <td>DISEASE</td>\n",
       "      <td>211778:Discussion:28</td>\n",
       "    </tr>\n",
       "    <tr>\n",
       "      <th>2674574</th>\n",
       "      <td>immune cells</td>\n",
       "      <td>CELL_TYPE</td>\n",
       "      <td>196235:Discussion:24</td>\n",
       "    </tr>\n",
       "    <tr>\n",
       "      <th>2876254</th>\n",
       "      <td>diabetes</td>\n",
       "      <td>DISEASE</td>\n",
       "      <td>215345:Discussion:14</td>\n",
       "    </tr>\n",
       "  </tbody>\n",
       "</table>\n",
       "</div>"
      ],
      "text/plain": [
       "                        entity entity_type  \\\n",
       "1741485            bacteraemia     DISEASE   \n",
       "2607216                cardiac       ORGAN   \n",
       "2839914  communicable diseases     DISEASE   \n",
       "2674574           immune cells   CELL_TYPE   \n",
       "2876254               diabetes     DISEASE   \n",
       "\n",
       "                                                occurrence  \n",
       "1741485  21573:R2370 First Report Of Helicobacter Cinae...  \n",
       "2607216  188565:Cardiovascular Disease And Covid-19 :::...  \n",
       "2839914                               211778:Discussion:28  \n",
       "2674574                               196235:Discussion:24  \n",
       "2876254                               215345:Discussion:14  "
      ]
     },
     "execution_count": 4,
     "metadata": {},
     "output_type": "execute_result"
    }
   ],
   "source": [
    "data.sample(5)"
   ]
  },
  {
   "cell_type": "markdown",
   "metadata": {},
   "source": [
    "On the first preparation step, we group and aggregate the input data by unique entities."
   ]
  },
  {
   "cell_type": "code",
   "execution_count": 5,
   "metadata": {},
   "outputs": [
    {
     "name": "stdout",
     "output_type": "stream",
     "text": [
      "Prepating curatation data...\n",
      "Cleaning up the entities...\n",
      "Aggregating occurrences of entities....\n",
      "Done.\n",
      "CPU times: user 1min 10s, sys: 1.24 s, total: 1min 12s\n",
      "Wall time: 1min 12s\n"
     ]
    }
   ],
   "source": [
    "%%time\n",
    "print(\"Prepating curatation data...\")\n",
    "curation_input_table, factor_counts = generate_curation_table(data)\n",
    "print(\"Done.\")"
   ]
  },
  {
   "cell_type": "markdown",
   "metadata": {},
   "source": [
    "The resulting dataframe contains a row per unique named entity together with the following occurrence data: \n",
    "- sets of unique paragraphs, papers, sections, where the corresponding entity is mentioned (`paper`, `section`, `paragraph` columns);\n",
    "- number of total entity occurrences (the `raw_frequency` column);\n",
    "- number of unique papers where it occurs (the `paper_frequency` column);\n",
    "- unique entity types assigned by the NER model (the `entity_type` column, multiple types are possible).\n",
    "- raw entity types assigned by the NER model with the multiplicity of thier occurrence (the `raw_entity_types` column).\n"
   ]
  },
  {
   "cell_type": "code",
   "execution_count": 6,
   "metadata": {},
   "outputs": [
    {
     "data": {
      "text/html": [
       "<div>\n",
       "<style scoped>\n",
       "    .dataframe tbody tr th:only-of-type {\n",
       "        vertical-align: middle;\n",
       "    }\n",
       "\n",
       "    .dataframe tbody tr th {\n",
       "        vertical-align: top;\n",
       "    }\n",
       "\n",
       "    .dataframe thead th {\n",
       "        text-align: right;\n",
       "    }\n",
       "</style>\n",
       "<table border=\"1\" class=\"dataframe\">\n",
       "  <thead>\n",
       "    <tr style=\"text-align: right;\">\n",
       "      <th></th>\n",
       "      <th>entity</th>\n",
       "      <th>entity_type</th>\n",
       "      <th>paragraph</th>\n",
       "      <th>paper</th>\n",
       "      <th>section</th>\n",
       "      <th>paper_frequency</th>\n",
       "      <th>raw_entity_types</th>\n",
       "      <th>raw_frequency</th>\n",
       "    </tr>\n",
       "  </thead>\n",
       "  <tbody>\n",
       "    <tr>\n",
       "      <th>4116</th>\n",
       "      <td>allergic pulmonary inflammation</td>\n",
       "      <td>DISEASE</td>\n",
       "      <td>[13187:426:501, 6116:P-162 Double Dealings Of ...</td>\n",
       "      <td>[13187, 6116]</td>\n",
       "      <td>[6116:P-162 Double Dealings Of Apoptotic Caspa...</td>\n",
       "      <td>2</td>\n",
       "      <td>[DISEASE, DISEASE]</td>\n",
       "      <td>2</td>\n",
       "    </tr>\n",
       "    <tr>\n",
       "      <th>7138</th>\n",
       "      <td>aprepitant</td>\n",
       "      <td>DRUG</td>\n",
       "      <td>[5150:Conclusions:225, 13969:Tdm-7:1226, 5150:...</td>\n",
       "      <td>[5150, 13969]</td>\n",
       "      <td>[5150:Introduction, 13969:Tdm-7, 5150:Conclusi...</td>\n",
       "      <td>2</td>\n",
       "      <td>[DRUG, DRUG, DRUG]</td>\n",
       "      <td>3</td>\n",
       "    </tr>\n",
       "    <tr>\n",
       "      <th>26069</th>\n",
       "      <td>e47</td>\n",
       "      <td>PROTEIN</td>\n",
       "      <td>[13234:Caption:854, 14046:Introduction:122]</td>\n",
       "      <td>[13234, 14046]</td>\n",
       "      <td>[14046:Introduction, 13234:Caption]</td>\n",
       "      <td>2</td>\n",
       "      <td>[PROTEIN, PROTEIN, PROTEIN, PROTEIN]</td>\n",
       "      <td>4</td>\n",
       "    </tr>\n",
       "    <tr>\n",
       "      <th>57199</th>\n",
       "      <td>neurologic injuries</td>\n",
       "      <td>DISEASE</td>\n",
       "      <td>[171819:Rationale ::: W. Setting Goals Of Care...</td>\n",
       "      <td>[7092, 171819]</td>\n",
       "      <td>[171819:Rationale , 7092:Conclusions]</td>\n",
       "      <td>2</td>\n",
       "      <td>[DISEASE, DISEASE]</td>\n",
       "      <td>2</td>\n",
       "    </tr>\n",
       "    <tr>\n",
       "      <th>67145</th>\n",
       "      <td>polyinosinic</td>\n",
       "      <td>CHEMICAL</td>\n",
       "      <td>[14524:University Of Zurich, Zurich, Switzerla...</td>\n",
       "      <td>[13599, 14524, 22026, 14089]</td>\n",
       "      <td>[14524:University Of Zurich, Zurich, Switzerla...</td>\n",
       "      <td>4</td>\n",
       "      <td>[CHEMICAL, CHEMICAL, CHEMICAL, CHEMICAL]</td>\n",
       "      <td>4</td>\n",
       "    </tr>\n",
       "  </tbody>\n",
       "</table>\n",
       "</div>"
      ],
      "text/plain": [
       "                                entity entity_type  \\\n",
       "4116   allergic pulmonary inflammation     DISEASE   \n",
       "7138                        aprepitant        DRUG   \n",
       "26069                              e47     PROTEIN   \n",
       "57199              neurologic injuries     DISEASE   \n",
       "67145                     polyinosinic    CHEMICAL   \n",
       "\n",
       "                                               paragraph  \\\n",
       "4116   [13187:426:501, 6116:P-162 Double Dealings Of ...   \n",
       "7138   [5150:Conclusions:225, 13969:Tdm-7:1226, 5150:...   \n",
       "26069        [13234:Caption:854, 14046:Introduction:122]   \n",
       "57199  [171819:Rationale ::: W. Setting Goals Of Care...   \n",
       "67145  [14524:University Of Zurich, Zurich, Switzerla...   \n",
       "\n",
       "                              paper  \\\n",
       "4116                  [13187, 6116]   \n",
       "7138                  [5150, 13969]   \n",
       "26069                [13234, 14046]   \n",
       "57199                [7092, 171819]   \n",
       "67145  [13599, 14524, 22026, 14089]   \n",
       "\n",
       "                                                 section  paper_frequency  \\\n",
       "4116   [6116:P-162 Double Dealings Of Apoptotic Caspa...                2   \n",
       "7138   [5150:Introduction, 13969:Tdm-7, 5150:Conclusi...                2   \n",
       "26069                [14046:Introduction, 13234:Caption]                2   \n",
       "57199              [171819:Rationale , 7092:Conclusions]                2   \n",
       "67145  [14524:University Of Zurich, Zurich, Switzerla...                4   \n",
       "\n",
       "                               raw_entity_types  raw_frequency  \n",
       "4116                         [DISEASE, DISEASE]              2  \n",
       "7138                         [DRUG, DRUG, DRUG]              3  \n",
       "26069      [PROTEIN, PROTEIN, PROTEIN, PROTEIN]              4  \n",
       "57199                        [DISEASE, DISEASE]              2  \n",
       "67145  [CHEMICAL, CHEMICAL, CHEMICAL, CHEMICAL]              4  "
      ]
     },
     "execution_count": 6,
     "metadata": {},
     "output_type": "execute_result"
    }
   ],
   "source": [
    "curation_input_table.sample(5)"
   ]
  },
  {
   "cell_type": "markdown",
   "metadata": {},
   "source": [
    "The second output of the data preparation step outputs the counts of different instances of occurrence factors: number of distinct papers/sections/paragraphs in the input corpus."
   ]
  },
  {
   "cell_type": "code",
   "execution_count": 7,
   "metadata": {},
   "outputs": [
    {
     "data": {
      "text/plain": [
       "{'paper': 3000, 'section': 53947, 'paragraph': 211380}"
      ]
     },
     "execution_count": 7,
     "metadata": {},
     "output_type": "execute_result"
    }
   ],
   "source": [
    "factor_counts"
   ]
  },
  {
   "cell_type": "markdown",
   "metadata": {},
   "source": [
    "## 2. Data curation"
   ]
  },
  {
   "cell_type": "markdown",
   "metadata": {},
   "source": [
    "### Loading the NCIT ontology linking data"
   ]
  },
  {
   "cell_type": "markdown",
   "metadata": {},
   "source": [
    "To group synonymical entities in the previously extracted table (e.g. `ace2`, `ace-2`, `angiotensin-converting enzyme 2`), as well as assign additional semantics to these entities (e.g. human-readable definition, taxonomy, etc), we peform further _linking_ of the entities to the terms from the [NCIT ontology](https://ncithesaurus.nci.nih.gov/ncitbrowser/).\n",
    "\n",
    "To be able to perform such ontology linking, we load some additional (pre-computed using ML-based linking models) data."
   ]
  },
  {
   "cell_type": "code",
   "execution_count": 8,
   "metadata": {},
   "outputs": [
    {
     "name": "stdout",
     "output_type": "stream",
     "text": [
      "Loading the ontology linking data...\n",
      "\tDecompressing the input data file...\n",
      "\tLoading the linking dataframe in memory...\n",
      "\tLoading ontology type mapping...\n",
      "Done.\n",
      "CPU times: user 992 ms, sys: 109 ms, total: 1.1 s\n",
      "Wall time: 1.1 s\n"
     ]
    }
   ],
   "source": [
    "%%time\n",
    "print(\"Loading the ontology linking data...\")\n",
    "    \n",
    "print(\"\\tDecompressing the input data file...\")\n",
    "with zipfile.ZipFile(\"../data/NCIT_ontology_linking_3000_papers.csv.zip\", 'r') as zip_ref:\n",
    "    zip_ref.extractall(\"../data/\")\n",
    "\n",
    "print(\"\\tLoading the linking dataframe in memory...\")\n",
    "ontology_linking = pd.read_csv(\"../data/NCIT_ontology_linking_3000_papers.csv\")\n",
    "\n",
    "print(\"\\tLoading ontology type mapping...\")\n",
    "with open(\"../data/NCIT_type_mapping.json\", \"rb\") as f:\n",
    "    type_mapping = json.load(f)\n",
    "print(\"Done.\")"
   ]
  },
  {
   "cell_type": "markdown",
   "metadata": {},
   "source": [
    "The ontology linking table contains the following columns:\n",
    "- `mention` entity mentioned in the text\n",
    "- `concept` ontology concept linked to the entity mention\n",
    "- `uid` unique identifier of the ontology concept\n",
    "- `definition` definition of the concept\n",
    "- `taxonomy` taxonomy of semantic types associated with the concept"
   ]
  },
  {
   "cell_type": "code",
   "execution_count": 9,
   "metadata": {
    "scrolled": true
   },
   "outputs": [
    {
     "data": {
      "text/html": [
       "<div>\n",
       "<style scoped>\n",
       "    .dataframe tbody tr th:only-of-type {\n",
       "        vertical-align: middle;\n",
       "    }\n",
       "\n",
       "    .dataframe tbody tr th {\n",
       "        vertical-align: top;\n",
       "    }\n",
       "\n",
       "    .dataframe thead th {\n",
       "        text-align: right;\n",
       "    }\n",
       "</style>\n",
       "<table border=\"1\" class=\"dataframe\">\n",
       "  <thead>\n",
       "    <tr style=\"text-align: right;\">\n",
       "      <th></th>\n",
       "      <th>mention</th>\n",
       "      <th>concept</th>\n",
       "      <th>uid</th>\n",
       "      <th>definition</th>\n",
       "      <th>taxonomy</th>\n",
       "    </tr>\n",
       "  </thead>\n",
       "  <tbody>\n",
       "    <tr>\n",
       "      <th>149032</th>\n",
       "      <td>intracellular stat</td>\n",
       "      <td>intracellular</td>\n",
       "      <td>http://purl.obolibrary.org/obo/NCIT_C28217</td>\n",
       "      <td>NaN</td>\n",
       "      <td>[('http://purl.obolibrary.org/obo/NCIT_C13442'...</td>\n",
       "    </tr>\n",
       "    <tr>\n",
       "      <th>22586</th>\n",
       "      <td>surgical</td>\n",
       "      <td>surgical procedure</td>\n",
       "      <td>http://purl.obolibrary.org/obo/NCIT_C15329</td>\n",
       "      <td>A diagnostic or treatment procedure performed ...</td>\n",
       "      <td>[('http://purl.obolibrary.org/obo/NCIT_C25218'...</td>\n",
       "    </tr>\n",
       "    <tr>\n",
       "      <th>142393</th>\n",
       "      <td>sars-cov-2 cell</td>\n",
       "      <td>sars-cov-2</td>\n",
       "      <td>http://purl.obolibrary.org/obo/NCIT_C169076</td>\n",
       "      <td>A positive-sense single-stranded RNA virus in ...</td>\n",
       "      <td>[('http://purl.obolibrary.org/obo/NCIT_C113207...</td>\n",
       "    </tr>\n",
       "    <tr>\n",
       "      <th>92923</th>\n",
       "      <td>serum age proteins</td>\n",
       "      <td>serum protein</td>\n",
       "      <td>http://purl.obolibrary.org/obo/NCIT_C17126</td>\n",
       "      <td>Dissolved proteins of blood plasma.  These mai...</td>\n",
       "      <td>[('http://purl.obolibrary.org/obo/NCIT_C150129...</td>\n",
       "    </tr>\n",
       "    <tr>\n",
       "      <th>22767</th>\n",
       "      <td>5-ht3 receptor</td>\n",
       "      <td>5-ht3 receptor</td>\n",
       "      <td>http://purl.obolibrary.org/obo/NCIT_C105979</td>\n",
       "      <td>A protein complex that plays a role in neurotr...</td>\n",
       "      <td>[('http://purl.obolibrary.org/obo/NCIT_C21176'...</td>\n",
       "    </tr>\n",
       "  </tbody>\n",
       "</table>\n",
       "</div>"
      ],
      "text/plain": [
       "                   mention             concept  \\\n",
       "149032  intracellular stat       intracellular   \n",
       "22586             surgical  surgical procedure   \n",
       "142393     sars-cov-2 cell          sars-cov-2   \n",
       "92923   serum age proteins       serum protein   \n",
       "22767       5-ht3 receptor      5-ht3 receptor   \n",
       "\n",
       "                                                uid  \\\n",
       "149032   http://purl.obolibrary.org/obo/NCIT_C28217   \n",
       "22586    http://purl.obolibrary.org/obo/NCIT_C15329   \n",
       "142393  http://purl.obolibrary.org/obo/NCIT_C169076   \n",
       "92923    http://purl.obolibrary.org/obo/NCIT_C17126   \n",
       "22767   http://purl.obolibrary.org/obo/NCIT_C105979   \n",
       "\n",
       "                                               definition  \\\n",
       "149032                                                NaN   \n",
       "22586   A diagnostic or treatment procedure performed ...   \n",
       "142393  A positive-sense single-stranded RNA virus in ...   \n",
       "92923   Dissolved proteins of blood plasma.  These mai...   \n",
       "22767   A protein complex that plays a role in neurotr...   \n",
       "\n",
       "                                                 taxonomy  \n",
       "149032  [('http://purl.obolibrary.org/obo/NCIT_C13442'...  \n",
       "22586   [('http://purl.obolibrary.org/obo/NCIT_C25218'...  \n",
       "142393  [('http://purl.obolibrary.org/obo/NCIT_C113207...  \n",
       "92923   [('http://purl.obolibrary.org/obo/NCIT_C150129...  \n",
       "22767   [('http://purl.obolibrary.org/obo/NCIT_C21176'...  "
      ]
     },
     "execution_count": 9,
     "metadata": {},
     "output_type": "execute_result"
    }
   ],
   "source": [
    "ontology_linking.sample(5)"
   ]
  },
  {
   "cell_type": "markdown",
   "metadata": {},
   "source": [
    "### Interactive curation of  entity occurrence data\n",
    "\n",
    "The package provides an interactive entity curation app that allows the user to visualize the entity occurrence data, modify it, perform ontology linking (see `Link to NCIT ontology` button), filter short or unfrequent entities.\n",
    "\n",
    "The field `Keep` allows specifying a set of entities that must be kept in the dataset at all times (even if they don't satisfy the selected filtering criteria).\n",
    "\n",
    "Finally the value specified in the `Generate Graphs from top 500 frequent entities` field corresponds to the number of top entities (by the frequency of their occurrence in papers) to be included in the co-occurrence network."
   ]
  },
  {
   "cell_type": "markdown",
   "metadata": {},
   "source": [
    "We load the prepared data table into the curation app as follows:"
   ]
  },
  {
   "cell_type": "code",
   "execution_count": 10,
   "metadata": {},
   "outputs": [],
   "source": [
    "curation_app.set_table(curation_input_table.copy())"
   ]
  },
  {
   "cell_type": "markdown",
   "metadata": {},
   "source": [
    "We can specify the default entities to keep."
   ]
  },
  {
   "cell_type": "code",
   "execution_count": 11,
   "metadata": {},
   "outputs": [],
   "source": [
    "default_entities_to_keep = [\"glucose\", \"covid-19\"]\n",
    "curation_app.set_default_terms_to_include(default_entities_to_keep)"
   ]
  },
  {
   "cell_type": "markdown",
   "metadata": {},
   "source": [
    "Finally, we set the ontology linking callback to be fired upon a click on the `Link to NCIT ontology` button."
   ]
  },
  {
   "cell_type": "code",
   "execution_count": 12,
   "metadata": {
    "scrolled": false
   },
   "outputs": [],
   "source": [
    "curation_app.set_ontology_linking_callback(lambda x: link_ontology(ontology_linking, type_mapping, x))"
   ]
  },
  {
   "cell_type": "markdown",
   "metadata": {},
   "source": [
    "### Launch the curation app"
   ]
  },
  {
   "cell_type": "markdown",
   "metadata": {},
   "source": [
    "The application can be launched either inline (inside the current notebook) as below."
   ]
  },
  {
   "cell_type": "code",
   "execution_count": 14,
   "metadata": {},
   "outputs": [
    {
     "data": {
      "text/html": [
       "\n",
       "        <iframe\n",
       "            width=\"100%\"\n",
       "            height=\"650\"\n",
       "            src=\"http://127.0.0.1:8073/\"\n",
       "            frameborder=\"0\"\n",
       "            allowfullscreen\n",
       "        ></iframe>\n",
       "        "
      ],
      "text/plain": [
       "<IPython.lib.display.IFrame at 0x7fcf2c30d580>"
      ]
     },
     "metadata": {},
     "output_type": "display_data"
    },
    {
     "name": "stdout",
     "output_type": "stream",
     "text": [
      "Merging the occurrence data with the ontology linking...\n"
     ]
    }
   ],
   "source": [
    "curation_app.run(port=8073, mode=\"inline\")"
   ]
  },
  {
   "cell_type": "markdown",
   "metadata": {},
   "source": [
    "Or it can be opened externally (by the URL that you can open in a separate tab of your browser, try uncommenting, executing and doing Ctrl+Click on the displayed URL)."
   ]
  },
  {
   "cell_type": "code",
   "execution_count": 15,
   "metadata": {},
   "outputs": [],
   "source": [
    "# curation_app.run(port=8070, mode=\"external\")"
   ]
  },
  {
   "cell_type": "markdown",
   "metadata": {},
   "source": [
    "## 3. Co-occurrence network generation"
   ]
  },
  {
   "cell_type": "markdown",
   "metadata": {},
   "source": [
    "Current curation table displayed in the curation app can be extracted using the `get_curated_table` method."
   ]
  },
  {
   "cell_type": "code",
   "execution_count": 16,
   "metadata": {},
   "outputs": [
    {
     "data": {
      "text/html": [
       "<div>\n",
       "<style scoped>\n",
       "    .dataframe tbody tr th:only-of-type {\n",
       "        vertical-align: middle;\n",
       "    }\n",
       "\n",
       "    .dataframe tbody tr th {\n",
       "        vertical-align: top;\n",
       "    }\n",
       "\n",
       "    .dataframe thead th {\n",
       "        text-align: right;\n",
       "    }\n",
       "</style>\n",
       "<table border=\"1\" class=\"dataframe\">\n",
       "  <thead>\n",
       "    <tr style=\"text-align: right;\">\n",
       "      <th></th>\n",
       "      <th>paper</th>\n",
       "      <th>section</th>\n",
       "      <th>paragraph</th>\n",
       "      <th>aggregated_entities</th>\n",
       "      <th>uid</th>\n",
       "      <th>definition</th>\n",
       "      <th>paper_frequency</th>\n",
       "      <th>entity_type</th>\n",
       "    </tr>\n",
       "    <tr>\n",
       "      <th>entity</th>\n",
       "      <th></th>\n",
       "      <th></th>\n",
       "      <th></th>\n",
       "      <th></th>\n",
       "      <th></th>\n",
       "      <th></th>\n",
       "      <th></th>\n",
       "      <th></th>\n",
       "    </tr>\n",
       "  </thead>\n",
       "  <tbody>\n",
       "    <tr>\n",
       "      <th>postn</th>\n",
       "      <td>{7076, 21673, 203939, 6148, 21768}</td>\n",
       "      <td>{7076:Ofp-12-001, 21673:Caption, 203939:Captio...</td>\n",
       "      <td>{203939:Caption:278, 6148:U-Biopred Consortia:...</td>\n",
       "      <td>[postn]</td>\n",
       "      <td>NaN</td>\n",
       "      <td>NaN</td>\n",
       "      <td>5</td>\n",
       "      <td>PROTEIN</td>\n",
       "    </tr>\n",
       "    <tr>\n",
       "      <th>buccal mucosa</th>\n",
       "      <td>{13291, 7107, 171873, 5680, 21896, 21842, 8750...</td>\n",
       "      <td>{5150:Introduction, 13182:Caption, 58:Emphysem...</td>\n",
       "      <td>{21842:The Effects Of Age On Glucose Tolerance...</td>\n",
       "      <td>[buccal mucosa, buccal mucosal, buccal mucosal...</td>\n",
       "      <td>http://purl.obolibrary.org/obo/NCIT_C12505</td>\n",
       "      <td>The mucosal membranes located on the inside of...</td>\n",
       "      <td>23</td>\n",
       "      <td>ORGAN</td>\n",
       "    </tr>\n",
       "    <tr>\n",
       "      <th>urinary tract infection</th>\n",
       "      <td>{229028, 13237, 13099, 13291, 13720, 9805, 171...</td>\n",
       "      <td>{14044:Department Of Paediatrics, Kuala Lumpur...</td>\n",
       "      <td>{14051:P507:296, 21673:P19.55:504, 21842:Urina...</td>\n",
       "      <td>[urinary tract infection]</td>\n",
       "      <td>http://purl.obolibrary.org/obo/NCIT_C50791</td>\n",
       "      <td>A bacterial infectious process affecting any p...</td>\n",
       "      <td>99</td>\n",
       "      <td>DISEASE</td>\n",
       "    </tr>\n",
       "    <tr>\n",
       "      <th>activating fgfr gene mutation</th>\n",
       "      <td>{6942, 2336, 9805, 160632, 21842, 6192, 2950, ...</td>\n",
       "      <td>{6453:140, 493:Caption, 6148:B319 Assessment O...</td>\n",
       "      <td>{6942:Implications Of The Jak–Stat Pathway In ...</td>\n",
       "      <td>[gain-of-function]</td>\n",
       "      <td>http://purl.obolibrary.org/obo/NCIT_C153103</td>\n",
       "      <td>A change in the nucleotide sequence of an FGFR...</td>\n",
       "      <td>19</td>\n",
       "      <td>PATHWAY</td>\n",
       "    </tr>\n",
       "    <tr>\n",
       "      <th>angiotensin ii receptor antagonist</th>\n",
       "      <td>{164613, 179853, 218397, 190892, 190434, 22238...</td>\n",
       "      <td>{7095:References, 201917:Statements On The Use...</td>\n",
       "      <td>{187644:Caption:22, 212429:Introduction:4, 214...</td>\n",
       "      <td>[ang ii receptor blockers, angiotensin 2 recep...</td>\n",
       "      <td>http://purl.obolibrary.org/obo/NCIT_C66930</td>\n",
       "      <td>A class of agents that act by selectively inhi...</td>\n",
       "      <td>371</td>\n",
       "      <td>DRUG</td>\n",
       "    </tr>\n",
       "  </tbody>\n",
       "</table>\n",
       "</div>"
      ],
      "text/plain": [
       "                                                                                paper  \\\n",
       "entity                                                                                  \n",
       "postn                                              {7076, 21673, 203939, 6148, 21768}   \n",
       "buccal mucosa                       {13291, 7107, 171873, 5680, 21896, 21842, 8750...   \n",
       "urinary tract infection             {229028, 13237, 13099, 13291, 13720, 9805, 171...   \n",
       "activating fgfr gene mutation       {6942, 2336, 9805, 160632, 21842, 6192, 2950, ...   \n",
       "angiotensin ii receptor antagonist  {164613, 179853, 218397, 190892, 190434, 22238...   \n",
       "\n",
       "                                                                              section  \\\n",
       "entity                                                                                  \n",
       "postn                               {7076:Ofp-12-001, 21673:Caption, 203939:Captio...   \n",
       "buccal mucosa                       {5150:Introduction, 13182:Caption, 58:Emphysem...   \n",
       "urinary tract infection             {14044:Department Of Paediatrics, Kuala Lumpur...   \n",
       "activating fgfr gene mutation       {6453:140, 493:Caption, 6148:B319 Assessment O...   \n",
       "angiotensin ii receptor antagonist  {7095:References, 201917:Statements On The Use...   \n",
       "\n",
       "                                                                            paragraph  \\\n",
       "entity                                                                                  \n",
       "postn                               {203939:Caption:278, 6148:U-Biopred Consortia:...   \n",
       "buccal mucosa                       {21842:The Effects Of Age On Glucose Tolerance...   \n",
       "urinary tract infection             {14051:P507:296, 21673:P19.55:504, 21842:Urina...   \n",
       "activating fgfr gene mutation       {6942:Implications Of The Jak–Stat Pathway In ...   \n",
       "angiotensin ii receptor antagonist  {187644:Caption:22, 212429:Introduction:4, 214...   \n",
       "\n",
       "                                                                  aggregated_entities  \\\n",
       "entity                                                                                  \n",
       "postn                                                                         [postn]   \n",
       "buccal mucosa                       [buccal mucosa, buccal mucosal, buccal mucosal...   \n",
       "urinary tract infection                                     [urinary tract infection]   \n",
       "activating fgfr gene mutation                                      [gain-of-function]   \n",
       "angiotensin ii receptor antagonist  [ang ii receptor blockers, angiotensin 2 recep...   \n",
       "\n",
       "                                                                            uid  \\\n",
       "entity                                                                            \n",
       "postn                                                                       NaN   \n",
       "buccal mucosa                        http://purl.obolibrary.org/obo/NCIT_C12505   \n",
       "urinary tract infection              http://purl.obolibrary.org/obo/NCIT_C50791   \n",
       "activating fgfr gene mutation       http://purl.obolibrary.org/obo/NCIT_C153103   \n",
       "angiotensin ii receptor antagonist   http://purl.obolibrary.org/obo/NCIT_C66930   \n",
       "\n",
       "                                                                           definition  \\\n",
       "entity                                                                                  \n",
       "postn                                                                             NaN   \n",
       "buccal mucosa                       The mucosal membranes located on the inside of...   \n",
       "urinary tract infection             A bacterial infectious process affecting any p...   \n",
       "activating fgfr gene mutation       A change in the nucleotide sequence of an FGFR...   \n",
       "angiotensin ii receptor antagonist  A class of agents that act by selectively inhi...   \n",
       "\n",
       "                                    paper_frequency entity_type  \n",
       "entity                                                           \n",
       "postn                                             5     PROTEIN  \n",
       "buccal mucosa                                    23       ORGAN  \n",
       "urinary tract infection                          99     DISEASE  \n",
       "activating fgfr gene mutation                    19     PATHWAY  \n",
       "angiotensin ii receptor antagonist              371        DRUG  "
      ]
     },
     "execution_count": 16,
     "metadata": {},
     "output_type": "execute_result"
    }
   ],
   "source": [
    "curated_occurrence_data = curation_app.get_curated_table()\n",
    "curated_occurrence_data.sample(5)"
   ]
  },
  {
   "cell_type": "markdown",
   "metadata": {},
   "source": [
    "Before we can proceed we need to convert paper/section and paragraph columns into `set`."
   ]
  },
  {
   "cell_type": "code",
   "execution_count": 17,
   "metadata": {},
   "outputs": [],
   "source": [
    "curated_occurrence_data[\"paper\"] = curated_occurrence_data[\"paper\"].apply(set)\n",
    "curated_occurrence_data[\"paragraph\"] = curated_occurrence_data[\"paragraph\"].apply(set)\n",
    "curated_occurrence_data[\"section\"] = curated_occurrence_data[\"section\"].apply(set)"
   ]
  },
  {
   "cell_type": "markdown",
   "metadata": {},
   "source": [
    "We can also retreive current values of the `Keep` field (these entities will be also included in the resulting co-occurrence network)."
   ]
  },
  {
   "cell_type": "code",
   "execution_count": 18,
   "metadata": {},
   "outputs": [
    {
     "data": {
      "text/plain": [
       "['glucose', 'covid-19']"
      ]
     },
     "execution_count": 18,
     "metadata": {},
     "output_type": "execute_result"
    }
   ],
   "source": [
    "curation_app.get_terms_to_include()"
   ]
  },
  {
   "cell_type": "markdown",
   "metadata": {},
   "source": [
    "### Generating co-occurrence networks\n",
    "\n",
    "In the cell below we generate a paper-based entity co-occurrence network. Along with the network generation the `generate_comention_analysis` function:\n",
    "\n",
    "- computes node centrality metrics (such as degree, RageRank)\n",
    "- computes co-occurrence statistics (such as frequency, pointwise mutual information and normalized pointwise mutual information) and assignes them as weights to the corresponding edges\n",
    "- performs entity community detection based on different co-occurrence statistics\n",
    "- computes mutual-information-based minimum spanning trees.\n",
    "\n",
    "Here we set the number of entities to include to the 1500 most frequent entities."
   ]
  },
  {
   "cell_type": "code",
   "execution_count": 19,
   "metadata": {},
   "outputs": [
    {
     "name": "stdout",
     "output_type": "stream",
     "text": [
      "-------------------------------\n",
      "Factor: paragraph\n",
      "-------------------------------\n",
      "Fitering data.....\n",
      "Selected 1500 most frequent terms\n",
      "Examining 1124250 pairs of terms for co-occurrence...\n",
      "Generated 693669 edges                    \n",
      "Created a co-occurrence graph:\n",
      "\tnumber of nodes:  1500\n",
      "\tnumber of edges:  693669\n",
      "Saving the edges...\n",
      "Creating a graph object...\n",
      "\n",
      "Computing degree centrality statistics....\n",
      "Top n nodes by frequency:\n",
      "\tcovid-19 (174251)\n",
      "\tblood (166103)\n",
      "\thuman (157878)\n",
      "\tlung (138504)\n",
      "\tinfectious disorder (138176)\n",
      "\theart (127273)\n",
      "\tdiabetes mellitus (114019)\n",
      "\tmouse (101697)\n",
      "\tinflammation (95174)\n",
      "\tliver (93130)\n",
      "\n",
      "Computing PageRank centrality statistics....\n",
      "Top n nodes by frequency:\n",
      "\tblood (0.01)\n",
      "\tcovid-19 (0.01)\n",
      "\thuman (0.01)\n",
      "\tinfectious disorder (0.01)\n",
      "\tlung (0.01)\n",
      "\theart (0.01)\n",
      "\tdiabetes mellitus (0.01)\n",
      "\tmouse (0.01)\n",
      "\tliver (0.01)\n",
      "\tinflammation (0.01)\n",
      "\n",
      "Using the 'frequency' weight...\n",
      "Detecting communities...\n",
      "Best network partition:\n",
      "\t Number of communities: 5\n",
      "\t Modularity: 0.18164091974636346\n",
      "Using the 'npmi' weight...\n",
      "Detecting communities...\n",
      "Best network partition:\n",
      "\t Number of communities: 4\n",
      "\t Modularity: 0.18424129453245258\n",
      "Computing the minimum spanning tree...\n",
      "Done.\n",
      "CPU times: user 1min 20s, sys: 5.34 s, total: 1min 25s\n",
      "Wall time: 5min 35s\n"
     ]
    }
   ],
   "source": [
    "%%time\n",
    "type_data = curated_occurrence_data[[\"entity_type\"]].rename(columns={\"entity_type\": \"type\"})\n",
    "\n",
    "graphs, trees = generate_cooccurrence_analysis(\n",
    "    curated_occurrence_data,  factor_counts,\n",
    "    n_most_frequent=1500,\n",
    "    type_data=type_data, \n",
    "    factors=[\"paragraph\"],\n",
    "    keep=curation_app.get_terms_to_include(),\n",
    "    cores=8)  # here set up the number of cores  \n",
    "print(\"Done.\")"
   ]
  },
  {
   "cell_type": "markdown",
   "metadata": {},
   "source": [
    "## 4. Network visualization and analysis"
   ]
  },
  {
   "cell_type": "markdown",
   "metadata": {},
   "source": [
    "### Loading the generated graph into the visualization app"
   ]
  },
  {
   "cell_type": "code",
   "execution_count": 20,
   "metadata": {},
   "outputs": [],
   "source": [
    "visualization_app.set_graph(\n",
    "    \"Paragraph-based graph\", graphs[\"paragraph\"],\n",
    "    tree_object=trees[\"paragraph\"], default_top_n=100)\n",
    "\n",
    "visualization_app.set_current_graph(\"Paragraph-based graph\")"
   ]
  },
  {
   "cell_type": "markdown",
   "metadata": {},
   "source": [
    "### Loading papers' meta-data into the app\n",
    "\n",
    "We now load an additional dataset containing some meta-data on the papers where the entities analyzed in this notebook occur."
   ]
  },
  {
   "cell_type": "code",
   "execution_count": 21,
   "metadata": {
    "scrolled": true
   },
   "outputs": [
    {
     "data": {
      "text/html": [
       "<div>\n",
       "<style scoped>\n",
       "    .dataframe tbody tr th:only-of-type {\n",
       "        vertical-align: middle;\n",
       "    }\n",
       "\n",
       "    .dataframe tbody tr th {\n",
       "        vertical-align: top;\n",
       "    }\n",
       "\n",
       "    .dataframe thead th {\n",
       "        text-align: right;\n",
       "    }\n",
       "</style>\n",
       "<table border=\"1\" class=\"dataframe\">\n",
       "  <thead>\n",
       "    <tr style=\"text-align: right;\">\n",
       "      <th></th>\n",
       "      <th>title</th>\n",
       "      <th>authors</th>\n",
       "      <th>abstract</th>\n",
       "      <th>doi</th>\n",
       "      <th>url</th>\n",
       "      <th>journal</th>\n",
       "      <th>pmc_id</th>\n",
       "      <th>pubmed_id</th>\n",
       "      <th>publish_time</th>\n",
       "    </tr>\n",
       "    <tr>\n",
       "      <th>id</th>\n",
       "      <th></th>\n",
       "      <th></th>\n",
       "      <th></th>\n",
       "      <th></th>\n",
       "      <th></th>\n",
       "      <th></th>\n",
       "      <th></th>\n",
       "      <th></th>\n",
       "      <th></th>\n",
       "    </tr>\n",
       "  </thead>\n",
       "  <tbody>\n",
       "    <tr>\n",
       "      <th>3</th>\n",
       "      <td>Surfactant protein-D and pulmonary host defense</td>\n",
       "      <td>Crouch, Erika C</td>\n",
       "      <td>Surfactant protein-D (SP-D) participates in th...</td>\n",
       "      <td>10.1186/rr19</td>\n",
       "      <td>https://www.ncbi.nlm.nih.gov/pmc/articles/PMC5...</td>\n",
       "      <td>Respir Res</td>\n",
       "      <td>PMC59549</td>\n",
       "      <td>11667972.0</td>\n",
       "      <td>2000-08-25</td>\n",
       "    </tr>\n",
       "    <tr>\n",
       "      <th>56</th>\n",
       "      <td>CLINICAL VIGNETTES</td>\n",
       "      <td>NaN</td>\n",
       "      <td>NaN</td>\n",
       "      <td>10.1046/j.1525-1497.18.s1.20.x</td>\n",
       "      <td>https://www.ncbi.nlm.nih.gov/pmc/articles/PMC1...</td>\n",
       "      <td>J Gen Intern Med</td>\n",
       "      <td>PMC1494988</td>\n",
       "      <td>12753119.0</td>\n",
       "      <td>2003-04-01</td>\n",
       "    </tr>\n",
       "    <tr>\n",
       "      <th>58</th>\n",
       "      <td>Clinical Vignettes</td>\n",
       "      <td>NaN</td>\n",
       "      <td>NaN</td>\n",
       "      <td>10.1046/j.1525-1497.2001.0160s1023.x</td>\n",
       "      <td>https://www.ncbi.nlm.nih.gov/pmc/articles/PMC1...</td>\n",
       "      <td>J Gen Intern Med</td>\n",
       "      <td>PMC1495316</td>\n",
       "      <td>11357836.0</td>\n",
       "      <td>2001-04-01</td>\n",
       "    </tr>\n",
       "  </tbody>\n",
       "</table>\n",
       "</div>"
      ],
      "text/plain": [
       "                                              title          authors  \\\n",
       "id                                                                     \n",
       "3   Surfactant protein-D and pulmonary host defense  Crouch, Erika C   \n",
       "56                               CLINICAL VIGNETTES              NaN   \n",
       "58                               Clinical Vignettes              NaN   \n",
       "\n",
       "                                             abstract  \\\n",
       "id                                                      \n",
       "3   Surfactant protein-D (SP-D) participates in th...   \n",
       "56                                                NaN   \n",
       "58                                                NaN   \n",
       "\n",
       "                                     doi  \\\n",
       "id                                         \n",
       "3                           10.1186/rr19   \n",
       "56        10.1046/j.1525-1497.18.s1.20.x   \n",
       "58  10.1046/j.1525-1497.2001.0160s1023.x   \n",
       "\n",
       "                                                  url           journal  \\\n",
       "id                                                                        \n",
       "3   https://www.ncbi.nlm.nih.gov/pmc/articles/PMC5...        Respir Res   \n",
       "56  https://www.ncbi.nlm.nih.gov/pmc/articles/PMC1...  J Gen Intern Med   \n",
       "58  https://www.ncbi.nlm.nih.gov/pmc/articles/PMC1...  J Gen Intern Med   \n",
       "\n",
       "        pmc_id   pubmed_id publish_time  \n",
       "id                                       \n",
       "3     PMC59549  11667972.0   2000-08-25  \n",
       "56  PMC1494988  12753119.0   2003-04-01  \n",
       "58  PMC1495316  11357836.0   2001-04-01  "
      ]
     },
     "execution_count": 21,
     "metadata": {},
     "output_type": "execute_result"
    }
   ],
   "source": [
    "paper_data = pd.read_csv(\"../data/Glucose_risk_3000_paper_meta_data.csv\")\n",
    "paper_data = paper_data.set_index(\"id\")\n",
    "paper_data.head(3)"
   ]
  },
  {
   "cell_type": "markdown",
   "metadata": {},
   "source": [
    "We pass a callback for the lookup of paper meta-data to the visualization app using the `set_list_papers_callback` method."
   ]
  },
  {
   "cell_type": "code",
   "execution_count": 22,
   "metadata": {},
   "outputs": [],
   "source": [
    "def list_papers(paper_data, selected_papers, limit=200):\n",
    "    selected_paper_data = paper_data.loc[[int(p) for p in selected_papers]].head(200)\n",
    "    return selected_paper_data.to_dict(\"records\")\n",
    "\n",
    "visualization_app.set_list_papers_callback(lambda x: list_papers(paper_data, x))"
   ]
  },
  {
   "cell_type": "markdown",
   "metadata": {},
   "source": [
    "The ontology linking process described above is noisy, therefore, we would like to keep a possibility of accessing, the raw entities that were linked to particular ontology concepts. For this we define the function `get_aggregated_entities` that retreives such raw entities and we pass it to the visualization app using the `set_aggregated_entities_callback` method."
   ]
  },
  {
   "cell_type": "code",
   "execution_count": 23,
   "metadata": {},
   "outputs": [],
   "source": [
    "def top_n(data_dict, n, smallest=False):\n",
    "    \"\"\"Return top `n` keys of the input dictionary by their value.\"\"\"\n",
    "    df = pd.DataFrame(dict(data_dict).items(), columns=[\"id\", \"value\"])\n",
    "    if smallest:\n",
    "        df = df.nsmallest(n, columns=[\"value\"])\n",
    "    else:\n",
    "        df = df.nlargest(n, columns=[\"value\"])\n",
    "    return(list(df[\"id\"]))\n",
    "\n",
    "\n",
    "def get_aggregated_entities(entity, n):\n",
    "    if \"aggregated_entities\" in curated_occurrence_data.columns:\n",
    "        aggregated = curated_occurrence_data.loc[entity][\"aggregated_entities\"]\n",
    "    else:\n",
    "        aggregated = [entity]\n",
    "    if curation_input_table is not None:\n",
    "        df = curation_input_table.set_index(\"entity\")\n",
    "        if entity in curated_occurrence_data.index:\n",
    "            freqs = df.loc[aggregated][\"paper_frequency\"].to_dict()\n",
    "        else:\n",
    "            return {}\n",
    "    else:\n",
    "        df = data.copy()\n",
    "        df[\"entity\"] = data[\"entity\"].apply(lambda x: x.lower())\n",
    "        freqs = df[df[\"entity\"].apply(lambda x: x.lower() in aggregated)].groupby(\"entity\").aggregate(\n",
    "            lambda x: len(x))[\"entity_type\"].to_dict()\n",
    "    if len(freqs) == 0:\n",
    "        return {}\n",
    "    return {e: freqs[e] for e in top_n(freqs, n)}\n",
    "\n",
    "visualization_app.set_aggregated_entities_callback(\n",
    "    lambda x: get_aggregated_entities(x, 10))"
   ]
  },
  {
   "cell_type": "markdown",
   "metadata": {},
   "source": [
    "Finally, we create a dictionary `definitions` that will serve the visualization app as the lookup table for accessing the definitions of different ontology concepts."
   ]
  },
  {
   "cell_type": "code",
   "execution_count": 24,
   "metadata": {},
   "outputs": [],
   "source": [
    "definitions = ontology_linking[[\"concept\", \"definition\"]].groupby(\n",
    "    \"concept\").aggregate(lambda x: list(x)[0]).to_dict()[\"definition\"]\n",
    "visualization_app.set_entity_definitons(definitions)"
   ]
  },
  {
   "cell_type": "markdown",
   "metadata": {},
   "source": [
    "### Launching the visualization app"
   ]
  },
  {
   "cell_type": "markdown",
   "metadata": {},
   "source": [
    "As before, the interactive graph visualization app can be launched in two modes: inline and external. Here we recommend the external mode for better user experience."
   ]
  },
  {
   "cell_type": "code",
   "execution_count": 25,
   "metadata": {
    "scrolled": false
   },
   "outputs": [
    {
     "name": "stdout",
     "output_type": "stream",
     "text": [
      "Dash app running on http://127.0.0.1:8081/\n"
     ]
    }
   ],
   "source": [
    "visualization_app.run(port=8081, mode=\"external\")"
   ]
  }
 ],
 "metadata": {
  "kernelspec": {
   "display_name": "bbg",
   "language": "python",
   "name": "bbg"
  },
  "language_info": {
   "codemirror_mode": {
    "name": "ipython",
    "version": 3
   },
   "file_extension": ".py",
   "mimetype": "text/x-python",
   "name": "python",
   "nbconvert_exporter": "python",
   "pygments_lexer": "ipython3",
   "version": "3.8.6"
  }
 },
 "nbformat": 4,
 "nbformat_minor": 4
}
