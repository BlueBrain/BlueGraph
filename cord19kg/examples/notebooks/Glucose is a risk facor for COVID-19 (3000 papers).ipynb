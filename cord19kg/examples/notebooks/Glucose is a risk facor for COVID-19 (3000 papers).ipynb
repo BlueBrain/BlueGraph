{
 "cells": [
  {
   "cell_type": "markdown",
   "metadata": {},
   "source": [
    "If you want to run this notebook in Google Colab, run the following cell. Otherwise follow [installation instructions](https://github.com/BlueBrain/BlueGraph/blob/master/README.rst#installation) to install BlueGraph and its dependencies locally."
   ]
  },
  {
   "cell_type": "code",
   "execution_count": null,
   "metadata": {},
   "outputs": [],
   "source": [
    "# Install bluegraph\n",
    "! git clone https://github.com/BlueBrain/BlueGraph\n",
    "! cd BlueGraph && pip install .[cord19kg]\n",
    "\n",
    "# Install graph-tool\n",
    "!echo \"deb http://downloads.skewed.de/apt bionic main\" >> /etc/apt/sources.list\n",
    "!apt-key adv --keyserver keys.openpgp.org --recv-key 612DEFB798507F25\n",
    "!apt-get update\n",
    "!apt-get install python3-graph-tool python3-cairo python3-matplotlib\n",
    "\n",
    "DATA_PATH = \"BlueGraph/cord19kg/examples/data/\""
   ]
  },
  {
   "cell_type": "markdown",
   "metadata": {},
   "source": [
    "# Topic-centered co-occurrence network analysis of CORD-19\n",
    "\n",
    "In this notebook we will perform interactive exploration and analysis of a topic-centered subset of the [CORD-19](https://www.kaggle.com/allen-institute-for-ai/CORD-19-research-challenge) dataset using the `cord19kg` package. The exploration and analysis techniques presented here focus on named entities and their co-occurrence in the scientific articles constituting the dataset.\n",
    "\n",
    "The input data for this notebook contains the named entities extracted from the 3000 most relevant articles to the query _\"Glucose is a risk factor of COVID-19\"_ obtained using the article search model [BlueSearch](https://github.com/BlueBrain/Search). The entity extraction was performed using the Named Entity Recognition (NER) techniques also included in [BlueSearch](https://github.com/BlueBrain/Search). The entities represent 10 different types (i.e. proteins, chemicals, drugs, diseases, conditions, organs, organisms, pathways, cell types, cell compartments). \n",
    "\n",
    "The interactive literature exploration through the named entity co-occurrence analysis consisting of the following steps:\n",
    "\n",
    "1. __Data preparation__ step converts raw mentions into aggregated entity occurrence statistics.\n",
    "2. __Data curation__ step allows the user to manage extracted entities: modify, filter them and link to the ontology.\n",
    "3. __Network generation__ step allows creating entity co-occurrence networks based on paper-, section- and paragraph-level co-occurrence relations between entities. These entity relations are quantified using mutual-information-based scores (pointwise mutual information and its normalized version).\n",
    "4. __Network visualization and analysis__ step allows the user to perform interactive network visualization, edit network elements and perform its analysis (spanning tree, mutual-information based shortest paths between entities, etc)."
   ]
  },
  {
   "cell_type": "code",
   "execution_count": 1,
   "metadata": {},
   "outputs": [],
   "source": [
    "import json\n",
    "import os\n",
    "import zipfile\n",
    "\n",
    "import pandas as pd\n",
    "\n",
    "import dash_cytoscape as cyto\n",
    "\n",
    "from kgforge.core import KnowledgeGraphForge\n",
    "\n",
    "from cord19kg.utils import (generate_curation_table,\n",
    "                           link_ontology,\n",
    "                           generate_cooccurrence_analysis,\n",
    "                           download_from_nexus)\n",
    "from cord19kg.apps.curation_app import curation_app\n",
    "from cord19kg.apps.visualization_app import visualization_app"
   ]
  },
  {
   "cell_type": "code",
   "execution_count": 2,
   "metadata": {},
   "outputs": [
    {
     "name": "stdout",
     "output_type": "stream",
     "text": [
      "Data path: '../data/'\n"
     ]
    }
   ],
   "source": [
    "try:\n",
    "    print(f\"Data path: '{DATA_PATH}'\")\n",
    "except NameError:\n",
    "    DATA_PATH = \"../data/\"\n",
    "    print(f\"Data path: '{DATA_PATH}'\")"
   ]
  },
  {
   "cell_type": "code",
   "execution_count": 3,
   "metadata": {},
   "outputs": [],
   "source": [
    "cyto.load_extra_layouts()"
   ]
  },
  {
   "cell_type": "markdown",
   "metadata": {},
   "source": [
    "## 1. Data preparation\n",
    "\n",
    "The input dataset contains occurrences of different terms in paragraphs of scientific articles from the CORD-19 dataset previously extracted by means of a NER model.\n",
    "The dataset is stored in Blue Brain Nexus."
   ]
  },
  {
   "cell_type": "code",
   "execution_count": 4,
   "metadata": {},
   "outputs": [],
   "source": [
    "# Blue Brain Nexus bucket to download data from\n",
    "\n",
    "nexus_bucket = \"covid19-kg/data\"\n",
    "nexus_endpoint = \"https://bbp.epfl.ch/nexus/v1\"\n",
    "nexus_config_file = f\"{DATA_PATH}../config/data-download-nexus.yml\""
   ]
  },
  {
   "cell_type": "code",
   "execution_count": 5,
   "metadata": {},
   "outputs": [
    {
     "name": "stdout",
     "output_type": "stream",
     "text": [
      "Downloading the file to '../data/Glucose_risk_3000_papers.csv.zip'\n",
      "Decompressing ...\n",
      "Done.\n",
      "CPU times: user 4.04 s, sys: 413 ms, total: 4.45 s\n",
      "Wall time: 7.08 s\n"
     ]
    }
   ],
   "source": [
    "%%time\n",
    "download_from_nexus(\n",
    "    uri=f\"{nexus_endpoint}/resources/{nexus_bucket}/_/1e01e1a2-133f-4833-9fe0-93230384b95f\",\n",
    "    output_path=DATA_PATH, config_file_path=nexus_config_file,\n",
    "    nexus_endpoint=nexus_endpoint, nexus_bucket=nexus_bucket, unzip=True)\n",
    "\n",
    "data = pd.read_csv(f\"{DATA_PATH}/Glucose_risk_3000_papers.csv\")\n",
    "print(\"Done.\")"
   ]
  },
  {
   "cell_type": "code",
   "execution_count": 6,
   "metadata": {},
   "outputs": [
    {
     "data": {
      "text/html": [
       "<div>\n",
       "<style scoped>\n",
       "    .dataframe tbody tr th:only-of-type {\n",
       "        vertical-align: middle;\n",
       "    }\n",
       "\n",
       "    .dataframe tbody tr th {\n",
       "        vertical-align: top;\n",
       "    }\n",
       "\n",
       "    .dataframe thead th {\n",
       "        text-align: right;\n",
       "    }\n",
       "</style>\n",
       "<table border=\"1\" class=\"dataframe\">\n",
       "  <thead>\n",
       "    <tr style=\"text-align: right;\">\n",
       "      <th></th>\n",
       "      <th>entity</th>\n",
       "      <th>entity_type</th>\n",
       "      <th>occurrence</th>\n",
       "    </tr>\n",
       "  </thead>\n",
       "  <tbody>\n",
       "    <tr>\n",
       "      <th>876465</th>\n",
       "      <td>allergic</td>\n",
       "      <td>DISEASE</td>\n",
       "      <td>13187:878:1157</td>\n",
       "    </tr>\n",
       "    <tr>\n",
       "      <th>2338378</th>\n",
       "      <td>COVID-19</td>\n",
       "      <td>DISEASE</td>\n",
       "      <td>164361:6. Chronic Low-Grade Subclinical System...</td>\n",
       "    </tr>\n",
       "    <tr>\n",
       "      <th>1758577</th>\n",
       "      <td>SARA ataxia</td>\n",
       "      <td>DISEASE</td>\n",
       "      <td>21644:Risk Factors And Prognosis In Isolated I...</td>\n",
       "    </tr>\n",
       "    <tr>\n",
       "      <th>1656925</th>\n",
       "      <td>CsA</td>\n",
       "      <td>DRUG</td>\n",
       "      <td>21415:Abstracts:65</td>\n",
       "    </tr>\n",
       "    <tr>\n",
       "      <th>1692416</th>\n",
       "      <td>fluoroquinolone</td>\n",
       "      <td>CHEMICAL</td>\n",
       "      <td>21542:P835 Adequacy And Efficacy Of Initial Em...</td>\n",
       "    </tr>\n",
       "  </tbody>\n",
       "</table>\n",
       "</div>"
      ],
      "text/plain": [
       "                  entity entity_type  \\\n",
       "876465          allergic     DISEASE   \n",
       "2338378         COVID-19     DISEASE   \n",
       "1758577      SARA ataxia     DISEASE   \n",
       "1656925              CsA        DRUG   \n",
       "1692416  fluoroquinolone    CHEMICAL   \n",
       "\n",
       "                                                occurrence  \n",
       "876465                                      13187:878:1157  \n",
       "2338378  164361:6. Chronic Low-Grade Subclinical System...  \n",
       "1758577  21644:Risk Factors And Prognosis In Isolated I...  \n",
       "1656925                                 21415:Abstracts:65  \n",
       "1692416  21542:P835 Adequacy And Efficacy Of Initial Em...  "
      ]
     },
     "execution_count": 6,
     "metadata": {},
     "output_type": "execute_result"
    }
   ],
   "source": [
    "data.sample(5)"
   ]
  },
  {
   "cell_type": "markdown",
   "metadata": {},
   "source": [
    "On the first preparation step, we group and aggregate the input data by unique entities."
   ]
  },
  {
   "cell_type": "code",
   "execution_count": 7,
   "metadata": {},
   "outputs": [
    {
     "name": "stdout",
     "output_type": "stream",
     "text": [
      "Prepating curatation data...\n",
      "Cleaning up the entities...\n",
      "Aggregating occurrences of entities....\n",
      "Done.\n",
      "CPU times: user 27.8 s, sys: 978 ms, total: 28.8 s\n",
      "Wall time: 29 s\n"
     ]
    }
   ],
   "source": [
    "%%time\n",
    "print(\"Prepating curatation data...\")\n",
    "curation_input_table, factor_counts = generate_curation_table(data)\n",
    "print(\"Done.\")"
   ]
  },
  {
   "cell_type": "markdown",
   "metadata": {},
   "source": [
    "The resulting dataframe contains a row per unique named entity together with the following occurrence data: \n",
    "- sets of unique paragraphs, papers, sections, where the corresponding entity is mentioned (`paper`, `section`, `paragraph` columns);\n",
    "- number of total entity occurrences (the `raw_frequency` column);\n",
    "- number of unique papers where it occurs (the `paper_frequency` column);\n",
    "- unique entity types assigned by the NER model (the `entity_type` column, multiple types are possible).\n",
    "- raw entity types assigned by the NER model with the multiplicity of thier occurrence (the `raw_entity_types` column).\n"
   ]
  },
  {
   "cell_type": "code",
   "execution_count": 8,
   "metadata": {},
   "outputs": [
    {
     "data": {
      "text/html": [
       "<div>\n",
       "<style scoped>\n",
       "    .dataframe tbody tr th:only-of-type {\n",
       "        vertical-align: middle;\n",
       "    }\n",
       "\n",
       "    .dataframe tbody tr th {\n",
       "        vertical-align: top;\n",
       "    }\n",
       "\n",
       "    .dataframe thead th {\n",
       "        text-align: right;\n",
       "    }\n",
       "</style>\n",
       "<table border=\"1\" class=\"dataframe\">\n",
       "  <thead>\n",
       "    <tr style=\"text-align: right;\">\n",
       "      <th></th>\n",
       "      <th>entity</th>\n",
       "      <th>entity_type</th>\n",
       "      <th>paragraph</th>\n",
       "      <th>paper</th>\n",
       "      <th>section</th>\n",
       "      <th>paper_frequency</th>\n",
       "      <th>raw_entity_types</th>\n",
       "      <th>raw_frequency</th>\n",
       "    </tr>\n",
       "  </thead>\n",
       "  <tbody>\n",
       "    <tr>\n",
       "      <th>67923</th>\n",
       "      <td>pprs</td>\n",
       "      <td>PROTEIN</td>\n",
       "      <td>[21939:Evaluation Of Host Immune System Evasio...</td>\n",
       "      <td>[186907, 206417, 21939]</td>\n",
       "      <td>[21939:Evaluation Of Host Immune System Evasio...</td>\n",
       "      <td>3</td>\n",
       "      <td>[PROTEIN, PROTEIN, PROTEIN]</td>\n",
       "      <td>3</td>\n",
       "    </tr>\n",
       "    <tr>\n",
       "      <th>14943</th>\n",
       "      <td>cd14 polymorphisms</td>\n",
       "      <td>PROTEIN</td>\n",
       "      <td>[14524:33:190, 16006:Myocardial Infarction :::...</td>\n",
       "      <td>[14524, 16006]</td>\n",
       "      <td>[14524:33, 16006:Myocardial Infarction ]</td>\n",
       "      <td>2</td>\n",
       "      <td>[PROTEIN, PROTEIN]</td>\n",
       "      <td>2</td>\n",
       "    </tr>\n",
       "    <tr>\n",
       "      <th>18261</th>\n",
       "      <td>cia</td>\n",
       "      <td>DISEASE</td>\n",
       "      <td>[6116:Center Of Biomedical Technology, Danube ...</td>\n",
       "      <td>[6148, 14524, 21542, 6116, 6209, 16006, 13187,...</td>\n",
       "      <td>[8327:Or-05. Synovial Intracellular Citrullina...</td>\n",
       "      <td>12</td>\n",
       "      <td>[DISEASE, DISEASE, DISEASE, DISEASE, DISEASE, ...</td>\n",
       "      <td>87</td>\n",
       "    </tr>\n",
       "    <tr>\n",
       "      <th>58959</th>\n",
       "      <td>nonconvulsive status epilepticus</td>\n",
       "      <td>DISEASE</td>\n",
       "      <td>[7093:Introduction:1136, 13098:Results ::: Neu...</td>\n",
       "      <td>[7093, 13098]</td>\n",
       "      <td>[13098:Results , 7093:Introduction]</td>\n",
       "      <td>2</td>\n",
       "      <td>[DISEASE, DISEASE]</td>\n",
       "      <td>2</td>\n",
       "    </tr>\n",
       "    <tr>\n",
       "      <th>44483</th>\n",
       "      <td>intestinal mucosa</td>\n",
       "      <td>ORGAN</td>\n",
       "      <td>[13320:Caption:797, 13218:Effect:806, 6116:Edu...</td>\n",
       "      <td>[16648, 21842, 7121, 17184, 21927, 225920, 218...</td>\n",
       "      <td>[7121:Pathogenic Role Of Il-15 In Intestinal I...</td>\n",
       "      <td>51</td>\n",
       "      <td>[ORGAN, ORGAN, ORGAN, ORGAN, ORGAN, ORGAN, ORG...</td>\n",
       "      <td>83</td>\n",
       "    </tr>\n",
       "  </tbody>\n",
       "</table>\n",
       "</div>"
      ],
      "text/plain": [
       "                                 entity entity_type  \\\n",
       "67923                              pprs     PROTEIN   \n",
       "14943                cd14 polymorphisms     PROTEIN   \n",
       "18261                               cia     DISEASE   \n",
       "58959  nonconvulsive status epilepticus     DISEASE   \n",
       "44483                 intestinal mucosa       ORGAN   \n",
       "\n",
       "                                               paragraph  \\\n",
       "67923  [21939:Evaluation Of Host Immune System Evasio...   \n",
       "14943  [14524:33:190, 16006:Myocardial Infarction :::...   \n",
       "18261  [6116:Center Of Biomedical Technology, Danube ...   \n",
       "58959  [7093:Introduction:1136, 13098:Results ::: Neu...   \n",
       "44483  [13320:Caption:797, 13218:Effect:806, 6116:Edu...   \n",
       "\n",
       "                                                   paper  \\\n",
       "67923                            [186907, 206417, 21939]   \n",
       "14943                                     [14524, 16006]   \n",
       "18261  [6148, 14524, 21542, 6116, 6209, 16006, 13187,...   \n",
       "58959                                      [7093, 13098]   \n",
       "44483  [16648, 21842, 7121, 17184, 21927, 225920, 218...   \n",
       "\n",
       "                                                 section  paper_frequency  \\\n",
       "67923  [21939:Evaluation Of Host Immune System Evasio...                3   \n",
       "14943           [14524:33, 16006:Myocardial Infarction ]                2   \n",
       "18261  [8327:Or-05. Synovial Intracellular Citrullina...               12   \n",
       "58959                [13098:Results , 7093:Introduction]                2   \n",
       "44483  [7121:Pathogenic Role Of Il-15 In Intestinal I...               51   \n",
       "\n",
       "                                        raw_entity_types  raw_frequency  \n",
       "67923                        [PROTEIN, PROTEIN, PROTEIN]              3  \n",
       "14943                                 [PROTEIN, PROTEIN]              2  \n",
       "18261  [DISEASE, DISEASE, DISEASE, DISEASE, DISEASE, ...             87  \n",
       "58959                                 [DISEASE, DISEASE]              2  \n",
       "44483  [ORGAN, ORGAN, ORGAN, ORGAN, ORGAN, ORGAN, ORG...             83  "
      ]
     },
     "execution_count": 8,
     "metadata": {},
     "output_type": "execute_result"
    }
   ],
   "source": [
    "curation_input_table.sample(5)"
   ]
  },
  {
   "cell_type": "markdown",
   "metadata": {},
   "source": [
    "The second output of the data preparation step outputs the counts of different instances of occurrence factors: number of distinct papers/sections/paragraphs in the input corpus."
   ]
  },
  {
   "cell_type": "code",
   "execution_count": 10,
   "metadata": {},
   "outputs": [
    {
     "data": {
      "text/plain": [
       "{'paper': 3000, 'section': 53947, 'paragraph': 211380}"
      ]
     },
     "execution_count": 10,
     "metadata": {},
     "output_type": "execute_result"
    }
   ],
   "source": [
    "factor_counts"
   ]
  },
  {
   "cell_type": "markdown",
   "metadata": {},
   "source": [
    "## 2. Data curation"
   ]
  },
  {
   "cell_type": "markdown",
   "metadata": {},
   "source": [
    "### Loading the NCIT ontology linking data"
   ]
  },
  {
   "cell_type": "markdown",
   "metadata": {},
   "source": [
    "To group synonymical entities in the previously extracted table (e.g. `ace2`, `ace-2`, `angiotensin-converting enzyme 2`), as well as assign additional semantics to these entities (e.g. human-readable definition, taxonomy, etc), we peform further _linking_ of the entities to the terms from the [NCIT ontology](https://ncithesaurus.nci.nih.gov/ncitbrowser/).\n",
    "\n",
    "To be able to perform such ontology linking, we load some additional (pre-computed using ML-based linking models) data."
   ]
  },
  {
   "cell_type": "code",
   "execution_count": 11,
   "metadata": {},
   "outputs": [
    {
     "name": "stdout",
     "output_type": "stream",
     "text": [
      "Loading the ontology linking data...\n",
      "Downloading the file to '../data/NCIT_ontology_linking_3000_papers.csv.zip'\n",
      "Decompressing ...\n",
      "\tLoading the linking dataframe in memory...\n",
      "\tLoading ontology type mapping...\n",
      "Downloading the file to '../data/NCIT_type_mapping.json'\n",
      "Done.\n",
      "CPU times: user 2.06 s, sys: 294 ms, total: 2.35 s\n",
      "Wall time: 6.6 s\n"
     ]
    }
   ],
   "source": [
    "%%time\n",
    "print(\"Loading the ontology linking data...\")\n",
    "\n",
    "download_from_nexus(\n",
    "    uri=f\"{nexus_endpoint}/resources/{nexus_bucket}/_/4fde1f8f-ee7f-435e-95a8-abb79139db93\",\n",
    "    output_path=DATA_PATH, config_file_path=nexus_config_file,\n",
    "    nexus_endpoint=nexus_endpoint, nexus_bucket=nexus_bucket, unzip=True)\n",
    "print(\"\\tLoading the linking dataframe in memory...\")\n",
    "ontology_linking = pd.read_csv(f\"{DATA_PATH}/NCIT_ontology_linking_3000_papers.csv\")\n",
    "\n",
    "\n",
    "print(\"\\tLoading ontology type mapping...\")\n",
    "ontology_linking_type_mapping_data = download_from_nexus(\n",
    "    uri=f\"{nexus_endpoint}/resources/{nexus_bucket}/_/92bc2a04-6003-4f4d-85e1-dcc5f2352df2\", \n",
    "    output_path=DATA_PATH, config_file_path=nexus_config_file,\n",
    "    nexus_endpoint=nexus_endpoint, nexus_bucket=nexus_bucket)\n",
    "with open(f\"{DATA_PATH}/{ontology_linking_type_mapping_data.distribution.name}\", \"rb\") as f:\n",
    "    type_mapping = json.load(f)\n",
    "print(\"Done.\")"
   ]
  },
  {
   "cell_type": "markdown",
   "metadata": {},
   "source": [
    "The ontology linking table contains the following columns:\n",
    "- `mention` entity mentioned in the text\n",
    "- `concept` ontology concept linked to the entity mention\n",
    "- `uid` unique identifier of the ontology concept\n",
    "- `definition` definition of the concept\n",
    "- `taxonomy` taxonomy of semantic types associated with the concept"
   ]
  },
  {
   "cell_type": "code",
   "execution_count": 12,
   "metadata": {
    "scrolled": true
   },
   "outputs": [
    {
     "data": {
      "text/html": [
       "<div>\n",
       "<style scoped>\n",
       "    .dataframe tbody tr th:only-of-type {\n",
       "        vertical-align: middle;\n",
       "    }\n",
       "\n",
       "    .dataframe tbody tr th {\n",
       "        vertical-align: top;\n",
       "    }\n",
       "\n",
       "    .dataframe thead th {\n",
       "        text-align: right;\n",
       "    }\n",
       "</style>\n",
       "<table border=\"1\" class=\"dataframe\">\n",
       "  <thead>\n",
       "    <tr style=\"text-align: right;\">\n",
       "      <th></th>\n",
       "      <th>mention</th>\n",
       "      <th>concept</th>\n",
       "      <th>uid</th>\n",
       "      <th>definition</th>\n",
       "      <th>taxonomy</th>\n",
       "    </tr>\n",
       "  </thead>\n",
       "  <tbody>\n",
       "    <tr>\n",
       "      <th>47427</th>\n",
       "      <td>bronchial epithelium metaplasia</td>\n",
       "      <td>bronchial epithelium</td>\n",
       "      <td>http://purl.obolibrary.org/obo/NCIT_C32231</td>\n",
       "      <td>The epithelium of the bronchus of the lung, wh...</td>\n",
       "      <td>[('http://purl.obolibrary.org/obo/NCIT_C13181'...</td>\n",
       "    </tr>\n",
       "    <tr>\n",
       "      <th>92753</th>\n",
       "      <td>matrix metalloproteinases (mmp) 1 and 3</td>\n",
       "      <td>matrix metalloproteinase</td>\n",
       "      <td>http://purl.obolibrary.org/obo/NCIT_C18164</td>\n",
       "      <td>Matrix metalloproteinases are Zn(2+)-binding e...</td>\n",
       "      <td>[('http://purl.obolibrary.org/obo/NCIT_C16843'...</td>\n",
       "    </tr>\n",
       "    <tr>\n",
       "      <th>124737</th>\n",
       "      <td>supercomplex i+iii</td>\n",
       "      <td>nadh dehydrogenase (ubiquinone)</td>\n",
       "      <td>http://purl.obolibrary.org/obo/NCIT_C118184</td>\n",
       "      <td>A complex of over 40 proteins found in the inn...</td>\n",
       "      <td>[('http://purl.obolibrary.org/obo/NCIT_C21176'...</td>\n",
       "    </tr>\n",
       "    <tr>\n",
       "      <th>96732</th>\n",
       "      <td>ox-r</td>\n",
       "      <td>r-gemox regimen</td>\n",
       "      <td>http://purl.obolibrary.org/obo/NCIT_C140731</td>\n",
       "      <td>A regimen consisting of rituximab, gemcitabine...</td>\n",
       "      <td>[('http://purl.obolibrary.org/obo/NCIT_C63442'...</td>\n",
       "    </tr>\n",
       "    <tr>\n",
       "      <th>44527</th>\n",
       "      <td>geometric distortion</td>\n",
       "      <td>geometric distribution</td>\n",
       "      <td>http://purl.obolibrary.org/obo/NCIT_C53211</td>\n",
       "      <td>A discrete, statistical distribution which is ...</td>\n",
       "      <td>[('http://purl.obolibrary.org/obo/NCIT_C53207'...</td>\n",
       "    </tr>\n",
       "  </tbody>\n",
       "</table>\n",
       "</div>"
      ],
      "text/plain": [
       "                                        mention  \\\n",
       "47427           bronchial epithelium metaplasia   \n",
       "92753   matrix metalloproteinases (mmp) 1 and 3   \n",
       "124737                       supercomplex i+iii   \n",
       "96732                                      ox-r   \n",
       "44527                      geometric distortion   \n",
       "\n",
       "                                concept  \\\n",
       "47427              bronchial epithelium   \n",
       "92753          matrix metalloproteinase   \n",
       "124737  nadh dehydrogenase (ubiquinone)   \n",
       "96732                   r-gemox regimen   \n",
       "44527            geometric distribution   \n",
       "\n",
       "                                                uid  \\\n",
       "47427    http://purl.obolibrary.org/obo/NCIT_C32231   \n",
       "92753    http://purl.obolibrary.org/obo/NCIT_C18164   \n",
       "124737  http://purl.obolibrary.org/obo/NCIT_C118184   \n",
       "96732   http://purl.obolibrary.org/obo/NCIT_C140731   \n",
       "44527    http://purl.obolibrary.org/obo/NCIT_C53211   \n",
       "\n",
       "                                               definition  \\\n",
       "47427   The epithelium of the bronchus of the lung, wh...   \n",
       "92753   Matrix metalloproteinases are Zn(2+)-binding e...   \n",
       "124737  A complex of over 40 proteins found in the inn...   \n",
       "96732   A regimen consisting of rituximab, gemcitabine...   \n",
       "44527   A discrete, statistical distribution which is ...   \n",
       "\n",
       "                                                 taxonomy  \n",
       "47427   [('http://purl.obolibrary.org/obo/NCIT_C13181'...  \n",
       "92753   [('http://purl.obolibrary.org/obo/NCIT_C16843'...  \n",
       "124737  [('http://purl.obolibrary.org/obo/NCIT_C21176'...  \n",
       "96732   [('http://purl.obolibrary.org/obo/NCIT_C63442'...  \n",
       "44527   [('http://purl.obolibrary.org/obo/NCIT_C53207'...  "
      ]
     },
     "execution_count": 12,
     "metadata": {},
     "output_type": "execute_result"
    }
   ],
   "source": [
    "ontology_linking.sample(5)"
   ]
  },
  {
   "cell_type": "markdown",
   "metadata": {},
   "source": [
    "### Interactive curation of  entity occurrence data\n",
    "\n",
    "The package provides an interactive entity curation app that allows the user to visualize the entity occurrence data, modify it, perform ontology linking (see `Link to NCIT ontology` button), filter short or unfrequent entities.\n",
    "\n",
    "The field `Keep` allows specifying a set of entities that must be kept in the dataset at all times (even if they don't satisfy the selected filtering criteria).\n",
    "\n",
    "Finally the value specified in the `Generate Graphs from top N frequent entities` field corresponds to the number of top entities (by the frequency of their occurrence in papers) to be included in the co-occurrence network."
   ]
  },
  {
   "cell_type": "markdown",
   "metadata": {},
   "source": [
    "We load the prepared data table into the curation app as follows:"
   ]
  },
  {
   "cell_type": "code",
   "execution_count": 13,
   "metadata": {},
   "outputs": [],
   "source": [
    "curation_app.set_table(curation_input_table.copy())"
   ]
  },
  {
   "cell_type": "markdown",
   "metadata": {},
   "source": [
    "We can specify the default entities to keep."
   ]
  },
  {
   "cell_type": "code",
   "execution_count": 14,
   "metadata": {},
   "outputs": [],
   "source": [
    "default_entities_to_keep = [\"glucose\", \"covid-19\"]\n",
    "curation_app.set_default_terms_to_include(default_entities_to_keep)"
   ]
  },
  {
   "cell_type": "markdown",
   "metadata": {},
   "source": [
    "Finally, we set the ontology linking callback to be fired upon a click on the `Link to NCIT ontology` button."
   ]
  },
  {
   "cell_type": "code",
   "execution_count": 15,
   "metadata": {},
   "outputs": [],
   "source": [
    "curation_app.set_ontology_linking_callback(lambda x: link_ontology(ontology_linking, type_mapping, x))"
   ]
  },
  {
   "cell_type": "markdown",
   "metadata": {},
   "source": [
    "### Launch the curation app"
   ]
  },
  {
   "cell_type": "markdown",
   "metadata": {},
   "source": [
    "The application can be launched either inline (inside the current notebook) as below. Note that if you run this notebook in Colab, you may want to set a lower number of entities to include, in order to avoid long generation time ('Generate Graphs from top N frequent entities' field). Current default value is 200."
   ]
  },
  {
   "cell_type": "code",
   "execution_count": 16,
   "metadata": {},
   "outputs": [
    {
     "data": {
      "text/html": [
       "\n",
       "        <iframe\n",
       "            width=\"100%\"\n",
       "            height=\"650\"\n",
       "            src=\"http://127.0.0.1:8074/\"\n",
       "            frameborder=\"0\"\n",
       "            allowfullscreen\n",
       "        ></iframe>\n",
       "        "
      ],
      "text/plain": [
       "<IPython.lib.display.IFrame at 0x7fdcbb48e050>"
      ]
     },
     "metadata": {},
     "output_type": "display_data"
    }
   ],
   "source": [
    "curation_app.run(port=8074, mode=\"inline\")"
   ]
  },
  {
   "cell_type": "markdown",
   "metadata": {},
   "source": [
    "Or it can be opened externally (by the URL that you can open in a separate tab of your browser, try uncommenting, executing and doing Ctrl+Click on the displayed URL)."
   ]
  },
  {
   "cell_type": "code",
   "execution_count": 17,
   "metadata": {},
   "outputs": [
    {
     "name": "stdout",
     "output_type": "stream",
     "text": [
      "Merging the occurrence data with the ontology linking...\n"
     ]
    }
   ],
   "source": [
    "# curation_app.run(port=8070, mode=\"external\")"
   ]
  },
  {
   "cell_type": "markdown",
   "metadata": {},
   "source": [
    "## 3. Co-occurrence network generation"
   ]
  },
  {
   "cell_type": "markdown",
   "metadata": {},
   "source": [
    "Current curation table displayed in the curation app can be extracted using the `get_curated_table` method."
   ]
  },
  {
   "cell_type": "code",
   "execution_count": 18,
   "metadata": {},
   "outputs": [
    {
     "data": {
      "text/html": [
       "<div>\n",
       "<style scoped>\n",
       "    .dataframe tbody tr th:only-of-type {\n",
       "        vertical-align: middle;\n",
       "    }\n",
       "\n",
       "    .dataframe tbody tr th {\n",
       "        vertical-align: top;\n",
       "    }\n",
       "\n",
       "    .dataframe thead th {\n",
       "        text-align: right;\n",
       "    }\n",
       "</style>\n",
       "<table border=\"1\" class=\"dataframe\">\n",
       "  <thead>\n",
       "    <tr style=\"text-align: right;\">\n",
       "      <th></th>\n",
       "      <th>paper</th>\n",
       "      <th>section</th>\n",
       "      <th>paragraph</th>\n",
       "      <th>aggregated_entities</th>\n",
       "      <th>uid</th>\n",
       "      <th>definition</th>\n",
       "      <th>paper_frequency</th>\n",
       "      <th>entity_type</th>\n",
       "    </tr>\n",
       "    <tr>\n",
       "      <th>entity</th>\n",
       "      <th></th>\n",
       "      <th></th>\n",
       "      <th></th>\n",
       "      <th></th>\n",
       "      <th></th>\n",
       "      <th></th>\n",
       "      <th></th>\n",
       "      <th></th>\n",
       "    </tr>\n",
       "  </thead>\n",
       "  <tbody>\n",
       "    <tr>\n",
       "      <th>silicon dioxide</th>\n",
       "      <td>{21944, 185530, 191297, 21652, 21927, 207682, ...</td>\n",
       "      <td>{7094:Caption, 7045:A-250 16, 21673:P26.36, 51...</td>\n",
       "      <td>{5167:A. Jaworski And H. Brückner:12, 7094:Cap...</td>\n",
       "      <td>[silica]</td>\n",
       "      <td>http://purl.obolibrary.org/obo/NCIT_C29853</td>\n",
       "      <td>A natural compound of silicon and oxygen found...</td>\n",
       "      <td>30</td>\n",
       "      <td>CHEMICAL</td>\n",
       "    </tr>\n",
       "    <tr>\n",
       "      <th>coronary artery</th>\n",
       "      <td>{13852, 54259, 3071, 161523, 86688, 218781, 21...</td>\n",
       "      <td>{194234:Caption, 1030:B-500 11, 56:Case Inform...</td>\n",
       "      <td>{14045:0401:525, 193515::2, 28474:Conclusions:...</td>\n",
       "      <td>[coronary arterial, coronary arteries, coronar...</td>\n",
       "      <td>http://purl.obolibrary.org/obo/NCIT_C12843</td>\n",
       "      <td>A principal artery that originates in the aort...</td>\n",
       "      <td>380</td>\n",
       "      <td>ORGAN</td>\n",
       "    </tr>\n",
       "    <tr>\n",
       "      <th>sxt</th>\n",
       "      <td>{14321, 21573, 8225, 21542, 18225, 21939, 9769...</td>\n",
       "      <td>{18225:P1068 Antimicrobial Susceptibility Patt...</td>\n",
       "      <td>{18225:P1687 Current Profile Of Respiratory Tr...</td>\n",
       "      <td>[sxt]</td>\n",
       "      <td>NaN</td>\n",
       "      <td>NaN</td>\n",
       "      <td>9</td>\n",
       "      <td>CHEMICAL</td>\n",
       "    </tr>\n",
       "  </tbody>\n",
       "</table>\n",
       "</div>"
      ],
      "text/plain": [
       "                                                             paper  \\\n",
       "entity                                                               \n",
       "silicon dioxide  {21944, 185530, 191297, 21652, 21927, 207682, ...   \n",
       "coronary artery  {13852, 54259, 3071, 161523, 86688, 218781, 21...   \n",
       "sxt              {14321, 21573, 8225, 21542, 18225, 21939, 9769...   \n",
       "\n",
       "                                                           section  \\\n",
       "entity                                                               \n",
       "silicon dioxide  {7094:Caption, 7045:A-250 16, 21673:P26.36, 51...   \n",
       "coronary artery  {194234:Caption, 1030:B-500 11, 56:Case Inform...   \n",
       "sxt              {18225:P1068 Antimicrobial Susceptibility Patt...   \n",
       "\n",
       "                                                         paragraph  \\\n",
       "entity                                                               \n",
       "silicon dioxide  {5167:A. Jaworski And H. Brückner:12, 7094:Cap...   \n",
       "coronary artery  {14045:0401:525, 193515::2, 28474:Conclusions:...   \n",
       "sxt              {18225:P1687 Current Profile Of Respiratory Tr...   \n",
       "\n",
       "                                               aggregated_entities  \\\n",
       "entity                                                               \n",
       "silicon dioxide                                           [silica]   \n",
       "coronary artery  [coronary arterial, coronary arteries, coronar...   \n",
       "sxt                                                          [sxt]   \n",
       "\n",
       "                                                        uid  \\\n",
       "entity                                                        \n",
       "silicon dioxide  http://purl.obolibrary.org/obo/NCIT_C29853   \n",
       "coronary artery  http://purl.obolibrary.org/obo/NCIT_C12843   \n",
       "sxt                                                     NaN   \n",
       "\n",
       "                                                        definition  \\\n",
       "entity                                                               \n",
       "silicon dioxide  A natural compound of silicon and oxygen found...   \n",
       "coronary artery  A principal artery that originates in the aort...   \n",
       "sxt                                                            NaN   \n",
       "\n",
       "                 paper_frequency entity_type  \n",
       "entity                                        \n",
       "silicon dioxide               30    CHEMICAL  \n",
       "coronary artery              380       ORGAN  \n",
       "sxt                            9    CHEMICAL  "
      ]
     },
     "execution_count": 18,
     "metadata": {},
     "output_type": "execute_result"
    }
   ],
   "source": [
    "curated_occurrence_data = curation_app.get_curated_table()\n",
    "curated_occurrence_data.sample(3)"
   ]
  },
  {
   "cell_type": "markdown",
   "metadata": {},
   "source": [
    "Before we can proceed we need to convert paper/section and paragraph columns into `set`."
   ]
  },
  {
   "cell_type": "code",
   "execution_count": 19,
   "metadata": {},
   "outputs": [],
   "source": [
    "curated_occurrence_data[\"paper\"] = curated_occurrence_data[\"paper\"].apply(set)\n",
    "curated_occurrence_data[\"paragraph\"] = curated_occurrence_data[\"paragraph\"].apply(set)\n",
    "curated_occurrence_data[\"section\"] = curated_occurrence_data[\"section\"].apply(set)"
   ]
  },
  {
   "cell_type": "markdown",
   "metadata": {},
   "source": [
    "We can also retreive current values of the `Keep` field (these entities will be also included in the resulting co-occurrence network)."
   ]
  },
  {
   "cell_type": "code",
   "execution_count": 20,
   "metadata": {},
   "outputs": [
    {
     "data": {
      "text/plain": [
       "['glucose', 'covid-19']"
      ]
     },
     "execution_count": 20,
     "metadata": {},
     "output_type": "execute_result"
    }
   ],
   "source": [
    "curation_app.get_terms_to_include()"
   ]
  },
  {
   "cell_type": "markdown",
   "metadata": {},
   "source": [
    "### Generating co-occurrence networks\n",
    "\n",
    "In the cell below we generate a paper-based entity co-occurrence network. Along with the network generation the `generate_comention_analysis` function:\n",
    "\n",
    "- computes node centrality metrics (such as degree, RageRank)\n",
    "- computes co-occurrence statistics (such as frequency, pointwise mutual information and normalized pointwise mutual information) and assignes them as weights to the corresponding edges\n",
    "- performs entity community detection based on different co-occurrence statistics\n",
    "- computes mutual-information-based minimum spanning trees."
   ]
  },
  {
   "cell_type": "markdown",
   "metadata": {},
   "source": [
    "Before we run the co-occurrence analysis, we will create a dictionary with backend configurations for the analytics: we set metrics (centalities) computation to use `graph_tool`, community detection to use `networkx` and, finally, path search to use `graph_tool` as well."
   ]
  },
  {
   "cell_type": "code",
   "execution_count": 21,
   "metadata": {},
   "outputs": [],
   "source": [
    "import time"
   ]
  },
  {
   "cell_type": "code",
   "execution_count": 22,
   "metadata": {},
   "outputs": [],
   "source": [
    "backend_configs = {\n",
    "    \"metrics\": \"graph_tool\",\n",
    "    \"communities\": \"networkx\",\n",
    "    \"paths\": \"graph_tool\"\n",
    "}"
   ]
  },
  {
   "cell_type": "code",
   "execution_count": 23,
   "metadata": {
    "scrolled": true
   },
   "outputs": [
    {
     "name": "stdout",
     "output_type": "stream",
     "text": [
      "-------------------------------\n",
      "Factor: paragraph\n",
      "-------------------------------\n",
      "Done.\n",
      "CPU times: user 2.22 s, sys: 566 ms, total: 2.78 s\n",
      "Wall time: 8.46 s\n"
     ]
    }
   ],
   "source": [
    "%%time\n",
    "type_data = curated_occurrence_data[[\"entity_type\"]].rename(columns={\"entity_type\": \"type\"})\n",
    "\n",
    "graphs, trees = generate_cooccurrence_analysis(\n",
    "    curated_occurrence_data,  factor_counts,\n",
    "    n_most_frequent=curation_app.n_most_frequent,\n",
    "    type_data=type_data, \n",
    "    factors=[\"paragraph\"],\n",
    "    keep=curation_app.get_terms_to_include(),\n",
    "    cores=8,  # here set up the number of cores\n",
    "    backend_configs=backend_configs)\n",
    "print(\"Done.\")"
   ]
  },
  {
   "cell_type": "markdown",
   "metadata": {},
   "source": [
    "## 4. Network visualization and analysis"
   ]
  },
  {
   "cell_type": "markdown",
   "metadata": {},
   "source": [
    "### Loading the generated graph into the visualization app"
   ]
  },
  {
   "cell_type": "markdown",
   "metadata": {},
   "source": [
    "First of all, we set a backend for the visualization app (currently two backends are supported: based on `NetworkX` and `graph-tool`, in this example we use the latter)."
   ]
  },
  {
   "cell_type": "code",
   "execution_count": 24,
   "metadata": {},
   "outputs": [],
   "source": [
    "visualization_app.set_backend(\"graph_tool\")"
   ]
  },
  {
   "cell_type": "code",
   "execution_count": 25,
   "metadata": {},
   "outputs": [],
   "source": [
    "# #  Run the following use NetworkX as the backend for the visualization app\n",
    "# visualization_app.set_backend(\"networkx\")"
   ]
  },
  {
   "cell_type": "code",
   "execution_count": 26,
   "metadata": {},
   "outputs": [],
   "source": [
    "visualization_app.add_graph(\n",
    "    \"Paragraph-based graph\", graphs[\"paragraph\"],\n",
    "    tree=trees[\"paragraph\"], default_top_n=100)\n",
    "\n",
    "visualization_app.set_current_graph(\"Paragraph-based graph\")"
   ]
  },
  {
   "cell_type": "markdown",
   "metadata": {},
   "source": [
    "### Loading papers' meta-data into the app\n",
    "\n",
    "We now load an additional dataset containing some meta-data on the papers where the entities analyzed in this notebook occur."
   ]
  },
  {
   "cell_type": "code",
   "execution_count": 27,
   "metadata": {},
   "outputs": [
    {
     "name": "stdout",
     "output_type": "stream",
     "text": [
      "Downloading the file to '../data/Glucose_risk_3000_paper_meta_data.csv'\n"
     ]
    },
    {
     "data": {
      "text/html": [
       "<div>\n",
       "<style scoped>\n",
       "    .dataframe tbody tr th:only-of-type {\n",
       "        vertical-align: middle;\n",
       "    }\n",
       "\n",
       "    .dataframe tbody tr th {\n",
       "        vertical-align: top;\n",
       "    }\n",
       "\n",
       "    .dataframe thead th {\n",
       "        text-align: right;\n",
       "    }\n",
       "</style>\n",
       "<table border=\"1\" class=\"dataframe\">\n",
       "  <thead>\n",
       "    <tr style=\"text-align: right;\">\n",
       "      <th></th>\n",
       "      <th>title</th>\n",
       "      <th>authors</th>\n",
       "      <th>abstract</th>\n",
       "      <th>doi</th>\n",
       "      <th>url</th>\n",
       "      <th>journal</th>\n",
       "      <th>pmc_id</th>\n",
       "      <th>pubmed_id</th>\n",
       "      <th>publish_time</th>\n",
       "    </tr>\n",
       "    <tr>\n",
       "      <th>id</th>\n",
       "      <th></th>\n",
       "      <th></th>\n",
       "      <th></th>\n",
       "      <th></th>\n",
       "      <th></th>\n",
       "      <th></th>\n",
       "      <th></th>\n",
       "      <th></th>\n",
       "      <th></th>\n",
       "    </tr>\n",
       "  </thead>\n",
       "  <tbody>\n",
       "    <tr>\n",
       "      <th>3</th>\n",
       "      <td>Surfactant protein-D and pulmonary host defense</td>\n",
       "      <td>Crouch, Erika C</td>\n",
       "      <td>Surfactant protein-D (SP-D) participates in th...</td>\n",
       "      <td>10.1186/rr19</td>\n",
       "      <td>https://www.ncbi.nlm.nih.gov/pmc/articles/PMC5...</td>\n",
       "      <td>Respir Res</td>\n",
       "      <td>PMC59549</td>\n",
       "      <td>11667972.0</td>\n",
       "      <td>2000-08-25</td>\n",
       "    </tr>\n",
       "    <tr>\n",
       "      <th>56</th>\n",
       "      <td>CLINICAL VIGNETTES</td>\n",
       "      <td>NaN</td>\n",
       "      <td>NaN</td>\n",
       "      <td>10.1046/j.1525-1497.18.s1.20.x</td>\n",
       "      <td>https://www.ncbi.nlm.nih.gov/pmc/articles/PMC1...</td>\n",
       "      <td>J Gen Intern Med</td>\n",
       "      <td>PMC1494988</td>\n",
       "      <td>12753119.0</td>\n",
       "      <td>2003-04-01</td>\n",
       "    </tr>\n",
       "    <tr>\n",
       "      <th>58</th>\n",
       "      <td>Clinical Vignettes</td>\n",
       "      <td>NaN</td>\n",
       "      <td>NaN</td>\n",
       "      <td>10.1046/j.1525-1497.2001.0160s1023.x</td>\n",
       "      <td>https://www.ncbi.nlm.nih.gov/pmc/articles/PMC1...</td>\n",
       "      <td>J Gen Intern Med</td>\n",
       "      <td>PMC1495316</td>\n",
       "      <td>11357836.0</td>\n",
       "      <td>2001-04-01</td>\n",
       "    </tr>\n",
       "  </tbody>\n",
       "</table>\n",
       "</div>"
      ],
      "text/plain": [
       "                                              title          authors  \\\n",
       "id                                                                     \n",
       "3   Surfactant protein-D and pulmonary host defense  Crouch, Erika C   \n",
       "56                               CLINICAL VIGNETTES              NaN   \n",
       "58                               Clinical Vignettes              NaN   \n",
       "\n",
       "                                             abstract  \\\n",
       "id                                                      \n",
       "3   Surfactant protein-D (SP-D) participates in th...   \n",
       "56                                                NaN   \n",
       "58                                                NaN   \n",
       "\n",
       "                                     doi  \\\n",
       "id                                         \n",
       "3                           10.1186/rr19   \n",
       "56        10.1046/j.1525-1497.18.s1.20.x   \n",
       "58  10.1046/j.1525-1497.2001.0160s1023.x   \n",
       "\n",
       "                                                  url           journal  \\\n",
       "id                                                                        \n",
       "3   https://www.ncbi.nlm.nih.gov/pmc/articles/PMC5...        Respir Res   \n",
       "56  https://www.ncbi.nlm.nih.gov/pmc/articles/PMC1...  J Gen Intern Med   \n",
       "58  https://www.ncbi.nlm.nih.gov/pmc/articles/PMC1...  J Gen Intern Med   \n",
       "\n",
       "        pmc_id   pubmed_id publish_time  \n",
       "id                                       \n",
       "3     PMC59549  11667972.0   2000-08-25  \n",
       "56  PMC1494988  12753119.0   2003-04-01  \n",
       "58  PMC1495316  11357836.0   2001-04-01  "
      ]
     },
     "execution_count": 27,
     "metadata": {},
     "output_type": "execute_result"
    }
   ],
   "source": [
    "paper_medata = download_from_nexus(uri=f\"{nexus_endpoint}/resources/{nexus_bucket}/_/8fc1e60c-1ebe-4173-82c0-9775a4917041\",\n",
    "                         output_path = DATA_PATH, config_file_path=nexus_config_file, nexus_endpoint=nexus_endpoint, nexus_bucket=nexus_bucket)\n",
    "paper_data = pd.read_csv(f\"{DATA_PATH}/{paper_medata.distribution.name}\")\n",
    "paper_data = paper_data.set_index(\"id\")\n",
    "paper_data.head(3)"
   ]
  },
  {
   "cell_type": "markdown",
   "metadata": {},
   "source": [
    "We pass a callback for the lookup of paper meta-data to the visualization app using the `set_list_papers_callback` method."
   ]
  },
  {
   "cell_type": "code",
   "execution_count": 28,
   "metadata": {},
   "outputs": [],
   "source": [
    "def list_papers(paper_data, selected_papers, limit=200):\n",
    "    selected_paper_data = paper_data.loc[[int(p) for p in selected_papers]].head(200)\n",
    "    return selected_paper_data.to_dict(\"records\")\n",
    "\n",
    "visualization_app.set_list_papers_callback(lambda x: list_papers(paper_data, x))"
   ]
  },
  {
   "cell_type": "markdown",
   "metadata": {},
   "source": [
    "The ontology linking process described above is noisy, therefore, we would like to keep a possibility of accessing, the raw entities that were linked to particular ontology concepts. For this we define the function `get_aggregated_entities` that retreives such raw entities and we pass it to the visualization app using the `set_aggregated_entities_callback` method."
   ]
  },
  {
   "cell_type": "code",
   "execution_count": 29,
   "metadata": {},
   "outputs": [],
   "source": [
    "def top_n(data_dict, n, smallest=False):\n",
    "    \"\"\"Return top `n` keys of the input dictionary by their value.\"\"\"\n",
    "    df = pd.DataFrame(dict(data_dict).items(), columns=[\"id\", \"value\"])\n",
    "    if smallest:\n",
    "        df = df.nsmallest(n, columns=[\"value\"])\n",
    "    else:\n",
    "        df = df.nlargest(n, columns=[\"value\"])\n",
    "    return(list(df[\"id\"]))\n",
    "\n",
    "\n",
    "def get_aggregated_entities(entity, n):\n",
    "    if \"aggregated_entities\" in curated_occurrence_data.columns:\n",
    "        aggregated = curated_occurrence_data.loc[entity][\"aggregated_entities\"]\n",
    "    else:\n",
    "        aggregated = [entity]\n",
    "    if curation_input_table is not None:\n",
    "        df = curation_input_table.set_index(\"entity\")\n",
    "        if entity in curated_occurrence_data.index:\n",
    "            freqs = df.loc[aggregated][\"paper_frequency\"].to_dict()\n",
    "        else:\n",
    "            return {}\n",
    "    else:\n",
    "        df = data.copy()\n",
    "        df[\"entity\"] = data[\"entity\"].apply(lambda x: x.lower())\n",
    "        freqs = df[df[\"entity\"].apply(lambda x: x.lower() in aggregated)].groupby(\"entity\").aggregate(\n",
    "            lambda x: len(x))[\"entity_type\"].to_dict()\n",
    "    if len(freqs) == 0:\n",
    "        return {}\n",
    "    return {e: freqs[e] for e in top_n(freqs, n)}\n",
    "\n",
    "visualization_app.set_aggregated_entities_callback(\n",
    "    lambda x: get_aggregated_entities(x, 10))"
   ]
  },
  {
   "cell_type": "markdown",
   "metadata": {},
   "source": [
    "Finally, we create a dictionary `definitions` that will serve the visualization app as the lookup table for accessing the definitions of different ontology concepts."
   ]
  },
  {
   "cell_type": "code",
   "execution_count": 30,
   "metadata": {},
   "outputs": [],
   "source": [
    "definitions = ontology_linking[[\"concept\", \"definition\"]].groupby(\n",
    "    \"concept\").aggregate(lambda x: list(x)[0]).to_dict()[\"definition\"]\n",
    "visualization_app.set_entity_definitons(definitions)"
   ]
  },
  {
   "cell_type": "markdown",
   "metadata": {},
   "source": [
    "### Launching the visualization app"
   ]
  },
  {
   "cell_type": "markdown",
   "metadata": {},
   "source": [
    "As before, the interactive graph visualization app can be launched in two modes: inline and external. The following cell lauches the app inline."
   ]
  },
  {
   "cell_type": "code",
   "execution_count": 31,
   "metadata": {
    "scrolled": false
   },
   "outputs": [
    {
     "data": {
      "text/html": [
       "\n",
       "        <iframe\n",
       "            width=\"100%\"\n",
       "            height=\"650\"\n",
       "            src=\"http://127.0.0.1:8081/\"\n",
       "            frameborder=\"0\"\n",
       "            allowfullscreen\n",
       "        ></iframe>\n",
       "        "
      ],
      "text/plain": [
       "<IPython.lib.display.IFrame at 0x7fdcd24956d0>"
      ]
     },
     "metadata": {},
     "output_type": "display_data"
    }
   ],
   "source": [
    "visualization_app.run(port=8081, mode=\"inline\")"
   ]
  },
  {
   "cell_type": "markdown",
   "metadata": {},
   "source": [
    "It can be opened externally (by the URL that you can open in a separate tab of your browser, try uncommenting, executing and doing Ctrl+Click on the displayed URL)."
   ]
  },
  {
   "cell_type": "code",
   "execution_count": 32,
   "metadata": {},
   "outputs": [],
   "source": [
    "# visualization_app.run(port=8081, mode=\"external\")"
   ]
  }
 ],
 "metadata": {
  "kernelspec": {
   "display_name": "bg",
   "language": "python",
   "name": "bg"
  },
  "language_info": {
   "codemirror_mode": {
    "name": "ipython",
    "version": 3
   },
   "file_extension": ".py",
   "mimetype": "text/x-python",
   "name": "python",
   "nbconvert_exporter": "python",
   "pygments_lexer": "ipython3",
   "version": "3.7.10"
  }
 },
 "nbformat": 4,
 "nbformat_minor": 4
}
