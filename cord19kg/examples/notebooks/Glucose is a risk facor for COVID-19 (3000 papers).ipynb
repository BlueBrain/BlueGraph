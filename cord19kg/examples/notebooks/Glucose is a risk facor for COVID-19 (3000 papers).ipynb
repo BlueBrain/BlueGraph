{
 "cells": [
  {
   "cell_type": "markdown",
   "metadata": {},
   "source": [
    "# Topic-centered co-occurrence network analysis of CORD-19\n",
    "\n",
    "In this notebook we will perform interactive exploration and analysis of a topic-centered subset of the [CORD-19](https://www.kaggle.com/allen-institute-for-ai/CORD-19-research-challenge) dataset using the `cord19kg` package. The exploration and analysis techniques presented here focus on named entities and their co-occurrence in the scientific articles constituting the dataset.\n",
    "\n",
    "The input data for this notebook contains the named entities extracted from the 3000 most relevant articles to the query _\"Glucose is a risk factor of COVID-19\"_ obtained using the article search model [ref to blue brain search](). The entity extraction was performed using the Named Entity Recognition (NER) techniques also included in [ref to blue brain search](). The entities represent 10 different types (i.e. proteins, chemicals, drugs, diseases, condtions, organs, organisms, pathways, cell types, cell compartments). \n",
    "\n",
    "The interactive literature exploration through the named entity co-occurrence analysis consisting of the following steps:\n",
    "\n",
    "1. __Data preparation__ step converts raw mentions into aggregated entity occurrence statistics.\n",
    "2. __Data curation__ step allows the user to manage extracted entities: modify, filter them and link to the ontology.\n",
    "3. __Network generation__ step allows creating entity co-occurrence networks based on paper-, section- and paragraph-level co-occurrence relations between entities. These entity relations are quantified using mutual-information-based scores (pointwise mutual information and its normalized version).\n",
    "4. __Network visualization and analysis__ step allows the user to perform interactive network visualization, edit network elements and perform its analysis (spanning tree, mutual-information based shortest paths between entities, etc)."
   ]
  },
  {
   "cell_type": "code",
   "execution_count": 7,
   "metadata": {},
   "outputs": [],
   "source": [
    "import json\n",
    "import zipfile\n",
    "\n",
    "import pandas as pd\n",
    "\n",
    "import dash_cytoscape as cyto\n",
    "\n",
    "from cord19kg.utils import (generate_curation_table,\n",
    "                           link_ontology,\n",
    "                           generate_comention_analysis)\n",
    "from cord19kg.apps.curation_app import curation_app\n",
    "from cord19kg.apps.visualization_app import visualization_app"
   ]
  },
  {
   "cell_type": "code",
   "execution_count": 3,
   "metadata": {},
   "outputs": [],
   "source": [
    "cyto.load_extra_layouts()"
   ]
  },
  {
   "cell_type": "markdown",
   "metadata": {},
   "source": [
    "## 1. Data preparation\n",
    "\n",
    "The input dataset contains occurrences of different terms in paragraphs of scientific articles from the CORD-19 dataset previously extracted by means of a NER model."
   ]
  },
  {
   "cell_type": "code",
   "execution_count": 4,
   "metadata": {},
   "outputs": [
    {
     "name": "stdout",
     "output_type": "stream",
     "text": [
      "Decompressing the input data file...\n",
      "Done.\n",
      "CPU times: user 2.2 s, sys: 188 ms, total: 2.39 s\n",
      "Wall time: 2.4 s\n"
     ]
    }
   ],
   "source": [
    "%%time\n",
    "print(\"Decompressing the input data file...\")\n",
    "with zipfile.ZipFile(\"../data/Glucose_risk_3000_papers.csv.zip\", 'r') as zip_ref:\n",
    "    zip_ref.extractall(\"../data/\")\n",
    "data = pd.read_csv(\"../data/Glucose_risk_3000_papers.csv\")\n",
    "print(\"Done.\")"
   ]
  },
  {
   "cell_type": "code",
   "execution_count": 5,
   "metadata": {},
   "outputs": [
    {
     "data": {
      "text/html": [
       "<div>\n",
       "<style scoped>\n",
       "    .dataframe tbody tr th:only-of-type {\n",
       "        vertical-align: middle;\n",
       "    }\n",
       "\n",
       "    .dataframe tbody tr th {\n",
       "        vertical-align: top;\n",
       "    }\n",
       "\n",
       "    .dataframe thead th {\n",
       "        text-align: right;\n",
       "    }\n",
       "</style>\n",
       "<table border=\"1\" class=\"dataframe\">\n",
       "  <thead>\n",
       "    <tr style=\"text-align: right;\">\n",
       "      <th></th>\n",
       "      <th>entity</th>\n",
       "      <th>entity_type</th>\n",
       "      <th>occurrence</th>\n",
       "    </tr>\n",
       "  </thead>\n",
       "  <tbody>\n",
       "    <tr>\n",
       "      <th>13264</th>\n",
       "      <td>renal</td>\n",
       "      <td>ORGAN</td>\n",
       "      <td>56:Back Pain And Fever In:127</td>\n",
       "    </tr>\n",
       "    <tr>\n",
       "      <th>279411</th>\n",
       "      <td>warfarin</td>\n",
       "      <td>CHEMICAL</td>\n",
       "      <td>5999:Methods.:428</td>\n",
       "    </tr>\n",
       "    <tr>\n",
       "      <th>864375</th>\n",
       "      <td>survival</td>\n",
       "      <td>PATHWAY</td>\n",
       "      <td>13187:427:503</td>\n",
       "    </tr>\n",
       "    <tr>\n",
       "      <th>937741</th>\n",
       "      <td>cats</td>\n",
       "      <td>ORGANISM</td>\n",
       "      <td>13234:Nu05:493</td>\n",
       "    </tr>\n",
       "    <tr>\n",
       "      <th>1712315</th>\n",
       "      <td>fever</td>\n",
       "      <td>DISEASE</td>\n",
       "      <td>21542:P1457 Streptobacillus Moniliformis Endoc...</td>\n",
       "    </tr>\n",
       "  </tbody>\n",
       "</table>\n",
       "</div>"
      ],
      "text/plain": [
       "           entity entity_type  \\\n",
       "13264       renal       ORGAN   \n",
       "279411   warfarin    CHEMICAL   \n",
       "864375   survival     PATHWAY   \n",
       "937741       cats    ORGANISM   \n",
       "1712315     fever     DISEASE   \n",
       "\n",
       "                                                occurrence  \n",
       "13264                        56:Back Pain And Fever In:127  \n",
       "279411                                   5999:Methods.:428  \n",
       "864375                                       13187:427:503  \n",
       "937741                                      13234:Nu05:493  \n",
       "1712315  21542:P1457 Streptobacillus Moniliformis Endoc...  "
      ]
     },
     "execution_count": 5,
     "metadata": {},
     "output_type": "execute_result"
    }
   ],
   "source": [
    "data.sample(5)"
   ]
  },
  {
   "cell_type": "markdown",
   "metadata": {},
   "source": [
    "On the first preparation step, we group and aggregate the input data by unique entities."
   ]
  },
  {
   "cell_type": "code",
   "execution_count": 6,
   "metadata": {},
   "outputs": [
    {
     "name": "stdout",
     "output_type": "stream",
     "text": [
      "Prepating curatation data...\n",
      "Cleaning up the entities...\n",
      "Aggregating occurrences of entities....\n",
      "Done.\n",
      "CPU times: user 1min 10s, sys: 1.04 s, total: 1min 11s\n",
      "Wall time: 1min 11s\n"
     ]
    }
   ],
   "source": [
    "%%time\n",
    "print(\"Prepating curatation data...\")\n",
    "curation_input_table, factor_counts = generate_curation_table(data)\n",
    "print(\"Done.\")"
   ]
  },
  {
   "cell_type": "markdown",
   "metadata": {},
   "source": [
    "The resulting dataframe contains a row per unique named entity together with the following occurrence data: \n",
    "- sets of unique paragraphs, papers, sections, where the corresponding entity is mentioned (`paper`, `section`, `paragraph` columns);\n",
    "- number of total entity occurrences (the `raw_frequency` column);\n",
    "- number of unique papers where it occurs (the `paper_frequency` column);\n",
    "- unique entity types assigned by the NER model (the `entity_type` column, multiple types are possible).\n",
    "- raw entity types assigned by the NER model with the multiplicity of thier occurrence (the `raw_entity_types` column).\n"
   ]
  },
  {
   "cell_type": "code",
   "execution_count": 8,
   "metadata": {},
   "outputs": [
    {
     "data": {
      "text/html": [
       "<div>\n",
       "<style scoped>\n",
       "    .dataframe tbody tr th:only-of-type {\n",
       "        vertical-align: middle;\n",
       "    }\n",
       "\n",
       "    .dataframe tbody tr th {\n",
       "        vertical-align: top;\n",
       "    }\n",
       "\n",
       "    .dataframe thead th {\n",
       "        text-align: right;\n",
       "    }\n",
       "</style>\n",
       "<table border=\"1\" class=\"dataframe\">\n",
       "  <thead>\n",
       "    <tr style=\"text-align: right;\">\n",
       "      <th></th>\n",
       "      <th>entity</th>\n",
       "      <th>entity_type</th>\n",
       "      <th>paragraph</th>\n",
       "      <th>paper</th>\n",
       "      <th>section</th>\n",
       "      <th>paper_frequency</th>\n",
       "      <th>raw_entity_types</th>\n",
       "      <th>raw_frequency</th>\n",
       "    </tr>\n",
       "  </thead>\n",
       "  <tbody>\n",
       "    <tr>\n",
       "      <th>34949</th>\n",
       "      <td>gram-negative organisms</td>\n",
       "      <td>ORGANISM</td>\n",
       "      <td>[13730:0651:270, 8352:P1568:410, 14321:P431 Na...</td>\n",
       "      <td>[182690, 5719, 18225, 16698, 194425, 229372, 7...</td>\n",
       "      <td>[13228:Grant Acknowledgment, 13182:P76, 13106:...</td>\n",
       "      <td>31</td>\n",
       "      <td>[ORGANISM, ORGANISM, ORGANISM, ORGANISM, ORGAN...</td>\n",
       "      <td>64</td>\n",
       "    </tr>\n",
       "    <tr>\n",
       "      <th>46548</th>\n",
       "      <td>kin</td>\n",
       "      <td>CHEMICAL</td>\n",
       "      <td>[189045:Exclusion Criteria:57, 13159:Results:3...</td>\n",
       "      <td>[9907, 13159, 189045]</td>\n",
       "      <td>[9907:Caption, 13159:Results, 189045:Exclusion...</td>\n",
       "      <td>3</td>\n",
       "      <td>[CHEMICAL, CHEMICAL, CHEMICAL]</td>\n",
       "      <td>3</td>\n",
       "    </tr>\n",
       "    <tr>\n",
       "      <th>25796</th>\n",
       "      <td>e coli st131</td>\n",
       "      <td>DISEASE</td>\n",
       "      <td>[171873:P1676 Characterisation Of Resistance M...</td>\n",
       "      <td>[171873]</td>\n",
       "      <td>[171873:P1676 Characterisation Of Resistance M...</td>\n",
       "      <td>1</td>\n",
       "      <td>[DISEASE, DISEASE, DISEASE]</td>\n",
       "      <td>3</td>\n",
       "    </tr>\n",
       "    <tr>\n",
       "      <th>85175</th>\n",
       "      <td>ubiquitin-specific protease</td>\n",
       "      <td>PROTEIN</td>\n",
       "      <td>[9769:47:70, 21655:Pp3B-2:190, 79291:Molecular...</td>\n",
       "      <td>[21655, 79291, 9769]</td>\n",
       "      <td>[79291:Molecular Enrichment, 9769:47, 21655:Pp...</td>\n",
       "      <td>3</td>\n",
       "      <td>[PROTEIN, PROTEIN, PROTEIN]</td>\n",
       "      <td>3</td>\n",
       "    </tr>\n",
       "    <tr>\n",
       "      <th>20172</th>\n",
       "      <td>connexin</td>\n",
       "      <td>PROTEIN, ORGANISM</td>\n",
       "      <td>[14095:F-124:451, 21768:Immune Checkpoint Inhi...</td>\n",
       "      <td>[14095, 21768, 14098]</td>\n",
       "      <td>[14098:Caption, 21768:Immune Checkpoint Inhibi...</td>\n",
       "      <td>3</td>\n",
       "      <td>[PROTEIN, ORGANISM, PROTEIN]</td>\n",
       "      <td>3</td>\n",
       "    </tr>\n",
       "  </tbody>\n",
       "</table>\n",
       "</div>"
      ],
      "text/plain": [
       "                            entity        entity_type  \\\n",
       "34949      gram-negative organisms           ORGANISM   \n",
       "46548                          kin           CHEMICAL   \n",
       "25796                 e coli st131            DISEASE   \n",
       "85175  ubiquitin-specific protease            PROTEIN   \n",
       "20172                     connexin  PROTEIN, ORGANISM   \n",
       "\n",
       "                                               paragraph  \\\n",
       "34949  [13730:0651:270, 8352:P1568:410, 14321:P431 Na...   \n",
       "46548  [189045:Exclusion Criteria:57, 13159:Results:3...   \n",
       "25796  [171873:P1676 Characterisation Of Resistance M...   \n",
       "85175  [9769:47:70, 21655:Pp3B-2:190, 79291:Molecular...   \n",
       "20172  [14095:F-124:451, 21768:Immune Checkpoint Inhi...   \n",
       "\n",
       "                                                   paper  \\\n",
       "34949  [182690, 5719, 18225, 16698, 194425, 229372, 7...   \n",
       "46548                              [9907, 13159, 189045]   \n",
       "25796                                           [171873]   \n",
       "85175                               [21655, 79291, 9769]   \n",
       "20172                              [14095, 21768, 14098]   \n",
       "\n",
       "                                                 section  paper_frequency  \\\n",
       "34949  [13228:Grant Acknowledgment, 13182:P76, 13106:...               31   \n",
       "46548  [9907:Caption, 13159:Results, 189045:Exclusion...                3   \n",
       "25796  [171873:P1676 Characterisation Of Resistance M...                1   \n",
       "85175  [79291:Molecular Enrichment, 9769:47, 21655:Pp...                3   \n",
       "20172  [14098:Caption, 21768:Immune Checkpoint Inhibi...                3   \n",
       "\n",
       "                                        raw_entity_types  raw_frequency  \n",
       "34949  [ORGANISM, ORGANISM, ORGANISM, ORGANISM, ORGAN...             64  \n",
       "46548                     [CHEMICAL, CHEMICAL, CHEMICAL]              3  \n",
       "25796                        [DISEASE, DISEASE, DISEASE]              3  \n",
       "85175                        [PROTEIN, PROTEIN, PROTEIN]              3  \n",
       "20172                       [PROTEIN, ORGANISM, PROTEIN]              3  "
      ]
     },
     "execution_count": 8,
     "metadata": {},
     "output_type": "execute_result"
    }
   ],
   "source": [
    "curation_input_table.sample(5)"
   ]
  },
  {
   "cell_type": "markdown",
   "metadata": {},
   "source": [
    "The second output of the data preparation step outputs the counts of different instances of occurrence factors: number of distinct papers/sections/paragraphs in the input corpus."
   ]
  },
  {
   "cell_type": "code",
   "execution_count": 9,
   "metadata": {},
   "outputs": [
    {
     "data": {
      "text/plain": [
       "{'paper': 3000, 'section': 53947, 'paragraph': 211380}"
      ]
     },
     "execution_count": 9,
     "metadata": {},
     "output_type": "execute_result"
    }
   ],
   "source": [
    "factor_counts"
   ]
  },
  {
   "cell_type": "markdown",
   "metadata": {},
   "source": [
    "## 2. Data curation"
   ]
  },
  {
   "cell_type": "markdown",
   "metadata": {},
   "source": [
    "### Loading the NCIT ontology linking data"
   ]
  },
  {
   "cell_type": "markdown",
   "metadata": {},
   "source": [
    "To group synonymical entities in the previously extracted table (e.g. `ace2`, `ace-2`, `angiotensin-converting enzyme 2`), as well as assign additional semantics to these entities (e.g. human-readable definition, taxonomy, etc), we peform further _linking_ of the entities to the terms from the [NCIT ontology](https://ncithesaurus.nci.nih.gov/ncitbrowser/).\n",
    "\n",
    "To be able to perform such ontology linking, we load some additional (pre-computed using ML-based linking models) data."
   ]
  },
  {
   "cell_type": "code",
   "execution_count": 10,
   "metadata": {},
   "outputs": [
    {
     "name": "stdout",
     "output_type": "stream",
     "text": [
      "Loading the ontology linking data...\n",
      "\tDecompressing the input data file...\n",
      "\tLoading the linking dataframe in memory...\n",
      "\tLoading ontology type mapping...\n",
      "Done.\n",
      "CPU times: user 1.01 s, sys: 113 ms, total: 1.12 s\n",
      "Wall time: 1.13 s\n"
     ]
    }
   ],
   "source": [
    "%%time\n",
    "print(\"Loading the ontology linking data...\")\n",
    "    \n",
    "print(\"\\tDecompressing the input data file...\")\n",
    "with zipfile.ZipFile(\"../data/NCIT_ontology_linking_3000_papers.csv.zip\", 'r') as zip_ref:\n",
    "    zip_ref.extractall(\"../data/\")\n",
    "\n",
    "print(\"\\tLoading the linking dataframe in memory...\")\n",
    "ontology_linking = pd.read_csv(\"../data/NCIT_ontology_linking_3000_papers.csv\")\n",
    "\n",
    "print(\"\\tLoading ontology type mapping...\")\n",
    "with open(\"../data/NCIT_type_mapping.json\", \"rb\") as f:\n",
    "    type_mapping = json.load(f)\n",
    "print(\"Done.\")"
   ]
  },
  {
   "cell_type": "markdown",
   "metadata": {},
   "source": [
    "The ontology linking table contains the following columns:\n",
    "- `mention` entity mentioned in the text\n",
    "- `concept` ontology concept linked to the entity mention\n",
    "- `uid` unique identifier of the ontology concept\n",
    "- `definition` definition of the concept\n",
    "- `taxonomy` taxonomy of semantic types associated with the concept"
   ]
  },
  {
   "cell_type": "code",
   "execution_count": 11,
   "metadata": {
    "scrolled": true
   },
   "outputs": [
    {
     "data": {
      "text/html": [
       "<div>\n",
       "<style scoped>\n",
       "    .dataframe tbody tr th:only-of-type {\n",
       "        vertical-align: middle;\n",
       "    }\n",
       "\n",
       "    .dataframe tbody tr th {\n",
       "        vertical-align: top;\n",
       "    }\n",
       "\n",
       "    .dataframe thead th {\n",
       "        text-align: right;\n",
       "    }\n",
       "</style>\n",
       "<table border=\"1\" class=\"dataframe\">\n",
       "  <thead>\n",
       "    <tr style=\"text-align: right;\">\n",
       "      <th></th>\n",
       "      <th>mention</th>\n",
       "      <th>concept</th>\n",
       "      <th>uid</th>\n",
       "      <th>definition</th>\n",
       "      <th>taxonomy</th>\n",
       "    </tr>\n",
       "  </thead>\n",
       "  <tbody>\n",
       "    <tr>\n",
       "      <th>150330</th>\n",
       "      <td>a696glucocorticoid receptor</td>\n",
       "      <td>glucocorticoid receptor</td>\n",
       "      <td>http://purl.obolibrary.org/obo/NCIT_C17071</td>\n",
       "      <td>Glucocorticoid receptor (777 aa, ~86 kDa) is e...</td>\n",
       "      <td>[('http://purl.obolibrary.org/obo/NCIT_C18108'...</td>\n",
       "    </tr>\n",
       "    <tr>\n",
       "      <th>102687</th>\n",
       "      <td>mitochondrial adenine nucleotide translocator</td>\n",
       "      <td>adp/atp translocase 1</td>\n",
       "      <td>http://purl.obolibrary.org/obo/NCIT_C37299</td>\n",
       "      <td>ADP/ATP translocase 1 (298 aa, ~33 kDa) is enc...</td>\n",
       "      <td>[('http://purl.obolibrary.org/obo/NCIT_C37297'...</td>\n",
       "    </tr>\n",
       "    <tr>\n",
       "      <th>14680</th>\n",
       "      <td>strictured</td>\n",
       "      <td>stenosis</td>\n",
       "      <td>http://purl.obolibrary.org/obo/NCIT_C50754</td>\n",
       "      <td>Narrowing or stricture of a vessel, duct or ca...</td>\n",
       "      <td>[('http://purl.obolibrary.org/obo/NCIT_C36295'...</td>\n",
       "    </tr>\n",
       "    <tr>\n",
       "      <th>156151</th>\n",
       "      <td>doif</td>\n",
       "      <td>dogri language</td>\n",
       "      <td>http://purl.obolibrary.org/obo/NCIT_C153902</td>\n",
       "      <td>An Indo-Aryan language spoken in India and Pak...</td>\n",
       "      <td>[('http://purl.obolibrary.org/obo/NCIT_C161844...</td>\n",
       "    </tr>\n",
       "    <tr>\n",
       "      <th>99683</th>\n",
       "      <td>cultured bronchial epithelial cells</td>\n",
       "      <td>ciliated bronchial epithelial cell</td>\n",
       "      <td>http://purl.obolibrary.org/obo/NCIT_C32317</td>\n",
       "      <td>A columnar-shaped cell found in the epithelium...</td>\n",
       "      <td>[('http://purl.obolibrary.org/obo/NCIT_C54242'...</td>\n",
       "    </tr>\n",
       "  </tbody>\n",
       "</table>\n",
       "</div>"
      ],
      "text/plain": [
       "                                              mention  \\\n",
       "150330                    a696glucocorticoid receptor   \n",
       "102687  mitochondrial adenine nucleotide translocator   \n",
       "14680                                      strictured   \n",
       "156151                                           doif   \n",
       "99683             cultured bronchial epithelial cells   \n",
       "\n",
       "                                   concept  \\\n",
       "150330             glucocorticoid receptor   \n",
       "102687               adp/atp translocase 1   \n",
       "14680                             stenosis   \n",
       "156151                      dogri language   \n",
       "99683   ciliated bronchial epithelial cell   \n",
       "\n",
       "                                                uid  \\\n",
       "150330   http://purl.obolibrary.org/obo/NCIT_C17071   \n",
       "102687   http://purl.obolibrary.org/obo/NCIT_C37299   \n",
       "14680    http://purl.obolibrary.org/obo/NCIT_C50754   \n",
       "156151  http://purl.obolibrary.org/obo/NCIT_C153902   \n",
       "99683    http://purl.obolibrary.org/obo/NCIT_C32317   \n",
       "\n",
       "                                               definition  \\\n",
       "150330  Glucocorticoid receptor (777 aa, ~86 kDa) is e...   \n",
       "102687  ADP/ATP translocase 1 (298 aa, ~33 kDa) is enc...   \n",
       "14680   Narrowing or stricture of a vessel, duct or ca...   \n",
       "156151  An Indo-Aryan language spoken in India and Pak...   \n",
       "99683   A columnar-shaped cell found in the epithelium...   \n",
       "\n",
       "                                                 taxonomy  \n",
       "150330  [('http://purl.obolibrary.org/obo/NCIT_C18108'...  \n",
       "102687  [('http://purl.obolibrary.org/obo/NCIT_C37297'...  \n",
       "14680   [('http://purl.obolibrary.org/obo/NCIT_C36295'...  \n",
       "156151  [('http://purl.obolibrary.org/obo/NCIT_C161844...  \n",
       "99683   [('http://purl.obolibrary.org/obo/NCIT_C54242'...  "
      ]
     },
     "execution_count": 11,
     "metadata": {},
     "output_type": "execute_result"
    }
   ],
   "source": [
    "ontology_linking.sample(5)"
   ]
  },
  {
   "cell_type": "markdown",
   "metadata": {},
   "source": [
    "### Interactive curation of  entity occurrence data\n",
    "\n",
    "The package provides an interactive entity curation app that allows the user to visualize the entity occurrence data, modify it, perform ontology linking (see `Link to NCIT ontology` button), filter short or unfrequent entities.\n",
    "\n",
    "The field `Keep` allows specifying a set of entities that must be kept in the dataset at all times (even if they don't satisfy the selected filtering criteria).\n",
    "\n",
    "Finally the value specified in the `Generate Graphs from top 500 frequent entities` field corresponds to the number of top entities (by the frequency of their occurrence in papers) to be included in the co-occurrence network."
   ]
  },
  {
   "cell_type": "markdown",
   "metadata": {},
   "source": [
    "We load the prepared data table into the curation app as follows:"
   ]
  },
  {
   "cell_type": "code",
   "execution_count": 12,
   "metadata": {},
   "outputs": [],
   "source": [
    "curation_app.set_table(curation_input_table.copy())"
   ]
  },
  {
   "cell_type": "markdown",
   "metadata": {},
   "source": [
    "We can specify the default entities to keep."
   ]
  },
  {
   "cell_type": "code",
   "execution_count": 13,
   "metadata": {},
   "outputs": [],
   "source": [
    "default_entities_to_keep = [\"glucose\", \"covid-19\"]\n",
    "curation_app.set_default_terms_to_include(default_entities_to_keep)"
   ]
  },
  {
   "cell_type": "markdown",
   "metadata": {},
   "source": [
    "Finally, we set the ontology linking callback to be fired upon a click on the `Link to NCIT ontology` button."
   ]
  },
  {
   "cell_type": "code",
   "execution_count": 14,
   "metadata": {
    "scrolled": false
   },
   "outputs": [],
   "source": [
    "curation_app.set_ontology_linking_callback(lambda x: link_ontology(ontology_linking, type_mapping, x))"
   ]
  },
  {
   "cell_type": "markdown",
   "metadata": {},
   "source": [
    "### Launch the curation app"
   ]
  },
  {
   "cell_type": "markdown",
   "metadata": {},
   "source": [
    "The application can be launched either inline (inside the current notebook) as below."
   ]
  },
  {
   "cell_type": "code",
   "execution_count": 16,
   "metadata": {},
   "outputs": [
    {
     "data": {
      "text/html": [
       "\n",
       "        <iframe\n",
       "            width=\"100%\"\n",
       "            height=\"650\"\n",
       "            src=\"http://127.0.0.1:8072/\"\n",
       "            frameborder=\"0\"\n",
       "            allowfullscreen\n",
       "        ></iframe>\n",
       "        "
      ],
      "text/plain": [
       "<IPython.lib.display.IFrame at 0x7f85f38b0ee0>"
      ]
     },
     "metadata": {},
     "output_type": "display_data"
    },
    {
     "name": "stdout",
     "output_type": "stream",
     "text": [
      "Merging the occurrence data with the ontology linking...\n"
     ]
    }
   ],
   "source": [
    "curation_app.run(port=8072, mode=\"inline\")"
   ]
  },
  {
   "cell_type": "markdown",
   "metadata": {},
   "source": [
    "Or it can be opened externally (by the URL that you can open in a separate tab of your browser, try uncommenting, executing and doing Ctrl+Click on the displayed URL)."
   ]
  },
  {
   "cell_type": "code",
   "execution_count": null,
   "metadata": {},
   "outputs": [],
   "source": [
    "# curation_app.run(port=8070, mode=\"external\")"
   ]
  },
  {
   "cell_type": "markdown",
   "metadata": {},
   "source": [
    "## 3. Co-occurrence network generation"
   ]
  },
  {
   "cell_type": "markdown",
   "metadata": {},
   "source": [
    "Current curation table displayed in the curation app can be extracted using the `get_curated_table` method."
   ]
  },
  {
   "cell_type": "code",
   "execution_count": 19,
   "metadata": {},
   "outputs": [
    {
     "data": {
      "text/html": [
       "<div>\n",
       "<style scoped>\n",
       "    .dataframe tbody tr th:only-of-type {\n",
       "        vertical-align: middle;\n",
       "    }\n",
       "\n",
       "    .dataframe tbody tr th {\n",
       "        vertical-align: top;\n",
       "    }\n",
       "\n",
       "    .dataframe thead th {\n",
       "        text-align: right;\n",
       "    }\n",
       "</style>\n",
       "<table border=\"1\" class=\"dataframe\">\n",
       "  <thead>\n",
       "    <tr style=\"text-align: right;\">\n",
       "      <th></th>\n",
       "      <th>aggregated_entities</th>\n",
       "      <th>paragraph</th>\n",
       "      <th>paper</th>\n",
       "      <th>section</th>\n",
       "      <th>raw_entity_types</th>\n",
       "      <th>uid</th>\n",
       "      <th>definition</th>\n",
       "      <th>taxonomy</th>\n",
       "      <th>paper_frequency</th>\n",
       "      <th>entity_type</th>\n",
       "      <th>entity_type_label</th>\n",
       "    </tr>\n",
       "    <tr>\n",
       "      <th>entity</th>\n",
       "      <th></th>\n",
       "      <th></th>\n",
       "      <th></th>\n",
       "      <th></th>\n",
       "      <th></th>\n",
       "      <th></th>\n",
       "      <th></th>\n",
       "      <th></th>\n",
       "      <th></th>\n",
       "      <th></th>\n",
       "      <th></th>\n",
       "    </tr>\n",
       "  </thead>\n",
       "  <tbody>\n",
       "    <tr>\n",
       "      <th>inguinal region</th>\n",
       "      <td>[groin, groin pain, groins, inguinal, inguinal...</td>\n",
       "      <td>[18225:P845 Candida Colonization Among Paediat...</td>\n",
       "      <td>[6402, 1407, 18225, 6457, 6689, 7105, 2548, 97...</td>\n",
       "      <td>[6719:An Unusual Presentation Of Recurrence Of...</td>\n",
       "      <td>[ORGAN, ORGAN, ORGAN, ORGAN, ORGAN, ORGAN, ORG...</td>\n",
       "      <td>http://purl.obolibrary.org/obo/NCIT_C12726</td>\n",
       "      <td>The lower region of the anterior abdominal wal...</td>\n",
       "      <td>[('http://purl.obolibrary.org/obo/NCIT_C12680'...</td>\n",
       "      <td>31</td>\n",
       "      <td>ORGAN</td>\n",
       "      <td>ORGAN</td>\n",
       "    </tr>\n",
       "    <tr>\n",
       "      <th>pectoralis muscle</th>\n",
       "      <td>[pectoral muscle, pectoral muscles, pectoralis...</td>\n",
       "      <td>[21942:11.:170, 7076:E-Ps:862, 13921:Figure 1....</td>\n",
       "      <td>[7076, 7075, 179328, 21942, 7045, 6209, 13921]</td>\n",
       "      <td>[7076:E-Ps, 21942:9., 21942:11., 6209:Caption,...</td>\n",
       "      <td>[ORGAN, ORGAN, ORGAN, ORGAN, ORGAN, ORGAN, ORG...</td>\n",
       "      <td>http://purl.obolibrary.org/obo/NCIT_C33286</td>\n",
       "      <td>Muscles of the upper chest. The term may refer...</td>\n",
       "      <td>[('http://purl.obolibrary.org/obo/NCIT_C13056'...</td>\n",
       "      <td>7</td>\n",
       "      <td>ORGAN</td>\n",
       "      <td>ORGAN</td>\n",
       "    </tr>\n",
       "    <tr>\n",
       "      <th>streptococcus canis</th>\n",
       "      <td>[streptococcus canis, streptococcus dysgalactiae]</td>\n",
       "      <td>[13320:Caption:978, 171873:P772 Haemolytic Ura...</td>\n",
       "      <td>[13320, 8225, 6122, 18225, 171873, 21542, 22081]</td>\n",
       "      <td>[13320:Caption, 21542:P998 Antimicrobial Resis...</td>\n",
       "      <td>[ORGANISM, ORGANISM, ORGANISM, ORGANISM, ORGAN...</td>\n",
       "      <td>http://purl.obolibrary.org/obo/NCIT_C86786</td>\n",
       "      <td>A species of facultatively anaerobic, Gram pos...</td>\n",
       "      <td>[('http://purl.obolibrary.org/obo/NCIT_C76383'...</td>\n",
       "      <td>7</td>\n",
       "      <td>ORGANISM</td>\n",
       "      <td>ORGANISM</td>\n",
       "    </tr>\n",
       "    <tr>\n",
       "      <th>eq-5d-3l - anxiety or depression</th>\n",
       "      <td>[anxiety/ depression, anxiety/depression]</td>\n",
       "      <td>[13232:Competing Interests:20, 13228:Nonventil...</td>\n",
       "      <td>[222405, 58, 343, 21947, 13187, 13232, 13228, ...</td>\n",
       "      <td>[21947:The Effect Of Depression And Anxiety Up...</td>\n",
       "      <td>[DISEASE, DISEASE, DISEASE, DISEASE, DISEASE, ...</td>\n",
       "      <td>http://purl.obolibrary.org/obo/NCIT_C100396</td>\n",
       "      <td>The EuroQol (European Quality of Life) Five Di...</td>\n",
       "      <td>[('http://purl.obolibrary.org/obo/NCIT_C100114...</td>\n",
       "      <td>12</td>\n",
       "      <td>DISEASE</td>\n",
       "      <td>DISEASE</td>\n",
       "    </tr>\n",
       "    <tr>\n",
       "      <th>aortic valve insufficiency</th>\n",
       "      <td>[aortic insufficiency, aortic valve insufficie...</td>\n",
       "      <td>[58:Caption:702, 58:Is Patient Trust Of Physic...</td>\n",
       "      <td>[58, 7093, 1407, 7075, 493, 14065, 21846, 1922...</td>\n",
       "      <td>[493:P-308, 7093:Results, 1407:A-070 08, 7075:...</td>\n",
       "      <td>[DISEASE, DISEASE, DISEASE, DISEASE, DISEASE, ...</td>\n",
       "      <td>http://purl.obolibrary.org/obo/NCIT_C51223</td>\n",
       "      <td>Dysfunction of the aortic valve characterized ...</td>\n",
       "      <td>[('http://purl.obolibrary.org/obo/NCIT_C78650'...</td>\n",
       "      <td>10</td>\n",
       "      <td>DISEASE</td>\n",
       "      <td>DISEASE</td>\n",
       "    </tr>\n",
       "  </tbody>\n",
       "</table>\n",
       "</div>"
      ],
      "text/plain": [
       "                                                                aggregated_entities  \\\n",
       "entity                                                                                \n",
       "inguinal region                   [groin, groin pain, groins, inguinal, inguinal...   \n",
       "pectoralis muscle                 [pectoral muscle, pectoral muscles, pectoralis...   \n",
       "streptococcus canis               [streptococcus canis, streptococcus dysgalactiae]   \n",
       "eq-5d-3l - anxiety or depression          [anxiety/ depression, anxiety/depression]   \n",
       "aortic valve insufficiency        [aortic insufficiency, aortic valve insufficie...   \n",
       "\n",
       "                                                                          paragraph  \\\n",
       "entity                                                                                \n",
       "inguinal region                   [18225:P845 Candida Colonization Among Paediat...   \n",
       "pectoralis muscle                 [21942:11.:170, 7076:E-Ps:862, 13921:Figure 1....   \n",
       "streptococcus canis               [13320:Caption:978, 171873:P772 Haemolytic Ura...   \n",
       "eq-5d-3l - anxiety or depression  [13232:Competing Interests:20, 13228:Nonventil...   \n",
       "aortic valve insufficiency        [58:Caption:702, 58:Is Patient Trust Of Physic...   \n",
       "\n",
       "                                                                              paper  \\\n",
       "entity                                                                                \n",
       "inguinal region                   [6402, 1407, 18225, 6457, 6689, 7105, 2548, 97...   \n",
       "pectoralis muscle                    [7076, 7075, 179328, 21942, 7045, 6209, 13921]   \n",
       "streptococcus canis                [13320, 8225, 6122, 18225, 171873, 21542, 22081]   \n",
       "eq-5d-3l - anxiety or depression  [222405, 58, 343, 21947, 13187, 13232, 13228, ...   \n",
       "aortic valve insufficiency        [58, 7093, 1407, 7075, 493, 14065, 21846, 1922...   \n",
       "\n",
       "                                                                            section  \\\n",
       "entity                                                                                \n",
       "inguinal region                   [6719:An Unusual Presentation Of Recurrence Of...   \n",
       "pectoralis muscle                 [7076:E-Ps, 21942:9., 21942:11., 6209:Caption,...   \n",
       "streptococcus canis               [13320:Caption, 21542:P998 Antimicrobial Resis...   \n",
       "eq-5d-3l - anxiety or depression  [21947:The Effect Of Depression And Anxiety Up...   \n",
       "aortic valve insufficiency        [493:P-308, 7093:Results, 1407:A-070 08, 7075:...   \n",
       "\n",
       "                                                                   raw_entity_types  \\\n",
       "entity                                                                                \n",
       "inguinal region                   [ORGAN, ORGAN, ORGAN, ORGAN, ORGAN, ORGAN, ORG...   \n",
       "pectoralis muscle                 [ORGAN, ORGAN, ORGAN, ORGAN, ORGAN, ORGAN, ORG...   \n",
       "streptococcus canis               [ORGANISM, ORGANISM, ORGANISM, ORGANISM, ORGAN...   \n",
       "eq-5d-3l - anxiety or depression  [DISEASE, DISEASE, DISEASE, DISEASE, DISEASE, ...   \n",
       "aortic valve insufficiency        [DISEASE, DISEASE, DISEASE, DISEASE, DISEASE, ...   \n",
       "\n",
       "                                                                          uid  \\\n",
       "entity                                                                          \n",
       "inguinal region                    http://purl.obolibrary.org/obo/NCIT_C12726   \n",
       "pectoralis muscle                  http://purl.obolibrary.org/obo/NCIT_C33286   \n",
       "streptococcus canis                http://purl.obolibrary.org/obo/NCIT_C86786   \n",
       "eq-5d-3l - anxiety or depression  http://purl.obolibrary.org/obo/NCIT_C100396   \n",
       "aortic valve insufficiency         http://purl.obolibrary.org/obo/NCIT_C51223   \n",
       "\n",
       "                                                                         definition  \\\n",
       "entity                                                                                \n",
       "inguinal region                   The lower region of the anterior abdominal wal...   \n",
       "pectoralis muscle                 Muscles of the upper chest. The term may refer...   \n",
       "streptococcus canis               A species of facultatively anaerobic, Gram pos...   \n",
       "eq-5d-3l - anxiety or depression  The EuroQol (European Quality of Life) Five Di...   \n",
       "aortic valve insufficiency        Dysfunction of the aortic valve characterized ...   \n",
       "\n",
       "                                                                           taxonomy  \\\n",
       "entity                                                                                \n",
       "inguinal region                   [('http://purl.obolibrary.org/obo/NCIT_C12680'...   \n",
       "pectoralis muscle                 [('http://purl.obolibrary.org/obo/NCIT_C13056'...   \n",
       "streptococcus canis               [('http://purl.obolibrary.org/obo/NCIT_C76383'...   \n",
       "eq-5d-3l - anxiety or depression  [('http://purl.obolibrary.org/obo/NCIT_C100114...   \n",
       "aortic valve insufficiency        [('http://purl.obolibrary.org/obo/NCIT_C78650'...   \n",
       "\n",
       "                                  paper_frequency entity_type  \\\n",
       "entity                                                          \n",
       "inguinal region                                31       ORGAN   \n",
       "pectoralis muscle                               7       ORGAN   \n",
       "streptococcus canis                             7    ORGANISM   \n",
       "eq-5d-3l - anxiety or depression               12     DISEASE   \n",
       "aortic valve insufficiency                     10     DISEASE   \n",
       "\n",
       "                                 entity_type_label  \n",
       "entity                                              \n",
       "inguinal region                              ORGAN  \n",
       "pectoralis muscle                            ORGAN  \n",
       "streptococcus canis                       ORGANISM  \n",
       "eq-5d-3l - anxiety or depression           DISEASE  \n",
       "aortic valve insufficiency                 DISEASE  "
      ]
     },
     "execution_count": 19,
     "metadata": {},
     "output_type": "execute_result"
    }
   ],
   "source": [
    "curated_occurrence_data = curation_app.get_curated_table()\n",
    "curated_occurrence_data.sample(5)"
   ]
  },
  {
   "cell_type": "markdown",
   "metadata": {},
   "source": [
    "Before we can proceed we need to convert paper/section and paragraph columns into `set`."
   ]
  },
  {
   "cell_type": "code",
   "execution_count": 20,
   "metadata": {},
   "outputs": [],
   "source": [
    "curated_occurrence_data[\"paper\"] = curated_occurrence_data[\"paper\"].apply(set)\n",
    "curated_occurrence_data[\"paragraph\"] = curated_occurrence_data[\"paragraph\"].apply(set)\n",
    "curated_occurrence_data[\"section\"] = curated_occurrence_data[\"section\"].apply(set)"
   ]
  },
  {
   "cell_type": "markdown",
   "metadata": {},
   "source": [
    "We can also retreive current values of the `Keep` field (these entities will be also included in the resulting co-occurrence network)."
   ]
  },
  {
   "cell_type": "code",
   "execution_count": 21,
   "metadata": {},
   "outputs": [
    {
     "data": {
      "text/plain": [
       "['glucose', 'covid-19']"
      ]
     },
     "execution_count": 21,
     "metadata": {},
     "output_type": "execute_result"
    }
   ],
   "source": [
    "curation_app.get_terms_to_include()"
   ]
  },
  {
   "cell_type": "markdown",
   "metadata": {},
   "source": [
    "### Generating co-occurrence networks\n",
    "\n",
    "In the cell below we generate a paper-based entity co-occurrence network. Along with the network generation the `generate_comention_analysis` function:\n",
    "\n",
    "- computes node centrality metrics (such as degree, RageRank)\n",
    "- computes co-occurrence statistics (such as frequency, pointwise mutual information and normalized pointwise mutual information) and assignes them as weights to the corresponding edges\n",
    "- performs entity community detection based on different co-occurrence statistics\n",
    "- computes mutual-information-based minimum spanning trees.\n",
    "\n",
    "Here we set the number of entities to include to the 1500 most frequent entities."
   ]
  },
  {
   "cell_type": "code",
   "execution_count": 37,
   "metadata": {},
   "outputs": [
    {
     "name": "stdout",
     "output_type": "stream",
     "text": [
      "-------------------------------\n",
      "Factor: paragraph\n",
      "-------------------------------\n",
      "Fitering data.....\n",
      "Selected 1500 most frequent terms\n",
      "Examining 1124250 pairs of terms for co-occurrence...\n",
      "Generated 693669 edges                    \n",
      "Created a co-occurrence graph:\n",
      "\tnumber of nodes:  1500\n",
      "\tnumber of edges:  693669\n",
      "Saving the edges...\n",
      "Creating a graph object...\n",
      "\n",
      "Computing degree centrality statistics....\n",
      "Top n nodes by frequency:\n",
      "\tcovid-19 (174251)\n",
      "\tblood (166103)\n",
      "\thuman (157878)\n",
      "\tlung (138504)\n",
      "\tinfectious disorder (138176)\n",
      "\theart (127273)\n",
      "\tdiabetes mellitus (114019)\n",
      "\tmouse (101697)\n",
      "\tinflammation (95174)\n",
      "\tliver (93130)\n",
      "\n",
      "Computing PageRank centrality statistics....\n",
      "Top n nodes by frequency:\n",
      "\tblood (0.01)\n",
      "\tcovid-19 (0.01)\n",
      "\thuman (0.01)\n",
      "\tinfectious disorder (0.01)\n",
      "\tlung (0.01)\n",
      "\theart (0.01)\n",
      "\tdiabetes mellitus (0.01)\n",
      "\tmouse (0.01)\n",
      "\tliver (0.01)\n",
      "\tinflammation (0.01)\n",
      "\n",
      "Using the 'frequency' weight...\n",
      "Detecting communities...\n",
      "Best network partition:\n",
      "\t Number of communities: 6\n",
      "\t Modularity: 0.17856879002894227\n",
      "Using the 'npmi' weight...\n",
      "Detecting communities...\n",
      "Best network partition:\n",
      "\t Number of communities: 5\n",
      "\t Modularity: 0.18294262229803165\n",
      "Computing the minimum spanning tree...\n",
      "Done.\n",
      "CPU times: user 2min 56s, sys: 1min 27s, total: 4min 23s\n",
      "Wall time: 6min 8s\n"
     ]
    }
   ],
   "source": [
    "%%time\n",
    "type_data = curated_occurrence_data[[\"entity_type\"]].rename(columns={\"entity_type\": \"type\"})\n",
    "\n",
    "graphs, trees = generate_comention_analysis(\n",
    "    curated_occurrence_data,  factor_counts,\n",
    "    n_most_frequent=1500,\n",
    "    type_data=type_data, \n",
    "    factors=[\"paragraph\"],\n",
    "    keep=curation_app.get_terms_to_include(),\n",
    "    cores=8)  # here set up the number of cores  \n",
    "print(\"Done.\")"
   ]
  },
  {
   "cell_type": "markdown",
   "metadata": {},
   "source": [
    "## 4. Network visualization and analysis"
   ]
  },
  {
   "cell_type": "markdown",
   "metadata": {},
   "source": [
    "### Loading the generated graph into the visualization app"
   ]
  },
  {
   "cell_type": "code",
   "execution_count": 39,
   "metadata": {},
   "outputs": [],
   "source": [
    "visualization_app.set_graph(\n",
    "    \"Paragraph-based graph\", graphs[\"paragraph\"],\n",
    "    tree_object=trees[\"paragraph\"], default_top_n=100)\n",
    "\n",
    "visualization_app.set_current_graph(\"Paragraph-based graph\")"
   ]
  },
  {
   "cell_type": "markdown",
   "metadata": {},
   "source": [
    "### Loading papers' meta-data into the app\n",
    "\n",
    "We now load an additional dataset containing some meta-data on the papers where the entities analyzed in this notebook occur."
   ]
  },
  {
   "cell_type": "code",
   "execution_count": 40,
   "metadata": {
    "scrolled": true
   },
   "outputs": [
    {
     "data": {
      "text/html": [
       "<div>\n",
       "<style scoped>\n",
       "    .dataframe tbody tr th:only-of-type {\n",
       "        vertical-align: middle;\n",
       "    }\n",
       "\n",
       "    .dataframe tbody tr th {\n",
       "        vertical-align: top;\n",
       "    }\n",
       "\n",
       "    .dataframe thead th {\n",
       "        text-align: right;\n",
       "    }\n",
       "</style>\n",
       "<table border=\"1\" class=\"dataframe\">\n",
       "  <thead>\n",
       "    <tr style=\"text-align: right;\">\n",
       "      <th></th>\n",
       "      <th>title</th>\n",
       "      <th>authors</th>\n",
       "      <th>abstract</th>\n",
       "      <th>doi</th>\n",
       "      <th>url</th>\n",
       "      <th>journal</th>\n",
       "      <th>pmc_id</th>\n",
       "      <th>pubmed_id</th>\n",
       "      <th>publish_time</th>\n",
       "    </tr>\n",
       "    <tr>\n",
       "      <th>id</th>\n",
       "      <th></th>\n",
       "      <th></th>\n",
       "      <th></th>\n",
       "      <th></th>\n",
       "      <th></th>\n",
       "      <th></th>\n",
       "      <th></th>\n",
       "      <th></th>\n",
       "      <th></th>\n",
       "    </tr>\n",
       "  </thead>\n",
       "  <tbody>\n",
       "    <tr>\n",
       "      <th>3</th>\n",
       "      <td>Surfactant protein-D and pulmonary host defense</td>\n",
       "      <td>Crouch, Erika C</td>\n",
       "      <td>Surfactant protein-D (SP-D) participates in th...</td>\n",
       "      <td>10.1186/rr19</td>\n",
       "      <td>https://www.ncbi.nlm.nih.gov/pmc/articles/PMC5...</td>\n",
       "      <td>Respir Res</td>\n",
       "      <td>PMC59549</td>\n",
       "      <td>11667972.0</td>\n",
       "      <td>2000-08-25</td>\n",
       "    </tr>\n",
       "    <tr>\n",
       "      <th>56</th>\n",
       "      <td>CLINICAL VIGNETTES</td>\n",
       "      <td>NaN</td>\n",
       "      <td>NaN</td>\n",
       "      <td>10.1046/j.1525-1497.18.s1.20.x</td>\n",
       "      <td>https://www.ncbi.nlm.nih.gov/pmc/articles/PMC1...</td>\n",
       "      <td>J Gen Intern Med</td>\n",
       "      <td>PMC1494988</td>\n",
       "      <td>12753119.0</td>\n",
       "      <td>2003-04-01</td>\n",
       "    </tr>\n",
       "    <tr>\n",
       "      <th>58</th>\n",
       "      <td>Clinical Vignettes</td>\n",
       "      <td>NaN</td>\n",
       "      <td>NaN</td>\n",
       "      <td>10.1046/j.1525-1497.2001.0160s1023.x</td>\n",
       "      <td>https://www.ncbi.nlm.nih.gov/pmc/articles/PMC1...</td>\n",
       "      <td>J Gen Intern Med</td>\n",
       "      <td>PMC1495316</td>\n",
       "      <td>11357836.0</td>\n",
       "      <td>2001-04-01</td>\n",
       "    </tr>\n",
       "  </tbody>\n",
       "</table>\n",
       "</div>"
      ],
      "text/plain": [
       "                                              title          authors  \\\n",
       "id                                                                     \n",
       "3   Surfactant protein-D and pulmonary host defense  Crouch, Erika C   \n",
       "56                               CLINICAL VIGNETTES              NaN   \n",
       "58                               Clinical Vignettes              NaN   \n",
       "\n",
       "                                             abstract  \\\n",
       "id                                                      \n",
       "3   Surfactant protein-D (SP-D) participates in th...   \n",
       "56                                                NaN   \n",
       "58                                                NaN   \n",
       "\n",
       "                                     doi  \\\n",
       "id                                         \n",
       "3                           10.1186/rr19   \n",
       "56        10.1046/j.1525-1497.18.s1.20.x   \n",
       "58  10.1046/j.1525-1497.2001.0160s1023.x   \n",
       "\n",
       "                                                  url           journal  \\\n",
       "id                                                                        \n",
       "3   https://www.ncbi.nlm.nih.gov/pmc/articles/PMC5...        Respir Res   \n",
       "56  https://www.ncbi.nlm.nih.gov/pmc/articles/PMC1...  J Gen Intern Med   \n",
       "58  https://www.ncbi.nlm.nih.gov/pmc/articles/PMC1...  J Gen Intern Med   \n",
       "\n",
       "        pmc_id   pubmed_id publish_time  \n",
       "id                                       \n",
       "3     PMC59549  11667972.0   2000-08-25  \n",
       "56  PMC1494988  12753119.0   2003-04-01  \n",
       "58  PMC1495316  11357836.0   2001-04-01  "
      ]
     },
     "execution_count": 40,
     "metadata": {},
     "output_type": "execute_result"
    }
   ],
   "source": [
    "paper_data = pd.read_csv(\"../data/Glucose_risk_3000_paper_meta_data.csv\")\n",
    "paper_data = paper_data.set_index(\"id\")\n",
    "paper_data.head(3)"
   ]
  },
  {
   "cell_type": "markdown",
   "metadata": {},
   "source": [
    "We pass a callback for the lookup of paper meta-data to the visualization app using the `set_list_papers_callback` method."
   ]
  },
  {
   "cell_type": "code",
   "execution_count": 41,
   "metadata": {},
   "outputs": [],
   "source": [
    "def list_papers(paper_data, selected_papers, limit=200):\n",
    "    selected_paper_data = paper_data.loc[[int(p) for p in selected_papers]].head(200)\n",
    "    return selected_paper_data.to_dict(\"records\")\n",
    "\n",
    "visualization_app.set_list_papers_callback(lambda x: list_papers(paper_data, x))"
   ]
  },
  {
   "cell_type": "markdown",
   "metadata": {},
   "source": [
    "The ontology linking process described above is noisy, therefore, we would like to keep a possibility of accessing, the raw entities that were linked to particular ontology concepts. For this we define the function `get_aggregated_entities` that retreives such raw entities and we pass it to the visualization app using the `set_aggregated_entities_callback` method."
   ]
  },
  {
   "cell_type": "code",
   "execution_count": 42,
   "metadata": {},
   "outputs": [],
   "source": [
    "def top_n(data_dict, n, smallest=False):\n",
    "    \"\"\"Return top `n` keys of the input dictionary by their value.\"\"\"\n",
    "    df = pd.DataFrame(dict(data_dict).items(), columns=[\"id\", \"value\"])\n",
    "    if smallest:\n",
    "        df = df.nsmallest(n, columns=[\"value\"])\n",
    "    else:\n",
    "        df = df.nlargest(n, columns=[\"value\"])\n",
    "    return(list(df[\"id\"]))\n",
    "\n",
    "\n",
    "def get_aggregated_entities(entity, n):\n",
    "    if \"aggregated_entities\" in curated_occurrence_data.columns:\n",
    "        aggregated = curated_occurrence_data.loc[entity][\"aggregated_entities\"]\n",
    "    else:\n",
    "        aggregated = [entity]\n",
    "    if curation_input_table is not None:\n",
    "        df = curation_input_table.set_index(\"entity\")\n",
    "        if entity in curated_occurrence_data.index:\n",
    "            freqs = df.loc[aggregated][\"paper_frequency\"].to_dict()\n",
    "        else:\n",
    "            return {}\n",
    "    else:\n",
    "        df = data.copy()\n",
    "        df[\"entity\"] = data[\"entity\"].apply(lambda x: x.lower())\n",
    "        freqs = df[df[\"entity\"].apply(lambda x: x.lower() in aggregated)].groupby(\"entity\").aggregate(\n",
    "            lambda x: len(x))[\"entity_type\"].to_dict()\n",
    "    if len(freqs) == 0:\n",
    "        return {}\n",
    "    return {e: freqs[e] for e in top_n(freqs, n)}\n",
    "\n",
    "visualization_app.set_aggregated_entities_callback(\n",
    "    lambda x: get_aggregated_entities(x, 10))"
   ]
  },
  {
   "cell_type": "markdown",
   "metadata": {},
   "source": [
    "Finally, we create a dictionary `definitions` that will serve the visualization app as the lookup table for accessing the definitions of different ontology concepts."
   ]
  },
  {
   "cell_type": "code",
   "execution_count": 43,
   "metadata": {},
   "outputs": [],
   "source": [
    "definitions = ontology_linking[[\"concept\", \"definition\"]].groupby(\n",
    "    \"concept\").aggregate(lambda x: list(x)[0]).to_dict()[\"definition\"]\n",
    "visualization_app.set_entity_definitons(definitions)"
   ]
  },
  {
   "cell_type": "markdown",
   "metadata": {},
   "source": [
    "### Launching the visualization app"
   ]
  },
  {
   "cell_type": "markdown",
   "metadata": {},
   "source": [
    "As before, the interactive graph visualization app can be launched in two modes: inline and external. Here we recommend the external mode for better user experience."
   ]
  },
  {
   "cell_type": "code",
   "execution_count": 44,
   "metadata": {
    "scrolled": false
   },
   "outputs": [
    {
     "name": "stdout",
     "output_type": "stream",
     "text": [
      "Dash app running on http://127.0.0.1:8081/\n"
     ]
    }
   ],
   "source": [
    "visualization_app.run(port=8081, mode=\"external\")"
   ]
  }
 ],
 "metadata": {
  "kernelspec": {
   "display_name": "bbg",
   "language": "python",
   "name": "bbg"
  },
  "language_info": {
   "codemirror_mode": {
    "name": "ipython",
    "version": 3
   },
   "file_extension": ".py",
   "mimetype": "text/x-python",
   "name": "python",
   "nbconvert_exporter": "python",
   "pygments_lexer": "ipython3",
   "version": "3.8.6"
  }
 },
 "nbformat": 4,
 "nbformat_minor": 4
}
