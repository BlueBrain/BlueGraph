{
 "cells": [
  {
   "cell_type": "markdown",
   "metadata": {},
   "source": [
    "If you want to run this notebook in Google Colab, run the following cell. Otherwise follow [installation instructions](https://github.com/BlueBrain/BlueGraph/blob/master/README.rst#installation) to install BlueGraph and its dependencies locally."
   ]
  },
  {
   "cell_type": "code",
   "execution_count": 1,
   "metadata": {},
   "outputs": [
    {
     "name": "stdout",
     "output_type": "stream",
     "text": [
      "Cloning into 'BlueGraph'...\n",
      "remote: Enumerating objects: 2991, done.\u001b[K\n",
      "remote: Counting objects: 100% (751/751), done.\u001b[K\n",
      "remote: Compressing objects: 100% (424/424), done.\u001b[K\n",
      "remote: Total 2991 (delta 439), reused 524 (delta 305), pack-reused 2240\u001b[K\n",
      "Receiving objects: 100% (2991/2991), 231.79 MiB | 10.29 MiB/s, done.\n",
      "Resolving deltas: 100% (1741/1741), done.\n",
      "Processing /Users/oshurko/Workspace/BlueBrainGraph/cord19kg/examples/notebooks/BlueGraph\n",
      "\u001b[33m  DEPRECATION: A future pip version will change local packages to be built in-place without first copying to a temporary directory. We recommend you use --use-feature=in-tree-build to test your packages with this new behavior before it becomes the default.\n",
      "   pip 21.3 will remove support for this functionality. You can find discussion regarding this at https://github.com/pypa/pip/issues/7555.\u001b[0m\n",
      "Requirement already satisfied: numpy>=1.20.1 in /Users/oshurko/opt/anaconda3/envs/test_faiss/lib/python3.7/site-packages (from bluegraph==0.1.3.dev5+g3bb2e75) (1.21.1)\n",
      "Requirement already satisfied: pandas in /Users/oshurko/opt/anaconda3/envs/test_faiss/lib/python3.7/site-packages (from bluegraph==0.1.3.dev5+g3bb2e75) (1.3.1)\n",
      "Requirement already satisfied: sklearn in /Users/oshurko/opt/anaconda3/envs/test_faiss/lib/python3.7/site-packages (from bluegraph==0.1.3.dev5+g3bb2e75) (0.0)\n",
      "Requirement already satisfied: scipy in /Users/oshurko/opt/anaconda3/envs/test_faiss/lib/python3.7/site-packages (from bluegraph==0.1.3.dev5+g3bb2e75) (1.4.1)\n",
      "Requirement already satisfied: matplotlib in /Users/oshurko/opt/anaconda3/envs/test_faiss/lib/python3.7/site-packages (from bluegraph==0.1.3.dev5+g3bb2e75) (3.4.2)\n",
      "Requirement already satisfied: nltk in /Users/oshurko/opt/anaconda3/envs/test_faiss/lib/python3.7/site-packages (from bluegraph==0.1.3.dev5+g3bb2e75) (3.6.2)\n",
      "Requirement already satisfied: nexusforge in /Users/oshurko/opt/anaconda3/envs/test_faiss/lib/python3.7/site-packages (from bluegraph==0.1.3.dev5+g3bb2e75) (0.6.1)\n",
      "Requirement already satisfied: gensim==3.8.3 in /Users/oshurko/opt/anaconda3/envs/test_faiss/lib/python3.7/site-packages (from bluegraph==0.1.3.dev5+g3bb2e75) (3.8.3)\n",
      "Requirement already satisfied: tensorflow in /Users/oshurko/opt/anaconda3/envs/test_faiss/lib/python3.7/site-packages (from bluegraph==0.1.3.dev5+g3bb2e75) (2.2.0)\n",
      "Requirement already satisfied: networkx>=2 in /Users/oshurko/opt/anaconda3/envs/test_faiss/lib/python3.7/site-packages (from bluegraph==0.1.3.dev5+g3bb2e75) (2.6.2)\n",
      "Requirement already satisfied: python-louvain in /Users/oshurko/opt/anaconda3/envs/test_faiss/lib/python3.7/site-packages (from bluegraph==0.1.3.dev5+g3bb2e75) (0.15)\n",
      "Requirement already satisfied: jupyter_dash in /Users/oshurko/opt/anaconda3/envs/test_faiss/lib/python3.7/site-packages (from bluegraph==0.1.3.dev5+g3bb2e75) (0.4.0)\n",
      "Requirement already satisfied: dash_bootstrap_components in /Users/oshurko/opt/anaconda3/envs/test_faiss/lib/python3.7/site-packages (from bluegraph==0.1.3.dev5+g3bb2e75) (0.12.2)\n",
      "Requirement already satisfied: dash_daq in /Users/oshurko/opt/anaconda3/envs/test_faiss/lib/python3.7/site-packages (from bluegraph==0.1.3.dev5+g3bb2e75) (0.5.0)\n",
      "Requirement already satisfied: dash_extensions in /Users/oshurko/opt/anaconda3/envs/test_faiss/lib/python3.7/site-packages (from bluegraph==0.1.3.dev5+g3bb2e75) (0.0.58)\n",
      "Requirement already satisfied: dash_cytoscape in /Users/oshurko/opt/anaconda3/envs/test_faiss/lib/python3.7/site-packages (from bluegraph==0.1.3.dev5+g3bb2e75) (0.3.0)\n",
      "Requirement already satisfied: nexus-sdk in /Users/oshurko/opt/anaconda3/envs/test_faiss/lib/python3.7/site-packages (from bluegraph==0.1.3.dev5+g3bb2e75) (0.3.2)\n",
      "Requirement already satisfied: pyjwt==1.7.1 in /Users/oshurko/opt/anaconda3/envs/test_faiss/lib/python3.7/site-packages (from bluegraph==0.1.3.dev5+g3bb2e75) (1.7.1)\n",
      "Requirement already satisfied: ipywidgets in /Users/oshurko/opt/anaconda3/envs/test_faiss/lib/python3.7/site-packages (from bluegraph==0.1.3.dev5+g3bb2e75) (7.6.3)\n",
      "Requirement already satisfied: six>=1.5.0 in /Users/oshurko/opt/anaconda3/envs/test_faiss/lib/python3.7/site-packages (from gensim==3.8.3->bluegraph==0.1.3.dev5+g3bb2e75) (1.16.0)\n",
      "Requirement already satisfied: smart-open>=1.8.1 in /Users/oshurko/opt/anaconda3/envs/test_faiss/lib/python3.7/site-packages (from gensim==3.8.3->bluegraph==0.1.3.dev5+g3bb2e75) (5.1.0)\n",
      "Requirement already satisfied: dash>=1.9.0 in /Users/oshurko/opt/anaconda3/envs/test_faiss/lib/python3.7/site-packages (from dash_bootstrap_components->bluegraph==0.1.3.dev5+g3bb2e75) (1.21.0)\n",
      "Requirement already satisfied: future in /Users/oshurko/opt/anaconda3/envs/test_faiss/lib/python3.7/site-packages (from dash>=1.9.0->dash_bootstrap_components->bluegraph==0.1.3.dev5+g3bb2e75) (0.18.2)\n",
      "Requirement already satisfied: dash-core-components==1.17.1 in /Users/oshurko/opt/anaconda3/envs/test_faiss/lib/python3.7/site-packages (from dash>=1.9.0->dash_bootstrap_components->bluegraph==0.1.3.dev5+g3bb2e75) (1.17.1)\n",
      "Requirement already satisfied: plotly in /Users/oshurko/opt/anaconda3/envs/test_faiss/lib/python3.7/site-packages (from dash>=1.9.0->dash_bootstrap_components->bluegraph==0.1.3.dev5+g3bb2e75) (5.1.0)\n",
      "Requirement already satisfied: dash-table==4.12.0 in /Users/oshurko/opt/anaconda3/envs/test_faiss/lib/python3.7/site-packages (from dash>=1.9.0->dash_bootstrap_components->bluegraph==0.1.3.dev5+g3bb2e75) (4.12.0)\n",
      "Requirement already satisfied: Flask>=1.0.4 in /Users/oshurko/opt/anaconda3/envs/test_faiss/lib/python3.7/site-packages (from dash>=1.9.0->dash_bootstrap_components->bluegraph==0.1.3.dev5+g3bb2e75) (2.0.1)\n",
      "Requirement already satisfied: dash-html-components==1.1.4 in /Users/oshurko/opt/anaconda3/envs/test_faiss/lib/python3.7/site-packages (from dash>=1.9.0->dash_bootstrap_components->bluegraph==0.1.3.dev5+g3bb2e75) (1.1.4)\n",
      "Requirement already satisfied: flask-compress in /Users/oshurko/opt/anaconda3/envs/test_faiss/lib/python3.7/site-packages (from dash>=1.9.0->dash_bootstrap_components->bluegraph==0.1.3.dev5+g3bb2e75) (1.10.1)\n",
      "Requirement already satisfied: click>=7.1.2 in /Users/oshurko/opt/anaconda3/envs/test_faiss/lib/python3.7/site-packages (from Flask>=1.0.4->dash>=1.9.0->dash_bootstrap_components->bluegraph==0.1.3.dev5+g3bb2e75) (8.0.1)\n",
      "Requirement already satisfied: itsdangerous>=2.0 in /Users/oshurko/opt/anaconda3/envs/test_faiss/lib/python3.7/site-packages (from Flask>=1.0.4->dash>=1.9.0->dash_bootstrap_components->bluegraph==0.1.3.dev5+g3bb2e75) (2.0.1)\n",
      "Requirement already satisfied: Werkzeug>=2.0 in /Users/oshurko/opt/anaconda3/envs/test_faiss/lib/python3.7/site-packages (from Flask>=1.0.4->dash>=1.9.0->dash_bootstrap_components->bluegraph==0.1.3.dev5+g3bb2e75) (2.0.1)\n",
      "Requirement already satisfied: Jinja2>=3.0 in /Users/oshurko/opt/anaconda3/envs/test_faiss/lib/python3.7/site-packages (from Flask>=1.0.4->dash>=1.9.0->dash_bootstrap_components->bluegraph==0.1.3.dev5+g3bb2e75) (3.0.1)\n",
      "Requirement already satisfied: importlib-metadata in /Users/oshurko/opt/anaconda3/envs/test_faiss/lib/python3.7/site-packages (from click>=7.1.2->Flask>=1.0.4->dash>=1.9.0->dash_bootstrap_components->bluegraph==0.1.3.dev5+g3bb2e75) (3.10.1)\n",
      "Requirement already satisfied: MarkupSafe>=2.0 in /Users/oshurko/opt/anaconda3/envs/test_faiss/lib/python3.7/site-packages (from Jinja2>=3.0->Flask>=1.0.4->dash>=1.9.0->dash_bootstrap_components->bluegraph==0.1.3.dev5+g3bb2e75) (2.0.1)\n",
      "Requirement already satisfied: more-itertools in /Users/oshurko/opt/anaconda3/envs/test_faiss/lib/python3.7/site-packages (from dash_extensions->bluegraph==0.1.3.dev5+g3bb2e75) (8.8.0)\n",
      "Requirement already satisfied: Flask-Caching in /Users/oshurko/opt/anaconda3/envs/test_faiss/lib/python3.7/site-packages (from dash_extensions->bluegraph==0.1.3.dev5+g3bb2e75) (1.10.1)\n",
      "Requirement already satisfied: brotli in /Users/oshurko/opt/anaconda3/envs/test_faiss/lib/python3.7/site-packages (from flask-compress->dash>=1.9.0->dash_bootstrap_components->bluegraph==0.1.3.dev5+g3bb2e75) (1.0.9)\n",
      "Requirement already satisfied: zipp>=0.5 in /Users/oshurko/opt/anaconda3/envs/test_faiss/lib/python3.7/site-packages (from importlib-metadata->click>=7.1.2->Flask>=1.0.4->dash>=1.9.0->dash_bootstrap_components->bluegraph==0.1.3.dev5+g3bb2e75) (3.5.0)\n",
      "Requirement already satisfied: typing-extensions>=3.6.4 in /Users/oshurko/opt/anaconda3/envs/test_faiss/lib/python3.7/site-packages (from importlib-metadata->click>=7.1.2->Flask>=1.0.4->dash>=1.9.0->dash_bootstrap_components->bluegraph==0.1.3.dev5+g3bb2e75) (3.10.0.0)\n",
      "Requirement already satisfied: traitlets>=4.3.1 in /Users/oshurko/opt/anaconda3/envs/test_faiss/lib/python3.7/site-packages (from ipywidgets->bluegraph==0.1.3.dev5+g3bb2e75) (5.0.5)\n",
      "Requirement already satisfied: nbformat>=4.2.0 in /Users/oshurko/opt/anaconda3/envs/test_faiss/lib/python3.7/site-packages (from ipywidgets->bluegraph==0.1.3.dev5+g3bb2e75) (5.1.3)\n",
      "Requirement already satisfied: ipykernel>=4.5.1 in /Users/oshurko/opt/anaconda3/envs/test_faiss/lib/python3.7/site-packages (from ipywidgets->bluegraph==0.1.3.dev5+g3bb2e75) (6.0.3)\n",
      "Requirement already satisfied: jupyterlab-widgets>=1.0.0 in /Users/oshurko/opt/anaconda3/envs/test_faiss/lib/python3.7/site-packages (from ipywidgets->bluegraph==0.1.3.dev5+g3bb2e75) (1.0.0)\n",
      "Requirement already satisfied: widgetsnbextension~=3.5.0 in /Users/oshurko/opt/anaconda3/envs/test_faiss/lib/python3.7/site-packages (from ipywidgets->bluegraph==0.1.3.dev5+g3bb2e75) (3.5.1)\n",
      "Requirement already satisfied: ipython>=4.0.0 in /Users/oshurko/opt/anaconda3/envs/test_faiss/lib/python3.7/site-packages (from ipywidgets->bluegraph==0.1.3.dev5+g3bb2e75) (7.25.0)\n"
     ]
    },
    {
     "name": "stdout",
     "output_type": "stream",
     "text": [
      "Requirement already satisfied: appnope in /Users/oshurko/opt/anaconda3/envs/test_faiss/lib/python3.7/site-packages (from ipykernel>=4.5.1->ipywidgets->bluegraph==0.1.3.dev5+g3bb2e75) (0.1.2)\n",
      "Requirement already satisfied: matplotlib-inline<0.2.0,>=0.1.0 in /Users/oshurko/opt/anaconda3/envs/test_faiss/lib/python3.7/site-packages (from ipykernel>=4.5.1->ipywidgets->bluegraph==0.1.3.dev5+g3bb2e75) (0.1.2)\n",
      "Requirement already satisfied: tornado<7.0,>=4.2 in /Users/oshurko/opt/anaconda3/envs/test_faiss/lib/python3.7/site-packages (from ipykernel>=4.5.1->ipywidgets->bluegraph==0.1.3.dev5+g3bb2e75) (6.1)\n",
      "Requirement already satisfied: jupyter-client<7.0 in /Users/oshurko/opt/anaconda3/envs/test_faiss/lib/python3.7/site-packages (from ipykernel>=4.5.1->ipywidgets->bluegraph==0.1.3.dev5+g3bb2e75) (6.1.12)\n",
      "Requirement already satisfied: debugpy<2.0,>=1.0.0 in /Users/oshurko/opt/anaconda3/envs/test_faiss/lib/python3.7/site-packages (from ipykernel>=4.5.1->ipywidgets->bluegraph==0.1.3.dev5+g3bb2e75) (1.4.1)\n",
      "Requirement already satisfied: pickleshare in /Users/oshurko/opt/anaconda3/envs/test_faiss/lib/python3.7/site-packages (from ipython>=4.0.0->ipywidgets->bluegraph==0.1.3.dev5+g3bb2e75) (0.7.5)\n",
      "Requirement already satisfied: prompt-toolkit!=3.0.0,!=3.0.1,<3.1.0,>=2.0.0 in /Users/oshurko/opt/anaconda3/envs/test_faiss/lib/python3.7/site-packages (from ipython>=4.0.0->ipywidgets->bluegraph==0.1.3.dev5+g3bb2e75) (3.0.19)\n",
      "Requirement already satisfied: pygments in /Users/oshurko/opt/anaconda3/envs/test_faiss/lib/python3.7/site-packages (from ipython>=4.0.0->ipywidgets->bluegraph==0.1.3.dev5+g3bb2e75) (2.9.0)\n",
      "Requirement already satisfied: backcall in /Users/oshurko/opt/anaconda3/envs/test_faiss/lib/python3.7/site-packages (from ipython>=4.0.0->ipywidgets->bluegraph==0.1.3.dev5+g3bb2e75) (0.2.0)\n",
      "Requirement already satisfied: pexpect>4.3 in /Users/oshurko/opt/anaconda3/envs/test_faiss/lib/python3.7/site-packages (from ipython>=4.0.0->ipywidgets->bluegraph==0.1.3.dev5+g3bb2e75) (4.8.0)\n",
      "Requirement already satisfied: setuptools>=18.5 in /Users/oshurko/opt/anaconda3/envs/test_faiss/lib/python3.7/site-packages (from ipython>=4.0.0->ipywidgets->bluegraph==0.1.3.dev5+g3bb2e75) (49.6.0.post20210108)\n",
      "Requirement already satisfied: jedi>=0.16 in /Users/oshurko/opt/anaconda3/envs/test_faiss/lib/python3.7/site-packages (from ipython>=4.0.0->ipywidgets->bluegraph==0.1.3.dev5+g3bb2e75) (0.18.0)\n",
      "Requirement already satisfied: decorator in /Users/oshurko/opt/anaconda3/envs/test_faiss/lib/python3.7/site-packages (from ipython>=4.0.0->ipywidgets->bluegraph==0.1.3.dev5+g3bb2e75) (5.0.9)\n",
      "Requirement already satisfied: parso<0.9.0,>=0.8.0 in /Users/oshurko/opt/anaconda3/envs/test_faiss/lib/python3.7/site-packages (from jedi>=0.16->ipython>=4.0.0->ipywidgets->bluegraph==0.1.3.dev5+g3bb2e75) (0.8.2)\n",
      "Requirement already satisfied: pyzmq>=13 in /Users/oshurko/opt/anaconda3/envs/test_faiss/lib/python3.7/site-packages (from jupyter-client<7.0->ipykernel>=4.5.1->ipywidgets->bluegraph==0.1.3.dev5+g3bb2e75) (22.1.0)\n",
      "Requirement already satisfied: python-dateutil>=2.1 in /Users/oshurko/opt/anaconda3/envs/test_faiss/lib/python3.7/site-packages (from jupyter-client<7.0->ipykernel>=4.5.1->ipywidgets->bluegraph==0.1.3.dev5+g3bb2e75) (2.8.2)\n",
      "Requirement already satisfied: jupyter-core>=4.6.0 in /Users/oshurko/opt/anaconda3/envs/test_faiss/lib/python3.7/site-packages (from jupyter-client<7.0->ipykernel>=4.5.1->ipywidgets->bluegraph==0.1.3.dev5+g3bb2e75) (4.7.1)\n",
      "Requirement already satisfied: jsonschema!=2.5.0,>=2.4 in /Users/oshurko/opt/anaconda3/envs/test_faiss/lib/python3.7/site-packages (from nbformat>=4.2.0->ipywidgets->bluegraph==0.1.3.dev5+g3bb2e75) (3.2.0)\n",
      "Requirement already satisfied: ipython-genutils in /Users/oshurko/opt/anaconda3/envs/test_faiss/lib/python3.7/site-packages (from nbformat>=4.2.0->ipywidgets->bluegraph==0.1.3.dev5+g3bb2e75) (0.2.0)\n",
      "Requirement already satisfied: attrs>=17.4.0 in /Users/oshurko/opt/anaconda3/envs/test_faiss/lib/python3.7/site-packages (from jsonschema!=2.5.0,>=2.4->nbformat>=4.2.0->ipywidgets->bluegraph==0.1.3.dev5+g3bb2e75) (21.2.0)\n",
      "Requirement already satisfied: pyrsistent>=0.14.0 in /Users/oshurko/opt/anaconda3/envs/test_faiss/lib/python3.7/site-packages (from jsonschema!=2.5.0,>=2.4->nbformat>=4.2.0->ipywidgets->bluegraph==0.1.3.dev5+g3bb2e75) (0.18.0)\n",
      "Requirement already satisfied: ptyprocess>=0.5 in /Users/oshurko/opt/anaconda3/envs/test_faiss/lib/python3.7/site-packages (from pexpect>4.3->ipython>=4.0.0->ipywidgets->bluegraph==0.1.3.dev5+g3bb2e75) (0.7.0)\n",
      "Requirement already satisfied: wcwidth in /Users/oshurko/opt/anaconda3/envs/test_faiss/lib/python3.7/site-packages (from prompt-toolkit!=3.0.0,!=3.0.1,<3.1.0,>=2.0.0->ipython>=4.0.0->ipywidgets->bluegraph==0.1.3.dev5+g3bb2e75) (0.2.5)\n",
      "Requirement already satisfied: notebook>=4.4.1 in /Users/oshurko/opt/anaconda3/envs/test_faiss/lib/python3.7/site-packages (from widgetsnbextension~=3.5.0->ipywidgets->bluegraph==0.1.3.dev5+g3bb2e75) (6.4.0)\n",
      "Requirement already satisfied: argon2-cffi in /Users/oshurko/opt/anaconda3/envs/test_faiss/lib/python3.7/site-packages (from notebook>=4.4.1->widgetsnbextension~=3.5.0->ipywidgets->bluegraph==0.1.3.dev5+g3bb2e75) (20.1.0)\n",
      "Requirement already satisfied: nbconvert in /Users/oshurko/opt/anaconda3/envs/test_faiss/lib/python3.7/site-packages (from notebook>=4.4.1->widgetsnbextension~=3.5.0->ipywidgets->bluegraph==0.1.3.dev5+g3bb2e75) (6.1.0)\n",
      "Requirement already satisfied: Send2Trash>=1.5.0 in /Users/oshurko/opt/anaconda3/envs/test_faiss/lib/python3.7/site-packages (from notebook>=4.4.1->widgetsnbextension~=3.5.0->ipywidgets->bluegraph==0.1.3.dev5+g3bb2e75) (1.7.1)\n",
      "Requirement already satisfied: terminado>=0.8.3 in /Users/oshurko/opt/anaconda3/envs/test_faiss/lib/python3.7/site-packages (from notebook>=4.4.1->widgetsnbextension~=3.5.0->ipywidgets->bluegraph==0.1.3.dev5+g3bb2e75) (0.10.1)\n",
      "Requirement already satisfied: prometheus-client in /Users/oshurko/opt/anaconda3/envs/test_faiss/lib/python3.7/site-packages (from notebook>=4.4.1->widgetsnbextension~=3.5.0->ipywidgets->bluegraph==0.1.3.dev5+g3bb2e75) (0.11.0)\n",
      "Requirement already satisfied: cffi>=1.0.0 in /Users/oshurko/opt/anaconda3/envs/test_faiss/lib/python3.7/site-packages (from argon2-cffi->notebook>=4.4.1->widgetsnbextension~=3.5.0->ipywidgets->bluegraph==0.1.3.dev5+g3bb2e75) (1.14.6)\n",
      "Requirement already satisfied: pycparser in /Users/oshurko/opt/anaconda3/envs/test_faiss/lib/python3.7/site-packages (from cffi>=1.0.0->argon2-cffi->notebook>=4.4.1->widgetsnbextension~=3.5.0->ipywidgets->bluegraph==0.1.3.dev5+g3bb2e75) (2.20)\n",
      "Requirement already satisfied: requests in /Users/oshurko/opt/anaconda3/envs/test_faiss/lib/python3.7/site-packages (from jupyter_dash->bluegraph==0.1.3.dev5+g3bb2e75) (2.26.0)\n",
      "Requirement already satisfied: retrying in /Users/oshurko/opt/anaconda3/envs/test_faiss/lib/python3.7/site-packages (from jupyter_dash->bluegraph==0.1.3.dev5+g3bb2e75) (1.3.3)\n",
      "Requirement already satisfied: ansi2html in /Users/oshurko/opt/anaconda3/envs/test_faiss/lib/python3.7/site-packages (from jupyter_dash->bluegraph==0.1.3.dev5+g3bb2e75) (1.6.0)\n",
      "Requirement already satisfied: cycler>=0.10 in /Users/oshurko/opt/anaconda3/envs/test_faiss/lib/python3.7/site-packages (from matplotlib->bluegraph==0.1.3.dev5+g3bb2e75) (0.10.0)\n",
      "Requirement already satisfied: pyparsing>=2.2.1 in /Users/oshurko/opt/anaconda3/envs/test_faiss/lib/python3.7/site-packages (from matplotlib->bluegraph==0.1.3.dev5+g3bb2e75) (2.4.7)\n",
      "Requirement already satisfied: pillow>=6.2.0 in /Users/oshurko/opt/anaconda3/envs/test_faiss/lib/python3.7/site-packages (from matplotlib->bluegraph==0.1.3.dev5+g3bb2e75) (8.3.1)\n",
      "Requirement already satisfied: kiwisolver>=1.0.1 in /Users/oshurko/opt/anaconda3/envs/test_faiss/lib/python3.7/site-packages (from matplotlib->bluegraph==0.1.3.dev5+g3bb2e75) (1.3.1)\n",
      "Requirement already satisfied: testpath in /Users/oshurko/opt/anaconda3/envs/test_faiss/lib/python3.7/site-packages (from nbconvert->notebook>=4.4.1->widgetsnbextension~=3.5.0->ipywidgets->bluegraph==0.1.3.dev5+g3bb2e75) (0.5.0)\n",
      "Requirement already satisfied: jupyterlab-pygments in /Users/oshurko/opt/anaconda3/envs/test_faiss/lib/python3.7/site-packages (from nbconvert->notebook>=4.4.1->widgetsnbextension~=3.5.0->ipywidgets->bluegraph==0.1.3.dev5+g3bb2e75) (0.1.2)\n",
      "Requirement already satisfied: bleach in /Users/oshurko/opt/anaconda3/envs/test_faiss/lib/python3.7/site-packages (from nbconvert->notebook>=4.4.1->widgetsnbextension~=3.5.0->ipywidgets->bluegraph==0.1.3.dev5+g3bb2e75) (3.3.1)\n",
      "Requirement already satisfied: mistune<2,>=0.8.1 in /Users/oshurko/opt/anaconda3/envs/test_faiss/lib/python3.7/site-packages (from nbconvert->notebook>=4.4.1->widgetsnbextension~=3.5.0->ipywidgets->bluegraph==0.1.3.dev5+g3bb2e75) (0.8.4)\n",
      "Requirement already satisfied: pandocfilters>=1.4.1 in /Users/oshurko/opt/anaconda3/envs/test_faiss/lib/python3.7/site-packages (from nbconvert->notebook>=4.4.1->widgetsnbextension~=3.5.0->ipywidgets->bluegraph==0.1.3.dev5+g3bb2e75) (1.4.3)\n",
      "Requirement already satisfied: defusedxml in /Users/oshurko/opt/anaconda3/envs/test_faiss/lib/python3.7/site-packages (from nbconvert->notebook>=4.4.1->widgetsnbextension~=3.5.0->ipywidgets->bluegraph==0.1.3.dev5+g3bb2e75) (0.7.1)\n",
      "Requirement already satisfied: nbclient<0.6.0,>=0.5.0 in /Users/oshurko/opt/anaconda3/envs/test_faiss/lib/python3.7/site-packages (from nbconvert->notebook>=4.4.1->widgetsnbextension~=3.5.0->ipywidgets->bluegraph==0.1.3.dev5+g3bb2e75) (0.5.3)\n",
      "Requirement already satisfied: entrypoints>=0.2.2 in /Users/oshurko/opt/anaconda3/envs/test_faiss/lib/python3.7/site-packages (from nbconvert->notebook>=4.4.1->widgetsnbextension~=3.5.0->ipywidgets->bluegraph==0.1.3.dev5+g3bb2e75) (0.3)\n"
     ]
    },
    {
     "name": "stdout",
     "output_type": "stream",
     "text": [
      "Requirement already satisfied: nest-asyncio in /Users/oshurko/opt/anaconda3/envs/test_faiss/lib/python3.7/site-packages (from nbclient<0.6.0,>=0.5.0->nbconvert->notebook>=4.4.1->widgetsnbextension~=3.5.0->ipywidgets->bluegraph==0.1.3.dev5+g3bb2e75) (1.5.1)\n",
      "Requirement already satisfied: async-generator in /Users/oshurko/opt/anaconda3/envs/test_faiss/lib/python3.7/site-packages (from nbclient<0.6.0,>=0.5.0->nbconvert->notebook>=4.4.1->widgetsnbextension~=3.5.0->ipywidgets->bluegraph==0.1.3.dev5+g3bb2e75) (1.10)\n",
      "Requirement already satisfied: webencodings in /Users/oshurko/opt/anaconda3/envs/test_faiss/lib/python3.7/site-packages (from bleach->nbconvert->notebook>=4.4.1->widgetsnbextension~=3.5.0->ipywidgets->bluegraph==0.1.3.dev5+g3bb2e75) (0.5.1)\n",
      "Requirement already satisfied: packaging in /Users/oshurko/opt/anaconda3/envs/test_faiss/lib/python3.7/site-packages (from bleach->nbconvert->notebook>=4.4.1->widgetsnbextension~=3.5.0->ipywidgets->bluegraph==0.1.3.dev5+g3bb2e75) (21.0)\n",
      "Requirement already satisfied: sseclient in /Users/oshurko/opt/anaconda3/envs/test_faiss/lib/python3.7/site-packages (from nexus-sdk->bluegraph==0.1.3.dev5+g3bb2e75) (0.0.27)\n",
      "Requirement already satisfied: puremagic in /Users/oshurko/opt/anaconda3/envs/test_faiss/lib/python3.7/site-packages (from nexus-sdk->bluegraph==0.1.3.dev5+g3bb2e75) (1.10)\n",
      "Requirement already satisfied: rdflib-jsonld in /Users/oshurko/opt/anaconda3/envs/test_faiss/lib/python3.7/site-packages (from nexusforge->bluegraph==0.1.3.dev5+g3bb2e75) (0.5.0)\n",
      "Requirement already satisfied: pyshacl==0.11.6.post1 in /Users/oshurko/opt/anaconda3/envs/test_faiss/lib/python3.7/site-packages (from nexusforge->bluegraph==0.1.3.dev5+g3bb2e75) (0.11.6.post1)\n",
      "Requirement already satisfied: pyyaml in /Users/oshurko/opt/anaconda3/envs/test_faiss/lib/python3.7/site-packages (from nexusforge->bluegraph==0.1.3.dev5+g3bb2e75) (5.4.1)\n",
      "Requirement already satisfied: hjson in /Users/oshurko/opt/anaconda3/envs/test_faiss/lib/python3.7/site-packages (from nexusforge->bluegraph==0.1.3.dev5+g3bb2e75) (3.0.2)\n",
      "Requirement already satisfied: pyLD in /Users/oshurko/opt/anaconda3/envs/test_faiss/lib/python3.7/site-packages (from nexusforge->bluegraph==0.1.3.dev5+g3bb2e75) (2.0.3)\n",
      "Requirement already satisfied: aiohttp in /Users/oshurko/opt/anaconda3/envs/test_faiss/lib/python3.7/site-packages (from nexusforge->bluegraph==0.1.3.dev5+g3bb2e75) (3.7.4.post0)\n",
      "Requirement already satisfied: rdflib<6.0.0,>=4.2.2 in /Users/oshurko/opt/anaconda3/envs/test_faiss/lib/python3.7/site-packages (from pyshacl==0.11.6.post1->nexusforge->bluegraph==0.1.3.dev5+g3bb2e75) (5.0.0)\n",
      "Requirement already satisfied: owlrl>=5.2.1 in /Users/oshurko/opt/anaconda3/envs/test_faiss/lib/python3.7/site-packages (from pyshacl==0.11.6.post1->nexusforge->bluegraph==0.1.3.dev5+g3bb2e75) (5.2.1)\n",
      "Requirement already satisfied: isodate in /Users/oshurko/opt/anaconda3/envs/test_faiss/lib/python3.7/site-packages (from rdflib<6.0.0,>=4.2.2->pyshacl==0.11.6.post1->nexusforge->bluegraph==0.1.3.dev5+g3bb2e75) (0.6.0)\n",
      "Requirement already satisfied: async-timeout<4.0,>=3.0 in /Users/oshurko/opt/anaconda3/envs/test_faiss/lib/python3.7/site-packages (from aiohttp->nexusforge->bluegraph==0.1.3.dev5+g3bb2e75) (3.0.1)\n",
      "Requirement already satisfied: chardet<5.0,>=2.0 in /Users/oshurko/opt/anaconda3/envs/test_faiss/lib/python3.7/site-packages (from aiohttp->nexusforge->bluegraph==0.1.3.dev5+g3bb2e75) (4.0.0)\n",
      "Requirement already satisfied: yarl<2.0,>=1.0 in /Users/oshurko/opt/anaconda3/envs/test_faiss/lib/python3.7/site-packages (from aiohttp->nexusforge->bluegraph==0.1.3.dev5+g3bb2e75) (1.6.3)\n",
      "Requirement already satisfied: multidict<7.0,>=4.5 in /Users/oshurko/opt/anaconda3/envs/test_faiss/lib/python3.7/site-packages (from aiohttp->nexusforge->bluegraph==0.1.3.dev5+g3bb2e75) (5.1.0)\n",
      "Requirement already satisfied: idna>=2.0 in /Users/oshurko/opt/anaconda3/envs/test_faiss/lib/python3.7/site-packages (from yarl<2.0,>=1.0->aiohttp->nexusforge->bluegraph==0.1.3.dev5+g3bb2e75) (3.2)\n",
      "Requirement already satisfied: joblib in /Users/oshurko/opt/anaconda3/envs/test_faiss/lib/python3.7/site-packages (from nltk->bluegraph==0.1.3.dev5+g3bb2e75) (1.0.1)\n",
      "Requirement already satisfied: tqdm in /Users/oshurko/opt/anaconda3/envs/test_faiss/lib/python3.7/site-packages (from nltk->bluegraph==0.1.3.dev5+g3bb2e75) (4.61.2)\n",
      "Requirement already satisfied: regex in /Users/oshurko/opt/anaconda3/envs/test_faiss/lib/python3.7/site-packages (from nltk->bluegraph==0.1.3.dev5+g3bb2e75) (2021.7.6)\n",
      "Requirement already satisfied: pytz>=2017.3 in /Users/oshurko/opt/anaconda3/envs/test_faiss/lib/python3.7/site-packages (from pandas->bluegraph==0.1.3.dev5+g3bb2e75) (2021.1)\n",
      "Requirement already satisfied: tenacity>=6.2.0 in /Users/oshurko/opt/anaconda3/envs/test_faiss/lib/python3.7/site-packages (from plotly->dash>=1.9.0->dash_bootstrap_components->bluegraph==0.1.3.dev5+g3bb2e75) (8.0.1)\n",
      "Collecting argparse\n",
      "  Using cached argparse-1.4.0-py2.py3-none-any.whl (23 kB)\n",
      "Requirement already satisfied: cachetools in /Users/oshurko/opt/anaconda3/envs/test_faiss/lib/python3.7/site-packages (from pyLD->nexusforge->bluegraph==0.1.3.dev5+g3bb2e75) (4.2.2)\n",
      "Requirement already satisfied: frozendict in /Users/oshurko/opt/anaconda3/envs/test_faiss/lib/python3.7/site-packages (from pyLD->nexusforge->bluegraph==0.1.3.dev5+g3bb2e75) (2.0.3)\n",
      "Requirement already satisfied: lxml in /Users/oshurko/opt/anaconda3/envs/test_faiss/lib/python3.7/site-packages (from pyLD->nexusforge->bluegraph==0.1.3.dev5+g3bb2e75) (4.6.3)\n",
      "Requirement already satisfied: urllib3<1.27,>=1.21.1 in /Users/oshurko/opt/anaconda3/envs/test_faiss/lib/python3.7/site-packages (from requests->jupyter_dash->bluegraph==0.1.3.dev5+g3bb2e75) (1.26.6)\n",
      "Requirement already satisfied: certifi>=2017.4.17 in /Users/oshurko/opt/anaconda3/envs/test_faiss/lib/python3.7/site-packages (from requests->jupyter_dash->bluegraph==0.1.3.dev5+g3bb2e75) (2021.5.30)\n",
      "Requirement already satisfied: charset-normalizer~=2.0.0 in /Users/oshurko/opt/anaconda3/envs/test_faiss/lib/python3.7/site-packages (from requests->jupyter_dash->bluegraph==0.1.3.dev5+g3bb2e75) (2.0.3)\n",
      "Requirement already satisfied: scikit-learn in /Users/oshurko/opt/anaconda3/envs/test_faiss/lib/python3.7/site-packages (from sklearn->bluegraph==0.1.3.dev5+g3bb2e75) (0.24.2)\n",
      "Requirement already satisfied: threadpoolctl>=2.0.0 in /Users/oshurko/opt/anaconda3/envs/test_faiss/lib/python3.7/site-packages (from scikit-learn->sklearn->bluegraph==0.1.3.dev5+g3bb2e75) (2.2.0)\n",
      "Requirement already satisfied: gast==0.3.3 in /Users/oshurko/opt/anaconda3/envs/test_faiss/lib/python3.7/site-packages (from tensorflow->bluegraph==0.1.3.dev5+g3bb2e75) (0.3.3)\n",
      "Requirement already satisfied: astunparse==1.6.3 in /Users/oshurko/opt/anaconda3/envs/test_faiss/lib/python3.7/site-packages (from tensorflow->bluegraph==0.1.3.dev5+g3bb2e75) (1.6.3)\n",
      "Requirement already satisfied: keras-preprocessing>=1.1.0 in /Users/oshurko/opt/anaconda3/envs/test_faiss/lib/python3.7/site-packages (from tensorflow->bluegraph==0.1.3.dev5+g3bb2e75) (1.1.2)\n",
      "Requirement already satisfied: wheel>=0.26 in /Users/oshurko/opt/anaconda3/envs/test_faiss/lib/python3.7/site-packages (from tensorflow->bluegraph==0.1.3.dev5+g3bb2e75) (0.36.2)\n",
      "Requirement already satisfied: absl-py>=0.7.0 in /Users/oshurko/opt/anaconda3/envs/test_faiss/lib/python3.7/site-packages (from tensorflow->bluegraph==0.1.3.dev5+g3bb2e75) (0.13.0)\n",
      "Requirement already satisfied: wrapt>=1.11.1 in /Users/oshurko/opt/anaconda3/envs/test_faiss/lib/python3.7/site-packages (from tensorflow->bluegraph==0.1.3.dev5+g3bb2e75) (1.12.1)\n",
      "Requirement already satisfied: google-pasta>=0.1.8 in /Users/oshurko/opt/anaconda3/envs/test_faiss/lib/python3.7/site-packages (from tensorflow->bluegraph==0.1.3.dev5+g3bb2e75) (0.2.0)\n",
      "Requirement already satisfied: h5py<2.11.0,>=2.10.0 in /Users/oshurko/opt/anaconda3/envs/test_faiss/lib/python3.7/site-packages (from tensorflow->bluegraph==0.1.3.dev5+g3bb2e75) (2.10.0)\n",
      "Requirement already satisfied: tensorboard<2.3.0,>=2.2.0 in /Users/oshurko/opt/anaconda3/envs/test_faiss/lib/python3.7/site-packages (from tensorflow->bluegraph==0.1.3.dev5+g3bb2e75) (2.2.2)\n",
      "Requirement already satisfied: opt-einsum>=2.3.2 in /Users/oshurko/opt/anaconda3/envs/test_faiss/lib/python3.7/site-packages (from tensorflow->bluegraph==0.1.3.dev5+g3bb2e75) (3.3.0)\n",
      "Requirement already satisfied: grpcio>=1.8.6 in /Users/oshurko/opt/anaconda3/envs/test_faiss/lib/python3.7/site-packages (from tensorflow->bluegraph==0.1.3.dev5+g3bb2e75) (1.39.0)\n",
      "Requirement already satisfied: tensorflow-estimator<2.3.0,>=2.2.0 in /Users/oshurko/opt/anaconda3/envs/test_faiss/lib/python3.7/site-packages (from tensorflow->bluegraph==0.1.3.dev5+g3bb2e75) (2.2.0)\n",
      "Requirement already satisfied: termcolor>=1.1.0 in /Users/oshurko/opt/anaconda3/envs/test_faiss/lib/python3.7/site-packages (from tensorflow->bluegraph==0.1.3.dev5+g3bb2e75) (1.1.0)\n",
      "Requirement already satisfied: protobuf>=3.8.0 in /Users/oshurko/opt/anaconda3/envs/test_faiss/lib/python3.7/site-packages (from tensorflow->bluegraph==0.1.3.dev5+g3bb2e75) (3.17.3)\n"
     ]
    },
    {
     "name": "stdout",
     "output_type": "stream",
     "text": [
      "Requirement already satisfied: markdown>=2.6.8 in /Users/oshurko/opt/anaconda3/envs/test_faiss/lib/python3.7/site-packages (from tensorboard<2.3.0,>=2.2.0->tensorflow->bluegraph==0.1.3.dev5+g3bb2e75) (3.3.4)\n",
      "Requirement already satisfied: google-auth-oauthlib<0.5,>=0.4.1 in /Users/oshurko/opt/anaconda3/envs/test_faiss/lib/python3.7/site-packages (from tensorboard<2.3.0,>=2.2.0->tensorflow->bluegraph==0.1.3.dev5+g3bb2e75) (0.4.4)\n",
      "Requirement already satisfied: tensorboard-plugin-wit>=1.6.0 in /Users/oshurko/opt/anaconda3/envs/test_faiss/lib/python3.7/site-packages (from tensorboard<2.3.0,>=2.2.0->tensorflow->bluegraph==0.1.3.dev5+g3bb2e75) (1.8.0)\n",
      "Requirement already satisfied: google-auth<2,>=1.6.3 in /Users/oshurko/opt/anaconda3/envs/test_faiss/lib/python3.7/site-packages (from tensorboard<2.3.0,>=2.2.0->tensorflow->bluegraph==0.1.3.dev5+g3bb2e75) (1.34.0)\n",
      "Requirement already satisfied: pyasn1-modules>=0.2.1 in /Users/oshurko/opt/anaconda3/envs/test_faiss/lib/python3.7/site-packages (from google-auth<2,>=1.6.3->tensorboard<2.3.0,>=2.2.0->tensorflow->bluegraph==0.1.3.dev5+g3bb2e75) (0.2.8)\n",
      "Requirement already satisfied: rsa<5,>=3.1.4 in /Users/oshurko/opt/anaconda3/envs/test_faiss/lib/python3.7/site-packages (from google-auth<2,>=1.6.3->tensorboard<2.3.0,>=2.2.0->tensorflow->bluegraph==0.1.3.dev5+g3bb2e75) (4.7.2)\n",
      "Requirement already satisfied: requests-oauthlib>=0.7.0 in /Users/oshurko/opt/anaconda3/envs/test_faiss/lib/python3.7/site-packages (from google-auth-oauthlib<0.5,>=0.4.1->tensorboard<2.3.0,>=2.2.0->tensorflow->bluegraph==0.1.3.dev5+g3bb2e75) (1.3.0)\n",
      "Requirement already satisfied: pyasn1<0.5.0,>=0.4.6 in /Users/oshurko/opt/anaconda3/envs/test_faiss/lib/python3.7/site-packages (from pyasn1-modules>=0.2.1->google-auth<2,>=1.6.3->tensorboard<2.3.0,>=2.2.0->tensorflow->bluegraph==0.1.3.dev5+g3bb2e75) (0.4.8)\n",
      "Requirement already satisfied: oauthlib>=3.0.0 in /Users/oshurko/opt/anaconda3/envs/test_faiss/lib/python3.7/site-packages (from requests-oauthlib>=0.7.0->google-auth-oauthlib<0.5,>=0.4.1->tensorboard<2.3.0,>=2.2.0->tensorflow->bluegraph==0.1.3.dev5+g3bb2e75) (3.1.1)\n",
      "Building wheels for collected packages: bluegraph\n",
      "  Building wheel for bluegraph (setup.py) ... \u001b[?25ldone\n",
      "\u001b[?25h  Created wheel for bluegraph: filename=bluegraph-0.1.3.dev5+g3bb2e75-py3-none-any.whl size=502546 sha256=e40f511af2a177d2f312ebea29594ce057d94f1cae58c0f3bfae1242a29f8dea\n",
      "  Stored in directory: /private/var/folders/2b/p0y43wxx1txg_1smp47m0cwh9fr3rh/T/pip-ephem-wheel-cache-g42dd66z/wheels/c0/36/2f/783d0b7e0bf17f94a7187b2ec62af300474ae293e0dd510024\n",
      "Successfully built bluegraph\n",
      "Installing collected packages: argparse, bluegraph\n",
      "  Attempting uninstall: bluegraph\n",
      "    Found existing installation: bluegraph 0.1.3.dev5+g3bb2e75\n",
      "    Uninstalling bluegraph-0.1.3.dev5+g3bb2e75:\n",
      "      Successfully uninstalled bluegraph-0.1.3.dev5+g3bb2e75\n",
      "Successfully installed argparse-1.4.0 bluegraph-0.1.3.dev5+g3bb2e75\n",
      "/bin/bash: /etc/apt/sources.list: No such file or directory\n",
      "/bin/bash: apt-key: command not found\n",
      "/bin/bash: apt-get: command not found\n",
      "/bin/bash: apt-get: command not found\n"
     ]
    }
   ],
   "source": [
    "# Install bluegraph\n",
    "! git clone https://github.com/BlueBrain/BlueGraph\n",
    "! cd BlueGraph && pip install .[cord19kg]\n",
    "\n",
    "# Install graph-tool\n",
    "!echo \"deb http://downloads.skewed.de/apt bionic main\" >> /etc/apt/sources.list\n",
    "!apt-key adv --keyserver keys.openpgp.org --recv-key 612DEFB798507F25\n",
    "!apt-get update\n",
    "!apt-get install python3-graph-tool python3-cairo python3-matplotlib\n",
    "\n",
    "DATA_PATH = \"BlueGraph/cord19kg/examples/data/\""
   ]
  },
  {
   "cell_type": "markdown",
   "metadata": {},
   "source": [
    "# Topic-centered co-occurrence network analysis of CORD-19\n",
    "\n",
    "In this notebook we will perform interactive exploration and analysis of a topic-centered subset of the [CORD-19](https://www.kaggle.com/allen-institute-for-ai/CORD-19-research-challenge) dataset using the `cord19kg` package. The exploration and analysis techniques presented here focus on named entities and their co-occurrence in the scientific articles constituting the dataset.\n",
    "\n",
    "The input data for this notebook contains the named entities extracted from the 3000 most relevant articles to the query _\"Glucose is a risk factor of COVID-19\"_ obtained using the article search model [BlueSearch](https://github.com/BlueBrain/Search). The entity extraction was performed using the Named Entity Recognition (NER) techniques also included in [BlueSearch](https://github.com/BlueBrain/Search). The entities represent 10 different types (i.e. proteins, chemicals, drugs, diseases, conditions, organs, organisms, pathways, cell types, cell compartments). \n",
    "\n",
    "The interactive literature exploration through the named entity co-occurrence analysis consisting of the following steps:\n",
    "\n",
    "1. __Data preparation__ step converts raw mentions into aggregated entity occurrence statistics.\n",
    "2. __Data curation__ step allows the user to manage extracted entities: modify, filter them and link to the ontology.\n",
    "3. __Network generation__ step allows creating entity co-occurrence networks based on paper-, section- and paragraph-level co-occurrence relations between entities. These entity relations are quantified using mutual-information-based scores (pointwise mutual information and its normalized version).\n",
    "4. __Network visualization and analysis__ step allows the user to perform interactive network visualization, edit network elements and perform its analysis (spanning tree, mutual-information based shortest paths between entities, etc)."
   ]
  },
  {
   "cell_type": "code",
   "execution_count": 1,
   "metadata": {},
   "outputs": [],
   "source": [
    "import json\n",
    "import os\n",
    "import zipfile\n",
    "\n",
    "import pandas as pd\n",
    "\n",
    "import dash_cytoscape as cyto\n",
    "\n",
    "from kgforge.core import KnowledgeGraphForge\n",
    "\n",
    "from cord19kg.utils import (generate_curation_table,\n",
    "                           link_ontology,\n",
    "                           generate_cooccurrence_analysis,\n",
    "                           download_from_nexus)\n",
    "from cord19kg.apps.curation_app import curation_app\n",
    "from cord19kg.apps.visualization_app import visualization_app"
   ]
  },
  {
   "cell_type": "code",
   "execution_count": 2,
   "metadata": {},
   "outputs": [
    {
     "name": "stdout",
     "output_type": "stream",
     "text": [
      "Data path: '../data/'\n"
     ]
    }
   ],
   "source": [
    "try:\n",
    "    print(f\"Data path: '{DATA_PATH}'\")\n",
    "except NameError:\n",
    "    DATA_PATH = \"../data/\"\n",
    "    print(f\"Data path: '{DATA_PATH}'\")"
   ]
  },
  {
   "cell_type": "code",
   "execution_count": 3,
   "metadata": {},
   "outputs": [],
   "source": [
    "cyto.load_extra_layouts()"
   ]
  },
  {
   "cell_type": "markdown",
   "metadata": {},
   "source": [
    "## 1. Data preparation\n",
    "\n",
    "The input dataset contains occurrences of different terms in paragraphs of scientific articles from the CORD-19 dataset previously extracted by means of a NER model.\n",
    "The dataset is stored in Blue Brain Nexus."
   ]
  },
  {
   "cell_type": "code",
   "execution_count": 4,
   "metadata": {},
   "outputs": [],
   "source": [
    "# Blue Brain Nexus bucket to download data from\n",
    "\n",
    "nexus_bucket = \"covid19-kg/data\"\n",
    "nexus_endpoint = \"https://bbp.epfl.ch/nexus/v1\"\n",
    "nexus_config_file = f\"{DATA_PATH}../config/data-download-nexus.yml\""
   ]
  },
  {
   "cell_type": "code",
   "execution_count": 5,
   "metadata": {},
   "outputs": [
    {
     "name": "stdout",
     "output_type": "stream",
     "text": [
      "Downloading the file to '../data/Glucose_risk_3000_papers.csv.zip'\n",
      "Decompressing ...\n",
      "Done.\n",
      "CPU times: user 3.85 s, sys: 389 ms, total: 4.24 s\n",
      "Wall time: 7.36 s\n"
     ]
    }
   ],
   "source": [
    "%%time\n",
    "download_from_nexus(\n",
    "    uri=f\"{nexus_endpoint}/resources/{nexus_bucket}/_/1e01e1a2-133f-4833-9fe0-93230384b95f\",\n",
    "    output_path=DATA_PATH, config_file_path=nexus_config_file,\n",
    "    nexus_endpoint=nexus_endpoint, nexus_bucket=nexus_bucket, unzip=True)\n",
    "\n",
    "data = pd.read_csv(f\"{DATA_PATH}/Glucose_risk_3000_papers.csv\")\n",
    "print(\"Done.\")"
   ]
  },
  {
   "cell_type": "code",
   "execution_count": 6,
   "metadata": {},
   "outputs": [
    {
     "data": {
      "text/html": [
       "<div>\n",
       "<style scoped>\n",
       "    .dataframe tbody tr th:only-of-type {\n",
       "        vertical-align: middle;\n",
       "    }\n",
       "\n",
       "    .dataframe tbody tr th {\n",
       "        vertical-align: top;\n",
       "    }\n",
       "\n",
       "    .dataframe thead th {\n",
       "        text-align: right;\n",
       "    }\n",
       "</style>\n",
       "<table border=\"1\" class=\"dataframe\">\n",
       "  <thead>\n",
       "    <tr style=\"text-align: right;\">\n",
       "      <th></th>\n",
       "      <th>entity</th>\n",
       "      <th>entity_type</th>\n",
       "      <th>occurrence</th>\n",
       "    </tr>\n",
       "  </thead>\n",
       "  <tbody>\n",
       "    <tr>\n",
       "      <th>1047598</th>\n",
       "      <td>Blood</td>\n",
       "      <td>ORGAN</td>\n",
       "      <td>13689:Methods:191</td>\n",
       "    </tr>\n",
       "    <tr>\n",
       "      <th>995436</th>\n",
       "      <td>horse</td>\n",
       "      <td>ORGANISM</td>\n",
       "      <td>13320:Caption:669</td>\n",
       "    </tr>\n",
       "    <tr>\n",
       "      <th>209248</th>\n",
       "      <td>survival</td>\n",
       "      <td>PATHWAY</td>\n",
       "      <td>5324:Materials And Methods::956</td>\n",
       "    </tr>\n",
       "    <tr>\n",
       "      <th>956104</th>\n",
       "      <td>dehydration</td>\n",
       "      <td>DISEASE</td>\n",
       "      <td>13250:Nu21:594</td>\n",
       "    </tr>\n",
       "    <tr>\n",
       "      <th>2511603</th>\n",
       "      <td>death</td>\n",
       "      <td>DISEASE</td>\n",
       "      <td>178179:Accepted Article:7</td>\n",
       "    </tr>\n",
       "  </tbody>\n",
       "</table>\n",
       "</div>"
      ],
      "text/plain": [
       "              entity entity_type                       occurrence\n",
       "1047598        Blood       ORGAN                13689:Methods:191\n",
       "995436         horse    ORGANISM                13320:Caption:669\n",
       "209248      survival     PATHWAY  5324:Materials And Methods::956\n",
       "956104   dehydration     DISEASE                   13250:Nu21:594\n",
       "2511603        death     DISEASE        178179:Accepted Article:7"
      ]
     },
     "execution_count": 6,
     "metadata": {},
     "output_type": "execute_result"
    }
   ],
   "source": [
    "data.sample(5)"
   ]
  },
  {
   "cell_type": "markdown",
   "metadata": {},
   "source": [
    "On the first preparation step, we group and aggregate the input data by unique entities."
   ]
  },
  {
   "cell_type": "code",
   "execution_count": 7,
   "metadata": {},
   "outputs": [],
   "source": [
    "def agg(x):\n",
    "    print(x.name, x.tolist()[0])\n",
    "    return x"
   ]
  },
  {
   "cell_type": "code",
   "execution_count": 8,
   "metadata": {},
   "outputs": [],
   "source": [
    "el = data.iloc[0:10].groupby(\"entity\", axis=0)\n",
    "# (agg, axis=0)"
   ]
  },
  {
   "cell_type": "code",
   "execution_count": 9,
   "metadata": {},
   "outputs": [
    {
     "name": "stdout",
     "output_type": "stream",
     "text": [
      "Prepating curatation data...\n",
      "Cleaning up the entities...\n",
      "Aggregating occurrences of entities....\n",
      "Done.\n",
      "CPU times: user 28.8 s, sys: 1.13 s, total: 29.9 s\n",
      "Wall time: 30.2 s\n"
     ]
    }
   ],
   "source": [
    "%%time\n",
    "print(\"Prepating curatation data...\")\n",
    "curation_input_table, factor_counts = generate_curation_table(data)\n",
    "print(\"Done.\")"
   ]
  },
  {
   "cell_type": "markdown",
   "metadata": {},
   "source": [
    "The resulting dataframe contains a row per unique named entity together with the following occurrence data: \n",
    "- sets of unique paragraphs, papers, sections, where the corresponding entity is mentioned (`paper`, `section`, `paragraph` columns);\n",
    "- number of total entity occurrences (the `raw_frequency` column);\n",
    "- number of unique papers where it occurs (the `paper_frequency` column);\n",
    "- unique entity types assigned by the NER model (the `entity_type` column, multiple types are possible).\n",
    "- raw entity types assigned by the NER model with the multiplicity of thier occurrence (the `raw_entity_types` column).\n"
   ]
  },
  {
   "cell_type": "code",
   "execution_count": 10,
   "metadata": {},
   "outputs": [
    {
     "ename": "NameError",
     "evalue": "name 'curation_input_table' is not defined",
     "output_type": "error",
     "traceback": [
      "\u001b[0;31m---------------------------------------------------------------------------\u001b[0m",
      "\u001b[0;31mNameError\u001b[0m                                 Traceback (most recent call last)",
      "\u001b[0;32m<ipython-input-10-06e0c0c00eca>\u001b[0m in \u001b[0;36m<module>\u001b[0;34m\u001b[0m\n\u001b[0;32m----> 1\u001b[0;31m \u001b[0mcuration_input_table\u001b[0m\u001b[0;34m.\u001b[0m\u001b[0msample\u001b[0m\u001b[0;34m(\u001b[0m\u001b[0;36m5\u001b[0m\u001b[0;34m)\u001b[0m\u001b[0;34m\u001b[0m\u001b[0;34m\u001b[0m\u001b[0m\n\u001b[0m",
      "\u001b[0;31mNameError\u001b[0m: name 'curation_input_table' is not defined"
     ]
    }
   ],
   "source": [
    "curation_input_table.sample(5)"
   ]
  },
  {
   "cell_type": "code",
   "execution_count": 8,
   "metadata": {},
   "outputs": [
    {
     "data": {
      "text/html": [
       "<div>\n",
       "<style scoped>\n",
       "    .dataframe tbody tr th:only-of-type {\n",
       "        vertical-align: middle;\n",
       "    }\n",
       "\n",
       "    .dataframe tbody tr th {\n",
       "        vertical-align: top;\n",
       "    }\n",
       "\n",
       "    .dataframe thead th {\n",
       "        text-align: right;\n",
       "    }\n",
       "</style>\n",
       "<table border=\"1\" class=\"dataframe\">\n",
       "  <thead>\n",
       "    <tr style=\"text-align: right;\">\n",
       "      <th></th>\n",
       "      <th>entity</th>\n",
       "      <th>entity_type</th>\n",
       "      <th>occurrence</th>\n",
       "    </tr>\n",
       "  </thead>\n",
       "  <tbody>\n",
       "    <tr>\n",
       "      <th>0</th>\n",
       "      <td>protein-D</td>\n",
       "      <td>PROTEIN</td>\n",
       "      <td>3:Title:0</td>\n",
       "    </tr>\n",
       "    <tr>\n",
       "      <th>1</th>\n",
       "      <td>pulmonary</td>\n",
       "      <td>ORGAN</td>\n",
       "      <td>3:Title:0</td>\n",
       "    </tr>\n",
       "    <tr>\n",
       "      <th>2</th>\n",
       "      <td>host</td>\n",
       "      <td>ORGANISM</td>\n",
       "      <td>3:Title:0</td>\n",
       "    </tr>\n",
       "    <tr>\n",
       "      <th>3</th>\n",
       "      <td>protein-D</td>\n",
       "      <td>PROTEIN</td>\n",
       "      <td>3:Abstract:1</td>\n",
       "    </tr>\n",
       "    <tr>\n",
       "      <th>4</th>\n",
       "      <td>SP-D</td>\n",
       "      <td>PROTEIN</td>\n",
       "      <td>3:Abstract:1</td>\n",
       "    </tr>\n",
       "    <tr>\n",
       "      <th>...</th>\n",
       "      <td>...</td>\n",
       "      <td>...</td>\n",
       "      <td>...</td>\n",
       "    </tr>\n",
       "    <tr>\n",
       "      <th>3043231</th>\n",
       "      <td>Viral infection</td>\n",
       "      <td>DISEASE</td>\n",
       "      <td>230815:Caption:13</td>\n",
       "    </tr>\n",
       "    <tr>\n",
       "      <th>3043232</th>\n",
       "      <td>Viral</td>\n",
       "      <td>ORGANISM</td>\n",
       "      <td>230815:Caption:13</td>\n",
       "    </tr>\n",
       "    <tr>\n",
       "      <th>3043233</th>\n",
       "      <td>lipid</td>\n",
       "      <td>CHEMICAL</td>\n",
       "      <td>230815:Caption:13</td>\n",
       "    </tr>\n",
       "    <tr>\n",
       "      <th>3043234</th>\n",
       "      <td>inflammation</td>\n",
       "      <td>DISEASE</td>\n",
       "      <td>230815:Caption:13</td>\n",
       "    </tr>\n",
       "    <tr>\n",
       "      <th>3043235</th>\n",
       "      <td>PPARα</td>\n",
       "      <td>PROTEIN</td>\n",
       "      <td>230815:Caption:13</td>\n",
       "    </tr>\n",
       "  </tbody>\n",
       "</table>\n",
       "<p>3043236 rows × 3 columns</p>\n",
       "</div>"
      ],
      "text/plain": [
       "                  entity entity_type         occurrence\n",
       "0              protein-D     PROTEIN          3:Title:0\n",
       "1              pulmonary       ORGAN          3:Title:0\n",
       "2                   host    ORGANISM          3:Title:0\n",
       "3              protein-D     PROTEIN       3:Abstract:1\n",
       "4                   SP-D     PROTEIN       3:Abstract:1\n",
       "...                  ...         ...                ...\n",
       "3043231  Viral infection     DISEASE  230815:Caption:13\n",
       "3043232            Viral    ORGANISM  230815:Caption:13\n",
       "3043233            lipid    CHEMICAL  230815:Caption:13\n",
       "3043234     inflammation     DISEASE  230815:Caption:13\n",
       "3043235            PPARα     PROTEIN  230815:Caption:13\n",
       "\n",
       "[3043236 rows x 3 columns]"
      ]
     },
     "execution_count": 8,
     "metadata": {},
     "output_type": "execute_result"
    }
   ],
   "source": [
    "data"
   ]
  },
  {
   "cell_type": "code",
   "execution_count": 9,
   "metadata": {},
   "outputs": [
    {
     "data": {
      "text/plain": [
       "'1.3.0'"
      ]
     },
     "execution_count": 9,
     "metadata": {},
     "output_type": "execute_result"
    }
   ],
   "source": [
    "pd.__version__"
   ]
  },
  {
   "cell_type": "markdown",
   "metadata": {},
   "source": [
    "The second output of the data preparation step outputs the counts of different instances of occurrence factors: number of distinct papers/sections/paragraphs in the input corpus."
   ]
  },
  {
   "cell_type": "code",
   "execution_count": null,
   "metadata": {},
   "outputs": [],
   "source": []
  },
  {
   "cell_type": "code",
   "execution_count": null,
   "metadata": {},
   "outputs": [],
   "source": [
    "factor_counts"
   ]
  },
  {
   "cell_type": "markdown",
   "metadata": {},
   "source": [
    "## 2. Data curation"
   ]
  },
  {
   "cell_type": "markdown",
   "metadata": {},
   "source": [
    "### Loading the NCIT ontology linking data"
   ]
  },
  {
   "cell_type": "markdown",
   "metadata": {},
   "source": [
    "To group synonymical entities in the previously extracted table (e.g. `ace2`, `ace-2`, `angiotensin-converting enzyme 2`), as well as assign additional semantics to these entities (e.g. human-readable definition, taxonomy, etc), we peform further _linking_ of the entities to the terms from the [NCIT ontology](https://ncithesaurus.nci.nih.gov/ncitbrowser/).\n",
    "\n",
    "To be able to perform such ontology linking, we load some additional (pre-computed using ML-based linking models) data."
   ]
  },
  {
   "cell_type": "code",
   "execution_count": null,
   "metadata": {},
   "outputs": [],
   "source": [
    "%%time\n",
    "print(\"Loading the ontology linking data...\")\n",
    "\n",
    "download_from_nexus(\n",
    "    uri=f\"{nexus_endpoint}/resources/{nexus_bucket}/_/4fde1f8f-ee7f-435e-95a8-abb79139db93\",\n",
    "    output_path=DATA_PATH, config_file_path=nexus_config_file,\n",
    "    nexus_endpoint=nexus_endpoint, nexus_bucket=nexus_bucket, unzip=True)\n",
    "print(\"\\tLoading the linking dataframe in memory...\")\n",
    "ontology_linking = pd.read_csv(f\"{DATA_PATH}/NCIT_ontology_linking_3000_papers.csv\")\n",
    "\n",
    "\n",
    "print(\"\\tLoading ontology type mapping...\")\n",
    "ontology_linking_type_mapping_data = download_from_nexus(\n",
    "    uri=f\"{nexus_endpoint}/resources/{nexus_bucket}/_/92bc2a04-6003-4f4d-85e1-dcc5f2352df2\", \n",
    "    output_path=DATA_PATH, config_file_path=nexus_config_file,\n",
    "    nexus_endpoint=nexus_endpoint, nexus_bucket=nexus_bucket)\n",
    "with open(f\"{DATA_PATH}/{ontology_linking_type_mapping_data.distribution.name}\", \"rb\") as f:\n",
    "    type_mapping = json.load(f)\n",
    "print(\"Done.\")"
   ]
  },
  {
   "cell_type": "markdown",
   "metadata": {},
   "source": [
    "The ontology linking table contains the following columns:\n",
    "- `mention` entity mentioned in the text\n",
    "- `concept` ontology concept linked to the entity mention\n",
    "- `uid` unique identifier of the ontology concept\n",
    "- `definition` definition of the concept\n",
    "- `taxonomy` taxonomy of semantic types associated with the concept"
   ]
  },
  {
   "cell_type": "code",
   "execution_count": null,
   "metadata": {
    "scrolled": true
   },
   "outputs": [],
   "source": [
    "ontology_linking.sample(5)"
   ]
  },
  {
   "cell_type": "markdown",
   "metadata": {},
   "source": [
    "### Interactive curation of  entity occurrence data\n",
    "\n",
    "The package provides an interactive entity curation app that allows the user to visualize the entity occurrence data, modify it, perform ontology linking (see `Link to NCIT ontology` button), filter short or unfrequent entities.\n",
    "\n",
    "The field `Keep` allows specifying a set of entities that must be kept in the dataset at all times (even if they don't satisfy the selected filtering criteria).\n",
    "\n",
    "Finally the value specified in the `Generate Graphs from top N frequent entities` field corresponds to the number of top entities (by the frequency of their occurrence in papers) to be included in the co-occurrence network."
   ]
  },
  {
   "cell_type": "markdown",
   "metadata": {},
   "source": [
    "We load the prepared data table into the curation app as follows:"
   ]
  },
  {
   "cell_type": "code",
   "execution_count": null,
   "metadata": {},
   "outputs": [],
   "source": [
    "curation_app.set_table(curation_input_table.copy())"
   ]
  },
  {
   "cell_type": "markdown",
   "metadata": {},
   "source": [
    "We can specify the default entities to keep."
   ]
  },
  {
   "cell_type": "code",
   "execution_count": null,
   "metadata": {},
   "outputs": [],
   "source": [
    "default_entities_to_keep = [\"glucose\", \"covid-19\"]\n",
    "curation_app.set_default_terms_to_include(default_entities_to_keep)"
   ]
  },
  {
   "cell_type": "markdown",
   "metadata": {},
   "source": [
    "Finally, we set the ontology linking callback to be fired upon a click on the `Link to NCIT ontology` button."
   ]
  },
  {
   "cell_type": "code",
   "execution_count": null,
   "metadata": {},
   "outputs": [],
   "source": [
    "curation_app.set_ontology_linking_callback(lambda x: link_ontology(ontology_linking, type_mapping, x))"
   ]
  },
  {
   "cell_type": "markdown",
   "metadata": {},
   "source": [
    "### Launch the curation app"
   ]
  },
  {
   "cell_type": "markdown",
   "metadata": {},
   "source": [
    "The application can be launched either inline (inside the current notebook) as below. Note that if you run this notebook in Colab, you may want to set a lower number of entities to include, in order to avoid long generation time ('Generate Graphs from top N frequent entities' field). Current default value is 200."
   ]
  },
  {
   "cell_type": "code",
   "execution_count": null,
   "metadata": {},
   "outputs": [],
   "source": [
    "curation_app.run(port=8074, mode=\"inline\")"
   ]
  },
  {
   "cell_type": "markdown",
   "metadata": {},
   "source": [
    "Or it can be opened externally (by the URL that you can open in a separate tab of your browser, try uncommenting, executing and doing Ctrl+Click on the displayed URL)."
   ]
  },
  {
   "cell_type": "code",
   "execution_count": null,
   "metadata": {},
   "outputs": [],
   "source": [
    "# curation_app.run(port=8070, mode=\"external\")"
   ]
  },
  {
   "cell_type": "markdown",
   "metadata": {},
   "source": [
    "## 3. Co-occurrence network generation"
   ]
  },
  {
   "cell_type": "markdown",
   "metadata": {},
   "source": [
    "Current curation table displayed in the curation app can be extracted using the `get_curated_table` method."
   ]
  },
  {
   "cell_type": "code",
   "execution_count": null,
   "metadata": {},
   "outputs": [],
   "source": [
    "curated_occurrence_data = curation_app.get_curated_table()\n",
    "curated_occurrence_data.sample(3)"
   ]
  },
  {
   "cell_type": "markdown",
   "metadata": {},
   "source": [
    "Before we can proceed we need to convert paper/section and paragraph columns into `set`."
   ]
  },
  {
   "cell_type": "code",
   "execution_count": null,
   "metadata": {},
   "outputs": [],
   "source": [
    "curated_occurrence_data[\"paper\"] = curated_occurrence_data[\"paper\"].apply(set)\n",
    "curated_occurrence_data[\"paragraph\"] = curated_occurrence_data[\"paragraph\"].apply(set)\n",
    "curated_occurrence_data[\"section\"] = curated_occurrence_data[\"section\"].apply(set)"
   ]
  },
  {
   "cell_type": "markdown",
   "metadata": {},
   "source": [
    "We can also retreive current values of the `Keep` field (these entities will be also included in the resulting co-occurrence network)."
   ]
  },
  {
   "cell_type": "code",
   "execution_count": null,
   "metadata": {},
   "outputs": [],
   "source": [
    "curation_app.get_terms_to_include()"
   ]
  },
  {
   "cell_type": "markdown",
   "metadata": {},
   "source": [
    "### Generating co-occurrence networks\n",
    "\n",
    "In the cell below we generate a paper-based entity co-occurrence network. Along with the network generation the `generate_comention_analysis` function:\n",
    "\n",
    "- computes node centrality metrics (such as degree, RageRank)\n",
    "- computes co-occurrence statistics (such as frequency, pointwise mutual information and normalized pointwise mutual information) and assignes them as weights to the corresponding edges\n",
    "- performs entity community detection based on different co-occurrence statistics\n",
    "- computes mutual-information-based minimum spanning trees."
   ]
  },
  {
   "cell_type": "markdown",
   "metadata": {},
   "source": [
    "Before we run the co-occurrence analysis, we will create a dictionary with backend configurations for the analytics: we set metrics (centalities) computation to use `graph_tool`, community detection to use `networkx` and, finally, path search to use `graph_tool` as well."
   ]
  },
  {
   "cell_type": "code",
   "execution_count": null,
   "metadata": {},
   "outputs": [],
   "source": [
    "import time"
   ]
  },
  {
   "cell_type": "code",
   "execution_count": null,
   "metadata": {},
   "outputs": [],
   "source": [
    "backend_configs = {\n",
    "    \"metrics\": \"graph_tool\",\n",
    "    \"communities\": \"networkx\",\n",
    "    \"paths\": \"graph_tool\"\n",
    "}"
   ]
  },
  {
   "cell_type": "code",
   "execution_count": null,
   "metadata": {
    "scrolled": true
   },
   "outputs": [],
   "source": [
    "%%time\n",
    "type_data = curated_occurrence_data[[\"entity_type\"]].rename(columns={\"entity_type\": \"type\"})\n",
    "\n",
    "graphs, trees = generate_cooccurrence_analysis(\n",
    "    curated_occurrence_data,  factor_counts,\n",
    "    n_most_frequent=curation_app.n_most_frequent,\n",
    "    type_data=type_data, \n",
    "    factors=[\"paragraph\"],\n",
    "    keep=curation_app.get_terms_to_include(),\n",
    "    cores=8,  # here set up the number of cores\n",
    "    backend_configs=backend_configs)\n",
    "print(\"Done.\")"
   ]
  },
  {
   "cell_type": "markdown",
   "metadata": {},
   "source": [
    "## 4. Network visualization and analysis"
   ]
  },
  {
   "cell_type": "markdown",
   "metadata": {},
   "source": [
    "### Loading the generated graph into the visualization app"
   ]
  },
  {
   "cell_type": "markdown",
   "metadata": {},
   "source": [
    "First of all, we set a backend for the visualization app (currently two backends are supported: based on `NetworkX` and `graph-tool`, in this example we use the latter)."
   ]
  },
  {
   "cell_type": "code",
   "execution_count": null,
   "metadata": {},
   "outputs": [],
   "source": [
    "visualization_app.set_backend(\"graph_tool\")"
   ]
  },
  {
   "cell_type": "code",
   "execution_count": null,
   "metadata": {},
   "outputs": [],
   "source": [
    "# #  Run the following use NetworkX as the backend for the visualization app\n",
    "# visualization_app.set_backend(\"networkx\")"
   ]
  },
  {
   "cell_type": "code",
   "execution_count": null,
   "metadata": {},
   "outputs": [],
   "source": [
    "visualization_app.add_graph(\n",
    "    \"Paragraph-based graph\", graphs[\"paragraph\"],\n",
    "    tree=trees[\"paragraph\"], default_top_n=100)\n",
    "\n",
    "visualization_app.set_current_graph(\"Paragraph-based graph\")"
   ]
  },
  {
   "cell_type": "markdown",
   "metadata": {},
   "source": [
    "### Loading papers' meta-data into the app\n",
    "\n",
    "We now load an additional dataset containing some meta-data on the papers where the entities analyzed in this notebook occur."
   ]
  },
  {
   "cell_type": "code",
   "execution_count": null,
   "metadata": {},
   "outputs": [],
   "source": [
    "paper_medata = download_from_nexus(uri=f\"{nexus_endpoint}/resources/{nexus_bucket}/_/8fc1e60c-1ebe-4173-82c0-9775a4917041\",\n",
    "                         output_path = DATA_PATH, config_file_path=nexus_config_file, nexus_endpoint=nexus_endpoint, nexus_bucket=nexus_bucket)\n",
    "paper_data = pd.read_csv(f\"{DATA_PATH}/{paper_medata.distribution.name}\")\n",
    "paper_data = paper_data.set_index(\"id\")\n",
    "paper_data.head(3)"
   ]
  },
  {
   "cell_type": "markdown",
   "metadata": {},
   "source": [
    "We pass a callback for the lookup of paper meta-data to the visualization app using the `set_list_papers_callback` method."
   ]
  },
  {
   "cell_type": "code",
   "execution_count": null,
   "metadata": {},
   "outputs": [],
   "source": [
    "def list_papers(paper_data, selected_papers, limit=200):\n",
    "    selected_paper_data = paper_data.loc[[int(p) for p in selected_papers]].head(200)\n",
    "    return selected_paper_data.to_dict(\"records\")\n",
    "\n",
    "visualization_app.set_list_papers_callback(lambda x: list_papers(paper_data, x))"
   ]
  },
  {
   "cell_type": "markdown",
   "metadata": {},
   "source": [
    "The ontology linking process described above is noisy, therefore, we would like to keep a possibility of accessing, the raw entities that were linked to particular ontology concepts. For this we define the function `get_aggregated_entities` that retreives such raw entities and we pass it to the visualization app using the `set_aggregated_entities_callback` method."
   ]
  },
  {
   "cell_type": "code",
   "execution_count": null,
   "metadata": {},
   "outputs": [],
   "source": [
    "def top_n(data_dict, n, smallest=False):\n",
    "    \"\"\"Return top `n` keys of the input dictionary by their value.\"\"\"\n",
    "    df = pd.DataFrame(dict(data_dict).items(), columns=[\"id\", \"value\"])\n",
    "    if smallest:\n",
    "        df = df.nsmallest(n, columns=[\"value\"])\n",
    "    else:\n",
    "        df = df.nlargest(n, columns=[\"value\"])\n",
    "    return(list(df[\"id\"]))\n",
    "\n",
    "\n",
    "def get_aggregated_entities(entity, n):\n",
    "    if \"aggregated_entities\" in curated_occurrence_data.columns:\n",
    "        aggregated = curated_occurrence_data.loc[entity][\"aggregated_entities\"]\n",
    "    else:\n",
    "        aggregated = [entity]\n",
    "    if curation_input_table is not None:\n",
    "        df = curation_input_table.set_index(\"entity\")\n",
    "        if entity in curated_occurrence_data.index:\n",
    "            freqs = df.loc[aggregated][\"paper_frequency\"].to_dict()\n",
    "        else:\n",
    "            return {}\n",
    "    else:\n",
    "        df = data.copy()\n",
    "        df[\"entity\"] = data[\"entity\"].apply(lambda x: x.lower())\n",
    "        freqs = df[df[\"entity\"].apply(lambda x: x.lower() in aggregated)].groupby(\"entity\").aggregate(\n",
    "            lambda x: len(x))[\"entity_type\"].to_dict()\n",
    "    if len(freqs) == 0:\n",
    "        return {}\n",
    "    return {e: freqs[e] for e in top_n(freqs, n)}\n",
    "\n",
    "visualization_app.set_aggregated_entities_callback(\n",
    "    lambda x: get_aggregated_entities(x, 10))"
   ]
  },
  {
   "cell_type": "markdown",
   "metadata": {},
   "source": [
    "Finally, we create a dictionary `definitions` that will serve the visualization app as the lookup table for accessing the definitions of different ontology concepts."
   ]
  },
  {
   "cell_type": "code",
   "execution_count": null,
   "metadata": {},
   "outputs": [],
   "source": [
    "definitions = ontology_linking[[\"concept\", \"definition\"]].groupby(\n",
    "    \"concept\").aggregate(lambda x: list(x)[0]).to_dict()[\"definition\"]\n",
    "visualization_app.set_entity_definitons(definitions)"
   ]
  },
  {
   "cell_type": "markdown",
   "metadata": {},
   "source": [
    "### Launching the visualization app"
   ]
  },
  {
   "cell_type": "markdown",
   "metadata": {},
   "source": [
    "As before, the interactive graph visualization app can be launched in two modes: inline and external. The following cell lauches the app inline."
   ]
  },
  {
   "cell_type": "code",
   "execution_count": null,
   "metadata": {
    "scrolled": false
   },
   "outputs": [],
   "source": [
    "visualization_app.run(port=8081, mode=\"inline\")"
   ]
  },
  {
   "cell_type": "markdown",
   "metadata": {},
   "source": [
    "It can be opened externally (by the URL that you can open in a separate tab of your browser, try uncommenting, executing and doing Ctrl+Click on the displayed URL)."
   ]
  },
  {
   "cell_type": "code",
   "execution_count": null,
   "metadata": {},
   "outputs": [],
   "source": [
    "# visualization_app.run(port=8081, mode=\"external\")"
   ]
  }
 ],
 "metadata": {
  "kernelspec": {
   "display_name": "bg",
   "language": "python",
   "name": "bg"
  },
  "language_info": {
   "codemirror_mode": {
    "name": "ipython",
    "version": 3
   },
   "file_extension": ".py",
   "mimetype": "text/x-python",
   "name": "python",
   "nbconvert_exporter": "python",
   "pygments_lexer": "ipython3",
   "version": "3.7.10"
  }
 },
 "nbformat": 4,
 "nbformat_minor": 4
}
