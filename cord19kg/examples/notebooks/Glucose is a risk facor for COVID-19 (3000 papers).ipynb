{
 "cells": [
  {
   "cell_type": "markdown",
   "metadata": {},
   "source": [
    "If you want to run this notebook in Google Colab, run the following cell. Otherwise follow [installation instructions](https://github.com/BlueBrain/BlueGraph/blob/master/README.rst#installation) to install BlueGraph and its dependencies locally."
   ]
  },
  {
   "cell_type": "code",
   "execution_count": null,
   "metadata": {},
   "outputs": [],
   "source": [
    "# Install bluegraph\n",
    "! git clone https://github.com/BlueBrain/BlueGraph\n",
    "! cd BlueGraph && pip install .[cord19kg]\n",
    "\n",
    "# Install graph-tool\n",
    "!echo \"deb http://downloads.skewed.de/apt bionic main\" >> /etc/apt/sources.list\n",
    "!apt-key adv --keyserver keys.openpgp.org --recv-key 612DEFB798507F25\n",
    "!apt-get update\n",
    "!apt-get install python3-graph-tool python3-cairo python3-matplotlib\n",
    "\n",
    "DATA_PATH = \"BlueGraph/cord19kg/examples/data/\""
   ]
  },
  {
   "cell_type": "markdown",
   "metadata": {},
   "source": [
    "# Topic-centered co-occurrence network analysis of CORD-19\n",
    "\n",
    "In this notebook we will perform interactive exploration and analysis of a topic-centered subset of the [CORD-19](https://www.kaggle.com/allen-institute-for-ai/CORD-19-research-challenge) dataset using the `cord19kg` package. The exploration and analysis techniques presented here focus on named entities and their co-occurrence in the scientific articles constituting the dataset.\n",
    "\n",
    "The input data for this notebook contains the named entities extracted from the 3000 most relevant articles to the query _\"Glucose is a risk factor of COVID-19\"_ obtained using the article search model [BlueSearch](https://github.com/BlueBrain/Search). The entity extraction was performed using the Named Entity Recognition (NER) techniques also included in [BlueSearch](https://github.com/BlueBrain/Search). The entities represent 10 different types (i.e. proteins, chemicals, drugs, diseases, conditions, organs, organisms, pathways, cell types, cell compartments). \n",
    "\n",
    "The interactive literature exploration through the named entity co-occurrence analysis consisting of the following steps:\n",
    "\n",
    "1. __Data preparation__ step converts raw mentions into aggregated entity occurrence statistics.\n",
    "2. __Data curation__ step allows the user to manage extracted entities: modify, filter them and link to the ontology.\n",
    "3. __Network generation__ step allows creating entity co-occurrence networks based on paper-, section- and paragraph-level co-occurrence relations between entities. These entity relations are quantified using mutual-information-based scores (pointwise mutual information and its normalized version).\n",
    "4. __Network visualization and analysis__ step allows the user to perform interactive network visualization, edit network elements and perform its analysis (spanning tree, mutual-information based shortest paths between entities, etc)."
   ]
  },
  {
   "cell_type": "code",
   "execution_count": 1,
   "metadata": {},
   "outputs": [],
   "source": [
    "import json\n",
    "import os\n",
    "import zipfile\n",
    "\n",
    "import pandas as pd\n",
    "\n",
    "import dash_cytoscape as cyto\n",
    "\n",
    "from cord19kg.utils import (generate_curation_table,\n",
    "                           link_ontology,\n",
    "                           generate_cooccurrence_analysis)\n",
    "from cord19kg.apps.curation_app import curation_app\n",
    "from cord19kg.apps.visualization_app import visualization_app"
   ]
  },
  {
   "cell_type": "code",
   "execution_count": 2,
   "metadata": {},
   "outputs": [
    {
     "name": "stdout",
     "output_type": "stream",
     "text": [
      "Data path: '../data/'\n"
     ]
    }
   ],
   "source": [
    "try:\n",
    "    print(f\"Data path: '{DATA_PATH}'\")\n",
    "except NameError:\n",
    "    DATA_PATH = \"../data/\"\n",
    "    print(f\"Data path: '{DATA_PATH}'\")"
   ]
  },
  {
   "cell_type": "code",
   "execution_count": 3,
   "metadata": {},
   "outputs": [],
   "source": [
    "cyto.load_extra_layouts()"
   ]
  },
  {
   "cell_type": "markdown",
   "metadata": {},
   "source": [
    "## 1. Data preparation\n",
    "\n",
    "The input dataset contains occurrences of different terms in paragraphs of scientific articles from the CORD-19 dataset previously extracted by means of a NER model."
   ]
  },
  {
   "cell_type": "code",
   "execution_count": 4,
   "metadata": {},
   "outputs": [
    {
     "name": "stdout",
     "output_type": "stream",
     "text": [
      "Decompressing the input data file...\n",
      "Done.\n",
      "CPU times: user 2.51 s, sys: 290 ms, total: 2.8 s\n",
      "Wall time: 2.82 s\n"
     ]
    }
   ],
   "source": [
    "%%time\n",
    "print(\"Decompressing the input data file...\")\n",
    "with zipfile.ZipFile(os.path.join(DATA_PATH, \"Glucose_risk_3000_papers.csv.zip\"), 'r') as zip_ref:\n",
    "    zip_ref.extractall(DATA_PATH)\n",
    "data = pd.read_csv(os.path.join(DATA_PATH, \"Glucose_risk_3000_papers.csv\"))\n",
    "print(\"Done.\")"
   ]
  },
  {
   "cell_type": "code",
   "execution_count": 5,
   "metadata": {},
   "outputs": [
    {
     "data": {
      "text/html": [
       "<div>\n",
       "<style scoped>\n",
       "    .dataframe tbody tr th:only-of-type {\n",
       "        vertical-align: middle;\n",
       "    }\n",
       "\n",
       "    .dataframe tbody tr th {\n",
       "        vertical-align: top;\n",
       "    }\n",
       "\n",
       "    .dataframe thead th {\n",
       "        text-align: right;\n",
       "    }\n",
       "</style>\n",
       "<table border=\"1\" class=\"dataframe\">\n",
       "  <thead>\n",
       "    <tr style=\"text-align: right;\">\n",
       "      <th></th>\n",
       "      <th>entity</th>\n",
       "      <th>entity_type</th>\n",
       "      <th>occurrence</th>\n",
       "    </tr>\n",
       "  </thead>\n",
       "  <tbody>\n",
       "    <tr>\n",
       "      <th>525699</th>\n",
       "      <td>pneumonias</td>\n",
       "      <td>DISEASE</td>\n",
       "      <td>7093:Results:217</td>\n",
       "    </tr>\n",
       "    <tr>\n",
       "      <th>112688</th>\n",
       "      <td>cancer</td>\n",
       "      <td>DISEASE</td>\n",
       "      <td>2548:V18-4-Jd:90</td>\n",
       "    </tr>\n",
       "    <tr>\n",
       "      <th>710214</th>\n",
       "      <td>CFTR</td>\n",
       "      <td>PROTEIN</td>\n",
       "      <td>9769:5W Differences In The Responses Of Human ...</td>\n",
       "    </tr>\n",
       "    <tr>\n",
       "      <th>928438</th>\n",
       "      <td>failure</td>\n",
       "      <td>DISEASE</td>\n",
       "      <td>13233:Discussion:270</td>\n",
       "    </tr>\n",
       "    <tr>\n",
       "      <th>274119</th>\n",
       "      <td>Staphylococcus capitis</td>\n",
       "      <td>DISEASE</td>\n",
       "      <td>5963:-Poster Presentation:70</td>\n",
       "    </tr>\n",
       "  </tbody>\n",
       "</table>\n",
       "</div>"
      ],
      "text/plain": [
       "                        entity entity_type  \\\n",
       "525699              pneumonias     DISEASE   \n",
       "112688                  cancer     DISEASE   \n",
       "710214                    CFTR     PROTEIN   \n",
       "928438                 failure     DISEASE   \n",
       "274119  Staphylococcus capitis     DISEASE   \n",
       "\n",
       "                                               occurrence  \n",
       "525699                                   7093:Results:217  \n",
       "112688                                   2548:V18-4-Jd:90  \n",
       "710214  9769:5W Differences In The Responses Of Human ...  \n",
       "928438                               13233:Discussion:270  \n",
       "274119                       5963:-Poster Presentation:70  "
      ]
     },
     "execution_count": 5,
     "metadata": {},
     "output_type": "execute_result"
    }
   ],
   "source": [
    "data.sample(5)"
   ]
  },
  {
   "cell_type": "markdown",
   "metadata": {},
   "source": [
    "On the first preparation step, we group and aggregate the input data by unique entities."
   ]
  },
  {
   "cell_type": "code",
   "execution_count": 6,
   "metadata": {},
   "outputs": [
    {
     "name": "stdout",
     "output_type": "stream",
     "text": [
      "Prepating curatation data...\n",
      "Cleaning up the entities...\n",
      "Aggregating occurrences of entities....\n",
      "Done.\n",
      "CPU times: user 1min 22s, sys: 1.45 s, total: 1min 24s\n",
      "Wall time: 1min 24s\n"
     ]
    }
   ],
   "source": [
    "%%time\n",
    "print(\"Prepating curatation data...\")\n",
    "curation_input_table, factor_counts = generate_curation_table(data)\n",
    "print(\"Done.\")"
   ]
  },
  {
   "cell_type": "markdown",
   "metadata": {},
   "source": [
    "The resulting dataframe contains a row per unique named entity together with the following occurrence data: \n",
    "- sets of unique paragraphs, papers, sections, where the corresponding entity is mentioned (`paper`, `section`, `paragraph` columns);\n",
    "- number of total entity occurrences (the `raw_frequency` column);\n",
    "- number of unique papers where it occurs (the `paper_frequency` column);\n",
    "- unique entity types assigned by the NER model (the `entity_type` column, multiple types are possible).\n",
    "- raw entity types assigned by the NER model with the multiplicity of thier occurrence (the `raw_entity_types` column).\n"
   ]
  },
  {
   "cell_type": "code",
   "execution_count": 7,
   "metadata": {},
   "outputs": [
    {
     "data": {
      "text/html": [
       "<div>\n",
       "<style scoped>\n",
       "    .dataframe tbody tr th:only-of-type {\n",
       "        vertical-align: middle;\n",
       "    }\n",
       "\n",
       "    .dataframe tbody tr th {\n",
       "        vertical-align: top;\n",
       "    }\n",
       "\n",
       "    .dataframe thead th {\n",
       "        text-align: right;\n",
       "    }\n",
       "</style>\n",
       "<table border=\"1\" class=\"dataframe\">\n",
       "  <thead>\n",
       "    <tr style=\"text-align: right;\">\n",
       "      <th></th>\n",
       "      <th>entity</th>\n",
       "      <th>entity_type</th>\n",
       "      <th>paragraph</th>\n",
       "      <th>paper</th>\n",
       "      <th>section</th>\n",
       "      <th>paper_frequency</th>\n",
       "      <th>raw_entity_types</th>\n",
       "      <th>raw_frequency</th>\n",
       "    </tr>\n",
       "  </thead>\n",
       "  <tbody>\n",
       "    <tr>\n",
       "      <th>85039</th>\n",
       "      <td>typhi</td>\n",
       "      <td>DISEASE, ORGANISM</td>\n",
       "      <td>[22186:Conclusion:603, 214458:Sirs:18, 13279:C...</td>\n",
       "      <td>[22186, 18225, 214458, 13279]</td>\n",
       "      <td>[18225:P1482 Bloodstream Infections Due To Gra...</td>\n",
       "      <td>4</td>\n",
       "      <td>[ORGANISM, DISEASE, ORGANISM, ORGANISM, ORGANISM]</td>\n",
       "      <td>5</td>\n",
       "    </tr>\n",
       "    <tr>\n",
       "      <th>82463</th>\n",
       "      <td>thoracic abnormalities</td>\n",
       "      <td>DISEASE</td>\n",
       "      <td>[1029:C. Common Chest And Abdominal Problems A...</td>\n",
       "      <td>[7045, 1029]</td>\n",
       "      <td>[7045:A-208 09, 1029:C. Common Chest And Abdom...</td>\n",
       "      <td>2</td>\n",
       "      <td>[DISEASE, DISEASE, DISEASE]</td>\n",
       "      <td>3</td>\n",
       "    </tr>\n",
       "    <tr>\n",
       "      <th>76516</th>\n",
       "      <td>serum igf-system components</td>\n",
       "      <td>PROTEIN</td>\n",
       "      <td>[5113:Abstract:128, 5113:Abstract:129]</td>\n",
       "      <td>[5113]</td>\n",
       "      <td>[5113:Abstract]</td>\n",
       "      <td>1</td>\n",
       "      <td>[PROTEIN, PROTEIN]</td>\n",
       "      <td>2</td>\n",
       "    </tr>\n",
       "    <tr>\n",
       "      <th>31300</th>\n",
       "      <td>fluvastatin</td>\n",
       "      <td>DRUG</td>\n",
       "      <td>[22196:In Vitro Effect Of Statins On Intracell...</td>\n",
       "      <td>[6116, 13187, 21542, 165978, 22196, 13599, 182...</td>\n",
       "      <td>[21656:P-03.03.2-009, 28686:Intrapartum Care G...</td>\n",
       "      <td>11</td>\n",
       "      <td>[DRUG, DRUG, DRUG, DRUG, DRUG, DRUG, DRUG, DRU...</td>\n",
       "      <td>16</td>\n",
       "    </tr>\n",
       "    <tr>\n",
       "      <th>78071</th>\n",
       "      <td>socioeconomic factors</td>\n",
       "      <td>PROTEIN</td>\n",
       "      <td>[7151:T1:Ps.153:104, 171873:P1220 National Mrs...</td>\n",
       "      <td>[28060, 5856, 204542, 14091, 200371, 215624, 7...</td>\n",
       "      <td>[184544:Discussion, 209939:6. Discussion, 343:...</td>\n",
       "      <td>48</td>\n",
       "      <td>[PROTEIN, PROTEIN, PROTEIN, PROTEIN, PROTEIN, ...</td>\n",
       "      <td>69</td>\n",
       "    </tr>\n",
       "  </tbody>\n",
       "</table>\n",
       "</div>"
      ],
      "text/plain": [
       "                            entity        entity_type  \\\n",
       "85039                        typhi  DISEASE, ORGANISM   \n",
       "82463       thoracic abnormalities            DISEASE   \n",
       "76516  serum igf-system components            PROTEIN   \n",
       "31300                  fluvastatin               DRUG   \n",
       "78071        socioeconomic factors            PROTEIN   \n",
       "\n",
       "                                               paragraph  \\\n",
       "85039  [22186:Conclusion:603, 214458:Sirs:18, 13279:C...   \n",
       "82463  [1029:C. Common Chest And Abdominal Problems A...   \n",
       "76516             [5113:Abstract:128, 5113:Abstract:129]   \n",
       "31300  [22196:In Vitro Effect Of Statins On Intracell...   \n",
       "78071  [7151:T1:Ps.153:104, 171873:P1220 National Mrs...   \n",
       "\n",
       "                                                   paper  \\\n",
       "85039                      [22186, 18225, 214458, 13279]   \n",
       "82463                                       [7045, 1029]   \n",
       "76516                                             [5113]   \n",
       "31300  [6116, 13187, 21542, 165978, 22196, 13599, 182...   \n",
       "78071  [28060, 5856, 204542, 14091, 200371, 215624, 7...   \n",
       "\n",
       "                                                 section  paper_frequency  \\\n",
       "85039  [18225:P1482 Bloodstream Infections Due To Gra...                4   \n",
       "82463  [7045:A-208 09, 1029:C. Common Chest And Abdom...                2   \n",
       "76516                                    [5113:Abstract]                1   \n",
       "31300  [21656:P-03.03.2-009, 28686:Intrapartum Care G...               11   \n",
       "78071  [184544:Discussion, 209939:6. Discussion, 343:...               48   \n",
       "\n",
       "                                        raw_entity_types  raw_frequency  \n",
       "85039  [ORGANISM, DISEASE, ORGANISM, ORGANISM, ORGANISM]              5  \n",
       "82463                        [DISEASE, DISEASE, DISEASE]              3  \n",
       "76516                                 [PROTEIN, PROTEIN]              2  \n",
       "31300  [DRUG, DRUG, DRUG, DRUG, DRUG, DRUG, DRUG, DRU...             16  \n",
       "78071  [PROTEIN, PROTEIN, PROTEIN, PROTEIN, PROTEIN, ...             69  "
      ]
     },
     "execution_count": 7,
     "metadata": {},
     "output_type": "execute_result"
    }
   ],
   "source": [
    "curation_input_table.sample(5)"
   ]
  },
  {
   "cell_type": "markdown",
   "metadata": {},
   "source": [
    "The second output of the data preparation step outputs the counts of different instances of occurrence factors: number of distinct papers/sections/paragraphs in the input corpus."
   ]
  },
  {
   "cell_type": "code",
   "execution_count": 8,
   "metadata": {},
   "outputs": [
    {
     "data": {
      "text/plain": [
       "{'paper': 3000, 'section': 53947, 'paragraph': 211380}"
      ]
     },
     "execution_count": 8,
     "metadata": {},
     "output_type": "execute_result"
    }
   ],
   "source": [
    "factor_counts"
   ]
  },
  {
   "cell_type": "markdown",
   "metadata": {},
   "source": [
    "## 2. Data curation"
   ]
  },
  {
   "cell_type": "markdown",
   "metadata": {},
   "source": [
    "### Loading the NCIT ontology linking data"
   ]
  },
  {
   "cell_type": "markdown",
   "metadata": {},
   "source": [
    "To group synonymical entities in the previously extracted table (e.g. `ace2`, `ace-2`, `angiotensin-converting enzyme 2`), as well as assign additional semantics to these entities (e.g. human-readable definition, taxonomy, etc), we peform further _linking_ of the entities to the terms from the [NCIT ontology](https://ncithesaurus.nci.nih.gov/ncitbrowser/).\n",
    "\n",
    "To be able to perform such ontology linking, we load some additional (pre-computed using ML-based linking models) data."
   ]
  },
  {
   "cell_type": "code",
   "execution_count": 9,
   "metadata": {},
   "outputs": [
    {
     "name": "stdout",
     "output_type": "stream",
     "text": [
      "Loading the ontology linking data...\n",
      "\tDecompressing the input data file...\n",
      "\tLoading the linking dataframe in memory...\n",
      "\tLoading ontology type mapping...\n",
      "Done.\n",
      "CPU times: user 1.23 s, sys: 185 ms, total: 1.41 s\n",
      "Wall time: 1.43 s\n"
     ]
    }
   ],
   "source": [
    "%%time\n",
    "print(\"Loading the ontology linking data...\")\n",
    "    \n",
    "print(\"\\tDecompressing the input data file...\")\n",
    "with zipfile.ZipFile(os.path.join(DATA_PATH, \"NCIT_ontology_linking_3000_papers.csv.zip\"), 'r') as zip_ref:\n",
    "    zip_ref.extractall(DATA_PATH)\n",
    "\n",
    "print(\"\\tLoading the linking dataframe in memory...\")\n",
    "ontology_linking = pd.read_csv(os.path.join(DATA_PATH, \"NCIT_ontology_linking_3000_papers.csv\"))\n",
    "\n",
    "print(\"\\tLoading ontology type mapping...\")\n",
    "with open(os.path.join(DATA_PATH, \"NCIT_type_mapping.json\"), \"rb\") as f:\n",
    "    type_mapping = json.load(f)\n",
    "print(\"Done.\")"
   ]
  },
  {
   "cell_type": "markdown",
   "metadata": {},
   "source": [
    "The ontology linking table contains the following columns:\n",
    "- `mention` entity mentioned in the text\n",
    "- `concept` ontology concept linked to the entity mention\n",
    "- `uid` unique identifier of the ontology concept\n",
    "- `definition` definition of the concept\n",
    "- `taxonomy` taxonomy of semantic types associated with the concept"
   ]
  },
  {
   "cell_type": "code",
   "execution_count": 10,
   "metadata": {
    "scrolled": true
   },
   "outputs": [
    {
     "data": {
      "text/html": [
       "<div>\n",
       "<style scoped>\n",
       "    .dataframe tbody tr th:only-of-type {\n",
       "        vertical-align: middle;\n",
       "    }\n",
       "\n",
       "    .dataframe tbody tr th {\n",
       "        vertical-align: top;\n",
       "    }\n",
       "\n",
       "    .dataframe thead th {\n",
       "        text-align: right;\n",
       "    }\n",
       "</style>\n",
       "<table border=\"1\" class=\"dataframe\">\n",
       "  <thead>\n",
       "    <tr style=\"text-align: right;\">\n",
       "      <th></th>\n",
       "      <th>mention</th>\n",
       "      <th>concept</th>\n",
       "      <th>uid</th>\n",
       "      <th>definition</th>\n",
       "      <th>taxonomy</th>\n",
       "    </tr>\n",
       "  </thead>\n",
       "  <tbody>\n",
       "    <tr>\n",
       "      <th>24522</th>\n",
       "      <td>meaib</td>\n",
       "      <td>mea</td>\n",
       "      <td>NaN</td>\n",
       "      <td>NaN</td>\n",
       "      <td>NaN</td>\n",
       "    </tr>\n",
       "    <tr>\n",
       "      <th>4594</th>\n",
       "      <td>carbamazepine</td>\n",
       "      <td>carbamazepine</td>\n",
       "      <td>http://purl.obolibrary.org/obo/NCIT_C341</td>\n",
       "      <td>A tricyclic compound chemically related to tri...</td>\n",
       "      <td>[('http://purl.obolibrary.org/obo/NCIT_C264', ...</td>\n",
       "    </tr>\n",
       "    <tr>\n",
       "      <th>84348</th>\n",
       "      <td>epithelial malignant mesotheliomas</td>\n",
       "      <td>epithelioid mesothelioma</td>\n",
       "      <td>http://purl.obolibrary.org/obo/NCIT_C7985</td>\n",
       "      <td>A malignant neoplasm arising from mesothelial ...</td>\n",
       "      <td>[('http://purl.obolibrary.org/obo/NCIT_C8420',...</td>\n",
       "    </tr>\n",
       "    <tr>\n",
       "      <th>134393</th>\n",
       "      <td>h. punctata</td>\n",
       "      <td>punctate</td>\n",
       "      <td>http://purl.obolibrary.org/obo/NCIT_C113776</td>\n",
       "      <td>Having tiny spots or depressions.</td>\n",
       "      <td>[('http://purl.obolibrary.org/obo/NCIT_C13442'...</td>\n",
       "    </tr>\n",
       "    <tr>\n",
       "      <th>136919</th>\n",
       "      <td>ticam2</td>\n",
       "      <td>ticam2</td>\n",
       "      <td>NaN</td>\n",
       "      <td>NaN</td>\n",
       "      <td>NaN</td>\n",
       "    </tr>\n",
       "  </tbody>\n",
       "</table>\n",
       "</div>"
      ],
      "text/plain": [
       "                                   mention                   concept  \\\n",
       "24522                                meaib                       mea   \n",
       "4594                         carbamazepine             carbamazepine   \n",
       "84348   epithelial malignant mesotheliomas  epithelioid mesothelioma   \n",
       "134393                         h. punctata                  punctate   \n",
       "136919                              ticam2                    ticam2   \n",
       "\n",
       "                                                uid  \\\n",
       "24522                                           NaN   \n",
       "4594       http://purl.obolibrary.org/obo/NCIT_C341   \n",
       "84348     http://purl.obolibrary.org/obo/NCIT_C7985   \n",
       "134393  http://purl.obolibrary.org/obo/NCIT_C113776   \n",
       "136919                                          NaN   \n",
       "\n",
       "                                               definition  \\\n",
       "24522                                                 NaN   \n",
       "4594    A tricyclic compound chemically related to tri...   \n",
       "84348   A malignant neoplasm arising from mesothelial ...   \n",
       "134393                  Having tiny spots or depressions.   \n",
       "136919                                                NaN   \n",
       "\n",
       "                                                 taxonomy  \n",
       "24522                                                 NaN  \n",
       "4594    [('http://purl.obolibrary.org/obo/NCIT_C264', ...  \n",
       "84348   [('http://purl.obolibrary.org/obo/NCIT_C8420',...  \n",
       "134393  [('http://purl.obolibrary.org/obo/NCIT_C13442'...  \n",
       "136919                                                NaN  "
      ]
     },
     "execution_count": 10,
     "metadata": {},
     "output_type": "execute_result"
    }
   ],
   "source": [
    "ontology_linking.sample(5)"
   ]
  },
  {
   "cell_type": "markdown",
   "metadata": {},
   "source": [
    "### Interactive curation of  entity occurrence data\n",
    "\n",
    "The package provides an interactive entity curation app that allows the user to visualize the entity occurrence data, modify it, perform ontology linking (see `Link to NCIT ontology` button), filter short or unfrequent entities.\n",
    "\n",
    "The field `Keep` allows specifying a set of entities that must be kept in the dataset at all times (even if they don't satisfy the selected filtering criteria).\n",
    "\n",
    "Finally the value specified in the `Generate Graphs from top 500 frequent entities` field corresponds to the number of top entities (by the frequency of their occurrence in papers) to be included in the co-occurrence network."
   ]
  },
  {
   "cell_type": "markdown",
   "metadata": {},
   "source": [
    "We load the prepared data table into the curation app as follows:"
   ]
  },
  {
   "cell_type": "code",
   "execution_count": 11,
   "metadata": {},
   "outputs": [],
   "source": [
    "curation_app.set_table(curation_input_table.copy())"
   ]
  },
  {
   "cell_type": "markdown",
   "metadata": {},
   "source": [
    "We can specify the default entities to keep."
   ]
  },
  {
   "cell_type": "code",
   "execution_count": 12,
   "metadata": {},
   "outputs": [],
   "source": [
    "default_entities_to_keep = [\"glucose\", \"covid-19\"]\n",
    "curation_app.set_default_terms_to_include(default_entities_to_keep)"
   ]
  },
  {
   "cell_type": "markdown",
   "metadata": {},
   "source": [
    "Finally, we set the ontology linking callback to be fired upon a click on the `Link to NCIT ontology` button."
   ]
  },
  {
   "cell_type": "code",
   "execution_count": 13,
   "metadata": {
    "scrolled": false
   },
   "outputs": [],
   "source": [
    "curation_app.set_ontology_linking_callback(lambda x: link_ontology(ontology_linking, type_mapping, x))"
   ]
  },
  {
   "cell_type": "markdown",
   "metadata": {},
   "source": [
    "### Launch the curation app"
   ]
  },
  {
   "cell_type": "markdown",
   "metadata": {},
   "source": [
    "The application can be launched either inline (inside the current notebook) as below."
   ]
  },
  {
   "cell_type": "code",
   "execution_count": 14,
   "metadata": {},
   "outputs": [
    {
     "name": "stdout",
     "output_type": "stream",
     "text": [
      "Opening port number 8073 failed: Address 'http://127.0.0.1:8073' already in use.\n",
      "    Try passing a different port to run_server.. Trying port number 8074 ...\n"
     ]
    },
    {
     "data": {
      "text/html": [
       "\n",
       "        <iframe\n",
       "            width=\"100%\"\n",
       "            height=\"650\"\n",
       "            src=\"http://127.0.0.1:8074/\"\n",
       "            frameborder=\"0\"\n",
       "            allowfullscreen\n",
       "        ></iframe>\n",
       "        "
      ],
      "text/plain": [
       "<IPython.lib.display.IFrame at 0x7fabd0bf4590>"
      ]
     },
     "metadata": {},
     "output_type": "display_data"
    }
   ],
   "source": [
    "curation_app.run(port=8073, mode=\"inline\")"
   ]
  },
  {
   "cell_type": "markdown",
   "metadata": {},
   "source": [
    "Or it can be opened externally (by the URL that you can open in a separate tab of your browser, try uncommenting, executing and doing Ctrl+Click on the displayed URL)."
   ]
  },
  {
   "cell_type": "code",
   "execution_count": 15,
   "metadata": {},
   "outputs": [
    {
     "name": "stderr",
     "output_type": "stream",
     "text": [
      "Exception in thread Thread-4:\n",
      "Traceback (most recent call last):\n",
      "  File \"/Users/oshurko/opt/anaconda3/envs/bg/lib/python3.7/threading.py\", line 926, in _bootstrap_inner\n",
      "    self.run()\n",
      "  File \"/Users/oshurko/opt/anaconda3/envs/bg/lib/python3.7/threading.py\", line 870, in run\n",
      "    self._target(*self._args, **self._kwargs)\n",
      "  File \"/Users/oshurko/opt/anaconda3/envs/bg/lib/python3.7/site-packages/retrying.py\", line 49, in wrapped_f\n",
      "    return Retrying(*dargs, **dkw).call(f, *args, **kw)\n",
      "  File \"/Users/oshurko/opt/anaconda3/envs/bg/lib/python3.7/site-packages/retrying.py\", line 212, in call\n",
      "    raise attempt.get()\n",
      "  File \"/Users/oshurko/opt/anaconda3/envs/bg/lib/python3.7/site-packages/retrying.py\", line 247, in get\n",
      "    six.reraise(self.value[0], self.value[1], self.value[2])\n",
      "  File \"/Users/oshurko/opt/anaconda3/envs/bg/lib/python3.7/site-packages/six.py\", line 703, in reraise\n",
      "    raise value\n",
      "  File \"/Users/oshurko/opt/anaconda3/envs/bg/lib/python3.7/site-packages/retrying.py\", line 200, in call\n",
      "    attempt = Attempt(fn(*args, **kwargs), attempt_number, False)\n",
      "  File \"/Users/oshurko/opt/anaconda3/envs/bg/lib/python3.7/site-packages/jupyter_dash/jupyter_app.py\", line 289, in run\n",
      "    super_run_server(**kwargs)\n",
      "  File \"/Users/oshurko/opt/anaconda3/envs/bg/lib/python3.7/site-packages/dash/dash.py\", line 1717, in run_server\n",
      "    self.server.run(host=host, port=port, debug=debug, **flask_run_options)\n",
      "  File \"/Users/oshurko/opt/anaconda3/envs/bg/lib/python3.7/site-packages/flask/app.py\", line 990, in run\n",
      "    run_simple(host, port, self, **options)\n",
      "  File \"/Users/oshurko/opt/anaconda3/envs/bg/lib/python3.7/site-packages/werkzeug/serving.py\", line 1052, in run_simple\n",
      "    inner()\n",
      "  File \"/Users/oshurko/opt/anaconda3/envs/bg/lib/python3.7/site-packages/werkzeug/serving.py\", line 1005, in inner\n",
      "    fd=fd,\n",
      "  File \"/Users/oshurko/opt/anaconda3/envs/bg/lib/python3.7/site-packages/werkzeug/serving.py\", line 848, in make_server\n",
      "    host, port, app, request_handler, passthrough_errors, ssl_context, fd=fd\n",
      "  File \"/Users/oshurko/opt/anaconda3/envs/bg/lib/python3.7/site-packages/werkzeug/serving.py\", line 740, in __init__\n",
      "    HTTPServer.__init__(self, server_address, handler)\n",
      "  File \"/Users/oshurko/opt/anaconda3/envs/bg/lib/python3.7/socketserver.py\", line 452, in __init__\n",
      "    self.server_bind()\n",
      "  File \"/Users/oshurko/opt/anaconda3/envs/bg/lib/python3.7/http/server.py\", line 137, in server_bind\n",
      "    socketserver.TCPServer.server_bind(self)\n",
      "  File \"/Users/oshurko/opt/anaconda3/envs/bg/lib/python3.7/socketserver.py\", line 466, in server_bind\n",
      "    self.socket.bind(self.server_address)\n",
      "OSError: [Errno 48] Address already in use\n",
      "\n"
     ]
    },
    {
     "name": "stdout",
     "output_type": "stream",
     "text": [
      "Merging the occurrence data with the ontology linking...\n"
     ]
    }
   ],
   "source": [
    "# curation_app.run(port=8070, mode=\"external\")"
   ]
  },
  {
   "cell_type": "markdown",
   "metadata": {},
   "source": [
    "## 3. Co-occurrence network generation"
   ]
  },
  {
   "cell_type": "markdown",
   "metadata": {},
   "source": [
    "Current curation table displayed in the curation app can be extracted using the `get_curated_table` method."
   ]
  },
  {
   "cell_type": "code",
   "execution_count": 16,
   "metadata": {},
   "outputs": [
    {
     "data": {
      "text/html": [
       "<div>\n",
       "<style scoped>\n",
       "    .dataframe tbody tr th:only-of-type {\n",
       "        vertical-align: middle;\n",
       "    }\n",
       "\n",
       "    .dataframe tbody tr th {\n",
       "        vertical-align: top;\n",
       "    }\n",
       "\n",
       "    .dataframe thead th {\n",
       "        text-align: right;\n",
       "    }\n",
       "</style>\n",
       "<table border=\"1\" class=\"dataframe\">\n",
       "  <thead>\n",
       "    <tr style=\"text-align: right;\">\n",
       "      <th></th>\n",
       "      <th>paper</th>\n",
       "      <th>section</th>\n",
       "      <th>paragraph</th>\n",
       "      <th>aggregated_entities</th>\n",
       "      <th>uid</th>\n",
       "      <th>definition</th>\n",
       "      <th>paper_frequency</th>\n",
       "      <th>entity_type</th>\n",
       "    </tr>\n",
       "    <tr>\n",
       "      <th>entity</th>\n",
       "      <th></th>\n",
       "      <th></th>\n",
       "      <th></th>\n",
       "      <th></th>\n",
       "      <th></th>\n",
       "      <th></th>\n",
       "      <th></th>\n",
       "      <th></th>\n",
       "    </tr>\n",
       "  </thead>\n",
       "  <tbody>\n",
       "    <tr>\n",
       "      <th>tra</th>\n",
       "      <td>{21655, 21806, 209939, 5680, 8327, 18225, 7095}</td>\n",
       "      <td>{209939:2. Theoretical Framework, 18225:P917 M...</td>\n",
       "      <td>{21806:Abstract:664, 18225:P917 Molecular Char...</td>\n",
       "      <td>[tcra, tcrab, tra, traj]</td>\n",
       "      <td>NaN</td>\n",
       "      <td>NaN</td>\n",
       "      <td>7</td>\n",
       "      <td>PROTEIN</td>\n",
       "    </tr>\n",
       "    <tr>\n",
       "      <th>orchiectomy</th>\n",
       "      <td>{5949, 7094, 13250, 14095, 21665}</td>\n",
       "      <td>{14095:F-268, 7094:J335, 13250:E28, 21665:B2.8...</td>\n",
       "      <td>{5949:Objectives.:366, 21665:B2.86:278, 14095:...</td>\n",
       "      <td>[castration]</td>\n",
       "      <td>http://purl.obolibrary.org/obo/NCIT_C15288</td>\n",
       "      <td>Surgical removal of one or both testicles.</td>\n",
       "      <td>5</td>\n",
       "      <td>PATHWAY</td>\n",
       "    </tr>\n",
       "    <tr>\n",
       "      <th>antibacterial agent</th>\n",
       "      <td>{210565, 21655, 217999, 227856, 21652, 228773,...</td>\n",
       "      <td>{21655:Pp8-11, 14321:P793 Moxifloxacin Inhibit...</td>\n",
       "      <td>{21673:P19.55:504, 21542:P1340 Comparative Res...</td>\n",
       "      <td>[antibacterial, antibacterial drugs, antibacte...</td>\n",
       "      <td>http://purl.obolibrary.org/obo/NCIT_C52588</td>\n",
       "      <td>A family of substances capable of destroying o...</td>\n",
       "      <td>29</td>\n",
       "      <td>DRUG</td>\n",
       "    </tr>\n",
       "  </tbody>\n",
       "</table>\n",
       "</div>"
      ],
      "text/plain": [
       "                                                                 paper  \\\n",
       "entity                                                                   \n",
       "tra                    {21655, 21806, 209939, 5680, 8327, 18225, 7095}   \n",
       "orchiectomy                          {5949, 7094, 13250, 14095, 21665}   \n",
       "antibacterial agent  {210565, 21655, 217999, 227856, 21652, 228773,...   \n",
       "\n",
       "                                                               section  \\\n",
       "entity                                                                   \n",
       "tra                  {209939:2. Theoretical Framework, 18225:P917 M...   \n",
       "orchiectomy          {14095:F-268, 7094:J335, 13250:E28, 21665:B2.8...   \n",
       "antibacterial agent  {21655:Pp8-11, 14321:P793 Moxifloxacin Inhibit...   \n",
       "\n",
       "                                                             paragraph  \\\n",
       "entity                                                                   \n",
       "tra                  {21806:Abstract:664, 18225:P917 Molecular Char...   \n",
       "orchiectomy          {5949:Objectives.:366, 21665:B2.86:278, 14095:...   \n",
       "antibacterial agent  {21673:P19.55:504, 21542:P1340 Comparative Res...   \n",
       "\n",
       "                                                   aggregated_entities  \\\n",
       "entity                                                                   \n",
       "tra                                           [tcra, tcrab, tra, traj]   \n",
       "orchiectomy                                               [castration]   \n",
       "antibacterial agent  [antibacterial, antibacterial drugs, antibacte...   \n",
       "\n",
       "                                                            uid  \\\n",
       "entity                                                            \n",
       "tra                                                         NaN   \n",
       "orchiectomy          http://purl.obolibrary.org/obo/NCIT_C15288   \n",
       "antibacterial agent  http://purl.obolibrary.org/obo/NCIT_C52588   \n",
       "\n",
       "                                                            definition  \\\n",
       "entity                                                                   \n",
       "tra                                                                NaN   \n",
       "orchiectomy                 Surgical removal of one or both testicles.   \n",
       "antibacterial agent  A family of substances capable of destroying o...   \n",
       "\n",
       "                     paper_frequency entity_type  \n",
       "entity                                            \n",
       "tra                                7     PROTEIN  \n",
       "orchiectomy                        5     PATHWAY  \n",
       "antibacterial agent               29        DRUG  "
      ]
     },
     "execution_count": 16,
     "metadata": {},
     "output_type": "execute_result"
    }
   ],
   "source": [
    "curated_occurrence_data = curation_app.get_curated_table()\n",
    "curated_occurrence_data.sample(3)"
   ]
  },
  {
   "cell_type": "markdown",
   "metadata": {},
   "source": [
    "Before we can proceed we need to convert paper/section and paragraph columns into `set`."
   ]
  },
  {
   "cell_type": "code",
   "execution_count": 17,
   "metadata": {},
   "outputs": [],
   "source": [
    "curated_occurrence_data[\"paper\"] = curated_occurrence_data[\"paper\"].apply(set)\n",
    "curated_occurrence_data[\"paragraph\"] = curated_occurrence_data[\"paragraph\"].apply(set)\n",
    "curated_occurrence_data[\"section\"] = curated_occurrence_data[\"section\"].apply(set)"
   ]
  },
  {
   "cell_type": "markdown",
   "metadata": {},
   "source": [
    "We can also retreive current values of the `Keep` field (these entities will be also included in the resulting co-occurrence network)."
   ]
  },
  {
   "cell_type": "code",
   "execution_count": 18,
   "metadata": {},
   "outputs": [
    {
     "data": {
      "text/plain": [
       "['glucose', 'covid-19']"
      ]
     },
     "execution_count": 18,
     "metadata": {},
     "output_type": "execute_result"
    }
   ],
   "source": [
    "curation_app.get_terms_to_include()"
   ]
  },
  {
   "cell_type": "markdown",
   "metadata": {},
   "source": [
    "### Generating co-occurrence networks\n",
    "\n",
    "In the cell below we generate a paper-based entity co-occurrence network. Along with the network generation the `generate_comention_analysis` function:\n",
    "\n",
    "- computes node centrality metrics (such as degree, RageRank)\n",
    "- computes co-occurrence statistics (such as frequency, pointwise mutual information and normalized pointwise mutual information) and assignes them as weights to the corresponding edges\n",
    "- performs entity community detection based on different co-occurrence statistics\n",
    "- computes mutual-information-based minimum spanning trees.\n",
    "\n",
    "Here we set the number of entities to include to the 1500 most frequent entities."
   ]
  },
  {
   "cell_type": "markdown",
   "metadata": {},
   "source": [
    "Before we run the co-occurrence analysis, we will create a dictionary with backend configurations for the analytics: we set metrics (centalities) computation to use `graph_tool`, community detection to use `networkx` and, finally, path search to use `graph_tool` as well."
   ]
  },
  {
   "cell_type": "code",
   "execution_count": 19,
   "metadata": {},
   "outputs": [],
   "source": [
    "import time"
   ]
  },
  {
   "cell_type": "code",
   "execution_count": 20,
   "metadata": {},
   "outputs": [],
   "source": [
    "backend_configs = {\n",
    "    \"metrics\": \"graph_tool\",\n",
    "    \"communities\": \"networkx\",\n",
    "    \"paths\": \"graph_tool\"\n",
    "}"
   ]
  },
  {
   "cell_type": "code",
   "execution_count": 22,
   "metadata": {},
   "outputs": [],
   "source": [
    "top_n_entities_to_include = 1500  \n",
    "# note that if you run this notebook in Colab, you may want to set a lower number\n",
    "# of entities to include, in order to avoid long generation time"
   ]
  },
  {
   "cell_type": "code",
   "execution_count": null,
   "metadata": {
    "scrolled": true
   },
   "outputs": [
    {
     "name": "stdout",
     "output_type": "stream",
     "text": [
      "-------------------------------\n",
      "Factor: paragraph\n",
      "-------------------------------\n"
     ]
    }
   ],
   "source": [
    "%%time\n",
    "type_data = curated_occurrence_data[[\"entity_type\"]].rename(columns={\"entity_type\": \"type\"})\n",
    "\n",
    "graphs, trees = generate_cooccurrence_analysis(\n",
    "    curated_occurrence_data,  factor_counts,\n",
    "    n_most_frequent=top_n_entities_to_include,\n",
    "    type_data=type_data, \n",
    "    factors=[\"paragraph\"],\n",
    "    keep=curation_app.get_terms_to_include(),\n",
    "    cores=8, \n",
    "    backend_configs=backend_configs)  # here set up the number of cores  \n",
    "print(\"Done.\")"
   ]
  },
  {
   "cell_type": "markdown",
   "metadata": {},
   "source": [
    "## 4. Network visualization and analysis"
   ]
  },
  {
   "cell_type": "markdown",
   "metadata": {},
   "source": [
    "### Loading the generated graph into the visualization app"
   ]
  },
  {
   "cell_type": "markdown",
   "metadata": {},
   "source": [
    "First of all, we set a backend for the visualization app (currently two backends are supported: based on `NetworkX` and `graph-tool`, in this example we use the latter)."
   ]
  },
  {
   "cell_type": "code",
   "execution_count": 31,
   "metadata": {},
   "outputs": [],
   "source": [
    "visualization_app.set_backend(\"graph_tool\")"
   ]
  },
  {
   "cell_type": "code",
   "execution_count": 32,
   "metadata": {},
   "outputs": [],
   "source": [
    "# #  Run the following use NetworkX as the backend for the visualization app\n",
    "# visualization_app.set_backend(\"networkx\")"
   ]
  },
  {
   "cell_type": "code",
   "execution_count": 33,
   "metadata": {},
   "outputs": [
    {
     "ename": "KeyError",
     "evalue": "'@id'",
     "output_type": "error",
     "traceback": [
      "\u001b[0;31m---------------------------------------------------------------------------\u001b[0m",
      "\u001b[0;31mKeyError\u001b[0m                                  Traceback (most recent call last)",
      "\u001b[0;32m<ipython-input-33-1ed2f0b0c588>\u001b[0m in \u001b[0;36m<module>\u001b[0;34m\u001b[0m\n\u001b[1;32m      1\u001b[0m visualization_app.add_graph(\n\u001b[1;32m      2\u001b[0m     \u001b[0;34m\"Paragraph-based graph\"\u001b[0m\u001b[0;34m,\u001b[0m \u001b[0mgraphs\u001b[0m\u001b[0;34m[\u001b[0m\u001b[0;34m\"paragraph\"\u001b[0m\u001b[0;34m]\u001b[0m\u001b[0;34m,\u001b[0m\u001b[0;34m\u001b[0m\u001b[0;34m\u001b[0m\u001b[0m\n\u001b[0;32m----> 3\u001b[0;31m     tree=trees[\"paragraph\"], default_top_n=100)\n\u001b[0m\u001b[1;32m      4\u001b[0m \u001b[0;34m\u001b[0m\u001b[0m\n\u001b[1;32m      5\u001b[0m \u001b[0mvisualization_app\u001b[0m\u001b[0;34m.\u001b[0m\u001b[0mset_current_graph\u001b[0m\u001b[0;34m(\u001b[0m\u001b[0;34m\"Paragraph-based graph\"\u001b[0m\u001b[0;34m)\u001b[0m\u001b[0;34m\u001b[0m\u001b[0;34m\u001b[0m\u001b[0m\n",
      "\u001b[0;32m~/opt/anaconda3/envs/bluegraph/lib/python3.6/site-packages/cord19kg/apps/visualization_app.py\u001b[0m in \u001b[0;36madd_graph\u001b[0;34m(self, graph_id, graph, tree, positions, default_top_n, full_graph_view)\u001b[0m\n\u001b[1;32m    518\u001b[0m         \u001b[0;31m# Build a cyto repr with the spanning tree with default top n nodes\u001b[0m\u001b[0;34m\u001b[0m\u001b[0;34m\u001b[0m\u001b[0;34m\u001b[0m\u001b[0m\n\u001b[1;32m    519\u001b[0m         self._update_cyto_graph(\n\u001b[0;32m--> 520\u001b[0;31m             graph_id, processor, default_top_n, positions)\n\u001b[0m\u001b[1;32m    521\u001b[0m \u001b[0;34m\u001b[0m\u001b[0m\n\u001b[1;32m    522\u001b[0m         self.dropdown_items.options = [\n",
      "\u001b[0;32m~/opt/anaconda3/envs/bluegraph/lib/python3.6/site-packages/cord19kg/apps/visualization_app.py\u001b[0m in \u001b[0;36m_update_cyto_graph\u001b[0;34m(self, graph_id, processor, top_n_entities, positions, node_freq_type, edge_freq_type, node_subset, nodes_to_keep)\u001b[0m\n\u001b[1;32m    390\u001b[0m                 graph_view = top_n_spanning_tree(\n\u001b[1;32m    391\u001b[0m                     \u001b[0mprocessor\u001b[0m\u001b[0;34m,\u001b[0m \u001b[0mtop_n_entities\u001b[0m\u001b[0;34m,\u001b[0m \u001b[0mself\u001b[0m\u001b[0;34m.\u001b[0m\u001b[0m_backend\u001b[0m\u001b[0;34m,\u001b[0m\u001b[0;34m\u001b[0m\u001b[0;34m\u001b[0m\u001b[0m\n\u001b[0;32m--> 392\u001b[0;31m                     node_subset=node_subset, nodes_to_keep=nodes_to_keep)\n\u001b[0m\u001b[1;32m    393\u001b[0m         \u001b[0;32melse\u001b[0m\u001b[0;34m:\u001b[0m\u001b[0;34m\u001b[0m\u001b[0;34m\u001b[0m\u001b[0m\n\u001b[1;32m    394\u001b[0m             \u001b[0;32mif\u001b[0m \u001b[0mtop_n_entities\u001b[0m \u001b[0;32mis\u001b[0m \u001b[0;32mNone\u001b[0m\u001b[0;34m:\u001b[0m\u001b[0;34m\u001b[0m\u001b[0;34m\u001b[0m\u001b[0m\n",
      "\u001b[0;32m~/opt/anaconda3/envs/bluegraph/lib/python3.6/site-packages/cord19kg/apps/visualization_app.py\u001b[0m in \u001b[0;36mtop_n_spanning_tree\u001b[0;34m(graph_processor, n, backend, node_subset, nodes_to_keep)\u001b[0m\n\u001b[1;32m    130\u001b[0m                         nodes_to_keep=None):\n\u001b[1;32m    131\u001b[0m     nodes_to_include = get_top_n_nodes(\n\u001b[0;32m--> 132\u001b[0;31m         graph_processor, n, node_subset, nodes_to_keep)\n\u001b[0m\u001b[1;32m    133\u001b[0m     \u001b[0msubgraph\u001b[0m \u001b[0;34m=\u001b[0m \u001b[0mgraph_processor\u001b[0m\u001b[0;34m.\u001b[0m\u001b[0msubgraph\u001b[0m\u001b[0;34m(\u001b[0m\u001b[0mnodes_to_include\u001b[0m\u001b[0;34m=\u001b[0m\u001b[0mnodes_to_include\u001b[0m\u001b[0;34m)\u001b[0m\u001b[0;34m\u001b[0m\u001b[0;34m\u001b[0m\u001b[0m\n\u001b[1;32m    134\u001b[0m     path_finder = BACKEND_MAPPING[backend][\"paths\"].from_graph_object(\n",
      "\u001b[0;32m~/opt/anaconda3/envs/bluegraph/lib/python3.6/site-packages/cord19kg/apps/visualization_app.py\u001b[0m in \u001b[0;36mget_top_n_nodes\u001b[0;34m(graph_processor, n, node_subset, nodes_to_keep)\u001b[0m\n\u001b[1;32m     97\u001b[0m         \u001b[0mnodes_to_keep\u001b[0m \u001b[0;34m=\u001b[0m \u001b[0;34m[\u001b[0m\u001b[0;34m]\u001b[0m\u001b[0;34m\u001b[0m\u001b[0;34m\u001b[0m\u001b[0m\n\u001b[1;32m     98\u001b[0m \u001b[0;34m\u001b[0m\u001b[0m\n\u001b[0;32m---> 99\u001b[0;31m     \u001b[0mnodes\u001b[0m \u001b[0;34m=\u001b[0m \u001b[0mdict\u001b[0m\u001b[0;34m(\u001b[0m\u001b[0mgraph_processor\u001b[0m\u001b[0;34m.\u001b[0m\u001b[0mnodes\u001b[0m\u001b[0;34m(\u001b[0m\u001b[0mproperties\u001b[0m\u001b[0;34m=\u001b[0m\u001b[0;32mTrue\u001b[0m\u001b[0;34m)\u001b[0m\u001b[0;34m)\u001b[0m\u001b[0;34m\u001b[0m\u001b[0;34m\u001b[0m\u001b[0m\n\u001b[0m\u001b[1;32m    100\u001b[0m \u001b[0;34m\u001b[0m\u001b[0m\n\u001b[1;32m    101\u001b[0m     \u001b[0;32mif\u001b[0m \u001b[0mn\u001b[0m \u001b[0;32mis\u001b[0m \u001b[0;32mNone\u001b[0m\u001b[0;34m:\u001b[0m\u001b[0;34m\u001b[0m\u001b[0;34m\u001b[0m\u001b[0m\n",
      "\u001b[0;32m~/opt/anaconda3/envs/bluegraph/lib/python3.6/site-packages/bluegraph/backends/graph_tool/io.py\u001b[0m in \u001b[0;36mnodes\u001b[0;34m(self, properties)\u001b[0m\n\u001b[1;32m    199\u001b[0m                     self.graph.vp[p] for p in props]):\n\u001b[1;32m    200\u001b[0m                 \u001b[0mraw_props\u001b[0m \u001b[0;34m=\u001b[0m \u001b[0mdict\u001b[0m\u001b[0;34m(\u001b[0m\u001b[0mzip\u001b[0m\u001b[0;34m(\u001b[0m\u001b[0mprops\u001b[0m\u001b[0;34m,\u001b[0m \u001b[0mv\u001b[0m\u001b[0;34m[\u001b[0m\u001b[0;36m1\u001b[0m\u001b[0;34m:\u001b[0m\u001b[0;34m]\u001b[0m\u001b[0;34m)\u001b[0m\u001b[0;34m)\u001b[0m\u001b[0;34m\u001b[0m\u001b[0;34m\u001b[0m\u001b[0m\n\u001b[0;32m--> 201\u001b[0;31m                 \u001b[0mnode_id\u001b[0m \u001b[0;34m=\u001b[0m \u001b[0mraw_props\u001b[0m\u001b[0;34m[\u001b[0m\u001b[0;34m\"@id\"\u001b[0m\u001b[0;34m]\u001b[0m\u001b[0;34m\u001b[0m\u001b[0;34m\u001b[0m\u001b[0m\n\u001b[0m\u001b[1;32m    202\u001b[0m                 \u001b[0;32mdel\u001b[0m \u001b[0mraw_props\u001b[0m\u001b[0;34m[\u001b[0m\u001b[0;34m\"@id\"\u001b[0m\u001b[0;34m]\u001b[0m\u001b[0;34m\u001b[0m\u001b[0;34m\u001b[0m\u001b[0m\n\u001b[1;32m    203\u001b[0m                 \u001b[0mresult\u001b[0m\u001b[0;34m.\u001b[0m\u001b[0mappend\u001b[0m\u001b[0;34m(\u001b[0m\u001b[0;34m(\u001b[0m\u001b[0mnode_id\u001b[0m\u001b[0;34m,\u001b[0m \u001b[0mraw_props\u001b[0m\u001b[0;34m)\u001b[0m\u001b[0;34m)\u001b[0m\u001b[0;34m\u001b[0m\u001b[0;34m\u001b[0m\u001b[0m\n",
      "\u001b[0;31mKeyError\u001b[0m: '@id'"
     ]
    }
   ],
   "source": [
    "visualization_app.add_graph(\n",
    "    \"Paragraph-based graph\", graphs[\"paragraph\"],\n",
    "    tree=trees[\"paragraph\"], default_top_n=100)\n",
    "\n",
    "visualization_app.set_current_graph(\"Paragraph-based graph\")"
   ]
  },
  {
   "cell_type": "markdown",
   "metadata": {},
   "source": [
    "### Loading papers' meta-data into the app\n",
    "\n",
    "We now load an additional dataset containing some meta-data on the papers where the entities analyzed in this notebook occur."
   ]
  },
  {
   "cell_type": "code",
   "execution_count": null,
   "metadata": {
    "scrolled": true
   },
   "outputs": [],
   "source": [
    "paper_data = pd.read_csv(os.path.join(DATA_PATH, \"Glucose_risk_3000_paper_meta_data.csv\"))\n",
    "paper_data = paper_data.set_index(\"id\")\n",
    "paper_data.head(3)"
   ]
  },
  {
   "cell_type": "markdown",
   "metadata": {},
   "source": [
    "We pass a callback for the lookup of paper meta-data to the visualization app using the `set_list_papers_callback` method."
   ]
  },
  {
   "cell_type": "code",
   "execution_count": null,
   "metadata": {},
   "outputs": [],
   "source": [
    "def list_papers(paper_data, selected_papers, limit=200):\n",
    "    selected_paper_data = paper_data.loc[[int(p) for p in selected_papers]].head(200)\n",
    "    return selected_paper_data.to_dict(\"records\")\n",
    "\n",
    "visualization_app.set_list_papers_callback(lambda x: list_papers(paper_data, x))"
   ]
  },
  {
   "cell_type": "markdown",
   "metadata": {},
   "source": [
    "The ontology linking process described above is noisy, therefore, we would like to keep a possibility of accessing, the raw entities that were linked to particular ontology concepts. For this we define the function `get_aggregated_entities` that retreives such raw entities and we pass it to the visualization app using the `set_aggregated_entities_callback` method."
   ]
  },
  {
   "cell_type": "code",
   "execution_count": null,
   "metadata": {},
   "outputs": [],
   "source": [
    "def top_n(data_dict, n, smallest=False):\n",
    "    \"\"\"Return top `n` keys of the input dictionary by their value.\"\"\"\n",
    "    df = pd.DataFrame(dict(data_dict).items(), columns=[\"id\", \"value\"])\n",
    "    if smallest:\n",
    "        df = df.nsmallest(n, columns=[\"value\"])\n",
    "    else:\n",
    "        df = df.nlargest(n, columns=[\"value\"])\n",
    "    return(list(df[\"id\"]))\n",
    "\n",
    "\n",
    "def get_aggregated_entities(entity, n):\n",
    "    if \"aggregated_entities\" in curated_occurrence_data.columns:\n",
    "        aggregated = curated_occurrence_data.loc[entity][\"aggregated_entities\"]\n",
    "    else:\n",
    "        aggregated = [entity]\n",
    "    if curation_input_table is not None:\n",
    "        df = curation_input_table.set_index(\"entity\")\n",
    "        if entity in curated_occurrence_data.index:\n",
    "            freqs = df.loc[aggregated][\"paper_frequency\"].to_dict()\n",
    "        else:\n",
    "            return {}\n",
    "    else:\n",
    "        df = data.copy()\n",
    "        df[\"entity\"] = data[\"entity\"].apply(lambda x: x.lower())\n",
    "        freqs = df[df[\"entity\"].apply(lambda x: x.lower() in aggregated)].groupby(\"entity\").aggregate(\n",
    "            lambda x: len(x))[\"entity_type\"].to_dict()\n",
    "    if len(freqs) == 0:\n",
    "        return {}\n",
    "    return {e: freqs[e] for e in top_n(freqs, n)}\n",
    "\n",
    "visualization_app.set_aggregated_entities_callback(\n",
    "    lambda x: get_aggregated_entities(x, 10))"
   ]
  },
  {
   "cell_type": "markdown",
   "metadata": {},
   "source": [
    "Finally, we create a dictionary `definitions` that will serve the visualization app as the lookup table for accessing the definitions of different ontology concepts."
   ]
  },
  {
   "cell_type": "code",
   "execution_count": null,
   "metadata": {},
   "outputs": [],
   "source": [
    "definitions = ontology_linking[[\"concept\", \"definition\"]].groupby(\n",
    "    \"concept\").aggregate(lambda x: list(x)[0]).to_dict()[\"definition\"]\n",
    "visualization_app.set_entity_definitons(definitions)"
   ]
  },
  {
   "cell_type": "markdown",
   "metadata": {},
   "source": [
    "### Launching the visualization app"
   ]
  },
  {
   "cell_type": "markdown",
   "metadata": {},
   "source": [
    "As before, the interactive graph visualization app can be launched in two modes: inline and external. Here we recommend the external mode for better user experience."
   ]
  },
  {
   "cell_type": "code",
   "execution_count": null,
   "metadata": {
    "scrolled": false
   },
   "outputs": [],
   "source": [
    "visualization_app.run(port=8081, mode=\"external\")"
   ]
  }
 ],
 "metadata": {
  "kernelspec": {
   "display_name": "bg",
   "language": "python",
   "name": "bg"
  },
  "language_info": {
   "codemirror_mode": {
    "name": "ipython",
    "version": 3
   },
   "file_extension": ".py",
   "mimetype": "text/x-python",
   "name": "python",
   "nbconvert_exporter": "python",
   "pygments_lexer": "ipython3",
   "version": "3.7.10"
  }
 },
 "nbformat": 4,
 "nbformat_minor": 4
}
