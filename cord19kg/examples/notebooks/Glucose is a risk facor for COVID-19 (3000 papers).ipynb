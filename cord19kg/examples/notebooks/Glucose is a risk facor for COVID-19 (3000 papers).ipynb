{
 "cells": [
  {
   "cell_type": "markdown",
   "metadata": {},
   "source": [
    "# Topic-centered co-occurrence network analysis of CORD-19\n",
    "\n",
    "In this notebook we will perform interactive exploration and analysis of a topic-centered subset of the [CORD-19](https://www.kaggle.com/allen-institute-for-ai/CORD-19-research-challenge) dataset using the `cord19kg` package. The exploration and analysis techniques presented here focus on named entities and their co-occurrence in the scientific articles constituting the dataset.\n",
    "\n",
    "The input data for this notebook contains the named entities extracted from the 3000 most relevant articles to the query _\"Glucose is a risk factor of COVID-19\"_ obtained using the article search model [ref to blue brain search](). The entity extraction was performed using the Named Entity Recognition (NER) techniques also included in [ref to blue brain search](). The entities represent 10 different types (i.e. proteins, chemicals, drugs, diseases, conditions, organs, organisms, pathways, cell types, cell compartments). \n",
    "\n",
    "The interactive literature exploration through the named entity co-occurrence analysis consisting of the following steps:\n",
    "\n",
    "1. __Data preparation__ step converts raw mentions into aggregated entity occurrence statistics.\n",
    "2. __Data curation__ step allows the user to manage extracted entities: modify, filter them and link to the ontology.\n",
    "3. __Network generation__ step allows creating entity co-occurrence networks based on paper-, section- and paragraph-level co-occurrence relations between entities. These entity relations are quantified using mutual-information-based scores (pointwise mutual information and its normalized version).\n",
    "4. __Network visualization and analysis__ step allows the user to perform interactive network visualization, edit network elements and perform its analysis (spanning tree, mutual-information based shortest paths between entities, etc)."
   ]
  },
  {
   "cell_type": "code",
   "execution_count": 1,
   "metadata": {},
   "outputs": [],
   "source": [
    "import json\n",
    "import zipfile\n",
    "\n",
    "import pandas as pd\n",
    "\n",
    "import dash_cytoscape as cyto\n",
    "\n",
    "from cord19kg.utils import (generate_curation_table,\n",
    "                           link_ontology,\n",
    "                           generate_cooccurrence_analysis)\n",
    "from cord19kg.apps.curation_app import curation_app\n",
    "from cord19kg.apps.visualization_app import visualization_app"
   ]
  },
  {
   "cell_type": "code",
   "execution_count": 2,
   "metadata": {},
   "outputs": [],
   "source": [
    "cyto.load_extra_layouts()"
   ]
  },
  {
   "cell_type": "markdown",
   "metadata": {},
   "source": [
    "## 1. Data preparation\n",
    "\n",
    "The input dataset contains occurrences of different terms in paragraphs of scientific articles from the CORD-19 dataset previously extracted by means of a NER model."
   ]
  },
  {
   "cell_type": "code",
   "execution_count": 3,
   "metadata": {},
   "outputs": [
    {
     "name": "stdout",
     "output_type": "stream",
     "text": [
      "Decompressing the input data file...\n",
      "Done.\n",
      "CPU times: user 2.3 s, sys: 278 ms, total: 2.58 s\n",
      "Wall time: 2.61 s\n"
     ]
    }
   ],
   "source": [
    "%%time\n",
    "print(\"Decompressing the input data file...\")\n",
    "with zipfile.ZipFile(\"../data/Glucose_risk_3000_papers.csv.zip\", 'r') as zip_ref:\n",
    "    zip_ref.extractall(\"../data/\")\n",
    "data = pd.read_csv(\"../data/Glucose_risk_3000_papers.csv\")\n",
    "print(\"Done.\")"
   ]
  },
  {
   "cell_type": "code",
   "execution_count": 4,
   "metadata": {},
   "outputs": [
    {
     "data": {
      "text/html": [
       "<div>\n",
       "<style scoped>\n",
       "    .dataframe tbody tr th:only-of-type {\n",
       "        vertical-align: middle;\n",
       "    }\n",
       "\n",
       "    .dataframe tbody tr th {\n",
       "        vertical-align: top;\n",
       "    }\n",
       "\n",
       "    .dataframe thead th {\n",
       "        text-align: right;\n",
       "    }\n",
       "</style>\n",
       "<table border=\"1\" class=\"dataframe\">\n",
       "  <thead>\n",
       "    <tr style=\"text-align: right;\">\n",
       "      <th></th>\n",
       "      <th>entity</th>\n",
       "      <th>entity_type</th>\n",
       "      <th>occurrence</th>\n",
       "    </tr>\n",
       "  </thead>\n",
       "  <tbody>\n",
       "    <tr>\n",
       "      <th>1200615</th>\n",
       "      <td>cancers</td>\n",
       "      <td>DISEASE</td>\n",
       "      <td>14046:P 588 Absence Of Braf Mutations In Hyali...</td>\n",
       "    </tr>\n",
       "    <tr>\n",
       "      <th>1972085</th>\n",
       "      <td>chronic feline idiopathic cystitis</td>\n",
       "      <td>DISEASE</td>\n",
       "      <td>21810:Nu:922</td>\n",
       "    </tr>\n",
       "    <tr>\n",
       "      <th>2391633</th>\n",
       "      <td>hypoxemia</td>\n",
       "      <td>DISEASE</td>\n",
       "      <td>171819:Rationale ::: O. Mechanical Ventilation...</td>\n",
       "    </tr>\n",
       "    <tr>\n",
       "      <th>2590446</th>\n",
       "      <td>genus coronavirus</td>\n",
       "      <td>ORGANISM</td>\n",
       "      <td>186907:1. Introduction:2</td>\n",
       "    </tr>\n",
       "    <tr>\n",
       "      <th>780955</th>\n",
       "      <td>Asthma</td>\n",
       "      <td>DISEASE</td>\n",
       "      <td>10338:Conclusions::161</td>\n",
       "    </tr>\n",
       "  </tbody>\n",
       "</table>\n",
       "</div>"
      ],
      "text/plain": [
       "                                     entity entity_type  \\\n",
       "1200615                             cancers     DISEASE   \n",
       "1972085  chronic feline idiopathic cystitis     DISEASE   \n",
       "2391633                           hypoxemia     DISEASE   \n",
       "2590446                   genus coronavirus    ORGANISM   \n",
       "780955                               Asthma     DISEASE   \n",
       "\n",
       "                                                occurrence  \n",
       "1200615  14046:P 588 Absence Of Braf Mutations In Hyali...  \n",
       "1972085                                       21810:Nu:922  \n",
       "2391633  171819:Rationale ::: O. Mechanical Ventilation...  \n",
       "2590446                           186907:1. Introduction:2  \n",
       "780955                              10338:Conclusions::161  "
      ]
     },
     "execution_count": 4,
     "metadata": {},
     "output_type": "execute_result"
    }
   ],
   "source": [
    "data.sample(5)"
   ]
  },
  {
   "cell_type": "markdown",
   "metadata": {},
   "source": [
    "On the first preparation step, we group and aggregate the input data by unique entities."
   ]
  },
  {
   "cell_type": "code",
   "execution_count": 5,
   "metadata": {},
   "outputs": [
    {
     "name": "stdout",
     "output_type": "stream",
     "text": [
      "Prepating curatation data...\n",
      "Cleaning up the entities...\n",
      "Aggregating occurrences of entities....\n",
      "Done.\n",
      "CPU times: user 1min 13s, sys: 1.73 s, total: 1min 15s\n",
      "Wall time: 1min 16s\n"
     ]
    }
   ],
   "source": [
    "%%time\n",
    "print(\"Prepating curatation data...\")\n",
    "curation_input_table, factor_counts = generate_curation_table(data)\n",
    "print(\"Done.\")"
   ]
  },
  {
   "cell_type": "markdown",
   "metadata": {},
   "source": [
    "The resulting dataframe contains a row per unique named entity together with the following occurrence data: \n",
    "- sets of unique paragraphs, papers, sections, where the corresponding entity is mentioned (`paper`, `section`, `paragraph` columns);\n",
    "- number of total entity occurrences (the `raw_frequency` column);\n",
    "- number of unique papers where it occurs (the `paper_frequency` column);\n",
    "- unique entity types assigned by the NER model (the `entity_type` column, multiple types are possible).\n",
    "- raw entity types assigned by the NER model with the multiplicity of thier occurrence (the `raw_entity_types` column).\n"
   ]
  },
  {
   "cell_type": "code",
   "execution_count": 6,
   "metadata": {},
   "outputs": [
    {
     "data": {
      "text/html": [
       "<div>\n",
       "<style scoped>\n",
       "    .dataframe tbody tr th:only-of-type {\n",
       "        vertical-align: middle;\n",
       "    }\n",
       "\n",
       "    .dataframe tbody tr th {\n",
       "        vertical-align: top;\n",
       "    }\n",
       "\n",
       "    .dataframe thead th {\n",
       "        text-align: right;\n",
       "    }\n",
       "</style>\n",
       "<table border=\"1\" class=\"dataframe\">\n",
       "  <thead>\n",
       "    <tr style=\"text-align: right;\">\n",
       "      <th></th>\n",
       "      <th>entity</th>\n",
       "      <th>entity_type</th>\n",
       "      <th>paragraph</th>\n",
       "      <th>paper</th>\n",
       "      <th>section</th>\n",
       "      <th>paper_frequency</th>\n",
       "      <th>raw_entity_types</th>\n",
       "      <th>raw_frequency</th>\n",
       "    </tr>\n",
       "  </thead>\n",
       "  <tbody>\n",
       "    <tr>\n",
       "      <th>63290</th>\n",
       "      <td>paraquat</td>\n",
       "      <td>DRUG, CHEMICAL</td>\n",
       "      <td>[6453:037:25, 13279:Introduction::714, 14524:5...</td>\n",
       "      <td>[7094, 18225, 777, 6453, 21652, 13279, 5167, 1...</td>\n",
       "      <td>[18225:P747 Nacl And Clonazepam Induce Low-Lev...</td>\n",
       "      <td>9</td>\n",
       "      <td>[CHEMICAL, DRUG, CHEMICAL, DRUG, CHEMICAL, DRU...</td>\n",
       "      <td>47</td>\n",
       "    </tr>\n",
       "    <tr>\n",
       "      <th>9401</th>\n",
       "      <td>baff-r</td>\n",
       "      <td>PROTEIN</td>\n",
       "      <td>[14524:University Of Glasgow, Glasgow, United ...</td>\n",
       "      <td>[160632, 22196, 8327, 14042, 14524]</td>\n",
       "      <td>[14524:University Of Glasgow, Glasgow, United ...</td>\n",
       "      <td>5</td>\n",
       "      <td>[PROTEIN, PROTEIN, PROTEIN, PROTEIN, PROTEIN, ...</td>\n",
       "      <td>27</td>\n",
       "    </tr>\n",
       "    <tr>\n",
       "      <th>53818</th>\n",
       "      <td>monoterpenoids</td>\n",
       "      <td>DRUG, CHEMICAL</td>\n",
       "      <td>[16201:Fruit Nutrients ::: Nutritive/Medicinal...</td>\n",
       "      <td>[178755, 7076, 16201, 205963]</td>\n",
       "      <td>[7076:Ps-01-059, 178755:1. Introduction, 16201...</td>\n",
       "      <td>4</td>\n",
       "      <td>[CHEMICAL, DRUG, CHEMICAL, DRUG, CHEMICAL, DRU...</td>\n",
       "      <td>10</td>\n",
       "    </tr>\n",
       "    <tr>\n",
       "      <th>67936</th>\n",
       "      <td>pr 1</td>\n",
       "      <td>PROTEIN</td>\n",
       "      <td>[21846:Caption:651, 21846:Caption:776]</td>\n",
       "      <td>[21846]</td>\n",
       "      <td>[21846:Caption]</td>\n",
       "      <td>1</td>\n",
       "      <td>[PROTEIN, PROTEIN]</td>\n",
       "      <td>2</td>\n",
       "    </tr>\n",
       "    <tr>\n",
       "      <th>48664</th>\n",
       "      <td>location</td>\n",
       "      <td>PATHWAY</td>\n",
       "      <td>[7076:Institute Of Pathology Skopje, Republic ...</td>\n",
       "      <td>[6719, 14045, 5719, 21806, 21625, 21948, 7076,...</td>\n",
       "      <td>[7076:Institute Of Pathology Skopje, Republic ...</td>\n",
       "      <td>9</td>\n",
       "      <td>[PATHWAY, PATHWAY, PATHWAY, PATHWAY, PATHWAY, ...</td>\n",
       "      <td>11</td>\n",
       "    </tr>\n",
       "  </tbody>\n",
       "</table>\n",
       "</div>"
      ],
      "text/plain": [
       "               entity     entity_type  \\\n",
       "63290        paraquat  DRUG, CHEMICAL   \n",
       "9401           baff-r         PROTEIN   \n",
       "53818  monoterpenoids  DRUG, CHEMICAL   \n",
       "67936            pr 1         PROTEIN   \n",
       "48664        location         PATHWAY   \n",
       "\n",
       "                                               paragraph  \\\n",
       "63290  [6453:037:25, 13279:Introduction::714, 14524:5...   \n",
       "9401   [14524:University Of Glasgow, Glasgow, United ...   \n",
       "53818  [16201:Fruit Nutrients ::: Nutritive/Medicinal...   \n",
       "67936             [21846:Caption:651, 21846:Caption:776]   \n",
       "48664  [7076:Institute Of Pathology Skopje, Republic ...   \n",
       "\n",
       "                                                   paper  \\\n",
       "63290  [7094, 18225, 777, 6453, 21652, 13279, 5167, 1...   \n",
       "9401                 [160632, 22196, 8327, 14042, 14524]   \n",
       "53818                      [178755, 7076, 16201, 205963]   \n",
       "67936                                            [21846]   \n",
       "48664  [6719, 14045, 5719, 21806, 21625, 21948, 7076,...   \n",
       "\n",
       "                                                 section  paper_frequency  \\\n",
       "63290  [18225:P747 Nacl And Clonazepam Induce Low-Lev...                9   \n",
       "9401   [14524:University Of Glasgow, Glasgow, United ...                5   \n",
       "53818  [7076:Ps-01-059, 178755:1. Introduction, 16201...                4   \n",
       "67936                                    [21846:Caption]                1   \n",
       "48664  [7076:Institute Of Pathology Skopje, Republic ...                9   \n",
       "\n",
       "                                        raw_entity_types  raw_frequency  \n",
       "63290  [CHEMICAL, DRUG, CHEMICAL, DRUG, CHEMICAL, DRU...             47  \n",
       "9401   [PROTEIN, PROTEIN, PROTEIN, PROTEIN, PROTEIN, ...             27  \n",
       "53818  [CHEMICAL, DRUG, CHEMICAL, DRUG, CHEMICAL, DRU...             10  \n",
       "67936                                 [PROTEIN, PROTEIN]              2  \n",
       "48664  [PATHWAY, PATHWAY, PATHWAY, PATHWAY, PATHWAY, ...             11  "
      ]
     },
     "execution_count": 6,
     "metadata": {},
     "output_type": "execute_result"
    }
   ],
   "source": [
    "curation_input_table.sample(5)"
   ]
  },
  {
   "cell_type": "markdown",
   "metadata": {},
   "source": [
    "The second output of the data preparation step outputs the counts of different instances of occurrence factors: number of distinct papers/sections/paragraphs in the input corpus."
   ]
  },
  {
   "cell_type": "code",
   "execution_count": 7,
   "metadata": {},
   "outputs": [
    {
     "data": {
      "text/plain": [
       "{'paper': 3000, 'section': 53947, 'paragraph': 211380}"
      ]
     },
     "execution_count": 7,
     "metadata": {},
     "output_type": "execute_result"
    }
   ],
   "source": [
    "factor_counts"
   ]
  },
  {
   "cell_type": "markdown",
   "metadata": {},
   "source": [
    "## 2. Data curation"
   ]
  },
  {
   "cell_type": "markdown",
   "metadata": {},
   "source": [
    "### Loading the NCIT ontology linking data"
   ]
  },
  {
   "cell_type": "markdown",
   "metadata": {},
   "source": [
    "To group synonymical entities in the previously extracted table (e.g. `ace2`, `ace-2`, `angiotensin-converting enzyme 2`), as well as assign additional semantics to these entities (e.g. human-readable definition, taxonomy, etc), we peform further _linking_ of the entities to the terms from the [NCIT ontology](https://ncithesaurus.nci.nih.gov/ncitbrowser/).\n",
    "\n",
    "To be able to perform such ontology linking, we load some additional (pre-computed using ML-based linking models) data."
   ]
  },
  {
   "cell_type": "code",
   "execution_count": 13,
   "metadata": {},
   "outputs": [
    {
     "name": "stdout",
     "output_type": "stream",
     "text": [
      "Loading the ontology linking data...\n",
      "\tDecompressing the input data file...\n",
      "\tLoading the linking dataframe in memory...\n",
      "\tLoading ontology type mapping...\n",
      "Done.\n",
      "CPU times: user 1 s, sys: 159 ms, total: 1.16 s\n",
      "Wall time: 1.2 s\n"
     ]
    }
   ],
   "source": [
    "%%time\n",
    "print(\"Loading the ontology linking data...\")\n",
    "    \n",
    "print(\"\\tDecompressing the input data file...\")\n",
    "with zipfile.ZipFile(\"../data/NCIT_ontology_linking_3000_papers.csv.zip\", 'r') as zip_ref:\n",
    "    zip_ref.extractall(\"../data/\")\n",
    "\n",
    "print(\"\\tLoading the linking dataframe in memory...\")\n",
    "ontology_linking = pd.read_csv(\"../data/NCIT_ontology_linking_3000_papers.csv\")\n",
    "\n",
    "print(\"\\tLoading ontology type mapping...\")\n",
    "with open(\"../data/NCIT_type_mapping.json\", \"rb\") as f:\n",
    "    type_mapping = json.load(f)\n",
    "print(\"Done.\")"
   ]
  },
  {
   "cell_type": "markdown",
   "metadata": {},
   "source": [
    "The ontology linking table contains the following columns:\n",
    "- `mention` entity mentioned in the text\n",
    "- `concept` ontology concept linked to the entity mention\n",
    "- `uid` unique identifier of the ontology concept\n",
    "- `definition` definition of the concept\n",
    "- `taxonomy` taxonomy of semantic types associated with the concept"
   ]
  },
  {
   "cell_type": "code",
   "execution_count": 14,
   "metadata": {
    "scrolled": true
   },
   "outputs": [
    {
     "data": {
      "text/html": [
       "<div>\n",
       "<style scoped>\n",
       "    .dataframe tbody tr th:only-of-type {\n",
       "        vertical-align: middle;\n",
       "    }\n",
       "\n",
       "    .dataframe tbody tr th {\n",
       "        vertical-align: top;\n",
       "    }\n",
       "\n",
       "    .dataframe thead th {\n",
       "        text-align: right;\n",
       "    }\n",
       "</style>\n",
       "<table border=\"1\" class=\"dataframe\">\n",
       "  <thead>\n",
       "    <tr style=\"text-align: right;\">\n",
       "      <th></th>\n",
       "      <th>mention</th>\n",
       "      <th>concept</th>\n",
       "      <th>uid</th>\n",
       "      <th>definition</th>\n",
       "      <th>taxonomy</th>\n",
       "    </tr>\n",
       "  </thead>\n",
       "  <tbody>\n",
       "    <tr>\n",
       "      <th>77116</th>\n",
       "      <td>hepatic cyst</td>\n",
       "      <td>hepatic cyst</td>\n",
       "      <td>http://purl.obolibrary.org/obo/NCIT_C3960</td>\n",
       "      <td>A cystic lesion located in the liver.</td>\n",
       "      <td>[('http://purl.obolibrary.org/obo/NCIT_C36279'...</td>\n",
       "    </tr>\n",
       "    <tr>\n",
       "      <th>91931</th>\n",
       "      <td>nuclear accumulation</td>\n",
       "      <td>accumulation</td>\n",
       "      <td>http://purl.obolibrary.org/obo/NCIT_C120860</td>\n",
       "      <td>A state characterized by the gradual increase ...</td>\n",
       "      <td>[('http://purl.obolibrary.org/obo/NCIT_C36295'...</td>\n",
       "    </tr>\n",
       "    <tr>\n",
       "      <th>59229</th>\n",
       "      <td>phocine herpes virus-1</td>\n",
       "      <td>herpesvirus</td>\n",
       "      <td>http://purl.obolibrary.org/obo/NCIT_C14217</td>\n",
       "      <td>A heterogeneous family of morphologically simi...</td>\n",
       "      <td>[('http://purl.obolibrary.org/obo/NCIT_C14348'...</td>\n",
       "    </tr>\n",
       "    <tr>\n",
       "      <th>77432</th>\n",
       "      <td>aggressive t-cell lymphomas</td>\n",
       "      <td>aggressive non-hodgkin lymphoma</td>\n",
       "      <td>http://purl.obolibrary.org/obo/NCIT_C9244</td>\n",
       "      <td>A non-Hodgkin lymphoma with an aggressive clin...</td>\n",
       "      <td>[('http://purl.obolibrary.org/obo/NCIT_C7215',...</td>\n",
       "    </tr>\n",
       "    <tr>\n",
       "      <th>42915</th>\n",
       "      <td>comel-netherton syndrome</td>\n",
       "      <td>netherton syndrome</td>\n",
       "      <td>http://purl.obolibrary.org/obo/NCIT_C84922</td>\n",
       "      <td>A rare autosomal recessive form of ichthyosis ...</td>\n",
       "      <td>[('http://purl.obolibrary.org/obo/NCIT_C28193'...</td>\n",
       "    </tr>\n",
       "  </tbody>\n",
       "</table>\n",
       "</div>"
      ],
      "text/plain": [
       "                           mention                          concept  \\\n",
       "77116                 hepatic cyst                     hepatic cyst   \n",
       "91931         nuclear accumulation                     accumulation   \n",
       "59229       phocine herpes virus-1                      herpesvirus   \n",
       "77432  aggressive t-cell lymphomas  aggressive non-hodgkin lymphoma   \n",
       "42915     comel-netherton syndrome               netherton syndrome   \n",
       "\n",
       "                                               uid  \\\n",
       "77116    http://purl.obolibrary.org/obo/NCIT_C3960   \n",
       "91931  http://purl.obolibrary.org/obo/NCIT_C120860   \n",
       "59229   http://purl.obolibrary.org/obo/NCIT_C14217   \n",
       "77432    http://purl.obolibrary.org/obo/NCIT_C9244   \n",
       "42915   http://purl.obolibrary.org/obo/NCIT_C84922   \n",
       "\n",
       "                                              definition  \\\n",
       "77116              A cystic lesion located in the liver.   \n",
       "91931  A state characterized by the gradual increase ...   \n",
       "59229  A heterogeneous family of morphologically simi...   \n",
       "77432  A non-Hodgkin lymphoma with an aggressive clin...   \n",
       "42915  A rare autosomal recessive form of ichthyosis ...   \n",
       "\n",
       "                                                taxonomy  \n",
       "77116  [('http://purl.obolibrary.org/obo/NCIT_C36279'...  \n",
       "91931  [('http://purl.obolibrary.org/obo/NCIT_C36295'...  \n",
       "59229  [('http://purl.obolibrary.org/obo/NCIT_C14348'...  \n",
       "77432  [('http://purl.obolibrary.org/obo/NCIT_C7215',...  \n",
       "42915  [('http://purl.obolibrary.org/obo/NCIT_C28193'...  "
      ]
     },
     "execution_count": 14,
     "metadata": {},
     "output_type": "execute_result"
    }
   ],
   "source": [
    "ontology_linking.sample(5)"
   ]
  },
  {
   "cell_type": "markdown",
   "metadata": {},
   "source": [
    "### Interactive curation of  entity occurrence data\n",
    "\n",
    "The package provides an interactive entity curation app that allows the user to visualize the entity occurrence data, modify it, perform ontology linking (see `Link to NCIT ontology` button), filter short or unfrequent entities.\n",
    "\n",
    "The field `Keep` allows specifying a set of entities that must be kept in the dataset at all times (even if they don't satisfy the selected filtering criteria).\n",
    "\n",
    "Finally the value specified in the `Generate Graphs from top 500 frequent entities` field corresponds to the number of top entities (by the frequency of their occurrence in papers) to be included in the co-occurrence network."
   ]
  },
  {
   "cell_type": "markdown",
   "metadata": {},
   "source": [
    "We load the prepared data table into the curation app as follows:"
   ]
  },
  {
   "cell_type": "code",
   "execution_count": 15,
   "metadata": {},
   "outputs": [],
   "source": [
    "curation_app.set_table(curation_input_table.copy())"
   ]
  },
  {
   "cell_type": "markdown",
   "metadata": {},
   "source": [
    "We can specify the default entities to keep."
   ]
  },
  {
   "cell_type": "code",
   "execution_count": 16,
   "metadata": {},
   "outputs": [],
   "source": [
    "default_entities_to_keep = [\"glucose\", \"covid-19\"]\n",
    "curation_app.set_default_terms_to_include(default_entities_to_keep)"
   ]
  },
  {
   "cell_type": "markdown",
   "metadata": {},
   "source": [
    "Finally, we set the ontology linking callback to be fired upon a click on the `Link to NCIT ontology` button."
   ]
  },
  {
   "cell_type": "code",
   "execution_count": 17,
   "metadata": {
    "scrolled": false
   },
   "outputs": [],
   "source": [
    "curation_app.set_ontology_linking_callback(lambda x: link_ontology(ontology_linking, type_mapping, x))"
   ]
  },
  {
   "cell_type": "markdown",
   "metadata": {},
   "source": [
    "### Launch the curation app"
   ]
  },
  {
   "cell_type": "markdown",
   "metadata": {},
   "source": [
    "The application can be launched either inline (inside the current notebook) as below."
   ]
  },
  {
   "cell_type": "code",
   "execution_count": 18,
   "metadata": {},
   "outputs": [
    {
     "data": {
      "text/html": [
       "\n",
       "        <iframe\n",
       "            width=\"100%\"\n",
       "            height=\"650\"\n",
       "            src=\"http://127.0.0.1:8073/\"\n",
       "            frameborder=\"0\"\n",
       "            allowfullscreen\n",
       "        ></iframe>\n",
       "        "
      ],
      "text/plain": [
       "<IPython.lib.display.IFrame at 0x7fc63c369430>"
      ]
     },
     "metadata": {},
     "output_type": "display_data"
    }
   ],
   "source": [
    "curation_app.run(port=8073, mode=\"inline\")"
   ]
  },
  {
   "cell_type": "markdown",
   "metadata": {},
   "source": [
    "Or it can be opened externally (by the URL that you can open in a separate tab of your browser, try uncommenting, executing and doing Ctrl+Click on the displayed URL)."
   ]
  },
  {
   "cell_type": "code",
   "execution_count": 19,
   "metadata": {},
   "outputs": [],
   "source": [
    "# curation_app.run(port=8070, mode=\"external\")"
   ]
  },
  {
   "cell_type": "markdown",
   "metadata": {},
   "source": [
    "## 3. Co-occurrence network generation"
   ]
  },
  {
   "cell_type": "markdown",
   "metadata": {},
   "source": [
    "Current curation table displayed in the curation app can be extracted using the `get_curated_table` method."
   ]
  },
  {
   "cell_type": "code",
   "execution_count": 22,
   "metadata": {},
   "outputs": [
    {
     "data": {
      "text/html": [
       "<div>\n",
       "<style scoped>\n",
       "    .dataframe tbody tr th:only-of-type {\n",
       "        vertical-align: middle;\n",
       "    }\n",
       "\n",
       "    .dataframe tbody tr th {\n",
       "        vertical-align: top;\n",
       "    }\n",
       "\n",
       "    .dataframe thead th {\n",
       "        text-align: right;\n",
       "    }\n",
       "</style>\n",
       "<table border=\"1\" class=\"dataframe\">\n",
       "  <thead>\n",
       "    <tr style=\"text-align: right;\">\n",
       "      <th></th>\n",
       "      <th>paper</th>\n",
       "      <th>section</th>\n",
       "      <th>paragraph</th>\n",
       "      <th>aggregated_entities</th>\n",
       "      <th>uid</th>\n",
       "      <th>definition</th>\n",
       "      <th>paper_frequency</th>\n",
       "      <th>entity_type</th>\n",
       "    </tr>\n",
       "    <tr>\n",
       "      <th>entity</th>\n",
       "      <th></th>\n",
       "      <th></th>\n",
       "      <th></th>\n",
       "      <th></th>\n",
       "      <th></th>\n",
       "      <th></th>\n",
       "      <th></th>\n",
       "      <th></th>\n",
       "    </tr>\n",
       "  </thead>\n",
       "  <tbody>\n",
       "    <tr>\n",
       "      <th>primitive disease</th>\n",
       "      <td>{7101, 7067}</td>\n",
       "      <td>{7067:Ps, 7101:}</td>\n",
       "      <td>{7067:Ps:415, 7101::1}</td>\n",
       "      <td>[primitive disease]</td>\n",
       "      <td>NaN</td>\n",
       "      <td>NaN</td>\n",
       "      <td>2</td>\n",
       "      <td>DISEASE</td>\n",
       "    </tr>\n",
       "    <tr>\n",
       "      <th>trpc family</th>\n",
       "      <td>{14089, 14091}</td>\n",
       "      <td>{14091:193, 14089:Conclusions}</td>\n",
       "      <td>{14091:193:95, 14089:Conclusions::154}</td>\n",
       "      <td>[trpc family]</td>\n",
       "      <td>NaN</td>\n",
       "      <td>NaN</td>\n",
       "      <td>2</td>\n",
       "      <td>PROTEIN</td>\n",
       "    </tr>\n",
       "    <tr>\n",
       "      <th>pip/taz</th>\n",
       "      <td>{21934, 7107, 182688, 18225}</td>\n",
       "      <td>{18225:P1268 In Vitro Interactions Of Colistin...</td>\n",
       "      <td>{18225:P1268 In Vitro Interactions Of Colistin...</td>\n",
       "      <td>[pip/taz]</td>\n",
       "      <td>NaN</td>\n",
       "      <td>NaN</td>\n",
       "      <td>4</td>\n",
       "      <td>PROTEIN</td>\n",
       "    </tr>\n",
       "    <tr>\n",
       "      <th>n-term</th>\n",
       "      <td>{211696, 21652}</td>\n",
       "      <td>{21652:P.2.1-035, 211696:O-Glycan Lc-Ms Analys...</td>\n",
       "      <td>{211696:O-Glycan Lc-Ms Analysis ::: Methods::4...</td>\n",
       "      <td>[n-term]</td>\n",
       "      <td>NaN</td>\n",
       "      <td>NaN</td>\n",
       "      <td>2</td>\n",
       "      <td>PROTEIN</td>\n",
       "    </tr>\n",
       "    <tr>\n",
       "      <th>transcutaneous electrical nerve stimulation</th>\n",
       "      <td>{3000, 14098, 21842, 26813, 21944, 17184, 493,...</td>\n",
       "      <td>{21842:Evaluation Of Two, 14098:Caption, 14084...</td>\n",
       "      <td>{17184:Enteric Nervous System ::: Control Of B...</td>\n",
       "      <td>[ens]</td>\n",
       "      <td>http://purl.obolibrary.org/obo/NCIT_C21032</td>\n",
       "      <td>A non-invasive form of electroanalgesia that u...</td>\n",
       "      <td>8</td>\n",
       "      <td>PROTEIN</td>\n",
       "    </tr>\n",
       "  </tbody>\n",
       "</table>\n",
       "</div>"
      ],
      "text/plain": [
       "                                                                                         paper  \\\n",
       "entity                                                                                           \n",
       "primitive disease                                                                 {7101, 7067}   \n",
       "trpc family                                                                     {14089, 14091}   \n",
       "pip/taz                                                           {21934, 7107, 182688, 18225}   \n",
       "n-term                                                                         {211696, 21652}   \n",
       "transcutaneous electrical nerve stimulation  {3000, 14098, 21842, 26813, 21944, 17184, 493,...   \n",
       "\n",
       "                                                                                       section  \\\n",
       "entity                                                                                           \n",
       "primitive disease                                                             {7067:Ps, 7101:}   \n",
       "trpc family                                                     {14091:193, 14089:Conclusions}   \n",
       "pip/taz                                      {18225:P1268 In Vitro Interactions Of Colistin...   \n",
       "n-term                                       {21652:P.2.1-035, 211696:O-Glycan Lc-Ms Analys...   \n",
       "transcutaneous electrical nerve stimulation  {21842:Evaluation Of Two, 14098:Caption, 14084...   \n",
       "\n",
       "                                                                                     paragraph  \\\n",
       "entity                                                                                           \n",
       "primitive disease                                                       {7067:Ps:415, 7101::1}   \n",
       "trpc family                                             {14091:193:95, 14089:Conclusions::154}   \n",
       "pip/taz                                      {18225:P1268 In Vitro Interactions Of Colistin...   \n",
       "n-term                                       {211696:O-Glycan Lc-Ms Analysis ::: Methods::4...   \n",
       "transcutaneous electrical nerve stimulation  {17184:Enteric Nervous System ::: Control Of B...   \n",
       "\n",
       "                                             aggregated_entities  \\\n",
       "entity                                                             \n",
       "primitive disease                            [primitive disease]   \n",
       "trpc family                                        [trpc family]   \n",
       "pip/taz                                                [pip/taz]   \n",
       "n-term                                                  [n-term]   \n",
       "transcutaneous electrical nerve stimulation                [ens]   \n",
       "\n",
       "                                                                                    uid  \\\n",
       "entity                                                                                    \n",
       "primitive disease                                                                   NaN   \n",
       "trpc family                                                                         NaN   \n",
       "pip/taz                                                                             NaN   \n",
       "n-term                                                                              NaN   \n",
       "transcutaneous electrical nerve stimulation  http://purl.obolibrary.org/obo/NCIT_C21032   \n",
       "\n",
       "                                                                                    definition  \\\n",
       "entity                                                                                           \n",
       "primitive disease                                                                          NaN   \n",
       "trpc family                                                                                NaN   \n",
       "pip/taz                                                                                    NaN   \n",
       "n-term                                                                                     NaN   \n",
       "transcutaneous electrical nerve stimulation  A non-invasive form of electroanalgesia that u...   \n",
       "\n",
       "                                             paper_frequency entity_type  \n",
       "entity                                                                    \n",
       "primitive disease                                          2     DISEASE  \n",
       "trpc family                                                2     PROTEIN  \n",
       "pip/taz                                                    4     PROTEIN  \n",
       "n-term                                                     2     PROTEIN  \n",
       "transcutaneous electrical nerve stimulation                8     PROTEIN  "
      ]
     },
     "execution_count": 22,
     "metadata": {},
     "output_type": "execute_result"
    }
   ],
   "source": [
    "curated_occurrence_data = curation_app.get_curated_table()\n",
    "curated_occurrence_data.sample(5)"
   ]
  },
  {
   "cell_type": "markdown",
   "metadata": {},
   "source": [
    "Before we can proceed we need to convert paper/section and paragraph columns into `set`."
   ]
  },
  {
   "cell_type": "code",
   "execution_count": 23,
   "metadata": {},
   "outputs": [],
   "source": [
    "curated_occurrence_data[\"paper\"] = curated_occurrence_data[\"paper\"].apply(set)\n",
    "curated_occurrence_data[\"paragraph\"] = curated_occurrence_data[\"paragraph\"].apply(set)\n",
    "curated_occurrence_data[\"section\"] = curated_occurrence_data[\"section\"].apply(set)"
   ]
  },
  {
   "cell_type": "markdown",
   "metadata": {},
   "source": [
    "We can also retreive current values of the `Keep` field (these entities will be also included in the resulting co-occurrence network)."
   ]
  },
  {
   "cell_type": "code",
   "execution_count": 24,
   "metadata": {},
   "outputs": [
    {
     "data": {
      "text/plain": [
       "['glucose', 'covid-19']"
      ]
     },
     "execution_count": 24,
     "metadata": {},
     "output_type": "execute_result"
    }
   ],
   "source": [
    "curation_app.get_terms_to_include()"
   ]
  },
  {
   "cell_type": "markdown",
   "metadata": {},
   "source": [
    "### Generating co-occurrence networks\n",
    "\n",
    "In the cell below we generate a paper-based entity co-occurrence network. Along with the network generation the `generate_comention_analysis` function:\n",
    "\n",
    "- computes node centrality metrics (such as degree, RageRank)\n",
    "- computes co-occurrence statistics (such as frequency, pointwise mutual information and normalized pointwise mutual information) and assignes them as weights to the corresponding edges\n",
    "- performs entity community detection based on different co-occurrence statistics\n",
    "- computes mutual-information-based minimum spanning trees.\n",
    "\n",
    "Here we set the number of entities to include to the 1500 most frequent entities."
   ]
  },
  {
   "cell_type": "code",
   "execution_count": 17,
   "metadata": {},
   "outputs": [
    {
     "name": "stdout",
     "output_type": "stream",
     "text": [
      "-------------------------------\n",
      "Factor: paragraph\n",
      "-------------------------------\n",
      "Fitering data.....\n",
      "Selected 500 most frequent terms\n",
      "Examining 124750 pairs of terms for co-occurrence...\n",
      "Generated 114687 edges                    \n",
      "Created a co-occurrence graph:\n",
      "\tnumber of nodes:  500\n",
      "\tnumber of edges:  114687\n",
      "Saving the edges...\n",
      "Creating a graph object...\n",
      "\n",
      "Computing degree centrality statistics....\n",
      "Top n nodes by frequency:\n",
      "\tcovid-19 (145406)\n",
      "\tblood (122406)\n",
      "\thuman (114167)\n",
      "\tinfectious disorder (105703)\n",
      "\tlung (105662)\n",
      "\theart (97281)\n",
      "\tdiabetes mellitus (92386)\n",
      "\tsars-cov-2 (76233)\n",
      "\tmouse (73430)\n",
      "\tinflammation (72293)\n",
      "\n",
      "Computing PageRank centrality statistics....\n",
      "Top n nodes by frequency:\n",
      "\tcovid-19 (0.02)\n",
      "\tblood (0.02)\n",
      "\thuman (0.01)\n",
      "\tinfectious disorder (0.01)\n",
      "\tlung (0.01)\n",
      "\theart (0.01)\n",
      "\tdiabetes mellitus (0.01)\n",
      "\tmouse (0.01)\n",
      "\tsars-cov-2 (0.01)\n",
      "\tinflammation (0.01)\n",
      "\n",
      "Using the 'frequency' weight...\n",
      "Detecting communities...\n",
      "Best network partition:\n",
      "\t Number of communities: 6\n",
      "\t Modularity: 0.16658401667812128\n",
      "Using the 'npmi' weight...\n",
      "Detecting communities...\n",
      "Best network partition:\n",
      "\t Number of communities: 5\n",
      "\t Modularity: 0.205203989188449\n",
      "Computing the minimum spanning tree...\n",
      "Done.\n",
      "CPU times: user 20.1 s, sys: 2.33 s, total: 22.5 s\n",
      "Wall time: 1min 13s\n"
     ]
    }
   ],
   "source": [
    "%%time\n",
    "type_data = curated_occurrence_data[[\"entity_type\"]].rename(columns={\"entity_type\": \"type\"})\n",
    "\n",
    "graphs, trees = generate_cooccurrence_analysis(\n",
    "    curated_occurrence_data,  factor_counts,\n",
    "    n_most_frequent=1500,\n",
    "    type_data=type_data, \n",
    "    factors=[\"paragraph\"],\n",
    "    keep=curation_app.get_terms_to_include(),\n",
    "    cores=8)  # here set up the number of cores  \n",
    "print(\"Done.\")"
   ]
  },
  {
   "cell_type": "markdown",
   "metadata": {},
   "source": [
    "## 4. Network visualization and analysis"
   ]
  },
  {
   "cell_type": "markdown",
   "metadata": {},
   "source": [
    "### Loading the generated graph into the visualization app"
   ]
  },
  {
   "cell_type": "code",
   "execution_count": 20,
   "metadata": {},
   "outputs": [],
   "source": [
    "visualization_app.set_graph(\n",
    "    \"Paragraph-based graph\", graphs[\"paragraph\"],\n",
    "    tree_object=trees[\"paragraph\"], default_top_n=100)\n",
    "\n",
    "visualization_app.set_current_graph(\"Paragraph-based graph\")"
   ]
  },
  {
   "cell_type": "markdown",
   "metadata": {},
   "source": [
    "### Loading papers' meta-data into the app\n",
    "\n",
    "We now load an additional dataset containing some meta-data on the papers where the entities analyzed in this notebook occur."
   ]
  },
  {
   "cell_type": "code",
   "execution_count": 21,
   "metadata": {
    "scrolled": true
   },
   "outputs": [
    {
     "data": {
      "text/html": [
       "<div>\n",
       "<style scoped>\n",
       "    .dataframe tbody tr th:only-of-type {\n",
       "        vertical-align: middle;\n",
       "    }\n",
       "\n",
       "    .dataframe tbody tr th {\n",
       "        vertical-align: top;\n",
       "    }\n",
       "\n",
       "    .dataframe thead th {\n",
       "        text-align: right;\n",
       "    }\n",
       "</style>\n",
       "<table border=\"1\" class=\"dataframe\">\n",
       "  <thead>\n",
       "    <tr style=\"text-align: right;\">\n",
       "      <th></th>\n",
       "      <th>title</th>\n",
       "      <th>authors</th>\n",
       "      <th>abstract</th>\n",
       "      <th>doi</th>\n",
       "      <th>url</th>\n",
       "      <th>journal</th>\n",
       "      <th>pmc_id</th>\n",
       "      <th>pubmed_id</th>\n",
       "      <th>publish_time</th>\n",
       "    </tr>\n",
       "    <tr>\n",
       "      <th>id</th>\n",
       "      <th></th>\n",
       "      <th></th>\n",
       "      <th></th>\n",
       "      <th></th>\n",
       "      <th></th>\n",
       "      <th></th>\n",
       "      <th></th>\n",
       "      <th></th>\n",
       "      <th></th>\n",
       "    </tr>\n",
       "  </thead>\n",
       "  <tbody>\n",
       "    <tr>\n",
       "      <th>3</th>\n",
       "      <td>Surfactant protein-D and pulmonary host defense</td>\n",
       "      <td>Crouch, Erika C</td>\n",
       "      <td>Surfactant protein-D (SP-D) participates in th...</td>\n",
       "      <td>10.1186/rr19</td>\n",
       "      <td>https://www.ncbi.nlm.nih.gov/pmc/articles/PMC5...</td>\n",
       "      <td>Respir Res</td>\n",
       "      <td>PMC59549</td>\n",
       "      <td>11667972.0</td>\n",
       "      <td>2000-08-25</td>\n",
       "    </tr>\n",
       "    <tr>\n",
       "      <th>56</th>\n",
       "      <td>CLINICAL VIGNETTES</td>\n",
       "      <td>NaN</td>\n",
       "      <td>NaN</td>\n",
       "      <td>10.1046/j.1525-1497.18.s1.20.x</td>\n",
       "      <td>https://www.ncbi.nlm.nih.gov/pmc/articles/PMC1...</td>\n",
       "      <td>J Gen Intern Med</td>\n",
       "      <td>PMC1494988</td>\n",
       "      <td>12753119.0</td>\n",
       "      <td>2003-04-01</td>\n",
       "    </tr>\n",
       "    <tr>\n",
       "      <th>58</th>\n",
       "      <td>Clinical Vignettes</td>\n",
       "      <td>NaN</td>\n",
       "      <td>NaN</td>\n",
       "      <td>10.1046/j.1525-1497.2001.0160s1023.x</td>\n",
       "      <td>https://www.ncbi.nlm.nih.gov/pmc/articles/PMC1...</td>\n",
       "      <td>J Gen Intern Med</td>\n",
       "      <td>PMC1495316</td>\n",
       "      <td>11357836.0</td>\n",
       "      <td>2001-04-01</td>\n",
       "    </tr>\n",
       "  </tbody>\n",
       "</table>\n",
       "</div>"
      ],
      "text/plain": [
       "                                              title          authors  \\\n",
       "id                                                                     \n",
       "3   Surfactant protein-D and pulmonary host defense  Crouch, Erika C   \n",
       "56                               CLINICAL VIGNETTES              NaN   \n",
       "58                               Clinical Vignettes              NaN   \n",
       "\n",
       "                                             abstract  \\\n",
       "id                                                      \n",
       "3   Surfactant protein-D (SP-D) participates in th...   \n",
       "56                                                NaN   \n",
       "58                                                NaN   \n",
       "\n",
       "                                     doi  \\\n",
       "id                                         \n",
       "3                           10.1186/rr19   \n",
       "56        10.1046/j.1525-1497.18.s1.20.x   \n",
       "58  10.1046/j.1525-1497.2001.0160s1023.x   \n",
       "\n",
       "                                                  url           journal  \\\n",
       "id                                                                        \n",
       "3   https://www.ncbi.nlm.nih.gov/pmc/articles/PMC5...        Respir Res   \n",
       "56  https://www.ncbi.nlm.nih.gov/pmc/articles/PMC1...  J Gen Intern Med   \n",
       "58  https://www.ncbi.nlm.nih.gov/pmc/articles/PMC1...  J Gen Intern Med   \n",
       "\n",
       "        pmc_id   pubmed_id publish_time  \n",
       "id                                       \n",
       "3     PMC59549  11667972.0   2000-08-25  \n",
       "56  PMC1494988  12753119.0   2003-04-01  \n",
       "58  PMC1495316  11357836.0   2001-04-01  "
      ]
     },
     "execution_count": 21,
     "metadata": {},
     "output_type": "execute_result"
    }
   ],
   "source": [
    "paper_data = pd.read_csv(\"../data/Glucose_risk_3000_paper_meta_data.csv\")\n",
    "paper_data = paper_data.set_index(\"id\")\n",
    "paper_data.head(3)"
   ]
  },
  {
   "cell_type": "markdown",
   "metadata": {},
   "source": [
    "We pass a callback for the lookup of paper meta-data to the visualization app using the `set_list_papers_callback` method."
   ]
  },
  {
   "cell_type": "code",
   "execution_count": 22,
   "metadata": {},
   "outputs": [],
   "source": [
    "def list_papers(paper_data, selected_papers, limit=200):\n",
    "    selected_paper_data = paper_data.loc[[int(p) for p in selected_papers]].head(200)\n",
    "    return selected_paper_data.to_dict(\"records\")\n",
    "\n",
    "visualization_app.set_list_papers_callback(lambda x: list_papers(paper_data, x))"
   ]
  },
  {
   "cell_type": "markdown",
   "metadata": {},
   "source": [
    "The ontology linking process described above is noisy, therefore, we would like to keep a possibility of accessing, the raw entities that were linked to particular ontology concepts. For this we define the function `get_aggregated_entities` that retreives such raw entities and we pass it to the visualization app using the `set_aggregated_entities_callback` method."
   ]
  },
  {
   "cell_type": "code",
   "execution_count": 23,
   "metadata": {},
   "outputs": [],
   "source": [
    "def top_n(data_dict, n, smallest=False):\n",
    "    \"\"\"Return top `n` keys of the input dictionary by their value.\"\"\"\n",
    "    df = pd.DataFrame(dict(data_dict).items(), columns=[\"id\", \"value\"])\n",
    "    if smallest:\n",
    "        df = df.nsmallest(n, columns=[\"value\"])\n",
    "    else:\n",
    "        df = df.nlargest(n, columns=[\"value\"])\n",
    "    return(list(df[\"id\"]))\n",
    "\n",
    "\n",
    "def get_aggregated_entities(entity, n):\n",
    "    if \"aggregated_entities\" in curated_occurrence_data.columns:\n",
    "        aggregated = curated_occurrence_data.loc[entity][\"aggregated_entities\"]\n",
    "    else:\n",
    "        aggregated = [entity]\n",
    "    if curation_input_table is not None:\n",
    "        df = curation_input_table.set_index(\"entity\")\n",
    "        if entity in curated_occurrence_data.index:\n",
    "            freqs = df.loc[aggregated][\"paper_frequency\"].to_dict()\n",
    "        else:\n",
    "            return {}\n",
    "    else:\n",
    "        df = data.copy()\n",
    "        df[\"entity\"] = data[\"entity\"].apply(lambda x: x.lower())\n",
    "        freqs = df[df[\"entity\"].apply(lambda x: x.lower() in aggregated)].groupby(\"entity\").aggregate(\n",
    "            lambda x: len(x))[\"entity_type\"].to_dict()\n",
    "    if len(freqs) == 0:\n",
    "        return {}\n",
    "    return {e: freqs[e] for e in top_n(freqs, n)}\n",
    "\n",
    "visualization_app.set_aggregated_entities_callback(\n",
    "    lambda x: get_aggregated_entities(x, 10))"
   ]
  },
  {
   "cell_type": "markdown",
   "metadata": {},
   "source": [
    "Finally, we create a dictionary `definitions` that will serve the visualization app as the lookup table for accessing the definitions of different ontology concepts."
   ]
  },
  {
   "cell_type": "code",
   "execution_count": 24,
   "metadata": {},
   "outputs": [],
   "source": [
    "definitions = ontology_linking[[\"concept\", \"definition\"]].groupby(\n",
    "    \"concept\").aggregate(lambda x: list(x)[0]).to_dict()[\"definition\"]\n",
    "visualization_app.set_entity_definitons(definitions)"
   ]
  },
  {
   "cell_type": "markdown",
   "metadata": {},
   "source": [
    "### Launching the visualization app"
   ]
  },
  {
   "cell_type": "markdown",
   "metadata": {},
   "source": [
    "As before, the interactive graph visualization app can be launched in two modes: inline and external. Here we recommend the external mode for better user experience."
   ]
  },
  {
   "cell_type": "code",
   "execution_count": 25,
   "metadata": {
    "scrolled": false
   },
   "outputs": [
    {
     "name": "stdout",
     "output_type": "stream",
     "text": [
      "Dash app running on http://127.0.0.1:8081/\n"
     ]
    }
   ],
   "source": [
    "visualization_app.run(port=8081, mode=\"external\")"
   ]
  }
 ],
 "metadata": {
  "kernelspec": {
   "display_name": "bbg",
   "language": "python",
   "name": "bbg"
  },
  "language_info": {
   "codemirror_mode": {
    "name": "ipython",
    "version": 3
   },
   "file_extension": ".py",
   "mimetype": "text/x-python",
   "name": "python",
   "nbconvert_exporter": "python",
   "pygments_lexer": "ipython3",
   "version": "3.8.6"
  }
 },
 "nbformat": 4,
 "nbformat_minor": 4
}
