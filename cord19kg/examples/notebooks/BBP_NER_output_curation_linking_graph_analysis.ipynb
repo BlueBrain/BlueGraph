{
 "cells": [
  {
   "cell_type": "markdown",
   "metadata": {},
   "source": [
    "## Google Colab Prerequisites and installation instructions "
   ]
  },
  {
   "cell_type": "markdown",
   "metadata": {},
   "source": [
    "If you want to run this notebook in Google Colab, run the following cell. Otherwise follow [installation instructions](https://github.com/BlueBrain/BlueGraph/blob/master/README.rst#installation) to install BlueGraph and its dependencies locally."
   ]
  },
  {
   "cell_type": "code",
   "execution_count": null,
   "metadata": {},
   "outputs": [],
   "source": [
    "# Install bluegraph\n",
    "! git clone https://github.com/BlueBrain/BlueGraph\n",
    "! cd BlueGraph && pip install .[cord19kg]\n",
    "\n",
    "# Install graph-tool\n",
    "!echo \"deb http://downloads.skewed.de/apt bionic main\" >> /etc/apt/sources.list\n",
    "!apt-key adv --keyserver keys.openpgp.org --recv-key 612DEFB798507F25\n",
    "!apt-get update\n",
    "!apt-get install python3-graph-tool=2.58 python3-cairo python3-matplotlib\n",
    "\n",
    "DATA_PATH = \"BlueGraph/cord19kg/examples/data/\""
   ]
  },
  {
   "cell_type": "markdown",
   "metadata": {},
   "source": [
    "## Local environment Prerequisites and installation instructions\n",
    "\n",
    "In order to run this notebook `graph-tool` must be installed manually (it cannot be installed as a part of `pip install bluegraph`, as it is not an ordinary Python library, but a wrapper around a C++ library). Please, see [graph-tool installation instructions](https://git.skewed.de/count0/graph-tool/-/wikis/installation-instructions#native-installation) (currently, BlueGraph supports :code:`graph-tool<=2.37`.)\n",
    "\n",
    "We recommend using `conda` for installing `graph-tool`. For example:\n",
    "\n",
    "```\n",
    "conda install -c conda-forge graph-tool==2.37\n",
    "```\n",
    "\n",
    "or as a part of a new `conda` environment:\n",
    "\n",
    "```\n",
    "conda create --name <your_environment> -c conda-forge graph-tool==2.37\n",
    "conda activate <your_environment>\n",
    "```\n",
    "\n",
    "\n",
    "BlueGraph and the set of dependecies supporting custom tools for CORD-19 analysis can be installed using:\n",
    "\n",
    " ```\n",
    " pip install bluegraph[cord19kg]\n",
    " ```"
   ]
  },
  {
   "cell_type": "markdown",
   "metadata": {},
   "source": [
    "# Topic-centered co-occurrence network analysis of BBP BlueSearch NER output\n",
    "\n",
    "In this notebook we will perform interactive exploration and analysis of a topic-centered subset of the [CORD-19](https://www.kaggle.com/allen-institute-for-ai/CORD-19-research-challenge) dataset using the `cord19kg` package. The exploration and analysis techniques presented here focus on named entities and their co-occurrence in the scientific articles constituting the dataset.\n",
    "\n",
    "The input data for this notebook contains the named entities extracted articles using the Named Entity Recognition (NER) techniques included in [BlueSearch](https://github.com/BlueBrain/Search).\n",
    "\n",
    "The interactive literature exploration through the named entity co-occurrence analysis consisting of the following steps:\n",
    "\n",
    "1. __Data preparation__ step converts raw mentions into aggregated entity occurrence statistics.\n",
    "2. __Data curation__ step allows the user to manage extracted entities: modify, filter them and link to the ontology.\n",
    "3. __Network generation__ step allows creating entity co-occurrence networks based on paper-, section- and paragraph-level co-occurrence relations between entities. These entity relations are quantified using mutual-information-based scores (pointwise mutual information and its normalized version).\n",
    "4. __Network visualization and analysis__ step allows the user to perform interactive network visualization, edit network elements and perform its analysis (spanning tree, mutual-information based shortest paths between entities, etc)."
   ]
  },
  {
   "cell_type": "code",
   "execution_count": 71,
   "metadata": {},
   "outputs": [],
   "source": [
    "import json\n",
    "import os\n",
    "import zipfile\n",
    "\n",
    "import pandas as pd\n",
    "\n",
    "import dash_cytoscape as cyto\n",
    "\n",
    "from kgforge.core import KnowledgeGraphForge\n",
    "\n",
    "from cord19kg.utils import (generate_curation_table,\n",
    "                           link_ontology,\n",
    "                           generate_cooccurrence_analysis,\n",
    "                           download_from_nexus)\n",
    "from bluegraph.backends.graph_tool import (GTMetricProcessor,\n",
    "                                           GTPathFinder,\n",
    "                                           GTGraphProcessor,\n",
    "                                           GTCommunityDetector)\n",
    "from cord19kg.apps.curation_app import curation_app\n",
    "from cord19kg.apps.visualization_app import visualization_app"
   ]
  },
  {
   "cell_type": "code",
   "execution_count": 72,
   "metadata": {},
   "outputs": [],
   "source": [
    "cyto.load_extra_layouts()"
   ]
  },
  {
   "cell_type": "markdown",
   "metadata": {},
   "source": [
    "## 1. Data preparation\n",
    "\n",
    "The input dataset contains occurrences of different terms in paragraphs of scientific articles from the CORD-19 dataset previously extracted by means of a NER model.\n",
    "The dataset is stored in Blue Brain Nexus."
   ]
  },
  {
   "cell_type": "code",
   "execution_count": 73,
   "metadata": {},
   "outputs": [],
   "source": [
    "# Blue Brain Nexus bucket to download data from\n",
    "\n",
    "nexus_bucket = \"bbp/kg-inference\"\n",
    "nexus_endpoint = \"https://bbp.epfl.ch/nexus/v1\"\n",
    "nexus_config_file = f\"{DATA_PATH}../config/data-download-nexus.yml\"\n"
   ]
  },
  {
   "cell_type": "markdown",
   "metadata": {},
   "source": [
    "### Get an authentication token"
   ]
  },
  {
   "cell_type": "markdown",
   "metadata": {},
   "source": [
    "For now, the [Nexus web application](https://bbp.epfl.ch/nexus/web) can be used to get a token. We are looking for other simpler alternatives.\n",
    "\n",
    "- Step 1: From the opened web page, click on the login button on the right corner and follow the instructions.\n",
    "\n",
    "![login-ui](./login-ui.png)\n",
    "\n",
    "- Step 2: At the end you’ll see a token button on the right corner. Click on it to copy the token.\n",
    "\n",
    "![login-ui](./copy-token.png)\n"
   ]
  },
  {
   "cell_type": "code",
   "execution_count": 74,
   "metadata": {},
   "outputs": [],
   "source": [
    "import getpass"
   ]
  },
  {
   "cell_type": "code",
   "execution_count": 11,
   "metadata": {},
   "outputs": [],
   "source": [
    "TOKEN = getpass.getpass()"
   ]
  },
  {
   "cell_type": "code",
   "execution_count": 75,
   "metadata": {},
   "outputs": [],
   "source": [
    "from kgforge.core import KnowledgeGraphForge, Resource\n",
    "from more_itertools import bucket\n",
    "\n",
    "forge = KnowledgeGraphForge(nexus_config_file, bucket=nexus_bucket, endpoint=nexus_endpoint, token=TOKEN)\n"
   ]
  },
  {
   "cell_type": "markdown",
   "metadata": {},
   "source": [
    "### Download Data"
   ]
  },
  {
   "cell_type": "code",
   "execution_count": 76,
   "metadata": {},
   "outputs": [
    {
     "name": "stdout",
     "output_type": "stream",
     "text": [
      "Data path: '../data/'\n"
     ]
    }
   ],
   "source": [
    "data_version = \"v1_13_10_2022\"\n",
    "try:\n",
    "    print(f\"Data path: '{DATA_PATH}'\")\n",
    "except NameError:\n",
    "    DATA_PATH = \"../data/\"\n",
    "    print(f\"Data path: '{DATA_PATH}'\")"
   ]
  },
  {
   "cell_type": "code",
   "execution_count": 77,
   "metadata": {},
   "outputs": [
    {
     "name": "stdout",
     "output_type": "stream",
     "text": [
      "Done.\n",
      "CPU times: user 56.7 s, sys: 1min 6s, total: 2min 3s\n",
      "Wall time: 1min 10s\n"
     ]
    }
   ],
   "source": [
    "%%time\n",
    "ner_output_resource = forge.retrieve(\"https://bbp.epfl.ch/neurosciencegraph/data/2680c892-d1ae-4c60-8e1f-d917acb13ae8\", version=data_version),\n",
    "forge.download(ner_output_resource, \"distribution.contentUrl\", DATA_PATH)\n",
    "print(\"Done.\")"
   ]
  },
  {
   "cell_type": "code",
   "execution_count": 78,
   "metadata": {},
   "outputs": [],
   "source": [
    "data = pd.read_csv(f\"{DATA_PATH}/results_v1.csv\")"
   ]
  },
  {
   "cell_type": "code",
   "execution_count": 79,
   "metadata": {},
   "outputs": [],
   "source": [
    "data['occurrence'] = data['paper_id'].map(str) + ':_:' + data['paragraph_id'].map(str)\n",
    "data=data[['entity', 'entity_type', 'occurrence', 'start', 'end']]"
   ]
  },
  {
   "cell_type": "code",
   "execution_count": 80,
   "metadata": {},
   "outputs": [
    {
     "data": {
      "text/html": [
       "<div>\n",
       "<style scoped>\n",
       "    .dataframe tbody tr th:only-of-type {\n",
       "        vertical-align: middle;\n",
       "    }\n",
       "\n",
       "    .dataframe tbody tr th {\n",
       "        vertical-align: top;\n",
       "    }\n",
       "\n",
       "    .dataframe thead th {\n",
       "        text-align: right;\n",
       "    }\n",
       "</style>\n",
       "<table border=\"1\" class=\"dataframe\">\n",
       "  <thead>\n",
       "    <tr style=\"text-align: right;\">\n",
       "      <th></th>\n",
       "      <th>entity</th>\n",
       "      <th>entity_type</th>\n",
       "      <th>occurrence</th>\n",
       "      <th>start</th>\n",
       "      <th>end</th>\n",
       "    </tr>\n",
       "  </thead>\n",
       "  <tbody>\n",
       "    <tr>\n",
       "      <th>2379512</th>\n",
       "      <td>GroEL</td>\n",
       "      <td>GENE</td>\n",
       "      <td>b3abe505ec16bed01668f7ef00230733:_:n9KMiYMBxas...</td>\n",
       "      <td>385</td>\n",
       "      <td>390</td>\n",
       "    </tr>\n",
       "    <tr>\n",
       "      <th>2703541</th>\n",
       "      <td>SMA</td>\n",
       "      <td>BRAIN_REGION</td>\n",
       "      <td>cdfde5d13d2b1bd60f578a681ecde0b5:_:e9OMiYMBxas...</td>\n",
       "      <td>194</td>\n",
       "      <td>197</td>\n",
       "    </tr>\n",
       "    <tr>\n",
       "      <th>428471</th>\n",
       "      <td>nerve</td>\n",
       "      <td>CELL_TYPE</td>\n",
       "      <td>1baf7c706e879341f550b6e49d4c5ae0:_:D9CLiYMBxas...</td>\n",
       "      <td>132</td>\n",
       "      <td>137</td>\n",
       "    </tr>\n",
       "    <tr>\n",
       "      <th>1291408</th>\n",
       "      <td>CYP46A1</td>\n",
       "      <td>GENE</td>\n",
       "      <td>6f26ff7993fcb06001aaf430585ff927:_:3HWMiYMBVjZ...</td>\n",
       "      <td>1683</td>\n",
       "      <td>1690</td>\n",
       "    </tr>\n",
       "    <tr>\n",
       "      <th>102681</th>\n",
       "      <td>neuron</td>\n",
       "      <td>CELL_TYPE</td>\n",
       "      <td>0097295b0935e432340c19aa7290a392:_:UHOKiYMBVjZ...</td>\n",
       "      <td>423</td>\n",
       "      <td>429</td>\n",
       "    </tr>\n",
       "  </tbody>\n",
       "</table>\n",
       "</div>"
      ],
      "text/plain": [
       "          entity   entity_type  \\\n",
       "2379512    GroEL          GENE   \n",
       "2703541      SMA  BRAIN_REGION   \n",
       "428471     nerve     CELL_TYPE   \n",
       "1291408  CYP46A1          GENE   \n",
       "102681    neuron     CELL_TYPE   \n",
       "\n",
       "                                                occurrence  start   end  \n",
       "2379512  b3abe505ec16bed01668f7ef00230733:_:n9KMiYMBxas...    385   390  \n",
       "2703541  cdfde5d13d2b1bd60f578a681ecde0b5:_:e9OMiYMBxas...    194   197  \n",
       "428471   1baf7c706e879341f550b6e49d4c5ae0:_:D9CLiYMBxas...    132   137  \n",
       "1291408  6f26ff7993fcb06001aaf430585ff927:_:3HWMiYMBVjZ...   1683  1690  \n",
       "102681   0097295b0935e432340c19aa7290a392:_:UHOKiYMBVjZ...    423   429  "
      ]
     },
     "execution_count": 80,
     "metadata": {},
     "output_type": "execute_result"
    }
   ],
   "source": [
    "data.sample(5)"
   ]
  },
  {
   "cell_type": "markdown",
   "metadata": {},
   "source": [
    "On the first preparation step, we group and aggregate the input data by unique entities."
   ]
  },
  {
   "cell_type": "code",
   "execution_count": 81,
   "metadata": {},
   "outputs": [
    {
     "name": "stdout",
     "output_type": "stream",
     "text": [
      "Prepating curatation data...\n"
     ]
    },
    {
     "name": "stderr",
     "output_type": "stream",
     "text": [
      "/Users/mfsy/anaconda3/envs/bluegraph/lib/python3.7/site-packages/cord19kg/utils.py:325: SettingWithCopyWarning:\n",
      "\n",
      "\n",
      "A value is trying to be set on a copy of a slice from a DataFrame.\n",
      "Try using .loc[row_indexer,col_indexer] = value instead\n",
      "\n",
      "See the caveats in the documentation: https://pandas.pydata.org/pandas-docs/stable/user_guide/indexing.html#returning-a-view-versus-a-copy\n",
      "\n"
     ]
    },
    {
     "name": "stdout",
     "output_type": "stream",
     "text": [
      "Cleaning up the entities...\n",
      "Aggregating occurrences of entities....\n",
      "Done.\n",
      "CPU times: user 40.4 s, sys: 16.5 s, total: 56.9 s\n",
      "Wall time: 42.1 s\n"
     ]
    }
   ],
   "source": [
    "%%time\n",
    "print(\"Prepating curatation data...\")\n",
    "curation_input_table, factor_counts = generate_curation_table(data)\n",
    "print(\"Done.\")"
   ]
  },
  {
   "cell_type": "markdown",
   "metadata": {},
   "source": [
    "The resulting dataframe contains a row per unique named entity together with the following occurrence data: \n",
    "- sets of unique paragraphs, papers, sections, where the corresponding entity is mentioned (`paper`, `section`, `paragraph` columns);\n",
    "- number of total entity occurrences (the `raw_frequency` column);\n",
    "- number of unique papers where it occurs (the `paper_frequency` column);\n",
    "- unique entity types assigned by the NER model (the `entity_type` column, multiple types are possible).\n",
    "- raw entity types assigned by the NER model with the multiplicity of thier occurrence (the `raw_entity_types` column).\n"
   ]
  },
  {
   "cell_type": "code",
   "execution_count": 82,
   "metadata": {},
   "outputs": [
    {
     "data": {
      "text/html": [
       "<div>\n",
       "<style scoped>\n",
       "    .dataframe tbody tr th:only-of-type {\n",
       "        vertical-align: middle;\n",
       "    }\n",
       "\n",
       "    .dataframe tbody tr th {\n",
       "        vertical-align: top;\n",
       "    }\n",
       "\n",
       "    .dataframe thead th {\n",
       "        text-align: right;\n",
       "    }\n",
       "</style>\n",
       "<table border=\"1\" class=\"dataframe\">\n",
       "  <thead>\n",
       "    <tr style=\"text-align: right;\">\n",
       "      <th></th>\n",
       "      <th>entity</th>\n",
       "      <th>entity_type</th>\n",
       "      <th>paragraph</th>\n",
       "      <th>paper</th>\n",
       "      <th>section</th>\n",
       "      <th>paper_frequency</th>\n",
       "      <th>raw_entity_types</th>\n",
       "      <th>raw_frequency</th>\n",
       "    </tr>\n",
       "  </thead>\n",
       "  <tbody>\n",
       "    <tr>\n",
       "      <th>47692</th>\n",
       "      <td>wnk</td>\n",
       "      <td>GENE</td>\n",
       "      <td>[33d54df8ad7570b3ffac0c1ffd60e84d:_:TXOLiYMBVj...</td>\n",
       "      <td>[c01c645d9762581bfe2dc12f72fa3971, b85a85bf778...</td>\n",
       "      <td>[a20dc9b71756721449293894b673745a:_, 92e3a5749...</td>\n",
       "      <td>8</td>\n",
       "      <td>[GENE, GENE, GENE, GENE, GENE, GENE, GENE, GEN...</td>\n",
       "      <td>39</td>\n",
       "    </tr>\n",
       "    <tr>\n",
       "      <th>8391</th>\n",
       "      <td>chiasmal</td>\n",
       "      <td>BRAIN_REGION</td>\n",
       "      <td>[ab1805bc029628ba8ccdd2e9b9ad211f:_:a3aMiYMBVj...</td>\n",
       "      <td>[c1032b821f35d30411c384c9119cf693, 03bc9f56817...</td>\n",
       "      <td>[f80475bc40dc21ebdb392d16db947937:_, c1032b821...</td>\n",
       "      <td>4</td>\n",
       "      <td>[BRAIN_REGION, BRAIN_REGION, BRAIN_REGION, BRA...</td>\n",
       "      <td>4</td>\n",
       "    </tr>\n",
       "    <tr>\n",
       "      <th>21565</th>\n",
       "      <td>ip _ 3r2</td>\n",
       "      <td>GENE</td>\n",
       "      <td>[14d8fe987bf0afdd1aaea03305ea8b9c:_:zHOLiYMBVj...</td>\n",
       "      <td>[14d8fe987bf0afdd1aaea03305ea8b9c, 4db4d1198a1...</td>\n",
       "      <td>[2043fa78c1d9583b62c977b50ebd7fae:_, 176b02cdc...</td>\n",
       "      <td>12</td>\n",
       "      <td>[GENE, GENE, GENE, GENE, GENE, GENE, GENE, GEN...</td>\n",
       "      <td>94</td>\n",
       "    </tr>\n",
       "    <tr>\n",
       "      <th>47169</th>\n",
       "      <td>vlps</td>\n",
       "      <td>GENE</td>\n",
       "      <td>[0f62e797793c13b1cff52bb6324f430b:_:Fs-LiYMBxa...</td>\n",
       "      <td>[0f62e797793c13b1cff52bb6324f430b, ee35c3d19ed...</td>\n",
       "      <td>[ee35c3d19edaf5335862334657cc4432:_, 0f62e7977...</td>\n",
       "      <td>2</td>\n",
       "      <td>[GENE, GENE]</td>\n",
       "      <td>2</td>\n",
       "    </tr>\n",
       "    <tr>\n",
       "      <th>25829</th>\n",
       "      <td>medullary reticular formation</td>\n",
       "      <td>BRAIN_REGION</td>\n",
       "      <td>[5f6ec871f3fe27602997e4d5a8ae307b:_:ptGLiYMBxa...</td>\n",
       "      <td>[5aeabadb9163b09b6cd459c091c60cdd, f4b8de0a3ab...</td>\n",
       "      <td>[87b5c594adb5851d2f50e3860374f9bd:_, 9bda00f72...</td>\n",
       "      <td>13</td>\n",
       "      <td>[BRAIN_REGION, BRAIN_REGION, BRAIN_REGION, BRA...</td>\n",
       "      <td>18</td>\n",
       "    </tr>\n",
       "  </tbody>\n",
       "</table>\n",
       "</div>"
      ],
      "text/plain": [
       "                              entity   entity_type  \\\n",
       "47692                            wnk          GENE   \n",
       "8391                        chiasmal  BRAIN_REGION   \n",
       "21565                       ip _ 3r2          GENE   \n",
       "47169                           vlps          GENE   \n",
       "25829  medullary reticular formation  BRAIN_REGION   \n",
       "\n",
       "                                               paragraph  \\\n",
       "47692  [33d54df8ad7570b3ffac0c1ffd60e84d:_:TXOLiYMBVj...   \n",
       "8391   [ab1805bc029628ba8ccdd2e9b9ad211f:_:a3aMiYMBVj...   \n",
       "21565  [14d8fe987bf0afdd1aaea03305ea8b9c:_:zHOLiYMBVj...   \n",
       "47169  [0f62e797793c13b1cff52bb6324f430b:_:Fs-LiYMBxa...   \n",
       "25829  [5f6ec871f3fe27602997e4d5a8ae307b:_:ptGLiYMBxa...   \n",
       "\n",
       "                                                   paper  \\\n",
       "47692  [c01c645d9762581bfe2dc12f72fa3971, b85a85bf778...   \n",
       "8391   [c1032b821f35d30411c384c9119cf693, 03bc9f56817...   \n",
       "21565  [14d8fe987bf0afdd1aaea03305ea8b9c, 4db4d1198a1...   \n",
       "47169  [0f62e797793c13b1cff52bb6324f430b, ee35c3d19ed...   \n",
       "25829  [5aeabadb9163b09b6cd459c091c60cdd, f4b8de0a3ab...   \n",
       "\n",
       "                                                 section  paper_frequency  \\\n",
       "47692  [a20dc9b71756721449293894b673745a:_, 92e3a5749...                8   \n",
       "8391   [f80475bc40dc21ebdb392d16db947937:_, c1032b821...                4   \n",
       "21565  [2043fa78c1d9583b62c977b50ebd7fae:_, 176b02cdc...               12   \n",
       "47169  [ee35c3d19edaf5335862334657cc4432:_, 0f62e7977...                2   \n",
       "25829  [87b5c594adb5851d2f50e3860374f9bd:_, 9bda00f72...               13   \n",
       "\n",
       "                                        raw_entity_types  raw_frequency  \n",
       "47692  [GENE, GENE, GENE, GENE, GENE, GENE, GENE, GEN...             39  \n",
       "8391   [BRAIN_REGION, BRAIN_REGION, BRAIN_REGION, BRA...              4  \n",
       "21565  [GENE, GENE, GENE, GENE, GENE, GENE, GENE, GEN...             94  \n",
       "47169                                       [GENE, GENE]              2  \n",
       "25829  [BRAIN_REGION, BRAIN_REGION, BRAIN_REGION, BRA...             18  "
      ]
     },
     "execution_count": 82,
     "metadata": {},
     "output_type": "execute_result"
    }
   ],
   "source": [
    "curation_input_table.sample(5)"
   ]
  },
  {
   "cell_type": "markdown",
   "metadata": {},
   "source": [
    "The second output of the data preparation step outputs the counts of different instances of occurrence factors: number of distinct papers/sections/paragraphs in the input corpus."
   ]
  },
  {
   "cell_type": "code",
   "execution_count": 83,
   "metadata": {},
   "outputs": [
    {
     "data": {
      "text/plain": [
       "{'paper': 12292, 'section': 12292, 'paragraph': 344610}"
      ]
     },
     "execution_count": 83,
     "metadata": {},
     "output_type": "execute_result"
    }
   ],
   "source": [
    "factor_counts"
   ]
  },
  {
   "cell_type": "markdown",
   "metadata": {},
   "source": [
    "### 2. Data curation"
   ]
  },
  {
   "cell_type": "markdown",
   "metadata": {},
   "source": [
    "#### Loading the NCIT ontology linking data (To be updated with BBP ontologies)"
   ]
  },
  {
   "cell_type": "markdown",
   "metadata": {},
   "source": [
    "To group synonymical entities in the previously extracted table (e.g. `ace2`, `ace-2`, `angiotensin-converting enzyme 2`), as well as assign additional semantics to these entities (e.g. human-readable definition, taxonomy, etc), we peform further _linking_ of the entities to the terms from the [NCIT ontology](https://ncithesaurus.nci.nih.gov/ncitbrowser/).\n",
    "\n",
    "To be able to perform such ontology linking, we load some additional (pre-computed using ML-based linking models) data."
   ]
  },
  {
   "cell_type": "code",
   "execution_count": 84,
   "metadata": {},
   "outputs": [
    {
     "name": "stdout",
     "output_type": "stream",
     "text": [
      "Loading the ontology linking data...\n",
      "Downloading the file to '../data/NCIT_ontology_linking_3000_papers.csv.zip'\n",
      "Decompressing ...\n",
      "\tLoading the linking dataframe in memory...\n",
      "Loading ontology type mapping...\n",
      "Downloading the file to '../data/NCIT_type_mapping.json'\n",
      "Done.\n",
      "CPU times: user 43.8 s, sys: 51.7 s, total: 1min 35s\n",
      "Wall time: 58.3 s\n"
     ]
    }
   ],
   "source": [
    "%%time\n",
    "print(\"Loading the ontology linking data...\")\n",
    "\n",
    "download_from_nexus(\n",
    "    uri=f\"{nexus_endpoint}/resources/covid19-kg/data/_/4fde1f8f-ee7f-435e-95a8-abb79139db93\",\n",
    "    output_path=DATA_PATH, config_file_path=nexus_config_file,\n",
    "    nexus_endpoint=nexus_endpoint, nexus_bucket=\"covid19-kg/data\", unzip=True)\n",
    "print(\"\\tLoading the linking dataframe in memory...\")\n",
    "ontology_linking = pd.read_csv(f\"{DATA_PATH}/NCIT_ontology_linking_3000_papers.csv\")\n",
    "\n",
    "print(\"Loading ontology type mapping...\")\n",
    "ontology_linking_type_mapping_data = download_from_nexus(\n",
    "    uri=f\"{nexus_endpoint}/resources/covid19-kg/data/_/92bc2a04-6003-4f4d-85e1-dcc5f2352df2\", \n",
    "    output_path=DATA_PATH, config_file_path=nexus_config_file,\n",
    "    nexus_endpoint=nexus_endpoint, nexus_bucket=\"covid19-kg/data\")\n",
    "with open(f\"{DATA_PATH}/{ontology_linking_type_mapping_data.distribution.name}\", \"rb\") as f:\n",
    "    type_mapping = json.load(f)\n",
    "print(\"Done.\")"
   ]
  },
  {
   "cell_type": "markdown",
   "metadata": {},
   "source": [
    "The ontology linking table contains the following columns:\n",
    "- `mention` entity mentioned in the text\n",
    "- `concept` ontology concept linked to the entity mention\n",
    "- `uid` unique identifier of the ontology concept\n",
    "- `definition` definition of the concept\n",
    "- `taxonomy` taxonomy of semantic types associated with the concept"
   ]
  },
  {
   "cell_type": "code",
   "execution_count": 85,
   "metadata": {
    "scrolled": true
   },
   "outputs": [
    {
     "data": {
      "text/html": [
       "<div>\n",
       "<style scoped>\n",
       "    .dataframe tbody tr th:only-of-type {\n",
       "        vertical-align: middle;\n",
       "    }\n",
       "\n",
       "    .dataframe tbody tr th {\n",
       "        vertical-align: top;\n",
       "    }\n",
       "\n",
       "    .dataframe thead th {\n",
       "        text-align: right;\n",
       "    }\n",
       "</style>\n",
       "<table border=\"1\" class=\"dataframe\">\n",
       "  <thead>\n",
       "    <tr style=\"text-align: right;\">\n",
       "      <th></th>\n",
       "      <th>mention</th>\n",
       "      <th>concept</th>\n",
       "      <th>uid</th>\n",
       "      <th>definition</th>\n",
       "      <th>taxonomy</th>\n",
       "    </tr>\n",
       "  </thead>\n",
       "  <tbody>\n",
       "    <tr>\n",
       "      <th>67428</th>\n",
       "      <td>type ii respiratory failure</td>\n",
       "      <td>respiratory failure, ctcae</td>\n",
       "      <td>http://purl.obolibrary.org/obo/NCIT_C143809</td>\n",
       "      <td>A disorder characterized by impaired gas excha...</td>\n",
       "      <td>[('http://purl.obolibrary.org/obo/NCIT_C143181...</td>\n",
       "    </tr>\n",
       "    <tr>\n",
       "      <th>71989</th>\n",
       "      <td>a-lipoic acid</td>\n",
       "      <td>alpha-lipoic acid</td>\n",
       "      <td>http://purl.obolibrary.org/obo/NCIT_C61595</td>\n",
       "      <td>A naturally occurring micronutrient, synthesiz...</td>\n",
       "      <td>[('http://purl.obolibrary.org/obo/NCIT_C1505',...</td>\n",
       "    </tr>\n",
       "    <tr>\n",
       "      <th>87702</th>\n",
       "      <td>buffered water</td>\n",
       "      <td>buffered</td>\n",
       "      <td>http://purl.obolibrary.org/obo/NCIT_C63343</td>\n",
       "      <td>The property of being able to chemically neutr...</td>\n",
       "      <td>[('http://purl.obolibrary.org/obo/NCIT_C27993'...</td>\n",
       "    </tr>\n",
       "    <tr>\n",
       "      <th>141068</th>\n",
       "      <td>nonphosphorus</td>\n",
       "      <td>phosphate measurement</td>\n",
       "      <td>http://purl.obolibrary.org/obo/NCIT_C64857</td>\n",
       "      <td>A quantitative measurement of the amount of ph...</td>\n",
       "      <td>[('http://purl.obolibrary.org/obo/NCIT_C74946'...</td>\n",
       "    </tr>\n",
       "    <tr>\n",
       "      <th>86642</th>\n",
       "      <td>amino acid insert</td>\n",
       "      <td>amino acid</td>\n",
       "      <td>http://purl.obolibrary.org/obo/NCIT_C231</td>\n",
       "      <td>Any organic compounds containing amino (-NH2) ...</td>\n",
       "      <td>[('http://purl.obolibrary.org/obo/NCIT_C232', ...</td>\n",
       "    </tr>\n",
       "  </tbody>\n",
       "</table>\n",
       "</div>"
      ],
      "text/plain": [
       "                            mention                     concept  \\\n",
       "67428   type ii respiratory failure  respiratory failure, ctcae   \n",
       "71989                 a-lipoic acid           alpha-lipoic acid   \n",
       "87702                buffered water                    buffered   \n",
       "141068                nonphosphorus       phosphate measurement   \n",
       "86642             amino acid insert                  amino acid   \n",
       "\n",
       "                                                uid  \\\n",
       "67428   http://purl.obolibrary.org/obo/NCIT_C143809   \n",
       "71989    http://purl.obolibrary.org/obo/NCIT_C61595   \n",
       "87702    http://purl.obolibrary.org/obo/NCIT_C63343   \n",
       "141068   http://purl.obolibrary.org/obo/NCIT_C64857   \n",
       "86642      http://purl.obolibrary.org/obo/NCIT_C231   \n",
       "\n",
       "                                               definition  \\\n",
       "67428   A disorder characterized by impaired gas excha...   \n",
       "71989   A naturally occurring micronutrient, synthesiz...   \n",
       "87702   The property of being able to chemically neutr...   \n",
       "141068  A quantitative measurement of the amount of ph...   \n",
       "86642   Any organic compounds containing amino (-NH2) ...   \n",
       "\n",
       "                                                 taxonomy  \n",
       "67428   [('http://purl.obolibrary.org/obo/NCIT_C143181...  \n",
       "71989   [('http://purl.obolibrary.org/obo/NCIT_C1505',...  \n",
       "87702   [('http://purl.obolibrary.org/obo/NCIT_C27993'...  \n",
       "141068  [('http://purl.obolibrary.org/obo/NCIT_C74946'...  \n",
       "86642   [('http://purl.obolibrary.org/obo/NCIT_C232', ...  "
      ]
     },
     "execution_count": 85,
     "metadata": {},
     "output_type": "execute_result"
    }
   ],
   "source": [
    "ontology_linking.sample(5)"
   ]
  },
  {
   "cell_type": "markdown",
   "metadata": {},
   "source": [
    "#### Interactive curation of  entity occurrence data\n",
    "\n",
    "The package provides an interactive entity curation app that allows the user to visualize the entity occurrence data, modify it, perform ontology linking (see `Link to NCIT ontology` button), filter short or unfrequent entities.\n",
    "\n",
    "The field `Keep` allows specifying a set of entities that must be kept in the dataset at all times (even if they don't satisfy the selected filtering criteria).\n",
    "\n",
    "Finally the value specified in the `Generate Graphs from top N frequent entities` field corresponds to the number of top entities (by the frequency of their occurrence in papers) to be included in the co-occurrence network."
   ]
  },
  {
   "cell_type": "markdown",
   "metadata": {},
   "source": [
    "We load the prepared data table into the curation app as follows:"
   ]
  },
  {
   "cell_type": "code",
   "execution_count": 86,
   "metadata": {},
   "outputs": [],
   "source": [
    "curation_app.set_table(curation_input_table.copy())"
   ]
  },
  {
   "cell_type": "markdown",
   "metadata": {},
   "source": [
    "We can specify the default entities to keep."
   ]
  },
  {
   "cell_type": "code",
   "execution_count": 87,
   "metadata": {},
   "outputs": [],
   "source": [
    "default_entities_to_keep = []\n",
    "curation_app.set_default_terms_to_include(default_entities_to_keep)"
   ]
  },
  {
   "cell_type": "markdown",
   "metadata": {},
   "source": [
    "Finally, we set the ontology linking callback to be fired upon a click on the `Link to NCIT ontology` button."
   ]
  },
  {
   "cell_type": "code",
   "execution_count": 88,
   "metadata": {},
   "outputs": [],
   "source": [
    "curation_app.set_ontology_linking_callback(lambda x: link_ontology(ontology_linking, type_mapping, x))"
   ]
  },
  {
   "cell_type": "markdown",
   "metadata": {},
   "source": [
    "##### Launch the curation app"
   ]
  },
  {
   "cell_type": "markdown",
   "metadata": {},
   "source": [
    "The application can be launched either inline (inside the current notebook) as below. Note that if you run this notebook in Colab, you may want to set a lower number of entities to include, in order to avoid long generation time ('Generate Graphs from top N frequent entities' field). Current default value is 200."
   ]
  },
  {
   "cell_type": "code",
   "execution_count": 89,
   "metadata": {},
   "outputs": [
    {
     "name": "stdout",
     "output_type": "stream",
     "text": [
      "Opening port number 8074 failed: Address 'http://127.0.0.1:8074' already in use.\n",
      "    Try passing a different port to run_server.. Trying port number 8075 ...\n"
     ]
    },
    {
     "name": "stderr",
     "output_type": "stream",
     "text": [
      "/Users/mfsy/anaconda3/envs/bluegraph/lib/python3.7/site-packages/jupyter_dash/jupyter_app.py:139: UserWarning:\n",
      "\n",
      "The 'environ['werkzeug.server.shutdown']' function is deprecated and will be removed in Werkzeug 2.1.\n",
      "\n"
     ]
    },
    {
     "name": "stdout",
     "output_type": "stream",
     "text": [
      "Dash app running on http://127.0.0.1:8075/\n"
     ]
    },
    {
     "name": "stderr",
     "output_type": "stream",
     "text": [
      "Exception in thread Thread-1167:\n",
      "Traceback (most recent call last):\n",
      "  File \"/Users/mfsy/anaconda3/envs/bluegraph/lib/python3.7/threading.py\", line 926, in _bootstrap_inner\n",
      "    self.run()\n",
      "  File \"/Users/mfsy/anaconda3/envs/bluegraph/lib/python3.7/threading.py\", line 870, in run\n",
      "    self._target(*self._args, **self._kwargs)\n",
      "  File \"/Users/mfsy/anaconda3/envs/bluegraph/lib/python3.7/site-packages/retrying.py\", line 49, in wrapped_f\n",
      "    return Retrying(*dargs, **dkw).call(f, *args, **kw)\n",
      "  File \"/Users/mfsy/anaconda3/envs/bluegraph/lib/python3.7/site-packages/retrying.py\", line 212, in call\n",
      "    raise attempt.get()\n",
      "  File \"/Users/mfsy/anaconda3/envs/bluegraph/lib/python3.7/site-packages/retrying.py\", line 247, in get\n",
      "    six.reraise(self.value[0], self.value[1], self.value[2])\n",
      "  File \"/Users/mfsy/anaconda3/envs/bluegraph/lib/python3.7/site-packages/six.py\", line 703, in reraise\n",
      "    raise value\n",
      "  File \"/Users/mfsy/anaconda3/envs/bluegraph/lib/python3.7/site-packages/retrying.py\", line 200, in call\n",
      "    attempt = Attempt(fn(*args, **kwargs), attempt_number, False)\n",
      "  File \"/Users/mfsy/anaconda3/envs/bluegraph/lib/python3.7/site-packages/jupyter_dash/jupyter_app.py\", line 289, in run\n",
      "    super_run_server(**kwargs)\n",
      "  File \"/Users/mfsy/anaconda3/envs/bluegraph/lib/python3.7/site-packages/dash/dash.py\", line 1717, in run_server\n",
      "    self.server.run(host=host, port=port, debug=debug, **flask_run_options)\n",
      "  File \"/Users/mfsy/anaconda3/envs/bluegraph/lib/python3.7/site-packages/flask/app.py\", line 990, in run\n",
      "    run_simple(host, port, self, **options)\n",
      "  File \"/Users/mfsy/anaconda3/envs/bluegraph/lib/python3.7/site-packages/werkzeug/serving.py\", line 1017, in run_simple\n",
      "    inner()\n",
      "  File \"/Users/mfsy/anaconda3/envs/bluegraph/lib/python3.7/site-packages/werkzeug/serving.py\", line 966, in inner\n",
      "    fd=fd,\n",
      "  File \"/Users/mfsy/anaconda3/envs/bluegraph/lib/python3.7/site-packages/werkzeug/serving.py\", line 790, in make_server\n",
      "    host, port, app, request_handler, passthrough_errors, ssl_context, fd=fd\n",
      "  File \"/Users/mfsy/anaconda3/envs/bluegraph/lib/python3.7/site-packages/werkzeug/serving.py\", line 693, in __init__\n",
      "    super().__init__(server_address, handler)  # type: ignore\n",
      "  File \"/Users/mfsy/anaconda3/envs/bluegraph/lib/python3.7/socketserver.py\", line 452, in __init__\n",
      "    self.server_bind()\n",
      "  File \"/Users/mfsy/anaconda3/envs/bluegraph/lib/python3.7/http/server.py\", line 137, in server_bind\n",
      "    socketserver.TCPServer.server_bind(self)\n",
      "  File \"/Users/mfsy/anaconda3/envs/bluegraph/lib/python3.7/socketserver.py\", line 466, in server_bind\n",
      "    self.socket.bind(self.server_address)\n",
      "OSError: [Errno 48] Address already in use\n",
      "\n",
      "Traceback (most recent call last):\n",
      "  File \"/Users/mfsy/anaconda3/envs/bluegraph/lib/python3.7/site-packages/cord19kg/apps/curation_app.py\", line 720, in update_output\n",
      "    dff = dff.loc[dff[col_name].str.contains(filter_value)]\n",
      "  File \"/Users/mfsy/anaconda3/envs/bluegraph/lib/python3.7/site-packages/pandas/core/strings/accessor.py\", line 116, in wrapper\n",
      "    return func(self, *args, **kwargs)\n",
      "  File \"/Users/mfsy/anaconda3/envs/bluegraph/lib/python3.7/site-packages/pandas/core/strings/accessor.py\", line 1153, in contains\n",
      "    if regex and re.compile(pat).groups:\n",
      "  File \"/Users/mfsy/anaconda3/envs/bluegraph/lib/python3.7/re.py\", line 236, in compile\n",
      "    return _compile(pattern, flags)\n",
      "  File \"/Users/mfsy/anaconda3/envs/bluegraph/lib/python3.7/re.py\", line 288, in _compile\n",
      "    p = sre_compile.compile(pattern, flags)\n",
      "  File \"/Users/mfsy/anaconda3/envs/bluegraph/lib/python3.7/sre_compile.py\", line 764, in compile\n",
      "    p = sre_parse.parse(p, flags)\n",
      "  File \"/Users/mfsy/anaconda3/envs/bluegraph/lib/python3.7/sre_parse.py\", line 924, in parse\n",
      "    p = _parse_sub(source, pattern, flags & SRE_FLAG_VERBOSE, 0)\n",
      "  File \"/Users/mfsy/anaconda3/envs/bluegraph/lib/python3.7/sre_parse.py\", line 420, in _parse_sub\n",
      "    not nested and not items))\n",
      "  File \"/Users/mfsy/anaconda3/envs/bluegraph/lib/python3.7/sre_parse.py\", line 645, in _parse\n",
      "    source.tell() - here + len(this))\n",
      "re.error: nothing to repeat at position 0\n"
     ]
    },
    {
     "name": "stdout",
     "output_type": "stream",
     "text": [
      "Merging the occurrence data with the ontology linking...\n"
     ]
    },
    {
     "name": "stderr",
     "output_type": "stream",
     "text": [
      "/Users/mfsy/anaconda3/envs/bluegraph/lib/python3.7/site-packages/pandas/core/groupby/generic.py:303: FutureWarning:\n",
      "\n",
      "Dropping invalid columns in SeriesGroupBy.agg is deprecated. In a future version, a TypeError will be raised. Before calling .agg, select only columns which should be valid for the aggregating function.\n",
      "\n"
     ]
    },
    {
     "name": "stdout",
     "output_type": "stream",
     "text": [
      "Merging the occurrence data with the ontology linking...\n"
     ]
    },
    {
     "name": "stderr",
     "output_type": "stream",
     "text": [
      "Traceback (most recent call last):\n",
      "  File \"/Users/mfsy/anaconda3/envs/bluegraph/lib/python3.7/site-packages/cord19kg/apps/curation_app.py\", line 638, in update_output\n",
      "    if data_row[\"aggregated_entities\"] ==\\\n",
      "KeyError: 'aggregated_entities'\n"
     ]
    },
    {
     "name": "stdout",
     "output_type": "stream",
     "text": [
      "Merging the occurrence data with the ontology linking...\n",
      "Merging the occurrence data with the ontology linking...\n"
     ]
    },
    {
     "name": "stderr",
     "output_type": "stream",
     "text": [
      "Traceback (most recent call last):\n",
      "  File \"/Users/mfsy/anaconda3/envs/bluegraph/lib/python3.7/site-packages/cord19kg/apps/curation_app.py\", line 720, in update_output\n",
      "    dff = dff.loc[dff[col_name].str.contains(filter_value)]\n",
      "  File \"/Users/mfsy/anaconda3/envs/bluegraph/lib/python3.7/site-packages/pandas/core/strings/accessor.py\", line 116, in wrapper\n",
      "    return func(self, *args, **kwargs)\n",
      "  File \"/Users/mfsy/anaconda3/envs/bluegraph/lib/python3.7/site-packages/pandas/core/strings/accessor.py\", line 1153, in contains\n",
      "    if regex and re.compile(pat).groups:\n",
      "  File \"/Users/mfsy/anaconda3/envs/bluegraph/lib/python3.7/re.py\", line 236, in compile\n",
      "    return _compile(pattern, flags)\n",
      "  File \"/Users/mfsy/anaconda3/envs/bluegraph/lib/python3.7/re.py\", line 288, in _compile\n",
      "    p = sre_compile.compile(pattern, flags)\n",
      "  File \"/Users/mfsy/anaconda3/envs/bluegraph/lib/python3.7/sre_compile.py\", line 764, in compile\n",
      "    p = sre_parse.parse(p, flags)\n",
      "  File \"/Users/mfsy/anaconda3/envs/bluegraph/lib/python3.7/sre_parse.py\", line 924, in parse\n",
      "    p = _parse_sub(source, pattern, flags & SRE_FLAG_VERBOSE, 0)\n",
      "  File \"/Users/mfsy/anaconda3/envs/bluegraph/lib/python3.7/sre_parse.py\", line 420, in _parse_sub\n",
      "    not nested and not items))\n",
      "  File \"/Users/mfsy/anaconda3/envs/bluegraph/lib/python3.7/sre_parse.py\", line 645, in _parse\n",
      "    source.tell() - here + len(this))\n",
      "re.error: nothing to repeat at position 0\n"
     ]
    },
    {
     "name": "stdout",
     "output_type": "stream",
     "text": [
      "Merging the occurrence data with the ontology linking...\n",
      "Merging the occurrence data with the ontology linking...\n"
     ]
    }
   ],
   "source": [
    "curation_app.run(port=8074, mode=\"external\")"
   ]
  },
  {
   "cell_type": "markdown",
   "metadata": {},
   "source": [
    "Or it can be opened externally (by the URL that you can open in a separate tab of your browser, try uncommenting, executing and doing Ctrl+Click on the displayed URL)."
   ]
  },
  {
   "cell_type": "code",
   "execution_count": null,
   "metadata": {},
   "outputs": [],
   "source": [
    "# curation_app.run(port=8070, mode=\"external\")"
   ]
  },
  {
   "cell_type": "markdown",
   "metadata": {},
   "source": [
    "## 3. Co-occurrence network generation"
   ]
  },
  {
   "cell_type": "markdown",
   "metadata": {},
   "source": [
    "Current curation table displayed in the curation app can be extracted using the `get_curated_table` method."
   ]
  },
  {
   "cell_type": "code",
   "execution_count": 90,
   "metadata": {},
   "outputs": [
    {
     "data": {
      "text/html": [
       "<div>\n",
       "<style scoped>\n",
       "    .dataframe tbody tr th:only-of-type {\n",
       "        vertical-align: middle;\n",
       "    }\n",
       "\n",
       "    .dataframe tbody tr th {\n",
       "        vertical-align: top;\n",
       "    }\n",
       "\n",
       "    .dataframe thead th {\n",
       "        text-align: right;\n",
       "    }\n",
       "</style>\n",
       "<table border=\"1\" class=\"dataframe\">\n",
       "  <thead>\n",
       "    <tr style=\"text-align: right;\">\n",
       "      <th></th>\n",
       "      <th>paper</th>\n",
       "      <th>section</th>\n",
       "      <th>paragraph</th>\n",
       "      <th>aggregated_entities</th>\n",
       "      <th>uid</th>\n",
       "      <th>definition</th>\n",
       "      <th>paper_frequency</th>\n",
       "      <th>entity_type</th>\n",
       "    </tr>\n",
       "    <tr>\n",
       "      <th>entity</th>\n",
       "      <th></th>\n",
       "      <th></th>\n",
       "      <th></th>\n",
       "      <th></th>\n",
       "      <th></th>\n",
       "      <th></th>\n",
       "      <th></th>\n",
       "      <th></th>\n",
       "    </tr>\n",
       "  </thead>\n",
       "  <tbody>\n",
       "    <tr>\n",
       "      <th>pde4d2</th>\n",
       "      <td>{874bab5504dc9322a9e0126b74df2eb7, 7a78b7030aa...</td>\n",
       "      <td>{874bab5504dc9322a9e0126b74df2eb7:_, 7a78b7030...</td>\n",
       "      <td>{7a78b7030aa13d9eb00e5404806a478e:_:7dGMiYMBxa...</td>\n",
       "      <td>[pde4d2]</td>\n",
       "      <td>NaN</td>\n",
       "      <td>NaN</td>\n",
       "      <td>2</td>\n",
       "      <td>GENE</td>\n",
       "    </tr>\n",
       "    <tr>\n",
       "      <th>it -15</th>\n",
       "      <td>{6d77e9eee0125813b9d09283038edb63, 9aa7e25db35...</td>\n",
       "      <td>{9aa7e25db35f38934da5bfa5fb22fa95:_, 6d77e9eee...</td>\n",
       "      <td>{6d77e9eee0125813b9d09283038edb63:_:SnWMiYMBVj...</td>\n",
       "      <td>[it -15]</td>\n",
       "      <td>NaN</td>\n",
       "      <td>NaN</td>\n",
       "      <td>2</td>\n",
       "      <td>GENE</td>\n",
       "    </tr>\n",
       "    <tr>\n",
       "      <th>lox</th>\n",
       "      <td>{43fac8bfea63c4a275ac324ce58ed17a, 1a31f09b43c...</td>\n",
       "      <td>{1573e342193b4fb2ffbb5d9b1d6a5989:_, 487b08b86...</td>\n",
       "      <td>{4fe1abeeaa80dcfe36b3a47a58cce14c:_:oXSLiYMBVj...</td>\n",
       "      <td>[lox, loxl2, loxs]</td>\n",
       "      <td>NaN</td>\n",
       "      <td>NaN</td>\n",
       "      <td>53</td>\n",
       "      <td>GENE</td>\n",
       "    </tr>\n",
       "  </tbody>\n",
       "</table>\n",
       "</div>"
      ],
      "text/plain": [
       "                                                    paper  \\\n",
       "entity                                                      \n",
       "pde4d2  {874bab5504dc9322a9e0126b74df2eb7, 7a78b7030aa...   \n",
       "it -15  {6d77e9eee0125813b9d09283038edb63, 9aa7e25db35...   \n",
       "lox     {43fac8bfea63c4a275ac324ce58ed17a, 1a31f09b43c...   \n",
       "\n",
       "                                                  section  \\\n",
       "entity                                                      \n",
       "pde4d2  {874bab5504dc9322a9e0126b74df2eb7:_, 7a78b7030...   \n",
       "it -15  {9aa7e25db35f38934da5bfa5fb22fa95:_, 6d77e9eee...   \n",
       "lox     {1573e342193b4fb2ffbb5d9b1d6a5989:_, 487b08b86...   \n",
       "\n",
       "                                                paragraph aggregated_entities  \\\n",
       "entity                                                                          \n",
       "pde4d2  {7a78b7030aa13d9eb00e5404806a478e:_:7dGMiYMBxa...            [pde4d2]   \n",
       "it -15  {6d77e9eee0125813b9d09283038edb63:_:SnWMiYMBVj...            [it -15]   \n",
       "lox     {4fe1abeeaa80dcfe36b3a47a58cce14c:_:oXSLiYMBVj...  [lox, loxl2, loxs]   \n",
       "\n",
       "        uid definition  paper_frequency entity_type  \n",
       "entity                                               \n",
       "pde4d2  NaN        NaN                2        GENE  \n",
       "it -15  NaN        NaN                2        GENE  \n",
       "lox     NaN        NaN               53        GENE  "
      ]
     },
     "execution_count": 90,
     "metadata": {},
     "output_type": "execute_result"
    }
   ],
   "source": [
    "curated_occurrence_data = curation_app.get_curated_table()\n",
    "curated_occurrence_data.sample(3)"
   ]
  },
  {
   "cell_type": "markdown",
   "metadata": {},
   "source": [
    "Before we can proceed we need to convert paper/section and paragraph columns into `set`."
   ]
  },
  {
   "cell_type": "code",
   "execution_count": 91,
   "metadata": {},
   "outputs": [],
   "source": [
    "curated_occurrence_data[\"paper\"] = curated_occurrence_data[\"paper\"].apply(set)\n",
    "curated_occurrence_data[\"paragraph\"] = curated_occurrence_data[\"paragraph\"].apply(set)\n",
    "curated_occurrence_data[\"section\"] = curated_occurrence_data[\"section\"].apply(set)"
   ]
  },
  {
   "cell_type": "markdown",
   "metadata": {},
   "source": [
    "We can also retreive current values of the `Keep` field (these entities will be also included in the resulting co-occurrence network)."
   ]
  },
  {
   "cell_type": "code",
   "execution_count": 92,
   "metadata": {},
   "outputs": [
    {
     "data": {
      "text/plain": [
       "[]"
      ]
     },
     "execution_count": 92,
     "metadata": {},
     "output_type": "execute_result"
    }
   ],
   "source": [
    "curation_app.get_terms_to_include()"
   ]
  },
  {
   "cell_type": "code",
   "execution_count": 50,
   "metadata": {},
   "outputs": [],
   "source": [
    "# Save curation table \n",
    "curated_occurrence_data.to_csv(\"./curated_linked_table.csv\")"
   ]
  },
  {
   "cell_type": "markdown",
   "metadata": {},
   "source": [
    "### Generating co-occurrence networks\n",
    "\n",
    "In this section, we generate a paragraph-based entity co-occurrence network (i.e. an edge between a pair of entities is added if they co-occur in the same paragraph). Also some grapah and co-occurrence statistics are generated:\n",
    "\n",
    "* computes co-occurrence statistics (such as frequency, pointwise mutual information and normalized pointwise mutual information) and assignes them as weights to the corresponding edges \n",
    "\n",
    "    * `ppmi`: given two entities (x, y), their _positive pointwise mutual information (PPMI)_ is defined as $PPMI(x, y) = \\log_2{\\frac{p(x, y)}{p(x)p(y)}} $, if $p(x) \\neq 0$ and $p(y) \\neq 0$, and $PPMI(x, y) = 0$ otherwise.\n",
    "\n",
    "    * `npmi`: given two entities (x, y), their_normalized pointwise mutual information (NPMI)_ is defined as $NPMI(x, y) = \\frac{PPMI(x, y)}{-\\log_2{p(x, y)}} $.\n",
    "\n",
    "* computes node centrality metrics (such as degree, RageRank) and them as weights to the nodes\n",
    "* performs entity community detection based on different co-occurrence statistics\n",
    "* computes mutual-information-based minimum spanning trees."
   ]
  },
  {
   "cell_type": "markdown",
   "metadata": {},
   "source": [
    "Before we run the co-occurrence analysis, we will create a dictionary with backend configurations for the analytics:\n",
    "\n",
    "* we set metrics (centalities) computation to use `graph_tool`, \n",
    "* community detection to use `networkx` \n",
    "* and, finally, path search to use `graph_tool` as well."
   ]
  },
  {
   "cell_type": "code",
   "execution_count": 93,
   "metadata": {},
   "outputs": [],
   "source": [
    "import time"
   ]
  },
  {
   "cell_type": "code",
   "execution_count": 94,
   "metadata": {},
   "outputs": [],
   "source": [
    "import time\n",
    "backend_configs = {\n",
    "    \"metrics\": \"graph_tool\",\n",
    "    \"communities\": \"networkx\",\n",
    "    \"paths\": \"graph_tool\"\n",
    "}"
   ]
  },
  {
   "cell_type": "code",
   "execution_count": 95,
   "metadata": {
    "scrolled": true
   },
   "outputs": [
    {
     "name": "stdout",
     "output_type": "stream",
     "text": [
      "-------------------------------\n",
      "Factor: paragraph\n",
      "-------------------------------\n",
      "Done.\n",
      "CPU times: user 4min 28s, sys: 8min 7s, total: 12min 36s\n",
      "Wall time: 5min 43s\n"
     ]
    }
   ],
   "source": [
    "%%time\n",
    "type_data = curated_occurrence_data[[\"entity_type\"]].rename(columns={\"entity_type\": \"type\"})\n",
    "\n",
    "graphs, trees = generate_cooccurrence_analysis(\n",
    "    curated_occurrence_data,  factor_counts,\n",
    "    n_most_frequent=curation_app.n_most_frequent,\n",
    "    type_data=type_data, \n",
    "    factors=[\"paragraph\"],\n",
    "    keep=curation_app.get_terms_to_include(),\n",
    "    cores=8,  # here set up the number of cores\n",
    "    backend_configs=backend_configs)\n",
    "print(\"Done.\")"
   ]
  },
  {
   "cell_type": "code",
   "execution_count": 96,
   "metadata": {},
   "outputs": [
    {
     "data": {
      "text/html": [
       "<div>\n",
       "<style scoped>\n",
       "    .dataframe tbody tr th:only-of-type {\n",
       "        vertical-align: middle;\n",
       "    }\n",
       "\n",
       "    .dataframe tbody tr th {\n",
       "        vertical-align: top;\n",
       "    }\n",
       "\n",
       "    .dataframe thead th {\n",
       "        text-align: right;\n",
       "    }\n",
       "</style>\n",
       "<table border=\"1\" class=\"dataframe\">\n",
       "  <thead>\n",
       "    <tr style=\"text-align: right;\">\n",
       "      <th></th>\n",
       "      <th></th>\n",
       "      <th>frequency</th>\n",
       "      <th>ppmi</th>\n",
       "      <th>npmi</th>\n",
       "      <th>distance_npmi</th>\n",
       "    </tr>\n",
       "    <tr>\n",
       "      <th>@source_id</th>\n",
       "      <th>@target_id</th>\n",
       "      <th></th>\n",
       "      <th></th>\n",
       "      <th></th>\n",
       "      <th></th>\n",
       "    </tr>\n",
       "  </thead>\n",
       "  <tbody>\n",
       "    <tr>\n",
       "      <th>ampar</th>\n",
       "      <th>neuronal cells</th>\n",
       "      <td>6</td>\n",
       "      <td>0.190739</td>\n",
       "      <td>0.012065</td>\n",
       "      <td>82.886474</td>\n",
       "    </tr>\n",
       "    <tr>\n",
       "      <th>bcl -2</th>\n",
       "      <th>cr1</th>\n",
       "      <td>1</td>\n",
       "      <td>0.000000</td>\n",
       "      <td>0.000000</td>\n",
       "      <td>inf</td>\n",
       "    </tr>\n",
       "    <tr>\n",
       "      <th>gabaergic</th>\n",
       "      <th>raas</th>\n",
       "      <td>2</td>\n",
       "      <td>0.000000</td>\n",
       "      <td>0.000000</td>\n",
       "      <td>inf</td>\n",
       "    </tr>\n",
       "    <tr>\n",
       "      <th>plasma</th>\n",
       "      <th>stat3 measurement</th>\n",
       "      <td>15</td>\n",
       "      <td>0.000000</td>\n",
       "      <td>0.000000</td>\n",
       "      <td>inf</td>\n",
       "    </tr>\n",
       "    <tr>\n",
       "      <th>auditory cortex</th>\n",
       "      <th>hpa</th>\n",
       "      <td>1</td>\n",
       "      <td>0.000000</td>\n",
       "      <td>0.000000</td>\n",
       "      <td>inf</td>\n",
       "    </tr>\n",
       "  </tbody>\n",
       "</table>\n",
       "</div>"
      ],
      "text/plain": [
       "                                   frequency      ppmi      npmi  \\\n",
       "@source_id      @target_id                                         \n",
       "ampar           neuronal cells             6  0.190739  0.012065   \n",
       "bcl -2          cr1                        1  0.000000  0.000000   \n",
       "gabaergic       raas                       2  0.000000  0.000000   \n",
       "plasma          stat3 measurement         15  0.000000  0.000000   \n",
       "auditory cortex hpa                        1  0.000000  0.000000   \n",
       "\n",
       "                                   distance_npmi  \n",
       "@source_id      @target_id                        \n",
       "ampar           neuronal cells         82.886474  \n",
       "bcl -2          cr1                          inf  \n",
       "gabaergic       raas                         inf  \n",
       "plasma          stat3 measurement            inf  \n",
       "auditory cortex hpa                          inf  "
      ]
     },
     "execution_count": 96,
     "metadata": {},
     "output_type": "execute_result"
    }
   ],
   "source": [
    "graphs[\"paragraph\"].edges(raw_frame=True).sample(5)"
   ]
  },
  {
   "cell_type": "code",
   "execution_count": 97,
   "metadata": {},
   "outputs": [
    {
     "data": {
      "text/html": [
       "<div>\n",
       "<style scoped>\n",
       "    .dataframe tbody tr th:only-of-type {\n",
       "        vertical-align: middle;\n",
       "    }\n",
       "\n",
       "    .dataframe tbody tr th {\n",
       "        vertical-align: top;\n",
       "    }\n",
       "\n",
       "    .dataframe thead th {\n",
       "        text-align: right;\n",
       "    }\n",
       "</style>\n",
       "<table border=\"1\" class=\"dataframe\">\n",
       "  <thead>\n",
       "    <tr style=\"text-align: right;\">\n",
       "      <th></th>\n",
       "      <th>@type</th>\n",
       "      <th>paragraph_frequency</th>\n",
       "      <th>entity_type</th>\n",
       "      <th>paper</th>\n",
       "      <th>degree_frequency</th>\n",
       "      <th>pagerank_frequency</th>\n",
       "      <th>community_frequency</th>\n",
       "      <th>community_npmi</th>\n",
       "    </tr>\n",
       "    <tr>\n",
       "      <th>@id</th>\n",
       "      <th></th>\n",
       "      <th></th>\n",
       "      <th></th>\n",
       "      <th></th>\n",
       "      <th></th>\n",
       "      <th></th>\n",
       "      <th></th>\n",
       "      <th></th>\n",
       "    </tr>\n",
       "  </thead>\n",
       "  <tbody>\n",
       "    <tr>\n",
       "      <th>radiation arc</th>\n",
       "      <td>Entity</td>\n",
       "      <td>578</td>\n",
       "      <td>GENE</td>\n",
       "      <td>[1d96334d3820341f5f9473701606cd4e, c70139d0138...</td>\n",
       "      <td>3829.0</td>\n",
       "      <td>0.000878</td>\n",
       "      <td>1</td>\n",
       "      <td>1</td>\n",
       "    </tr>\n",
       "    <tr>\n",
       "      <th>interleukin-19</th>\n",
       "      <td>Entity</td>\n",
       "      <td>2008</td>\n",
       "      <td>PROTEIN</td>\n",
       "      <td>[e90c3d9010f8ebdf279d5f7f504f5872, 6d2c3d6f2b5...</td>\n",
       "      <td>10557.0</td>\n",
       "      <td>0.001804</td>\n",
       "      <td>1</td>\n",
       "      <td>1</td>\n",
       "    </tr>\n",
       "    <tr>\n",
       "      <th>plasma</th>\n",
       "      <td>Entity</td>\n",
       "      <td>7378</td>\n",
       "      <td>ORGAN</td>\n",
       "      <td>[23ba5fbabbdb2eb72f86904f80a0b21a, 103ec4ece0c...</td>\n",
       "      <td>22777.0</td>\n",
       "      <td>0.003754</td>\n",
       "      <td>4</td>\n",
       "      <td>3</td>\n",
       "    </tr>\n",
       "    <tr>\n",
       "      <th>gamma-aminobutyric acid</th>\n",
       "      <td>Entity</td>\n",
       "      <td>4728</td>\n",
       "      <td>CHEMICAL</td>\n",
       "      <td>[732c9daf5a1b250e48dbf401a859d60f, 83a05bb9dc3...</td>\n",
       "      <td>27135.0</td>\n",
       "      <td>0.004232</td>\n",
       "      <td>1</td>\n",
       "      <td>1</td>\n",
       "    </tr>\n",
       "    <tr>\n",
       "      <th>cornea</th>\n",
       "      <td>Entity</td>\n",
       "      <td>462</td>\n",
       "      <td>BRAIN_REGION</td>\n",
       "      <td>[9c8111f75db4249dc17b2eff623444eb, c7c3767367b...</td>\n",
       "      <td>1125.0</td>\n",
       "      <td>0.000466</td>\n",
       "      <td>1</td>\n",
       "      <td>4</td>\n",
       "    </tr>\n",
       "  </tbody>\n",
       "</table>\n",
       "</div>"
      ],
      "text/plain": [
       "                          @type  paragraph_frequency   entity_type  \\\n",
       "@id                                                                  \n",
       "radiation arc            Entity                  578          GENE   \n",
       "interleukin-19           Entity                 2008       PROTEIN   \n",
       "plasma                   Entity                 7378         ORGAN   \n",
       "gamma-aminobutyric acid  Entity                 4728      CHEMICAL   \n",
       "cornea                   Entity                  462  BRAIN_REGION   \n",
       "\n",
       "                                                                     paper  \\\n",
       "@id                                                                          \n",
       "radiation arc            [1d96334d3820341f5f9473701606cd4e, c70139d0138...   \n",
       "interleukin-19           [e90c3d9010f8ebdf279d5f7f504f5872, 6d2c3d6f2b5...   \n",
       "plasma                   [23ba5fbabbdb2eb72f86904f80a0b21a, 103ec4ece0c...   \n",
       "gamma-aminobutyric acid  [732c9daf5a1b250e48dbf401a859d60f, 83a05bb9dc3...   \n",
       "cornea                   [9c8111f75db4249dc17b2eff623444eb, c7c3767367b...   \n",
       "\n",
       "                         degree_frequency  pagerank_frequency  \\\n",
       "@id                                                             \n",
       "radiation arc                      3829.0            0.000878   \n",
       "interleukin-19                    10557.0            0.001804   \n",
       "plasma                            22777.0            0.003754   \n",
       "gamma-aminobutyric acid           27135.0            0.004232   \n",
       "cornea                             1125.0            0.000466   \n",
       "\n",
       "                         community_frequency  community_npmi  \n",
       "@id                                                           \n",
       "radiation arc                              1               1  \n",
       "interleukin-19                             1               1  \n",
       "plasma                                     4               3  \n",
       "gamma-aminobutyric acid                    1               1  \n",
       "cornea                                     1               4  "
      ]
     },
     "execution_count": 97,
     "metadata": {},
     "output_type": "execute_result"
    }
   ],
   "source": [
    "graphs[\"paragraph\"].nodes(raw_frame=True).sample(5)"
   ]
  },
  {
   "cell_type": "markdown",
   "metadata": {},
   "source": [
    "#### Save or load co-occurence graph and spaning tree"
   ]
  },
  {
   "cell_type": "code",
   "execution_count": 56,
   "metadata": {},
   "outputs": [],
   "source": [
    "co_occurence_graph_nodes_path =\"./co-occurence-graph-nodes.csv\"\n",
    "co_occurence_graph_edges_path =\"./co-occurence-graph-edges.csv\"\n",
    "\n",
    "co_occurence_tree_nodes_path =\"./co-occurence-tree-nodes.csv\"\n",
    "co_occurence_tree_edges_path =\"./co-occurence-tree-edges.csv\"\n"
   ]
  },
  {
   "cell_type": "code",
   "execution_count": 57,
   "metadata": {},
   "outputs": [],
   "source": [
    "# Save co-occurence graph\n",
    "graphs[\"paragraph\"].to_csv(co_occurence_graph_nodes_path, co_occurence_graph_edges_path)"
   ]
  },
  {
   "cell_type": "code",
   "execution_count": 58,
   "metadata": {},
   "outputs": [],
   "source": [
    "# Save spaning tree\n",
    "trees[\"paragraph\"].to_csv(co_occurence_tree_nodes_path, co_occurence_tree_edges_path)"
   ]
  },
  {
   "cell_type": "code",
   "execution_count": null,
   "metadata": {},
   "outputs": [],
   "source": [
    "# Load saved co-occurence graph and spanning tree\n",
    "graphs = {}\n",
    "trees = {}\n",
    "graphs[\"paragraph\"]=PGFrame.from_csv(co_occurence_graph_nodes_path, co_occurence_tree_nodes_path)\n",
    "graphs[\"paragraph\"]=PGFrame.from_csv(co_occurence_graph_nodes_path, co_occurence_tree_edges_path)"
   ]
  },
  {
   "cell_type": "markdown",
   "metadata": {},
   "source": [
    "## 4. Co-occurrence network visualization and analysis"
   ]
  },
  {
   "cell_type": "markdown",
   "metadata": {},
   "source": [
    "### Programmatic analysis of the co-occurrence network "
   ]
  },
  {
   "cell_type": "markdown",
   "metadata": {},
   "source": [
    "#### Nearest neighours by co-occurrence scores"
   ]
  },
  {
   "cell_type": "markdown",
   "metadata": {},
   "source": [
    "To illustrate the importance of computing mutual-information-based scores over raw frequencies, consider the following example, where we would like to estimate top closest (most related) neighbors to a specific term.\n",
    "\n",
    "To do so, we will use the paragraph-based network and the raw co-occurrence frequency as the weight of our co-occurrence relation. The `top_neighbors` method of the `PathFinder` interface provided by the BlueGraph allows us to search for top neighbors with the highest edge weight. In this example, we use `graph_tool`-based `GTPathFinder` interface."
   ]
  },
  {
   "cell_type": "code",
   "execution_count": null,
   "metadata": {},
   "outputs": [],
   "source": [
    "paragraph_path_finder = GTPathFinder(graphs[\"paragraph\"], directed=False)"
   ]
  },
  {
   "cell_type": "code",
   "execution_count": null,
   "metadata": {},
   "outputs": [],
   "source": [
    "paragraph_path_finder.top_neighbors(\"hippocampus\", 10, weight=\"frequency\")"
   ]
  },
  {
   "cell_type": "code",
   "execution_count": null,
   "metadata": {},
   "outputs": [],
   "source": [
    "paragraph_path_finder.top_neighbors(\"neuron\", 10, weight=\"frequency\")"
   ]
  },
  {
   "cell_type": "markdown",
   "metadata": {},
   "source": [
    "(Closest inspection of the distribution of weighted node degrees suggests that the network contains _hubs_, nodes with significantly high-degree connectivity to other nodes.)"
   ]
  },
  {
   "cell_type": "code",
   "execution_count": null,
   "metadata": {},
   "outputs": [],
   "source": [
    "graphs[\"paragraph\"]._nodes"
   ]
  },
  {
   "cell_type": "code",
   "execution_count": null,
   "metadata": {},
   "outputs": [],
   "source": [
    "graphs[\"paragraph\"].nodes(raw_frame=True).nlargest(10, columns=[\"paragraph_frequency\"])"
   ]
  },
  {
   "cell_type": "markdown",
   "metadata": {},
   "source": [
    "To account for the presence of such hubs, we use the mutual-information-based scores presented above. They 'balance' the influence of the highly connected hub."
   ]
  },
  {
   "cell_type": "code",
   "execution_count": null,
   "metadata": {},
   "outputs": [],
   "source": [
    "paragraph_path_finder.top_neighbors(\"hippocampus\", 10, weight=\"npmi\")"
   ]
  },
  {
   "cell_type": "code",
   "execution_count": null,
   "metadata": {
    "scrolled": true
   },
   "outputs": [],
   "source": [
    "paragraph_path_finder.top_neighbors(\"neuron\", 10, weight=\"npmi\")"
   ]
  },
  {
   "cell_type": "markdown",
   "metadata": {},
   "source": [
    "#### IV. Graph metrics and centrality measures\n",
    "\n",
    "BlueGraph provides the `MetricProcessor` interface for computing various graph statistics. As in the previous example, we will use `graph_tool`-based `GTMetricProcessor` interface."
   ]
  },
  {
   "cell_type": "code",
   "execution_count": null,
   "metadata": {},
   "outputs": [],
   "source": [
    "#paper_metrics = GTMetricProcessor(paper_network, directed=False)\n",
    "paragraph_metrics = GTMetricProcessor(graphs[\"paragraph\"], directed=False)"
   ]
  },
  {
   "cell_type": "markdown",
   "metadata": {},
   "source": [
    "##### Graph density"
   ]
  },
  {
   "cell_type": "markdown",
   "metadata": {},
   "source": [
    "Density of a graph is quantified by the proportion of all possible edges ($n(n-1) / 2$ for the undirected graph with $n$ nodes) that are realized."
   ]
  },
  {
   "cell_type": "code",
   "execution_count": null,
   "metadata": {},
   "outputs": [],
   "source": [
    "#print(\"Density of the paper-based network: \", paper_metrics.density())\n",
    "print(\"Density of the paragraph-based network: \", paragraph_metrics.density())"
   ]
  },
  {
   "cell_type": "markdown",
   "metadata": {},
   "source": [
    "The results above show that in the paragraph network, 39% of all possible term pairs co-occur at least once."
   ]
  },
  {
   "cell_type": "markdown",
   "metadata": {},
   "source": [
    "##### Node centrality (importance) measures\n",
    "\n",
    "In this example we will compute the Degree and PageRank centralities only for the raw frequency, and the Betweenness centrality for the mutual-information-based scores. We will use methods provided by the `MetricProcessor` interface in the _write_ mode, i.e. computed metrics will be written as node properties of the underlying graph object."
   ]
  },
  {
   "cell_type": "markdown",
   "metadata": {},
   "source": [
    "_Degree centrality_ is given by the sum of weights of all incident edges of the given node and characterizes the importance of the node in the network in terms of its connectivity to other nodes (high degree = high connectivity)."
   ]
  },
  {
   "cell_type": "code",
   "execution_count": null,
   "metadata": {},
   "outputs": [],
   "source": [
    "paragraph_metrics.degree_centrality(\"frequency\", write=True, write_property=\"degree\")"
   ]
  },
  {
   "cell_type": "markdown",
   "metadata": {},
   "source": [
    "_PageRank centrality_ is another measure that estimated the importance of the given node in the network. Roughly speaking it can be interpreted as the probablity that having landed on a random node in the network we will jump to the given node (here the edge weights are taken into account\").\n",
    "\n",
    "https://en.wikipedia.org/wiki/PageRank"
   ]
  },
  {
   "cell_type": "code",
   "execution_count": null,
   "metadata": {},
   "outputs": [],
   "source": [
    "paragraph_metrics.pagerank_centrality(\"frequency\", write=True, write_property=\"pagerank\")"
   ]
  },
  {
   "cell_type": "markdown",
   "metadata": {},
   "source": [
    "We then compute the betweenness centrality based on the NPMI distances.\n",
    "\n",
    "_Betweenness centrality_ is a node importance measure that estimates how often a shortest path between a pair of nodes will pass through the given node."
   ]
  },
  {
   "cell_type": "code",
   "execution_count": null,
   "metadata": {},
   "outputs": [],
   "source": [
    "paragraph_metrics.betweenness_centrality(\"distance_npmi\", write=True, write_property=\"betweenness\")"
   ]
  },
  {
   "cell_type": "markdown",
   "metadata": {},
   "source": [
    "We can inspect the underlying graph object and observe the newly added properties:"
   ]
  },
  {
   "cell_type": "code",
   "execution_count": null,
   "metadata": {},
   "outputs": [],
   "source": [
    "paragraph_metrics.graph.vp.keys()"
   ]
  },
  {
   "cell_type": "markdown",
   "metadata": {},
   "source": [
    "Now, we will export this backend-specific graph object into a `PGFrame`."
   ]
  },
  {
   "cell_type": "code",
   "execution_count": null,
   "metadata": {},
   "outputs": [],
   "source": [
    "new_paragraph_network = paragraph_metrics.get_pgframe()"
   ]
  },
  {
   "cell_type": "code",
   "execution_count": null,
   "metadata": {},
   "outputs": [],
   "source": [
    "new_paragraph_network.nodes(raw_frame=True).sample(5)"
   ]
  },
  {
   "cell_type": "code",
   "execution_count": null,
   "metadata": {},
   "outputs": [],
   "source": [
    "print(\"Top 10 nodes by degree\")\n",
    "for n in new_paragraph_network.nodes(raw_frame=True).nlargest(10, columns=[\"degree\"]).index:\n",
    "    print(\"\\t\", n)"
   ]
  },
  {
   "cell_type": "code",
   "execution_count": null,
   "metadata": {},
   "outputs": [],
   "source": [
    "print(\"Top 10 nodes by PageRank\")\n",
    "for n in new_paragraph_network.nodes(raw_frame=True).nlargest(10, columns=[\"pagerank\"]).index:\n",
    "    print(\"\\t\", n)"
   ]
  },
  {
   "cell_type": "code",
   "execution_count": null,
   "metadata": {},
   "outputs": [],
   "source": [
    "print(\"Top 10 nodes by betweenness\")\n",
    "for n in new_paragraph_network.nodes(raw_frame=True).nlargest(10, columns=[\"betweenness\"]).index:\n",
    "    print(\"\\t\", n)"
   ]
  },
  {
   "cell_type": "markdown",
   "metadata": {},
   "source": [
    "##### Compute multiple metrics in one go"
   ]
  },
  {
   "cell_type": "markdown",
   "metadata": {},
   "source": [
    "Alternatively, we can compute all the metrics in one go. To do so, we need to specify edge attributes used for computing different metrics (if an empty list is specified as a weight list for a metric, computation of this metric is not performed). \n",
    "\n",
    "We select the paragraph-based network and re-compute all some of the previously illustrated metrics as follows:"
   ]
  },
  {
   "cell_type": "code",
   "execution_count": null,
   "metadata": {
    "scrolled": false
   },
   "outputs": [],
   "source": [
    "result_metrics = paragraph_metrics.compute_all_node_metrics(\n",
    "    degree_weights=[\"frequency\"],\n",
    "    pagerank_weights=[\"frequency\"],\n",
    "    betweenness_weights=[\"distance_npmi\"])"
   ]
  },
  {
   "cell_type": "code",
   "execution_count": null,
   "metadata": {},
   "outputs": [],
   "source": [
    "result_metrics"
   ]
  },
  {
   "cell_type": "markdown",
   "metadata": {},
   "source": [
    "### Interactive web-based analysis of the co-occurrence network "
   ]
  },
  {
   "cell_type": "markdown",
   "metadata": {},
   "source": [
    "#### Loading the generated graph into the visualization app"
   ]
  },
  {
   "cell_type": "markdown",
   "metadata": {},
   "source": [
    "First of all, we set a backend for the visualization app (currently two backends are supported: based on `NetworkX` and `graph-tool`, in this example we use the latter)."
   ]
  },
  {
   "cell_type": "code",
   "execution_count": 98,
   "metadata": {},
   "outputs": [],
   "source": [
    "visualization_app.set_backend(\"graph_tool\")"
   ]
  },
  {
   "cell_type": "code",
   "execution_count": null,
   "metadata": {},
   "outputs": [],
   "source": [
    "# #  Run the following use NetworkX as the backend for the visualization app\n",
    "# visualization_app.set_backend(\"networkx\")"
   ]
  },
  {
   "cell_type": "code",
   "execution_count": 99,
   "metadata": {},
   "outputs": [],
   "source": [
    "visualization_app.add_graph(\n",
    "    \"Paragraph-based graph\", graphs[\"paragraph\"],\n",
    "    tree=trees[\"paragraph\"], default_top_n=100)\n",
    "\n",
    "visualization_app.set_current_graph(\"Paragraph-based graph\")"
   ]
  },
  {
   "cell_type": "code",
   "execution_count": 100,
   "metadata": {},
   "outputs": [],
   "source": [
    "processor = visualization_app._graph_processor.from_graph_object(\n",
    "        visualization_app._graphs[\"Paragraph-based graph\"][\"object\"])\n",
    "#processor.get_node(\"subcortical\")\n",
    "\n",
    "selected_node = \"subcortical\"\n",
    "weights = {}\n",
    "other_weights = {}\n",
    "types= {}\n",
    "for n in processor.neighbors(selected_node):\n",
    "        other_weights[n] = {}\n",
    "        weights[n] = processor.get_edge(selected_node, n)[\"npmi\"]\n",
    "        _node= processor.get_node(n)\n",
    "        other_weights[n][\"paragraph_frequency\"] = _node[\"paragraph_frequency\"]\n",
    "        other_weights[n][\"degree_frequency\"] = _node[\"degree_frequency\"]\n",
    "        other_weights[n][\"pagerank_frequency\"] = _node[\"pagerank_frequency\"]\n",
    "        other_weights[n][\"num_paper\"] = len(_node[\"paper\"])\n",
    "        types[n] = _node[\"entity_type\"] if \"entity_type\" in _node else None\n",
    "\n",
    "#top_neighbors = top_n(weights, neighborlimit)\n",
    "#print(weights)"
   ]
  },
  {
   "cell_type": "markdown",
   "metadata": {},
   "source": [
    "#### Loading papers' meta-data into the app\n",
    "\n",
    "We now load an additional dataset containing some meta-data on the papers where the entities analyzed in this notebook occur."
   ]
  },
  {
   "cell_type": "code",
   "execution_count": 101,
   "metadata": {},
   "outputs": [
    {
     "name": "stdout",
     "output_type": "stream",
     "text": [
      "Downloading the file to '../data/Glucose_risk_3000_paper_meta_data.csv'\n"
     ]
    },
    {
     "data": {
      "text/html": [
       "<div>\n",
       "<style scoped>\n",
       "    .dataframe tbody tr th:only-of-type {\n",
       "        vertical-align: middle;\n",
       "    }\n",
       "\n",
       "    .dataframe tbody tr th {\n",
       "        vertical-align: top;\n",
       "    }\n",
       "\n",
       "    .dataframe thead th {\n",
       "        text-align: right;\n",
       "    }\n",
       "</style>\n",
       "<table border=\"1\" class=\"dataframe\">\n",
       "  <thead>\n",
       "    <tr style=\"text-align: right;\">\n",
       "      <th></th>\n",
       "      <th>title</th>\n",
       "      <th>authors</th>\n",
       "      <th>abstract</th>\n",
       "      <th>doi</th>\n",
       "      <th>url</th>\n",
       "      <th>journal</th>\n",
       "      <th>pmc_id</th>\n",
       "      <th>pubmed_id</th>\n",
       "      <th>publish_time</th>\n",
       "    </tr>\n",
       "    <tr>\n",
       "      <th>id</th>\n",
       "      <th></th>\n",
       "      <th></th>\n",
       "      <th></th>\n",
       "      <th></th>\n",
       "      <th></th>\n",
       "      <th></th>\n",
       "      <th></th>\n",
       "      <th></th>\n",
       "      <th></th>\n",
       "    </tr>\n",
       "  </thead>\n",
       "  <tbody>\n",
       "    <tr>\n",
       "      <th>3</th>\n",
       "      <td>Surfactant protein-D and pulmonary host defense</td>\n",
       "      <td>Crouch, Erika C</td>\n",
       "      <td>Surfactant protein-D (SP-D) participates in th...</td>\n",
       "      <td>10.1186/rr19</td>\n",
       "      <td>https://www.ncbi.nlm.nih.gov/pmc/articles/PMC5...</td>\n",
       "      <td>Respir Res</td>\n",
       "      <td>PMC59549</td>\n",
       "      <td>11667972.0</td>\n",
       "      <td>2000-08-25</td>\n",
       "    </tr>\n",
       "    <tr>\n",
       "      <th>56</th>\n",
       "      <td>CLINICAL VIGNETTES</td>\n",
       "      <td>NaN</td>\n",
       "      <td>NaN</td>\n",
       "      <td>10.1046/j.1525-1497.18.s1.20.x</td>\n",
       "      <td>https://www.ncbi.nlm.nih.gov/pmc/articles/PMC1...</td>\n",
       "      <td>J Gen Intern Med</td>\n",
       "      <td>PMC1494988</td>\n",
       "      <td>12753119.0</td>\n",
       "      <td>2003-04-01</td>\n",
       "    </tr>\n",
       "    <tr>\n",
       "      <th>58</th>\n",
       "      <td>Clinical Vignettes</td>\n",
       "      <td>NaN</td>\n",
       "      <td>NaN</td>\n",
       "      <td>10.1046/j.1525-1497.2001.0160s1023.x</td>\n",
       "      <td>https://www.ncbi.nlm.nih.gov/pmc/articles/PMC1...</td>\n",
       "      <td>J Gen Intern Med</td>\n",
       "      <td>PMC1495316</td>\n",
       "      <td>11357836.0</td>\n",
       "      <td>2001-04-01</td>\n",
       "    </tr>\n",
       "  </tbody>\n",
       "</table>\n",
       "</div>"
      ],
      "text/plain": [
       "                                              title          authors  \\\n",
       "id                                                                     \n",
       "3   Surfactant protein-D and pulmonary host defense  Crouch, Erika C   \n",
       "56                               CLINICAL VIGNETTES              NaN   \n",
       "58                               Clinical Vignettes              NaN   \n",
       "\n",
       "                                             abstract  \\\n",
       "id                                                      \n",
       "3   Surfactant protein-D (SP-D) participates in th...   \n",
       "56                                                NaN   \n",
       "58                                                NaN   \n",
       "\n",
       "                                     doi  \\\n",
       "id                                         \n",
       "3                           10.1186/rr19   \n",
       "56        10.1046/j.1525-1497.18.s1.20.x   \n",
       "58  10.1046/j.1525-1497.2001.0160s1023.x   \n",
       "\n",
       "                                                  url           journal  \\\n",
       "id                                                                        \n",
       "3   https://www.ncbi.nlm.nih.gov/pmc/articles/PMC5...        Respir Res   \n",
       "56  https://www.ncbi.nlm.nih.gov/pmc/articles/PMC1...  J Gen Intern Med   \n",
       "58  https://www.ncbi.nlm.nih.gov/pmc/articles/PMC1...  J Gen Intern Med   \n",
       "\n",
       "        pmc_id   pubmed_id publish_time  \n",
       "id                                       \n",
       "3     PMC59549  11667972.0   2000-08-25  \n",
       "56  PMC1494988  12753119.0   2003-04-01  \n",
       "58  PMC1495316  11357836.0   2001-04-01  "
      ]
     },
     "execution_count": 101,
     "metadata": {},
     "output_type": "execute_result"
    }
   ],
   "source": [
    "paper_medata = download_from_nexus(uri=f\"{nexus_endpoint}/resources/covid19-kg/data/_/8fc1e60c-1ebe-4173-82c0-9775a4917041\",\n",
    "                         output_path = DATA_PATH, config_file_path=nexus_config_file, nexus_endpoint=nexus_endpoint, nexus_bucket=\"covid19-kg/data\")\n",
    "paper_data = pd.read_csv(f\"{DATA_PATH}/{paper_medata.distribution.name}\")\n",
    "paper_data = paper_data.set_index(\"id\")\n",
    "paper_data.head(3)"
   ]
  },
  {
   "cell_type": "markdown",
   "metadata": {},
   "source": [
    "We pass a callback for the lookup of paper meta-data to the visualization app using the `set_list_papers_callback` method."
   ]
  },
  {
   "cell_type": "code",
   "execution_count": 102,
   "metadata": {},
   "outputs": [],
   "source": [
    "def list_papers(paper_data, selected_papers, limit=200):\n",
    "    selected_paper_data = paper_data.loc[[int(p) for p in selected_papers]].head(200)\n",
    "    return selected_paper_data.to_dict(\"records\")\n",
    "\n",
    "visualization_app.set_list_papers_callback(lambda x: list_papers(paper_data, x))"
   ]
  },
  {
   "cell_type": "markdown",
   "metadata": {},
   "source": [
    "The ontology linking process described above is noisy, therefore, we would like to keep a possibility of accessing, the raw entities that were linked to particular ontology concepts. For this we define the function `get_aggregated_entities` that retreives such raw entities and we pass it to the visualization app using the `set_aggregated_entities_callback` method."
   ]
  },
  {
   "cell_type": "code",
   "execution_count": 103,
   "metadata": {},
   "outputs": [],
   "source": [
    "def top_n(data_dict, n, smallest=False):\n",
    "    \"\"\"Return top `n` keys of the input dictionary by their value.\"\"\"\n",
    "    df = pd.DataFrame(dict(data_dict).items(), columns=[\"id\", \"value\"])\n",
    "    if smallest:\n",
    "        df = df.nsmallest(n, columns=[\"value\"])\n",
    "    else:\n",
    "        df = df.nlargest(n, columns=[\"value\"])\n",
    "    return(list(df[\"id\"]))\n",
    "\n",
    "\n",
    "def get_aggregated_entities(entity, n):\n",
    "    if \"aggregated_entities\" in curated_occurrence_data.columns:\n",
    "        aggregated = curated_occurrence_data.loc[entity][\"aggregated_entities\"]\n",
    "    else:\n",
    "        aggregated = [entity]\n",
    "    if curation_input_table is not None:\n",
    "        df = curation_input_table.set_index(\"entity\")\n",
    "        if entity in curated_occurrence_data.index:\n",
    "            freqs = df.loc[aggregated][\"paper_frequency\"].to_dict()\n",
    "        else:\n",
    "            return {}\n",
    "    else:\n",
    "        df = data.copy()\n",
    "        df[\"entity\"] = data[\"entity\"].apply(lambda x: x.lower())\n",
    "        freqs = df[df[\"entity\"].apply(lambda x: x.lower() in aggregated)].groupby(\"entity\").aggregate(\n",
    "            lambda x: len(x))[\"entity_type\"].to_dict()\n",
    "    if len(freqs) == 0:\n",
    "        return {}\n",
    "    return {e: freqs[e] for e in top_n(freqs, n)}\n",
    "\n",
    "visualization_app.set_aggregated_entities_callback(\n",
    "    lambda x: get_aggregated_entities(x, 10))"
   ]
  },
  {
   "cell_type": "markdown",
   "metadata": {},
   "source": [
    "Finally, we create a dictionary `definitions` that will serve the visualization app as the lookup table for accessing the definitions of different ontology concepts."
   ]
  },
  {
   "cell_type": "code",
   "execution_count": 104,
   "metadata": {},
   "outputs": [],
   "source": [
    "definitions = ontology_linking[[\"concept\", \"definition\"]].groupby(\n",
    "    \"concept\").aggregate(lambda x: list(x)[0]).to_dict()[\"definition\"]\n",
    "visualization_app.set_entity_definitons(definitions)"
   ]
  },
  {
   "cell_type": "markdown",
   "metadata": {},
   "source": [
    "#### Launching the visualization app"
   ]
  },
  {
   "cell_type": "markdown",
   "metadata": {},
   "source": [
    "As before, the interactive graph visualization app can be launched in two modes: inline and external. Here we recommend the external mode for better user experience."
   ]
  },
  {
   "cell_type": "code",
   "execution_count": 105,
   "metadata": {},
   "outputs": [
    {
     "name": "stdout",
     "output_type": "stream",
     "text": [
      "Opening port number 8081 failed: Address 'http://127.0.0.1:8081' already in use.\n",
      "    Try passing a different port to run_server.. Trying port number 8082 ...\n"
     ]
    },
    {
     "name": "stderr",
     "output_type": "stream",
     "text": [
      "/Users/mfsy/anaconda3/envs/bluegraph/lib/python3.7/site-packages/jupyter_dash/jupyter_app.py:139: UserWarning:\n",
      "\n",
      "The 'environ['werkzeug.server.shutdown']' function is deprecated and will be removed in Werkzeug 2.1.\n",
      "\n"
     ]
    },
    {
     "name": "stdout",
     "output_type": "stream",
     "text": [
      "Dash app running on http://127.0.0.1:8082/\n"
     ]
    },
    {
     "name": "stderr",
     "output_type": "stream",
     "text": [
      "Exception in thread Thread-1827:\n",
      "Traceback (most recent call last):\n",
      "  File \"/Users/mfsy/anaconda3/envs/bluegraph/lib/python3.7/threading.py\", line 926, in _bootstrap_inner\n",
      "    self.run()\n",
      "  File \"/Users/mfsy/anaconda3/envs/bluegraph/lib/python3.7/threading.py\", line 870, in run\n",
      "    self._target(*self._args, **self._kwargs)\n",
      "  File \"/Users/mfsy/anaconda3/envs/bluegraph/lib/python3.7/site-packages/retrying.py\", line 49, in wrapped_f\n",
      "    return Retrying(*dargs, **dkw).call(f, *args, **kw)\n",
      "  File \"/Users/mfsy/anaconda3/envs/bluegraph/lib/python3.7/site-packages/retrying.py\", line 212, in call\n",
      "    raise attempt.get()\n",
      "  File \"/Users/mfsy/anaconda3/envs/bluegraph/lib/python3.7/site-packages/retrying.py\", line 247, in get\n",
      "    six.reraise(self.value[0], self.value[1], self.value[2])\n",
      "  File \"/Users/mfsy/anaconda3/envs/bluegraph/lib/python3.7/site-packages/six.py\", line 703, in reraise\n",
      "    raise value\n",
      "  File \"/Users/mfsy/anaconda3/envs/bluegraph/lib/python3.7/site-packages/retrying.py\", line 200, in call\n",
      "    attempt = Attempt(fn(*args, **kwargs), attempt_number, False)\n",
      "  File \"/Users/mfsy/anaconda3/envs/bluegraph/lib/python3.7/site-packages/jupyter_dash/jupyter_app.py\", line 289, in run\n",
      "    super_run_server(**kwargs)\n",
      "  File \"/Users/mfsy/anaconda3/envs/bluegraph/lib/python3.7/site-packages/dash/dash.py\", line 1717, in run_server\n",
      "    self.server.run(host=host, port=port, debug=debug, **flask_run_options)\n",
      "  File \"/Users/mfsy/anaconda3/envs/bluegraph/lib/python3.7/site-packages/flask/app.py\", line 990, in run\n",
      "    run_simple(host, port, self, **options)\n",
      "  File \"/Users/mfsy/anaconda3/envs/bluegraph/lib/python3.7/site-packages/werkzeug/serving.py\", line 1017, in run_simple\n",
      "    inner()\n",
      "  File \"/Users/mfsy/anaconda3/envs/bluegraph/lib/python3.7/site-packages/werkzeug/serving.py\", line 966, in inner\n",
      "    fd=fd,\n",
      "  File \"/Users/mfsy/anaconda3/envs/bluegraph/lib/python3.7/site-packages/werkzeug/serving.py\", line 790, in make_server\n",
      "    host, port, app, request_handler, passthrough_errors, ssl_context, fd=fd\n",
      "  File \"/Users/mfsy/anaconda3/envs/bluegraph/lib/python3.7/site-packages/werkzeug/serving.py\", line 693, in __init__\n",
      "    super().__init__(server_address, handler)  # type: ignore\n",
      "  File \"/Users/mfsy/anaconda3/envs/bluegraph/lib/python3.7/socketserver.py\", line 452, in __init__\n",
      "    self.server_bind()\n",
      "  File \"/Users/mfsy/anaconda3/envs/bluegraph/lib/python3.7/http/server.py\", line 137, in server_bind\n",
      "    socketserver.TCPServer.server_bind(self)\n",
      "  File \"/Users/mfsy/anaconda3/envs/bluegraph/lib/python3.7/socketserver.py\", line 466, in server_bind\n",
      "    self.socket.bind(self.server_address)\n",
      "OSError: [Errno 48] Address already in use\n",
      "\n"
     ]
    },
    {
     "name": "stdout",
     "output_type": "stream",
     "text": [
      "invalid literal for int() with base 10: '6141b83cd0b2f02ff4f7bbc72a3a44e9'\n"
     ]
    }
   ],
   "source": [
    "visualization_app.run(port=8081, mode=\"external\")"
   ]
  },
  {
   "cell_type": "code",
   "execution_count": null,
   "metadata": {},
   "outputs": [],
   "source": []
  }
 ],
 "metadata": {
  "kernelspec": {
   "display_name": "Python 3.7.10 ('bluegraph')",
   "language": "python",
   "name": "python3"
  },
  "language_info": {
   "codemirror_mode": {
    "name": "ipython",
    "version": 3
   },
   "file_extension": ".py",
   "mimetype": "text/x-python",
   "name": "python",
   "nbconvert_exporter": "python",
   "pygments_lexer": "ipython3",
   "version": "3.7.10"
  },
  "vscode": {
   "interpreter": {
    "hash": "7509723a669f2da7b65acb7b57c7c1a011cf46f2939d01c04322e3f558bd33d9"
   }
  }
 },
 "nbformat": 4,
 "nbformat_minor": 4
}
