{
 "cells": [
  {
   "cell_type": "markdown",
   "metadata": {},
   "source": [
    "## Prerequisites and installation instructions for Colab"
   ]
  },
  {
   "cell_type": "markdown",
   "metadata": {},
   "source": [
    "If you want to run this notebook in Google Colab, run the following cell. Otherwise follow [installation instructions](https://github.com/BlueBrain/BlueGraph/blob/master/README.rst#installation) to install BlueGraph and its dependencies locally."
   ]
  },
  {
   "cell_type": "code",
   "execution_count": null,
   "metadata": {},
   "outputs": [],
   "source": [
    "# Install bluegraph\n",
    "! git clone https://github.com/BlueBrain/BlueGraph\n",
    "! cd BlueGraph && pip install .[cord19kg]\n",
    "\n",
    "# Install graph-tool\n",
    "!echo \"deb http://downloads.skewed.de/apt bionic main\" >> /etc/apt/sources.list\n",
    "!apt-key adv --keyserver keys.openpgp.org --recv-key 612DEFB798507F25\n",
    "!apt-get update\n",
    "!apt-get install python3-graph-tool=2.37 python3-cairo python3-matplotlib\n",
    "\n",
    "DATA_PATH = \"BlueGraph/cord19kg/examples/data/\""
   ]
  },
  {
   "cell_type": "markdown",
   "metadata": {},
   "source": [
    "## Prerequisites and installation instructions for a local environment\n",
    "\n",
    "In order to run this notebook `graph-tool` must be installed manually (it cannot be installed as a part of `pip install bluegraph`, as it is not an ordinary Python library, but a wrapper around a C++ library). Please, see [graph-tool installation instructions](https://git.skewed.de/count0/graph-tool/-/wikis/installation-instructions#native-installation) (currently, BlueGraph supports :code:`graph-tool<=2.37`.)\n",
    "\n",
    "We recommend using `conda` for installing `graph-tool`. For example:\n",
    "\n",
    "```\n",
    "conda install -c conda-forge graph-tool==2.37\n",
    "```\n",
    "\n",
    "or as a part of a new `conda` environment:\n",
    "\n",
    "```\n",
    "conda create --name <your_environment> -c conda-forge graph-tool==2.37\n",
    "conda activate <your_environment>\n",
    "```\n",
    "\n",
    "\n",
    "BlueGraph and the set of dependecies supporting custom tools for CORD-19 analysis can be installed using:\n",
    "\n",
    " ```\n",
    " pip install bluegraph[cord19kg]\n",
    " ```"
   ]
  },
  {
   "cell_type": "markdown",
   "metadata": {},
   "source": [
    "# Topic-centered co-occurrence network analysis of CORD-19\n",
    "\n",
    "In this notebook we will perform interactive exploration and analysis of a topic-centered subset of the [CORD-19](https://www.kaggle.com/allen-institute-for-ai/CORD-19-research-challenge) dataset using the `cord19kg` package. The exploration and analysis techniques presented here focus on named entities and their co-occurrence in the scientific articles constituting the dataset.\n",
    "\n",
    "The input data for this notebook contains the named entities extracted from the 3000 most relevant articles to the query _\"Glucose is a risk factor of COVID-19\"_ obtained using the article search model [BlueSearch](https://github.com/BlueBrain/Search). The entity extraction was performed using the Named Entity Recognition (NER) techniques also included in [BlueSearch](https://github.com/BlueBrain/Search). The entities represent 10 different types (i.e. proteins, chemicals, drugs, diseases, conditions, organs, organisms, pathways, cell types, cell compartments). \n",
    "\n",
    "The interactive literature exploration through the named entity co-occurrence analysis consisting of the following steps:\n",
    "\n",
    "1. __Data preparation__ step converts raw mentions into aggregated entity occurrence statistics.\n",
    "2. __Data curation__ step allows the user to manage extracted entities: modify, filter them and link to the ontology.\n",
    "3. __Network generation__ step allows creating entity co-occurrence networks based on paper-, section- and paragraph-level co-occurrence relations between entities. These entity relations are quantified using mutual-information-based scores (pointwise mutual information and its normalized version).\n",
    "4. __Network visualization and analysis__ step allows the user to perform interactive network visualization, edit network elements and perform its analysis (spanning tree, mutual-information based shortest paths between entities, etc)."
   ]
  },
  {
   "cell_type": "code",
   "execution_count": 26,
   "metadata": {},
   "outputs": [],
   "source": [
    "import json\n",
    "import os\n",
    "import zipfile\n",
    "\n",
    "import pandas as pd\n",
    "\n",
    "import dash_cytoscape as cyto\n",
    "\n",
    "from kgforge.core import KnowledgeGraphForge\n",
    "\n",
    "from cord19kg.utils import (generate_curation_table,\n",
    "                           link_ontology,\n",
    "                           generate_cooccurrence_analysis,\n",
    "                           download_from_nexus)\n",
    "from bluegraph.backends.graph_tool import (GTMetricProcessor,\n",
    "                                           GTPathFinder,\n",
    "                                           GTGraphProcessor,\n",
    "                                           GTCommunityDetector)\n",
    "from cord19kg.apps.curation_app import curation_app\n",
    "from cord19kg.apps.visualization_app import visualization_app"
   ]
  },
  {
   "cell_type": "code",
   "execution_count": 3,
   "metadata": {},
   "outputs": [],
   "source": [
    "cyto.load_extra_layouts()"
   ]
  },
  {
   "cell_type": "markdown",
   "metadata": {},
   "source": [
    "## 1. Data preparation\n",
    "\n",
    "The input dataset contains occurrences of different terms in paragraphs of scientific articles from the CORD-19 dataset previously extracted by means of a NER model.\n",
    "The dataset is stored in Blue Brain Nexus."
   ]
  },
  {
   "cell_type": "code",
   "execution_count": 4,
   "metadata": {},
   "outputs": [],
   "source": [
    "# Blue Brain Nexus bucket to download data from\n",
    "\n",
    "nexus_bucket = \"bbp/kg-inference\"\n",
    "nexus_endpoint = \"https://bbp.epfl.ch/nexus/v1\"\n",
    "nexus_config_file = f\"{DATA_PATH}../config/data-download-nexus.yml\"\n"
   ]
  },
  {
   "cell_type": "markdown",
   "metadata": {},
   "source": [
    "## Get an authentication token"
   ]
  },
  {
   "cell_type": "markdown",
   "metadata": {},
   "source": [
    "For now, the [Nexus web application](https://bbp.epfl.ch/nexus/web) can be used to get a token. We are looking for other simpler alternatives.\n",
    "\n",
    "- Step 1: From the opened web page, click on the login button on the right corner and follow the instructions.\n",
    "\n",
    "![login-ui](./login-ui.png)\n",
    "\n",
    "- Step 2: At the end you’ll see a token button on the right corner. Click on it to copy the token.\n",
    "\n",
    "![login-ui](./copy-token.png)\n"
   ]
  },
  {
   "cell_type": "code",
   "execution_count": 10,
   "metadata": {},
   "outputs": [],
   "source": [
    "import getpass"
   ]
  },
  {
   "cell_type": "code",
   "execution_count": 11,
   "metadata": {},
   "outputs": [],
   "source": [
    "TOKEN = getpass.getpass()"
   ]
  },
  {
   "cell_type": "code",
   "execution_count": 11,
   "metadata": {},
   "outputs": [
    {
     "name": "stdout",
     "output_type": "stream",
     "text": [
      "<action> _register_one\n",
      "<succeeded> False\n",
      "<error> RegistrationError: resource has invalid JSON-LD payload\n"
     ]
    }
   ],
   "source": [
    "from kgforge.core import KnowledgeGraphForge, Resource\n",
    "from more_itertools import bucket\n",
    "\n",
    "forge = KnowledgeGraphForge(nexus_config_file, bucket=nexus_bucket, endpoint=nexus_endpoint, token=TOKEN)\n"
   ]
  },
  {
   "cell_type": "markdown",
   "metadata": {},
   "source": [
    "## Download Data"
   ]
  },
  {
   "cell_type": "code",
   "execution_count": 20,
   "metadata": {},
   "outputs": [
    {
     "name": "stdout",
     "output_type": "stream",
     "text": [
      "Data path: '../data/'\n"
     ]
    }
   ],
   "source": [
    "data_version = \"v1_13_10_2022\"\n",
    "try:\n",
    "    print(f\"Data path: '{DATA_PATH}'\")\n",
    "except NameError:\n",
    "    DATA_PATH = \"../data/\"\n",
    "    print(f\"Data path: '{DATA_PATH}'\")"
   ]
  },
  {
   "cell_type": "code",
   "execution_count": 22,
   "metadata": {},
   "outputs": [
    {
     "name": "stdout",
     "output_type": "stream",
     "text": [
      "Done.\n",
      "CPU times: user 2.14 s, sys: 1.35 s, total: 3.5 s\n",
      "Wall time: 12.1 s\n"
     ]
    }
   ],
   "source": [
    "%%time\n",
    "ner_output_resource = forge.retrieve(\"https://bbp.epfl.ch/neurosciencegraph/data/2680c892-d1ae-4c60-8e1f-d917acb13ae8\", version=data_version),\n",
    "forge.download(ner_output_resource, \"distribution.contentUrl\", DATA_PATH)\n",
    "print(\"Done.\")"
   ]
  },
  {
   "cell_type": "code",
   "execution_count": 27,
   "metadata": {},
   "outputs": [],
   "source": [
    "data = pd.read_csv(f\"{DATA_PATH}/results_v1.csv\")"
   ]
  },
  {
   "cell_type": "code",
   "execution_count": 28,
   "metadata": {},
   "outputs": [],
   "source": [
    "data['occurrence'] = data['paper_id'].map(str) + ':_:' + data['paragraph_id'].map(str)\n",
    "data=data[['entity', 'entity_type', 'occurrence', 'start', 'end']]"
   ]
  },
  {
   "cell_type": "code",
   "execution_count": 29,
   "metadata": {},
   "outputs": [
    {
     "data": {
      "text/html": [
       "<div>\n",
       "<style scoped>\n",
       "    .dataframe tbody tr th:only-of-type {\n",
       "        vertical-align: middle;\n",
       "    }\n",
       "\n",
       "    .dataframe tbody tr th {\n",
       "        vertical-align: top;\n",
       "    }\n",
       "\n",
       "    .dataframe thead th {\n",
       "        text-align: right;\n",
       "    }\n",
       "</style>\n",
       "<table border=\"1\" class=\"dataframe\">\n",
       "  <thead>\n",
       "    <tr style=\"text-align: right;\">\n",
       "      <th></th>\n",
       "      <th>entity</th>\n",
       "      <th>entity_type</th>\n",
       "      <th>occurrence</th>\n",
       "      <th>start</th>\n",
       "      <th>end</th>\n",
       "    </tr>\n",
       "  </thead>\n",
       "  <tbody>\n",
       "    <tr>\n",
       "      <th>2871853</th>\n",
       "      <td>CMS</td>\n",
       "      <td>BRAIN_REGION</td>\n",
       "      <td>db5957b6d321fd2a6d571276ba0ec841:_:mneNiYMBVjZ...</td>\n",
       "      <td>360</td>\n",
       "      <td>363</td>\n",
       "    </tr>\n",
       "    <tr>\n",
       "      <th>1439426</th>\n",
       "      <td>alpha - synuclein</td>\n",
       "      <td>GENE</td>\n",
       "      <td>7b373a1e4591d557f5ceb5dd417de99c:_:eXWMiYMBVjZ...</td>\n",
       "      <td>1348</td>\n",
       "      <td>1363</td>\n",
       "    </tr>\n",
       "    <tr>\n",
       "      <th>1558918</th>\n",
       "      <td>somatostatin neurons</td>\n",
       "      <td>CELL_TYPE</td>\n",
       "      <td>75b35853ba820d1bd13abcea7d79dffc:_:D9GMiYMBxas...</td>\n",
       "      <td>439</td>\n",
       "      <td>459</td>\n",
       "    </tr>\n",
       "    <tr>\n",
       "      <th>2447352</th>\n",
       "      <td>cells</td>\n",
       "      <td>CELL_TYPE</td>\n",
       "      <td>c937823a2333971815bfee51b930abf4:_:BtOMiYMBxas...</td>\n",
       "      <td>55</td>\n",
       "      <td>60</td>\n",
       "    </tr>\n",
       "    <tr>\n",
       "      <th>874784</th>\n",
       "      <td>neurons</td>\n",
       "      <td>CELL_TYPE</td>\n",
       "      <td>4003af9ad8f2e905bac1288fb35ac71f:_:jnSLiYMBVjZ...</td>\n",
       "      <td>310</td>\n",
       "      <td>317</td>\n",
       "    </tr>\n",
       "  </tbody>\n",
       "</table>\n",
       "</div>"
      ],
      "text/plain": [
       "                       entity   entity_type  \\\n",
       "2871853                   CMS  BRAIN_REGION   \n",
       "1439426     alpha - synuclein          GENE   \n",
       "1558918  somatostatin neurons     CELL_TYPE   \n",
       "2447352                 cells     CELL_TYPE   \n",
       "874784                neurons     CELL_TYPE   \n",
       "\n",
       "                                                occurrence  start   end  \n",
       "2871853  db5957b6d321fd2a6d571276ba0ec841:_:mneNiYMBVjZ...    360   363  \n",
       "1439426  7b373a1e4591d557f5ceb5dd417de99c:_:eXWMiYMBVjZ...   1348  1363  \n",
       "1558918  75b35853ba820d1bd13abcea7d79dffc:_:D9GMiYMBxas...    439   459  \n",
       "2447352  c937823a2333971815bfee51b930abf4:_:BtOMiYMBxas...     55    60  \n",
       "874784   4003af9ad8f2e905bac1288fb35ac71f:_:jnSLiYMBVjZ...    310   317  "
      ]
     },
     "execution_count": 29,
     "metadata": {},
     "output_type": "execute_result"
    }
   ],
   "source": [
    "data.sample(5)"
   ]
  },
  {
   "cell_type": "markdown",
   "metadata": {},
   "source": [
    "On the first preparation step, we group and aggregate the input data by unique entities."
   ]
  },
  {
   "cell_type": "code",
   "execution_count": 30,
   "metadata": {},
   "outputs": [
    {
     "name": "stdout",
     "output_type": "stream",
     "text": [
      "Prepating curatation data...\n"
     ]
    },
    {
     "name": "stderr",
     "output_type": "stream",
     "text": [
      "/Users/mfsy/anaconda3/envs/bluegraph/lib/python3.7/site-packages/cord19kg/utils.py:325: SettingWithCopyWarning: \n",
      "A value is trying to be set on a copy of a slice from a DataFrame.\n",
      "Try using .loc[row_indexer,col_indexer] = value instead\n",
      "\n",
      "See the caveats in the documentation: https://pandas.pydata.org/pandas-docs/stable/user_guide/indexing.html#returning-a-view-versus-a-copy\n",
      "  lambda x: x.split(\":\")[0])\n"
     ]
    },
    {
     "name": "stdout",
     "output_type": "stream",
     "text": [
      "Cleaning up the entities...\n",
      "Aggregating occurrences of entities....\n",
      "Done.\n",
      "CPU times: user 24.5 s, sys: 635 ms, total: 25.1 s\n",
      "Wall time: 25.3 s\n"
     ]
    }
   ],
   "source": [
    "%%time\n",
    "print(\"Prepating curatation data...\")\n",
    "curation_input_table, factor_counts = generate_curation_table(data)\n",
    "print(\"Done.\")"
   ]
  },
  {
   "cell_type": "markdown",
   "metadata": {},
   "source": [
    "The resulting dataframe contains a row per unique named entity together with the following occurrence data: \n",
    "- sets of unique paragraphs, papers, sections, where the corresponding entity is mentioned (`paper`, `section`, `paragraph` columns);\n",
    "- number of total entity occurrences (the `raw_frequency` column);\n",
    "- number of unique papers where it occurs (the `paper_frequency` column);\n",
    "- unique entity types assigned by the NER model (the `entity_type` column, multiple types are possible).\n",
    "- raw entity types assigned by the NER model with the multiplicity of thier occurrence (the `raw_entity_types` column).\n"
   ]
  },
  {
   "cell_type": "code",
   "execution_count": 31,
   "metadata": {},
   "outputs": [
    {
     "data": {
      "text/html": [
       "<div>\n",
       "<style scoped>\n",
       "    .dataframe tbody tr th:only-of-type {\n",
       "        vertical-align: middle;\n",
       "    }\n",
       "\n",
       "    .dataframe tbody tr th {\n",
       "        vertical-align: top;\n",
       "    }\n",
       "\n",
       "    .dataframe thead th {\n",
       "        text-align: right;\n",
       "    }\n",
       "</style>\n",
       "<table border=\"1\" class=\"dataframe\">\n",
       "  <thead>\n",
       "    <tr style=\"text-align: right;\">\n",
       "      <th></th>\n",
       "      <th>entity</th>\n",
       "      <th>entity_type</th>\n",
       "      <th>paragraph</th>\n",
       "      <th>paper</th>\n",
       "      <th>section</th>\n",
       "      <th>paper_frequency</th>\n",
       "      <th>raw_entity_types</th>\n",
       "      <th>raw_frequency</th>\n",
       "    </tr>\n",
       "  </thead>\n",
       "  <tbody>\n",
       "    <tr>\n",
       "      <th>31939</th>\n",
       "      <td>orl1</td>\n",
       "      <td>GENE</td>\n",
       "      <td>[f15b72f4486ff3b58fcdd0646e2b20fa:_:fdSNiYMBxa...</td>\n",
       "      <td>[bb8a28b8f55b2bbff17be481184799e4, f15b72f4486...</td>\n",
       "      <td>[bb8a28b8f55b2bbff17be481184799e4:_, 96539fb63...</td>\n",
       "      <td>3</td>\n",
       "      <td>[GENE, GENE, GENE, GENE, GENE, GENE, GENE, GEN...</td>\n",
       "      <td>10</td>\n",
       "    </tr>\n",
       "    <tr>\n",
       "      <th>2916</th>\n",
       "      <td>apaf -1</td>\n",
       "      <td>GENE</td>\n",
       "      <td>[1455a350a4536b423efa42ac1934fa2d:_:ls-LiYMBxa...</td>\n",
       "      <td>[1a69b43e170f26e0dedc046963f6fb53, 6cc4886241d...</td>\n",
       "      <td>[8b596c883cb722ef30a1022a4281074f:_, 3ec5ed4ac...</td>\n",
       "      <td>33</td>\n",
       "      <td>[GENE, GENE, GENE, GENE, GENE, GENE, GENE, GEN...</td>\n",
       "      <td>43</td>\n",
       "    </tr>\n",
       "    <tr>\n",
       "      <th>23371</th>\n",
       "      <td>lateral septal area</td>\n",
       "      <td>BRAIN_REGION</td>\n",
       "      <td>[53f7c7400b9a94cb7c07a63f5ad95857:_:03SLiYMBVj...</td>\n",
       "      <td>[53f7c7400b9a94cb7c07a63f5ad95857]</td>\n",
       "      <td>[53f7c7400b9a94cb7c07a63f5ad95857:_]</td>\n",
       "      <td>1</td>\n",
       "      <td>[BRAIN_REGION, BRAIN_REGION, BRAIN_REGION]</td>\n",
       "      <td>3</td>\n",
       "    </tr>\n",
       "    <tr>\n",
       "      <th>2695</th>\n",
       "      <td>anterior ipn</td>\n",
       "      <td>BRAIN_REGION</td>\n",
       "      <td>[84a73066555148ee3c85f0d5d79a52c5:_:9HWMiYMBVj...</td>\n",
       "      <td>[84a73066555148ee3c85f0d5d79a52c5]</td>\n",
       "      <td>[84a73066555148ee3c85f0d5d79a52c5:_]</td>\n",
       "      <td>1</td>\n",
       "      <td>[BRAIN_REGION, BRAIN_REGION, BRAIN_REGION, BRA...</td>\n",
       "      <td>4</td>\n",
       "    </tr>\n",
       "    <tr>\n",
       "      <th>26105</th>\n",
       "      <td>mesolimbic</td>\n",
       "      <td>CELL_TYPE, BRAIN_REGION</td>\n",
       "      <td>[79c3b317a2e65a188b4b5b6e51142065:_:xtGMiYMBxa...</td>\n",
       "      <td>[e5da6a86129e83b0bea1816622e44894, 76f7f9bf2ac...</td>\n",
       "      <td>[98fcac82b1a0b396b7db48409e085f4e:_, 6227e24c6...</td>\n",
       "      <td>292</td>\n",
       "      <td>[BRAIN_REGION, BRAIN_REGION, BRAIN_REGION, BRA...</td>\n",
       "      <td>571</td>\n",
       "    </tr>\n",
       "  </tbody>\n",
       "</table>\n",
       "</div>"
      ],
      "text/plain": [
       "                    entity              entity_type  \\\n",
       "31939                 orl1                     GENE   \n",
       "2916               apaf -1                     GENE   \n",
       "23371  lateral septal area             BRAIN_REGION   \n",
       "2695          anterior ipn             BRAIN_REGION   \n",
       "26105           mesolimbic  CELL_TYPE, BRAIN_REGION   \n",
       "\n",
       "                                               paragraph  \\\n",
       "31939  [f15b72f4486ff3b58fcdd0646e2b20fa:_:fdSNiYMBxa...   \n",
       "2916   [1455a350a4536b423efa42ac1934fa2d:_:ls-LiYMBxa...   \n",
       "23371  [53f7c7400b9a94cb7c07a63f5ad95857:_:03SLiYMBVj...   \n",
       "2695   [84a73066555148ee3c85f0d5d79a52c5:_:9HWMiYMBVj...   \n",
       "26105  [79c3b317a2e65a188b4b5b6e51142065:_:xtGMiYMBxa...   \n",
       "\n",
       "                                                   paper  \\\n",
       "31939  [bb8a28b8f55b2bbff17be481184799e4, f15b72f4486...   \n",
       "2916   [1a69b43e170f26e0dedc046963f6fb53, 6cc4886241d...   \n",
       "23371                 [53f7c7400b9a94cb7c07a63f5ad95857]   \n",
       "2695                  [84a73066555148ee3c85f0d5d79a52c5]   \n",
       "26105  [e5da6a86129e83b0bea1816622e44894, 76f7f9bf2ac...   \n",
       "\n",
       "                                                 section  paper_frequency  \\\n",
       "31939  [bb8a28b8f55b2bbff17be481184799e4:_, 96539fb63...                3   \n",
       "2916   [8b596c883cb722ef30a1022a4281074f:_, 3ec5ed4ac...               33   \n",
       "23371               [53f7c7400b9a94cb7c07a63f5ad95857:_]                1   \n",
       "2695                [84a73066555148ee3c85f0d5d79a52c5:_]                1   \n",
       "26105  [98fcac82b1a0b396b7db48409e085f4e:_, 6227e24c6...              292   \n",
       "\n",
       "                                        raw_entity_types  raw_frequency  \n",
       "31939  [GENE, GENE, GENE, GENE, GENE, GENE, GENE, GEN...             10  \n",
       "2916   [GENE, GENE, GENE, GENE, GENE, GENE, GENE, GEN...             43  \n",
       "23371         [BRAIN_REGION, BRAIN_REGION, BRAIN_REGION]              3  \n",
       "2695   [BRAIN_REGION, BRAIN_REGION, BRAIN_REGION, BRA...              4  \n",
       "26105  [BRAIN_REGION, BRAIN_REGION, BRAIN_REGION, BRA...            571  "
      ]
     },
     "execution_count": 31,
     "metadata": {},
     "output_type": "execute_result"
    }
   ],
   "source": [
    "curation_input_table.sample(5)"
   ]
  },
  {
   "cell_type": "markdown",
   "metadata": {},
   "source": [
    "The second output of the data preparation step outputs the counts of different instances of occurrence factors: number of distinct papers/sections/paragraphs in the input corpus."
   ]
  },
  {
   "cell_type": "code",
   "execution_count": 32,
   "metadata": {},
   "outputs": [
    {
     "data": {
      "text/plain": [
       "{'paper': 12292, 'section': 12292, 'paragraph': 344610}"
      ]
     },
     "execution_count": 32,
     "metadata": {},
     "output_type": "execute_result"
    }
   ],
   "source": [
    "factor_counts"
   ]
  },
  {
   "cell_type": "markdown",
   "metadata": {},
   "source": [
    "## 2. Data curation"
   ]
  },
  {
   "cell_type": "markdown",
   "metadata": {},
   "source": [
    "### Loading the NCIT ontology linking data (To be updated with BBP ontologies)"
   ]
  },
  {
   "cell_type": "markdown",
   "metadata": {},
   "source": [
    "To group synonymical entities in the previously extracted table (e.g. `ace2`, `ace-2`, `angiotensin-converting enzyme 2`), as well as assign additional semantics to these entities (e.g. human-readable definition, taxonomy, etc), we peform further _linking_ of the entities to the terms from the [NCIT ontology](https://ncithesaurus.nci.nih.gov/ncitbrowser/).\n",
    "\n",
    "To be able to perform such ontology linking, we load some additional (pre-computed using ML-based linking models) data."
   ]
  },
  {
   "cell_type": "code",
   "execution_count": 35,
   "metadata": {},
   "outputs": [
    {
     "name": "stdout",
     "output_type": "stream",
     "text": [
      "Loading the ontology linking data...\n",
      "Downloading the file to '../data/NCIT_ontology_linking_3000_papers.csv.zip'\n",
      "Decompressing ...\n",
      "\tLoading the linking dataframe in memory...\n",
      "Loading ontology type mapping...\n",
      "Downloading the file to '../data/NCIT_type_mapping.json'\n",
      "Done.\n",
      "CPU times: user 3.13 s, sys: 568 ms, total: 3.7 s\n",
      "Wall time: 11.6 s\n"
     ]
    }
   ],
   "source": [
    "%%time\n",
    "print(\"Loading the ontology linking data...\")\n",
    "\n",
    "download_from_nexus(\n",
    "    uri=f\"{nexus_endpoint}/resources/covid19-kg/data/_/4fde1f8f-ee7f-435e-95a8-abb79139db93\",\n",
    "    output_path=DATA_PATH, config_file_path=nexus_config_file,\n",
    "    nexus_endpoint=nexus_endpoint, nexus_bucket=\"covid19-kg/data\", unzip=True)\n",
    "print(\"\\tLoading the linking dataframe in memory...\")\n",
    "ontology_linking = pd.read_csv(f\"{DATA_PATH}/NCIT_ontology_linking_3000_papers.csv\")\n",
    "\n",
    "\n",
    "print(\"Loading ontology type mapping...\")\n",
    "ontology_linking_type_mapping_data = download_from_nexus(\n",
    "    uri=f\"{nexus_endpoint}/resources/covid19-kg/data/_/92bc2a04-6003-4f4d-85e1-dcc5f2352df2\", \n",
    "    output_path=DATA_PATH, config_file_path=nexus_config_file,\n",
    "    nexus_endpoint=nexus_endpoint, nexus_bucket=\"covid19-kg/data\")\n",
    "with open(f\"{DATA_PATH}/{ontology_linking_type_mapping_data.distribution.name}\", \"rb\") as f:\n",
    "    type_mapping = json.load(f)\n",
    "print(\"Done.\")"
   ]
  },
  {
   "cell_type": "markdown",
   "metadata": {},
   "source": [
    "The ontology linking table contains the following columns:\n",
    "- `mention` entity mentioned in the text\n",
    "- `concept` ontology concept linked to the entity mention\n",
    "- `uid` unique identifier of the ontology concept\n",
    "- `definition` definition of the concept\n",
    "- `taxonomy` taxonomy of semantic types associated with the concept"
   ]
  },
  {
   "cell_type": "code",
   "execution_count": 36,
   "metadata": {
    "scrolled": true
   },
   "outputs": [
    {
     "data": {
      "text/html": [
       "<div>\n",
       "<style scoped>\n",
       "    .dataframe tbody tr th:only-of-type {\n",
       "        vertical-align: middle;\n",
       "    }\n",
       "\n",
       "    .dataframe tbody tr th {\n",
       "        vertical-align: top;\n",
       "    }\n",
       "\n",
       "    .dataframe thead th {\n",
       "        text-align: right;\n",
       "    }\n",
       "</style>\n",
       "<table border=\"1\" class=\"dataframe\">\n",
       "  <thead>\n",
       "    <tr style=\"text-align: right;\">\n",
       "      <th></th>\n",
       "      <th>mention</th>\n",
       "      <th>concept</th>\n",
       "      <th>uid</th>\n",
       "      <th>definition</th>\n",
       "      <th>taxonomy</th>\n",
       "    </tr>\n",
       "  </thead>\n",
       "  <tbody>\n",
       "    <tr>\n",
       "      <th>114583</th>\n",
       "      <td>human ku protein</td>\n",
       "      <td>hu protein</td>\n",
       "      <td>http://purl.obolibrary.org/obo/NCIT_C19434</td>\n",
       "      <td>A DNA-binding and thermostable low-molecular-w...</td>\n",
       "      <td>[('http://purl.obolibrary.org/obo/NCIT_C16319'...</td>\n",
       "    </tr>\n",
       "    <tr>\n",
       "      <th>42564</th>\n",
       "      <td>papular rash</td>\n",
       "      <td>papulopustular rash, ctcae</td>\n",
       "      <td>http://purl.obolibrary.org/obo/NCIT_C143735</td>\n",
       "      <td>A disorder characterized by an eruption consis...</td>\n",
       "      <td>[('http://purl.obolibrary.org/obo/NCIT_C143171...</td>\n",
       "    </tr>\n",
       "    <tr>\n",
       "      <th>90444</th>\n",
       "      <td>krt7</td>\n",
       "      <td>krt5</td>\n",
       "      <td>NaN</td>\n",
       "      <td>NaN</td>\n",
       "      <td>NaN</td>\n",
       "    </tr>\n",
       "    <tr>\n",
       "      <th>24319</th>\n",
       "      <td>idp/isodesmosine</td>\n",
       "      <td>desmosine</td>\n",
       "      <td>http://purl.obolibrary.org/obo/NCIT_C124071</td>\n",
       "      <td>An amino acid derivative comprised of three al...</td>\n",
       "      <td>[('http://purl.obolibrary.org/obo/NCIT_C73539'...</td>\n",
       "    </tr>\n",
       "    <tr>\n",
       "      <th>133709</th>\n",
       "      <td>vitd insufficiency</td>\n",
       "      <td>renal failure</td>\n",
       "      <td>http://purl.obolibrary.org/obo/NCIT_C4376</td>\n",
       "      <td>An acute or chronic condition that is characte...</td>\n",
       "      <td>[('http://purl.obolibrary.org/obo/NCIT_C27600'...</td>\n",
       "    </tr>\n",
       "  </tbody>\n",
       "</table>\n",
       "</div>"
      ],
      "text/plain": [
       "                   mention                     concept  \\\n",
       "114583    human ku protein                  hu protein   \n",
       "42564         papular rash  papulopustular rash, ctcae   \n",
       "90444                 krt7                        krt5   \n",
       "24319     idp/isodesmosine                   desmosine   \n",
       "133709  vitd insufficiency               renal failure   \n",
       "\n",
       "                                                uid  \\\n",
       "114583   http://purl.obolibrary.org/obo/NCIT_C19434   \n",
       "42564   http://purl.obolibrary.org/obo/NCIT_C143735   \n",
       "90444                                           NaN   \n",
       "24319   http://purl.obolibrary.org/obo/NCIT_C124071   \n",
       "133709    http://purl.obolibrary.org/obo/NCIT_C4376   \n",
       "\n",
       "                                               definition  \\\n",
       "114583  A DNA-binding and thermostable low-molecular-w...   \n",
       "42564   A disorder characterized by an eruption consis...   \n",
       "90444                                                 NaN   \n",
       "24319   An amino acid derivative comprised of three al...   \n",
       "133709  An acute or chronic condition that is characte...   \n",
       "\n",
       "                                                 taxonomy  \n",
       "114583  [('http://purl.obolibrary.org/obo/NCIT_C16319'...  \n",
       "42564   [('http://purl.obolibrary.org/obo/NCIT_C143171...  \n",
       "90444                                                 NaN  \n",
       "24319   [('http://purl.obolibrary.org/obo/NCIT_C73539'...  \n",
       "133709  [('http://purl.obolibrary.org/obo/NCIT_C27600'...  "
      ]
     },
     "execution_count": 36,
     "metadata": {},
     "output_type": "execute_result"
    }
   ],
   "source": [
    "ontology_linking.sample(5)"
   ]
  },
  {
   "cell_type": "markdown",
   "metadata": {},
   "source": [
    "### Interactive curation of  entity occurrence data\n",
    "\n",
    "The package provides an interactive entity curation app that allows the user to visualize the entity occurrence data, modify it, perform ontology linking (see `Link to NCIT ontology` button), filter short or unfrequent entities.\n",
    "\n",
    "The field `Keep` allows specifying a set of entities that must be kept in the dataset at all times (even if they don't satisfy the selected filtering criteria).\n",
    "\n",
    "Finally the value specified in the `Generate Graphs from top N frequent entities` field corresponds to the number of top entities (by the frequency of their occurrence in papers) to be included in the co-occurrence network."
   ]
  },
  {
   "cell_type": "markdown",
   "metadata": {},
   "source": [
    "We load the prepared data table into the curation app as follows:"
   ]
  },
  {
   "cell_type": "code",
   "execution_count": 38,
   "metadata": {},
   "outputs": [],
   "source": [
    "curation_app.set_table(curation_input_table.copy())"
   ]
  },
  {
   "cell_type": "markdown",
   "metadata": {},
   "source": [
    "We can specify the default entities to keep."
   ]
  },
  {
   "cell_type": "code",
   "execution_count": 39,
   "metadata": {},
   "outputs": [],
   "source": [
    "default_entities_to_keep = []\n",
    "curation_app.set_default_terms_to_include(default_entities_to_keep)"
   ]
  },
  {
   "cell_type": "markdown",
   "metadata": {},
   "source": [
    "Finally, we set the ontology linking callback to be fired upon a click on the `Link to NCIT ontology` button."
   ]
  },
  {
   "cell_type": "code",
   "execution_count": 40,
   "metadata": {},
   "outputs": [],
   "source": [
    "curation_app.set_ontology_linking_callback(lambda x: link_ontology(ontology_linking, type_mapping, x))"
   ]
  },
  {
   "cell_type": "markdown",
   "metadata": {},
   "source": [
    "### Launch the curation app"
   ]
  },
  {
   "cell_type": "markdown",
   "metadata": {},
   "source": [
    "The application can be launched either inline (inside the current notebook) as below. Note that if you run this notebook in Colab, you may want to set a lower number of entities to include, in order to avoid long generation time ('Generate Graphs from top N frequent entities' field). Current default value is 200."
   ]
  },
  {
   "cell_type": "code",
   "execution_count": 41,
   "metadata": {},
   "outputs": [
    {
     "name": "stdout",
     "output_type": "stream",
     "text": [
      "Opening port number 8074 failed: Address 'http://127.0.0.1:8074' already in use.\n",
      "    Try passing a different port to run_server.. Trying port number 8075 ...\n",
      "Dash app running on http://127.0.0.1:8075/\n"
     ]
    },
    {
     "name": "stderr",
     "output_type": "stream",
     "text": [
      "Exception in thread Thread-3:\n",
      "Traceback (most recent call last):\n",
      "  File \"/Users/mfsy/anaconda3/envs/bluegraph/lib/python3.7/threading.py\", line 926, in _bootstrap_inner\n",
      "    self.run()\n",
      "  File \"/Users/mfsy/anaconda3/envs/bluegraph/lib/python3.7/threading.py\", line 870, in run\n",
      "    self._target(*self._args, **self._kwargs)\n",
      "  File \"/Users/mfsy/anaconda3/envs/bluegraph/lib/python3.7/site-packages/retrying.py\", line 49, in wrapped_f\n",
      "    return Retrying(*dargs, **dkw).call(f, *args, **kw)\n",
      "  File \"/Users/mfsy/anaconda3/envs/bluegraph/lib/python3.7/site-packages/retrying.py\", line 212, in call\n",
      "    raise attempt.get()\n",
      "  File \"/Users/mfsy/anaconda3/envs/bluegraph/lib/python3.7/site-packages/retrying.py\", line 247, in get\n",
      "    six.reraise(self.value[0], self.value[1], self.value[2])\n",
      "  File \"/Users/mfsy/anaconda3/envs/bluegraph/lib/python3.7/site-packages/six.py\", line 703, in reraise\n",
      "    raise value\n",
      "  File \"/Users/mfsy/anaconda3/envs/bluegraph/lib/python3.7/site-packages/retrying.py\", line 200, in call\n",
      "    attempt = Attempt(fn(*args, **kwargs), attempt_number, False)\n",
      "  File \"/Users/mfsy/anaconda3/envs/bluegraph/lib/python3.7/site-packages/jupyter_dash/jupyter_app.py\", line 289, in run\n",
      "    super_run_server(**kwargs)\n",
      "  File \"/Users/mfsy/anaconda3/envs/bluegraph/lib/python3.7/site-packages/dash/dash.py\", line 1717, in run_server\n",
      "    self.server.run(host=host, port=port, debug=debug, **flask_run_options)\n",
      "  File \"/Users/mfsy/anaconda3/envs/bluegraph/lib/python3.7/site-packages/flask/app.py\", line 990, in run\n",
      "    run_simple(host, port, self, **options)\n",
      "  File \"/Users/mfsy/anaconda3/envs/bluegraph/lib/python3.7/site-packages/werkzeug/serving.py\", line 1017, in run_simple\n",
      "    inner()\n",
      "  File \"/Users/mfsy/anaconda3/envs/bluegraph/lib/python3.7/site-packages/werkzeug/serving.py\", line 966, in inner\n",
      "    fd=fd,\n",
      "  File \"/Users/mfsy/anaconda3/envs/bluegraph/lib/python3.7/site-packages/werkzeug/serving.py\", line 790, in make_server\n",
      "    host, port, app, request_handler, passthrough_errors, ssl_context, fd=fd\n",
      "  File \"/Users/mfsy/anaconda3/envs/bluegraph/lib/python3.7/site-packages/werkzeug/serving.py\", line 693, in __init__\n",
      "    super().__init__(server_address, handler)  # type: ignore\n",
      "  File \"/Users/mfsy/anaconda3/envs/bluegraph/lib/python3.7/socketserver.py\", line 452, in __init__\n",
      "    self.server_bind()\n",
      "  File \"/Users/mfsy/anaconda3/envs/bluegraph/lib/python3.7/http/server.py\", line 137, in server_bind\n",
      "    socketserver.TCPServer.server_bind(self)\n",
      "  File \"/Users/mfsy/anaconda3/envs/bluegraph/lib/python3.7/socketserver.py\", line 466, in server_bind\n",
      "    self.socket.bind(self.server_address)\n",
      "OSError: [Errno 48] Address already in use\n",
      "\n"
     ]
    }
   ],
   "source": [
    "curation_app.run(port=8074, mode=\"external\")"
   ]
  },
  {
   "cell_type": "markdown",
   "metadata": {},
   "source": [
    "Or it can be opened externally (by the URL that you can open in a separate tab of your browser, try uncommenting, executing and doing Ctrl+Click on the displayed URL)."
   ]
  },
  {
   "cell_type": "code",
   "execution_count": null,
   "metadata": {},
   "outputs": [],
   "source": [
    "# curation_app.run(port=8070, mode=\"external\")"
   ]
  },
  {
   "cell_type": "markdown",
   "metadata": {},
   "source": [
    "## 3. Co-occurrence network generation"
   ]
  },
  {
   "cell_type": "markdown",
   "metadata": {},
   "source": [
    "Current curation table displayed in the curation app can be extracted using the `get_curated_table` method."
   ]
  },
  {
   "cell_type": "code",
   "execution_count": null,
   "metadata": {},
   "outputs": [],
   "source": [
    "curated_occurrence_data = curation_app.get_curated_table()\n",
    "curated_occurrence_data.sample(3)"
   ]
  },
  {
   "cell_type": "markdown",
   "metadata": {},
   "source": [
    "Before we can proceed we need to convert paper/section and paragraph columns into `set`."
   ]
  },
  {
   "cell_type": "code",
   "execution_count": null,
   "metadata": {},
   "outputs": [],
   "source": [
    "curated_occurrence_data[\"paper\"] = curated_occurrence_data[\"paper\"].apply(set)\n",
    "curated_occurrence_data[\"paragraph\"] = curated_occurrence_data[\"paragraph\"].apply(set)\n",
    "curated_occurrence_data[\"section\"] = curated_occurrence_data[\"section\"].apply(set)"
   ]
  },
  {
   "cell_type": "markdown",
   "metadata": {},
   "source": [
    "We can also retreive current values of the `Keep` field (these entities will be also included in the resulting co-occurrence network)."
   ]
  },
  {
   "cell_type": "code",
   "execution_count": null,
   "metadata": {},
   "outputs": [],
   "source": [
    "curation_app.get_terms_to_include()"
   ]
  },
  {
   "cell_type": "code",
   "execution_count": null,
   "metadata": {},
   "outputs": [],
   "source": [
    "# Save curation table \n",
    "curated_occurrence_data.to_csv(\"/Users/mfsy/Documents/kg_from_ner/2022-10-12_v1/dke_processing/curated_linked_table.csv\")"
   ]
  },
  {
   "cell_type": "markdown",
   "metadata": {},
   "source": [
    "### Generating co-occurrence networks\n",
    "\n",
    "In this section, we generate a paragraph-based entity co-occurrence network (i.e. an edge between a pair of entities is added if they co-occur in the same paragraph). Also some grapah and co-occurrence statistics are generated:\n",
    "\n",
    "* computes co-occurrence statistics (such as frequency, pointwise mutual information and normalized pointwise mutual information) and assignes them as weights to the corresponding edges \n",
    "\n",
    "    * `ppmi`: given two entities (x, y), their _positive pointwise mutual information (PPMI)_ is defined as $PPMI(x, y) = \\log_2{\\frac{p(x, y)}{p(x)p(y)}} $, if $p(x) \\neq 0$ and $p(y) \\neq 0$, and $PPMI(x, y) = 0$ otherwise.\n",
    "\n",
    "    * `npmi`: given two entities (x, y), their_normalized pointwise mutual information (NPMI)_ is defined as $NPMI(x, y) = \\frac{PPMI(x, y)}{-\\log_2{p(x, y)}} $.\n",
    "\n",
    "* computes node centrality metrics (such as degree, RageRank) and them as weights to the nodes\n",
    "* performs entity community detection based on different co-occurrence statistics\n",
    "* computes mutual-information-based minimum spanning trees."
   ]
  },
  {
   "cell_type": "markdown",
   "metadata": {},
   "source": [
    "Before we run the co-occurrence analysis, we will create a dictionary with backend configurations for the analytics:\n",
    "\n",
    "* we set metrics (centalities) computation to use `graph_tool`, \n",
    "* community detection to use `networkx` \n",
    "* and, finally, path search to use `graph_tool` as well."
   ]
  },
  {
   "cell_type": "code",
   "execution_count": null,
   "metadata": {},
   "outputs": [],
   "source": [
    "import time"
   ]
  },
  {
   "cell_type": "code",
   "execution_count": null,
   "metadata": {},
   "outputs": [],
   "source": [
    "import time\n",
    "backend_configs = {\n",
    "    \"metrics\": \"graph_tool\",\n",
    "    \"communities\": \"networkx\",\n",
    "    \"paths\": \"graph_tool\"\n",
    "}"
   ]
  },
  {
   "cell_type": "code",
   "execution_count": null,
   "metadata": {
    "scrolled": true
   },
   "outputs": [],
   "source": [
    "%%time\n",
    "type_data = curated_occurrence_data[[\"entity_type\"]].rename(columns={\"entity_type\": \"type\"})\n",
    "\n",
    "graphs, trees = generate_cooccurrence_analysis(\n",
    "    curated_occurrence_data,  factor_counts,\n",
    "    n_most_frequent=curation_app.n_most_frequent,\n",
    "    type_data=type_data, \n",
    "    factors=[\"paragraph\"],\n",
    "    keep=curation_app.get_terms_to_include(),\n",
    "    cores=8,  # here set up the number of cores\n",
    "    backend_configs=backend_configs)\n",
    "print(\"Done.\")"
   ]
  },
  {
   "cell_type": "code",
   "execution_count": null,
   "metadata": {},
   "outputs": [],
   "source": [
    "graphs[\"paragraph\"].edges(raw_frame=True).sample(5)"
   ]
  },
  {
   "cell_type": "code",
   "execution_count": null,
   "metadata": {},
   "outputs": [],
   "source": [
    "graphs[\"paragraph\"].nodes(raw_frame=True).sample(5)"
   ]
  },
  {
   "cell_type": "markdown",
   "metadata": {},
   "source": [
    "#### Save or load co-occurence graph and spaning tree"
   ]
  },
  {
   "cell_type": "code",
   "execution_count": null,
   "metadata": {},
   "outputs": [],
   "source": [
    "co_occurence_graph_nodes_path =\"/Users/mfsy/Documents/kg_from_ner/2022-10-12_v1/dke_processing/co-occurence-graph-nodes.csv\"\n",
    "co_occurence_graph_edges_path =\"/Users/mfsy/Documents/kg_from_ner/2022-10-12_v1/dke_processing/co-occurence-graph-edges.csv\"\n",
    "\n",
    "co_occurence_tree_nodes_path =\"/Users/mfsy/Documents/kg_from_ner/2022-10-12_v1/dke_processing/co-occurence-tree-nodes.csv\"\n",
    "co_occurence_tree_edges_path =\"/Users/mfsy/Documents/kg_from_ner/2022-10-12_v1/dke_processing/co-occurence-tree-edges.csv\"\n"
   ]
  },
  {
   "cell_type": "code",
   "execution_count": null,
   "metadata": {},
   "outputs": [],
   "source": [
    "# Save co-occurence graph\n",
    "graphs[\"paragraph\"].to_csv(co_occurence_graph_nodes_path, co_occurence_graph_edges_path)"
   ]
  },
  {
   "cell_type": "code",
   "execution_count": null,
   "metadata": {},
   "outputs": [],
   "source": [
    "# Save spaning tree\n",
    "trees[\"paragraph\"].to_csv(co_occurence_tree_nodes_path, co_occurence_tree_edges_path)"
   ]
  },
  {
   "cell_type": "code",
   "execution_count": null,
   "metadata": {},
   "outputs": [],
   "source": [
    "# Load saved co-occurence graph and spanning tree\n",
    "graphs = {}\n",
    "trees = {}\n",
    "graphs[\"paragraph\"]=PGFrame.from_csv(co_occurence_graph_nodes_path, co_occurence_tree_nodes_path)\n",
    "graphs[\"paragraph\"]=PGFrame.from_csv(co_occurence_graph_nodes_path, co_occurence_tree_edges_path)"
   ]
  },
  {
   "cell_type": "markdown",
   "metadata": {},
   "source": [
    "## 4. Co-occurrence network visualization and analysis"
   ]
  },
  {
   "cell_type": "markdown",
   "metadata": {},
   "source": [
    "### Programmatic analysis of the co-occurrence network "
   ]
  },
  {
   "cell_type": "markdown",
   "metadata": {},
   "source": [
    "#### Nearest neighours by co-occurrence scores"
   ]
  },
  {
   "cell_type": "markdown",
   "metadata": {},
   "source": [
    "To illustrate the importance of computing mutual-information-based scores over raw frequencies, consider the following example, where we would like to estimate top closest (most related) neighbors to a specific term.\n",
    "\n",
    "To do so, we will use the paragraph-based network and the raw co-occurrence frequency as the weight of our co-occurrence relation. The `top_neighbors` method of the `PathFinder` interface provided by the BlueGraph allows us to search for top neighbors with the highest edge weight. In this example, we use `graph_tool`-based `GTPathFinder` interface."
   ]
  },
  {
   "cell_type": "code",
   "execution_count": null,
   "metadata": {},
   "outputs": [],
   "source": [
    "paragraph_path_finder = GTPathFinder(graphs[\"paragraph\"], directed=False)"
   ]
  },
  {
   "cell_type": "code",
   "execution_count": null,
   "metadata": {},
   "outputs": [],
   "source": [
    "paragraph_path_finder.top_neighbors(\"hippocampus\", 10, weight=\"frequency\")"
   ]
  },
  {
   "cell_type": "code",
   "execution_count": null,
   "metadata": {},
   "outputs": [],
   "source": [
    "paragraph_path_finder.top_neighbors(\"neuron\", 10, weight=\"frequency\")"
   ]
  },
  {
   "cell_type": "markdown",
   "metadata": {},
   "source": [
    "We observe that 'glucose' and 'lung' share a lot of the closest neighbors by raw frequency. If we look into the list of top 10 entities by paragraph frequency in the entire corpus and we notice that 'glucose' and 'blood' co-occur the most with the terms that are simply the most frequent in our corpus, such as 'covid-19' and 'diabetes mellitus'.\n",
    "\n",
    "(Closest inspection of the distribution of weighted node degrees suggests that the network contains _hubs_, nodes with significantly high-degree connectivity to other nodes.)"
   ]
  },
  {
   "cell_type": "code",
   "execution_count": null,
   "metadata": {},
   "outputs": [],
   "source": [
    "graphs[\"paragraph\"]._nodes"
   ]
  },
  {
   "cell_type": "code",
   "execution_count": null,
   "metadata": {},
   "outputs": [],
   "source": [
    "graphs[\"paragraph\"].nodes(raw_frame=True).nlargest(10, columns=[\"paragraph_frequency\"])"
   ]
  },
  {
   "cell_type": "markdown",
   "metadata": {},
   "source": [
    "To account for the presence of such hubs, we use the mutual-information-based scores presented above. They 'balance' the influence of the highly connected hub nodes such as 'covid-19' and 'diabetes mellitus' in our example."
   ]
  },
  {
   "cell_type": "code",
   "execution_count": null,
   "metadata": {},
   "outputs": [],
   "source": [
    "paragraph_path_finder.top_neighbors(\"hippocampus\", 10, weight=\"npmi\")"
   ]
  },
  {
   "cell_type": "code",
   "execution_count": null,
   "metadata": {
    "scrolled": true
   },
   "outputs": [],
   "source": [
    "paragraph_path_finder.top_neighbors(\"neuron\", 10, weight=\"npmi\")"
   ]
  },
  {
   "cell_type": "markdown",
   "metadata": {},
   "source": [
    "#### IV. Graph metrics and centrality measures\n",
    "\n",
    "BlueGraph provides the `MetricProcessor` interface for computing various graph statistics. As in the previous example, we will use `graph_tool`-based `GTMetricProcessor` interface."
   ]
  },
  {
   "cell_type": "code",
   "execution_count": null,
   "metadata": {},
   "outputs": [],
   "source": [
    "#paper_metrics = GTMetricProcessor(paper_network, directed=False)\n",
    "paragraph_metrics = GTMetricProcessor(graphs[\"paragraph\"], directed=False)"
   ]
  },
  {
   "cell_type": "markdown",
   "metadata": {},
   "source": [
    "##### Graph density"
   ]
  },
  {
   "cell_type": "markdown",
   "metadata": {},
   "source": [
    "Density of a graph is quantified by the proportion of all possible edges ($n(n-1) / 2$ for the undirected graph with $n$ nodes) that are realized."
   ]
  },
  {
   "cell_type": "code",
   "execution_count": null,
   "metadata": {},
   "outputs": [],
   "source": [
    "#print(\"Density of the paper-based network: \", paper_metrics.density())\n",
    "print(\"Density of the paragraph-based network: \", paragraph_metrics.density())"
   ]
  },
  {
   "cell_type": "markdown",
   "metadata": {},
   "source": [
    "The results above show that in the paragraph network, 39% of all possible term pairs co-occur at least once."
   ]
  },
  {
   "cell_type": "markdown",
   "metadata": {},
   "source": [
    "##### Node centrality (importance) measures\n",
    "\n",
    "In this example we will compute the Degree and PageRank centralities only for the raw frequency, and the Betweenness centrality for the mutual-information-based scores. We will use methods provided by the `MetricProcessor` interface in the _write_ mode, i.e. computed metrics will be written as node properties of the underlying graph object."
   ]
  },
  {
   "cell_type": "markdown",
   "metadata": {},
   "source": [
    "_Degree centrality_ is given by the sum of weights of all incident edges of the given node and characterizes the importance of the node in the network in terms of its connectivity to other nodes (high degree = high connectivity)."
   ]
  },
  {
   "cell_type": "code",
   "execution_count": null,
   "metadata": {},
   "outputs": [],
   "source": [
    "paragraph_metrics.degree_centrality(\"frequency\", write=True, write_property=\"degree\")"
   ]
  },
  {
   "cell_type": "markdown",
   "metadata": {},
   "source": [
    "_PageRank centrality_ is another measure that estimated the importance of the given node in the network. Roughly speaking it can be interpreted as the probablity that having landed on a random node in the network we will jump to the given node (here the edge weights are taken into account\").\n",
    "\n",
    "https://en.wikipedia.org/wiki/PageRank"
   ]
  },
  {
   "cell_type": "code",
   "execution_count": null,
   "metadata": {},
   "outputs": [],
   "source": [
    "paragraph_metrics.pagerank_centrality(\"frequency\", write=True, write_property=\"pagerank\")"
   ]
  },
  {
   "cell_type": "markdown",
   "metadata": {},
   "source": [
    "We then compute the betweenness centrality based on the NPMI distances.\n",
    "\n",
    "_Betweenness centrality_ is a node importance measure that estimates how often a shortest path between a pair of nodes will pass through the given node."
   ]
  },
  {
   "cell_type": "code",
   "execution_count": null,
   "metadata": {},
   "outputs": [],
   "source": [
    "paragraph_metrics.betweenness_centrality(\"distance_npmi\", write=True, write_property=\"betweenness\")"
   ]
  },
  {
   "cell_type": "markdown",
   "metadata": {},
   "source": [
    "We can inspect the underlying graph object and observe the newly added properties:"
   ]
  },
  {
   "cell_type": "code",
   "execution_count": null,
   "metadata": {},
   "outputs": [],
   "source": [
    "paragraph_metrics.graph.vp.keys()"
   ]
  },
  {
   "cell_type": "markdown",
   "metadata": {},
   "source": [
    "Now, we will export this backend-specific graph object into a `PGFrame`."
   ]
  },
  {
   "cell_type": "code",
   "execution_count": null,
   "metadata": {},
   "outputs": [],
   "source": [
    "new_paragraph_network = paragraph_metrics.get_pgframe()"
   ]
  },
  {
   "cell_type": "code",
   "execution_count": null,
   "metadata": {},
   "outputs": [],
   "source": [
    "new_paragraph_network.nodes(raw_frame=True).sample(5)"
   ]
  },
  {
   "cell_type": "code",
   "execution_count": null,
   "metadata": {},
   "outputs": [],
   "source": [
    "print(\"Top 10 nodes by degree\")\n",
    "for n in new_paragraph_network.nodes(raw_frame=True).nlargest(10, columns=[\"degree\"]).index:\n",
    "    print(\"\\t\", n)"
   ]
  },
  {
   "cell_type": "code",
   "execution_count": null,
   "metadata": {},
   "outputs": [],
   "source": [
    "print(\"Top 10 nodes by PageRank\")\n",
    "for n in new_paragraph_network.nodes(raw_frame=True).nlargest(10, columns=[\"pagerank\"]).index:\n",
    "    print(\"\\t\", n)"
   ]
  },
  {
   "cell_type": "code",
   "execution_count": null,
   "metadata": {},
   "outputs": [],
   "source": [
    "print(\"Top 10 nodes by betweenness\")\n",
    "for n in new_paragraph_network.nodes(raw_frame=True).nlargest(10, columns=[\"betweenness\"]).index:\n",
    "    print(\"\\t\", n)"
   ]
  },
  {
   "cell_type": "markdown",
   "metadata": {},
   "source": [
    "##### Compute multiple metrics in one go"
   ]
  },
  {
   "cell_type": "markdown",
   "metadata": {},
   "source": [
    "Alternatively, we can compute all the metrics in one go. To do so, we need to specify edge attributes used for computing different metrics (if an empty list is specified as a weight list for a metric, computation of this metric is not performed). \n",
    "\n",
    "We select the paragraph-based network and re-compute all some of the previously illustrated metrics as follows:"
   ]
  },
  {
   "cell_type": "code",
   "execution_count": null,
   "metadata": {
    "scrolled": false
   },
   "outputs": [],
   "source": [
    "result_metrics = paragraph_metrics.compute_all_node_metrics(\n",
    "    degree_weights=[\"frequency\"],\n",
    "    pagerank_weights=[\"frequency\"],\n",
    "    betweenness_weights=[\"distance_npmi\"])"
   ]
  },
  {
   "cell_type": "code",
   "execution_count": null,
   "metadata": {},
   "outputs": [],
   "source": [
    "result_metrics"
   ]
  },
  {
   "cell_type": "markdown",
   "metadata": {},
   "source": [
    "### Interactive web-based analysis of the co-occurrence network "
   ]
  },
  {
   "cell_type": "markdown",
   "metadata": {},
   "source": [
    "#### Loading the generated graph into the visualization app"
   ]
  },
  {
   "cell_type": "markdown",
   "metadata": {},
   "source": [
    "First of all, we set a backend for the visualization app (currently two backends are supported: based on `NetworkX` and `graph-tool`, in this example we use the latter)."
   ]
  },
  {
   "cell_type": "code",
   "execution_count": null,
   "metadata": {},
   "outputs": [],
   "source": [
    "visualization_app.set_backend(\"graph_tool\")"
   ]
  },
  {
   "cell_type": "code",
   "execution_count": null,
   "metadata": {},
   "outputs": [],
   "source": [
    "# #  Run the following use NetworkX as the backend for the visualization app\n",
    "# visualization_app.set_backend(\"networkx\")"
   ]
  },
  {
   "cell_type": "code",
   "execution_count": null,
   "metadata": {},
   "outputs": [],
   "source": [
    "visualization_app.add_graph(\n",
    "    \"Paragraph-based graph\", graphs[\"paragraph\"],\n",
    "    tree=trees[\"paragraph\"], default_top_n=100)\n",
    "\n",
    "visualization_app.set_current_graph(\"Paragraph-based graph\")"
   ]
  },
  {
   "cell_type": "code",
   "execution_count": 69,
   "metadata": {},
   "outputs": [
    {
     "name": "stdout",
     "output_type": "stream",
     "text": [
      "{'subiculum': {'paragraph_frequency': 313.0, 'degree_frequency': 2634.0, 'pagerank_frequency': 0.0004512611514856408, 'num_paper': 6192}, 'substance p': {'paragraph_frequency': 209.0, 'degree_frequency': 1495.0, 'pagerank_frequency': 0.0003333954382972969, 'num_paper': 5796}, 'substantia nigra': {'paragraph_frequency': 2283.0, 'degree_frequency': 17603.0, 'pagerank_frequency': 0.0021544580781400063, 'num_paper': 45540}, 'subthalamic nucleus': {'paragraph_frequency': 640.0, 'degree_frequency': 4532.0, 'pagerank_frequency': 0.0006892442158339355, 'num_paper': 13032}, 'subventricular zone': {'paragraph_frequency': 457.0, 'degree_frequency': 4756.0, 'pagerank_frequency': 0.00068841177654795, 'num_paper': 12636}, 'superior colliculus': {'paragraph_frequency': 247.0, 'degree_frequency': 1898.0, 'pagerank_frequency': 0.000377471559904556, 'num_paper': 5436}, 'superior frontal gyrus': {'paragraph_frequency': 313.0, 'degree_frequency': 2054.0, 'pagerank_frequency': 0.00044341675935408886, 'num_paper': 7092}, 'superior longitudinal fasciculus': {'paragraph_frequency': 188.0, 'degree_frequency': 856.0, 'pagerank_frequency': 0.00027912434239295953, 'num_paper': 4320}, 'superior temporal gyrus': {'paragraph_frequency': 445.0, 'degree_frequency': 2690.0, 'pagerank_frequency': 0.0005429473977030333, 'num_paper': 9108}, 'superoxide dismutase': {'paragraph_frequency': 2012.0, 'degree_frequency': 10408.0, 'pagerank_frequency': 0.0013583317179048963, 'num_paper': 24516}, 'supplementary motor area': {'paragraph_frequency': 356.0, 'degree_frequency': 2299.0, 'pagerank_frequency': 0.00046065743410132206, 'num_paper': 9000}, 'suprachiasmatic nucleus': {'paragraph_frequency': 301.0, 'degree_frequency': 2035.0, 'pagerank_frequency': 0.0004016810835340105, 'num_paper': 7596}, 'supramarginal gyrus': {'paragraph_frequency': 181.0, 'degree_frequency': 1138.0, 'pagerank_frequency': 0.00031823620400426114, 'num_paper': 4824}, 'sus': {'paragraph_frequency': 790.0, 'degree_frequency': 3778.0, 'pagerank_frequency': 0.0006110108395143601, 'num_paper': 14328}, 'sv2a': {'paragraph_frequency': 218.0, 'degree_frequency': 1031.0, 'pagerank_frequency': 0.00026353554900545017, 'num_paper': 2196}, 'svz': {'paragraph_frequency': 1014.0, 'degree_frequency': 9183.0, 'pagerank_frequency': 0.0011972974054124809, 'num_paper': 9180}, 'sympathetic block': {'paragraph_frequency': 413.0, 'degree_frequency': 2613.0, 'pagerank_frequency': 0.0004672787737190211, 'num_paper': 8064}, 'sympathetic nervous system': {'paragraph_frequency': 256.0, 'degree_frequency': 1334.0, 'pagerank_frequency': 0.00031744445210500703, 'num_paper': 5292}, 'synapse': {'paragraph_frequency': 9571.0, 'degree_frequency': 62972.0, 'pagerank_frequency': 0.007103096607581663, 'num_paper': 96408}, 'synaptic junction pathway': {'paragraph_frequency': 20259.0, 'degree_frequency': 125150.0, 'pagerank_frequency': 0.014163566346451745, 'num_paper': 162612}, 'synaptically': {'paragraph_frequency': 339.0, 'degree_frequency': 2513.0, 'pagerank_frequency': 0.0004274741887455123, 'num_paper': 8856}, 't-cell surface glycoprotein cd4': {'paragraph_frequency': 2239.0, 'degree_frequency': 14781.0, 'pagerank_frequency': 0.0018996335881312065, 'num_paper': 29160}, 't-cell surface glycoprotein cd8': {'paragraph_frequency': 1771.0, 'degree_frequency': 11590.0, 'pagerank_frequency': 0.0015078276967425697, 'num_paper': 24660}, 't-lymphocyte': {'paragraph_frequency': 636.0, 'degree_frequency': 4114.0, 'pagerank_frequency': 0.0006405670800471994, 'num_paper': 12060}, 'tau': {'paragraph_frequency': 3695.0, 'degree_frequency': 17416.0, 'pagerank_frequency': 0.0021069581394569073, 'num_paper': 37944}, 'tdp -43': {'paragraph_frequency': 1584.0, 'degree_frequency': 7669.0, 'pagerank_frequency': 0.001037179718163769, 'num_paper': 13860}, 'temporal': {'paragraph_frequency': 1127.0, 'degree_frequency': 5537.0, 'pagerank_frequency': 0.0008501881373927723, 'num_paper': 25668}, 'temporal cortex': {'paragraph_frequency': 460.0, 'degree_frequency': 3036.0, 'pagerank_frequency': 0.0005179701382880752, 'num_paper': 12564}, 'temporal lobe': {'paragraph_frequency': 805.0, 'degree_frequency': 4087.0, 'pagerank_frequency': 0.0006571850524663891, 'num_paper': 19044}, 'terminal': {'paragraph_frequency': 4584.0, 'degree_frequency': 23203.0, 'pagerank_frequency': 0.0028875649216311048, 'num_paper': 66780}, 'terminal device': {'paragraph_frequency': 2764.0, 'degree_frequency': 22703.0, 'pagerank_frequency': 0.0027427263598426444, 'num_paper': 47232}, 'tgf -beta': {'paragraph_frequency': 1147.0, 'degree_frequency': 8673.0, 'pagerank_frequency': 0.0012015162477326798, 'num_paper': 21816}, 'thalamo': {'paragraph_frequency': 231.0, 'degree_frequency': 1435.0, 'pagerank_frequency': 0.0003181592378593579, 'num_paper': 5184}, 'thalamocortical': {'paragraph_frequency': 669.0, 'degree_frequency': 4464.0, 'pagerank_frequency': 0.0006613680939455216, 'num_paper': 11412}, 'thalamus': {'paragraph_frequency': 3523.0, 'degree_frequency': 26437.0, 'pagerank_frequency': 0.003314216479880255, 'num_paper': 58176}, 'tlr': {'paragraph_frequency': 562.0, 'degree_frequency': 4162.0, 'pagerank_frequency': 0.0006494755230339194, 'num_paper': 12816}, 'tlrs': {'paragraph_frequency': 439.0, 'degree_frequency': 3201.0, 'pagerank_frequency': 0.0005301292978121756, 'num_paper': 8856}, 'tnf -': {'paragraph_frequency': 327.0, 'degree_frequency': 2762.0, 'pagerank_frequency': 0.00047242849245184075, 'num_paper': 9936}, 'tnf -alpha': {'paragraph_frequency': 3777.0, 'degree_frequency': 28557.0, 'pagerank_frequency': 0.0034892314391954983, 'num_paper': 51228}, 'toll -like receptors': {'paragraph_frequency': 465.0, 'degree_frequency': 3600.0, 'pagerank_frequency': 0.0005764400549933571, 'num_paper': 14904}, 'toll-like receptor family': {'paragraph_frequency': 1629.0, 'degree_frequency': 11874.0, 'pagerank_frequency': 0.0015649129728940985, 'num_paper': 26280}, 'tpj': {'paragraph_frequency': 270.0, 'degree_frequency': 1056.0, 'pagerank_frequency': 0.0002978373064074779, 'num_paper': 2844}, 'transforming growth factor beta measurement': {'paragraph_frequency': 554.0, 'degree_frequency': 4204.0, 'pagerank_frequency': 0.0006562563949426595, 'num_paper': 13284}, 'trem2': {'paragraph_frequency': 726.0, 'degree_frequency': 4902.0, 'pagerank_frequency': 0.0007022386858967257, 'num_paper': 10908}, 'treponema pallidum subsp pallidum': {'paragraph_frequency': 184.0, 'degree_frequency': 1363.0, 'pagerank_frequency': 0.00031163827358544416, 'num_paper': 4356}, 'trigeminal ganglion': {'paragraph_frequency': 323.0, 'degree_frequency': 2366.0, 'pagerank_frequency': 0.0004329896291725169, 'num_paper': 5328}, 'trkb': {'paragraph_frequency': 847.0, 'degree_frequency': 6609.0, 'pagerank_frequency': 0.0008971965758964068, 'num_paper': 13860}, 'tromelin island': {'paragraph_frequency': 272.0, 'degree_frequency': 1107.0, 'pagerank_frequency': 0.0002925192222257741, 'num_paper': 1836}, 'trpv1': {'paragraph_frequency': 1032.0, 'degree_frequency': 5849.0, 'pagerank_frequency': 0.0008661969740978103, 'num_paper': 10728}, 'tryptophan': {'paragraph_frequency': 1382.0, 'degree_frequency': 6601.0, 'pagerank_frequency': 0.0009707294363537377, 'num_paper': 13572}, 'tspo': {'paragraph_frequency': 393.0, 'degree_frequency': 1577.0, 'pagerank_frequency': 0.00032523005729610485, 'num_paper': 4212}, 'tumor necrosis factor': {'paragraph_frequency': 3966.0, 'degree_frequency': 29721.0, 'pagerank_frequency': 0.003657244332169667, 'num_paper': 61092}, 'tumor-associated vasculature': {'paragraph_frequency': 1760.0, 'degree_frequency': 8847.0, 'pagerank_frequency': 0.0011756369531135261, 'num_paper': 31896}, 'units': {'paragraph_frequency': 192.0, 'degree_frequency': 547.0, 'pagerank_frequency': 0.0002109266718274896, 'num_paper': 4680}, 'urokinase plasminogen activator surface receptor': {'paragraph_frequency': 274.0, 'degree_frequency': 2240.0, 'pagerank_frequency': 0.0004031169435496191, 'num_paper': 7452}, 'vaccine-sensitized draining lymph node cells': {'paragraph_frequency': 843.0, 'degree_frequency': 4724.0, 'pagerank_frequency': 0.0006692028941873546, 'num_paper': 21672}, 'vagal': {'paragraph_frequency': 275.0, 'degree_frequency': 1527.0, 'pagerank_frequency': 0.0003396573489952807, 'num_paper': 5724}, 'vagus nerve': {'paragraph_frequency': 1341.0, 'degree_frequency': 6030.0, 'pagerank_frequency': 0.0008978208275367242, 'num_paper': 18792}, 'vascular': {'paragraph_frequency': 193.0, 'degree_frequency': 1363.0, 'pagerank_frequency': 0.00030826235196200653, 'num_paper': 5760}, 'vascular endothelial growth factor a': {'paragraph_frequency': 811.0, 'degree_frequency': 6100.0, 'pagerank_frequency': 0.0008843219443437156, 'num_paper': 24732}, 'vascular endothelial growth factor family': {'paragraph_frequency': 1998.0, 'degree_frequency': 12337.0, 'pagerank_frequency': 0.0016405176566608403, 'num_paper': 29088}, 'vascular endothelium': {'paragraph_frequency': 630.0, 'degree_frequency': 4232.0, 'pagerank_frequency': 0.0006448556261610951, 'num_paper': 15948}, 'vascular smooth muscle contraction pathway': {'paragraph_frequency': 271.0, 'degree_frequency': 1806.0, 'pagerank_frequency': 0.00036586691186437953, 'num_paper': 7344}, 'ventral': {'paragraph_frequency': 470.0, 'degree_frequency': 3408.0, 'pagerank_frequency': 0.0005548297636629495, 'num_paper': 12564}, 'ventral tegmental area': {'paragraph_frequency': 936.0, 'degree_frequency': 9015.0, 'pagerank_frequency': 0.0011968119813024634, 'num_paper': 23256}, 'ventricular': {'paragraph_frequency': 721.0, 'degree_frequency': 3751.0, 'pagerank_frequency': 0.0005952239622759176, 'num_paper': 14472}, 'ventricular trigeminy by ecg finding': {'paragraph_frequency': 387.0, 'degree_frequency': 2161.0, 'pagerank_frequency': 0.000408968166411086, 'num_paper': 7020}, 'ventricular zone': {'paragraph_frequency': 253.0, 'degree_frequency': 2421.0, 'pagerank_frequency': 0.00042899223455840574, 'num_paper': 5616}, 'ventrolateral': {'paragraph_frequency': 190.0, 'degree_frequency': 1470.0, 'pagerank_frequency': 0.00032929751506808013, 'num_paper': 5328}, 'vertebral': {'paragraph_frequency': 335.0, 'degree_frequency': 660.0, 'pagerank_frequency': 0.00023956087244814434, 'num_paper': 5796}, 'vertebral column': {'paragraph_frequency': 1778.0, 'degree_frequency': 13401.0, 'pagerank_frequency': 0.0016300153495072162, 'num_paper': 24156}, 'vertebrata': {'paragraph_frequency': 2630.0, 'degree_frequency': 14039.0, 'pagerank_frequency': 0.0018547949049716973, 'num_paper': 31968}, 'vesicular': {'paragraph_frequency': 300.0, 'degree_frequency': 1807.0, 'pagerank_frequency': 0.0003592598228268787, 'num_paper': 7380}, 'vestibule of the ear': {'paragraph_frequency': 453.0, 'degree_frequency': 1655.0, 'pagerank_frequency': 0.00035714637630384445, 'num_paper': 4284}, 'vip regimen': {'paragraph_frequency': 391.0, 'degree_frequency': 2734.0, 'pagerank_frequency': 0.00047556335250745896, 'num_paper': 4932}, 'visual': {'paragraph_frequency': 237.0, 'degree_frequency': 1209.0, 'pagerank_frequency': 0.000298647878660975, 'num_paper': 6156}, 'visual cortex': {'paragraph_frequency': 1170.0, 'degree_frequency': 6383.0, 'pagerank_frequency': 0.0008970095474884871, 'num_paper': 20916}, 'vlpfc': {'paragraph_frequency': 260.0, 'degree_frequency': 1774.0, 'pagerank_frequency': 0.00038176328444162165, 'num_paper': 2880}, 'vmpfc': {'paragraph_frequency': 638.0, 'degree_frequency': 3680.0, 'pagerank_frequency': 0.0006201599982903971, 'num_paper': 6336}, 'vns': {'paragraph_frequency': 312.0, 'degree_frequency': 817.0, 'pagerank_frequency': 0.0002502333206317451, 'num_paper': 2124}, 'vta': {'paragraph_frequency': 1655.0, 'degree_frequency': 13443.0, 'pagerank_frequency': 0.0017138896320846187, 'num_paper': 16380}, 'wnt': {'paragraph_frequency': 1527.0, 'degree_frequency': 9640.0, 'pagerank_frequency': 0.001325526016256809, 'num_paper': 23760}, 'zebrafish': {'paragraph_frequency': 3261.0, 'degree_frequency': 14328.0, 'pagerank_frequency': 0.0018364371728738938, 'num_paper': 27504}, 'zikv': {'paragraph_frequency': 328.0, 'degree_frequency': 1312.0, 'pagerank_frequency': 0.0003000354720773011, 'num_paper': 1908}, 'zo -1': {'paragraph_frequency': 346.0, 'degree_frequency': 2375.0, 'pagerank_frequency': 0.0004396387508235079, 'num_paper': 5940}, 'zone': {'paragraph_frequency': 228.0, 'degree_frequency': 2010.0, 'pagerank_frequency': 0.00037992361090497423, 'num_paper': 6948}, 'capillaria': {'paragraph_frequency': 756.0, 'degree_frequency': 3949.0, 'pagerank_frequency': 0.0006107527978214135, 'num_paper': 13788}, 'capillary': {'paragraph_frequency': 811.0, 'degree_frequency': 3924.0, 'pagerank_frequency': 0.0006101281630141006, 'num_paper': 14148}, 'cardiac ventricle': {'paragraph_frequency': 502.0, 'degree_frequency': 2934.0, 'pagerank_frequency': 0.0005006983885512122, 'num_paper': 11376}, 'carotid artery': {'paragraph_frequency': 597.0, 'degree_frequency': 1031.0, 'pagerank_frequency': 0.00029614589528298267, 'num_paper': 10260}, 'caspase-8': {'paragraph_frequency': 270.0, 'degree_frequency': 1533.0, 'pagerank_frequency': 0.0003335449976047025, 'num_paper': 2880}, 'cat': {'paragraph_frequency': 1192.0, 'degree_frequency': 6118.0, 'pagerank_frequency': 0.0008735345439152332, 'num_paper': 21024}, 'caudate nucleus': {'paragraph_frequency': 526.0, 'degree_frequency': 3836.0, 'pagerank_frequency': 0.0006184704068858319, 'num_paper': 12276}, 'caudal': {'paragraph_frequency': 1178.0, 'degree_frequency': 8111.0, 'pagerank_frequency': 0.0011466333422460772, 'num_paper': 24192}, 'cb1': {'paragraph_frequency': 953.0, 'degree_frequency': 5466.0, 'pagerank_frequency': 0.0008241309550923895, 'num_paper': 8100}, 'cbd': {'paragraph_frequency': 297.0, 'degree_frequency': 653.0, 'pagerank_frequency': 0.00023504207935663474, 'num_paper': 3564}, 'cc2': {'paragraph_frequency': 441.0, 'degree_frequency': 2613.0, 'pagerank_frequency': 0.0004426659264489022, 'num_paper': 3348}, 'cck': {'paragraph_frequency': 288.0, 'degree_frequency': 2157.0, 'pagerank_frequency': 0.00040886475782053836, 'num_paper': 4752}, 'ccl5': {'paragraph_frequency': 370.0, 'degree_frequency': 3429.0, 'pagerank_frequency': 0.0005574607947230116, 'num_paper': 8568}, 'cd44': {'paragraph_frequency': 216.0, 'degree_frequency': 1352.0, 'pagerank_frequency': 0.0003149166445654344, 'num_paper': 5328}, 'cea': {'paragraph_frequency': 392.0, 'degree_frequency': 3006.0, 'pagerank_frequency': 0.0005129043232329873, 'num_paper': 4608}, 'cdk': {'paragraph_frequency': 538.0, 'degree_frequency': 3080.0, 'pagerank_frequency': 0.0005187424059559952, 'num_paper': 10080}, 'cdisc send planned pharmacologic target mode of action response terminology': {'paragraph_frequency': 932.0, 'degree_frequency': 7134.0, 'pagerank_frequency': 0.0009600697293834944, 'num_paper': 10260}, 'cellular vesicle': {'paragraph_frequency': 562.0, 'degree_frequency': 3815.0, 'pagerank_frequency': 0.0005855233185928482, 'num_paper': 12600}, 'cellular': {'paragraph_frequency': 750.0, 'degree_frequency': 3718.0, 'pagerank_frequency': 0.0005761679680049395, 'num_paper': 22320}, 'cell bodies': {'paragraph_frequency': 913.0, 'degree_frequency': 7782.0, 'pagerank_frequency': 0.0010435289843324603, 'num_paper': 22896}, 'central amygdala': {'paragraph_frequency': 194.0, 'degree_frequency': 1674.0, 'pagerank_frequency': 0.00034848660741021735, 'num_paper': 5184}, 'center': {'paragraph_frequency': 1082.0, 'degree_frequency': 5880.0, 'pagerank_frequency': 0.0008542225597259101, 'num_paper': 28908}, 'central lobe': {'paragraph_frequency': 2442.0, 'degree_frequency': 13972.0, 'pagerank_frequency': 0.001953729874542594, 'num_paper': 32796}, 'cell': {'paragraph_frequency': 58850.0, 'degree_frequency': 277916.0, 'pagerank_frequency': 0.032510161118170997, 'num_paper': 263052}, 'cells': {'paragraph_frequency': 57833.0, 'degree_frequency': 284979.0, 'pagerank_frequency': 0.033492091294861456, 'num_paper': 258156}, 'cerebellum': {'paragraph_frequency': 6353.0, 'degree_frequency': 35290.0, 'pagerank_frequency': 0.004284633635376231, 'num_paper': 76968}, 'cerebral cortex': {'paragraph_frequency': 4172.0, 'degree_frequency': 30020.0, 'pagerank_frequency': 0.003536199722528411, 'num_paper': 72864}, 'cerebrovascular': {'paragraph_frequency': 310.0, 'degree_frequency': 1345.0, 'pagerank_frequency': 0.0003097486475463115, 'num_paper': 7164}, 'cerebral hemisphere': {'paragraph_frequency': 7155.0, 'degree_frequency': 27077.0, 'pagerank_frequency': 0.0033671073206461904, 'num_paper': 95616}, 'central nervous system': {'paragraph_frequency': 23952.0, 'degree_frequency': 120235.0, 'pagerank_frequency': 0.013899099220115275, 'num_paper': 185004}, 'cerebrospinal fluid': {'paragraph_frequency': 8278.0, 'degree_frequency': 31864.0, 'pagerank_frequency': 0.003883472502535015, 'num_paper': 75240}, 'cgrp': {'paragraph_frequency': 835.0, 'degree_frequency': 4280.0, 'pagerank_frequency': 0.0006798347821957518, 'num_paper': 7740}, 'chat': {'paragraph_frequency': 184.0, 'degree_frequency': 1485.0, 'pagerank_frequency': 0.0003297580007739734, 'num_paper': 3924}, 'child': {'paragraph_frequency': 1076.0, 'degree_frequency': 906.0, 'pagerank_frequency': 0.00026461783887780737, 'num_paper': 17172}, 'chemokine (c-x-c motif) ligand': {'paragraph_frequency': 444.0, 'degree_frequency': 3887.0, 'pagerank_frequency': 0.0006124425026128436, 'num_paper': 10440}, 'chimpanzee': {'paragraph_frequency': 385.0, 'degree_frequency': 876.0, 'pagerank_frequency': 0.0002626720485843626, 'num_paper': 3780}, 'cholinergic neurons': {'paragraph_frequency': 530.0, 'degree_frequency': 4065.0, 'pagerank_frequency': 0.0006148162538396737, 'num_paper': 11700}, 'choroid': {'paragraph_frequency': 439.0, 'degree_frequency': 3122.0, 'pagerank_frequency': 0.0005173925737745822, 'num_paper': 9720}, 'chromosomal insertion': {'paragraph_frequency': 267.0, 'degree_frequency': 2089.0, 'pagerank_frequency': 0.00040277182428896007, 'num_paper': 3744}, 'choroid plexus': {'paragraph_frequency': 512.0, 'degree_frequency': 3810.0, 'pagerank_frequency': 0.0005901655046517407, 'num_paper': 10476}, 'cingulata': {'paragraph_frequency': 331.0, 'degree_frequency': 2181.0, 'pagerank_frequency': 0.0004171904175619853, 'num_paper': 9216}, 'cingulate cortex': {'paragraph_frequency': 432.0, 'degree_frequency': 3046.0, 'pagerank_frequency': 0.0005232591057003399, 'num_paper': 11376}, 'cingulate gyrus': {'paragraph_frequency': 263.0, 'degree_frequency': 1845.0, 'pagerank_frequency': 0.0003914005299708344, 'num_paper': 6264}, 'cingulum': {'paragraph_frequency': 202.0, 'degree_frequency': 982.0, 'pagerank_frequency': 0.0002898266967564641, 'num_paper': 4032}, 'claudin -5': {'paragraph_frequency': 295.0, 'degree_frequency': 2119.0, 'pagerank_frequency': 0.00040525239104348887, 'num_paper': 5724}, 'claustrum': {'paragraph_frequency': 210.0, 'degree_frequency': 1133.0, 'pagerank_frequency': 0.0002895052603982965, 'num_paper': 2088}, 'cntf': {'paragraph_frequency': 272.0, 'degree_frequency': 1848.0, 'pagerank_frequency': 0.0003674833843801113, 'num_paper': 5364}, 'cochlea': {'paragraph_frequency': 1182.0, 'degree_frequency': 3882.0, 'pagerank_frequency': 0.0006242668711419241, 'num_paper': 8568}, 'comt': {'paragraph_frequency': 271.0, 'degree_frequency': 862.0, 'pagerank_frequency': 0.00027310909917438735, 'num_paper': 5148}, 'combretastatin a-1': {'paragraph_frequency': 1789.0, 'degree_frequency': 14081.0, 'pagerank_frequency': 0.0017068696802820707, 'num_paper': 26172}, 'corpus callosum': {'paragraph_frequency': 771.0, 'degree_frequency': 4416.0, 'pagerank_frequency': 0.0006930122866125664, 'num_paper': 15912}, 'cortical plate': {'paragraph_frequency': 215.0, 'degree_frequency': 1963.0, 'pagerank_frequency': 0.0003743569565427358, 'num_paper': 4176}, 'corpus uteri': {'paragraph_frequency': 548.0, 'degree_frequency': 3243.0, 'pagerank_frequency': 0.0005549117279164137, 'num_paper': 12924}, 'cortico': {'paragraph_frequency': 511.0, 'degree_frequency': 3039.0, 'pagerank_frequency': 0.0005065666301453107, 'num_paper': 11304}, 'cortices': {'paragraph_frequency': 783.0, 'degree_frequency': 4690.0, 'pagerank_frequency': 0.0007215510221082358, 'num_paper': 19764}, 'corpus striatum': {'paragraph_frequency': 5221.0, 'degree_frequency': 37954.0, 'pagerank_frequency': 0.004535570005221104, 'num_paper': 71064}, 'cortical neurons': {'paragraph_frequency': 1609.0, 'degree_frequency': 12200.0, 'pagerank_frequency': 0.0015103341618205612, 'num_paper': 35172}, 'corticobasal': {'paragraph_frequency': 189.0, 'degree_frequency': 606.0, 'pagerank_frequency': 0.00021922035343425057, 'num_paper': 4716}, 'corticospinal tract': {'paragraph_frequency': 241.0, 'degree_frequency': 1325.0, 'pagerank_frequency': 0.00031945697577333797, 'num_paper': 6372}, 'corticospinal': {'paragraph_frequency': 503.0, 'degree_frequency': 2105.0, 'pagerank_frequency': 0.00039756569155886834, 'num_paper': 9360}, 'corticoliberin': {'paragraph_frequency': 606.0, 'degree_frequency': 3511.0, 'pagerank_frequency': 0.0005744091839693705, 'num_paper': 8784}, 'covid -19': {'paragraph_frequency': 588.0, 'degree_frequency': 933.0, 'pagerank_frequency': 0.0002930993590186388, 'num_paper': 11160}, 'corticostriatal': {'paragraph_frequency': 310.0, 'degree_frequency': 2335.0, 'pagerank_frequency': 0.000414021520532099, 'num_paper': 5112}, 'covi anxiety scale clinical classification': {'paragraph_frequency': 1984.0, 'degree_frequency': 2549.0, 'pagerank_frequency': 0.0005685645870121655, 'num_paper': 23472}, 'cranial': {'paragraph_frequency': 363.0, 'degree_frequency': 1438.0, 'pagerank_frequency': 0.000329502627538436, 'num_paper': 8424}, 'cox -2': {'paragraph_frequency': 627.0, 'degree_frequency': 4196.0, 'pagerank_frequency': 0.0006597675919780169, 'num_paper': 11232}, 'cr1': {'paragraph_frequency': 598.0, 'degree_frequency': 4325.0, 'pagerank_frequency': 0.0006451128691097711, 'num_paper': 10296}, 'cranial nerve': {'paragraph_frequency': 495.0, 'degree_frequency': 2133.0, 'pagerank_frequency': 0.0004085501685638148, 'num_paper': 10908}, 'csf1r': {'paragraph_frequency': 300.0, 'degree_frequency': 1698.0, 'pagerank_frequency': 0.00034072346064900806, 'num_paper': 4212}, 'cspgs': {'paragraph_frequency': 289.0, 'degree_frequency': 2211.0, 'pagerank_frequency': 0.0004037380106417485, 'num_paper': 3132}, 'cst': {'paragraph_frequency': 250.0, 'degree_frequency': 1365.0, 'pagerank_frequency': 0.00031965131425108566, 'num_paper': 3528}, 'cx3cl1': {'paragraph_frequency': 237.0, 'degree_frequency': 2052.0, 'pagerank_frequency': 0.0003831797119224087, 'num_paper': 5184}, 'cyp': {'paragraph_frequency': 261.0, 'degree_frequency': 886.0, 'pagerank_frequency': 0.00031001137081173625, 'num_paper': 4932}, 'cytochrome p450': {'paragraph_frequency': 431.0, 'degree_frequency': 986.0, 'pagerank_frequency': 0.0003673910303304902, 'num_paper': 6804}, 'cytoskeleton': {'paragraph_frequency': 383.0, 'degree_frequency': 2126.0, 'pagerank_frequency': 0.00040230503781341916, 'num_paper': 9612}, 'd1r': {'paragraph_frequency': 350.0, 'degree_frequency': 2261.0, 'pagerank_frequency': 0.00042214396644342153, 'num_paper': 2988}, 'd2r': {'paragraph_frequency': 392.0, 'degree_frequency': 2205.0, 'pagerank_frequency': 0.0004198535393498074, 'num_paper': 3528}, 'd3r': {'paragraph_frequency': 248.0, 'degree_frequency': 973.0, 'pagerank_frequency': 0.00026603150513089204, 'num_paper': 1008}, 'cytoplasm': {'paragraph_frequency': 5206.0, 'degree_frequency': 29683.0, 'pagerank_frequency': 0.0036241087961940547, 'num_paper': 80064}, 'dacc': {'paragraph_frequency': 266.0, 'degree_frequency': 1735.0, 'pagerank_frequency': 0.0003869833188892932, 'num_paper': 3492}, 'default mode network': {'paragraph_frequency': 240.0, 'degree_frequency': 954.0, 'pagerank_frequency': 0.0002798916050884561, 'num_paper': 6912}, 'datvp regimen': {'paragraph_frequency': 585.0, 'degree_frequency': 3224.0, 'pagerank_frequency': 0.0005238075311800053, 'num_paper': 8424}, 'dendritic cell': {'paragraph_frequency': 1279.0, 'degree_frequency': 8800.0, 'pagerank_frequency': 0.0011851116387810471, 'num_paper': 27684}, 'dendritic spine': {'paragraph_frequency': 928.0, 'degree_frequency': 7361.0, 'pagerank_frequency': 0.0009613154041385949, 'num_paper': 17748}, 'device system': {'paragraph_frequency': 501.0, 'degree_frequency': 2392.0, 'pagerank_frequency': 0.00043366796738519386, 'num_paper': 15480}, 'diencephalon': {'paragraph_frequency': 323.0, 'degree_frequency': 2465.0, 'pagerank_frequency': 0.000440189257366947, 'num_paper': 6624}, 'diptera': {'paragraph_frequency': 1010.0, 'degree_frequency': 4362.0, 'pagerank_frequency': 0.0006920594543973922, 'num_paper': 10656}, 'dentate gyrus': {'paragraph_frequency': 1233.0, 'degree_frequency': 10717.0, 'pagerank_frequency': 0.0013465504512987843, 'num_paper': 26820}, 'dendritic': {'paragraph_frequency': 2769.0, 'degree_frequency': 21075.0, 'pagerank_frequency': 0.0024794830995639792, 'num_paper': 44028}, 'dendrite': {'paragraph_frequency': 4161.0, 'degree_frequency': 32550.0, 'pagerank_frequency': 0.0037568629169699823, 'num_paper': 55980}, 'dmpfc': {'paragraph_frequency': 228.0, 'degree_frequency': 1456.0, 'pagerank_frequency': 0.0003477540899105354, 'num_paper': 3384}, 'dmn': {'paragraph_frequency': 1199.0, 'degree_frequency': 4130.0, 'pagerank_frequency': 0.0007201201272127571, 'num_paper': 10476}, 'dna': {'paragraph_frequency': 716.0, 'degree_frequency': 3215.0, 'pagerank_frequency': 0.0005124015414621782, 'num_paper': 10368}, 'dlpfc': {'paragraph_frequency': 1943.0, 'degree_frequency': 7798.0, 'pagerank_frequency': 0.0011445062279506926, 'num_paper': 14112}, 'dog': {'paragraph_frequency': 1606.0, 'degree_frequency': 4392.0, 'pagerank_frequency': 0.0006766390245071866, 'num_paper': 18828}, 'dorsal anterior cingulate cortex': {'paragraph_frequency': 180.0, 'degree_frequency': 1272.0, 'pagerank_frequency': 0.0003195737977156396, 'num_paper': 5112}, 'dorsal raphe nucleus': {'paragraph_frequency': 233.0, 'degree_frequency': 2161.0, 'pagerank_frequency': 0.00040980924915532996, 'num_paper': 6120}, 'dorsolateral': {'paragraph_frequency': 288.0, 'degree_frequency': 2131.0, 'pagerank_frequency': 0.00041040233699152256, 'num_paper': 7380}, 'dorsal': {'paragraph_frequency': 1416.0, 'degree_frequency': 11023.0, 'pagerank_frequency': 0.0014526885136662573, 'num_paper': 29232}, 'dopamine': {'paragraph_frequency': 2604.0, 'degree_frequency': 14279.0, 'pagerank_frequency': 0.0017981184457078446, 'num_paper': 44028}, 'dorsal root ganglion': {'paragraph_frequency': 740.0, 'degree_frequency': 5458.0, 'pagerank_frequency': 0.0007898634297883904, 'num_paper': 17784}, 'drd2': {'paragraph_frequency': 211.0, 'degree_frequency': 868.0, 'pagerank_frequency': 0.0002620627650252229, 'num_paper': 3816}, 'dopamine hydrochloride': {'paragraph_frequency': 6406.0, 'degree_frequency': 36656.0, 'pagerank_frequency': 0.004347847456851235, 'num_paper': 77724}, 'drn': {'paragraph_frequency': 218.0, 'degree_frequency': 2040.0, 'pagerank_frequency': 0.00039716061185203483, 'num_paper': 3024}, 'drg': {'paragraph_frequency': 1024.0, 'degree_frequency': 7060.0, 'pagerank_frequency': 0.0009780918052868888, 'num_paper': 10692}, 'drosophila melanogaster': {'paragraph_frequency': 386.0, 'degree_frequency': 1890.0, 'pagerank_frequency': 0.00038324164108118086, 'num_paper': 9288}, 'drp1': {'paragraph_frequency': 505.0, 'degree_frequency': 3387.0, 'pagerank_frequency': 0.00055103813474307, 'num_paper': 5760}, 'e3 ubiquitin-protein ligase parkin': {'paragraph_frequency': 1105.0, 'degree_frequency': 6860.0, 'pagerank_frequency': 0.0009616441525805903, 'num_paper': 12276}, 'drosophila': {'paragraph_frequency': 2984.0, 'degree_frequency': 16361.0, 'pagerank_frequency': 0.0020894352715142995, 'num_paper': 28260}, 'electroencephalography': {'paragraph_frequency': 828.0, 'degree_frequency': 365.0, 'pagerank_frequency': 0.00019669395508099824, 'num_paper': 8964}, 'ecs': {'paragraph_frequency': 1200.0, 'degree_frequency': 7186.0, 'pagerank_frequency': 0.0009985361353677228, 'num_paper': 7344}, 'endoplasmic reticulum': {'paragraph_frequency': 1656.0, 'degree_frequency': 9934.0, 'pagerank_frequency': 0.0013195013452373652, 'num_paper': 40824}, 'endothelial cell': {'paragraph_frequency': 4613.0, 'degree_frequency': 29889.0, 'pagerank_frequency': 0.0036212827611260836, 'num_paper': 64692}, 'endothelium': {'paragraph_frequency': 2942.0, 'degree_frequency': 15865.0, 'pagerank_frequency': 0.002042528857459256, 'num_paper': 44856}, 'ependyma': {'paragraph_frequency': 193.0, 'degree_frequency': 1398.0, 'pagerank_frequency': 0.0003160098172251695, 'num_paper': 3420}, 'entorhinal cortex': {'paragraph_frequency': 1020.0, 'degree_frequency': 7635.0, 'pagerank_frequency': 0.0010285924308704203, 'num_paper': 21240}, 'ependymal cell': {'paragraph_frequency': 268.0, 'degree_frequency': 2414.0, 'pagerank_frequency': 0.00042476952593708037, 'num_paper': 5652}, 'epidermal growth factor': {'paragraph_frequency': 822.0, 'degree_frequency': 5530.0, 'pagerank_frequency': 0.0008133298599465176, 'num_paper': 17820}, 'erbeta': {'paragraph_frequency': 211.0, 'degree_frequency': 1266.0, 'pagerank_frequency': 0.0003052480671576624, 'num_paper': 3096}, 'escs': {'paragraph_frequency': 393.0, 'degree_frequency': 2368.0, 'pagerank_frequency': 0.00042191456154986066, 'num_paper': 5904}, 'estrogen receptor': {'paragraph_frequency': 344.0, 'degree_frequency': 1736.0, 'pagerank_frequency': 0.00036965677473812316, 'num_paper': 4752}, 'epithelial': {'paragraph_frequency': 3010.0, 'degree_frequency': 16487.0, 'pagerank_frequency': 0.0021244912323490368, 'num_paper': 48600}, 'excitatory neurons': {'paragraph_frequency': 618.0, 'degree_frequency': 5154.0, 'pagerank_frequency': 0.0007219531216507765, 'num_paper': 14076}, 'femur': {'paragraph_frequency': 193.0, 'degree_frequency': 252.0, 'pagerank_frequency': 0.0001995065481557285, 'num_paper': 3312}, 'fascicle': {'paragraph_frequency': 288.0, 'degree_frequency': 1098.0, 'pagerank_frequency': 0.00031249067959514254, 'num_paper': 5436}, 'excitation': {'paragraph_frequency': 5908.0, 'degree_frequency': 43349.0, 'pagerank_frequency': 0.004987950218290028, 'num_paper': 79272}, 'fibroblast growth factor': {'paragraph_frequency': 252.0, 'degree_frequency': 2293.0, 'pagerank_frequency': 0.0004295443011665638, 'num_paper': 8100}, 'fimaporfin a': {'paragraph_frequency': 662.0, 'degree_frequency': 3949.0, 'pagerank_frequency': 0.0006096093146458239, 'num_paper': 7056}, 'fish flavor': {'paragraph_frequency': 1496.0, 'degree_frequency': 6251.0, 'pagerank_frequency': 0.0009197822139226887, 'num_paper': 15552}, 'fmr1': {'paragraph_frequency': 417.0, 'degree_frequency': 2280.0, 'pagerank_frequency': 0.0004198568041686797, 'num_paper': 4896}, 'fos': {'paragraph_frequency': 356.0, 'degree_frequency': 2023.0, 'pagerank_frequency': 0.00038779641386756526, 'num_paper': 6732}, 'forebrain': {'paragraph_frequency': 1987.0, 'degree_frequency': 15697.0, 'pagerank_frequency': 0.0019588665759763734, 'num_paper': 36000}, 'fronto': {'paragraph_frequency': 504.0, 'degree_frequency': 2198.0, 'pagerank_frequency': 0.0004343002315735891, 'num_paper': 10620}, 'frontal lobe': {'paragraph_frequency': 980.0, 'degree_frequency': 4742.0, 'pagerank_frequency': 0.000740521632746623, 'num_paper': 22860}, 'frontal': {'paragraph_frequency': 2089.0, 'degree_frequency': 9861.0, 'pagerank_frequency': 0.001392630640661566, 'num_paper': 40896}, 'frontoparietal craniotomy': {'paragraph_frequency': 381.0, 'degree_frequency': 1342.0, 'pagerank_frequency': 0.00032630143867728485, 'num_paper': 7128}, 'fus': {'paragraph_frequency': 543.0, 'degree_frequency': 2570.0, 'pagerank_frequency': 0.00045570937615970646, 'num_paper': 6912}, 'gaba _ a': {'paragraph_frequency': 401.0, 'degree_frequency': 2595.0, 'pagerank_frequency': 0.00043592954170386936, 'num_paper': 7632}, 'gabaergic interneurons': {'paragraph_frequency': 685.0, 'degree_frequency': 6207.0, 'pagerank_frequency': 0.0008434553976961723, 'num_paper': 13644}, 'gabaergic neurons': {'paragraph_frequency': 966.0, 'degree_frequency': 8184.0, 'pagerank_frequency': 0.0010792648714020054, 'num_paper': 17856}, 'gabaergic': {'paragraph_frequency': 2835.0, 'degree_frequency': 21414.0, 'pagerank_frequency': 0.002566896449599185, 'num_paper': 39456}, 'gamma': {'paragraph_frequency': 236.0, 'degree_frequency': 1834.0, 'pagerank_frequency': 0.00037249981697278205, 'num_paper': 7596}, 'ganglion cell': {'paragraph_frequency': 276.0, 'degree_frequency': 2262.0, 'pagerank_frequency': 0.00042318968178666654, 'num_paper': 4860}, 'ganglion': {'paragraph_frequency': 909.0, 'degree_frequency': 6082.0, 'pagerank_frequency': 0.0008702850431236281, 'num_paper': 18144}, 'gbm': {'paragraph_frequency': 728.0, 'degree_frequency': 3305.0, 'pagerank_frequency': 0.0005436330559110915, 'num_paper': 4932}, 'gamma-aminobutyric acid': {'paragraph_frequency': 4728.0, 'degree_frequency': 30156.0, 'pagerank_frequency': 0.0036052484335186126, 'num_paper': 61596}, 'gemistocytic neoplastic astrocyte': {'paragraph_frequency': 497.0, 'degree_frequency': 3947.0, 'pagerank_frequency': 0.0005856263265386825, 'num_paper': 9504}, 'generalized anxiety disorder': {'paragraph_frequency': 395.0, 'degree_frequency': 2617.0, 'pagerank_frequency': 0.00044354740904150935, 'num_paper': 7200}, 'gfp': {'paragraph_frequency': 254.0, 'degree_frequency': 1040.0, 'pagerank_frequency': 0.00027086511780917357, 'num_paper': 5616}, 'gfap': {'paragraph_frequency': 1788.0, 'degree_frequency': 14024.0, 'pagerank_frequency': 0.001742055871781634, 'num_paper': 27252}, 'glial fibrillary acidic protein': {'paragraph_frequency': 591.0, 'degree_frequency': 5130.0, 'pagerank_frequency': 0.0007317252354548782, 'num_paper': 18612}, 'globus pallidus': {'paragraph_frequency': 534.0, 'degree_frequency': 4154.0, 'pagerank_frequency': 0.0006376775237678915, 'num_paper': 11664}, 'glt -1': {'paragraph_frequency': 292.0, 'degree_frequency': 2010.0, 'pagerank_frequency': 0.00037205643306625365, 'num_paper': 5004}, 'glial cell': {'paragraph_frequency': 10572.0, 'degree_frequency': 73135.0, 'pagerank_frequency': 0.008271579186311034, 'num_paper': 114984}, 'glutamate measurement': {'paragraph_frequency': 331.0, 'degree_frequency': 3090.0, 'pagerank_frequency': 0.000497413296338843, 'num_paper': 9468}, 'glut4': {'paragraph_frequency': 909.0, 'degree_frequency': 5582.0, 'pagerank_frequency': 0.0007918337543317111, 'num_paper': 14472}, 'glutamatergic neurons': {'paragraph_frequency': 446.0, 'degree_frequency': 3838.0, 'pagerank_frequency': 0.0005879190052025935, 'num_paper': 10440}, 'glycogen synthase kinase 3': {'paragraph_frequency': 194.0, 'degree_frequency': 1609.0, 'pagerank_frequency': 0.00034611606044052524, 'num_paper': 6444}, 'gpe': {'paragraph_frequency': 196.0, 'degree_frequency': 1892.0, 'pagerank_frequency': 0.0003759044865519164, 'num_paper': 2340}, 'gpi': {'paragraph_frequency': 383.0, 'degree_frequency': 2364.0, 'pagerank_frequency': 0.0004393981133236323, 'num_paper': 3996}, 'gpx4': {'paragraph_frequency': 372.0, 'degree_frequency': 1484.0, 'pagerank_frequency': 0.0003210376070959498, 'num_paper': 2412}, 'granule': {'paragraph_frequency': 774.0, 'degree_frequency': 6550.0, 'pagerank_frequency': 0.0008825181356099106, 'num_paper': 13824}, 'grn': {'paragraph_frequency': 239.0, 'degree_frequency': 1020.0, 'pagerank_frequency': 0.00027326674205495013, 'num_paper': 2736}, 'gsk -3beta': {'paragraph_frequency': 459.0, 'degree_frequency': 3279.0, 'pagerank_frequency': 0.0005398389019229961, 'num_paper': 7380}, 'gsk3': {'paragraph_frequency': 246.0, 'degree_frequency': 1655.0, 'pagerank_frequency': 0.00034999962504129827, 'num_paper': 5040}, 'gsk3beta': {'paragraph_frequency': 523.0, 'degree_frequency': 3747.0, 'pagerank_frequency': 0.0006053117559174676, 'num_paper': 9684}, 'habenula': {'paragraph_frequency': 194.0, 'degree_frequency': 1376.0, 'pagerank_frequency': 0.00031317305890285886, 'num_paper': 2880}, 'hair cell': {'paragraph_frequency': 506.0, 'degree_frequency': 2302.0, 'pagerank_frequency': 0.0004302371263045537, 'num_paper': 4068}, 'hamartin': {'paragraph_frequency': 187.0, 'degree_frequency': 1248.0, 'pagerank_frequency': 0.00029803783001394144, 'num_paper': 2772}, 'guinea pig': {'paragraph_frequency': 404.0, 'degree_frequency': 2228.0, 'pagerank_frequency': 0.0004168231798304588, 'num_paper': 7992}, 'hamster': {'paragraph_frequency': 359.0, 'degree_frequency': 1790.0, 'pagerank_frequency': 0.0003670057246923797, 'num_paper': 6804}, 'hippocampal formation': {'paragraph_frequency': 296.0, 'degree_frequency': 2242.0, 'pagerank_frequency': 0.0004076724374747632, 'num_paper': 6660}, 'hla complex': {'paragraph_frequency': 242.0, 'degree_frequency': 1489.0, 'pagerank_frequency': 0.00032245916895498546, 'num_paper': 6048}, 'hpa': {'paragraph_frequency': 544.0, 'degree_frequency': 2450.0, 'pagerank_frequency': 0.00045967672864557927, 'num_paper': 13428}, 'htt': {'paragraph_frequency': 385.0, 'degree_frequency': 1917.0, 'pagerank_frequency': 0.00037588021010207955, 'num_paper': 6048}, 'hippocampus': {'paragraph_frequency': 19671.0, 'degree_frequency': 127179.0, 'pagerank_frequency': 0.01462781389802404, 'num_paper': 161820}, 'huntingtin': {'paragraph_frequency': 526.0, 'degree_frequency': 2920.0, 'pagerank_frequency': 0.0004912132098232214, 'num_paper': 11052}, 'icam -1': {'paragraph_frequency': 326.0, 'degree_frequency': 2732.0, 'pagerank_frequency': 0.000482178634648734, 'num_paper': 7632}, 'hypothalamic neoplasm': {'paragraph_frequency': 2413.0, 'degree_frequency': 14484.0, 'pagerank_frequency': 0.0019068549136569642, 'num_paper': 38916}, 'hypothalamus': {'paragraph_frequency': 3525.0, 'degree_frequency': 25731.0, 'pagerank_frequency': 0.0032342875949285203, 'num_paper': 53244}, 'ido': {'paragraph_frequency': 334.0, 'degree_frequency': 1973.0, 'pagerank_frequency': 0.0003937583168636793, 'num_paper': 4644}, 'human': {'paragraph_frequency': 60756.0, 'degree_frequency': 214535.0, 'pagerank_frequency': 0.02551238925560451, 'num_paper': 337788}, 'ifg': {'paragraph_frequency': 488.0, 'degree_frequency': 2330.0, 'pagerank_frequency': 0.0005013214201537856, 'num_paper': 5184}, 'igf1': {'paragraph_frequency': 198.0, 'degree_frequency': 1384.0, 'pagerank_frequency': 0.00031768875473555774, 'num_paper': 4752}, 'igf -1': {'paragraph_frequency': 809.0, 'degree_frequency': 5046.0, 'pagerank_frequency': 0.0007540079537650692, 'num_paper': 14544}, 'il -1': {'paragraph_frequency': 1099.0, 'degree_frequency': 8272.0, 'pagerank_frequency': 0.0011152389435640014, 'num_paper': 22644}, 'il -10': {'paragraph_frequency': 1563.0, 'degree_frequency': 12601.0, 'pagerank_frequency': 0.0016419796745460586, 'num_paper': 30708}, 'il -2': {'paragraph_frequency': 567.0, 'degree_frequency': 4709.0, 'pagerank_frequency': 0.0007122447721705919, 'num_paper': 12528}, 'il -4': {'paragraph_frequency': 693.0, 'degree_frequency': 5699.0, 'pagerank_frequency': 0.0008280901020094563, 'num_paper': 15372}, 'immune': {'paragraph_frequency': 259.0, 'degree_frequency': 1504.0, 'pagerank_frequency': 0.00032191385247634636, 'num_paper': 7704}, 'il -8': {'paragraph_frequency': 751.0, 'degree_frequency': 6400.0, 'pagerank_frequency': 0.0009142631323340654, 'num_paper': 17496}, 'il -1beta': {'paragraph_frequency': 4067.0, 'degree_frequency': 33593.0, 'pagerank_frequency': 0.004059756982266149, 'num_paper': 52668}, 'il -6': {'paragraph_frequency': 4574.0, 'degree_frequency': 32950.0, 'pagerank_frequency': 0.004035859981760972, 'num_paper': 63864}, 'inferior parietal lobule': {'paragraph_frequency': 257.0, 'degree_frequency': 1568.0, 'pagerank_frequency': 0.00037655462549287784, 'num_paper': 5868}, 'inferior frontal gyrus': {'paragraph_frequency': 682.0, 'degree_frequency': 3647.0, 'pagerank_frequency': 0.0006770217382970694, 'num_paper': 13608}, 'infliximab': {'paragraph_frequency': 225.0, 'degree_frequency': 1862.0, 'pagerank_frequency': 0.0003603853166792, 'num_paper': 5328}, 'immune cell': {'paragraph_frequency': 6563.0, 'degree_frequency': 38655.0, 'pagerank_frequency': 0.004620536828612177, 'num_paper': 80352}, 'inhibitory neurons': {'paragraph_frequency': 663.0, 'degree_frequency': 5187.0, 'pagerank_frequency': 0.0007226418932631386, 'num_paper': 13896}, 'insulin -like growth factor 1': {'paragraph_frequency': 195.0, 'degree_frequency': 1479.0, 'pagerank_frequency': 0.0003312800041525564, 'num_paper': 6300}, 'integrin alpha-m': {'paragraph_frequency': 327.0, 'degree_frequency': 2581.0, 'pagerank_frequency': 0.0004471389151806068, 'num_paper': 8172}, 'interferon-gamma release assay': {'paragraph_frequency': 300.0, 'degree_frequency': 2036.0, 'pagerank_frequency': 0.0003771692333746987, 'num_paper': 6048}, 'inhibition': {'paragraph_frequency': 8730.0, 'degree_frequency': 49281.0, 'pagerank_frequency': 0.005807502872840086, 'num_paper': 121932}, 'interleukin': {'paragraph_frequency': 1070.0, 'degree_frequency': 8176.0, 'pagerank_frequency': 0.0011263574628070075, 'num_paper': 32292}, 'interleukin -6': {'paragraph_frequency': 488.0, 'degree_frequency': 3371.0, 'pagerank_frequency': 0.0005454477900682278, 'num_paper': 15480}, 'interleukin-1': {'paragraph_frequency': 197.0, 'degree_frequency': 1570.0, 'pagerank_frequency': 0.00034084065770860917, 'num_paper': 5544}, 'interleukin 1 beta measurement': {'paragraph_frequency': 728.0, 'degree_frequency': 5912.0, 'pagerank_frequency': 0.0008394233810043723, 'num_paper': 16704}, 'interleukin-6': {'paragraph_frequency': 525.0, 'degree_frequency': 4010.0, 'pagerank_frequency': 0.0006311367268828634, 'num_paper': 12780}, 'interleukin-19': {'paragraph_frequency': 2008.0, 'degree_frequency': 11918.0, 'pagerank_frequency': 0.0015070755829433504, 'num_paper': 36756}, 'ipl': {'paragraph_frequency': 414.0, 'degree_frequency': 2922.0, 'pagerank_frequency': 0.0005505835535172035, 'num_paper': 5328}, 'invertebrate': {'paragraph_frequency': 428.0, 'degree_frequency': 2049.0, 'pagerank_frequency': 0.00039660102556195355, 'num_paper': 7056}, 'intrathalamic route of administration': {'paragraph_frequency': 1478.0, 'degree_frequency': 9211.0, 'pagerank_frequency': 0.0012241714054521268, 'num_paper': 24588}, 'interneuron': {'paragraph_frequency': 2960.0, 'degree_frequency': 23227.0, 'pagerank_frequency': 0.0027605454945278745, 'num_paper': 37836}, 'kainate': {'paragraph_frequency': 236.0, 'degree_frequency': 1748.0, 'pagerank_frequency': 0.00034620770034627616, 'num_paper': 5688}, 'kyna': {'paragraph_frequency': 416.0, 'degree_frequency': 1948.0, 'pagerank_frequency': 0.00038950477056449355, 'num_paper': 1656}, 'kynurenine': {'paragraph_frequency': 207.0, 'degree_frequency': 940.0, 'pagerank_frequency': 0.00026771436168593094, 'num_paper': 3420}, 'lateral': {'paragraph_frequency': 535.0, 'degree_frequency': 3752.0, 'pagerank_frequency': 0.0006211713272805286, 'num_paper': 13392}, 'lateral ventricle': {'paragraph_frequency': 494.0, 'degree_frequency': 4142.0, 'pagerank_frequency': 0.0006314013993047153, 'num_paper': 12564}, 'lhb': {'paragraph_frequency': 342.0, 'degree_frequency': 2127.0, 'pagerank_frequency': 0.0003976520225569385, 'num_paper': 1980}, 'layer': {'paragraph_frequency': 768.0, 'degree_frequency': 6474.0, 'pagerank_frequency': 0.0008927408243860598, 'num_paper': 15264}, 'lenticular nucleus': {'paragraph_frequency': 394.0, 'degree_frequency': 3284.0, 'pagerank_frequency': 0.0005502170537124347, 'num_paper': 10584}, 'limb': {'paragraph_frequency': 1498.0, 'degree_frequency': 8909.0, 'pagerank_frequency': 0.0012194118456547948, 'num_paper': 28692}, 'limbic system': {'paragraph_frequency': 675.0, 'degree_frequency': 4238.0, 'pagerank_frequency': 0.0006527325970556313, 'num_paper': 16956}, 'locus coeruleus': {'paragraph_frequency': 828.0, 'degree_frequency': 6390.0, 'pagerank_frequency': 0.0009012885881771486, 'num_paper': 19332}, 'lymphocyte': {'paragraph_frequency': 881.0, 'degree_frequency': 4522.0, 'pagerank_frequency': 0.0006826595733390622, 'num_paper': 19044}, 'lrr': {'paragraph_frequency': 1700.0, 'degree_frequency': 7879.0, 'pagerank_frequency': 0.0010846160090644324, 'num_paper': 13500}, 'lymphotoxin-beta': {'paragraph_frequency': 583.0, 'degree_frequency': 3531.0, 'pagerank_frequency': 0.0005627277410962951, 'num_paper': 15984}, 'macaque': {'paragraph_frequency': 711.0, 'degree_frequency': 3486.0, 'pagerank_frequency': 0.0005876083977311321, 'num_paper': 10512}, 'mao -b': {'paragraph_frequency': 221.0, 'degree_frequency': 872.0, 'pagerank_frequency': 0.0002564132548444768, 'num_paper': 3420}, 'mapt': {'paragraph_frequency': 530.0, 'degree_frequency': 2766.0, 'pagerank_frequency': 0.0004811184673883763, 'num_paper': 8172}, 'marmoset': {'paragraph_frequency': 242.0, 'degree_frequency': 1218.0, 'pagerank_frequency': 0.0003138081232136966, 'num_paper': 3204}, 'mca': {'paragraph_frequency': 237.0, 'degree_frequency': 529.0, 'pagerank_frequency': 0.0002215571959785983, 'num_paper': 3168}, 'mast cell': {'paragraph_frequency': 501.0, 'degree_frequency': 2966.0, 'pagerank_frequency': 0.0005016297719762912, 'num_paper': 10476}, 'matrix metallopeptidase': {'paragraph_frequency': 656.0, 'degree_frequency': 4890.0, 'pagerank_frequency': 0.0007475000585903879, 'num_paper': 13932}, 'mbp': {'paragraph_frequency': 394.0, 'degree_frequency': 2733.0, 'pagerank_frequency': 0.00047434026858751975, 'num_paper': 7200}, 'mammalia': {'paragraph_frequency': 8807.0, 'degree_frequency': 48536.0, 'pagerank_frequency': 0.005954576022169212, 'num_paper': 111096}, 'mccune-albright syndrome': {'paragraph_frequency': 266.0, 'degree_frequency': 1769.0, 'pagerank_frequency': 0.00035494384786728954, 'num_paper': 5472}, 'mcp -1': {'paragraph_frequency': 512.0, 'degree_frequency': 4524.0, 'pagerank_frequency': 0.0006834875562453727, 'num_paper': 11916}, 'mec': {'paragraph_frequency': 425.0, 'degree_frequency': 2546.0, 'pagerank_frequency': 0.0004405693729259958, 'num_paper': 3528}, 'medial pfc': {'paragraph_frequency': 225.0, 'degree_frequency': 1607.0, 'pagerank_frequency': 0.0003422165231881315, 'num_paper': 4716}, 'mecp2': {'paragraph_frequency': 589.0, 'degree_frequency': 3185.0, 'pagerank_frequency': 0.0005316029811506216, 'num_paper': 6372}, 'medial': {'paragraph_frequency': 556.0, 'degree_frequency': 3868.0, 'pagerank_frequency': 0.0006330920883391784, 'num_paper': 13356}, 'medial orbitofrontal artery': {'paragraph_frequency': 923.0, 'degree_frequency': 6339.0, 'pagerank_frequency': 0.0009334330426760216, 'num_paper': 20736}, 'medial septum': {'paragraph_frequency': 180.0, 'degree_frequency': 1372.0, 'pagerank_frequency': 0.0003060596110569177, 'num_paper': 3168}, 'medial temporal lobe': {'paragraph_frequency': 380.0, 'degree_frequency': 1897.0, 'pagerank_frequency': 0.0003797816783439456, 'num_paper': 9900}, 'medium spiny neurons': {'paragraph_frequency': 224.0, 'degree_frequency': 2011.0, 'pagerank_frequency': 0.0003775132633709887, 'num_paper': 6444}, 'mek': {'paragraph_frequency': 315.0, 'degree_frequency': 2524.0, 'pagerank_frequency': 0.0004709191655339664, 'num_paper': 7272}, 'medulla oblongata': {'paragraph_frequency': 546.0, 'degree_frequency': 4510.0, 'pagerank_frequency': 0.00067811092393462, 'num_paper': 9396}, 'mers -cov': {'paragraph_frequency': 303.0, 'degree_frequency': 1531.0, 'pagerank_frequency': 0.0003313376600679288, 'num_paper': 5292}, 'mesolimbic': {'paragraph_frequency': 498.0, 'degree_frequency': 3299.0, 'pagerank_frequency': 0.0005239372645468842, 'num_paper': 10512}, 'mfg': {'paragraph_frequency': 196.0, 'degree_frequency': 1210.0, 'pagerank_frequency': 0.00033006346887171935, 'num_paper': 2484}, 'mesencephalon': {'paragraph_frequency': 2337.0, 'degree_frequency': 17713.0, 'pagerank_frequency': 0.0021953707841658454, 'num_paper': 43200}, 'membrane': {'paragraph_frequency': 17129.0, 'degree_frequency': 84183.0, 'pagerank_frequency': 0.010031410768585672, 'num_paper': 163800}, 'metabotropic glutamate receptor 3': {'paragraph_frequency': 1206.0, 'degree_frequency': 8575.0, 'pagerank_frequency': 0.0011267274885556182, 'num_paper': 15804}, 'mhtt': {'paragraph_frequency': 222.0, 'degree_frequency': 1464.0, 'pagerank_frequency': 0.00031795909628892023, 'num_paper': 2484}, 'middle': {'paragraph_frequency': 255.0, 'degree_frequency': 1030.0, 'pagerank_frequency': 0.0002880977158974384, 'num_paper': 7704}, 'middle east respiratory syndrome': {'paragraph_frequency': 352.0, 'degree_frequency': 1670.0, 'pagerank_frequency': 0.00034647575355936373, 'num_paper': 7128}, 'middle frontal gyrus': {'paragraph_frequency': 382.0, 'degree_frequency': 2400.0, 'pagerank_frequency': 0.0004977961826004044, 'num_paper': 7992}, 'microtubule': {'paragraph_frequency': 1830.0, 'degree_frequency': 10313.0, 'pagerank_frequency': 0.0013379475202459623, 'num_paper': 29124}, 'middle temporal gyrus': {'paragraph_frequency': 271.0, 'degree_frequency': 1872.0, 'pagerank_frequency': 0.0004174261694517982, 'num_paper': 6516}, 'microglia': {'paragraph_frequency': 18099.0, 'degree_frequency': 113628.0, 'pagerank_frequency': 0.012910167371804433, 'num_paper': 111816}, 'miridesap': {'paragraph_frequency': 450.0, 'degree_frequency': 2983.0, 'pagerank_frequency': 0.000490984825590561, 'num_paper': 2484}, 'mmp -2': {'paragraph_frequency': 200.0, 'degree_frequency': 1410.0, 'pagerank_frequency': 0.0003244831354204545, 'num_paper': 5112}, 'mns': {'paragraph_frequency': 222.0, 'degree_frequency': 1129.0, 'pagerank_frequency': 0.00028173499323681946, 'num_paper': 3708}, 'mitochondrion': {'paragraph_frequency': 15384.0, 'degree_frequency': 71344.0, 'pagerank_frequency': 0.008419781980351317, 'num_paper': 108216}, 'mitogen-activated protein kinase': {'paragraph_frequency': 3729.0, 'degree_frequency': 28478.0, 'pagerank_frequency': 0.0036325073504051464, 'num_paper': 56664}, 'mog': {'paragraph_frequency': 259.0, 'degree_frequency': 1169.0, 'pagerank_frequency': 0.000295991771268441, 'num_paper': 4248}, 'morning': {'paragraph_frequency': 209.0, 'degree_frequency': 1155.0, 'pagerank_frequency': 0.00029784484278418577, 'num_paper': 3744}, 'mor': {'paragraph_frequency': 373.0, 'degree_frequency': 1644.0, 'pagerank_frequency': 0.00035111850774090366, 'num_paper': 2124}, 'monkey': {'paragraph_frequency': 1848.0, 'degree_frequency': 9410.0, 'pagerank_frequency': 0.0012972483420196153, 'num_paper': 29160}, 'motor device': {'paragraph_frequency': 214.0, 'degree_frequency': 1167.0, 'pagerank_frequency': 0.0002993151659025254, 'num_paper': 5616}, 'motor': {'paragraph_frequency': 484.0, 'degree_frequency': 3007.0, 'pagerank_frequency': 0.0005123705178591027, 'num_paper': 13320}, 'monocyte': {'paragraph_frequency': 2944.0, 'degree_frequency': 20037.0, 'pagerank_frequency': 0.002497803898228592, 'num_paper': 47016}, 'motor cortex': {'paragraph_frequency': 1552.0, 'degree_frequency': 8003.0, 'pagerank_frequency': 0.0010890036931277226, 'num_paper': 27540}, 'mrp': {'paragraph_frequency': 503.0, 'degree_frequency': 2696.0, 'pagerank_frequency': 0.0004640542952571822, 'num_paper': 6264}, 'mpfc': {'paragraph_frequency': 1780.0, 'degree_frequency': 11656.0, 'pagerank_frequency': 0.0015437733768408014, 'num_paper': 15912}, 'msc': {'paragraph_frequency': 727.0, 'degree_frequency': 2841.0, 'pagerank_frequency': 0.00047800233774294054, 'num_paper': 5508}, 'motor neuron': {'paragraph_frequency': 3235.0, 'degree_frequency': 17722.0, 'pagerank_frequency': 0.0022020665305008767, 'num_paper': 39456}, 'mtorc1': {'paragraph_frequency': 786.0, 'degree_frequency': 4805.0, 'pagerank_frequency': 0.0007328760520606185, 'num_paper': 10620}, 'muscle cell': {'paragraph_frequency': 480.0, 'degree_frequency': 2234.0, 'pagerank_frequency': 0.00041615154349477427, 'num_paper': 10008}, 'myelin basic protein': {'paragraph_frequency': 197.0, 'degree_frequency': 1483.0, 'pagerank_frequency': 0.0003238709808322288, 'num_paper': 6372}, 'myeloid cell': {'paragraph_frequency': 713.0, 'degree_frequency': 4718.0, 'pagerank_frequency': 0.0006957807496815527, 'num_paper': 14688}, 'mouse': {'paragraph_frequency': 46904.0, 'degree_frequency': 249408.0, 'pagerank_frequency': 0.029218439641778195, 'num_paper': 230400}, 'nan': {'paragraph_frequency': 313.0, 'degree_frequency': 1916.0, 'pagerank_frequency': 0.0003736556009299421, 'num_paper': 4896}, 'nachr': {'paragraph_frequency': 798.0, 'degree_frequency': 4272.0, 'pagerank_frequency': 0.0006575695598280329, 'num_paper': 5724}, 'ncam': {'paragraph_frequency': 234.0, 'degree_frequency': 1873.0, 'pagerank_frequency': 0.0003665349775851943, 'num_paper': 4068}, 'neck': {'paragraph_frequency': 279.0, 'degree_frequency': 716.0, 'pagerank_frequency': 0.00024174336851668493, 'num_paper': 5688}, 'n-methyl-d-aspartate receptor': {'paragraph_frequency': 2321.0, 'degree_frequency': 14885.0, 'pagerank_frequency': 0.001853774003690549, 'num_paper': 23832}, 'nematoda': {'paragraph_frequency': 510.0, 'degree_frequency': 2571.0, 'pagerank_frequency': 0.00046570110254207667, 'num_paper': 8748}, 'nestin': {'paragraph_frequency': 199.0, 'degree_frequency': 1811.0, 'pagerank_frequency': 0.00036173094787932917, 'num_paper': 5076}, 'nervous system': {'paragraph_frequency': 762.0, 'degree_frequency': 3609.0, 'pagerank_frequency': 0.0005841417540307085, 'num_paper': 21780}, 'neural progenitors': {'paragraph_frequency': 297.0, 'degree_frequency': 2250.0, 'pagerank_frequency': 0.0004056441279945364, 'num_paper': 6804}, 'neural': {'paragraph_frequency': 946.0, 'degree_frequency': 4732.0, 'pagerank_frequency': 0.0006870592227027224, 'num_paper': 23436}, 'nerve': {'paragraph_frequency': 9337.0, 'degree_frequency': 41139.0, 'pagerank_frequency': 0.0050191568470184505, 'num_paper': 94932}, 'neural stem cell': {'paragraph_frequency': 1391.0, 'degree_frequency': 10650.0, 'pagerank_frequency': 0.0013433160186278358, 'num_paper': 28260}, 'neuroblast': {'paragraph_frequency': 445.0, 'degree_frequency': 3859.0, 'pagerank_frequency': 0.0005836160867006189, 'num_paper': 7488}, 'neurogenin-1': {'paragraph_frequency': 335.0, 'degree_frequency': 2207.0, 'pagerank_frequency': 0.00040865513465097175, 'num_paper': 4896}, 'neuronal cells': {'paragraph_frequency': 2047.0, 'degree_frequency': 13335.0, 'pagerank_frequency': 0.0016365130332448273, 'num_paper': 45072}, 'neurotrophin-3': {'paragraph_frequency': 5306.0, 'degree_frequency': 33004.0, 'pagerank_frequency': 0.003944947171276001, 'num_paper': 57924}, 'nf1': {'paragraph_frequency': 208.0, 'degree_frequency': 964.0, 'pagerank_frequency': 0.00026919712308380947, 'num_paper': 2484}, 'nfl regimen': {'paragraph_frequency': 626.0, 'degree_frequency': 2212.0, 'pagerank_frequency': 0.0004008448378450169, 'num_paper': 5688}, 'nhp': {'paragraph_frequency': 307.0, 'degree_frequency': 1062.0, 'pagerank_frequency': 0.00029911746022700874, 'num_paper': 2412}, 'ng2': {'paragraph_frequency': 301.0, 'degree_frequency': 2647.0, 'pagerank_frequency': 0.00044932823618452564, 'num_paper': 5544}, 'nhps': {'paragraph_frequency': 265.0, 'degree_frequency': 898.0, 'pagerank_frequency': 0.00027681041112767964, 'num_paper': 1800}, 'ngf': {'paragraph_frequency': 1236.0, 'degree_frequency': 8722.0, 'pagerank_frequency': 0.0011683034576599894, 'num_paper': 17460}, 'neuron': {'paragraph_frequency': 68633.0, 'degree_frequency': 371220.0, 'pagerank_frequency': 0.04257346070506575, 'num_paper': 276156}, 'nissl body': {'paragraph_frequency': 712.0, 'degree_frequency': 5630.0, 'pagerank_frequency': 0.0007726695547502079, 'num_paper': 15480}, 'nkcc1': {'paragraph_frequency': 341.0, 'degree_frequency': 2109.0, 'pagerank_frequency': 0.0003880700474497113, 'num_paper': 3348}, 'nmj': {'paragraph_frequency': 404.0, 'degree_frequency': 2269.0, 'pagerank_frequency': 0.00041821899341670473, 'num_paper': 3060}, 'nitric oxide synthetase': {'paragraph_frequency': 720.0, 'degree_frequency': 6179.0, 'pagerank_frequency': 0.000885664785460059, 'num_paper': 15804}, 'nociceptor': {'paragraph_frequency': 459.0, 'degree_frequency': 2271.0, 'pagerank_frequency': 0.0004191711696316196, 'num_paper': 5688}, 'nnos': {'paragraph_frequency': 251.0, 'degree_frequency': 1953.0, 'pagerank_frequency': 0.00037858962176247465, 'num_paper': 4896}, 'nonmyeloablative allogeneic hematopoietic stem cell transplantation': {'paragraph_frequency': 381.0, 'degree_frequency': 3206.0, 'pagerank_frequency': 0.0005444711953257776, 'num_paper': 4608}, 'npy': {'paragraph_frequency': 509.0, 'degree_frequency': 3597.0, 'pagerank_frequency': 0.0005886859659118946, 'num_paper': 6732}, 'notch': {'paragraph_frequency': 924.0, 'degree_frequency': 5778.0, 'pagerank_frequency': 0.0008458289888169264, 'num_paper': 13284}, 'nr1': {'paragraph_frequency': 190.0, 'degree_frequency': 1406.0, 'pagerank_frequency': 0.0003193013501115537, 'num_paper': 4644}, 'nr2a': {'paragraph_frequency': 356.0, 'degree_frequency': 2959.0, 'pagerank_frequency': 0.000495425748478173, 'num_paper': 6444}, 'nr2b': {'paragraph_frequency': 227.0, 'degree_frequency': 1982.0, 'pagerank_frequency': 0.00038052006569011835, 'num_paper': 5328}, 'nts': {'paragraph_frequency': 620.0, 'degree_frequency': 4377.0, 'pagerank_frequency': 0.0006802166006722981, 'num_paper': 6048}, 'nscs': {'paragraph_frequency': 1537.0, 'degree_frequency': 11307.0, 'pagerank_frequency': 0.0014293823990459455, 'num_paper': 10584}, 'occipital lobe': {'paragraph_frequency': 260.0, 'degree_frequency': 1456.0, 'pagerank_frequency': 0.0003399038996803885, 'num_paper': 6552}, 'occipital': {'paragraph_frequency': 932.0, 'degree_frequency': 4611.0, 'pagerank_frequency': 0.0007353161971254203, 'num_paper': 21384}, 'nuclear pore complex': {'paragraph_frequency': 1412.0, 'degree_frequency': 10163.0, 'pagerank_frequency': 0.0012956177745602985, 'num_paper': 14760}, 'occipital-temporal gyrus': {'paragraph_frequency': 319.0, 'degree_frequency': 1886.0, 'pagerank_frequency': 0.00040631781683495694, 'num_paper': 7164}, 'nuclear': {'paragraph_frequency': 4346.0, 'degree_frequency': 24722.0, 'pagerank_frequency': 0.003081496405661781, 'num_paper': 68112}, 'oculomotor nerve': {'paragraph_frequency': 216.0, 'degree_frequency': 1012.0, 'pagerank_frequency': 0.0002723733842871743, 'num_paper': 4716}, 'nucleus': {'paragraph_frequency': 6571.0, 'degree_frequency': 41683.0, 'pagerank_frequency': 0.005059131100088319, 'num_paper': 105984}, 'ofc': {'paragraph_frequency': 916.0, 'degree_frequency': 5850.0, 'pagerank_frequency': 0.0008842443819396422, 'num_paper': 8316}, 'olfactory nerve': {'paragraph_frequency': 254.0, 'degree_frequency': 2136.0, 'pagerank_frequency': 0.00039374543129284153, 'num_paper': 6084}, 'olfaction': {'paragraph_frequency': 712.0, 'degree_frequency': 5183.0, 'pagerank_frequency': 0.0007546633124972243, 'num_paper': 12708}, 'oligodendrogenesis': {'paragraph_frequency': 307.0, 'degree_frequency': 2253.0, 'pagerank_frequency': 0.0004052381485859877, 'num_paper': 3888}, 'olfactory bulb': {'paragraph_frequency': 1415.0, 'degree_frequency': 11883.0, 'pagerank_frequency': 0.0015096932316801975, 'num_paper': 26424}, 'ols': {'paragraph_frequency': 394.0, 'degree_frequency': 2734.0, 'pagerank_frequency': 0.0004584332395153686, 'num_paper': 2484}, 'oligomeric procyanidin complex': {'paragraph_frequency': 1722.0, 'degree_frequency': 11850.0, 'pagerank_frequency': 0.0014949978336433474, 'num_paper': 10872}, 'oligodendrocyte': {'paragraph_frequency': 4762.0, 'degree_frequency': 35281.0, 'pagerank_frequency': 0.004053845108188998, 'num_paper': 56340}, 'optic nerve': {'paragraph_frequency': 1099.0, 'degree_frequency': 6171.0, 'pagerank_frequency': 0.0008677878702650164, 'num_paper': 15192}, 'osn': {'paragraph_frequency': 295.0, 'degree_frequency': 1663.0, 'pagerank_frequency': 0.0003504933968196221, 'num_paper': 1764}, 'orf7': {'paragraph_frequency': 1023.0, 'degree_frequency': 4356.0, 'pagerank_frequency': 0.0006732382668899089, 'num_paper': 9396}, 'osns': {'paragraph_frequency': 384.0, 'degree_frequency': 2073.0, 'pagerank_frequency': 0.00040110662238030986, 'num_paper': 2016}, 'oxt': {'paragraph_frequency': 283.0, 'degree_frequency': 1207.0, 'pagerank_frequency': 0.0003023620001165945, 'num_paper': 1224}, 'p -': {'paragraph_frequency': 248.0, 'degree_frequency': 1375.0, 'pagerank_frequency': 0.00031903999731659207, 'num_paper': 6300}, 'p-selectin': {'paragraph_frequency': 461.0, 'degree_frequency': 3339.0, 'pagerank_frequency': 0.0005461695519770876, 'num_paper': 11016}, 'pag': {'paragraph_frequency': 520.0, 'degree_frequency': 3862.0, 'pagerank_frequency': 0.0006210673036298734, 'num_paper': 6336}, 'parahippocampal gyrus': {'paragraph_frequency': 313.0, 'degree_frequency': 1995.0, 'pagerank_frequency': 0.00041567879204489804, 'num_paper': 7200}, 'paraneoplastic opsoclonus ataxia': {'paragraph_frequency': 315.0, 'degree_frequency': 1962.0, 'pagerank_frequency': 0.000383824444702888, 'num_paper': 1944}, 'parietal lobe': {'paragraph_frequency': 339.0, 'degree_frequency': 1848.0, 'pagerank_frequency': 0.0003921113152351789, 'num_paper': 8172}, 'park2': {'paragraph_frequency': 232.0, 'degree_frequency': 1512.0, 'pagerank_frequency': 0.0003304247893511247, 'num_paper': 5616}, 'parietal': {'paragraph_frequency': 1549.0, 'degree_frequency': 8039.0, 'pagerank_frequency': 0.001179444141861398, 'num_paper': 30816}, 'pax5': {'paragraph_frequency': 375.0, 'degree_frequency': 2752.0, 'pagerank_frequency': 0.00047607148239808036, 'num_paper': 5544}, 'pcc': {'paragraph_frequency': 452.0, 'degree_frequency': 3099.0, 'pagerank_frequency': 0.0005742611330287245, 'num_paper': 6264}, 'per2': {'paragraph_frequency': 200.0, 'degree_frequency': 1334.0, 'pagerank_frequency': 0.0003340437102113894, 'num_paper': 2592}, 'periaqueductal gray': {'paragraph_frequency': 279.0, 'degree_frequency': 2514.0, 'pagerank_frequency': 0.0004547878195272354, 'num_paper': 6984}, 'peripheral': {'paragraph_frequency': 687.0, 'degree_frequency': 4025.0, 'pagerank_frequency': 0.0006143907279585539, 'num_paper': 18072}, 'pericyte': {'paragraph_frequency': 2211.0, 'degree_frequency': 15334.0, 'pagerank_frequency': 0.001902261169719782, 'num_paper': 27756}, 'peripheral nerve': {'paragraph_frequency': 1568.0, 'degree_frequency': 7148.0, 'pagerank_frequency': 0.0009651569580488872, 'num_paper': 21456}, 'peripheral nervous system': {'paragraph_frequency': 671.0, 'degree_frequency': 4343.0, 'pagerank_frequency': 0.0006403224094392284, 'num_paper': 19440}, 'peripheral nerve stimulation': {'paragraph_frequency': 1636.0, 'degree_frequency': 10224.0, 'pagerank_frequency': 0.0013156863491556605, 'num_paper': 18000}, 'pgc -1alpha': {'paragraph_frequency': 432.0, 'degree_frequency': 2774.0, 'pagerank_frequency': 0.00047802937610033505, 'num_paper': 6156}, 'pineal gland': {'paragraph_frequency': 459.0, 'degree_frequency': 1757.0, 'pagerank_frequency': 0.00036320345069479993, 'num_paper': 6732}, 'piriform cortex': {'paragraph_frequency': 225.0, 'degree_frequency': 1952.0, 'pagerank_frequency': 0.000376185329065165, 'num_paper': 4932}, 'pfc': {'paragraph_frequency': 2973.0, 'degree_frequency': 18658.0, 'pagerank_frequency': 0.0023612062552438406, 'num_paper': 24948}, 'pink1': {'paragraph_frequency': 1082.0, 'degree_frequency': 6717.0, 'pagerank_frequency': 0.0009475526754691781, 'num_paper': 11052}, 'pith': {'paragraph_frequency': 493.0, 'degree_frequency': 3584.0, 'pagerank_frequency': 0.0005756590405397468, 'num_paper': 11340}, 'pituitary gland': {'paragraph_frequency': 1116.0, 'degree_frequency': 5518.0, 'pagerank_frequency': 0.0008372366672953445, 'num_paper': 25092}, 'pnn': {'paragraph_frequency': 194.0, 'degree_frequency': 1508.0, 'pagerank_frequency': 0.00032495796604230503, 'num_paper': 1908}, 'pnns': {'paragraph_frequency': 250.0, 'degree_frequency': 1836.0, 'pagerank_frequency': 0.0003621318427671165, 'num_paper': 1944}, 'platelet': {'paragraph_frequency': 1720.0, 'degree_frequency': 5814.0, 'pagerank_frequency': 0.0008495614836240763, 'num_paper': 25092}, 'pons varolii': {'paragraph_frequency': 376.0, 'degree_frequency': 2750.0, 'pagerank_frequency': 0.00047456704949725, 'num_paper': 9252}, 'pomc': {'paragraph_frequency': 407.0, 'degree_frequency': 2759.0, 'pagerank_frequency': 0.0004841614906553362, 'num_paper': 4500}, 'plasma membrane': {'paragraph_frequency': 3311.0, 'degree_frequency': 18375.0, 'pagerank_frequency': 0.00229898409537944, 'num_paper': 52200}, 'plasma': {'paragraph_frequency': 7378.0, 'degree_frequency': 25349.0, 'pagerank_frequency': 0.003203059316666792, 'num_paper': 98136}, 'posterior': {'paragraph_frequency': 487.0, 'degree_frequency': 2691.0, 'pagerank_frequency': 0.0004985559596247604, 'num_paper': 11916}, 'posterior parietal cortex': {'paragraph_frequency': 206.0, 'degree_frequency': 1182.0, 'pagerank_frequency': 0.0003114563931870747, 'num_paper': 5796}, 'posterior cingulate cortex': {'paragraph_frequency': 752.0, 'degree_frequency': 4999.0, 'pagerank_frequency': 0.0008173288765044378, 'num_paper': 16524}, 'ppc': {'paragraph_frequency': 205.0, 'degree_frequency': 1019.0, 'pagerank_frequency': 0.00028973032859075376, 'num_paper': 2844}, 'postsynaptic membrane': {'paragraph_frequency': 839.0, 'degree_frequency': 6767.0, 'pagerank_frequency': 0.0009091284427113207, 'num_paper': 17568}, 'precentral gyrus': {'paragraph_frequency': 326.0, 'degree_frequency': 1948.0, 'pagerank_frequency': 0.0004312894396203232, 'num_paper': 6804}, 'precuneus': {'paragraph_frequency': 935.0, 'degree_frequency': 5642.0, 'pagerank_frequency': 0.000928569083607042, 'num_paper': 16128}, 'precursor': {'paragraph_frequency': 305.0, 'degree_frequency': 2527.0, 'pagerank_frequency': 0.0004369149904578994, 'num_paper': 9000}, 'primary somatosensory cortex': {'paragraph_frequency': 215.0, 'degree_frequency': 1386.0, 'pagerank_frequency': 0.0003234711370513983, 'num_paper': 5292}, 'primary': {'paragraph_frequency': 218.0, 'degree_frequency': 1552.0, 'pagerank_frequency': 0.00032986847461020333, 'num_paper': 7056}, 'primary motor cortex': {'paragraph_frequency': 865.0, 'degree_frequency': 4598.0, 'pagerank_frequency': 0.0007360552682092699, 'num_paper': 17388}, 'presynaptic knob': {'paragraph_frequency': 1598.0, 'degree_frequency': 11970.0, 'pagerank_frequency': 0.0014998380343685573, 'num_paper': 28368}, 'primary visual cortex': {'paragraph_frequency': 375.0, 'degree_frequency': 2282.0, 'pagerank_frequency': 0.00041670154934368464, 'num_paper': 8640}, 'prefrontal cortex': {'paragraph_frequency': 7786.0, 'degree_frequency': 45281.0, 'pagerank_frequency': 0.005566987507006529, 'num_paper': 106200}, 'primate': {'paragraph_frequency': 435.0, 'degree_frequency': 1685.0, 'pagerank_frequency': 0.00035977450325284303, 'num_paper': 6480}, 'process': {'paragraph_frequency': 262.0, 'degree_frequency': 2139.0, 'pagerank_frequency': 0.00038778842041075517, 'num_paper': 6912}, 'projection': {'paragraph_frequency': 464.0, 'degree_frequency': 3796.0, 'pagerank_frequency': 0.000585429214505438, 'num_paper': 9396}, 'protein kinase b': {'paragraph_frequency': 270.0, 'degree_frequency': 2516.0, 'pagerank_frequency': 0.00045674491853311445, 'num_paper': 8712}, 'prp': {'paragraph_frequency': 464.0, 'degree_frequency': 1874.0, 'pagerank_frequency': 0.0003622142296557108, 'num_paper': 4464}, 'ps1': {'paragraph_frequency': 507.0, 'degree_frequency': 3887.0, 'pagerank_frequency': 0.000584564224187198, 'num_paper': 10152}, 'psd -95': {'paragraph_frequency': 287.0, 'degree_frequency': 2428.0, 'pagerank_frequency': 0.00042771346449661053, 'num_paper': 5580}, 'psen1': {'paragraph_frequency': 492.0, 'degree_frequency': 2907.0, 'pagerank_frequency': 0.0004990420644543108, 'num_paper': 7992}, 'psen2': {'paragraph_frequency': 295.0, 'degree_frequency': 1725.0, 'pagerank_frequency': 0.0003558100922894801, 'num_paper': 5688}, 'purkinje cell': {'paragraph_frequency': 336.0, 'degree_frequency': 2486.0, 'pagerank_frequency': 0.00042261128779447535, 'num_paper': 5796}, 'pvt': {'paragraph_frequency': 186.0, 'degree_frequency': 1433.0, 'pagerank_frequency': 0.00032176017401536097, 'num_paper': 1584}, 'putamen': {'paragraph_frequency': 1164.0, 'degree_frequency': 8019.0, 'pagerank_frequency': 0.0011346199179347429, 'num_paper': 20376}, 'pvn': {'paragraph_frequency': 663.0, 'degree_frequency': 5117.0, 'pagerank_frequency': 0.0007745727761042892, 'num_paper': 6480}, 'raas': {'paragraph_frequency': 856.0, 'degree_frequency': 5619.0, 'pagerank_frequency': 0.0008534463134602128, 'num_paper': 16164}, 'pyramidal neuron': {'paragraph_frequency': 5179.0, 'degree_frequency': 42921.0, 'pagerank_frequency': 0.0015783007935828543, 'num_paper': 34632}, 'radial glia': {'paragraph_frequency': 297.0, 'degree_frequency': 2763.0, 'pagerank_frequency': 0.00046149957652051127, 'num_paper': 5580}, 'rac1': {'paragraph_frequency': 388.0, 'degree_frequency': 2639.0, 'pagerank_frequency': 0.0004698322154915009, 'num_paper': 6516}, 'rabbit': {'paragraph_frequency': 900.0, 'degree_frequency': 4551.0, 'pagerank_frequency': 0.0006989168842309996, 'num_paper': 18828}, 'radiation arc': {'paragraph_frequency': 578.0, 'degree_frequency': 4498.0, 'pagerank_frequency': 0.0006895365891373894, 'num_paper': 7560}, 'raphe nuclei': {'paragraph_frequency': 398.0, 'degree_frequency': 3365.0, 'pagerank_frequency': 0.0005475231703450916, 'num_paper': 9432}, 'rbp': {'paragraph_frequency': 252.0, 'degree_frequency': 1171.0, 'pagerank_frequency': 0.0002850209705502791, 'num_paper': 3420}, 'reelin': {'paragraph_frequency': 207.0, 'degree_frequency': 1466.0, 'pagerank_frequency': 0.00031912566531904055, 'num_paper': 3996}, 'receptor': {'paragraph_frequency': 821.0, 'degree_frequency': 5150.0, 'pagerank_frequency': 0.0007670224567389967, 'num_paper': 23436}, 'reptiles': {'paragraph_frequency': 211.0, 'degree_frequency': 1579.0, 'pagerank_frequency': 0.00034313373270108516, 'num_paper': 3564}, 'rat': {'paragraph_frequency': 20889.0, 'degree_frequency': 109221.0, 'pagerank_frequency': 0.012847098855533647, 'num_paper': 170028}, 'retina': {'paragraph_frequency': 3490.0, 'degree_frequency': 19442.0, 'pagerank_frequency': 0.002437550632082766, 'num_paper': 30960}, 'renal cortex': {'paragraph_frequency': 16943.0, 'degree_frequency': 82049.0, 'pagerank_frequency': 0.009696796598975274, 'num_paper': 159048}, 'retinal ganglion': {'paragraph_frequency': 574.0, 'degree_frequency': 4559.0, 'pagerank_frequency': 0.0006714504861408787, 'num_paper': 12924}, 'retinal': {'paragraph_frequency': 4648.0, 'degree_frequency': 21052.0, 'pagerank_frequency': 0.002646796824594043, 'num_paper': 31932}, 'rgc': {'paragraph_frequency': 337.0, 'degree_frequency': 2759.0, 'pagerank_frequency': 0.00046544416422264137, 'num_paper': 4716}, 'rnfl': {'paragraph_frequency': 203.0, 'degree_frequency': 917.0, 'pagerank_frequency': 0.0002593818034476, 'num_paper': 1656}, 'rhesus monkey': {'paragraph_frequency': 354.0, 'degree_frequency': 1779.0, 'pagerank_frequency': 0.00037260404312833197, 'num_paper': 7272}, 'rgcs': {'paragraph_frequency': 1127.0, 'degree_frequency': 8071.0, 'pagerank_frequency': 0.0010886291146540953, 'num_paper': 10620}, 'rhoa': {'paragraph_frequency': 353.0, 'degree_frequency': 2577.0, 'pagerank_frequency': 0.00046875874301253794, 'num_paper': 6840}, 's100': {'paragraph_frequency': 397.0, 'degree_frequency': 2411.0, 'pagerank_frequency': 0.00042721592654310444, 'num_paper': 7164}, 'rostral': {'paragraph_frequency': 628.0, 'degree_frequency': 4699.0, 'pagerank_frequency': 0.0007117117814050336, 'num_paper': 13320}, 'sars -cov': {'paragraph_frequency': 3786.0, 'degree_frequency': 13279.0, 'pagerank_frequency': 0.0017451636649532948, 'num_paper': 26280}, 'sars -cov -2': {'paragraph_frequency': 1693.0, 'degree_frequency': 8108.0, 'pagerank_frequency': 0.001095278087001639, 'num_paper': 16632}, 'rodentia': {'paragraph_frequency': 12477.0, 'degree_frequency': 60253.0, 'pagerank_frequency': 0.007083318562740325, 'num_paper': 125856}, 'sars coronavirus': {'paragraph_frequency': 4444.0, 'degree_frequency': 14343.0, 'pagerank_frequency': 0.0019043741318220703, 'num_paper': 30780}, 'sars-cov-2': {'paragraph_frequency': 2731.0, 'degree_frequency': 11498.0, 'pagerank_frequency': 0.0015270781447194702, 'num_paper': 23940}, 'schwann cell': {'paragraph_frequency': 1091.0, 'degree_frequency': 7205.0, 'pagerank_frequency': 0.0009622477502674433, 'num_paper': 14508}, 'scn': {'paragraph_frequency': 887.0, 'degree_frequency': 4828.0, 'pagerank_frequency': 0.0007619168210072039, 'num_paper': 6228}, 'senescence': {'paragraph_frequency': 225.0, 'degree_frequency': 1132.0, 'pagerank_frequency': 0.00027353186520733506, 'num_paper': 2844}, 'semaphorin-3e': {'paragraph_frequency': 233.0, 'degree_frequency': 1685.0, 'pagerank_frequency': 0.0003428189237580418, 'num_paper': 3132}, 'sensorimotor cortex': {'paragraph_frequency': 399.0, 'degree_frequency': 1916.0, 'pagerank_frequency': 0.0003835020028528462, 'num_paper': 9144}, 'serine/threonine-protein kinase ick': {'paragraph_frequency': 375.0, 'degree_frequency': 2368.0, 'pagerank_frequency': 0.000433769934359503, 'num_paper': 5760}, 'sensory': {'paragraph_frequency': 372.0, 'degree_frequency': 2625.0, 'pagerank_frequency': 0.0004588944307504104, 'num_paper': 10008}, 'serotonergic neurons': {'paragraph_frequency': 249.0, 'degree_frequency': 1856.0, 'pagerank_frequency': 0.00036901195092894885, 'num_paper': 6408}, 'serine/threonine-protein kinase mtor': {'paragraph_frequency': 1505.0, 'degree_frequency': 10001.0, 'pagerank_frequency': 0.0013575267560468687, 'num_paper': 24012}, 'serotonergic': {'paragraph_frequency': 825.0, 'degree_frequency': 4977.0, 'pagerank_frequency': 0.0007351032925734459, 'num_paper': 18144}, 'sensory neuron': {'paragraph_frequency': 2105.0, 'degree_frequency': 13263.0, 'pagerank_frequency': 0.0017196211197086785, 'num_paper': 28260}, 'shank': {'paragraph_frequency': 243.0, 'degree_frequency': 1779.0, 'pagerank_frequency': 0.00035670142122901365, 'num_paper': 3708}, 'sgz': {'paragraph_frequency': 279.0, 'degree_frequency': 2754.0, 'pagerank_frequency': 0.00045881142924614486, 'num_paper': 3600}, 'shh': {'paragraph_frequency': 319.0, 'degree_frequency': 2167.0, 'pagerank_frequency': 0.0004077890888573565, 'num_paper': 5148}, 'sheep': {'paragraph_frequency': 714.0, 'degree_frequency': 3181.0, 'pagerank_frequency': 0.0005404156902335749, 'num_paper': 9684}, 'sharp van der heijde joint space narrowing score': {'paragraph_frequency': 864.0, 'degree_frequency': 6522.0, 'pagerank_frequency': 0.0008838227171726176, 'num_paper': 9108}, 'signal to noise ratio': {'paragraph_frequency': 224.0, 'degree_frequency': 2023.0, 'pagerank_frequency': 0.00039156154279465245, 'num_paper': 2484}, 'slc': {'paragraph_frequency': 208.0, 'degree_frequency': 785.0, 'pagerank_frequency': 0.00026180455881605563, 'num_paper': 3888}, 'skin vesicle': {'paragraph_frequency': 466.0, 'degree_frequency': 2783.0, 'pagerank_frequency': 0.00047433796684713856, 'num_paper': 8892}, 'smn': {'paragraph_frequency': 367.0, 'degree_frequency': 1504.0, 'pagerank_frequency': 0.00035358086746921326, 'num_paper': 3024}, 'sma': {'paragraph_frequency': 641.0, 'degree_frequency': 3217.0, 'pagerank_frequency': 0.0005782963400994666, 'num_paper': 7956}, 'snc': {'paragraph_frequency': 492.0, 'degree_frequency': 4027.0, 'pagerank_frequency': 0.0006107573841297051, 'num_paper': 5832}, 'snca': {'paragraph_frequency': 619.0, 'degree_frequency': 3199.0, 'pagerank_frequency': 0.0005322213652378415, 'num_paper': 9108}, 'smooth muscle cell': {'paragraph_frequency': 458.0, 'degree_frequency': 3097.0, 'pagerank_frequency': 0.0005183511259634348, 'num_paper': 11628}, 'sns': {'paragraph_frequency': 362.0, 'degree_frequency': 1682.0, 'pagerank_frequency': 0.00035896065031829224, 'num_paper': 3564}, 'somatic': {'paragraph_frequency': 1391.0, 'degree_frequency': 7988.0, 'pagerank_frequency': 0.0010667134775665407, 'num_paper': 27756}, 'soma': {'paragraph_frequency': 1281.0, 'degree_frequency': 10243.0, 'pagerank_frequency': 0.0012812227828982896, 'num_paper': 24768}, 'somatosensory cortex': {'paragraph_frequency': 539.0, 'degree_frequency': 3837.0, 'pagerank_frequency': 0.000591356570455479, 'num_paper': 12276}, 'spinal': {'paragraph_frequency': 255.0, 'degree_frequency': 1508.0, 'pagerank_frequency': 0.0003297961330003266, 'num_paper': 6948}, 'sst': {'paragraph_frequency': 238.0, 'degree_frequency': 2062.0, 'pagerank_frequency': 0.00038264978625995036, 'num_paper': 2880}, 'stem': {'paragraph_frequency': 310.0, 'degree_frequency': 1706.0, 'pagerank_frequency': 0.0003455485675305954, 'num_paper': 8820}, 'stg': {'paragraph_frequency': 261.0, 'degree_frequency': 1256.0, 'pagerank_frequency': 0.0003376880616685038, 'num_paper': 3348}, 'stem cell': {'paragraph_frequency': 2585.0, 'degree_frequency': 15369.0, 'pagerank_frequency': 0.0019295954281713836, 'num_paper': 46908}, 'stn': {'paragraph_frequency': 803.0, 'degree_frequency': 3512.0, 'pagerank_frequency': 0.0005769185627627313, 'num_paper': 5796}, 'striatin': {'paragraph_frequency': 3019.0, 'degree_frequency': 19922.0, 'pagerank_frequency': 0.00243809997995277, 'num_paper': 42768}, 'abeta1': {'paragraph_frequency': 208.0, 'degree_frequency': 1313.0, 'pagerank_frequency': 0.000295423435527562, 'num_paper': 4680}, 'abeta40': {'paragraph_frequency': 397.0, 'degree_frequency': 2119.0, 'pagerank_frequency': 0.00038535354517751577, 'num_paper': 6516}, '5 -ht': {'paragraph_frequency': 318.0, 'degree_frequency': 1529.0, 'pagerank_frequency': 0.0003310698155951974, 'num_paper': 4356}, 'accumbens nucleus': {'paragraph_frequency': 637.0, 'degree_frequency': 6123.0, 'pagerank_frequency': 0.0008800105440137148, 'num_paper': 16020}, 'acc': {'paragraph_frequency': 1680.0, 'degree_frequency': 10254.0, 'pagerank_frequency': 0.0014451018818289396, 'num_paper': 16776}, 'ace -2': {'paragraph_frequency': 229.0, 'degree_frequency': 1291.0, 'pagerank_frequency': 0.0002988907537683139, 'num_paper': 3456}, 'ache': {'paragraph_frequency': 365.0, 'degree_frequency': 1475.0, 'pagerank_frequency': 0.00033020317437333754, 'num_paper': 4932}, 'abeta': {'paragraph_frequency': 11073.0, 'degree_frequency': 54313.0, 'pagerank_frequency': 0.006300485541569949, 'num_paper': 54576}, 'acoli language': {'paragraph_frequency': 193.0, 'degree_frequency': 1118.0, 'pagerank_frequency': 0.00028454076843105935, 'num_paper': 3456}, 'acetylcysteine': {'paragraph_frequency': 1904.0, 'degree_frequency': 13171.0, 'pagerank_frequency': 0.001696996361174704, 'num_paper': 14184}, 'acid': {'paragraph_frequency': 1047.0, 'degree_frequency': 5688.0, 'pagerank_frequency': 0.0008232478859898573, 'num_paper': 29556}, 'actin': {'paragraph_frequency': 623.0, 'degree_frequency': 2962.0, 'pagerank_frequency': 0.0005076908435207967, 'num_paper': 10404}, 'adrenal gland': {'paragraph_frequency': 367.0, 'degree_frequency': 1910.0, 'pagerank_frequency': 0.00039185837192972885, 'num_paper': 10908}, 'adrenal medulla': {'paragraph_frequency': 252.0, 'degree_frequency': 1416.0, 'pagerank_frequency': 0.00032136822076986137, 'num_paper': 6624}, 'adrenergic agent': {'paragraph_frequency': 540.0, 'degree_frequency': 3322.0, 'pagerank_frequency': 0.0005417195464838353, 'num_paper': 12636}, 'afferent': {'paragraph_frequency': 362.0, 'degree_frequency': 2390.0, 'pagerank_frequency': 0.0004316227358951654, 'num_paper': 7956}, 'afferents': {'paragraph_frequency': 278.0, 'degree_frequency': 1945.0, 'pagerank_frequency': 0.00038185418215677176, 'num_paper': 5148}, 'agrp': {'paragraph_frequency': 281.0, 'degree_frequency': 2055.0, 'pagerank_frequency': 0.00039938851205133133, 'num_paper': 3096}, 'albumin': {'paragraph_frequency': 214.0, 'degree_frequency': 1841.0, 'pagerank_frequency': 0.0003614167491931442, 'num_paper': 5436}, 'alpha -syn': {'paragraph_frequency': 348.0, 'degree_frequency': 2194.0, 'pagerank_frequency': 0.0003957140636321438, 'num_paper': 4356}, 'alpha synuclein protein measurement': {'paragraph_frequency': 270.0, 'degree_frequency': 980.0, 'pagerank_frequency': 0.000259985573252994, 'num_paper': 1800}, 'akt': {'paragraph_frequency': 2965.0, 'degree_frequency': 22890.0, 'pagerank_frequency': 0.0029422274550363814, 'num_paper': 44028}, 'alpha -synuclein': {'paragraph_frequency': 2964.0, 'degree_frequency': 16198.0, 'pagerank_frequency': 0.0020011006463147183, 'num_paper': 35136}, 'aminobutyric acid': {'paragraph_frequency': 251.0, 'degree_frequency': 1962.0, 'pagerank_frequency': 0.0003823389051884759, 'num_paper': 8460}, 'amphibia': {'paragraph_frequency': 288.0, 'degree_frequency': 1760.0, 'pagerank_frequency': 0.00037107538219781816, 'num_paper': 5292}, 'ampars': {'paragraph_frequency': 662.0, 'degree_frequency': 5347.0, 'pagerank_frequency': 0.0007535038991539889, 'num_paper': 6876}, 'ampar': {'paragraph_frequency': 885.0, 'degree_frequency': 7019.0, 'pagerank_frequency': 0.0009468366077499514, 'num_paper': 10116}, 'ampa': {'paragraph_frequency': 1260.0, 'degree_frequency': 10001.0, 'pagerank_frequency': 0.0012858490898206955, 'num_paper': 25308}, 'amphiphysin': {'paragraph_frequency': 1190.0, 'degree_frequency': 7374.0, 'pagerank_frequency': 0.0010623161996857198, 'num_paper': 17280}, 'amyloid beta precursor protein measurement': {'paragraph_frequency': 579.0, 'degree_frequency': 3970.0, 'pagerank_frequency': 0.0006047066690962427, 'num_paper': 17820}, 'ancestor': {'paragraph_frequency': 264.0, 'degree_frequency': 2005.0, 'pagerank_frequency': 0.00038082992356696055, 'num_paper': 6480}, 'angiotensin -converting enzyme 2': {'paragraph_frequency': 334.0, 'degree_frequency': 2483.0, 'pagerank_frequency': 0.00043980302145358826, 'num_paper': 9072}, 'amygdala': {'paragraph_frequency': 5745.0, 'degree_frequency': 36584.0, 'pagerank_frequency': 0.004511126004917317, 'num_paper': 69732}, 'angular gyrus': {'paragraph_frequency': 236.0, 'degree_frequency': 1518.0, 'pagerank_frequency': 0.0003705469467885346, 'num_paper': 5544}, 'animal': {'paragraph_frequency': 917.0, 'degree_frequency': 1798.0, 'pagerank_frequency': 0.0003782002525361994, 'num_paper': 17676}, 'angiotensin-converting enzyme 2': {'paragraph_frequency': 2566.0, 'degree_frequency': 13928.0, 'pagerank_frequency': 0.0017949181146826412, 'num_paper': 20268}, 'anterior': {'paragraph_frequency': 506.0, 'degree_frequency': 3092.0, 'pagerank_frequency': 0.0005496725890182052, 'num_paper': 13680}, 'anterior insula': {'paragraph_frequency': 466.0, 'degree_frequency': 2499.0, 'pagerank_frequency': 0.00048143722530994136, 'num_paper': 9936}, 'anterior cingulate cortex': {'paragraph_frequency': 1567.0, 'degree_frequency': 10635.0, 'pagerank_frequency': 0.0014689656119369926, 'num_paper': 33012}, 'apical': {'paragraph_frequency': 394.0, 'degree_frequency': 2950.0, 'pagerank_frequency': 0.0004943465569862693, 'num_paper': 7596}, 'anticholinergic agent': {'paragraph_frequency': 2006.0, 'degree_frequency': 12379.0, 'pagerank_frequency': 0.001605081050207757, 'num_paper': 31860}, 'antibody': {'paragraph_frequency': 2530.0, 'degree_frequency': 13732.0, 'pagerank_frequency': 0.0017131206314224203, 'num_paper': 55692}, 'apoe': {'paragraph_frequency': 2150.0, 'degree_frequency': 9643.0, 'pagerank_frequency': 0.001270657226330979, 'num_paper': 26532}, 'aqp4': {'paragraph_frequency': 1024.0, 'degree_frequency': 5006.0, 'pagerank_frequency': 0.0007297943777225635, 'num_paper': 8316}, 'app': {'paragraph_frequency': 3617.0, 'degree_frequency': 22781.0, 'pagerank_frequency': 0.0027466525034086846, 'num_paper': 36108}, 'area': {'paragraph_frequency': 191.0, 'degree_frequency': 1131.0, 'pagerank_frequency': 0.00029348118481568365, 'num_paper': 4428}, 'ascl1': {'paragraph_frequency': 313.0, 'degree_frequency': 2340.0, 'pagerank_frequency': 0.00042205481177671274, 'num_paper': 3564}, 'atypical glandular cell of undetermined significance': {'paragraph_frequency': 191.0, 'degree_frequency': 1066.0, 'pagerank_frequency': 0.0002806290581999039, 'num_paper': 4464}, 'auditory': {'paragraph_frequency': 474.0, 'degree_frequency': 2011.0, 'pagerank_frequency': 0.00039233808027399155, 'num_paper': 7488}, 'astrocytic': {'paragraph_frequency': 2896.0, 'degree_frequency': 20425.0, 'pagerank_frequency': 0.0024078728080276523, 'num_paper': 35244}, 'astrocyte': {'paragraph_frequency': 15098.0, 'degree_frequency': 105764.0, 'pagerank_frequency': 0.01192277985797389, 'num_paper': 111780}, 'auditory cortex': {'paragraph_frequency': 649.0, 'degree_frequency': 3076.0, 'pagerank_frequency': 0.0005238383003485502, 'num_paper': 9720}, 'autonomic nervous system': {'paragraph_frequency': 273.0, 'degree_frequency': 984.0, 'pagerank_frequency': 0.00027260742707167085, 'num_paper': 4644}, 'avp': {'paragraph_frequency': 231.0, 'degree_frequency': 1206.0, 'pagerank_frequency': 0.00030133960283632537, 'num_paper': 3060}, 'aves': {'paragraph_frequency': 924.0, 'degree_frequency': 4228.0, 'pagerank_frequency': 0.0006755005489822647, 'num_paper': 14472}, 'b-lymphocyte': {'paragraph_frequency': 1353.0, 'degree_frequency': 7539.0, 'pagerank_frequency': 0.0010646049336494893, 'num_paper': 19332}, 'basal': {'paragraph_frequency': 256.0, 'degree_frequency': 2047.0, 'pagerank_frequency': 0.00038823626295717326, 'num_paper': 6696}, 'axon': {'paragraph_frequency': 14225.0, 'degree_frequency': 89556.0, 'pagerank_frequency': 0.010294555083318262, 'num_paper': 131004}, 'bats': {'paragraph_frequency': 306.0, 'degree_frequency': 1125.0, 'pagerank_frequency': 0.0002904059599065209, 'num_paper': 5112}, 'bat': {'paragraph_frequency': 372.0, 'degree_frequency': 1619.0, 'pagerank_frequency': 0.0003551306576249604, 'num_paper': 5148}, 'basolateral amygdala': {'paragraph_frequency': 343.0, 'degree_frequency': 3185.0, 'pagerank_frequency': 0.0005209769331042699, 'num_paper': 9000}, 'bark': {'paragraph_frequency': 6343.0, 'degree_frequency': 43126.0, 'pagerank_frequency': 0.005033517005483606, 'num_paper': 100044}, 'basal ganglia': {'paragraph_frequency': 2607.0, 'degree_frequency': 16070.0, 'pagerank_frequency': 0.002061363154780887, 'num_paper': 43524}, 'bax': {'paragraph_frequency': 603.0, 'degree_frequency': 4589.0, 'pagerank_frequency': 0.0006984326999004873, 'num_paper': 12492}, 'bed nucleus of the stria terminalis': {'paragraph_frequency': 229.0, 'degree_frequency': 2266.0, 'pagerank_frequency': 0.00042619375593954263, 'num_paper': 5652}, 'bipolar cells': {'paragraph_frequency': 241.0, 'degree_frequency': 2007.0, 'pagerank_frequency': 0.00038435725768748923, 'num_paper': 3888}, 'biliary': {'paragraph_frequency': 268.0, 'degree_frequency': 1441.0, 'pagerank_frequency': 0.00032775394697214053, 'num_paper': 3636}, 'blackfoot language': {'paragraph_frequency': 600.0, 'degree_frequency': 4694.0, 'pagerank_frequency': 0.0006943977048600206, 'num_paper': 5976}, 'blade': {'paragraph_frequency': 372.0, 'degree_frequency': 2377.0, 'pagerank_frequency': 0.0004291779904548786, 'num_paper': 7632}, 'bold regimen': {'paragraph_frequency': 254.0, 'degree_frequency': 178.0, 'pagerank_frequency': 0.00017360652394653877, 'num_paper': 2376}, 'bmal1': {'paragraph_frequency': 329.0, 'degree_frequency': 2143.0, 'pagerank_frequency': 0.0004434908345693084, 'num_paper': 3744}, 'blood': {'paragraph_frequency': 792.0, 'degree_frequency': 3485.0, 'pagerank_frequency': 0.0005605772265681408, 'num_paper': 19152}, 'boutons': {'paragraph_frequency': 269.0, 'degree_frequency': 2276.0, 'pagerank_frequency': 0.00040206620371810816, 'num_paper': 5580}, 'brain ventricle': {'paragraph_frequency': 472.0, 'degree_frequency': 2892.0, 'pagerank_frequency': 0.0004920249182440581, 'num_paper': 11412}, 'body': {'paragraph_frequency': 11896.0, 'degree_frequency': 34575.0, 'pagerank_frequency': 0.004262954626762426, 'num_paper': 170496}, 'brain -derived neurotrophic factor': {'paragraph_frequency': 1181.0, 'degree_frequency': 9132.0, 'pagerank_frequency': 0.001188224712475884, 'num_paper': 35388}, 'brain': {'paragraph_frequency': 1665.0, 'degree_frequency': 10745.0, 'pagerank_frequency': 0.0013953105111027058, 'num_paper': 37188}, 'c -fos': {'paragraph_frequency': 500.0, 'degree_frequency': 3252.0, 'pagerank_frequency': 0.0005362635988892129, 'num_paper': 10980}, 'brain stem': {'paragraph_frequency': 3634.0, 'degree_frequency': 23148.0, 'pagerank_frequency': 0.002863937803683389, 'num_paper': 62460}, 'cadherin': {'paragraph_frequency': 199.0, 'degree_frequency': 1222.0, 'pagerank_frequency': 0.0002938891804583286, 'num_paper': 4500}, 'c-c motif chemokine 2': {'paragraph_frequency': 880.0, 'degree_frequency': 7966.0, 'pagerank_frequency': 0.0011016817721095445, 'num_paper': 18972}, 'ca3 term type': {'paragraph_frequency': 888.0, 'degree_frequency': 7575.0, 'pagerank_frequency': 0.0009831352831874268, 'num_paper': 15408}, 'callithrix jacchus': {'paragraph_frequency': 250.0, 'degree_frequency': 1119.0, 'pagerank_frequency': 0.0003028940194686954, 'num_paper': 3600}, 'caenorhabditis elegans': {'paragraph_frequency': 434.0, 'degree_frequency': 2450.0, 'pagerank_frequency': 0.0004430455340775234, 'num_paper': 12312}, 'callosal': {'paragraph_frequency': 243.0, 'degree_frequency': 1252.0, 'pagerank_frequency': 0.0002966129695067281, 'num_paper': 3276}, 'callosum': {'paragraph_frequency': 445.0, 'degree_frequency': 2572.0, 'pagerank_frequency': 0.0004708510572544392, 'num_paper': 10836}}\n"
     ]
    }
   ],
   "source": [
    "processor = visualization_app._graph_processor.from_graph_object(\n",
    "        visualization_app._graphs[\"Paragraph-based graph\"][\"object\"])\n",
    "#processor.get_node(\"subcortical\")\n",
    "\n",
    "selected_node = \"subcortical\"\n",
    "weights = {}\n",
    "other_weights = {}\n",
    "types= {}\n",
    "for n in processor.neighbors(selected_node):\n",
    "        other_weights[n] = {}\n",
    "        weights[n] = processor.get_edge(selected_node, n)[\"npmi\"]\n",
    "        _node= processor.get_node(n)\n",
    "        other_weights[n][\"paragraph_frequency\"] = _node[\"paragraph_frequency\"]\n",
    "        other_weights[n][\"degree_frequency\"] = _node[\"degree_frequency\"]\n",
    "        other_weights[n][\"pagerank_frequency\"] = _node[\"pagerank_frequency\"]\n",
    "        other_weights[n][\"num_paper\"] = len(_node[\"paper\"])\n",
    "        types[n] = _node[\"entity_type\"] if \"entity_type\" in _node else None\n",
    "\n",
    "#top_neighbors = top_n(weights, neighborlimit)\n",
    "#print(weights)\n",
    "print(other_weights)\n"
   ]
  },
  {
   "cell_type": "markdown",
   "metadata": {},
   "source": [
    "#### Loading papers' meta-data into the app\n",
    "\n",
    "We now load an additional dataset containing some meta-data on the papers where the entities analyzed in this notebook occur."
   ]
  },
  {
   "cell_type": "code",
   "execution_count": null,
   "metadata": {},
   "outputs": [],
   "source": [
    "paper_medata = download_from_nexus(uri=f\"{nexus_endpoint}/resources/{nexus_bucket}/_/8fc1e60c-1ebe-4173-82c0-9775a4917041\",\n",
    "                         output_path = DATA_PATH, config_file_path=nexus_config_file, nexus_endpoint=nexus_endpoint, nexus_bucket=nexus_bucket)\n",
    "paper_data = pd.read_csv(f\"{DATA_PATH}/{paper_medata.distribution.name}\")\n",
    "paper_data = paper_data.set_index(\"id\")\n",
    "paper_data.head(3)"
   ]
  },
  {
   "cell_type": "markdown",
   "metadata": {},
   "source": [
    "We pass a callback for the lookup of paper meta-data to the visualization app using the `set_list_papers_callback` method."
   ]
  },
  {
   "cell_type": "code",
   "execution_count": null,
   "metadata": {},
   "outputs": [],
   "source": [
    "def list_papers(paper_data, selected_papers, limit=200):\n",
    "    selected_paper_data = paper_data.loc[[int(p) for p in selected_papers]].head(200)\n",
    "    return selected_paper_data.to_dict(\"records\")\n",
    "\n",
    "visualization_app.set_list_papers_callback(lambda x: list_papers(paper_data, x))"
   ]
  },
  {
   "cell_type": "markdown",
   "metadata": {},
   "source": [
    "The ontology linking process described above is noisy, therefore, we would like to keep a possibility of accessing, the raw entities that were linked to particular ontology concepts. For this we define the function `get_aggregated_entities` that retreives such raw entities and we pass it to the visualization app using the `set_aggregated_entities_callback` method."
   ]
  },
  {
   "cell_type": "code",
   "execution_count": null,
   "metadata": {},
   "outputs": [],
   "source": [
    "def top_n(data_dict, n, smallest=False):\n",
    "    \"\"\"Return top `n` keys of the input dictionary by their value.\"\"\"\n",
    "    df = pd.DataFrame(dict(data_dict).items(), columns=[\"id\", \"value\"])\n",
    "    if smallest:\n",
    "        df = df.nsmallest(n, columns=[\"value\"])\n",
    "    else:\n",
    "        df = df.nlargest(n, columns=[\"value\"])\n",
    "    return(list(df[\"id\"]))\n",
    "\n",
    "\n",
    "def get_aggregated_entities(entity, n):\n",
    "    if \"aggregated_entities\" in curated_occurrence_data.columns:\n",
    "        aggregated = curated_occurrence_data.loc[entity][\"aggregated_entities\"]\n",
    "    else:\n",
    "        aggregated = [entity]\n",
    "    if curation_input_table is not None:\n",
    "        df = curation_input_table.set_index(\"entity\")\n",
    "        if entity in curated_occurrence_data.index:\n",
    "            freqs = df.loc[aggregated][\"paper_frequency\"].to_dict()\n",
    "        else:\n",
    "            return {}\n",
    "    else:\n",
    "        df = data.copy()\n",
    "        df[\"entity\"] = data[\"entity\"].apply(lambda x: x.lower())\n",
    "        freqs = df[df[\"entity\"].apply(lambda x: x.lower() in aggregated)].groupby(\"entity\").aggregate(\n",
    "            lambda x: len(x))[\"entity_type\"].to_dict()\n",
    "    if len(freqs) == 0:\n",
    "        return {}\n",
    "    return {e: freqs[e] for e in top_n(freqs, n)}\n",
    "\n",
    "visualization_app.set_aggregated_entities_callback(\n",
    "    lambda x: get_aggregated_entities(x, 10))"
   ]
  },
  {
   "cell_type": "markdown",
   "metadata": {},
   "source": [
    "Finally, we create a dictionary `definitions` that will serve the visualization app as the lookup table for accessing the definitions of different ontology concepts."
   ]
  },
  {
   "cell_type": "code",
   "execution_count": null,
   "metadata": {},
   "outputs": [],
   "source": [
    "definitions = ontology_linking[[\"concept\", \"definition\"]].groupby(\n",
    "    \"concept\").aggregate(lambda x: list(x)[0]).to_dict()[\"definition\"]\n",
    "visualization_app.set_entity_definitons(definitions)"
   ]
  },
  {
   "cell_type": "markdown",
   "metadata": {},
   "source": [
    "#### Launching the visualization app"
   ]
  },
  {
   "cell_type": "markdown",
   "metadata": {},
   "source": [
    "As before, the interactive graph visualization app can be launched in two modes: inline and external. Here we recommend the external mode for better user experience."
   ]
  },
  {
   "cell_type": "code",
   "execution_count": null,
   "metadata": {},
   "outputs": [],
   "source": [
    "visualization_app.run(port=8081, mode=\"external\")"
   ]
  },
  {
   "cell_type": "code",
   "execution_count": null,
   "metadata": {},
   "outputs": [],
   "source": []
  }
 ],
 "metadata": {
  "kernelspec": {
   "display_name": "Python 3.7.10 ('bluegraph')",
   "language": "python",
   "name": "python3"
  },
  "language_info": {
   "codemirror_mode": {
    "name": "ipython",
    "version": 3
   },
   "file_extension": ".py",
   "mimetype": "text/x-python",
   "name": "python",
   "nbconvert_exporter": "python",
   "pygments_lexer": "ipython3",
   "version": "3.7.10"
  },
  "vscode": {
   "interpreter": {
    "hash": "7509723a669f2da7b65acb7b57c7c1a011cf46f2939d01c04322e3f558bd33d9"
   }
  }
 },
 "nbformat": 4,
 "nbformat_minor": 4
}
